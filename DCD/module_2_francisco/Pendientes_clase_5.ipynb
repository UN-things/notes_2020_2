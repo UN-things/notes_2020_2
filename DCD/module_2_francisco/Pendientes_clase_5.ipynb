{
  "nbformat": 4,
  "nbformat_minor": 0,
  "metadata": {
    "colab": {
      "name": "Pendientes_clase_5.ipynb",
      "provenance": [],
      "include_colab_link": true
    },
    "kernelspec": {
      "name": "python3",
      "display_name": "Python 3"
    }
  },
  "cells": [
    {
      "cell_type": "markdown",
      "metadata": {
        "id": "view-in-github",
        "colab_type": "text"
      },
      "source": [
        "<a href=\"https://colab.research.google.com/github/gtzambranop/UN_2020_2/blob/DCD/DCD/module_2_francisco/Pendientes_clase_5.ipynb\" target=\"_parent\"><img src=\"https://colab.research.google.com/assets/colab-badge.svg\" alt=\"Open In Colab\"/></a>"
      ]
    },
    {
      "cell_type": "code",
      "metadata": {
        "id": "fQ1P5tB2DahG"
      },
      "source": [
        "import pandas as pd\n",
        "import numpy as np"
      ],
      "execution_count": null,
      "outputs": []
    },
    {
      "cell_type": "markdown",
      "metadata": {
        "id": "HJOm-k1zEsFA"
      },
      "source": [
        "# Redondear todos los elementos de un DataFrame"
      ]
    },
    {
      "cell_type": "code",
      "metadata": {
        "id": "7Se-KQ1TDh8B",
        "outputId": "95270a27-5d92-4b6d-8315-30353e102cd1",
        "colab": {
          "base_uri": "https://localhost:8080/",
          "height": 204
        }
      },
      "source": [
        "matrix = np.arange(15) / 40\n",
        "matrix = matrix.reshape(5,3) \n",
        "df = pd.DataFrame(matrix, columns=['A', 'B', 'C'])\n",
        "df"
      ],
      "execution_count": null,
      "outputs": [
        {
          "output_type": "execute_result",
          "data": {
            "text/html": [
              "<div>\n",
              "<style scoped>\n",
              "    .dataframe tbody tr th:only-of-type {\n",
              "        vertical-align: middle;\n",
              "    }\n",
              "\n",
              "    .dataframe tbody tr th {\n",
              "        vertical-align: top;\n",
              "    }\n",
              "\n",
              "    .dataframe thead th {\n",
              "        text-align: right;\n",
              "    }\n",
              "</style>\n",
              "<table border=\"1\" class=\"dataframe\">\n",
              "  <thead>\n",
              "    <tr style=\"text-align: right;\">\n",
              "      <th></th>\n",
              "      <th>A</th>\n",
              "      <th>B</th>\n",
              "      <th>C</th>\n",
              "    </tr>\n",
              "  </thead>\n",
              "  <tbody>\n",
              "    <tr>\n",
              "      <th>0</th>\n",
              "      <td>0.000</td>\n",
              "      <td>0.025</td>\n",
              "      <td>0.050</td>\n",
              "    </tr>\n",
              "    <tr>\n",
              "      <th>1</th>\n",
              "      <td>0.075</td>\n",
              "      <td>0.100</td>\n",
              "      <td>0.125</td>\n",
              "    </tr>\n",
              "    <tr>\n",
              "      <th>2</th>\n",
              "      <td>0.150</td>\n",
              "      <td>0.175</td>\n",
              "      <td>0.200</td>\n",
              "    </tr>\n",
              "    <tr>\n",
              "      <th>3</th>\n",
              "      <td>0.225</td>\n",
              "      <td>0.250</td>\n",
              "      <td>0.275</td>\n",
              "    </tr>\n",
              "    <tr>\n",
              "      <th>4</th>\n",
              "      <td>0.300</td>\n",
              "      <td>0.325</td>\n",
              "      <td>0.350</td>\n",
              "    </tr>\n",
              "  </tbody>\n",
              "</table>\n",
              "</div>"
            ],
            "text/plain": [
              "       A      B      C\n",
              "0  0.000  0.025  0.050\n",
              "1  0.075  0.100  0.125\n",
              "2  0.150  0.175  0.200\n",
              "3  0.225  0.250  0.275\n",
              "4  0.300  0.325  0.350"
            ]
          },
          "metadata": {
            "tags": []
          },
          "execution_count": 3
        }
      ]
    },
    {
      "cell_type": "code",
      "metadata": {
        "id": "rhCb6UTADzu6",
        "outputId": "a3ef8706-8dce-446d-84af-c99e74079a33",
        "colab": {
          "base_uri": "https://localhost:8080/",
          "height": 204
        }
      },
      "source": [
        "df.round(2)"
      ],
      "execution_count": null,
      "outputs": [
        {
          "output_type": "execute_result",
          "data": {
            "text/html": [
              "<div>\n",
              "<style scoped>\n",
              "    .dataframe tbody tr th:only-of-type {\n",
              "        vertical-align: middle;\n",
              "    }\n",
              "\n",
              "    .dataframe tbody tr th {\n",
              "        vertical-align: top;\n",
              "    }\n",
              "\n",
              "    .dataframe thead th {\n",
              "        text-align: right;\n",
              "    }\n",
              "</style>\n",
              "<table border=\"1\" class=\"dataframe\">\n",
              "  <thead>\n",
              "    <tr style=\"text-align: right;\">\n",
              "      <th></th>\n",
              "      <th>A</th>\n",
              "      <th>B</th>\n",
              "      <th>C</th>\n",
              "    </tr>\n",
              "  </thead>\n",
              "  <tbody>\n",
              "    <tr>\n",
              "      <th>0</th>\n",
              "      <td>0.00</td>\n",
              "      <td>0.02</td>\n",
              "      <td>0.05</td>\n",
              "    </tr>\n",
              "    <tr>\n",
              "      <th>1</th>\n",
              "      <td>0.08</td>\n",
              "      <td>0.10</td>\n",
              "      <td>0.12</td>\n",
              "    </tr>\n",
              "    <tr>\n",
              "      <th>2</th>\n",
              "      <td>0.15</td>\n",
              "      <td>0.18</td>\n",
              "      <td>0.20</td>\n",
              "    </tr>\n",
              "    <tr>\n",
              "      <th>3</th>\n",
              "      <td>0.22</td>\n",
              "      <td>0.25</td>\n",
              "      <td>0.28</td>\n",
              "    </tr>\n",
              "    <tr>\n",
              "      <th>4</th>\n",
              "      <td>0.30</td>\n",
              "      <td>0.32</td>\n",
              "      <td>0.35</td>\n",
              "    </tr>\n",
              "  </tbody>\n",
              "</table>\n",
              "</div>"
            ],
            "text/plain": [
              "      A     B     C\n",
              "0  0.00  0.02  0.05\n",
              "1  0.08  0.10  0.12\n",
              "2  0.15  0.18  0.20\n",
              "3  0.22  0.25  0.28\n",
              "4  0.30  0.32  0.35"
            ]
          },
          "metadata": {
            "tags": []
          },
          "execution_count": 5
        }
      ]
    },
    {
      "cell_type": "code",
      "metadata": {
        "id": "lHDgTENwETxu",
        "outputId": "8aebafb9-7217-4889-a48b-65a0750292c5",
        "colab": {
          "base_uri": "https://localhost:8080/",
          "height": 377
        }
      },
      "source": [
        "! wget https://www.dropbox.com/s/kc98g3pjcp8trba/MCU2.csv"
      ],
      "execution_count": null,
      "outputs": [
        {
          "output_type": "stream",
          "text": [
            "--2020-09-24 23:22:14--  https://www.dropbox.com/s/kc98g3pjcp8trba/MCU2.csv\n",
            "Resolving www.dropbox.com (www.dropbox.com)... 162.125.82.1, 2620:100:6032:1::a27d:5201\n",
            "Connecting to www.dropbox.com (www.dropbox.com)|162.125.82.1|:443... connected.\n",
            "HTTP request sent, awaiting response... 301 Moved Permanently\n",
            "Location: /s/raw/kc98g3pjcp8trba/MCU2.csv [following]\n",
            "--2020-09-24 23:22:14--  https://www.dropbox.com/s/raw/kc98g3pjcp8trba/MCU2.csv\n",
            "Reusing existing connection to www.dropbox.com:443.\n",
            "HTTP request sent, awaiting response... 302 Found\n",
            "Location: https://uc5866369dd349d374ad984b4f1f.dl.dropboxusercontent.com/cd/0/inline/BABHfI6KluhsfarjRc4IrRyzVwgvNfIxGRs1qFPAoYzN75XDb0M9JFEKdI14WsuL3-_m_JdKBnZckOXpi6QtzR4M_wCSDVPG77lu53gjG1drG9utFNcUk4JJQxuRRUTP2XQ/file# [following]\n",
            "--2020-09-24 23:22:15--  https://uc5866369dd349d374ad984b4f1f.dl.dropboxusercontent.com/cd/0/inline/BABHfI6KluhsfarjRc4IrRyzVwgvNfIxGRs1qFPAoYzN75XDb0M9JFEKdI14WsuL3-_m_JdKBnZckOXpi6QtzR4M_wCSDVPG77lu53gjG1drG9utFNcUk4JJQxuRRUTP2XQ/file\n",
            "Resolving uc5866369dd349d374ad984b4f1f.dl.dropboxusercontent.com (uc5866369dd349d374ad984b4f1f.dl.dropboxusercontent.com)... 162.125.82.15, 2620:100:6032:15::a27d:520f\n",
            "Connecting to uc5866369dd349d374ad984b4f1f.dl.dropboxusercontent.com (uc5866369dd349d374ad984b4f1f.dl.dropboxusercontent.com)|162.125.82.15|:443... connected.\n",
            "HTTP request sent, awaiting response... 200 OK\n",
            "Length: 1890 (1.8K) [text/plain]\n",
            "Saving to: ‘MCU2.csv’\n",
            "\n",
            "MCU2.csv            100%[===================>]   1.85K  --.-KB/s    in 0s      \n",
            "\n",
            "2020-09-24 23:22:15 (219 MB/s) - ‘MCU2.csv’ saved [1890/1890]\n",
            "\n"
          ],
          "name": "stdout"
        }
      ]
    },
    {
      "cell_type": "code",
      "metadata": {
        "id": "bK3VvGgCFFr8"
      },
      "source": [
        "import pandas as pd\n",
        "df_mcu = pd.read_csv('MCU2.csv')"
      ],
      "execution_count": null,
      "outputs": []
    },
    {
      "cell_type": "code",
      "metadata": {
        "id": "kLCcy0ojFbaK",
        "outputId": "46e9ae41-fdbe-4d60-eb97-496430304b8c",
        "colab": {
          "base_uri": "https://localhost:8080/",
          "height": 173
        }
      },
      "source": [
        "! pip install impyute"
      ],
      "execution_count": null,
      "outputs": [
        {
          "output_type": "stream",
          "text": [
            "Collecting impyute\n",
            "  Downloading https://files.pythonhosted.org/packages/37/28/86829f67c9affb847facaab94687761d3555539ec675f7577778c5b2680a/impyute-0.0.8-py2.py3-none-any.whl\n",
            "Requirement already satisfied: scikit-learn in /usr/local/lib/python3.6/dist-packages (from impyute) (0.22.2.post1)\n",
            "Requirement already satisfied: scipy in /usr/local/lib/python3.6/dist-packages (from impyute) (1.4.1)\n",
            "Requirement already satisfied: numpy in /usr/local/lib/python3.6/dist-packages (from impyute) (1.18.5)\n",
            "Requirement already satisfied: joblib>=0.11 in /usr/local/lib/python3.6/dist-packages (from scikit-learn->impyute) (0.16.0)\n",
            "Installing collected packages: impyute\n",
            "Successfully installed impyute-0.0.8\n"
          ],
          "name": "stdout"
        }
      ]
    },
    {
      "cell_type": "code",
      "metadata": {
        "id": "f78Vi9qPFJ5S",
        "outputId": "ff19a405-f8e4-42b6-f2f9-4b8e5520e782",
        "colab": {
          "base_uri": "https://localhost:8080/",
          "height": 292
        }
      },
      "source": [
        "from impyute.imputation.cs import fast_knn\n",
        "#sys.setrecursionlimit(100000) \n",
        "\n",
        "df_mcu2 = fast_knn(df_mcu.values, k=10) #Recibe y retorna como parámetro un array de numpy\n",
        "df_mcu2 = pd.DataFrame(df_mcu2, columns=df_mcu.columns)\n",
        "df_mcu2.head()"
      ],
      "execution_count": null,
      "outputs": [
        {
          "output_type": "execute_result",
          "data": {
            "text/html": [
              "<div>\n",
              "<style scoped>\n",
              "    .dataframe tbody tr th:only-of-type {\n",
              "        vertical-align: middle;\n",
              "    }\n",
              "\n",
              "    .dataframe tbody tr th {\n",
              "        vertical-align: top;\n",
              "    }\n",
              "\n",
              "    .dataframe thead th {\n",
              "        text-align: right;\n",
              "    }\n",
              "</style>\n",
              "<table border=\"1\" class=\"dataframe\">\n",
              "  <thead>\n",
              "    <tr style=\"text-align: right;\">\n",
              "      <th></th>\n",
              "      <th>Iron Man</th>\n",
              "      <th>The Incredible Hulk</th>\n",
              "      <th>Iron Man 2</th>\n",
              "      <th>Thor</th>\n",
              "      <th>Capitán América: el primer vengador</th>\n",
              "      <th>The Avengers</th>\n",
              "      <th>Iron Man 3</th>\n",
              "      <th>Thor: The Dark World</th>\n",
              "      <th>Captain America: The Winter Soldier</th>\n",
              "      <th>Guardianes de la Galaxia</th>\n",
              "      <th>Avengers: Age of Ultron</th>\n",
              "      <th>Ant-Man</th>\n",
              "      <th>Captain America: Civil War</th>\n",
              "      <th>Doctor Strange</th>\n",
              "      <th>Guardianes de la Galaxia Vol. 2</th>\n",
              "      <th>Spider-Man: Homecoming</th>\n",
              "      <th>Thor: Ragnarok</th>\n",
              "      <th>Black Panther</th>\n",
              "      <th>Avengers: Infinity War</th>\n",
              "      <th>Ant-Man and The Wasp</th>\n",
              "    </tr>\n",
              "  </thead>\n",
              "  <tbody>\n",
              "    <tr>\n",
              "      <th>0</th>\n",
              "      <td>17.000000</td>\n",
              "      <td>12.0</td>\n",
              "      <td>14.0</td>\n",
              "      <td>13.0</td>\n",
              "      <td>11.0</td>\n",
              "      <td>18.0</td>\n",
              "      <td>4.0</td>\n",
              "      <td>5.0</td>\n",
              "      <td>6.0</td>\n",
              "      <td>16.0</td>\n",
              "      <td>17.000000</td>\n",
              "      <td>10.000000</td>\n",
              "      <td>19.0</td>\n",
              "      <td>17.000000</td>\n",
              "      <td>7.0</td>\n",
              "      <td>6.0</td>\n",
              "      <td>10.000000</td>\n",
              "      <td>8.000000</td>\n",
              "      <td>20.0</td>\n",
              "      <td>9.000000</td>\n",
              "    </tr>\n",
              "    <tr>\n",
              "      <th>1</th>\n",
              "      <td>8.000000</td>\n",
              "      <td>1.0</td>\n",
              "      <td>7.0</td>\n",
              "      <td>1.0</td>\n",
              "      <td>7.0</td>\n",
              "      <td>8.0</td>\n",
              "      <td>7.0</td>\n",
              "      <td>3.0</td>\n",
              "      <td>8.0</td>\n",
              "      <td>9.0</td>\n",
              "      <td>7.000000</td>\n",
              "      <td>9.000000</td>\n",
              "      <td>8.0</td>\n",
              "      <td>9.000000</td>\n",
              "      <td>9.0</td>\n",
              "      <td>9.0</td>\n",
              "      <td>9.000000</td>\n",
              "      <td>8.000000</td>\n",
              "      <td>9.0</td>\n",
              "      <td>9.000000</td>\n",
              "    </tr>\n",
              "    <tr>\n",
              "      <th>2</th>\n",
              "      <td>20.000000</td>\n",
              "      <td>13.0</td>\n",
              "      <td>6.0</td>\n",
              "      <td>7.0</td>\n",
              "      <td>11.0</td>\n",
              "      <td>19.0</td>\n",
              "      <td>9.0</td>\n",
              "      <td>5.0</td>\n",
              "      <td>17.0</td>\n",
              "      <td>20.0</td>\n",
              "      <td>20.000000</td>\n",
              "      <td>17.000000</td>\n",
              "      <td>20.0</td>\n",
              "      <td>10.000000</td>\n",
              "      <td>6.0</td>\n",
              "      <td>6.0</td>\n",
              "      <td>4.000000</td>\n",
              "      <td>17.000000</td>\n",
              "      <td>18.0</td>\n",
              "      <td>8.000000</td>\n",
              "    </tr>\n",
              "    <tr>\n",
              "      <th>3</th>\n",
              "      <td>18.000000</td>\n",
              "      <td>10.0</td>\n",
              "      <td>19.0</td>\n",
              "      <td>15.0</td>\n",
              "      <td>5.0</td>\n",
              "      <td>16.0</td>\n",
              "      <td>18.0</td>\n",
              "      <td>16.0</td>\n",
              "      <td>8.0</td>\n",
              "      <td>18.0</td>\n",
              "      <td>14.454512</td>\n",
              "      <td>12.869104</td>\n",
              "      <td>18.0</td>\n",
              "      <td>16.105745</td>\n",
              "      <td>16.0</td>\n",
              "      <td>10.0</td>\n",
              "      <td>11.919205</td>\n",
              "      <td>12.599674</td>\n",
              "      <td>17.0</td>\n",
              "      <td>13.518933</td>\n",
              "    </tr>\n",
              "    <tr>\n",
              "      <th>4</th>\n",
              "      <td>12.858728</td>\n",
              "      <td>3.0</td>\n",
              "      <td>2.0</td>\n",
              "      <td>4.0</td>\n",
              "      <td>5.0</td>\n",
              "      <td>10.0</td>\n",
              "      <td>1.0</td>\n",
              "      <td>6.0</td>\n",
              "      <td>20.0</td>\n",
              "      <td>14.0</td>\n",
              "      <td>7.000000</td>\n",
              "      <td>15.000000</td>\n",
              "      <td>8.0</td>\n",
              "      <td>19.000000</td>\n",
              "      <td>9.0</td>\n",
              "      <td>11.0</td>\n",
              "      <td>10.000000</td>\n",
              "      <td>17.000000</td>\n",
              "      <td>16.0</td>\n",
              "      <td>11.475344</td>\n",
              "    </tr>\n",
              "  </tbody>\n",
              "</table>\n",
              "</div>"
            ],
            "text/plain": [
              "    Iron Man  The Incredible Hulk  ...  Avengers: Infinity War  Ant-Man and The Wasp\n",
              "0  17.000000                 12.0  ...                    20.0              9.000000\n",
              "1   8.000000                  1.0  ...                     9.0              9.000000\n",
              "2  20.000000                 13.0  ...                    18.0              8.000000\n",
              "3  18.000000                 10.0  ...                    17.0             13.518933\n",
              "4  12.858728                  3.0  ...                    16.0             11.475344\n",
              "\n",
              "[5 rows x 20 columns]"
            ]
          },
          "metadata": {
            "tags": []
          },
          "execution_count": 9
        }
      ]
    },
    {
      "cell_type": "code",
      "metadata": {
        "id": "4yDbC5lTFY_M",
        "outputId": "5be6ef89-c47d-454b-f495-d4752b7b319c",
        "colab": {
          "base_uri": "https://localhost:8080/",
          "height": 542
        }
      },
      "source": [
        "import plotly.graph_objects as go\n",
        "import numpy as np\n",
        "\n",
        "fig = go.Figure()\n",
        "for index, column in df_mcu2.iteritems():\n",
        "    fig.add_trace(go.Box(y=column, name=index))\n",
        "\n",
        "fig.show()"
      ],
      "execution_count": null,
      "outputs": [
        {
          "output_type": "display_data",
          "data": {
            "text/html": [
              "<html>\n",
              "<head><meta charset=\"utf-8\" /></head>\n",
              "<body>\n",
              "    <div>\n",
              "            <script src=\"https://cdnjs.cloudflare.com/ajax/libs/mathjax/2.7.5/MathJax.js?config=TeX-AMS-MML_SVG\"></script><script type=\"text/javascript\">if (window.MathJax) {MathJax.Hub.Config({SVG: {font: \"STIX-Web\"}});}</script>\n",
              "                <script type=\"text/javascript\">window.PlotlyConfig = {MathJaxConfig: 'local'};</script>\n",
              "        <script src=\"https://cdn.plot.ly/plotly-latest.min.js\"></script>    \n",
              "            <div id=\"a3b24193-6509-4a2d-bd9f-80948442d858\" class=\"plotly-graph-div\" style=\"height:525px; width:100%;\"></div>\n",
              "            <script type=\"text/javascript\">\n",
              "                \n",
              "                    window.PLOTLYENV=window.PLOTLYENV || {};\n",
              "                    \n",
              "                if (document.getElementById(\"a3b24193-6509-4a2d-bd9f-80948442d858\")) {\n",
              "                    Plotly.newPlot(\n",
              "                        'a3b24193-6509-4a2d-bd9f-80948442d858',\n",
              "                        [{\"name\": \"Iron Man\", \"type\": \"box\", \"y\": [17.0, 8.0, 20.0, 18.0, 12.85872757422156, 13.0, 17.0, 10.0, 14.0, 16.0, 15.0, 1.0, 11.0, 15.0, 16.0, 15.0, 3.0, 11.776407405812986, 9.0, 18.0, 15.0, 18.0, 13.0, 18.0, 15.0, 17.0, 17.0, 13.968871994921596, 7.0, 10.0]}, {\"name\": \"The Incredible Hulk\", \"type\": \"box\", \"y\": [12.0, 1.0, 13.0, 10.0, 3.0, 9.692448298071637, 13.0, 11.0, 8.0, 13.0, 1.0, 1.0, 2.0, 12.0, 5.0, 10.0, 5.0, 2.0, 1.0, 10.0, 10.0, 10.0, 2.0, 1.0, 1.0, 9.4643069129537, 8.236819172447907, 7.844137400993811, 2.0, 8.0]}, {\"name\": \"Iron Man 2\", \"type\": \"box\", \"y\": [14.0, 7.0, 6.0, 19.0, 2.0, 8.0, 14.0, 12.0, 9.0, 10.0, 3.0, 1.0, 5.0, 5.0, 6.0, 12.0, 8.0, 8.558935630344905, 6.0, 18.0, 15.0, 14.0, 10.0, 12.0, 14.0, 16.0, 15.0, 6.0, 4.0, 10.0]}, {\"name\": \"Thor\", \"type\": \"box\", \"y\": [13.0, 1.0, 7.0, 15.0, 4.0, 10.0, 19.0, 9.0, 10.0, 14.0, 5.0, 1.0, 3.0, 13.0, 2.0, 6.0, 11.0, 6.077209878944008, 6.1811854595235705, 10.0, 13.0, 9.0, 6.0, 2.0, 5.0, 14.0, 3.0, 6.0, 3.0, 8.0]}, {\"name\": \"Capit\\u00e1n Am\\u00e9rica: el primer vengador\", \"type\": \"box\", \"y\": [11.0, 7.0, 11.0, 5.0, 5.0, 9.0, 20.0, 8.0, 11.0, 15.0, 9.0, 1.0, 17.0, 15.0, 10.0, 5.0, 9.0, 10.809230004991567, 11.0, 8.0, 13.0, 12.0, 5.0, 13.0, 16.0, 11.115693811587953, 12.0, 15.0, 8.0, 18.0]}, {\"name\": \"The Avengers\", \"type\": \"box\", \"y\": [18.0, 8.0, 19.0, 16.0, 10.0, 17.0, 20.0, 19.0, 15.0, 20.0, 11.0, 1.0, 15.0, 17.0, 19.0, 16.0, 12.0, 3.0, 14.0, 14.0, 16.0, 14.0, 8.0, 17.0, 9.0, 18.0, 17.0, 17.0, 13.0, 14.0]}, {\"name\": \"Iron Man 3\", \"type\": \"box\", \"y\": [4.0, 7.0, 9.0, 18.0, 1.0, 14.0, 10.0, 7.0, 6.0, 7.0, 5.0, 1.0, 14.0, 12.0, 4.0, 3.0, 1.0, 8.598762922031879, 3.0, 15.0, 10.782684069033438, 16.0, 9.0, 11.0, 10.0, 10.554707504478985, 14.0, 7.964455078379343, 1.0, 12.0]}, {\"name\": \"Thor: The Dark World\", \"type\": \"box\", \"y\": [5.0, 3.0, 5.0, 16.0, 6.0, 12.0, 19.0, 16.0, 7.0, 7.0, 10.0, 1.0, 1.0, 3.0, 1.0, 2.0, 13.0, 4.947412598730409, 1.0, 12.0, 9.736131099247814, 16.0, 3.0, 9.0, 4.0, 12.0, 6.0, 12.0, 5.0, 9.0]}, {\"name\": \"Captain America: The Winter Soldier\", \"type\": \"box\", \"y\": [6.0, 8.0, 17.0, 8.0, 20.0, 14.0, 20.0, 6.0, 16.0, 18.0, 18.0, 1.0, 16.0, 18.0, 13.0, 9.0, 7.0, 12.903263634771807, 18.0, 8.0, 12.829549373328051, 18.0, 15.0, 3.0, 17.0, 11.0, 18.0, 12.0, 18.0, 14.0]}, {\"name\": \"Guardianes de la Galaxia\", \"type\": \"box\", \"y\": [16.0, 9.0, 20.0, 18.0, 14.0, 16.0, 20.0, 15.0, 17.0, 15.0, 14.0, 2.0, 10.0, 17.0, 15.0, 19.0, 19.0, 4.0, 12.0, 15.0, 15.262041651172629, 16.0, 16.0, 10.0, 18.0, 18.0, 11.0, 15.0, 6.0, 8.0]}, {\"name\": \"Avengers: Age of Ultron\", \"type\": \"box\", \"y\": [17.0, 7.0, 20.0, 14.454511958797271, 7.0, 14.0, 17.0, 18.0, 12.0, 13.0, 12.0, 1.0, 9.0, 10.0, 7.0, 11.0, 10.0, 2.0, 15.0, 16.0, 16.0, 13.0, 4.0, 4.0, 7.0, 14.40079957693289, 16.0, 17.0, 14.0, 15.0]}, {\"name\": \"Ant-Man\", \"type\": \"box\", \"y\": [10.0, 9.0, 17.0, 12.869104238397897, 15.0, 10.0, 19.0, 13.0, 4.0, 13.0, 8.0, 1.0, 19.0, 14.0, 14.0, 17.0, 6.0, 1.0, 13.0, 17.0, 11.727295524679091, 12.0, 14.0, 8.0, 2.0, 12.912484829418739, 7.0, 18.0, 12.0, 8.0]}, {\"name\": \"Captain America: Civil War\", \"type\": \"box\", \"y\": [19.0, 8.0, 20.0, 18.0, 8.0, 19.0, 20.0, 5.0, 13.0, 20.0, 18.0, 1.0, 20.0, 16.0, 18.0, 18.0, 16.68246829674239, 13.350996786757126, 19.0, 16.0, 14.0, 11.0, 12.0, 5.0, 8.0, 17.0, 19.0, 17.2071386138106, 16.0, 18.0]}, {\"name\": \"Doctor Strange\", \"type\": \"box\", \"y\": [17.0, 9.0, 10.0, 16.1057449294509, 19.0, 17.0, 20.0, 4.0, 3.0, 15.0, 16.0, 1.0, 4.0, 14.0, 17.0, 17.0, 18.0, 6.0, 16.0, 17.0, 15.827420503529174, 19.0, 11.0, 19.0, 13.0, 14.0, 14.0, 16.0, 20.0, 15.0]}, {\"name\": \"Guardianes de la Galaxia Vol. 2\", \"type\": \"box\", \"y\": [7.0, 9.0, 6.0, 16.0, 9.0, 8.0, 20.0, 3.0, 2.0, 15.0, 19.0, 1.0, 6.0, 20.0, 3.0, 10.998388073062632, 15.0, 3.0, 2.0, 13.0, 11.646328511203535, 17.0, 18.0, 7.0, 6.0, 14.0, 9.0, 10.180100559161236, 10.0, 11.0]}, {\"name\": \"Spider-Man: Homecoming\", \"type\": \"box\", \"y\": [6.0, 9.0, 6.0, 10.0, 11.0, 5.0, 20.0, 14.0, 1.0, 16.0, 20.0, 1.0, 12.0, 18.0, 12.0, 14.0, 14.0, 1.0, 12.499009940130808, 17.0, 10.502907639081288, 9.0, 7.0, 16.0, 19.0, 11.498077123112305, 10.0, 11.290969923974277, 15.0, 14.0]}, {\"name\": \"Thor: Ragnarok\", \"type\": \"box\", \"y\": [10.0, 9.0, 4.0, 11.919204640349507, 10.0, 3.0, 17.0, 2.0, 18.0, 13.0, 14.0, 1.0, 7.0, 18.0, 11.0, 14.0, 20.0, 10.45385326328461, 14.0, 16.0, 12.0, 17.0, 19.0, 14.0, 11.0, 12.0, 1.0, 10.0, 9.0, 13.0]}, {\"name\": \"Black Panther\", \"type\": \"box\", \"y\": [8.0, 8.0, 17.0, 12.599673750886332, 17.0, 12.0, 20.0, 1.0, 19.0, 15.0, 17.0, 1.0, 8.0, 18.0, 8.0, 17.0, 17.0, 3.0, 17.0, 1.0, 13.0, 15.0, 20.0, 20.0, 12.0, 12.229754796072237, 11.0, 15.0, 17.0, 15.0]}, {\"name\": \"Avengers: Infinity War\", \"type\": \"box\", \"y\": [20.0, 9.0, 18.0, 17.0, 16.0, 20.0, 20.0, 20.0, 20.0, 20.0, 16.0, 1.0, 18.0, 20.0, 20.0, 20.0, 16.0, 4.0, 20.0, 18.0, 16.0, 20.0, 17.0, 15.0, 20.0, 20.0, 20.0, 17.0, 19.0, 17.0]}, {\"name\": \"Ant-Man and The Wasp\", \"type\": \"box\", \"y\": [9.0, 9.0, 8.0, 13.518933336966834, 11.475343898638563, 12.388588196011721, 19.0, 17.0, 5.0, 14.0, 7.0, 1.0, 13.0, 16.0, 9.0, 13.0, 12.30153593183894, 10.013613979245871, 9.0, 18.0, 14.0, 14.089356226078202, 11.511079162609839, 12.312517382237747, 10.874276858650527, 13.566863190637077, 13.0, 18.0, 11.0, 13.0]}],\n",
              "                        {\"template\": {\"data\": {\"bar\": [{\"error_x\": {\"color\": \"#2a3f5f\"}, \"error_y\": {\"color\": \"#2a3f5f\"}, \"marker\": {\"line\": {\"color\": \"#E5ECF6\", \"width\": 0.5}}, \"type\": \"bar\"}], \"barpolar\": [{\"marker\": {\"line\": {\"color\": \"#E5ECF6\", \"width\": 0.5}}, \"type\": \"barpolar\"}], \"carpet\": [{\"aaxis\": {\"endlinecolor\": \"#2a3f5f\", \"gridcolor\": \"white\", \"linecolor\": \"white\", \"minorgridcolor\": \"white\", \"startlinecolor\": \"#2a3f5f\"}, \"baxis\": {\"endlinecolor\": \"#2a3f5f\", \"gridcolor\": \"white\", \"linecolor\": \"white\", \"minorgridcolor\": \"white\", \"startlinecolor\": \"#2a3f5f\"}, \"type\": \"carpet\"}], \"choropleth\": [{\"colorbar\": {\"outlinewidth\": 0, \"ticks\": \"\"}, \"type\": \"choropleth\"}], \"contour\": [{\"colorbar\": {\"outlinewidth\": 0, \"ticks\": \"\"}, \"colorscale\": [[0.0, \"#0d0887\"], [0.1111111111111111, \"#46039f\"], [0.2222222222222222, \"#7201a8\"], [0.3333333333333333, \"#9c179e\"], [0.4444444444444444, \"#bd3786\"], [0.5555555555555556, \"#d8576b\"], [0.6666666666666666, \"#ed7953\"], [0.7777777777777778, \"#fb9f3a\"], [0.8888888888888888, \"#fdca26\"], [1.0, \"#f0f921\"]], \"type\": \"contour\"}], \"contourcarpet\": [{\"colorbar\": {\"outlinewidth\": 0, \"ticks\": \"\"}, \"type\": \"contourcarpet\"}], \"heatmap\": [{\"colorbar\": {\"outlinewidth\": 0, \"ticks\": \"\"}, \"colorscale\": [[0.0, \"#0d0887\"], [0.1111111111111111, \"#46039f\"], [0.2222222222222222, \"#7201a8\"], [0.3333333333333333, \"#9c179e\"], [0.4444444444444444, \"#bd3786\"], [0.5555555555555556, \"#d8576b\"], [0.6666666666666666, \"#ed7953\"], [0.7777777777777778, \"#fb9f3a\"], [0.8888888888888888, \"#fdca26\"], [1.0, \"#f0f921\"]], \"type\": \"heatmap\"}], \"heatmapgl\": [{\"colorbar\": {\"outlinewidth\": 0, \"ticks\": \"\"}, \"colorscale\": [[0.0, \"#0d0887\"], [0.1111111111111111, \"#46039f\"], [0.2222222222222222, \"#7201a8\"], [0.3333333333333333, \"#9c179e\"], [0.4444444444444444, \"#bd3786\"], [0.5555555555555556, \"#d8576b\"], [0.6666666666666666, \"#ed7953\"], [0.7777777777777778, \"#fb9f3a\"], [0.8888888888888888, \"#fdca26\"], [1.0, \"#f0f921\"]], \"type\": \"heatmapgl\"}], \"histogram\": [{\"marker\": {\"colorbar\": {\"outlinewidth\": 0, \"ticks\": \"\"}}, \"type\": \"histogram\"}], \"histogram2d\": [{\"colorbar\": {\"outlinewidth\": 0, \"ticks\": \"\"}, \"colorscale\": [[0.0, \"#0d0887\"], [0.1111111111111111, \"#46039f\"], [0.2222222222222222, \"#7201a8\"], [0.3333333333333333, \"#9c179e\"], [0.4444444444444444, \"#bd3786\"], [0.5555555555555556, \"#d8576b\"], [0.6666666666666666, \"#ed7953\"], [0.7777777777777778, \"#fb9f3a\"], [0.8888888888888888, \"#fdca26\"], [1.0, \"#f0f921\"]], \"type\": \"histogram2d\"}], \"histogram2dcontour\": [{\"colorbar\": {\"outlinewidth\": 0, \"ticks\": \"\"}, \"colorscale\": [[0.0, \"#0d0887\"], [0.1111111111111111, \"#46039f\"], [0.2222222222222222, \"#7201a8\"], [0.3333333333333333, \"#9c179e\"], [0.4444444444444444, \"#bd3786\"], [0.5555555555555556, \"#d8576b\"], [0.6666666666666666, \"#ed7953\"], [0.7777777777777778, \"#fb9f3a\"], [0.8888888888888888, \"#fdca26\"], [1.0, \"#f0f921\"]], \"type\": \"histogram2dcontour\"}], \"mesh3d\": [{\"colorbar\": {\"outlinewidth\": 0, \"ticks\": \"\"}, \"type\": \"mesh3d\"}], \"parcoords\": [{\"line\": {\"colorbar\": {\"outlinewidth\": 0, \"ticks\": \"\"}}, \"type\": \"parcoords\"}], \"pie\": [{\"automargin\": true, \"type\": \"pie\"}], \"scatter\": [{\"marker\": {\"colorbar\": {\"outlinewidth\": 0, \"ticks\": \"\"}}, \"type\": \"scatter\"}], \"scatter3d\": [{\"line\": {\"colorbar\": {\"outlinewidth\": 0, \"ticks\": \"\"}}, \"marker\": {\"colorbar\": {\"outlinewidth\": 0, \"ticks\": \"\"}}, \"type\": \"scatter3d\"}], \"scattercarpet\": [{\"marker\": {\"colorbar\": {\"outlinewidth\": 0, \"ticks\": \"\"}}, \"type\": \"scattercarpet\"}], \"scattergeo\": [{\"marker\": {\"colorbar\": {\"outlinewidth\": 0, \"ticks\": \"\"}}, \"type\": \"scattergeo\"}], \"scattergl\": [{\"marker\": {\"colorbar\": {\"outlinewidth\": 0, \"ticks\": \"\"}}, \"type\": \"scattergl\"}], \"scattermapbox\": [{\"marker\": {\"colorbar\": {\"outlinewidth\": 0, \"ticks\": \"\"}}, \"type\": \"scattermapbox\"}], \"scatterpolar\": [{\"marker\": {\"colorbar\": {\"outlinewidth\": 0, \"ticks\": \"\"}}, \"type\": \"scatterpolar\"}], \"scatterpolargl\": [{\"marker\": {\"colorbar\": {\"outlinewidth\": 0, \"ticks\": \"\"}}, \"type\": \"scatterpolargl\"}], \"scatterternary\": [{\"marker\": {\"colorbar\": {\"outlinewidth\": 0, \"ticks\": \"\"}}, \"type\": \"scatterternary\"}], \"surface\": [{\"colorbar\": {\"outlinewidth\": 0, \"ticks\": \"\"}, \"colorscale\": [[0.0, \"#0d0887\"], [0.1111111111111111, \"#46039f\"], [0.2222222222222222, \"#7201a8\"], [0.3333333333333333, \"#9c179e\"], [0.4444444444444444, \"#bd3786\"], [0.5555555555555556, \"#d8576b\"], [0.6666666666666666, \"#ed7953\"], [0.7777777777777778, \"#fb9f3a\"], [0.8888888888888888, \"#fdca26\"], [1.0, \"#f0f921\"]], \"type\": \"surface\"}], \"table\": [{\"cells\": {\"fill\": {\"color\": \"#EBF0F8\"}, \"line\": {\"color\": \"white\"}}, \"header\": {\"fill\": {\"color\": \"#C8D4E3\"}, \"line\": {\"color\": \"white\"}}, \"type\": \"table\"}]}, \"layout\": {\"annotationdefaults\": {\"arrowcolor\": \"#2a3f5f\", \"arrowhead\": 0, \"arrowwidth\": 1}, \"coloraxis\": {\"colorbar\": {\"outlinewidth\": 0, \"ticks\": \"\"}}, \"colorscale\": {\"diverging\": [[0, \"#8e0152\"], [0.1, \"#c51b7d\"], [0.2, \"#de77ae\"], [0.3, \"#f1b6da\"], [0.4, \"#fde0ef\"], [0.5, \"#f7f7f7\"], [0.6, \"#e6f5d0\"], [0.7, \"#b8e186\"], [0.8, \"#7fbc41\"], [0.9, \"#4d9221\"], [1, \"#276419\"]], \"sequential\": [[0.0, \"#0d0887\"], [0.1111111111111111, \"#46039f\"], [0.2222222222222222, \"#7201a8\"], [0.3333333333333333, \"#9c179e\"], [0.4444444444444444, \"#bd3786\"], [0.5555555555555556, \"#d8576b\"], [0.6666666666666666, \"#ed7953\"], [0.7777777777777778, \"#fb9f3a\"], [0.8888888888888888, \"#fdca26\"], [1.0, \"#f0f921\"]], \"sequentialminus\": [[0.0, \"#0d0887\"], [0.1111111111111111, \"#46039f\"], [0.2222222222222222, \"#7201a8\"], [0.3333333333333333, \"#9c179e\"], [0.4444444444444444, \"#bd3786\"], [0.5555555555555556, \"#d8576b\"], [0.6666666666666666, \"#ed7953\"], [0.7777777777777778, \"#fb9f3a\"], [0.8888888888888888, \"#fdca26\"], [1.0, \"#f0f921\"]]}, \"colorway\": [\"#636efa\", \"#EF553B\", \"#00cc96\", \"#ab63fa\", \"#FFA15A\", \"#19d3f3\", \"#FF6692\", \"#B6E880\", \"#FF97FF\", \"#FECB52\"], \"font\": {\"color\": \"#2a3f5f\"}, \"geo\": {\"bgcolor\": \"white\", \"lakecolor\": \"white\", \"landcolor\": \"#E5ECF6\", \"showlakes\": true, \"showland\": true, \"subunitcolor\": \"white\"}, \"hoverlabel\": {\"align\": \"left\"}, \"hovermode\": \"closest\", \"mapbox\": {\"style\": \"light\"}, \"paper_bgcolor\": \"white\", \"plot_bgcolor\": \"#E5ECF6\", \"polar\": {\"angularaxis\": {\"gridcolor\": \"white\", \"linecolor\": \"white\", \"ticks\": \"\"}, \"bgcolor\": \"#E5ECF6\", \"radialaxis\": {\"gridcolor\": \"white\", \"linecolor\": \"white\", \"ticks\": \"\"}}, \"scene\": {\"xaxis\": {\"backgroundcolor\": \"#E5ECF6\", \"gridcolor\": \"white\", \"gridwidth\": 2, \"linecolor\": \"white\", \"showbackground\": true, \"ticks\": \"\", \"zerolinecolor\": \"white\"}, \"yaxis\": {\"backgroundcolor\": \"#E5ECF6\", \"gridcolor\": \"white\", \"gridwidth\": 2, \"linecolor\": \"white\", \"showbackground\": true, \"ticks\": \"\", \"zerolinecolor\": \"white\"}, \"zaxis\": {\"backgroundcolor\": \"#E5ECF6\", \"gridcolor\": \"white\", \"gridwidth\": 2, \"linecolor\": \"white\", \"showbackground\": true, \"ticks\": \"\", \"zerolinecolor\": \"white\"}}, \"shapedefaults\": {\"line\": {\"color\": \"#2a3f5f\"}}, \"ternary\": {\"aaxis\": {\"gridcolor\": \"white\", \"linecolor\": \"white\", \"ticks\": \"\"}, \"baxis\": {\"gridcolor\": \"white\", \"linecolor\": \"white\", \"ticks\": \"\"}, \"bgcolor\": \"#E5ECF6\", \"caxis\": {\"gridcolor\": \"white\", \"linecolor\": \"white\", \"ticks\": \"\"}}, \"title\": {\"x\": 0.05}, \"xaxis\": {\"automargin\": true, \"gridcolor\": \"white\", \"linecolor\": \"white\", \"ticks\": \"\", \"title\": {\"standoff\": 15}, \"zerolinecolor\": \"white\", \"zerolinewidth\": 2}, \"yaxis\": {\"automargin\": true, \"gridcolor\": \"white\", \"linecolor\": \"white\", \"ticks\": \"\", \"title\": {\"standoff\": 15}, \"zerolinecolor\": \"white\", \"zerolinewidth\": 2}}}},\n",
              "                        {\"responsive\": true}\n",
              "                    ).then(function(){\n",
              "                            \n",
              "var gd = document.getElementById('a3b24193-6509-4a2d-bd9f-80948442d858');\n",
              "var x = new MutationObserver(function (mutations, observer) {{\n",
              "        var display = window.getComputedStyle(gd).display;\n",
              "        if (!display || display === 'none') {{\n",
              "            console.log([gd, 'removed!']);\n",
              "            Plotly.purge(gd);\n",
              "            observer.disconnect();\n",
              "        }}\n",
              "}});\n",
              "\n",
              "// Listen for the removal of the full notebook cells\n",
              "var notebookContainer = gd.closest('#notebook-container');\n",
              "if (notebookContainer) {{\n",
              "    x.observe(notebookContainer, {childList: true});\n",
              "}}\n",
              "\n",
              "// Listen for the clearing of the current output cell\n",
              "var outputEl = gd.closest('.output');\n",
              "if (outputEl) {{\n",
              "    x.observe(outputEl, {childList: true});\n",
              "}}\n",
              "\n",
              "                        })\n",
              "                };\n",
              "                \n",
              "            </script>\n",
              "        </div>\n",
              "</body>\n",
              "</html>"
            ]
          },
          "metadata": {
            "tags": []
          }
        }
      ]
    },
    {
      "cell_type": "code",
      "metadata": {
        "id": "tPMATA0oFsvU",
        "outputId": "40fb2742-8310-4c6d-d24e-89e7cd260b9c",
        "colab": {
          "base_uri": "https://localhost:8080/",
          "height": 374
        }
      },
      "source": [
        "ri = df_mcu2.quantile(.75) - df_mcu2.quantile(.25)\n",
        "ls = df_mcu2.quantile(.75) + (1.5 * ri )\n",
        "li = df_mcu2.quantile(.25) - (1.5 * ri )\n",
        "li\n",
        "\n"
      ],
      "execution_count": null,
      "outputs": [
        {
          "output_type": "execute_result",
          "data": {
            "text/plain": [
              "Iron Man                                2.485255\n",
              "The Incredible Hulk                   -10.000000\n",
              "Iron Man 2                             -6.000000\n",
              "Thor                                   -5.500000\n",
              "Capitán América: el primer vengador     0.500000\n",
              "The Avengers                            5.125000\n",
              "Iron Man 3                             -7.000000\n",
              "Thor: The Dark World                   -9.875000\n",
              "Captain America: The Winter Soldier    -6.375000\n",
              "Guardianes de la Galaxia                2.625000\n",
              "Avengers: Age of Ultron                -4.875000\n",
              "Ant-Man                                -1.000000\n",
              "Captain America: Civil War              2.500000\n",
              "Doctor Strange                          3.250000\n",
              "Guardianes de la Galaxia Vol. 2        -7.125000\n",
              "Spider-Man: Homecoming                  0.375000\n",
              "Thor: Ragnarok                          2.125000\n",
              "Black Panther                          -3.625000\n",
              "Avengers: Infinity War                 10.625000\n",
              "Ant-Man and The Wasp                    2.295935\n",
              "dtype: float64"
            ]
          },
          "metadata": {
            "tags": []
          },
          "execution_count": 12
        }
      ]
    },
    {
      "cell_type": "markdown",
      "metadata": {
        "id": "u2tQThVgIJ4F"
      },
      "source": [
        "[Documentación boxplot plotly](https://plotly.com/python/box-plots/)"
      ]
    },
    {
      "cell_type": "code",
      "metadata": {
        "id": "HNSS5ExJIEQm"
      },
      "source": [
        ""
      ],
      "execution_count": null,
      "outputs": []
    }
  ]
}