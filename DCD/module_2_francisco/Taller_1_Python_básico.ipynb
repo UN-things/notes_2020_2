{
  "nbformat": 4,
  "nbformat_minor": 0,
  "metadata": {
    "colab": {
      "name": "Taller_1_Python_básico.ipynb",
      "provenance": [],
      "include_colab_link": true
    },
    "kernelspec": {
      "name": "python3",
      "display_name": "Python 3"
    }
  },
  "cells": [
    {
      "cell_type": "markdown",
      "metadata": {
        "id": "view-in-github",
        "colab_type": "text"
      },
      "source": [
        "<a href=\"https://colab.research.google.com/github/gtzambranop/UN_2020_2/blob/DCD/DCD/module_2_francisco/Taller_1_Python_b%C3%A1sico.ipynb\" target=\"_parent\"><img src=\"https://colab.research.google.com/assets/colab-badge.svg\" alt=\"Open In Colab\"/></a>"
      ]
    },
    {
      "cell_type": "markdown",
      "metadata": {
        "id": "lqY8AvRgqoFP",
        "colab_type": "text"
      },
      "source": [
        "# Taller \n",
        "\n",
        "- Escriba una función que reciba una lista y elimine elementos adyacentes duplicados. Consejo: utilice una lista alterna vacia que se ha a ir llenando a lo largo de la ejecución. \n",
        "    - Ejemplo 1: [1,2,2,3,3,4] -> [1,2,3,4]\n",
        "    - Ejemplo 2: [1,2,3,2] -> [1,2,3,2]\n",
        "- Escriba una función que reciba el númerador y denominador de una fracción y retorne el numerador y denominador de la una fracción simplificada (si es posible simplificarla).\n",
        "- Escriba una función que reciba una cadena de carácteres y retorne un diccionario donde las llaves del diccionario sean cada uno de los caracteres de la cadena y el valor del diccionario sean la cantidad de veces que se repite ese caracter.\n",
        "- Escriba una función que reciba una cadena de carácteres e imprima en pantalla si dicha cadena de carácteres es palindroma o no.\n",
        "- Escriba una función que reciba una lista de números enteros (desordenada) y retorne otra lista con los elementos ordenados. Debe hacerse uso del método de la burbuja, es decir no se puede usar (list.sort())"
      ]
    },
    {
      "cell_type": "markdown",
      "metadata": {
        "id": "a5RUMonzvoXL",
        "colab_type": "text"
      },
      "source": [
        "## Ejercicio 1\n",
        "\n"
      ]
    },
    {
      "cell_type": "code",
      "metadata": {
        "id": "xjRg8jjUvjQT",
        "colab_type": "code",
        "colab": {}
      },
      "source": [
        "def elimina_dup_adyacentes(lista):\n",
        "  # Se define una nueva lista para irla llenando en tiempo de ejecución\n",
        "  nueva_lista = list()\n",
        "\n",
        "  # Se iteran los elementos de la lista\n",
        "  for num in lista:\n",
        "    # Si la nueva lista no tiene elementos o el último número insertado es distinto \n",
        "    # del número del ciclo actual se hace una inserción al final de la lista\n",
        "    if len(nueva_lista) == 0 or num != nueva_lista[-1]:\n",
        "      nueva_lista.append(num)\n",
        "\n",
        "  # Se retorna la lista\n",
        "  return nueva_lista\n"
      ],
      "execution_count": null,
      "outputs": []
    },
    {
      "cell_type": "code",
      "metadata": {
        "id": "ohh6qeOqw1si",
        "colab_type": "code",
        "colab": {
          "base_uri": "https://localhost:8080/",
          "height": 34
        },
        "outputId": "bfe96d07-5576-47b6-a839-9e31e7d4295a"
      },
      "source": [
        "lista = [1,2,4,4,3,4,5,1,1]\n",
        "elimina_dup_adyacentes(lista)\n"
      ],
      "execution_count": null,
      "outputs": [
        {
          "output_type": "execute_result",
          "data": {
            "text/plain": [
              "[1, 2, 4, 3, 4, 5, 1]"
            ]
          },
          "metadata": {
            "tags": []
          },
          "execution_count": 2
        }
      ]
    },
    {
      "cell_type": "markdown",
      "metadata": {
        "id": "IuXa_iQnzsDe",
        "colab_type": "text"
      },
      "source": [
        "\n",
        "## Ejercicio 2\n",
        "\n",
        "[Algoritmo de Euclides](https://es.wikipedia.org/wiki/Algoritmo_de_Euclides)"
      ]
    },
    {
      "cell_type": "code",
      "metadata": {
        "id": "Idx6CHI2w6qZ",
        "colab_type": "code",
        "colab": {}
      },
      "source": [
        "def simplifica(num, den):\n",
        "  \n",
        "  if num % den == 0: # Retorno directo si numerador es divisible por denominador\n",
        "    return num / den, 1\n",
        "  elif den % num == 0:\n",
        "    return 1, den / num # Retorno directo si denominador es divisible por numerador\n",
        "  \n",
        "  # Calculo de cuál es el mayor y cual el menor para encontrar el MCD (máximo común divisor\n",
        "  if num > den:\n",
        "    mayor, menor = num, den\n",
        "  else:\n",
        "    mayor, menor = den, num\n",
        "\n",
        "  # Calculo del máximo común divisor MCD mediante el algoritmo de Euclides\n",
        "  # En menor queda almacenado el valor del máximo común divisor\n",
        "  residuo = mayor % menor\n",
        "  while residuo != 0:\n",
        "    mayor = menor\n",
        "    menor = residuo\n",
        "    residuo = mayor % menor\n",
        "\n",
        "  # Una vez calculado el MCD se retornan tanto numerador como denominador divididos por el MCD  \n",
        "  return num / menor, den / menor"
      ],
      "execution_count": null,
      "outputs": []
    },
    {
      "cell_type": "code",
      "metadata": {
        "id": "_lbZI7Ka_OVB",
        "colab_type": "code",
        "colab": {
          "base_uri": "https://localhost:8080/",
          "height": 34
        },
        "outputId": "2109d6bb-8f0e-4872-82cf-bc614714c9e1"
      },
      "source": [
        "simplifica(18,12)"
      ],
      "execution_count": null,
      "outputs": [
        {
          "output_type": "execute_result",
          "data": {
            "text/plain": [
              "(3.0, 2.0)"
            ]
          },
          "metadata": {
            "tags": []
          },
          "execution_count": 4
        }
      ]
    },
    {
      "cell_type": "markdown",
      "metadata": {
        "id": "OUZlVZ9k09ch",
        "colab_type": "text"
      },
      "source": [
        "## Ejercicio 3"
      ]
    },
    {
      "cell_type": "code",
      "metadata": {
        "id": "s79tyYvq1hoD",
        "colab_type": "code",
        "colab": {}
      },
      "source": [
        "def contar_caracteres(cadena):\n",
        "  # Se define diccionario vacío\n",
        "  conteo_caracteres = {}\n",
        "  for caracter in cadena: \n",
        "    # Si el carácter actual NO se encuentra en el diccionario, se inserta con un conteo de 1\n",
        "    if caracter not in conteo_caracteres.keys():\n",
        "      conteo_caracteres[caracter] = 1\n",
        "    else:\n",
        "      # Si el carácter actual YA se encuentra en el diccionario se incrementa su conteo en 1\n",
        "      conteo_caracteres[caracter] = conteo_caracteres[caracter] + 1\n",
        "\n",
        "  # Se retorna el diccionario con los conteos\n",
        "  return conteo_caracteres"
      ],
      "execution_count": null,
      "outputs": []
    },
    {
      "cell_type": "code",
      "metadata": {
        "id": "5h18fTU808hE",
        "colab_type": "code",
        "colab": {
          "base_uri": "https://localhost:8080/",
          "height": 408
        },
        "outputId": "737cea0f-a7d3-45ab-e3d0-f2e282d4e54a"
      },
      "source": [
        "cadena = 'Este es un ejercicio del taller 1 del módulo de python básico'\n",
        "contar_caracteres(cadena)"
      ],
      "execution_count": null,
      "outputs": [
        {
          "output_type": "execute_result",
          "data": {
            "text/plain": [
              "{' ': 11,\n",
              " '1': 1,\n",
              " 'E': 1,\n",
              " 'a': 1,\n",
              " 'b': 1,\n",
              " 'c': 3,\n",
              " 'd': 4,\n",
              " 'e': 8,\n",
              " 'h': 1,\n",
              " 'i': 3,\n",
              " 'j': 1,\n",
              " 'l': 5,\n",
              " 'm': 1,\n",
              " 'n': 2,\n",
              " 'o': 4,\n",
              " 'p': 1,\n",
              " 'r': 2,\n",
              " 's': 3,\n",
              " 't': 3,\n",
              " 'u': 2,\n",
              " 'y': 1,\n",
              " 'á': 1,\n",
              " 'ó': 1}"
            ]
          },
          "metadata": {
            "tags": []
          },
          "execution_count": 6
        }
      ]
    },
    {
      "cell_type": "markdown",
      "metadata": {
        "id": "0Q_mDojZ2Hnn",
        "colab_type": "text"
      },
      "source": [
        "## Ejercicio 4"
      ]
    },
    {
      "cell_type": "markdown",
      "metadata": {
        "id": "-zNhvvQH2LSw",
        "colab_type": "text"
      },
      "source": [
        "#### Versión 1 (bucle for)"
      ]
    },
    {
      "cell_type": "code",
      "metadata": {
        "id": "-e5i4Pbp194v",
        "colab_type": "code",
        "colab": {}
      },
      "source": [
        "def es_palindromo(cadena):\n",
        "  # Se calcula el largo de la cadena\n",
        "  long_cadena = len(cadena)\n",
        "\n",
        "  # Se define una variable de control para el print final\n",
        "  # se asume que la palabra es palíndroma hasta que se demuestre lo contrario\n",
        "  palindroma = True\n",
        "\n",
        "  # Iteramos hasta la mitad de la longitud de la cadena para comparar primero - ultimo, segundo penultimo, etc\n",
        "  # Si la longitud de la cadena es impar el elemento de la mitad no se comnpara con ningún otro\n",
        "  for i in range(int(long_cadena / 2)):\n",
        "\n",
        "    # Si alguno de los caracteres no coincide con su correspondiente se ejecutan 3 acciones:\n",
        "    # 1. Se imprime el texto que muestra que la variable no es palindroma\n",
        "    # 2. La variable de control se modifica para no hacer el print de la linea \"if palindroma:\"\n",
        "    # 3. Se detiene la busqueda ya que con que falle la comparación de un caracter es suficiente \n",
        "    if cadena[i] != cadena[-(i + 1)]:\n",
        "      print('La palabra {} NO es palindroma'.format(cadena))\n",
        "      palindroma = False\n",
        "      break\n",
        "  \n",
        "  # Si la variable de control no fue modificada en el bucle for quiere decir que la palabra espalindroma\n",
        "  if palindroma:\n",
        "    print('La palabra {} es palindroma'.format(cadena))"
      ],
      "execution_count": null,
      "outputs": []
    },
    {
      "cell_type": "code",
      "metadata": {
        "id": "akzDYmIc3Fs8",
        "colab_type": "code",
        "colab": {
          "base_uri": "https://localhost:8080/",
          "height": 34
        },
        "outputId": "9daadfab-8882-4b99-d961-103627a0f145"
      },
      "source": [
        "cadena = 'reconocer'\n",
        "es_palindromo(cadena)"
      ],
      "execution_count": null,
      "outputs": [
        {
          "output_type": "stream",
          "text": [
            "La palabra reconocer es palindroma\n"
          ],
          "name": "stdout"
        }
      ]
    },
    {
      "cell_type": "markdown",
      "metadata": {
        "id": "1GF8kdOu3tVh",
        "colab_type": "text"
      },
      "source": [
        "#### Versión 2 (reordenando cadena de carácteres y comparando)"
      ]
    },
    {
      "cell_type": "code",
      "metadata": {
        "id": "Kg9uDYuB3qD9",
        "colab_type": "code",
        "colab": {}
      },
      "source": [
        "def es_palindromo2(cadena):\n",
        "  # Se reordena la cadena de forma inversa y se compara\n",
        "  if cadena == cadena[::-1]:\n",
        "    print('La palabra {} es palindroma'.format(cadena))\n",
        "  else:\n",
        "    print('La palabra {} NO es palindroma'.format(cadena))"
      ],
      "execution_count": null,
      "outputs": []
    },
    {
      "cell_type": "code",
      "metadata": {
        "id": "lfqUT5IG4E6Z",
        "colab_type": "code",
        "colab": {
          "base_uri": "https://localhost:8080/",
          "height": 34
        },
        "outputId": "18b1d9b1-1091-40fb-f1c4-433ffa85ada9"
      },
      "source": [
        "cadena = 'reconocer'\n",
        "es_palindromo(cadena)"
      ],
      "execution_count": null,
      "outputs": [
        {
          "output_type": "stream",
          "text": [
            "La palabra reconocer es palindroma\n"
          ],
          "name": "stdout"
        }
      ]
    },
    {
      "cell_type": "markdown",
      "metadata": {
        "id": "YMLWBcD-4O_J",
        "colab_type": "text"
      },
      "source": [
        "# Ejercicio 5\n",
        "\n",
        "[Método de la burbuja u ordenamiento de la burbuja](https://runestone.academy/runestone/static/pythoned/SortSearch/ElOrdenamientoBurbuja.html)"
      ]
    },
    {
      "cell_type": "markdown",
      "metadata": {
        "id": "XP8eKAB1444g",
        "colab_type": "text"
      },
      "source": [
        "#### Versión 1 (el segundo bucle for completo)"
      ]
    },
    {
      "cell_type": "code",
      "metadata": {
        "id": "j3pnUtjH4GdU",
        "colab_type": "code",
        "colab": {}
      },
      "source": [
        "def ordenamiento_burbuja1(lista):\n",
        "  # Se calcula la longitud de la lista\n",
        "  long_lista = len(lista)\n",
        "\n",
        "  # El primer for (externo) acomoda los elementos en la lista de mayor a menor\n",
        "  # En una primera iteración se acomoda el último\n",
        "  # En una segunda iteración se acomoda el penúltimo\n",
        "  # etc\n",
        "  for i in range(long_lista):\n",
        "    # El segundo for (interno) permuta dos elementos a la vez de inicio a fin\n",
        "    # Es importante ver que este for va hasta (long_lista - 1), esto se debe a que se usa el indice lista[j + 1] \n",
        "    # Si se deja long_lista  en vez de long_lista - 1 la exoresión lista[j + 1] se saldría de la lista\n",
        "    for j in range(long_lista - 1):\n",
        "      if lista[j] > lista[j + 1]:\n",
        "        lista[j], lista[j + 1] = lista[j + 1], lista[j]\n",
        "  return lista"
      ],
      "execution_count": null,
      "outputs": []
    },
    {
      "cell_type": "code",
      "metadata": {
        "id": "8q1Y5Lao5HIx",
        "colab_type": "code",
        "colab": {
          "base_uri": "https://localhost:8080/",
          "height": 34
        },
        "outputId": "b7e1a7ef-7e35-45fa-9589-f5e3aa7bc7ba"
      },
      "source": [
        "lista = [1,2,4,5,7,6,3,1,9,8]\n",
        "ordenamiento_burbuja1(lista)"
      ],
      "execution_count": null,
      "outputs": [
        {
          "output_type": "execute_result",
          "data": {
            "text/plain": [
              "[1, 1, 2, 3, 4, 5, 6, 7, 8, 9]"
            ]
          },
          "metadata": {
            "tags": []
          },
          "execution_count": 12
        }
      ]
    },
    {
      "cell_type": "markdown",
      "metadata": {
        "id": "uyU9L3uH6JQM",
        "colab_type": "text"
      },
      "source": [
        "#### Versión 2 (Truncando el segundo bucle for ya que los últimos elementos se han acomodado en iteraciones anteriores)"
      ]
    },
    {
      "cell_type": "code",
      "metadata": {
        "id": "Sd0hjiJ85M94",
        "colab_type": "code",
        "colab": {}
      },
      "source": [
        "def ordenamiento_burbuja2(lista):\n",
        "  long_lista = len(lista)\n",
        "  for i in range(long_lista):\n",
        "    # El range del segundo for es lo único que cambia con respecto a la versión anterior\n",
        "    # Esto mse debe a que en el primer ciclo del for externo se acomodó el úlimo elemento por lo tanto en el for interno no necesito ir hasta el último elemento\n",
        "    # Siguiendo esta lógica en el segundo ciclo del for externo se acomoda el penultimo por lo tanto en la siguiente iteración no necesito llegar hasta él en el for interno.\n",
        "    # De igual forma para cada ciclo\n",
        "    for j in range(long_lista - 1 - i):\n",
        "      if lista[j] > lista[j + 1]:\n",
        "        lista[j], lista[j + 1] = lista[j + 1], lista[j]\n",
        "  return lista"
      ],
      "execution_count": null,
      "outputs": []
    },
    {
      "cell_type": "code",
      "metadata": {
        "id": "97FtNINK6asw",
        "colab_type": "code",
        "colab": {
          "base_uri": "https://localhost:8080/",
          "height": 34
        },
        "outputId": "9c426421-9ea5-4d3e-aa69-f857cc844694"
      },
      "source": [
        "lista = [1,2,4,5,7,6,3,1,9,8]\n",
        "ordenamiento_burbuja2(lista)"
      ],
      "execution_count": null,
      "outputs": [
        {
          "output_type": "execute_result",
          "data": {
            "text/plain": [
              "[1, 1, 2, 3, 4, 5, 6, 7, 8, 9]"
            ]
          },
          "metadata": {
            "tags": []
          },
          "execution_count": 14
        }
      ]
    },
    {
      "cell_type": "markdown",
      "metadata": {
        "id": "ubdSe5xW6unj",
        "colab_type": "text"
      },
      "source": [
        "#### Comparaciones de eficiencia de las dos versiones"
      ]
    },
    {
      "cell_type": "code",
      "metadata": {
        "id": "55AOGyFf6cEn",
        "colab_type": "code",
        "colab": {}
      },
      "source": [
        "import numpy as np\n",
        "from datetime import datetime as dt"
      ],
      "execution_count": null,
      "outputs": []
    },
    {
      "cell_type": "code",
      "metadata": {
        "id": "jFOsn6L961ln",
        "colab_type": "code",
        "colab": {}
      },
      "source": [
        "lista_grande = np.random.randint(1,10000, 8000)"
      ],
      "execution_count": null,
      "outputs": []
    },
    {
      "cell_type": "code",
      "metadata": {
        "id": "dZvO8Szm68uW",
        "colab_type": "code",
        "colab": {
          "base_uri": "https://localhost:8080/",
          "height": 34
        },
        "outputId": "dfcaeff1-001a-4a02-c837-3c469922f161"
      },
      "source": [
        "inicio = dt.now()\n",
        "ord1 = ordenamiento_burbuja1(lista_grande)\n",
        "print(dt.now() - inicio)"
      ],
      "execution_count": null,
      "outputs": [
        {
          "output_type": "stream",
          "text": [
            "0:00:27.778528\n"
          ],
          "name": "stdout"
        }
      ]
    },
    {
      "cell_type": "code",
      "metadata": {
        "id": "NlgwVMuG7Tyl",
        "colab_type": "code",
        "colab": {
          "base_uri": "https://localhost:8080/",
          "height": 34
        },
        "outputId": "f29f8048-ebc2-4c1a-92a3-ad5690424bea"
      },
      "source": [
        "inicio = dt.now()\n",
        "ord2 = ordenamiento_burbuja2(lista_grande)\n",
        "print(dt.now() - inicio)"
      ],
      "execution_count": null,
      "outputs": [
        {
          "output_type": "stream",
          "text": [
            "0:00:09.748240\n"
          ],
          "name": "stdout"
        }
      ]
    }
  ]
}