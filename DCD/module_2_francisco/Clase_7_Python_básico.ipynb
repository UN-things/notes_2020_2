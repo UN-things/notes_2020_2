{
  "nbformat": 4,
  "nbformat_minor": 0,
  "metadata": {
    "celltoolbar": "Slideshow",
    "kernelspec": {
      "display_name": "Python 3",
      "language": "python",
      "name": "python3"
    },
    "language_info": {
      "codemirror_mode": {
        "name": "ipython",
        "version": 3
      },
      "file_extension": ".py",
      "mimetype": "text/x-python",
      "name": "python",
      "nbconvert_exporter": "python",
      "pygments_lexer": "ipython3",
      "version": "3.8.5"
    },
    "colab": {
      "name": "Clase 7 Python básico.ipynb",
      "provenance": [],
      "include_colab_link": true
    }
  },
  "cells": [
    {
      "cell_type": "markdown",
      "metadata": {
        "id": "view-in-github",
        "colab_type": "text"
      },
      "source": [
        "<a href=\"https://colab.research.google.com/github/gtzambranop/UN_2020_2/blob/DCD/DCD/module_2_francisco/Clase_7_Python_b%C3%A1sico.ipynb\" target=\"_parent\"><img src=\"https://colab.research.google.com/assets/colab-badge.svg\" alt=\"Open In Colab\"/></a>"
      ]
    },
    {
      "cell_type": "markdown",
      "metadata": {
        "id": "CBFLh248NrP1"
      },
      "source": [
        "# Estadísticos descriptivos y de asociación"
      ]
    },
    {
      "cell_type": "markdown",
      "metadata": {
        "id": "mRJy5gh4NrP8"
      },
      "source": [
        "### Contenido de la clase\n",
        "\n",
        "- Trabajando con fechas y horas\n",
        "    - Datetimes\n",
        "    - Timedeltas\n",
        "    - Dates\n",
        "    - Times\n",
        "    - Formato Datetimes\n",
        "    - Operaciones con Datetimes\n",
        "- Estadísticos descriptivos\n",
        "    - Media\n",
        "    - Mediana\n",
        "    - Moda\n",
        "    - Máximo\n",
        "    - Mínimo\n",
        "    - Varianza\n",
        "    - Desviación estándar\n",
        "    - Rango intercuartílico\n",
        "- Estadísticos de asociación\n",
        "    - Covarianza\n",
        "    - Correlación"
      ]
    },
    {
      "cell_type": "markdown",
      "metadata": {
        "id": "OckJQJzlNrQF"
      },
      "source": [
        "## Trabajando con fechas y horas"
      ]
    },
    {
      "cell_type": "code",
      "metadata": {
        "id": "0GP0yAgINrQM"
      },
      "source": [
        "from datetime import datetime"
      ],
      "execution_count": null,
      "outputs": []
    },
    {
      "cell_type": "markdown",
      "metadata": {
        "id": "yLKso2mFNrQz"
      },
      "source": [
        "### Datetimes"
      ]
    },
    {
      "cell_type": "code",
      "metadata": {
        "id": "arMwxqmHNrQ4"
      },
      "source": [
        "now = datetime.now()\n",
        "now\n",
        "\n",
        "#print(type(now))"
      ],
      "execution_count": null,
      "outputs": []
    },
    {
      "cell_type": "code",
      "metadata": {
        "id": "KUUOo9S3NrRO"
      },
      "source": [
        "now.year\n",
        "\n",
        "#now.month\n",
        "\n",
        "#now.microsecond"
      ],
      "execution_count": null,
      "outputs": []
    },
    {
      "cell_type": "markdown",
      "metadata": {
        "id": "b1FFpL3mNrRi"
      },
      "source": [
        "### Timedeltas\n",
        "\n",
        "Hay dos formas de crear timedeltas: Como una resta de datetimes o definiéndolos invocando al objeto"
      ]
    },
    {
      "cell_type": "code",
      "metadata": {
        "id": "a16n_G1PNrRl"
      },
      "source": [
        "# Cómo una diferencia de tiempos\n",
        "\n",
        "datetime.now() - datetime(2019, 11, 5, 18)"
      ],
      "execution_count": null,
      "outputs": []
    },
    {
      "cell_type": "code",
      "metadata": {
        "id": "z3x0Wo7ZNrR8"
      },
      "source": [
        "# Cómo la creación de una instancia del objeto timedelta\n",
        "from datetime import timedelta\n",
        "\n",
        "delta = timedelta(days=20)\n",
        "now + delta\n",
        "now + 5 * delta"
      ],
      "execution_count": null,
      "outputs": []
    },
    {
      "cell_type": "markdown",
      "metadata": {
        "id": "4DJEuO9tNrST"
      },
      "source": [
        "### Dates"
      ]
    },
    {
      "cell_type": "code",
      "metadata": {
        "id": "zNzVeHq_NrSX"
      },
      "source": [
        "from datetime import date\n",
        "date(2018, 10, 5)"
      ],
      "execution_count": null,
      "outputs": []
    },
    {
      "cell_type": "markdown",
      "metadata": {
        "id": "jWnWys6LNrSt"
      },
      "source": [
        "### Times"
      ]
    },
    {
      "cell_type": "code",
      "metadata": {
        "id": "zXTvw8qfNrSy"
      },
      "source": [
        "from datetime import time\n",
        "time(23,59)\n",
        "\n",
        "# time(27,59)"
      ],
      "execution_count": null,
      "outputs": []
    },
    {
      "cell_type": "markdown",
      "metadata": {
        "id": "ov-6Yha1NrTE"
      },
      "source": [
        "### Dando formato a datetimes\n",
        "\n",
        "[Directivas para strftime](http://strftime.org/)"
      ]
    },
    {
      "cell_type": "code",
      "metadata": {
        "id": "aMCo3_nuNrTH"
      },
      "source": [
        "now = datetime.now()\n",
        "now.strftime('%Y-%m-%d %H:%M:%S.%f')\n",
        "\n",
        "#now.strftime('%Y-%m-%d %H')\n",
        "#now.strftime('%d/%m/%Y')\n",
        "#now.strftime('%d/%B/%Y')"
      ],
      "execution_count": null,
      "outputs": []
    },
    {
      "cell_type": "markdown",
      "metadata": {
        "id": "52dWqto2NrTY"
      },
      "source": [
        "### Leyendo diferentes formatos de datetimes"
      ]
    },
    {
      "cell_type": "code",
      "metadata": {
        "id": "12lshLT-NrTd"
      },
      "source": [
        "string_dates = ['2019/11/9', '2020/5/12', '2018/12/24']\n",
        "\n",
        "lst_datetimes = [datetime.strptime(x, '%Y/%m/%d') for x in string_dates]\n",
        "\n",
        "#print(lst_datetimes)\n",
        "#print(pd.Series(lst_datetimes))"
      ],
      "execution_count": null,
      "outputs": []
    },
    {
      "cell_type": "markdown",
      "metadata": {
        "id": "jFoncEFZNrTs"
      },
      "source": [
        "### Indexando y filtrado de datos por datetimes"
      ]
    },
    {
      "cell_type": "code",
      "metadata": {
        "id": "tT9Ipc-fNrTv"
      },
      "source": [
        "# Indexación\n",
        "import numpy as np\n",
        "import pandas as pd\n",
        "\n",
        "start = datetime(2017,1,1)\n",
        "days = [start + timedelta(days=int(x)) for x in np.arange(2000)]\n",
        "rnd = np.random.rand(len(days))\n",
        "serie1 = pd.Series(rnd, index=days)\n",
        "serie1"
      ],
      "execution_count": null,
      "outputs": []
    },
    {
      "cell_type": "code",
      "metadata": {
        "id": "zFdxO7c5NrUA"
      },
      "source": [
        "# Filtrado\n",
        "\n",
        "serie1['2017']\n",
        "\n",
        "# Slice\n",
        "#serie1['2017-06':'2017-09']"
      ],
      "execution_count": null,
      "outputs": []
    },
    {
      "cell_type": "markdown",
      "metadata": {
        "id": "OnZc6OyANrUS"
      },
      "source": [
        "### Generación de rangos de datetimes"
      ]
    },
    {
      "cell_type": "code",
      "metadata": {
        "id": "0VF6-Yq2NrUV"
      },
      "source": [
        "index = pd.date_range(start='2019-01-01', end='2019-06-01')\n",
        "index\n",
        "\n",
        "#index = pd.date_range(start='2019-01-01', end='2019-02-01', freq='1h')\n",
        "#index\n",
        "\n",
        "#index = pd.date_range(start='2019-01-01', end='2019-02-01', freq='1t')\n",
        "#index\n",
        "\n",
        "#index = pd.date_range(start='2019-01-01', end='2019-01-01 00:00:00.01', freq='N')\n",
        "#index"
      ],
      "execution_count": null,
      "outputs": []
    },
    {
      "cell_type": "markdown",
      "metadata": {
        "id": "SIkM7qI2NrUg"
      },
      "source": [
        "### Nota: \n",
        "    \n",
        "Mas información sobre las frecuencias [offset-aliases](https://pandas.pydata.org/pandas-docs/stable/user_guide/timeseries.html#offset-aliases)"
      ]
    },
    {
      "cell_type": "markdown",
      "metadata": {
        "id": "cpuozsJENrUk"
      },
      "source": [
        "## Estadísticos descriptivos"
      ]
    },
    {
      "cell_type": "markdown",
      "metadata": {
        "id": "KhEYDKQoNrUn"
      },
      "source": [
        "### Carga de datos"
      ]
    },
    {
      "cell_type": "code",
      "metadata": {
        "id": "NFrqpIEZNrUr"
      },
      "source": [
        "! wget https://www.dropbox.com/s/kc98g3pjcp8trba/MCU2.csv"
      ],
      "execution_count": null,
      "outputs": []
    },
    {
      "cell_type": "code",
      "metadata": {
        "id": "kCY7vCBINrU_"
      },
      "source": [
        "import pandas as pd\n",
        "from impyute.imputation.cs import mice\n",
        "\n",
        "df_mcu_falt = pd.read_csv('MCU2.csv')"
      ],
      "execution_count": null,
      "outputs": []
    },
    {
      "cell_type": "code",
      "metadata": {
        "id": "HVMTbsa0NrVO"
      },
      "source": [
        "df_mcu = mice(df_mcu_falt.values) # Ver docstring\n",
        "df_mcu = pd.DataFrame(df_mcu, columns=df_mcu_falt.columns)"
      ],
      "execution_count": null,
      "outputs": []
    },
    {
      "cell_type": "markdown",
      "metadata": {
        "id": "6B9POMO9NrVf"
      },
      "source": [
        "### Media"
      ]
    },
    {
      "cell_type": "code",
      "metadata": {
        "id": "1_oP2HPlNrVj"
      },
      "source": [
        "df_mcu.mean()\n",
        "\n",
        "#df_mcu.mean(axis=1)\n",
        "\n",
        "#df_mcu_falt.mean(skipna=False)"
      ],
      "execution_count": null,
      "outputs": []
    },
    {
      "cell_type": "markdown",
      "metadata": {
        "id": "4zMcsRzHNrVx"
      },
      "source": [
        "### Mediana"
      ]
    },
    {
      "cell_type": "code",
      "metadata": {
        "id": "aOMkl_YHNrVz"
      },
      "source": [
        "df_mcu.median()\n",
        "\n",
        "#df_mcu.quantile(.5)\n",
        "\n",
        "#df_mcu_falt.mean(skipna=False)"
      ],
      "execution_count": null,
      "outputs": []
    },
    {
      "cell_type": "markdown",
      "metadata": {
        "id": "2Tw3dvOTNrV-"
      },
      "source": [
        "### Moda"
      ]
    },
    {
      "cell_type": "code",
      "metadata": {
        "id": "bvayx1KUNrWD"
      },
      "source": [
        "df_mcu.mode()\n",
        "\n",
        "#df_mcu['Iron Man 2'].value_counts()\n",
        "\n",
        "#df_mcu['Thor'].value_counts()"
      ],
      "execution_count": null,
      "outputs": []
    },
    {
      "cell_type": "markdown",
      "metadata": {
        "id": "Kc2mob3bNrWN"
      },
      "source": [
        "### Máximo y mínimo"
      ]
    },
    {
      "cell_type": "code",
      "metadata": {
        "id": "KB1GnWNXNrWP"
      },
      "source": [
        "\n",
        "df_mcu.max()\n",
        "\n",
        "df_mcu.min()\n",
        "\n",
        "#df_mcu.max(axis=1)\n",
        "\n",
        "#df_mcu.max(skipna=False)"
      ],
      "execution_count": null,
      "outputs": []
    },
    {
      "cell_type": "markdown",
      "metadata": {
        "id": "8sZoxJkHNrWd"
      },
      "source": [
        "### Con un dataFrame multi-indexado"
      ]
    },
    {
      "cell_type": "code",
      "metadata": {
        "id": "PP037GwPNrWh"
      },
      "source": [
        "valor = np.random.randint(20, size=10)\n",
        "\n",
        "df_ventas = pd.DataFrame({'Valor': valor}, \n",
        "                         index=[[1,1,1,2,2,2,3,3,3,3], \n",
        "                                ['a', 'b', 'c', 'a', 'b', 'c', 'a', 'b', 'c','d']])\n",
        "df_ventas = df_ventas.rename_axis(['Oficina','Producto'])\n",
        "df_ventas\n",
        "\n",
        "#df_ventas.mean(level='Producto')"
      ],
      "execution_count": null,
      "outputs": []
    },
    {
      "cell_type": "markdown",
      "metadata": {
        "id": "Yu0zhilaNrWx"
      },
      "source": [
        "### Desviación estándar y varianza"
      ]
    },
    {
      "cell_type": "code",
      "metadata": {
        "id": "8m_9ySE0NrW0"
      },
      "source": [
        "disp = df_mcu.var()\n",
        "disp = disp.sort_values()\n",
        "disp\n",
        "\n",
        "#disp = df_mcu.std()\n",
        "#disp = disp.sort_values()\n",
        "\n",
        "# import plotly.express as px\n",
        "# fig = px.bar(y=disp.index, x=disp.values,  orientation='h')\n",
        "# fig.update_layout(title='Controversia generada por la película',\n",
        "#                  xaxis_title=\"Controversia generada\",\n",
        "#                  yaxis_title=\"Película\",)\n",
        "# fig.show()"
      ],
      "execution_count": null,
      "outputs": []
    },
    {
      "cell_type": "markdown",
      "metadata": {
        "id": "VBsq-jqaNrXC"
      },
      "source": [
        "### Una visión desciptiva global"
      ]
    },
    {
      "cell_type": "code",
      "metadata": {
        "id": "Pk2bvj49NrXL"
      },
      "source": [
        "df_stats = df_mcu.describe()\n",
        "df_stats"
      ],
      "execution_count": null,
      "outputs": []
    },
    {
      "cell_type": "markdown",
      "metadata": {
        "id": "h9b0Q34SNrXZ"
      },
      "source": [
        "### Rango intercuartílico"
      ]
    },
    {
      "cell_type": "code",
      "metadata": {
        "id": "tbobdWAnNrXa"
      },
      "source": [
        "import plotly.graph_objects as go\n",
        "\n",
        "fig = go.Figure()\n",
        "for index, column in df_mcu[['Iron Man']].iteritems():\n",
        "    fig.add_trace(go.Box(y=column, name=index))\n",
        "\n",
        "fig.show()"
      ],
      "execution_count": null,
      "outputs": []
    },
    {
      "cell_type": "code",
      "metadata": {
        "id": "bcDLkDfuNrXj"
      },
      "source": [
        "# Versión 1\n",
        "df_stats = df_mcu.describe()\n",
        "ri = df_stats.loc['75%'] - df_stats.loc['25%']\n",
        "ri\n",
        "\n",
        "# Versión 2\n",
        "#ri = df_mcu.quantile(.75) - df_mcu.quantile(.25) \n",
        "#ri"
      ],
      "execution_count": null,
      "outputs": []
    },
    {
      "cell_type": "markdown",
      "metadata": {
        "id": "NcuUksk_NrXw"
      },
      "source": [
        "## Estadísticos de asociación"
      ]
    },
    {
      "cell_type": "markdown",
      "metadata": {
        "id": "wZPXXt1xNrXy"
      },
      "source": [
        "### Matriz de varianzas y covarianzas, matriz de correlaciones"
      ]
    },
    {
      "cell_type": "code",
      "metadata": {
        "id": "Z_P_-HQYNrX0"
      },
      "source": [
        "cov = df_mcu.cov()\n",
        "cov\n",
        "\n",
        "# corr = df_mcu.corr() # Tipos de correlaciones\n",
        "\n",
        "# import plotly.graph_objects as go\n",
        "\n",
        "# fig = go.Figure(data=go.Heatmap(z=corr.values,\n",
        "#                         x=corr.columns.values,\n",
        "#                         y=corr.columns.values))\n",
        "# fig.show()"
      ],
      "execution_count": null,
      "outputs": []
    }
  ]
}