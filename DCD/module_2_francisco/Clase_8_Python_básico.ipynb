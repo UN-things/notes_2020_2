{
  "nbformat": 4,
  "nbformat_minor": 0,
  "metadata": {
    "celltoolbar": "Slideshow",
    "kernelspec": {
      "display_name": "Python 3",
      "language": "python",
      "name": "python3"
    },
    "language_info": {
      "codemirror_mode": {
        "name": "ipython",
        "version": 3
      },
      "file_extension": ".py",
      "mimetype": "text/x-python",
      "name": "python",
      "nbconvert_exporter": "python",
      "pygments_lexer": "ipython3",
      "version": "3.8.5"
    },
    "colab": {
      "name": "Clase_8_Python_básico.ipynb",
      "provenance": [],
      "collapsed_sections": [],
      "include_colab_link": true
    }
  },
  "cells": [
    {
      "cell_type": "markdown",
      "metadata": {
        "id": "view-in-github",
        "colab_type": "text"
      },
      "source": [
        "<a href=\"https://colab.research.google.com/github/gtzambranop/UN_2020_2/blob/DCD/DCD/module_2_francisco/Clase_8_Python_b%C3%A1sico.ipynb\" target=\"_parent\"><img src=\"https://colab.research.google.com/assets/colab-badge.svg\" alt=\"Open In Colab\"/></a>"
      ]
    },
    {
      "cell_type": "markdown",
      "metadata": {
        "id": "EldTNasjvD43"
      },
      "source": [
        "## Ejemplo práctico"
      ]
    },
    {
      "cell_type": "markdown",
      "metadata": {
        "id": "eibJrOwdvD4_"
      },
      "source": [
        "### Lenet5\n",
        "\n",
        "\n",
        "<img src=\"lenet5.png\" alt=\"Drawing\" style=\"width: 800px;\"/>\n",
        "\n",
        "[Paper Lenet5](http://yann.lecun.com/exdb/publis/pdf/lecun-01a.pdf)"
      ]
    },
    {
      "cell_type": "markdown",
      "metadata": {
        "id": "tE4sFfIAvD5I"
      },
      "source": [
        "### Carga de módulos"
      ]
    },
    {
      "cell_type": "code",
      "metadata": {
        "id": "Zyf9uyS-vD5R"
      },
      "source": [
        "#Carga de módulos\n",
        "from keras.models import Sequential, load_model\n",
        "from keras import layers\n",
        "from keras.utils import to_categorical\n",
        "from keras.datasets import fashion_mnist\n",
        "from keras.callbacks import TensorBoard\n",
        "from matplotlib import pyplot as plt\n",
        "from datetime import datetime as dt\n",
        "import numpy as np"
      ],
      "execution_count": null,
      "outputs": []
    },
    {
      "cell_type": "markdown",
      "metadata": {
        "id": "3cTWVqxmvD6C"
      },
      "source": [
        "### Carga de Mnist-fashion"
      ]
    },
    {
      "cell_type": "code",
      "metadata": {
        "id": "woOhF0FivD6G"
      },
      "source": [
        "dc_labels = {0: 'T-shirt/top',\n",
        "          1: 'Trouser',\n",
        "          2: 'Pullover',\n",
        "          3: 'Dress',\n",
        "          4: 'Coat',\n",
        "          5: 'Sandal',\n",
        "          6: 'Shirt',\n",
        "          7: 'Sneaker',\n",
        "          8: 'Bag',\n",
        "          9: 'Ankle boot'}"
      ],
      "execution_count": null,
      "outputs": []
    },
    {
      "cell_type": "code",
      "metadata": {
        "id": "8pFYw7DHvD6d"
      },
      "source": [
        "# Carga del conjunto de datos\n",
        "(X_train, y_train_lab), (X_test, y_test_lab) = fashion_mnist.load_data()\n",
        "\n",
        "# Escalamiento del conjunto de datos al intervalo [0,1]\n",
        "X_train = X_train / 255\n",
        "X_test = X_test / 255\n",
        "\n",
        "# Redimensionamiento del conjunto de datos\n",
        "X_train = X_train.reshape(60000,28,28,1)\n",
        "X_test = X_test.reshape(10000,28,28,1)\n",
        "\n",
        "# Convirtiendo la etiqueta en una variable dummy\n",
        "y_train = to_categorical(y_train_lab)\n",
        "y_test = to_categorical(y_test_lab)"
      ],
      "execution_count": null,
      "outputs": []
    },
    {
      "cell_type": "markdown",
      "metadata": {
        "id": "mEAX9kStvD62"
      },
      "source": [
        "### Explorando una sola imagen"
      ]
    },
    {
      "cell_type": "code",
      "metadata": {
        "id": "YIOnihJFvD68"
      },
      "source": [
        "n = 2\n",
        "print(y_train_lab[n])\n",
        "#print(dc_labels[y_train_lab[n]])\n",
        "#print(y_train[n])\n",
        "#print(X_train[n,:,:,:])\n",
        "#plt.imshow(X_train[n,:,:,:].reshape(28,28), cmap='gray_r')"
      ],
      "execution_count": null,
      "outputs": []
    },
    {
      "cell_type": "markdown",
      "metadata": {
        "id": "PG2Drc4QvD7W"
      },
      "source": [
        "### Validando múltiples imágenes"
      ]
    },
    {
      "cell_type": "code",
      "metadata": {
        "id": "gSlCcYdJvD7c"
      },
      "source": [
        "def plot_images_sample(X, y, predict=False):\n",
        "    # Numero de imagenes\n",
        "    n_images = 9 \n",
        "    \n",
        "    # Selección aleatoria\n",
        "    index = np.random.choice(np.arange(len(X)), size=n_images, replace = False)\n",
        "    print('Indices de selección aleatoria: {}'.format(index))\n",
        "    \n",
        "    # Extracción de imagenes a imprimir\n",
        "    X_plot = X[index, : ]\n",
        "    y_plot = y[index]\n",
        "    \n",
        "    # Creación de grilla para el gráfico\n",
        "    fig, axes = plt.subplots(3,3, \n",
        "                         figsize=(5,5),\n",
        "                         sharex=True, sharey=True,\n",
        "                         subplot_kw=dict(aspect='equal'))\n",
        "    \n",
        "    # Se imprime cada imágen en un cuadro de la grilla\n",
        "    for i, image in enumerate(X_plot):\n",
        "        row = i//3 \n",
        "        col = i%3  \n",
        "        ax = axes[row, col]\n",
        "        img_plot = np.reshape(image, (28,28))\n",
        "        ax.imshow(img_plot, cmap='gray_r')\n",
        "        if predict:\n",
        "            text = 'Predict: {}'\n",
        "        else:\n",
        "            text = 'Label: {}'\n",
        "        ax.set_title(text.format(dc_labels[y_plot[i]]))\n",
        "        ax.set_xbound([0,28])    \n",
        "    plt.tight_layout()\n",
        "    plt.show()"
      ],
      "execution_count": null,
      "outputs": []
    },
    {
      "cell_type": "code",
      "metadata": {
        "id": "TKxK14A6vD73"
      },
      "source": [
        "plot_images_sample(X_train, y_train_lab)"
      ],
      "execution_count": null,
      "outputs": []
    },
    {
      "cell_type": "markdown",
      "metadata": {
        "id": "YBBdA9r-vD8L"
      },
      "source": [
        "### Definición del modelo\n",
        "[Keras models](https://keras.io/api/models/)\n",
        "[Layer Conv2d](https://keras.io/api/layers/convolution_layers/convolution2d/)\n",
        "[Layer Averagepooling2D](https://keras.io/api/layers/pooling_layers/average_pooling2d/)"
      ]
    },
    {
      "cell_type": "code",
      "metadata": {
        "id": "AoGmleBnvD8Q"
      },
      "source": [
        "# Secuential \n",
        "model = Sequential()\n",
        "\n",
        "# Capa de convolución que no reduce dimensiones\n",
        "model.add(layers.Conv2D(filters=6, kernel_size=(5, 5), activation='relu', \n",
        "                        input_shape=(28,28,1), padding='same'))\n",
        "\n",
        "# Capa de pooling que calcula promedio y reduce dimensiones a la mitad\n",
        "model.add(layers.AveragePooling2D(pool_size=(2, 2), strides=2))\n",
        "\n",
        "# Capa de convolución que usa 16 kernels reduce dimensiones de 14x14 a 10x10\n",
        "model.add(layers.Conv2D(filters=16, kernel_size=(5, 5), activation='relu'))\n",
        "\n",
        "# Capa de pooling que calcula promedio y reduce dimensiones a la mitad\n",
        "model.add(layers.AveragePooling2D())\n",
        "\n",
        "# Aplanamiento de imagenes a un vector de 400 elementos\n",
        "model.add(layers.Flatten())\n",
        "\n",
        "# Reducción de dimensiones del vector\n",
        "model.add(layers.Dense(units=120, activation='relu'))\n",
        "model.add(layers.Dense(units=84, activation='relu'))\n",
        "\n",
        "# La capa softmax calcula la probabilidad que un elemento pertenezca a una cierta categoría\n",
        "model.add(layers.Dense(units=10, activation = 'softmax'))"
      ],
      "execution_count": null,
      "outputs": []
    },
    {
      "cell_type": "markdown",
      "metadata": {
        "id": "a_lh95s7vD8i"
      },
      "source": [
        "### Resumen del modelo"
      ]
    },
    {
      "cell_type": "code",
      "metadata": {
        "id": "bttC6spZvD8n"
      },
      "source": [
        "model.summary()"
      ],
      "execution_count": null,
      "outputs": []
    },
    {
      "cell_type": "markdown",
      "metadata": {
        "id": "lV1VSClTvD89"
      },
      "source": [
        "### Entrenamiento del modelo"
      ]
    },
    {
      "cell_type": "code",
      "metadata": {
        "id": "55jEPN15vD9B"
      },
      "source": [
        "# Se compila el modelo\n",
        "model.compile(optimizer='adam', loss='categorical_crossentropy', metrics=['accuracy'])\n",
        "\n",
        "start = dt.now()\n",
        "# Se entrena el modelo\n",
        "model.fit(X_train, y_train, validation_data=(X_test, y_test), epochs=8, batch_size=64)\n",
        "print(dt.now() - start)"
      ],
      "execution_count": null,
      "outputs": []
    },
    {
      "cell_type": "markdown",
      "metadata": {
        "id": "-ROF72wqvD9U"
      },
      "source": [
        "### Controlando el sobreajuste\n",
        "\n",
        "<img src=\"overfit.png\" alt=\"Drawing\" style=\"width: 500px;\"/>\n",
        "\n",
        "[Regularizadores Keras](https://keras.io/api/layers/regularization_layers/)"
      ]
    },
    {
      "cell_type": "markdown",
      "metadata": {
        "id": "whRznvmLvD9Y"
      },
      "source": [
        "### Haciendo predicciones con el modelo"
      ]
    },
    {
      "cell_type": "code",
      "metadata": {
        "id": "JzwxYbHfvD9d"
      },
      "source": [
        "pred = model.predict(X_test)\n",
        "pred_lab = np.array([np.argmax(x) for x in pred])\n",
        "print(pred[0])\n",
        "#print(pred_lab[0])"
      ],
      "execution_count": null,
      "outputs": []
    },
    {
      "cell_type": "markdown",
      "metadata": {
        "id": "gnVS57jbvD9x"
      },
      "source": [
        "### Visualización de las predicciones"
      ]
    },
    {
      "cell_type": "code",
      "metadata": {
        "scrolled": true,
        "id": "TBCqYcRivD93"
      },
      "source": [
        "plot_images_sample(X_test, pred_lab, predict=True)"
      ],
      "execution_count": null,
      "outputs": []
    },
    {
      "cell_type": "markdown",
      "metadata": {
        "id": "kLJ3T1zFvD-N"
      },
      "source": [
        "### Guardar modelo\n"
      ]
    },
    {
      "cell_type": "code",
      "metadata": {
        "id": "MCp46FqrvD-R"
      },
      "source": [
        "model.save('MNist_fashion_Keras.h5')"
      ],
      "execution_count": null,
      "outputs": []
    },
    {
      "cell_type": "markdown",
      "metadata": {
        "id": "XdAc-jb-vD-e"
      },
      "source": [
        "### Cargar modelo"
      ]
    },
    {
      "cell_type": "code",
      "metadata": {
        "id": "QCN82RravD-h"
      },
      "source": [
        "model_loaded = load_model('MNist_fashion_Keras.h5')\n",
        "model_loaded.summary()"
      ],
      "execution_count": null,
      "outputs": []
    },
    {
      "cell_type": "markdown",
      "metadata": {
        "id": "_eC6kKVOvD-z"
      },
      "source": [
        "### Predicciones sobre un modelo cargado"
      ]
    },
    {
      "cell_type": "code",
      "metadata": {
        "id": "n9lCb8IfvD-3"
      },
      "source": [
        "pred = model_loaded.predict(X_test)\n",
        "pred_lab = np.array([np.argmax(x) for x in pred])\n",
        "plot_images_sample(X_test, pred_lab)"
      ],
      "execution_count": null,
      "outputs": []
    }
  ]
}