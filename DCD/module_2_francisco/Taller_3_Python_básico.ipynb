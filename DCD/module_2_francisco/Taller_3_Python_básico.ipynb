{
  "nbformat": 4,
  "nbformat_minor": 0,
  "metadata": {
    "colab": {
      "name": "Taller_3_Python_básico.ipynb",
      "provenance": [],
      "include_colab_link": true
    },
    "kernelspec": {
      "name": "python3",
      "display_name": "Python 3"
    }
  },
  "cells": [
    {
      "cell_type": "markdown",
      "metadata": {
        "id": "view-in-github",
        "colab_type": "text"
      },
      "source": [
        "<a href=\"https://colab.research.google.com/github/gtzambranop/UN_2020_2/blob/DCD/DCD/module_2_francisco/Taller_3_Python_b%C3%A1sico.ipynb\" target=\"_parent\"><img src=\"https://colab.research.google.com/assets/colab-badge.svg\" alt=\"Open In Colab\"/></a>"
      ]
    },
    {
      "cell_type": "markdown",
      "metadata": {
        "id": "jYzOEI-IHVgd"
      },
      "source": [
        "### Taller III\n",
        "\n",
        "- Previos:\n",
        "    - Descargar el dataset de iris y el dataset de iris con datos faltantes (siguiente diapositiva).\n",
        "    - Cargar ambos datasets en jupyter o colab respectivamente\n",
        "- Impute el dataset de faltantes por los siguientes métodos:\n",
        "    - Media.\n",
        "    - Médiana.\n",
        "    - KNN.\n",
        "    - Mice.\n",
        "- Con el dataset completo y el de faltantes, calcule la sumatoria de las diferencias absolutas elemento a elemento para ver suál da mejores resultados (El de menor sumatoria).\n",
        "- Determine posibles outliers univariados sobre las 4 primeras columnas del dataset iris completo ppr los siguientes métodos:\n",
        "    - Basado en RI (Rango intercuartílico).\n",
        "    - Estadística Z o Z-score."
      ]
    },
    {
      "cell_type": "code",
      "metadata": {
        "id": "-KS0NY4oHNez",
        "outputId": "c448d50c-4ebf-4cff-f2a1-7bbf56e65492",
        "colab": {
          "base_uri": "https://localhost:8080/",
          "height": 104
        }
      },
      "source": [
        "# Instalación de librerías faltantes\n",
        "! pip install impyute"
      ],
      "execution_count": null,
      "outputs": [
        {
          "output_type": "stream",
          "text": [
            "Requirement already satisfied: impyute in /usr/local/lib/python3.6/dist-packages (0.0.8)\n",
            "Requirement already satisfied: scikit-learn in /usr/local/lib/python3.6/dist-packages (from impyute) (0.22.2.post1)\n",
            "Requirement already satisfied: scipy in /usr/local/lib/python3.6/dist-packages (from impyute) (1.4.1)\n",
            "Requirement already satisfied: numpy in /usr/local/lib/python3.6/dist-packages (from impyute) (1.18.5)\n",
            "Requirement already satisfied: joblib>=0.11 in /usr/local/lib/python3.6/dist-packages (from scikit-learn->impyute) (0.16.0)\n"
          ],
          "name": "stdout"
        }
      ]
    },
    {
      "cell_type": "code",
      "metadata": {
        "id": "oyHWtnADKFvf"
      },
      "source": [
        "# Carga de librerías necesarias para los ejercicios\n",
        "\n",
        "import pandas as pd\n",
        "import numpy as np\n",
        "from impyute.imputation.cs import fast_knn, mice # Se importan los dos métodos en una sola línea\n",
        "from scipy import stats # Stats es usado para calcular el Z-score"
      ],
      "execution_count": null,
      "outputs": []
    },
    {
      "cell_type": "code",
      "metadata": {
        "id": "1tTCJ8rjHeDP",
        "outputId": "f2579f0b-2518-411a-a818-ec0d16c3392f",
        "colab": {
          "base_uri": "https://localhost:8080/",
          "height": 871
        }
      },
      "source": [
        "# Descarga de conjunto de datos de la red\n",
        "! wget https://www.dropbox.com/s/wq48iaeeahwqau4/Iris_faltantes.xlsx\n",
        "! wget https://www.dropbox.com/s/xz2feavbubiu6dw/Iris.xlsx"
      ],
      "execution_count": null,
      "outputs": [
        {
          "output_type": "stream",
          "text": [
            "--2020-09-27 05:45:01--  https://www.dropbox.com/s/wq48iaeeahwqau4/Iris_faltantes.xlsx\n",
            "Resolving www.dropbox.com (www.dropbox.com)... 162.125.5.1, 2620:100:601d:1::a27d:501\n",
            "Connecting to www.dropbox.com (www.dropbox.com)|162.125.5.1|:443... connected.\n",
            "HTTP request sent, awaiting response... 301 Moved Permanently\n",
            "Location: /s/raw/wq48iaeeahwqau4/Iris_faltantes.xlsx [following]\n",
            "--2020-09-27 05:45:01--  https://www.dropbox.com/s/raw/wq48iaeeahwqau4/Iris_faltantes.xlsx\n",
            "Reusing existing connection to www.dropbox.com:443.\n",
            "HTTP request sent, awaiting response... 302 Found\n",
            "Location: https://uc4d07bfceee7f9a8b29f4bc9b0c.dl.dropboxusercontent.com/cd/0/inline/BAKBy0-IkmSN6wnRa1piql7R6UBsXoo1VI6J1tgFQWZqIHMsXwIuKe3UvOQ85okWTy7YZCpRR8TMpC2xtC1VzgSDBDN1DVGhVWhsYpleCGN506PV3yR2Oi6XBjfJNY2C7F4/file# [following]\n",
            "--2020-09-27 05:45:02--  https://uc4d07bfceee7f9a8b29f4bc9b0c.dl.dropboxusercontent.com/cd/0/inline/BAKBy0-IkmSN6wnRa1piql7R6UBsXoo1VI6J1tgFQWZqIHMsXwIuKe3UvOQ85okWTy7YZCpRR8TMpC2xtC1VzgSDBDN1DVGhVWhsYpleCGN506PV3yR2Oi6XBjfJNY2C7F4/file\n",
            "Resolving uc4d07bfceee7f9a8b29f4bc9b0c.dl.dropboxusercontent.com (uc4d07bfceee7f9a8b29f4bc9b0c.dl.dropboxusercontent.com)... 162.125.5.15, 2620:100:601d:15::a27d:50f\n",
            "Connecting to uc4d07bfceee7f9a8b29f4bc9b0c.dl.dropboxusercontent.com (uc4d07bfceee7f9a8b29f4bc9b0c.dl.dropboxusercontent.com)|162.125.5.15|:443... connected.\n",
            "HTTP request sent, awaiting response... 302 Found\n",
            "Location: /cd/0/inline2/BAJvfl3Yyc5t26jCyQm_sfVL_7IBd1vcbTMNl05NYbriKm3IUbjIbp6kIrdeIqYBLLozuypT7E9pLKMDrHiSES-3yWW0AI3ZINz-MfkIa7jttQj0jCQCfTKniYZbIjvNqKqJKRLcpb6ZYZX9W2e3tCvm9b2LFAN7qGLjakhq_8PdRu8HHR5MDTBR4uXPE0NQfTECvWtb1kTecMYpEMNGcAMMfYLZiqW13G5DYuk9NJLpBZ2mI-3sgTxo03a47eRrG5LfIYgHOCUej0kDmsK0IgeqGfs8koTwoJqJqUA3OxlmaoxMjEPYhLlIVytPRCuQUjbP9PEcqNTJaI0QK286_gh2Ns20ZbMJG-4o6xSzKuJafg/file [following]\n",
            "--2020-09-27 05:45:02--  https://uc4d07bfceee7f9a8b29f4bc9b0c.dl.dropboxusercontent.com/cd/0/inline2/BAJvfl3Yyc5t26jCyQm_sfVL_7IBd1vcbTMNl05NYbriKm3IUbjIbp6kIrdeIqYBLLozuypT7E9pLKMDrHiSES-3yWW0AI3ZINz-MfkIa7jttQj0jCQCfTKniYZbIjvNqKqJKRLcpb6ZYZX9W2e3tCvm9b2LFAN7qGLjakhq_8PdRu8HHR5MDTBR4uXPE0NQfTECvWtb1kTecMYpEMNGcAMMfYLZiqW13G5DYuk9NJLpBZ2mI-3sgTxo03a47eRrG5LfIYgHOCUej0kDmsK0IgeqGfs8koTwoJqJqUA3OxlmaoxMjEPYhLlIVytPRCuQUjbP9PEcqNTJaI0QK286_gh2Ns20ZbMJG-4o6xSzKuJafg/file\n",
            "Reusing existing connection to uc4d07bfceee7f9a8b29f4bc9b0c.dl.dropboxusercontent.com:443.\n",
            "HTTP request sent, awaiting response... 200 OK\n",
            "Length: 8632 (8.4K) [application/vnd.openxmlformats-officedocument.spreadsheetml.sheet]\n",
            "Saving to: ‘Iris_faltantes.xlsx.7’\n",
            "\n",
            "Iris_faltantes.xlsx 100%[===================>]   8.43K  --.-KB/s    in 0s      \n",
            "\n",
            "2020-09-27 05:45:03 (207 MB/s) - ‘Iris_faltantes.xlsx.7’ saved [8632/8632]\n",
            "\n",
            "--2020-09-27 05:45:03--  https://www.dropbox.com/s/xz2feavbubiu6dw/Iris.xlsx\n",
            "Resolving www.dropbox.com (www.dropbox.com)... 162.125.5.1, 2620:100:601d:1::a27d:501\n",
            "Connecting to www.dropbox.com (www.dropbox.com)|162.125.5.1|:443... connected.\n",
            "HTTP request sent, awaiting response... 301 Moved Permanently\n",
            "Location: /s/raw/xz2feavbubiu6dw/Iris.xlsx [following]\n",
            "--2020-09-27 05:45:03--  https://www.dropbox.com/s/raw/xz2feavbubiu6dw/Iris.xlsx\n",
            "Reusing existing connection to www.dropbox.com:443.\n",
            "HTTP request sent, awaiting response... 302 Found\n",
            "Location: https://uc02399c94cc5f891f2ee53365a6.dl.dropboxusercontent.com/cd/0/inline/BAJden3PgQHJ8HZ4mowJEL3Hdov1Zo-7o_bLiDweREsfsVXZuO5JL02DsztIiQOuVpR4ot9UEqIeE97vV_x6gOtVPiLuW4J4IKL5RjpfbmxTimyjUR4JFMac_scgz6Q5KXY/file# [following]\n",
            "--2020-09-27 05:45:03--  https://uc02399c94cc5f891f2ee53365a6.dl.dropboxusercontent.com/cd/0/inline/BAJden3PgQHJ8HZ4mowJEL3Hdov1Zo-7o_bLiDweREsfsVXZuO5JL02DsztIiQOuVpR4ot9UEqIeE97vV_x6gOtVPiLuW4J4IKL5RjpfbmxTimyjUR4JFMac_scgz6Q5KXY/file\n",
            "Resolving uc02399c94cc5f891f2ee53365a6.dl.dropboxusercontent.com (uc02399c94cc5f891f2ee53365a6.dl.dropboxusercontent.com)... 162.125.5.15, 2620:100:601d:15::a27d:50f\n",
            "Connecting to uc02399c94cc5f891f2ee53365a6.dl.dropboxusercontent.com (uc02399c94cc5f891f2ee53365a6.dl.dropboxusercontent.com)|162.125.5.15|:443... connected.\n",
            "HTTP request sent, awaiting response... 302 Found\n",
            "Location: /cd/0/inline2/BALgFg63cIycencuBKCuE_7eOLga1cFOisRSuc605jTbWwlUYOkoqSJp4xOxnkPQeou9OqcNloO4BT9Q8v-ZTigX8ro_eVtZGSKRCdSei-e7CBUWJcAfiHXqB-2M18cbdgUW11osQPSsiUFcMvxQCK4oALo5WGmhHQ6qyJObretdfpa4fEAfLOqE2054aWiMdWYj9txevhziK9suEgVKLFaqK5sGkCChqGR4UtEX95j3Vv3iv_fHRpH8S9JHvkjTD-Ogo2RvUoEuvvCBXl5i4sa0EosZcTkvTe2RtqBHdly5KZgZrvr2TlvBupTJeDCLjkWplk22K2B9oh2cZHvurD7eaA2NAb3v3bL6eavO-tsQPg/file [following]\n",
            "--2020-09-27 05:45:04--  https://uc02399c94cc5f891f2ee53365a6.dl.dropboxusercontent.com/cd/0/inline2/BALgFg63cIycencuBKCuE_7eOLga1cFOisRSuc605jTbWwlUYOkoqSJp4xOxnkPQeou9OqcNloO4BT9Q8v-ZTigX8ro_eVtZGSKRCdSei-e7CBUWJcAfiHXqB-2M18cbdgUW11osQPSsiUFcMvxQCK4oALo5WGmhHQ6qyJObretdfpa4fEAfLOqE2054aWiMdWYj9txevhziK9suEgVKLFaqK5sGkCChqGR4UtEX95j3Vv3iv_fHRpH8S9JHvkjTD-Ogo2RvUoEuvvCBXl5i4sa0EosZcTkvTe2RtqBHdly5KZgZrvr2TlvBupTJeDCLjkWplk22K2B9oh2cZHvurD7eaA2NAb3v3bL6eavO-tsQPg/file\n",
            "Reusing existing connection to uc02399c94cc5f891f2ee53365a6.dl.dropboxusercontent.com:443.\n",
            "HTTP request sent, awaiting response... 200 OK\n",
            "Length: 8725 (8.5K) [application/vnd.openxmlformats-officedocument.spreadsheetml.sheet]\n",
            "Saving to: ‘Iris.xlsx.7’\n",
            "\n",
            "Iris.xlsx.7         100%[===================>]   8.52K  --.-KB/s    in 0s      \n",
            "\n",
            "2020-09-27 05:45:04 (198 MB/s) - ‘Iris.xlsx.7’ saved [8725/8725]\n",
            "\n"
          ],
          "name": "stdout"
        }
      ]
    },
    {
      "cell_type": "code",
      "metadata": {
        "id": "sZGTy5YzJ5qc"
      },
      "source": [
        "# Carga de conjunto de datos en notebook\n",
        "\n",
        "df_iris = pd.read_excel('Iris.xlsx')\n",
        "df_iris_faltantes = pd.read_excel('Iris_faltantes.xlsx')"
      ],
      "execution_count": null,
      "outputs": []
    },
    {
      "cell_type": "code",
      "metadata": {
        "id": "5el95it7NP4w",
        "outputId": "04dbb2b0-e47a-498a-abca-dddc3e59fa51",
        "colab": {
          "base_uri": "https://localhost:8080/",
          "height": 206
        }
      },
      "source": [
        "# Una vista previa del conjunto de datos \n",
        "\n",
        "df_iris_faltantes.head()"
      ],
      "execution_count": null,
      "outputs": [
        {
          "output_type": "execute_result",
          "data": {
            "text/html": [
              "<div>\n",
              "<style scoped>\n",
              "    .dataframe tbody tr th:only-of-type {\n",
              "        vertical-align: middle;\n",
              "    }\n",
              "\n",
              "    .dataframe tbody tr th {\n",
              "        vertical-align: top;\n",
              "    }\n",
              "\n",
              "    .dataframe thead th {\n",
              "        text-align: right;\n",
              "    }\n",
              "</style>\n",
              "<table border=\"1\" class=\"dataframe\">\n",
              "  <thead>\n",
              "    <tr style=\"text-align: right;\">\n",
              "      <th></th>\n",
              "      <th>sepal_length</th>\n",
              "      <th>sepal_width</th>\n",
              "      <th>petal_length</th>\n",
              "      <th>petal_width</th>\n",
              "      <th>class</th>\n",
              "    </tr>\n",
              "  </thead>\n",
              "  <tbody>\n",
              "    <tr>\n",
              "      <th>0</th>\n",
              "      <td>5.1</td>\n",
              "      <td>3.5</td>\n",
              "      <td>1.4</td>\n",
              "      <td>0.2</td>\n",
              "      <td>Iris-setosa</td>\n",
              "    </tr>\n",
              "    <tr>\n",
              "      <th>1</th>\n",
              "      <td>4.9</td>\n",
              "      <td>3.0</td>\n",
              "      <td>NaN</td>\n",
              "      <td>0.2</td>\n",
              "      <td>Iris-setosa</td>\n",
              "    </tr>\n",
              "    <tr>\n",
              "      <th>2</th>\n",
              "      <td>4.7</td>\n",
              "      <td>3.2</td>\n",
              "      <td>1.3</td>\n",
              "      <td>0.2</td>\n",
              "      <td>Iris-setosa</td>\n",
              "    </tr>\n",
              "    <tr>\n",
              "      <th>3</th>\n",
              "      <td>4.6</td>\n",
              "      <td>3.1</td>\n",
              "      <td>1.5</td>\n",
              "      <td>0.2</td>\n",
              "      <td>Iris-setosa</td>\n",
              "    </tr>\n",
              "    <tr>\n",
              "      <th>4</th>\n",
              "      <td>5.0</td>\n",
              "      <td>3.6</td>\n",
              "      <td>1.4</td>\n",
              "      <td>NaN</td>\n",
              "      <td>Iris-setosa</td>\n",
              "    </tr>\n",
              "  </tbody>\n",
              "</table>\n",
              "</div>"
            ],
            "text/plain": [
              "   sepal_length  sepal_width  petal_length  petal_width        class\n",
              "0           5.1          3.5           1.4          0.2  Iris-setosa\n",
              "1           4.9          3.0           NaN          0.2  Iris-setosa\n",
              "2           4.7          3.2           1.3          0.2  Iris-setosa\n",
              "3           4.6          3.1           1.5          0.2  Iris-setosa\n",
              "4           5.0          3.6           1.4          NaN  Iris-setosa"
            ]
          },
          "metadata": {
            "tags": []
          },
          "execution_count": 5
        }
      ]
    },
    {
      "cell_type": "markdown",
      "metadata": {
        "id": "NcYxlRGJK7Y0"
      },
      "source": [
        "## Ejercicio 1\n",
        "\n",
        "- Impute el dataset de faltantes por los siguientes métodos:\n",
        "    - Media.\n",
        "    - Mediana.\n",
        "    - KNN.\n",
        "    - Mice.\n",
        "- Con el dataset completo y el de faltantes, calcule la sumatoria de las diferencias absolutas elemento a elemento para ver suál da mejores resultados (El de menor sumatoria)."
      ]
    },
    {
      "cell_type": "markdown",
      "metadata": {
        "id": "WxPj4zQzfCai"
      },
      "source": [
        "### Versión 1 (manual)"
      ]
    },
    {
      "cell_type": "code",
      "metadata": {
        "id": "T1S3LI1ce9II"
      },
      "source": [
        "# Imputación por la media\n",
        "df_iris_mean = df_iris_faltantes.copy()\n",
        "dc_mean = df_iris_mean.mean().to_dict()\n",
        "df_iris_mean = df_iris_mean.fillna(dc_mean)\n",
        "\n",
        "# Imputación por la mediana\n",
        "df_iris_median = df_iris_faltantes.copy()\n",
        "dc_median = df_iris_median.mean().to_dict()\n",
        "df_iris_median = df_iris_median.fillna(dc_median)\n",
        "\n",
        "# Extracción de solo las variables númericas (esto se usa para los métodos KNN y mice)\n",
        "df_iris_numeric = df_iris_faltantes[df_iris_faltantes.columns[0:4]]\n",
        "\n",
        "# Imputación por KNN\n",
        "df_iris_knn = fast_knn(df_iris_numeric.values, k=10) \n",
        "df_iris_knn = pd.DataFrame(df_iris_knn)\n",
        "# Se añade la columna clase previamente removida\n",
        "df_iris_knn = pd.concat([df_iris_knn, df_iris_faltantes['class']], axis=1)\n",
        "df_iris_knn.columns=df_iris_faltantes.columns\n",
        "\n",
        "# Imputación por MICE\n",
        "df_iris_mice = mice(df_iris_numeric.values) \n",
        "df_iris_mice = pd.DataFrame(df_iris_mice)\n",
        "# Se añade la columna clase previamente removida\n",
        "df_iris_mice = pd.concat([df_iris_mice, df_iris_faltantes['class']], axis=1)\n",
        "df_iris_mice.columns=df_iris_faltantes.columns"
      ],
      "execution_count": null,
      "outputs": []
    },
    {
      "cell_type": "code",
      "metadata": {
        "id": "PBOxoUJThZUJ",
        "outputId": "add83617-c890-4221-ae4c-f86b6bb37581",
        "colab": {
          "base_uri": "https://localhost:8080/",
          "height": 86
        }
      },
      "source": [
        "# Se extraen solo las columnas numéricas para comparar\n",
        "iris_mean_values = df_iris_mean[df_iris_mean.columns[0:4]].values\n",
        "iris_median_values = df_iris_median[df_iris_median.columns[0:4]].values\n",
        "iris_knn_values = df_iris_knn[df_iris_knn.columns[0:4]].values\n",
        "iris_mice_values = df_iris_mice[df_iris_mice.columns[0:4]].values\n",
        "iris_values = df_iris[df_iris.columns[0:4]].values\n",
        "\n",
        "# Se calcula la suma de las firerencias absolutas\n",
        "sum_diff_mean = np.sum(np.abs(iris_mean_values -iris_values))\n",
        "sum_diff_median = np.sum(np.abs(iris_median_values -iris_values))\n",
        "sum_diff_knn = np.sum(np.abs(iris_knn_values -iris_values))\n",
        "sum_diff_mice = np.sum(np.abs(iris_mice_values -iris_values))\n",
        "\n",
        "print('La sumatoria de los valores absolutos para las diferencias con el método mean es: {}'.format(sum_diff_mean))\n",
        "print('La sumatoria de los valores absolutos para las diferencias con el método median es: {}'.format(sum_diff_median))\n",
        "print('La sumatoria de los valores absolutos para las diferencias con el método knn es: {}'.format(sum_diff_knn))\n",
        "print('La sumatoria de los valores absolutos para las diferencias con el método mice es: {}'.format(sum_diff_mice))"
      ],
      "execution_count": null,
      "outputs": [
        {
          "output_type": "stream",
          "text": [
            "La sumatoria de los valores absolutos para las diferencias con el método mean es: 47.2874556399552\n",
            "La sumatoria de los valores absolutos para las diferencias con el método median es: 47.2874556399552\n",
            "La sumatoria de los valores absolutos para las diferencias con el método knn es: 38.19359062077723\n",
            "La sumatoria de los valores absolutos para las diferencias con el método mice es: 9.502411601716826\n"
          ],
          "name": "stdout"
        }
      ]
    },
    {
      "cell_type": "code",
      "metadata": {
        "id": "1lc1rbeZLNM7"
      },
      "source": [
        "def imputation_methods(df, type_imput):\n",
        "  # Si el método de imputación es mean\n",
        "  if type_imput == 'mean':\n",
        "    dc_mean = df.mean().to_dict()\n",
        "    df_imputated = df.fillna(dc_mean)\n",
        "  # Si el método de imputación es median\n",
        "  elif type_imput == 'median':\n",
        "    dc_median = df.median().to_dict()\n",
        "    df_imputated = df.fillna(dc_median)\n",
        "\n",
        "  # Los métodos de imputación mice y knn demandan el uso de variables númericas\n",
        "  # por esto debe haber un pre procesamiento para eliminar la última columna  y\n",
        "  # posterior a la imputación restaurar dicha columna\n",
        "  elif type_imput in ('knn', 'mice'):\n",
        "\n",
        "    # Extración solo de variables númericas (cómún a mice y knn)\n",
        "    df_iris_numeric = df[df.columns[0:4]] \n",
        "    \n",
        "    # Imputación por knn\n",
        "    if type_imput == 'knn':\n",
        "      df_imputated = fast_knn(df_iris_numeric.values, k=10) \n",
        "    # Imputación por mice\n",
        "    elif type_imput == 'mice':\n",
        "      df_imputated = mice(df_iris_numeric.values, k=10) \n",
        "\n",
        "    # Transformación posterior a la imputació y restauración de la columna removida, esto aplica para mice y knn\n",
        "    # Transformar df_imputated nuevamente en dataframe\n",
        "    df_imputated = pd.DataFrame(df_imputated)\n",
        "    # Se añade la columna clase previamente removida\n",
        "    df_imputated = pd.concat([df_imputated, df['class']], axis=1)\n",
        "    df_imputated.columns=df.columns\n",
        "    \n",
        "  return df_imputated"
      ],
      "execution_count": null,
      "outputs": []
    },
    {
      "cell_type": "code",
      "metadata": {
        "id": "K3T-bynePJcH"
      },
      "source": [
        "# Lista de los tipos de imputación para iterar\n",
        "lst_type_imputations = ['mean', 'median', 'knn', 'mice']\n",
        "\n",
        "# Diccionario para almacenar los datasets imputados\n",
        "dc_imputed_datasets = {}\n",
        "\n",
        "# Se itera la lista de los métodos a imputar\n",
        "for type_imputation in lst_type_imputations:\n",
        "\n",
        "  # EL resultado de la imputación (llamado a función) se almacena en un diccionario de la forma {llave: valor}\n",
        "  # donde llave el el método usado y valor es la tabla después de la imputación\n",
        "  dc_imputed_datasets[type_imputation] = imputation_methods(df_iris_faltantes, type_imputation)"
      ],
      "execution_count": null,
      "outputs": []
    },
    {
      "cell_type": "code",
      "metadata": {
        "id": "2LPuFtS0LlHH",
        "outputId": "ce420675-c463-4953-fdd4-52d61bec1a49",
        "colab": {
          "base_uri": "https://localhost:8080/",
          "height": 86
        }
      },
      "source": [
        "# Diccionario para almacenar las diferencias\n",
        "dc_sum_diff_abs = {}\n",
        "\n",
        "# Se itera el diccionario que tiene los resultados de las imputaciones\n",
        "for type_imputation, df_imputed in dc_imputed_datasets.items():\n",
        "  # Se extraen solo las columnas numéricas para comparar\n",
        "  df_imputed_numeric = df_imputed[df_imputed.columns[0:4]]\n",
        "  df_iris_numeric = df_iris[df_iris.columns[0:4]]\n",
        "\n",
        "  # Se calcula la diferencia elemento a elemento y posteriormente se obtiene el valor absoluto\n",
        "  diff_abs = np.abs(df_imputed_numeric.values - df_iris_numeric.values)\n",
        "\n",
        "  # Se almacena la sumatoria de las diferencias en un diccionario\n",
        "  dc_sum_diff_abs[type_imputation] = np.sum(diff_abs)  \n",
        "\n",
        "dc_sum_diff_abs"
      ],
      "execution_count": null,
      "outputs": [
        {
          "output_type": "execute_result",
          "data": {
            "text/plain": [
              "{'knn': 38.19359062077723,\n",
              " 'mean': 47.2874556399552,\n",
              " 'median': 44.599999999999994,\n",
              " 'mice': 9.879595734706315}"
            ]
          },
          "metadata": {
            "tags": []
          },
          "execution_count": 10
        }
      ]
    },
    {
      "cell_type": "code",
      "metadata": {
        "id": "mRPuKBO2MSP3"
      },
      "source": [
        ""
      ],
      "execution_count": null,
      "outputs": []
    },
    {
      "cell_type": "markdown",
      "metadata": {
        "id": "QHoORkD3sB5l"
      },
      "source": [
        "- Determine posibles outliers univariados sobre las 4 primeras columnas del dataset iris completo ppr los siguientes métodos:\n",
        "    - Basado en RI (Rango intercuartílico).\n",
        "    - Estadística Z o Z-score."
      ]
    },
    {
      "cell_type": "markdown",
      "metadata": {
        "id": "x9PyCyXhuBsT"
      },
      "source": [
        "### Rango intercuartílico"
      ]
    },
    {
      "cell_type": "code",
      "metadata": {
        "id": "C9WOpHh4sCmZ",
        "outputId": "0b1a864a-87fd-4cd2-d41f-33bed125519c",
        "colab": {
          "base_uri": "https://localhost:8080/",
          "height": 34
        }
      },
      "source": [
        "ri = df_iris.quantile(.75) - df_iris.quantile(.25)\n",
        "ls = df_iris.quantile(.75)  + 1.5 * ri\n",
        "li = df_iris.quantile(.25)  - 1.5 * ri\n",
        "df_iris.columns"
      ],
      "execution_count": null,
      "outputs": [
        {
          "output_type": "execute_result",
          "data": {
            "text/plain": [
              "Index(['sepal_length', 'sepal_width', 'petal_length', 'petal_width', 'class'], dtype='object')"
            ]
          },
          "metadata": {
            "tags": []
          },
          "execution_count": 11
        }
      ]
    },
    {
      "cell_type": "code",
      "metadata": {
        "id": "JA91LIwZsOMS",
        "outputId": "43d051b0-bb89-4324-d33e-3b76e25981ad",
        "colab": {
          "base_uri": "https://localhost:8080/",
          "height": 469
        }
      },
      "source": [
        "for col in ['sepal_length', 'sepal_width', 'petal_length', 'petal_width']:\n",
        "  print('-'*80)\n",
        "  print('Los límites superior e inferior pala la columna {} son: {} y {}'.format(col, ls[col], li[col]))\n",
        "  print('El sub-dataframe con los outliers para la columna {} es el siguiente:'.format(col))\n",
        "  bool_slice = np.logical_or(df_iris[col] < li[col], df_iris[col] > ls[col])\n",
        "  print(df_iris[bool_slice])\n",
        "\n"
      ],
      "execution_count": null,
      "outputs": [
        {
          "output_type": "stream",
          "text": [
            "--------------------------------------------------------------------------------\n",
            "Los límites superior e inferior pala la columna sepal_length son: 8.350000000000001 y 3.1499999999999986\n",
            "El sub-dataframe con los outliers para la columna sepal_length es el siguiente:\n",
            "Empty DataFrame\n",
            "Columns: [sepal_length, sepal_width, petal_length, petal_width, class]\n",
            "Index: []\n",
            "--------------------------------------------------------------------------------\n",
            "Los límites superior e inferior pala la columna sepal_width son: 4.05 y 2.05\n",
            "El sub-dataframe con los outliers para la columna sepal_width es el siguiente:\n",
            "    sepal_length  sepal_width  petal_length  petal_width            class\n",
            "15           5.7          4.4           1.5          0.4      Iris-setosa\n",
            "32           5.2          4.1           1.5          0.1      Iris-setosa\n",
            "33           5.5          4.2           1.4          0.2      Iris-setosa\n",
            "60           5.0          2.0           3.5          1.0  Iris-versicolor\n",
            "--------------------------------------------------------------------------------\n",
            "Los límites superior e inferior pala la columna petal_length son: 10.349999999999998 y -3.649999999999999\n",
            "El sub-dataframe con los outliers para la columna petal_length es el siguiente:\n",
            "Empty DataFrame\n",
            "Columns: [sepal_length, sepal_width, petal_length, petal_width, class]\n",
            "Index: []\n",
            "--------------------------------------------------------------------------------\n",
            "Los límites superior e inferior pala la columna petal_width son: 4.05 y -1.95\n",
            "El sub-dataframe con los outliers para la columna petal_width es el siguiente:\n",
            "Empty DataFrame\n",
            "Columns: [sepal_length, sepal_width, petal_length, petal_width, class]\n",
            "Index: []\n"
          ],
          "name": "stdout"
        }
      ]
    },
    {
      "cell_type": "markdown",
      "metadata": {
        "id": "ePMVt818uJAL"
      },
      "source": [
        "### Z-Score"
      ]
    },
    {
      "cell_type": "code",
      "metadata": {
        "id": "ftbJRhF6uHgb",
        "outputId": "ce6770cf-e533-4313-b516-3b0f1defefa3",
        "colab": {
          "base_uri": "https://localhost:8080/",
          "height": 112
        }
      },
      "source": [
        "# Se extraen solo las columnas numéricas\n",
        "df_iris_numeric = df_iris[df_iris.columns[0:4]]\n",
        "\n",
        "# Se estandariza o se normaliza el conjunto de datos\n",
        "z_score = pd.DataFrame(stats.zscore(df_iris_numeric))\n",
        "\n",
        "# Se calcula el valor máximo de la estadística Z\n",
        "norm = stats.norm()\n",
        "max_val = norm.ppf(.995)\n",
        "#max_val = 3\n",
        "\n",
        "# Se compara el conjunto de datos estandarizados con el valo máximo creando una matriz de booleanos\n",
        "df_bool = z_score.abs() > max_val\n",
        "\n",
        "# Se muestran las filas que tengan al menos un valor superior a max_val\n",
        "df_iris_outliers = df_iris_numeric[df_bool.sum(axis=1) > 0]\n",
        "df_iris_outliers"
      ],
      "execution_count": null,
      "outputs": [
        {
          "output_type": "execute_result",
          "data": {
            "text/html": [
              "<div>\n",
              "<style scoped>\n",
              "    .dataframe tbody tr th:only-of-type {\n",
              "        vertical-align: middle;\n",
              "    }\n",
              "\n",
              "    .dataframe tbody tr th {\n",
              "        vertical-align: top;\n",
              "    }\n",
              "\n",
              "    .dataframe thead th {\n",
              "        text-align: right;\n",
              "    }\n",
              "</style>\n",
              "<table border=\"1\" class=\"dataframe\">\n",
              "  <thead>\n",
              "    <tr style=\"text-align: right;\">\n",
              "      <th></th>\n",
              "      <th>sepal_length</th>\n",
              "      <th>sepal_width</th>\n",
              "      <th>petal_length</th>\n",
              "      <th>petal_width</th>\n",
              "    </tr>\n",
              "  </thead>\n",
              "  <tbody>\n",
              "    <tr>\n",
              "      <th>15</th>\n",
              "      <td>5.7</td>\n",
              "      <td>4.4</td>\n",
              "      <td>1.5</td>\n",
              "      <td>0.4</td>\n",
              "    </tr>\n",
              "    <tr>\n",
              "      <th>33</th>\n",
              "      <td>5.5</td>\n",
              "      <td>4.2</td>\n",
              "      <td>1.4</td>\n",
              "      <td>0.2</td>\n",
              "    </tr>\n",
              "  </tbody>\n",
              "</table>\n",
              "</div>"
            ],
            "text/plain": [
              "    sepal_length  sepal_width  petal_length  petal_width\n",
              "15           5.7          4.4           1.5          0.4\n",
              "33           5.5          4.2           1.4          0.2"
            ]
          },
          "metadata": {
            "tags": []
          },
          "execution_count": 13
        }
      ]
    },
    {
      "cell_type": "code",
      "metadata": {
        "id": "LPVeDQgiweyN",
        "outputId": "41f9a611-9528-429d-e093-3e0493a9d82e",
        "colab": {
          "base_uri": "https://localhost:8080/",
          "height": 34
        }
      },
      "source": [
        "max_val"
      ],
      "execution_count": null,
      "outputs": [
        {
          "output_type": "execute_result",
          "data": {
            "text/plain": [
              "2.5758293035489004"
            ]
          },
          "metadata": {
            "tags": []
          },
          "execution_count": 14
        }
      ]
    }
  ]
}