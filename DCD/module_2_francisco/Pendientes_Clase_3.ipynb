{
  "nbformat": 4,
  "nbformat_minor": 0,
  "metadata": {
    "colab": {
      "name": "Pendientes_Clase_3.ipynb",
      "provenance": [],
      "include_colab_link": true
    },
    "kernelspec": {
      "name": "python3",
      "display_name": "Python 3"
    }
  },
  "cells": [
    {
      "cell_type": "markdown",
      "metadata": {
        "id": "view-in-github",
        "colab_type": "text"
      },
      "source": [
        "<a href=\"https://colab.research.google.com/github/gtzambranop/UN_2020_2/blob/DCD/DCD/module_2_francisco/Pendientes_Clase_3.ipynb\" target=\"_parent\"><img src=\"https://colab.research.google.com/assets/colab-badge.svg\" alt=\"Open In Colab\"/></a>"
      ]
    },
    {
      "cell_type": "markdown",
      "metadata": {
        "id": "UAvrRfDVk9UD"
      },
      "source": [
        "Ejemploe bucle while"
      ]
    },
    {
      "cell_type": "markdown",
      "metadata": {
        "id": "n_1Y7UOElHCy"
      },
      "source": [
        "Calculo de la expresión:\n",
        "\n",
        " $y=\\sum_{i=1}^{n} i$ similar a 1 + 2 + 3 +...+n\n",
        "\n",
        " Con n número natural"
      ]
    },
    {
      "cell_type": "code",
      "metadata": {
        "id": "KLPhlW2XlEwL",
        "outputId": "5f645d33-08e5-4661-e963-9aa3253b9c9b",
        "colab": {
          "base_uri": "https://localhost:8080/",
          "height": 34
        }
      },
      "source": [
        "n = 100\n",
        "\n",
        "y = 0\n",
        "i = 0\n",
        "\n",
        "while i <= 100:\n",
        "  y = y + i\n",
        "  i = i + 1\n",
        "\n",
        "y"
      ],
      "execution_count": null,
      "outputs": [
        {
          "output_type": "execute_result",
          "data": {
            "text/plain": [
              "5050"
            ]
          },
          "metadata": {
            "tags": []
          },
          "execution_count": 6
        }
      ]
    },
    {
      "cell_type": "markdown",
      "metadata": {
        "id": "l72KnLrdm-vH"
      },
      "source": [
        "Ejeplo menú"
      ]
    },
    {
      "cell_type": "code",
      "metadata": {
        "id": "c0kKl3onlCcP",
        "outputId": "f560c468-aa8e-4186-bb59-29a0aecc57fe",
        "colab": {
          "base_uri": "https://localhost:8080/",
          "height": 408
        }
      },
      "source": [
        "from datetime import *\n",
        "\n",
        "texto_seleccion = \"\"\": \n",
        "1- Imprimir hora.\n",
        "2- Imprimir fecha\n",
        "3- Salir\n",
        "\"\"\"\n",
        "\n",
        "continuar = True\n",
        "\n",
        "while continuar:\n",
        "  opcion = (input(texto_seleccion))\n",
        "  if opcion == '1':\n",
        "    print(datetime.now().time())\n",
        "  elif opcion == '2':\n",
        "    print(date.today())\n",
        "  elif opcion == '3':\n",
        "    continuar = False"
      ],
      "execution_count": null,
      "outputs": [
        {
          "output_type": "stream",
          "text": [
            ": \n",
            "1- Imprimir hora.\n",
            "2- Imprimir fecha\n",
            "3- Salir\n",
            "1\n",
            "14:30:54.167342\n",
            ": \n",
            "1- Imprimir hora.\n",
            "2- Imprimir fecha\n",
            "3- Salir\n",
            "1\n",
            "14:31:01.602758\n",
            ": \n",
            "1- Imprimir hora.\n",
            "2- Imprimir fecha\n",
            "3- Salir\n",
            "2\n",
            "2020-09-19\n",
            ": \n",
            "1- Imprimir hora.\n",
            "2- Imprimir fecha\n",
            "3- Salir\n",
            "3\n"
          ],
          "name": "stdout"
        }
      ]
    },
    {
      "cell_type": "code",
      "metadata": {
        "id": "ZakRb41Smyji"
      },
      "source": [
        "#Buscar el primer elemwnto divisible por 3 de la lista\n",
        "for i in [1,2,5,6,4,7,8,3,9]:\n",
        "  if i % 3 == 0:\n",
        "    div = i\n",
        "    break"
      ],
      "execution_count": null,
      "outputs": []
    },
    {
      "cell_type": "code",
      "metadata": {
        "id": "Y1eDJM4OygYC",
        "outputId": "1f081445-1a3a-4cf1-a66c-0f2bf24054aa",
        "colab": {
          "base_uri": "https://localhost:8080/",
          "height": 34
        }
      },
      "source": [
        "div"
      ],
      "execution_count": null,
      "outputs": [
        {
          "output_type": "execute_result",
          "data": {
            "text/plain": [
              "6"
            ]
          },
          "metadata": {
            "tags": []
          },
          "execution_count": 3
        }
      ]
    },
    {
      "cell_type": "code",
      "metadata": {
        "id": "l3hLRKanyhi-"
      },
      "source": [
        ""
      ],
      "execution_count": null,
      "outputs": []
    }
  ]
}