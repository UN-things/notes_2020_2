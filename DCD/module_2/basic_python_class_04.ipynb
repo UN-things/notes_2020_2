{
  "nbformat": 4,
  "nbformat_minor": 0,
  "metadata": {
    "colab": {
      "name": "basic_python_class_04.ipynb",
      "provenance": [],
      "collapsed_sections": [
        "kEswVZ8NEH08",
        "8trdsuRBERBs",
        "AMW_rpfoEd7N",
        "yICph4_CEi1G",
        "5WdUIc7w2HBC",
        "KXYQ6Z5tIJuG",
        "zRyGsE3HJBwk"
      ],
      "authorship_tag": "ABX9TyNIooLfCQJKjuCrareGv3yz",
      "include_colab_link": true
    },
    "kernelspec": {
      "name": "python3",
      "display_name": "Python 3"
    }
  },
  "cells": [
    {
      "cell_type": "markdown",
      "metadata": {
        "id": "view-in-github",
        "colab_type": "text"
      },
      "source": [
        "<a href=\"https://colab.research.google.com/github/gtzambranop/UN_2020_2/blob/DCD%2Fweek_4/DCD/module_2/basic_python_class_04.ipynb\" target=\"_parent\"><img src=\"https://colab.research.google.com/assets/colab-badge.svg\" alt=\"Open In Colab\"/></a>"
      ]
    },
    {
      "cell_type": "markdown",
      "metadata": {
        "id": "9NIt06jTqxUR",
        "colab_type": "text"
      },
      "source": [
        "# **\"Pyhton Básico\"**\n",
        "\n",
        "* **Profesor:** Francisco Javier Ospina Salazar\n",
        "* **Monitoras:**\n",
        "  - Diana Carolina Sanchez Perez\n",
        "  - Guiselle Tatiana Zambrano Penagos\n",
        "* **Fechas:** \n",
        "  - Inicio: 2020-09-12\n",
        "  - Final: 2020-09-29\n",
        "* [Presentacióón del curso](http://ospinafrancisco.com/)\n"
      ]
    },
    {
      "cell_type": "markdown",
      "metadata": {
        "id": "cXEAMeIKnmc6",
        "colab_type": "text"
      },
      "source": [
        "## Contenido de la clase\n",
        "\n",
        "- Objetos\n",
        "  - Clases\n",
        "    - Métodos\n",
        "    - Atributos\n",
        "  - Módulos para manipulación de datos en python\n",
        "    - Numpy\n",
        "    - Pandas\n",
        "\n"
      ]
    },
    {
      "cell_type": "markdown",
      "metadata": {
        "id": "oCtyoy1gDGZD",
        "colab_type": "text"
      },
      "source": [
        "# Clases u Objetos\n",
        "\n",
        "Los objetos son abstracciones de elementos reales o no reales que disponen de atributos y funciones que permiten interactuar con esos atributos."
      ]
    },
    {
      "cell_type": "markdown",
      "metadata": {
        "id": "bCpZaC9i2vQQ",
        "colab_type": "text"
      },
      "source": [
        "## Métodos mágicos - **Dunders**\n",
        "\n",
        "Son métodos especiales que tienen **doble guión bajo** al principio y al final de sus nombres.\n",
        "\n",
        "Un uso común de estos es la **sobrecarga de operadores**. Esto significa definir operadores para clases personalizadas que permiten que operadores tales como `+`, `and`, `*` sean utilizados en ellas"
      ]
    },
    {
      "cell_type": "markdown",
      "metadata": {
        "id": "WBY_BKxY3lBB",
        "colab_type": "text"
      },
      "source": [
        "Ejemplo de `__add__` para `+`:"
      ]
    },
    {
      "cell_type": "code",
      "metadata": {
        "id": "EFCbuFcp3q9R",
        "colab_type": "code",
        "colab": {}
      },
      "source": [
        "class Vector2D:\n",
        "  # TODOS los métodos de una clase deben tener 'self' como su primer parámetro\n",
        "  def __init__(self, x, y):\n",
        "    self.x = x;\n",
        "    self.y = y\n",
        "  \n",
        "  def __add__(self, other):\n",
        "    # Retorno una nueva instancia de la clase Vector2D donde:\n",
        "    # x = la suma del atributo x de los 2 vectores\n",
        "    # y = la suma del atributo y de los 2 vectores\n",
        "    return Vector2D((self.x + other.x), (self.y + other.y))"
      ],
      "execution_count": 124,
      "outputs": []
    },
    {
      "cell_type": "code",
      "metadata": {
        "id": "aWkvGmhE4ypW",
        "colab_type": "code",
        "colab": {
          "base_uri": "https://localhost:8080/",
          "height": 34
        },
        "outputId": "6d36c65a-714e-4d92-b34d-f78ef85aa44b"
      },
      "source": [
        "first = Vector2D(8, 9)\n",
        "second = Vector2D(2, 3)\n",
        "\n",
        "# first + second -> utilizan el método __add__ que sobrecarga el operador +\n",
        "# Es decir, se redefine el operador +\n",
        "\n",
        "# Esto se traduce a: \n",
        "#result = first.__add__(second) # DESCOMENTAR LINEA - se ejecuta con normalidad\n",
        "result = first + second\n",
        "\n",
        "# La suma retorna una instancia que es asignada a la variable 'result'\n",
        "print(type(result))\n"
      ],
      "execution_count": 125,
      "outputs": [
        {
          "output_type": "stream",
          "text": [
            "<class '__main__.Vector2D'>\n"
          ],
          "name": "stdout"
        }
      ]
    },
    {
      "cell_type": "code",
      "metadata": {
        "id": "MBjQpI4p5xek",
        "colab_type": "code",
        "colab": {
          "base_uri": "https://localhost:8080/",
          "height": 52
        },
        "outputId": "c797748d-5377-483d-a12b-eec6360a7d68"
      },
      "source": [
        "print(result.x) # 8 + 2 = 10 = first.x + second.x\n",
        "print(result.y) # 9 + 3 = 12 = first.y + second.y"
      ],
      "execution_count": 126,
      "outputs": [
        {
          "output_type": "stream",
          "text": [
            "10\n",
            "12\n"
          ],
          "name": "stdout"
        }
      ]
    },
    {
      "cell_type": "markdown",
      "metadata": {
        "id": "RwFUne3I6Lgg",
        "colab_type": "text"
      },
      "source": [
        "### Más métodos mágicos para operadores comunes\n",
        "\n",
        "- `__sub__` para `-`\n",
        "- `__mul__` para `*`\n",
        "- `__truediv__` para `/`\n",
        "- `__floordiv__` para `//`\n",
        "- `__mod__` para `%`\n",
        "- `__pow__` para `**`\n",
        "- `__and__` para `&`\n",
        "- `__xor__` para `^`\n",
        "- `__or__` para `|`\n",
        "- `__lt__` para `<`\n",
        "- `__le__` para `<=`\n",
        "- `__eq__` para `==`\n",
        "- `__ne__` para `!=`\n",
        "- `__gt__` para `>`\n",
        "- `__ge__` para `>=`\n",
        "\n",
        "Hay más métodos mágicos pero no los voy a poner todos [acá](https://www.reddit.com/r/Python/comments/br9ok2/list_of_all_python_dunder_methods/) encontré un foro donde enlistan muchos más\n"
      ]
    },
    {
      "cell_type": "code",
      "metadata": {
        "id": "GUJFUjvS7OV2",
        "colab_type": "code",
        "colab": {}
      },
      "source": [
        "# Otro ejemplo\n",
        "\n",
        "class SpecialString:\n",
        "  def __init__(self, cont):\n",
        "    self.cont = cont\n",
        "\n",
        "  # sobrecarga del operador '/'\n",
        "  def __truediv__(self, other):\n",
        "    # Multiplicamos el string \"=\" por la longitud del string other.cont\n",
        "    line = \"=\" * len(other.cont)\n",
        "    return \"\\n\".join([self.cont, line, other.cont])"
      ],
      "execution_count": 127,
      "outputs": []
    },
    {
      "cell_type": "code",
      "metadata": {
        "id": "DCxcOGGF8djA",
        "colab_type": "code",
        "colab": {
          "base_uri": "https://localhost:8080/",
          "height": 69
        },
        "outputId": "31b90561-50f8-4dda-8d33-26db5bb5b126"
      },
      "source": [
        "spam = SpecialString(\"Spam Spam :p\")\n",
        "hello = SpecialString(\"Hello World :D\")\n",
        "\n",
        "result = spam.__truediv__(hello)\n",
        "print(result)"
      ],
      "execution_count": 128,
      "outputs": [
        {
          "output_type": "stream",
          "text": [
            "Spam Spam :p\n",
            "==============\n",
            "Hello World :D\n"
          ],
          "name": "stdout"
        }
      ]
    },
    {
      "cell_type": "code",
      "metadata": {
        "id": "gmYqpZuP9KXg",
        "colab_type": "code",
        "colab": {
          "base_uri": "https://localhost:8080/",
          "height": 69
        },
        "outputId": "58026fe7-e0d7-4844-de10-074ab23abd7e"
      },
      "source": [
        "print(spam/hello)"
      ],
      "execution_count": 129,
      "outputs": [
        {
          "output_type": "stream",
          "text": [
            "Spam Spam :p\n",
            "==============\n",
            "Hello World :D\n"
          ],
          "name": "stdout"
        }
      ]
    },
    {
      "cell_type": "markdown",
      "metadata": {
        "id": "DzkVggHSDTaa",
        "colab_type": "text"
      },
      "source": [
        "### Cómo construir clases\n",
        "* Debe haber una definición de la clase\n",
        "* Debe haber un método **init** cuya función es la de inicializar los atributos de la clase\n",
        "* Para referirse a los elementos (atributos o funciones) de la clase utilizamos el la entencia \"self.\"\n",
        "* Nota: Es importante tener claridad sobre la \"notación punto\""
      ]
    },
    {
      "cell_type": "markdown",
      "metadata": {
        "id": "Bjqz5X3rDyMK",
        "colab_type": "text"
      },
      "source": [
        "#### Ejemplo con clase tiempo\n",
        "* Version 0: Clase nula\n",
        "* Version 1: Clase simple\n",
        "* Version 2: Validando horas correctas\n",
        "* Version 3: Dando formato para poder visualizar con la función str\n",
        "* Version 4: Clase completa vista en clase"
      ]
    },
    {
      "cell_type": "markdown",
      "metadata": {
        "id": "kEswVZ8NEH08",
        "colab_type": "text"
      },
      "source": [
        "##### Version 0: Clase *nula*"
      ]
    },
    {
      "cell_type": "code",
      "metadata": {
        "id": "N65pJfh5C8Fk",
        "colab_type": "code",
        "colab": {}
      },
      "source": [
        "# Version 0 Clase nula\n",
        "class Tiempo():\n",
        "    pass"
      ],
      "execution_count": 130,
      "outputs": []
    },
    {
      "cell_type": "code",
      "metadata": {
        "id": "lV0xTHUpIbeO",
        "colab_type": "code",
        "colab": {}
      },
      "source": [
        "t1 = Tiempo()"
      ],
      "execution_count": 131,
      "outputs": []
    },
    {
      "cell_type": "markdown",
      "metadata": {
        "id": "8trdsuRBERBs",
        "colab_type": "text"
      },
      "source": [
        "##### Version 1: Clase simple"
      ]
    },
    {
      "cell_type": "code",
      "metadata": {
        "id": "VyoiO3kgIfBi",
        "colab_type": "code",
        "colab": {
          "base_uri": "https://localhost:8080/",
          "height": 0
        },
        "outputId": "31ffe18c-813c-4de5-d2eb-c1a8d47cf3ea"
      },
      "source": [
        "class Tiempo():\n",
        "  def __init__(self, hora = 0, minuto = 0, segundo = 0):\n",
        "    # Definicion e inicialización de atributos de un objeto de la clase tiempo\n",
        "    self.hora = hora\n",
        "    self.minuto = minuto\n",
        "    self.segundo = segundo\n",
        "\n",
        "\n",
        "t1 = Tiempo(19, 22, 35)\n",
        "print(t1.hora, t1.minuto, t1.segundo)"
      ],
      "execution_count": 132,
      "outputs": [
        {
          "output_type": "stream",
          "text": [
            "19 22 35\n"
          ],
          "name": "stdout"
        }
      ]
    },
    {
      "cell_type": "markdown",
      "metadata": {
        "id": "AMW_rpfoEd7N",
        "colab_type": "text"
      },
      "source": [
        "##### Version 2: Validando horas correctas"
      ]
    },
    {
      "cell_type": "code",
      "metadata": {
        "id": "P5Im9_MTKexy",
        "colab_type": "code",
        "colab": {
          "base_uri": "https://localhost:8080/",
          "height": 0
        },
        "outputId": "dc979faf-e4f8-40cd-e961-21c4087d7900"
      },
      "source": [
        "class Tiempo():\n",
        "  def __init__(self, hora=0, minuto=0, segundo=0):\n",
        "        self.hora = 0 if hora < 0 or hora > 23 else hora\n",
        "        self.minuto = 0 if minuto < 0 or minuto > 59 else minuto\n",
        "        self.segundo = 0 if segundo < 0 or segundo > 59 else segundo\n",
        "        \n",
        "\n",
        "t1 = Tiempo(-19, 22, 399)\n",
        "print(\"{}:{}:{}\".format(t1.hora, t1.minuto, t1.segundo))\n"
      ],
      "execution_count": 133,
      "outputs": [
        {
          "output_type": "stream",
          "text": [
            "0:22:0\n"
          ],
          "name": "stdout"
        }
      ]
    },
    {
      "cell_type": "code",
      "metadata": {
        "id": "0wPoXb2jLN04",
        "colab_type": "code",
        "colab": {
          "base_uri": "https://localhost:8080/",
          "height": 0
        },
        "outputId": "ec0ac61c-1634-4cbc-c01a-3eab0d23c977"
      },
      "source": [
        "t1 = Tiempo(19, 32, 39)\n",
        "print(\"{}:{}:{}\".format(t1.hora, t1.minuto, t1.segundo))"
      ],
      "execution_count": 134,
      "outputs": [
        {
          "output_type": "stream",
          "text": [
            "19:32:39\n"
          ],
          "name": "stdout"
        }
      ]
    },
    {
      "cell_type": "markdown",
      "metadata": {
        "id": "yICph4_CEi1G",
        "colab_type": "text"
      },
      "source": [
        "##### Version 3: Dando formato para poder visualizar con la función str\n"
      ]
    },
    {
      "cell_type": "code",
      "metadata": {
        "id": "jAJF21CAMBvs",
        "colab_type": "code",
        "colab": {}
      },
      "source": [
        "class Tiempo():\n",
        "  def __init__(self, hora=0, minuto=0, segundo=0):\n",
        "        self.hora = 0 if hora < 0 or hora > 23 else hora\n",
        "        self.minuto = 0 if minuto < 0 or minuto > 59 else minuto\n",
        "        self.segundo = 0 if segundo < 0 or segundo > 59 else segundo\n",
        "        \n",
        "  # Método invocado al hacer uso de la función print de python          \n",
        "  def __str__(self):\n",
        "      hora_str = str(self.hora) if self.hora > 9 else '0' + str(self.hora)\n",
        "      minuto_str = str(self.minuto) if self.minuto > 9 else '0' + str(self.minuto)\n",
        "      segundo_str = str(self.segundo) if self.segundo > 9 else '0' + str(self.segundo)\n",
        "      return '{}:{}:{}'.format(hora_str, minuto_str, segundo_str)"
      ],
      "execution_count": 135,
      "outputs": []
    },
    {
      "cell_type": "code",
      "metadata": {
        "id": "1DDtIWRVMxf9",
        "colab_type": "code",
        "colab": {
          "base_uri": "https://localhost:8080/",
          "height": 0
        },
        "outputId": "66fdbbb3-68e1-4650-99e1-cad24ea70bd7"
      },
      "source": [
        "t1 = Tiempo(19, 32, 39)\n",
        "print(t1)\n"
      ],
      "execution_count": 136,
      "outputs": [
        {
          "output_type": "stream",
          "text": [
            "19:32:39\n"
          ],
          "name": "stdout"
        }
      ]
    },
    {
      "cell_type": "markdown",
      "metadata": {
        "id": "5WdUIc7w2HBC",
        "colab_type": "text"
      },
      "source": [
        "#### Versióón 4: Clase completa vista en clase"
      ]
    },
    {
      "cell_type": "code",
      "metadata": {
        "id": "cuQ9tFju1ElT",
        "colab_type": "code",
        "colab": {}
      },
      "source": [
        "\n",
        "class tiempo(): # Nombre de la clase\n",
        "    \n",
        "    def __init__(self, hora=0, minuto=0, segundo=0):\n",
        "        # Definición de paramétros internos de la clase\n",
        "        \n",
        "        self.hora = 0 if hora < 0 or hora > 23 else hora\n",
        "        self.minuto = 0 if minuto < 0 or minuto > 59 else minuto\n",
        "        self.segundo = 0 if segundo < 0 or segundo > 59 else segundo\n",
        "        \n",
        "    # Metodo que recibe los parametros hora, minuto y segundo y los suma a mi clase tiempo actual\n",
        "    def suma_hms(self, hora=0, minuto=0, segundo=0):\n",
        "        self.segundo = self.segundo + segundo\n",
        "        if self.segundo > 59: # Si segundo supera 60 se transforman 60 segundos a minuto\n",
        "            self.segundo = self.segundo % 60\n",
        "            self.minuto = self.minuto + 1\n",
        "        self.minuto = self.minuto + minuto\n",
        "        if self.minuto > 59: # Si segundo supera 60 se transforman 60 segundos a minuto\n",
        "            self.minuto = self.minuto % 60\n",
        "            self.hora = self.hora + 1\n",
        "        self.hora = self.hora + hora # Si hora supera 24 quiere decir que ya pasó un día y se pasó al siguiente\n",
        "        if self.hora > 23:\n",
        "            self.hora = self.hora % 24\n",
        "            \n",
        "    # A pesar de no haber sido definido el atributo franja al inicio de la clase se puede crear posteriormente\n",
        "    def set_franja_horaria(self):\n",
        "        if self.hora < 12: \n",
        "            self.franja = 'mañana'\n",
        "        elif self.hora >= 12 and self.hora < 19:\n",
        "            self.franja = 'tarde'\n",
        "        else:\n",
        "            self.franja = 'noche'\n",
        "    \n",
        "    # Un método de una clase puede invocar a otros métodos\n",
        "    def suma_tiempo(self, t2):\n",
        "        self.suma_hms(hora=t2.hora, minuto=t2.minuto, segundo=t2.segundo)\n",
        "        self.set_franja_horaria()\n",
        "        \n",
        "    # Uso de el operador + para hacer una suma de tiempos\n",
        "    # Esto tiene un nombre en programación y es sobrecarga del operador +\n",
        "    def __add__(self, t2):\n",
        "        temp = tiempo(hora=self.hora, minuto=self.minuto, segundo=self.segundo)\n",
        "        temp.suma_tiempo(t2)\n",
        "        return temp\n",
        "    \n",
        "    # Método invocado al hacer uso de la función print de python          \n",
        "    def __str__(self):\n",
        "        hora_str = str(self.hora) if self.hora > 9 else '0' + str(self.hora)\n",
        "        minuto_str = str(self.minuto) if self.minuto > 9 else '0' + str(self.minuto)\n",
        "        segundo_str = str(self.segundo) if self.segundo > 9 else '0' + str(self.segundo)\n",
        "        return '{}:{}:{}'.format(hora_str, minuto_str, segundo_str)"
      ],
      "execution_count": 137,
      "outputs": []
    },
    {
      "cell_type": "markdown",
      "metadata": {
        "id": "ScgeuphGF9jq",
        "colab_type": "text"
      },
      "source": [
        "## Herencia en Clases\n"
      ]
    },
    {
      "cell_type": "markdown",
      "metadata": {
        "id": "EfbQOP2zAxR5",
        "colab_type": "text"
      },
      "source": [
        "La Herencia brinda una manera de compartir funcionalidades entre clases.\n",
        "\n",
        "Una clase que hereda de otra clase se le llama **Subclase**.\n",
        "\n",
        "Una clase de la cual se hereda se llama **Superclase**."
      ]
    },
    {
      "cell_type": "code",
      "metadata": {
        "id": "k2cH5C-RGFSD",
        "colab_type": "code",
        "colab": {}
      },
      "source": [
        "class punto_2d():\n",
        "    def __init__(self, x, y):\n",
        "        self.x = x\n",
        "        self.y = y\n",
        "    \n",
        "    # Sobrescritura para el método print de python\n",
        "    def __str__(self):\n",
        "        return '({},{})'.format(self.x, self.y)"
      ],
      "execution_count": 138,
      "outputs": []
    },
    {
      "cell_type": "code",
      "metadata": {
        "id": "m9ljbFgwGN_q",
        "colab_type": "code",
        "colab": {
          "base_uri": "https://localhost:8080/",
          "height": 34
        },
        "outputId": "aa440c14-ef86-4a8b-b8a9-475dc6386668"
      },
      "source": [
        "punto1 = punto_2d(2,5)\n",
        "print(punto1)"
      ],
      "execution_count": 139,
      "outputs": [
        {
          "output_type": "stream",
          "text": [
            "(2,5)\n"
          ],
          "name": "stdout"
        }
      ]
    },
    {
      "cell_type": "code",
      "metadata": {
        "id": "S7MSVJgXGXZ_",
        "colab_type": "code",
        "colab": {}
      },
      "source": [
        "class punto_3d():    \n",
        "    def __init__(self, x, y, z):\n",
        "        self.p2d = punto_2d(x,y)\n",
        "        self.z = z\n",
        "    \n",
        "    def __str__(self):\n",
        "        return '({},{},{})'.format(self.p2d.x, self.p2d.y, self.z)"
      ],
      "execution_count": 140,
      "outputs": []
    },
    {
      "cell_type": "code",
      "metadata": {
        "id": "fLmnYcMsGdNo",
        "colab_type": "code",
        "colab": {
          "base_uri": "https://localhost:8080/",
          "height": 34
        },
        "outputId": "d1fe4154-ac85-479c-df92-1c15e81bc270"
      },
      "source": [
        "punto2 = punto_3d(2,5,8)\n",
        "print(punto2)"
      ],
      "execution_count": 141,
      "outputs": [
        {
          "output_type": "stream",
          "text": [
            "(2,5,8)\n"
          ],
          "name": "stdout"
        }
      ]
    },
    {
      "cell_type": "markdown",
      "metadata": {
        "id": "P8s90KquAokU",
        "colab_type": "text"
      },
      "source": [
        "### Otro ejemplo de Herencia de clases"
      ]
    },
    {
      "cell_type": "code",
      "metadata": {
        "id": "LWTcPph7Ankw",
        "colab_type": "code",
        "colab": {}
      },
      "source": [
        "class Animal:\n",
        "  def __init__(self, name, color):\n",
        "    self.name = name\n",
        "    self.color = color\n",
        "\n",
        "# Indico que la clase Cat hereda de la clase Animal\n",
        "# Por lo tanto la clase Cat hereda los atributos name y color\n",
        "class Cat(Animal):\n",
        "  def purr(self):\n",
        "    print(\"Purr :3\")\n",
        "\n",
        "# Indico que la clase Dog hereda de la clase Animal\n",
        "# Por lo tanto la clase Cat hereda los atributos name y color\n",
        "class Dog(Animal):\n",
        "  def bark(self):\n",
        "    print(\"Woof! :p\")"
      ],
      "execution_count": 142,
      "outputs": []
    },
    {
      "cell_type": "code",
      "metadata": {
        "id": "m56FvLR5B18R",
        "colab_type": "code",
        "colab": {
          "base_uri": "https://localhost:8080/",
          "height": 52
        },
        "outputId": "01c14379-e852-44e5-9c1b-c5682ae55b60"
      },
      "source": [
        "# Al instanciar un objeto de la clase Dog, ingreso los atributos\n",
        "# name y color que fueron heredados de la clase Animal\n",
        "fido = Dog(\"Fido\", \"Brown\")\n",
        "\n",
        "# Accedo a un atributo de un objeto usando\n",
        "# nombre_objeto.nombre_atributo\n",
        "print(fido.color)\n",
        "\n",
        "# Accedo a un método de un objeto usando\n",
        "# nombre_objeto.nombre_metodo() -> NO olvidar los parentesis al final\n",
        "fido.bark()"
      ],
      "execution_count": 143,
      "outputs": [
        {
          "output_type": "stream",
          "text": [
            "Brown\n",
            "Woof! :p\n"
          ],
          "name": "stdout"
        }
      ]
    },
    {
      "cell_type": "code",
      "metadata": {
        "id": "hfP8Ftu5CC3T",
        "colab_type": "code",
        "colab": {
          "base_uri": "https://localhost:8080/",
          "height": 52
        },
        "outputId": "2f11b199-f4b2-4209-fb3a-5b91430e1e13"
      },
      "source": [
        "# Al instanciar un objeto de la clase Cat, ingreso los atributos\n",
        "# name y color que fueron heredados de la clase Animal\n",
        "luna = Cat(\"Luna\", \"Black and Gray\")\n",
        "\n",
        "# Accedo a un atributo de un objeto usando\n",
        "# nombre_objeto.nombre_atributo\n",
        "print(luna.name)\n",
        "\n",
        "# Accedo a un método de un objeto usando\n",
        "# nombre_objeto.nombre_metodo() -> NO olvidar los parentesis al final\n",
        "luna.purr()"
      ],
      "execution_count": 144,
      "outputs": [
        {
          "output_type": "stream",
          "text": [
            "Luna\n",
            "Purr :3\n"
          ],
          "name": "stdout"
        }
      ]
    },
    {
      "cell_type": "markdown",
      "metadata": {
        "id": "eWSb3qvICpyu",
        "colab_type": "text"
      },
      "source": [
        "Si una clase hereda de otra con los mismos atributos o métodos, los sobrescribe."
      ]
    },
    {
      "cell_type": "code",
      "metadata": {
        "id": "Bb1IYpEEC1Au",
        "colab_type": "code",
        "colab": {}
      },
      "source": [
        "class Wolf:\n",
        "  def __init__(self, name, color):\n",
        "    self.name = name\n",
        "    self.color = color\n",
        "  \n",
        "  def bark(self):\n",
        "    print(\"Grrr... >:v\")\n",
        "\n",
        "class Dog(Wolf):\n",
        "  # Acá sobrescribo el método bark que fué heredado de la clase Wolf\n",
        "  def bark(self):\n",
        "    # Ya no va a imprimir \"Grrr... >:v\" sino \"Woof :p\"\n",
        "    print(\"Woof :p\")"
      ],
      "execution_count": 145,
      "outputs": []
    },
    {
      "cell_type": "code",
      "metadata": {
        "id": "whgAgtHBEHgc",
        "colab_type": "code",
        "colab": {
          "base_uri": "https://localhost:8080/",
          "height": 34
        },
        "outputId": "ab82cebf-9ae1-4e5b-b083-aa8d05bc3968"
      },
      "source": [
        "max = Wolf(\"Max\", \"Grey\")\n",
        "max.bark()"
      ],
      "execution_count": 146,
      "outputs": [
        {
          "output_type": "stream",
          "text": [
            "Grrr... >:v\n"
          ],
          "name": "stdout"
        }
      ]
    },
    {
      "cell_type": "code",
      "metadata": {
        "id": "gm2mCkDXEVl3",
        "colab_type": "code",
        "colab": {
          "base_uri": "https://localhost:8080/",
          "height": 34
        },
        "outputId": "a6130f50-3945-4695-ae0c-4445aecf87c8"
      },
      "source": [
        "jack = Dog(\"Jack\", \"Black\")\n",
        "jack.bark()"
      ],
      "execution_count": 147,
      "outputs": [
        {
          "output_type": "stream",
          "text": [
            "Woof :p\n"
          ],
          "name": "stdout"
        }
      ]
    },
    {
      "cell_type": "markdown",
      "metadata": {
        "id": "qDZbkn0QFfE5",
        "colab_type": "text"
      },
      "source": [
        "## Ocultamiento de Información\n",
        "\n",
        "Un componente clave en la programación orientada a objetos es el **encapsulamiento**, que involucra empaquetar las variables y funciones relacionadas en un único objeto fácil de usar.\n",
        "\n",
        "Un concepto asociado es el **ocultamiento de información**, el cual dicta que los **detalles** de implementación de una clase deben estar ocultos y que sean presentados a aquellos que quieran utilizar la clase en una interfaz estandar limpia.\n",
        "\n",
        "En python, no hay maneras de imponer que un método o atributo sea estrictamente privado. \n",
        "\n",
        "Se asume que no se forzará el acceso a estos atributos, también se usa esta convensión para evitar errores en caso de qu[texto del enlace](https://)e existan subclases que tengan métodos o atributos con los mismos nombres"
      ]
    },
    {
      "cell_type": "markdown",
      "metadata": {
        "id": "J52upZnAMOEj",
        "colab_type": "text"
      },
      "source": [
        "### Métodos devilmente tipados"
      ]
    },
    {
      "cell_type": "markdown",
      "metadata": {
        "id": "gab7eIR1H_wK",
        "colab_type": "text"
      },
      "source": [
        "Los métodos y atributos débilmente privados tienen un **único guión bajo** al principio.\n",
        "\n",
        "Esto señala que son privados, y no deberían ser utilizados por código externo. Sin embargo, es en su mayor parte una convensión, y no impide que el código externo los acceda.\n",
        "\n",
        "Su único efecto verdadero es que `from module_name import *` no importará a las variables que empiecen con un único guion bajo."
      ]
    },
    {
      "cell_type": "code",
      "metadata": {
        "id": "1grE_nESHVcw",
        "colab_type": "code",
        "colab": {}
      },
      "source": [
        "class Person:\n",
        "  def __init__(self, name, last_name, age, document):\n",
        "    self.name = name\n",
        "    self.last_name = last_name\n",
        "    self.age = age\n",
        "    # Defino un atributo privado\n",
        "    self._document = document\n",
        "    \n",
        "    # Al atributo full_name se le asigna el resultado \n",
        "    # de la función _create_full_name\n",
        "    # para llamarlo se debe usar la palabra reservada self, así:\n",
        "    # self._create_full_name\n",
        "    self.full_name = self._create_full_name()\n",
        "\n",
        "  # Defino un método privado\n",
        "  def _create_full_name(self):\n",
        "    return \"{} {}\".format(self.name, self.last_name)"
      ],
      "execution_count": 148,
      "outputs": []
    },
    {
      "cell_type": "code",
      "metadata": {
        "id": "bkVvfJHRKSCb",
        "colab_type": "code",
        "colab": {
          "base_uri": "https://localhost:8080/",
          "height": 34
        },
        "outputId": "89f17448-bdb1-4346-c3a3-6ae05d9ac492"
      },
      "source": [
        "tatiana = Person(\"Tatiana\", \"Zambrano\", \"95\", \"123456789\")\n",
        "# Accedo a un atributo no privado\n",
        "print(tatiana.full_name)"
      ],
      "execution_count": 149,
      "outputs": [
        {
          "output_type": "stream",
          "text": [
            "Tatiana Zambrano\n"
          ],
          "name": "stdout"
        }
      ]
    },
    {
      "cell_type": "code",
      "metadata": {
        "id": "jFWED-7gK6vk",
        "colab_type": "code",
        "colab": {
          "base_uri": "https://localhost:8080/",
          "height": 34
        },
        "outputId": "d6cd1cf3-3604-4c7c-b74c-689215f531d8"
      },
      "source": [
        "# Aunque estéé marcado como privado, este método puede ser accedido\n",
        "# por código externo\n",
        "print(tatiana._create_full_name())"
      ],
      "execution_count": 150,
      "outputs": [
        {
          "output_type": "stream",
          "text": [
            "Tatiana Zambrano\n"
          ],
          "name": "stdout"
        }
      ]
    },
    {
      "cell_type": "code",
      "metadata": {
        "id": "JTyj7yn-MajW",
        "colab_type": "code",
        "colab": {
          "base_uri": "https://localhost:8080/",
          "height": 34
        },
        "outputId": "783ff24f-302b-4f8e-9ed1-f87d4d1a919f"
      },
      "source": [
        "print(tatiana._document)"
      ],
      "execution_count": 151,
      "outputs": [
        {
          "output_type": "stream",
          "text": [
            "123456789\n"
          ],
          "name": "stdout"
        }
      ]
    },
    {
      "cell_type": "markdown",
      "metadata": {
        "id": "rCXBjvgDMgj2",
        "colab_type": "text"
      },
      "source": [
        "### Métodos fuertemente tipados"
      ]
    },
    {
      "cell_type": "markdown",
      "metadata": {
        "id": "H062uFeUMmzg",
        "colab_type": "text"
      },
      "source": [
        "Tienen **doble guion bajo** al principio de sus nombres. Esto hace que sus nombres sean decorados, lo cual significa que no pueden ser accedidos desde afuera de la clase de manera convencional.\n",
        "\n",
        "Estos métodos o atributos pueden ser accedidos con un nombre diferente:\n",
        "\n",
        "```python\n",
        "# inicia con 1 guion bajo\n",
        "# entre el nombre de la clase y el atributo o método van 2 guiones bajos\n",
        "_NombreClase__atributo\n",
        "_NombreClase__metodo\n",
        "```"
      ]
    },
    {
      "cell_type": "code",
      "metadata": {
        "colab_type": "code",
        "id": "oSpPIJZzOFXi",
        "colab": {}
      },
      "source": [
        "class Person:\n",
        "  def __init__(self, name, last_name, age, document):\n",
        "    self.name = name\n",
        "    self.last_name = last_name\n",
        "    self.age = age\n",
        "    # Defino un atributo privado\n",
        "    self.__document = document\n",
        "\n",
        "    # Al atributo full_name se le asigna el resultado \n",
        "    # de la función _create_full_name\n",
        "    # para llamarlo se debe usar la palabra reservada self, así:\n",
        "    # self._create_full_name\n",
        "    self.full_name = self.__create_full_name()\n",
        "\n",
        "  # Defino un método privado\n",
        "  def __create_full_name(self):\n",
        "    return \"{} {}\".format(self.name, self.last_name)"
      ],
      "execution_count": 152,
      "outputs": []
    },
    {
      "cell_type": "code",
      "metadata": {
        "id": "AbQ92i61OJln",
        "colab_type": "code",
        "colab": {
          "base_uri": "https://localhost:8080/",
          "height": 34
        },
        "outputId": "89c26d26-09dd-47a9-fa7c-b257462179d1"
      },
      "source": [
        "diana = Person(\"Diana\", \"Sanchez\", \"20\", \"987654321\")\n",
        "print(diana.full_name)"
      ],
      "execution_count": 153,
      "outputs": [
        {
          "output_type": "stream",
          "text": [
            "Diana Sanchez\n"
          ],
          "name": "stdout"
        }
      ]
    },
    {
      "cell_type": "code",
      "metadata": {
        "id": "cboLvnPGOlnf",
        "colab_type": "code",
        "colab": {}
      },
      "source": [
        "#print(diana.__create_full_name) # ERROR"
      ],
      "execution_count": 154,
      "outputs": []
    },
    {
      "cell_type": "code",
      "metadata": {
        "id": "of7ocUg_Ovzw",
        "colab_type": "code",
        "colab": {
          "base_uri": "https://localhost:8080/",
          "height": 34
        },
        "outputId": "eb26069e-3306-4d15-e834-2528392ee7e2"
      },
      "source": [
        "# diana._NombreClase__Atributo\n",
        "print(diana._Person__document)"
      ],
      "execution_count": 155,
      "outputs": [
        {
          "output_type": "stream",
          "text": [
            "987654321\n"
          ],
          "name": "stdout"
        }
      ]
    },
    {
      "cell_type": "code",
      "metadata": {
        "id": "20TkALXuPc2d",
        "colab_type": "code",
        "colab": {
          "base_uri": "https://localhost:8080/",
          "height": 34
        },
        "outputId": "93e8330a-cc3b-424b-84d6-f27ba4bf20b4"
      },
      "source": [
        "# NO olviden los parentesis después del nombre del método\n",
        "# diana._NombreClase__Método()\n",
        "print(diana._Person__create_full_name())"
      ],
      "execution_count": 156,
      "outputs": [
        {
          "output_type": "stream",
          "text": [
            "Diana Sanchez\n"
          ],
          "name": "stdout"
        }
      ]
    },
    {
      "cell_type": "markdown",
      "metadata": {
        "id": "wngpaqtrGnbk",
        "colab_type": "text"
      },
      "source": [
        "# Módulos Numpy y Pandas"
      ]
    },
    {
      "cell_type": "markdown",
      "metadata": {
        "id": "KXYQ6Z5tIJuG",
        "colab_type": "text"
      },
      "source": [
        "## Numpy\n",
        "\n",
        "Numpy es el módulo fundamental para la computación científica con Python.\n",
        "\n",
        "* Matrices multidimensionales\n",
        "* Herramientas avanzadas para algebra líneal\n",
        "* Funciones para trabajar con número aleatorios\n",
        "* Su nucleo de procesamiento por debajo de Python está escrito en Fortran y C++"
      ]
    },
    {
      "cell_type": "markdown",
      "metadata": {
        "id": "7sfRK_siIfYU",
        "colab_type": "text"
      },
      "source": [
        "### Carga de módulo de Numpy"
      ]
    },
    {
      "cell_type": "code",
      "metadata": {
        "id": "4eypCa6TIh4N",
        "colab_type": "code",
        "colab": {}
      },
      "source": [
        "import numpy as np"
      ],
      "execution_count": 157,
      "outputs": []
    },
    {
      "cell_type": "markdown",
      "metadata": {
        "id": "Urh-57JFIpRV",
        "colab_type": "text"
      },
      "source": [
        "### Tipos de datos en Numpy\n",
        "\n",
        "* Data type Description\n",
        "* bool_ Boolean (True or False) stored as a byte\n",
        "* int_ Default integer type (same as C long; normally either int64 or - int32)\n",
        "* intc Identical to C int (normally int32 or int64)\n",
        "* intp Integer used for indexing (same as C ssize_t; normally either - int32 or int64)\n",
        "* int8 Byte (-128 to 127)\n",
        "* int16 Integer (-32768 to 32767)\n",
        "* int32 Integer (-2147483648 to 2147483647)\n",
        "* int64 Integer (-9223372036854775808 to 9223372036854775807)\n",
        "* uint8 Unsigned integer (0 to 255)\n",
        "* uint16 Unsigned integer (0 to 65535)\n",
        "* uint32 Unsigned integer (0 to 4294967295)\n",
        "* uint64 Unsigned integer (0 to 18446744073709551615)\n",
        "* float_ Shorthand for float64.\n",
        "* float16 Half precision float: sign bit, 5 bits exponent, 10 bits - - mantissa\n",
        "* float32 Single precision float: sign bit, 8 bits exponent, 23 bits - mantissa\n",
        "* float64 Double precision float: sign bit, 11 bits exponent, 52 - - bits mantissa\n",
        "* complex_ Shorthand for complex128.\n",
        "* complex64 Complex number, represented by two 32-bit floats\n",
        "* complex128 Complex number, represented by two 64-bit floats"
      ]
    },
    {
      "cell_type": "markdown",
      "metadata": {
        "id": "zRyGsE3HJBwk",
        "colab_type": "text"
      },
      "source": [
        "### Creación de Arrays en Numpy"
      ]
    },
    {
      "cell_type": "code",
      "metadata": {
        "id": "eHoAwGJsJM5G",
        "colab_type": "code",
        "colab": {
          "base_uri": "https://localhost:8080/",
          "height": 0
        },
        "outputId": "8f478942-5440-4b07-bc0d-3e62ea324da6"
      },
      "source": [
        "a = np.array([1, 2, 3, 4, 5, 6])   \n",
        "\n",
        "print(a)\n",
        "print(type(a))           \n",
        "print(a.shape) "
      ],
      "execution_count": 158,
      "outputs": [
        {
          "output_type": "stream",
          "text": [
            "[1 2 3 4 5 6]\n",
            "<class 'numpy.ndarray'>\n",
            "(6,)\n"
          ],
          "name": "stdout"
        }
      ]
    },
    {
      "cell_type": "code",
      "metadata": {
        "id": "DWuHW1M8JNff",
        "colab_type": "code",
        "colab": {
          "base_uri": "https://localhost:8080/",
          "height": 0
        },
        "outputId": "d0a136fe-92a1-4268-f18f-600dd6d01fff"
      },
      "source": [
        "a = np.array([0, 1, 2, 3, 4, 5, 6], dtype=np.float64)   \n",
        "\n",
        "print(a)\n",
        "print(type(a))\n",
        "# Imprimir el atributo shape        \n",
        "print(a.shape)  "
      ],
      "execution_count": 159,
      "outputs": [
        {
          "output_type": "stream",
          "text": [
            "[0. 1. 2. 3. 4. 5. 6.]\n",
            "<class 'numpy.ndarray'>\n",
            "(7,)\n"
          ],
          "name": "stdout"
        }
      ]
    },
    {
      "cell_type": "markdown",
      "metadata": {
        "id": "WhfID5kbJZXe",
        "colab_type": "text"
      },
      "source": [
        "#### Creación de arrays especiales\n",
        "* Arrays con ceros\n",
        "* Arrays con unos\n",
        "* Arrays con constante\n",
        "* Matriz identidad\n",
        "* Arrays con números aleatorios"
      ]
    },
    {
      "cell_type": "markdown",
      "metadata": {
        "id": "GKqCN2hxKKNy",
        "colab_type": "text"
      },
      "source": [
        "##### Arrays con ceros"
      ]
    },
    {
      "cell_type": "code",
      "metadata": {
        "id": "wS0sdvFbJQkA",
        "colab_type": "code",
        "colab": {
          "base_uri": "https://localhost:8080/",
          "height": 0
        },
        "outputId": "fa519e05-4dda-46f8-ca46-369522dee86a"
      },
      "source": [
        "a = np.zeros((5,3))   \n",
        "\n",
        "print(a)\n",
        "print(a.shape)"
      ],
      "execution_count": 160,
      "outputs": [
        {
          "output_type": "stream",
          "text": [
            "[[0. 0. 0.]\n",
            " [0. 0. 0.]\n",
            " [0. 0. 0.]\n",
            " [0. 0. 0.]\n",
            " [0. 0. 0.]]\n",
            "(5, 3)\n"
          ],
          "name": "stdout"
        }
      ]
    },
    {
      "cell_type": "code",
      "metadata": {
        "id": "f0S9U0vXL7LI",
        "colab_type": "code",
        "colab": {
          "base_uri": "https://localhost:8080/",
          "height": 0
        },
        "outputId": "11fb7f9f-d39d-462f-b7b7-e3a291adb8b0"
      },
      "source": [
        "a = np.zeros(shape=(4,3,2,1))   \n",
        "\n",
        "print(a)\n",
        "print(a.shape)"
      ],
      "execution_count": 161,
      "outputs": [
        {
          "output_type": "stream",
          "text": [
            "[[[[0.]\n",
            "   [0.]]\n",
            "\n",
            "  [[0.]\n",
            "   [0.]]\n",
            "\n",
            "  [[0.]\n",
            "   [0.]]]\n",
            "\n",
            "\n",
            " [[[0.]\n",
            "   [0.]]\n",
            "\n",
            "  [[0.]\n",
            "   [0.]]\n",
            "\n",
            "  [[0.]\n",
            "   [0.]]]\n",
            "\n",
            "\n",
            " [[[0.]\n",
            "   [0.]]\n",
            "\n",
            "  [[0.]\n",
            "   [0.]]\n",
            "\n",
            "  [[0.]\n",
            "   [0.]]]\n",
            "\n",
            "\n",
            " [[[0.]\n",
            "   [0.]]\n",
            "\n",
            "  [[0.]\n",
            "   [0.]]\n",
            "\n",
            "  [[0.]\n",
            "   [0.]]]]\n",
            "(4, 3, 2, 1)\n"
          ],
          "name": "stdout"
        }
      ]
    },
    {
      "cell_type": "markdown",
      "metadata": {
        "id": "9JDTJHLiKRYm",
        "colab_type": "text"
      },
      "source": [
        "##### Arrays con unos"
      ]
    },
    {
      "cell_type": "code",
      "metadata": {
        "id": "PFIc5HAQJpPC",
        "colab_type": "code",
        "colab": {
          "base_uri": "https://localhost:8080/",
          "height": 0
        },
        "outputId": "55c92da4-db82-41da-f76a-31a9bb2555dd"
      },
      "source": [
        "a = np.ones((2,7))    \n",
        "\n",
        "print(a)  "
      ],
      "execution_count": 162,
      "outputs": [
        {
          "output_type": "stream",
          "text": [
            "[[1. 1. 1. 1. 1. 1. 1.]\n",
            " [1. 1. 1. 1. 1. 1. 1.]]\n"
          ],
          "name": "stdout"
        }
      ]
    },
    {
      "cell_type": "markdown",
      "metadata": {
        "id": "VtihrLwrKXpt",
        "colab_type": "text"
      },
      "source": [
        "##### Arrays con constante"
      ]
    },
    {
      "cell_type": "code",
      "metadata": {
        "id": "EkiCvrOtJtyC",
        "colab_type": "code",
        "colab": {
          "base_uri": "https://localhost:8080/",
          "height": 0
        },
        "outputId": "ccd61e5e-3f5f-43f2-830d-34dd1e457715"
      },
      "source": [
        "a = np.full((4,4), 8)  \n",
        "\n",
        "print(a)     "
      ],
      "execution_count": 163,
      "outputs": [
        {
          "output_type": "stream",
          "text": [
            "[[8 8 8 8]\n",
            " [8 8 8 8]\n",
            " [8 8 8 8]\n",
            " [8 8 8 8]]\n"
          ],
          "name": "stdout"
        }
      ]
    },
    {
      "cell_type": "markdown",
      "metadata": {
        "id": "QpjZoWC2KdvZ",
        "colab_type": "text"
      },
      "source": [
        "##### Matriz identidad"
      ]
    },
    {
      "cell_type": "code",
      "metadata": {
        "id": "39UYUtgpJ5Iq",
        "colab_type": "code",
        "colab": {
          "base_uri": "https://localhost:8080/",
          "height": 0
        },
        "outputId": "df111226-7a60-47cd-a5df-1342abf45576"
      },
      "source": [
        "a = np.eye(5)         \n",
        "\n",
        "print(a) "
      ],
      "execution_count": 164,
      "outputs": [
        {
          "output_type": "stream",
          "text": [
            "[[1. 0. 0. 0. 0.]\n",
            " [0. 1. 0. 0. 0.]\n",
            " [0. 0. 1. 0. 0.]\n",
            " [0. 0. 0. 1. 0.]\n",
            " [0. 0. 0. 0. 1.]]\n"
          ],
          "name": "stdout"
        }
      ]
    },
    {
      "cell_type": "markdown",
      "metadata": {
        "id": "4buBIKbBKijW",
        "colab_type": "text"
      },
      "source": [
        "##### Arrays con números aleatorios"
      ]
    },
    {
      "cell_type": "code",
      "metadata": {
        "id": "jwiCZkiUJ7u_",
        "colab_type": "code",
        "colab": {
          "base_uri": "https://localhost:8080/",
          "height": 0
        },
        "outputId": "c66319b0-6197-4077-ba35-177511d1e3b5"
      },
      "source": [
        "a = np.random.random((2,3,2))  \n",
        "print(a) "
      ],
      "execution_count": 165,
      "outputs": [
        {
          "output_type": "stream",
          "text": [
            "[[[0.54013431 0.3546081 ]\n",
            "  [0.46495058 0.61581664]\n",
            "  [0.27932342 0.50488062]]\n",
            "\n",
            " [[0.72120962 0.62323896]\n",
            "  [0.77154504 0.80721113]\n",
            "  [0.36879577 0.8255511 ]]]\n"
          ],
          "name": "stdout"
        }
      ]
    },
    {
      "cell_type": "markdown",
      "metadata": {
        "id": "vwSuEAhIObsS",
        "colab_type": "text"
      },
      "source": [
        "#### Indexamiento de arrays de numpy\n",
        "\n",
        "* Accediendo a elementos por indice\n",
        "* Accediendo a elementos por slice"
      ]
    },
    {
      "cell_type": "markdown",
      "metadata": {
        "id": "QpEZvYrFOhZB",
        "colab_type": "text"
      },
      "source": [
        "##### Accediendo a elementos por indice"
      ]
    },
    {
      "cell_type": "code",
      "metadata": {
        "id": "LUb2WNN1Ogv6",
        "colab_type": "code",
        "colab": {
          "base_uri": "https://localhost:8080/",
          "height": 0
        },
        "outputId": "f6b5a197-60fe-4851-d96d-447ba2333b3d"
      },
      "source": [
        "a = np.array([[1,2,3,4], [5,6,7,8], [9,10,11,12]])\n",
        "\n",
        "print(a)\n",
        "\n",
        "#print(a[1])\n",
        "\n",
        "#print(a[2][3])\n",
        "\n",
        "#print(a[2,3])"
      ],
      "execution_count": 166,
      "outputs": [
        {
          "output_type": "stream",
          "text": [
            "[[ 1  2  3  4]\n",
            " [ 5  6  7  8]\n",
            " [ 9 10 11 12]]\n"
          ],
          "name": "stdout"
        }
      ]
    },
    {
      "cell_type": "markdown",
      "metadata": {
        "id": "zpzAwe_5O1Jz",
        "colab_type": "text"
      },
      "source": [
        "##### Accediendo a elementos por slice"
      ]
    },
    {
      "cell_type": "code",
      "metadata": {
        "id": "LLoCyLbEO6_V",
        "colab_type": "code",
        "colab": {
          "base_uri": "https://localhost:8080/",
          "height": 0
        },
        "outputId": "fd0d58dd-4dd1-483a-cf2b-f907e8287d8a"
      },
      "source": [
        "a = np.array([[1,2,3,4], [5,6,7,8], [9,10,11,12]])\n",
        "\n",
        "print(a)\n",
        "\n",
        "# Primeras 2 filas\n",
        "print(a[:2])\n",
        "\n",
        "# Ultimas 2 columnas de las 2 primeras filas\n",
        "print(a[:2,-2:])\n",
        "\n",
        "# Ultimas 3 columnas de las 2 primeras filas\n",
        "print(a[:2,-3:])\n",
        "\n",
        "print(a[::-1, ::-1])"
      ],
      "execution_count": 167,
      "outputs": [
        {
          "output_type": "stream",
          "text": [
            "[[ 1  2  3  4]\n",
            " [ 5  6  7  8]\n",
            " [ 9 10 11 12]]\n",
            "[[1 2 3 4]\n",
            " [5 6 7 8]]\n",
            "[[3 4]\n",
            " [7 8]]\n",
            "[[2 3 4]\n",
            " [6 7 8]]\n",
            "[[12 11 10  9]\n",
            " [ 8  7  6  5]\n",
            " [ 4  3  2  1]]\n"
          ],
          "name": "stdout"
        }
      ]
    },
    {
      "cell_type": "code",
      "metadata": {
        "id": "5ZC2r70ZQJRJ",
        "colab_type": "code",
        "colab": {
          "base_uri": "https://localhost:8080/",
          "height": 0
        },
        "outputId": "edb28e21-bbfe-4cb5-d9c9-c5bb8973fcc2"
      },
      "source": [
        "a = np.array([[1,2,3,4], [5,6,7,8], [9,10,11,12]])\n",
        "\n",
        "row_r1 = a[1]    \n",
        "row_r2 = a[1:2]  \n",
        "\n",
        "print(row_r1, row_r1.shape)  \n",
        "print(row_r2, row_r2.shape)"
      ],
      "execution_count": 168,
      "outputs": [
        {
          "output_type": "stream",
          "text": [
            "[5 6 7 8] (4,)\n",
            "[[5 6 7 8]] (1, 4)\n"
          ],
          "name": "stdout"
        }
      ]
    },
    {
      "cell_type": "markdown",
      "metadata": {
        "id": "Xvuq_oABQML6",
        "colab_type": "text"
      },
      "source": [
        "#### Broadcasting con arrays de Numpy\n",
        "\n",
        "El broadcasting es coger una operación aritmetica y replicarla a lo largo de un array de numpy"
      ]
    },
    {
      "cell_type": "code",
      "metadata": {
        "id": "z8BDnVD-QJ_z",
        "colab_type": "code",
        "colab": {
          "base_uri": "https://localhost:8080/",
          "height": 0
        },
        "outputId": "7f9ee18a-e1f9-45b9-a1dc-80ed7b90ee00"
      },
      "source": [
        "a = np.arange(10)\n",
        "a = a.reshape((2,5))\n",
        "\n",
        "b = a + 10\n",
        "\n",
        "print(a)\n",
        "print(b)"
      ],
      "execution_count": 169,
      "outputs": [
        {
          "output_type": "stream",
          "text": [
            "[[0 1 2 3 4]\n",
            " [5 6 7 8 9]]\n",
            "[[10 11 12 13 14]\n",
            " [15 16 17 18 19]]\n"
          ],
          "name": "stdout"
        }
      ]
    },
    {
      "cell_type": "markdown",
      "metadata": {
        "id": "TecSidKyQg9i",
        "colab_type": "text"
      },
      "source": [
        "#### Operaciones por columna o por fila"
      ]
    },
    {
      "cell_type": "code",
      "metadata": {
        "id": "DA6EnXhdQgby",
        "colab_type": "code",
        "colab": {
          "base_uri": "https://localhost:8080/",
          "height": 0
        },
        "outputId": "2181748c-3140-4978-f837-4d1fd471ee6a"
      },
      "source": [
        "a = np.arange(12)\n",
        "a = a.reshape((3,4))\n",
        "\n",
        "print(a)\n",
        "\n",
        "# 0 + 1 + 2 + ... + 11\n",
        "print(np.sum(a)) \n",
        "print(np.sum(a, axis=0))  \n",
        "print(np.sum(a, axis=1))"
      ],
      "execution_count": 170,
      "outputs": [
        {
          "output_type": "stream",
          "text": [
            "[[ 0  1  2  3]\n",
            " [ 4  5  6  7]\n",
            " [ 8  9 10 11]]\n",
            "66\n",
            "[12 15 18 21]\n",
            "[ 6 22 38]\n"
          ],
          "name": "stdout"
        }
      ]
    },
    {
      "cell_type": "markdown",
      "metadata": {
        "id": "y5aRuM6vRRU2",
        "colab_type": "text"
      },
      "source": [
        "#### Operaciones matriciales elemento a elemento"
      ]
    },
    {
      "cell_type": "code",
      "metadata": {
        "id": "oRHz9jFFRUER",
        "colab_type": "code",
        "colab": {
          "base_uri": "https://localhost:8080/",
          "height": 0
        },
        "outputId": "29abd76e-a441-4f1f-b535-f1c1b42cf403"
      },
      "source": [
        "a = np.arange(4)\n",
        "a = a.reshape(2,2)\n",
        "\n",
        "b = np.arange(10,14)\n",
        "b = b.reshape(2,2)\n",
        "\n",
        "print(a)\n",
        "\n",
        "print(b)\n",
        "\n",
        "print(a / b)"
      ],
      "execution_count": 171,
      "outputs": [
        {
          "output_type": "stream",
          "text": [
            "[[0 1]\n",
            " [2 3]]\n",
            "[[10 11]\n",
            " [12 13]]\n",
            "[[0.         0.09090909]\n",
            " [0.16666667 0.23076923]]\n"
          ],
          "name": "stdout"
        }
      ]
    },
    {
      "cell_type": "markdown",
      "metadata": {
        "id": "mJTMSAjdRWfp",
        "colab_type": "text"
      },
      "source": [
        "#### Indexado Booleano"
      ]
    },
    {
      "cell_type": "code",
      "metadata": {
        "id": "IZHBI7cfRb2Z",
        "colab_type": "code",
        "colab": {
          "base_uri": "https://localhost:8080/",
          "height": 0
        },
        "outputId": "169c3b7b-94b6-4b78-9194-de0e9768d3e3"
      },
      "source": [
        "a = np.arange(16)\n",
        "b = np.random.choice(a, 16)\n",
        "b = b.reshape(4, 4)\n",
        "\n",
        "matriz_logica = b < 8\n",
        "\n",
        "c = b.copy()\n",
        "c[matriz_logica] = -1\n",
        "\n",
        "\n",
        "print(b,'\\n')\n",
        "print(matriz_logica,'\\n')\n",
        "\n",
        "# Imprimir objetos menores a 8 de la matriz b\n",
        "print(b[matriz_logica],'\\n')\n",
        "\n",
        "print(b, '\\n')\n",
        "\n",
        "print(c)"
      ],
      "execution_count": 172,
      "outputs": [
        {
          "output_type": "stream",
          "text": [
            "[[ 4  8  0 12]\n",
            " [10 15  8  5]\n",
            " [ 0 10  1  5]\n",
            " [ 3  4  1  7]] \n",
            "\n",
            "[[ True False  True False]\n",
            " [False False False  True]\n",
            " [ True False  True  True]\n",
            " [ True  True  True  True]] \n",
            "\n",
            "[4 0 5 0 1 5 3 4 1 7] \n",
            "\n",
            "[[ 4  8  0 12]\n",
            " [10 15  8  5]\n",
            " [ 0 10  1  5]\n",
            " [ 3  4  1  7]] \n",
            "\n",
            "[[-1  8 -1 12]\n",
            " [10 15  8 -1]\n",
            " [-1 10 -1 -1]\n",
            " [-1 -1 -1 -1]]\n"
          ],
          "name": "stdout"
        }
      ]
    },
    {
      "cell_type": "markdown",
      "metadata": {
        "id": "a4WWodNcSh-r",
        "colab_type": "text"
      },
      "source": [
        "## Pandas\n",
        "pandas es una biblioteca de código abierto con licencia BSD que proporciona estructuras de datos y herramientas de análisis de datos de alto rendimiento; fáciles de usar para el lenguaje de programación Python."
      ]
    },
    {
      "cell_type": "markdown",
      "metadata": {
        "id": "ihOCK5dfSoXR",
        "colab_type": "text"
      },
      "source": [
        "### Carga de módulo de Pandas"
      ]
    },
    {
      "cell_type": "code",
      "metadata": {
        "id": "M5Lfi4WDRue3",
        "colab_type": "code",
        "colab": {}
      },
      "source": [
        "import pandas as pd"
      ],
      "execution_count": 173,
      "outputs": []
    },
    {
      "cell_type": "markdown",
      "metadata": {
        "id": "nMTqb8MMStLj",
        "colab_type": "text"
      },
      "source": [
        "### Estructuras de datos en Pandas\n",
        "\n",
        "* Series\n",
        "* Dataframes"
      ]
    },
    {
      "cell_type": "markdown",
      "metadata": {
        "id": "zkDp_c_9Szx7",
        "colab_type": "text"
      },
      "source": [
        "#### Series\n",
        "\n",
        "Una serie es un array unidimensional (con tipos de datos de numpy), cada uno de sus elementos está etiquetado. Las etiqueta se llaman índices."
      ]
    },
    {
      "cell_type": "markdown",
      "metadata": {
        "id": "7gSJol0iS6Ad",
        "colab_type": "text"
      },
      "source": [
        "##### Creación de una serie"
      ]
    },
    {
      "cell_type": "code",
      "metadata": {
        "id": "WzlrpAm2SrbT",
        "colab_type": "code",
        "colab": {
          "base_uri": "https://localhost:8080/",
          "height": 156
        },
        "outputId": "de618834-c5b8-4323-977f-0452314c65de"
      },
      "source": [
        "# Ejemplo\n",
        "\n",
        "'''\n",
        " La primera columna inicia desde 0 por defecto y la segunda columna es poblada\n",
        " con los valores especificados en la lista\n",
        "'''\n",
        "serie1 = pd.Series([1,2,3,4,5,6])\n",
        "print(serie1)\n",
        "print(type(serie1))"
      ],
      "execution_count": 174,
      "outputs": [
        {
          "output_type": "stream",
          "text": [
            "0    1\n",
            "1    2\n",
            "2    3\n",
            "3    4\n",
            "4    5\n",
            "5    6\n",
            "dtype: int64\n",
            "<class 'pandas.core.series.Series'>\n"
          ],
          "name": "stdout"
        }
      ]
    },
    {
      "cell_type": "markdown",
      "metadata": {
        "id": "sCHjEQsOTBGt",
        "colab_type": "text"
      },
      "source": [
        "##### Acceder a elementos e índices de una serie"
      ]
    },
    {
      "cell_type": "code",
      "metadata": {
        "id": "RMmPGriwTDK8",
        "colab_type": "code",
        "colab": {
          "base_uri": "https://localhost:8080/",
          "height": 34
        },
        "outputId": "e718c84c-e499-44ed-9bed-bc76b08a1a20"
      },
      "source": [
        "# Obtener valores\n",
        "serie1.values\n",
        "\n",
        "# Obtener índices\n",
        "serie1.index\n",
        "list(serie1.index)"
      ],
      "execution_count": 175,
      "outputs": [
        {
          "output_type": "execute_result",
          "data": {
            "text/plain": [
              "[0, 1, 2, 3, 4, 5]"
            ]
          },
          "metadata": {
            "tags": []
          },
          "execution_count": 175
        }
      ]
    },
    {
      "cell_type": "code",
      "metadata": {
        "id": "C0BGpuA2TQ7m",
        "colab_type": "code",
        "colab": {
          "base_uri": "https://localhost:8080/",
          "height": 139
        },
        "outputId": "9f610dc6-d87d-4a3c-f094-422388f406da"
      },
      "source": [
        "# Ejemplo de serie con index personalizados\n",
        "\n",
        "serie1 = pd.Series([1,2,3,4,5,6], index=['a', 'b', 'c', 'd', 'e', 'f'])\n",
        "print(serie1)"
      ],
      "execution_count": 176,
      "outputs": [
        {
          "output_type": "stream",
          "text": [
            "a    1\n",
            "b    2\n",
            "c    3\n",
            "d    4\n",
            "e    5\n",
            "f    6\n",
            "dtype: int64\n"
          ],
          "name": "stdout"
        }
      ]
    },
    {
      "cell_type": "markdown",
      "metadata": {
        "id": "FfZCjexcUB_q",
        "colab_type": "text"
      },
      "source": [
        "##### Transformar un diccionario en una serie\n"
      ]
    },
    {
      "cell_type": "code",
      "metadata": {
        "id": "HpPnbD9PUHjb",
        "colab_type": "code",
        "colab": {
          "base_uri": "https://localhost:8080/",
          "height": 86
        },
        "outputId": "00b5dffa-b4ea-4635-d743-1b00895b5bac"
      },
      "source": [
        "# Ejemplo de una Serie construida desde un diccionario\n",
        "\n",
        "dic = {0: 'a', 1: 'b', 2: 'c'}\n",
        "pd.Series(dic)"
      ],
      "execution_count": 177,
      "outputs": [
        {
          "output_type": "execute_result",
          "data": {
            "text/plain": [
              "0    a\n",
              "1    b\n",
              "2    c\n",
              "dtype: object"
            ]
          },
          "metadata": {
            "tags": []
          },
          "execution_count": 177
        }
      ]
    },
    {
      "cell_type": "markdown",
      "metadata": {
        "id": "CBA9ennsUc9J",
        "colab_type": "text"
      },
      "source": [
        "##### Opeaciones con series\n",
        "\n",
        "* Broadcasting\n",
        "* indexado booleano"
      ]
    },
    {
      "cell_type": "code",
      "metadata": {
        "id": "5y39ZyFUUcZR",
        "colab_type": "code",
        "colab": {
          "base_uri": "https://localhost:8080/",
          "height": 868
        },
        "outputId": "bd728437-125c-4a09-e244-1aeb9b5e8276"
      },
      "source": [
        "# Ejemplo\n",
        "import string\n",
        "print(string.ascii_letters, '\\n')\n",
        "index = list(string.ascii_letters)[:10]\n",
        "\n",
        "serie1 = pd.Series(np.arange(10), index=index)\n",
        "print(serie1, '\\n')\n",
        "\n",
        "# Broadcasting\n",
        "serie2 = serie1 * 3\n",
        "print(serie2, '\\n')\n",
        "\n",
        "serie3 = np.sqrt(serie1)\n",
        "print(serie3, '\\n')\n",
        "\n",
        "# Indexado booleano\n",
        "serie4 = serie1[serie1 >= 5]\n",
        "print(serie4, '\\n')\n",
        "\n",
        "# Ejemplo con error\n",
        "# serie5 = serie1[serie1 >= 5 and serie1 <= 7]\n",
        "'''\n",
        "El 'and' comun espera dos valores booleanos para operar:\n",
        "T and F \n",
        "\n",
        "Sin embargo se le esta mostrando una lista de valores booleanos: \n",
        "[T, F, T, T] and [T, T, F, T] -> error\n",
        "\n",
        "np.logical_and([T, F, T, T], [T, T, F, T]) = [T, F, F, T]\n",
        "'''\n",
        "serie5 = serie1[np.logical_and(serie1 >= 5, serie1 <= 7)]\n",
        "print(serie5)"
      ],
      "execution_count": 178,
      "outputs": [
        {
          "output_type": "stream",
          "text": [
            "abcdefghijklmnopqrstuvwxyzABCDEFGHIJKLMNOPQRSTUVWXYZ \n",
            "\n",
            "a    0\n",
            "b    1\n",
            "c    2\n",
            "d    3\n",
            "e    4\n",
            "f    5\n",
            "g    6\n",
            "h    7\n",
            "i    8\n",
            "j    9\n",
            "dtype: int64 \n",
            "\n",
            "a     0\n",
            "b     3\n",
            "c     6\n",
            "d     9\n",
            "e    12\n",
            "f    15\n",
            "g    18\n",
            "h    21\n",
            "i    24\n",
            "j    27\n",
            "dtype: int64 \n",
            "\n",
            "a    0.000000\n",
            "b    1.000000\n",
            "c    1.414214\n",
            "d    1.732051\n",
            "e    2.000000\n",
            "f    2.236068\n",
            "g    2.449490\n",
            "h    2.645751\n",
            "i    2.828427\n",
            "j    3.000000\n",
            "dtype: float64 \n",
            "\n",
            "f    5\n",
            "g    6\n",
            "h    7\n",
            "i    8\n",
            "j    9\n",
            "dtype: int64 \n",
            "\n",
            "f    5\n",
            "g    6\n",
            "h    7\n",
            "dtype: int64\n"
          ],
          "name": "stdout"
        }
      ]
    },
    {
      "cell_type": "markdown",
      "metadata": {
        "id": "ZxYJDaeoUnza",
        "colab_type": "text"
      },
      "source": [
        "#### Data Frames\n",
        "\n",
        "Un Dataframe es una estructura de datos que sirve para crear tablas bidimensionales, en donde a cada dimensión tiene etiquetas para acceder a los datos."
      ]
    },
    {
      "cell_type": "markdown",
      "metadata": {
        "id": "QmU2Ayp5U_MM",
        "colab_type": "text"
      },
      "source": [
        "##### Creación de dataframes"
      ]
    },
    {
      "cell_type": "code",
      "metadata": {
        "id": "tT8c7R0sVCPs",
        "colab_type": "code",
        "colab": {
          "base_uri": "https://localhost:8080/",
          "height": 206
        },
        "outputId": "d3267f09-42e5-47f0-a20d-cb8dae6abce4"
      },
      "source": [
        "dc = {'Nombre': ['Francisco', 'Mario', 'Ana', 'Pedro', 'Marta'],\n",
        "      'Edad': [37, 20, 45, 26, 42],\n",
        "      'Género': ['M', 'M', 'F', 'M', 'F']}\n",
        "\n",
        "df1 = pd.DataFrame(dc)\n",
        "df1\n"
      ],
      "execution_count": 179,
      "outputs": [
        {
          "output_type": "execute_result",
          "data": {
            "text/html": [
              "<div>\n",
              "<style scoped>\n",
              "    .dataframe tbody tr th:only-of-type {\n",
              "        vertical-align: middle;\n",
              "    }\n",
              "\n",
              "    .dataframe tbody tr th {\n",
              "        vertical-align: top;\n",
              "    }\n",
              "\n",
              "    .dataframe thead th {\n",
              "        text-align: right;\n",
              "    }\n",
              "</style>\n",
              "<table border=\"1\" class=\"dataframe\">\n",
              "  <thead>\n",
              "    <tr style=\"text-align: right;\">\n",
              "      <th></th>\n",
              "      <th>Nombre</th>\n",
              "      <th>Edad</th>\n",
              "      <th>Género</th>\n",
              "    </tr>\n",
              "  </thead>\n",
              "  <tbody>\n",
              "    <tr>\n",
              "      <th>0</th>\n",
              "      <td>Francisco</td>\n",
              "      <td>37</td>\n",
              "      <td>M</td>\n",
              "    </tr>\n",
              "    <tr>\n",
              "      <th>1</th>\n",
              "      <td>Mario</td>\n",
              "      <td>20</td>\n",
              "      <td>M</td>\n",
              "    </tr>\n",
              "    <tr>\n",
              "      <th>2</th>\n",
              "      <td>Ana</td>\n",
              "      <td>45</td>\n",
              "      <td>F</td>\n",
              "    </tr>\n",
              "    <tr>\n",
              "      <th>3</th>\n",
              "      <td>Pedro</td>\n",
              "      <td>26</td>\n",
              "      <td>M</td>\n",
              "    </tr>\n",
              "    <tr>\n",
              "      <th>4</th>\n",
              "      <td>Marta</td>\n",
              "      <td>42</td>\n",
              "      <td>F</td>\n",
              "    </tr>\n",
              "  </tbody>\n",
              "</table>\n",
              "</div>"
            ],
            "text/plain": [
              "      Nombre  Edad Género\n",
              "0  Francisco    37      M\n",
              "1      Mario    20      M\n",
              "2        Ana    45      F\n",
              "3      Pedro    26      M\n",
              "4      Marta    42      F"
            ]
          },
          "metadata": {
            "tags": []
          },
          "execution_count": 179
        }
      ]
    },
    {
      "cell_type": "markdown",
      "metadata": {
        "id": "bn3smvuTfEOI",
        "colab_type": "text"
      },
      "source": [
        "##### Acceso a índices por columnas o por filas"
      ]
    },
    {
      "cell_type": "code",
      "metadata": {
        "id": "FQzr15rhfIXo",
        "colab_type": "code",
        "colab": {
          "base_uri": "https://localhost:8080/",
          "height": 34
        },
        "outputId": "4eecdf4f-4f2d-45c1-c588-3f13dfceaaf9"
      },
      "source": [
        "# Ejemplo\n",
        "# Por columnas\n",
        "df1.columns\n",
        "\n",
        "# Por filas\n",
        "df1.index"
      ],
      "execution_count": 180,
      "outputs": [
        {
          "output_type": "execute_result",
          "data": {
            "text/plain": [
              "RangeIndex(start=0, stop=5, step=1)"
            ]
          },
          "metadata": {
            "tags": []
          },
          "execution_count": 180
        }
      ]
    },
    {
      "cell_type": "markdown",
      "metadata": {
        "id": "4VSSwh2DfObw",
        "colab_type": "text"
      },
      "source": [
        "##### Acceso a los datos por columnas o por filas"
      ]
    },
    {
      "cell_type": "code",
      "metadata": {
        "id": "BjhaNDJOfQ9v",
        "colab_type": "code",
        "colab": {
          "base_uri": "https://localhost:8080/",
          "height": 364
        },
        "outputId": "238b0ae6-fc6a-42d2-e25f-0b56cc6d64d7"
      },
      "source": [
        "# Ejemplo de acceso por columnas\n",
        "\n",
        "print(df1['Edad'], '\\n') # El retorno es una Serie\n",
        "print(df1[['Nombre', 'Edad']], '\\n')\n",
        "\n",
        "# Acceder como atributo\n",
        "print(df1.Edad)"
      ],
      "execution_count": 181,
      "outputs": [
        {
          "output_type": "stream",
          "text": [
            "0    37\n",
            "1    20\n",
            "2    45\n",
            "3    26\n",
            "4    42\n",
            "Name: Edad, dtype: int64 \n",
            "\n",
            "      Nombre  Edad\n",
            "0  Francisco    37\n",
            "1      Mario    20\n",
            "2        Ana    45\n",
            "3      Pedro    26\n",
            "4      Marta    42 \n",
            "\n",
            "0    37\n",
            "1    20\n",
            "2    45\n",
            "3    26\n",
            "4    42\n",
            "Name: Edad, dtype: int64\n"
          ],
          "name": "stdout"
        }
      ]
    },
    {
      "cell_type": "code",
      "metadata": {
        "id": "7RtjBEJ1fydK",
        "colab_type": "code",
        "colab": {
          "base_uri": "https://localhost:8080/",
          "height": 382
        },
        "outputId": "2073b88c-1de6-4f95-b477-7402ba820c7b"
      },
      "source": [
        "# Ejemplo de acceso por filas\n",
        "\n",
        "# Llaves  Valores de la fila\n",
        "print(df1.loc[0], '\\n') # El retorno es una Serie\n",
        "\n",
        "print(df1.iloc[0], '\\n')\n",
        "\n",
        "# Diferencias entre loc e iloc\n",
        "df2 = df1.copy()\n",
        "\n",
        "# Se redefine el valor de los indices para df2\n",
        "df2.index = np.arange(10,15)\n",
        "print(df2, '\\n')\n",
        "\n",
        "#df2.loc[0]\n",
        "df2.iloc[0]"
      ],
      "execution_count": 182,
      "outputs": [
        {
          "output_type": "stream",
          "text": [
            "Nombre    Francisco\n",
            "Edad             37\n",
            "Género            M\n",
            "Name: 0, dtype: object \n",
            "\n",
            "Nombre    Francisco\n",
            "Edad             37\n",
            "Género            M\n",
            "Name: 0, dtype: object \n",
            "\n",
            "       Nombre  Edad Género\n",
            "10  Francisco    37      M\n",
            "11      Mario    20      M\n",
            "12        Ana    45      F\n",
            "13      Pedro    26      M\n",
            "14      Marta    42      F \n",
            "\n"
          ],
          "name": "stdout"
        },
        {
          "output_type": "execute_result",
          "data": {
            "text/plain": [
              "Nombre    Francisco\n",
              "Edad             37\n",
              "Género            M\n",
              "Name: 10, dtype: object"
            ]
          },
          "metadata": {
            "tags": []
          },
          "execution_count": 182
        }
      ]
    },
    {
      "cell_type": "code",
      "metadata": {
        "id": "F3-YWLfFgfD9",
        "colab_type": "code",
        "colab": {
          "base_uri": "https://localhost:8080/",
          "height": 69
        },
        "outputId": "d4d2dcb9-5737-4ef5-c9e2-e10ec726f076"
      },
      "source": [
        "# Eliminar personas que sean menores que 40\n",
        "df2 = df1[df1['Edad'] > 40]\n",
        "print(df2)"
      ],
      "execution_count": 183,
      "outputs": [
        {
          "output_type": "stream",
          "text": [
            "  Nombre  Edad Género\n",
            "2    Ana    45      F\n",
            "4  Marta    42      F\n"
          ],
          "name": "stdout"
        }
      ]
    },
    {
      "cell_type": "code",
      "metadata": {
        "id": "1VkfzYbCgyMN",
        "colab_type": "code",
        "colab": {
          "base_uri": "https://localhost:8080/",
          "height": 86
        },
        "outputId": "aa59acf7-b8ed-4dd4-a206-947d5d9bfa17"
      },
      "source": [
        "df2.iloc[0]\n",
        "\n",
        "# Hay un error porque el indice 0 fue eliminado, solo estan 2 y 4\n",
        "#df2.loc[0]"
      ],
      "execution_count": 184,
      "outputs": [
        {
          "output_type": "execute_result",
          "data": {
            "text/plain": [
              "Nombre    Ana\n",
              "Edad       45\n",
              "Género      F\n",
              "Name: 2, dtype: object"
            ]
          },
          "metadata": {
            "tags": []
          },
          "execution_count": 184
        }
      ]
    },
    {
      "cell_type": "markdown",
      "metadata": {
        "id": "z3UmPYOyiGEb",
        "colab_type": "text"
      },
      "source": [
        "##### Obtener todos los elementos de un DataFrame como un array de numpy"
      ]
    },
    {
      "cell_type": "code",
      "metadata": {
        "id": "U3IeKSDhiCvS",
        "colab_type": "code",
        "colab": {
          "base_uri": "https://localhost:8080/",
          "height": 104
        },
        "outputId": "20ed375d-315c-46ef-b516-d4013fd00aa7"
      },
      "source": [
        "# Ejemplob\n",
        "\n",
        "df1.values"
      ],
      "execution_count": 185,
      "outputs": [
        {
          "output_type": "execute_result",
          "data": {
            "text/plain": [
              "array([['Francisco', 37, 'M'],\n",
              "       ['Mario', 20, 'M'],\n",
              "       ['Ana', 45, 'F'],\n",
              "       ['Pedro', 26, 'M'],\n",
              "       ['Marta', 42, 'F']], dtype=object)"
            ]
          },
          "metadata": {
            "tags": []
          },
          "execution_count": 185
        }
      ]
    },
    {
      "cell_type": "markdown",
      "metadata": {
        "id": "zVGfHHAkiQps",
        "colab_type": "text"
      },
      "source": [
        "##### Formas de iterar un dataframe de pandas\n",
        "\n",
        "* Con un for convencional\n",
        "* Con un iterrows\n",
        "* Con una función lambda"
      ]
    },
    {
      "cell_type": "code",
      "metadata": {
        "id": "Rqd-WyntiO3q",
        "colab_type": "code",
        "colab": {
          "base_uri": "https://localhost:8080/",
          "height": 208
        },
        "outputId": "75809b4d-b6b8-41c0-9a5f-dde4c090fc11"
      },
      "source": [
        "! wget https://archive.ics.uci.edu/ml/machine-learning-databases/iris/iris.data"
      ],
      "execution_count": 186,
      "outputs": [
        {
          "output_type": "stream",
          "text": [
            "--2020-09-19 17:12:07--  https://archive.ics.uci.edu/ml/machine-learning-databases/iris/iris.data\n",
            "Resolving archive.ics.uci.edu (archive.ics.uci.edu)... 128.195.10.252\n",
            "Connecting to archive.ics.uci.edu (archive.ics.uci.edu)|128.195.10.252|:443... connected.\n",
            "HTTP request sent, awaiting response... 200 OK\n",
            "Length: 4551 (4.4K) [application/x-httpd-php]\n",
            "Saving to: ‘iris.data’\n",
            "\n",
            "iris.data           100%[===================>]   4.44K  --.-KB/s    in 0s      \n",
            "\n",
            "2020-09-19 17:12:07 (104 MB/s) - ‘iris.data’ saved [4551/4551]\n",
            "\n"
          ],
          "name": "stdout"
        }
      ]
    },
    {
      "cell_type": "code",
      "metadata": {
        "id": "5InzXHyTicks",
        "colab_type": "code",
        "colab": {
          "base_uri": "https://localhost:8080/",
          "height": 104
        },
        "outputId": "3199375a-3e02-4422-ece3-a9ed59850353"
      },
      "source": [
        "! head -n 5 iris.data"
      ],
      "execution_count": 187,
      "outputs": [
        {
          "output_type": "stream",
          "text": [
            "5.1,3.5,1.4,0.2,Iris-setosa\n",
            "4.9,3.0,1.4,0.2,Iris-setosa\n",
            "4.7,3.2,1.3,0.2,Iris-setosa\n",
            "4.6,3.1,1.5,0.2,Iris-setosa\n",
            "5.0,3.6,1.4,0.2,Iris-setosa\n"
          ],
          "name": "stdout"
        }
      ]
    },
    {
      "cell_type": "code",
      "metadata": {
        "id": "sr7pt6GzigSH",
        "colab_type": "code",
        "colab": {}
      },
      "source": [
        "iris = pd.read_csv('iris.data', header=None)\n",
        "iris.columns = ['sepal_length', 'sepal_width', 'petal_length', 'petal_width', 'class']"
      ],
      "execution_count": 188,
      "outputs": []
    },
    {
      "cell_type": "markdown",
      "metadata": {
        "id": "sqi21S-MizPh",
        "colab_type": "text"
      },
      "source": [
        "###### Con un for convencional"
      ]
    },
    {
      "cell_type": "code",
      "metadata": {
        "id": "sLhGekyai3pQ",
        "colab_type": "code",
        "colab": {
          "base_uri": "https://localhost:8080/",
          "height": 34
        },
        "outputId": "d06b4461-a474-446b-d249-db5b3681d988"
      },
      "source": [
        "from datetime import datetime as dt\n",
        "\n",
        "start = dt.now()\n",
        "\n",
        "sepal_box = np.zeros(len(iris))\n",
        "\n",
        "for index in np.arange(len(iris)):\n",
        "    row_act = iris.iloc[index]\n",
        "    sepal_box[index] = row_act['sepal_length'] * row_act['sepal_width']\n",
        "\n",
        "print(dt.now() - start)"
      ],
      "execution_count": 189,
      "outputs": [
        {
          "output_type": "stream",
          "text": [
            "0:00:00.028947\n"
          ],
          "name": "stdout"
        }
      ]
    },
    {
      "cell_type": "markdown",
      "metadata": {
        "id": "_s2lWhrki51h",
        "colab_type": "text"
      },
      "source": [
        "###### Con un iterrows"
      ]
    },
    {
      "cell_type": "code",
      "metadata": {
        "id": "GMZ-hkKYi83Z",
        "colab_type": "code",
        "colab": {
          "base_uri": "https://localhost:8080/",
          "height": 34
        },
        "outputId": "8e70a03f-cc30-4c71-f1c9-0cc2a1ca51fb"
      },
      "source": [
        "start = dt.now()\n",
        "\n",
        "sepal_box = np.zeros(len(iris))\n",
        "\n",
        "# (index, [...])\n",
        "for index, row in iris.iterrows():\n",
        "    sepal_box[index] = row['sepal_length'] * row['sepal_width']\n",
        "    \n",
        "print(dt.now() - start)"
      ],
      "execution_count": 190,
      "outputs": [
        {
          "output_type": "stream",
          "text": [
            "0:00:00.022447\n"
          ],
          "name": "stdout"
        }
      ]
    },
    {
      "cell_type": "markdown",
      "metadata": {
        "id": "b3lJi8JNjrz9",
        "colab_type": "text"
      },
      "source": [
        "###### Con una función lambda"
      ]
    },
    {
      "cell_type": "code",
      "metadata": {
        "id": "5xE6dujAju8F",
        "colab_type": "code",
        "colab": {
          "base_uri": "https://localhost:8080/",
          "height": 34
        },
        "outputId": "c642ab04-3bad-4b63-8a8c-59db40aef309"
      },
      "source": [
        "def get_box(x):\n",
        "    return x['sepal_length'] * x['sepal_width']\n",
        "\n",
        "get_box(iris.iloc[0])"
      ],
      "execution_count": 191,
      "outputs": [
        {
          "output_type": "execute_result",
          "data": {
            "text/plain": [
              "17.849999999999998"
            ]
          },
          "metadata": {
            "tags": []
          },
          "execution_count": 191
        }
      ]
    },
    {
      "cell_type": "code",
      "metadata": {
        "id": "fUg6X8Nci-B6",
        "colab_type": "code",
        "colab": {
          "base_uri": "https://localhost:8080/",
          "height": 34
        },
        "outputId": "f54689fa-8e33-4659-be23-6072d72cff99"
      },
      "source": [
        "start = dt.now()\n",
        "\n",
        "# axis=1  ->  filas\n",
        "sepal_box = iris.apply(lambda x: get_box(x), axis=1)\n",
        "\n",
        "print(dt.now() - start)"
      ],
      "execution_count": 192,
      "outputs": [
        {
          "output_type": "stream",
          "text": [
            "0:00:00.012417\n"
          ],
          "name": "stdout"
        }
      ]
    }
  ]
}