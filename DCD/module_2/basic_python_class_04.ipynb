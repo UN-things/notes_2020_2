{
  "nbformat": 4,
  "nbformat_minor": 0,
  "metadata": {
    "colab": {
      "name": "basic_python_class_04.ipynb",
      "provenance": [],
      "collapsed_sections": [
        "kEswVZ8NEH08",
        "8trdsuRBERBs",
        "AMW_rpfoEd7N",
        "yICph4_CEi1G",
        "5WdUIc7w2HBC",
        "J52upZnAMOEj",
        "rCXBjvgDMgj2",
        "KXYQ6Z5tIJuG",
        "zRyGsE3HJBwk"
      ],
      "authorship_tag": "ABX9TyP2wWAPneF/qBqRMMFeIFUu",
      "include_colab_link": true
    },
    "kernelspec": {
      "name": "python3",
      "display_name": "Python 3"
    }
  },
  "cells": [
    {
      "cell_type": "markdown",
      "metadata": {
        "id": "view-in-github",
        "colab_type": "text"
      },
      "source": [
        "<a href=\"https://colab.research.google.com/github/gtzambranop/UN_2020_2/blob/DCD%2Fweek_4/DCD/module_2/basic_python_class_04.ipynb\" target=\"_parent\"><img src=\"https://colab.research.google.com/assets/colab-badge.svg\" alt=\"Open In Colab\"/></a>"
      ]
    },
    {
      "cell_type": "markdown",
      "metadata": {
        "id": "9NIt06jTqxUR",
        "colab_type": "text"
      },
      "source": [
        "# **\"Pyhton Básico\"**\n",
        "\n",
        "* **Profesor:** Francisco Javier Ospina Salazar\n",
        "* **Monitoras:**\n",
        "  - Diana Carolina Sanchez Perez\n",
        "  - Guiselle Tatiana Zambrano Penagos\n",
        "* **Fechas:** \n",
        "  - Inicio: 2020-09-12\n",
        "  - Final: 2020-09-29\n",
        "* [Presentacióón del curso](http://ospinafrancisco.com/)\n"
      ]
    },
    {
      "cell_type": "markdown",
      "metadata": {
        "id": "cXEAMeIKnmc6",
        "colab_type": "text"
      },
      "source": [
        "## Contenido de la clase\n",
        "\n",
        "- Objetos\n",
        "  - Clases\n",
        "    - Métodos\n",
        "    - Atributos\n",
        "  - Módulos para manipulación de datos en python\n",
        "    - Numpy\n",
        "    - Pandas\n",
        "\n"
      ]
    },
    {
      "cell_type": "markdown",
      "metadata": {
        "id": "oCtyoy1gDGZD",
        "colab_type": "text"
      },
      "source": [
        "# Clases u Objetos\n",
        "\n",
        "Los objetos son abstracciones de elementos reales o no reales que disponen de atributos y funciones que permiten interactuar con esos atributos."
      ]
    },
    {
      "cell_type": "markdown",
      "metadata": {
        "id": "bCpZaC9i2vQQ",
        "colab_type": "text"
      },
      "source": [
        "## Métodos mágicos - **Dunders**\n",
        "\n",
        "Son métodos especiales que tienen **doble guión bajo** al principio y al final de sus nombres.\n",
        "\n",
        "Un uso común de estos es la **sobrecarga de operadores**. Esto significa definir operadores para clases personalizadas que permiten que operadores tales como `+`, `and`, `*` sean utilizados en ellas"
      ]
    },
    {
      "cell_type": "markdown",
      "metadata": {
        "id": "WBY_BKxY3lBB",
        "colab_type": "text"
      },
      "source": [
        "Ejemplo de `__add__` para `+`:"
      ]
    },
    {
      "cell_type": "code",
      "metadata": {
        "id": "EFCbuFcp3q9R",
        "colab_type": "code",
        "colab": {}
      },
      "source": [
        "class Vector2D:\n",
        "  # TODOS los métodos de una clase deben tener 'self' como su primer parámetro\n",
        "  def __init__(self, x, y):\n",
        "    self.x = x;\n",
        "    self.y = y\n",
        "  \n",
        "  def __add__(self, other):\n",
        "    # Retorno una nueva instancia de la clase Vector2D donde:\n",
        "    # x = la suma del atributo x de los 2 vectores\n",
        "    # y = la suma del atributo y de los 2 vectores\n",
        "    return Vector2D((self.x + other.x), (self.y + other.y))"
      ],
      "execution_count": 2,
      "outputs": []
    },
    {
      "cell_type": "code",
      "metadata": {
        "id": "aWkvGmhE4ypW",
        "colab_type": "code",
        "colab": {
          "base_uri": "https://localhost:8080/",
          "height": 52
        },
        "outputId": "66c06e48-da98-495a-935a-5433a0146756"
      },
      "source": [
        "first = Vector2D(8, 9)\n",
        "second = Vector2D(2, 3)\n",
        "\n",
        "# first + second -> utilizan el método __add__ que sobrecarga el operador +\n",
        "# Es decir, se redefine el operador +\n",
        "\n",
        "# Esto se traduce a: \n",
        "#result = first.__add__(second) # DESCOMENTAR LINEA - se ejecuta con normalidad\n",
        "result = first + second\n",
        "\n",
        "# La suma retorna una instancia que es asignada a la variable 'result'\n",
        "print(type(result))\n"
      ],
      "execution_count": 54,
      "outputs": [
        {
          "output_type": "stream",
          "text": [
            "<__main__.Vector2D object at 0x7f67c5a0d240>\n",
            "<class '__main__.Vector2D'>\n"
          ],
          "name": "stdout"
        }
      ]
    },
    {
      "cell_type": "code",
      "metadata": {
        "id": "MBjQpI4p5xek",
        "colab_type": "code",
        "colab": {
          "base_uri": "https://localhost:8080/",
          "height": 52
        },
        "outputId": "51de9066-b8bc-4490-cfb6-92688ab890aa"
      },
      "source": [
        "print(result.x) # 8 + 2 = 10 = first.x + second.x\n",
        "print(result.y) # 9 + 3 = 12 = first.y + second.y"
      ],
      "execution_count": 15,
      "outputs": [
        {
          "output_type": "stream",
          "text": [
            "10\n",
            "12\n"
          ],
          "name": "stdout"
        }
      ]
    },
    {
      "cell_type": "markdown",
      "metadata": {
        "id": "RwFUne3I6Lgg",
        "colab_type": "text"
      },
      "source": [
        "### Más métodos mágicos para operadores comunes\n",
        "\n",
        "- `__sub__` para `-`\n",
        "- `__mul__` para `*`\n",
        "- `__truediv__` para `/`\n",
        "- `__floordiv__` para `//`\n",
        "- `__mod__` para `%`\n",
        "- `__pow__` para `**`\n",
        "- `__and__` para `&`\n",
        "- `__xor__` para `^`\n",
        "- `__or__` para `|`\n",
        "- `__lt__` para `<`\n",
        "- `__le__` para `<=`\n",
        "- `__eq__` para `==`\n",
        "- `__ne__` para `!=`\n",
        "- `__gt__` para `>`\n",
        "- `__ge__` para `>=`\n",
        "\n",
        "Hay más métodos mágicos pero no los voy a poner todos [acá](https://www.reddit.com/r/Python/comments/br9ok2/list_of_all_python_dunder_methods/) encontré un foro donde enlistan muchos más\n"
      ]
    },
    {
      "cell_type": "code",
      "metadata": {
        "id": "GUJFUjvS7OV2",
        "colab_type": "code",
        "colab": {}
      },
      "source": [
        "# Otro ejemplo\n",
        "\n",
        "class SpecialString:\n",
        "  def __init__(self, cont):\n",
        "    self.cont = cont\n",
        "\n",
        "  # sobrecarga del operador '/'\n",
        "  def __truediv__(self, other):\n",
        "    # Multiplicamos el string \"=\" por la longitud del string other.cont\n",
        "    line = \"=\" * len(other.cont)\n",
        "    return \"\\n\".join([self.cont, line, other.cont])"
      ],
      "execution_count": 5,
      "outputs": []
    },
    {
      "cell_type": "code",
      "metadata": {
        "id": "DCxcOGGF8djA",
        "colab_type": "code",
        "colab": {
          "base_uri": "https://localhost:8080/",
          "height": 69
        },
        "outputId": "ee2911e5-3ef3-4b9b-bbf4-becc67aee1f6"
      },
      "source": [
        "spam = SpecialString(\"Spam Spam :p\")\n",
        "hello = SpecialString(\"Hello World :D\")\n",
        "\n",
        "result = spam.__truediv__(hello)\n",
        "print(result)"
      ],
      "execution_count": 11,
      "outputs": [
        {
          "output_type": "stream",
          "text": [
            "Spam Spam :p\n",
            "==============\n",
            "Hello World :D\n"
          ],
          "name": "stdout"
        }
      ]
    },
    {
      "cell_type": "code",
      "metadata": {
        "id": "gmYqpZuP9KXg",
        "colab_type": "code",
        "colab": {
          "base_uri": "https://localhost:8080/",
          "height": 69
        },
        "outputId": "420ae912-2ed1-4847-9be8-58be35aa6e73"
      },
      "source": [
        "print(spam/hello)"
      ],
      "execution_count": 12,
      "outputs": [
        {
          "output_type": "stream",
          "text": [
            "Spam Spam :p\n",
            "==============\n",
            "Hello World :D\n"
          ],
          "name": "stdout"
        }
      ]
    },
    {
      "cell_type": "markdown",
      "metadata": {
        "id": "DzkVggHSDTaa",
        "colab_type": "text"
      },
      "source": [
        "### Cómo construir clases\n",
        "* Debe haber una definición de la clase\n",
        "* Debe haber un método **init** cuya función es la de inicializar los atributos de la clase\n",
        "* Para referirse a los elementos (atributos o funciones) de la clase utilizamos el la entencia \"self.\"\n",
        "* Nota: Es importante tener claridad sobre la \"notación punto\""
      ]
    },
    {
      "cell_type": "markdown",
      "metadata": {
        "id": "Bjqz5X3rDyMK",
        "colab_type": "text"
      },
      "source": [
        "#### Ejemplo con clase tiempo\n",
        "* Version 0: Clase nula\n",
        "* Version 1: Clase simple\n",
        "* Version 2: Validando horas correctas\n",
        "* Version 3: Dando formato para poder visualizar con la función str\n",
        "* Version 4: Clase completa vista en clase"
      ]
    },
    {
      "cell_type": "markdown",
      "metadata": {
        "id": "kEswVZ8NEH08",
        "colab_type": "text"
      },
      "source": [
        "##### Version 0: Clase *nula*"
      ]
    },
    {
      "cell_type": "code",
      "metadata": {
        "id": "N65pJfh5C8Fk",
        "colab_type": "code",
        "colab": {}
      },
      "source": [
        "# Version 0 Clase nula\n",
        "class Tiempo():\n",
        "    pass"
      ],
      "execution_count": null,
      "outputs": []
    },
    {
      "cell_type": "code",
      "metadata": {
        "id": "lV0xTHUpIbeO",
        "colab_type": "code",
        "colab": {}
      },
      "source": [
        "t1 = Tiempo()"
      ],
      "execution_count": null,
      "outputs": []
    },
    {
      "cell_type": "markdown",
      "metadata": {
        "id": "8trdsuRBERBs",
        "colab_type": "text"
      },
      "source": [
        "##### Version 1: Clase simple"
      ]
    },
    {
      "cell_type": "code",
      "metadata": {
        "id": "VyoiO3kgIfBi",
        "colab_type": "code",
        "colab": {
          "base_uri": "https://localhost:8080/",
          "height": 34
        },
        "outputId": "f5f54907-6432-4eaf-9281-d29cd1b13533"
      },
      "source": [
        "class Tiempo():\n",
        "  def __init__(self, hora = 0, minuto = 0, segundo = 0):\n",
        "    # Definicion e inicialización de atributos de un objeto de la clase tiempo\n",
        "    self.hora = hora\n",
        "    self.minuto = minuto\n",
        "    self.segundo = segundo\n",
        "\n",
        "\n",
        "t1 = Tiempo(19, 22, 35)\n",
        "print(t1.hora, t1.minuto, t1.segundo)"
      ],
      "execution_count": 16,
      "outputs": [
        {
          "output_type": "stream",
          "text": [
            "19 22 35\n"
          ],
          "name": "stdout"
        }
      ]
    },
    {
      "cell_type": "markdown",
      "metadata": {
        "id": "AMW_rpfoEd7N",
        "colab_type": "text"
      },
      "source": [
        "##### Version 2: Validando horas correctas"
      ]
    },
    {
      "cell_type": "code",
      "metadata": {
        "id": "P5Im9_MTKexy",
        "colab_type": "code",
        "colab": {
          "base_uri": "https://localhost:8080/",
          "height": 34
        },
        "outputId": "e577cb32-6dad-407f-a1c1-f91aae0abba1"
      },
      "source": [
        "class Tiempo():\n",
        "  def __init__(self, hora=0, minuto=0, segundo=0):\n",
        "        self.hora = 0 if hora < 0 or hora > 23 else hora\n",
        "        self.minuto = 0 if minuto < 0 or minuto > 59 else minuto\n",
        "        self.segundo = 0 if segundo < 0 or segundo > 59 else segundo\n",
        "        \n",
        "\n",
        "t1 = Tiempo(-19, 22, 399)\n",
        "print(\"{}:{}:{}\".format(t1.hora, t1.minuto, t1.segundo))\n"
      ],
      "execution_count": 19,
      "outputs": [
        {
          "output_type": "stream",
          "text": [
            "0:22:0\n"
          ],
          "name": "stdout"
        }
      ]
    },
    {
      "cell_type": "code",
      "metadata": {
        "id": "0wPoXb2jLN04",
        "colab_type": "code",
        "colab": {
          "base_uri": "https://localhost:8080/",
          "height": 34
        },
        "outputId": "07c5e0a4-eb69-4de1-c685-f05c8f815c8b"
      },
      "source": [
        "t1 = Tiempo(19, 32, 39)\n",
        "print(\"{}:{}:{}\".format(t1.hora, t1.minuto, t1.segundo))"
      ],
      "execution_count": 18,
      "outputs": [
        {
          "output_type": "stream",
          "text": [
            "19:32:39\n"
          ],
          "name": "stdout"
        }
      ]
    },
    {
      "cell_type": "markdown",
      "metadata": {
        "id": "yICph4_CEi1G",
        "colab_type": "text"
      },
      "source": [
        "##### Version 3: Dando formato para poder visualizar con la función str\n"
      ]
    },
    {
      "cell_type": "code",
      "metadata": {
        "id": "jAJF21CAMBvs",
        "colab_type": "code",
        "colab": {}
      },
      "source": [
        "class Tiempo():\n",
        "  def __init__(self, hora=0, minuto=0, segundo=0):\n",
        "        self.hora = 0 if hora < 0 or hora > 23 else hora\n",
        "        self.minuto = 0 if minuto < 0 or minuto > 59 else minuto\n",
        "        self.segundo = 0 if segundo < 0 or segundo > 59 else segundo\n",
        "        \n",
        "  # Método invocado al hacer uso de la función print de python          \n",
        "  def __str__(self):\n",
        "      hora_str = str(self.hora) if self.hora > 9 else '0' + str(self.hora)\n",
        "      minuto_str = str(self.minuto) if self.minuto > 9 else '0' + str(self.minuto)\n",
        "      segundo_str = str(self.segundo) if self.segundo > 9 else '0' + str(self.segundo)\n",
        "      return '{}:{}:{}'.format(hora_str, minuto_str, segundo_str)"
      ],
      "execution_count": 20,
      "outputs": []
    },
    {
      "cell_type": "code",
      "metadata": {
        "id": "1DDtIWRVMxf9",
        "colab_type": "code",
        "colab": {
          "base_uri": "https://localhost:8080/",
          "height": 34
        },
        "outputId": "8223fb39-b4a9-43d4-cacb-b2fd1cb24dee"
      },
      "source": [
        "t1 = Tiempo(19, 32, 39)\n",
        "print(t1)\n"
      ],
      "execution_count": 21,
      "outputs": [
        {
          "output_type": "stream",
          "text": [
            "19:32:39\n"
          ],
          "name": "stdout"
        }
      ]
    },
    {
      "cell_type": "markdown",
      "metadata": {
        "id": "5WdUIc7w2HBC",
        "colab_type": "text"
      },
      "source": [
        "#### Versióón 4: Clase completa vista en clase"
      ]
    },
    {
      "cell_type": "code",
      "metadata": {
        "id": "cuQ9tFju1ElT",
        "colab_type": "code",
        "colab": {}
      },
      "source": [
        "\n",
        "class tiempo(): # Nombre de la clase\n",
        "    \n",
        "    def __init__(self, hora=0, minuto=0, segundo=0):\n",
        "        # Definición de paramétros internos de la clase\n",
        "        \n",
        "        self.hora = 0 if hora < 0 or hora > 23 else hora\n",
        "        self.minuto = 0 if minuto < 0 or minuto > 59 else minuto\n",
        "        self.segundo = 0 if segundo < 0 or segundo > 59 else segundo\n",
        "        \n",
        "    # Metodo que recibe los parametros hora, minuto y segundo y los suma a mi clase tiempo actual\n",
        "    def suma_hms(self, hora=0, minuto=0, segundo=0):\n",
        "        self.segundo = self.segundo + segundo\n",
        "        if self.segundo > 59: # Si segundo supera 60 se transforman 60 segundos a minuto\n",
        "            self.segundo = self.segundo % 60\n",
        "            self.minuto = self.minuto + 1\n",
        "        self.minuto = self.minuto + minuto\n",
        "        if self.minuto > 59: # Si segundo supera 60 se transforman 60 segundos a minuto\n",
        "            self.minuto = self.minuto % 60\n",
        "            self.hora = self.hora + 1\n",
        "        self.hora = self.hora + hora # Si hora supera 24 quiere decir que ya pasó un día y se pasó al siguiente\n",
        "        if self.hora > 23:\n",
        "            self.hora = self.hora % 24\n",
        "            \n",
        "    # A pesar de no haber sido definido el atributo franja al inicio de la clase se puede crear posteriormente\n",
        "    def set_franja_horaria(self):\n",
        "        if self.hora < 12: \n",
        "            self.franja = 'mañana'\n",
        "        elif self.hora >= 12 and self.hora < 19:\n",
        "            self.franja = 'tarde'\n",
        "        else:\n",
        "            self.franja = 'noche'\n",
        "    \n",
        "    # Un método de una clase puede invocar a otros métodos\n",
        "    def suma_tiempo(self, t2):\n",
        "        self.suma_hms(hora=t2.hora, minuto=t2.minuto, segundo=t2.segundo)\n",
        "        self.set_franja_horaria()\n",
        "        \n",
        "    # Uso de el operador + para hacer una suma de tiempos\n",
        "    # Esto tiene un nombre en programación y es sobrecarga del operador +\n",
        "    def __add__(self, t2):\n",
        "        temp = tiempo(hora=self.hora, minuto=self.minuto, segundo=self.segundo)\n",
        "        temp.suma_tiempo(t2)\n",
        "        return temp\n",
        "    \n",
        "    # Método invocado al hacer uso de la función print de python          \n",
        "    def __str__(self):\n",
        "        hora_str = str(self.hora) if self.hora > 9 else '0' + str(self.hora)\n",
        "        minuto_str = str(self.minuto) if self.minuto > 9 else '0' + str(self.minuto)\n",
        "        segundo_str = str(self.segundo) if self.segundo > 9 else '0' + str(self.segundo)\n",
        "        return '{}:{}:{}'.format(hora_str, minuto_str, segundo_str)"
      ],
      "execution_count": null,
      "outputs": []
    },
    {
      "cell_type": "markdown",
      "metadata": {
        "id": "ScgeuphGF9jq",
        "colab_type": "text"
      },
      "source": [
        "## Herencia en Clases\n"
      ]
    },
    {
      "cell_type": "markdown",
      "metadata": {
        "id": "EfbQOP2zAxR5",
        "colab_type": "text"
      },
      "source": [
        "La Herencia brinda una manera de compartir funcionalidades entre clases.\n",
        "\n",
        "Una clase que hereda de otra clase se le llama **Subclase**.\n",
        "\n",
        "Una clase de la cual se hereda se llama **Superclase**."
      ]
    },
    {
      "cell_type": "code",
      "metadata": {
        "id": "k2cH5C-RGFSD",
        "colab_type": "code",
        "colab": {}
      },
      "source": [
        "class punto_2d():\n",
        "    def __init__(self, x, y):\n",
        "        self.x = x\n",
        "        self.y = y\n",
        "    \n",
        "    # Sobrescritura para el método print de python\n",
        "    def __str__(self):\n",
        "        return '({},{})'.format(self.x, self.y)"
      ],
      "execution_count": 29,
      "outputs": []
    },
    {
      "cell_type": "code",
      "metadata": {
        "id": "m9ljbFgwGN_q",
        "colab_type": "code",
        "colab": {
          "base_uri": "https://localhost:8080/",
          "height": 34
        },
        "outputId": "63ffbd90-a2a7-4cb9-bb0c-2d421a1786d0"
      },
      "source": [
        "punto1 = punto_2d(2,5)\n",
        "print(punto1)"
      ],
      "execution_count": 30,
      "outputs": [
        {
          "output_type": "stream",
          "text": [
            "(2,5)\n"
          ],
          "name": "stdout"
        }
      ]
    },
    {
      "cell_type": "code",
      "metadata": {
        "id": "S7MSVJgXGXZ_",
        "colab_type": "code",
        "colab": {}
      },
      "source": [
        "class punto_3d():    \n",
        "    def __init__(self, x, y, z):\n",
        "        self.p2d = punto_2d(x,y)\n",
        "        self.z = z\n",
        "    \n",
        "    def __str__(self):\n",
        "        return '({},{},{})'.format(self.p2d.x, self.p2d.y, self.z)"
      ],
      "execution_count": null,
      "outputs": []
    },
    {
      "cell_type": "code",
      "metadata": {
        "id": "fLmnYcMsGdNo",
        "colab_type": "code",
        "colab": {
          "base_uri": "https://localhost:8080/",
          "height": 35
        },
        "outputId": "139f7603-55d1-488c-bcae-bb00c502c783"
      },
      "source": [
        "punto2 = punto_3d(2,5,8)\n",
        "print(punto2)"
      ],
      "execution_count": null,
      "outputs": [
        {
          "output_type": "stream",
          "text": [
            "(2,5,8)\n"
          ],
          "name": "stdout"
        }
      ]
    },
    {
      "cell_type": "markdown",
      "metadata": {
        "id": "P8s90KquAokU",
        "colab_type": "text"
      },
      "source": [
        "### Otro ejemplo de Herencia de clases"
      ]
    },
    {
      "cell_type": "code",
      "metadata": {
        "id": "LWTcPph7Ankw",
        "colab_type": "code",
        "colab": {}
      },
      "source": [
        "class Animal:\n",
        "  def __init__(self, name, color):\n",
        "    self.name = name\n",
        "    self.color = color\n",
        "\n",
        "# Indico que la clase Cat hereda de la clase Animal\n",
        "class Cat(Animal):\n",
        "  def purr(self):\n",
        "    print(\"Purr :3\")\n",
        "\n",
        "# Indico que la clase Dog hereda de la clase Animal\n",
        "class Dog(Animal):\n",
        "  def bark(self):\n",
        "    print(\"Woof! :p\")"
      ],
      "execution_count": 22,
      "outputs": []
    },
    {
      "cell_type": "code",
      "metadata": {
        "id": "m56FvLR5B18R",
        "colab_type": "code",
        "colab": {
          "base_uri": "https://localhost:8080/",
          "height": 52
        },
        "outputId": "fe174bba-e7a1-44c2-e748-b230f7236bc9"
      },
      "source": [
        "fido = Dog(\"Fido\", \"Brown\")\n",
        "print(fido.color)\n",
        "fido.bark()"
      ],
      "execution_count": 23,
      "outputs": [
        {
          "output_type": "stream",
          "text": [
            "Brown\n",
            "Woof! :p\n"
          ],
          "name": "stdout"
        }
      ]
    },
    {
      "cell_type": "code",
      "metadata": {
        "id": "hfP8Ftu5CC3T",
        "colab_type": "code",
        "colab": {
          "base_uri": "https://localhost:8080/",
          "height": 52
        },
        "outputId": "7e312aa0-f170-4491-fe48-e48810405c48"
      },
      "source": [
        "luna = Cat(\"Luna\", \"Black and Gray\")\n",
        "print(luna.name)\n",
        "luna.purr()"
      ],
      "execution_count": 24,
      "outputs": [
        {
          "output_type": "stream",
          "text": [
            "Luna\n",
            "Purr :3\n"
          ],
          "name": "stdout"
        }
      ]
    },
    {
      "cell_type": "markdown",
      "metadata": {
        "id": "eWSb3qvICpyu",
        "colab_type": "text"
      },
      "source": [
        "Si una clase hereda de otra con los mismos atributos o métodos, los sobrescribe."
      ]
    },
    {
      "cell_type": "code",
      "metadata": {
        "id": "Bb1IYpEEC1Au",
        "colab_type": "code",
        "colab": {}
      },
      "source": [
        "class Wolf:\n",
        "  def __init__(self, name, color):\n",
        "    self.name = name\n",
        "    self.color = color\n",
        "  \n",
        "  def bark(self):\n",
        "    print(\"Grrr... >:v\")\n",
        "\n",
        "class Dog(Wolf):\n",
        "  def bark(self):\n",
        "    print(\"Woof :p\")"
      ],
      "execution_count": 25,
      "outputs": []
    },
    {
      "cell_type": "code",
      "metadata": {
        "id": "whgAgtHBEHgc",
        "colab_type": "code",
        "colab": {
          "base_uri": "https://localhost:8080/",
          "height": 34
        },
        "outputId": "7c352d3e-9a71-4dfd-8f0b-b6ebe84d5946"
      },
      "source": [
        "max = Wolf(\"Max\", \"Grey\")\n",
        "max.bark()"
      ],
      "execution_count": 27,
      "outputs": [
        {
          "output_type": "stream",
          "text": [
            "Grrr... >:v\n"
          ],
          "name": "stdout"
        }
      ]
    },
    {
      "cell_type": "code",
      "metadata": {
        "id": "gm2mCkDXEVl3",
        "colab_type": "code",
        "colab": {
          "base_uri": "https://localhost:8080/",
          "height": 34
        },
        "outputId": "a7c8b8cf-03cc-423b-cab8-45b909a4c1d7"
      },
      "source": [
        "jack = Dog(\"Jack\", \"Black\")\n",
        "jack.bark()"
      ],
      "execution_count": 28,
      "outputs": [
        {
          "output_type": "stream",
          "text": [
            "Woof :p\n"
          ],
          "name": "stdout"
        }
      ]
    },
    {
      "cell_type": "markdown",
      "metadata": {
        "id": "qDZbkn0QFfE5",
        "colab_type": "text"
      },
      "source": [
        "## Ocultamiento de Información\n",
        "\n",
        "Un componente clave en la programación orientada a objetos es el **encapsulamiento**, que involucra empaquetar las variables y funciones relacionadas en un único objeto fácil de usar.\n",
        "\n",
        "Un concepto asociado es el **ocultamiento de información**, el cual dicta que los **detalles** de implementación de una clase deben estar ocultos y que sean presentados a aquellos que quieran utilizar la clase en una interfaz estandar limpia.\n",
        "\n",
        "En python, no hay maneras de imponer que un método o atributo sea estrictamente privado. \n",
        "\n",
        "Se asume que no se forzará el acceso a estos atributos, también se usa esta convensión para evitar errores en caso de qu[texto del enlace](https://)e existan subclases que tengan métodos o atributos con los mismos nombres"
      ]
    },
    {
      "cell_type": "markdown",
      "metadata": {
        "id": "J52upZnAMOEj",
        "colab_type": "text"
      },
      "source": [
        "### Métodos devilmente tipados"
      ]
    },
    {
      "cell_type": "markdown",
      "metadata": {
        "id": "gab7eIR1H_wK",
        "colab_type": "text"
      },
      "source": [
        "Los métodos y atributos débilmente privados tienen un **único guión bajo** al principio.\n",
        "\n",
        "Esto señala que son privados, y no deberían ser utilizados por código externo. Sin embargo, es en su mayor parte una convensión, y no impide que el código externo los acceda.\n",
        "\n",
        "Su único efecto verdadero es que `from module_name import *` no importará a las variables que empiecen con un único guion bajo."
      ]
    },
    {
      "cell_type": "code",
      "metadata": {
        "id": "1grE_nESHVcw",
        "colab_type": "code",
        "colab": {}
      },
      "source": [
        "class Person:\n",
        "  def __init__(self, name, last_name, age, document):\n",
        "    self.name = name\n",
        "    self.last_name = last_name\n",
        "    self.age = age\n",
        "    # Defino un atributo privado\n",
        "    self._document = document\n",
        "    self.full_name = self._create_full_name()\n",
        "\n",
        "  # Defino un método privado\n",
        "  def _create_full_name(self):\n",
        "    return \"{} {}\".format(self.name, self.last_name)"
      ],
      "execution_count": 33,
      "outputs": []
    },
    {
      "cell_type": "code",
      "metadata": {
        "id": "bkVvfJHRKSCb",
        "colab_type": "code",
        "colab": {
          "base_uri": "https://localhost:8080/",
          "height": 34
        },
        "outputId": "0de03cb3-1bc3-4efe-d951-82537643dd0d"
      },
      "source": [
        "tatiana = Person(\"Tatiana\", \"Zambrano\", \"95\", \"123456789\")\n",
        "# Accedo a un atributo no privado\n",
        "print(tatiana.full_name)"
      ],
      "execution_count": 34,
      "outputs": [
        {
          "output_type": "stream",
          "text": [
            "Tatiana Zambrano\n"
          ],
          "name": "stdout"
        }
      ]
    },
    {
      "cell_type": "code",
      "metadata": {
        "id": "jFWED-7gK6vk",
        "colab_type": "code",
        "colab": {
          "base_uri": "https://localhost:8080/",
          "height": 34
        },
        "outputId": "4dca881d-0f8d-44e9-de75-c483199c453c"
      },
      "source": [
        "# Aunque estéé marcado como privado, este método puede ser accedido\n",
        "# por código externo\n",
        "print(tatiana._create_full_name())"
      ],
      "execution_count": 36,
      "outputs": [
        {
          "output_type": "stream",
          "text": [
            "Tatiana Zambrano\n"
          ],
          "name": "stdout"
        }
      ]
    },
    {
      "cell_type": "code",
      "metadata": {
        "id": "JTyj7yn-MajW",
        "colab_type": "code",
        "colab": {
          "base_uri": "https://localhost:8080/",
          "height": 34
        },
        "outputId": "07cb0ca7-ddb6-49e0-8c7c-4bc9e41e7345"
      },
      "source": [
        "print(tatiana._document)"
      ],
      "execution_count": 37,
      "outputs": [
        {
          "output_type": "stream",
          "text": [
            "123456789\n"
          ],
          "name": "stdout"
        }
      ]
    },
    {
      "cell_type": "markdown",
      "metadata": {
        "id": "rCXBjvgDMgj2",
        "colab_type": "text"
      },
      "source": [
        "### Métodos fuertemente tipados"
      ]
    },
    {
      "cell_type": "markdown",
      "metadata": {
        "id": "H062uFeUMmzg",
        "colab_type": "text"
      },
      "source": [
        "Tienen **doble guion bajo** al principio de sus nombres. Esto hace que sus nombres sean decorados, lo cual significa que no pueden ser accedidos desde afuera de la clase de manera convencional.\n",
        "\n",
        "Estos métodos o atributos pueden ser accedidos con un nombre diferente:\n",
        "\n",
        "```python\n",
        "# inicia con 1 guion bajo\n",
        "# entre el nombre de la clase y el atributo o método van 2 guiones bajos\n",
        "_NombreClase__atributo\n",
        "_NombreClase__metodo\n",
        "```"
      ]
    },
    {
      "cell_type": "code",
      "metadata": {
        "colab_type": "code",
        "id": "oSpPIJZzOFXi",
        "colab": {}
      },
      "source": [
        "class Person:\n",
        "  def __init__(self, name, last_name, age, document):\n",
        "    self.name = name\n",
        "    self.last_name = last_name\n",
        "    self.age = age\n",
        "    # Defino un atributo privado\n",
        "    self.__document = document\n",
        "    self.full_name = self.__create_full_name()\n",
        "\n",
        "  # Defino un método privado\n",
        "  def __create_full_name(self):\n",
        "    return \"{} {}\".format(self.name, self.last_name)"
      ],
      "execution_count": 47,
      "outputs": []
    },
    {
      "cell_type": "code",
      "metadata": {
        "id": "AbQ92i61OJln",
        "colab_type": "code",
        "colab": {
          "base_uri": "https://localhost:8080/",
          "height": 34
        },
        "outputId": "49464f54-f3c2-4739-afc4-a12180db88d8"
      },
      "source": [
        "diana = Person(\"Diana\", \"Sanchez\", \"20\", \"987654321\")\n",
        "print(diana.full_name)"
      ],
      "execution_count": 48,
      "outputs": [
        {
          "output_type": "stream",
          "text": [
            "Diana Sanchez\n"
          ],
          "name": "stdout"
        }
      ]
    },
    {
      "cell_type": "code",
      "metadata": {
        "id": "cboLvnPGOlnf",
        "colab_type": "code",
        "colab": {}
      },
      "source": [
        "#print(diana.__create_full_name) # ERROR"
      ],
      "execution_count": 40,
      "outputs": []
    },
    {
      "cell_type": "code",
      "metadata": {
        "id": "of7ocUg_Ovzw",
        "colab_type": "code",
        "colab": {
          "base_uri": "https://localhost:8080/",
          "height": 34
        },
        "outputId": "605289d7-830b-4ffb-a17d-aeb415dc31ca"
      },
      "source": [
        "# diana._NombreClase__Atributo\n",
        "print(diana._Person__document)"
      ],
      "execution_count": 49,
      "outputs": [
        {
          "output_type": "stream",
          "text": [
            "987654321\n"
          ],
          "name": "stdout"
        }
      ]
    },
    {
      "cell_type": "code",
      "metadata": {
        "id": "20TkALXuPc2d",
        "colab_type": "code",
        "colab": {
          "base_uri": "https://localhost:8080/",
          "height": 34
        },
        "outputId": "171a132c-3501-472a-cf65-58b6326fc3a4"
      },
      "source": [
        "# NO olviden los parentesis después del nombre del método\n",
        "# diana._NombreClase__Método()\n",
        "print(diana._Person__create_full_name())"
      ],
      "execution_count": 53,
      "outputs": [
        {
          "output_type": "stream",
          "text": [
            "Diana Sanchez\n"
          ],
          "name": "stdout"
        }
      ]
    },
    {
      "cell_type": "markdown",
      "metadata": {
        "id": "wngpaqtrGnbk",
        "colab_type": "text"
      },
      "source": [
        "# Módulos Numpy y Pandas"
      ]
    },
    {
      "cell_type": "markdown",
      "metadata": {
        "id": "KXYQ6Z5tIJuG",
        "colab_type": "text"
      },
      "source": [
        "## Numpy\n",
        "\n",
        "Numpy es el módulo fundamental para la computación científica con Python.\n",
        "\n",
        "* Matrices multidimensionales\n",
        "* Herramientas avanzadas para algebra líneal\n",
        "* Funciones para trabajar con número aleatorios\n",
        "* Su nucleo de procesamiento por debajo de Python está escrito en Fortran y C++"
      ]
    },
    {
      "cell_type": "markdown",
      "metadata": {
        "id": "7sfRK_siIfYU",
        "colab_type": "text"
      },
      "source": [
        "### Carga de módulo de Numpy"
      ]
    },
    {
      "cell_type": "code",
      "metadata": {
        "id": "4eypCa6TIh4N",
        "colab_type": "code",
        "colab": {}
      },
      "source": [
        "import numpy as np"
      ],
      "execution_count": null,
      "outputs": []
    },
    {
      "cell_type": "markdown",
      "metadata": {
        "id": "Urh-57JFIpRV",
        "colab_type": "text"
      },
      "source": [
        "### Tipos de datos en Numpy\n",
        "\n",
        "* Data type Description\n",
        "* bool_ Boolean (True or False) stored as a byte\n",
        "* int_ Default integer type (same as C long; normally either int64 or - int32)\n",
        "* intc Identical to C int (normally int32 or int64)\n",
        "* intp Integer used for indexing (same as C ssize_t; normally either - int32 or int64)\n",
        "* int8 Byte (-128 to 127)\n",
        "* int16 Integer (-32768 to 32767)\n",
        "* int32 Integer (-2147483648 to 2147483647)\n",
        "* int64 Integer (-9223372036854775808 to 9223372036854775807)\n",
        "* uint8 Unsigned integer (0 to 255)\n",
        "* uint16 Unsigned integer (0 to 65535)\n",
        "* uint32 Unsigned integer (0 to 4294967295)\n",
        "* uint64 Unsigned integer (0 to 18446744073709551615)\n",
        "* float_ Shorthand for float64.\n",
        "* float16 Half precision float: sign bit, 5 bits exponent, 10 bits - - mantissa\n",
        "* float32 Single precision float: sign bit, 8 bits exponent, 23 bits - mantissa\n",
        "* float64 Double precision float: sign bit, 11 bits exponent, 52 - - bits mantissa\n",
        "* complex_ Shorthand for complex128.\n",
        "* complex64 Complex number, represented by two 32-bit floats\n",
        "* complex128 Complex number, represented by two 64-bit floats"
      ]
    },
    {
      "cell_type": "markdown",
      "metadata": {
        "id": "zRyGsE3HJBwk",
        "colab_type": "text"
      },
      "source": [
        "### Creación de Arrays en Numpy"
      ]
    },
    {
      "cell_type": "code",
      "metadata": {
        "id": "eHoAwGJsJM5G",
        "colab_type": "code",
        "colab": {
          "base_uri": "https://localhost:8080/",
          "height": 72
        },
        "outputId": "fbdfa064-4d26-4420-b820-ed7accd265f5"
      },
      "source": [
        "a = np.array([1, 2, 3, 4, 5, 6])   \n",
        "\n",
        "print(a)\n",
        "print(type(a))           \n",
        "print(a.shape) "
      ],
      "execution_count": null,
      "outputs": [
        {
          "output_type": "stream",
          "text": [
            "[1 2 3 4 5 6]\n",
            "<class 'numpy.ndarray'>\n",
            "(6,)\n"
          ],
          "name": "stdout"
        }
      ]
    },
    {
      "cell_type": "code",
      "metadata": {
        "id": "DWuHW1M8JNff",
        "colab_type": "code",
        "colab": {
          "base_uri": "https://localhost:8080/",
          "height": 72
        },
        "outputId": "91fb33c4-a328-4ef7-cdb0-b7acadbf8a67"
      },
      "source": [
        "a = np.array([0, 1, 2, 3, 4, 5, 6], dtype=np.float64)   \n",
        "\n",
        "print(a)\n",
        "print(type(a))\n",
        "# Imprimir el atributo shape        \n",
        "print(a.shape)  "
      ],
      "execution_count": null,
      "outputs": [
        {
          "output_type": "stream",
          "text": [
            "[0. 1. 2. 3. 4. 5. 6.]\n",
            "<class 'numpy.ndarray'>\n",
            "(7,)\n"
          ],
          "name": "stdout"
        }
      ]
    },
    {
      "cell_type": "markdown",
      "metadata": {
        "id": "WhfID5kbJZXe",
        "colab_type": "text"
      },
      "source": [
        "#### Creación de arrays especiales\n",
        "* Arrays con ceros\n",
        "* Arrays con unos\n",
        "* Arrays con constante\n",
        "* Matriz identidad\n",
        "* Arrays con números aleatorios"
      ]
    },
    {
      "cell_type": "markdown",
      "metadata": {
        "id": "GKqCN2hxKKNy",
        "colab_type": "text"
      },
      "source": [
        "##### Arrays con ceros"
      ]
    },
    {
      "cell_type": "code",
      "metadata": {
        "id": "wS0sdvFbJQkA",
        "colab_type": "code",
        "colab": {
          "base_uri": "https://localhost:8080/",
          "height": 126
        },
        "outputId": "ac0b4b8a-2322-4404-c07f-b025e7a87e32"
      },
      "source": [
        "a = np.zeros((5,3))   \n",
        "\n",
        "print(a)\n",
        "print(a.shape)"
      ],
      "execution_count": null,
      "outputs": [
        {
          "output_type": "stream",
          "text": [
            "[[0. 0. 0.]\n",
            " [0. 0. 0.]\n",
            " [0. 0. 0.]\n",
            " [0. 0. 0.]\n",
            " [0. 0. 0.]]\n",
            "(5, 3)\n"
          ],
          "name": "stdout"
        }
      ]
    },
    {
      "cell_type": "code",
      "metadata": {
        "id": "f0S9U0vXL7LI",
        "colab_type": "code",
        "colab": {
          "base_uri": "https://localhost:8080/",
          "height": 726
        },
        "outputId": "d6af9828-9656-428f-da16-4ba928e3bec7"
      },
      "source": [
        "a = np.zeros(shape=(4,3,2,1))   \n",
        "\n",
        "print(a)\n",
        "print(a.shape)"
      ],
      "execution_count": null,
      "outputs": [
        {
          "output_type": "stream",
          "text": [
            "[[[[0.]\n",
            "   [0.]]\n",
            "\n",
            "  [[0.]\n",
            "   [0.]]\n",
            "\n",
            "  [[0.]\n",
            "   [0.]]]\n",
            "\n",
            "\n",
            " [[[0.]\n",
            "   [0.]]\n",
            "\n",
            "  [[0.]\n",
            "   [0.]]\n",
            "\n",
            "  [[0.]\n",
            "   [0.]]]\n",
            "\n",
            "\n",
            " [[[0.]\n",
            "   [0.]]\n",
            "\n",
            "  [[0.]\n",
            "   [0.]]\n",
            "\n",
            "  [[0.]\n",
            "   [0.]]]\n",
            "\n",
            "\n",
            " [[[0.]\n",
            "   [0.]]\n",
            "\n",
            "  [[0.]\n",
            "   [0.]]\n",
            "\n",
            "  [[0.]\n",
            "   [0.]]]]\n",
            "(4, 3, 2, 1)\n"
          ],
          "name": "stdout"
        }
      ]
    },
    {
      "cell_type": "markdown",
      "metadata": {
        "id": "9JDTJHLiKRYm",
        "colab_type": "text"
      },
      "source": [
        "##### Arrays con unos"
      ]
    },
    {
      "cell_type": "code",
      "metadata": {
        "id": "PFIc5HAQJpPC",
        "colab_type": "code",
        "colab": {
          "base_uri": "https://localhost:8080/",
          "height": 54
        },
        "outputId": "99c40656-e49e-468d-a361-fde12474edce"
      },
      "source": [
        "a = np.ones((2,7))    \n",
        "\n",
        "print(a)  "
      ],
      "execution_count": null,
      "outputs": [
        {
          "output_type": "stream",
          "text": [
            "[[1. 1. 1. 1. 1. 1. 1.]\n",
            " [1. 1. 1. 1. 1. 1. 1.]]\n"
          ],
          "name": "stdout"
        }
      ]
    },
    {
      "cell_type": "markdown",
      "metadata": {
        "id": "VtihrLwrKXpt",
        "colab_type": "text"
      },
      "source": [
        "##### Arrays con constante"
      ]
    },
    {
      "cell_type": "code",
      "metadata": {
        "id": "EkiCvrOtJtyC",
        "colab_type": "code",
        "colab": {
          "base_uri": "https://localhost:8080/",
          "height": 90
        },
        "outputId": "01f6aba0-8bb0-444f-ae11-f19725491b5c"
      },
      "source": [
        "a = np.full((4,4), 8)  \n",
        "\n",
        "print(a)     "
      ],
      "execution_count": null,
      "outputs": [
        {
          "output_type": "stream",
          "text": [
            "[[8 8 8 8]\n",
            " [8 8 8 8]\n",
            " [8 8 8 8]\n",
            " [8 8 8 8]]\n"
          ],
          "name": "stdout"
        }
      ]
    },
    {
      "cell_type": "markdown",
      "metadata": {
        "id": "QpjZoWC2KdvZ",
        "colab_type": "text"
      },
      "source": [
        "##### Matriz identidad"
      ]
    },
    {
      "cell_type": "code",
      "metadata": {
        "id": "39UYUtgpJ5Iq",
        "colab_type": "code",
        "colab": {
          "base_uri": "https://localhost:8080/",
          "height": 108
        },
        "outputId": "127d6124-77e7-4199-a2cd-545f7ed197cb"
      },
      "source": [
        "a = np.eye(5)         \n",
        "\n",
        "print(a) "
      ],
      "execution_count": null,
      "outputs": [
        {
          "output_type": "stream",
          "text": [
            "[[1. 0. 0. 0. 0.]\n",
            " [0. 1. 0. 0. 0.]\n",
            " [0. 0. 1. 0. 0.]\n",
            " [0. 0. 0. 1. 0.]\n",
            " [0. 0. 0. 0. 1.]]\n"
          ],
          "name": "stdout"
        }
      ]
    },
    {
      "cell_type": "markdown",
      "metadata": {
        "id": "4buBIKbBKijW",
        "colab_type": "text"
      },
      "source": [
        "##### Arrays con números aleatorios"
      ]
    },
    {
      "cell_type": "code",
      "metadata": {
        "id": "jwiCZkiUJ7u_",
        "colab_type": "code",
        "colab": {
          "base_uri": "https://localhost:8080/",
          "height": 145
        },
        "outputId": "a9497d2a-9a45-4d36-870e-7a6897e71737"
      },
      "source": [
        "a = np.random.random((2,3,2))  \n",
        "print(a) "
      ],
      "execution_count": null,
      "outputs": [
        {
          "output_type": "stream",
          "text": [
            "[[[0.45540596 0.5530675 ]\n",
            "  [0.94402987 0.64188692]\n",
            "  [0.64279974 0.7367139 ]]\n",
            "\n",
            " [[0.80752483 0.22095059]\n",
            "  [0.85933802 0.99843073]\n",
            "  [0.83156559 0.31157198]]]\n"
          ],
          "name": "stdout"
        }
      ]
    },
    {
      "cell_type": "markdown",
      "metadata": {
        "id": "vwSuEAhIObsS",
        "colab_type": "text"
      },
      "source": [
        "#### Indexamiento de arrays de numpy\n",
        "\n",
        "* Accediendo a elementos por indice\n",
        "* Accediendo a elementos por slice"
      ]
    },
    {
      "cell_type": "markdown",
      "metadata": {
        "id": "QpEZvYrFOhZB",
        "colab_type": "text"
      },
      "source": [
        "##### Accediendo a elementos por indice"
      ]
    },
    {
      "cell_type": "code",
      "metadata": {
        "id": "LUb2WNN1Ogv6",
        "colab_type": "code",
        "colab": {
          "base_uri": "https://localhost:8080/"
        },
        "outputId": "58321470-49be-403f-c8e9-92fa0676373f"
      },
      "source": [
        "a = np.array([[1,2,3,4], [5,6,7,8], [9,10,11,12]])\n",
        "\n",
        "print(a)\n",
        "\n",
        "#print(a[1])\n",
        "\n",
        "#print(a[2][3])\n",
        "\n",
        "#print(a[2,3])"
      ],
      "execution_count": null,
      "outputs": [
        {
          "output_type": "stream",
          "text": [
            "[[ 1  2  3  4]\n",
            " [ 5  6  7  8]\n",
            " [ 9 10 11 12]]\n"
          ],
          "name": "stdout"
        }
      ]
    },
    {
      "cell_type": "markdown",
      "metadata": {
        "id": "zpzAwe_5O1Jz",
        "colab_type": "text"
      },
      "source": [
        "##### Accediendo a elementos por slice"
      ]
    },
    {
      "cell_type": "code",
      "metadata": {
        "id": "LLoCyLbEO6_V",
        "colab_type": "code",
        "colab": {
          "base_uri": "https://localhost:8080/",
          "height": 235
        },
        "outputId": "91f88be7-b207-4dc1-cb33-a564508e6371"
      },
      "source": [
        "a = np.array([[1,2,3,4], [5,6,7,8], [9,10,11,12]])\n",
        "\n",
        "print(a)\n",
        "\n",
        "# Primeras 2 filas\n",
        "print(a[:2])\n",
        "\n",
        "# Ultimas 2 columnas de las 2 primeras filas\n",
        "print(a[:2,-2:])\n",
        "\n",
        "# Ultimas 3 columnas de las 2 primeras filas\n",
        "print(a[:2,-3:])\n",
        "\n",
        "print(a[::-1, ::-1])"
      ],
      "execution_count": null,
      "outputs": [
        {
          "output_type": "stream",
          "text": [
            "[[ 1  2  3  4]\n",
            " [ 5  6  7  8]\n",
            " [ 9 10 11 12]]\n",
            "[[1 2 3 4]\n",
            " [5 6 7 8]]\n",
            "[[3 4]\n",
            " [7 8]]\n",
            "[[2 3 4]\n",
            " [6 7 8]]\n",
            "[[12 11 10  9]\n",
            " [ 8  7  6  5]\n",
            " [ 4  3  2  1]]\n"
          ],
          "name": "stdout"
        }
      ]
    },
    {
      "cell_type": "code",
      "metadata": {
        "id": "5ZC2r70ZQJRJ",
        "colab_type": "code",
        "colab": {
          "base_uri": "https://localhost:8080/",
          "height": 54
        },
        "outputId": "c2411606-7ce3-4b61-b57b-173f27e7b702"
      },
      "source": [
        "a = np.array([[1,2,3,4], [5,6,7,8], [9,10,11,12]])\n",
        "\n",
        "row_r1 = a[1]    \n",
        "row_r2 = a[1:2]  \n",
        "\n",
        "print(row_r1, row_r1.shape)  \n",
        "print(row_r2, row_r2.shape)"
      ],
      "execution_count": null,
      "outputs": [
        {
          "output_type": "stream",
          "text": [
            "[5 6 7 8] (4,)\n",
            "[[5 6 7 8]] (1, 4)\n"
          ],
          "name": "stdout"
        }
      ]
    },
    {
      "cell_type": "markdown",
      "metadata": {
        "id": "Xvuq_oABQML6",
        "colab_type": "text"
      },
      "source": [
        "#### Broadcasting con arrays de Numpy\n",
        "\n",
        "El broadcasting es coger una operación aritmetica y replicarla a lo largo de un array de numpy"
      ]
    },
    {
      "cell_type": "code",
      "metadata": {
        "id": "z8BDnVD-QJ_z",
        "colab_type": "code",
        "colab": {
          "base_uri": "https://localhost:8080/",
          "height": 90
        },
        "outputId": "03e16422-b7ea-4198-9730-8d5fec229867"
      },
      "source": [
        "a = np.arange(10)\n",
        "a = a.reshape((2,5))\n",
        "\n",
        "b = a + 10\n",
        "\n",
        "print(a)\n",
        "print(b)"
      ],
      "execution_count": null,
      "outputs": [
        {
          "output_type": "stream",
          "text": [
            "[[0 1 2 3 4]\n",
            " [5 6 7 8 9]]\n",
            "[[10 11 12 13 14]\n",
            " [15 16 17 18 19]]\n"
          ],
          "name": "stdout"
        }
      ]
    },
    {
      "cell_type": "markdown",
      "metadata": {
        "id": "TecSidKyQg9i",
        "colab_type": "text"
      },
      "source": [
        "#### Operaciones por columna o por fila"
      ]
    },
    {
      "cell_type": "code",
      "metadata": {
        "id": "DA6EnXhdQgby",
        "colab_type": "code",
        "colab": {
          "base_uri": "https://localhost:8080/",
          "height": 126
        },
        "outputId": "577308dd-bdd2-4340-94f1-c16fee731615"
      },
      "source": [
        "a = np.arange(12)\n",
        "a = a.reshape((3,4))\n",
        "\n",
        "print(a)\n",
        "\n",
        "# 0 + 1 + 2 + ... + 11\n",
        "print(np.sum(a)) \n",
        "print(np.sum(a, axis=0))  \n",
        "print(np.sum(a, axis=1))"
      ],
      "execution_count": null,
      "outputs": [
        {
          "output_type": "stream",
          "text": [
            "[[ 0  1  2  3]\n",
            " [ 4  5  6  7]\n",
            " [ 8  9 10 11]]\n",
            "66\n",
            "[12 15 18 21]\n",
            "[ 6 22 38]\n"
          ],
          "name": "stdout"
        }
      ]
    },
    {
      "cell_type": "markdown",
      "metadata": {
        "id": "y5aRuM6vRRU2",
        "colab_type": "text"
      },
      "source": [
        "#### Operaciones matriciales elemento a elemento"
      ]
    },
    {
      "cell_type": "code",
      "metadata": {
        "id": "oRHz9jFFRUER",
        "colab_type": "code",
        "colab": {
          "base_uri": "https://localhost:8080/",
          "height": 126
        },
        "outputId": "638e3747-7638-43a0-de72-a2309656f42d"
      },
      "source": [
        "a = np.arange(4)\n",
        "a = a.reshape(2,2)\n",
        "\n",
        "b = np.arange(10,14)\n",
        "b = b.reshape(2,2)\n",
        "\n",
        "print(a)\n",
        "\n",
        "print(b)\n",
        "\n",
        "print(a / b)"
      ],
      "execution_count": null,
      "outputs": [
        {
          "output_type": "stream",
          "text": [
            "[[0 1]\n",
            " [2 3]]\n",
            "[[10 11]\n",
            " [12 13]]\n",
            "[[0.         0.09090909]\n",
            " [0.16666667 0.23076923]]\n"
          ],
          "name": "stdout"
        }
      ]
    },
    {
      "cell_type": "markdown",
      "metadata": {
        "id": "mJTMSAjdRWfp",
        "colab_type": "text"
      },
      "source": [
        "#### Indexado Booleano"
      ]
    },
    {
      "cell_type": "code",
      "metadata": {
        "id": "IZHBI7cfRb2Z",
        "colab_type": "code",
        "colab": {
          "base_uri": "https://localhost:8080/",
          "height": 399
        },
        "outputId": "0bafc0ed-7852-4287-b895-f384ccae87a3"
      },
      "source": [
        "a = np.arange(16)\n",
        "b = np.random.choice(a, 16)\n",
        "b = b.reshape(4, 4)\n",
        "\n",
        "matriz_logica = b < 8\n",
        "\n",
        "c = b.copy()\n",
        "c[matriz_logica] = -1\n",
        "\n",
        "\n",
        "print(b,'\\n')\n",
        "print(matriz_logica,'\\n')\n",
        "\n",
        "# Imprimir objetos menores a 8 de la matriz b\n",
        "print(b[matriz_logica],'\\n')\n",
        "\n",
        "print(b, '\\n')\n",
        "\n",
        "print(c)"
      ],
      "execution_count": null,
      "outputs": [
        {
          "output_type": "stream",
          "text": [
            "[[ 3 12 10 14]\n",
            " [ 6  1  9  2]\n",
            " [15 13 12  9]\n",
            " [ 6  9  4 15]] \n",
            "\n",
            "[[ True False False False]\n",
            " [ True  True False  True]\n",
            " [False False False False]\n",
            " [ True False  True False]] \n",
            "\n",
            "[3 6 1 2 6 4] \n",
            "\n",
            "[[ 3 12 10 14]\n",
            " [ 6  1  9  2]\n",
            " [15 13 12  9]\n",
            " [ 6  9  4 15]] \n",
            "\n",
            "[[-1 12 10 14]\n",
            " [-1 -1  9 -1]\n",
            " [15 13 12  9]\n",
            " [-1  9 -1 15]]\n"
          ],
          "name": "stdout"
        }
      ]
    },
    {
      "cell_type": "markdown",
      "metadata": {
        "id": "a4WWodNcSh-r",
        "colab_type": "text"
      },
      "source": [
        "## Pandas\n",
        "pandas es una biblioteca de código abierto con licencia BSD que proporciona estructuras de datos y herramientas de análisis de datos de alto rendimiento; fáciles de usar para el lenguaje de programación Python."
      ]
    },
    {
      "cell_type": "markdown",
      "metadata": {
        "id": "ihOCK5dfSoXR",
        "colab_type": "text"
      },
      "source": [
        "### Carga de módulo de Pandas"
      ]
    },
    {
      "cell_type": "code",
      "metadata": {
        "id": "M5Lfi4WDRue3",
        "colab_type": "code",
        "colab": {}
      },
      "source": [
        "import pandas as pd"
      ],
      "execution_count": null,
      "outputs": []
    },
    {
      "cell_type": "markdown",
      "metadata": {
        "id": "nMTqb8MMStLj",
        "colab_type": "text"
      },
      "source": [
        "### Estructuras de datos en Pandas\n",
        "\n",
        "* Series\n",
        "* Dataframes"
      ]
    },
    {
      "cell_type": "markdown",
      "metadata": {
        "id": "zkDp_c_9Szx7",
        "colab_type": "text"
      },
      "source": [
        "#### Series\n",
        "\n",
        "Una serie es un array unidimensional (con tipos de datos de numpy), cada uno de sus elementos está etiquetado. Las etiqueta se llaman índices."
      ]
    },
    {
      "cell_type": "markdown",
      "metadata": {
        "id": "7gSJol0iS6Ad",
        "colab_type": "text"
      },
      "source": [
        "##### Creación de una serie"
      ]
    },
    {
      "cell_type": "code",
      "metadata": {
        "id": "WzlrpAm2SrbT",
        "colab_type": "code",
        "colab": {
          "base_uri": "https://localhost:8080/",
          "height": 163
        },
        "outputId": "2102bb23-0322-45aa-e541-29f108479a28"
      },
      "source": [
        "# Ejemplo\n",
        "\n",
        "'''\n",
        " La primera columna inicia desde 0 por defecto y la segunda columna es poblada\n",
        " con los valores especificados en la lista\n",
        "'''\n",
        "serie1 = pd.Series([1,2,3,4,5,6])\n",
        "print(serie1)\n",
        "print(type(serie1))"
      ],
      "execution_count": null,
      "outputs": [
        {
          "output_type": "stream",
          "text": [
            "0    1\n",
            "1    2\n",
            "2    3\n",
            "3    4\n",
            "4    5\n",
            "5    6\n",
            "dtype: int64\n",
            "<class 'pandas.core.series.Series'>\n"
          ],
          "name": "stdout"
        }
      ]
    },
    {
      "cell_type": "markdown",
      "metadata": {
        "id": "sCHjEQsOTBGt",
        "colab_type": "text"
      },
      "source": [
        "##### Acceder a elementos e índices de una serie"
      ]
    },
    {
      "cell_type": "code",
      "metadata": {
        "id": "RMmPGriwTDK8",
        "colab_type": "code",
        "colab": {
          "base_uri": "https://localhost:8080/",
          "height": 35
        },
        "outputId": "d1b0b173-1cd4-4722-e5fd-c224ccdf352f"
      },
      "source": [
        "# Obtener valores\n",
        "serie1.values\n",
        "\n",
        "# Obtener índices\n",
        "serie1.index\n",
        "list(serie1.index)"
      ],
      "execution_count": null,
      "outputs": [
        {
          "output_type": "execute_result",
          "data": {
            "text/plain": [
              "[0, 1, 2, 3, 4, 5]"
            ]
          },
          "metadata": {
            "tags": []
          },
          "execution_count": 23
        }
      ]
    },
    {
      "cell_type": "code",
      "metadata": {
        "id": "C0BGpuA2TQ7m",
        "colab_type": "code",
        "colab": {
          "base_uri": "https://localhost:8080/",
          "height": 145
        },
        "outputId": "6b1ac809-a806-481a-8726-fcd621b200bd"
      },
      "source": [
        "# Ejemplo de serie con index personalizados\n",
        "\n",
        "serie1 = pd.Series([1,2,3,4,5,6], index=['a', 'b', 'c', 'd', 'e', 'f'])\n",
        "print(serie1)"
      ],
      "execution_count": null,
      "outputs": [
        {
          "output_type": "stream",
          "text": [
            "a    1\n",
            "b    2\n",
            "c    3\n",
            "d    4\n",
            "e    5\n",
            "f    6\n",
            "dtype: int64\n"
          ],
          "name": "stdout"
        }
      ]
    },
    {
      "cell_type": "markdown",
      "metadata": {
        "id": "FfZCjexcUB_q",
        "colab_type": "text"
      },
      "source": [
        "##### Transformar un diccionario en una serie\n"
      ]
    },
    {
      "cell_type": "code",
      "metadata": {
        "id": "HpPnbD9PUHjb",
        "colab_type": "code",
        "colab": {
          "base_uri": "https://localhost:8080/",
          "height": 90
        },
        "outputId": "30f29908-9a42-4797-bcec-fa5b12a8ef9f"
      },
      "source": [
        "# Ejemplo de una Serie construida desde un diccionario\n",
        "\n",
        "dic = {0: 'a', 1: 'b', 2: 'c'}\n",
        "pd.Series(dic)"
      ],
      "execution_count": null,
      "outputs": [
        {
          "output_type": "execute_result",
          "data": {
            "text/plain": [
              "0    a\n",
              "1    b\n",
              "2    c\n",
              "dtype: object"
            ]
          },
          "metadata": {
            "tags": []
          },
          "execution_count": 25
        }
      ]
    },
    {
      "cell_type": "markdown",
      "metadata": {
        "id": "CBA9ennsUc9J",
        "colab_type": "text"
      },
      "source": [
        "##### Opeaciones con series\n",
        "\n",
        "* Broadcasting\n",
        "* indexado booleano"
      ]
    },
    {
      "cell_type": "code",
      "metadata": {
        "id": "5y39ZyFUUcZR",
        "colab_type": "code",
        "colab": {
          "base_uri": "https://localhost:8080/",
          "height": 908
        },
        "outputId": "ce1c2c13-2766-4af2-94c7-0f4f313e01f5"
      },
      "source": [
        "# Ejemplo\n",
        "import string\n",
        "print(string.ascii_letters, '\\n')\n",
        "index = list(string.ascii_letters)[:10]\n",
        "\n",
        "serie1 = pd.Series(np.arange(10), index=index)\n",
        "print(serie1, '\\n')\n",
        "\n",
        "# Broadcasting\n",
        "serie2 = serie1 * 3\n",
        "print(serie2, '\\n')\n",
        "\n",
        "serie3 = np.sqrt(serie1)\n",
        "print(serie3, '\\n')\n",
        "\n",
        "# Indexado booleano\n",
        "serie4 = serie1[serie1 >= 5]\n",
        "print(serie4, '\\n')\n",
        "\n",
        "# Ejemplo con error\n",
        "# serie5 = serie1[serie1 >= 5 and serie1 <= 7]\n",
        "'''\n",
        "El 'and' comun espera dos valores booleanos para operar:\n",
        "T and F \n",
        "\n",
        "Sin embargo se le esta mostrando una lista de valores booleanos: \n",
        "[T, F, T, T] and [T, T, F, T] -> error\n",
        "\n",
        "np.logical_and([T, F, T, T], [T, T, F, T]) = [T, F, F, T]\n",
        "'''\n",
        "serie5 = serie1[np.logical_and(serie1 >= 5, serie1 <= 7)]\n",
        "print(serie5)"
      ],
      "execution_count": null,
      "outputs": [
        {
          "output_type": "stream",
          "text": [
            "abcdefghijklmnopqrstuvwxyzABCDEFGHIJKLMNOPQRSTUVWXYZ \n",
            "\n",
            "a    0\n",
            "b    1\n",
            "c    2\n",
            "d    3\n",
            "e    4\n",
            "f    5\n",
            "g    6\n",
            "h    7\n",
            "i    8\n",
            "j    9\n",
            "dtype: int64 \n",
            "\n",
            "a     0\n",
            "b     3\n",
            "c     6\n",
            "d     9\n",
            "e    12\n",
            "f    15\n",
            "g    18\n",
            "h    21\n",
            "i    24\n",
            "j    27\n",
            "dtype: int64 \n",
            "\n",
            "a    0.000000\n",
            "b    1.000000\n",
            "c    1.414214\n",
            "d    1.732051\n",
            "e    2.000000\n",
            "f    2.236068\n",
            "g    2.449490\n",
            "h    2.645751\n",
            "i    2.828427\n",
            "j    3.000000\n",
            "dtype: float64 \n",
            "\n",
            "f    5\n",
            "g    6\n",
            "h    7\n",
            "i    8\n",
            "j    9\n",
            "dtype: int64 \n",
            "\n",
            "f    5\n",
            "g    6\n",
            "h    7\n",
            "dtype: int64\n"
          ],
          "name": "stdout"
        }
      ]
    },
    {
      "cell_type": "markdown",
      "metadata": {
        "id": "ZxYJDaeoUnza",
        "colab_type": "text"
      },
      "source": [
        "#### Data Frames\n",
        "\n",
        "Un Dataframe es una estructura de datos que sirve para crear tablas bidimensionales, en donde a cada dimensión tiene etiquetas para acceder a los datos."
      ]
    },
    {
      "cell_type": "markdown",
      "metadata": {
        "id": "QmU2Ayp5U_MM",
        "colab_type": "text"
      },
      "source": [
        "##### Creación de dataframes"
      ]
    },
    {
      "cell_type": "code",
      "metadata": {
        "id": "tT8c7R0sVCPs",
        "colab_type": "code",
        "colab": {
          "base_uri": "https://localhost:8080/",
          "height": 198
        },
        "outputId": "68fab309-d66d-42cf-f2db-60df07e82bb3"
      },
      "source": [
        "dc = {'Nombre': ['Francisco', 'Mario', 'Ana', 'Pedro', 'Marta'],\n",
        "      'Edad': [37, 20, 45, 26, 42],\n",
        "      'Género': ['M', 'M', 'F', 'M', 'F']}\n",
        "\n",
        "df1 = pd.DataFrame(dc)\n",
        "df1\n"
      ],
      "execution_count": null,
      "outputs": [
        {
          "output_type": "execute_result",
          "data": {
            "text/html": [
              "<div>\n",
              "<style scoped>\n",
              "    .dataframe tbody tr th:only-of-type {\n",
              "        vertical-align: middle;\n",
              "    }\n",
              "\n",
              "    .dataframe tbody tr th {\n",
              "        vertical-align: top;\n",
              "    }\n",
              "\n",
              "    .dataframe thead th {\n",
              "        text-align: right;\n",
              "    }\n",
              "</style>\n",
              "<table border=\"1\" class=\"dataframe\">\n",
              "  <thead>\n",
              "    <tr style=\"text-align: right;\">\n",
              "      <th></th>\n",
              "      <th>Nombre</th>\n",
              "      <th>Edad</th>\n",
              "      <th>Género</th>\n",
              "    </tr>\n",
              "  </thead>\n",
              "  <tbody>\n",
              "    <tr>\n",
              "      <th>0</th>\n",
              "      <td>Francisco</td>\n",
              "      <td>37</td>\n",
              "      <td>M</td>\n",
              "    </tr>\n",
              "    <tr>\n",
              "      <th>1</th>\n",
              "      <td>Mario</td>\n",
              "      <td>20</td>\n",
              "      <td>M</td>\n",
              "    </tr>\n",
              "    <tr>\n",
              "      <th>2</th>\n",
              "      <td>Ana</td>\n",
              "      <td>45</td>\n",
              "      <td>F</td>\n",
              "    </tr>\n",
              "    <tr>\n",
              "      <th>3</th>\n",
              "      <td>Pedro</td>\n",
              "      <td>26</td>\n",
              "      <td>M</td>\n",
              "    </tr>\n",
              "    <tr>\n",
              "      <th>4</th>\n",
              "      <td>Marta</td>\n",
              "      <td>42</td>\n",
              "      <td>F</td>\n",
              "    </tr>\n",
              "  </tbody>\n",
              "</table>\n",
              "</div>"
            ],
            "text/plain": [
              "      Nombre  Edad Género\n",
              "0  Francisco    37      M\n",
              "1      Mario    20      M\n",
              "2        Ana    45      F\n",
              "3      Pedro    26      M\n",
              "4      Marta    42      F"
            ]
          },
          "metadata": {
            "tags": []
          },
          "execution_count": 27
        }
      ]
    },
    {
      "cell_type": "markdown",
      "metadata": {
        "id": "bn3smvuTfEOI",
        "colab_type": "text"
      },
      "source": [
        "##### Acceso a índices por columnas o por filas"
      ]
    },
    {
      "cell_type": "code",
      "metadata": {
        "id": "FQzr15rhfIXo",
        "colab_type": "code",
        "colab": {
          "base_uri": "https://localhost:8080/",
          "height": 35
        },
        "outputId": "2a570e23-6d57-482b-e0ec-c9ef8cf8453a"
      },
      "source": [
        "# Ejemplo\n",
        "# Por columnas\n",
        "df1.columns\n",
        "\n",
        "# Por filas\n",
        "df1.index"
      ],
      "execution_count": null,
      "outputs": [
        {
          "output_type": "execute_result",
          "data": {
            "text/plain": [
              "RangeIndex(start=0, stop=5, step=1)"
            ]
          },
          "metadata": {
            "tags": []
          },
          "execution_count": 28
        }
      ]
    },
    {
      "cell_type": "markdown",
      "metadata": {
        "id": "4VSSwh2DfObw",
        "colab_type": "text"
      },
      "source": [
        "##### Acceso a los datos por columnas o por filas"
      ]
    },
    {
      "cell_type": "code",
      "metadata": {
        "id": "BjhaNDJOfQ9v",
        "colab_type": "code",
        "colab": {
          "base_uri": "https://localhost:8080/",
          "height": 381
        },
        "outputId": "3b2a0adc-a398-47bd-856c-a6d857b9725e"
      },
      "source": [
        "# Ejemplo de acceso por columnas\n",
        "\n",
        "print(df1['Edad'], '\\n') # El retorno es una Serie\n",
        "print(df1[['Nombre', 'Edad']], '\\n')\n",
        "\n",
        "# Acceder como atributo\n",
        "print(df1.Edad)"
      ],
      "execution_count": null,
      "outputs": [
        {
          "output_type": "stream",
          "text": [
            "0    37\n",
            "1    20\n",
            "2    45\n",
            "3    26\n",
            "4    42\n",
            "Name: Edad, dtype: int64 \n",
            "\n",
            "      Nombre  Edad\n",
            "0  Francisco    37\n",
            "1      Mario    20\n",
            "2        Ana    45\n",
            "3      Pedro    26\n",
            "4      Marta    42 \n",
            "\n",
            "0    37\n",
            "1    20\n",
            "2    45\n",
            "3    26\n",
            "4    42\n",
            "Name: Edad, dtype: int64\n"
          ],
          "name": "stdout"
        }
      ]
    },
    {
      "cell_type": "code",
      "metadata": {
        "id": "7RtjBEJ1fydK",
        "colab_type": "code",
        "colab": {
          "base_uri": "https://localhost:8080/",
          "height": 399
        },
        "outputId": "71dec302-4653-4d6f-d559-b8d81bd015ca"
      },
      "source": [
        "# Ejemplo de acceso por filas\n",
        "\n",
        "# Llaves  Valores de la fila\n",
        "print(df1.loc[0], '\\n') # El retorno es una Serie\n",
        "\n",
        "print(df1.iloc[0], '\\n')\n",
        "\n",
        "# Diferencias entre loc e iloc\n",
        "df2 = df1.copy()\n",
        "\n",
        "# Se redefine el valor de los indices para df2\n",
        "df2.index = np.arange(10,15)\n",
        "print(df2, '\\n')\n",
        "\n",
        "#df2.loc[0]\n",
        "df2.iloc[0]"
      ],
      "execution_count": null,
      "outputs": [
        {
          "output_type": "stream",
          "text": [
            "Nombre    Francisco\n",
            "Edad             37\n",
            "Género            M\n",
            "Name: 0, dtype: object \n",
            "\n",
            "Nombre    Francisco\n",
            "Edad             37\n",
            "Género            M\n",
            "Name: 0, dtype: object \n",
            "\n",
            "       Nombre  Edad Género\n",
            "10  Francisco    37      M\n",
            "11      Mario    20      M\n",
            "12        Ana    45      F\n",
            "13      Pedro    26      M\n",
            "14      Marta    42      F \n",
            "\n"
          ],
          "name": "stdout"
        },
        {
          "output_type": "execute_result",
          "data": {
            "text/plain": [
              "Nombre    Francisco\n",
              "Edad             37\n",
              "Género            M\n",
              "Name: 10, dtype: object"
            ]
          },
          "metadata": {
            "tags": []
          },
          "execution_count": 30
        }
      ]
    },
    {
      "cell_type": "code",
      "metadata": {
        "id": "F3-YWLfFgfD9",
        "colab_type": "code",
        "colab": {
          "base_uri": "https://localhost:8080/",
          "height": 72
        },
        "outputId": "ed232b85-95f2-47ed-c885-63c582910272"
      },
      "source": [
        "# Eliminar personas que sean menores que 40\n",
        "df2 = df1[df1['Edad'] > 40]\n",
        "print(df2)"
      ],
      "execution_count": null,
      "outputs": [
        {
          "output_type": "stream",
          "text": [
            "  Nombre  Edad Género\n",
            "2    Ana    45      F\n",
            "4  Marta    42      F\n"
          ],
          "name": "stdout"
        }
      ]
    },
    {
      "cell_type": "code",
      "metadata": {
        "id": "1VkfzYbCgyMN",
        "colab_type": "code",
        "colab": {
          "base_uri": "https://localhost:8080/",
          "height": 90
        },
        "outputId": "6c8095fb-c2fb-491b-ee57-24db35e3cc09"
      },
      "source": [
        "df2.iloc[0]\n",
        "\n",
        "# Hay un error porque el indice 0 fue eliminado, solo estan 2 y 4\n",
        "#df2.loc[0]"
      ],
      "execution_count": null,
      "outputs": [
        {
          "output_type": "execute_result",
          "data": {
            "text/plain": [
              "Nombre    Ana\n",
              "Edad       45\n",
              "Género      F\n",
              "Name: 2, dtype: object"
            ]
          },
          "metadata": {
            "tags": []
          },
          "execution_count": 32
        }
      ]
    },
    {
      "cell_type": "code",
      "metadata": {
        "id": "VQ4yhB_Ths3W",
        "colab_type": "code",
        "colab": {
          "base_uri": "https://localhost:8080/",
          "height": 235
        },
        "outputId": "dc7a5ec7-a033-4cd2-f8e9-c5ccac71322d"
      },
      "source": [
        "# Ejemplo .ix deprecado y mensaje de warning\n",
        "\n",
        "df1.ix[0]"
      ],
      "execution_count": null,
      "outputs": [
        {
          "output_type": "stream",
          "text": [
            "/usr/local/lib/python3.6/dist-packages/ipykernel_launcher.py:2: FutureWarning: \n",
            ".ix is deprecated. Please use\n",
            ".loc for label based indexing or\n",
            ".iloc for positional indexing\n",
            "\n",
            "See the documentation here:\n",
            "http://pandas.pydata.org/pandas-docs/stable/user_guide/indexing.html#ix-indexer-is-deprecated\n",
            "  \n"
          ],
          "name": "stderr"
        },
        {
          "output_type": "execute_result",
          "data": {
            "text/plain": [
              "Nombre    Francisco\n",
              "Edad             37\n",
              "Género            M\n",
              "Name: 0, dtype: object"
            ]
          },
          "metadata": {
            "tags": []
          },
          "execution_count": 33
        }
      ]
    },
    {
      "cell_type": "markdown",
      "metadata": {
        "id": "z3UmPYOyiGEb",
        "colab_type": "text"
      },
      "source": [
        "##### Obtener todos los elementos de un DataFrame como un array de numpy"
      ]
    },
    {
      "cell_type": "code",
      "metadata": {
        "id": "U3IeKSDhiCvS",
        "colab_type": "code",
        "colab": {
          "base_uri": "https://localhost:8080/",
          "height": 108
        },
        "outputId": "ced154c3-e369-42a5-8c10-32d5014fd683"
      },
      "source": [
        "# Ejemplob\n",
        "\n",
        "df1.values"
      ],
      "execution_count": null,
      "outputs": [
        {
          "output_type": "execute_result",
          "data": {
            "text/plain": [
              "array([['Francisco', 37, 'M'],\n",
              "       ['Mario', 20, 'M'],\n",
              "       ['Ana', 45, 'F'],\n",
              "       ['Pedro', 26, 'M'],\n",
              "       ['Marta', 42, 'F']], dtype=object)"
            ]
          },
          "metadata": {
            "tags": []
          },
          "execution_count": 34
        }
      ]
    },
    {
      "cell_type": "markdown",
      "metadata": {
        "id": "zVGfHHAkiQps",
        "colab_type": "text"
      },
      "source": [
        "##### Formas de iterar un dataframe de pandas\n",
        "\n",
        "* Con un for convencional\n",
        "* Con un iterrows\n",
        "* Con una función lambda"
      ]
    },
    {
      "cell_type": "code",
      "metadata": {
        "id": "Rqd-WyntiO3q",
        "colab_type": "code",
        "colab": {
          "base_uri": "https://localhost:8080/",
          "height": 217
        },
        "outputId": "48772ae5-6bca-474b-adc0-13cc9b933cc0"
      },
      "source": [
        "! wget https://archive.ics.uci.edu/ml/machine-learning-databases/iris/iris.data"
      ],
      "execution_count": null,
      "outputs": [
        {
          "output_type": "stream",
          "text": [
            "--2019-11-14 23:30:07--  https://archive.ics.uci.edu/ml/machine-learning-databases/iris/iris.data\n",
            "Resolving archive.ics.uci.edu (archive.ics.uci.edu)... 128.195.10.252\n",
            "Connecting to archive.ics.uci.edu (archive.ics.uci.edu)|128.195.10.252|:443... connected.\n",
            "HTTP request sent, awaiting response... 200 OK\n",
            "Length: 4551 (4.4K) [application/x-httpd-php]\n",
            "Saving to: ‘iris.data’\n",
            "\n",
            "\riris.data             0%[                    ]       0  --.-KB/s               \riris.data           100%[===================>]   4.44K  --.-KB/s    in 0s      \n",
            "\n",
            "2019-11-14 23:30:07 (87.7 MB/s) - ‘iris.data’ saved [4551/4551]\n",
            "\n"
          ],
          "name": "stdout"
        }
      ]
    },
    {
      "cell_type": "code",
      "metadata": {
        "id": "5InzXHyTicks",
        "colab_type": "code",
        "colab": {
          "base_uri": "https://localhost:8080/",
          "height": 108
        },
        "outputId": "36f8110a-5fbb-4270-e0a2-cc885c7b66a0"
      },
      "source": [
        "! head -n 5 iris.data"
      ],
      "execution_count": null,
      "outputs": [
        {
          "output_type": "stream",
          "text": [
            "5.1,3.5,1.4,0.2,Iris-setosa\n",
            "4.9,3.0,1.4,0.2,Iris-setosa\n",
            "4.7,3.2,1.3,0.2,Iris-setosa\n",
            "4.6,3.1,1.5,0.2,Iris-setosa\n",
            "5.0,3.6,1.4,0.2,Iris-setosa\n"
          ],
          "name": "stdout"
        }
      ]
    },
    {
      "cell_type": "code",
      "metadata": {
        "id": "sr7pt6GzigSH",
        "colab_type": "code",
        "colab": {}
      },
      "source": [
        "iris = pd.read_csv('iris.data', header=None)\n",
        "iris.columns = ['sepal_length', 'sepal_width', 'petal_length', 'petal_width', 'class']"
      ],
      "execution_count": null,
      "outputs": []
    },
    {
      "cell_type": "markdown",
      "metadata": {
        "id": "sqi21S-MizPh",
        "colab_type": "text"
      },
      "source": [
        "###### Con un for convencional"
      ]
    },
    {
      "cell_type": "code",
      "metadata": {
        "id": "sLhGekyai3pQ",
        "colab_type": "code",
        "colab": {
          "base_uri": "https://localhost:8080/",
          "height": 35
        },
        "outputId": "6ac979b1-8ca8-4ea9-a0d3-3e7cee8c821a"
      },
      "source": [
        "from datetime import datetime as dt\n",
        "\n",
        "start = dt.now()\n",
        "\n",
        "sepal_box = np.zeros(len(iris))\n",
        "\n",
        "for index in np.arange(len(iris)):\n",
        "    row_act = iris.iloc[index]\n",
        "    sepal_box[index] = row_act['sepal_length'] * row_act['sepal_width']\n",
        "\n",
        "print(dt.now() - start)"
      ],
      "execution_count": null,
      "outputs": [
        {
          "output_type": "stream",
          "text": [
            "0:00:00.034034\n"
          ],
          "name": "stdout"
        }
      ]
    },
    {
      "cell_type": "markdown",
      "metadata": {
        "id": "_s2lWhrki51h",
        "colab_type": "text"
      },
      "source": [
        "###### Con un iterrows"
      ]
    },
    {
      "cell_type": "code",
      "metadata": {
        "id": "GMZ-hkKYi83Z",
        "colab_type": "code",
        "colab": {
          "base_uri": "https://localhost:8080/",
          "height": 35
        },
        "outputId": "c1f1f306-f986-465d-e0f9-bab119926242"
      },
      "source": [
        "start = dt.now()\n",
        "\n",
        "sepal_box = np.zeros(len(iris))\n",
        "\n",
        "# (index, [...])\n",
        "for index, row in iris.iterrows():\n",
        "    sepal_box[index] = row['sepal_length'] * row['sepal_width']\n",
        "    \n",
        "print(dt.now() - start)"
      ],
      "execution_count": null,
      "outputs": [
        {
          "output_type": "stream",
          "text": [
            "0:00:00.024684\n"
          ],
          "name": "stdout"
        }
      ]
    },
    {
      "cell_type": "markdown",
      "metadata": {
        "id": "b3lJi8JNjrz9",
        "colab_type": "text"
      },
      "source": [
        "###### Con una función lambda"
      ]
    },
    {
      "cell_type": "code",
      "metadata": {
        "id": "5xE6dujAju8F",
        "colab_type": "code",
        "colab": {
          "base_uri": "https://localhost:8080/",
          "height": 35
        },
        "outputId": "0badf032-8d47-4468-9f36-19afdc113f97"
      },
      "source": [
        "def get_box(x):\n",
        "    return x['sepal_length'] * x['sepal_width']\n",
        "\n",
        "get_box(iris.iloc[0])"
      ],
      "execution_count": null,
      "outputs": [
        {
          "output_type": "execute_result",
          "data": {
            "text/plain": [
              "17.849999999999998"
            ]
          },
          "metadata": {
            "tags": []
          },
          "execution_count": 40
        }
      ]
    },
    {
      "cell_type": "code",
      "metadata": {
        "id": "fUg6X8Nci-B6",
        "colab_type": "code",
        "colab": {
          "base_uri": "https://localhost:8080/"
        },
        "outputId": "b788c1b4-8d35-45e0-a39a-338725ba2604"
      },
      "source": [
        "start = dt.now()\n",
        "\n",
        "# axis=1  ->  filas\n",
        "sepal_box = iris.apply(lambda x: get_box(x), axis=1)\n",
        "\n",
        "print(dt.now() - start)"
      ],
      "execution_count": null,
      "outputs": [
        {
          "output_type": "stream",
          "text": [
            "0:00:00.015040\n"
          ],
          "name": "stdout"
        }
      ]
    }
  ]
}