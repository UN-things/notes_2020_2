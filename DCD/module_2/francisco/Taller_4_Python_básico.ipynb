{
  "nbformat": 4,
  "nbformat_minor": 0,
  "metadata": {
    "colab": {
      "name": "Taller_4_Python_básico.ipynb",
      "provenance": [],
      "include_colab_link": true
    },
    "kernelspec": {
      "name": "python3",
      "display_name": "Python 3"
    }
  },
  "cells": [
    {
      "cell_type": "markdown",
      "metadata": {
        "id": "view-in-github",
        "colab_type": "text"
      },
      "source": [
        "<a href=\"https://colab.research.google.com/github/gtzambranop/UN_2020_2/blob/DCD/DCD/module_2_francisco/Taller_4_Python_b%C3%A1sico.ipynb\" target=\"_parent\"><img src=\"https://colab.research.google.com/assets/colab-badge.svg\" alt=\"Open In Colab\"/></a>"
      ]
    },
    {
      "cell_type": "markdown",
      "metadata": {
        "id": "K11Imwsx2N21"
      },
      "source": [
        "\n",
        "## Taller \n",
        "\n",
        "- Cargue los conjuntos de datos de movies y ratings.\n",
        "- Cree el DataFrame df_merged como el join de las dos tablas previamente cargadas.\n",
        "- ¿Cuál es la película que tiene más votos?.\n",
        "- ¿Cuál es la película que tiene menos votos?.\n",
        "- ¿Cuál es la película que tiene mejor calificación promedio votos?.\n",
        "- ¿Cuál es la película que tiene peor calificación promedio votos?.\n",
        "- ¿Cuál es el usuario que más peliculas calificó?\n",
        "- ¿Cuál es o son las peliculas mejor vcalificada por el usuario con userId == 599 ?\n",
        "\n"
      ]
    },
    {
      "cell_type": "code",
      "metadata": {
        "id": "JovMt_MB1jje"
      },
      "source": [
        "# Carga de kibrerías que se usarán\n",
        "import pandas as pd"
      ],
      "execution_count": 14,
      "outputs": []
    },
    {
      "cell_type": "code",
      "metadata": {
        "id": "EPkpFJsv2L6J",
        "outputId": "5d46e9f0-6a94-4255-d2e1-268847e6a897",
        "colab": {
          "base_uri": "https://localhost:8080/",
          "height": 732
        }
      },
      "source": [
        "! wget https://www.dropbox.com/s/z4zoofdgdrxe01r/movies.csv\n",
        "! wget https://www.dropbox.com/s/f328xczt6vju6hi/ratings.csv"
      ],
      "execution_count": 15,
      "outputs": [
        {
          "output_type": "stream",
          "text": [
            "--2020-09-29 01:22:50--  https://www.dropbox.com/s/z4zoofdgdrxe01r/movies.csv\n",
            "Resolving www.dropbox.com (www.dropbox.com)... 162.125.9.1, 2620:100:601d:1::a27d:501\n",
            "Connecting to www.dropbox.com (www.dropbox.com)|162.125.9.1|:443... connected.\n",
            "HTTP request sent, awaiting response... 301 Moved Permanently\n",
            "Location: /s/raw/z4zoofdgdrxe01r/movies.csv [following]\n",
            "--2020-09-29 01:22:50--  https://www.dropbox.com/s/raw/z4zoofdgdrxe01r/movies.csv\n",
            "Reusing existing connection to www.dropbox.com:443.\n",
            "HTTP request sent, awaiting response... 302 Found\n",
            "Location: https://uc12de5299f19e6e2383e814bcfa.dl.dropboxusercontent.com/cd/0/inline/BASux3TcW95laRsOt7RtB3hpOHdojEbAq8S6phoUaCsZNEjbB0a3K1KHhemhvKbjh3y_1h-sRoopzuvEvAtCWB-RM73i5vLKUP80P1qD1rN58xkxjn8bDTTYCc_PM4oOh4E/file# [following]\n",
            "--2020-09-29 01:22:51--  https://uc12de5299f19e6e2383e814bcfa.dl.dropboxusercontent.com/cd/0/inline/BASux3TcW95laRsOt7RtB3hpOHdojEbAq8S6phoUaCsZNEjbB0a3K1KHhemhvKbjh3y_1h-sRoopzuvEvAtCWB-RM73i5vLKUP80P1qD1rN58xkxjn8bDTTYCc_PM4oOh4E/file\n",
            "Resolving uc12de5299f19e6e2383e814bcfa.dl.dropboxusercontent.com (uc12de5299f19e6e2383e814bcfa.dl.dropboxusercontent.com)... 162.125.9.15, 2620:100:601f:15::a27d:90f\n",
            "Connecting to uc12de5299f19e6e2383e814bcfa.dl.dropboxusercontent.com (uc12de5299f19e6e2383e814bcfa.dl.dropboxusercontent.com)|162.125.9.15|:443... connected.\n",
            "HTTP request sent, awaiting response... 200 OK\n",
            "Length: 494431 (483K) [text/plain]\n",
            "Saving to: ‘movies.csv.1’\n",
            "\n",
            "movies.csv.1        100%[===================>] 482.84K  --.-KB/s    in 0.08s   \n",
            "\n",
            "2020-09-29 01:22:51 (5.73 MB/s) - ‘movies.csv.1’ saved [494431/494431]\n",
            "\n",
            "--2020-09-29 01:22:51--  https://www.dropbox.com/s/f328xczt6vju6hi/ratings.csv\n",
            "Resolving www.dropbox.com (www.dropbox.com)... 162.125.9.1, 2620:100:601d:1::a27d:501\n",
            "Connecting to www.dropbox.com (www.dropbox.com)|162.125.9.1|:443... connected.\n",
            "HTTP request sent, awaiting response... 301 Moved Permanently\n",
            "Location: /s/raw/f328xczt6vju6hi/ratings.csv [following]\n",
            "--2020-09-29 01:22:51--  https://www.dropbox.com/s/raw/f328xczt6vju6hi/ratings.csv\n",
            "Reusing existing connection to www.dropbox.com:443.\n",
            "HTTP request sent, awaiting response... 302 Found\n",
            "Location: https://ucf7badf0baf30bdf76af804a208.dl.dropboxusercontent.com/cd/0/inline/BASqeew9MjbTbKbEXVnSoiGZMWdl5iuMWOI6Gv7qiiYwP3Uho8kUKHLMzvEgfmnPCaGMst3Y3VXAYN3i5zQUZ_fegXWu5hCo6-MujHNqi4wqUo9cZz1jYoRzc6NZtPFRtXQ/file# [following]\n",
            "--2020-09-29 01:22:52--  https://ucf7badf0baf30bdf76af804a208.dl.dropboxusercontent.com/cd/0/inline/BASqeew9MjbTbKbEXVnSoiGZMWdl5iuMWOI6Gv7qiiYwP3Uho8kUKHLMzvEgfmnPCaGMst3Y3VXAYN3i5zQUZ_fegXWu5hCo6-MujHNqi4wqUo9cZz1jYoRzc6NZtPFRtXQ/file\n",
            "Resolving ucf7badf0baf30bdf76af804a208.dl.dropboxusercontent.com (ucf7badf0baf30bdf76af804a208.dl.dropboxusercontent.com)... 162.125.9.15, 2620:100:601d:15::a27d:50f\n",
            "Connecting to ucf7badf0baf30bdf76af804a208.dl.dropboxusercontent.com (ucf7badf0baf30bdf76af804a208.dl.dropboxusercontent.com)|162.125.9.15|:443... connected.\n",
            "HTTP request sent, awaiting response... 200 OK\n",
            "Length: 2483723 (2.4M) [text/plain]\n",
            "Saving to: ‘ratings.csv.1’\n",
            "\n",
            "ratings.csv.1       100%[===================>]   2.37M  --.-KB/s    in 0.1s    \n",
            "\n",
            "2020-09-29 01:22:52 (19.2 MB/s) - ‘ratings.csv.1’ saved [2483723/2483723]\n",
            "\n"
          ],
          "name": "stdout"
        }
      ]
    },
    {
      "cell_type": "code",
      "metadata": {
        "id": "hKxEv-e22dnU"
      },
      "source": [
        "# Carga de datos\n",
        "df_movies = pd.read_csv('movies.csv')\n",
        "df_ratings = pd.read_csv('ratings.csv')"
      ],
      "execution_count": 16,
      "outputs": []
    },
    {
      "cell_type": "code",
      "metadata": {
        "id": "f5I-86E72wV1",
        "outputId": "7806488a-fded-4e98-b883-13a5e7d6ec39",
        "colab": {
          "base_uri": "https://localhost:8080/",
          "height": 206
        }
      },
      "source": [
        "# inspección de tabla movies\n",
        "df_movies.head() "
      ],
      "execution_count": 17,
      "outputs": [
        {
          "output_type": "execute_result",
          "data": {
            "text/html": [
              "<div>\n",
              "<style scoped>\n",
              "    .dataframe tbody tr th:only-of-type {\n",
              "        vertical-align: middle;\n",
              "    }\n",
              "\n",
              "    .dataframe tbody tr th {\n",
              "        vertical-align: top;\n",
              "    }\n",
              "\n",
              "    .dataframe thead th {\n",
              "        text-align: right;\n",
              "    }\n",
              "</style>\n",
              "<table border=\"1\" class=\"dataframe\">\n",
              "  <thead>\n",
              "    <tr style=\"text-align: right;\">\n",
              "      <th></th>\n",
              "      <th>movieId</th>\n",
              "      <th>title</th>\n",
              "      <th>genres</th>\n",
              "    </tr>\n",
              "  </thead>\n",
              "  <tbody>\n",
              "    <tr>\n",
              "      <th>0</th>\n",
              "      <td>1</td>\n",
              "      <td>Toy Story (1995)</td>\n",
              "      <td>Adventure|Animation|Children|Comedy|Fantasy</td>\n",
              "    </tr>\n",
              "    <tr>\n",
              "      <th>1</th>\n",
              "      <td>2</td>\n",
              "      <td>Jumanji (1995)</td>\n",
              "      <td>Adventure|Children|Fantasy</td>\n",
              "    </tr>\n",
              "    <tr>\n",
              "      <th>2</th>\n",
              "      <td>3</td>\n",
              "      <td>Grumpier Old Men (1995)</td>\n",
              "      <td>Comedy|Romance</td>\n",
              "    </tr>\n",
              "    <tr>\n",
              "      <th>3</th>\n",
              "      <td>4</td>\n",
              "      <td>Waiting to Exhale (1995)</td>\n",
              "      <td>Comedy|Drama|Romance</td>\n",
              "    </tr>\n",
              "    <tr>\n",
              "      <th>4</th>\n",
              "      <td>5</td>\n",
              "      <td>Father of the Bride Part II (1995)</td>\n",
              "      <td>Comedy</td>\n",
              "    </tr>\n",
              "  </tbody>\n",
              "</table>\n",
              "</div>"
            ],
            "text/plain": [
              "   movieId  ...                                       genres\n",
              "0        1  ...  Adventure|Animation|Children|Comedy|Fantasy\n",
              "1        2  ...                   Adventure|Children|Fantasy\n",
              "2        3  ...                               Comedy|Romance\n",
              "3        4  ...                         Comedy|Drama|Romance\n",
              "4        5  ...                                       Comedy\n",
              "\n",
              "[5 rows x 3 columns]"
            ]
          },
          "metadata": {
            "tags": []
          },
          "execution_count": 17
        }
      ]
    },
    {
      "cell_type": "code",
      "metadata": {
        "id": "L6JR2VYk25uv",
        "outputId": "d62e213e-dcc3-42e8-b198-c58751d7a973",
        "colab": {
          "base_uri": "https://localhost:8080/",
          "height": 206
        }
      },
      "source": [
        "# inspección de tabla ratings\n",
        "df_ratings.head() "
      ],
      "execution_count": 18,
      "outputs": [
        {
          "output_type": "execute_result",
          "data": {
            "text/html": [
              "<div>\n",
              "<style scoped>\n",
              "    .dataframe tbody tr th:only-of-type {\n",
              "        vertical-align: middle;\n",
              "    }\n",
              "\n",
              "    .dataframe tbody tr th {\n",
              "        vertical-align: top;\n",
              "    }\n",
              "\n",
              "    .dataframe thead th {\n",
              "        text-align: right;\n",
              "    }\n",
              "</style>\n",
              "<table border=\"1\" class=\"dataframe\">\n",
              "  <thead>\n",
              "    <tr style=\"text-align: right;\">\n",
              "      <th></th>\n",
              "      <th>userId</th>\n",
              "      <th>movieId</th>\n",
              "      <th>rating</th>\n",
              "      <th>timestamp</th>\n",
              "    </tr>\n",
              "  </thead>\n",
              "  <tbody>\n",
              "    <tr>\n",
              "      <th>0</th>\n",
              "      <td>1</td>\n",
              "      <td>1</td>\n",
              "      <td>4.0</td>\n",
              "      <td>964982703</td>\n",
              "    </tr>\n",
              "    <tr>\n",
              "      <th>1</th>\n",
              "      <td>1</td>\n",
              "      <td>3</td>\n",
              "      <td>4.0</td>\n",
              "      <td>964981247</td>\n",
              "    </tr>\n",
              "    <tr>\n",
              "      <th>2</th>\n",
              "      <td>1</td>\n",
              "      <td>6</td>\n",
              "      <td>4.0</td>\n",
              "      <td>964982224</td>\n",
              "    </tr>\n",
              "    <tr>\n",
              "      <th>3</th>\n",
              "      <td>1</td>\n",
              "      <td>47</td>\n",
              "      <td>5.0</td>\n",
              "      <td>964983815</td>\n",
              "    </tr>\n",
              "    <tr>\n",
              "      <th>4</th>\n",
              "      <td>1</td>\n",
              "      <td>50</td>\n",
              "      <td>5.0</td>\n",
              "      <td>964982931</td>\n",
              "    </tr>\n",
              "  </tbody>\n",
              "</table>\n",
              "</div>"
            ],
            "text/plain": [
              "   userId  movieId  rating  timestamp\n",
              "0       1        1     4.0  964982703\n",
              "1       1        3     4.0  964981247\n",
              "2       1        6     4.0  964982224\n",
              "3       1       47     5.0  964983815\n",
              "4       1       50     5.0  964982931"
            ]
          },
          "metadata": {
            "tags": []
          },
          "execution_count": 18
        }
      ]
    },
    {
      "cell_type": "code",
      "metadata": {
        "id": "BDSEhgcx2f2E",
        "outputId": "12b4c517-725b-43d3-ff9f-d0dad0f5fccc",
        "colab": {
          "base_uri": "https://localhost:8080/",
          "height": 206
        }
      },
      "source": [
        "# Join de ambas tablas\n",
        "df_merged = pd.merge(df_ratings, df_movies)\n",
        "\n",
        "# Ordeamiento innecesario pero me gusta mas ver el dataset así\n",
        "df_merged  = df_merged.sort_values(by=['userId', 'movieId'])\n",
        "\n",
        "df_merged.head()"
      ],
      "execution_count": 19,
      "outputs": [
        {
          "output_type": "execute_result",
          "data": {
            "text/html": [
              "<div>\n",
              "<style scoped>\n",
              "    .dataframe tbody tr th:only-of-type {\n",
              "        vertical-align: middle;\n",
              "    }\n",
              "\n",
              "    .dataframe tbody tr th {\n",
              "        vertical-align: top;\n",
              "    }\n",
              "\n",
              "    .dataframe thead th {\n",
              "        text-align: right;\n",
              "    }\n",
              "</style>\n",
              "<table border=\"1\" class=\"dataframe\">\n",
              "  <thead>\n",
              "    <tr style=\"text-align: right;\">\n",
              "      <th></th>\n",
              "      <th>userId</th>\n",
              "      <th>movieId</th>\n",
              "      <th>rating</th>\n",
              "      <th>timestamp</th>\n",
              "      <th>title</th>\n",
              "      <th>genres</th>\n",
              "    </tr>\n",
              "  </thead>\n",
              "  <tbody>\n",
              "    <tr>\n",
              "      <th>0</th>\n",
              "      <td>1</td>\n",
              "      <td>1</td>\n",
              "      <td>4.0</td>\n",
              "      <td>964982703</td>\n",
              "      <td>Toy Story (1995)</td>\n",
              "      <td>Adventure|Animation|Children|Comedy|Fantasy</td>\n",
              "    </tr>\n",
              "    <tr>\n",
              "      <th>215</th>\n",
              "      <td>1</td>\n",
              "      <td>3</td>\n",
              "      <td>4.0</td>\n",
              "      <td>964981247</td>\n",
              "      <td>Grumpier Old Men (1995)</td>\n",
              "      <td>Comedy|Romance</td>\n",
              "    </tr>\n",
              "    <tr>\n",
              "      <th>267</th>\n",
              "      <td>1</td>\n",
              "      <td>6</td>\n",
              "      <td>4.0</td>\n",
              "      <td>964982224</td>\n",
              "      <td>Heat (1995)</td>\n",
              "      <td>Action|Crime|Thriller</td>\n",
              "    </tr>\n",
              "    <tr>\n",
              "      <th>369</th>\n",
              "      <td>1</td>\n",
              "      <td>47</td>\n",
              "      <td>5.0</td>\n",
              "      <td>964983815</td>\n",
              "      <td>Seven (a.k.a. Se7en) (1995)</td>\n",
              "      <td>Mystery|Thriller</td>\n",
              "    </tr>\n",
              "    <tr>\n",
              "      <th>572</th>\n",
              "      <td>1</td>\n",
              "      <td>50</td>\n",
              "      <td>5.0</td>\n",
              "      <td>964982931</td>\n",
              "      <td>Usual Suspects, The (1995)</td>\n",
              "      <td>Crime|Mystery|Thriller</td>\n",
              "    </tr>\n",
              "  </tbody>\n",
              "</table>\n",
              "</div>"
            ],
            "text/plain": [
              "     userId  ...                                       genres\n",
              "0         1  ...  Adventure|Animation|Children|Comedy|Fantasy\n",
              "215       1  ...                               Comedy|Romance\n",
              "267       1  ...                        Action|Crime|Thriller\n",
              "369       1  ...                             Mystery|Thriller\n",
              "572       1  ...                       Crime|Mystery|Thriller\n",
              "\n",
              "[5 rows x 6 columns]"
            ]
          },
          "metadata": {
            "tags": []
          },
          "execution_count": 19
        }
      ]
    },
    {
      "cell_type": "markdown",
      "metadata": {
        "id": "iOUkRf303yM7"
      },
      "source": [
        "### ¿Cuál es la película que tiene más votos?.\n"
      ]
    },
    {
      "cell_type": "code",
      "metadata": {
        "id": "08wSOynK3E3t",
        "outputId": "f86d340b-dd05-40d9-ec50-05707997e55c",
        "colab": {
          "base_uri": "https://localhost:8080/",
          "height": 69
        }
      },
      "source": [
        "# Generamos conteos de usuarios que califican por película\n",
        "count_users_by_movie = df_merged.groupby('title').count()['userId']\n",
        "\n",
        "# Usamos un indexado booleano para ver cuál es la película más votada\n",
        "count_users_by_movie[count_users_by_movie == count_users_by_movie.max()]\n",
        "\n",
        "# NOTA IMPORTANTE\n",
        "# count_users_by_movie.max() # retorna el número pero no el indice\n",
        "# count_users_by_movie.max()"
      ],
      "execution_count": 20,
      "outputs": [
        {
          "output_type": "execute_result",
          "data": {
            "text/plain": [
              "title\n",
              "Forrest Gump (1994)    329\n",
              "Name: userId, dtype: int64"
            ]
          },
          "metadata": {
            "tags": []
          },
          "execution_count": 20
        }
      ]
    },
    {
      "cell_type": "code",
      "metadata": {
        "id": "ji-RY88D36p0",
        "outputId": "20cd629b-7db2-46fe-c197-b051c0a44476",
        "colab": {
          "base_uri": "https://localhost:8080/",
          "height": 35
        }
      },
      "source": [
        "# Con el siguiente método obtenemos el índice del máximo pero no su valor\n",
        "count_users_by_movie.idxmax()"
      ],
      "execution_count": 21,
      "outputs": [
        {
          "output_type": "execute_result",
          "data": {
            "application/vnd.google.colaboratory.intrinsic+json": {
              "type": "string"
            },
            "text/plain": [
              "'Forrest Gump (1994)'"
            ]
          },
          "metadata": {
            "tags": []
          },
          "execution_count": 21
        }
      ]
    },
    {
      "cell_type": "code",
      "metadata": {
        "id": "vOe0cDmy6BUm",
        "outputId": "caa4cab2-351d-4db5-933c-388734b20280",
        "colab": {
          "base_uri": "https://localhost:8080/",
          "height": 243
        }
      },
      "source": [
        "# Hacemos uso de la variable count_users_by_movie creada en la celda anterior\n",
        "# Usamos un indexado booleano para ver cuál es la película más votada\n",
        "count_users_by_movie[count_users_by_movie == count_users_by_movie.min()]\n",
        "\n",
        "# NOTA IMPORTANTE\n",
        "# count_users_by_movie.min() # retorna el número pero no el indice\n",
        "# count_users_by_movie.min()"
      ],
      "execution_count": 22,
      "outputs": [
        {
          "output_type": "execute_result",
          "data": {
            "text/plain": [
              "title\n",
              "'71 (2014)                                                1\n",
              "'Hellboy': The Seeds of Creation (2004)                   1\n",
              "'Salem's Lot (2004)                                       1\n",
              "'Tis the Season for Love (2015)                           1\n",
              "'night Mother (1986)                                      1\n",
              "                                                         ..\n",
              "Zoom (2006)                                               1\n",
              "Zoom (2015)                                               1\n",
              "Zulu (2013)                                               1\n",
              "anohana: The Flower We Saw That Day - The Movie (2013)    1\n",
              "À nous la liberté (Freedom for Us) (1931)                 1\n",
              "Name: userId, Length: 3441, dtype: int64"
            ]
          },
          "metadata": {
            "tags": []
          },
          "execution_count": 22
        }
      ]
    },
    {
      "cell_type": "markdown",
      "metadata": {
        "id": "RyjzJzsI62Jl"
      },
      "source": [
        "### ¿Cuál es la película que tiene mejor calificación promedio?"
      ]
    },
    {
      "cell_type": "code",
      "metadata": {
        "id": "CXHuQsEg65wk",
        "outputId": "0c87b186-1d5a-4613-ffb4-40bff967c8de",
        "colab": {
          "base_uri": "https://localhost:8080/",
          "height": 243
        }
      },
      "source": [
        "# Se calcula la calificación promedio por película\n",
        "average_rating_by_movie = df_merged.groupby('title').mean()['rating']\n",
        "\n",
        "# Se extrae la calificación promedio máxima\n",
        "average_rating_by_movie[average_rating_by_movie == average_rating_by_movie.max()]"
      ],
      "execution_count": 23,
      "outputs": [
        {
          "output_type": "execute_result",
          "data": {
            "text/plain": [
              "title\n",
              "'Salem's Lot (2004)                 5.0\n",
              "12 Angry Men (1997)                 5.0\n",
              "12 Chairs (1976)                    5.0\n",
              "20 Million Miles to Earth (1957)    5.0\n",
              "61* (2001)                          5.0\n",
              "                                   ... \n",
              "Won't You Be My Neighbor? (2018)    5.0\n",
              "Wonder Woman (2009)                 5.0\n",
              "World of Glory (1991)               5.0\n",
              "Wow! A Talking Fish! (1983)         5.0\n",
              "Zeitgeist: Moving Forward (2011)    5.0\n",
              "Name: rating, Length: 296, dtype: float64"
            ]
          },
          "metadata": {
            "tags": []
          },
          "execution_count": 23
        }
      ]
    },
    {
      "cell_type": "markdown",
      "metadata": {
        "id": "jOVwTLMO8AVJ"
      },
      "source": [
        "### ¿Cuál es la película que tiene peor calificación promedio?\n",
        "\n",
        "---\n",
        "\n"
      ]
    },
    {
      "cell_type": "code",
      "metadata": {
        "id": "CzipK6AM7AQt",
        "outputId": "521d01a4-4471-4bc0-8e97-c66a931f46ab",
        "colab": {
          "base_uri": "https://localhost:8080/",
          "height": 243
        }
      },
      "source": [
        "# Se calcula la calificación promedio por película\n",
        "average_rating_by_movie = df_merged.groupby('title').mean()['rating']\n",
        "\n",
        "# Se extrae la calificación promedio máxima\n",
        "average_rating_by_movie[average_rating_by_movie == average_rating_by_movie.min()]"
      ],
      "execution_count": 24,
      "outputs": [
        {
          "output_type": "execute_result",
          "data": {
            "text/plain": [
              "title\n",
              "3 Ninjas Knuckle Up (1995)               0.5\n",
              "3 dev adam (Three Giant Men) (1973)      0.5\n",
              "Aloha (2015)                             0.5\n",
              "Alone in the Dark (2005)                 0.5\n",
              "Amer (2009)                              0.5\n",
              "                                        ... \n",
              "Wasp Woman, The (1959)                   0.5\n",
              "While the City Sleeps (1956)             0.5\n",
              "Wizards of the Lost Kingdom II (1989)    0.5\n",
              "Yongary: Monster from the Deep (1967)    0.5\n",
              "Zombie Strippers! (2008)                 0.5\n",
              "Name: rating, Length: 96, dtype: float64"
            ]
          },
          "metadata": {
            "tags": []
          },
          "execution_count": 24
        }
      ]
    },
    {
      "cell_type": "markdown",
      "metadata": {
        "id": "I8avGen88N0h"
      },
      "source": [
        "### ¿Cuál es el usuario que más peliculas calificó?"
      ]
    },
    {
      "cell_type": "code",
      "metadata": {
        "id": "b1GcyAN6_bye",
        "outputId": "eab7face-1708-4fd2-d8fc-b36845453510",
        "colab": {
          "base_uri": "https://localhost:8080/",
          "height": 69
        }
      },
      "source": [
        "# Se calcula la calificación promedio por película\n",
        "counts_rating_by_user = df_merged.groupby('userId').count()['rating']\n",
        "\n",
        "# Se extrae la calificación promedio máxima\n",
        "counts_rating_by_user[counts_rating_by_user == counts_rating_by_user.max()]"
      ],
      "execution_count": 25,
      "outputs": [
        {
          "output_type": "execute_result",
          "data": {
            "text/plain": [
              "userId\n",
              "414    2698\n",
              "Name: rating, dtype: int64"
            ]
          },
          "metadata": {
            "tags": []
          },
          "execution_count": 25
        }
      ]
    },
    {
      "cell_type": "markdown",
      "metadata": {
        "id": "mftj3Q86A4Ir"
      },
      "source": [
        "### ¿Cuál es o son las peliculas mejor vcalificada por el usuario con userId == 599 ?"
      ]
    },
    {
      "cell_type": "code",
      "metadata": {
        "id": "tj3xHb3RAbBo",
        "outputId": "66115a7c-8430-45db-cb9b-8ebaadc1f951",
        "colab": {
          "base_uri": "https://localhost:8080/",
          "height": 1000
        }
      },
      "source": [
        "# Se obtiene un sub dataframe solo con la información del usuario 599\n",
        "sub_df_599 = df_merged[df_merged['userId'] == 599]\n",
        "\n",
        "# Se obtiene un sub dataframe con las peliculas mejor calificadas por dicho\n",
        "sub_df_599[sub_df_599['rating'] == sub_df_599['rating'].max()]"
      ],
      "execution_count": 26,
      "outputs": [
        {
          "output_type": "execute_result",
          "data": {
            "text/html": [
              "<div>\n",
              "<style scoped>\n",
              "    .dataframe tbody tr th:only-of-type {\n",
              "        vertical-align: middle;\n",
              "    }\n",
              "\n",
              "    .dataframe tbody tr th {\n",
              "        vertical-align: top;\n",
              "    }\n",
              "\n",
              "    .dataframe thead th {\n",
              "        text-align: right;\n",
              "    }\n",
              "</style>\n",
              "<table border=\"1\" class=\"dataframe\">\n",
              "  <thead>\n",
              "    <tr style=\"text-align: right;\">\n",
              "      <th></th>\n",
              "      <th>userId</th>\n",
              "      <th>movieId</th>\n",
              "      <th>rating</th>\n",
              "      <th>timestamp</th>\n",
              "      <th>title</th>\n",
              "      <th>genres</th>\n",
              "    </tr>\n",
              "  </thead>\n",
              "  <tbody>\n",
              "    <tr>\n",
              "      <th>28564</th>\n",
              "      <td>599</td>\n",
              "      <td>112</td>\n",
              "      <td>5.0</td>\n",
              "      <td>1498539725</td>\n",
              "      <td>Rumble in the Bronx (Hont faan kui) (1995)</td>\n",
              "      <td>Action|Adventure|Comedy|Crime</td>\n",
              "    </tr>\n",
              "    <tr>\n",
              "      <th>1810</th>\n",
              "      <td>599</td>\n",
              "      <td>260</td>\n",
              "      <td>5.0</td>\n",
              "      <td>1498533468</td>\n",
              "      <td>Star Wars: Episode IV - A New Hope (1977)</td>\n",
              "      <td>Action|Adventure|Sci-Fi</td>\n",
              "    </tr>\n",
              "    <tr>\n",
              "      <th>30609</th>\n",
              "      <td>599</td>\n",
              "      <td>293</td>\n",
              "      <td>5.0</td>\n",
              "      <td>1498456035</td>\n",
              "      <td>Léon: The Professional (a.k.a. The Professiona...</td>\n",
              "      <td>Action|Crime|Drama|Thriller</td>\n",
              "    </tr>\n",
              "    <tr>\n",
              "      <th>2115</th>\n",
              "      <td>599</td>\n",
              "      <td>296</td>\n",
              "      <td>5.0</td>\n",
              "      <td>1498456867</td>\n",
              "      <td>Pulp Fiction (1994)</td>\n",
              "      <td>Comedy|Crime|Drama|Thriller</td>\n",
              "    </tr>\n",
              "    <tr>\n",
              "      <th>69939</th>\n",
              "      <td>599</td>\n",
              "      <td>741</td>\n",
              "      <td>5.0</td>\n",
              "      <td>1498457263</td>\n",
              "      <td>Ghost in the Shell (Kôkaku kidôtai) (1995)</td>\n",
              "      <td>Animation|Sci-Fi</td>\n",
              "    </tr>\n",
              "    <tr>\n",
              "      <th>33854</th>\n",
              "      <td>599</td>\n",
              "      <td>750</td>\n",
              "      <td>5.0</td>\n",
              "      <td>1498457219</td>\n",
              "      <td>Dr. Strangelove or: How I Learned to Stop Worr...</td>\n",
              "      <td>Comedy|War</td>\n",
              "    </tr>\n",
              "    <tr>\n",
              "      <th>33962</th>\n",
              "      <td>599</td>\n",
              "      <td>924</td>\n",
              "      <td>5.0</td>\n",
              "      <td>1498456847</td>\n",
              "      <td>2001: A Space Odyssey (1968)</td>\n",
              "      <td>Adventure|Drama|Sci-Fi</td>\n",
              "    </tr>\n",
              "    <tr>\n",
              "      <th>80300</th>\n",
              "      <td>599</td>\n",
              "      <td>951</td>\n",
              "      <td>5.0</td>\n",
              "      <td>1498457229</td>\n",
              "      <td>His Girl Friday (1940)</td>\n",
              "      <td>Comedy|Romance</td>\n",
              "    </tr>\n",
              "    <tr>\n",
              "      <th>6342</th>\n",
              "      <td>599</td>\n",
              "      <td>1089</td>\n",
              "      <td>5.0</td>\n",
              "      <td>1498533764</td>\n",
              "      <td>Reservoir Dogs (1992)</td>\n",
              "      <td>Crime|Mystery|Thriller</td>\n",
              "    </tr>\n",
              "    <tr>\n",
              "      <th>88210</th>\n",
              "      <td>599</td>\n",
              "      <td>1178</td>\n",
              "      <td>5.0</td>\n",
              "      <td>1519029292</td>\n",
              "      <td>Paths of Glory (1957)</td>\n",
              "      <td>Drama|War</td>\n",
              "    </tr>\n",
              "    <tr>\n",
              "      <th>6981</th>\n",
              "      <td>599</td>\n",
              "      <td>1196</td>\n",
              "      <td>5.0</td>\n",
              "      <td>1519029372</td>\n",
              "      <td>Star Wars: Episode V - The Empire Strikes Back...</td>\n",
              "      <td>Action|Adventure|Sci-Fi</td>\n",
              "    </tr>\n",
              "    <tr>\n",
              "      <th>45669</th>\n",
              "      <td>599</td>\n",
              "      <td>1200</td>\n",
              "      <td>5.0</td>\n",
              "      <td>1498533615</td>\n",
              "      <td>Aliens (1986)</td>\n",
              "      <td>Action|Adventure|Horror|Sci-Fi</td>\n",
              "    </tr>\n",
              "    <tr>\n",
              "      <th>7552</th>\n",
              "      <td>599</td>\n",
              "      <td>1208</td>\n",
              "      <td>5.0</td>\n",
              "      <td>1519029295</td>\n",
              "      <td>Apocalypse Now (1979)</td>\n",
              "      <td>Action|Drama|War</td>\n",
              "    </tr>\n",
              "    <tr>\n",
              "      <th>7745</th>\n",
              "      <td>599</td>\n",
              "      <td>1210</td>\n",
              "      <td>5.0</td>\n",
              "      <td>1498533608</td>\n",
              "      <td>Star Wars: Episode VI - Return of the Jedi (1983)</td>\n",
              "      <td>Action|Adventure|Sci-Fi</td>\n",
              "    </tr>\n",
              "    <tr>\n",
              "      <th>8018</th>\n",
              "      <td>599</td>\n",
              "      <td>1214</td>\n",
              "      <td>5.0</td>\n",
              "      <td>1519029442</td>\n",
              "      <td>Alien (1979)</td>\n",
              "      <td>Horror|Sci-Fi</td>\n",
              "    </tr>\n",
              "    <tr>\n",
              "      <th>70161</th>\n",
              "      <td>599</td>\n",
              "      <td>1274</td>\n",
              "      <td>5.0</td>\n",
              "      <td>1498457252</td>\n",
              "      <td>Akira (1988)</td>\n",
              "      <td>Action|Adventure|Animation|Sci-Fi</td>\n",
              "    </tr>\n",
              "    <tr>\n",
              "      <th>21580</th>\n",
              "      <td>599</td>\n",
              "      <td>1283</td>\n",
              "      <td>5.0</td>\n",
              "      <td>1498457288</td>\n",
              "      <td>High Noon (1952)</td>\n",
              "      <td>Drama|Western</td>\n",
              "    </tr>\n",
              "    <tr>\n",
              "      <th>10288</th>\n",
              "      <td>599</td>\n",
              "      <td>1732</td>\n",
              "      <td>5.0</td>\n",
              "      <td>1498456250</td>\n",
              "      <td>Big Lebowski, The (1998)</td>\n",
              "      <td>Comedy|Crime</td>\n",
              "    </tr>\n",
              "    <tr>\n",
              "      <th>10517</th>\n",
              "      <td>599</td>\n",
              "      <td>1967</td>\n",
              "      <td>5.0</td>\n",
              "      <td>1519029447</td>\n",
              "      <td>Labyrinth (1986)</td>\n",
              "      <td>Adventure|Fantasy|Musical</td>\n",
              "    </tr>\n",
              "    <tr>\n",
              "      <th>12180</th>\n",
              "      <td>599</td>\n",
              "      <td>2395</td>\n",
              "      <td>5.0</td>\n",
              "      <td>1498457236</td>\n",
              "      <td>Rushmore (1998)</td>\n",
              "      <td>Comedy|Drama</td>\n",
              "    </tr>\n",
              "    <tr>\n",
              "      <th>12279</th>\n",
              "      <td>599</td>\n",
              "      <td>2427</td>\n",
              "      <td>5.0</td>\n",
              "      <td>1498457202</td>\n",
              "      <td>Thin Red Line, The (1998)</td>\n",
              "      <td>Action|Drama|War</td>\n",
              "    </tr>\n",
              "    <tr>\n",
              "      <th>12912</th>\n",
              "      <td>599</td>\n",
              "      <td>2571</td>\n",
              "      <td>5.0</td>\n",
              "      <td>1519029461</td>\n",
              "      <td>Matrix, The (1999)</td>\n",
              "      <td>Action|Sci-Fi|Thriller</td>\n",
              "    </tr>\n",
              "    <tr>\n",
              "      <th>14046</th>\n",
              "      <td>599</td>\n",
              "      <td>2858</td>\n",
              "      <td>5.0</td>\n",
              "      <td>1498533774</td>\n",
              "      <td>American Beauty (1999)</td>\n",
              "      <td>Drama|Romance</td>\n",
              "    </tr>\n",
              "    <tr>\n",
              "      <th>14534</th>\n",
              "      <td>599</td>\n",
              "      <td>2959</td>\n",
              "      <td>5.0</td>\n",
              "      <td>1498456882</td>\n",
              "      <td>Fight Club (1999)</td>\n",
              "      <td>Action|Crime|Drama|Thriller</td>\n",
              "    </tr>\n",
              "    <tr>\n",
              "      <th>70378</th>\n",
              "      <td>599</td>\n",
              "      <td>3030</td>\n",
              "      <td>5.0</td>\n",
              "      <td>1498457210</td>\n",
              "      <td>Yojimbo (1961)</td>\n",
              "      <td>Action|Adventure</td>\n",
              "    </tr>\n",
              "    <tr>\n",
              "      <th>23548</th>\n",
              "      <td>599</td>\n",
              "      <td>3160</td>\n",
              "      <td>5.0</td>\n",
              "      <td>1498457183</td>\n",
              "      <td>Magnolia (1999)</td>\n",
              "      <td>Drama</td>\n",
              "    </tr>\n",
              "    <tr>\n",
              "      <th>50940</th>\n",
              "      <td>599</td>\n",
              "      <td>3435</td>\n",
              "      <td>5.0</td>\n",
              "      <td>1519029386</td>\n",
              "      <td>Double Indemnity (1944)</td>\n",
              "      <td>Crime|Drama|Film-Noir</td>\n",
              "    </tr>\n",
              "    <tr>\n",
              "      <th>16022</th>\n",
              "      <td>599</td>\n",
              "      <td>3703</td>\n",
              "      <td>5.0</td>\n",
              "      <td>1498457244</td>\n",
              "      <td>Road Warrior, The (Mad Max 2) (1981)</td>\n",
              "      <td>Action|Adventure|Sci-Fi|Thriller</td>\n",
              "    </tr>\n",
              "    <tr>\n",
              "      <th>18796</th>\n",
              "      <td>599</td>\n",
              "      <td>3949</td>\n",
              "      <td>5.0</td>\n",
              "      <td>1498457191</td>\n",
              "      <td>Requiem for a Dream (2000)</td>\n",
              "      <td>Drama</td>\n",
              "    </tr>\n",
              "    <tr>\n",
              "      <th>49966</th>\n",
              "      <td>599</td>\n",
              "      <td>4973</td>\n",
              "      <td>5.0</td>\n",
              "      <td>1498533410</td>\n",
              "      <td>Amelie (Fabuleux destin d'Amélie Poulain, Le) ...</td>\n",
              "      <td>Comedy|Romance</td>\n",
              "    </tr>\n",
              "    <tr>\n",
              "      <th>69212</th>\n",
              "      <td>599</td>\n",
              "      <td>6711</td>\n",
              "      <td>5.0</td>\n",
              "      <td>1498533783</td>\n",
              "      <td>Lost in Translation (2003)</td>\n",
              "      <td>Comedy|Drama|Romance</td>\n",
              "    </tr>\n",
              "    <tr>\n",
              "      <th>16880</th>\n",
              "      <td>599</td>\n",
              "      <td>6874</td>\n",
              "      <td>5.0</td>\n",
              "      <td>1498457174</td>\n",
              "      <td>Kill Bill: Vol. 1 (2003)</td>\n",
              "      <td>Action|Crime|Thriller</td>\n",
              "    </tr>\n",
              "  </tbody>\n",
              "</table>\n",
              "</div>"
            ],
            "text/plain": [
              "       userId  ...                             genres\n",
              "28564     599  ...      Action|Adventure|Comedy|Crime\n",
              "1810      599  ...            Action|Adventure|Sci-Fi\n",
              "30609     599  ...        Action|Crime|Drama|Thriller\n",
              "2115      599  ...        Comedy|Crime|Drama|Thriller\n",
              "69939     599  ...                   Animation|Sci-Fi\n",
              "33854     599  ...                         Comedy|War\n",
              "33962     599  ...             Adventure|Drama|Sci-Fi\n",
              "80300     599  ...                     Comedy|Romance\n",
              "6342      599  ...             Crime|Mystery|Thriller\n",
              "88210     599  ...                          Drama|War\n",
              "6981      599  ...            Action|Adventure|Sci-Fi\n",
              "45669     599  ...     Action|Adventure|Horror|Sci-Fi\n",
              "7552      599  ...                   Action|Drama|War\n",
              "7745      599  ...            Action|Adventure|Sci-Fi\n",
              "8018      599  ...                      Horror|Sci-Fi\n",
              "70161     599  ...  Action|Adventure|Animation|Sci-Fi\n",
              "21580     599  ...                      Drama|Western\n",
              "10288     599  ...                       Comedy|Crime\n",
              "10517     599  ...          Adventure|Fantasy|Musical\n",
              "12180     599  ...                       Comedy|Drama\n",
              "12279     599  ...                   Action|Drama|War\n",
              "12912     599  ...             Action|Sci-Fi|Thriller\n",
              "14046     599  ...                      Drama|Romance\n",
              "14534     599  ...        Action|Crime|Drama|Thriller\n",
              "70378     599  ...                   Action|Adventure\n",
              "23548     599  ...                              Drama\n",
              "50940     599  ...              Crime|Drama|Film-Noir\n",
              "16022     599  ...   Action|Adventure|Sci-Fi|Thriller\n",
              "18796     599  ...                              Drama\n",
              "49966     599  ...                     Comedy|Romance\n",
              "69212     599  ...               Comedy|Drama|Romance\n",
              "16880     599  ...              Action|Crime|Thriller\n",
              "\n",
              "[32 rows x 6 columns]"
            ]
          },
          "metadata": {
            "tags": []
          },
          "execution_count": 26
        }
      ]
    }
  ]
}