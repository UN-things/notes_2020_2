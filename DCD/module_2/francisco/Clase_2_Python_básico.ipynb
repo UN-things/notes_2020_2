{
  "nbformat": 4,
  "nbformat_minor": 0,
  "metadata": {
    "colab": {
      "name": "Clase 2 Python básico.ipynb",
      "provenance": [],
      "collapsed_sections": [],
      "include_colab_link": true
    },
    "kernelspec": {
      "name": "python3",
      "display_name": "Python 3"
    }
  },
  "cells": [
    {
      "cell_type": "markdown",
      "metadata": {
        "id": "view-in-github",
        "colab_type": "text"
      },
      "source": [
        "<a href=\"https://colab.research.google.com/github/gtzambranop/UN_2020_2/blob/DCD%2Fweek_4/DCD/module_2_francisco/Clase_2_Python_b%C3%A1sico.ipynb\" target=\"_parent\"><img src=\"https://colab.research.google.com/assets/colab-badge.svg\" alt=\"Open In Colab\"/></a>"
      ]
    },
    {
      "cell_type": "code",
      "metadata": {
        "id": "0brgCNtRE4iK",
        "colab_type": "code",
        "colab": {}
      },
      "source": [
        "# Ejemplos de variables \n",
        "a = 5\n",
        "\n",
        "b = 7.3\n",
        "\n",
        "c = 'Hola mundo'\n",
        "\n",
        "d = \"Hola mu'ndo\"\n",
        "\n",
        "e = '''hola \n",
        "    mundo'''"
      ],
      "execution_count": null,
      "outputs": []
    },
    {
      "cell_type": "code",
      "metadata": {
        "id": "MKUtuT9NFYuy",
        "colab_type": "code",
        "colab": {
          "base_uri": "https://localhost:8080/",
          "height": 34
        },
        "outputId": "b67ea1fa-b9f2-4abf-dd08-0eac56d82619"
      },
      "source": [
        "\n",
        "a = 5\n",
        "\n",
        "print(type(a))\n",
        "\n",
        "b = isinstance(a, int)"
      ],
      "execution_count": null,
      "outputs": [
        {
          "output_type": "stream",
          "text": [
            "<class 'int'>\n"
          ],
          "name": "stdout"
        }
      ]
    },
    {
      "cell_type": "code",
      "metadata": {
        "id": "NgrWtwBOF_nf",
        "colab_type": "code",
        "colab": {
          "base_uri": "https://localhost:8080/",
          "height": 51
        },
        "outputId": "e70f0ed8-c477-460c-f6a7-b63593461c8f"
      },
      "source": [
        "pi = 3.1416\n",
        "\n",
        "print(type(pi))\n",
        "\n",
        "isinstance(pi, float)"
      ],
      "execution_count": null,
      "outputs": [
        {
          "output_type": "stream",
          "text": [
            "<class 'float'>\n"
          ],
          "name": "stdout"
        },
        {
          "output_type": "execute_result",
          "data": {
            "text/plain": [
              "True"
            ]
          },
          "metadata": {
            "tags": []
          },
          "execution_count": 24
        }
      ]
    },
    {
      "cell_type": "code",
      "metadata": {
        "id": "3Sg7veP4HfjQ",
        "colab_type": "code",
        "colab": {
          "base_uri": "https://localhost:8080/",
          "height": 34
        },
        "outputId": "17d915bd-6294-4e95-8228-b60fd730748a"
      },
      "source": [
        "print(type(pi))"
      ],
      "execution_count": null,
      "outputs": [
        {
          "output_type": "stream",
          "text": [
            "<class 'float'>\n"
          ],
          "name": "stdout"
        }
      ]
    },
    {
      "cell_type": "code",
      "metadata": {
        "id": "F_0kIBrrHmvj",
        "colab_type": "code",
        "colab": {
          "base_uri": "https://localhost:8080/",
          "height": 51
        },
        "outputId": "617ea543-f603-4e37-848e-cfce59d7a3bc"
      },
      "source": [
        "# Sting\n",
        "\n",
        "# Esto es un comentario\n",
        "# defino variable texto\n",
        "text = 'Hola mundo'\n",
        "\n",
        "# imprimo typo de  variable de texto\n",
        "print(type(text))\n",
        "\n",
        "isinstance(text, str)"
      ],
      "execution_count": null,
      "outputs": [
        {
          "output_type": "stream",
          "text": [
            "<class 'str'>\n"
          ],
          "name": "stdout"
        },
        {
          "output_type": "execute_result",
          "data": {
            "text/plain": [
              "True"
            ]
          },
          "metadata": {
            "tags": []
          },
          "execution_count": 27
        }
      ]
    },
    {
      "cell_type": "code",
      "metadata": {
        "id": "yW1wWg5PH3wJ",
        "colab_type": "code",
        "colab": {
          "base_uri": "https://localhost:8080/",
          "height": 51
        },
        "outputId": "5218d627-3fc7-470c-a3ca-0b674689b9ab"
      },
      "source": [
        "logical = False\n",
        "\n",
        "print(type(logical))\n",
        "\n",
        "isinstance(logical, bool)"
      ],
      "execution_count": null,
      "outputs": [
        {
          "output_type": "stream",
          "text": [
            "<class 'bool'>\n"
          ],
          "name": "stdout"
        },
        {
          "output_type": "execute_result",
          "data": {
            "text/plain": [
              "True"
            ]
          },
          "metadata": {
            "tags": []
          },
          "execution_count": 29
        }
      ]
    },
    {
      "cell_type": "code",
      "metadata": {
        "id": "vBcHOap7IXeF",
        "colab_type": "code",
        "colab": {
          "base_uri": "https://localhost:8080/",
          "height": 119
        },
        "outputId": "fdd332cc-d8ca-4129-e512-c5c01e1fe409"
      },
      "source": [
        "a = 5\n",
        "b = float(a)\n",
        "c = str(a)\n",
        "\n",
        "print(a)\n",
        "print(b)\n",
        "print(c)\n",
        "\n",
        "print(type(a))\n",
        "print(type(b))\n",
        "print(type(c))"
      ],
      "execution_count": null,
      "outputs": [
        {
          "output_type": "stream",
          "text": [
            "5\n",
            "5.0\n",
            "5\n",
            "<class 'int'>\n",
            "<class 'float'>\n",
            "<class 'str'>\n"
          ],
          "name": "stdout"
        }
      ]
    },
    {
      "cell_type": "code",
      "metadata": {
        "id": "q-ClLZCqImd6",
        "colab_type": "code",
        "colab": {
          "base_uri": "https://localhost:8080/",
          "height": 51
        },
        "outputId": "12b23c9f-1de6-40d0-813b-4004eb8038a1"
      },
      "source": [
        "print(a)\n",
        "print(c)"
      ],
      "execution_count": null,
      "outputs": [
        {
          "output_type": "stream",
          "text": [
            "5\n",
            "5\n"
          ],
          "name": "stdout"
        }
      ]
    },
    {
      "cell_type": "code",
      "metadata": {
        "id": "fh3_qufFIx0m",
        "colab_type": "code",
        "colab": {}
      },
      "source": [
        ""
      ],
      "execution_count": null,
      "outputs": []
    },
    {
      "cell_type": "code",
      "metadata": {
        "colab_type": "code",
        "id": "WfkBF8wcJLhq",
        "colab": {}
      },
      "source": [
        "a = 5\n",
        "type(a)\n",
        "b= 7"
      ],
      "execution_count": null,
      "outputs": []
    },
    {
      "cell_type": "code",
      "metadata": {
        "id": "v2QmjzpVJNDR",
        "colab_type": "code",
        "colab": {
          "base_uri": "https://localhost:8080/",
          "height": 34
        },
        "outputId": "63801ea4-5a6b-412c-e8e7-07fc53d7b2fd"
      },
      "source": [
        "print('Estamos en el mes: ' + str(9))"
      ],
      "execution_count": null,
      "outputs": [
        {
          "output_type": "stream",
          "text": [
            "Estamos en el mes: 9\n"
          ],
          "name": "stdout"
        }
      ]
    },
    {
      "cell_type": "code",
      "metadata": {
        "id": "AfRvAaY_KYVM",
        "colab_type": "code",
        "colab": {
          "base_uri": "https://localhost:8080/",
          "height": 68
        },
        "outputId": "1299650c-10d0-4d31-d5d4-50674066fd89"
      },
      "source": [
        "# Ejemplos\n",
        "a= 5 + 3\n",
        "print(a)\n",
        "\n",
        "print(5 ** 3)\n",
        "\n",
        "23 % 4"
      ],
      "execution_count": null,
      "outputs": [
        {
          "output_type": "stream",
          "text": [
            "8\n",
            "125\n"
          ],
          "name": "stdout"
        },
        {
          "output_type": "execute_result",
          "data": {
            "text/plain": [
              "3"
            ]
          },
          "metadata": {
            "tags": []
          },
          "execution_count": 45
        }
      ]
    },
    {
      "cell_type": "code",
      "metadata": {
        "id": "g9VDexjLKl9-",
        "colab_type": "code",
        "colab": {
          "base_uri": "https://localhost:8080/",
          "height": 51
        },
        "outputId": "fed88ae1-0580-4c12-9848-c1249990f879"
      },
      "source": [
        "a = 12\n",
        "c = str(a)\n",
        "\n",
        "print(a * 10)\n",
        "print(c * 10)"
      ],
      "execution_count": null,
      "outputs": [
        {
          "output_type": "stream",
          "text": [
            "120\n",
            "12121212121212121212\n"
          ],
          "name": "stdout"
        }
      ]
    },
    {
      "cell_type": "code",
      "metadata": {
        "id": "XbcUdl9lLk3X",
        "colab_type": "code",
        "colab": {
          "base_uri": "https://localhost:8080/",
          "height": 35
        },
        "outputId": "e38d3a80-32de-45a4-d58d-f00cef42288b"
      },
      "source": [
        "'12' + '12' + '12'"
      ],
      "execution_count": null,
      "outputs": [
        {
          "output_type": "execute_result",
          "data": {
            "application/vnd.google.colaboratory.intrinsic+json": {
              "type": "string"
            },
            "text/plain": [
              "'121212'"
            ]
          },
          "metadata": {
            "tags": []
          },
          "execution_count": 47
        }
      ]
    },
    {
      "cell_type": "code",
      "metadata": {
        "id": "9u8Vovb9Lyzc",
        "colab_type": "code",
        "colab": {
          "base_uri": "https://localhost:8080/",
          "height": 34
        },
        "outputId": "8a46df6f-cca6-4aa7-9c16-cde0d9104d8e"
      },
      "source": [
        "# Ejemplo\n",
        "\n",
        "a = 5\n",
        "b = 3.72\n",
        "\n",
        "type(a * b)"
      ],
      "execution_count": null,
      "outputs": [
        {
          "output_type": "execute_result",
          "data": {
            "text/plain": [
              "float"
            ]
          },
          "metadata": {
            "tags": []
          },
          "execution_count": 49
        }
      ]
    },
    {
      "cell_type": "code",
      "metadata": {
        "id": "QTXj6T62MBtF",
        "colab_type": "code",
        "colab": {}
      },
      "source": [
        "#Ejemplo\n",
        "\n",
        "7 < 5\n",
        "\n",
        "3 == 7\n",
        "\n",
        "pi = 3.1416"
      ],
      "execution_count": null,
      "outputs": []
    },
    {
      "cell_type": "code",
      "metadata": {
        "id": "KODWG-alMdIW",
        "colab_type": "code",
        "colab": {
          "base_uri": "https://localhost:8080/",
          "height": 34
        },
        "outputId": "2bed9e9e-aebf-48ca-a1c2-5a9e6030195c"
      },
      "source": [
        "# Ejemplo\n",
        "'2' > '19'"
      ],
      "execution_count": null,
      "outputs": [
        {
          "output_type": "execute_result",
          "data": {
            "text/plain": [
              "True"
            ]
          },
          "metadata": {
            "tags": []
          },
          "execution_count": 61
        }
      ]
    },
    {
      "cell_type": "code",
      "metadata": {
        "id": "m9zUpb0pNCUz",
        "colab_type": "code",
        "colab": {}
      },
      "source": [
        "# Explicación\n",
        "a = [str(x) for x in range(30)]\n",
        "a.sort()\n",
        "#a"
      ],
      "execution_count": null,
      "outputs": []
    },
    {
      "cell_type": "code",
      "metadata": {
        "id": "7xkc2gSqNeOs",
        "colab_type": "code",
        "colab": {
          "base_uri": "https://localhost:8080/",
          "height": 34
        },
        "outputId": "20a199dd-35c5-463b-e79b-34d8e4982526"
      },
      "source": [
        "# Ejemplos\n",
        "True and True\n",
        "\n",
        "#not True"
      ],
      "execution_count": null,
      "outputs": [
        {
          "output_type": "execute_result",
          "data": {
            "text/plain": [
              "True"
            ]
          },
          "metadata": {
            "tags": []
          },
          "execution_count": 68
        }
      ]
    },
    {
      "cell_type": "code",
      "metadata": {
        "id": "_9W10teLOri4",
        "colab_type": "code",
        "colab": {
          "base_uri": "https://localhost:8080/",
          "height": 51
        },
        "outputId": "94a106a5-a4f6-44da-ebdf-dd6230600782"
      },
      "source": [
        "a = 'hola'\n",
        "b = 'mundo'\n",
        "\n",
        "print(a + b)\n",
        "\n",
        "print(a + ' ' + b)"
      ],
      "execution_count": null,
      "outputs": [
        {
          "output_type": "stream",
          "text": [
            "holamundo\n",
            "hola mundo\n"
          ],
          "name": "stdout"
        }
      ]
    },
    {
      "cell_type": "code",
      "metadata": {
        "id": "y3G33qX3Pffy",
        "colab_type": "code",
        "colab": {
          "base_uri": "https://localhost:8080/",
          "height": 248
        },
        "outputId": "de6f9add-a50b-4b3c-b5f5-4d22d7ea94f9"
      },
      "source": [
        "# Ejemplo\n",
        "cadena = 'Hola Mundo'\n",
        "\n",
        "print(cadena[2])\n",
        "\n",
        "print(cadena[7])\n",
        "\n",
        "print(cadena[-5])\n",
        "\n",
        "#print(cadena[20])"
      ],
      "execution_count": null,
      "outputs": [
        {
          "output_type": "stream",
          "text": [
            "l\n",
            "n\n",
            "M\n"
          ],
          "name": "stdout"
        },
        {
          "output_type": "error",
          "ename": "IndexError",
          "evalue": "ignored",
          "traceback": [
            "\u001b[0;31m---------------------------------------------------------------------------\u001b[0m",
            "\u001b[0;31mIndexError\u001b[0m                                Traceback (most recent call last)",
            "\u001b[0;32m<ipython-input-81-d1b16b155882>\u001b[0m in \u001b[0;36m<module>\u001b[0;34m()\u001b[0m\n\u001b[1;32m      8\u001b[0m \u001b[0mprint\u001b[0m\u001b[0;34m(\u001b[0m\u001b[0mcadena\u001b[0m\u001b[0;34m[\u001b[0m\u001b[0;34m-\u001b[0m\u001b[0;36m5\u001b[0m\u001b[0;34m]\u001b[0m\u001b[0;34m)\u001b[0m\u001b[0;34m\u001b[0m\u001b[0;34m\u001b[0m\u001b[0m\n\u001b[1;32m      9\u001b[0m \u001b[0;34m\u001b[0m\u001b[0m\n\u001b[0;32m---> 10\u001b[0;31m \u001b[0mprint\u001b[0m\u001b[0;34m(\u001b[0m\u001b[0mcadena\u001b[0m\u001b[0;34m[\u001b[0m\u001b[0;36m20\u001b[0m\u001b[0;34m]\u001b[0m\u001b[0;34m)\u001b[0m\u001b[0;34m\u001b[0m\u001b[0;34m\u001b[0m\u001b[0m\n\u001b[0m",
            "\u001b[0;31mIndexError\u001b[0m: string index out of range"
          ]
        }
      ]
    },
    {
      "cell_type": "code",
      "metadata": {
        "id": "OykS4aYhP06_",
        "colab_type": "code",
        "colab": {
          "base_uri": "https://localhost:8080/",
          "height": 34
        },
        "outputId": "f8e99935-24b1-40d8-f13b-6bdfcf270d41"
      },
      "source": [
        "# Ejemplo\n",
        "cadena = 'Hola Mundo'\n",
        "\n",
        "print(cadena[2:6])\n",
        "\n",
        "#print(cadena[2:-2])\n",
        "\n",
        "#print(cadena[5:])"
      ],
      "execution_count": null,
      "outputs": [
        {
          "output_type": "stream",
          "text": [
            "la M\n"
          ],
          "name": "stdout"
        }
      ]
    },
    {
      "cell_type": "code",
      "metadata": {
        "id": "DWD0eSSCW14M",
        "colab_type": "code",
        "colab": {
          "base_uri": "https://localhost:8080/",
          "height": 34
        },
        "outputId": "0bfc12ce-4a6b-4b9c-ea15-a6fc88e0c36b"
      },
      "source": [
        "# Ejemplo\n",
        "cadena = 'Hola Mundo'\n",
        "\n",
        "len(cadena)"
      ],
      "execution_count": null,
      "outputs": [
        {
          "output_type": "execute_result",
          "data": {
            "text/plain": [
              "10"
            ]
          },
          "metadata": {
            "tags": []
          },
          "execution_count": 87
        }
      ]
    },
    {
      "cell_type": "code",
      "metadata": {
        "id": "l1FCAHxEZuBn",
        "colab_type": "code",
        "colab": {
          "base_uri": "https://localhost:8080/",
          "height": 35
        },
        "outputId": "ffd735bb-f76e-42c7-d160-0fcacd77c973"
      },
      "source": [
        "cadena = 'El señor {nombre} dicta el curso de {curso}'\n",
        "nombre = 'Francisco Ospina'\n",
        "curso = 'Python básico'\n",
        "\n",
        "cadena.format(curso=curso, nombre=nombre)"
      ],
      "execution_count": null,
      "outputs": [
        {
          "output_type": "execute_result",
          "data": {
            "application/vnd.google.colaboratory.intrinsic+json": {
              "type": "string"
            },
            "text/plain": [
              "'El señor Francisco Ospina dicta el curso de Python básico'"
            ]
          },
          "metadata": {
            "tags": []
          },
          "execution_count": 99
        }
      ]
    },
    {
      "cell_type": "code",
      "metadata": {
        "colab_type": "code",
        "id": "1GTP8ODxaOZp",
        "colab": {
          "base_uri": "https://localhost:8080/",
          "height": 35
        },
        "outputId": "39bbf6af-88fb-4e6d-c6d1-f8d42ab2e82e"
      },
      "source": [
        "nombre = 'Francisco Ospina'\n",
        "curso = 'Python básico'\n",
        "cadena = 'El señor ' + nombre + ' dicta el curso de ' + curso\n",
        "\n",
        "cadena"
      ],
      "execution_count": null,
      "outputs": [
        {
          "output_type": "execute_result",
          "data": {
            "application/vnd.google.colaboratory.intrinsic+json": {
              "type": "string"
            },
            "text/plain": [
              "'El señor Francisco Ospina dicta el curso de Python básico'"
            ]
          },
          "metadata": {
            "tags": []
          },
          "execution_count": 90
        }
      ]
    },
    {
      "cell_type": "code",
      "metadata": {
        "id": "-UG-WTzfaCwi",
        "colab_type": "code",
        "colab": {
          "base_uri": "https://localhost:8080/",
          "height": 35
        },
        "outputId": "ef8ac4b8-47d8-440d-c476-859c42099ce2"
      },
      "source": [
        "cadena.lower()"
      ],
      "execution_count": null,
      "outputs": [
        {
          "output_type": "execute_result",
          "data": {
            "application/vnd.google.colaboratory.intrinsic+json": {
              "type": "string"
            },
            "text/plain": [
              "'el señor francisco ospina dicta el curso de python básico'"
            ]
          },
          "metadata": {
            "tags": []
          },
          "execution_count": 94
        }
      ]
    },
    {
      "cell_type": "code",
      "metadata": {
        "id": "Yz_rhhsqawwc",
        "colab_type": "code",
        "colab": {}
      },
      "source": [
        "class aaa():\n",
        "  pass"
      ],
      "execution_count": null,
      "outputs": []
    },
    {
      "cell_type": "code",
      "metadata": {
        "id": "xGqd_Td5cgJ7",
        "colab_type": "code",
        "colab": {
          "base_uri": "https://localhost:8080/",
          "height": 68
        },
        "outputId": "132acc43-7abd-43cf-aafd-17c62c2edd00"
      },
      "source": [
        "# Ejemplos \n",
        "lista1 = [1, 2, 3, 'a', 5]\n",
        "\n",
        "print(lista1)\n",
        "print(lista1[2])\n",
        "\n",
        "lista1[3] = 60\n",
        "\n",
        "print(lista1)"
      ],
      "execution_count": null,
      "outputs": [
        {
          "output_type": "stream",
          "text": [
            "[1, 2, 3, 'a', 5]\n",
            "3\n",
            "[1, 2, 3, 60, 5]\n"
          ],
          "name": "stdout"
        }
      ]
    },
    {
      "cell_type": "code",
      "metadata": {
        "id": "LEaHzT1Pdy7x",
        "colab_type": "code",
        "colab": {
          "base_uri": "https://localhost:8080/",
          "height": 35
        },
        "outputId": "e27980aa-d7fc-4156-a3e2-e933a4380c78"
      },
      "source": [
        "# Ejemplo\n",
        "lista2 = [1, 'Hola', [5,60, 'a']]\n",
        "\n",
        "#print(lista2)\n",
        "lista2[2][2]\n"
      ],
      "execution_count": null,
      "outputs": [
        {
          "output_type": "execute_result",
          "data": {
            "application/vnd.google.colaboratory.intrinsic+json": {
              "type": "string"
            },
            "text/plain": [
              "'a'"
            ]
          },
          "metadata": {
            "tags": []
          },
          "execution_count": 115
        }
      ]
    },
    {
      "cell_type": "code",
      "metadata": {
        "id": "1-ow2usgefzb",
        "colab_type": "code",
        "colab": {
          "base_uri": "https://localhost:8080/",
          "height": 34
        },
        "outputId": "53e8eb2a-ad7a-4952-db69-c27ba5d9663e"
      },
      "source": [
        "# Ejemplo\n",
        "#list3 = list(range(10))\n",
        "#print(list3)\n",
        "\n",
        "list4 = list(range(9, 1, -1))\n",
        "print(list4)"
      ],
      "execution_count": null,
      "outputs": [
        {
          "output_type": "stream",
          "text": [
            "[9, 8, 7, 6, 5, 4, 3, 2]\n"
          ],
          "name": "stdout"
        }
      ]
    },
    {
      "cell_type": "code",
      "metadata": {
        "id": "aNce3hkFfbA4",
        "colab_type": "code",
        "colab": {
          "base_uri": "https://localhost:8080/",
          "height": 34
        },
        "outputId": "aec820b8-468e-404a-bf58-1d37a92bceb4"
      },
      "source": [
        "list(range(10))"
      ],
      "execution_count": null,
      "outputs": [
        {
          "output_type": "execute_result",
          "data": {
            "text/plain": [
              "[0, 1, 2, 3, 4, 5, 6, 7, 8, 9]"
            ]
          },
          "metadata": {
            "tags": []
          },
          "execution_count": 118
        }
      ]
    },
    {
      "cell_type": "code",
      "metadata": {
        "id": "xbPcBZy8gAVR",
        "colab_type": "code",
        "colab": {
          "base_uri": "https://localhost:8080/",
          "height": 34
        },
        "outputId": "ddcd994f-727b-49c8-a284-8af5219fcbcb"
      },
      "source": [
        "#Ejemplo\n",
        "list5 = list(range(5))\n",
        "list6 = list(range(20, 25))\n",
        "\n",
        "list7 = list5 + list6\n",
        "\n",
        "print(list7)"
      ],
      "execution_count": null,
      "outputs": [
        {
          "output_type": "stream",
          "text": [
            "[0, 1, 2, 3, 4, 20, 21, 22, 23, 24]\n"
          ],
          "name": "stdout"
        }
      ]
    },
    {
      "cell_type": "code",
      "metadata": {
        "id": "R-MPdvuFgvxa",
        "colab_type": "code",
        "colab": {
          "base_uri": "https://localhost:8080/",
          "height": 68
        },
        "outputId": "46c28cab-4a58-451a-a7d1-b3de674158f3"
      },
      "source": [
        "# Ejemplo\n",
        "\n",
        "lista8 = list(range(10))\n",
        "print(lista8)\n",
        "\n",
        "pertenece1 = 8 in lista8\n",
        "print(pertenece1)\n",
        "\n",
        "pertenece2 = 50 in lista8\n",
        "print(pertenece2)"
      ],
      "execution_count": null,
      "outputs": [
        {
          "output_type": "stream",
          "text": [
            "[0, 1, 2, 3, 4, 5, 6, 7, 8, 9]\n",
            "True\n",
            "False\n"
          ],
          "name": "stdout"
        }
      ]
    },
    {
      "cell_type": "code",
      "metadata": {
        "id": "1qFzQJPKg2jp",
        "colab_type": "code",
        "colab": {
          "base_uri": "https://localhost:8080/",
          "height": 34
        },
        "outputId": "f66e3ed8-e420-4145-db61-af2babaaf248"
      },
      "source": [
        "# Ejemplo\n",
        "\n",
        "lista = list(range(10, 15))\n",
        "\n",
        "del lista[3]\n",
        "\n",
        "print(lista)"
      ],
      "execution_count": null,
      "outputs": [
        {
          "output_type": "stream",
          "text": [
            "[10, 11, 12, 14]\n"
          ],
          "name": "stdout"
        }
      ]
    },
    {
      "cell_type": "code",
      "metadata": {
        "id": "MGugiXEkhMpp",
        "colab_type": "code",
        "colab": {
          "base_uri": "https://localhost:8080/",
          "height": 34
        },
        "outputId": "c8805d96-acba-42bf-9cfc-7d934dc2c5fb"
      },
      "source": [
        "# Ejemplo\n",
        "lista9 = [2,3]\n",
        "lista10 = lista9 * 5\n",
        "\n",
        "print(lista10)"
      ],
      "execution_count": null,
      "outputs": [
        {
          "output_type": "stream",
          "text": [
            "[2, 3, 2, 3, 2, 3, 2, 3, 2, 3]\n"
          ],
          "name": "stdout"
        }
      ]
    },
    {
      "cell_type": "code",
      "metadata": {
        "id": "01-8tXCKhdAB",
        "colab_type": "code",
        "colab": {
          "base_uri": "https://localhost:8080/",
          "height": 34
        },
        "outputId": "479e14bf-5411-4864-cbfa-dc21b912d8ec"
      },
      "source": [
        "# Ejemplo\n",
        "constantes = (3.1416, 2.71828)\n",
        "\n",
        "print(constantes)\n",
        "\n",
        "#constantes[0] = 5"
      ],
      "execution_count": null,
      "outputs": [
        {
          "output_type": "stream",
          "text": [
            "(3.1416, 2.71828)\n"
          ],
          "name": "stdout"
        }
      ]
    },
    {
      "cell_type": "code",
      "metadata": {
        "id": "em4fu9C1hsb2",
        "colab_type": "code",
        "colab": {}
      },
      "source": [
        "# Ejemplo\n",
        "\n",
        "persona1 = {'Nombre': 'Francisco', 'Apellido': 'Ospina', 'Edad': 37, 'Genero': 'Masculino'}\n",
        "\n",
        "print(persona1)"
      ],
      "execution_count": null,
      "outputs": []
    },
    {
      "cell_type": "code",
      "metadata": {
        "id": "wiV-uLWEihOT",
        "colab_type": "code",
        "colab": {}
      },
      "source": [
        "personas = [ {'Nombre': 'Francisco', 'Apellido': 'Ospina'},  {'Nombre': 'Mario', 'Apellido': 'Parra'}]"
      ],
      "execution_count": null,
      "outputs": []
    },
    {
      "cell_type": "code",
      "metadata": {
        "id": "lS5OlNazinqD",
        "colab_type": "code",
        "colab": {
          "base_uri": "https://localhost:8080/",
          "height": 35
        },
        "outputId": "7252de00-838e-418c-b82e-f9ad31454597"
      },
      "source": [
        "personas[0]['Nombre']"
      ],
      "execution_count": null,
      "outputs": [
        {
          "output_type": "execute_result",
          "data": {
            "application/vnd.google.colaboratory.intrinsic+json": {
              "type": "string"
            },
            "text/plain": [
              "'Francisco'"
            ]
          },
          "metadata": {
            "tags": []
          },
          "execution_count": 140
        }
      ]
    },
    {
      "cell_type": "code",
      "metadata": {
        "id": "CTkqUyznir2H",
        "colab_type": "code",
        "colab": {
          "base_uri": "https://localhost:8080/",
          "height": 51
        },
        "outputId": "97e9e9fc-2956-412c-b596-b93aec89047a"
      },
      "source": [
        "persona1 = {'Nombre': 'Francisco', 'Apellido': 'Ospina', 'Edad': 37, 'Genero': 'Masculino'}\n",
        "\n",
        "# Acceder a elemento\n",
        "print(persona1['Nombre'])\n",
        "\n",
        "# Añadir elementos\n",
        "persona1['Profesion'] = 'Data Scientist'\n",
        "\n",
        "print(persona1)"
      ],
      "execution_count": null,
      "outputs": [
        {
          "output_type": "stream",
          "text": [
            "Francisco\n",
            "{'Nombre': 'Francisco', 'Apellido': 'Ospina', 'Edad': 37, 'Genero': 'Masculino', 'Profesion': 'Data Scientist'}\n"
          ],
          "name": "stdout"
        }
      ]
    },
    {
      "cell_type": "code",
      "metadata": {
        "id": "p3ndX7DvjEvv",
        "colab_type": "code",
        "colab": {
          "base_uri": "https://localhost:8080/",
          "height": 51
        },
        "outputId": "9141ed4c-f18b-4c6d-8ea4-89b444a0db37"
      },
      "source": [
        "# Ejemplo\n",
        "persona2 = {'Nombre': 'Francisco', 'Apellido': 'Ospina', 'Edad': 37, 'Genero': 'Masculino'}\n",
        "\n",
        "# Obtener todas las llaves\n",
        "print(list(persona2.keys()))\n",
        "\n",
        "# Obtener todos los valores\n",
        "print(list(persona2.values()))"
      ],
      "execution_count": null,
      "outputs": [
        {
          "output_type": "stream",
          "text": [
            "['Nombre', 'Apellido', 'Edad', 'Genero']\n",
            "['Francisco', 'Ospina', 37, 'Masculino']\n"
          ],
          "name": "stdout"
        }
      ]
    },
    {
      "cell_type": "code",
      "metadata": {
        "id": "_aeVUxuVjfZ7",
        "colab_type": "code",
        "colab": {
          "base_uri": "https://localhost:8080/",
          "height": 51
        },
        "outputId": "3d5652ab-6d6d-44ed-a1ff-a2fb88e24df6"
      },
      "source": [
        "# Ejemplo\n",
        "persona3 = {'Nombre': 'Francisco', 'Apellido': 'Ospina', 'Edad': 37, 'Genero': 'Masculino'}\n",
        "datos_adicionales = {'Profesion': 'Data Scientist', 'Nacionalidad': 'Colombiana'}\n",
        "\n",
        "#persona3.update(datos_adicionales)\n",
        "\n",
        "\n",
        "\n",
        "# Opcional para no sobreescribir persona3\n",
        "persona4 = persona3.copy()\n",
        "persona4.update(datos_adicionales)\n",
        "print(persona3)\n",
        "print(persona4)"
      ],
      "execution_count": null,
      "outputs": [
        {
          "output_type": "stream",
          "text": [
            "{'Nombre': 'Francisco', 'Apellido': 'Ospina', 'Edad': 37, 'Genero': 'Masculino', 'Profesion': 'Data Scientist', 'Nacionalidad': 'Colombiana'}\n",
            "{'Nombre': 'Francisco', 'Apellido': 'Ospina', 'Edad': 37, 'Genero': 'Masculino', 'Profesion': 'Data Scientist', 'Nacionalidad': 'Colombiana'}\n"
          ],
          "name": "stdout"
        }
      ]
    },
    {
      "cell_type": "code",
      "metadata": {
        "id": "OPcNt4h7kB9S",
        "colab_type": "code",
        "colab": {
          "base_uri": "https://localhost:8080/",
          "height": 35
        },
        "outputId": "c7fc7a1e-3d49-49e9-e816-7f426b759dc8"
      },
      "source": [
        "cadena = 'Hola '\n",
        "cadena2 = 'Mundo'\n",
        "cadena + cadena2"
      ],
      "execution_count": null,
      "outputs": [
        {
          "output_type": "execute_result",
          "data": {
            "application/vnd.google.colaboratory.intrinsic+json": {
              "type": "string"
            },
            "text/plain": [
              "'Hola Mundo'"
            ]
          },
          "metadata": {
            "tags": []
          },
          "execution_count": 151
        }
      ]
    },
    {
      "cell_type": "code",
      "metadata": {
        "id": "qiG5IqS-kLej",
        "colab_type": "code",
        "colab": {
          "base_uri": "https://localhost:8080/",
          "height": 35
        },
        "outputId": "351c11b0-9a0f-4de1-ad7d-a66900f63b6b"
      },
      "source": [
        "cadena2"
      ],
      "execution_count": null,
      "outputs": [
        {
          "output_type": "execute_result",
          "data": {
            "application/vnd.google.colaboratory.intrinsic+json": {
              "type": "string"
            },
            "text/plain": [
              "'Mundo'"
            ]
          },
          "metadata": {
            "tags": []
          },
          "execution_count": 153
        }
      ]
    },
    {
      "cell_type": "code",
      "metadata": {
        "id": "Dk0OA6CxkOZc",
        "colab_type": "code",
        "colab": {
          "base_uri": "https://localhost:8080/",
          "height": 34
        },
        "outputId": "5d3d8d2f-7e4d-4176-ae9d-e5753f8d8b99"
      },
      "source": [
        "# Ejemplo bloque if\n",
        "numero = 5\n",
        "\n",
        "if numero < 0:\n",
        "    # Ver dos puntos\n",
        "    print('El número {} es negativo'.format(numero)) # Ver el tabulador\n",
        "    print('Esto hace parte del if')\n",
        "print('Esto NO hace parte del if')"
      ],
      "execution_count": null,
      "outputs": [
        {
          "output_type": "stream",
          "text": [
            "Esto NO hace parte del if\n"
          ],
          "name": "stdout"
        }
      ]
    },
    {
      "cell_type": "code",
      "metadata": {
        "id": "RXwaDsTemjcl",
        "colab_type": "code",
        "colab": {
          "base_uri": "https://localhost:8080/",
          "height": 34
        },
        "outputId": "94690bc0-353c-4ff9-cd5a-f55e6b2daa9a"
      },
      "source": [
        "numero < 0"
      ],
      "execution_count": null,
      "outputs": [
        {
          "output_type": "execute_result",
          "data": {
            "text/plain": [
              "False"
            ]
          },
          "metadata": {
            "tags": []
          },
          "execution_count": 162
        }
      ]
    },
    {
      "cell_type": "code",
      "metadata": {
        "id": "8IgzHtrsmoJ7",
        "colab_type": "code",
        "colab": {
          "base_uri": "https://localhost:8080/",
          "height": 34
        },
        "outputId": "48648c57-2e4b-43ab-df75-64b4ab407d7e"
      },
      "source": [
        "# Ejemplo bloque if else\n",
        "numero = -7\n",
        "\n",
        "if numero < 0:\n",
        "    print('El número {} es negativo'.format(numero))\n",
        "else:\n",
        "    print('El número {} es no negativo'.format(numero))"
      ],
      "execution_count": null,
      "outputs": [
        {
          "output_type": "stream",
          "text": [
            "El número -7 es negativo\n"
          ],
          "name": "stdout"
        }
      ]
    },
    {
      "cell_type": "code",
      "metadata": {
        "id": "MQrWH8dQnice",
        "colab_type": "code",
        "colab": {
          "base_uri": "https://localhost:8080/",
          "height": 34
        },
        "outputId": "665d9283-b0ed-4fa5-d24b-dddc9c57c6ea"
      },
      "source": [
        "# Ejemplo bloque if else\n",
        "numero = 60\n",
        "\n",
        "if numero < 0:\n",
        "    print('El número {} es negativo'.format(numero))\n",
        "else:\n",
        "  if numero > 0:\n",
        "      print('El número {} es positivo'.format(numero))\n",
        "  else:\n",
        "      print('El número {} es cero'.format(numero))\n",
        "\n",
        "\n"
      ],
      "execution_count": null,
      "outputs": [
        {
          "output_type": "stream",
          "text": [
            "El número 60 es positivo\n"
          ],
          "name": "stdout"
        }
      ]
    },
    {
      "cell_type": "code",
      "metadata": {
        "id": "fhX-woc4oWrz",
        "colab_type": "code",
        "colab": {}
      },
      "source": [
        "# Ejemplo bloque if else\n",
        "numero = 0\n",
        "\n",
        "if numero < 0:\n",
        "    print('El número {} es negativo'.format(numero))\n",
        "elif numero > 0:\n",
        "    print('El número {} es positivo'.format(numero))\n",
        "else:\n",
        "    print('El número {} es cero'.format(numero))"
      ],
      "execution_count": null,
      "outputs": []
    },
    {
      "cell_type": "code",
      "metadata": {
        "id": "V6DHxqC4ozAY",
        "colab_type": "code",
        "colab": {
          "base_uri": "https://localhost:8080/",
          "height": 34
        },
        "outputId": "1883191a-984a-4d17-ed61-52b181b7b4b4"
      },
      "source": [
        "numero = 18\n",
        "\n",
        "# If normal\n",
        "if numero % 2 == 0:\n",
        "    es_par = True\n",
        "else:\n",
        "    es_par = False\n",
        "\n",
        "# If en una sola línea\n",
        "es_par2 = True if numero % 2 == 0 else False\n",
        "\n",
        "print(es_par)\n",
        "print(es_par2)"
      ],
      "execution_count": null,
      "outputs": [
        {
          "output_type": "stream",
          "text": [
            "True\n"
          ],
          "name": "stdout"
        }
      ]
    },
    {
      "cell_type": "code",
      "metadata": {
        "id": "7LQ5r78vo-ht",
        "colab_type": "code",
        "colab": {}
      },
      "source": [
        ""
      ],
      "execution_count": null,
      "outputs": []
    }
  ]
}