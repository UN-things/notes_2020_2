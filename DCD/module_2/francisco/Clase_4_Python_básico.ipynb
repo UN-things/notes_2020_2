{
  "nbformat": 4,
  "nbformat_minor": 0,
  "metadata": {
    "colab": {
      "name": "Clase_4_Python_básico.ipynb",
      "provenance": [],
      "include_colab_link": true
    },
    "kernelspec": {
      "name": "python3",
      "display_name": "Python 3"
    }
  },
  "cells": [
    {
      "cell_type": "markdown",
      "metadata": {
        "id": "view-in-github",
        "colab_type": "text"
      },
      "source": [
        "<a href=\"https://colab.research.google.com/github/gtzambranop/UN_2020_2/blob/DCD/DCD/module_2_francisco/Clase_4_Python_b%C3%A1sico.ipynb\" target=\"_parent\"><img src=\"https://colab.research.google.com/assets/colab-badge.svg\" alt=\"Open In Colab\"/></a>"
      ]
    },
    {
      "cell_type": "code",
      "metadata": {
        "id": "BDV6hKCUlkg5"
      },
      "source": [
        "class tiempo(): # Nombre de la clase\n",
        "    \n",
        "    def __init__(self, hora=0, minuto=0, segundo=0):\n",
        "        # Definición de paramétros internos de la clase\n",
        "        \n",
        "        self.hora = 0 if hora < 0 or hora > 23 else hora\n",
        "        self.minuto = 0 if minuto < 0 or minuto > 59 else minuto\n",
        "        self.segundo = 0 if segundo < 0 or segundo > 59 else segundo\n",
        "        self.franja = None\n",
        "        \n",
        "        \n",
        "    # Metodo que recibe los parametros hora, minuto y segunfo y los suma a mi clase tiempo actual\n",
        "    def suma_hms(self, hora=0, minuto=0, segundo=0):\n",
        "        self.segundo = self.segundo + segundo\n",
        "        if self.segundo > 59: # Si segundo supera 60 se transforman 60 segundos a minuto\n",
        "            self.segundo = self.segundo % 60\n",
        "            self.minuto = self.minuto + 1\n",
        "        self.minuto = self.minuto + minuto\n",
        "        if self.minuto > 59: # Si segundo supera 60 se transforman 60 segundos a minuto\n",
        "            self.minuto = self.minuto % 60\n",
        "            self.hora = self.hora + 1\n",
        "        self.hora = self.hora + hora # Si hora supera 24 quiere decir que ya pasó un día y se pasó al siguiente\n",
        "        if self.hora > 23:\n",
        "            self.hora = self.hora % 24\n",
        "            \n",
        "    # A pesar de no haber sido definido el atributo franja al inicio de la clase se puede crear posteriormente\n",
        "    def set_franja_horaria(self):\n",
        "        if self.hora < 12: \n",
        "            self.franja = 'mañana'\n",
        "        elif self.hora >= 12 and self.hora <= 19:\n",
        "            self.franja = 'tarde'\n",
        "        else:\n",
        "            self.franja = 'noche'\n",
        "    \n",
        "    # Un método de una clase puede invocar a otros métodos\n",
        "    def suma_tiempo(self, t2):\n",
        "        self.suma_hms(hora=t2.hora, minuto=t2.minuto, segundo=t2.segundo)\n",
        "        \n",
        "    # Uso de el operador + para hacer una suma de tiempos\n",
        "    # Esto tiene un nombre en programación y es sobrecarga del operador +\n",
        "    def __add__(self, t2):\n",
        "        temp = tiempo(hora=self.hora, minuto=self.minuto, segundo=self.segundo)\n",
        "        temp.suma_tiempo(t2)\n",
        "        return temp\n",
        "    \n",
        "    # Método invocado al hacer uso de la función print de python          \n",
        "    def __str__(self):\n",
        "        hora_str = str(self.hora) if self.hora > 9 else '0' + str(self.hora)\n",
        "        minuto_str = str(self.minuto) if self.minuto > 9 else '0' + str(self.minuto)\n",
        "        segundo_str = str(self.segundo) if self.segundo > 9 else '0' + str(self.segundo)\n",
        "        return '{}:{}:{}'.format(hora_str, minuto_str, segundo_str)\n",
        "\n"
      ],
      "execution_count": null,
      "outputs": []
    },
    {
      "cell_type": "code",
      "metadata": {
        "id": "ZIt-Ys2r7R4y"
      },
      "source": [
        "class tiempo(): # Nombre de la clase\n",
        "    \n",
        "    def __init__(self, hora=0, minuto=0, segundo=0):\n",
        "        # Definición de paramétros internos de la clase\n",
        "        \n",
        "        self.hora = 0 if hora < 0 or hora > 23 else hora\n",
        "        self.minuto = 0 if minuto < 0 or minuto > 59 else minuto\n",
        "        self.segundo = 0 if segundo < 0 or segundo > 59 else segundo\n",
        "        self.set_franja_horaria()\n",
        "     \n",
        "    # Metodo que recibe los parametros hora, minuto y segunfo y los suma a mi clase tiempo actual\n",
        "    def suma_hms(self, hora=0, minuto=0, segundo=0):\n",
        "        self.segundo = self.segundo + segundo\n",
        "        if self.segundo > 59: # Si segundo supera 60 se transforman 60 segundos a minuto\n",
        "            self.segundo = self.segundo % 60\n",
        "            self.minuto = self.minuto + 1\n",
        "        self.minuto = self.minuto + minuto\n",
        "        if self.minuto > 59: # Si segundo supera 60 se transforman 60 segundos a minuto\n",
        "            self.minuto = self.minuto % 60\n",
        "            self.hora = self.hora + 1\n",
        "        self.hora = self.hora + hora # Si hora supera 24 quiere decir que ya pasó un día y se pasó al siguiente\n",
        "        if self.hora > 23:\n",
        "            self.hora = self.hora % 24\n",
        "            \n",
        "    # A pesar de no haber sido definido el atributo franja al inicio de la clase se puede crear posteriormente\n",
        "    def set_franja_horaria(self):\n",
        "        if self.hora < 12: \n",
        "            self.franja = 'mañana'\n",
        "        elif self.hora >= 12 and self.hora < 19:\n",
        "            self.franja = 'tarde'\n",
        "        else:\n",
        "            self.franja = 'noche'\n",
        "    \n",
        "    # Un método de una clase puede invocar a otros métodos\n",
        "    def suma_tiempo(self, t2):\n",
        "        self.suma_hms(hora=t2.hora, minuto=t2.minuto, segundo=t2.segundo)\n",
        "        \n",
        "    # Uso de el operador + para hacer una suma de tiempos\n",
        "    # Esto tiene un nombre en programación y es sobrecarga del operador +\n",
        "    def __add__(self, t2):\n",
        "        temp = tiempo(hora=self.hora, minuto=self.minuto, segundo=self.segundo)\n",
        "        temp.suma_tiempo(t2)\n",
        "        return temp\n",
        "\n",
        "    # Método invocado al hacer uso de la función print de python          \n",
        "    def __str__(self):\n",
        "        hora_str = str(self.hora) if self.hora > 9 else '0' + str(self.hora)\n",
        "        minuto_str = str(self.minuto) if self.minuto > 9 else '0' + str(self.minuto)\n",
        "        segundo_str = str(self.segundo) if self.segundo > 9 else '0' + str(self.segundo)\n",
        "        return '{}:{}:{}'.format(hora_str, minuto_str, segundo_str)"
      ],
      "execution_count": null,
      "outputs": []
    },
    {
      "cell_type": "code",
      "metadata": {
        "id": "usNS6eff1uID",
        "outputId": "3e135b16-8436-4046-bc82-d45f00d6e5ea",
        "colab": {
          "base_uri": "https://localhost:8080/",
          "height": 34
        }
      },
      "source": [
        "# Creación de una \"instancia\"\n",
        "t1 = tiempo(hora=10, minuto=50, segundo=6)\n",
        "#t1.hora\n",
        "#t1.segundo\n",
        "\n",
        "print(t1) \n",
        "#t1.suma_hms(hora=5, minuto=15, segundo=58)\n",
        "#print(t1)\n",
        "\n",
        "#t1.franja\n",
        "#t1.set_franja_horaria()\n",
        "#t1.franja\n",
        "\n",
        "#t1 = tiempo(hora=10, minuto=50, segundo=6)\n",
        "#t2 = tiempo(hora=6, minuto=12, segundo=15)\n",
        "#print(t1)\n",
        "#print(t2)\n",
        "#t1.suma_tiempo(t2)\n",
        "#print(t1)\n",
        "\n",
        "#t2 = tiempo(hora=10, minuto=50, segundo=6)\n",
        "#t3 = tiempo(hora=6, minuto=12, segundo=15)\n",
        "#t4 = t2 + t3\n",
        "#print(t2)\n",
        "#print(t3)\n",
        "#print(t4)"
      ],
      "execution_count": null,
      "outputs": [
        {
          "output_type": "stream",
          "text": [
            "10:50:06\n"
          ],
          "name": "stdout"
        }
      ]
    },
    {
      "cell_type": "code",
      "metadata": {
        "id": "bq8TFxGV2WTz"
      },
      "source": [
        "\n",
        "#print(t1) \n",
        "\n",
        "#t1.suma_hms(hora=5, minuto=15, segundo=68)\n",
        "#print(t1)\n",
        "\n",
        "#t1.franja\n",
        "#t1.set_franja_horaria()\n",
        "#t1.franja\n",
        "\n",
        "#t2 = tiempo(hora=10, minuto=50, segundo=6)\n",
        "#t3 = tiempo(hora=6, minuto=12, segundo=15)\n",
        "#print(t2)\n",
        "#print(t3)\n",
        "#t2.suma_tiempo(t3)\n",
        "#print(t2)\n",
        "\n",
        "#t2 = tiempo(hora=10, minuto=50, segundo=6)\n",
        "#t3 = tiempo(hora=6, minuto=12, segundo=15)\n",
        "#t4 = t2 + t3\n",
        "#print(t4)"
      ],
      "execution_count": null,
      "outputs": []
    },
    {
      "cell_type": "code",
      "metadata": {
        "id": "s998G4vd3wkw"
      },
      "source": [
        "add_segundo = 10\n",
        "segundo = 55 \n",
        "\n",
        "b = segundo + add_segundo"
      ],
      "execution_count": null,
      "outputs": []
    },
    {
      "cell_type": "code",
      "metadata": {
        "id": "jRASDJsH34Xp",
        "outputId": "57885ddf-63c6-4116-c0bd-3e2441c817e9",
        "colab": {
          "base_uri": "https://localhost:8080/",
          "height": 34
        }
      },
      "source": [
        "b % 60"
      ],
      "execution_count": null,
      "outputs": [
        {
          "output_type": "execute_result",
          "data": {
            "text/plain": [
              "5"
            ]
          },
          "metadata": {
            "tags": []
          },
          "execution_count": 6
        }
      ]
    },
    {
      "cell_type": "markdown",
      "metadata": {
        "id": "smCAK39bGJYa"
      },
      "source": [
        "Duda quiz iterador ciccionario"
      ]
    },
    {
      "cell_type": "code",
      "metadata": {
        "id": "GwKWwkhy3_3b"
      },
      "source": [
        "dc = {'a':1, 'b':2}\n",
        "for k,v in dc.items():\n",
        "  pass"
      ],
      "execution_count": null,
      "outputs": []
    },
    {
      "cell_type": "code",
      "metadata": {
        "id": "reXhD-BwF1Os"
      },
      "source": [
        "def imprimir_hola():\n",
        "  print('hola')"
      ],
      "execution_count": null,
      "outputs": []
    },
    {
      "cell_type": "code",
      "metadata": {
        "id": "ba5Q_PBgGVIn",
        "outputId": "84e7d039-c021-4c12-f6e1-24134ede71f6",
        "colab": {
          "base_uri": "https://localhost:8080/",
          "height": 34
        }
      },
      "source": [
        "imprimir_hola()"
      ],
      "execution_count": null,
      "outputs": [
        {
          "output_type": "stream",
          "text": [
            "hola\n"
          ],
          "name": "stdout"
        }
      ]
    },
    {
      "cell_type": "code",
      "metadata": {
        "id": "3pTHa3VsGXTW"
      },
      "source": [
        "import pandas as pd"
      ],
      "execution_count": null,
      "outputs": []
    },
    {
      "cell_type": "code",
      "metadata": {
        "id": "fXicFYx7HCO6",
        "outputId": "aaab206d-0c5e-447e-d21f-cd56ad62b192",
        "colab": {
          "base_uri": "https://localhost:8080/",
          "height": 139
        }
      },
      "source": [
        "# Ejemplo\n",
        "\n",
        "serie1 = pd.Series([1,2,3,4,5,6])\n",
        "print(serie1)\n",
        "#print(type(serie1))"
      ],
      "execution_count": null,
      "outputs": [
        {
          "output_type": "stream",
          "text": [
            "0    1\n",
            "1    2\n",
            "2    3\n",
            "3    4\n",
            "4    5\n",
            "5    6\n",
            "dtype: int64\n"
          ],
          "name": "stdout"
        }
      ]
    },
    {
      "cell_type": "code",
      "metadata": {
        "id": "xsSlK9CzIFD2",
        "outputId": "800de02a-518f-4d95-e214-fc30eac032d3",
        "colab": {
          "base_uri": "https://localhost:8080/",
          "height": 34
        }
      },
      "source": [
        "# Obtener valores\n",
        "serie1.values\n",
        "\n",
        "# Obtener índices\n",
        "#serie1.index\n",
        "list(serie1.index)"
      ],
      "execution_count": null,
      "outputs": [
        {
          "output_type": "execute_result",
          "data": {
            "text/plain": [
              "[0, 1, 2, 3, 4, 5]"
            ]
          },
          "metadata": {
            "tags": []
          },
          "execution_count": 12
        }
      ]
    },
    {
      "cell_type": "code",
      "metadata": {
        "id": "oYWrh-XlItlB",
        "outputId": "431c9d90-51b6-4b91-8d30-3e80b2fce33e",
        "colab": {
          "base_uri": "https://localhost:8080/",
          "height": 139
        }
      },
      "source": [
        "# Ejemplo de serie con index personalizados\n",
        "\n",
        "serie1 = pd.Series([1,2,3,4,5,6], index=['a', 'b', 'c', 'd', 'e', 'f'])\n",
        "print(serie1)"
      ],
      "execution_count": null,
      "outputs": [
        {
          "output_type": "stream",
          "text": [
            "a    1\n",
            "b    2\n",
            "c    3\n",
            "d    4\n",
            "e    5\n",
            "f    6\n",
            "dtype: int64\n"
          ],
          "name": "stdout"
        }
      ]
    },
    {
      "cell_type": "code",
      "metadata": {
        "id": "sWRlyWfnJMeZ",
        "outputId": "64c2cfc2-a214-45b1-ef30-d7bbed7cd0aa",
        "colab": {
          "base_uri": "https://localhost:8080/",
          "height": 590
        }
      },
      "source": [
        "# Ejemplo\n",
        "import numpy as np\n",
        "import string\n",
        "index = list(string.ascii_letters)[:10]\n",
        "\n",
        "serie1 = pd.Series(np.arange(10), index=index)\n",
        "print(serie1)\n",
        "\n",
        "# Broadcasting\n",
        "serie2 = serie1 * 3\n",
        "print(serie2)\n",
        "\n",
        "serie3 = np.sqrt(serie1)\n",
        "print(serie3)"
      ],
      "execution_count": null,
      "outputs": [
        {
          "output_type": "stream",
          "text": [
            "a    0\n",
            "b    1\n",
            "c    2\n",
            "d    3\n",
            "e    4\n",
            "f    5\n",
            "g    6\n",
            "h    7\n",
            "i    8\n",
            "j    9\n",
            "dtype: int64\n",
            "a     0\n",
            "b     3\n",
            "c     6\n",
            "d     9\n",
            "e    12\n",
            "f    15\n",
            "g    18\n",
            "h    21\n",
            "i    24\n",
            "j    27\n",
            "dtype: int64\n",
            "a    0.000000\n",
            "b    1.000000\n",
            "c    1.414214\n",
            "d    1.732051\n",
            "e    2.000000\n",
            "f    2.236068\n",
            "g    2.449490\n",
            "h    2.645751\n",
            "i    2.828427\n",
            "j    3.000000\n",
            "dtype: float64\n"
          ],
          "name": "stdout"
        }
      ]
    },
    {
      "cell_type": "code",
      "metadata": {
        "id": "qPIZ1g4JJmq6",
        "outputId": "3660374b-d992-4776-bc99-872eee555d67",
        "colab": {
          "base_uri": "https://localhost:8080/",
          "height": 36
        }
      },
      "source": [
        "import string\n",
        "string.ascii_letters"
      ],
      "execution_count": null,
      "outputs": [
        {
          "output_type": "execute_result",
          "data": {
            "application/vnd.google.colaboratory.intrinsic+json": {
              "type": "string"
            },
            "text/plain": [
              "'abcdefghijklmnopqrstuvwxyzABCDEFGHIJKLMNOPQRSTUVWXYZ'"
            ]
          },
          "metadata": {
            "tags": []
          },
          "execution_count": 15
        }
      ]
    },
    {
      "cell_type": "code",
      "metadata": {
        "id": "fTvsp70nKUsT",
        "outputId": "864fd03e-710c-43c7-e3d3-f77492d7fbf9",
        "colab": {
          "base_uri": "https://localhost:8080/",
          "height": 86
        }
      },
      "source": [
        "# Indexado booleano\n",
        "#serie1\n",
        "#serie1 >= 5\n",
        "#serie1[serie1 >= 5]\n",
        "\n",
        "# Ejemplo con error\n",
        "np.logical_and(serie1 >= 5, serie1 <= 7)\n",
        "serie5 = serie1[np.logical_and(serie1 >= 5, serie1 <= 7)]\n",
        "print(serie5)"
      ],
      "execution_count": null,
      "outputs": [
        {
          "output_type": "stream",
          "text": [
            "f    5\n",
            "g    6\n",
            "h    7\n",
            "dtype: int64\n"
          ],
          "name": "stdout"
        }
      ]
    },
    {
      "cell_type": "code",
      "metadata": {
        "id": "f2VRhr-OLFhK",
        "outputId": "1d66341b-5e3a-4f5a-945e-a3921df4766b",
        "colab": {
          "base_uri": "https://localhost:8080/",
          "height": 34
        }
      },
      "source": [
        "True and True"
      ],
      "execution_count": null,
      "outputs": [
        {
          "output_type": "execute_result",
          "data": {
            "text/plain": [
              "True"
            ]
          },
          "metadata": {
            "tags": []
          },
          "execution_count": 17
        }
      ]
    },
    {
      "cell_type": "code",
      "metadata": {
        "id": "Yw1JLWtBMHFn",
        "outputId": "02437b76-2bab-468a-aa08-3b8f1010a397",
        "colab": {
          "base_uri": "https://localhost:8080/",
          "height": 206
        }
      },
      "source": [
        "dc = {'Nombre': ['Francisco', 'Mario', 'Ana', 'Pedro', 'Marta'],\n",
        "      'Edad': [37, 20, 45, 26, 42],\n",
        "      'Género': ['M', 'M', 'F', 'M', 'F']}\n",
        "\n",
        "df1 = pd.DataFrame(dc)\n",
        "df1"
      ],
      "execution_count": null,
      "outputs": [
        {
          "output_type": "execute_result",
          "data": {
            "text/html": [
              "<div>\n",
              "<style scoped>\n",
              "    .dataframe tbody tr th:only-of-type {\n",
              "        vertical-align: middle;\n",
              "    }\n",
              "\n",
              "    .dataframe tbody tr th {\n",
              "        vertical-align: top;\n",
              "    }\n",
              "\n",
              "    .dataframe thead th {\n",
              "        text-align: right;\n",
              "    }\n",
              "</style>\n",
              "<table border=\"1\" class=\"dataframe\">\n",
              "  <thead>\n",
              "    <tr style=\"text-align: right;\">\n",
              "      <th></th>\n",
              "      <th>Nombre</th>\n",
              "      <th>Edad</th>\n",
              "      <th>Género</th>\n",
              "    </tr>\n",
              "  </thead>\n",
              "  <tbody>\n",
              "    <tr>\n",
              "      <th>0</th>\n",
              "      <td>Francisco</td>\n",
              "      <td>37</td>\n",
              "      <td>M</td>\n",
              "    </tr>\n",
              "    <tr>\n",
              "      <th>1</th>\n",
              "      <td>Mario</td>\n",
              "      <td>20</td>\n",
              "      <td>M</td>\n",
              "    </tr>\n",
              "    <tr>\n",
              "      <th>2</th>\n",
              "      <td>Ana</td>\n",
              "      <td>45</td>\n",
              "      <td>F</td>\n",
              "    </tr>\n",
              "    <tr>\n",
              "      <th>3</th>\n",
              "      <td>Pedro</td>\n",
              "      <td>26</td>\n",
              "      <td>M</td>\n",
              "    </tr>\n",
              "    <tr>\n",
              "      <th>4</th>\n",
              "      <td>Marta</td>\n",
              "      <td>42</td>\n",
              "      <td>F</td>\n",
              "    </tr>\n",
              "  </tbody>\n",
              "</table>\n",
              "</div>"
            ],
            "text/plain": [
              "      Nombre  Edad Género\n",
              "0  Francisco    37      M\n",
              "1      Mario    20      M\n",
              "2        Ana    45      F\n",
              "3      Pedro    26      M\n",
              "4      Marta    42      F"
            ]
          },
          "metadata": {
            "tags": []
          },
          "execution_count": 18
        }
      ]
    },
    {
      "cell_type": "code",
      "metadata": {
        "id": "dwrj36UtMwmE"
      },
      "source": [
        "# Ejemplo\n",
        "# Por columnas\n",
        "#df1.columns\n",
        "\n",
        "# Por filas\n",
        "#df1.index"
      ],
      "execution_count": null,
      "outputs": []
    },
    {
      "cell_type": "code",
      "metadata": {
        "id": "Xbim-jVxNyuP",
        "outputId": "773d8bdb-6c1c-4668-a9df-3b02ade7796a",
        "colab": {
          "base_uri": "https://localhost:8080/",
          "height": 121
        }
      },
      "source": [
        "# Ejemplo de acceso por columnas\n",
        "\n",
        "#df1['Nombre'] # El retorno es una Serie\n",
        "\n",
        "df1.Edad\n"
      ],
      "execution_count": null,
      "outputs": [
        {
          "output_type": "execute_result",
          "data": {
            "text/plain": [
              "0    37\n",
              "1    20\n",
              "2    45\n",
              "3    26\n",
              "4    42\n",
              "Name: Edad, dtype: int64"
            ]
          },
          "metadata": {
            "tags": []
          },
          "execution_count": 20
        }
      ]
    },
    {
      "cell_type": "code",
      "metadata": {
        "id": "GzsDdUIAN7aG",
        "outputId": "5181812a-ba05-4542-d84b-f61906f5c622",
        "colab": {
          "base_uri": "https://localhost:8080/",
          "height": 295
        }
      },
      "source": [
        "# Ejemplo de acceso por filas\n",
        "\n",
        "#df1.loc[0] # El retorno es una Serie\n",
        "\n",
        "print(df1)\n",
        "# Diferencias entre loc e iloc\n",
        "df2 = df1.copy()\n",
        "df2.index = np.arange(10,15)\n",
        "print(df2)\n",
        "\n",
        "#df2.loc[0]\n",
        "df2.iloc[0]"
      ],
      "execution_count": null,
      "outputs": [
        {
          "output_type": "stream",
          "text": [
            "      Nombre  Edad Género\n",
            "0  Francisco    37      M\n",
            "1      Mario    20      M\n",
            "2        Ana    45      F\n",
            "3      Pedro    26      M\n",
            "4      Marta    42      F\n",
            "       Nombre  Edad Género\n",
            "10  Francisco    37      M\n",
            "11      Mario    20      M\n",
            "12        Ana    45      F\n",
            "13      Pedro    26      M\n",
            "14      Marta    42      F\n"
          ],
          "name": "stdout"
        },
        {
          "output_type": "execute_result",
          "data": {
            "text/plain": [
              "Nombre    Francisco\n",
              "Edad             37\n",
              "Género            M\n",
              "Name: 10, dtype: object"
            ]
          },
          "metadata": {
            "tags": []
          },
          "execution_count": 21
        }
      ]
    },
    {
      "cell_type": "code",
      "metadata": {
        "id": "HnE4O31POSmH",
        "outputId": "e20210b1-83f9-4225-ee57-fca199fe8820",
        "colab": {
          "base_uri": "https://localhost:8080/",
          "height": 208
        }
      },
      "source": [
        "! wget https://archive.ics.uci.edu/ml/machine-learning-databases/iris/iris.data"
      ],
      "execution_count": null,
      "outputs": [
        {
          "output_type": "stream",
          "text": [
            "--2020-09-27 05:49:20--  https://archive.ics.uci.edu/ml/machine-learning-databases/iris/iris.data\n",
            "Resolving archive.ics.uci.edu (archive.ics.uci.edu)... 128.195.10.252\n",
            "Connecting to archive.ics.uci.edu (archive.ics.uci.edu)|128.195.10.252|:443... connected.\n",
            "HTTP request sent, awaiting response... 200 OK\n",
            "Length: 4551 (4.4K) [application/x-httpd-php]\n",
            "Saving to: ‘iris.data’\n",
            "\n",
            "iris.data           100%[===================>]   4.44K  --.-KB/s    in 0s      \n",
            "\n",
            "2020-09-27 05:49:20 (79.2 MB/s) - ‘iris.data’ saved [4551/4551]\n",
            "\n"
          ],
          "name": "stdout"
        }
      ]
    },
    {
      "cell_type": "code",
      "metadata": {
        "id": "_Akugnu1PS5x",
        "outputId": "d2deea4f-1f43-47b7-899c-5338983bcf00",
        "colab": {
          "base_uri": "https://localhost:8080/",
          "height": 104
        }
      },
      "source": [
        "! head -n 5 iris.data"
      ],
      "execution_count": null,
      "outputs": [
        {
          "output_type": "stream",
          "text": [
            "5.1,3.5,1.4,0.2,Iris-setosa\n",
            "4.9,3.0,1.4,0.2,Iris-setosa\n",
            "4.7,3.2,1.3,0.2,Iris-setosa\n",
            "4.6,3.1,1.5,0.2,Iris-setosa\n",
            "5.0,3.6,1.4,0.2,Iris-setosa\n"
          ],
          "name": "stdout"
        }
      ]
    },
    {
      "cell_type": "code",
      "metadata": {
        "id": "-SjzBylsQFtN"
      },
      "source": [
        "iris = pd.read_csv('iris.data', header=None)\n",
        "iris.columns = ['sepal_length', 'sepal_width', 'petal_length', 'petal_width', 'class']"
      ],
      "execution_count": null,
      "outputs": []
    },
    {
      "cell_type": "code",
      "metadata": {
        "id": "bqvXrYPQQhPV",
        "outputId": "5c3e4ed7-6e36-4d00-f542-7905520421aa",
        "colab": {
          "base_uri": "https://localhost:8080/",
          "height": 424
        }
      },
      "source": [
        "iris"
      ],
      "execution_count": null,
      "outputs": [
        {
          "output_type": "execute_result",
          "data": {
            "text/html": [
              "<div>\n",
              "<style scoped>\n",
              "    .dataframe tbody tr th:only-of-type {\n",
              "        vertical-align: middle;\n",
              "    }\n",
              "\n",
              "    .dataframe tbody tr th {\n",
              "        vertical-align: top;\n",
              "    }\n",
              "\n",
              "    .dataframe thead th {\n",
              "        text-align: right;\n",
              "    }\n",
              "</style>\n",
              "<table border=\"1\" class=\"dataframe\">\n",
              "  <thead>\n",
              "    <tr style=\"text-align: right;\">\n",
              "      <th></th>\n",
              "      <th>sepal_length</th>\n",
              "      <th>sepal_width</th>\n",
              "      <th>petal_length</th>\n",
              "      <th>petal_width</th>\n",
              "      <th>class</th>\n",
              "    </tr>\n",
              "  </thead>\n",
              "  <tbody>\n",
              "    <tr>\n",
              "      <th>0</th>\n",
              "      <td>5.1</td>\n",
              "      <td>3.5</td>\n",
              "      <td>1.4</td>\n",
              "      <td>0.2</td>\n",
              "      <td>Iris-setosa</td>\n",
              "    </tr>\n",
              "    <tr>\n",
              "      <th>1</th>\n",
              "      <td>4.9</td>\n",
              "      <td>3.0</td>\n",
              "      <td>1.4</td>\n",
              "      <td>0.2</td>\n",
              "      <td>Iris-setosa</td>\n",
              "    </tr>\n",
              "    <tr>\n",
              "      <th>2</th>\n",
              "      <td>4.7</td>\n",
              "      <td>3.2</td>\n",
              "      <td>1.3</td>\n",
              "      <td>0.2</td>\n",
              "      <td>Iris-setosa</td>\n",
              "    </tr>\n",
              "    <tr>\n",
              "      <th>3</th>\n",
              "      <td>4.6</td>\n",
              "      <td>3.1</td>\n",
              "      <td>1.5</td>\n",
              "      <td>0.2</td>\n",
              "      <td>Iris-setosa</td>\n",
              "    </tr>\n",
              "    <tr>\n",
              "      <th>4</th>\n",
              "      <td>5.0</td>\n",
              "      <td>3.6</td>\n",
              "      <td>1.4</td>\n",
              "      <td>0.2</td>\n",
              "      <td>Iris-setosa</td>\n",
              "    </tr>\n",
              "    <tr>\n",
              "      <th>...</th>\n",
              "      <td>...</td>\n",
              "      <td>...</td>\n",
              "      <td>...</td>\n",
              "      <td>...</td>\n",
              "      <td>...</td>\n",
              "    </tr>\n",
              "    <tr>\n",
              "      <th>145</th>\n",
              "      <td>6.7</td>\n",
              "      <td>3.0</td>\n",
              "      <td>5.2</td>\n",
              "      <td>2.3</td>\n",
              "      <td>Iris-virginica</td>\n",
              "    </tr>\n",
              "    <tr>\n",
              "      <th>146</th>\n",
              "      <td>6.3</td>\n",
              "      <td>2.5</td>\n",
              "      <td>5.0</td>\n",
              "      <td>1.9</td>\n",
              "      <td>Iris-virginica</td>\n",
              "    </tr>\n",
              "    <tr>\n",
              "      <th>147</th>\n",
              "      <td>6.5</td>\n",
              "      <td>3.0</td>\n",
              "      <td>5.2</td>\n",
              "      <td>2.0</td>\n",
              "      <td>Iris-virginica</td>\n",
              "    </tr>\n",
              "    <tr>\n",
              "      <th>148</th>\n",
              "      <td>6.2</td>\n",
              "      <td>3.4</td>\n",
              "      <td>5.4</td>\n",
              "      <td>2.3</td>\n",
              "      <td>Iris-virginica</td>\n",
              "    </tr>\n",
              "    <tr>\n",
              "      <th>149</th>\n",
              "      <td>5.9</td>\n",
              "      <td>3.0</td>\n",
              "      <td>5.1</td>\n",
              "      <td>1.8</td>\n",
              "      <td>Iris-virginica</td>\n",
              "    </tr>\n",
              "  </tbody>\n",
              "</table>\n",
              "<p>150 rows × 5 columns</p>\n",
              "</div>"
            ],
            "text/plain": [
              "     sepal_length  sepal_width  petal_length  petal_width           class\n",
              "0             5.1          3.5           1.4          0.2     Iris-setosa\n",
              "1             4.9          3.0           1.4          0.2     Iris-setosa\n",
              "2             4.7          3.2           1.3          0.2     Iris-setosa\n",
              "3             4.6          3.1           1.5          0.2     Iris-setosa\n",
              "4             5.0          3.6           1.4          0.2     Iris-setosa\n",
              "..            ...          ...           ...          ...             ...\n",
              "145           6.7          3.0           5.2          2.3  Iris-virginica\n",
              "146           6.3          2.5           5.0          1.9  Iris-virginica\n",
              "147           6.5          3.0           5.2          2.0  Iris-virginica\n",
              "148           6.2          3.4           5.4          2.3  Iris-virginica\n",
              "149           5.9          3.0           5.1          1.8  Iris-virginica\n",
              "\n",
              "[150 rows x 5 columns]"
            ]
          },
          "metadata": {
            "tags": []
          },
          "execution_count": 25
        }
      ]
    },
    {
      "cell_type": "code",
      "metadata": {
        "id": "saJLVkLOQiQ-"
      },
      "source": [
        "import numpy as np\n",
        "\n",
        "n = 1e7\n",
        "array = np.random.rand(int(n)) * 360\n",
        "#array>"
      ],
      "execution_count": null,
      "outputs": []
    },
    {
      "cell_type": "code",
      "metadata": {
        "id": "ehV0rXpxRGhd",
        "outputId": "292a5ef1-1320-40d9-a224-10670618e12d",
        "colab": {
          "base_uri": "https://localhost:8080/",
          "height": 34
        }
      },
      "source": [
        "from datetime import datetime as dt\n",
        "\n",
        "\n",
        "def sin_array(array):\n",
        "    ret = np.empty(len(array))\n",
        "    for index, x in enumerate(array):\n",
        "        ret[index] = np.sin(x * 2 * np.pi / 360)\n",
        "    return ret\n",
        "\n",
        "\n",
        "start = dt.now()\n",
        "\n",
        "sin_array(array)\n",
        "\n",
        "print(dt.now() - start)"
      ],
      "execution_count": null,
      "outputs": [
        {
          "output_type": "stream",
          "text": [
            "0:00:24.784450\n"
          ],
          "name": "stdout"
        }
      ]
    },
    {
      "cell_type": "code",
      "metadata": {
        "id": "dufzZKDvRem0",
        "outputId": "3995f170-e380-49f5-c4a1-d76c3f6a125d",
        "colab": {
          "base_uri": "https://localhost:8080/",
          "height": 34
        }
      },
      "source": [
        "import numba\n",
        "\n",
        "@numba.jit\n",
        "def sin_array2(array):\n",
        "    ret = np.empty(len(array))\n",
        "    for index, x in enumerate(array):\n",
        "        ret[index] = np.sin(x * 2 * np.pi / 360)\n",
        "    return ret\n",
        "\n",
        "start = dt.now()\n",
        "\n",
        "sin_array2(array)\n",
        "\n",
        "print(dt.now() - start)"
      ],
      "execution_count": null,
      "outputs": [
        {
          "output_type": "stream",
          "text": [
            "0:00:00.682155\n"
          ],
          "name": "stdout"
        }
      ]
    },
    {
      "cell_type": "code",
      "metadata": {
        "id": "xi-7Cy_BR0ib",
        "outputId": "16f419fe-a4ea-4671-a8bd-ddffbcfc98c3",
        "colab": {
          "base_uri": "https://localhost:8080/",
          "height": 34
        }
      },
      "source": [
        "[('x_sup_izq', 'y_sup_izq'),('x_inf_der', 'y_inf_der')]"
      ],
      "execution_count": null,
      "outputs": [
        {
          "output_type": "execute_result",
          "data": {
            "text/plain": [
              "[('x_sup_izq', 'y_sup_izq'), ('x_inf_der', 'y_inf_der')]"
            ]
          },
          "metadata": {
            "tags": []
          },
          "execution_count": 29
        }
      ]
    },
    {
      "cell_type": "code",
      "metadata": {
        "id": "CgIARMpXSpuC"
      },
      "source": [
        ""
      ],
      "execution_count": null,
      "outputs": []
    }
  ]
}