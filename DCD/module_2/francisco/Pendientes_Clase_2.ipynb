{
  "nbformat": 4,
  "nbformat_minor": 0,
  "metadata": {
    "colab": {
      "name": "Pendientes Clase 2.ipynb",
      "provenance": [],
      "include_colab_link": true
    },
    "kernelspec": {
      "name": "python3",
      "display_name": "Python 3"
    }
  },
  "cells": [
    {
      "cell_type": "markdown",
      "metadata": {
        "id": "view-in-github",
        "colab_type": "text"
      },
      "source": [
        "<a href=\"https://colab.research.google.com/github/gtzambranop/UN_2020_2/blob/DCD%2Fweek_4/DCD/module_2_francisco/Pendientes_Clase_2.ipynb\" target=\"_parent\"><img src=\"https://colab.research.google.com/assets/colab-badge.svg\" alt=\"Open In Colab\"/></a>"
      ]
    },
    {
      "cell_type": "code",
      "metadata": {
        "id": "SJ4WUKpcCevD",
        "colab_type": "code",
        "colab": {}
      },
      "source": [
        ""
      ],
      "execution_count": null,
      "outputs": []
    },
    {
      "cell_type": "markdown",
      "metadata": {
        "id": "UKkPa6cdCwgZ",
        "colab_type": "text"
      },
      "source": [
        "\n",
        "# Referencias lógica de bool o algebra de bool\n",
        "\n",
        "- [https://www.ecured.cu/%C3%81lgebra_Booleana](https://www.ecured.cu/%C3%81lgebra_Booleana)\n",
        "- [https://es.wikipedia.org/wiki/Tabla_de_verdad](https://es.wikipedia.org/wiki/Tabla_de_verdad)\n",
        "- [https://www.youtube.com/watch?v=ZYiblnqy7Ck&ab_channel=julioprofe](https://www.youtube.com/watch?v=ZYiblnqy7Ck&ab_channel=julioprofe)\n"
      ]
    },
    {
      "cell_type": "markdown",
      "metadata": {
        "id": "JFQPMeCSDqM-",
        "colab_type": "text"
      },
      "source": [
        "# Slices"
      ]
    },
    {
      "cell_type": "code",
      "metadata": {
        "id": "mAHfjL0LC2p5",
        "colab_type": "code",
        "colab": {
          "base_uri": "https://localhost:8080/",
          "height": 69
        },
        "outputId": "ee36e440-edca-4774-a876-2a258d8c7055"
      },
      "source": [
        "cadena = 'Hola Mundo'\n",
        "\n",
        "print(cadena[2])\n",
        "print(cadena[6])\n",
        "print(cadena[2:6])"
      ],
      "execution_count": 1,
      "outputs": [
        {
          "output_type": "stream",
          "text": [
            "l\n",
            "u\n",
            "la M\n"
          ],
          "name": "stdout"
        }
      ]
    },
    {
      "cell_type": "markdown",
      "metadata": {
        "id": "wKeVZlt4D2Ia",
        "colab_type": "text"
      },
      "source": [
        "[https://stackoverflow.com/questions/509211/understanding-slice-notation](https://stackoverflow.com/questions/509211/understanding-slice-notation)"
      ]
    },
    {
      "cell_type": "markdown",
      "metadata": {
        "id": "aGN8LmeaGihr",
        "colab_type": "text"
      },
      "source": [
        "# range(start=20, stop=50, step=5)"
      ]
    },
    {
      "cell_type": "code",
      "metadata": {
        "id": "ceJ5jGj9EMGu",
        "colab_type": "code",
        "colab": {
          "base_uri": "https://localhost:8080/",
          "height": 34
        },
        "outputId": "4217e430-287e-4910-8ce3-7665f9d0cdfe"
      },
      "source": [
        "range(20, 50, 5)"
      ],
      "execution_count": 2,
      "outputs": [
        {
          "output_type": "execute_result",
          "data": {
            "text/plain": [
              "range(20, 50, 5)"
            ]
          },
          "metadata": {
            "tags": []
          },
          "execution_count": 2
        }
      ]
    },
    {
      "cell_type": "markdown",
      "metadata": {
        "id": "jFddVI_lHDKx",
        "colab_type": "text"
      },
      "source": [
        "[https://stackoverflow.com/questions/15875188/the-strange-arguments-of-range](https://stackoverflow.com/questions/15875188/the-strange-arguments-of-range)"
      ]
    },
    {
      "cell_type": "markdown",
      "metadata": {
        "id": "RBxwCHBvHuw7",
        "colab_type": "text"
      },
      "source": [
        "# Ejemplo isinstance()"
      ]
    },
    {
      "cell_type": "code",
      "metadata": {
        "id": "T5UNDFJAY8yd",
        "colab_type": "code",
        "colab": {
          "base_uri": "https://localhost:8080/",
          "height": 35
        },
        "outputId": "898106a6-d1e2-4e04-8388-159820edcb38"
      },
      "source": [
        "var = '12' \n",
        "var * 10"
      ],
      "execution_count": 3,
      "outputs": [
        {
          "output_type": "execute_result",
          "data": {
            "application/vnd.google.colaboratory.intrinsic+json": {
              "type": "string"
            },
            "text/plain": [
              "'12121212121212121212'"
            ]
          },
          "metadata": {
            "tags": []
          },
          "execution_count": 3
        }
      ]
    },
    {
      "cell_type": "code",
      "metadata": {
        "id": "rZamHiqtHybi",
        "colab_type": "code",
        "colab": {
          "base_uri": "https://localhost:8080/",
          "height": 34
        },
        "outputId": "e05e1370-9ff4-4c60-fa24-148d11572a32"
      },
      "source": [
        "var = '12'\n",
        "\n",
        "# Si var es una cadena de texto la transforma a un entero \n",
        "# para no obtener resultados indeseados\n",
        "if isinstance(var, str):\n",
        "  resultado = int(var) * 10\n",
        "elif isinstance(var, int):\n",
        "  resultado = var * 10\n",
        "\n",
        "print(resultado)"
      ],
      "execution_count": 4,
      "outputs": [
        {
          "output_type": "stream",
          "text": [
            "120\n"
          ],
          "name": "stdout"
        }
      ]
    },
    {
      "cell_type": "markdown",
      "metadata": {
        "id": "jGwRE3i3HP4T",
        "colab_type": "text"
      },
      "source": [
        "# Expresiones regulares en bash\n",
        "\n",
        "[https://en.wikipedia.org/wiki/Sed](https://en.wikipedia.org/wiki/Sed)"
      ]
    }
  ]
}