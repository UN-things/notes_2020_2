{
  "nbformat": 4,
  "nbformat_minor": 0,
  "metadata": {
    "colab": {
      "name": "Clase_6_Python_básico.ipynb",
      "provenance": [],
      "include_colab_link": true
    },
    "kernelspec": {
      "name": "python3",
      "display_name": "Python 3"
    }
  },
  "cells": [
    {
      "cell_type": "markdown",
      "metadata": {
        "id": "view-in-github",
        "colab_type": "text"
      },
      "source": [
        "<a href=\"https://colab.research.google.com/github/gtzambranop/UN_2020_2/blob/DCD/DCD/module_2_francisco/Clase_6_Python_b%C3%A1sico.ipynb\" target=\"_parent\"><img src=\"https://colab.research.google.com/assets/colab-badge.svg\" alt=\"Open In Colab\"/></a>"
      ]
    },
    {
      "cell_type": "code",
      "metadata": {
        "id": "RKSjxhMFbmit"
      },
      "source": [
        "import pandas as pd \n",
        "import numpy as np\n",
        "\n",
        "Empleado = pd.DataFrame({'Apellido' : ['Andrade', 'Jordán', 'Steinberg', 'Róbinson', 'Zolano', 'Gaspar'],\n",
        "                         'IDDepartamento' : [31, 33, 33, 34, 34, 36]})\n",
        "\n",
        "\n",
        "Departamento = pd.DataFrame({'NombreDepartamento': ['Ventas', 'Ingeniería', 'Producción', 'Mercadeo'],\n",
        "                             'IDDepartamento': [31, 33, 34, 35]})"
      ],
      "execution_count": null,
      "outputs": []
    },
    {
      "cell_type": "code",
      "metadata": {
        "id": "cMmsRlmxcQ34",
        "outputId": "83036b4c-adda-404d-9680-f1a9e25e5bd2",
        "colab": {
          "base_uri": "https://localhost:8080/",
          "height": 243
        }
      },
      "source": [
        "print(Empleado)\n",
        "print('-' * 50)\n",
        "print(Departamento)"
      ],
      "execution_count": null,
      "outputs": [
        {
          "output_type": "stream",
          "text": [
            "    Apellido  IDDepartamento\n",
            "0    Andrade              31\n",
            "1     Jordán              33\n",
            "2  Steinberg              33\n",
            "3   Róbinson              34\n",
            "4     Zolano              34\n",
            "5     Gaspar              36\n",
            "--------------------------------------------------\n",
            "  NombreDepartamento  IDDepartamento\n",
            "0             Ventas              31\n",
            "1         Ingeniería              33\n",
            "2         Producción              34\n",
            "3           Mercadeo              35\n"
          ],
          "name": "stdout"
        }
      ]
    },
    {
      "cell_type": "code",
      "metadata": {
        "id": "RQW3tYf0cv0R",
        "outputId": "4681f2c4-b8b3-4a3e-8ba0-32bdf249541f",
        "colab": {
          "base_uri": "https://localhost:8080/",
          "height": 206
        }
      },
      "source": [
        "pd.merge(Empleado, Departamento) # La columna IDDepartamento solo queda una vez\n",
        "\n",
        "Empleado.merge(Departamento) # Forma alterna"
      ],
      "execution_count": null,
      "outputs": [
        {
          "output_type": "execute_result",
          "data": {
            "text/html": [
              "<div>\n",
              "<style scoped>\n",
              "    .dataframe tbody tr th:only-of-type {\n",
              "        vertical-align: middle;\n",
              "    }\n",
              "\n",
              "    .dataframe tbody tr th {\n",
              "        vertical-align: top;\n",
              "    }\n",
              "\n",
              "    .dataframe thead th {\n",
              "        text-align: right;\n",
              "    }\n",
              "</style>\n",
              "<table border=\"1\" class=\"dataframe\">\n",
              "  <thead>\n",
              "    <tr style=\"text-align: right;\">\n",
              "      <th></th>\n",
              "      <th>Apellido</th>\n",
              "      <th>IDDepartamento</th>\n",
              "      <th>NombreDepartamento</th>\n",
              "    </tr>\n",
              "  </thead>\n",
              "  <tbody>\n",
              "    <tr>\n",
              "      <th>0</th>\n",
              "      <td>Andrade</td>\n",
              "      <td>31</td>\n",
              "      <td>Ventas</td>\n",
              "    </tr>\n",
              "    <tr>\n",
              "      <th>1</th>\n",
              "      <td>Jordán</td>\n",
              "      <td>33</td>\n",
              "      <td>Ingeniería</td>\n",
              "    </tr>\n",
              "    <tr>\n",
              "      <th>2</th>\n",
              "      <td>Steinberg</td>\n",
              "      <td>33</td>\n",
              "      <td>Ingeniería</td>\n",
              "    </tr>\n",
              "    <tr>\n",
              "      <th>3</th>\n",
              "      <td>Róbinson</td>\n",
              "      <td>34</td>\n",
              "      <td>Producción</td>\n",
              "    </tr>\n",
              "    <tr>\n",
              "      <th>4</th>\n",
              "      <td>Zolano</td>\n",
              "      <td>34</td>\n",
              "      <td>Producción</td>\n",
              "    </tr>\n",
              "  </tbody>\n",
              "</table>\n",
              "</div>"
            ],
            "text/plain": [
              "    Apellido  IDDepartamento NombreDepartamento\n",
              "0    Andrade              31             Ventas\n",
              "1     Jordán              33         Ingeniería\n",
              "2  Steinberg              33         Ingeniería\n",
              "3   Róbinson              34         Producción\n",
              "4     Zolano              34         Producción"
            ]
          },
          "metadata": {
            "tags": []
          },
          "execution_count": 3
        }
      ]
    },
    {
      "cell_type": "code",
      "metadata": {
        "id": "T9rnAsJRdFQD"
      },
      "source": [
        "df_merged = pd.merge(Empleado, Departamento, how='left')"
      ],
      "execution_count": null,
      "outputs": []
    },
    {
      "cell_type": "code",
      "metadata": {
        "id": "3vb45XCGdrtD",
        "outputId": "606a9b64-fa04-4350-e557-dbb0215f005e",
        "colab": {
          "base_uri": "https://localhost:8080/",
          "height": 238
        }
      },
      "source": [
        "df_merged"
      ],
      "execution_count": null,
      "outputs": [
        {
          "output_type": "execute_result",
          "data": {
            "text/html": [
              "<div>\n",
              "<style scoped>\n",
              "    .dataframe tbody tr th:only-of-type {\n",
              "        vertical-align: middle;\n",
              "    }\n",
              "\n",
              "    .dataframe tbody tr th {\n",
              "        vertical-align: top;\n",
              "    }\n",
              "\n",
              "    .dataframe thead th {\n",
              "        text-align: right;\n",
              "    }\n",
              "</style>\n",
              "<table border=\"1\" class=\"dataframe\">\n",
              "  <thead>\n",
              "    <tr style=\"text-align: right;\">\n",
              "      <th></th>\n",
              "      <th>Apellido</th>\n",
              "      <th>IDDepartamento</th>\n",
              "      <th>NombreDepartamento</th>\n",
              "    </tr>\n",
              "  </thead>\n",
              "  <tbody>\n",
              "    <tr>\n",
              "      <th>0</th>\n",
              "      <td>Andrade</td>\n",
              "      <td>31</td>\n",
              "      <td>Ventas</td>\n",
              "    </tr>\n",
              "    <tr>\n",
              "      <th>1</th>\n",
              "      <td>Jordán</td>\n",
              "      <td>33</td>\n",
              "      <td>Ingeniería</td>\n",
              "    </tr>\n",
              "    <tr>\n",
              "      <th>2</th>\n",
              "      <td>Steinberg</td>\n",
              "      <td>33</td>\n",
              "      <td>Ingeniería</td>\n",
              "    </tr>\n",
              "    <tr>\n",
              "      <th>3</th>\n",
              "      <td>Róbinson</td>\n",
              "      <td>34</td>\n",
              "      <td>Producción</td>\n",
              "    </tr>\n",
              "    <tr>\n",
              "      <th>4</th>\n",
              "      <td>Zolano</td>\n",
              "      <td>34</td>\n",
              "      <td>Producción</td>\n",
              "    </tr>\n",
              "    <tr>\n",
              "      <th>5</th>\n",
              "      <td>Gaspar</td>\n",
              "      <td>36</td>\n",
              "      <td>NaN</td>\n",
              "    </tr>\n",
              "  </tbody>\n",
              "</table>\n",
              "</div>"
            ],
            "text/plain": [
              "    Apellido  IDDepartamento NombreDepartamento\n",
              "0    Andrade              31             Ventas\n",
              "1     Jordán              33         Ingeniería\n",
              "2  Steinberg              33         Ingeniería\n",
              "3   Róbinson              34         Producción\n",
              "4     Zolano              34         Producción\n",
              "5     Gaspar              36                NaN"
            ]
          },
          "metadata": {
            "tags": []
          },
          "execution_count": 5
        }
      ]
    },
    {
      "cell_type": "code",
      "metadata": {
        "id": "5j1IwjaUd3_6",
        "outputId": "f8b873ba-819f-44be-de8b-998b8f2147b6",
        "colab": {
          "base_uri": "https://localhost:8080/",
          "height": 238
        }
      },
      "source": [
        "pd.merge(Empleado, Departamento, how='right') "
      ],
      "execution_count": null,
      "outputs": [
        {
          "output_type": "execute_result",
          "data": {
            "text/html": [
              "<div>\n",
              "<style scoped>\n",
              "    .dataframe tbody tr th:only-of-type {\n",
              "        vertical-align: middle;\n",
              "    }\n",
              "\n",
              "    .dataframe tbody tr th {\n",
              "        vertical-align: top;\n",
              "    }\n",
              "\n",
              "    .dataframe thead th {\n",
              "        text-align: right;\n",
              "    }\n",
              "</style>\n",
              "<table border=\"1\" class=\"dataframe\">\n",
              "  <thead>\n",
              "    <tr style=\"text-align: right;\">\n",
              "      <th></th>\n",
              "      <th>Apellido</th>\n",
              "      <th>IDDepartamento</th>\n",
              "      <th>NombreDepartamento</th>\n",
              "    </tr>\n",
              "  </thead>\n",
              "  <tbody>\n",
              "    <tr>\n",
              "      <th>0</th>\n",
              "      <td>Andrade</td>\n",
              "      <td>31</td>\n",
              "      <td>Ventas</td>\n",
              "    </tr>\n",
              "    <tr>\n",
              "      <th>1</th>\n",
              "      <td>Jordán</td>\n",
              "      <td>33</td>\n",
              "      <td>Ingeniería</td>\n",
              "    </tr>\n",
              "    <tr>\n",
              "      <th>2</th>\n",
              "      <td>Steinberg</td>\n",
              "      <td>33</td>\n",
              "      <td>Ingeniería</td>\n",
              "    </tr>\n",
              "    <tr>\n",
              "      <th>3</th>\n",
              "      <td>Róbinson</td>\n",
              "      <td>34</td>\n",
              "      <td>Producción</td>\n",
              "    </tr>\n",
              "    <tr>\n",
              "      <th>4</th>\n",
              "      <td>Zolano</td>\n",
              "      <td>34</td>\n",
              "      <td>Producción</td>\n",
              "    </tr>\n",
              "    <tr>\n",
              "      <th>5</th>\n",
              "      <td>NaN</td>\n",
              "      <td>35</td>\n",
              "      <td>Mercadeo</td>\n",
              "    </tr>\n",
              "  </tbody>\n",
              "</table>\n",
              "</div>"
            ],
            "text/plain": [
              "    Apellido  IDDepartamento NombreDepartamento\n",
              "0    Andrade              31             Ventas\n",
              "1     Jordán              33         Ingeniería\n",
              "2  Steinberg              33         Ingeniería\n",
              "3   Róbinson              34         Producción\n",
              "4     Zolano              34         Producción\n",
              "5        NaN              35           Mercadeo"
            ]
          },
          "metadata": {
            "tags": []
          },
          "execution_count": 6
        }
      ]
    },
    {
      "cell_type": "markdown",
      "metadata": {
        "id": "Qxej-lleelFc"
      },
      "source": [
        "Poner comentario"
      ]
    },
    {
      "cell_type": "code",
      "metadata": {
        "id": "p4WZ9BiueNWW"
      },
      "source": [
        "dc = {'a':1}"
      ],
      "execution_count": null,
      "outputs": []
    },
    {
      "cell_type": "code",
      "metadata": {
        "id": "5iUvyyAKeZ2W"
      },
      "source": [
        "dc.update({'b':1})"
      ],
      "execution_count": null,
      "outputs": []
    },
    {
      "cell_type": "code",
      "metadata": {
        "id": "yMS4L1eoec20",
        "outputId": "5ebac2ed-b55c-4958-f764-db3a795419e7",
        "colab": {
          "base_uri": "https://localhost:8080/",
          "height": 34
        }
      },
      "source": [
        "dc"
      ],
      "execution_count": null,
      "outputs": [
        {
          "output_type": "execute_result",
          "data": {
            "text/plain": [
              "{'a': 1, 'b': 1}"
            ]
          },
          "metadata": {
            "tags": []
          },
          "execution_count": 9
        }
      ]
    },
    {
      "cell_type": "code",
      "metadata": {
        "id": "NMyHLkhYegTe",
        "outputId": "20b71355-0021-40c9-8c13-6dd6e93141c1",
        "colab": {
          "base_uri": "https://localhost:8080/",
          "height": 269
        }
      },
      "source": [
        "pd.merge(Empleado, Departamento, how='outer') "
      ],
      "execution_count": null,
      "outputs": [
        {
          "output_type": "execute_result",
          "data": {
            "text/html": [
              "<div>\n",
              "<style scoped>\n",
              "    .dataframe tbody tr th:only-of-type {\n",
              "        vertical-align: middle;\n",
              "    }\n",
              "\n",
              "    .dataframe tbody tr th {\n",
              "        vertical-align: top;\n",
              "    }\n",
              "\n",
              "    .dataframe thead th {\n",
              "        text-align: right;\n",
              "    }\n",
              "</style>\n",
              "<table border=\"1\" class=\"dataframe\">\n",
              "  <thead>\n",
              "    <tr style=\"text-align: right;\">\n",
              "      <th></th>\n",
              "      <th>Apellido</th>\n",
              "      <th>IDDepartamento</th>\n",
              "      <th>NombreDepartamento</th>\n",
              "    </tr>\n",
              "  </thead>\n",
              "  <tbody>\n",
              "    <tr>\n",
              "      <th>0</th>\n",
              "      <td>Andrade</td>\n",
              "      <td>31</td>\n",
              "      <td>Ventas</td>\n",
              "    </tr>\n",
              "    <tr>\n",
              "      <th>1</th>\n",
              "      <td>Jordán</td>\n",
              "      <td>33</td>\n",
              "      <td>Ingeniería</td>\n",
              "    </tr>\n",
              "    <tr>\n",
              "      <th>2</th>\n",
              "      <td>Steinberg</td>\n",
              "      <td>33</td>\n",
              "      <td>Ingeniería</td>\n",
              "    </tr>\n",
              "    <tr>\n",
              "      <th>3</th>\n",
              "      <td>Róbinson</td>\n",
              "      <td>34</td>\n",
              "      <td>Producción</td>\n",
              "    </tr>\n",
              "    <tr>\n",
              "      <th>4</th>\n",
              "      <td>Zolano</td>\n",
              "      <td>34</td>\n",
              "      <td>Producción</td>\n",
              "    </tr>\n",
              "    <tr>\n",
              "      <th>5</th>\n",
              "      <td>Gaspar</td>\n",
              "      <td>36</td>\n",
              "      <td>NaN</td>\n",
              "    </tr>\n",
              "    <tr>\n",
              "      <th>6</th>\n",
              "      <td>NaN</td>\n",
              "      <td>35</td>\n",
              "      <td>Mercadeo</td>\n",
              "    </tr>\n",
              "  </tbody>\n",
              "</table>\n",
              "</div>"
            ],
            "text/plain": [
              "    Apellido  IDDepartamento NombreDepartamento\n",
              "0    Andrade              31             Ventas\n",
              "1     Jordán              33         Ingeniería\n",
              "2  Steinberg              33         Ingeniería\n",
              "3   Róbinson              34         Producción\n",
              "4     Zolano              34         Producción\n",
              "5     Gaspar              36                NaN\n",
              "6        NaN              35           Mercadeo"
            ]
          },
          "metadata": {
            "tags": []
          },
          "execution_count": 10
        }
      ]
    },
    {
      "cell_type": "code",
      "metadata": {
        "id": "7JhF-IRwez3W",
        "outputId": "3efb0f11-d001-4c8f-c094-88855c599307",
        "colab": {
          "base_uri": "https://localhost:8080/",
          "height": 112
        }
      },
      "source": [
        "df_merged = pd.merge(Empleado, Departamento, how='outer') \n",
        "df_merged[np.logical_or(df_merged.Apellido.isna(), df_merged.NombreDepartamento.isna())]"
      ],
      "execution_count": null,
      "outputs": [
        {
          "output_type": "execute_result",
          "data": {
            "text/html": [
              "<div>\n",
              "<style scoped>\n",
              "    .dataframe tbody tr th:only-of-type {\n",
              "        vertical-align: middle;\n",
              "    }\n",
              "\n",
              "    .dataframe tbody tr th {\n",
              "        vertical-align: top;\n",
              "    }\n",
              "\n",
              "    .dataframe thead th {\n",
              "        text-align: right;\n",
              "    }\n",
              "</style>\n",
              "<table border=\"1\" class=\"dataframe\">\n",
              "  <thead>\n",
              "    <tr style=\"text-align: right;\">\n",
              "      <th></th>\n",
              "      <th>Apellido</th>\n",
              "      <th>IDDepartamento</th>\n",
              "      <th>NombreDepartamento</th>\n",
              "    </tr>\n",
              "  </thead>\n",
              "  <tbody>\n",
              "    <tr>\n",
              "      <th>5</th>\n",
              "      <td>Gaspar</td>\n",
              "      <td>36</td>\n",
              "      <td>NaN</td>\n",
              "    </tr>\n",
              "    <tr>\n",
              "      <th>6</th>\n",
              "      <td>NaN</td>\n",
              "      <td>35</td>\n",
              "      <td>Mercadeo</td>\n",
              "    </tr>\n",
              "  </tbody>\n",
              "</table>\n",
              "</div>"
            ],
            "text/plain": [
              "  Apellido  IDDepartamento NombreDepartamento\n",
              "5   Gaspar              36                NaN\n",
              "6      NaN              35           Mercadeo"
            ]
          },
          "metadata": {
            "tags": []
          },
          "execution_count": 11
        }
      ]
    },
    {
      "cell_type": "code",
      "metadata": {
        "id": "tSz4rr4UgAib",
        "outputId": "bb410178-c211-45d2-c162-df6be60b04f0",
        "colab": {
          "base_uri": "https://localhost:8080/",
          "height": 34
        }
      },
      "source": [
        "lst1 = np.array([True, True, False, False])\n",
        "lst2 = np.array([True, False, True, False])\n",
        "np.logical_or(lst1, lst2)"
      ],
      "execution_count": null,
      "outputs": [
        {
          "output_type": "execute_result",
          "data": {
            "text/plain": [
              "array([ True,  True,  True, False])"
            ]
          },
          "metadata": {
            "tags": []
          },
          "execution_count": 12
        }
      ]
    },
    {
      "cell_type": "code",
      "metadata": {
        "id": "aPt9Ha1gfcz5",
        "outputId": "4d71b5f2-ddea-47c8-87da-d0926511eb34",
        "colab": {
          "base_uri": "https://localhost:8080/",
          "height": 432
        }
      },
      "source": [
        "# Decidir la columna por la cual se hace el join explicitamente\n",
        "\n",
        "Empleado.columns = ['Nombre', 'IDDepartamento']\n",
        "Departamento.columns = ['Nombre', 'IDDepartamento']\n",
        "\n",
        "print(Empleado)\n",
        "print('-' * 50)\n",
        "print(Departamento)\n",
        "\n",
        "#pd.merge(Empleado, Departamento) \n",
        "pd.merge(Empleado, Departamento, on='IDDepartamento') # En caso de haber múltiples columnas que hagan match"
      ],
      "execution_count": null,
      "outputs": [
        {
          "output_type": "stream",
          "text": [
            "      Nombre  IDDepartamento\n",
            "0    Andrade              31\n",
            "1     Jordán              33\n",
            "2  Steinberg              33\n",
            "3   Róbinson              34\n",
            "4     Zolano              34\n",
            "5     Gaspar              36\n",
            "--------------------------------------------------\n",
            "       Nombre  IDDepartamento\n",
            "0      Ventas              31\n",
            "1  Ingeniería              33\n",
            "2  Producción              34\n",
            "3    Mercadeo              35\n"
          ],
          "name": "stdout"
        },
        {
          "output_type": "execute_result",
          "data": {
            "text/html": [
              "<div>\n",
              "<style scoped>\n",
              "    .dataframe tbody tr th:only-of-type {\n",
              "        vertical-align: middle;\n",
              "    }\n",
              "\n",
              "    .dataframe tbody tr th {\n",
              "        vertical-align: top;\n",
              "    }\n",
              "\n",
              "    .dataframe thead th {\n",
              "        text-align: right;\n",
              "    }\n",
              "</style>\n",
              "<table border=\"1\" class=\"dataframe\">\n",
              "  <thead>\n",
              "    <tr style=\"text-align: right;\">\n",
              "      <th></th>\n",
              "      <th>Nombre_x</th>\n",
              "      <th>IDDepartamento</th>\n",
              "      <th>Nombre_y</th>\n",
              "    </tr>\n",
              "  </thead>\n",
              "  <tbody>\n",
              "    <tr>\n",
              "      <th>0</th>\n",
              "      <td>Andrade</td>\n",
              "      <td>31</td>\n",
              "      <td>Ventas</td>\n",
              "    </tr>\n",
              "    <tr>\n",
              "      <th>1</th>\n",
              "      <td>Jordán</td>\n",
              "      <td>33</td>\n",
              "      <td>Ingeniería</td>\n",
              "    </tr>\n",
              "    <tr>\n",
              "      <th>2</th>\n",
              "      <td>Steinberg</td>\n",
              "      <td>33</td>\n",
              "      <td>Ingeniería</td>\n",
              "    </tr>\n",
              "    <tr>\n",
              "      <th>3</th>\n",
              "      <td>Róbinson</td>\n",
              "      <td>34</td>\n",
              "      <td>Producción</td>\n",
              "    </tr>\n",
              "    <tr>\n",
              "      <th>4</th>\n",
              "      <td>Zolano</td>\n",
              "      <td>34</td>\n",
              "      <td>Producción</td>\n",
              "    </tr>\n",
              "  </tbody>\n",
              "</table>\n",
              "</div>"
            ],
            "text/plain": [
              "    Nombre_x  IDDepartamento    Nombre_y\n",
              "0    Andrade              31      Ventas\n",
              "1     Jordán              33  Ingeniería\n",
              "2  Steinberg              33  Ingeniería\n",
              "3   Róbinson              34  Producción\n",
              "4     Zolano              34  Producción"
            ]
          },
          "metadata": {
            "tags": []
          },
          "execution_count": 13
        }
      ]
    },
    {
      "cell_type": "code",
      "metadata": {
        "id": "KQXWsIcohdIS",
        "outputId": "bc6e47eb-dfcc-4145-f933-c13267f69bc8",
        "colab": {
          "base_uri": "https://localhost:8080/",
          "height": 206
        }
      },
      "source": [
        "# Prefijos para distiguir variables\n",
        "\n",
        "pd.merge(Empleado, Departamento, on='IDDepartamento', suffixes=('_emp','_dep')) # Sufijo personalizado"
      ],
      "execution_count": null,
      "outputs": [
        {
          "output_type": "execute_result",
          "data": {
            "text/html": [
              "<div>\n",
              "<style scoped>\n",
              "    .dataframe tbody tr th:only-of-type {\n",
              "        vertical-align: middle;\n",
              "    }\n",
              "\n",
              "    .dataframe tbody tr th {\n",
              "        vertical-align: top;\n",
              "    }\n",
              "\n",
              "    .dataframe thead th {\n",
              "        text-align: right;\n",
              "    }\n",
              "</style>\n",
              "<table border=\"1\" class=\"dataframe\">\n",
              "  <thead>\n",
              "    <tr style=\"text-align: right;\">\n",
              "      <th></th>\n",
              "      <th>Nombre_emp</th>\n",
              "      <th>IDDepartamento</th>\n",
              "      <th>Nombre_dep</th>\n",
              "    </tr>\n",
              "  </thead>\n",
              "  <tbody>\n",
              "    <tr>\n",
              "      <th>0</th>\n",
              "      <td>Andrade</td>\n",
              "      <td>31</td>\n",
              "      <td>Ventas</td>\n",
              "    </tr>\n",
              "    <tr>\n",
              "      <th>1</th>\n",
              "      <td>Jordán</td>\n",
              "      <td>33</td>\n",
              "      <td>Ingeniería</td>\n",
              "    </tr>\n",
              "    <tr>\n",
              "      <th>2</th>\n",
              "      <td>Steinberg</td>\n",
              "      <td>33</td>\n",
              "      <td>Ingeniería</td>\n",
              "    </tr>\n",
              "    <tr>\n",
              "      <th>3</th>\n",
              "      <td>Róbinson</td>\n",
              "      <td>34</td>\n",
              "      <td>Producción</td>\n",
              "    </tr>\n",
              "    <tr>\n",
              "      <th>4</th>\n",
              "      <td>Zolano</td>\n",
              "      <td>34</td>\n",
              "      <td>Producción</td>\n",
              "    </tr>\n",
              "  </tbody>\n",
              "</table>\n",
              "</div>"
            ],
            "text/plain": [
              "  Nombre_emp  IDDepartamento  Nombre_dep\n",
              "0    Andrade              31      Ventas\n",
              "1     Jordán              33  Ingeniería\n",
              "2  Steinberg              33  Ingeniería\n",
              "3   Róbinson              34  Producción\n",
              "4     Zolano              34  Producción"
            ]
          },
          "metadata": {
            "tags": []
          },
          "execution_count": 14
        }
      ]
    },
    {
      "cell_type": "code",
      "metadata": {
        "id": "T3og1bDPhv2o",
        "outputId": "4f8b11a4-1d8b-474e-c55e-fdb71e40f87e",
        "colab": {
          "base_uri": "https://localhost:8080/",
          "height": 206
        }
      },
      "source": [
        "# Columnas para match con diferente nombre\n",
        "Empleado = pd.DataFrame({'Apellido' : ['Andrade', 'Jordán', 'Steinberg', 'Róbinson', 'Zolano', 'Gaspar'],\n",
        "                         'IDDepartamento' : [31, 33, 33, 34, 34, 36]})\n",
        "\n",
        "\n",
        "Departamento = pd.DataFrame({'NombreDepartamento': ['Ventas', 'Ingeniería', 'Producción', 'Mercadeo'],\n",
        "                             'IDDepartamento2': [31, 33, 34, 35]})\n",
        "\n",
        "#pd.merge(Empleado, Departamento)\n",
        "pd.merge(Empleado, Departamento, left_on='IDDepartamento', right_on='IDDepartamento2') "
      ],
      "execution_count": null,
      "outputs": [
        {
          "output_type": "execute_result",
          "data": {
            "text/html": [
              "<div>\n",
              "<style scoped>\n",
              "    .dataframe tbody tr th:only-of-type {\n",
              "        vertical-align: middle;\n",
              "    }\n",
              "\n",
              "    .dataframe tbody tr th {\n",
              "        vertical-align: top;\n",
              "    }\n",
              "\n",
              "    .dataframe thead th {\n",
              "        text-align: right;\n",
              "    }\n",
              "</style>\n",
              "<table border=\"1\" class=\"dataframe\">\n",
              "  <thead>\n",
              "    <tr style=\"text-align: right;\">\n",
              "      <th></th>\n",
              "      <th>Apellido</th>\n",
              "      <th>IDDepartamento</th>\n",
              "      <th>NombreDepartamento</th>\n",
              "      <th>IDDepartamento2</th>\n",
              "    </tr>\n",
              "  </thead>\n",
              "  <tbody>\n",
              "    <tr>\n",
              "      <th>0</th>\n",
              "      <td>Andrade</td>\n",
              "      <td>31</td>\n",
              "      <td>Ventas</td>\n",
              "      <td>31</td>\n",
              "    </tr>\n",
              "    <tr>\n",
              "      <th>1</th>\n",
              "      <td>Jordán</td>\n",
              "      <td>33</td>\n",
              "      <td>Ingeniería</td>\n",
              "      <td>33</td>\n",
              "    </tr>\n",
              "    <tr>\n",
              "      <th>2</th>\n",
              "      <td>Steinberg</td>\n",
              "      <td>33</td>\n",
              "      <td>Ingeniería</td>\n",
              "      <td>33</td>\n",
              "    </tr>\n",
              "    <tr>\n",
              "      <th>3</th>\n",
              "      <td>Róbinson</td>\n",
              "      <td>34</td>\n",
              "      <td>Producción</td>\n",
              "      <td>34</td>\n",
              "    </tr>\n",
              "    <tr>\n",
              "      <th>4</th>\n",
              "      <td>Zolano</td>\n",
              "      <td>34</td>\n",
              "      <td>Producción</td>\n",
              "      <td>34</td>\n",
              "    </tr>\n",
              "  </tbody>\n",
              "</table>\n",
              "</div>"
            ],
            "text/plain": [
              "    Apellido  IDDepartamento NombreDepartamento  IDDepartamento2\n",
              "0    Andrade              31             Ventas               31\n",
              "1     Jordán              33         Ingeniería               33\n",
              "2  Steinberg              33         Ingeniería               33\n",
              "3   Róbinson              34         Producción               34\n",
              "4     Zolano              34         Producción               34"
            ]
          },
          "metadata": {
            "tags": []
          },
          "execution_count": 15
        }
      ]
    },
    {
      "cell_type": "code",
      "metadata": {
        "id": "J7NzuGH6h6mG",
        "outputId": "aadc7450-5b18-48ec-8264-203303c3ac27",
        "colab": {
          "base_uri": "https://localhost:8080/",
          "height": 206
        }
      },
      "source": [
        "Empleado2 = Empleado.copy()\n",
        "Empleado2.index = Empleado2.IDDepartamento\n",
        "#Empleado2\n",
        "Departamento2 = Departamento.copy()\n",
        "Departamento2.index = Departamento2.IDDepartamento2\n",
        "\n",
        "Empleado2 = Empleado2[['Apellido']]\n",
        "Departamento2 = Departamento2[['NombreDepartamento']]\n",
        "Empleado2\n",
        "# Departamento2\n",
        "\n",
        "pd.merge(Empleado2, Departamento2, left_index=True, right_index=True)"
      ],
      "execution_count": null,
      "outputs": [
        {
          "output_type": "execute_result",
          "data": {
            "text/html": [
              "<div>\n",
              "<style scoped>\n",
              "    .dataframe tbody tr th:only-of-type {\n",
              "        vertical-align: middle;\n",
              "    }\n",
              "\n",
              "    .dataframe tbody tr th {\n",
              "        vertical-align: top;\n",
              "    }\n",
              "\n",
              "    .dataframe thead th {\n",
              "        text-align: right;\n",
              "    }\n",
              "</style>\n",
              "<table border=\"1\" class=\"dataframe\">\n",
              "  <thead>\n",
              "    <tr style=\"text-align: right;\">\n",
              "      <th></th>\n",
              "      <th>Apellido</th>\n",
              "      <th>NombreDepartamento</th>\n",
              "    </tr>\n",
              "  </thead>\n",
              "  <tbody>\n",
              "    <tr>\n",
              "      <th>31</th>\n",
              "      <td>Andrade</td>\n",
              "      <td>Ventas</td>\n",
              "    </tr>\n",
              "    <tr>\n",
              "      <th>33</th>\n",
              "      <td>Jordán</td>\n",
              "      <td>Ingeniería</td>\n",
              "    </tr>\n",
              "    <tr>\n",
              "      <th>33</th>\n",
              "      <td>Steinberg</td>\n",
              "      <td>Ingeniería</td>\n",
              "    </tr>\n",
              "    <tr>\n",
              "      <th>34</th>\n",
              "      <td>Róbinson</td>\n",
              "      <td>Producción</td>\n",
              "    </tr>\n",
              "    <tr>\n",
              "      <th>34</th>\n",
              "      <td>Zolano</td>\n",
              "      <td>Producción</td>\n",
              "    </tr>\n",
              "  </tbody>\n",
              "</table>\n",
              "</div>"
            ],
            "text/plain": [
              "     Apellido NombreDepartamento\n",
              "31    Andrade             Ventas\n",
              "33     Jordán         Ingeniería\n",
              "33  Steinberg         Ingeniería\n",
              "34   Róbinson         Producción\n",
              "34     Zolano         Producción"
            ]
          },
          "metadata": {
            "tags": []
          },
          "execution_count": 16
        }
      ]
    },
    {
      "cell_type": "code",
      "metadata": {
        "id": "mn_7T0EvixG4",
        "outputId": "112394ce-8921-453f-d505-54e5689078b0",
        "colab": {
          "base_uri": "https://localhost:8080/",
          "height": 112
        }
      },
      "source": [
        "pd.DataFrame({'a':[1,2], 'b':[3,4]})"
      ],
      "execution_count": null,
      "outputs": [
        {
          "output_type": "execute_result",
          "data": {
            "text/html": [
              "<div>\n",
              "<style scoped>\n",
              "    .dataframe tbody tr th:only-of-type {\n",
              "        vertical-align: middle;\n",
              "    }\n",
              "\n",
              "    .dataframe tbody tr th {\n",
              "        vertical-align: top;\n",
              "    }\n",
              "\n",
              "    .dataframe thead th {\n",
              "        text-align: right;\n",
              "    }\n",
              "</style>\n",
              "<table border=\"1\" class=\"dataframe\">\n",
              "  <thead>\n",
              "    <tr style=\"text-align: right;\">\n",
              "      <th></th>\n",
              "      <th>a</th>\n",
              "      <th>b</th>\n",
              "    </tr>\n",
              "  </thead>\n",
              "  <tbody>\n",
              "    <tr>\n",
              "      <th>0</th>\n",
              "      <td>1</td>\n",
              "      <td>3</td>\n",
              "    </tr>\n",
              "    <tr>\n",
              "      <th>1</th>\n",
              "      <td>2</td>\n",
              "      <td>4</td>\n",
              "    </tr>\n",
              "  </tbody>\n",
              "</table>\n",
              "</div>"
            ],
            "text/plain": [
              "   a  b\n",
              "0  1  3\n",
              "1  2  4"
            ]
          },
          "metadata": {
            "tags": []
          },
          "execution_count": 17
        }
      ]
    },
    {
      "cell_type": "code",
      "metadata": {
        "id": "KrWLXKi7jmLX",
        "outputId": "4df86b0d-1d08-4407-a14c-9a4f9f12cb25",
        "colab": {
          "base_uri": "https://localhost:8080/",
          "height": 143
        }
      },
      "source": [
        "Empleado2.loc[33]"
      ],
      "execution_count": null,
      "outputs": [
        {
          "output_type": "execute_result",
          "data": {
            "text/html": [
              "<div>\n",
              "<style scoped>\n",
              "    .dataframe tbody tr th:only-of-type {\n",
              "        vertical-align: middle;\n",
              "    }\n",
              "\n",
              "    .dataframe tbody tr th {\n",
              "        vertical-align: top;\n",
              "    }\n",
              "\n",
              "    .dataframe thead th {\n",
              "        text-align: right;\n",
              "    }\n",
              "</style>\n",
              "<table border=\"1\" class=\"dataframe\">\n",
              "  <thead>\n",
              "    <tr style=\"text-align: right;\">\n",
              "      <th></th>\n",
              "      <th>Apellido</th>\n",
              "    </tr>\n",
              "    <tr>\n",
              "      <th>IDDepartamento</th>\n",
              "      <th></th>\n",
              "    </tr>\n",
              "  </thead>\n",
              "  <tbody>\n",
              "    <tr>\n",
              "      <th>33</th>\n",
              "      <td>Jordán</td>\n",
              "    </tr>\n",
              "    <tr>\n",
              "      <th>33</th>\n",
              "      <td>Steinberg</td>\n",
              "    </tr>\n",
              "  </tbody>\n",
              "</table>\n",
              "</div>"
            ],
            "text/plain": [
              "                 Apellido\n",
              "IDDepartamento           \n",
              "33                 Jordán\n",
              "33              Steinberg"
            ]
          },
          "metadata": {
            "tags": []
          },
          "execution_count": 18
        }
      ]
    },
    {
      "cell_type": "code",
      "metadata": {
        "id": "SS-K70U-kD-j",
        "outputId": "0123e117-f819-43ad-8165-58b7716fe995",
        "colab": {
          "base_uri": "https://localhost:8080/",
          "height": 238
        }
      },
      "source": [
        "# Añadir columna\n",
        "\n",
        "Empleado = pd.DataFrame({'Apellido' : ['Andrade', 'Jordán', 'Steinberg', 'Róbinson', 'Zolano', 'Gaspar'],\n",
        "                         'IDDepartamento' : [31, 33, 33, 34, 34, 36]})\n",
        "Empleado\n",
        "nombres = ['Francisco', 'Edgar', 'Marta', 'Luciana', 'David', 'María']\n",
        "edad = [1,2,3,4,5,6]\n",
        "\n",
        "# Asignación creando un objeto nuevo\n",
        "Empleado2 = Empleado.assign(Nombre=nombres)\n",
        "Empleado2 = Empleado2.assign(Edad=edad)\n",
        "Empleado2\n",
        "#Empleado\n",
        "\n",
        "\n",
        "# Asignación modificando el objeto original\n",
        "#Empleado['Nombre'] = nombres\n",
        "#Empleado"
      ],
      "execution_count": null,
      "outputs": [
        {
          "output_type": "execute_result",
          "data": {
            "text/html": [
              "<div>\n",
              "<style scoped>\n",
              "    .dataframe tbody tr th:only-of-type {\n",
              "        vertical-align: middle;\n",
              "    }\n",
              "\n",
              "    .dataframe tbody tr th {\n",
              "        vertical-align: top;\n",
              "    }\n",
              "\n",
              "    .dataframe thead th {\n",
              "        text-align: right;\n",
              "    }\n",
              "</style>\n",
              "<table border=\"1\" class=\"dataframe\">\n",
              "  <thead>\n",
              "    <tr style=\"text-align: right;\">\n",
              "      <th></th>\n",
              "      <th>Apellido</th>\n",
              "      <th>IDDepartamento</th>\n",
              "      <th>Nombre</th>\n",
              "      <th>Edad</th>\n",
              "    </tr>\n",
              "  </thead>\n",
              "  <tbody>\n",
              "    <tr>\n",
              "      <th>0</th>\n",
              "      <td>Andrade</td>\n",
              "      <td>31</td>\n",
              "      <td>Francisco</td>\n",
              "      <td>1</td>\n",
              "    </tr>\n",
              "    <tr>\n",
              "      <th>1</th>\n",
              "      <td>Jordán</td>\n",
              "      <td>33</td>\n",
              "      <td>Edgar</td>\n",
              "      <td>2</td>\n",
              "    </tr>\n",
              "    <tr>\n",
              "      <th>2</th>\n",
              "      <td>Steinberg</td>\n",
              "      <td>33</td>\n",
              "      <td>Marta</td>\n",
              "      <td>3</td>\n",
              "    </tr>\n",
              "    <tr>\n",
              "      <th>3</th>\n",
              "      <td>Róbinson</td>\n",
              "      <td>34</td>\n",
              "      <td>Luciana</td>\n",
              "      <td>4</td>\n",
              "    </tr>\n",
              "    <tr>\n",
              "      <th>4</th>\n",
              "      <td>Zolano</td>\n",
              "      <td>34</td>\n",
              "      <td>David</td>\n",
              "      <td>5</td>\n",
              "    </tr>\n",
              "    <tr>\n",
              "      <th>5</th>\n",
              "      <td>Gaspar</td>\n",
              "      <td>36</td>\n",
              "      <td>María</td>\n",
              "      <td>6</td>\n",
              "    </tr>\n",
              "  </tbody>\n",
              "</table>\n",
              "</div>"
            ],
            "text/plain": [
              "    Apellido  IDDepartamento     Nombre  Edad\n",
              "0    Andrade              31  Francisco     1\n",
              "1     Jordán              33      Edgar     2\n",
              "2  Steinberg              33      Marta     3\n",
              "3   Róbinson              34    Luciana     4\n",
              "4     Zolano              34      David     5\n",
              "5     Gaspar              36      María     6"
            ]
          },
          "metadata": {
            "tags": []
          },
          "execution_count": 19
        }
      ]
    },
    {
      "cell_type": "code",
      "metadata": {
        "id": "apCX9GF3knCz",
        "outputId": "e6dfb7ff-104d-4fb7-e99b-c8ec6ae06233",
        "colab": {
          "base_uri": "https://localhost:8080/",
          "height": 34
        }
      },
      "source": [
        "Empleado.columns"
      ],
      "execution_count": null,
      "outputs": [
        {
          "output_type": "execute_result",
          "data": {
            "text/plain": [
              "Index(['Apellido', 'IDDepartamento'], dtype='object')"
            ]
          },
          "metadata": {
            "tags": []
          },
          "execution_count": 20
        }
      ]
    },
    {
      "cell_type": "code",
      "metadata": {
        "id": "ATpAs7bEl1bx"
      },
      "source": [
        "# Añadir fila\n",
        "\n",
        "Empleado = pd.DataFrame({'Apellido' : ['Andrade', 'Jordán', 'Steinberg', 'Róbinson', 'Zolano', 'Gaspar'],\n",
        "                         'IDDepartamento' : [31, 33, 33, 34, 34, 36]})\n",
        "#nuevo_empleado = [('Ospina', 33)]\n",
        "#nuevo_empleado = [{'Apellido': 'Ospina', 'IDDepartamento': 33}]\n",
        "nuevo_empleado = pd.Series(['Ospina', 37], index=['Apellido', 'IDDepartamento'])\n",
        "\n",
        "# Asignación creando un objeto nuevo\n",
        "#Empleado2 = Empleado.append(nuevo_empleado, ignore_index=True)\n",
        "#Empleado2\n",
        "#Empleado\n",
        "\n",
        "\n",
        "# Asignación modificando el objeto original\n",
        "#Empleado.loc[6] = ['Ospina', 37]\n",
        "#Empleado"
      ],
      "execution_count": null,
      "outputs": []
    },
    {
      "cell_type": "code",
      "metadata": {
        "id": "u2exETsTn0F1",
        "outputId": "427959f9-9261-493a-b8aa-303ee98f8c93",
        "colab": {
          "base_uri": "https://localhost:8080/",
          "height": 238
        }
      },
      "source": [
        "Empleado['Edad'] = [20,23,45,48,56,32]\n",
        "\n",
        "Empleado['Edad_meses'] = Empleado['Edad'] * 12\n",
        "\n",
        "Empleado"
      ],
      "execution_count": null,
      "outputs": [
        {
          "output_type": "execute_result",
          "data": {
            "text/html": [
              "<div>\n",
              "<style scoped>\n",
              "    .dataframe tbody tr th:only-of-type {\n",
              "        vertical-align: middle;\n",
              "    }\n",
              "\n",
              "    .dataframe tbody tr th {\n",
              "        vertical-align: top;\n",
              "    }\n",
              "\n",
              "    .dataframe thead th {\n",
              "        text-align: right;\n",
              "    }\n",
              "</style>\n",
              "<table border=\"1\" class=\"dataframe\">\n",
              "  <thead>\n",
              "    <tr style=\"text-align: right;\">\n",
              "      <th></th>\n",
              "      <th>Apellido</th>\n",
              "      <th>IDDepartamento</th>\n",
              "      <th>Edad</th>\n",
              "      <th>Edad_meses</th>\n",
              "    </tr>\n",
              "  </thead>\n",
              "  <tbody>\n",
              "    <tr>\n",
              "      <th>0</th>\n",
              "      <td>Andrade</td>\n",
              "      <td>31</td>\n",
              "      <td>20</td>\n",
              "      <td>240</td>\n",
              "    </tr>\n",
              "    <tr>\n",
              "      <th>1</th>\n",
              "      <td>Jordán</td>\n",
              "      <td>33</td>\n",
              "      <td>23</td>\n",
              "      <td>276</td>\n",
              "    </tr>\n",
              "    <tr>\n",
              "      <th>2</th>\n",
              "      <td>Steinberg</td>\n",
              "      <td>33</td>\n",
              "      <td>45</td>\n",
              "      <td>540</td>\n",
              "    </tr>\n",
              "    <tr>\n",
              "      <th>3</th>\n",
              "      <td>Róbinson</td>\n",
              "      <td>34</td>\n",
              "      <td>48</td>\n",
              "      <td>576</td>\n",
              "    </tr>\n",
              "    <tr>\n",
              "      <th>4</th>\n",
              "      <td>Zolano</td>\n",
              "      <td>34</td>\n",
              "      <td>56</td>\n",
              "      <td>672</td>\n",
              "    </tr>\n",
              "    <tr>\n",
              "      <th>5</th>\n",
              "      <td>Gaspar</td>\n",
              "      <td>36</td>\n",
              "      <td>32</td>\n",
              "      <td>384</td>\n",
              "    </tr>\n",
              "  </tbody>\n",
              "</table>\n",
              "</div>"
            ],
            "text/plain": [
              "    Apellido  IDDepartamento  Edad  Edad_meses\n",
              "0    Andrade              31    20         240\n",
              "1     Jordán              33    23         276\n",
              "2  Steinberg              33    45         540\n",
              "3   Róbinson              34    48         576\n",
              "4     Zolano              34    56         672\n",
              "5     Gaspar              36    32         384"
            ]
          },
          "metadata": {
            "tags": []
          },
          "execution_count": 22
        }
      ]
    },
    {
      "cell_type": "code",
      "metadata": {
        "id": "5S5DKetFuj5D",
        "outputId": "7f5fb36c-9497-4ae3-a889-28a47dfaf619",
        "colab": {
          "base_uri": "https://localhost:8080/",
          "height": 238
        }
      },
      "source": [
        "df_merge = pd.merge(Empleado, Departamento, how='left', left_on='IDDepartamento', right_on='IDDepartamento2')\n",
        "\n",
        "str_list = []\n",
        "\n",
        "# Se crea una nueva variable y se añade como una columna\n",
        "for index, row in df_merge.iterrows():\n",
        "    str_list.append('El empleado {} trabaja en el departamento de {}'.format(row['Apellido'], \n",
        "                                                                             row['IDDepartamento']))\n",
        "\n",
        "#str_list   \n",
        "df_merge['Comentario'] = str_list\n",
        "df_merge"
      ],
      "execution_count": null,
      "outputs": [
        {
          "output_type": "execute_result",
          "data": {
            "text/html": [
              "<div>\n",
              "<style scoped>\n",
              "    .dataframe tbody tr th:only-of-type {\n",
              "        vertical-align: middle;\n",
              "    }\n",
              "\n",
              "    .dataframe tbody tr th {\n",
              "        vertical-align: top;\n",
              "    }\n",
              "\n",
              "    .dataframe thead th {\n",
              "        text-align: right;\n",
              "    }\n",
              "</style>\n",
              "<table border=\"1\" class=\"dataframe\">\n",
              "  <thead>\n",
              "    <tr style=\"text-align: right;\">\n",
              "      <th></th>\n",
              "      <th>Apellido</th>\n",
              "      <th>IDDepartamento</th>\n",
              "      <th>Edad</th>\n",
              "      <th>Edad_meses</th>\n",
              "      <th>NombreDepartamento</th>\n",
              "      <th>IDDepartamento2</th>\n",
              "      <th>Comentario</th>\n",
              "    </tr>\n",
              "  </thead>\n",
              "  <tbody>\n",
              "    <tr>\n",
              "      <th>0</th>\n",
              "      <td>Andrade</td>\n",
              "      <td>31</td>\n",
              "      <td>20</td>\n",
              "      <td>240</td>\n",
              "      <td>Ventas</td>\n",
              "      <td>31.0</td>\n",
              "      <td>El empleado Andrade trabaja en el departamento...</td>\n",
              "    </tr>\n",
              "    <tr>\n",
              "      <th>1</th>\n",
              "      <td>Jordán</td>\n",
              "      <td>33</td>\n",
              "      <td>23</td>\n",
              "      <td>276</td>\n",
              "      <td>Ingeniería</td>\n",
              "      <td>33.0</td>\n",
              "      <td>El empleado Jordán trabaja en el departamento ...</td>\n",
              "    </tr>\n",
              "    <tr>\n",
              "      <th>2</th>\n",
              "      <td>Steinberg</td>\n",
              "      <td>33</td>\n",
              "      <td>45</td>\n",
              "      <td>540</td>\n",
              "      <td>Ingeniería</td>\n",
              "      <td>33.0</td>\n",
              "      <td>El empleado Steinberg trabaja en el departamen...</td>\n",
              "    </tr>\n",
              "    <tr>\n",
              "      <th>3</th>\n",
              "      <td>Róbinson</td>\n",
              "      <td>34</td>\n",
              "      <td>48</td>\n",
              "      <td>576</td>\n",
              "      <td>Producción</td>\n",
              "      <td>34.0</td>\n",
              "      <td>El empleado Róbinson trabaja en el departament...</td>\n",
              "    </tr>\n",
              "    <tr>\n",
              "      <th>4</th>\n",
              "      <td>Zolano</td>\n",
              "      <td>34</td>\n",
              "      <td>56</td>\n",
              "      <td>672</td>\n",
              "      <td>Producción</td>\n",
              "      <td>34.0</td>\n",
              "      <td>El empleado Zolano trabaja en el departamento ...</td>\n",
              "    </tr>\n",
              "    <tr>\n",
              "      <th>5</th>\n",
              "      <td>Gaspar</td>\n",
              "      <td>36</td>\n",
              "      <td>32</td>\n",
              "      <td>384</td>\n",
              "      <td>NaN</td>\n",
              "      <td>NaN</td>\n",
              "      <td>El empleado Gaspar trabaja en el departamento ...</td>\n",
              "    </tr>\n",
              "  </tbody>\n",
              "</table>\n",
              "</div>"
            ],
            "text/plain": [
              "    Apellido  ...                                         Comentario\n",
              "0    Andrade  ...  El empleado Andrade trabaja en el departamento...\n",
              "1     Jordán  ...  El empleado Jordán trabaja en el departamento ...\n",
              "2  Steinberg  ...  El empleado Steinberg trabaja en el departamen...\n",
              "3   Róbinson  ...  El empleado Róbinson trabaja en el departament...\n",
              "4     Zolano  ...  El empleado Zolano trabaja en el departamento ...\n",
              "5     Gaspar  ...  El empleado Gaspar trabaja en el departamento ...\n",
              "\n",
              "[6 rows x 7 columns]"
            ]
          },
          "metadata": {
            "tags": []
          },
          "execution_count": 23
        }
      ]
    },
    {
      "cell_type": "code",
      "metadata": {
        "id": "E2mfuxSTu-nz"
      },
      "source": [
        "#for tup in df_merge.iterrows():\n",
        "#  print(tup)"
      ],
      "execution_count": null,
      "outputs": []
    },
    {
      "cell_type": "code",
      "metadata": {
        "id": "TKAYnN5BvrQW",
        "outputId": "d03a0990-8620-43ad-f12c-5990d905368e",
        "colab": {
          "base_uri": "https://localhost:8080/",
          "height": 175
        }
      },
      "source": [
        "Ser1 = pd.Series([1,2], index=['a', 'b'])\n",
        "Ser2 = pd.Series([2,3,4,5], index=['a', 'b', 'c', 'd'])\n",
        "\n",
        "#pd.concat([Ser1, Ser2])\n",
        "pd.concat([Ser1, Ser2], axis=1)"
      ],
      "execution_count": null,
      "outputs": [
        {
          "output_type": "execute_result",
          "data": {
            "text/html": [
              "<div>\n",
              "<style scoped>\n",
              "    .dataframe tbody tr th:only-of-type {\n",
              "        vertical-align: middle;\n",
              "    }\n",
              "\n",
              "    .dataframe tbody tr th {\n",
              "        vertical-align: top;\n",
              "    }\n",
              "\n",
              "    .dataframe thead th {\n",
              "        text-align: right;\n",
              "    }\n",
              "</style>\n",
              "<table border=\"1\" class=\"dataframe\">\n",
              "  <thead>\n",
              "    <tr style=\"text-align: right;\">\n",
              "      <th></th>\n",
              "      <th>0</th>\n",
              "      <th>1</th>\n",
              "    </tr>\n",
              "  </thead>\n",
              "  <tbody>\n",
              "    <tr>\n",
              "      <th>a</th>\n",
              "      <td>1.0</td>\n",
              "      <td>2</td>\n",
              "    </tr>\n",
              "    <tr>\n",
              "      <th>b</th>\n",
              "      <td>2.0</td>\n",
              "      <td>3</td>\n",
              "    </tr>\n",
              "    <tr>\n",
              "      <th>c</th>\n",
              "      <td>NaN</td>\n",
              "      <td>4</td>\n",
              "    </tr>\n",
              "    <tr>\n",
              "      <th>d</th>\n",
              "      <td>NaN</td>\n",
              "      <td>5</td>\n",
              "    </tr>\n",
              "  </tbody>\n",
              "</table>\n",
              "</div>"
            ],
            "text/plain": [
              "     0  1\n",
              "a  1.0  2\n",
              "b  2.0  3\n",
              "c  NaN  4\n",
              "d  NaN  5"
            ]
          },
          "metadata": {
            "tags": []
          },
          "execution_count": 25
        }
      ]
    },
    {
      "cell_type": "code",
      "metadata": {
        "id": "vvdTyM16wRYH",
        "outputId": "e8e5e7ff-e84a-4845-a934-a5ca8c864d2d",
        "colab": {
          "base_uri": "https://localhost:8080/",
          "height": 112
        }
      },
      "source": [
        "df1 = pd.DataFrame({'var_1': [1,2], 'var_2': [3,4]})\n",
        "df2 = pd.DataFrame({'var_3': [5,6], 'var_2': [7,8]})\n",
        "df2\n",
        "\n",
        "#pd.concat([df1, df2])\n",
        "pd.concat([df1, df2], axis=1) # Es importante renombrar columnas"
      ],
      "execution_count": null,
      "outputs": [
        {
          "output_type": "execute_result",
          "data": {
            "text/html": [
              "<div>\n",
              "<style scoped>\n",
              "    .dataframe tbody tr th:only-of-type {\n",
              "        vertical-align: middle;\n",
              "    }\n",
              "\n",
              "    .dataframe tbody tr th {\n",
              "        vertical-align: top;\n",
              "    }\n",
              "\n",
              "    .dataframe thead th {\n",
              "        text-align: right;\n",
              "    }\n",
              "</style>\n",
              "<table border=\"1\" class=\"dataframe\">\n",
              "  <thead>\n",
              "    <tr style=\"text-align: right;\">\n",
              "      <th></th>\n",
              "      <th>var_1</th>\n",
              "      <th>var_2</th>\n",
              "      <th>var_3</th>\n",
              "      <th>var_2</th>\n",
              "    </tr>\n",
              "  </thead>\n",
              "  <tbody>\n",
              "    <tr>\n",
              "      <th>0</th>\n",
              "      <td>1</td>\n",
              "      <td>3</td>\n",
              "      <td>5</td>\n",
              "      <td>7</td>\n",
              "    </tr>\n",
              "    <tr>\n",
              "      <th>1</th>\n",
              "      <td>2</td>\n",
              "      <td>4</td>\n",
              "      <td>6</td>\n",
              "      <td>8</td>\n",
              "    </tr>\n",
              "  </tbody>\n",
              "</table>\n",
              "</div>"
            ],
            "text/plain": [
              "   var_1  var_2  var_3  var_2\n",
              "0      1      3      5      7\n",
              "1      2      4      6      8"
            ]
          },
          "metadata": {
            "tags": []
          },
          "execution_count": 26
        }
      ]
    },
    {
      "cell_type": "code",
      "metadata": {
        "id": "DXdyrf1Fwyey"
      },
      "source": [
        "#df3[['var_1', 'var_3']]"
      ],
      "execution_count": null,
      "outputs": []
    },
    {
      "cell_type": "code",
      "metadata": {
        "id": "yd2_V7OSxUYY",
        "outputId": "115db6eb-a61e-49dd-f116-c3d3e1b3ade4",
        "colab": {
          "base_uri": "https://localhost:8080/",
          "height": 269
        }
      },
      "source": [
        "import numpy as np\n",
        "import pandas as pd\n",
        "\n",
        "# Duplicando indices\n",
        "\n",
        "valor = np.random.randint(20, size=10)\n",
        "\n",
        "df_ventas = pd.DataFrame({'Oficina': [1,1,1,2,2,2,3,3,3,3],\n",
        "                          'Producto': ['a', 'b', 'c', 'a', 'b', 'c', 'a', 'b', 'c','d'],\n",
        "                          'Valor':valor})\n",
        "df_ventas\n",
        "df_ventas[df_ventas['Oficina'] == 1]#\n",
        "#df_ventas[df_ventas['Oficina'].isin([1,2])]\n",
        "\n",
        "# Sin duplicar indices\n",
        "\n",
        "df_ventas2 = pd.DataFrame({'Valor': valor}, \n",
        "                         index=[[1,1,1,2,2,2,3,3,3,3], \n",
        "                                ['a', 'b', 'c', 'a', 'b', 'c', 'a', 'b', 'c','d']])\n",
        "df_ventas2 = df_ventas2.rename_axis(['Oficina','Producto'])\n",
        "#df_ventas2\n",
        "df_ventas2.loc[1]\n",
        "df_ventas2.loc[1:2]"
      ],
      "execution_count": null,
      "outputs": [
        {
          "output_type": "execute_result",
          "data": {
            "text/html": [
              "<div>\n",
              "<style scoped>\n",
              "    .dataframe tbody tr th:only-of-type {\n",
              "        vertical-align: middle;\n",
              "    }\n",
              "\n",
              "    .dataframe tbody tr th {\n",
              "        vertical-align: top;\n",
              "    }\n",
              "\n",
              "    .dataframe thead th {\n",
              "        text-align: right;\n",
              "    }\n",
              "</style>\n",
              "<table border=\"1\" class=\"dataframe\">\n",
              "  <thead>\n",
              "    <tr style=\"text-align: right;\">\n",
              "      <th></th>\n",
              "      <th></th>\n",
              "      <th>Valor</th>\n",
              "    </tr>\n",
              "    <tr>\n",
              "      <th>Oficina</th>\n",
              "      <th>Producto</th>\n",
              "      <th></th>\n",
              "    </tr>\n",
              "  </thead>\n",
              "  <tbody>\n",
              "    <tr>\n",
              "      <th rowspan=\"3\" valign=\"top\">1</th>\n",
              "      <th>a</th>\n",
              "      <td>1</td>\n",
              "    </tr>\n",
              "    <tr>\n",
              "      <th>b</th>\n",
              "      <td>10</td>\n",
              "    </tr>\n",
              "    <tr>\n",
              "      <th>c</th>\n",
              "      <td>16</td>\n",
              "    </tr>\n",
              "    <tr>\n",
              "      <th rowspan=\"3\" valign=\"top\">2</th>\n",
              "      <th>a</th>\n",
              "      <td>0</td>\n",
              "    </tr>\n",
              "    <tr>\n",
              "      <th>b</th>\n",
              "      <td>6</td>\n",
              "    </tr>\n",
              "    <tr>\n",
              "      <th>c</th>\n",
              "      <td>4</td>\n",
              "    </tr>\n",
              "  </tbody>\n",
              "</table>\n",
              "</div>"
            ],
            "text/plain": [
              "                  Valor\n",
              "Oficina Producto       \n",
              "1       a             1\n",
              "        b            10\n",
              "        c            16\n",
              "2       a             0\n",
              "        b             6\n",
              "        c             4"
            ]
          },
          "metadata": {
            "tags": []
          },
          "execution_count": 28
        }
      ]
    },
    {
      "cell_type": "code",
      "metadata": {
        "id": "uyjSl09-yGYb",
        "outputId": "2cddddfa-5e37-41a1-bf61-59469262c273",
        "colab": {
          "base_uri": "https://localhost:8080/",
          "height": 175
        }
      },
      "source": [
        "#df_ventas\n",
        "df_ventas3 = df_ventas2.swaplevel('Oficina','Producto')\n",
        "df_ventas3\n",
        "df_ventas3.loc['a']"
      ],
      "execution_count": null,
      "outputs": [
        {
          "output_type": "execute_result",
          "data": {
            "text/html": [
              "<div>\n",
              "<style scoped>\n",
              "    .dataframe tbody tr th:only-of-type {\n",
              "        vertical-align: middle;\n",
              "    }\n",
              "\n",
              "    .dataframe tbody tr th {\n",
              "        vertical-align: top;\n",
              "    }\n",
              "\n",
              "    .dataframe thead th {\n",
              "        text-align: right;\n",
              "    }\n",
              "</style>\n",
              "<table border=\"1\" class=\"dataframe\">\n",
              "  <thead>\n",
              "    <tr style=\"text-align: right;\">\n",
              "      <th></th>\n",
              "      <th>Valor</th>\n",
              "    </tr>\n",
              "    <tr>\n",
              "      <th>Oficina</th>\n",
              "      <th></th>\n",
              "    </tr>\n",
              "  </thead>\n",
              "  <tbody>\n",
              "    <tr>\n",
              "      <th>1</th>\n",
              "      <td>1</td>\n",
              "    </tr>\n",
              "    <tr>\n",
              "      <th>2</th>\n",
              "      <td>0</td>\n",
              "    </tr>\n",
              "    <tr>\n",
              "      <th>3</th>\n",
              "      <td>3</td>\n",
              "    </tr>\n",
              "  </tbody>\n",
              "</table>\n",
              "</div>"
            ],
            "text/plain": [
              "         Valor\n",
              "Oficina       \n",
              "1            1\n",
              "2            0\n",
              "3            3"
            ]
          },
          "metadata": {
            "tags": []
          },
          "execution_count": 29
        }
      ]
    },
    {
      "cell_type": "code",
      "metadata": {
        "id": "jIHLihulzd2T",
        "outputId": "ccd38ef2-7941-4a97-920d-1da329a4757b",
        "colab": {
          "base_uri": "https://localhost:8080/",
          "height": 206
        }
      },
      "source": [
        "#df_ventas2.sum(level='Oficina')\n",
        "df_ventas2.sum(level='Producto')"
      ],
      "execution_count": null,
      "outputs": [
        {
          "output_type": "execute_result",
          "data": {
            "text/html": [
              "<div>\n",
              "<style scoped>\n",
              "    .dataframe tbody tr th:only-of-type {\n",
              "        vertical-align: middle;\n",
              "    }\n",
              "\n",
              "    .dataframe tbody tr th {\n",
              "        vertical-align: top;\n",
              "    }\n",
              "\n",
              "    .dataframe thead th {\n",
              "        text-align: right;\n",
              "    }\n",
              "</style>\n",
              "<table border=\"1\" class=\"dataframe\">\n",
              "  <thead>\n",
              "    <tr style=\"text-align: right;\">\n",
              "      <th></th>\n",
              "      <th>Valor</th>\n",
              "    </tr>\n",
              "    <tr>\n",
              "      <th>Producto</th>\n",
              "      <th></th>\n",
              "    </tr>\n",
              "  </thead>\n",
              "  <tbody>\n",
              "    <tr>\n",
              "      <th>a</th>\n",
              "      <td>4</td>\n",
              "    </tr>\n",
              "    <tr>\n",
              "      <th>b</th>\n",
              "      <td>27</td>\n",
              "    </tr>\n",
              "    <tr>\n",
              "      <th>c</th>\n",
              "      <td>30</td>\n",
              "    </tr>\n",
              "    <tr>\n",
              "      <th>d</th>\n",
              "      <td>16</td>\n",
              "    </tr>\n",
              "  </tbody>\n",
              "</table>\n",
              "</div>"
            ],
            "text/plain": [
              "          Valor\n",
              "Producto       \n",
              "a             4\n",
              "b            27\n",
              "c            30\n",
              "d            16"
            ]
          },
          "metadata": {
            "tags": []
          },
          "execution_count": 30
        }
      ]
    },
    {
      "cell_type": "code",
      "metadata": {
        "id": "LPImQwyLzsQA",
        "outputId": "0d74d7cb-c3f8-452a-f568-0440c0d34ca3",
        "colab": {
          "base_uri": "https://localhost:8080/",
          "height": 175
        }
      },
      "source": [
        "df_ventas = pd.DataFrame({'Oficina': [1,1,1,2,2,2,3,3,3,3],\n",
        "                          'Producto': ['a', 'b', 'c', 'a', 'b', 'c', 'a', 'b', 'c','d'],\n",
        "                          'Valor': valor})\n",
        "\n",
        "#df_ventas\n",
        "df_ventas.pivot(index='Oficina', columns='Producto', values='Valor')"
      ],
      "execution_count": null,
      "outputs": [
        {
          "output_type": "execute_result",
          "data": {
            "text/html": [
              "<div>\n",
              "<style scoped>\n",
              "    .dataframe tbody tr th:only-of-type {\n",
              "        vertical-align: middle;\n",
              "    }\n",
              "\n",
              "    .dataframe tbody tr th {\n",
              "        vertical-align: top;\n",
              "    }\n",
              "\n",
              "    .dataframe thead th {\n",
              "        text-align: right;\n",
              "    }\n",
              "</style>\n",
              "<table border=\"1\" class=\"dataframe\">\n",
              "  <thead>\n",
              "    <tr style=\"text-align: right;\">\n",
              "      <th>Producto</th>\n",
              "      <th>a</th>\n",
              "      <th>b</th>\n",
              "      <th>c</th>\n",
              "      <th>d</th>\n",
              "    </tr>\n",
              "    <tr>\n",
              "      <th>Oficina</th>\n",
              "      <th></th>\n",
              "      <th></th>\n",
              "      <th></th>\n",
              "      <th></th>\n",
              "    </tr>\n",
              "  </thead>\n",
              "  <tbody>\n",
              "    <tr>\n",
              "      <th>1</th>\n",
              "      <td>1.0</td>\n",
              "      <td>10.0</td>\n",
              "      <td>16.0</td>\n",
              "      <td>NaN</td>\n",
              "    </tr>\n",
              "    <tr>\n",
              "      <th>2</th>\n",
              "      <td>0.0</td>\n",
              "      <td>6.0</td>\n",
              "      <td>4.0</td>\n",
              "      <td>NaN</td>\n",
              "    </tr>\n",
              "    <tr>\n",
              "      <th>3</th>\n",
              "      <td>3.0</td>\n",
              "      <td>11.0</td>\n",
              "      <td>10.0</td>\n",
              "      <td>16.0</td>\n",
              "    </tr>\n",
              "  </tbody>\n",
              "</table>\n",
              "</div>"
            ],
            "text/plain": [
              "Producto    a     b     c     d\n",
              "Oficina                        \n",
              "1         1.0  10.0  16.0   NaN\n",
              "2         0.0   6.0   4.0   NaN\n",
              "3         3.0  11.0  10.0  16.0"
            ]
          },
          "metadata": {
            "tags": []
          },
          "execution_count": 31
        }
      ]
    },
    {
      "cell_type": "code",
      "metadata": {
        "id": "Ldlcp9l_0YjY",
        "outputId": "c96cb577-8722-4c02-a0d6-d75473df7201",
        "colab": {
          "base_uri": "https://localhost:8080/",
          "height": 363
        }
      },
      "source": [
        "df_ventas['Producto']\n",
        "\n",
        "#df_ventas[['Producto', 'Valor']]\n",
        "\n",
        "df_ventas[['Producto']]"
      ],
      "execution_count": null,
      "outputs": [
        {
          "output_type": "execute_result",
          "data": {
            "text/html": [
              "<div>\n",
              "<style scoped>\n",
              "    .dataframe tbody tr th:only-of-type {\n",
              "        vertical-align: middle;\n",
              "    }\n",
              "\n",
              "    .dataframe tbody tr th {\n",
              "        vertical-align: top;\n",
              "    }\n",
              "\n",
              "    .dataframe thead th {\n",
              "        text-align: right;\n",
              "    }\n",
              "</style>\n",
              "<table border=\"1\" class=\"dataframe\">\n",
              "  <thead>\n",
              "    <tr style=\"text-align: right;\">\n",
              "      <th></th>\n",
              "      <th>Producto</th>\n",
              "    </tr>\n",
              "  </thead>\n",
              "  <tbody>\n",
              "    <tr>\n",
              "      <th>0</th>\n",
              "      <td>a</td>\n",
              "    </tr>\n",
              "    <tr>\n",
              "      <th>1</th>\n",
              "      <td>b</td>\n",
              "    </tr>\n",
              "    <tr>\n",
              "      <th>2</th>\n",
              "      <td>c</td>\n",
              "    </tr>\n",
              "    <tr>\n",
              "      <th>3</th>\n",
              "      <td>a</td>\n",
              "    </tr>\n",
              "    <tr>\n",
              "      <th>4</th>\n",
              "      <td>b</td>\n",
              "    </tr>\n",
              "    <tr>\n",
              "      <th>5</th>\n",
              "      <td>c</td>\n",
              "    </tr>\n",
              "    <tr>\n",
              "      <th>6</th>\n",
              "      <td>a</td>\n",
              "    </tr>\n",
              "    <tr>\n",
              "      <th>7</th>\n",
              "      <td>b</td>\n",
              "    </tr>\n",
              "    <tr>\n",
              "      <th>8</th>\n",
              "      <td>c</td>\n",
              "    </tr>\n",
              "    <tr>\n",
              "      <th>9</th>\n",
              "      <td>d</td>\n",
              "    </tr>\n",
              "  </tbody>\n",
              "</table>\n",
              "</div>"
            ],
            "text/plain": [
              "  Producto\n",
              "0        a\n",
              "1        b\n",
              "2        c\n",
              "3        a\n",
              "4        b\n",
              "5        c\n",
              "6        a\n",
              "7        b\n",
              "8        c\n",
              "9        d"
            ]
          },
          "metadata": {
            "tags": []
          },
          "execution_count": 32
        }
      ]
    },
    {
      "cell_type": "code",
      "metadata": {
        "id": "EzkoZn440mrp",
        "outputId": "85c79e71-aa59-4e64-e8b1-e81685ca2169",
        "colab": {
          "base_uri": "https://localhost:8080/",
          "height": 238
        }
      },
      "source": [
        "Empleado\n",
        "Empleado.sort_values(by='IDDepartamento')\n",
        "\n",
        "Empleado.sort_values(by='IDDepartamento', ascending=False)\n",
        "\n",
        "Empleado.sort_values(by=['IDDepartamento', 'Apellido'], ascending=[False, False])"
      ],
      "execution_count": null,
      "outputs": [
        {
          "output_type": "execute_result",
          "data": {
            "text/html": [
              "<div>\n",
              "<style scoped>\n",
              "    .dataframe tbody tr th:only-of-type {\n",
              "        vertical-align: middle;\n",
              "    }\n",
              "\n",
              "    .dataframe tbody tr th {\n",
              "        vertical-align: top;\n",
              "    }\n",
              "\n",
              "    .dataframe thead th {\n",
              "        text-align: right;\n",
              "    }\n",
              "</style>\n",
              "<table border=\"1\" class=\"dataframe\">\n",
              "  <thead>\n",
              "    <tr style=\"text-align: right;\">\n",
              "      <th></th>\n",
              "      <th>Apellido</th>\n",
              "      <th>IDDepartamento</th>\n",
              "      <th>Edad</th>\n",
              "      <th>Edad_meses</th>\n",
              "    </tr>\n",
              "  </thead>\n",
              "  <tbody>\n",
              "    <tr>\n",
              "      <th>5</th>\n",
              "      <td>Gaspar</td>\n",
              "      <td>36</td>\n",
              "      <td>32</td>\n",
              "      <td>384</td>\n",
              "    </tr>\n",
              "    <tr>\n",
              "      <th>4</th>\n",
              "      <td>Zolano</td>\n",
              "      <td>34</td>\n",
              "      <td>56</td>\n",
              "      <td>672</td>\n",
              "    </tr>\n",
              "    <tr>\n",
              "      <th>3</th>\n",
              "      <td>Róbinson</td>\n",
              "      <td>34</td>\n",
              "      <td>48</td>\n",
              "      <td>576</td>\n",
              "    </tr>\n",
              "    <tr>\n",
              "      <th>2</th>\n",
              "      <td>Steinberg</td>\n",
              "      <td>33</td>\n",
              "      <td>45</td>\n",
              "      <td>540</td>\n",
              "    </tr>\n",
              "    <tr>\n",
              "      <th>1</th>\n",
              "      <td>Jordán</td>\n",
              "      <td>33</td>\n",
              "      <td>23</td>\n",
              "      <td>276</td>\n",
              "    </tr>\n",
              "    <tr>\n",
              "      <th>0</th>\n",
              "      <td>Andrade</td>\n",
              "      <td>31</td>\n",
              "      <td>20</td>\n",
              "      <td>240</td>\n",
              "    </tr>\n",
              "  </tbody>\n",
              "</table>\n",
              "</div>"
            ],
            "text/plain": [
              "    Apellido  IDDepartamento  Edad  Edad_meses\n",
              "5     Gaspar              36    32         384\n",
              "4     Zolano              34    56         672\n",
              "3   Róbinson              34    48         576\n",
              "2  Steinberg              33    45         540\n",
              "1     Jordán              33    23         276\n",
              "0    Andrade              31    20         240"
            ]
          },
          "metadata": {
            "tags": []
          },
          "execution_count": 33
        }
      ]
    },
    {
      "cell_type": "code",
      "metadata": {
        "id": "JmgBP6WC09ih",
        "outputId": "3922e5a5-3bc9-4c34-ca96-c5789ccd610e",
        "colab": {
          "base_uri": "https://localhost:8080/",
          "height": 175
        }
      },
      "source": [
        "Empleado.T"
      ],
      "execution_count": null,
      "outputs": [
        {
          "output_type": "execute_result",
          "data": {
            "text/html": [
              "<div>\n",
              "<style scoped>\n",
              "    .dataframe tbody tr th:only-of-type {\n",
              "        vertical-align: middle;\n",
              "    }\n",
              "\n",
              "    .dataframe tbody tr th {\n",
              "        vertical-align: top;\n",
              "    }\n",
              "\n",
              "    .dataframe thead th {\n",
              "        text-align: right;\n",
              "    }\n",
              "</style>\n",
              "<table border=\"1\" class=\"dataframe\">\n",
              "  <thead>\n",
              "    <tr style=\"text-align: right;\">\n",
              "      <th></th>\n",
              "      <th>0</th>\n",
              "      <th>1</th>\n",
              "      <th>2</th>\n",
              "      <th>3</th>\n",
              "      <th>4</th>\n",
              "      <th>5</th>\n",
              "    </tr>\n",
              "  </thead>\n",
              "  <tbody>\n",
              "    <tr>\n",
              "      <th>Apellido</th>\n",
              "      <td>Andrade</td>\n",
              "      <td>Jordán</td>\n",
              "      <td>Steinberg</td>\n",
              "      <td>Róbinson</td>\n",
              "      <td>Zolano</td>\n",
              "      <td>Gaspar</td>\n",
              "    </tr>\n",
              "    <tr>\n",
              "      <th>IDDepartamento</th>\n",
              "      <td>31</td>\n",
              "      <td>33</td>\n",
              "      <td>33</td>\n",
              "      <td>34</td>\n",
              "      <td>34</td>\n",
              "      <td>36</td>\n",
              "    </tr>\n",
              "    <tr>\n",
              "      <th>Edad</th>\n",
              "      <td>20</td>\n",
              "      <td>23</td>\n",
              "      <td>45</td>\n",
              "      <td>48</td>\n",
              "      <td>56</td>\n",
              "      <td>32</td>\n",
              "    </tr>\n",
              "    <tr>\n",
              "      <th>Edad_meses</th>\n",
              "      <td>240</td>\n",
              "      <td>276</td>\n",
              "      <td>540</td>\n",
              "      <td>576</td>\n",
              "      <td>672</td>\n",
              "      <td>384</td>\n",
              "    </tr>\n",
              "  </tbody>\n",
              "</table>\n",
              "</div>"
            ],
            "text/plain": [
              "                      0       1          2         3       4       5\n",
              "Apellido        Andrade  Jordán  Steinberg  Róbinson  Zolano  Gaspar\n",
              "IDDepartamento       31      33         33        34      34      36\n",
              "Edad                 20      23         45        48      56      32\n",
              "Edad_meses          240     276        540       576     672     384"
            ]
          },
          "metadata": {
            "tags": []
          },
          "execution_count": 34
        }
      ]
    },
    {
      "cell_type": "code",
      "metadata": {
        "id": "UzQ75zNj1i-8",
        "outputId": "4dff3251-abe5-4b19-ea17-665541052077",
        "colab": {
          "base_uri": "https://localhost:8080/",
          "height": 469
        }
      },
      "source": [
        "for key, value in Empleado.groupby('IDDepartamento'):\n",
        "    print('-' * 50)\n",
        "    print('IDDepartamento = {}'.format(key))\n",
        "    print('+' * 20)\n",
        "    print('DataFrame:')\n",
        "    print(value)"
      ],
      "execution_count": null,
      "outputs": [
        {
          "output_type": "stream",
          "text": [
            "--------------------------------------------------\n",
            "IDDepartamento = 31\n",
            "++++++++++++++++++++\n",
            "DataFrame:\n",
            "  Apellido  IDDepartamento  Edad  Edad_meses\n",
            "0  Andrade              31    20         240\n",
            "--------------------------------------------------\n",
            "IDDepartamento = 33\n",
            "++++++++++++++++++++\n",
            "DataFrame:\n",
            "    Apellido  IDDepartamento  Edad  Edad_meses\n",
            "1     Jordán              33    23         276\n",
            "2  Steinberg              33    45         540\n",
            "--------------------------------------------------\n",
            "IDDepartamento = 34\n",
            "++++++++++++++++++++\n",
            "DataFrame:\n",
            "   Apellido  IDDepartamento  Edad  Edad_meses\n",
            "3  Róbinson              34    48         576\n",
            "4    Zolano              34    56         672\n",
            "--------------------------------------------------\n",
            "IDDepartamento = 36\n",
            "++++++++++++++++++++\n",
            "DataFrame:\n",
            "  Apellido  IDDepartamento  Edad  Edad_meses\n",
            "5   Gaspar              36    32         384\n"
          ],
          "name": "stdout"
        }
      ]
    },
    {
      "cell_type": "code",
      "metadata": {
        "id": "nF8AwTt21v2r",
        "outputId": "86640589-1f07-4e24-d79f-9c4e57dbfb65",
        "colab": {
          "base_uri": "https://localhost:8080/",
          "height": 399
        }
      },
      "source": [
        "for key, group in Empleado.groupby('IDDepartamento')['Apellido']:\n",
        "    print('-' * 50)\n",
        "    print('IDDepartamento = {}'.format(key))\n",
        "    print('DataFrame:')\n",
        "    print(group)"
      ],
      "execution_count": null,
      "outputs": [
        {
          "output_type": "stream",
          "text": [
            "--------------------------------------------------\n",
            "IDDepartamento = 31\n",
            "DataFrame:\n",
            "0    Andrade\n",
            "Name: Apellido, dtype: object\n",
            "--------------------------------------------------\n",
            "IDDepartamento = 33\n",
            "DataFrame:\n",
            "1       Jordán\n",
            "2    Steinberg\n",
            "Name: Apellido, dtype: object\n",
            "--------------------------------------------------\n",
            "IDDepartamento = 34\n",
            "DataFrame:\n",
            "3    Róbinson\n",
            "4      Zolano\n",
            "Name: Apellido, dtype: object\n",
            "--------------------------------------------------\n",
            "IDDepartamento = 36\n",
            "DataFrame:\n",
            "5    Gaspar\n",
            "Name: Apellido, dtype: object\n"
          ],
          "name": "stdout"
        }
      ]
    },
    {
      "cell_type": "code",
      "metadata": {
        "id": "aneFiRH92hgm",
        "outputId": "be91c2c5-0759-40e2-f51d-c3b4bc970114",
        "colab": {
          "base_uri": "https://localhost:8080/",
          "height": 1000
        }
      },
      "source": [
        "df_ventas = pd.DataFrame({'Oficina': np.random.choice([1, 2, 3], 50),\n",
        "                          'Producto': np.random.choice(['a','b','c','d','e'], 50),\n",
        "                          'Valor': np.random.randint(5,50, size=50) * 1000})\n",
        "df_ventas"
      ],
      "execution_count": null,
      "outputs": [
        {
          "output_type": "execute_result",
          "data": {
            "text/html": [
              "<div>\n",
              "<style scoped>\n",
              "    .dataframe tbody tr th:only-of-type {\n",
              "        vertical-align: middle;\n",
              "    }\n",
              "\n",
              "    .dataframe tbody tr th {\n",
              "        vertical-align: top;\n",
              "    }\n",
              "\n",
              "    .dataframe thead th {\n",
              "        text-align: right;\n",
              "    }\n",
              "</style>\n",
              "<table border=\"1\" class=\"dataframe\">\n",
              "  <thead>\n",
              "    <tr style=\"text-align: right;\">\n",
              "      <th></th>\n",
              "      <th>Oficina</th>\n",
              "      <th>Producto</th>\n",
              "      <th>Valor</th>\n",
              "    </tr>\n",
              "  </thead>\n",
              "  <tbody>\n",
              "    <tr>\n",
              "      <th>0</th>\n",
              "      <td>2</td>\n",
              "      <td>e</td>\n",
              "      <td>45000</td>\n",
              "    </tr>\n",
              "    <tr>\n",
              "      <th>1</th>\n",
              "      <td>3</td>\n",
              "      <td>b</td>\n",
              "      <td>11000</td>\n",
              "    </tr>\n",
              "    <tr>\n",
              "      <th>2</th>\n",
              "      <td>2</td>\n",
              "      <td>a</td>\n",
              "      <td>21000</td>\n",
              "    </tr>\n",
              "    <tr>\n",
              "      <th>3</th>\n",
              "      <td>2</td>\n",
              "      <td>e</td>\n",
              "      <td>13000</td>\n",
              "    </tr>\n",
              "    <tr>\n",
              "      <th>4</th>\n",
              "      <td>2</td>\n",
              "      <td>d</td>\n",
              "      <td>17000</td>\n",
              "    </tr>\n",
              "    <tr>\n",
              "      <th>5</th>\n",
              "      <td>2</td>\n",
              "      <td>b</td>\n",
              "      <td>43000</td>\n",
              "    </tr>\n",
              "    <tr>\n",
              "      <th>6</th>\n",
              "      <td>3</td>\n",
              "      <td>e</td>\n",
              "      <td>41000</td>\n",
              "    </tr>\n",
              "    <tr>\n",
              "      <th>7</th>\n",
              "      <td>3</td>\n",
              "      <td>d</td>\n",
              "      <td>31000</td>\n",
              "    </tr>\n",
              "    <tr>\n",
              "      <th>8</th>\n",
              "      <td>2</td>\n",
              "      <td>a</td>\n",
              "      <td>38000</td>\n",
              "    </tr>\n",
              "    <tr>\n",
              "      <th>9</th>\n",
              "      <td>2</td>\n",
              "      <td>a</td>\n",
              "      <td>44000</td>\n",
              "    </tr>\n",
              "    <tr>\n",
              "      <th>10</th>\n",
              "      <td>1</td>\n",
              "      <td>b</td>\n",
              "      <td>22000</td>\n",
              "    </tr>\n",
              "    <tr>\n",
              "      <th>11</th>\n",
              "      <td>2</td>\n",
              "      <td>b</td>\n",
              "      <td>24000</td>\n",
              "    </tr>\n",
              "    <tr>\n",
              "      <th>12</th>\n",
              "      <td>2</td>\n",
              "      <td>c</td>\n",
              "      <td>8000</td>\n",
              "    </tr>\n",
              "    <tr>\n",
              "      <th>13</th>\n",
              "      <td>3</td>\n",
              "      <td>e</td>\n",
              "      <td>45000</td>\n",
              "    </tr>\n",
              "    <tr>\n",
              "      <th>14</th>\n",
              "      <td>1</td>\n",
              "      <td>c</td>\n",
              "      <td>10000</td>\n",
              "    </tr>\n",
              "    <tr>\n",
              "      <th>15</th>\n",
              "      <td>2</td>\n",
              "      <td>b</td>\n",
              "      <td>6000</td>\n",
              "    </tr>\n",
              "    <tr>\n",
              "      <th>16</th>\n",
              "      <td>2</td>\n",
              "      <td>b</td>\n",
              "      <td>33000</td>\n",
              "    </tr>\n",
              "    <tr>\n",
              "      <th>17</th>\n",
              "      <td>1</td>\n",
              "      <td>e</td>\n",
              "      <td>24000</td>\n",
              "    </tr>\n",
              "    <tr>\n",
              "      <th>18</th>\n",
              "      <td>3</td>\n",
              "      <td>c</td>\n",
              "      <td>49000</td>\n",
              "    </tr>\n",
              "    <tr>\n",
              "      <th>19</th>\n",
              "      <td>3</td>\n",
              "      <td>c</td>\n",
              "      <td>12000</td>\n",
              "    </tr>\n",
              "    <tr>\n",
              "      <th>20</th>\n",
              "      <td>1</td>\n",
              "      <td>a</td>\n",
              "      <td>5000</td>\n",
              "    </tr>\n",
              "    <tr>\n",
              "      <th>21</th>\n",
              "      <td>3</td>\n",
              "      <td>a</td>\n",
              "      <td>41000</td>\n",
              "    </tr>\n",
              "    <tr>\n",
              "      <th>22</th>\n",
              "      <td>1</td>\n",
              "      <td>e</td>\n",
              "      <td>47000</td>\n",
              "    </tr>\n",
              "    <tr>\n",
              "      <th>23</th>\n",
              "      <td>1</td>\n",
              "      <td>b</td>\n",
              "      <td>26000</td>\n",
              "    </tr>\n",
              "    <tr>\n",
              "      <th>24</th>\n",
              "      <td>2</td>\n",
              "      <td>c</td>\n",
              "      <td>37000</td>\n",
              "    </tr>\n",
              "    <tr>\n",
              "      <th>25</th>\n",
              "      <td>2</td>\n",
              "      <td>e</td>\n",
              "      <td>22000</td>\n",
              "    </tr>\n",
              "    <tr>\n",
              "      <th>26</th>\n",
              "      <td>3</td>\n",
              "      <td>d</td>\n",
              "      <td>13000</td>\n",
              "    </tr>\n",
              "    <tr>\n",
              "      <th>27</th>\n",
              "      <td>1</td>\n",
              "      <td>e</td>\n",
              "      <td>28000</td>\n",
              "    </tr>\n",
              "    <tr>\n",
              "      <th>28</th>\n",
              "      <td>2</td>\n",
              "      <td>b</td>\n",
              "      <td>10000</td>\n",
              "    </tr>\n",
              "    <tr>\n",
              "      <th>29</th>\n",
              "      <td>1</td>\n",
              "      <td>b</td>\n",
              "      <td>25000</td>\n",
              "    </tr>\n",
              "    <tr>\n",
              "      <th>30</th>\n",
              "      <td>3</td>\n",
              "      <td>c</td>\n",
              "      <td>25000</td>\n",
              "    </tr>\n",
              "    <tr>\n",
              "      <th>31</th>\n",
              "      <td>2</td>\n",
              "      <td>b</td>\n",
              "      <td>25000</td>\n",
              "    </tr>\n",
              "    <tr>\n",
              "      <th>32</th>\n",
              "      <td>2</td>\n",
              "      <td>e</td>\n",
              "      <td>35000</td>\n",
              "    </tr>\n",
              "    <tr>\n",
              "      <th>33</th>\n",
              "      <td>2</td>\n",
              "      <td>d</td>\n",
              "      <td>23000</td>\n",
              "    </tr>\n",
              "    <tr>\n",
              "      <th>34</th>\n",
              "      <td>2</td>\n",
              "      <td>a</td>\n",
              "      <td>33000</td>\n",
              "    </tr>\n",
              "    <tr>\n",
              "      <th>35</th>\n",
              "      <td>2</td>\n",
              "      <td>d</td>\n",
              "      <td>21000</td>\n",
              "    </tr>\n",
              "    <tr>\n",
              "      <th>36</th>\n",
              "      <td>3</td>\n",
              "      <td>a</td>\n",
              "      <td>22000</td>\n",
              "    </tr>\n",
              "    <tr>\n",
              "      <th>37</th>\n",
              "      <td>1</td>\n",
              "      <td>d</td>\n",
              "      <td>43000</td>\n",
              "    </tr>\n",
              "    <tr>\n",
              "      <th>38</th>\n",
              "      <td>3</td>\n",
              "      <td>a</td>\n",
              "      <td>42000</td>\n",
              "    </tr>\n",
              "    <tr>\n",
              "      <th>39</th>\n",
              "      <td>2</td>\n",
              "      <td>e</td>\n",
              "      <td>12000</td>\n",
              "    </tr>\n",
              "    <tr>\n",
              "      <th>40</th>\n",
              "      <td>3</td>\n",
              "      <td>b</td>\n",
              "      <td>25000</td>\n",
              "    </tr>\n",
              "    <tr>\n",
              "      <th>41</th>\n",
              "      <td>3</td>\n",
              "      <td>d</td>\n",
              "      <td>7000</td>\n",
              "    </tr>\n",
              "    <tr>\n",
              "      <th>42</th>\n",
              "      <td>1</td>\n",
              "      <td>e</td>\n",
              "      <td>14000</td>\n",
              "    </tr>\n",
              "    <tr>\n",
              "      <th>43</th>\n",
              "      <td>3</td>\n",
              "      <td>a</td>\n",
              "      <td>9000</td>\n",
              "    </tr>\n",
              "    <tr>\n",
              "      <th>44</th>\n",
              "      <td>1</td>\n",
              "      <td>e</td>\n",
              "      <td>11000</td>\n",
              "    </tr>\n",
              "    <tr>\n",
              "      <th>45</th>\n",
              "      <td>1</td>\n",
              "      <td>a</td>\n",
              "      <td>38000</td>\n",
              "    </tr>\n",
              "    <tr>\n",
              "      <th>46</th>\n",
              "      <td>3</td>\n",
              "      <td>a</td>\n",
              "      <td>18000</td>\n",
              "    </tr>\n",
              "    <tr>\n",
              "      <th>47</th>\n",
              "      <td>3</td>\n",
              "      <td>c</td>\n",
              "      <td>38000</td>\n",
              "    </tr>\n",
              "    <tr>\n",
              "      <th>48</th>\n",
              "      <td>3</td>\n",
              "      <td>a</td>\n",
              "      <td>46000</td>\n",
              "    </tr>\n",
              "    <tr>\n",
              "      <th>49</th>\n",
              "      <td>1</td>\n",
              "      <td>d</td>\n",
              "      <td>22000</td>\n",
              "    </tr>\n",
              "  </tbody>\n",
              "</table>\n",
              "</div>"
            ],
            "text/plain": [
              "    Oficina Producto  Valor\n",
              "0         2        e  45000\n",
              "1         3        b  11000\n",
              "2         2        a  21000\n",
              "3         2        e  13000\n",
              "4         2        d  17000\n",
              "5         2        b  43000\n",
              "6         3        e  41000\n",
              "7         3        d  31000\n",
              "8         2        a  38000\n",
              "9         2        a  44000\n",
              "10        1        b  22000\n",
              "11        2        b  24000\n",
              "12        2        c   8000\n",
              "13        3        e  45000\n",
              "14        1        c  10000\n",
              "15        2        b   6000\n",
              "16        2        b  33000\n",
              "17        1        e  24000\n",
              "18        3        c  49000\n",
              "19        3        c  12000\n",
              "20        1        a   5000\n",
              "21        3        a  41000\n",
              "22        1        e  47000\n",
              "23        1        b  26000\n",
              "24        2        c  37000\n",
              "25        2        e  22000\n",
              "26        3        d  13000\n",
              "27        1        e  28000\n",
              "28        2        b  10000\n",
              "29        1        b  25000\n",
              "30        3        c  25000\n",
              "31        2        b  25000\n",
              "32        2        e  35000\n",
              "33        2        d  23000\n",
              "34        2        a  33000\n",
              "35        2        d  21000\n",
              "36        3        a  22000\n",
              "37        1        d  43000\n",
              "38        3        a  42000\n",
              "39        2        e  12000\n",
              "40        3        b  25000\n",
              "41        3        d   7000\n",
              "42        1        e  14000\n",
              "43        3        a   9000\n",
              "44        1        e  11000\n",
              "45        1        a  38000\n",
              "46        3        a  18000\n",
              "47        3        c  38000\n",
              "48        3        a  46000\n",
              "49        1        d  22000"
            ]
          },
          "metadata": {
            "tags": []
          },
          "execution_count": 37
        }
      ]
    },
    {
      "cell_type": "code",
      "metadata": {
        "id": "QV_BEEfN2sYk",
        "outputId": "403e8f90-bb67-4ce0-c1b2-3548dfb30fad",
        "colab": {
          "base_uri": "https://localhost:8080/",
          "height": 551
        }
      },
      "source": [
        "df_ventas.groupby(['Oficina', 'Producto']).mean()"
      ],
      "execution_count": null,
      "outputs": [
        {
          "output_type": "execute_result",
          "data": {
            "text/html": [
              "<div>\n",
              "<style scoped>\n",
              "    .dataframe tbody tr th:only-of-type {\n",
              "        vertical-align: middle;\n",
              "    }\n",
              "\n",
              "    .dataframe tbody tr th {\n",
              "        vertical-align: top;\n",
              "    }\n",
              "\n",
              "    .dataframe thead th {\n",
              "        text-align: right;\n",
              "    }\n",
              "</style>\n",
              "<table border=\"1\" class=\"dataframe\">\n",
              "  <thead>\n",
              "    <tr style=\"text-align: right;\">\n",
              "      <th></th>\n",
              "      <th></th>\n",
              "      <th>Valor</th>\n",
              "    </tr>\n",
              "    <tr>\n",
              "      <th>Oficina</th>\n",
              "      <th>Producto</th>\n",
              "      <th></th>\n",
              "    </tr>\n",
              "  </thead>\n",
              "  <tbody>\n",
              "    <tr>\n",
              "      <th rowspan=\"5\" valign=\"top\">1</th>\n",
              "      <th>a</th>\n",
              "      <td>21500.000000</td>\n",
              "    </tr>\n",
              "    <tr>\n",
              "      <th>b</th>\n",
              "      <td>24333.333333</td>\n",
              "    </tr>\n",
              "    <tr>\n",
              "      <th>c</th>\n",
              "      <td>10000.000000</td>\n",
              "    </tr>\n",
              "    <tr>\n",
              "      <th>d</th>\n",
              "      <td>32500.000000</td>\n",
              "    </tr>\n",
              "    <tr>\n",
              "      <th>e</th>\n",
              "      <td>24800.000000</td>\n",
              "    </tr>\n",
              "    <tr>\n",
              "      <th rowspan=\"5\" valign=\"top\">2</th>\n",
              "      <th>a</th>\n",
              "      <td>34000.000000</td>\n",
              "    </tr>\n",
              "    <tr>\n",
              "      <th>b</th>\n",
              "      <td>23500.000000</td>\n",
              "    </tr>\n",
              "    <tr>\n",
              "      <th>c</th>\n",
              "      <td>22500.000000</td>\n",
              "    </tr>\n",
              "    <tr>\n",
              "      <th>d</th>\n",
              "      <td>20333.333333</td>\n",
              "    </tr>\n",
              "    <tr>\n",
              "      <th>e</th>\n",
              "      <td>25400.000000</td>\n",
              "    </tr>\n",
              "    <tr>\n",
              "      <th rowspan=\"5\" valign=\"top\">3</th>\n",
              "      <th>a</th>\n",
              "      <td>29666.666667</td>\n",
              "    </tr>\n",
              "    <tr>\n",
              "      <th>b</th>\n",
              "      <td>18000.000000</td>\n",
              "    </tr>\n",
              "    <tr>\n",
              "      <th>c</th>\n",
              "      <td>31000.000000</td>\n",
              "    </tr>\n",
              "    <tr>\n",
              "      <th>d</th>\n",
              "      <td>17000.000000</td>\n",
              "    </tr>\n",
              "    <tr>\n",
              "      <th>e</th>\n",
              "      <td>43000.000000</td>\n",
              "    </tr>\n",
              "  </tbody>\n",
              "</table>\n",
              "</div>"
            ],
            "text/plain": [
              "                         Valor\n",
              "Oficina Producto              \n",
              "1       a         21500.000000\n",
              "        b         24333.333333\n",
              "        c         10000.000000\n",
              "        d         32500.000000\n",
              "        e         24800.000000\n",
              "2       a         34000.000000\n",
              "        b         23500.000000\n",
              "        c         22500.000000\n",
              "        d         20333.333333\n",
              "        e         25400.000000\n",
              "3       a         29666.666667\n",
              "        b         18000.000000\n",
              "        c         31000.000000\n",
              "        d         17000.000000\n",
              "        e         43000.000000"
            ]
          },
          "metadata": {
            "tags": []
          },
          "execution_count": 38
        }
      ]
    },
    {
      "cell_type": "code",
      "metadata": {
        "id": "__Uvg3Dj2u_c",
        "outputId": "594292d3-b513-4e5e-e599-3e7d98a24187",
        "colab": {
          "base_uri": "https://localhost:8080/",
          "height": 206
        }
      },
      "source": [
        "#pd.crosstab(df_ventas['Oficina'], df_ventas['Producto'])\n",
        "\n",
        "pd.crosstab(df_ventas['Oficina'], df_ventas['Producto'], margins=True, normalize=True)"
      ],
      "execution_count": null,
      "outputs": [
        {
          "output_type": "execute_result",
          "data": {
            "text/html": [
              "<div>\n",
              "<style scoped>\n",
              "    .dataframe tbody tr th:only-of-type {\n",
              "        vertical-align: middle;\n",
              "    }\n",
              "\n",
              "    .dataframe tbody tr th {\n",
              "        vertical-align: top;\n",
              "    }\n",
              "\n",
              "    .dataframe thead th {\n",
              "        text-align: right;\n",
              "    }\n",
              "</style>\n",
              "<table border=\"1\" class=\"dataframe\">\n",
              "  <thead>\n",
              "    <tr style=\"text-align: right;\">\n",
              "      <th>Producto</th>\n",
              "      <th>a</th>\n",
              "      <th>b</th>\n",
              "      <th>c</th>\n",
              "      <th>d</th>\n",
              "      <th>e</th>\n",
              "      <th>All</th>\n",
              "    </tr>\n",
              "    <tr>\n",
              "      <th>Oficina</th>\n",
              "      <th></th>\n",
              "      <th></th>\n",
              "      <th></th>\n",
              "      <th></th>\n",
              "      <th></th>\n",
              "      <th></th>\n",
              "    </tr>\n",
              "  </thead>\n",
              "  <tbody>\n",
              "    <tr>\n",
              "      <th>1</th>\n",
              "      <td>0.04</td>\n",
              "      <td>0.06</td>\n",
              "      <td>0.02</td>\n",
              "      <td>0.04</td>\n",
              "      <td>0.10</td>\n",
              "      <td>0.26</td>\n",
              "    </tr>\n",
              "    <tr>\n",
              "      <th>2</th>\n",
              "      <td>0.08</td>\n",
              "      <td>0.12</td>\n",
              "      <td>0.04</td>\n",
              "      <td>0.06</td>\n",
              "      <td>0.10</td>\n",
              "      <td>0.40</td>\n",
              "    </tr>\n",
              "    <tr>\n",
              "      <th>3</th>\n",
              "      <td>0.12</td>\n",
              "      <td>0.04</td>\n",
              "      <td>0.08</td>\n",
              "      <td>0.06</td>\n",
              "      <td>0.04</td>\n",
              "      <td>0.34</td>\n",
              "    </tr>\n",
              "    <tr>\n",
              "      <th>All</th>\n",
              "      <td>0.24</td>\n",
              "      <td>0.22</td>\n",
              "      <td>0.14</td>\n",
              "      <td>0.16</td>\n",
              "      <td>0.24</td>\n",
              "      <td>1.00</td>\n",
              "    </tr>\n",
              "  </tbody>\n",
              "</table>\n",
              "</div>"
            ],
            "text/plain": [
              "Producto     a     b     c     d     e   All\n",
              "Oficina                                     \n",
              "1         0.04  0.06  0.02  0.04  0.10  0.26\n",
              "2         0.08  0.12  0.04  0.06  0.10  0.40\n",
              "3         0.12  0.04  0.08  0.06  0.04  0.34\n",
              "All       0.24  0.22  0.14  0.16  0.24  1.00"
            ]
          },
          "metadata": {
            "tags": []
          },
          "execution_count": 39
        }
      ]
    },
    {
      "cell_type": "code",
      "metadata": {
        "id": "hx_tpsdN2_uM",
        "outputId": "1903b94e-fdc8-4442-8016-0cd1749d081f",
        "colab": {
          "base_uri": "https://localhost:8080/",
          "height": 732
        }
      },
      "source": [
        "! wget https://www.dropbox.com/s/z4zoofdgdrxe01r/movies.csv\n",
        "! wget https://www.dropbox.com/s/f328xczt6vju6hi/ratings.csv"
      ],
      "execution_count": null,
      "outputs": [
        {
          "output_type": "stream",
          "text": [
            "--2020-09-27 05:57:30--  https://www.dropbox.com/s/z4zoofdgdrxe01r/movies.csv\n",
            "Resolving www.dropbox.com (www.dropbox.com)... 162.125.5.1, 2620:100:601d:1::a27d:501\n",
            "Connecting to www.dropbox.com (www.dropbox.com)|162.125.5.1|:443... connected.\n",
            "HTTP request sent, awaiting response... 301 Moved Permanently\n",
            "Location: /s/raw/z4zoofdgdrxe01r/movies.csv [following]\n",
            "--2020-09-27 05:57:31--  https://www.dropbox.com/s/raw/z4zoofdgdrxe01r/movies.csv\n",
            "Reusing existing connection to www.dropbox.com:443.\n",
            "HTTP request sent, awaiting response... 302 Found\n",
            "Location: https://uc40dabbc9911c7b98e3ceaadd04.dl.dropboxusercontent.com/cd/0/inline/BALcvsubC3WyZ1NcX5lJL4jnRQ97w0VtBRLareHA0P8JH9bmlo4iZLErTlKbfx-th_Mr8uU0XfExWDmjBPhnKMeoOc9vHLGlmX9v0en_9bJP1nRCzlvEz-5-2fWlv6_0VIE/file# [following]\n",
            "--2020-09-27 05:57:31--  https://uc40dabbc9911c7b98e3ceaadd04.dl.dropboxusercontent.com/cd/0/inline/BALcvsubC3WyZ1NcX5lJL4jnRQ97w0VtBRLareHA0P8JH9bmlo4iZLErTlKbfx-th_Mr8uU0XfExWDmjBPhnKMeoOc9vHLGlmX9v0en_9bJP1nRCzlvEz-5-2fWlv6_0VIE/file\n",
            "Resolving uc40dabbc9911c7b98e3ceaadd04.dl.dropboxusercontent.com (uc40dabbc9911c7b98e3ceaadd04.dl.dropboxusercontent.com)... 162.125.5.15, 2620:100:601d:15::a27d:50f\n",
            "Connecting to uc40dabbc9911c7b98e3ceaadd04.dl.dropboxusercontent.com (uc40dabbc9911c7b98e3ceaadd04.dl.dropboxusercontent.com)|162.125.5.15|:443... connected.\n",
            "HTTP request sent, awaiting response... 200 OK\n",
            "Length: 494431 (483K) [text/plain]\n",
            "Saving to: ‘movies.csv’\n",
            "\n",
            "movies.csv          100%[===================>] 482.84K  --.-KB/s    in 0.1s    \n",
            "\n",
            "2020-09-27 05:57:32 (4.23 MB/s) - ‘movies.csv’ saved [494431/494431]\n",
            "\n",
            "--2020-09-27 05:57:32--  https://www.dropbox.com/s/f328xczt6vju6hi/ratings.csv\n",
            "Resolving www.dropbox.com (www.dropbox.com)... 162.125.5.1, 2620:100:601d:1::a27d:501\n",
            "Connecting to www.dropbox.com (www.dropbox.com)|162.125.5.1|:443... connected.\n",
            "HTTP request sent, awaiting response... 301 Moved Permanently\n",
            "Location: /s/raw/f328xczt6vju6hi/ratings.csv [following]\n",
            "--2020-09-27 05:57:32--  https://www.dropbox.com/s/raw/f328xczt6vju6hi/ratings.csv\n",
            "Reusing existing connection to www.dropbox.com:443.\n",
            "HTTP request sent, awaiting response... 302 Found\n",
            "Location: https://uce1eafbb27f28ecc17622ed7810.dl.dropboxusercontent.com/cd/0/inline/BAItlhN8z0-QkpYvZ2o9IMJ8iT5XBL1eEpcgjYD-kHPAtoGs_V2ifyqpc9InvwQwG58DJNWXd_nQuxs2sC1-AWXvICnWvWHCLgXmxl45FmDYn6_t84ixMkbhGAKgIjSP5JM/file# [following]\n",
            "--2020-09-27 05:57:32--  https://uce1eafbb27f28ecc17622ed7810.dl.dropboxusercontent.com/cd/0/inline/BAItlhN8z0-QkpYvZ2o9IMJ8iT5XBL1eEpcgjYD-kHPAtoGs_V2ifyqpc9InvwQwG58DJNWXd_nQuxs2sC1-AWXvICnWvWHCLgXmxl45FmDYn6_t84ixMkbhGAKgIjSP5JM/file\n",
            "Resolving uce1eafbb27f28ecc17622ed7810.dl.dropboxusercontent.com (uce1eafbb27f28ecc17622ed7810.dl.dropboxusercontent.com)... 162.125.5.15, 2620:100:601d:15::a27d:50f\n",
            "Connecting to uce1eafbb27f28ecc17622ed7810.dl.dropboxusercontent.com (uce1eafbb27f28ecc17622ed7810.dl.dropboxusercontent.com)|162.125.5.15|:443... connected.\n",
            "HTTP request sent, awaiting response... 200 OK\n",
            "Length: 2483723 (2.4M) [text/plain]\n",
            "Saving to: ‘ratings.csv’\n",
            "\n",
            "ratings.csv         100%[===================>]   2.37M  13.6MB/s    in 0.2s    \n",
            "\n",
            "2020-09-27 05:57:33 (13.6 MB/s) - ‘ratings.csv’ saved [2483723/2483723]\n",
            "\n"
          ],
          "name": "stdout"
        }
      ]
    },
    {
      "cell_type": "code",
      "metadata": {
        "id": "QdCUp5lD4f2a"
      },
      "source": [
        ""
      ],
      "execution_count": null,
      "outputs": []
    },
    {
      "cell_type": "code",
      "metadata": {
        "id": "ybK8PgbH4kSd"
      },
      "source": [
        "import pandas as pd\n",
        "\n",
        "df_movies = pd.read_csv('movies.csv')\n",
        "df_ratings = pd.read_csv('ratings.csv')"
      ],
      "execution_count": null,
      "outputs": []
    },
    {
      "cell_type": "code",
      "metadata": {
        "id": "Kd8vHA6F4mmW",
        "outputId": "cb0e1ba8-dcb1-46c1-c8ec-bbffcf86c123",
        "colab": {
          "base_uri": "https://localhost:8080/",
          "height": 34
        }
      },
      "source": [
        "df_movies.head()\n",
        "df_movies.shape"
      ],
      "execution_count": null,
      "outputs": [
        {
          "output_type": "execute_result",
          "data": {
            "text/plain": [
              "(9742, 3)"
            ]
          },
          "metadata": {
            "tags": []
          },
          "execution_count": 42
        }
      ]
    },
    {
      "cell_type": "code",
      "metadata": {
        "id": "6MflOk-h4k80",
        "outputId": "fb74000b-3ef4-4827-aec4-28ac51fc2326",
        "colab": {
          "base_uri": "https://localhost:8080/",
          "height": 206
        }
      },
      "source": [
        "df_ratings.head()"
      ],
      "execution_count": null,
      "outputs": [
        {
          "output_type": "execute_result",
          "data": {
            "text/html": [
              "<div>\n",
              "<style scoped>\n",
              "    .dataframe tbody tr th:only-of-type {\n",
              "        vertical-align: middle;\n",
              "    }\n",
              "\n",
              "    .dataframe tbody tr th {\n",
              "        vertical-align: top;\n",
              "    }\n",
              "\n",
              "    .dataframe thead th {\n",
              "        text-align: right;\n",
              "    }\n",
              "</style>\n",
              "<table border=\"1\" class=\"dataframe\">\n",
              "  <thead>\n",
              "    <tr style=\"text-align: right;\">\n",
              "      <th></th>\n",
              "      <th>userId</th>\n",
              "      <th>movieId</th>\n",
              "      <th>rating</th>\n",
              "      <th>timestamp</th>\n",
              "    </tr>\n",
              "  </thead>\n",
              "  <tbody>\n",
              "    <tr>\n",
              "      <th>0</th>\n",
              "      <td>1</td>\n",
              "      <td>1</td>\n",
              "      <td>4.0</td>\n",
              "      <td>964982703</td>\n",
              "    </tr>\n",
              "    <tr>\n",
              "      <th>1</th>\n",
              "      <td>1</td>\n",
              "      <td>3</td>\n",
              "      <td>4.0</td>\n",
              "      <td>964981247</td>\n",
              "    </tr>\n",
              "    <tr>\n",
              "      <th>2</th>\n",
              "      <td>1</td>\n",
              "      <td>6</td>\n",
              "      <td>4.0</td>\n",
              "      <td>964982224</td>\n",
              "    </tr>\n",
              "    <tr>\n",
              "      <th>3</th>\n",
              "      <td>1</td>\n",
              "      <td>47</td>\n",
              "      <td>5.0</td>\n",
              "      <td>964983815</td>\n",
              "    </tr>\n",
              "    <tr>\n",
              "      <th>4</th>\n",
              "      <td>1</td>\n",
              "      <td>50</td>\n",
              "      <td>5.0</td>\n",
              "      <td>964982931</td>\n",
              "    </tr>\n",
              "  </tbody>\n",
              "</table>\n",
              "</div>"
            ],
            "text/plain": [
              "   userId  movieId  rating  timestamp\n",
              "0       1        1     4.0  964982703\n",
              "1       1        3     4.0  964981247\n",
              "2       1        6     4.0  964982224\n",
              "3       1       47     5.0  964983815\n",
              "4       1       50     5.0  964982931"
            ]
          },
          "metadata": {
            "tags": []
          },
          "execution_count": 43
        }
      ]
    },
    {
      "cell_type": "code",
      "metadata": {
        "id": "bzlWb0Oh4w8X",
        "outputId": "1d7a9108-657a-45d0-8afe-5333abb942e8",
        "colab": {
          "base_uri": "https://localhost:8080/",
          "height": 34
        }
      },
      "source": [
        "df_ratings.shape"
      ],
      "execution_count": null,
      "outputs": [
        {
          "output_type": "execute_result",
          "data": {
            "text/plain": [
              "(100836, 4)"
            ]
          },
          "metadata": {
            "tags": []
          },
          "execution_count": 44
        }
      ]
    },
    {
      "cell_type": "code",
      "metadata": {
        "id": "3Jw7ntbI4_K-",
        "outputId": "c7608175-8b5b-4542-a900-8475a49fdb0d",
        "colab": {
          "base_uri": "https://localhost:8080/",
          "height": 69
        }
      },
      "source": [
        "lista = [1,2,3,4,5,6]\n",
        "{'persona':{'nombre':'aa', 'Apellido': 'aa','telefonos':{'movil':[1,2,5,4,6,8], 'fijo':[2,5,6]}}}"
      ],
      "execution_count": null,
      "outputs": [
        {
          "output_type": "execute_result",
          "data": {
            "text/plain": [
              "{'persona': {'Apellido': 'aa',\n",
              "  'nombre': 'aa',\n",
              "  'telefonos': {'fijo': [2, 5, 6], 'movil': [1, 2, 5, 4, 6, 8]}}}"
            ]
          },
          "metadata": {
            "tags": []
          },
          "execution_count": 45
        }
      ]
    },
    {
      "cell_type": "code",
      "metadata": {
        "id": "vDMz8ogx9JkQ"
      },
      "source": [
        "dt_ratings_trunc  = df_ratings.head()"
      ],
      "execution_count": null,
      "outputs": []
    },
    {
      "cell_type": "code",
      "metadata": {
        "id": "iVl6MHOd-aPw",
        "outputId": "441a2a66-7ac5-4185-8447-c84575fff111",
        "colab": {
          "base_uri": "https://localhost:8080/",
          "height": 156
        }
      },
      "source": [
        "dt_ratings_trunc.to_dict()"
      ],
      "execution_count": null,
      "outputs": [
        {
          "output_type": "execute_result",
          "data": {
            "text/plain": [
              "{'movieId': {0: 1, 1: 3, 2: 6, 3: 47, 4: 50},\n",
              " 'rating': {0: 4.0, 1: 4.0, 2: 4.0, 3: 5.0, 4: 5.0},\n",
              " 'timestamp': {0: 964982703,\n",
              "  1: 964981247,\n",
              "  2: 964982224,\n",
              "  3: 964983815,\n",
              "  4: 964982931},\n",
              " 'userId': {0: 1, 1: 1, 2: 1, 3: 1, 4: 1}}"
            ]
          },
          "metadata": {
            "tags": []
          },
          "execution_count": 47
        }
      ]
    },
    {
      "cell_type": "code",
      "metadata": {
        "id": "J75QBh7--cJV",
        "outputId": "a6695f0b-80cf-42f6-f456-ecb0ea7b6775",
        "colab": {
          "base_uri": "https://localhost:8080/",
          "height": 269
        }
      },
      "source": [
        "import numpy as np\n",
        "import pandas as pd\n",
        "\n",
        "# Duplicando indices\n",
        "\n",
        "df_ventas = pd.DataFrame({'Oficina': [1,1,1,2,2,2,3,3,3,3],\n",
        "                          'Producto': ['a', 'b', 'c', 'a', 'b', 'c', 'a', 'b', 'c','d'],\n",
        "                          'Valor': np.random.randint(20, size=10)})\n",
        "df_ventas\n",
        "# df_ventas[df_ventas['Oficina'] == 1]\n",
        "\n",
        "df_ventas[df_ventas['Oficina'].isin([1,2])]\n",
        "\n",
        "# Sin duplicar indices\n",
        "\n",
        "df_ventas2 = pd.DataFrame({'Valor': np.random.random(10)}, \n",
        "                         index=[[1,1,1,2,2,2,3,3,3,3], \n",
        "                                ['a', 'b', 'c', 'a', 'b', 'c', 'a', 'b', 'c','d']])\n",
        "df_ventas2 = df_ventas2.rename_axis(['Oficina','Producto'])\n",
        "df_ventas2\n",
        "#df_ventas2.loc[1]\n",
        "df_ventas2.loc[1:2]"
      ],
      "execution_count": null,
      "outputs": [
        {
          "output_type": "execute_result",
          "data": {
            "text/html": [
              "<div>\n",
              "<style scoped>\n",
              "    .dataframe tbody tr th:only-of-type {\n",
              "        vertical-align: middle;\n",
              "    }\n",
              "\n",
              "    .dataframe tbody tr th {\n",
              "        vertical-align: top;\n",
              "    }\n",
              "\n",
              "    .dataframe thead th {\n",
              "        text-align: right;\n",
              "    }\n",
              "</style>\n",
              "<table border=\"1\" class=\"dataframe\">\n",
              "  <thead>\n",
              "    <tr style=\"text-align: right;\">\n",
              "      <th></th>\n",
              "      <th></th>\n",
              "      <th>Valor</th>\n",
              "    </tr>\n",
              "    <tr>\n",
              "      <th>Oficina</th>\n",
              "      <th>Producto</th>\n",
              "      <th></th>\n",
              "    </tr>\n",
              "  </thead>\n",
              "  <tbody>\n",
              "    <tr>\n",
              "      <th rowspan=\"3\" valign=\"top\">1</th>\n",
              "      <th>a</th>\n",
              "      <td>0.841909</td>\n",
              "    </tr>\n",
              "    <tr>\n",
              "      <th>b</th>\n",
              "      <td>0.245543</td>\n",
              "    </tr>\n",
              "    <tr>\n",
              "      <th>c</th>\n",
              "      <td>0.267570</td>\n",
              "    </tr>\n",
              "    <tr>\n",
              "      <th rowspan=\"3\" valign=\"top\">2</th>\n",
              "      <th>a</th>\n",
              "      <td>0.365439</td>\n",
              "    </tr>\n",
              "    <tr>\n",
              "      <th>b</th>\n",
              "      <td>0.503971</td>\n",
              "    </tr>\n",
              "    <tr>\n",
              "      <th>c</th>\n",
              "      <td>0.776845</td>\n",
              "    </tr>\n",
              "  </tbody>\n",
              "</table>\n",
              "</div>"
            ],
            "text/plain": [
              "                     Valor\n",
              "Oficina Producto          \n",
              "1       a         0.841909\n",
              "        b         0.245543\n",
              "        c         0.267570\n",
              "2       a         0.365439\n",
              "        b         0.503971\n",
              "        c         0.776845"
            ]
          },
          "metadata": {
            "tags": []
          },
          "execution_count": 48
        }
      ]
    },
    {
      "cell_type": "code",
      "metadata": {
        "id": "2ju4KURT-9n2",
        "outputId": "d045c3a4-5c48-4703-f700-5b5c3b7479eb",
        "colab": {
          "base_uri": "https://localhost:8080/",
          "height": 238
        }
      },
      "source": [
        "df_ventas[df_ventas['Oficina'].isin([1,2])]"
      ],
      "execution_count": null,
      "outputs": [
        {
          "output_type": "execute_result",
          "data": {
            "text/html": [
              "<div>\n",
              "<style scoped>\n",
              "    .dataframe tbody tr th:only-of-type {\n",
              "        vertical-align: middle;\n",
              "    }\n",
              "\n",
              "    .dataframe tbody tr th {\n",
              "        vertical-align: top;\n",
              "    }\n",
              "\n",
              "    .dataframe thead th {\n",
              "        text-align: right;\n",
              "    }\n",
              "</style>\n",
              "<table border=\"1\" class=\"dataframe\">\n",
              "  <thead>\n",
              "    <tr style=\"text-align: right;\">\n",
              "      <th></th>\n",
              "      <th>Oficina</th>\n",
              "      <th>Producto</th>\n",
              "      <th>Valor</th>\n",
              "    </tr>\n",
              "  </thead>\n",
              "  <tbody>\n",
              "    <tr>\n",
              "      <th>0</th>\n",
              "      <td>1</td>\n",
              "      <td>a</td>\n",
              "      <td>13</td>\n",
              "    </tr>\n",
              "    <tr>\n",
              "      <th>1</th>\n",
              "      <td>1</td>\n",
              "      <td>b</td>\n",
              "      <td>16</td>\n",
              "    </tr>\n",
              "    <tr>\n",
              "      <th>2</th>\n",
              "      <td>1</td>\n",
              "      <td>c</td>\n",
              "      <td>13</td>\n",
              "    </tr>\n",
              "    <tr>\n",
              "      <th>3</th>\n",
              "      <td>2</td>\n",
              "      <td>a</td>\n",
              "      <td>17</td>\n",
              "    </tr>\n",
              "    <tr>\n",
              "      <th>4</th>\n",
              "      <td>2</td>\n",
              "      <td>b</td>\n",
              "      <td>6</td>\n",
              "    </tr>\n",
              "    <tr>\n",
              "      <th>5</th>\n",
              "      <td>2</td>\n",
              "      <td>c</td>\n",
              "      <td>14</td>\n",
              "    </tr>\n",
              "  </tbody>\n",
              "</table>\n",
              "</div>"
            ],
            "text/plain": [
              "   Oficina Producto  Valor\n",
              "0        1        a     13\n",
              "1        1        b     16\n",
              "2        1        c     13\n",
              "3        2        a     17\n",
              "4        2        b      6\n",
              "5        2        c     14"
            ]
          },
          "metadata": {
            "tags": []
          },
          "execution_count": 49
        }
      ]
    },
    {
      "cell_type": "code",
      "metadata": {
        "id": "dsmjiLji_F5-"
      },
      "source": [
        ""
      ],
      "execution_count": null,
      "outputs": []
    }
  ]
}