{
  "nbformat": 4,
  "nbformat_minor": 0,
  "metadata": {
    "colab": {
      "name": "Clase 3 Python básico.ipynb",
      "provenance": [],
      "collapsed_sections": [],
      "include_colab_link": true
    },
    "kernelspec": {
      "name": "python3",
      "display_name": "Python 3"
    }
  },
  "cells": [
    {
      "cell_type": "markdown",
      "metadata": {
        "id": "view-in-github",
        "colab_type": "text"
      },
      "source": [
        "<a href=\"https://colab.research.google.com/github/gtzambranop/UN_2020_2/blob/DCD%2Fweek_4/DCD/module_2_francisco/Clase_3_Python_b%C3%A1sico.ipynb\" target=\"_parent\"><img src=\"https://colab.research.google.com/assets/colab-badge.svg\" alt=\"Open In Colab\"/></a>"
      ]
    },
    {
      "cell_type": "code",
      "metadata": {
        "id": "YX1K2_AUCq6Q",
        "colab_type": "code",
        "colab": {
          "base_uri": "https://localhost:8080/",
          "height": 34
        },
        "outputId": "08c99b41-744a-420e-abb2-3211bb920ca7"
      },
      "source": [
        "0,1,1,2,3,5,8,13"
      ],
      "execution_count": null,
      "outputs": [
        {
          "output_type": "execute_result",
          "data": {
            "text/plain": [
              "(0, 1, 1, 2, 3, 5, 8, 13)"
            ]
          },
          "metadata": {
            "tags": []
          },
          "execution_count": 44
        }
      ]
    },
    {
      "cell_type": "code",
      "metadata": {
        "id": "yO0aFLUvaTCi",
        "colab_type": "code",
        "colab": {
          "base_uri": "https://localhost:8080/",
          "height": 136
        },
        "outputId": "e225e62d-611e-4517-d271-190b2174dbd9"
      },
      "source": [
        "limite_superior = 15\n",
        "\n",
        "# Se definen los a en cero y b como el primer valor de la secuencia de Fibonacci\n",
        "a, b = 0, 1\n",
        "\n",
        "while b < limite_superior: # b < limite suerior define cual es el punto a partir del cual no se imprimiran valores\n",
        "    print(b),\n",
        "    b, a = a + b, b # Nota: estoy asignando dos variables al mismo tiempo\n",
        "    #b = a + b\n",
        "    #a = b    "
      ],
      "execution_count": null,
      "outputs": [
        {
          "output_type": "stream",
          "text": [
            "1\n",
            "1\n",
            "2\n",
            "3\n",
            "5\n",
            "8\n",
            "13\n"
          ],
          "name": "stdout"
        }
      ]
    },
    {
      "cell_type": "code",
      "metadata": {
        "id": "CpO5dapqbq7B",
        "colab_type": "code",
        "colab": {
          "base_uri": "https://localhost:8080/",
          "height": 34
        },
        "outputId": "bce6266d-49c8-45ea-c685-1b4d52718dae"
      },
      "source": [
        "list(range(5))"
      ],
      "execution_count": null,
      "outputs": [
        {
          "output_type": "execute_result",
          "data": {
            "text/plain": [
              "[0, 1, 2, 3, 4]"
            ]
          },
          "metadata": {
            "tags": []
          },
          "execution_count": 46
        }
      ]
    },
    {
      "cell_type": "code",
      "metadata": {
        "id": "OoPQGfIibNhz",
        "colab_type": "code",
        "colab": {
          "base_uri": "https://localhost:8080/",
          "height": 102
        },
        "outputId": "9a56f055-b88e-473d-f9d8-bff3cdfad5f5"
      },
      "source": [
        "# Se ejecuta el ciclo 5 veces\n",
        "for i in range(5):    \n",
        "    print(i * i)\n",
        "#    print(i)"
      ],
      "execution_count": null,
      "outputs": [
        {
          "output_type": "stream",
          "text": [
            "0\n",
            "1\n",
            "4\n",
            "9\n",
            "16\n"
          ],
          "name": "stdout"
        }
      ]
    },
    {
      "cell_type": "code",
      "metadata": {
        "id": "aLGknypKbosy",
        "colab_type": "code",
        "colab": {
          "base_uri": "https://localhost:8080/",
          "height": 85
        },
        "outputId": "a5904efe-2456-4bcd-9a3b-443bbcf689f1"
      },
      "source": [
        "nombres = ['Mario', 'Mariana', 'Gustavo', 'Francisco']\n",
        "\n",
        "for nombre in nombres: # Accede directamente al valor no mediante un indice\n",
        "    print('El nombre {} tiene {} caracteres'.format(nombre, len(nombre)))"
      ],
      "execution_count": null,
      "outputs": [
        {
          "output_type": "stream",
          "text": [
            "El nombre Mario tiene 5 caracteres\n",
            "El nombre Mariana tiene 7 caracteres\n",
            "El nombre Gustavo tiene 7 caracteres\n",
            "El nombre Francisco tiene 9 caracteres\n"
          ],
          "name": "stdout"
        }
      ]
    },
    {
      "cell_type": "code",
      "metadata": {
        "id": "NzfCeGvvfUmw",
        "colab_type": "code",
        "colab": {}
      },
      "source": [
        ""
      ],
      "execution_count": null,
      "outputs": []
    },
    {
      "cell_type": "code",
      "metadata": {
        "id": "RCdwd88Eb_KP",
        "colab_type": "code",
        "colab": {
          "base_uri": "https://localhost:8080/",
          "height": 323
        },
        "outputId": "d124ce27-9aa5-4106-9434-59acd05b157c"
      },
      "source": [
        "frase = 'Somos lo que hacemos de forma repetida. La excelencia, entonces, no es un acto, sino un hábito. Aristóteles'\n",
        "lista_palabras = frase.split(' ') # Transforma una cadena en una lista de cadenas\n",
        "#lista_palabras\n",
        "longitud = len(lista_palabras) \n",
        "\n",
        "for i in range(longitud): # Se itera basado en índice no en el valor\n",
        "    print('La palabra \"{}\" se encuentra como {}-esima palabra la frase'.format(lista_palabras[i], i+1))"
      ],
      "execution_count": null,
      "outputs": [
        {
          "output_type": "stream",
          "text": [
            "La palabra \"Somos\" se encuentra como 1-esima palabra la frase\n",
            "La palabra \"lo\" se encuentra como 2-esima palabra la frase\n",
            "La palabra \"que\" se encuentra como 3-esima palabra la frase\n",
            "La palabra \"hacemos\" se encuentra como 4-esima palabra la frase\n",
            "La palabra \"de\" se encuentra como 5-esima palabra la frase\n",
            "La palabra \"forma\" se encuentra como 6-esima palabra la frase\n",
            "La palabra \"repetida.\" se encuentra como 7-esima palabra la frase\n",
            "La palabra \"La\" se encuentra como 8-esima palabra la frase\n",
            "La palabra \"excelencia,\" se encuentra como 9-esima palabra la frase\n",
            "La palabra \"entonces,\" se encuentra como 10-esima palabra la frase\n",
            "La palabra \"no\" se encuentra como 11-esima palabra la frase\n",
            "La palabra \"es\" se encuentra como 12-esima palabra la frase\n",
            "La palabra \"un\" se encuentra como 13-esima palabra la frase\n",
            "La palabra \"acto,\" se encuentra como 14-esima palabra la frase\n",
            "La palabra \"sino\" se encuentra como 15-esima palabra la frase\n",
            "La palabra \"un\" se encuentra como 16-esima palabra la frase\n",
            "La palabra \"hábito.\" se encuentra como 17-esima palabra la frase\n",
            "La palabra \"Aristóteles\" se encuentra como 18-esima palabra la frase\n"
          ],
          "name": "stdout"
        }
      ]
    },
    {
      "cell_type": "code",
      "metadata": {
        "id": "Jw2ODkF1dNsx",
        "colab_type": "code",
        "colab": {
          "base_uri": "https://localhost:8080/",
          "height": 323
        },
        "outputId": "48e76bbc-c628-4ca1-e727-df87a5eef0e7"
      },
      "source": [
        "frase = 'Somos lo que hacemos de forma repetida. La excelencia, entonces, no es un acto, sino un hábito. Aristóteles'\n",
        "lista_palabras = frase.split(' ')\n",
        "# enumerate construye una lista de tuplas, donde la pripera parte de la tupla\n",
        "# es el indice y la segunda el valor\n",
        "for i, palabra in enumerate(lista_palabras): \n",
        "    print('La palabra \"{}\" se encuentra en la posición {} en la frase'.format(palabra, i + 1))"
      ],
      "execution_count": null,
      "outputs": [
        {
          "output_type": "stream",
          "text": [
            "La palabra \"Somos\" se encuentra en la posición 1 en la frase\n",
            "La palabra \"lo\" se encuentra en la posición 2 en la frase\n",
            "La palabra \"que\" se encuentra en la posición 3 en la frase\n",
            "La palabra \"hacemos\" se encuentra en la posición 4 en la frase\n",
            "La palabra \"de\" se encuentra en la posición 5 en la frase\n",
            "La palabra \"forma\" se encuentra en la posición 6 en la frase\n",
            "La palabra \"repetida.\" se encuentra en la posición 7 en la frase\n",
            "La palabra \"La\" se encuentra en la posición 8 en la frase\n",
            "La palabra \"excelencia,\" se encuentra en la posición 9 en la frase\n",
            "La palabra \"entonces,\" se encuentra en la posición 10 en la frase\n",
            "La palabra \"no\" se encuentra en la posición 11 en la frase\n",
            "La palabra \"es\" se encuentra en la posición 12 en la frase\n",
            "La palabra \"un\" se encuentra en la posición 13 en la frase\n",
            "La palabra \"acto,\" se encuentra en la posición 14 en la frase\n",
            "La palabra \"sino\" se encuentra en la posición 15 en la frase\n",
            "La palabra \"un\" se encuentra en la posición 16 en la frase\n",
            "La palabra \"hábito.\" se encuentra en la posición 17 en la frase\n",
            "La palabra \"Aristóteles\" se encuentra en la posición 18 en la frase\n"
          ],
          "name": "stdout"
        }
      ]
    },
    {
      "cell_type": "code",
      "metadata": {
        "id": "obHFqWbaeuJm",
        "colab_type": "code",
        "colab": {
          "base_uri": "https://localhost:8080/",
          "height": 68
        },
        "outputId": "adbfbe37-5a54-437e-d766-3857a7abec61"
      },
      "source": [
        "var = [(1,'a'), (2,'b'), (3,'c')]\n",
        "for i, palabra in var:\n",
        "  print('{},{}'.format(i,palabra))"
      ],
      "execution_count": null,
      "outputs": [
        {
          "output_type": "stream",
          "text": [
            "1,a\n",
            "2,b\n",
            "3,c\n"
          ],
          "name": "stdout"
        }
      ]
    },
    {
      "cell_type": "markdown",
      "metadata": {
        "id": "8H-dNSP7gUUS",
        "colab_type": "text"
      },
      "source": [
        "For anidados"
      ]
    },
    {
      "cell_type": "code",
      "metadata": {
        "id": "6CXlIvp5e-zc",
        "colab_type": "code",
        "colab": {
          "base_uri": "https://localhost:8080/",
          "height": 221
        },
        "outputId": "4c65e8f8-5615-4c36-ec61-a8c4aff7fb1c"
      },
      "source": [
        "for i in [[1,2],[2,4],[5,6]]:\n",
        "  print('-'*20)\n",
        "  print(i)\n",
        "  for j in i:\n",
        "    print(j)"
      ],
      "execution_count": null,
      "outputs": [
        {
          "output_type": "stream",
          "text": [
            "--------------------\n",
            "[1, 2]\n",
            "1\n",
            "2\n",
            "--------------------\n",
            "[2, 4]\n",
            "2\n",
            "4\n",
            "--------------------\n",
            "[5, 6]\n",
            "5\n",
            "6\n"
          ],
          "name": "stdout"
        }
      ]
    },
    {
      "cell_type": "code",
      "metadata": {
        "id": "VZqcAb7bfnE9",
        "colab_type": "code",
        "colab": {
          "base_uri": "https://localhost:8080/",
          "height": 119
        },
        "outputId": "281e2f3b-079f-4e0f-d832-ca6020d3f7f7"
      },
      "source": [
        "dic = {'Nombre': 'Francisco', 'Apellido': 'Ospina', 'Edad': 37, 'Genero': 'Masculino', 'Profesion': 'Data Scientist', 'Nacionalidad': 'Colombiana'}\n",
        "\n",
        "# Iterar Llaves\n",
        "for key in dic.keys():\n",
        "    print(key)"
      ],
      "execution_count": null,
      "outputs": [
        {
          "output_type": "stream",
          "text": [
            "Nombre\n",
            "Apellido\n",
            "Edad\n",
            "Genero\n",
            "Profesion\n",
            "Nacionalidad\n"
          ],
          "name": "stdout"
        }
      ]
    },
    {
      "cell_type": "code",
      "metadata": {
        "id": "aucjZYrsgslF",
        "colab_type": "code",
        "colab": {
          "base_uri": "https://localhost:8080/",
          "height": 119
        },
        "outputId": "99882764-36db-412c-a0ba-299235276a08"
      },
      "source": [
        "# Iterar valores\n",
        "for value in dic.values():\n",
        "    print(value)"
      ],
      "execution_count": null,
      "outputs": [
        {
          "output_type": "stream",
          "text": [
            "Francisco\n",
            "Ospina\n",
            "37\n",
            "Masculino\n",
            "Data Scientist\n",
            "Colombiana\n"
          ],
          "name": "stdout"
        }
      ]
    },
    {
      "cell_type": "code",
      "metadata": {
        "id": "AIGg8UPghLng",
        "colab_type": "code",
        "colab": {
          "base_uri": "https://localhost:8080/",
          "height": 119
        },
        "outputId": "4ff5eae2-a828-4044-cbab-a81fdf68bd25"
      },
      "source": [
        "# La función items() retorna una lista de tuplas donde el primer valor de la tupla es la llave\n",
        "# y el segundo valor de la tupla el valor\n",
        "for key, value in dic.items(): \n",
        "    print('La llave es \"{}\" y el valor es \"{}\"'.format(key, value))"
      ],
      "execution_count": null,
      "outputs": [
        {
          "output_type": "stream",
          "text": [
            "La llave es \"Nombre\" y el valor es \"Francisco\"\n",
            "La llave es \"Apellido\" y el valor es \"Ospina\"\n",
            "La llave es \"Edad\" y el valor es \"37\"\n",
            "La llave es \"Genero\" y el valor es \"Masculino\"\n",
            "La llave es \"Profesion\" y el valor es \"Data Scientist\"\n",
            "La llave es \"Nacionalidad\" y el valor es \"Colombiana\"\n"
          ],
          "name": "stdout"
        }
      ]
    },
    {
      "cell_type": "code",
      "metadata": {
        "id": "Krx9LDVEhg0b",
        "colab_type": "code",
        "colab": {
          "base_uri": "https://localhost:8080/",
          "height": 51
        },
        "outputId": "ed43226c-3f31-4c69-d5d1-3969d93cf621"
      },
      "source": [
        "# Ejemplo lista normal\n",
        "\n",
        "numeros = range(1, 11)\n",
        "cuadrados = list() # Define lista nula para ser llenada en el for\n",
        "for i in numeros:\n",
        "    cuadrados.append(i ** 2) # Añade a la lista cuadrados el cuadrado de valor del bucle for\n",
        "    \n",
        "print(list(numeros))\n",
        "print(cuadrados)"
      ],
      "execution_count": null,
      "outputs": [
        {
          "output_type": "stream",
          "text": [
            "[1, 2, 3, 4, 5, 6, 7, 8, 9, 10]\n",
            "[1, 4, 9, 16, 25, 36, 49, 64, 81, 100]\n"
          ],
          "name": "stdout"
        }
      ]
    },
    {
      "cell_type": "code",
      "metadata": {
        "id": "lqDuq9zhhxwV",
        "colab_type": "code",
        "colab": {
          "base_uri": "https://localhost:8080/",
          "height": 51
        },
        "outputId": "29f52720-859d-4a11-91c8-1e66a8d993b5"
      },
      "source": [
        "# Mismo ejemplo pero con lista por comprensión\n",
        "\n",
        "numeros = range(1, 11)\n",
        "cuadrados = [x ** 2 for x in numeros]\n",
        "\n",
        "print(list(numeros))\n",
        "print(cuadrados)"
      ],
      "execution_count": null,
      "outputs": [
        {
          "output_type": "stream",
          "text": [
            "[1, 2, 3, 4, 5, 6, 7, 8, 9, 10]\n",
            "[1, 4, 9, 16, 25, 36, 49, 64, 81, 100]\n"
          ],
          "name": "stdout"
        }
      ]
    },
    {
      "cell_type": "code",
      "metadata": {
        "id": "dU1UIvHFiknz",
        "colab_type": "code",
        "colab": {
          "base_uri": "https://localhost:8080/",
          "height": 51
        },
        "outputId": "e9bdcd0b-8442-41a8-9154-24989bb0bc98"
      },
      "source": [
        "# Ejemplo lista por comprensión\n",
        "\n",
        "numeros = range(1, 11)\n",
        "pares = [x for x in numeros if x % 2 == 0] # Lista por comprensión con if\n",
        "\n",
        "print(list(numeros))\n",
        "print(pares)"
      ],
      "execution_count": null,
      "outputs": [
        {
          "output_type": "stream",
          "text": [
            "[1, 2, 3, 4, 5, 6, 7, 8, 9, 10]\n",
            "[2, 4, 6, 8, 10]\n"
          ],
          "name": "stdout"
        }
      ]
    },
    {
      "cell_type": "code",
      "metadata": {
        "id": "RdrTBe_CiviV",
        "colab_type": "code",
        "colab": {
          "base_uri": "https://localhost:8080/",
          "height": 34
        },
        "outputId": "dfcff9be-b37f-4383-9b87-970081bb64e0"
      },
      "source": [
        "base = [1, 2, 6, 4, 7]\n",
        "exponente = [2, 1, 3, 4, 8]\n",
        "\n",
        "potencia = [x ** y for x,y in zip(base, exponente)]\n",
        "\n",
        "print(potencia)"
      ],
      "execution_count": null,
      "outputs": [
        {
          "output_type": "stream",
          "text": [
            "[1, 2, 216, 256, 5764801]\n"
          ],
          "name": "stdout"
        }
      ]
    },
    {
      "cell_type": "code",
      "metadata": {
        "id": "mcghlX3kjkQz",
        "colab_type": "code",
        "colab": {}
      },
      "source": [
        "# Ejemplo de definición función\n",
        "\n",
        "def imprimir_hola(): # Una función tiene un nombre\n",
        "    print('hola') # Todo lo que dentro de la identación es código que la función ejecuta"
      ],
      "execution_count": null,
      "outputs": []
    },
    {
      "cell_type": "code",
      "metadata": {
        "id": "dmZEplfnqMdz",
        "colab_type": "code",
        "colab": {
          "base_uri": "https://localhost:8080/",
          "height": 34
        },
        "outputId": "2ab1f6ef-8fa8-4eec-9d5c-33209419f5f2"
      },
      "source": [
        "# El llamado a una función se realiza con su nombre seguido de parentesis, si la función recibe parámetros\n",
        "# estos deben ir entre los parentesis.\n",
        "imprimir_hola()"
      ],
      "execution_count": null,
      "outputs": [
        {
          "output_type": "stream",
          "text": [
            "hola\n"
          ],
          "name": "stdout"
        }
      ]
    },
    {
      "cell_type": "code",
      "metadata": {
        "id": "O6KNbO_mqWyp",
        "colab_type": "code",
        "colab": {}
      },
      "source": [
        "# Ejemplo de función\n",
        "from datetime import datetime as dt\n",
        "\n",
        "def concatena_textos(param1, param2): # Definición nombre y parámetros de entrada\n",
        "    \n",
        "    now = dt.now() # Creación de variables internas dentro de la función\n",
        "    print('La función se ejecutó a las {}'.format(now)) # Sentencias que cumplen algún proposito\n",
        "    \n",
        "    retorno_concat = param1 + ' ' + param2 # retorno de la función\n",
        "    \n",
        "    return retorno_concat"
      ],
      "execution_count": null,
      "outputs": []
    },
    {
      "cell_type": "code",
      "metadata": {
        "id": "0HWjEpCDq6aU",
        "colab_type": "code",
        "colab": {
          "base_uri": "https://localhost:8080/",
          "height": 34
        },
        "outputId": "596255a7-df9b-460c-ab9c-ba6cfd44cd5f"
      },
      "source": [
        "retorno_funcion = concatena_textos('Hola', 'Mundo')"
      ],
      "execution_count": null,
      "outputs": [
        {
          "output_type": "stream",
          "text": [
            "La función se ejecutó a las 2020-09-19 03:45:34.656810\n"
          ],
          "name": "stdout"
        }
      ]
    },
    {
      "cell_type": "code",
      "metadata": {
        "id": "kFO7fh1MrAD4",
        "colab_type": "code",
        "colab": {
          "base_uri": "https://localhost:8080/",
          "height": 35
        },
        "outputId": "9681496d-f79e-4a86-881e-748cdcdfbbdc"
      },
      "source": [
        "retorno_funcion"
      ],
      "execution_count": null,
      "outputs": [
        {
          "output_type": "execute_result",
          "data": {
            "application/vnd.google.colaboratory.intrinsic+json": {
              "type": "string"
            },
            "text/plain": [
              "'Hola Mundo'"
            ]
          },
          "metadata": {
            "tags": []
          },
          "execution_count": 64
        }
      ]
    },
    {
      "cell_type": "code",
      "metadata": {
        "id": "dHVXTjYzrMWK",
        "colab_type": "code",
        "colab": {}
      },
      "source": [
        "def menor(a,b):\n",
        "  if a < b:\n",
        "    return a\n",
        "  else:\n",
        "    return b"
      ],
      "execution_count": null,
      "outputs": []
    },
    {
      "cell_type": "code",
      "metadata": {
        "id": "lGXFega-rgt0",
        "colab_type": "code",
        "colab": {}
      },
      "source": [
        "num_menor = menor(7,5)"
      ],
      "execution_count": null,
      "outputs": []
    },
    {
      "cell_type": "code",
      "metadata": {
        "id": "MmaW3B_4rraE",
        "colab_type": "code",
        "colab": {
          "base_uri": "https://localhost:8080/",
          "height": 35
        },
        "outputId": "e7eb04fc-feeb-478e-e857-40564f2e7329"
      },
      "source": [
        "'el numero menor es: {}'.format(num_menor)"
      ],
      "execution_count": null,
      "outputs": [
        {
          "output_type": "execute_result",
          "data": {
            "application/vnd.google.colaboratory.intrinsic+json": {
              "type": "string"
            },
            "text/plain": [
              "'el numero menor es: 5'"
            ]
          },
          "metadata": {
            "tags": []
          },
          "execution_count": 67
        }
      ]
    },
    {
      "cell_type": "code",
      "metadata": {
        "id": "VWk8GuRvsCc_",
        "colab_type": "code",
        "colab": {
          "base_uri": "https://localhost:8080/",
          "height": 34
        },
        "outputId": "b6f7f82d-68a2-45be-97ea-ea5091580526"
      },
      "source": [
        "def menor(a,b):\n",
        "  if a < b:\n",
        "    print(a)\n",
        "  else:\n",
        "    print(b)\n",
        "\n",
        "num_menor is None"
      ],
      "execution_count": null,
      "outputs": [
        {
          "output_type": "execute_result",
          "data": {
            "text/plain": [
              "False"
            ]
          },
          "metadata": {
            "tags": []
          },
          "execution_count": 68
        }
      ]
    },
    {
      "cell_type": "code",
      "metadata": {
        "id": "VJAL6eqWslDW",
        "colab_type": "code",
        "colab": {
          "base_uri": "https://localhost:8080/",
          "height": 34
        },
        "outputId": "8d30ad1d-6c0b-46ed-aa40-b506958a0e30"
      },
      "source": [
        "# Ejemplo de función\n",
        "from datetime import datetime as dt\n",
        "\n",
        "a = 20\n",
        "#print(a)\n",
        "\n",
        "def concatena_textos(param1, param2): # Definición nombre y parámetros de entrada\n",
        "    \n",
        "    now = dt.now() # Creación de variables internas dentro de la función\n",
        "    print('La función se ejecutó a las {}'.format(now)) # Sentencias que cumplen algún proposito\n",
        "    #print(a)\n",
        "    \n",
        "    retorno_concat = param1 + ' ' + param2 # retorno de la funcióm\n",
        "    \n",
        "    return retorno_concat\n",
        "\n",
        "resultado = concatena_textos('Hola', 'Mundo')\n",
        "#print(now) # Error ya que la variable now vive solo dentro de la función"
      ],
      "execution_count": null,
      "outputs": [
        {
          "output_type": "stream",
          "text": [
            "La función se ejecutó a las 2020-09-19 03:45:34.722022\n"
          ],
          "name": "stdout"
        }
      ]
    },
    {
      "cell_type": "code",
      "metadata": {
        "id": "ev5vBLnjsw61",
        "colab_type": "code",
        "colab": {
          "base_uri": "https://localhost:8080/",
          "height": 85
        },
        "outputId": "8a2fbe23-dcd5-47a5-fd35-80f3e58584fc"
      },
      "source": [
        "a = 20\n",
        "print(a)\n",
        "\n",
        "def concatena_textos(param1, param2): # Definición nombre y parámetros de entrada\n",
        "    \n",
        "    now = dt.now() # Creación de variables internas dentro de la función\n",
        "    print('La función se ejecutó a las {}'.format(now)) # Sentencias que cumplen algún proposito\n",
        "    #a = 7\n",
        "    print(a * 5)\n",
        "     \n",
        "    retorno_concat = param1 + ' ' + param2 # retorno de la funcióm\n",
        "    \n",
        "    return a\n",
        "\n",
        "concatena_textos('Hola', 'Mundo')\n",
        "print(a)"
      ],
      "execution_count": null,
      "outputs": [
        {
          "output_type": "stream",
          "text": [
            "20\n",
            "La función se ejecutó a las 2020-09-19 03:45:34.737528\n",
            "100\n",
            "20\n"
          ],
          "name": "stdout"
        }
      ]
    },
    {
      "cell_type": "code",
      "metadata": {
        "id": "1SzARJ0ntmAe",
        "colab_type": "code",
        "colab": {
          "base_uri": "https://localhost:8080/",
          "height": 69
        },
        "outputId": "45da3940-e734-4d5b-aecc-16e00f043016"
      },
      "source": [
        "a = '7'\n",
        "concatena_textos('Hola', 'Mundo')"
      ],
      "execution_count": null,
      "outputs": [
        {
          "output_type": "stream",
          "text": [
            "La función se ejecutó a las 2020-09-19 03:45:34.749080\n",
            "77777\n"
          ],
          "name": "stdout"
        },
        {
          "output_type": "execute_result",
          "data": {
            "application/vnd.google.colaboratory.intrinsic+json": {
              "type": "string"
            },
            "text/plain": [
              "'7'"
            ]
          },
          "metadata": {
            "tags": []
          },
          "execution_count": 71
        }
      ]
    },
    {
      "cell_type": "markdown",
      "metadata": {
        "id": "YlD4TbkduU-J",
        "colab_type": "text"
      },
      "source": [
        "## Docstrings"
      ]
    },
    {
      "cell_type": "code",
      "metadata": {
        "id": "eyfd6Bh8t7cc",
        "colab_type": "code",
        "colab": {}
      },
      "source": [
        "# Ejemplo de función\n",
        "from datetime import datetime as dt\n",
        "\n",
        "def concatena_textos2(param1, param2): # Definición nombre y parámetros de entrada\n",
        "    '''\n",
        "    imprime_parametros(string, string)\n",
        "    \n",
        "    Concatena dos textos separados por un espacio.\n",
        "    \n",
        "    Parámetros\n",
        "    ----------\n",
        "    param1 : string\n",
        "    \n",
        "    param2 : string\n",
        "    \n",
        "    Retorno\n",
        "    ----------\n",
        "    out : String\n",
        "        Cadena resultante de concatenar las dos cadenas \n",
        "        entrantes añadiendo un espacio en blanco en el medio\n",
        "\n",
        "    Ejemplos\n",
        "    --------\n",
        "    [in] imprime_parametros('Francisco', 'Ospina')\n",
        "    [out] 'Francisco Ospina'\n",
        "    '''\n",
        "    \n",
        "    now = dt.now() # Creación de variables internas dentro de la función\n",
        "    print('La función se ejecutó a las {}'.format(now)) # Sentencias que cumplen algún proposito\n",
        "    \n",
        "    retorno_concat = param1 + ' ' + param2 # retorno de la funcióm\n",
        "    \n",
        "    return retorno_concat"
      ],
      "execution_count": null,
      "outputs": []
    },
    {
      "cell_type": "code",
      "metadata": {
        "id": "ZIoRr9_Nun-Z",
        "colab_type": "code",
        "colab": {}
      },
      "source": [
        "# Celda para mirar el docstring\n",
        "# concatena_textos2()"
      ],
      "execution_count": null,
      "outputs": []
    },
    {
      "cell_type": "code",
      "metadata": {
        "id": "NVIJIdciutvO",
        "colab_type": "code",
        "colab": {}
      },
      "source": [
        "def multiple_impresion(texto, repeticiones=2):\n",
        "    for i in range(repeticiones): # Bucle para imprimier multiples veces el mismo texto\n",
        "        print(texto)"
      ],
      "execution_count": null,
      "outputs": []
    },
    {
      "cell_type": "code",
      "metadata": {
        "id": "Ou4B6l9FvHgX",
        "colab_type": "code",
        "colab": {
          "base_uri": "https://localhost:8080/",
          "height": 102
        },
        "outputId": "e71c2b3c-bca3-4654-8a9c-4251585c15c0"
      },
      "source": [
        "multiple_impresion('Hola', 5)"
      ],
      "execution_count": null,
      "outputs": [
        {
          "output_type": "stream",
          "text": [
            "Hola\n",
            "Hola\n",
            "Hola\n",
            "Hola\n",
            "Hola\n"
          ],
          "name": "stdout"
        }
      ]
    },
    {
      "cell_type": "code",
      "metadata": {
        "id": "c-AMIOX6vL13",
        "colab_type": "code",
        "colab": {}
      },
      "source": [
        "#multiple_impresion('Hola')\n",
        "#multiple_impresion('Hola', 2)\n",
        "#multiple_impresion(texto='Hola', repeticiones=2)\n",
        "#multiple_impresion('Hola', repeticiones=2)\n",
        "#multiple_impresion(repeticiones=2, 'Hola')\n",
        "#multiple_impresion(repeticiones=2, texto='Hola')"
      ],
      "execution_count": null,
      "outputs": []
    },
    {
      "cell_type": "code",
      "metadata": {
        "id": "RZi1XLrCv1az",
        "colab_type": "code",
        "colab": {
          "base_uri": "https://localhost:8080/",
          "height": 51
        },
        "outputId": "7b68159e-b530-4037-cb91-ee5b371632ed"
      },
      "source": [
        "def retorna_menor_mayor(a, b):\n",
        "    if a < b:\n",
        "        return a, b # A pesar de no tener parentesis se está retornando es una tupla\n",
        "    else :\n",
        "        return b, a\n",
        "\n",
        "menor, mayor = retorna_menor_mayor(5,7)\n",
        "print(menor)\n",
        "print(mayor)"
      ],
      "execution_count": null,
      "outputs": [
        {
          "output_type": "stream",
          "text": [
            "5\n",
            "7\n"
          ],
          "name": "stdout"
        }
      ]
    },
    {
      "cell_type": "code",
      "metadata": {
        "id": "JrfFuuL5w5jN",
        "colab_type": "code",
        "colab": {
          "base_uri": "https://localhost:8080/",
          "height": 34
        },
        "outputId": "423323bc-1e4d-4d7e-96c4-329dd7b8d3bb"
      },
      "source": [
        "retorna_menor_mayor(7,5)"
      ],
      "execution_count": null,
      "outputs": [
        {
          "output_type": "execute_result",
          "data": {
            "text/plain": [
              "(5, 7)"
            ]
          },
          "metadata": {
            "tags": []
          },
          "execution_count": 78
        }
      ]
    },
    {
      "cell_type": "code",
      "metadata": {
        "id": "SESUGoDRxCiQ",
        "colab_type": "code",
        "colab": {}
      },
      "source": [
        "menor, mayor = (5,7)"
      ],
      "execution_count": null,
      "outputs": []
    },
    {
      "cell_type": "code",
      "metadata": {
        "id": "frBTNov8xHZg",
        "colab_type": "code",
        "colab": {}
      },
      "source": [
        ""
      ],
      "execution_count": null,
      "outputs": []
    },
    {
      "cell_type": "markdown",
      "metadata": {
        "id": "Z-54XSVRy4yG",
        "colab_type": "text"
      },
      "source": [
        "Escriba una función que reciba una cadena de carácteres y retorne un diccionario donde las llaves del diccionario sean cada uno de los caracteres de la cadena y el valor del diccionario sean la cantidad de veces que se repite ese caracter."
      ]
    },
    {
      "cell_type": "code",
      "metadata": {
        "id": "9hokWwSRy5ew",
        "colab_type": "code",
        "colab": {}
      },
      "source": [
        "def conteo_caracteres(cadena):\n",
        "  dc_conteos = {}\n",
        "  for caracter in cadena:\n",
        "    if caracter in dc_conteos.keys():\n",
        "      dc_conteos[caracter] = dc_conteos[caracter] + 1\n",
        "    else:\n",
        "      dc_conteos[caracter] = 1\n",
        "  return dc_conteos"
      ],
      "execution_count": null,
      "outputs": []
    },
    {
      "cell_type": "code",
      "metadata": {
        "id": "O1GxiN29zqmu",
        "colab_type": "code",
        "colab": {
          "base_uri": "https://localhost:8080/",
          "height": 323
        },
        "outputId": "6309d2a5-c889-40b5-bfce-f7a623354784"
      },
      "source": [
        "cadena = 'Este es el curso de python basico'\n",
        "conteo_caracteres(cadena)"
      ],
      "execution_count": null,
      "outputs": [
        {
          "output_type": "execute_result",
          "data": {
            "text/plain": [
              "{' ': 6,\n",
              " 'E': 1,\n",
              " 'a': 1,\n",
              " 'b': 1,\n",
              " 'c': 2,\n",
              " 'd': 1,\n",
              " 'e': 4,\n",
              " 'h': 1,\n",
              " 'i': 1,\n",
              " 'l': 1,\n",
              " 'n': 1,\n",
              " 'o': 3,\n",
              " 'p': 1,\n",
              " 'r': 1,\n",
              " 's': 4,\n",
              " 't': 2,\n",
              " 'u': 1,\n",
              " 'y': 1}"
            ]
          },
          "metadata": {
            "tags": []
          },
          "execution_count": 81
        }
      ]
    },
    {
      "cell_type": "code",
      "metadata": {
        "id": "t6bsLNWZzsC3",
        "colab_type": "code",
        "colab": {}
      },
      "source": [
        "dc = {}"
      ],
      "execution_count": null,
      "outputs": []
    },
    {
      "cell_type": "code",
      "metadata": {
        "id": "7OvM7XNu0J2i",
        "colab_type": "code",
        "colab": {}
      },
      "source": [
        "dc['E'] = 1"
      ],
      "execution_count": null,
      "outputs": []
    },
    {
      "cell_type": "code",
      "metadata": {
        "id": "gAZFSNom0MSR",
        "colab_type": "code",
        "colab": {
          "base_uri": "https://localhost:8080/",
          "height": 34
        },
        "outputId": "bf45199a-481a-4fd8-c779-55b68e9fbfd9"
      },
      "source": [
        "dc"
      ],
      "execution_count": null,
      "outputs": [
        {
          "output_type": "execute_result",
          "data": {
            "text/plain": [
              "{'E': 1}"
            ]
          },
          "metadata": {
            "tags": []
          },
          "execution_count": 84
        }
      ]
    },
    {
      "cell_type": "code",
      "metadata": {
        "id": "X25OsEBm0M7c",
        "colab_type": "code",
        "colab": {}
      },
      "source": [
        "cadena = 'Hola mundo'"
      ],
      "execution_count": null,
      "outputs": []
    },
    {
      "cell_type": "code",
      "metadata": {
        "id": "5rLaCdLF2eYJ",
        "colab_type": "code",
        "colab": {
          "base_uri": "https://localhost:8080/",
          "height": 35
        },
        "outputId": "9e917eed-3a72-49e2-f31c-9bc2c9323255"
      },
      "source": [
        "cadena[::-1]"
      ],
      "execution_count": null,
      "outputs": [
        {
          "output_type": "execute_result",
          "data": {
            "application/vnd.google.colaboratory.intrinsic+json": {
              "type": "string"
            },
            "text/plain": [
              "'odnum aloH'"
            ]
          },
          "metadata": {
            "tags": []
          },
          "execution_count": 86
        }
      ]
    },
    {
      "cell_type": "code",
      "metadata": {
        "id": "OJgG9D9t2hH_",
        "colab_type": "code",
        "colab": {}
      },
      "source": [
        "a = [1,2,3,45,8,7,6,4,2]"
      ],
      "execution_count": null,
      "outputs": []
    },
    {
      "cell_type": "code",
      "metadata": {
        "id": "CvgDOxMy7uyw",
        "colab_type": "code",
        "colab": {
          "base_uri": "https://localhost:8080/",
          "height": 34
        },
        "outputId": "d65b536c-e796-4127-dc13-bcae4deb89b5"
      },
      "source": [
        "a.sort()\n",
        "a"
      ],
      "execution_count": null,
      "outputs": [
        {
          "output_type": "execute_result",
          "data": {
            "text/plain": [
              "[1, 2, 2, 3, 4, 6, 7, 8, 45]"
            ]
          },
          "metadata": {
            "tags": []
          },
          "execution_count": 88
        }
      ]
    },
    {
      "cell_type": "code",
      "metadata": {
        "id": "RfFcoAXL7zRn",
        "colab_type": "code",
        "colab": {}
      },
      "source": [
        ""
      ],
      "execution_count": null,
      "outputs": []
    }
  ]
}