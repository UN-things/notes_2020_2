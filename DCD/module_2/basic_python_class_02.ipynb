{
  "nbformat": 4,
  "nbformat_minor": 0,
  "metadata": {
    "colab": {
      "name": "basic_python_class_02.ipynb",
      "provenance": [],
      "collapsed_sections": [
        "k6edHRaIgBmk"
      ],
      "include_colab_link": true
    },
    "kernelspec": {
      "name": "python3",
      "display_name": "Python 3"
    }
  },
  "cells": [
    {
      "cell_type": "markdown",
      "metadata": {
        "id": "view-in-github",
        "colab_type": "text"
      },
      "source": [
        "<a href=\"https://colab.research.google.com/github/gtzambranop/UN_2020_2/blob/DCD%2Fweek_4/DCD/module_2/basic_python_class_02.ipynb\" target=\"_parent\"><img src=\"https://colab.research.google.com/assets/colab-badge.svg\" alt=\"Open In Colab\"/></a>"
      ]
    },
    {
      "cell_type": "markdown",
      "metadata": {
        "id": "9NIt06jTqxUR",
        "colab_type": "text"
      },
      "source": [
        "# **\"Pyhton Básico\"**\n",
        "\n",
        "* **Profesor:** Francisco Javier Ospina Salazar\n",
        "* **Monitoras:**\n",
        "  - Diana Carolina Sanchez Perez\n",
        "  - Guiselle Tatiana Zambrano Penagos\n",
        "* **Fechas:** \n",
        "  - Inicio: 2020-09-12\n",
        "  - Final: 2020-09-29\n",
        "* [Presentacióón del curso](http://ospinafrancisco.com/)\n"
      ]
    },
    {
      "cell_type": "markdown",
      "metadata": {
        "id": "LyRPcwR0E_w9",
        "colab_type": "text"
      },
      "source": [
        "\n",
        "## Contenido de la clase\n",
        "\n",
        "  * Variables.\n",
        "    * Definición\n",
        "    * Tipos de vaiable y operaciones\n",
        "      * Primitivos\n",
        "      * No primitivos\n",
        "  * Estructuras de control\n",
        "    * Bifurcación\n",
        "        * En dos flujos\n",
        "        * En múltiples flujos\n",
        "    * Bucles (loops)\n",
        "        * Bucle con número de ejecuciones definidas\n",
        "        * Bucle con número de ejecuciones indefinidas\n",
        "\n"
      ]
    },
    {
      "cell_type": "markdown",
      "metadata": {
        "id": "UPnZMTtxFdO5",
        "colab_type": "text"
      },
      "source": [
        "# Definición de variable\n",
        "\n",
        "Una variable en python es un espacio de memoria se se aparta para almacenar algo la variables de identifica por un nombre y puede ser leida o modificada a través de este nombre"
      ]
    },
    {
      "cell_type": "code",
      "metadata": {
        "id": "oEjJ5JitFl4o",
        "colab_type": "code",
        "colab": {}
      },
      "source": [
        "# Ejemplos de variables \n",
        "a = 5\n",
        "\n",
        "b = 7.3\n",
        "\n",
        "c = 'Hola mundo'"
      ],
      "execution_count": 91,
      "outputs": []
    },
    {
      "cell_type": "markdown",
      "metadata": {
        "id": "jNNKp8nCFzNY",
        "colab_type": "text"
      },
      "source": [
        "# Tipos de datos primitivos (Simples)\n",
        "\n",
        "En Python al igual que en todos los lenguajes existen variables primitivas (simples), que son el núcleo de trabajo y sobre la cuál se construyen estructuras más complejas.\n",
        "  * Enteros\n",
        "  * Flotantes\n",
        "  * Cadenas de carácteres\n",
        "  * Lógicos o Booleanos\n"
      ]
    },
    {
      "cell_type": "markdown",
      "metadata": {
        "id": "8La5_wYoK0Fo",
        "colab_type": "text"
      },
      "source": [
        "## Entero\n",
        "\n",
        "\n",
        "\n",
        "\n"
      ]
    },
    {
      "cell_type": "code",
      "metadata": {
        "id": "q9kW0eudILr6",
        "colab_type": "code",
        "colab": {
          "base_uri": "https://localhost:8080/",
          "height": 52
        },
        "outputId": "e3b9b1b8-e8ba-4859-ac00-7f1816ddca12"
      },
      "source": [
        "a = 5\n",
        "\n",
        "# la función\n",
        "print(type(a))\n",
        "\n",
        "isinstance(a, int)"
      ],
      "execution_count": 92,
      "outputs": [
        {
          "output_type": "stream",
          "text": [
            "<class 'int'>\n"
          ],
          "name": "stdout"
        },
        {
          "output_type": "execute_result",
          "data": {
            "text/plain": [
              "True"
            ]
          },
          "metadata": {
            "tags": []
          },
          "execution_count": 92
        }
      ]
    },
    {
      "cell_type": "markdown",
      "metadata": {
        "id": "3i4O6eBDK7-o",
        "colab_type": "text"
      },
      "source": [
        "## Número de coma flotante (float)"
      ]
    },
    {
      "cell_type": "code",
      "metadata": {
        "id": "hOD9cX-wKDnS",
        "colab_type": "code",
        "colab": {
          "base_uri": "https://localhost:8080/",
          "height": 52
        },
        "outputId": "f5eb7577-c933-48dc-bb00-128846c89016"
      },
      "source": [
        "pi = 3.1416\n",
        "\n",
        "print(type(pi))\n",
        "\n",
        "# isinstance -> retorna: True o False\n",
        "# pi es un número de coma flotante? = True\n",
        "isinstance(pi, float)"
      ],
      "execution_count": 93,
      "outputs": [
        {
          "output_type": "stream",
          "text": [
            "<class 'float'>\n"
          ],
          "name": "stdout"
        },
        {
          "output_type": "execute_result",
          "data": {
            "text/plain": [
              "True"
            ]
          },
          "metadata": {
            "tags": []
          },
          "execution_count": 93
        }
      ]
    },
    {
      "cell_type": "markdown",
      "metadata": {
        "id": "xB23sQ3HLHWA",
        "colab_type": "text"
      },
      "source": [
        "## Cadenas de texto o strings (str)"
      ]
    },
    {
      "cell_type": "code",
      "metadata": {
        "id": "o7pffDQILI_4",
        "colab_type": "code",
        "colab": {
          "base_uri": "https://localhost:8080/",
          "height": 52
        },
        "outputId": "0ff2f38b-d0f8-43a6-9e85-f01232326c61"
      },
      "source": [
        "text = 'Hola mundo'\n",
        "\n",
        "print(type(text))\n",
        "\n",
        "isinstance(text, str)"
      ],
      "execution_count": 94,
      "outputs": [
        {
          "output_type": "stream",
          "text": [
            "<class 'str'>\n"
          ],
          "name": "stdout"
        },
        {
          "output_type": "execute_result",
          "data": {
            "text/plain": [
              "True"
            ]
          },
          "metadata": {
            "tags": []
          },
          "execution_count": 94
        }
      ]
    },
    {
      "cell_type": "markdown",
      "metadata": {
        "id": "PWXVbml0LMqw",
        "colab_type": "text"
      },
      "source": [
        "## Lógicos (bool)"
      ]
    },
    {
      "cell_type": "code",
      "metadata": {
        "id": "pTlOzIyrLOSL",
        "colab_type": "code",
        "colab": {
          "base_uri": "https://localhost:8080/",
          "height": 52
        },
        "outputId": "41b39158-e115-49f9-c508-dfe3268eb015"
      },
      "source": [
        "logical = True\n",
        "\n",
        "print(type(logical))\n",
        "\n",
        "isinstance(logical, bool)"
      ],
      "execution_count": 95,
      "outputs": [
        {
          "output_type": "stream",
          "text": [
            "<class 'bool'>\n"
          ],
          "name": "stdout"
        },
        {
          "output_type": "execute_result",
          "data": {
            "text/plain": [
              "True"
            ]
          },
          "metadata": {
            "tags": []
          },
          "execution_count": 95
        }
      ]
    },
    {
      "cell_type": "markdown",
      "metadata": {
        "id": "q9lCq78VLUfo",
        "colab_type": "text"
      },
      "source": [
        "# Casting entre tipos de variables\n",
        "\n",
        "Se define _casting_ como la conversión de un tipo de variable a otro.\n"
      ]
    },
    {
      "cell_type": "code",
      "metadata": {
        "id": "YBduBpGeLcvr",
        "colab_type": "code",
        "colab": {
          "base_uri": "https://localhost:8080/",
          "height": 121
        },
        "outputId": "9d5b6be3-90a6-48f7-b2f3-4404a61e1a57"
      },
      "source": [
        "a = 5\n",
        "b = float(a)\n",
        "c = str(a)\n",
        "\n",
        "print(a)  \n",
        "print(b)\n",
        "print(c)  # Esto es un string\n",
        "\n",
        "print(type(a))\n",
        "print(type(b))\n",
        "print(type(c))\n",
        "\n",
        "# print(a + c)  # error\n",
        "# print( 'Estamos en el mes: ' + 9) # error"
      ],
      "execution_count": 96,
      "outputs": [
        {
          "output_type": "stream",
          "text": [
            "5\n",
            "5.0\n",
            "5\n",
            "<class 'int'>\n",
            "<class 'float'>\n",
            "<class 'str'>\n"
          ],
          "name": "stdout"
        }
      ]
    },
    {
      "cell_type": "markdown",
      "metadata": {
        "id": "kTYxkv0eLvLB",
        "colab_type": "text"
      },
      "source": [
        "# Operaciones con datos numéricos\n",
        "\n",
        "- \\+ Suma\n",
        "-  \\- Resta\n",
        "-  \\* Multiplicación\n",
        "-  \\/ División\n",
        "- \\*\\* Potenciación\n",
        "-  \\% Móódulo (o residuo)\n",
        "\n",
        "**Ejemplo de módulo:**\n",
        "\n",
        "$ \\frac{7}{2} = 3.5 $\n",
        "\n",
        "$ 3 * 2 = 6 $\n",
        "\n",
        "$ 7 - 6 = 1 $\n",
        "\n",
        "$ 7 \\% 2 = 1 $\n"
      ]
    },
    {
      "cell_type": "code",
      "metadata": {
        "id": "jcXMVET1LlaQ",
        "colab_type": "code",
        "colab": {
          "base_uri": "https://localhost:8080/",
          "height": 52
        },
        "outputId": "b0f704d5-fecf-4929-cd8b-38f48f2712ab"
      },
      "source": [
        "print(5 + 3)\n",
        "\n",
        "print(5 ** 3) # 5^3"
      ],
      "execution_count": 159,
      "outputs": [
        {
          "output_type": "stream",
          "text": [
            "8\n",
            "125\n"
          ],
          "name": "stdout"
        }
      ]
    },
    {
      "cell_type": "markdown",
      "metadata": {
        "id": "4S5F1dPiM_3L",
        "colab_type": "text"
      },
      "source": [
        "**Nota**\n",
        "\n",
        "Siempre se debe tener claro el tipo de variable con que se trabaja o pueden ocurrir resultados indeseados\n"
      ]
    },
    {
      "cell_type": "code",
      "metadata": {
        "id": "9MwvUkHONQie",
        "colab_type": "code",
        "colab": {
          "base_uri": "https://localhost:8080/",
          "height": 52
        },
        "outputId": "5ba04ba5-b410-4b9e-c17c-43a2b1e9bcc7"
      },
      "source": [
        "a = 12\n",
        "c = str(a)\n",
        "\n",
        "print(a * 10)\n",
        "print(c * 10)"
      ],
      "execution_count": 98,
      "outputs": [
        {
          "output_type": "stream",
          "text": [
            "120\n",
            "12121212121212121212\n"
          ],
          "name": "stdout"
        }
      ]
    },
    {
      "cell_type": "code",
      "metadata": {
        "id": "5EP8nA1TNTeV",
        "colab_type": "code",
        "colab": {
          "base_uri": "https://localhost:8080/",
          "height": 34
        },
        "outputId": "4e2bbab9-97a6-4976-ade1-2f09ead03df8"
      },
      "source": [
        "a = 5\n",
        "b = 3.72\n",
        "\n",
        "a * b"
      ],
      "execution_count": 99,
      "outputs": [
        {
          "output_type": "execute_result",
          "data": {
            "text/plain": [
              "18.6"
            ]
          },
          "metadata": {
            "tags": []
          },
          "execution_count": 99
        }
      ]
    },
    {
      "cell_type": "code",
      "metadata": {
        "id": "Sk0v8vRfHaqS",
        "colab_type": "code",
        "colab": {
          "base_uri": "https://localhost:8080/",
          "height": 34
        },
        "outputId": "bc33827c-1291-4811-d3d6-7142698f65ff"
      },
      "source": [
        "a = 7\n",
        "b = 3\n",
        "\n",
        "print(a / b)"
      ],
      "execution_count": 100,
      "outputs": [
        {
          "output_type": "stream",
          "text": [
            "2.3333333333333335\n"
          ],
          "name": "stdout"
        }
      ]
    },
    {
      "cell_type": "code",
      "metadata": {
        "id": "pz1kQFirHhDR",
        "colab_type": "code",
        "colab": {
          "base_uri": "https://localhost:8080/",
          "height": 34
        },
        "outputId": "e81b631e-8151-4bf3-e2d1-6102a5e159cc"
      },
      "source": [
        "print(a // b)"
      ],
      "execution_count": 101,
      "outputs": [
        {
          "output_type": "stream",
          "text": [
            "2\n"
          ],
          "name": "stdout"
        }
      ]
    },
    {
      "cell_type": "code",
      "metadata": {
        "id": "GlLSSFL-Hjwv",
        "colab_type": "code",
        "colab": {
          "base_uri": "https://localhost:8080/",
          "height": 208
        },
        "outputId": "8d50628e-05e0-4a70-fd37-6a72137e082a"
      },
      "source": [
        "# range(11) objeto iterable en el rango [0, 11)\n",
        "for i in range(11):\n",
        "  print('{} / 10 = {}       {} % 10 = {}'.format(i, i / 10, i, i % 10))"
      ],
      "execution_count": 102,
      "outputs": [
        {
          "output_type": "stream",
          "text": [
            "0 / 10 = 0.0       0 % 10 = 0\n",
            "1 / 10 = 0.1       1 % 10 = 1\n",
            "2 / 10 = 0.2       2 % 10 = 2\n",
            "3 / 10 = 0.3       3 % 10 = 3\n",
            "4 / 10 = 0.4       4 % 10 = 4\n",
            "5 / 10 = 0.5       5 % 10 = 5\n",
            "6 / 10 = 0.6       6 % 10 = 6\n",
            "7 / 10 = 0.7       7 % 10 = 7\n",
            "8 / 10 = 0.8       8 % 10 = 8\n",
            "9 / 10 = 0.9       9 % 10 = 9\n",
            "10 / 10 = 1.0       10 % 10 = 0\n"
          ],
          "name": "stdout"
        }
      ]
    },
    {
      "cell_type": "markdown",
      "metadata": {
        "id": "cqlChhT8NZpD",
        "colab_type": "text"
      },
      "source": [
        "# Operadores de comparación\n",
        "\n",
        "*  \\> mayor que\n",
        "*  <  Menor qué: produce un lógico \n",
        "*  ==  Igual: produce un lógico \n"
      ]
    },
    {
      "cell_type": "code",
      "metadata": {
        "id": "XCbbcMWrNWZV",
        "colab_type": "code",
        "colab": {
          "base_uri": "https://localhost:8080/",
          "height": 34
        },
        "outputId": "fe4b184b-ce82-4225-e84f-0fe76efd7c6e"
      },
      "source": [
        "7 > 5\n",
        "\n",
        "3 == 7"
      ],
      "execution_count": 103,
      "outputs": [
        {
          "output_type": "execute_result",
          "data": {
            "text/plain": [
              "False"
            ]
          },
          "metadata": {
            "tags": []
          },
          "execution_count": 103
        }
      ]
    },
    {
      "cell_type": "markdown",
      "metadata": {
        "id": "DRgzXsgLN5Ef",
        "colab_type": "text"
      },
      "source": [
        "**Nota**\n",
        "\n",
        "Es importante tener en cuenta el typo de dato al hacer comparaciones\n",
        "\n"
      ]
    },
    {
      "cell_type": "code",
      "metadata": {
        "id": "arcASkpyNsX6",
        "colab_type": "code",
        "colab": {
          "base_uri": "https://localhost:8080/",
          "height": 34
        },
        "outputId": "f659204c-3390-41f3-eb81-d1e7c5552571"
      },
      "source": [
        "'2' > '19'"
      ],
      "execution_count": 104,
      "outputs": [
        {
          "output_type": "execute_result",
          "data": {
            "text/plain": [
              "True"
            ]
          },
          "metadata": {
            "tags": []
          },
          "execution_count": 104
        }
      ]
    },
    {
      "cell_type": "code",
      "metadata": {
        "id": "8z-Gl4VdNvWh",
        "colab_type": "code",
        "colab": {
          "base_uri": "https://localhost:8080/",
          "height": 538
        },
        "outputId": "96ffb60f-9f18-41c7-f23a-838a323813c0"
      },
      "source": [
        "# Explicación\n",
        "a = [str(x) for x in range(30)]\n",
        "a.sort()  #ordena\n",
        "for index in range(30):\n",
        "  print('Indice: {} Valor: {}'.format(index, a[index]))"
      ],
      "execution_count": 105,
      "outputs": [
        {
          "output_type": "stream",
          "text": [
            "Indice: 0 Valor: 0\n",
            "Indice: 1 Valor: 1\n",
            "Indice: 2 Valor: 10\n",
            "Indice: 3 Valor: 11\n",
            "Indice: 4 Valor: 12\n",
            "Indice: 5 Valor: 13\n",
            "Indice: 6 Valor: 14\n",
            "Indice: 7 Valor: 15\n",
            "Indice: 8 Valor: 16\n",
            "Indice: 9 Valor: 17\n",
            "Indice: 10 Valor: 18\n",
            "Indice: 11 Valor: 19\n",
            "Indice: 12 Valor: 2\n",
            "Indice: 13 Valor: 20\n",
            "Indice: 14 Valor: 21\n",
            "Indice: 15 Valor: 22\n",
            "Indice: 16 Valor: 23\n",
            "Indice: 17 Valor: 24\n",
            "Indice: 18 Valor: 25\n",
            "Indice: 19 Valor: 26\n",
            "Indice: 20 Valor: 27\n",
            "Indice: 21 Valor: 28\n",
            "Indice: 22 Valor: 29\n",
            "Indice: 23 Valor: 3\n",
            "Indice: 24 Valor: 4\n",
            "Indice: 25 Valor: 5\n",
            "Indice: 26 Valor: 6\n",
            "Indice: 27 Valor: 7\n",
            "Indice: 28 Valor: 8\n",
            "Indice: 29 Valor: 9\n"
          ],
          "name": "stdout"
        }
      ]
    },
    {
      "cell_type": "markdown",
      "metadata": {
        "id": "Z1sC3IR_OCrR",
        "colab_type": "text"
      },
      "source": [
        "# Operaciones con tipos lógicos\n",
        "* and : Ambos son verdaderos \n",
        "* or : Por lo menos uno de los dos es verdadero\n",
        "* not : Lo contrario a la entrada\n"
      ]
    },
    {
      "cell_type": "code",
      "metadata": {
        "id": "ydUbXmedQAa_",
        "colab_type": "code",
        "colab": {
          "base_uri": "https://localhost:8080/",
          "height": 52
        },
        "outputId": "b5c3aa2a-96c6-4566-a58e-dfe2f505dfe9"
      },
      "source": [
        "# Ejemplos\n",
        "print(True or False)\n",
        "\n",
        "not True"
      ],
      "execution_count": 106,
      "outputs": [
        {
          "output_type": "stream",
          "text": [
            "True\n"
          ],
          "name": "stdout"
        },
        {
          "output_type": "execute_result",
          "data": {
            "text/plain": [
              "False"
            ]
          },
          "metadata": {
            "tags": []
          },
          "execution_count": 106
        }
      ]
    },
    {
      "cell_type": "markdown",
      "metadata": {
        "id": "MixdAgRnJrYU",
        "colab_type": "text"
      },
      "source": [
        "![AND](https://aristoteles2pc.files.wordpress.com/2011/03/tabla-de-verdad.png)\n",
        "![OR](https://aristoteles2pc.files.wordpress.com/2011/03/or1.png)"
      ]
    },
    {
      "cell_type": "code",
      "metadata": {
        "id": "b368EoGGoYvi",
        "colab_type": "code",
        "colab": {
          "base_uri": "https://localhost:8080/",
          "height": 52
        },
        "outputId": "6fc70e90-d00a-42c4-e0db-50cd3ac1564a"
      },
      "source": [
        "a = 5\n",
        "b = 10\n",
        "\n",
        "if (b > 5) and (b % 2 == 0):\n",
        "  print(1)\n",
        "\n",
        "if (b > 5) or (a % 2 == 0):\n",
        "  print(2)\n"
      ],
      "execution_count": 162,
      "outputs": [
        {
          "output_type": "stream",
          "text": [
            "1\n",
            "2\n"
          ],
          "name": "stdout"
        }
      ]
    },
    {
      "cell_type": "markdown",
      "metadata": {
        "id": "c3ElSY4-J8Mr",
        "colab_type": "text"
      },
      "source": [
        "![NOT](https://aristoteles2pc.files.wordpress.com/2011/03/not1.png?w=584)"
      ]
    },
    {
      "cell_type": "code",
      "metadata": {
        "id": "gFDGZejeo0pj",
        "colab_type": "code",
        "colab": {
          "base_uri": "https://localhost:8080/",
          "height": 34
        },
        "outputId": "68deccaa-68ac-4b1a-bc29-6217f3768780"
      },
      "source": [
        "a = 2\n",
        "if not a == 3:\n",
        "  print(3)"
      ],
      "execution_count": 108,
      "outputs": [
        {
          "output_type": "stream",
          "text": [
            "3\n"
          ],
          "name": "stdout"
        }
      ]
    },
    {
      "cell_type": "markdown",
      "metadata": {
        "id": "qbWzgHjVOKqz",
        "colab_type": "text"
      },
      "source": [
        "#Operaciones con cadenas de texto\n",
        "* Concatenar cadenas\n",
        "* Obtener un elemento de una cadena\n",
        "* Slices sobre cadenas\n",
        "* Longitud de una cadena\n",
        "* UPERCASE o lowercase\n",
        "* Dar formato a cadenas"
      ]
    },
    {
      "cell_type": "markdown",
      "metadata": {
        "id": "jf1NHM7uOWlU",
        "colab_type": "text"
      },
      "source": [
        "## Concatenar cadenas"
      ]
    },
    {
      "cell_type": "code",
      "metadata": {
        "id": "a0JAXf8mOYLP",
        "colab_type": "code",
        "colab": {
          "base_uri": "https://localhost:8080/",
          "height": 52
        },
        "outputId": "601e1321-2fc7-40cb-89d2-4e087754817b"
      },
      "source": [
        "a = 'hola'\n",
        "b = 'mundo'\n",
        "\n",
        "print(a + b)\n",
        "\n",
        "print(a + ' ' + b)"
      ],
      "execution_count": 109,
      "outputs": [
        {
          "output_type": "stream",
          "text": [
            "holamundo\n",
            "hola mundo\n"
          ],
          "name": "stdout"
        }
      ]
    },
    {
      "cell_type": "markdown",
      "metadata": {
        "id": "54qPqm1iOfzW",
        "colab_type": "text"
      },
      "source": [
        "## Obtener un elemento de una cadena"
      ]
    },
    {
      "cell_type": "code",
      "metadata": {
        "id": "gNwtDKO7Ohnv",
        "colab_type": "code",
        "colab": {
          "base_uri": "https://localhost:8080/",
          "height": 86
        },
        "outputId": "4c20e625-9942-44f5-dad9-f28d7db92a97"
      },
      "source": [
        "# Ejemplo\n",
        "cadena = 'Hola Mundo'\n",
        "\n",
        "'''\n",
        "Caracter: H   o   l   a       M   u   n   d   o\n",
        "Posición: 0   1   2   3   4   5   6   7   8   9\n",
        "        -10   -9  -8  -7  -6  -5  -4  -3  -2  -1\n",
        "Longitud cadena = 10\n",
        "'''\n",
        "\n",
        "print(cadena[2])\n",
        "\n",
        "print(cadena[7])\n",
        "\n",
        "print(cadena[-5])\n",
        "print(cadena[-1])"
      ],
      "execution_count": 110,
      "outputs": [
        {
          "output_type": "stream",
          "text": [
            "l\n",
            "n\n",
            "M\n",
            "o\n"
          ],
          "name": "stdout"
        }
      ]
    },
    {
      "cell_type": "markdown",
      "metadata": {
        "id": "jMIPxxA0OpVX",
        "colab_type": "text"
      },
      "source": [
        "## Slices\n",
        "\n",
        "Un slice en python es hacer un corte sobre múltiples elementos de una cadena o un arreglo."
      ]
    },
    {
      "cell_type": "code",
      "metadata": {
        "id": "zYLNP2ILOmVR",
        "colab_type": "code",
        "colab": {
          "base_uri": "https://localhost:8080/",
          "height": 104
        },
        "outputId": "85ea10ae-50df-4d53-c3df-1b84ecd5b4f1"
      },
      "source": [
        "# Ejemplo\n",
        "cadena = 'Hola Mundo'\n",
        "\n",
        "'''\n",
        " cadena[start: stop: step]\n",
        " start: Entero inicial donde comienza el corte.\n",
        "        Si no se especifica, el corte empieza desde el índice 0.\n",
        " end: entero que indica hasta donde debe llegar el corte\n",
        "     Si no se especifica, el corte se detiene en el índice - 1.\n",
        " step: Valor entero que determina el incremento entre cada índice para cortar.\n",
        "        Si no se especifica, toma el valor de 1\n",
        "'''\n",
        "print(len(cadena))\n",
        "\n",
        "'''\n",
        "Caracter: H   o   l   a       M   u   n   d   o\n",
        "Posición: 0   1   2   3   4   5   6   7   8   9\n",
        "        -10   -9  -8  -7  -6  -5  -4  -3  -2  -1\n",
        "Longitud cadena = 10\n",
        "'''\n",
        "\n",
        "# Imprimir desde el caracter 0 al [len(cadena) - 1] -> imprime string original\n",
        "print(cadena[::])\n",
        "\n",
        "# Imprimir desde el caracter 2 al 6 (no incluye el caracter 6)\n",
        "'''\n",
        "rango tomado: [2, 6)\n",
        "Caracter: l a   M\n",
        "Posición: 2 3 4 5\n",
        "Longitud cadena = 10\n",
        "'''\n",
        "\n",
        "print(cadena[2:6])  # [2, 6)\n",
        "\n",
        "print(cadena[2:-2]) # Equivalente a print(cadena[2:8])\n",
        "\n",
        "print(cadena[::-1])"
      ],
      "execution_count": 111,
      "outputs": [
        {
          "output_type": "stream",
          "text": [
            "10\n",
            "Hola Mundo\n",
            "la M\n",
            "la Mun\n",
            "odnuM aloH\n"
          ],
          "name": "stdout"
        }
      ]
    },
    {
      "cell_type": "code",
      "metadata": {
        "id": "5mEQ09i3OwTj",
        "colab_type": "code",
        "colab": {
          "base_uri": "https://localhost:8080/",
          "height": 34
        },
        "outputId": "f95e5ea8-74a1-43c8-febf-448213f5592a"
      },
      "source": [
        "# Ejemplo\n",
        "cadena = 'Hola Mundo'\n",
        "\n",
        "len(cadena)"
      ],
      "execution_count": 112,
      "outputs": [
        {
          "output_type": "execute_result",
          "data": {
            "text/plain": [
              "10"
            ]
          },
          "metadata": {
            "tags": []
          },
          "execution_count": 112
        }
      ]
    },
    {
      "cell_type": "markdown",
      "metadata": {
        "id": "qulhTZUmOzq_",
        "colab_type": "text"
      },
      "source": [
        "## UPPERCASE o lowercase"
      ]
    },
    {
      "cell_type": "code",
      "metadata": {
        "id": "srTLi8b8Ow0B",
        "colab_type": "code",
        "colab": {
          "base_uri": "https://localhost:8080/",
          "height": 52
        },
        "outputId": "16c5b542-339c-4b5d-f656-a998045409b1"
      },
      "source": [
        "# Ejemplo\n",
        "cadena = 'Hola Mundo'\n",
        "\n",
        "print(cadena.upper())\n",
        "\n",
        "print(cadena.lower())"
      ],
      "execution_count": 113,
      "outputs": [
        {
          "output_type": "stream",
          "text": [
            "HOLA MUNDO\n",
            "hola mundo\n"
          ],
          "name": "stdout"
        }
      ]
    },
    {
      "cell_type": "markdown",
      "metadata": {
        "id": "wYiwlr8aPAoJ",
        "colab_type": "text"
      },
      "source": [
        "## Dar forma a las cadenas"
      ]
    },
    {
      "cell_type": "code",
      "metadata": {
        "id": "F0nJ7PJWO4_j",
        "colab_type": "code",
        "colab": {
          "base_uri": "https://localhost:8080/",
          "height": 34
        },
        "outputId": "0d6d8928-b35f-4e21-b6a9-f70bcfb45baf"
      },
      "source": [
        "cadena = 'El señor {} dicta el curso de {}'\n",
        "nombre = 'Francisco Ospina'\n",
        "curso = 'Python'\n",
        "\n",
        "print(cadena.format(nombre, curso))"
      ],
      "execution_count": 163,
      "outputs": [
        {
          "output_type": "stream",
          "text": [
            "El señor 123456 dicta el curso de Python\n"
          ],
          "name": "stdout"
        }
      ]
    },
    {
      "cell_type": "markdown",
      "metadata": {
        "id": "lSP4zt1RPMXD",
        "colab_type": "text"
      },
      "source": [
        "# Tipos de variables complejas"
      ]
    },
    {
      "cell_type": "markdown",
      "metadata": {
        "id": "QKtk0DRjPSgl",
        "colab_type": "text"
      },
      "source": [
        "## Listas\n",
        "\n",
        "Una lista es un conjunto de elementos ordenados simples o complejos. La forma de acceder a cada elemento de la lista es por su indice o posición en la misma. Los elemento de una lista pueden modificarse en cualquier momento."
      ]
    },
    {
      "cell_type": "code",
      "metadata": {
        "id": "_sWrM4oMPYll",
        "colab_type": "code",
        "colab": {
          "base_uri": "https://localhost:8080/",
          "height": 86
        },
        "outputId": "6e2e1f01-b682-4285-a309-8c7c5f5c5361"
      },
      "source": [
        "# Ejemplos \n",
        "lista1 = [5, 6, 7, 8, 9]\n",
        "\n",
        "'''\n",
        "lista:     [  5   6   7   8   9 ]\n",
        "posición:     0   1   2   3   4\n",
        "              -5  -4  -3  -2  -1      \n",
        "'''\n",
        "\n",
        "print(lista1)\n",
        "print(lista1[2])\n",
        "\n",
        "lista1[3] = 60\n",
        "\n",
        "print(lista1)\n",
        "print(lista1[-1])"
      ],
      "execution_count": 115,
      "outputs": [
        {
          "output_type": "stream",
          "text": [
            "[5, 6, 7, 8, 9]\n",
            "7\n",
            "[5, 6, 7, 60, 9]\n",
            "9\n"
          ],
          "name": "stdout"
        }
      ]
    },
    {
      "cell_type": "markdown",
      "metadata": {
        "id": "-sDdvGBKPqef",
        "colab_type": "text"
      },
      "source": [
        "**Nota**\n",
        "Los elementos de una lista pueden tener tipos de datos distintos\n",
        "\n"
      ]
    },
    {
      "cell_type": "code",
      "metadata": {
        "id": "S8-V6PJQPsQo",
        "colab_type": "code",
        "colab": {
          "base_uri": "https://localhost:8080/",
          "height": 52
        },
        "outputId": "6b5c6c3a-7b3a-408b-a244-a2e60954f1a8"
      },
      "source": [
        "# Ejemplo\n",
        "lista2 = [1, 'Hola', [5, 60, 'a']]\n",
        "#         0    1          2\n",
        "#                     0   1   2  \n",
        "print(lista2)\n",
        "print(lista2[2][2])"
      ],
      "execution_count": 116,
      "outputs": [
        {
          "output_type": "stream",
          "text": [
            "[1, 'Hola', [5, 60, 'a']]\n",
            "a\n"
          ],
          "name": "stdout"
        }
      ]
    },
    {
      "cell_type": "markdown",
      "metadata": {
        "id": "VlMI5nuUP0io",
        "colab_type": "text"
      },
      "source": [
        "### Operaciones con listas\n",
        "* Creación de listas de forma eficiente\n",
        "* Concatenación de listas\n",
        "* Pertenencia a listas\n",
        "* Multiplicidad de listas"
      ]
    },
    {
      "cell_type": "markdown",
      "metadata": {
        "id": "7r3buZneQRL7",
        "colab_type": "text"
      },
      "source": [
        "#### Creación de listas de forma eficiente"
      ]
    },
    {
      "cell_type": "code",
      "metadata": {
        "id": "RqLJu1mbQNU7",
        "colab_type": "code",
        "colab": {
          "base_uri": "https://localhost:8080/",
          "height": 52
        },
        "outputId": "704e31a4-0383-480b-aea3-e653c07428da"
      },
      "source": [
        "# Ejemplo\n",
        "# list() es un constructor que crea una lista\n",
        "list3 = list(range(10))   # lista con números entre el rango [0, 10)\n",
        "print(list3)\n",
        "\n",
        "# range(start, end , step)\n",
        "\n",
        "list4 = list(range(20, 50, 5))\n",
        "print(list4)"
      ],
      "execution_count": 117,
      "outputs": [
        {
          "output_type": "stream",
          "text": [
            "[0, 1, 2, 3, 4, 5, 6, 7, 8, 9]\n",
            "[20, 25, 30, 35, 40, 45]\n"
          ],
          "name": "stdout"
        }
      ]
    },
    {
      "cell_type": "markdown",
      "metadata": {
        "id": "f_ffnW7XQrq2",
        "colab_type": "text"
      },
      "source": [
        "#### Concatenación de listas"
      ]
    },
    {
      "cell_type": "code",
      "metadata": {
        "id": "c6JFH3ynQtRc",
        "colab_type": "code",
        "colab": {
          "base_uri": "https://localhost:8080/",
          "height": 104
        },
        "outputId": "d7a9ea74-d03e-44fc-e2c6-67ba4a3279d1"
      },
      "source": [
        "#Ejemplo\n",
        "list5 = list(range(5))\n",
        "list6 = list(range(20, 25))\n",
        "\n",
        "print('List 5: ', list5, '\\n')\n",
        "print('List 6: ', list6, '\\n')\n",
        "\n",
        "list7 = list5 + list6\n",
        "\n",
        "print(list7)"
      ],
      "execution_count": 118,
      "outputs": [
        {
          "output_type": "stream",
          "text": [
            "List 5:  [0, 1, 2, 3, 4] \n",
            "\n",
            "List 6:  [20, 21, 22, 23, 24] \n",
            "\n",
            "[0, 1, 2, 3, 4, 20, 21, 22, 23, 24]\n"
          ],
          "name": "stdout"
        }
      ]
    },
    {
      "cell_type": "markdown",
      "metadata": {
        "id": "qT1PbL59Qy6t",
        "colab_type": "text"
      },
      "source": [
        "#### Pertenencia a listas"
      ]
    },
    {
      "cell_type": "code",
      "metadata": {
        "id": "hwh1PxuKQ0On",
        "colab_type": "code",
        "colab": {
          "base_uri": "https://localhost:8080/",
          "height": 86
        },
        "outputId": "04f0c0a8-48e6-48fe-ba0a-359afcbd2c61"
      },
      "source": [
        "# Ejemplo\n",
        "\n",
        "lista8 = list(range(10))\n",
        "print(lista8)\n",
        "\n",
        "pertenece1 = 8 in lista8\n",
        "print(pertenece1)\n",
        "\n",
        "pertenece2 = 50 in lista8\n",
        "print(pertenece2)\n",
        "\n",
        "print(90 not in lista8)"
      ],
      "execution_count": 119,
      "outputs": [
        {
          "output_type": "stream",
          "text": [
            "[0, 1, 2, 3, 4, 5, 6, 7, 8, 9]\n",
            "True\n",
            "False\n",
            "True\n"
          ],
          "name": "stdout"
        }
      ]
    },
    {
      "cell_type": "markdown",
      "metadata": {
        "id": "ievKL5r5Q7Xf",
        "colab_type": "text"
      },
      "source": [
        "#### Modificación de elementos de una lista"
      ]
    },
    {
      "cell_type": "code",
      "metadata": {
        "id": "5y-6WdvRQ8iZ",
        "colab_type": "code",
        "colab": {
          "base_uri": "https://localhost:8080/",
          "height": 52
        },
        "outputId": "3db31a41-1c58-430f-86e8-a8de379b82c5"
      },
      "source": [
        "# Ejemplo\n",
        "\n",
        "lista = list(range(10, 15))\n",
        "print(lista)\n",
        "\n",
        "# Reasigni el valor del elemento 2 de la lista\n",
        "lista[2] = 45   # lista[2] = 12 -> lista[2] = 45\n",
        "print(lista)"
      ],
      "execution_count": 120,
      "outputs": [
        {
          "output_type": "stream",
          "text": [
            "[10, 11, 12, 13, 14]\n",
            "[10, 11, 45, 13, 14]\n"
          ],
          "name": "stdout"
        }
      ]
    },
    {
      "cell_type": "markdown",
      "metadata": {
        "id": "nSp9UwyCRFNu",
        "colab_type": "text"
      },
      "source": [
        "#### Borrado de elementos de una lista"
      ]
    },
    {
      "cell_type": "code",
      "metadata": {
        "id": "Fi0Ny6-dRKl6",
        "colab_type": "code",
        "colab": {
          "base_uri": "https://localhost:8080/",
          "height": 52
        },
        "outputId": "5824da5c-ee38-47ef-b355-53feab67facc"
      },
      "source": [
        "# Ejemplo\n",
        "\n",
        "lista = list(range(10, 15))\n",
        "\n",
        "print(lista)\n",
        "del lista[3]\n",
        "\n",
        "print(lista)"
      ],
      "execution_count": 164,
      "outputs": [
        {
          "output_type": "stream",
          "text": [
            "[10, 11, 12, 13, 14]\n",
            "[10, 11, 12, 14]\n"
          ],
          "name": "stdout"
        }
      ]
    },
    {
      "cell_type": "markdown",
      "metadata": {
        "id": "FeBrqU7gRPwB",
        "colab_type": "text"
      },
      "source": [
        "#### Añadir elementos al final de una lista"
      ]
    },
    {
      "cell_type": "code",
      "metadata": {
        "id": "TzXxFV0ORQ16",
        "colab_type": "code",
        "colab": {
          "base_uri": "https://localhost:8080/",
          "height": 34
        },
        "outputId": "08539ffb-e99c-4645-999d-914e7cb94222"
      },
      "source": [
        "# lista = [10, 11, 12, 13, 14]\n",
        "lista = list(range(10, 15))\n",
        "\n",
        "lista.append(20)\n",
        "# lista = [10, 11, 12, 13, 14, 20]\n",
        "\n",
        "print(lista)"
      ],
      "execution_count": 122,
      "outputs": [
        {
          "output_type": "stream",
          "text": [
            "[10, 11, 12, 13, 14, 20]\n"
          ],
          "name": "stdout"
        }
      ]
    },
    {
      "cell_type": "markdown",
      "metadata": {
        "id": "z_ZDIZR1RXoB",
        "colab_type": "text"
      },
      "source": [
        "#### Multiplicidad de listas"
      ]
    },
    {
      "cell_type": "code",
      "metadata": {
        "id": "1nxdC8FWRZCj",
        "colab_type": "code",
        "colab": {
          "base_uri": "https://localhost:8080/",
          "height": 34
        },
        "outputId": "1de916ff-368e-4262-cce9-53e224166adb"
      },
      "source": [
        "# Ejemplo\n",
        "lista9 = [2, 3]\n",
        "lista10 = lista9 * 5\n",
        "\n",
        "print(lista10)"
      ],
      "execution_count": 123,
      "outputs": [
        {
          "output_type": "stream",
          "text": [
            "[2, 3, 2, 3, 2, 3, 2, 3, 2, 3]\n"
          ],
          "name": "stdout"
        }
      ]
    },
    {
      "cell_type": "markdown",
      "metadata": {
        "id": "xt91N3YhS8qw",
        "colab_type": "text"
      },
      "source": [
        "#### Sumar todos los elementos de una lista sin utilizar un bucle for"
      ]
    },
    {
      "cell_type": "code",
      "metadata": {
        "id": "-WPyr0P8S8JG",
        "colab_type": "code",
        "colab": {
          "base_uri": "https://localhost:8080/",
          "height": 52
        },
        "outputId": "23fa0426-d622-47dd-bc9f-c6c5e7659f5a"
      },
      "source": [
        "print(sum(range(20)))\n",
        "\n",
        "my_list = [1, 3, 5]\n",
        "print(sum(my_list))"
      ],
      "execution_count": 124,
      "outputs": [
        {
          "output_type": "stream",
          "text": [
            "190\n",
            "9\n"
          ],
          "name": "stdout"
        }
      ]
    },
    {
      "cell_type": "markdown",
      "metadata": {
        "id": "GhOLQuzDPUlN",
        "colab_type": "text"
      },
      "source": [
        "## Tuplas\n",
        "\n",
        "Son similares a las listas con la diferencia que sus elementos **no pueden ser modificados** después de creados. Las operaciones son las mismas que las de las listas."
      ]
    },
    {
      "cell_type": "code",
      "metadata": {
        "id": "LTQV3gWwR0js",
        "colab_type": "code",
        "colab": {
          "base_uri": "https://localhost:8080/",
          "height": 34
        },
        "outputId": "fe253bcb-c88b-4f9f-bf76-a8e7fc3d9e23"
      },
      "source": [
        "# Ejemplo\n",
        "constantes =(3.1416, 2.71828)\n",
        "a = ('b', 1)\n",
        "\n",
        "print(constantes)\n",
        "\n",
        "#constantes[0] = 5"
      ],
      "execution_count": 166,
      "outputs": [
        {
          "output_type": "stream",
          "text": [
            "(3.1416, 2.71828)\n"
          ],
          "name": "stdout"
        }
      ]
    },
    {
      "cell_type": "markdown",
      "metadata": {
        "id": "n_YBLnoTZcEq",
        "colab_type": "text"
      },
      "source": [
        "### Retornar una tupla de una función\n",
        "\n"
      ]
    },
    {
      "cell_type": "code",
      "metadata": {
        "id": "UTVDc9R7Zkn6",
        "colab_type": "code",
        "colab": {}
      },
      "source": [
        "def mayor(a, b):\n",
        "  if a < b:\n",
        "    return (a, b)\n",
        "  else:\n",
        "    return b, a"
      ],
      "execution_count": 126,
      "outputs": []
    },
    {
      "cell_type": "code",
      "metadata": {
        "id": "4Km590ECMXQ1",
        "colab_type": "code",
        "colab": {
          "base_uri": "https://localhost:8080/",
          "height": 34
        },
        "outputId": "687c9d86-6e4e-4a18-d7ee-3e38e0ed5c1d"
      },
      "source": [
        "nueva_tupla = mayor(7, 5)\n",
        "print(nueva_tupla)"
      ],
      "execution_count": 127,
      "outputs": [
        {
          "output_type": "stream",
          "text": [
            "(5, 7)\n"
          ],
          "name": "stdout"
        }
      ]
    },
    {
      "cell_type": "code",
      "metadata": {
        "id": "rDzz6bC3Zveb",
        "colab_type": "code",
        "colab": {
          "base_uri": "https://localhost:8080/",
          "height": 121
        },
        "outputId": "467fa100-2da7-482f-8943-cfa1bb7f3293"
      },
      "source": [
        "my_list_1 = [1, 2, 3]\n",
        "my_list_2 = [90, 3, -1]\n",
        "\n",
        "for x, y in zip(my_list_1, my_list_2):\n",
        "  print('x = {} y = {}'.format(x, y))\n",
        "  men, may = mayor(x, y)\n",
        "  print(\"El número {} es menor que {}.\".format(men, may))\n"
      ],
      "execution_count": 128,
      "outputs": [
        {
          "output_type": "stream",
          "text": [
            "x = 1 y = 90\n",
            "El número 1 es menor que 90.\n",
            "x = 2 y = 3\n",
            "El número 2 es menor que 3.\n",
            "x = 3 y = -1\n",
            "El número -1 es menor que 3.\n"
          ],
          "name": "stdout"
        }
      ]
    },
    {
      "cell_type": "code",
      "metadata": {
        "id": "HpAvNpiKaMl5",
        "colab_type": "code",
        "colab": {
          "base_uri": "https://localhost:8080/",
          "height": 52
        },
        "outputId": "ca0006cb-c564-45ee-de47-5bedfe755411"
      },
      "source": [
        "a = 5\n",
        "b = 7\n",
        "print(a, b)\n",
        "\n",
        "a, b = b, a\n",
        "\n",
        "print(a, b)"
      ],
      "execution_count": 129,
      "outputs": [
        {
          "output_type": "stream",
          "text": [
            "5 7\n",
            "7 5\n"
          ],
          "name": "stdout"
        }
      ]
    },
    {
      "cell_type": "markdown",
      "metadata": {
        "id": "AjjyXOk8PVys",
        "colab_type": "text"
      },
      "source": [
        "## Diccionarios\n",
        "\n",
        "Una diccionario es un conjunto de elementos **NO ordenados** simples o complejos. A diferencia de las listas, la forma de acceder a cada elemento no es por la posición o indice sino por una llave previamente definida.\n"
      ]
    },
    {
      "cell_type": "code",
      "metadata": {
        "id": "pxnY1HuyPEYt",
        "colab_type": "code",
        "colab": {
          "base_uri": "https://localhost:8080/",
          "height": 34
        },
        "outputId": "f9eeca05-3bac-407b-e670-8dc09dd18cd3"
      },
      "source": [
        "# Ejemplo\n",
        "\n",
        "persona1 = {'Nombre': 'Francisco', \n",
        "            'Apellido': 'Ospina', \n",
        "            'Edad': 37, \n",
        "            'Genero': 'Masculino'}\n",
        "\n",
        "print(persona1)"
      ],
      "execution_count": 130,
      "outputs": [
        {
          "output_type": "stream",
          "text": [
            "{'Nombre': 'Francisco', 'Apellido': 'Ospina', 'Edad': 37, 'Genero': 'Masculino'}\n"
          ],
          "name": "stdout"
        }
      ]
    },
    {
      "cell_type": "code",
      "metadata": {
        "id": "sdpDML49jv00",
        "colab_type": "code",
        "colab": {}
      },
      "source": [
        "# persona1[0] #error -> el diccionario no está ordenado"
      ],
      "execution_count": 168,
      "outputs": []
    },
    {
      "cell_type": "markdown",
      "metadata": {
        "id": "TcpLL6F6SszG",
        "colab_type": "text"
      },
      "source": [
        "### Operaciones con Diccionarios\n",
        "\n",
        "* Acceder a elementos\n",
        "* Añadir elementos\n",
        "* Obtener todas las llaves\n",
        "* Obtener todos los valores\n",
        "* Concatenación de Diccionarios"
      ]
    },
    {
      "cell_type": "markdown",
      "metadata": {
        "id": "pZs9E0l0YuM5",
        "colab_type": "text"
      },
      "source": [
        "#### Acceder a elementos y añadir elementos a un diccionario\n"
      ]
    },
    {
      "cell_type": "code",
      "metadata": {
        "id": "2KtQNhM5Ywe2",
        "colab_type": "code",
        "colab": {
          "base_uri": "https://localhost:8080/",
          "height": 52
        },
        "outputId": "8f4bc945-96e9-4ac3-caae-47444fe7838e"
      },
      "source": [
        "# Ejemplo\n",
        "persona1 = {'Nombre': 'Francisco', \n",
        "            'Apellido': 'Ospina', \n",
        "            'Edad': 37, \n",
        "            'Genero': 'Masculino'}\n",
        "\n",
        "# Acceder a elemento\n",
        "# persona[llave] = valor\n",
        "print(persona1['Nombre'])\n",
        "\n",
        "# Añadir elementos\n",
        "persona1['Profesion'] = 'Data Scientist'\n",
        "\n",
        "print(persona1)\n",
        "\n",
        "#persona1['Nacionalidad']   #Error -> no existe la llave"
      ],
      "execution_count": 132,
      "outputs": [
        {
          "output_type": "stream",
          "text": [
            "Francisco\n",
            "{'Nombre': 'Francisco', 'Apellido': 'Ospina', 'Edad': 37, 'Genero': 'Masculino', 'Profesion': 'Data Scientist'}\n"
          ],
          "name": "stdout"
        }
      ]
    },
    {
      "cell_type": "markdown",
      "metadata": {
        "id": "i-rAuQDwZHQ3",
        "colab_type": "text"
      },
      "source": [
        "#### Obtener todas las llaves y obtener todos los valores de un diccionario"
      ]
    },
    {
      "cell_type": "code",
      "metadata": {
        "id": "23o2uEYGZISZ",
        "colab_type": "code",
        "colab": {
          "base_uri": "https://localhost:8080/",
          "height": 52
        },
        "outputId": "9fdadcdc-91ec-402f-fb78-791800e8ef5c"
      },
      "source": [
        "# Ejemplo\n",
        "persona2 = {'Nombre': 'Francisco', \n",
        "            'Apellido': 'Ospina', \n",
        "            'Edad': 37, \n",
        "            'Genero': 'Masculino'}\n",
        "\n",
        "# Obtener todas las llaves\n",
        "print(list(persona2.keys()))\n",
        "\n",
        "# Obtener todos los valores\n",
        "print(list(persona2.values()))"
      ],
      "execution_count": 133,
      "outputs": [
        {
          "output_type": "stream",
          "text": [
            "['Nombre', 'Apellido', 'Edad', 'Genero']\n",
            "['Francisco', 'Ospina', 37, 'Masculino']\n"
          ],
          "name": "stdout"
        }
      ]
    },
    {
      "cell_type": "markdown",
      "metadata": {
        "id": "COPGClN2aqU6",
        "colab_type": "text"
      },
      "source": [
        "#### Concatenación de Diccionarios"
      ]
    },
    {
      "cell_type": "code",
      "metadata": {
        "id": "YxbzYnOnasLr",
        "colab_type": "code",
        "colab": {
          "base_uri": "https://localhost:8080/",
          "height": 52
        },
        "outputId": "4c4e7b2e-51d0-4fa5-ed1e-74ea14590db7"
      },
      "source": [
        "# Ejemplo\n",
        "persona3 = {'Nombre': 'Francisco', \n",
        "            'Apellido': 'Ospina', \n",
        "            'Edad': 37, \n",
        "            'Genero': 'Masculino'}\n",
        "\n",
        "datos_adicionales = {'Profesion': 'Data Scientist', \n",
        "                     'Nacionalidad': 'Colombiana'}\n",
        "\n",
        "persona3.update(datos_adicionales)\n",
        "\n",
        "print(persona3)\n",
        "'''\n",
        "Opcional \n",
        "\n",
        "Para no sobreescribir persona3\n",
        "'''\n",
        "\n",
        "# persona4 = persona3.copy()\n",
        "# persona4.update(datos_adicionales)\n",
        "# print(persona4)"
      ],
      "execution_count": 134,
      "outputs": [
        {
          "output_type": "stream",
          "text": [
            "{'Nombre': 'Francisco', 'Apellido': 'Ospina', 'Edad': 37, 'Genero': 'Masculino', 'Profesion': 'Data Scientist', 'Nacionalidad': 'Colombiana'}\n"
          ],
          "name": "stdout"
        },
        {
          "output_type": "execute_result",
          "data": {
            "application/vnd.google.colaboratory.intrinsic+json": {
              "type": "string"
            },
            "text/plain": [
              "'\\nOpcional \\n\\nPara no sobreescribir persona3\\n'"
            ]
          },
          "metadata": {
            "tags": []
          },
          "execution_count": 134
        }
      ]
    },
    {
      "cell_type": "code",
      "metadata": {
        "id": "Y6WYUIqfa1Cq",
        "colab_type": "code",
        "colab": {
          "base_uri": "https://localhost:8080/",
          "height": 34
        },
        "outputId": "6c6c6120-3292-45fb-cef3-7971a411bcd7"
      },
      "source": [
        "# Ejemplo\n",
        "persona3 = {'Nombre': 'Francisco', \n",
        "            'Apellido': 'Ospina', \n",
        "            'Edad': 37, \n",
        "            'Genero': 'Masculino'}\n",
        "\n",
        "datos_adicionales = {'Profesion': 'Data Scientist', \n",
        "                     'Nacionalidad': 'Colombiana'}\n",
        "\n",
        "# Opcional para no sobreescribir persona3\n",
        "persona4 = persona3.copy()\n",
        "persona4.update(datos_adicionales)\n",
        "print(persona4)"
      ],
      "execution_count": 135,
      "outputs": [
        {
          "output_type": "stream",
          "text": [
            "{'Nombre': 'Francisco', 'Apellido': 'Ospina', 'Edad': 37, 'Genero': 'Masculino', 'Profesion': 'Data Scientist', 'Nacionalidad': 'Colombiana'}\n"
          ],
          "name": "stdout"
        }
      ]
    },
    {
      "cell_type": "markdown",
      "metadata": {
        "id": "1TBNRlTzcQDw",
        "colab_type": "text"
      },
      "source": [
        "**Nota**\n",
        "\n",
        "Son estructuras libres de esquema (schemaless)"
      ]
    },
    {
      "cell_type": "code",
      "metadata": {
        "id": "qmf6JB_-b0dX",
        "colab_type": "code",
        "colab": {
          "base_uri": "https://localhost:8080/",
          "height": 34
        },
        "outputId": "09da3b88-8c2f-4fa4-9513-cf0e45d95597"
      },
      "source": [
        "lista_de_diccionarios = [{'a': 1,\n",
        "                          'b': 12},\n",
        "                         \n",
        "                         {'a': 3, \n",
        "                          'b': [1,2,3,4,5]}, \n",
        "                         \n",
        "                         {'a': 100, \n",
        "                          'b': 199}]\n",
        "lista_de_diccionarios[1]['b']\n"
      ],
      "execution_count": 136,
      "outputs": [
        {
          "output_type": "execute_result",
          "data": {
            "text/plain": [
              "[1, 2, 3, 4, 5]"
            ]
          },
          "metadata": {
            "tags": []
          },
          "execution_count": 136
        }
      ]
    },
    {
      "cell_type": "markdown",
      "metadata": {
        "id": "sgKKYKUxa91q",
        "colab_type": "text"
      },
      "source": [
        "# Estructuras de control\n",
        "\n",
        "Las estructuras de control son sentencias que determinan el flujo de un programa. Básicamente ha sentencias de dontrol de dos tipos, aquellas que bifurcan el código para tomar en una dirección o en otra; o aquellas que hacen que el programa ejecute un ciclo de forma repetitiva.\n",
        "* Bifurcación\n",
        "  * if\n",
        "  * if else\n",
        "  * if elif elif ...\n",
        "* bucles o loops\n",
        "  * for\n",
        "  * while\n"
      ]
    },
    {
      "cell_type": "markdown",
      "metadata": {
        "id": "oLyXKWKNbQa6",
        "colab_type": "text"
      },
      "source": [
        "## Bifurcación"
      ]
    },
    {
      "cell_type": "markdown",
      "metadata": {
        "id": "dKtv-CcxbcfK",
        "colab_type": "text"
      },
      "source": [
        "### if\n",
        "El blloque if es un fragmento de código que permite ejecutar un fragmento de código dada una condición. Puede ir acompañado de"
      ]
    },
    {
      "cell_type": "code",
      "metadata": {
        "id": "NO8a1auBdJ8R",
        "colab_type": "code",
        "colab": {
          "base_uri": "https://localhost:8080/",
          "height": 34
        },
        "outputId": "d88a1cfe-536c-4e1e-f173-765237cb9ae7"
      },
      "source": [
        "# Ejemplo bloque if\n",
        "numero = -5\n",
        "\n",
        "if numero < 0: # Ver dos puntos\n",
        "    print('El número {} es negativo'.format(numero)) # Ver el tabulador"
      ],
      "execution_count": 137,
      "outputs": [
        {
          "output_type": "stream",
          "text": [
            "El número -5 es negativo\n"
          ],
          "name": "stdout"
        }
      ]
    },
    {
      "cell_type": "markdown",
      "metadata": {
        "id": "CxhjBaoGbfQD",
        "colab_type": "text"
      },
      "source": [
        "### if else"
      ]
    },
    {
      "cell_type": "code",
      "metadata": {
        "id": "99Nitxg-dKep",
        "colab_type": "code",
        "colab": {
          "base_uri": "https://localhost:8080/",
          "height": 34
        },
        "outputId": "55d6ae72-e6e3-40ec-ab81-c85128375715"
      },
      "source": [
        "# Ejemplo bloque if else\n",
        "numero = 7\n",
        "\n",
        "if numero < 0:\n",
        "    print('El número {} es negativo'.format(numero))\n",
        "else:\n",
        "    print('El número {} es no negativo'.format(numero))"
      ],
      "execution_count": 138,
      "outputs": [
        {
          "output_type": "stream",
          "text": [
            "El número 7 es no negativo\n"
          ],
          "name": "stdout"
        }
      ]
    },
    {
      "cell_type": "markdown",
      "metadata": {
        "id": "j0XS1bzWe3ol",
        "colab_type": "text"
      },
      "source": [
        "#### Formas eficientes de hacer un if else simple"
      ]
    },
    {
      "cell_type": "code",
      "metadata": {
        "id": "HTd_n0WLfDhF",
        "colab_type": "code",
        "colab": {
          "base_uri": "https://localhost:8080/",
          "height": 52
        },
        "outputId": "35d85db6-0dec-4e61-a2fe-39194275c1dd"
      },
      "source": [
        "numero = 18\n",
        "\n",
        "# If normal\n",
        "if numero % 2 == 0:\n",
        "    es_par = True\n",
        "else:\n",
        "    es_par = False\n",
        "\n",
        "# If en una sola línea\n",
        "es_par2 = True if (numero % 2 == 0) else False\n",
        "\n",
        "print(es_par)\n",
        "print(es_par2)"
      ],
      "execution_count": 170,
      "outputs": [
        {
          "output_type": "stream",
          "text": [
            "True\n",
            "1\n"
          ],
          "name": "stdout"
        }
      ]
    },
    {
      "cell_type": "markdown",
      "metadata": {
        "id": "zmPt4WWgbg7j",
        "colab_type": "text"
      },
      "source": [
        "### if elif elif ..."
      ]
    },
    {
      "cell_type": "code",
      "metadata": {
        "id": "nFWdChDSdSER",
        "colab_type": "code",
        "colab": {
          "base_uri": "https://localhost:8080/",
          "height": 34
        },
        "outputId": "f586d517-db0a-442f-f7cb-2823306b6ee1"
      },
      "source": [
        "# Ejemplo bloque if else\n",
        "numero = 0\n",
        "\n",
        "if numero < 0:\n",
        "    print('El número {} es negativo'.format(numero))\n",
        "elif numero > 0:\n",
        "    print('El número {} es positivo'.format(numero))\n",
        "else:\n",
        "    print('El número {} es cero'.format(numero))"
      ],
      "execution_count": 140,
      "outputs": [
        {
          "output_type": "stream",
          "text": [
            "El número 0 es cero\n"
          ],
          "name": "stdout"
        }
      ]
    },
    {
      "cell_type": "markdown",
      "metadata": {
        "id": "YkKTvdgfbTY7",
        "colab_type": "text"
      },
      "source": [
        "## Estructuras de bloques for y while\n",
        "\n",
        "![Bucles o loops](http://res.cloudinary.com/dyd911kmh/image/upload/f_auto,q_auto:best/v1508331558/Loop_2-2_igl4qt.jpg)\n",
        "\n",
        "Imagen extraida desde [DataCamp](https://www.datacamp.com/community/tutorials/loops-python-tutorial)"
      ]
    },
    {
      "cell_type": "markdown",
      "metadata": {
        "id": "BKBjvEdabmsq",
        "colab_type": "text"
      },
      "source": [
        "### while\n",
        "\n",
        "Un ejemplo de uso del bloque while es imprimir todos los número de una secuencia de Fibonacci inferiores a un limite superior o cota.\n",
        "\n"
      ]
    },
    {
      "cell_type": "code",
      "metadata": {
        "id": "UjyknVRif0LE",
        "colab_type": "code",
        "colab": {
          "base_uri": "https://localhost:8080/",
          "height": 139
        },
        "outputId": "8db50e64-a05b-4c20-b808-f00b4b0e2bbb"
      },
      "source": [
        "limite_superior = 15\n",
        "\n",
        "# a = 0\n",
        "# b = 1\n",
        "a, b = 0, 1\n",
        "# b < 15\n",
        "while b < limite_superior:\n",
        "    print(b),\n",
        "    # a = b\n",
        "    # b = a + b\n",
        "    a, b = b, a + b\n"
      ],
      "execution_count": 141,
      "outputs": [
        {
          "output_type": "stream",
          "text": [
            "1\n",
            "1\n",
            "2\n",
            "3\n",
            "5\n",
            "8\n",
            "13\n"
          ],
          "name": "stdout"
        }
      ]
    },
    {
      "cell_type": "code",
      "metadata": {
        "id": "ThUjjURDmclt",
        "colab_type": "code",
        "colab": {
          "base_uri": "https://localhost:8080/",
          "height": 34
        },
        "outputId": "c6f05002-015e-4d6a-8738-b8688f3a1d46"
      },
      "source": [
        "aux = 0\n",
        "while True:\n",
        "  aux = aux + 1\n",
        "  if(aux == 50):\n",
        "    print(\"El bucle se ejecutó 50 veces\")\n",
        "    break"
      ],
      "execution_count": 171,
      "outputs": [
        {
          "output_type": "stream",
          "text": [
            "El bucle se ejecutó 50 veces\n"
          ],
          "name": "stdout"
        }
      ]
    },
    {
      "cell_type": "markdown",
      "metadata": {
        "id": "bsaeeTxTbliy",
        "colab_type": "text"
      },
      "source": [
        "### Bucle for\n",
        "\n",
        "* Uso con listas\n",
        "* Uso con listas y range\n",
        "* Uso con tuplas\n",
        "* Uso con diccionarios\n",
        "\n"
      ]
    },
    {
      "cell_type": "code",
      "metadata": {
        "id": "A0FSCq2OgKKM",
        "colab_type": "code",
        "colab": {
          "base_uri": "https://localhost:8080/",
          "height": 191
        },
        "outputId": "e544ee3c-89e3-43db-9099-717ae828ca72"
      },
      "source": [
        "# range(5) = [0, 1, 2, 3, 4]\n",
        "for i in range(5):\n",
        "    print('{}^{} = {}'.format(i, i, i * i))\n",
        "    print(\"i = \", i)"
      ],
      "execution_count": 143,
      "outputs": [
        {
          "output_type": "stream",
          "text": [
            "0^0 = 0\n",
            "i =  0\n",
            "1^1 = 1\n",
            "i =  1\n",
            "2^2 = 4\n",
            "i =  2\n",
            "3^3 = 9\n",
            "i =  3\n",
            "4^4 = 16\n",
            "i =  4\n"
          ],
          "name": "stdout"
        }
      ]
    },
    {
      "cell_type": "markdown",
      "metadata": {
        "id": "19TCL9VRf4gs",
        "colab_type": "text"
      },
      "source": [
        "#### Uso con listas"
      ]
    },
    {
      "cell_type": "code",
      "metadata": {
        "id": "tGfHPjNbgNsM",
        "colab_type": "code",
        "colab": {
          "base_uri": "https://localhost:8080/",
          "height": 86
        },
        "outputId": "874ba6ae-b0cd-4bd3-9839-66168bc25f1d"
      },
      "source": [
        "nombres = ['Mario', 'Mariana', 'Gustavo', 'Francisco']\n",
        "\n",
        "for nombre in nombres:\n",
        "    print('El nombre {} tiene {} caracteres'.format(nombre, len(nombre)))"
      ],
      "execution_count": 144,
      "outputs": [
        {
          "output_type": "stream",
          "text": [
            "El nombre Mario tiene 5 caracteres\n",
            "El nombre Mariana tiene 7 caracteres\n",
            "El nombre Gustavo tiene 7 caracteres\n",
            "El nombre Francisco tiene 9 caracteres\n"
          ],
          "name": "stdout"
        }
      ]
    },
    {
      "cell_type": "code",
      "metadata": {
        "id": "RHrpa1LJN37U",
        "colab_type": "code",
        "colab": {
          "base_uri": "https://localhost:8080/",
          "height": 104
        },
        "outputId": "0b64a8af-a428-4d42-9c58-d0f7009e2ecc"
      },
      "source": [
        "for i in range(10):\n",
        "  if(i % 2 == 0): #par\n",
        "    continue\n",
        "  print(i)"
      ],
      "execution_count": 145,
      "outputs": [
        {
          "output_type": "stream",
          "text": [
            "1\n",
            "3\n",
            "5\n",
            "7\n",
            "9\n"
          ],
          "name": "stdout"
        }
      ]
    },
    {
      "cell_type": "markdown",
      "metadata": {
        "id": "gaVjqxDRf-cr",
        "colab_type": "text"
      },
      "source": [
        "#### Uso con listas y range"
      ]
    },
    {
      "cell_type": "code",
      "metadata": {
        "id": "JRfNUdUJgSJA",
        "colab_type": "code",
        "colab": {
          "base_uri": "https://localhost:8080/",
          "height": 330
        },
        "outputId": "e1c04a59-b0b4-452b-a0ca-f898dd02a35f"
      },
      "source": [
        "frase = 'Somos lo que hacemos de forma repetida. La excelencia, entonces, no es un acto, sino un hábito. Aristóteles'\n",
        "'''\n",
        "la función split(separador) genera una lista con los elementos que fueron\n",
        "divididos al contener el \"separador\" entre ellos\n",
        "\n",
        "string = 'Hola Mundo'\n",
        "lista_n = string.split(' ')\n",
        "# lista_n = ['Hola', 'Mundo']\n",
        "\n",
        "'''\n",
        "lista_palabras = frase.split(' ')\n",
        "longitud = len(lista_palabras)\n",
        "for i in range(longitud):\n",
        "    print('La palabra \"{}\" se encuentra como {}-esima palabra de la frase'.format(lista_palabras[i], i + 1))"
      ],
      "execution_count": 146,
      "outputs": [
        {
          "output_type": "stream",
          "text": [
            "La palabra \"Somos\" se encuentra como 1-esima palabra de la frase\n",
            "La palabra \"lo\" se encuentra como 2-esima palabra de la frase\n",
            "La palabra \"que\" se encuentra como 3-esima palabra de la frase\n",
            "La palabra \"hacemos\" se encuentra como 4-esima palabra de la frase\n",
            "La palabra \"de\" se encuentra como 5-esima palabra de la frase\n",
            "La palabra \"forma\" se encuentra como 6-esima palabra de la frase\n",
            "La palabra \"repetida.\" se encuentra como 7-esima palabra de la frase\n",
            "La palabra \"La\" se encuentra como 8-esima palabra de la frase\n",
            "La palabra \"excelencia,\" se encuentra como 9-esima palabra de la frase\n",
            "La palabra \"entonces,\" se encuentra como 10-esima palabra de la frase\n",
            "La palabra \"no\" se encuentra como 11-esima palabra de la frase\n",
            "La palabra \"es\" se encuentra como 12-esima palabra de la frase\n",
            "La palabra \"un\" se encuentra como 13-esima palabra de la frase\n",
            "La palabra \"acto,\" se encuentra como 14-esima palabra de la frase\n",
            "La palabra \"sino\" se encuentra como 15-esima palabra de la frase\n",
            "La palabra \"un\" se encuentra como 16-esima palabra de la frase\n",
            "La palabra \"hábito.\" se encuentra como 17-esima palabra de la frase\n",
            "La palabra \"Aristóteles\" se encuentra como 18-esima palabra de la frase\n"
          ],
          "name": "stdout"
        }
      ]
    },
    {
      "cell_type": "markdown",
      "metadata": {
        "id": "Mk78BTbjolpQ",
        "colab_type": "text"
      },
      "source": [
        "**Una versión más eficiente**"
      ]
    },
    {
      "cell_type": "code",
      "metadata": {
        "id": "DGsc750ZolAE",
        "colab_type": "code",
        "colab": {
          "base_uri": "https://localhost:8080/",
          "height": 347
        },
        "outputId": "ee5df0e7-d9ba-4a05-d947-a016b2af7b49"
      },
      "source": [
        "frase = 'Somos lo que hacemos de forma repetida. La excelencia, entonces, no es un acto, sino un hábito. Aristóteles'\n",
        "lista_palabras = frase.split(' ')\n",
        "\n",
        "# enumerate construye una lista de tuplas, donde la primera parte de la tupla\n",
        "print(enumerate(lista_palabras))\n",
        "for i, palabra in enumerate(lista_palabras):\n",
        "    print('La palabra \"{}\" se encuentra en la posición {} en la frase'.format(palabra, i + 1))"
      ],
      "execution_count": 147,
      "outputs": [
        {
          "output_type": "stream",
          "text": [
            "<enumerate object at 0x7faa3ff01168>\n",
            "La palabra \"Somos\" se encuentra en la posición 1 en la frase\n",
            "La palabra \"lo\" se encuentra en la posición 2 en la frase\n",
            "La palabra \"que\" se encuentra en la posición 3 en la frase\n",
            "La palabra \"hacemos\" se encuentra en la posición 4 en la frase\n",
            "La palabra \"de\" se encuentra en la posición 5 en la frase\n",
            "La palabra \"forma\" se encuentra en la posición 6 en la frase\n",
            "La palabra \"repetida.\" se encuentra en la posición 7 en la frase\n",
            "La palabra \"La\" se encuentra en la posición 8 en la frase\n",
            "La palabra \"excelencia,\" se encuentra en la posición 9 en la frase\n",
            "La palabra \"entonces,\" se encuentra en la posición 10 en la frase\n",
            "La palabra \"no\" se encuentra en la posición 11 en la frase\n",
            "La palabra \"es\" se encuentra en la posición 12 en la frase\n",
            "La palabra \"un\" se encuentra en la posición 13 en la frase\n",
            "La palabra \"acto,\" se encuentra en la posición 14 en la frase\n",
            "La palabra \"sino\" se encuentra en la posición 15 en la frase\n",
            "La palabra \"un\" se encuentra en la posición 16 en la frase\n",
            "La palabra \"hábito.\" se encuentra en la posición 17 en la frase\n",
            "La palabra \"Aristóteles\" se encuentra en la posición 18 en la frase\n"
          ],
          "name": "stdout"
        }
      ]
    },
    {
      "cell_type": "code",
      "metadata": {
        "id": "dCPpuU49fQmV",
        "colab_type": "code",
        "colab": {
          "base_uri": "https://localhost:8080/",
          "height": 86
        },
        "outputId": "f8cfa6cd-2bc5-4e2f-b6f7-2e6d638064f6"
      },
      "source": [
        "var = [(0, 'H'), (1, 'o'), (2, 'l'), (3, 'a')]\n",
        "\n",
        "for i, caracter in var:\n",
        "  print(i, caracter)"
      ],
      "execution_count": 148,
      "outputs": [
        {
          "output_type": "stream",
          "text": [
            "0 H\n",
            "1 o\n",
            "2 l\n",
            "3 a\n"
          ],
          "name": "stdout"
        }
      ]
    },
    {
      "cell_type": "markdown",
      "metadata": {
        "id": "Z9P2uMlVgsIw",
        "colab_type": "text"
      },
      "source": [
        "#### For anidado"
      ]
    },
    {
      "cell_type": "code",
      "metadata": {
        "id": "3sI2rsVmg2iP",
        "colab_type": "code",
        "colab": {
          "base_uri": "https://localhost:8080/",
          "height": 225
        },
        "outputId": "13a57dd7-1e86-402c-b3e2-aed2344b4fdf"
      },
      "source": [
        "var = [[1, 2], [3, 4], [5, 6], [7, 8]]\n",
        "\n",
        "for temporal in var:\n",
        "  print(temporal)\n",
        "  for i in temporal:\n",
        "    print(i)\n"
      ],
      "execution_count": 149,
      "outputs": [
        {
          "output_type": "stream",
          "text": [
            "[1, 2]\n",
            "1\n",
            "2\n",
            "[3, 4]\n",
            "3\n",
            "4\n",
            "[5, 6]\n",
            "5\n",
            "6\n",
            "[7, 8]\n",
            "7\n",
            "8\n"
          ],
          "name": "stdout"
        }
      ]
    },
    {
      "cell_type": "markdown",
      "metadata": {
        "id": "k6edHRaIgBmk",
        "colab_type": "text"
      },
      "source": [
        "#### Uso con tuplas"
      ]
    },
    {
      "cell_type": "markdown",
      "metadata": {
        "id": "QW2RNA0PgDI8",
        "colab_type": "text"
      },
      "source": [
        "#### Uso con diccionarios\n",
        "\n",
        "\n"
      ]
    },
    {
      "cell_type": "markdown",
      "metadata": {
        "id": "ADnzPB6fgpYv",
        "colab_type": "text"
      },
      "source": [
        "##### Iteradores de llaves"
      ]
    },
    {
      "cell_type": "code",
      "metadata": {
        "id": "QtX1RLu7gy5Q",
        "colab_type": "code",
        "colab": {
          "base_uri": "https://localhost:8080/",
          "height": 121
        },
        "outputId": "9a0908c5-9f7c-47cd-99a9-72cc5957fbea"
      },
      "source": [
        "dic = {'Nombre': 'Francisco', \n",
        "       'Apellido': 'Ospina', \n",
        "       'Edad': 37, 'Genero': \n",
        "       'Masculino', 'Profesion': \n",
        "       'Data Scientist', \n",
        "       'Nacionalidad': 'Colombiana'}\n",
        "\n",
        "# Iterar Llaves\n",
        "for key in dic.keys():\n",
        "    print(key)"
      ],
      "execution_count": 150,
      "outputs": [
        {
          "output_type": "stream",
          "text": [
            "Nombre\n",
            "Apellido\n",
            "Edad\n",
            "Genero\n",
            "Profesion\n",
            "Nacionalidad\n"
          ],
          "name": "stdout"
        }
      ]
    },
    {
      "cell_type": "markdown",
      "metadata": {
        "id": "Ik9yGJIYgtrw",
        "colab_type": "text"
      },
      "source": [
        "##### Iteradores de valores"
      ]
    },
    {
      "cell_type": "code",
      "metadata": {
        "id": "62ZTh8USg1wC",
        "colab_type": "code",
        "colab": {
          "base_uri": "https://localhost:8080/",
          "height": 121
        },
        "outputId": "2145742d-0036-46c8-ae39-dd7898fec499"
      },
      "source": [
        "for value in dic.values():\n",
        "    print(value)"
      ],
      "execution_count": 151,
      "outputs": [
        {
          "output_type": "stream",
          "text": [
            "Francisco\n",
            "Ospina\n",
            "37\n",
            "Masculino\n",
            "Data Scientist\n",
            "Colombiana\n"
          ],
          "name": "stdout"
        }
      ]
    },
    {
      "cell_type": "markdown",
      "metadata": {
        "id": "4myxAj50guzu",
        "colab_type": "text"
      },
      "source": [
        "##### Iteradores de llaves y valores"
      ]
    },
    {
      "cell_type": "code",
      "metadata": {
        "id": "Jfyi-IlRg6ci",
        "colab_type": "code",
        "colab": {
          "base_uri": "https://localhost:8080/",
          "height": 121
        },
        "outputId": "f86defda-7b0c-4f69-d98b-ef3ec20ffba1"
      },
      "source": [
        "# dic.items retorna una lista de tuplas donde:\n",
        "# El primer valor corresponde a la llave\n",
        "# El segundo valor corresponde al valor correspondiente a esa llave\n",
        "for key, value in dic.items():\n",
        "    print('La llave es \"{}\" y el valor es \"{}\"'.format(key, value))"
      ],
      "execution_count": 152,
      "outputs": [
        {
          "output_type": "stream",
          "text": [
            "La llave es \"Nombre\" y el valor es \"Francisco\"\n",
            "La llave es \"Apellido\" y el valor es \"Ospina\"\n",
            "La llave es \"Edad\" y el valor es \"37\"\n",
            "La llave es \"Genero\" y el valor es \"Masculino\"\n",
            "La llave es \"Profesion\" y el valor es \"Data Scientist\"\n",
            "La llave es \"Nacionalidad\" y el valor es \"Colombiana\"\n"
          ],
          "name": "stdout"
        }
      ]
    },
    {
      "cell_type": "markdown",
      "metadata": {
        "id": "-Np13j-ihTaz",
        "colab_type": "text"
      },
      "source": [
        "#### Bucles for útiles\n",
        "\n",
        "* Listas por comprensión\n",
        "* Iteradores de dos objetos simultaneos"
      ]
    },
    {
      "cell_type": "markdown",
      "metadata": {
        "id": "nPX_OcjJhaYj",
        "colab_type": "text"
      },
      "source": [
        "##### Listas por comprensión"
      ]
    },
    {
      "cell_type": "code",
      "metadata": {
        "id": "Lq0OnwTIhS87",
        "colab_type": "code",
        "colab": {
          "base_uri": "https://localhost:8080/",
          "height": 52
        },
        "outputId": "a544954d-b0a2-4e52-8aba-9a05e0b01874"
      },
      "source": [
        "# Ejemplo lista normal\n",
        "# numeros = [1, 2, 3, 4, 5, 6, 7, 8, 9, 10]\n",
        "numeros = range(1, 11)\n",
        "\n",
        "# Defino una lista a la que se le irán agregando elementos en el bucle\n",
        "cuadrados = list()\n",
        "\n",
        "for i in numeros:\n",
        "    # la función append(X) agrega el elemento X al final de la lista\n",
        "    cuadrados.append(i ** 2)\n",
        "    \n",
        "print(list(numeros))\n",
        "print(cuadrados)"
      ],
      "execution_count": 153,
      "outputs": [
        {
          "output_type": "stream",
          "text": [
            "[1, 2, 3, 4, 5, 6, 7, 8, 9, 10]\n",
            "[1, 4, 9, 16, 25, 36, 49, 64, 81, 100]\n"
          ],
          "name": "stdout"
        }
      ]
    },
    {
      "cell_type": "code",
      "metadata": {
        "id": "0Mg4H61bhqRl",
        "colab_type": "code",
        "colab": {
          "base_uri": "https://localhost:8080/",
          "height": 52
        },
        "outputId": "1f611a05-4578-4638-9541-e1858ffc1d25"
      },
      "source": [
        "# Mismo ejemplo pero con lista por comprensión\n",
        "\n",
        "numeros = range(1, 11)\n",
        "# Elevo al cuadrado los valores de la lista numeros\n",
        "cuadrados = [x ** 2 for x in numeros]\n",
        "\n",
        "print(list(numeros))\n",
        "print(cuadrados)"
      ],
      "execution_count": 154,
      "outputs": [
        {
          "output_type": "stream",
          "text": [
            "[1, 2, 3, 4, 5, 6, 7, 8, 9, 10]\n",
            "[1, 4, 9, 16, 25, 36, 49, 64, 81, 100]\n"
          ],
          "name": "stdout"
        }
      ]
    },
    {
      "cell_type": "code",
      "metadata": {
        "id": "wITSSWwzhsR9",
        "colab_type": "code",
        "colab": {
          "base_uri": "https://localhost:8080/",
          "height": 52
        },
        "outputId": "768f85a6-0ab6-44dc-e4d2-9157db210648"
      },
      "source": [
        "# Ejemplo lista por comprensión\n",
        "\n",
        "numeros = range(1, 11)\n",
        "pares = [x for x in numeros if x % 2 == 0]\n",
        "\n",
        "print(list(numeros))\n",
        "print(pares)"
      ],
      "execution_count": 155,
      "outputs": [
        {
          "output_type": "stream",
          "text": [
            "[1, 2, 3, 4, 5, 6, 7, 8, 9, 10]\n",
            "[2, 4, 6, 8, 10]\n"
          ],
          "name": "stdout"
        }
      ]
    },
    {
      "cell_type": "markdown",
      "metadata": {
        "id": "ZDBNobEJhw0l",
        "colab_type": "text"
      },
      "source": [
        "##### Iteradores de dos objetos simultaneos"
      ]
    },
    {
      "cell_type": "code",
      "metadata": {
        "id": "ue2xdJfOh0Nn",
        "colab_type": "code",
        "cellView": "both",
        "colab": {
          "base_uri": "https://localhost:8080/",
          "height": 34
        },
        "outputId": "bde4456e-37f8-496a-8dc1-c0b72349a1d3"
      },
      "source": [
        "base = [1, 2, 6, 4, 7]\n",
        "exponente = [2, 1, 3, 4, 8]\n",
        "\n",
        "# [1^2, 2^1, 6^3, 4^4, 7^8]\n",
        "potencia = [x ** y for x,y in zip(base, exponente)]\n",
        "\n",
        "print(potencia)"
      ],
      "execution_count": 156,
      "outputs": [
        {
          "output_type": "stream",
          "text": [
            "[1, 2, 216, 256, 5764801]\n"
          ],
          "name": "stdout"
        }
      ]
    }
  ]
}