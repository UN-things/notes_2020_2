{
  "nbformat": 4,
  "nbformat_minor": 0,
  "metadata": {
    "colab": {
      "name": "python_básico_clase_02.ipynb",
      "provenance": [],
      "collapsed_sections": [
        "jMIPxxA0OpVX",
        "qulhTZUmOzq_",
        "wYiwlr8aPAoJ",
        "7r3buZneQRL7",
        "f_ffnW7XQrq2",
        "qT1PbL59Qy6t",
        "ievKL5r5Q7Xf",
        "nSp9UwyCRFNu",
        "k6edHRaIgBmk"
      ],
      "include_colab_link": true
    },
    "kernelspec": {
      "name": "python3",
      "display_name": "Python 3"
    }
  },
  "cells": [
    {
      "cell_type": "markdown",
      "metadata": {
        "id": "view-in-github",
        "colab_type": "text"
      },
      "source": [
        "<a href=\"https://colab.research.google.com/github/gtzambranop/UN_2020_2/blob/DCD%2Fweek_4/DCD/module_2/basic_python_class_02.ipynb\" target=\"_parent\"><img src=\"https://colab.research.google.com/assets/colab-badge.svg\" alt=\"Open In Colab\"/></a>"
      ]
    },
    {
      "cell_type": "markdown",
      "metadata": {
        "id": "9NIt06jTqxUR",
        "colab_type": "text"
      },
      "source": [
        "# **\"Pyhton Básico\"**\n",
        "\n",
        "* **Profesor:** Francisco Javier Ospina Salazar\n",
        "* **Monitoras:**\n",
        "  - Diana Carolina Sanchez Perez\n",
        "  - Guiselle Tatiana Zambrano Penagos\n",
        "* **Fechas:** \n",
        "  - Inicio: 2020-09-12\n",
        "  - Final: 2020-09-29\n",
        "* [Presentacióón del curso](http://ospinafrancisco.com/)\n"
      ]
    },
    {
      "cell_type": "markdown",
      "metadata": {
        "id": "4SvAhnBoE1Hn",
        "colab_type": "text"
      },
      "source": [
        "# Programación en Python I\n",
        "\n"
      ]
    },
    {
      "cell_type": "markdown",
      "metadata": {
        "id": "LyRPcwR0E_w9",
        "colab_type": "text"
      },
      "source": [
        "\n",
        "## Contenido de la clase\n",
        "\n",
        "  * Variables.\n",
        "    * Definición\n",
        "    * Tipos de vaiable y operaciones\n",
        "      * Primitivos\n",
        "      * No primitivos\n",
        "  * Estructuras de control\n",
        "    * Bifurcación\n",
        "        * En dos flujos\n",
        "        * En múltiples flujos\n",
        "    * Bucles (loops)\n",
        "        * Bucle con número de ejecuciones definidas\n",
        "        * Bucle con número de ejecuciones indefinidas\n",
        "\n"
      ]
    },
    {
      "cell_type": "markdown",
      "metadata": {
        "id": "UPnZMTtxFdO5",
        "colab_type": "text"
      },
      "source": [
        "# Definición de variable\n",
        "\n",
        "Una variable en python es un espacio de memoria se se aparta para almacenar algo la variables de identifica por un nombre y puede ser leida o modificada a través de este nombre"
      ]
    },
    {
      "cell_type": "code",
      "metadata": {
        "id": "oEjJ5JitFl4o",
        "colab_type": "code",
        "colab": {}
      },
      "source": [
        "# Ejemplos de variables \n",
        "a = 5\n",
        "\n",
        "b = 7.3\n",
        "\n",
        "c = 'Hola mundo'"
      ],
      "execution_count": null,
      "outputs": []
    },
    {
      "cell_type": "markdown",
      "metadata": {
        "id": "jNNKp8nCFzNY",
        "colab_type": "text"
      },
      "source": [
        "# Tipos de datos primitivos (Simples)\n",
        "\n",
        "En Python al igual que en todos los lenguajes existen variables primitivas (simples), que son el núcleo de trabajo y sobre la cuál se construyen estructuras más complejas.\n",
        "  * Enteros\n",
        "  * Flotantes\n",
        "  * Cadenas de carácteres\n",
        "  * Lógicos o Booleanos\n"
      ]
    },
    {
      "cell_type": "markdown",
      "metadata": {
        "id": "8La5_wYoK0Fo",
        "colab_type": "text"
      },
      "source": [
        "## Entero\n",
        "\n",
        "\n",
        "\n",
        "\n"
      ]
    },
    {
      "cell_type": "code",
      "metadata": {
        "id": "q9kW0eudILr6",
        "colab_type": "code",
        "colab": {
          "base_uri": "https://localhost:8080/",
          "height": 52
        },
        "outputId": "3a9feb3b-989a-4c99-f218-ecb87ad5a074"
      },
      "source": [
        "a = 5\n",
        "\n",
        "# la función\n",
        "print(type(a))\n",
        "\n",
        "isinstance(a, int)"
      ],
      "execution_count": null,
      "outputs": [
        {
          "output_type": "stream",
          "text": [
            "<class 'int'>\n"
          ],
          "name": "stdout"
        },
        {
          "output_type": "execute_result",
          "data": {
            "text/plain": [
              "True"
            ]
          },
          "metadata": {
            "tags": []
          },
          "execution_count": 82
        }
      ]
    },
    {
      "cell_type": "markdown",
      "metadata": {
        "id": "3i4O6eBDK7-o",
        "colab_type": "text"
      },
      "source": [
        "## Número de coma flotante (float)"
      ]
    },
    {
      "cell_type": "code",
      "metadata": {
        "id": "hOD9cX-wKDnS",
        "colab_type": "code",
        "colab": {
          "base_uri": "https://localhost:8080/",
          "height": 52
        },
        "outputId": "03d4e773-da2c-4660-e3ad-20ee8c260e35"
      },
      "source": [
        "pi = 3.1416\n",
        "\n",
        "print(type(pi))\n",
        "\n",
        "# isinstance -> retorna: True o False\n",
        "# pi es un número de coma flotante? = True\n",
        "isinstance(pi, float)"
      ],
      "execution_count": null,
      "outputs": [
        {
          "output_type": "stream",
          "text": [
            "<class 'float'>\n"
          ],
          "name": "stdout"
        },
        {
          "output_type": "execute_result",
          "data": {
            "text/plain": [
              "True"
            ]
          },
          "metadata": {
            "tags": []
          },
          "execution_count": 83
        }
      ]
    },
    {
      "cell_type": "markdown",
      "metadata": {
        "id": "xB23sQ3HLHWA",
        "colab_type": "text"
      },
      "source": [
        "## Cadenas de texto o strings (str)"
      ]
    },
    {
      "cell_type": "code",
      "metadata": {
        "id": "o7pffDQILI_4",
        "colab_type": "code",
        "colab": {
          "base_uri": "https://localhost:8080/",
          "height": 52
        },
        "outputId": "0fa2ab04-bc33-4483-fc01-5ee3ab3a0a5b"
      },
      "source": [
        "text = 'Hola mundo'\n",
        "\n",
        "print(type(text))\n",
        "\n",
        "isinstance(text, str)"
      ],
      "execution_count": null,
      "outputs": [
        {
          "output_type": "stream",
          "text": [
            "<class 'str'>\n"
          ],
          "name": "stdout"
        },
        {
          "output_type": "execute_result",
          "data": {
            "text/plain": [
              "True"
            ]
          },
          "metadata": {
            "tags": []
          },
          "execution_count": 84
        }
      ]
    },
    {
      "cell_type": "markdown",
      "metadata": {
        "id": "PWXVbml0LMqw",
        "colab_type": "text"
      },
      "source": [
        "## Lógicos (bool)"
      ]
    },
    {
      "cell_type": "code",
      "metadata": {
        "id": "pTlOzIyrLOSL",
        "colab_type": "code",
        "colab": {
          "base_uri": "https://localhost:8080/",
          "height": 52
        },
        "outputId": "13963584-7c4d-47bb-8b0f-0663a48bb7e4"
      },
      "source": [
        "logical = True\n",
        "\n",
        "print(type(logical))\n",
        "\n",
        "isinstance(logical, bool)"
      ],
      "execution_count": null,
      "outputs": [
        {
          "output_type": "stream",
          "text": [
            "<class 'bool'>\n"
          ],
          "name": "stdout"
        },
        {
          "output_type": "execute_result",
          "data": {
            "text/plain": [
              "True"
            ]
          },
          "metadata": {
            "tags": []
          },
          "execution_count": 85
        }
      ]
    },
    {
      "cell_type": "markdown",
      "metadata": {
        "id": "q9lCq78VLUfo",
        "colab_type": "text"
      },
      "source": [
        "# Casting entre tipos de variables\n",
        "\n",
        "Se define _casting_ como la conversión de un tipo de variable a otro.\n"
      ]
    },
    {
      "cell_type": "code",
      "metadata": {
        "id": "YBduBpGeLcvr",
        "colab_type": "code",
        "colab": {
          "base_uri": "https://localhost:8080/",
          "height": 121
        },
        "outputId": "560e02dd-cabd-43b3-da64-7146dc3e4692"
      },
      "source": [
        "a = 5\n",
        "b = float(a)\n",
        "c = str(a)\n",
        "\n",
        "print(a)  \n",
        "print(b)\n",
        "print(c)  # Esto es un string\n",
        "\n",
        "print(type(a))\n",
        "print(type(b))\n",
        "print(type(c))\n",
        "\n",
        "# print(a + c)  # error\n",
        "# print( 'Estamos en el mes: ' + 9) # error"
      ],
      "execution_count": null,
      "outputs": [
        {
          "output_type": "stream",
          "text": [
            "5\n",
            "5.0\n",
            "5\n",
            "<class 'int'>\n",
            "<class 'float'>\n",
            "<class 'str'>\n"
          ],
          "name": "stdout"
        }
      ]
    },
    {
      "cell_type": "markdown",
      "metadata": {
        "id": "kTYxkv0eLvLB",
        "colab_type": "text"
      },
      "source": [
        "# Operaciones con datos numéricos\n",
        "\n",
        "- \\+ Suma\n",
        "-  \\- Resta\n",
        "-  \\* Multiplicación\n",
        "-  \\/ División\n",
        "- \\*\\* Potenciación\n",
        "-  \\% Móódulo (o residuo)\n",
        "\n",
        "**Ejemplo de módulo:**\n",
        "\n",
        "$ \\frac{7}{2} = 3.5 $\n",
        "\n",
        "$ 3 * 2 = 6 $\n",
        "\n",
        "$ 7 - 6 = 1 $\n",
        "\n",
        "$ 7 \\% 2 = 1 $\n"
      ]
    },
    {
      "cell_type": "code",
      "metadata": {
        "id": "jcXMVET1LlaQ",
        "colab_type": "code",
        "colab": {
          "base_uri": "https://localhost:8080/",
          "height": 69
        },
        "outputId": "7d7884af-7b3a-4853-db24-9dfef048ee13"
      },
      "source": [
        "print(5 + 3)\n",
        "\n",
        "print(5 ** 3)\n",
        "\n",
        "23 % 4"
      ],
      "execution_count": null,
      "outputs": [
        {
          "output_type": "stream",
          "text": [
            "8\n",
            "125\n"
          ],
          "name": "stdout"
        },
        {
          "output_type": "execute_result",
          "data": {
            "text/plain": [
              "3"
            ]
          },
          "metadata": {
            "tags": []
          },
          "execution_count": 87
        }
      ]
    },
    {
      "cell_type": "markdown",
      "metadata": {
        "id": "4S5F1dPiM_3L",
        "colab_type": "text"
      },
      "source": [
        "**Nota**\n",
        "\n",
        "Siempre se debe tener claro el tipo de variable con que se trabaja o pueden ocurrir resultados indeseados\n"
      ]
    },
    {
      "cell_type": "code",
      "metadata": {
        "id": "9MwvUkHONQie",
        "colab_type": "code",
        "colab": {
          "base_uri": "https://localhost:8080/",
          "height": 52
        },
        "outputId": "e4efe0a5-2f1f-44dc-f208-c6fd035feeef"
      },
      "source": [
        "a = 12\n",
        "c = str(a)\n",
        "\n",
        "print(a * 10)\n",
        "print(c * 10)"
      ],
      "execution_count": null,
      "outputs": [
        {
          "output_type": "stream",
          "text": [
            "120\n",
            "12121212121212121212\n"
          ],
          "name": "stdout"
        }
      ]
    },
    {
      "cell_type": "code",
      "metadata": {
        "id": "5EP8nA1TNTeV",
        "colab_type": "code",
        "colab": {
          "base_uri": "https://localhost:8080/",
          "height": 34
        },
        "outputId": "8d96cd93-eca3-43f3-bf25-5c37f509f487"
      },
      "source": [
        "a = 5\n",
        "b = 3.72\n",
        "\n",
        "a * b"
      ],
      "execution_count": null,
      "outputs": [
        {
          "output_type": "execute_result",
          "data": {
            "text/plain": [
              "18.6"
            ]
          },
          "metadata": {
            "tags": []
          },
          "execution_count": 89
        }
      ]
    },
    {
      "cell_type": "markdown",
      "metadata": {
        "id": "cqlChhT8NZpD",
        "colab_type": "text"
      },
      "source": [
        "# Operadores de comparación\n",
        "\n",
        "*  \\> mayor que\n",
        "*  <  Menor qué: produce un lógico \n",
        "*  ==  Igual: produce un lógico \n"
      ]
    },
    {
      "cell_type": "code",
      "metadata": {
        "id": "XCbbcMWrNWZV",
        "colab_type": "code",
        "colab": {
          "base_uri": "https://localhost:8080/",
          "height": 34
        },
        "outputId": "07d93872-2af1-4d58-ba7b-b0f72921e532"
      },
      "source": [
        "7 > 5\n",
        "\n",
        "3 == 7"
      ],
      "execution_count": null,
      "outputs": [
        {
          "output_type": "execute_result",
          "data": {
            "text/plain": [
              "False"
            ]
          },
          "metadata": {
            "tags": []
          },
          "execution_count": 90
        }
      ]
    },
    {
      "cell_type": "markdown",
      "metadata": {
        "id": "DRgzXsgLN5Ef",
        "colab_type": "text"
      },
      "source": [
        "**Nota**\n",
        "\n",
        "Es importante tener en cuenta el typo de dato al hacer comparaciones\n",
        "\n"
      ]
    },
    {
      "cell_type": "code",
      "metadata": {
        "id": "arcASkpyNsX6",
        "colab_type": "code",
        "colab": {
          "base_uri": "https://localhost:8080/",
          "height": 34
        },
        "outputId": "fa0bfa4e-67b1-40f1-b767-8a00d19f43a0"
      },
      "source": [
        "'2' > '19'"
      ],
      "execution_count": null,
      "outputs": [
        {
          "output_type": "execute_result",
          "data": {
            "text/plain": [
              "True"
            ]
          },
          "metadata": {
            "tags": []
          },
          "execution_count": 91
        }
      ]
    },
    {
      "cell_type": "code",
      "metadata": {
        "id": "8z-Gl4VdNvWh",
        "colab_type": "code",
        "colab": {
          "base_uri": "https://localhost:8080/",
          "height": 538
        },
        "outputId": "ab651016-8f93-4087-8b3e-e15da6ffc6e1"
      },
      "source": [
        "# Explicación\n",
        "a = [str(x) for x in range(30)]\n",
        "a.sort()\n",
        "for index in range(30):\n",
        "  print(index, a[index])"
      ],
      "execution_count": null,
      "outputs": [
        {
          "output_type": "stream",
          "text": [
            "0 0\n",
            "1 1\n",
            "2 10\n",
            "3 11\n",
            "4 12\n",
            "5 13\n",
            "6 14\n",
            "7 15\n",
            "8 16\n",
            "9 17\n",
            "10 18\n",
            "11 19\n",
            "12 2\n",
            "13 20\n",
            "14 21\n",
            "15 22\n",
            "16 23\n",
            "17 24\n",
            "18 25\n",
            "19 26\n",
            "20 27\n",
            "21 28\n",
            "22 29\n",
            "23 3\n",
            "24 4\n",
            "25 5\n",
            "26 6\n",
            "27 7\n",
            "28 8\n",
            "29 9\n"
          ],
          "name": "stdout"
        }
      ]
    },
    {
      "cell_type": "markdown",
      "metadata": {
        "id": "Z1sC3IR_OCrR",
        "colab_type": "text"
      },
      "source": [
        "# Operaciones con tipos lógicos\n",
        "* and : Ambos son verdaderos \n",
        "* or : Por lo menos uno de los dos es verdadero\n",
        "* not : Lo contrario a la entrada\n"
      ]
    },
    {
      "cell_type": "code",
      "metadata": {
        "id": "ydUbXmedQAa_",
        "colab_type": "code",
        "colab": {
          "base_uri": "https://localhost:8080/",
          "height": 52
        },
        "outputId": "2082b7f6-732f-4327-ca34-92c658cfc748"
      },
      "source": [
        "# Ejemplos\n",
        "print(True or False)\n",
        "\n",
        "not True"
      ],
      "execution_count": null,
      "outputs": [
        {
          "output_type": "stream",
          "text": [
            "True\n"
          ],
          "name": "stdout"
        },
        {
          "output_type": "execute_result",
          "data": {
            "text/plain": [
              "False"
            ]
          },
          "metadata": {
            "tags": []
          },
          "execution_count": 93
        }
      ]
    },
    {
      "cell_type": "code",
      "metadata": {
        "id": "b368EoGGoYvi",
        "colab_type": "code",
        "colab": {
          "base_uri": "https://localhost:8080/",
          "height": 34
        },
        "outputId": "caa06596-4194-41f5-89b6-e0b404b36b5b"
      },
      "source": [
        "a = 5\n",
        "b = 10\n",
        "if b > 5 and a % 2:\n",
        "  print(1)\n",
        "elif b > 5 or a % 2:\n",
        "  print(2)\n"
      ],
      "execution_count": null,
      "outputs": [
        {
          "output_type": "stream",
          "text": [
            "1\n"
          ],
          "name": "stdout"
        }
      ]
    },
    {
      "cell_type": "code",
      "metadata": {
        "id": "gFDGZejeo0pj",
        "colab_type": "code",
        "colab": {
          "base_uri": "https://localhost:8080/",
          "height": 34
        },
        "outputId": "0f07f820-8f4d-4569-fced-c8fb573829f1"
      },
      "source": [
        "a = 2\n",
        "if not a == 3:\n",
        "  print(3)"
      ],
      "execution_count": null,
      "outputs": [
        {
          "output_type": "stream",
          "text": [
            "3\n"
          ],
          "name": "stdout"
        }
      ]
    },
    {
      "cell_type": "markdown",
      "metadata": {
        "id": "qbWzgHjVOKqz",
        "colab_type": "text"
      },
      "source": [
        "#Operaciones con cadenas de texto\n",
        "* Concatenar cadenas\n",
        "* Obtener un elemento de una cadena\n",
        "* Slices sobre cadenas\n",
        "* Longitud de una cadena\n",
        "* UPERCASE o lowercase\n",
        "* Dar formato a cadenas"
      ]
    },
    {
      "cell_type": "markdown",
      "metadata": {
        "id": "jf1NHM7uOWlU",
        "colab_type": "text"
      },
      "source": [
        "## Concatenar cadenas"
      ]
    },
    {
      "cell_type": "code",
      "metadata": {
        "id": "a0JAXf8mOYLP",
        "colab_type": "code",
        "colab": {
          "base_uri": "https://localhost:8080/",
          "height": 52
        },
        "outputId": "0fa28d17-54bc-4509-a52b-be0fd0ac39a9"
      },
      "source": [
        "a = 'hola'\n",
        "b = 'mundo'\n",
        "\n",
        "print(a + b)\n",
        "\n",
        "print(a + ' ' + b)"
      ],
      "execution_count": null,
      "outputs": [
        {
          "output_type": "stream",
          "text": [
            "holamundo\n",
            "hola mundo\n"
          ],
          "name": "stdout"
        }
      ]
    },
    {
      "cell_type": "markdown",
      "metadata": {
        "id": "54qPqm1iOfzW",
        "colab_type": "text"
      },
      "source": [
        "## Obtener un elemento de una cadena"
      ]
    },
    {
      "cell_type": "code",
      "metadata": {
        "id": "gNwtDKO7Ohnv",
        "colab_type": "code",
        "colab": {
          "base_uri": "https://localhost:8080/",
          "height": 86
        },
        "outputId": "0390b0eb-61df-4356-81f4-02d19e15cebd"
      },
      "source": [
        "# Ejemplo\n",
        "cadena = 'Hola Mundo'\n",
        "\n",
        "'''\n",
        "Caracter: H   o   l   a       M   u   n   d   o\n",
        "Posición: 0   1   2   3   4   5   6   7   8   9\n",
        "        -10   -9  -8  -7  -6  -5  -4  -3  -2  -1\n",
        "Longitud cadena = 10\n",
        "'''\n",
        "\n",
        "print(cadena[2])\n",
        "\n",
        "print(cadena[7])\n",
        "\n",
        "print(cadena[-5])\n",
        "print(cadena[-1])"
      ],
      "execution_count": null,
      "outputs": [
        {
          "output_type": "stream",
          "text": [
            "l\n",
            "n\n",
            "M\n",
            "o\n"
          ],
          "name": "stdout"
        }
      ]
    },
    {
      "cell_type": "markdown",
      "metadata": {
        "id": "jMIPxxA0OpVX",
        "colab_type": "text"
      },
      "source": [
        "## Slices\n",
        "\n",
        "Un slice en python es hacer un corte sobre múltiples elementos de una cadena o un arreglo."
      ]
    },
    {
      "cell_type": "code",
      "metadata": {
        "id": "zYLNP2ILOmVR",
        "colab_type": "code",
        "colab": {
          "base_uri": "https://localhost:8080/"
        },
        "outputId": "2d797556-fe72-4812-d736-2e6c874cd752"
      },
      "source": [
        "# Ejemplo\n",
        "cadena = 'Hola Mundo'\n",
        "\n",
        "'''\n",
        " cadena[start: stop: step]\n",
        " start: Entero inicial donde comienza el corte.\n",
        "        Si no se especifica, el corte empieza desde el índice 0.\n",
        " end: entero que indica hasta donde debe llegar el corte\n",
        "     Si no se especifica, el corte se detiene en el índice - 1.\n",
        " step: Valor entero que determina el incremento entre cada índice para cortar.\n",
        "        Si no se especifica, toma el valor de 1\n",
        "'''\n",
        "print(len(cadena))\n",
        "\n",
        "'''\n",
        "Caracter: H   o   l   a       M   u   n   d   o\n",
        "Posición: 0   1   2   3   4   5   6   7   8   9\n",
        "        -10   -9  -8  -7  -6  -5  -4  -3  -2  -1\n",
        "Longitud cadena = 10\n",
        "'''\n",
        "\n",
        "# Imprimir desde el caracter 0 al [len(cadena) - 1] -> imprime string original\n",
        "print(cadena[::])\n",
        "\n",
        "# Imprimir desde el caracter 2 al 6 (no incluye el caracter 6)\n",
        "'''\n",
        "rango tomado: [2, 6)\n",
        "Caracter: l a   M\n",
        "Posición: 2 3 4 5\n",
        "Longitud cadena = 10\n",
        "'''\n",
        "\n",
        "print(cadena[2:6])\n",
        "\n",
        "print(cadena[2:-2]) # Equivalente a print(cadena[2:8])\n",
        "\n",
        "print(cadena[::-1])"
      ],
      "execution_count": null,
      "outputs": [
        {
          "output_type": "stream",
          "text": [
            "10\n",
            "Hola Mundo\n",
            "la M\n",
            "la Mun\n",
            "odnuM aloH\n"
          ],
          "name": "stdout"
        }
      ]
    },
    {
      "cell_type": "code",
      "metadata": {
        "id": "5mEQ09i3OwTj",
        "colab_type": "code",
        "colab": {
          "base_uri": "https://localhost:8080/"
        },
        "outputId": "28f7ff52-2c5a-4582-ae79-f1c5d7ff2043"
      },
      "source": [
        "# Ejemplo\n",
        "cadena = 'Hola Mundo'\n",
        "\n",
        "len(cadena)"
      ],
      "execution_count": null,
      "outputs": [
        {
          "output_type": "execute_result",
          "data": {
            "text/plain": [
              "10"
            ]
          },
          "metadata": {
            "tags": []
          },
          "execution_count": 99
        }
      ]
    },
    {
      "cell_type": "markdown",
      "metadata": {
        "id": "qulhTZUmOzq_",
        "colab_type": "text"
      },
      "source": [
        "## UPPERCASE o lowercase"
      ]
    },
    {
      "cell_type": "code",
      "metadata": {
        "id": "srTLi8b8Ow0B",
        "colab_type": "code",
        "colab": {
          "base_uri": "https://localhost:8080/"
        },
        "outputId": "469bb962-6384-4f25-800d-512e08b98347"
      },
      "source": [
        "# Ejemplo\n",
        "cadena = 'Hola Mundo'\n",
        "\n",
        "print(cadena.upper())\n",
        "\n",
        "print(cadena.lower())"
      ],
      "execution_count": null,
      "outputs": [
        {
          "output_type": "stream",
          "text": [
            "HOLA MUNDO\n",
            "hola mundo\n"
          ],
          "name": "stdout"
        }
      ]
    },
    {
      "cell_type": "markdown",
      "metadata": {
        "id": "wYiwlr8aPAoJ",
        "colab_type": "text"
      },
      "source": [
        "## Dar forma a las cadenas"
      ]
    },
    {
      "cell_type": "code",
      "metadata": {
        "id": "F0nJ7PJWO4_j",
        "colab_type": "code",
        "colab": {
          "base_uri": "https://localhost:8080/"
        },
        "outputId": "7e430504-81ea-45ff-de02-c0eba5adf13f"
      },
      "source": [
        "cadena = 'El señor {} dicta el curso de {}'\n",
        "nombre = 'Francisco Ospina'\n",
        "curso = 'Python'\n",
        "\n",
        "print(cadena.format(nombre, curso))"
      ],
      "execution_count": null,
      "outputs": [
        {
          "output_type": "stream",
          "text": [
            "El señor Francisco Ospina dicta el curso de Python\n"
          ],
          "name": "stdout"
        }
      ]
    },
    {
      "cell_type": "markdown",
      "metadata": {
        "id": "lSP4zt1RPMXD",
        "colab_type": "text"
      },
      "source": [
        "# Tipos de variables complejas"
      ]
    },
    {
      "cell_type": "markdown",
      "metadata": {
        "id": "QKtk0DRjPSgl",
        "colab_type": "text"
      },
      "source": [
        "## Listas\n",
        "\n",
        "Una lista es un conjunto de elementos ordenados simples o complejos. La forma de acceder a cada elemento de la lista es por su indice o posición en la misma. Los elemento de una lista pueden modificarse en cualquier momento."
      ]
    },
    {
      "cell_type": "code",
      "metadata": {
        "id": "_sWrM4oMPYll",
        "colab_type": "code",
        "colab": {
          "base_uri": "https://localhost:8080/",
          "height": 86
        },
        "outputId": "c3d85e1a-ffb3-41f6-917b-11887dba6dea"
      },
      "source": [
        "# Ejemplos \n",
        "lista1 = [1, 2, 3, 4, 5]\n",
        "\n",
        "print(lista1)\n",
        "print(lista1[2])\n",
        "\n",
        "lista1[3] = 60\n",
        "\n",
        "print(lista1)\n",
        "print(lista1[-1])"
      ],
      "execution_count": null,
      "outputs": [
        {
          "output_type": "stream",
          "text": [
            "[1, 2, 3, 4, 5]\n",
            "3\n",
            "[1, 2, 3, 60, 5]\n",
            "5\n"
          ],
          "name": "stdout"
        }
      ]
    },
    {
      "cell_type": "markdown",
      "metadata": {
        "id": "-sDdvGBKPqef",
        "colab_type": "text"
      },
      "source": [
        "**Nota**\n",
        "Los elementos de una lista pueden tener tipos de datos distintos\n",
        "\n"
      ]
    },
    {
      "cell_type": "code",
      "metadata": {
        "id": "S8-V6PJQPsQo",
        "colab_type": "code",
        "colab": {
          "base_uri": "https://localhost:8080/",
          "height": 52
        },
        "outputId": "4d6eb94a-f3a1-4653-d320-cd62d76d4d7d"
      },
      "source": [
        "# Ejemplo\n",
        "lista2 = [1, 'Hola', [5,60, 'a']]\n",
        "\n",
        "print(lista2)\n",
        "print(lista2[2][2])"
      ],
      "execution_count": null,
      "outputs": [
        {
          "output_type": "stream",
          "text": [
            "[1, 'Hola', [5, 60, 'a']]\n",
            "a\n"
          ],
          "name": "stdout"
        }
      ]
    },
    {
      "cell_type": "markdown",
      "metadata": {
        "id": "VlMI5nuUP0io",
        "colab_type": "text"
      },
      "source": [
        "### Operaciones con listas\n",
        "* Creación de listas de forma eficiente\n",
        "* Concatenación de listas\n",
        "* Pertenencia a listas\n",
        "* Multiplicidad de listas"
      ]
    },
    {
      "cell_type": "markdown",
      "metadata": {
        "id": "7r3buZneQRL7",
        "colab_type": "text"
      },
      "source": [
        "#### Creación de listas de forma eficiente"
      ]
    },
    {
      "cell_type": "code",
      "metadata": {
        "id": "RqLJu1mbQNU7",
        "colab_type": "code",
        "colab": {
          "base_uri": "https://localhost:8080/"
        },
        "outputId": "ea59a90c-67a2-4aaf-dea9-eb24aa9395eb"
      },
      "source": [
        "# Ejemplo\n",
        "list3 = list(range(10))\n",
        "print(list3)\n",
        "\n",
        "# range(start, end [, step])\n",
        "\n",
        "list4 = list(range(20, 50, 5))\n",
        "print(list4)"
      ],
      "execution_count": null,
      "outputs": [
        {
          "output_type": "stream",
          "text": [
            "[0, 1, 2, 3, 4, 5, 6, 7, 8, 9]\n",
            "[20, 25, 30, 35, 40, 45]\n"
          ],
          "name": "stdout"
        }
      ]
    },
    {
      "cell_type": "markdown",
      "metadata": {
        "id": "f_ffnW7XQrq2",
        "colab_type": "text"
      },
      "source": [
        "#### Concatenación de listas"
      ]
    },
    {
      "cell_type": "code",
      "metadata": {
        "id": "c6JFH3ynQtRc",
        "colab_type": "code",
        "colab": {
          "base_uri": "https://localhost:8080/"
        },
        "outputId": "8f8af5b1-3bc4-4b04-bcf4-42f8537e69d7"
      },
      "source": [
        "#Ejemplo\n",
        "list5 = list(range(5))\n",
        "list6 = list(range(20, 25))\n",
        "\n",
        "list7 = list5 + list6\n",
        "\n",
        "print(list7)"
      ],
      "execution_count": null,
      "outputs": [
        {
          "output_type": "stream",
          "text": [
            "[0, 1, 2, 3, 4, 20, 21, 22, 23, 24]\n"
          ],
          "name": "stdout"
        }
      ]
    },
    {
      "cell_type": "markdown",
      "metadata": {
        "id": "qT1PbL59Qy6t",
        "colab_type": "text"
      },
      "source": [
        "#### Pertenencia a listas"
      ]
    },
    {
      "cell_type": "code",
      "metadata": {
        "id": "hwh1PxuKQ0On",
        "colab_type": "code",
        "colab": {
          "base_uri": "https://localhost:8080/"
        },
        "outputId": "fa6ede1f-c640-4f82-9c68-c11043a44d7f"
      },
      "source": [
        "# Ejemplo\n",
        "\n",
        "lista8 = list(range(10))\n",
        "print(lista8)\n",
        "\n",
        "pertenece1 = 8 in lista8\n",
        "print(pertenece1)\n",
        "\n",
        "pertenece2 = 50 in lista8\n",
        "print(pertenece2)\n",
        "\n",
        "print(90 not in lista8)"
      ],
      "execution_count": null,
      "outputs": [
        {
          "output_type": "stream",
          "text": [
            "[0, 1, 2, 3, 4, 5, 6, 7, 8, 9]\n",
            "True\n",
            "False\n",
            "True\n"
          ],
          "name": "stdout"
        }
      ]
    },
    {
      "cell_type": "markdown",
      "metadata": {
        "id": "ievKL5r5Q7Xf",
        "colab_type": "text"
      },
      "source": [
        "#### Modificación de elementos de una lista"
      ]
    },
    {
      "cell_type": "code",
      "metadata": {
        "id": "5y-6WdvRQ8iZ",
        "colab_type": "code",
        "colab": {
          "base_uri": "https://localhost:8080/"
        },
        "outputId": "eafc6d52-7290-40c7-f73c-6a6599c9c622"
      },
      "source": [
        "# Ejemplo\n",
        "\n",
        "lista = list(range(10, 15))\n",
        "print(lista)\n",
        "\n",
        "lista[2] = 45\n",
        "print(lista)"
      ],
      "execution_count": null,
      "outputs": [
        {
          "output_type": "stream",
          "text": [
            "[10, 11, 12, 13, 14]\n",
            "[10, 11, 45, 13, 14]\n"
          ],
          "name": "stdout"
        }
      ]
    },
    {
      "cell_type": "markdown",
      "metadata": {
        "id": "nSp9UwyCRFNu",
        "colab_type": "text"
      },
      "source": [
        "#### Borrado de elementos de una lista"
      ]
    },
    {
      "cell_type": "code",
      "metadata": {
        "id": "Fi0Ny6-dRKl6",
        "colab_type": "code",
        "colab": {
          "base_uri": "https://localhost:8080/"
        },
        "outputId": "72f6b424-fb81-42ba-f765-121aabcf1373"
      },
      "source": [
        "# Ejemplo\n",
        "\n",
        "lista = list(range(10, 15))\n",
        "\n",
        "del lista[3]\n",
        "\n",
        "print(lista)"
      ],
      "execution_count": null,
      "outputs": [
        {
          "output_type": "stream",
          "text": [
            "[10, 11, 12, 14]\n"
          ],
          "name": "stdout"
        }
      ]
    },
    {
      "cell_type": "markdown",
      "metadata": {
        "id": "FeBrqU7gRPwB",
        "colab_type": "text"
      },
      "source": [
        "#### Añadir elementos al final de una lista"
      ]
    },
    {
      "cell_type": "code",
      "metadata": {
        "id": "TzXxFV0ORQ16",
        "colab_type": "code",
        "colab": {
          "base_uri": "https://localhost:8080/",
          "height": 34
        },
        "outputId": "27a40371-316c-4215-c080-ce298706c758"
      },
      "source": [
        "# lista = [10, 11, 12, 13, 14]\n",
        "lista = list(range(10, 15))\n",
        "\n",
        "lista.append(20)\n",
        "# lista = [10, 11, 12, 13, 14, 20]\n",
        "\n",
        "print(lista)"
      ],
      "execution_count": null,
      "outputs": [
        {
          "output_type": "stream",
          "text": [
            "[10, 11, 12, 13, 14, 20]\n"
          ],
          "name": "stdout"
        }
      ]
    },
    {
      "cell_type": "markdown",
      "metadata": {
        "id": "z_ZDIZR1RXoB",
        "colab_type": "text"
      },
      "source": [
        "#### Multiplicidad de listas"
      ]
    },
    {
      "cell_type": "code",
      "metadata": {
        "id": "1nxdC8FWRZCj",
        "colab_type": "code",
        "colab": {
          "base_uri": "https://localhost:8080/",
          "height": 34
        },
        "outputId": "c50e6810-8e55-45e2-a4f4-a546913c812b"
      },
      "source": [
        "# Ejemplo\n",
        "lista9 = [2, 3]\n",
        "lista10 = lista9 * 5\n",
        "\n",
        "print(lista10)"
      ],
      "execution_count": null,
      "outputs": [
        {
          "output_type": "stream",
          "text": [
            "[2, 3, 2, 3, 2, 3, 2, 3, 2, 3]\n"
          ],
          "name": "stdout"
        }
      ]
    },
    {
      "cell_type": "markdown",
      "metadata": {
        "id": "xt91N3YhS8qw",
        "colab_type": "text"
      },
      "source": [
        "#### Sumar todos los elementos de una lista sin utilizar un bucle for"
      ]
    },
    {
      "cell_type": "code",
      "metadata": {
        "id": "-WPyr0P8S8JG",
        "colab_type": "code",
        "colab": {
          "base_uri": "https://localhost:8080/",
          "height": 52
        },
        "outputId": "6bc3caf8-5571-476b-9746-aae1818c36d6"
      },
      "source": [
        "print(sum(range(20)))\n",
        "\n",
        "my_list = [1, 3, 5]\n",
        "print(sum(my_list))"
      ],
      "execution_count": null,
      "outputs": [
        {
          "output_type": "stream",
          "text": [
            "190\n",
            "9\n"
          ],
          "name": "stdout"
        }
      ]
    },
    {
      "cell_type": "markdown",
      "metadata": {
        "id": "GhOLQuzDPUlN",
        "colab_type": "text"
      },
      "source": [
        "## Tuplas\n",
        "\n",
        "Son similares a las listas con la diferencia que sus elementos **no pueden ser modificados** después de creados. Las operaciones son las mismas que las de las listas."
      ]
    },
    {
      "cell_type": "code",
      "metadata": {
        "id": "LTQV3gWwR0js",
        "colab_type": "code",
        "colab": {
          "base_uri": "https://localhost:8080/",
          "height": 34
        },
        "outputId": "4544dc9f-e160-44be-f9d8-a1d8b2f16f5b"
      },
      "source": [
        "# Ejemplo\n",
        "constantes =(3.1416, 2.71828)\n",
        "a = ('b', 1)\n",
        "\n",
        "print(constantes)\n",
        "\n",
        "#constantes[0] = 5"
      ],
      "execution_count": null,
      "outputs": [
        {
          "output_type": "stream",
          "text": [
            "(3.1416, 2.71828)\n"
          ],
          "name": "stdout"
        }
      ]
    },
    {
      "cell_type": "markdown",
      "metadata": {
        "id": "n_YBLnoTZcEq",
        "colab_type": "text"
      },
      "source": [
        "### Retornar una tupla de una función\n",
        "\n"
      ]
    },
    {
      "cell_type": "code",
      "metadata": {
        "id": "UTVDc9R7Zkn6",
        "colab_type": "code",
        "colab": {}
      },
      "source": [
        "def mayor(a, b):\n",
        "  if a < b:\n",
        "    return a, b\n",
        "  else:\n",
        "    return b, a"
      ],
      "execution_count": null,
      "outputs": []
    },
    {
      "cell_type": "code",
      "metadata": {
        "id": "rDzz6bC3Zveb",
        "colab_type": "code",
        "colab": {
          "base_uri": "https://localhost:8080/",
          "height": 121
        },
        "outputId": "a85b1b0d-3492-4894-eeb4-8522e9a7e70b"
      },
      "source": [
        "my_list_1 = [1, 2, 3]\n",
        "my_list_2 = [90, 3, -1]\n",
        "for x, y in zip(my_list_1, my_list_2):\n",
        "  print('x = {} y = {}'.format(x, y))\n",
        "  men, may = mayor(x, y)\n",
        "  print(\"El número {} es menor que {}.\".format(men, may))\n"
      ],
      "execution_count": null,
      "outputs": [
        {
          "output_type": "stream",
          "text": [
            "x = 1 y = 90\n",
            "El número 1 es menor que 90.\n",
            "x = 2 y = 3\n",
            "El número 2 es menor que 3.\n",
            "x = 3 y = -1\n",
            "El número -1 es menor que 3.\n"
          ],
          "name": "stdout"
        }
      ]
    },
    {
      "cell_type": "code",
      "metadata": {
        "id": "HpAvNpiKaMl5",
        "colab_type": "code",
        "colab": {
          "base_uri": "https://localhost:8080/",
          "height": 52
        },
        "outputId": "e56cdd73-7aad-4acd-c942-7a6d85a4056e"
      },
      "source": [
        "a = 5\n",
        "b = 7\n",
        "print(a, b)\n",
        "\n",
        "a, b = b, a\n",
        "\n",
        "print(a, b)"
      ],
      "execution_count": null,
      "outputs": [
        {
          "output_type": "stream",
          "text": [
            "5 7\n",
            "7 5\n"
          ],
          "name": "stdout"
        }
      ]
    },
    {
      "cell_type": "markdown",
      "metadata": {
        "id": "AjjyXOk8PVys",
        "colab_type": "text"
      },
      "source": [
        "## Diccionarios\n",
        "\n",
        "Una diccionario es un conjunto de elementos **NO ordenados** simples o complejos. A diferencia de las listas, la forma de acceder a cada elemento no es por la posición o indice sino por una llave previamente definida.\n"
      ]
    },
    {
      "cell_type": "code",
      "metadata": {
        "id": "pxnY1HuyPEYt",
        "colab_type": "code",
        "colab": {
          "base_uri": "https://localhost:8080/",
          "height": 34
        },
        "outputId": "5a21e339-1445-4c54-86d6-90f1befc74cd"
      },
      "source": [
        "# Ejemplo\n",
        "\n",
        "persona1 = {'Nombre': 'Francisco', \n",
        "            'Apellido': 'Ospina', \n",
        "            'Edad': 37, \n",
        "            'Genero': 'Masculino'}\n",
        "\n",
        "print(persona1)"
      ],
      "execution_count": null,
      "outputs": [
        {
          "output_type": "stream",
          "text": [
            "{'Nombre': 'Francisco', 'Apellido': 'Ospina', 'Edad': 37, 'Genero': 'Masculino'}\n"
          ],
          "name": "stdout"
        }
      ]
    },
    {
      "cell_type": "code",
      "metadata": {
        "id": "sdpDML49jv00",
        "colab_type": "code",
        "colab": {}
      },
      "source": [
        "# persona1[0] #error"
      ],
      "execution_count": null,
      "outputs": []
    },
    {
      "cell_type": "markdown",
      "metadata": {
        "id": "TcpLL6F6SszG",
        "colab_type": "text"
      },
      "source": [
        "### Operaciones con Diccionarios\n",
        "\n",
        "* Acceder a elementos\n",
        "* Añadir elementos\n",
        "* Obtener todas las llaves\n",
        "* Obtener todos los valores\n",
        "* Concatenación de Diccionarios"
      ]
    },
    {
      "cell_type": "markdown",
      "metadata": {
        "id": "pZs9E0l0YuM5",
        "colab_type": "text"
      },
      "source": [
        "#### Acceder a elementos y añadir elementos a un diccionario\n"
      ]
    },
    {
      "cell_type": "code",
      "metadata": {
        "id": "2KtQNhM5Ywe2",
        "colab_type": "code",
        "colab": {
          "base_uri": "https://localhost:8080/",
          "height": 52
        },
        "outputId": "cfcac0b8-c5ee-476b-dded-d4a6f45e00c0"
      },
      "source": [
        "# Ejemplo\n",
        "persona1 = {'Nombre': 'Francisco', \n",
        "            'Apellido': 'Ospina', \n",
        "            'Edad': 37, \n",
        "            'Genero': 'Masculino'}\n",
        "\n",
        "# Acceder a elemento\n",
        "# persona[llave] = valor\n",
        "print(persona1['Nombre'])\n",
        "\n",
        "# Añadir elementos\n",
        "persona1['Profesion'] = 'Data Scientist'\n",
        "\n",
        "print(persona1)\n",
        "\n",
        "#persona1['Nacionalidad'] "
      ],
      "execution_count": null,
      "outputs": [
        {
          "output_type": "stream",
          "text": [
            "Francisco\n",
            "{'Nombre': 'Francisco', 'Apellido': 'Ospina', 'Edad': 37, 'Genero': 'Masculino', 'Profesion': 'Data Scientist'}\n"
          ],
          "name": "stdout"
        }
      ]
    },
    {
      "cell_type": "markdown",
      "metadata": {
        "id": "i-rAuQDwZHQ3",
        "colab_type": "text"
      },
      "source": [
        "#### Obtener todas las llaves y obtener todos los valores de un diccionario"
      ]
    },
    {
      "cell_type": "code",
      "metadata": {
        "id": "23o2uEYGZISZ",
        "colab_type": "code",
        "colab": {
          "base_uri": "https://localhost:8080/",
          "height": 52
        },
        "outputId": "a103e704-57dd-438b-94c3-044fa1d48816"
      },
      "source": [
        "# Ejemplo\n",
        "persona2 = {'Nombre': 'Francisco', \n",
        "            'Apellido': 'Ospina', \n",
        "            'Edad': 37, \n",
        "            'Genero': 'Masculino'}\n",
        "\n",
        "# Obtener todas las llaves\n",
        "print(list(persona2.keys()))\n",
        "\n",
        "# Obtener todos los valores\n",
        "print(list(persona2.values()))"
      ],
      "execution_count": null,
      "outputs": [
        {
          "output_type": "stream",
          "text": [
            "['Nombre', 'Apellido', 'Edad', 'Genero']\n",
            "['Francisco', 'Ospina', 37, 'Masculino']\n"
          ],
          "name": "stdout"
        }
      ]
    },
    {
      "cell_type": "markdown",
      "metadata": {
        "id": "COPGClN2aqU6",
        "colab_type": "text"
      },
      "source": [
        "#### Concatenación de Diccionarios"
      ]
    },
    {
      "cell_type": "code",
      "metadata": {
        "id": "YxbzYnOnasLr",
        "colab_type": "code",
        "colab": {
          "base_uri": "https://localhost:8080/",
          "height": 52
        },
        "outputId": "5e7ddeca-2a19-42e5-f616-997eb832bf99"
      },
      "source": [
        "# Ejemplo\n",
        "persona3 = {'Nombre': 'Francisco', 'Apellido': 'Ospina', 'Edad': 37, 'Genero': 'Masculino'}\n",
        "datos_adicionales = {'Profesion': 'Data Scientist', 'Nacionalidad': 'Colombiana'}\n",
        "\n",
        "persona3.update(datos_adicionales)\n",
        "\n",
        "print(persona3)\n",
        "'''\n",
        "Opcional \n",
        "\n",
        "Para no sobreescribir persona3\n",
        "'''\n",
        "\n",
        "# persona4 = persona3.copy()\n",
        "# persona4.update(datos_adicionales)\n",
        "# print(persona4)"
      ],
      "execution_count": null,
      "outputs": [
        {
          "output_type": "stream",
          "text": [
            "{'Nombre': 'Francisco', 'Apellido': 'Ospina', 'Edad': 37, 'Genero': 'Masculino', 'Profesion': 'Data Scientist', 'Nacionalidad': 'Colombiana'}\n"
          ],
          "name": "stdout"
        },
        {
          "output_type": "execute_result",
          "data": {
            "application/vnd.google.colaboratory.intrinsic+json": {
              "type": "string"
            },
            "text/plain": [
              "'\\nOpcional \\n\\nPara no sobreescribir persona3\\n'"
            ]
          },
          "metadata": {
            "tags": []
          },
          "execution_count": 120
        }
      ]
    },
    {
      "cell_type": "code",
      "metadata": {
        "id": "Y6WYUIqfa1Cq",
        "colab_type": "code",
        "colab": {
          "base_uri": "https://localhost:8080/",
          "height": 34
        },
        "outputId": "80c754b4-1d15-4796-83b7-37b4827a9a14"
      },
      "source": [
        "# Ejemplo\n",
        "persona3 = {'Nombre': 'Francisco', 'Apellido': 'Ospina', 'Edad': 37, 'Genero': 'Masculino'}\n",
        "datos_adicionales = {'Profesion': 'Data Scientist', 'Nacionalidad': 'Colombiana'}\n",
        "\n",
        "# Opcional para no sobreescribir persona3\n",
        "persona4 = persona3.copy()\n",
        "persona4.update(datos_adicionales)\n",
        "print(persona4)"
      ],
      "execution_count": null,
      "outputs": [
        {
          "output_type": "stream",
          "text": [
            "{'Nombre': 'Francisco', 'Apellido': 'Ospina', 'Edad': 37, 'Genero': 'Masculino', 'Profesion': 'Data Scientist', 'Nacionalidad': 'Colombiana'}\n"
          ],
          "name": "stdout"
        }
      ]
    },
    {
      "cell_type": "markdown",
      "metadata": {
        "id": "1TBNRlTzcQDw",
        "colab_type": "text"
      },
      "source": [
        "**Nota**\n",
        "\n",
        "Son estructuras libres de esquema (schemaless)"
      ]
    },
    {
      "cell_type": "code",
      "metadata": {
        "id": "qmf6JB_-b0dX",
        "colab_type": "code",
        "colab": {
          "base_uri": "https://localhost:8080/",
          "height": 34
        },
        "outputId": "54cc1c10-1528-4669-c7d4-4e4d5c935e56"
      },
      "source": [
        "dic = [{'a': 1, 'b': 12}, {'a': 3, 'b': [1,2,3,4,5]}, {'a': 100, 'b': 199}]\n",
        "dic[1]['b']\n"
      ],
      "execution_count": null,
      "outputs": [
        {
          "output_type": "execute_result",
          "data": {
            "text/plain": [
              "[1, 2, 3, 4, 5]"
            ]
          },
          "metadata": {
            "tags": []
          },
          "execution_count": 122
        }
      ]
    },
    {
      "cell_type": "markdown",
      "metadata": {
        "id": "sgKKYKUxa91q",
        "colab_type": "text"
      },
      "source": [
        "# Estructuras de control\n",
        "\n",
        "Las estructuras de control son sentencias que determinan el flujo de un programa. Básicamente ha sentencias de dontrol de dos tipos, aquellas que bifurcan el código para tomar en una dirección o en otra; o aquellas que hacen que el programa ejecute un ciclo de forma repetitiva.\n",
        "* Bifurcación\n",
        "  * if\n",
        "  * if else\n",
        "  * if elif elif ...\n",
        "* bucles o loops\n",
        "  * for\n",
        "  * while\n"
      ]
    },
    {
      "cell_type": "markdown",
      "metadata": {
        "id": "oLyXKWKNbQa6",
        "colab_type": "text"
      },
      "source": [
        "## Bifurcación"
      ]
    },
    {
      "cell_type": "markdown",
      "metadata": {
        "id": "dKtv-CcxbcfK",
        "colab_type": "text"
      },
      "source": [
        "### if\n",
        "El blloque if es un fragmento de código que permite ejecutar un fragmento de código dada una condición. Puede ir acompañado de"
      ]
    },
    {
      "cell_type": "code",
      "metadata": {
        "id": "NO8a1auBdJ8R",
        "colab_type": "code",
        "colab": {
          "base_uri": "https://localhost:8080/",
          "height": 34
        },
        "outputId": "267ba7e7-45c1-45ce-b630-5b7eae82e4b1"
      },
      "source": [
        "# Ejemplo bloque if\n",
        "numero = -5\n",
        "\n",
        "if numero < 0: # Ver dos puntos\n",
        "    print('El número {} es negativo'.format(numero)) # Ver el tabulador"
      ],
      "execution_count": null,
      "outputs": [
        {
          "output_type": "stream",
          "text": [
            "El número -5 es negativo\n"
          ],
          "name": "stdout"
        }
      ]
    },
    {
      "cell_type": "markdown",
      "metadata": {
        "id": "CxhjBaoGbfQD",
        "colab_type": "text"
      },
      "source": [
        "### if else"
      ]
    },
    {
      "cell_type": "code",
      "metadata": {
        "id": "99Nitxg-dKep",
        "colab_type": "code",
        "colab": {
          "base_uri": "https://localhost:8080/",
          "height": 34
        },
        "outputId": "af7623a4-8372-41c4-b1f4-82878c7af38f"
      },
      "source": [
        "# Ejemplo bloque if else\n",
        "numero = 7\n",
        "\n",
        "if numero < 0:\n",
        "    print('El número {} es negativo'.format(numero))\n",
        "else:\n",
        "    print('El número {} es no negativo'.format(numero))"
      ],
      "execution_count": null,
      "outputs": [
        {
          "output_type": "stream",
          "text": [
            "El número 7 es no negativo\n"
          ],
          "name": "stdout"
        }
      ]
    },
    {
      "cell_type": "markdown",
      "metadata": {
        "id": "j0XS1bzWe3ol",
        "colab_type": "text"
      },
      "source": [
        "#### Formas eficientes de hacer un if else simple"
      ]
    },
    {
      "cell_type": "code",
      "metadata": {
        "id": "HTd_n0WLfDhF",
        "colab_type": "code",
        "colab": {
          "base_uri": "https://localhost:8080/",
          "height": 52
        },
        "outputId": "ac3d43d8-93db-4926-fd72-501d6dd52e90"
      },
      "source": [
        "numero = 18\n",
        "\n",
        "# If normal\n",
        "if numero % 2 == 0:\n",
        "    es_par = True\n",
        "else:\n",
        "    es_par = False\n",
        "\n",
        "# If en una sola línea\n",
        "es_par2 = True if numero % 2 == 0 else False\n",
        "\n",
        "print(es_par)\n",
        "print(es_par2)"
      ],
      "execution_count": null,
      "outputs": [
        {
          "output_type": "stream",
          "text": [
            "True\n",
            "True\n"
          ],
          "name": "stdout"
        }
      ]
    },
    {
      "cell_type": "markdown",
      "metadata": {
        "id": "zmPt4WWgbg7j",
        "colab_type": "text"
      },
      "source": [
        "### if elif elif ..."
      ]
    },
    {
      "cell_type": "code",
      "metadata": {
        "id": "nFWdChDSdSER",
        "colab_type": "code",
        "colab": {
          "base_uri": "https://localhost:8080/",
          "height": 34
        },
        "outputId": "471912c1-056a-4630-b0b3-7a78a5505897"
      },
      "source": [
        "# Ejemplo bloque if else\n",
        "numero = 0\n",
        "\n",
        "if numero < 0:\n",
        "    print('El número {} es negativo'.format(numero))\n",
        "elif numero > 0:\n",
        "    print('El número {} es positivo'.format(numero))\n",
        "else:\n",
        "    print('El número {} es cero'.format(numero))"
      ],
      "execution_count": null,
      "outputs": [
        {
          "output_type": "stream",
          "text": [
            "El número 0 es cero\n"
          ],
          "name": "stdout"
        }
      ]
    },
    {
      "cell_type": "markdown",
      "metadata": {
        "id": "YkKTvdgfbTY7",
        "colab_type": "text"
      },
      "source": [
        "## Estructuras de bloques for y while\n",
        "\n",
        "![Bucles o loops](http://res.cloudinary.com/dyd911kmh/image/upload/f_auto,q_auto:best/v1508331558/Loop_2-2_igl4qt.jpg)\n",
        "\n",
        "Imagen extraida desde [DataCamp](https://www.datacamp.com/community/tutorials/loops-python-tutorial)"
      ]
    },
    {
      "cell_type": "markdown",
      "metadata": {
        "id": "BKBjvEdabmsq",
        "colab_type": "text"
      },
      "source": [
        "### while\n",
        "\n",
        "Un ejemplo de uso del bloque while es imprimir todos los número de una secuencia de Fibonacci inferiores a un limite superior o cota.\n",
        "\n"
      ]
    },
    {
      "cell_type": "code",
      "metadata": {
        "id": "UjyknVRif0LE",
        "colab_type": "code",
        "colab": {
          "base_uri": "https://localhost:8080/",
          "height": 139
        },
        "outputId": "ca4911c7-bdf1-4f9d-a469-94d37268157b"
      },
      "source": [
        "limite_superior = 15\n",
        "\n",
        "a, b = 0, 1\n",
        "while b < limite_superior:\n",
        "    print(b),\n",
        "    a, b = b, a + b\n"
      ],
      "execution_count": null,
      "outputs": [
        {
          "output_type": "stream",
          "text": [
            "1\n",
            "1\n",
            "2\n",
            "3\n",
            "5\n",
            "8\n",
            "13\n"
          ],
          "name": "stdout"
        }
      ]
    },
    {
      "cell_type": "code",
      "metadata": {
        "id": "ThUjjURDmclt",
        "colab_type": "code",
        "colab": {
          "base_uri": "https://localhost:8080/",
          "height": 34
        },
        "outputId": "b747da36-c944-46dd-ce79-cfd501a60594"
      },
      "source": [
        "aux = 0\n",
        "while True:\n",
        "  aux = aux + 1\n",
        "  if(aux > 50):\n",
        "    print(\"El bucle se ejecutó 50 veces\")\n",
        "    break"
      ],
      "execution_count": null,
      "outputs": [
        {
          "output_type": "stream",
          "text": [
            "El bucle se ejecutó 50 veces\n"
          ],
          "name": "stdout"
        }
      ]
    },
    {
      "cell_type": "markdown",
      "metadata": {
        "id": "bsaeeTxTbliy",
        "colab_type": "text"
      },
      "source": [
        "### Bucle for\n",
        "\n",
        "* Uso con listas\n",
        "* Uso con listas y range\n",
        "* Uso con tuplas\n",
        "* Uso con diccionarios\n",
        "\n"
      ]
    },
    {
      "cell_type": "code",
      "metadata": {
        "id": "A0FSCq2OgKKM",
        "colab_type": "code",
        "colab": {
          "base_uri": "https://localhost:8080/",
          "height": 104
        },
        "outputId": "e54e0345-5388-4771-aa81-19251bf9a19f"
      },
      "source": [
        "for i in range(5):\n",
        "    print(i)"
      ],
      "execution_count": null,
      "outputs": [
        {
          "output_type": "stream",
          "text": [
            "0\n",
            "1\n",
            "2\n",
            "3\n",
            "4\n"
          ],
          "name": "stdout"
        }
      ]
    },
    {
      "cell_type": "markdown",
      "metadata": {
        "id": "19TCL9VRf4gs",
        "colab_type": "text"
      },
      "source": [
        "#### Uso con listas"
      ]
    },
    {
      "cell_type": "code",
      "metadata": {
        "id": "tGfHPjNbgNsM",
        "colab_type": "code",
        "colab": {
          "base_uri": "https://localhost:8080/",
          "height": 86
        },
        "outputId": "7d155fc7-9096-4cd2-8b67-68f9ef784629"
      },
      "source": [
        "nombres = ['Mario', 'Mariana', 'Gustavo', 'Francisco']\n",
        "\n",
        "for nombre in nombres:\n",
        "    print('El nombre {} tiene {} caracteres'.format(nombre, len(nombre)))"
      ],
      "execution_count": null,
      "outputs": [
        {
          "output_type": "stream",
          "text": [
            "El nombre Mario tiene 5 caracteres\n",
            "El nombre Mariana tiene 7 caracteres\n",
            "El nombre Gustavo tiene 7 caracteres\n",
            "El nombre Francisco tiene 9 caracteres\n"
          ],
          "name": "stdout"
        }
      ]
    },
    {
      "cell_type": "markdown",
      "metadata": {
        "id": "gaVjqxDRf-cr",
        "colab_type": "text"
      },
      "source": [
        "#### Uso con listas y range"
      ]
    },
    {
      "cell_type": "code",
      "metadata": {
        "id": "JRfNUdUJgSJA",
        "colab_type": "code",
        "colab": {
          "base_uri": "https://localhost:8080/",
          "height": 330
        },
        "outputId": "70370b4d-1e02-4d26-fb9f-297039c97d0d"
      },
      "source": [
        "frase = 'Somos lo que hacemos de forma repetida. La excelencia, entonces, no es un acto, sino un hábito. Aristóteles'\n",
        "'''\n",
        "la función split(separador) genera una lista con los elementos que fueron\n",
        "divididos al contener el \"separador\" entre ellos\n",
        "\n",
        "string = 'Hola Mundo'\n",
        "lista_n = string.split(' ')\n",
        "# lista_n = ['Hola', 'Mundo']\n",
        "\n",
        "'''\n",
        "lista_palabras = frase.split(' ')\n",
        "longitud = len(lista_palabras)\n",
        "for i in range(longitud):\n",
        "    print('La palabra \"{}\" se encuentra en la posición {} en la frase'.format(lista_palabras[i], i + 1))"
      ],
      "execution_count": null,
      "outputs": [
        {
          "output_type": "stream",
          "text": [
            "La palabra \"Somos\" se encuentra en la posición 1 en la frase\n",
            "La palabra \"lo\" se encuentra en la posición 2 en la frase\n",
            "La palabra \"que\" se encuentra en la posición 3 en la frase\n",
            "La palabra \"hacemos\" se encuentra en la posición 4 en la frase\n",
            "La palabra \"de\" se encuentra en la posición 5 en la frase\n",
            "La palabra \"forma\" se encuentra en la posición 6 en la frase\n",
            "La palabra \"repetida.\" se encuentra en la posición 7 en la frase\n",
            "La palabra \"La\" se encuentra en la posición 8 en la frase\n",
            "La palabra \"excelencia,\" se encuentra en la posición 9 en la frase\n",
            "La palabra \"entonces,\" se encuentra en la posición 10 en la frase\n",
            "La palabra \"no\" se encuentra en la posición 11 en la frase\n",
            "La palabra \"es\" se encuentra en la posición 12 en la frase\n",
            "La palabra \"un\" se encuentra en la posición 13 en la frase\n",
            "La palabra \"acto,\" se encuentra en la posición 14 en la frase\n",
            "La palabra \"sino\" se encuentra en la posición 15 en la frase\n",
            "La palabra \"un\" se encuentra en la posición 16 en la frase\n",
            "La palabra \"hábito.\" se encuentra en la posición 17 en la frase\n",
            "La palabra \"Aristóteles\" se encuentra en la posición 18 en la frase\n"
          ],
          "name": "stdout"
        }
      ]
    },
    {
      "cell_type": "markdown",
      "metadata": {
        "id": "Mk78BTbjolpQ",
        "colab_type": "text"
      },
      "source": [
        "**Una versión más eficiente**"
      ]
    },
    {
      "cell_type": "code",
      "metadata": {
        "id": "DGsc750ZolAE",
        "colab_type": "code",
        "colab": {
          "base_uri": "https://localhost:8080/",
          "height": 347
        },
        "outputId": "08847769-9109-4447-efb7-92625644bd46"
      },
      "source": [
        "frase = 'Somos lo que hacemos de forma repetida. La excelencia, entonces, no es un acto, sino un hábito. Aristóteles'\n",
        "lista_palabras = frase.split(' ')\n",
        "print(enumerate(lista_palabras))\n",
        "for i, palabra in enumerate(lista_palabras):\n",
        "    print('La palabra \"{}\" se encuentra en la posición {} en la frase'.format(palabra, i + 1))"
      ],
      "execution_count": null,
      "outputs": [
        {
          "output_type": "stream",
          "text": [
            "<enumerate object at 0x7f41e7cfc8b8>\n",
            "La palabra \"Somos\" se encuentra en la posición 1 en la frase\n",
            "La palabra \"lo\" se encuentra en la posición 2 en la frase\n",
            "La palabra \"que\" se encuentra en la posición 3 en la frase\n",
            "La palabra \"hacemos\" se encuentra en la posición 4 en la frase\n",
            "La palabra \"de\" se encuentra en la posición 5 en la frase\n",
            "La palabra \"forma\" se encuentra en la posición 6 en la frase\n",
            "La palabra \"repetida.\" se encuentra en la posición 7 en la frase\n",
            "La palabra \"La\" se encuentra en la posición 8 en la frase\n",
            "La palabra \"excelencia,\" se encuentra en la posición 9 en la frase\n",
            "La palabra \"entonces,\" se encuentra en la posición 10 en la frase\n",
            "La palabra \"no\" se encuentra en la posición 11 en la frase\n",
            "La palabra \"es\" se encuentra en la posición 12 en la frase\n",
            "La palabra \"un\" se encuentra en la posición 13 en la frase\n",
            "La palabra \"acto,\" se encuentra en la posición 14 en la frase\n",
            "La palabra \"sino\" se encuentra en la posición 15 en la frase\n",
            "La palabra \"un\" se encuentra en la posición 16 en la frase\n",
            "La palabra \"hábito.\" se encuentra en la posición 17 en la frase\n",
            "La palabra \"Aristóteles\" se encuentra en la posición 18 en la frase\n"
          ],
          "name": "stdout"
        }
      ]
    },
    {
      "cell_type": "markdown",
      "metadata": {
        "id": "k6edHRaIgBmk",
        "colab_type": "text"
      },
      "source": [
        "#### Uso con tuplas"
      ]
    },
    {
      "cell_type": "markdown",
      "metadata": {
        "id": "QW2RNA0PgDI8",
        "colab_type": "text"
      },
      "source": [
        "#### Uso con diccionarios\n",
        "\n",
        "\n"
      ]
    },
    {
      "cell_type": "markdown",
      "metadata": {
        "id": "ADnzPB6fgpYv",
        "colab_type": "text"
      },
      "source": [
        "##### Iteradores de llaves"
      ]
    },
    {
      "cell_type": "code",
      "metadata": {
        "id": "QtX1RLu7gy5Q",
        "colab_type": "code",
        "colab": {
          "base_uri": "https://localhost:8080/",
          "height": 121
        },
        "outputId": "109e60a8-3055-40bb-8e6c-56b6b7fedb5c"
      },
      "source": [
        "dic = {'Nombre': 'Francisco', \n",
        "       'Apellido': 'Ospina', \n",
        "       'Edad': 37, 'Genero': \n",
        "       'Masculino', 'Profesion': \n",
        "       'Data Scientist', \n",
        "       'Nacionalidad': 'Colombiana'}\n",
        "\n",
        "# Iterar Llaves\n",
        "for key in dic.keys():\n",
        "    print(key)"
      ],
      "execution_count": null,
      "outputs": [
        {
          "output_type": "stream",
          "text": [
            "Nombre\n",
            "Apellido\n",
            "Edad\n",
            "Genero\n",
            "Profesion\n",
            "Nacionalidad\n"
          ],
          "name": "stdout"
        }
      ]
    },
    {
      "cell_type": "markdown",
      "metadata": {
        "id": "Ik9yGJIYgtrw",
        "colab_type": "text"
      },
      "source": [
        "##### Iteradores de valores"
      ]
    },
    {
      "cell_type": "code",
      "metadata": {
        "id": "62ZTh8USg1wC",
        "colab_type": "code",
        "colab": {
          "base_uri": "https://localhost:8080/",
          "height": 121
        },
        "outputId": "458293d3-b664-4a17-f6dc-8d895e317fa5"
      },
      "source": [
        "for value in dic.values():\n",
        "    print(value)"
      ],
      "execution_count": null,
      "outputs": [
        {
          "output_type": "stream",
          "text": [
            "Francisco\n",
            "Ospina\n",
            "37\n",
            "Masculino\n",
            "Data Scientist\n",
            "Colombiana\n"
          ],
          "name": "stdout"
        }
      ]
    },
    {
      "cell_type": "markdown",
      "metadata": {
        "id": "4myxAj50guzu",
        "colab_type": "text"
      },
      "source": [
        "##### Iteradores de llaves y valores"
      ]
    },
    {
      "cell_type": "code",
      "metadata": {
        "id": "Jfyi-IlRg6ci",
        "colab_type": "code",
        "colab": {
          "base_uri": "https://localhost:8080/",
          "height": 121
        },
        "outputId": "e8cfbfbd-5ab3-4a87-9678-6970268d93f7"
      },
      "source": [
        "for key, value in dic.items():\n",
        "    print('La llave es \"{}\" y el valor es \"{}\"'.format(key, value))"
      ],
      "execution_count": null,
      "outputs": [
        {
          "output_type": "stream",
          "text": [
            "La llave es \"Nombre\" y el valor es \"Francisco\"\n",
            "La llave es \"Apellido\" y el valor es \"Ospina\"\n",
            "La llave es \"Edad\" y el valor es \"37\"\n",
            "La llave es \"Genero\" y el valor es \"Masculino\"\n",
            "La llave es \"Profesion\" y el valor es \"Data Scientist\"\n",
            "La llave es \"Nacionalidad\" y el valor es \"Colombiana\"\n"
          ],
          "name": "stdout"
        }
      ]
    },
    {
      "cell_type": "markdown",
      "metadata": {
        "id": "-Np13j-ihTaz",
        "colab_type": "text"
      },
      "source": [
        "#### Bucles for útiles\n",
        "\n",
        "* Listas por comprensión\n",
        "* Iteradores de dos objetos simultaneos"
      ]
    },
    {
      "cell_type": "markdown",
      "metadata": {
        "id": "nPX_OcjJhaYj",
        "colab_type": "text"
      },
      "source": [
        "##### Listas por comprensión"
      ]
    },
    {
      "cell_type": "code",
      "metadata": {
        "id": "Lq0OnwTIhS87",
        "colab_type": "code",
        "colab": {
          "base_uri": "https://localhost:8080/",
          "height": 52
        },
        "outputId": "19668470-f290-4dd3-dd79-54afa24dc161"
      },
      "source": [
        "# Ejemplo lista normal\n",
        "\n",
        "numeros = range(1, 11)\n",
        "cuadrados = list()\n",
        "for i in numeros:\n",
        "    cuadrados.append(i ** 2)\n",
        "    \n",
        "print(list(numeros))\n",
        "print(cuadrados)"
      ],
      "execution_count": null,
      "outputs": [
        {
          "output_type": "stream",
          "text": [
            "[1, 2, 3, 4, 5, 6, 7, 8, 9, 10]\n",
            "[1, 4, 9, 16, 25, 36, 49, 64, 81, 100]\n"
          ],
          "name": "stdout"
        }
      ]
    },
    {
      "cell_type": "code",
      "metadata": {
        "id": "0Mg4H61bhqRl",
        "colab_type": "code",
        "colab": {
          "base_uri": "https://localhost:8080/",
          "height": 52
        },
        "outputId": "f79e6063-06d0-41a8-82fa-52c4c5bb2bc3"
      },
      "source": [
        "# Mismo ejemplo pero con lista por comprensión\n",
        "\n",
        "numeros = range(1, 11)\n",
        "cuadrados = [x ** 2 for x in numeros]\n",
        "\n",
        "print(list(numeros))\n",
        "print(cuadrados)"
      ],
      "execution_count": null,
      "outputs": [
        {
          "output_type": "stream",
          "text": [
            "[1, 2, 3, 4, 5, 6, 7, 8, 9, 10]\n",
            "[1, 4, 9, 16, 25, 36, 49, 64, 81, 100]\n"
          ],
          "name": "stdout"
        }
      ]
    },
    {
      "cell_type": "code",
      "metadata": {
        "id": "wITSSWwzhsR9",
        "colab_type": "code",
        "colab": {
          "base_uri": "https://localhost:8080/",
          "height": 52
        },
        "outputId": "cd0532ce-6215-45b0-811d-5c9d874d9e7e"
      },
      "source": [
        "# Ejemplo lista por comprensión\n",
        "\n",
        "numeros = range(1, 11)\n",
        "pares = [x for x in numeros if x % 2 == 0]\n",
        "\n",
        "print(list(numeros))\n",
        "print(pares)"
      ],
      "execution_count": null,
      "outputs": [
        {
          "output_type": "stream",
          "text": [
            "[1, 2, 3, 4, 5, 6, 7, 8, 9, 10]\n",
            "[2, 4, 6, 8, 10]\n"
          ],
          "name": "stdout"
        }
      ]
    },
    {
      "cell_type": "markdown",
      "metadata": {
        "id": "ZDBNobEJhw0l",
        "colab_type": "text"
      },
      "source": [
        "##### Iteradores de dos objetos simultaneos"
      ]
    },
    {
      "cell_type": "code",
      "metadata": {
        "id": "ue2xdJfOh0Nn",
        "colab_type": "code",
        "cellView": "both",
        "colab": {
          "base_uri": "https://localhost:8080/",
          "height": 34
        },
        "outputId": "52afa523-606f-4066-914a-98d528e9c813"
      },
      "source": [
        "#@title\n",
        "base = [1, 2, 6, 4, 7]\n",
        "exponente = [2, 1, 3, 4, 8]\n",
        "\n",
        "potencia = [x ** y for x,y in zip(base, exponente)]\n",
        "\n",
        "print(potencia)"
      ],
      "execution_count": null,
      "outputs": [
        {
          "output_type": "stream",
          "text": [
            "[1, 2, 216, 256, 5764801]\n"
          ],
          "name": "stdout"
        }
      ]
    }
  ]
}