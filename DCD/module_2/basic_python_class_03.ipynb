{
  "nbformat": 4,
  "nbformat_minor": 0,
  "metadata": {
    "colab": {
      "name": "basic_python_class_03.ipynb",
      "provenance": [],
      "collapsed_sections": [],
      "include_colab_link": true
    },
    "kernelspec": {
      "name": "python3",
      "display_name": "Python 3"
    }
  },
  "cells": [
    {
      "cell_type": "markdown",
      "metadata": {
        "id": "view-in-github",
        "colab_type": "text"
      },
      "source": [
        "<a href=\"https://colab.research.google.com/github/gtzambranop/UN_2020_2/blob/DCD%2Fweek_4/DCD/module_2/basic_python_class_03.ipynb\" target=\"_parent\"><img src=\"https://colab.research.google.com/assets/colab-badge.svg\" alt=\"Open In Colab\"/></a>"
      ]
    },
    {
      "cell_type": "markdown",
      "metadata": {
        "id": "9NIt06jTqxUR",
        "colab_type": "text"
      },
      "source": [
        "# **\"Pyhton Básico\"**\n",
        "\n",
        "* **Profesor:** Francisco Javier Ospina Salazar\n",
        "* **Monitoras:**\n",
        "  - Diana Carolina Sanchez Perez\n",
        "  - Guiselle Tatiana Zambrano Penagos\n",
        "* **Fechas:** \n",
        "  - Inicio: 2020-09-12\n",
        "  - Final: 2020-09-29\n",
        "* [Presentacióón del curso](http://ospinafrancisco.com/)\n"
      ]
    },
    {
      "cell_type": "markdown",
      "metadata": {
        "id": "XAwYQa8c56zD",
        "colab_type": "text"
      },
      "source": [
        "# Funciones\n",
        "\n",
        "* Funciones \n",
        "  * Definición \n",
        "    * nombre\n",
        "    * parámetros\n",
        "    * Retorno\n",
        "    * Ambito de las variables\n",
        "  * Ámbito de las variables\n",
        "  * Docstrings\n",
        "  * Parámetros por defecto\n",
        "  * Parámetros * y **\n",
        "  * Funciones con multiples retornos\n",
        "  * Funciones con retornos none\n",
        "  * Funciones en archivos alternos"
      ]
    },
    {
      "cell_type": "markdown",
      "metadata": {
        "id": "NelrMzj6--gF",
        "colab_type": "text"
      },
      "source": [
        "## Definición de funciones\n",
        "\n",
        "* Se usa la sentencia **def** para empezar a definir una funcion\n",
        "* Se bautiza la función, es decir se le pone un nombre\n",
        "* Se definen los parámetros de entrada (uno, múltiples o ninguno)\n",
        "* Se definen lis valores de retorno (uno, ninguno o múltiples)"
      ]
    },
    {
      "cell_type": "markdown",
      "metadata": {
        "id": "_V-12aP-qclG",
        "colab_type": "text"
      },
      "source": [
        "### Definición simple\n"
      ]
    },
    {
      "cell_type": "code",
      "metadata": {
        "id": "vfFes45vqh22",
        "colab_type": "code",
        "colab": {}
      },
      "source": [
        "# Ejemplo de definición función\n",
        "\n",
        "def imprimir_hola(): # Una función tiene un nombre\n",
        "  print('hola') # Todo lo que dentro de la identación es código que la función ejecuta  "
      ],
      "execution_count": 22,
      "outputs": []
    },
    {
      "cell_type": "code",
      "metadata": {
        "id": "GxoHhR0dqreT",
        "colab_type": "code",
        "colab": {
          "base_uri": "https://localhost:8080/",
          "height": 34
        },
        "outputId": "fb870a07-e7dc-46b4-8728-1f59875d46f6"
      },
      "source": [
        "# El llamado a una función se realiza con su nombre seguido de parentesis, si la función recibe parámetros\n",
        "# estos deben ir entre los parentesis.\n",
        "imprimir_hola()"
      ],
      "execution_count": 23,
      "outputs": [
        {
          "output_type": "stream",
          "text": [
            "hola\n"
          ],
          "name": "stdout"
        }
      ]
    },
    {
      "cell_type": "code",
      "metadata": {
        "id": "tydRxePt5voe",
        "colab_type": "code",
        "colab": {}
      },
      "source": [
        "# Ejemplo de función\n",
        "from datetime import datetime as dt\n",
        "\n",
        "def concatena_textos(param1, param2): # Definición nombre y parámetros de entrada\n",
        "    \n",
        "    now = dt.now() # Creación de variables internas dentro de la función\n",
        "    print('La función se ejecutó a las {}'.format(now)) # Sentencias que cumplen algún proposito\n",
        "    \n",
        "    retorno_concat = param1 + ' ' + param2 # retorno de la funcióm\n",
        "    \n",
        "    return retorno_concat"
      ],
      "execution_count": 24,
      "outputs": []
    },
    {
      "cell_type": "code",
      "metadata": {
        "id": "T-ws2YBK_l2y",
        "colab_type": "code",
        "colab": {
          "base_uri": "https://localhost:8080/",
          "height": 69
        },
        "outputId": "90d325cb-7a1d-4e7e-dd74-9aa84347614d"
      },
      "source": [
        "string_1 = \"Hola\"\n",
        "string_2 = \"Mundo\"\n",
        "nueva_cadena = concatena_textos(string_1, string_2)\n",
        "print(nueva_cadena)"
      ],
      "execution_count": 42,
      "outputs": [
        {
          "output_type": "stream",
          "text": [
            "La función se ejecutó a las 2020-09-20 18:06:21.739043\n",
            "7\n",
            "Hola Mundo\n"
          ],
          "name": "stdout"
        }
      ]
    },
    {
      "cell_type": "code",
      "metadata": {
        "id": "ULwqQYOQrxfP",
        "colab_type": "code",
        "colab": {}
      },
      "source": [
        "def menor(a, b):\n",
        "  if(a < b):\n",
        "    return a\n",
        "  else:\n",
        "    return b"
      ],
      "execution_count": 26,
      "outputs": []
    },
    {
      "cell_type": "code",
      "metadata": {
        "id": "B6NIe1v8sD1q",
        "colab_type": "code",
        "colab": {
          "base_uri": "https://localhost:8080/",
          "height": 34
        },
        "outputId": "fd131045-6643-40c9-e958-3a6da430a6b3"
      },
      "source": [
        "menor(90, 1)"
      ],
      "execution_count": 27,
      "outputs": [
        {
          "output_type": "execute_result",
          "data": {
            "text/plain": [
              "1"
            ]
          },
          "metadata": {
            "tags": []
          },
          "execution_count": 27
        }
      ]
    },
    {
      "cell_type": "markdown",
      "metadata": {
        "id": "NWfUdI1s_8da",
        "colab_type": "text"
      },
      "source": [
        "## Ámbito de las variables\n",
        "\n",
        "Las variables creadas dentro de una función no pueden ser invocadas desde afuera de la función."
      ]
    },
    {
      "cell_type": "code",
      "metadata": {
        "id": "5WkfdMlJ_5sT",
        "colab_type": "code",
        "colab": {
          "base_uri": "https://localhost:8080/",
          "height": 52
        },
        "outputId": "a10be725-592d-49c1-e1fd-3867b1946833"
      },
      "source": [
        "# Ejemplo de función\n",
        "from datetime import datetime as dt\n",
        "\n",
        "def concatena_textos(param1, param2): # Definición nombre y parámetros de entrada\n",
        "    \n",
        "    now = dt.now() # Creación de variables internas dentro de la función\n",
        "    print('La función se ejecutó a las {}'.format(now)) # Sentencias que cumplen algún proposito\n",
        "    \n",
        "    retorno_concat = param1 + ' ' + param2 # retorno de la funcióm\n",
        "    \n",
        "    return retorno_concat\n",
        "\n",
        "concatena_textos('Hola', 'Mundo')"
      ],
      "execution_count": 28,
      "outputs": [
        {
          "output_type": "stream",
          "text": [
            "La función se ejecutó a las 2020-09-20 17:51:47.492719\n"
          ],
          "name": "stdout"
        },
        {
          "output_type": "execute_result",
          "data": {
            "application/vnd.google.colaboratory.intrinsic+json": {
              "type": "string"
            },
            "text/plain": [
              "'Hola Mundo'"
            ]
          },
          "metadata": {
            "tags": []
          },
          "execution_count": 28
        }
      ]
    },
    {
      "cell_type": "code",
      "metadata": {
        "id": "vwyTtL0YAGeu",
        "colab_type": "code",
        "colab": {}
      },
      "source": [
        "#print(now)  # error - la variable now, solo existe en la función concatena_textos()"
      ],
      "execution_count": 44,
      "outputs": []
    },
    {
      "cell_type": "markdown",
      "metadata": {
        "id": "WGlFnYNnsV9H",
        "colab_type": "text"
      },
      "source": [
        "Las variables creadas dentro de una función **pueden** tener nombres iguales a variables externas a la función. Si se modifican las internas, esto no altera las externas."
      ]
    },
    {
      "cell_type": "code",
      "metadata": {
        "id": "f-HNxaaQsSHd",
        "colab_type": "code",
        "colab": {
          "base_uri": "https://localhost:8080/",
          "height": 86
        },
        "outputId": "9d3d7192-f893-4428-ce78-490a8f46aa72"
      },
      "source": [
        "a = 20\n",
        "print(a)\n",
        "\n",
        "def concatena_textos(param1, param2): # Definición nombre y parámetros de entrada\n",
        "    \n",
        "    now = dt.now() # Creación de variables internas dentro de la función\n",
        "    print('La función se ejecutó a las {}'.format(now)) # Sentencias que cumplen algún proposito\n",
        "    a = 7\n",
        "    print(a)\n",
        "    \n",
        "    retorno_concat = param1 + ' ' + param2 # retorno de la funcióm\n",
        "    \n",
        "    return retorno_concat\n",
        "\n",
        "concatena_textos('Hola', 'Mundo')\n",
        "print(a)"
      ],
      "execution_count": 41,
      "outputs": [
        {
          "output_type": "stream",
          "text": [
            "20\n",
            "La función se ejecutó a las 2020-09-20 17:58:27.149616\n",
            "7\n",
            "20\n"
          ],
          "name": "stdout"
        }
      ]
    },
    {
      "cell_type": "markdown",
      "metadata": {
        "id": "qxlwdmTwAoYL",
        "colab_type": "text"
      },
      "source": [
        "## Docstrings\n",
        "\n",
        "Son cadenas de texto cuyo proposito es documentar al mayor detalle posible el comportamiento de la función."
      ]
    },
    {
      "cell_type": "code",
      "metadata": {
        "id": "5v7i1gf1AmJ1",
        "colab_type": "code",
        "colab": {}
      },
      "source": [
        "# Ejemplo de función\n",
        "from datetime import datetime as dt\n",
        "\n",
        "def concatena_textos_2(param1, param2): # Definición nombre y parámetros de entrada\n",
        "    '''\n",
        "    imprime_parametros(string, string)\n",
        "    \n",
        "    Concatena dos textos separados por un espacio.\n",
        "    \n",
        "    Parámetros\n",
        "    ----------\n",
        "    param1 : string\n",
        "    \n",
        "    param2 : string\n",
        "    \n",
        "    Retorno\n",
        "    ----------\n",
        "    out : String\n",
        "        Cadena resultante de concatenar las dos cadenas \n",
        "        entrantes añadiendo un espacio en blanco en el medio\n",
        "\n",
        "    Examples\n",
        "    --------\n",
        "    \n",
        "    [in] imprime_parametros('Francisco', 'Ospina')\n",
        "    [out] 'Francisco Ospina'\n",
        "    '''\n",
        "    \n",
        "    \n",
        "    now = dt.now() # Creación de variables internas dentro de la función\n",
        "    print('La función se ejecutó a las {}'.format(now)) # Sentencias que cumplen algún proposito\n",
        "    \n",
        "    retorno_concat = param1 + ' ' + param2 # retorno de la funcióm\n",
        "    \n",
        "    return retorno_concat"
      ],
      "execution_count": 31,
      "outputs": []
    },
    {
      "cell_type": "code",
      "metadata": {
        "id": "NntnwQM3A0Ex",
        "colab_type": "code",
        "colab": {
          "base_uri": "https://localhost:8080/",
          "height": 52
        },
        "outputId": "c5ff4059-33e4-4717-a4f6-573abe786f89"
      },
      "source": [
        "string_1 = \"Hola\"\n",
        "string_2 = \"Mundo\"\n",
        "concatena_textos_2(string_1, string_2)"
      ],
      "execution_count": 32,
      "outputs": [
        {
          "output_type": "stream",
          "text": [
            "La función se ejecutó a las 2020-09-20 17:51:47.551956\n"
          ],
          "name": "stdout"
        },
        {
          "output_type": "execute_result",
          "data": {
            "application/vnd.google.colaboratory.intrinsic+json": {
              "type": "string"
            },
            "text/plain": [
              "'Hola Mundo'"
            ]
          },
          "metadata": {
            "tags": []
          },
          "execution_count": 32
        }
      ]
    },
    {
      "cell_type": "markdown",
      "metadata": {
        "id": "xkWhCRvdBnCd",
        "colab_type": "text"
      },
      "source": [
        "## Parámetros por defecto\n",
        "\n",
        "Se pueden establecer parámetros por defecto los cuales pueden ser omitidos a la hora de llamar a la función."
      ]
    },
    {
      "cell_type": "code",
      "metadata": {
        "id": "wZKkIR65Bqhb",
        "colab_type": "code",
        "colab": {
          "base_uri": "https://localhost:8080/",
          "height": 34
        },
        "outputId": "eb9a4a9e-ef41-4aca-d922-c4376255fe73"
      },
      "source": [
        "def multiple_impresion(texto, repeticiones=1):\n",
        "    for i in range(repeticiones):\n",
        "        print(texto)\n",
        "\n",
        "# No hay necesidad de colocar el segundo parámetro porque ya se le asignó\n",
        "# un valor por defecto\n",
        "multiple_impresion('Hola')"
      ],
      "execution_count": 33,
      "outputs": [
        {
          "output_type": "stream",
          "text": [
            "Hola\n"
          ],
          "name": "stdout"
        }
      ]
    },
    {
      "cell_type": "code",
      "metadata": {
        "id": "sRngE3S6Br12",
        "colab_type": "code",
        "colab": {
          "base_uri": "https://localhost:8080/",
          "height": 52
        },
        "outputId": "78911bd2-15ba-49dd-fe10-0dbd6d1506c3"
      },
      "source": [
        "multiple_impresion('Hola', 2)"
      ],
      "execution_count": 34,
      "outputs": [
        {
          "output_type": "stream",
          "text": [
            "Hola\n",
            "Hola\n"
          ],
          "name": "stdout"
        }
      ]
    },
    {
      "cell_type": "markdown",
      "metadata": {
        "id": "vljt-SLvB7ZE",
        "colab_type": "text"
      },
      "source": [
        "## Parámetros * y **\n",
        "\n",
        "Los prefijos * y ** se usan para definir multiples parámetros opcionales en una función\n"
      ]
    },
    {
      "cell_type": "code",
      "metadata": {
        "id": "ZMsvb8YjCr-6",
        "colab_type": "code",
        "colab": {
          "base_uri": "https://localhost:8080/",
          "height": 173
        },
        "outputId": "048028fd-c1b7-4896-eaeb-3a360a79c70c"
      },
      "source": [
        "# param1 y param2 deben ser ingresados al llamar la función\n",
        "# Cuando se usa un asterisco antes de \"adicionales\"\n",
        "# indica que hay una tupla que puede ser ingresada como parámetro opcional\n",
        "def imprimir_params_1(param1, param2, *adicionales):\n",
        "    print(type(adicionales))\n",
        "    print(adicionales)\n",
        "    print(param1)\n",
        "    print(param2)\n",
        "    # si la tupla \"adicionales\" no tiene valores, no se ejecuta el bucle\n",
        "    for param_adicional in adicionales:\n",
        "        print(param_adicional)\n",
        "\n",
        "imprimir_params_1(1,2,3,4,5,6,7)"
      ],
      "execution_count": 46,
      "outputs": [
        {
          "output_type": "stream",
          "text": [
            "<class 'tuple'>\n",
            "(3, 4, 5, 6, 7)\n",
            "1\n",
            "2\n",
            "3\n",
            "4\n",
            "5\n",
            "6\n",
            "7\n"
          ],
          "name": "stdout"
        }
      ]
    },
    {
      "cell_type": "code",
      "metadata": {
        "id": "gnC8mL6tB1gu",
        "colab_type": "code",
        "colab": {
          "base_uri": "https://localhost:8080/",
          "height": 121
        },
        "outputId": "60aa24e1-2cfb-4b43-965a-3ed349729983"
      },
      "source": [
        "# Cuando se usan dos asteriscos antes de \"adicionales\"\n",
        "# indica que hay un diccionario que puede ser ingresado como parámetro opcional\n",
        "def imprimir_params_2(param1, param2, **adicionales):\n",
        "    print(type(adicionales))\n",
        "    print(adicionales)\n",
        "    print(param1)\n",
        "    print(param2)\n",
        "    for key, value in adicionales.items():\n",
        "        print('{} : {}'.format(key, value))\n",
        "imprimir_params_2(1,2, nombre = 'Francisco', apellido = 'Ospina')"
      ],
      "execution_count": 47,
      "outputs": [
        {
          "output_type": "stream",
          "text": [
            "<class 'dict'>\n",
            "{'nombre': 'Francisco', 'apellido': 'Ospina'}\n",
            "1\n",
            "2\n",
            "nombre : Francisco\n",
            "apellido : Ospina\n"
          ],
          "name": "stdout"
        }
      ]
    },
    {
      "cell_type": "markdown",
      "metadata": {
        "id": "9bCxDh3gC3Ly",
        "colab_type": "text"
      },
      "source": [
        "## Funciones con multiples retornos\n"
      ]
    },
    {
      "cell_type": "code",
      "metadata": {
        "id": "0vfNXeIsCVVt",
        "colab_type": "code",
        "colab": {
          "base_uri": "https://localhost:8080/",
          "height": 69
        },
        "outputId": "23ae14a9-ef0b-4064-d9dc-8cf2c95a5c8d"
      },
      "source": [
        " def retorna_menor_mayor(a, b):\n",
        "    if a < b:\n",
        "        print(\"Me ejecuto\")\n",
        "        return a, b\n",
        "    else :\n",
        "        print(\"Me ejecuto\")\n",
        "        return b, a\n",
        "    # el flujo de la función no llega hasta acá porque el return cierra\n",
        "    # la ejecución al devolver el resultado\n",
        "    print(\"Nunca me ejecuto\")\n",
        "\n",
        "menor, mayor = retorna_menor_mayor(7,5)\n",
        "print(menor)\n",
        "print(mayor)"
      ],
      "execution_count": 37,
      "outputs": [
        {
          "output_type": "stream",
          "text": [
            "Me ejecuto\n",
            "5\n",
            "7\n"
          ],
          "name": "stdout"
        }
      ]
    }
  ]
}