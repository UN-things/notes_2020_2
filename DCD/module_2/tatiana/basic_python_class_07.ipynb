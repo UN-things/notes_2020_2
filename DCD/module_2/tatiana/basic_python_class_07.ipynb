{
  "nbformat": 4,
  "nbformat_minor": 0,
  "metadata": {
    "celltoolbar": "Slideshow",
    "kernelspec": {
      "display_name": "Python 3",
      "language": "python",
      "name": "python3"
    },
    "language_info": {
      "codemirror_mode": {
        "name": "ipython",
        "version": 3
      },
      "file_extension": ".py",
      "mimetype": "text/x-python",
      "name": "python",
      "nbconvert_exporter": "python",
      "pygments_lexer": "ipython3",
      "version": "3.8.5"
    },
    "colab": {
      "name": "basic_python_class_07.ipynb",
      "provenance": [],
      "collapsed_sections": [],
      "include_colab_link": true
    }
  },
  "cells": [
    {
      "cell_type": "markdown",
      "metadata": {
        "id": "view-in-github",
        "colab_type": "text"
      },
      "source": [
        "<a href=\"https://colab.research.google.com/github/gtzambranop/UN_2020_2/blob/DCD/DCD/module_2/basic_python_class_07.ipynb\" target=\"_parent\"><img src=\"https://colab.research.google.com/assets/colab-badge.svg\" alt=\"Open In Colab\"/></a>"
      ]
    },
    {
      "cell_type": "markdown",
      "metadata": {
        "id": "9NIt06jTqxUR"
      },
      "source": [
        "# **\"Pyhton Básico\"**\n",
        "\n",
        "* **Profesor:** Francisco Javier Ospina Salazar\n",
        "* **Monitoras:**\n",
        "  - Diana Carolina Sanchez Perez\n",
        "  - Guiselle Tatiana Zambrano Penagos\n",
        "* **Fechas:** \n",
        "  - Inicio: 2020-09-12\n",
        "  - Final: 2020-09-29\n",
        "* [Presentación del curso](http://34.221.75.109/#/)\n"
      ]
    },
    {
      "cell_type": "markdown",
      "metadata": {
        "id": "mRJy5gh4NrP8"
      },
      "source": [
        "### Contenido de la clase\n",
        "\n",
        "- Trabajando con fechas y horas\n",
        "    - Datetimes\n",
        "    - Timedeltas\n",
        "    - Dates\n",
        "    - Times\n",
        "    - Formato Datetimes\n",
        "    - Operaciones con Datetimes\n",
        "- Estadísticos descriptivos\n",
        "    - Media\n",
        "    - Mediana\n",
        "    - Moda\n",
        "    - Máximo\n",
        "    - Mínimo\n",
        "    - Varianza\n",
        "    - Desviación estándar\n",
        "    - Rango intercuartílico\n",
        "- Estadísticos de asociación\n",
        "    - Covarianza\n",
        "    - Correlación"
      ]
    },
    {
      "cell_type": "markdown",
      "metadata": {
        "id": "OckJQJzlNrQF"
      },
      "source": [
        "## Trabajando con fechas y horas"
      ]
    },
    {
      "cell_type": "code",
      "metadata": {
        "id": "0GP0yAgINrQM"
      },
      "source": [
        "from datetime import datetime"
      ],
      "execution_count": 119,
      "outputs": []
    },
    {
      "cell_type": "markdown",
      "metadata": {
        "id": "yLKso2mFNrQz"
      },
      "source": [
        "### Datetimes"
      ]
    },
    {
      "cell_type": "code",
      "metadata": {
        "id": "arMwxqmHNrQ4",
        "outputId": "95f9b04d-9475-40bd-fc7e-29d1d25ac2dc",
        "colab": {
          "base_uri": "https://localhost:8080/",
          "height": 34
        }
      },
      "source": [
        "now = datetime.now()\n",
        "now\n",
        "\n",
        "#print(type(now))"
      ],
      "execution_count": 120,
      "outputs": [
        {
          "output_type": "execute_result",
          "data": {
            "text/plain": [
              "datetime.datetime(2020, 9, 26, 16, 16, 0, 837896)"
            ]
          },
          "metadata": {
            "tags": []
          },
          "execution_count": 120
        }
      ]
    },
    {
      "cell_type": "code",
      "metadata": {
        "id": "KUUOo9S3NrRO",
        "outputId": "5bab8b56-b519-4d07-a0e1-b776fcbcdf47",
        "colab": {
          "base_uri": "https://localhost:8080/",
          "height": 34
        }
      },
      "source": [
        "now.year"
      ],
      "execution_count": 121,
      "outputs": [
        {
          "output_type": "execute_result",
          "data": {
            "text/plain": [
              "2020"
            ]
          },
          "metadata": {
            "tags": []
          },
          "execution_count": 121
        }
      ]
    },
    {
      "cell_type": "code",
      "metadata": {
        "id": "Plf90o_V2zvD",
        "outputId": "41c05001-573e-47f9-aea3-fc5bbbdc1037",
        "colab": {
          "base_uri": "https://localhost:8080/",
          "height": 34
        }
      },
      "source": [
        "now.month"
      ],
      "execution_count": 122,
      "outputs": [
        {
          "output_type": "execute_result",
          "data": {
            "text/plain": [
              "9"
            ]
          },
          "metadata": {
            "tags": []
          },
          "execution_count": 122
        }
      ]
    },
    {
      "cell_type": "code",
      "metadata": {
        "id": "sw6-Dk_K22SO",
        "outputId": "33598628-48f7-4851-b122-68d5efa7ddb1",
        "colab": {
          "base_uri": "https://localhost:8080/",
          "height": 34
        }
      },
      "source": [
        "now.microsecond"
      ],
      "execution_count": 123,
      "outputs": [
        {
          "output_type": "execute_result",
          "data": {
            "text/plain": [
              "837896"
            ]
          },
          "metadata": {
            "tags": []
          },
          "execution_count": 123
        }
      ]
    },
    {
      "cell_type": "markdown",
      "metadata": {
        "id": "b1FFpL3mNrRi"
      },
      "source": [
        "### Timedeltas\n",
        "\n",
        "Hay dos formas de crear timedeltas: Como una resta de datetimes o definiéndolos invocando al objeto"
      ]
    },
    {
      "cell_type": "code",
      "metadata": {
        "id": "a16n_G1PNrRl",
        "outputId": "22e7042f-4299-412b-8e96-a9c64ed0f1b7",
        "colab": {
          "base_uri": "https://localhost:8080/",
          "height": 34
        }
      },
      "source": [
        "# Cómo una diferencia de tiempos\n",
        "\n",
        "datetime.now() - datetime(2019, 11, 5, 18)"
      ],
      "execution_count": 124,
      "outputs": [
        {
          "output_type": "execute_result",
          "data": {
            "text/plain": [
              "datetime.timedelta(325, 80160, 883748)"
            ]
          },
          "metadata": {
            "tags": []
          },
          "execution_count": 124
        }
      ]
    },
    {
      "cell_type": "code",
      "metadata": {
        "id": "MC5Ugy7V3SyN",
        "outputId": "aba869f4-c6c4-4674-eb47-06c2f2e195de",
        "colab": {
          "base_uri": "https://localhost:8080/",
          "height": 34
        }
      },
      "source": [
        "datetime(2020, 9, 26, 19 ) - datetime.now()"
      ],
      "execution_count": 125,
      "outputs": [
        {
          "output_type": "execute_result",
          "data": {
            "text/plain": [
              "datetime.timedelta(0, 9839, 107020)"
            ]
          },
          "metadata": {
            "tags": []
          },
          "execution_count": 125
        }
      ]
    },
    {
      "cell_type": "code",
      "metadata": {
        "id": "z3x0Wo7ZNrR8",
        "outputId": "cae4c3e6-c773-4139-9093-2d2d79c9c961",
        "colab": {
          "base_uri": "https://localhost:8080/",
          "height": 34
        }
      },
      "source": [
        "# Cómo la creación de una instancia del objeto timedelta\n",
        "from datetime import timedelta\n",
        "\n",
        "delta = timedelta(days=20)\n",
        "delta"
      ],
      "execution_count": 126,
      "outputs": [
        {
          "output_type": "execute_result",
          "data": {
            "text/plain": [
              "datetime.timedelta(20)"
            ]
          },
          "metadata": {
            "tags": []
          },
          "execution_count": 126
        }
      ]
    },
    {
      "cell_type": "code",
      "metadata": {
        "id": "lhJsWPDm4WgF",
        "outputId": "919af572-e85d-4bbf-999d-c65bc34ff514",
        "colab": {
          "base_uri": "https://localhost:8080/",
          "height": 52
        }
      },
      "source": [
        "print(now)\n",
        "now + delta"
      ],
      "execution_count": 127,
      "outputs": [
        {
          "output_type": "stream",
          "text": [
            "2020-09-26 16:16:00.837896\n"
          ],
          "name": "stdout"
        },
        {
          "output_type": "execute_result",
          "data": {
            "text/plain": [
              "datetime.datetime(2020, 10, 16, 16, 16, 0, 837896)"
            ]
          },
          "metadata": {
            "tags": []
          },
          "execution_count": 127
        }
      ]
    },
    {
      "cell_type": "code",
      "metadata": {
        "id": "RLefcHBA4bsO",
        "outputId": "9e561e06-c717-40af-d388-e46529d66586",
        "colab": {
          "base_uri": "https://localhost:8080/",
          "height": 34
        }
      },
      "source": [
        "now + 5 * delta"
      ],
      "execution_count": 128,
      "outputs": [
        {
          "output_type": "execute_result",
          "data": {
            "text/plain": [
              "datetime.datetime(2021, 1, 4, 16, 16, 0, 837896)"
            ]
          },
          "metadata": {
            "tags": []
          },
          "execution_count": 128
        }
      ]
    },
    {
      "cell_type": "code",
      "metadata": {
        "id": "bPykEPQt5Irq",
        "outputId": "8f60c026-75e2-4a7f-fc81-d43dc4f735ec",
        "colab": {
          "base_uri": "https://localhost:8080/",
          "height": 34
        }
      },
      "source": [
        "# Get weeekday\n",
        "now.weekday()"
      ],
      "execution_count": 129,
      "outputs": [
        {
          "output_type": "execute_result",
          "data": {
            "text/plain": [
              "5"
            ]
          },
          "metadata": {
            "tags": []
          },
          "execution_count": 129
        }
      ]
    },
    {
      "cell_type": "markdown",
      "metadata": {
        "id": "LP68XPAg5wBb"
      },
      "source": [
        "**Días festivos:**\n",
        "[Holidays](https://pypi.org/project/holidays/)"
      ]
    },
    {
      "cell_type": "markdown",
      "metadata": {
        "id": "4DJEuO9tNrST"
      },
      "source": [
        "### Dates"
      ]
    },
    {
      "cell_type": "code",
      "metadata": {
        "id": "zNzVeHq_NrSX",
        "outputId": "186390f4-ecac-4744-8354-9e1518acd383",
        "colab": {
          "base_uri": "https://localhost:8080/",
          "height": 34
        }
      },
      "source": [
        "from datetime import date\n",
        "date(2018, 10, 5)"
      ],
      "execution_count": 130,
      "outputs": [
        {
          "output_type": "execute_result",
          "data": {
            "text/plain": [
              "datetime.date(2018, 10, 5)"
            ]
          },
          "metadata": {
            "tags": []
          },
          "execution_count": 130
        }
      ]
    },
    {
      "cell_type": "markdown",
      "metadata": {
        "id": "jWnWys6LNrSt"
      },
      "source": [
        "### Times"
      ]
    },
    {
      "cell_type": "code",
      "metadata": {
        "id": "zXTvw8qfNrSy",
        "outputId": "dbe5f90a-e903-44f4-9d0f-8d06e9653ad8",
        "colab": {
          "base_uri": "https://localhost:8080/",
          "height": 34
        }
      },
      "source": [
        "from datetime import time\n",
        "time(23,59)\n",
        "\n",
        "#time(27,59) #Error -> hour must be in 0..23"
      ],
      "execution_count": 131,
      "outputs": [
        {
          "output_type": "execute_result",
          "data": {
            "text/plain": [
              "datetime.time(23, 59)"
            ]
          },
          "metadata": {
            "tags": []
          },
          "execution_count": 131
        }
      ]
    },
    {
      "cell_type": "markdown",
      "metadata": {
        "id": "ov-6Yha1NrTE"
      },
      "source": [
        "### Dando formato a datetimes\n",
        "\n",
        "[Directivas para strftime](http://strftime.org/)"
      ]
    },
    {
      "cell_type": "code",
      "metadata": {
        "id": "aMCo3_nuNrTH",
        "outputId": "4b8a998a-a885-497d-f338-96775602c9e9",
        "colab": {
          "base_uri": "https://localhost:8080/",
          "height": 35
        }
      },
      "source": [
        "now = datetime.now()\n",
        "now.strftime('%Y-%m-%d %H:%M:%S.%f')"
      ],
      "execution_count": 132,
      "outputs": [
        {
          "output_type": "execute_result",
          "data": {
            "application/vnd.google.colaboratory.intrinsic+json": {
              "type": "string"
            },
            "text/plain": [
              "'2020-09-26 16:16:00.979043'"
            ]
          },
          "metadata": {
            "tags": []
          },
          "execution_count": 132
        }
      ]
    },
    {
      "cell_type": "code",
      "metadata": {
        "id": "udZtwlk162Uy",
        "outputId": "b956b850-f02d-44c9-cada-a02199ae3528",
        "colab": {
          "base_uri": "https://localhost:8080/",
          "height": 35
        }
      },
      "source": [
        "now.strftime('%Y-%m-%d %H')"
      ],
      "execution_count": 133,
      "outputs": [
        {
          "output_type": "execute_result",
          "data": {
            "application/vnd.google.colaboratory.intrinsic+json": {
              "type": "string"
            },
            "text/plain": [
              "'2020-09-26 16'"
            ]
          },
          "metadata": {
            "tags": []
          },
          "execution_count": 133
        }
      ]
    },
    {
      "cell_type": "code",
      "metadata": {
        "id": "7UdmitVF64wj",
        "outputId": "eb3f0eed-db8b-4b91-a6d8-9248c4510302",
        "colab": {
          "base_uri": "https://localhost:8080/",
          "height": 35
        }
      },
      "source": [
        "now.strftime('%d/%m/%Y')"
      ],
      "execution_count": 134,
      "outputs": [
        {
          "output_type": "execute_result",
          "data": {
            "application/vnd.google.colaboratory.intrinsic+json": {
              "type": "string"
            },
            "text/plain": [
              "'26/09/2020'"
            ]
          },
          "metadata": {
            "tags": []
          },
          "execution_count": 134
        }
      ]
    },
    {
      "cell_type": "code",
      "metadata": {
        "id": "FhAbVfzK6-Cs",
        "outputId": "87b13704-cd8c-489b-ca55-d2090d93a3be",
        "colab": {
          "base_uri": "https://localhost:8080/",
          "height": 35
        }
      },
      "source": [
        "now.strftime('%d/%B/%Y')"
      ],
      "execution_count": 135,
      "outputs": [
        {
          "output_type": "execute_result",
          "data": {
            "application/vnd.google.colaboratory.intrinsic+json": {
              "type": "string"
            },
            "text/plain": [
              "'26/September/2020'"
            ]
          },
          "metadata": {
            "tags": []
          },
          "execution_count": 135
        }
      ]
    },
    {
      "cell_type": "markdown",
      "metadata": {
        "id": "52dWqto2NrTY"
      },
      "source": [
        "### Leyendo diferentes formatos de datetimes"
      ]
    },
    {
      "cell_type": "code",
      "metadata": {
        "id": "12lshLT-NrTd"
      },
      "source": [
        "string_dates = ['2019/11/9', '2020/5/12', '2018/12/24']\n",
        "\n",
        "# Recibe una cadena de texto con un formato y lo transforma en un datetime\n",
        "lst_datetimes = [datetime.strptime(x, '%Y/%m/%d') for x in string_dates]"
      ],
      "execution_count": 136,
      "outputs": []
    },
    {
      "cell_type": "code",
      "metadata": {
        "id": "WkPGFToz8pDM",
        "outputId": "128b0899-030d-4477-e0b8-9b648b906e26",
        "colab": {
          "base_uri": "https://localhost:8080/",
          "height": 52
        }
      },
      "source": [
        "print(type(lst_datetimes))\n",
        "print(lst_datetimes)"
      ],
      "execution_count": 137,
      "outputs": [
        {
          "output_type": "stream",
          "text": [
            "<class 'list'>\n",
            "[datetime.datetime(2019, 11, 9, 0, 0), datetime.datetime(2020, 5, 12, 0, 0), datetime.datetime(2018, 12, 24, 0, 0)]\n"
          ],
          "name": "stdout"
        }
      ]
    },
    {
      "cell_type": "code",
      "metadata": {
        "id": "5HkJ2XG68q-9",
        "outputId": "e8fd7909-e9f9-4bad-8924-9164ad491a16",
        "colab": {
          "base_uri": "https://localhost:8080/",
          "height": 104
        }
      },
      "source": [
        "new_serie = pd.Series(lst_datetimes)\n",
        "print(type(new_serie))\n",
        "print(new_serie)"
      ],
      "execution_count": 138,
      "outputs": [
        {
          "output_type": "stream",
          "text": [
            "<class 'pandas.core.series.Series'>\n",
            "0   2019-11-09\n",
            "1   2020-05-12\n",
            "2   2018-12-24\n",
            "dtype: datetime64[ns]\n"
          ],
          "name": "stdout"
        }
      ]
    },
    {
      "cell_type": "code",
      "metadata": {
        "id": "LKI_sVcCAE-Z",
        "outputId": "febecdc4-4fcb-455a-9793-76238bd90c68",
        "colab": {
          "base_uri": "https://localhost:8080/",
          "height": 34
        }
      },
      "source": [
        "datetime.strptime('2020/09/26', '%Y/%m/%d')"
      ],
      "execution_count": 139,
      "outputs": [
        {
          "output_type": "execute_result",
          "data": {
            "text/plain": [
              "datetime.datetime(2020, 9, 26, 0, 0)"
            ]
          },
          "metadata": {
            "tags": []
          },
          "execution_count": 139
        }
      ]
    },
    {
      "cell_type": "code",
      "metadata": {
        "id": "rHLL8p30ATsl",
        "outputId": "52d2e185-81ad-4365-c52a-e1768a5cdb1d",
        "colab": {
          "base_uri": "https://localhost:8080/",
          "height": 34
        }
      },
      "source": [
        "datetime(1900, 1, 1) + timedelta(days=56789)"
      ],
      "execution_count": 140,
      "outputs": [
        {
          "output_type": "execute_result",
          "data": {
            "text/plain": [
              "datetime.datetime(2055, 6, 26, 0, 0)"
            ]
          },
          "metadata": {
            "tags": []
          },
          "execution_count": 140
        }
      ]
    },
    {
      "cell_type": "code",
      "metadata": {
        "id": "Gb5azCGwAheK",
        "outputId": "62ab6499-3737-42b1-f53b-06bbfbd12403",
        "colab": {
          "base_uri": "https://localhost:8080/",
          "height": 34
        }
      },
      "source": [
        "datetime.strptime('20200926', '%Y%m%d')"
      ],
      "execution_count": 141,
      "outputs": [
        {
          "output_type": "execute_result",
          "data": {
            "text/plain": [
              "datetime.datetime(2020, 9, 26, 0, 0)"
            ]
          },
          "metadata": {
            "tags": []
          },
          "execution_count": 141
        }
      ]
    },
    {
      "cell_type": "markdown",
      "metadata": {
        "id": "jFoncEFZNrTs"
      },
      "source": [
        "### Indexando y filtrado de datos por datetimes"
      ]
    },
    {
      "cell_type": "code",
      "metadata": {
        "id": "tT9Ipc-fNrTv",
        "outputId": "98c1c4b2-874e-482c-c092-5c93924463a0",
        "colab": {
          "base_uri": "https://localhost:8080/",
          "height": 243
        }
      },
      "source": [
        "# Indexación\n",
        "import numpy as np\n",
        "import pandas as pd\n",
        "\n",
        "start = datetime(2017,1,1)\n",
        "days = [start + timedelta(days=int(x)) for x in np.arange(2000)]\n",
        "# rnd: array de numpy con números aleatorios, núm elementos = len(days)\n",
        "print(rnd.shape)\n",
        "rnd = np.random.rand(len(days))\n",
        "serie1 = pd.Series(rnd, index=days)\n",
        "serie1"
      ],
      "execution_count": 142,
      "outputs": [
        {
          "output_type": "stream",
          "text": [
            "(2000,)\n"
          ],
          "name": "stdout"
        },
        {
          "output_type": "execute_result",
          "data": {
            "text/plain": [
              "2017-01-01    0.212711\n",
              "2017-01-02    0.588530\n",
              "2017-01-03    0.147507\n",
              "2017-01-04    0.777646\n",
              "2017-01-05    0.442307\n",
              "                ...   \n",
              "2022-06-19    0.405157\n",
              "2022-06-20    0.510800\n",
              "2022-06-21    0.875160\n",
              "2022-06-22    0.173712\n",
              "2022-06-23    0.135792\n",
              "Length: 2000, dtype: float64"
            ]
          },
          "metadata": {
            "tags": []
          },
          "execution_count": 142
        }
      ]
    },
    {
      "cell_type": "code",
      "metadata": {
        "id": "zFdxO7c5NrUA",
        "outputId": "7c991ab9-c570-42ae-c684-6be94e97874f",
        "colab": {
          "base_uri": "https://localhost:8080/",
          "height": 225
        }
      },
      "source": [
        "# Filtrado\n",
        "serie1['2017']"
      ],
      "execution_count": 143,
      "outputs": [
        {
          "output_type": "execute_result",
          "data": {
            "text/plain": [
              "2017-01-01    0.212711\n",
              "2017-01-02    0.588530\n",
              "2017-01-03    0.147507\n",
              "2017-01-04    0.777646\n",
              "2017-01-05    0.442307\n",
              "                ...   \n",
              "2017-12-27    0.418183\n",
              "2017-12-28    0.182501\n",
              "2017-12-29    0.769890\n",
              "2017-12-30    0.039819\n",
              "2017-12-31    0.188756\n",
              "Length: 365, dtype: float64"
            ]
          },
          "metadata": {
            "tags": []
          },
          "execution_count": 143
        }
      ]
    },
    {
      "cell_type": "code",
      "metadata": {
        "id": "ELYLAS3oGGl4",
        "outputId": "16a8ec9f-8273-4748-a234-04958e35de46",
        "colab": {
          "base_uri": "https://localhost:8080/",
          "height": 225
        }
      },
      "source": [
        "# Slice\n",
        "serie1['2017-06':'2017-09']"
      ],
      "execution_count": 144,
      "outputs": [
        {
          "output_type": "execute_result",
          "data": {
            "text/plain": [
              "2017-06-01    0.598523\n",
              "2017-06-02    0.501076\n",
              "2017-06-03    0.576119\n",
              "2017-06-04    0.106519\n",
              "2017-06-05    0.462069\n",
              "                ...   \n",
              "2017-09-26    0.778197\n",
              "2017-09-27    0.408600\n",
              "2017-09-28    0.287298\n",
              "2017-09-29    0.768329\n",
              "2017-09-30    0.975909\n",
              "Length: 122, dtype: float64"
            ]
          },
          "metadata": {
            "tags": []
          },
          "execution_count": 144
        }
      ]
    },
    {
      "cell_type": "markdown",
      "metadata": {
        "id": "OnZc6OyANrUS"
      },
      "source": [
        "### Generación de rangos de datetimes"
      ]
    },
    {
      "cell_type": "code",
      "metadata": {
        "id": "0VF6-Yq2NrUV",
        "outputId": "304565f8-ab0e-44d2-8a96-7e2704a12ed6",
        "colab": {
          "base_uri": "https://localhost:8080/",
          "height": 156
        }
      },
      "source": [
        "# Frecuencia = D -> 1 día\n",
        "index = pd.date_range(start='2019-01-01', end='2019-06-01')\n",
        "index"
      ],
      "execution_count": 145,
      "outputs": [
        {
          "output_type": "execute_result",
          "data": {
            "text/plain": [
              "DatetimeIndex(['2019-01-01', '2019-01-02', '2019-01-03', '2019-01-04',\n",
              "               '2019-01-05', '2019-01-06', '2019-01-07', '2019-01-08',\n",
              "               '2019-01-09', '2019-01-10',\n",
              "               ...\n",
              "               '2019-05-23', '2019-05-24', '2019-05-25', '2019-05-26',\n",
              "               '2019-05-27', '2019-05-28', '2019-05-29', '2019-05-30',\n",
              "               '2019-05-31', '2019-06-01'],\n",
              "              dtype='datetime64[ns]', length=152, freq='D')"
            ]
          },
          "metadata": {
            "tags": []
          },
          "execution_count": 145
        }
      ]
    },
    {
      "cell_type": "code",
      "metadata": {
        "id": "y7Fmn7X9GrIU",
        "outputId": "d58daf42-1baa-41cc-d322-cbc15277903d",
        "colab": {
          "base_uri": "https://localhost:8080/",
          "height": 225
        }
      },
      "source": [
        "# Frecuencia = 1h = H-> 1 hora\n",
        "index = pd.date_range(start='2019-01-01', end='2019-02-01', freq='1h')\n",
        "index"
      ],
      "execution_count": 146,
      "outputs": [
        {
          "output_type": "execute_result",
          "data": {
            "text/plain": [
              "DatetimeIndex(['2019-01-01 00:00:00', '2019-01-01 01:00:00',\n",
              "               '2019-01-01 02:00:00', '2019-01-01 03:00:00',\n",
              "               '2019-01-01 04:00:00', '2019-01-01 05:00:00',\n",
              "               '2019-01-01 06:00:00', '2019-01-01 07:00:00',\n",
              "               '2019-01-01 08:00:00', '2019-01-01 09:00:00',\n",
              "               ...\n",
              "               '2019-01-31 15:00:00', '2019-01-31 16:00:00',\n",
              "               '2019-01-31 17:00:00', '2019-01-31 18:00:00',\n",
              "               '2019-01-31 19:00:00', '2019-01-31 20:00:00',\n",
              "               '2019-01-31 21:00:00', '2019-01-31 22:00:00',\n",
              "               '2019-01-31 23:00:00', '2019-02-01 00:00:00'],\n",
              "              dtype='datetime64[ns]', length=745, freq='H')"
            ]
          },
          "metadata": {
            "tags": []
          },
          "execution_count": 146
        }
      ]
    },
    {
      "cell_type": "code",
      "metadata": {
        "id": "moGxDeFDGvrE",
        "outputId": "0fa7a1ad-23ec-4300-b1ec-f0f889d82f5f",
        "colab": {
          "base_uri": "https://localhost:8080/",
          "height": 225
        }
      },
      "source": [
        "# Frecuencia -> 1 minuto\n",
        "index = pd.date_range(start='2019-01-01', end='2019-02-01', freq='1t')\n",
        "index"
      ],
      "execution_count": 147,
      "outputs": [
        {
          "output_type": "execute_result",
          "data": {
            "text/plain": [
              "DatetimeIndex(['2019-01-01 00:00:00', '2019-01-01 00:01:00',\n",
              "               '2019-01-01 00:02:00', '2019-01-01 00:03:00',\n",
              "               '2019-01-01 00:04:00', '2019-01-01 00:05:00',\n",
              "               '2019-01-01 00:06:00', '2019-01-01 00:07:00',\n",
              "               '2019-01-01 00:08:00', '2019-01-01 00:09:00',\n",
              "               ...\n",
              "               '2019-01-31 23:51:00', '2019-01-31 23:52:00',\n",
              "               '2019-01-31 23:53:00', '2019-01-31 23:54:00',\n",
              "               '2019-01-31 23:55:00', '2019-01-31 23:56:00',\n",
              "               '2019-01-31 23:57:00', '2019-01-31 23:58:00',\n",
              "               '2019-01-31 23:59:00', '2019-02-01 00:00:00'],\n",
              "              dtype='datetime64[ns]', length=44641, freq='T')"
            ]
          },
          "metadata": {
            "tags": []
          },
          "execution_count": 147
        }
      ]
    },
    {
      "cell_type": "code",
      "metadata": {
        "id": "QZB81LMzGyxT",
        "outputId": "f73f9777-f55b-4295-d318-53a78dd656a4",
        "colab": {
          "base_uri": "https://localhost:8080/",
          "height": 399
        }
      },
      "source": [
        "# Frecuencia: N -> Nanosegundos\n",
        "index = pd.date_range(start='2019-01-01', end='2019-01-01 00:00:00.01', freq='N')\n",
        "index"
      ],
      "execution_count": 148,
      "outputs": [
        {
          "output_type": "execute_result",
          "data": {
            "text/plain": [
              "DatetimeIndex([          '2019-01-01 00:00:00',\n",
              "               '2019-01-01 00:00:00.000000001',\n",
              "               '2019-01-01 00:00:00.000000002',\n",
              "               '2019-01-01 00:00:00.000000003',\n",
              "               '2019-01-01 00:00:00.000000004',\n",
              "               '2019-01-01 00:00:00.000000005',\n",
              "               '2019-01-01 00:00:00.000000006',\n",
              "               '2019-01-01 00:00:00.000000007',\n",
              "               '2019-01-01 00:00:00.000000008',\n",
              "               '2019-01-01 00:00:00.000000009',\n",
              "               ...\n",
              "               '2019-01-01 00:00:00.009999991',\n",
              "               '2019-01-01 00:00:00.009999992',\n",
              "               '2019-01-01 00:00:00.009999993',\n",
              "               '2019-01-01 00:00:00.009999994',\n",
              "               '2019-01-01 00:00:00.009999995',\n",
              "               '2019-01-01 00:00:00.009999996',\n",
              "               '2019-01-01 00:00:00.009999997',\n",
              "               '2019-01-01 00:00:00.009999998',\n",
              "               '2019-01-01 00:00:00.009999999',\n",
              "                  '2019-01-01 00:00:00.010000'],\n",
              "              dtype='datetime64[ns]', length=10000001, freq='N')"
            ]
          },
          "metadata": {
            "tags": []
          },
          "execution_count": 148
        }
      ]
    },
    {
      "cell_type": "markdown",
      "metadata": {
        "id": "SIkM7qI2NrUg"
      },
      "source": [
        "### Nota: \n",
        "    \n",
        "Mas información sobre las frecuencias [offset-aliases](https://pandas.pydata.org/pandas-docs/stable/user_guide/timeseries.html#offset-aliases)"
      ]
    },
    {
      "cell_type": "markdown",
      "metadata": {
        "id": "cpuozsJENrUk"
      },
      "source": [
        "## Estadísticos descriptivos"
      ]
    },
    {
      "cell_type": "markdown",
      "metadata": {
        "id": "KhEYDKQoNrUn"
      },
      "source": [
        "### Carga de datos"
      ]
    },
    {
      "cell_type": "code",
      "metadata": {
        "id": "mfcffs7J4JID",
        "outputId": "03575e4f-4b39-462e-91be-5b9e486f5293",
        "colab": {
          "base_uri": "https://localhost:8080/",
          "height": 104
        }
      },
      "source": [
        "! pip install impyute"
      ],
      "execution_count": 149,
      "outputs": [
        {
          "output_type": "stream",
          "text": [
            "Requirement already satisfied: impyute in /usr/local/lib/python3.6/dist-packages (0.0.8)\n",
            "Requirement already satisfied: scipy in /usr/local/lib/python3.6/dist-packages (from impyute) (1.4.1)\n",
            "Requirement already satisfied: scikit-learn in /usr/local/lib/python3.6/dist-packages (from impyute) (0.22.2.post1)\n",
            "Requirement already satisfied: numpy in /usr/local/lib/python3.6/dist-packages (from impyute) (1.18.5)\n",
            "Requirement already satisfied: joblib>=0.11 in /usr/local/lib/python3.6/dist-packages (from scikit-learn->impyute) (0.16.0)\n"
          ],
          "name": "stdout"
        }
      ]
    },
    {
      "cell_type": "code",
      "metadata": {
        "id": "NFrqpIEZNrUr",
        "outputId": "6414d8ce-cdca-4e49-bfd3-2867c51cab1e",
        "colab": {
          "base_uri": "https://localhost:8080/",
          "height": 384
        }
      },
      "source": [
        "! wget https://www.dropbox.com/s/kc98g3pjcp8trba/MCU2.csv"
      ],
      "execution_count": 150,
      "outputs": [
        {
          "output_type": "stream",
          "text": [
            "--2020-09-26 16:16:04--  https://www.dropbox.com/s/kc98g3pjcp8trba/MCU2.csv\n",
            "Resolving www.dropbox.com (www.dropbox.com)... 162.125.3.1, 2620:100:6018:1::a27d:301\n",
            "Connecting to www.dropbox.com (www.dropbox.com)|162.125.3.1|:443... connected.\n",
            "HTTP request sent, awaiting response... 301 Moved Permanently\n",
            "Location: /s/raw/kc98g3pjcp8trba/MCU2.csv [following]\n",
            "--2020-09-26 16:16:04--  https://www.dropbox.com/s/raw/kc98g3pjcp8trba/MCU2.csv\n",
            "Reusing existing connection to www.dropbox.com:443.\n",
            "HTTP request sent, awaiting response... 302 Found\n",
            "Location: https://uc06d4ea79e9882581f7c350f62e.dl.dropboxusercontent.com/cd/0/inline/BAJj-BgTp0RS1vdBgK3cXzXd7IGvrS6Snful5KaZen4tog17i7-Xlo_1ZtFCzwEGzCRcvu0JuLXAYK59z-yLhVfjHAg6RApYM0ht7PKCWSPusPfA8OmsTlgf-o-4zq3Rd9c/file# [following]\n",
            "--2020-09-26 16:16:04--  https://uc06d4ea79e9882581f7c350f62e.dl.dropboxusercontent.com/cd/0/inline/BAJj-BgTp0RS1vdBgK3cXzXd7IGvrS6Snful5KaZen4tog17i7-Xlo_1ZtFCzwEGzCRcvu0JuLXAYK59z-yLhVfjHAg6RApYM0ht7PKCWSPusPfA8OmsTlgf-o-4zq3Rd9c/file\n",
            "Resolving uc06d4ea79e9882581f7c350f62e.dl.dropboxusercontent.com (uc06d4ea79e9882581f7c350f62e.dl.dropboxusercontent.com)... 162.125.3.15, 2620:100:6018:15::a27d:30f\n",
            "Connecting to uc06d4ea79e9882581f7c350f62e.dl.dropboxusercontent.com (uc06d4ea79e9882581f7c350f62e.dl.dropboxusercontent.com)|162.125.3.15|:443... connected.\n",
            "HTTP request sent, awaiting response... 200 OK\n",
            "Length: 1890 (1.8K) [text/plain]\n",
            "Saving to: ‘MCU2.csv.2’\n",
            "\n",
            "MCU2.csv.2          100%[===================>]   1.85K  --.-KB/s    in 0s      \n",
            "\n",
            "2020-09-26 16:16:05 (210 MB/s) - ‘MCU2.csv.2’ saved [1890/1890]\n",
            "\n"
          ],
          "name": "stdout"
        }
      ]
    },
    {
      "cell_type": "code",
      "metadata": {
        "id": "kCY7vCBINrU_"
      },
      "source": [
        "import pandas as pd\n",
        "from impyute.imputation.cs import mice\n",
        "\n",
        "df_mcu_falt = pd.read_csv('MCU2.csv')"
      ],
      "execution_count": 151,
      "outputs": []
    },
    {
      "cell_type": "code",
      "metadata": {
        "id": "Yn9dQqxhIu9p",
        "outputId": "edc3241b-93a5-4dba-f47c-d18656665b9b",
        "colab": {
          "base_uri": "https://localhost:8080/",
          "height": 296
        }
      },
      "source": [
        "# Con datos faltantes\n",
        "df_mcu_falt.head()"
      ],
      "execution_count": 152,
      "outputs": [
        {
          "output_type": "execute_result",
          "data": {
            "text/html": [
              "<div>\n",
              "<style scoped>\n",
              "    .dataframe tbody tr th:only-of-type {\n",
              "        vertical-align: middle;\n",
              "    }\n",
              "\n",
              "    .dataframe tbody tr th {\n",
              "        vertical-align: top;\n",
              "    }\n",
              "\n",
              "    .dataframe thead th {\n",
              "        text-align: right;\n",
              "    }\n",
              "</style>\n",
              "<table border=\"1\" class=\"dataframe\">\n",
              "  <thead>\n",
              "    <tr style=\"text-align: right;\">\n",
              "      <th></th>\n",
              "      <th>Iron Man</th>\n",
              "      <th>The Incredible Hulk</th>\n",
              "      <th>Iron Man 2</th>\n",
              "      <th>Thor</th>\n",
              "      <th>Capitán América: el primer vengador</th>\n",
              "      <th>The Avengers</th>\n",
              "      <th>Iron Man 3</th>\n",
              "      <th>Thor: The Dark World</th>\n",
              "      <th>Captain America: The Winter Soldier</th>\n",
              "      <th>Guardianes de la Galaxia</th>\n",
              "      <th>Avengers: Age of Ultron</th>\n",
              "      <th>Ant-Man</th>\n",
              "      <th>Captain America: Civil War</th>\n",
              "      <th>Doctor Strange</th>\n",
              "      <th>Guardianes de la Galaxia Vol. 2</th>\n",
              "      <th>Spider-Man: Homecoming</th>\n",
              "      <th>Thor: Ragnarok</th>\n",
              "      <th>Black Panther</th>\n",
              "      <th>Avengers: Infinity War</th>\n",
              "      <th>Ant-Man and The Wasp</th>\n",
              "    </tr>\n",
              "  </thead>\n",
              "  <tbody>\n",
              "    <tr>\n",
              "      <th>0</th>\n",
              "      <td>17.0</td>\n",
              "      <td>12.0</td>\n",
              "      <td>14.0</td>\n",
              "      <td>13.0</td>\n",
              "      <td>11.0</td>\n",
              "      <td>18</td>\n",
              "      <td>4.0</td>\n",
              "      <td>5.0</td>\n",
              "      <td>6.0</td>\n",
              "      <td>16.0</td>\n",
              "      <td>17.0</td>\n",
              "      <td>10.0</td>\n",
              "      <td>19.0</td>\n",
              "      <td>17.0</td>\n",
              "      <td>7.0</td>\n",
              "      <td>6.0</td>\n",
              "      <td>10.0</td>\n",
              "      <td>8.0</td>\n",
              "      <td>20</td>\n",
              "      <td>9.0</td>\n",
              "    </tr>\n",
              "    <tr>\n",
              "      <th>1</th>\n",
              "      <td>8.0</td>\n",
              "      <td>1.0</td>\n",
              "      <td>7.0</td>\n",
              "      <td>1.0</td>\n",
              "      <td>7.0</td>\n",
              "      <td>8</td>\n",
              "      <td>7.0</td>\n",
              "      <td>3.0</td>\n",
              "      <td>8.0</td>\n",
              "      <td>9.0</td>\n",
              "      <td>7.0</td>\n",
              "      <td>9.0</td>\n",
              "      <td>8.0</td>\n",
              "      <td>9.0</td>\n",
              "      <td>9.0</td>\n",
              "      <td>9.0</td>\n",
              "      <td>9.0</td>\n",
              "      <td>8.0</td>\n",
              "      <td>9</td>\n",
              "      <td>9.0</td>\n",
              "    </tr>\n",
              "    <tr>\n",
              "      <th>2</th>\n",
              "      <td>20.0</td>\n",
              "      <td>13.0</td>\n",
              "      <td>6.0</td>\n",
              "      <td>7.0</td>\n",
              "      <td>11.0</td>\n",
              "      <td>19</td>\n",
              "      <td>9.0</td>\n",
              "      <td>5.0</td>\n",
              "      <td>17.0</td>\n",
              "      <td>20.0</td>\n",
              "      <td>20.0</td>\n",
              "      <td>17.0</td>\n",
              "      <td>20.0</td>\n",
              "      <td>10.0</td>\n",
              "      <td>6.0</td>\n",
              "      <td>6.0</td>\n",
              "      <td>4.0</td>\n",
              "      <td>17.0</td>\n",
              "      <td>18</td>\n",
              "      <td>8.0</td>\n",
              "    </tr>\n",
              "    <tr>\n",
              "      <th>3</th>\n",
              "      <td>18.0</td>\n",
              "      <td>10.0</td>\n",
              "      <td>19.0</td>\n",
              "      <td>15.0</td>\n",
              "      <td>5.0</td>\n",
              "      <td>16</td>\n",
              "      <td>18.0</td>\n",
              "      <td>16.0</td>\n",
              "      <td>8.0</td>\n",
              "      <td>18.0</td>\n",
              "      <td>NaN</td>\n",
              "      <td>NaN</td>\n",
              "      <td>18.0</td>\n",
              "      <td>NaN</td>\n",
              "      <td>16.0</td>\n",
              "      <td>10.0</td>\n",
              "      <td>NaN</td>\n",
              "      <td>NaN</td>\n",
              "      <td>17</td>\n",
              "      <td>NaN</td>\n",
              "    </tr>\n",
              "    <tr>\n",
              "      <th>4</th>\n",
              "      <td>NaN</td>\n",
              "      <td>3.0</td>\n",
              "      <td>2.0</td>\n",
              "      <td>4.0</td>\n",
              "      <td>5.0</td>\n",
              "      <td>10</td>\n",
              "      <td>1.0</td>\n",
              "      <td>6.0</td>\n",
              "      <td>20.0</td>\n",
              "      <td>14.0</td>\n",
              "      <td>7.0</td>\n",
              "      <td>15.0</td>\n",
              "      <td>8.0</td>\n",
              "      <td>19.0</td>\n",
              "      <td>9.0</td>\n",
              "      <td>11.0</td>\n",
              "      <td>10.0</td>\n",
              "      <td>17.0</td>\n",
              "      <td>16</td>\n",
              "      <td>NaN</td>\n",
              "    </tr>\n",
              "  </tbody>\n",
              "</table>\n",
              "</div>"
            ],
            "text/plain": [
              "   Iron Man  The Incredible Hulk  ...  Avengers: Infinity War  Ant-Man and The Wasp\n",
              "0      17.0                 12.0  ...                      20                   9.0\n",
              "1       8.0                  1.0  ...                       9                   9.0\n",
              "2      20.0                 13.0  ...                      18                   8.0\n",
              "3      18.0                 10.0  ...                      17                   NaN\n",
              "4       NaN                  3.0  ...                      16                   NaN\n",
              "\n",
              "[5 rows x 20 columns]"
            ]
          },
          "metadata": {
            "tags": []
          },
          "execution_count": 152
        }
      ]
    },
    {
      "cell_type": "code",
      "metadata": {
        "id": "HVMTbsa0NrVO",
        "outputId": "04ac1032-24ad-448f-d1c3-b3eee6d0ff2f",
        "colab": {
          "base_uri": "https://localhost:8080/",
          "height": 296
        }
      },
      "source": [
        "df_mcu = mice(df_mcu_falt.values) # Ver docstring\n",
        "df_mcu = pd.DataFrame(df_mcu, columns=df_mcu_falt.columns)\n",
        "df_mcu.head()"
      ],
      "execution_count": 153,
      "outputs": [
        {
          "output_type": "execute_result",
          "data": {
            "text/html": [
              "<div>\n",
              "<style scoped>\n",
              "    .dataframe tbody tr th:only-of-type {\n",
              "        vertical-align: middle;\n",
              "    }\n",
              "\n",
              "    .dataframe tbody tr th {\n",
              "        vertical-align: top;\n",
              "    }\n",
              "\n",
              "    .dataframe thead th {\n",
              "        text-align: right;\n",
              "    }\n",
              "</style>\n",
              "<table border=\"1\" class=\"dataframe\">\n",
              "  <thead>\n",
              "    <tr style=\"text-align: right;\">\n",
              "      <th></th>\n",
              "      <th>Iron Man</th>\n",
              "      <th>The Incredible Hulk</th>\n",
              "      <th>Iron Man 2</th>\n",
              "      <th>Thor</th>\n",
              "      <th>Capitán América: el primer vengador</th>\n",
              "      <th>The Avengers</th>\n",
              "      <th>Iron Man 3</th>\n",
              "      <th>Thor: The Dark World</th>\n",
              "      <th>Captain America: The Winter Soldier</th>\n",
              "      <th>Guardianes de la Galaxia</th>\n",
              "      <th>Avengers: Age of Ultron</th>\n",
              "      <th>Ant-Man</th>\n",
              "      <th>Captain America: Civil War</th>\n",
              "      <th>Doctor Strange</th>\n",
              "      <th>Guardianes de la Galaxia Vol. 2</th>\n",
              "      <th>Spider-Man: Homecoming</th>\n",
              "      <th>Thor: Ragnarok</th>\n",
              "      <th>Black Panther</th>\n",
              "      <th>Avengers: Infinity War</th>\n",
              "      <th>Ant-Man and The Wasp</th>\n",
              "    </tr>\n",
              "  </thead>\n",
              "  <tbody>\n",
              "    <tr>\n",
              "      <th>0</th>\n",
              "      <td>17.000000</td>\n",
              "      <td>12.0</td>\n",
              "      <td>14.0</td>\n",
              "      <td>13.0</td>\n",
              "      <td>11.0</td>\n",
              "      <td>18.0</td>\n",
              "      <td>4.0</td>\n",
              "      <td>5.0</td>\n",
              "      <td>6.0</td>\n",
              "      <td>16.0</td>\n",
              "      <td>17.000000</td>\n",
              "      <td>10.000000</td>\n",
              "      <td>19.0</td>\n",
              "      <td>17.000000</td>\n",
              "      <td>7.0</td>\n",
              "      <td>6.0</td>\n",
              "      <td>10.000000</td>\n",
              "      <td>8.000000</td>\n",
              "      <td>20.0</td>\n",
              "      <td>9.000000</td>\n",
              "    </tr>\n",
              "    <tr>\n",
              "      <th>1</th>\n",
              "      <td>8.000000</td>\n",
              "      <td>1.0</td>\n",
              "      <td>7.0</td>\n",
              "      <td>1.0</td>\n",
              "      <td>7.0</td>\n",
              "      <td>8.0</td>\n",
              "      <td>7.0</td>\n",
              "      <td>3.0</td>\n",
              "      <td>8.0</td>\n",
              "      <td>9.0</td>\n",
              "      <td>7.000000</td>\n",
              "      <td>9.000000</td>\n",
              "      <td>8.0</td>\n",
              "      <td>9.000000</td>\n",
              "      <td>9.0</td>\n",
              "      <td>9.0</td>\n",
              "      <td>9.000000</td>\n",
              "      <td>8.000000</td>\n",
              "      <td>9.0</td>\n",
              "      <td>9.000000</td>\n",
              "    </tr>\n",
              "    <tr>\n",
              "      <th>2</th>\n",
              "      <td>20.000000</td>\n",
              "      <td>13.0</td>\n",
              "      <td>6.0</td>\n",
              "      <td>7.0</td>\n",
              "      <td>11.0</td>\n",
              "      <td>19.0</td>\n",
              "      <td>9.0</td>\n",
              "      <td>5.0</td>\n",
              "      <td>17.0</td>\n",
              "      <td>20.0</td>\n",
              "      <td>20.000000</td>\n",
              "      <td>17.000000</td>\n",
              "      <td>20.0</td>\n",
              "      <td>10.000000</td>\n",
              "      <td>6.0</td>\n",
              "      <td>6.0</td>\n",
              "      <td>4.000000</td>\n",
              "      <td>17.000000</td>\n",
              "      <td>18.0</td>\n",
              "      <td>8.000000</td>\n",
              "    </tr>\n",
              "    <tr>\n",
              "      <th>3</th>\n",
              "      <td>18.000000</td>\n",
              "      <td>10.0</td>\n",
              "      <td>19.0</td>\n",
              "      <td>15.0</td>\n",
              "      <td>5.0</td>\n",
              "      <td>16.0</td>\n",
              "      <td>18.0</td>\n",
              "      <td>16.0</td>\n",
              "      <td>8.0</td>\n",
              "      <td>18.0</td>\n",
              "      <td>11.571429</td>\n",
              "      <td>11.148148</td>\n",
              "      <td>18.0</td>\n",
              "      <td>13.607143</td>\n",
              "      <td>16.0</td>\n",
              "      <td>10.0</td>\n",
              "      <td>11.392857</td>\n",
              "      <td>12.928571</td>\n",
              "      <td>17.0</td>\n",
              "      <td>28.143013</td>\n",
              "    </tr>\n",
              "    <tr>\n",
              "      <th>4</th>\n",
              "      <td>13.555556</td>\n",
              "      <td>3.0</td>\n",
              "      <td>2.0</td>\n",
              "      <td>4.0</td>\n",
              "      <td>5.0</td>\n",
              "      <td>10.0</td>\n",
              "      <td>1.0</td>\n",
              "      <td>6.0</td>\n",
              "      <td>20.0</td>\n",
              "      <td>14.0</td>\n",
              "      <td>7.000000</td>\n",
              "      <td>15.000000</td>\n",
              "      <td>8.0</td>\n",
              "      <td>19.000000</td>\n",
              "      <td>9.0</td>\n",
              "      <td>11.0</td>\n",
              "      <td>10.000000</td>\n",
              "      <td>17.000000</td>\n",
              "      <td>16.0</td>\n",
              "      <td>-14.948618</td>\n",
              "    </tr>\n",
              "  </tbody>\n",
              "</table>\n",
              "</div>"
            ],
            "text/plain": [
              "    Iron Man  The Incredible Hulk  ...  Avengers: Infinity War  Ant-Man and The Wasp\n",
              "0  17.000000                 12.0  ...                    20.0              9.000000\n",
              "1   8.000000                  1.0  ...                     9.0              9.000000\n",
              "2  20.000000                 13.0  ...                    18.0              8.000000\n",
              "3  18.000000                 10.0  ...                    17.0             28.143013\n",
              "4  13.555556                  3.0  ...                    16.0            -14.948618\n",
              "\n",
              "[5 rows x 20 columns]"
            ]
          },
          "metadata": {
            "tags": []
          },
          "execution_count": 153
        }
      ]
    },
    {
      "cell_type": "markdown",
      "metadata": {
        "id": "6B9POMO9NrVf"
      },
      "source": [
        "### Media"
      ]
    },
    {
      "cell_type": "code",
      "metadata": {
        "id": "1_oP2HPlNrVj",
        "outputId": "649a6fdc-cb00-4b56-a14b-388d585f6475",
        "colab": {
          "base_uri": "https://localhost:8080/",
          "height": 382
        }
      },
      "source": [
        "# axis=0 -> Media calculada por columnas\n",
        "df_mcu.mean()"
      ],
      "execution_count": 154,
      "outputs": [
        {
          "output_type": "execute_result",
          "data": {
            "text/plain": [
              "Iron Man                               13.555556\n",
              "The Incredible Hulk                     6.423077\n",
              "Iron Man 2                              9.689655\n",
              "Thor                                    7.638803\n",
              "Capitán América: el primer vengador    10.678571\n",
              "The Avengers                           14.233333\n",
              "Iron Man 3                              8.664067\n",
              "Thor: The Dark World                    7.441880\n",
              "Captain America: The Winter Soldier    13.107143\n",
              "Guardianes de la Galaxia               13.969601\n",
              "Avengers: Age of Ultron                11.571429\n",
              "Ant-Man                                11.148148\n",
              "Captain America: Civil War             14.666667\n",
              "Doctor Strange                         13.607143\n",
              "Guardianes de la Galaxia Vol. 2         9.962963\n",
              "Spider-Man: Homecoming                 11.383215\n",
              "Thor: Ragnarok                         11.392857\n",
              "Black Panther                          12.928571\n",
              "Avengers: Infinity War                 17.133333\n",
              "Ant-Man and The Wasp                   12.530085\n",
              "dtype: float64"
            ]
          },
          "metadata": {
            "tags": []
          },
          "execution_count": 154
        }
      ]
    },
    {
      "cell_type": "code",
      "metadata": {
        "id": "8F3gPenoImWE",
        "outputId": "aae9cb70-5e33-4337-8832-11c17e53a38f",
        "colab": {
          "base_uri": "https://localhost:8080/",
          "height": 555
        }
      },
      "source": [
        "# Promedio de calificación por usuario\n",
        "# axis=1 -> fila\n",
        "df_mcu.mean(axis=1)"
      ],
      "execution_count": 155,
      "outputs": [
        {
          "output_type": "execute_result",
          "data": {
            "text/plain": [
              "0     11.950000\n",
              "1      7.250000\n",
              "2     12.650000\n",
              "3     14.639558\n",
              "4      8.780347\n",
              "5     13.589493\n",
              "6     18.200000\n",
              "7     10.500000\n",
              "8     10.500000\n",
              "9     14.450000\n",
              "10    11.900000\n",
              "11     1.050000\n",
              "12    10.500000\n",
              "13    14.550000\n",
              "14    10.500000\n",
              "15    12.398148\n",
              "16    14.277280\n",
              "17     8.470106\n",
              "18     9.945711\n",
              "19    13.850000\n",
              "20    13.118559\n",
              "21    12.207359\n",
              "22     9.509863\n",
              "23     7.750369\n",
              "24    12.648371\n",
              "25    13.969101\n",
              "26    11.971154\n",
              "27    13.463726\n",
              "28    10.500000\n",
              "29    12.500000\n",
              "dtype: float64"
            ]
          },
          "metadata": {
            "tags": []
          },
          "execution_count": 155
        }
      ]
    },
    {
      "cell_type": "code",
      "metadata": {
        "id": "K15WdDvhJTea",
        "outputId": "b7e05c9c-73c0-4d5e-e0f3-27f43ed5339f",
        "colab": {
          "base_uri": "https://localhost:8080/",
          "height": 382
        }
      },
      "source": [
        "# Intenta hacer cáálculo del promedio CON los NaNs\n",
        "df_mcu_falt.mean(skipna=False)"
      ],
      "execution_count": 156,
      "outputs": [
        {
          "output_type": "execute_result",
          "data": {
            "text/plain": [
              "Iron Man                                     NaN\n",
              "The Incredible Hulk                          NaN\n",
              "Iron Man 2                                   NaN\n",
              "Thor                                         NaN\n",
              "Capitán América: el primer vengador          NaN\n",
              "The Avengers                           14.233333\n",
              "Iron Man 3                                   NaN\n",
              "Thor: The Dark World                         NaN\n",
              "Captain America: The Winter Soldier          NaN\n",
              "Guardianes de la Galaxia                     NaN\n",
              "Avengers: Age of Ultron                      NaN\n",
              "Ant-Man                                      NaN\n",
              "Captain America: Civil War                   NaN\n",
              "Doctor Strange                               NaN\n",
              "Guardianes de la Galaxia Vol. 2              NaN\n",
              "Spider-Man: Homecoming                       NaN\n",
              "Thor: Ragnarok                               NaN\n",
              "Black Panther                                NaN\n",
              "Avengers: Infinity War                 17.133333\n",
              "Ant-Man and The Wasp                         NaN\n",
              "dtype: float64"
            ]
          },
          "metadata": {
            "tags": []
          },
          "execution_count": 156
        }
      ]
    },
    {
      "cell_type": "markdown",
      "metadata": {
        "id": "4zMcsRzHNrVx"
      },
      "source": [
        "### Mediana"
      ]
    },
    {
      "cell_type": "code",
      "metadata": {
        "id": "aOMkl_YHNrVz",
        "outputId": "1cd146c9-4f28-47e7-cda7-642252382869",
        "colab": {
          "base_uri": "https://localhost:8080/",
          "height": 382
        }
      },
      "source": [
        "# Dato que se encuenta en la mitad\n",
        "df_mcu.median()"
      ],
      "execution_count": 157,
      "outputs": [
        {
          "output_type": "execute_result",
          "data": {
            "text/plain": [
              "Iron Man                               15.000000\n",
              "The Incredible Hulk                     6.423077\n",
              "Iron Man 2                              9.844828\n",
              "Thor                                    7.335837\n",
              "Capitán América: el primer vengador    10.839286\n",
              "The Avengers                           15.500000\n",
              "Iron Man 3                              9.000000\n",
              "Thor: The Dark World                    6.500000\n",
              "Captain America: The Winter Soldier    14.000000\n",
              "Guardianes de la Galaxia               15.000000\n",
              "Avengers: Age of Ultron                12.000000\n",
              "Ant-Man                                11.574074\n",
              "Captain America: Civil War             16.000000\n",
              "Doctor Strange                         15.000000\n",
              "Guardianes de la Galaxia Vol. 2         9.481481\n",
              "Spider-Man: Homecoming                 12.000000\n",
              "Thor: Ragnarok                         11.696429\n",
              "Black Panther                          15.000000\n",
              "Avengers: Infinity War                 18.500000\n",
              "Ant-Man and The Wasp                   13.000000\n",
              "dtype: float64"
            ]
          },
          "metadata": {
            "tags": []
          },
          "execution_count": 157
        }
      ]
    },
    {
      "cell_type": "code",
      "metadata": {
        "id": "n42nPsHgLRsm",
        "outputId": "1fbe4d10-7260-442e-8bfd-0d0b365db29b",
        "colab": {
          "base_uri": "https://localhost:8080/",
          "height": 382
        }
      },
      "source": [
        "# Se le puede indicar el cuantil, en el ejemplo = .5\n",
        "df_mcu.quantile(.5)"
      ],
      "execution_count": 158,
      "outputs": [
        {
          "output_type": "execute_result",
          "data": {
            "text/plain": [
              "Iron Man                               15.000000\n",
              "The Incredible Hulk                     6.423077\n",
              "Iron Man 2                              9.844828\n",
              "Thor                                    7.335837\n",
              "Capitán América: el primer vengador    10.839286\n",
              "The Avengers                           15.500000\n",
              "Iron Man 3                              9.000000\n",
              "Thor: The Dark World                    6.500000\n",
              "Captain America: The Winter Soldier    14.000000\n",
              "Guardianes de la Galaxia               15.000000\n",
              "Avengers: Age of Ultron                12.000000\n",
              "Ant-Man                                11.574074\n",
              "Captain America: Civil War             16.000000\n",
              "Doctor Strange                         15.000000\n",
              "Guardianes de la Galaxia Vol. 2         9.481481\n",
              "Spider-Man: Homecoming                 12.000000\n",
              "Thor: Ragnarok                         11.696429\n",
              "Black Panther                          15.000000\n",
              "Avengers: Infinity War                 18.500000\n",
              "Ant-Man and The Wasp                   13.000000\n",
              "Name: 0.5, dtype: float64"
            ]
          },
          "metadata": {
            "tags": []
          },
          "execution_count": 158
        }
      ]
    },
    {
      "cell_type": "code",
      "metadata": {
        "id": "eLofzHJeLZUL",
        "outputId": "0ec11ee8-ea3b-4b88-b585-52acdedee30a",
        "colab": {
          "base_uri": "https://localhost:8080/",
          "height": 382
        }
      },
      "source": [
        "# Intenta hacer cáálculo de la mediana CON los NaNs\n",
        "df_mcu_falt.mean(skipna=False)"
      ],
      "execution_count": 159,
      "outputs": [
        {
          "output_type": "execute_result",
          "data": {
            "text/plain": [
              "Iron Man                                     NaN\n",
              "The Incredible Hulk                          NaN\n",
              "Iron Man 2                                   NaN\n",
              "Thor                                         NaN\n",
              "Capitán América: el primer vengador          NaN\n",
              "The Avengers                           14.233333\n",
              "Iron Man 3                                   NaN\n",
              "Thor: The Dark World                         NaN\n",
              "Captain America: The Winter Soldier          NaN\n",
              "Guardianes de la Galaxia                     NaN\n",
              "Avengers: Age of Ultron                      NaN\n",
              "Ant-Man                                      NaN\n",
              "Captain America: Civil War                   NaN\n",
              "Doctor Strange                               NaN\n",
              "Guardianes de la Galaxia Vol. 2              NaN\n",
              "Spider-Man: Homecoming                       NaN\n",
              "Thor: Ragnarok                               NaN\n",
              "Black Panther                                NaN\n",
              "Avengers: Infinity War                 17.133333\n",
              "Ant-Man and The Wasp                         NaN\n",
              "dtype: float64"
            ]
          },
          "metadata": {
            "tags": []
          },
          "execution_count": 159
        }
      ]
    },
    {
      "cell_type": "markdown",
      "metadata": {
        "id": "2Tw3dvOTNrV-"
      },
      "source": [
        "### Moda"
      ]
    },
    {
      "cell_type": "code",
      "metadata": {
        "id": "bvayx1KUNrWD",
        "outputId": "bb8bce43-90ef-4ce1-c0f3-3639e6cdd5f7",
        "colab": {
          "base_uri": "https://localhost:8080/",
          "height": 264
        }
      },
      "source": [
        "df_mcu.mode()"
      ],
      "execution_count": 160,
      "outputs": [
        {
          "output_type": "execute_result",
          "data": {
            "text/html": [
              "<div>\n",
              "<style scoped>\n",
              "    .dataframe tbody tr th:only-of-type {\n",
              "        vertical-align: middle;\n",
              "    }\n",
              "\n",
              "    .dataframe tbody tr th {\n",
              "        vertical-align: top;\n",
              "    }\n",
              "\n",
              "    .dataframe thead th {\n",
              "        text-align: right;\n",
              "    }\n",
              "</style>\n",
              "<table border=\"1\" class=\"dataframe\">\n",
              "  <thead>\n",
              "    <tr style=\"text-align: right;\">\n",
              "      <th></th>\n",
              "      <th>Iron Man</th>\n",
              "      <th>The Incredible Hulk</th>\n",
              "      <th>Iron Man 2</th>\n",
              "      <th>Thor</th>\n",
              "      <th>Capitán América: el primer vengador</th>\n",
              "      <th>The Avengers</th>\n",
              "      <th>Iron Man 3</th>\n",
              "      <th>Thor: The Dark World</th>\n",
              "      <th>Captain America: The Winter Soldier</th>\n",
              "      <th>Guardianes de la Galaxia</th>\n",
              "      <th>Avengers: Age of Ultron</th>\n",
              "      <th>Ant-Man</th>\n",
              "      <th>Captain America: Civil War</th>\n",
              "      <th>Doctor Strange</th>\n",
              "      <th>Guardianes de la Galaxia Vol. 2</th>\n",
              "      <th>Spider-Man: Homecoming</th>\n",
              "      <th>Thor: Ragnarok</th>\n",
              "      <th>Black Panther</th>\n",
              "      <th>Avengers: Infinity War</th>\n",
              "      <th>Ant-Man and The Wasp</th>\n",
              "    </tr>\n",
              "  </thead>\n",
              "  <tbody>\n",
              "    <tr>\n",
              "      <th>0</th>\n",
              "      <td>15.0</td>\n",
              "      <td>1.0</td>\n",
              "      <td>6.0</td>\n",
              "      <td>3.0</td>\n",
              "      <td>5.0</td>\n",
              "      <td>17.0</td>\n",
              "      <td>1.0</td>\n",
              "      <td>1.0</td>\n",
              "      <td>18.0</td>\n",
              "      <td>15.0</td>\n",
              "      <td>7.0</td>\n",
              "      <td>8.0</td>\n",
              "      <td>18.0</td>\n",
              "      <td>17.0</td>\n",
              "      <td>3.0</td>\n",
              "      <td>14.0</td>\n",
              "      <td>14.0</td>\n",
              "      <td>17.0</td>\n",
              "      <td>20.0</td>\n",
              "      <td>9.0</td>\n",
              "    </tr>\n",
              "    <tr>\n",
              "      <th>1</th>\n",
              "      <td>NaN</td>\n",
              "      <td>NaN</td>\n",
              "      <td>14.0</td>\n",
              "      <td>6.0</td>\n",
              "      <td>11.0</td>\n",
              "      <td>NaN</td>\n",
              "      <td>NaN</td>\n",
              "      <td>12.0</td>\n",
              "      <td>NaN</td>\n",
              "      <td>NaN</td>\n",
              "      <td>NaN</td>\n",
              "      <td>13.0</td>\n",
              "      <td>NaN</td>\n",
              "      <td>NaN</td>\n",
              "      <td>6.0</td>\n",
              "      <td>NaN</td>\n",
              "      <td>NaN</td>\n",
              "      <td>NaN</td>\n",
              "      <td>NaN</td>\n",
              "      <td>13.0</td>\n",
              "    </tr>\n",
              "    <tr>\n",
              "      <th>2</th>\n",
              "      <td>NaN</td>\n",
              "      <td>NaN</td>\n",
              "      <td>NaN</td>\n",
              "      <td>10.0</td>\n",
              "      <td>NaN</td>\n",
              "      <td>NaN</td>\n",
              "      <td>NaN</td>\n",
              "      <td>NaN</td>\n",
              "      <td>NaN</td>\n",
              "      <td>NaN</td>\n",
              "      <td>NaN</td>\n",
              "      <td>14.0</td>\n",
              "      <td>NaN</td>\n",
              "      <td>NaN</td>\n",
              "      <td>9.0</td>\n",
              "      <td>NaN</td>\n",
              "      <td>NaN</td>\n",
              "      <td>NaN</td>\n",
              "      <td>NaN</td>\n",
              "      <td>NaN</td>\n",
              "    </tr>\n",
              "    <tr>\n",
              "      <th>3</th>\n",
              "      <td>NaN</td>\n",
              "      <td>NaN</td>\n",
              "      <td>NaN</td>\n",
              "      <td>13.0</td>\n",
              "      <td>NaN</td>\n",
              "      <td>NaN</td>\n",
              "      <td>NaN</td>\n",
              "      <td>NaN</td>\n",
              "      <td>NaN</td>\n",
              "      <td>NaN</td>\n",
              "      <td>NaN</td>\n",
              "      <td>17.0</td>\n",
              "      <td>NaN</td>\n",
              "      <td>NaN</td>\n",
              "      <td>NaN</td>\n",
              "      <td>NaN</td>\n",
              "      <td>NaN</td>\n",
              "      <td>NaN</td>\n",
              "      <td>NaN</td>\n",
              "      <td>NaN</td>\n",
              "    </tr>\n",
              "  </tbody>\n",
              "</table>\n",
              "</div>"
            ],
            "text/plain": [
              "   Iron Man  The Incredible Hulk  ...  Avengers: Infinity War  Ant-Man and The Wasp\n",
              "0      15.0                  1.0  ...                    20.0                   9.0\n",
              "1       NaN                  NaN  ...                     NaN                  13.0\n",
              "2       NaN                  NaN  ...                     NaN                   NaN\n",
              "3       NaN                  NaN  ...                     NaN                   NaN\n",
              "\n",
              "[4 rows x 20 columns]"
            ]
          },
          "metadata": {
            "tags": []
          },
          "execution_count": 160
        }
      ]
    },
    {
      "cell_type": "code",
      "metadata": {
        "id": "2XjGqFqmLiwp",
        "outputId": "92aad93a-fc3d-43c6-ed8a-ce66b486c852",
        "colab": {
          "base_uri": "https://localhost:8080/",
          "height": 330
        }
      },
      "source": [
        "# Moda con la cantidad de veces que se repite\n",
        "df_mcu['Iron Man 2'].value_counts()"
      ],
      "execution_count": 161,
      "outputs": [
        {
          "output_type": "execute_result",
          "data": {
            "text/plain": [
              "14.000000    4\n",
              "6.000000     4\n",
              "12.000000    3\n",
              "10.000000    3\n",
              "5.000000     2\n",
              "15.000000    2\n",
              "8.000000     2\n",
              "18.000000    1\n",
              "1.000000     1\n",
              "3.000000     1\n",
              "4.000000     1\n",
              "9.000000     1\n",
              "2.000000     1\n",
              "19.000000    1\n",
              "16.000000    1\n",
              "7.000000     1\n",
              "9.689655     1\n",
              "Name: Iron Man 2, dtype: int64"
            ]
          },
          "metadata": {
            "tags": []
          },
          "execution_count": 161
        }
      ]
    },
    {
      "cell_type": "markdown",
      "metadata": {
        "id": "Kc2mob3bNrWN"
      },
      "source": [
        "### Máximo y mínimo"
      ]
    },
    {
      "cell_type": "code",
      "metadata": {
        "id": "KB1GnWNXNrWP",
        "outputId": "fa96ffcd-4f8b-4f04-bfbf-6a5c3ca160e0",
        "colab": {
          "base_uri": "https://localhost:8080/",
          "height": 382
        }
      },
      "source": [
        "df_mcu.max()"
      ],
      "execution_count": 162,
      "outputs": [
        {
          "output_type": "execute_result",
          "data": {
            "text/plain": [
              "Iron Man                               20.000000\n",
              "The Incredible Hulk                    13.000000\n",
              "Iron Man 2                             19.000000\n",
              "Thor                                   19.000000\n",
              "Capitán América: el primer vengador    20.000000\n",
              "The Avengers                           20.000000\n",
              "Iron Man 3                             18.000000\n",
              "Thor: The Dark World                   19.000000\n",
              "Captain America: The Winter Soldier    20.000000\n",
              "Guardianes de la Galaxia               20.000000\n",
              "Avengers: Age of Ultron                20.000000\n",
              "Ant-Man                                19.000000\n",
              "Captain America: Civil War             20.000000\n",
              "Doctor Strange                         20.000000\n",
              "Guardianes de la Galaxia Vol. 2        20.000000\n",
              "Spider-Man: Homecoming                 21.115503\n",
              "Thor: Ragnarok                         20.000000\n",
              "Black Panther                          20.000000\n",
              "Avengers: Infinity War                 20.000000\n",
              "Ant-Man and The Wasp                   66.878943\n",
              "dtype: float64"
            ]
          },
          "metadata": {
            "tags": []
          },
          "execution_count": 162
        }
      ]
    },
    {
      "cell_type": "code",
      "metadata": {
        "id": "kZi5BS8NMEXx",
        "outputId": "6e960eff-3e6a-470a-ceca-3d7aec34b35d",
        "colab": {
          "base_uri": "https://localhost:8080/",
          "height": 382
        }
      },
      "source": [
        "df_mcu.min()"
      ],
      "execution_count": 163,
      "outputs": [
        {
          "output_type": "execute_result",
          "data": {
            "text/plain": [
              "Iron Man                                1.000000\n",
              "The Incredible Hulk                     1.000000\n",
              "Iron Man 2                              1.000000\n",
              "Thor                                   -0.507588\n",
              "Capitán América: el primer vengador     1.000000\n",
              "The Avengers                            1.000000\n",
              "Iron Man 3                              1.000000\n",
              "Thor: The Dark World                   -6.120354\n",
              "Captain America: The Winter Soldier     1.000000\n",
              "Guardianes de la Galaxia                2.000000\n",
              "Avengers: Age of Ultron                 1.000000\n",
              "Ant-Man                                 1.000000\n",
              "Captain America: Civil War              1.000000\n",
              "Doctor Strange                          1.000000\n",
              "Guardianes de la Galaxia Vol. 2         1.000000\n",
              "Spider-Man: Homecoming                 -0.578183\n",
              "Thor: Ragnarok                          1.000000\n",
              "Black Panther                           1.000000\n",
              "Avengers: Infinity War                  1.000000\n",
              "Ant-Man and The Wasp                  -48.992629\n",
              "dtype: float64"
            ]
          },
          "metadata": {
            "tags": []
          },
          "execution_count": 163
        }
      ]
    },
    {
      "cell_type": "code",
      "metadata": {
        "id": "39DUnueqMGp4",
        "outputId": "5f03b730-044d-44f2-8b58-3a72fd138cd8",
        "colab": {
          "base_uri": "https://localhost:8080/",
          "height": 555
        }
      },
      "source": [
        "df_mcu.max(axis=1)"
      ],
      "execution_count": 164,
      "outputs": [
        {
          "output_type": "execute_result",
          "data": {
            "text/plain": [
              "0     20.000000\n",
              "1      9.000000\n",
              "2     20.000000\n",
              "3     28.143013\n",
              "4     20.000000\n",
              "5     44.366782\n",
              "6     20.000000\n",
              "7     20.000000\n",
              "8     20.000000\n",
              "9     20.000000\n",
              "10    20.000000\n",
              "11     2.000000\n",
              "12    20.000000\n",
              "13    20.000000\n",
              "14    20.000000\n",
              "15    20.000000\n",
              "16    66.878943\n",
              "17    47.993823\n",
              "18    20.000000\n",
              "19    18.000000\n",
              "20    16.000000\n",
              "21    20.000000\n",
              "22    20.000000\n",
              "23    20.000000\n",
              "24    45.967420\n",
              "25    21.149381\n",
              "26    20.000000\n",
              "27    21.115503\n",
              "28    20.000000\n",
              "29    18.000000\n",
              "dtype: float64"
            ]
          },
          "metadata": {
            "tags": []
          },
          "execution_count": 164
        }
      ]
    },
    {
      "cell_type": "code",
      "metadata": {
        "id": "jQrujdc8MRtJ",
        "outputId": "956f8ecc-430a-4eb4-c637-c34e2b65cac3",
        "colab": {
          "base_uri": "https://localhost:8080/",
          "height": 382
        }
      },
      "source": [
        "df_mcu.max(skipna=False)"
      ],
      "execution_count": 165,
      "outputs": [
        {
          "output_type": "execute_result",
          "data": {
            "text/plain": [
              "Iron Man                               20.000000\n",
              "The Incredible Hulk                    13.000000\n",
              "Iron Man 2                             19.000000\n",
              "Thor                                   19.000000\n",
              "Capitán América: el primer vengador    20.000000\n",
              "The Avengers                           20.000000\n",
              "Iron Man 3                             18.000000\n",
              "Thor: The Dark World                   19.000000\n",
              "Captain America: The Winter Soldier    20.000000\n",
              "Guardianes de la Galaxia               20.000000\n",
              "Avengers: Age of Ultron                20.000000\n",
              "Ant-Man                                19.000000\n",
              "Captain America: Civil War             20.000000\n",
              "Doctor Strange                         20.000000\n",
              "Guardianes de la Galaxia Vol. 2        20.000000\n",
              "Spider-Man: Homecoming                 21.115503\n",
              "Thor: Ragnarok                         20.000000\n",
              "Black Panther                          20.000000\n",
              "Avengers: Infinity War                 20.000000\n",
              "Ant-Man and The Wasp                   66.878943\n",
              "dtype: float64"
            ]
          },
          "metadata": {
            "tags": []
          },
          "execution_count": 165
        }
      ]
    },
    {
      "cell_type": "markdown",
      "metadata": {
        "id": "8sZoxJkHNrWd"
      },
      "source": [
        "### Con un dataFrame multi-indexado"
      ]
    },
    {
      "cell_type": "code",
      "metadata": {
        "id": "PP037GwPNrWh",
        "outputId": "3000351f-8865-4718-b43f-1737615bad27",
        "colab": {
          "base_uri": "https://localhost:8080/",
          "height": 395
        }
      },
      "source": [
        "valor = np.random.randint(20, size=10)\n",
        "\n",
        "df_ventas = pd.DataFrame({'Valor': valor}, \n",
        "                         index=[[1,1,1,2,2,2,3,3,3,3], \n",
        "                                ['a', 'b', 'c', 'a', 'b', 'c', 'a', 'b', 'c','d']])\n",
        "df_ventas = df_ventas.rename_axis(['Oficina','Producto'])\n",
        "df_ventas"
      ],
      "execution_count": 166,
      "outputs": [
        {
          "output_type": "execute_result",
          "data": {
            "text/html": [
              "<div>\n",
              "<style scoped>\n",
              "    .dataframe tbody tr th:only-of-type {\n",
              "        vertical-align: middle;\n",
              "    }\n",
              "\n",
              "    .dataframe tbody tr th {\n",
              "        vertical-align: top;\n",
              "    }\n",
              "\n",
              "    .dataframe thead th {\n",
              "        text-align: right;\n",
              "    }\n",
              "</style>\n",
              "<table border=\"1\" class=\"dataframe\">\n",
              "  <thead>\n",
              "    <tr style=\"text-align: right;\">\n",
              "      <th></th>\n",
              "      <th></th>\n",
              "      <th>Valor</th>\n",
              "    </tr>\n",
              "    <tr>\n",
              "      <th>Oficina</th>\n",
              "      <th>Producto</th>\n",
              "      <th></th>\n",
              "    </tr>\n",
              "  </thead>\n",
              "  <tbody>\n",
              "    <tr>\n",
              "      <th rowspan=\"3\" valign=\"top\">1</th>\n",
              "      <th>a</th>\n",
              "      <td>11</td>\n",
              "    </tr>\n",
              "    <tr>\n",
              "      <th>b</th>\n",
              "      <td>1</td>\n",
              "    </tr>\n",
              "    <tr>\n",
              "      <th>c</th>\n",
              "      <td>13</td>\n",
              "    </tr>\n",
              "    <tr>\n",
              "      <th rowspan=\"3\" valign=\"top\">2</th>\n",
              "      <th>a</th>\n",
              "      <td>2</td>\n",
              "    </tr>\n",
              "    <tr>\n",
              "      <th>b</th>\n",
              "      <td>4</td>\n",
              "    </tr>\n",
              "    <tr>\n",
              "      <th>c</th>\n",
              "      <td>14</td>\n",
              "    </tr>\n",
              "    <tr>\n",
              "      <th rowspan=\"4\" valign=\"top\">3</th>\n",
              "      <th>a</th>\n",
              "      <td>12</td>\n",
              "    </tr>\n",
              "    <tr>\n",
              "      <th>b</th>\n",
              "      <td>3</td>\n",
              "    </tr>\n",
              "    <tr>\n",
              "      <th>c</th>\n",
              "      <td>17</td>\n",
              "    </tr>\n",
              "    <tr>\n",
              "      <th>d</th>\n",
              "      <td>9</td>\n",
              "    </tr>\n",
              "  </tbody>\n",
              "</table>\n",
              "</div>"
            ],
            "text/plain": [
              "                  Valor\n",
              "Oficina Producto       \n",
              "1       a            11\n",
              "        b             1\n",
              "        c            13\n",
              "2       a             2\n",
              "        b             4\n",
              "        c            14\n",
              "3       a            12\n",
              "        b             3\n",
              "        c            17\n",
              "        d             9"
            ]
          },
          "metadata": {
            "tags": []
          },
          "execution_count": 166
        }
      ]
    },
    {
      "cell_type": "code",
      "metadata": {
        "id": "DjHZ-x4jM8yD",
        "outputId": "9663a3e7-efc9-45b9-e692-fe8e2d015b89",
        "colab": {
          "base_uri": "https://localhost:8080/",
          "height": 206
        }
      },
      "source": [
        "df_ventas.mean(level='Producto')"
      ],
      "execution_count": 172,
      "outputs": [
        {
          "output_type": "execute_result",
          "data": {
            "text/html": [
              "<div>\n",
              "<style scoped>\n",
              "    .dataframe tbody tr th:only-of-type {\n",
              "        vertical-align: middle;\n",
              "    }\n",
              "\n",
              "    .dataframe tbody tr th {\n",
              "        vertical-align: top;\n",
              "    }\n",
              "\n",
              "    .dataframe thead th {\n",
              "        text-align: right;\n",
              "    }\n",
              "</style>\n",
              "<table border=\"1\" class=\"dataframe\">\n",
              "  <thead>\n",
              "    <tr style=\"text-align: right;\">\n",
              "      <th></th>\n",
              "      <th>Valor</th>\n",
              "    </tr>\n",
              "    <tr>\n",
              "      <th>Producto</th>\n",
              "      <th></th>\n",
              "    </tr>\n",
              "  </thead>\n",
              "  <tbody>\n",
              "    <tr>\n",
              "      <th>a</th>\n",
              "      <td>8.333333</td>\n",
              "    </tr>\n",
              "    <tr>\n",
              "      <th>b</th>\n",
              "      <td>2.666667</td>\n",
              "    </tr>\n",
              "    <tr>\n",
              "      <th>c</th>\n",
              "      <td>14.666667</td>\n",
              "    </tr>\n",
              "    <tr>\n",
              "      <th>d</th>\n",
              "      <td>9.000000</td>\n",
              "    </tr>\n",
              "  </tbody>\n",
              "</table>\n",
              "</div>"
            ],
            "text/plain": [
              "              Valor\n",
              "Producto           \n",
              "a          8.333333\n",
              "b          2.666667\n",
              "c         14.666667\n",
              "d          9.000000"
            ]
          },
          "metadata": {
            "tags": []
          },
          "execution_count": 172
        }
      ]
    },
    {
      "cell_type": "markdown",
      "metadata": {
        "id": "Yu0zhilaNrWx"
      },
      "source": [
        "### Desviación estándar y varianza"
      ]
    },
    {
      "cell_type": "markdown",
      "metadata": {
        "id": "Kr7fTRqxN8hf"
      },
      "source": [
        "Pandas DataFrame [var()](https://pandas.pydata.org/pandas-docs/stable/reference/api/pandas.DataFrame.var.html)"
      ]
    },
    {
      "cell_type": "code",
      "metadata": {
        "id": "8m_9ySE0NrW0",
        "outputId": "5bfc2eab-8708-4b86-bb56-401439ca6559",
        "colab": {
          "base_uri": "https://localhost:8080/",
          "height": 399
        }
      },
      "source": [
        "# Varianza\n",
        "disp = df_mcu.var()\n",
        "disp = disp.sort_values()\n",
        "disp"
      ],
      "execution_count": 174,
      "outputs": [
        {
          "output_type": "stream",
          "text": [
            "<class 'pandas.core.frame.DataFrame'>\n"
          ],
          "name": "stdout"
        },
        {
          "output_type": "execute_result",
          "data": {
            "text/plain": [
              "Capitán América: el primer vengador     18.831281\n",
              "The Incredible Hulk                     19.046419\n",
              "Iron Man                                20.229885\n",
              "Guardianes de la Galaxia                21.482070\n",
              "Avengers: Infinity War                  21.705747\n",
              "The Avengers                            22.529885\n",
              "Iron Man 2                              22.972652\n",
              "Thor                                    24.157688\n",
              "Avengers: Age of Ultron                 24.581281\n",
              "Ant-Man                                 25.703704\n",
              "Iron Man 3                              26.009076\n",
              "Captain America: Civil War              27.103448\n",
              "Captain America: The Winter Soldier     27.678571\n",
              "Thor: Ragnarok                          27.678571\n",
              "Doctor Strange                          28.368227\n",
              "Guardianes de la Galaxia Vol. 2         32.240102\n",
              "Black Panther                           33.581281\n",
              "Thor: The Dark World                    34.032721\n",
              "Spider-Man: Homecoming                  36.757917\n",
              "Ant-Man and The Wasp                   502.921823\n",
              "dtype: float64"
            ]
          },
          "metadata": {
            "tags": []
          },
          "execution_count": 174
        }
      ]
    },
    {
      "cell_type": "markdown",
      "metadata": {
        "id": "O1Er8ND4Obwe"
      },
      "source": [
        "Pandas Variación estandar [std()](https://pandas.pydata.org/pandas-docs/stable/reference/api/pandas.DataFrame.std.html)"
      ]
    },
    {
      "cell_type": "code",
      "metadata": {
        "id": "bzY8YnYUNBQP",
        "outputId": "3cc11071-141e-44ab-e651-520af29b80e3",
        "colab": {
          "base_uri": "https://localhost:8080/",
          "height": 382
        }
      },
      "source": [
        "disp = df_mcu.std()\n",
        "disp = disp.sort_values()\n",
        "disp"
      ],
      "execution_count": 173,
      "outputs": [
        {
          "output_type": "execute_result",
          "data": {
            "text/plain": [
              "Capitán América: el primer vengador     4.339502\n",
              "The Incredible Hulk                     4.364220\n",
              "Iron Man                                4.497764\n",
              "Guardianes de la Galaxia                4.634875\n",
              "Avengers: Infinity War                  4.658943\n",
              "The Avengers                            4.746566\n",
              "Iron Man 2                              4.792979\n",
              "Thor                                    4.915047\n",
              "Avengers: Age of Ultron                 4.957951\n",
              "Ant-Man                                 5.069882\n",
              "Iron Man 3                              5.099909\n",
              "Captain America: Civil War              5.206097\n",
              "Captain America: The Winter Soldier     5.261043\n",
              "Thor: Ragnarok                          5.261043\n",
              "Doctor Strange                          5.326183\n",
              "Guardianes de la Galaxia Vol. 2         5.678037\n",
              "Black Panther                           5.794936\n",
              "Thor: The Dark World                    5.833757\n",
              "Spider-Man: Homecoming                  6.062831\n",
              "Ant-Man and The Wasp                   22.425919\n",
              "dtype: float64"
            ]
          },
          "metadata": {
            "tags": []
          },
          "execution_count": 173
        }
      ]
    },
    {
      "cell_type": "code",
      "metadata": {
        "id": "1w5yHQGfNfZE",
        "outputId": "0aed4624-d56e-4c0c-ce5e-984d5026ea1d",
        "colab": {
          "base_uri": "https://localhost:8080/",
          "height": 542
        }
      },
      "source": [
        "import plotly.express as px\n",
        "fig = px.bar(y=disp.index, x=disp.values,  orientation='h')\n",
        "fig.update_layout(title='Controversia generada por la película',\n",
        "                 xaxis_title=\"Controversia generada\",\n",
        "                 yaxis_title=\"Película\",)\n",
        "fig.show()"
      ],
      "execution_count": 175,
      "outputs": [
        {
          "output_type": "display_data",
          "data": {
            "text/html": [
              "<html>\n",
              "<head><meta charset=\"utf-8\" /></head>\n",
              "<body>\n",
              "    <div>\n",
              "            <script src=\"https://cdnjs.cloudflare.com/ajax/libs/mathjax/2.7.5/MathJax.js?config=TeX-AMS-MML_SVG\"></script><script type=\"text/javascript\">if (window.MathJax) {MathJax.Hub.Config({SVG: {font: \"STIX-Web\"}});}</script>\n",
              "                <script type=\"text/javascript\">window.PlotlyConfig = {MathJaxConfig: 'local'};</script>\n",
              "        <script src=\"https://cdn.plot.ly/plotly-latest.min.js\"></script>    \n",
              "            <div id=\"f9302f08-7ea2-4833-9e9a-9122f90af47f\" class=\"plotly-graph-div\" style=\"height:525px; width:100%;\"></div>\n",
              "            <script type=\"text/javascript\">\n",
              "                \n",
              "                    window.PLOTLYENV=window.PLOTLYENV || {};\n",
              "                    \n",
              "                if (document.getElementById(\"f9302f08-7ea2-4833-9e9a-9122f90af47f\")) {\n",
              "                    Plotly.newPlot(\n",
              "                        'f9302f08-7ea2-4833-9e9a-9122f90af47f',\n",
              "                        [{\"alignmentgroup\": \"True\", \"hoverlabel\": {\"namelength\": 0}, \"hovertemplate\": \"x=%{x}<br>y=%{y}\", \"legendgroup\": \"\", \"marker\": {\"color\": \"#636efa\"}, \"name\": \"\", \"offsetgroup\": \"\", \"orientation\": \"h\", \"showlegend\": false, \"textposition\": \"auto\", \"type\": \"bar\", \"x\": [18.83128078817734, 19.046419098143236, 20.229885057471268, 21.482069764395252, 21.705747126436776, 22.52988505747127, 22.972651605231867, 24.15768810203897, 24.581280788177338, 25.703703703703695, 26.009075532514082, 27.10344827586208, 27.678571428571423, 27.678571428571423, 28.368226600985217, 32.240102171136655, 33.58128078817734, 34.032721390306264, 36.75791659336031, 502.9218232712611], \"xaxis\": \"x\", \"y\": [\"Capit\\u00e1n Am\\u00e9rica: el primer vengador\", \"The Incredible Hulk\", \"Iron Man\", \"Guardianes de la Galaxia\", \"Avengers: Infinity War\", \"The Avengers\", \"Iron Man 2\", \"Thor\", \"Avengers: Age of Ultron\", \"Ant-Man\", \"Iron Man 3\", \"Captain America: Civil War\", \"Captain America: The Winter Soldier\", \"Thor: Ragnarok\", \"Doctor Strange\", \"Guardianes de la Galaxia Vol. 2\", \"Black Panther\", \"Thor: The Dark World\", \"Spider-Man: Homecoming\", \"Ant-Man and The Wasp\"], \"yaxis\": \"y\"}],\n",
              "                        {\"barmode\": \"relative\", \"legend\": {\"tracegroupgap\": 0}, \"margin\": {\"t\": 60}, \"template\": {\"data\": {\"bar\": [{\"error_x\": {\"color\": \"#2a3f5f\"}, \"error_y\": {\"color\": \"#2a3f5f\"}, \"marker\": {\"line\": {\"color\": \"#E5ECF6\", \"width\": 0.5}}, \"type\": \"bar\"}], \"barpolar\": [{\"marker\": {\"line\": {\"color\": \"#E5ECF6\", \"width\": 0.5}}, \"type\": \"barpolar\"}], \"carpet\": [{\"aaxis\": {\"endlinecolor\": \"#2a3f5f\", \"gridcolor\": \"white\", \"linecolor\": \"white\", \"minorgridcolor\": \"white\", \"startlinecolor\": \"#2a3f5f\"}, \"baxis\": {\"endlinecolor\": \"#2a3f5f\", \"gridcolor\": \"white\", \"linecolor\": \"white\", \"minorgridcolor\": \"white\", \"startlinecolor\": \"#2a3f5f\"}, \"type\": \"carpet\"}], \"choropleth\": [{\"colorbar\": {\"outlinewidth\": 0, \"ticks\": \"\"}, \"type\": \"choropleth\"}], \"contour\": [{\"colorbar\": {\"outlinewidth\": 0, \"ticks\": \"\"}, \"colorscale\": [[0.0, \"#0d0887\"], [0.1111111111111111, \"#46039f\"], [0.2222222222222222, \"#7201a8\"], [0.3333333333333333, \"#9c179e\"], [0.4444444444444444, \"#bd3786\"], [0.5555555555555556, \"#d8576b\"], [0.6666666666666666, \"#ed7953\"], [0.7777777777777778, \"#fb9f3a\"], [0.8888888888888888, \"#fdca26\"], [1.0, \"#f0f921\"]], \"type\": \"contour\"}], \"contourcarpet\": [{\"colorbar\": {\"outlinewidth\": 0, \"ticks\": \"\"}, \"type\": \"contourcarpet\"}], \"heatmap\": [{\"colorbar\": {\"outlinewidth\": 0, \"ticks\": \"\"}, \"colorscale\": [[0.0, \"#0d0887\"], [0.1111111111111111, \"#46039f\"], [0.2222222222222222, \"#7201a8\"], [0.3333333333333333, \"#9c179e\"], [0.4444444444444444, \"#bd3786\"], [0.5555555555555556, \"#d8576b\"], [0.6666666666666666, \"#ed7953\"], [0.7777777777777778, \"#fb9f3a\"], [0.8888888888888888, \"#fdca26\"], [1.0, \"#f0f921\"]], \"type\": \"heatmap\"}], \"heatmapgl\": [{\"colorbar\": {\"outlinewidth\": 0, \"ticks\": \"\"}, \"colorscale\": [[0.0, \"#0d0887\"], [0.1111111111111111, \"#46039f\"], [0.2222222222222222, \"#7201a8\"], [0.3333333333333333, \"#9c179e\"], [0.4444444444444444, \"#bd3786\"], [0.5555555555555556, \"#d8576b\"], [0.6666666666666666, \"#ed7953\"], [0.7777777777777778, \"#fb9f3a\"], [0.8888888888888888, \"#fdca26\"], [1.0, \"#f0f921\"]], \"type\": \"heatmapgl\"}], \"histogram\": [{\"marker\": {\"colorbar\": {\"outlinewidth\": 0, \"ticks\": \"\"}}, \"type\": \"histogram\"}], \"histogram2d\": [{\"colorbar\": {\"outlinewidth\": 0, \"ticks\": \"\"}, \"colorscale\": [[0.0, \"#0d0887\"], [0.1111111111111111, \"#46039f\"], [0.2222222222222222, \"#7201a8\"], [0.3333333333333333, \"#9c179e\"], [0.4444444444444444, \"#bd3786\"], [0.5555555555555556, \"#d8576b\"], [0.6666666666666666, \"#ed7953\"], [0.7777777777777778, \"#fb9f3a\"], [0.8888888888888888, \"#fdca26\"], [1.0, \"#f0f921\"]], \"type\": \"histogram2d\"}], \"histogram2dcontour\": [{\"colorbar\": {\"outlinewidth\": 0, \"ticks\": \"\"}, \"colorscale\": [[0.0, \"#0d0887\"], [0.1111111111111111, \"#46039f\"], [0.2222222222222222, \"#7201a8\"], [0.3333333333333333, \"#9c179e\"], [0.4444444444444444, \"#bd3786\"], [0.5555555555555556, \"#d8576b\"], [0.6666666666666666, \"#ed7953\"], [0.7777777777777778, \"#fb9f3a\"], [0.8888888888888888, \"#fdca26\"], [1.0, \"#f0f921\"]], \"type\": \"histogram2dcontour\"}], \"mesh3d\": [{\"colorbar\": {\"outlinewidth\": 0, \"ticks\": \"\"}, \"type\": \"mesh3d\"}], \"parcoords\": [{\"line\": {\"colorbar\": {\"outlinewidth\": 0, \"ticks\": \"\"}}, \"type\": \"parcoords\"}], \"pie\": [{\"automargin\": true, \"type\": \"pie\"}], \"scatter\": [{\"marker\": {\"colorbar\": {\"outlinewidth\": 0, \"ticks\": \"\"}}, \"type\": \"scatter\"}], \"scatter3d\": [{\"line\": {\"colorbar\": {\"outlinewidth\": 0, \"ticks\": \"\"}}, \"marker\": {\"colorbar\": {\"outlinewidth\": 0, \"ticks\": \"\"}}, \"type\": \"scatter3d\"}], \"scattercarpet\": [{\"marker\": {\"colorbar\": {\"outlinewidth\": 0, \"ticks\": \"\"}}, \"type\": \"scattercarpet\"}], \"scattergeo\": [{\"marker\": {\"colorbar\": {\"outlinewidth\": 0, \"ticks\": \"\"}}, \"type\": \"scattergeo\"}], \"scattergl\": [{\"marker\": {\"colorbar\": {\"outlinewidth\": 0, \"ticks\": \"\"}}, \"type\": \"scattergl\"}], \"scattermapbox\": [{\"marker\": {\"colorbar\": {\"outlinewidth\": 0, \"ticks\": \"\"}}, \"type\": \"scattermapbox\"}], \"scatterpolar\": [{\"marker\": {\"colorbar\": {\"outlinewidth\": 0, \"ticks\": \"\"}}, \"type\": \"scatterpolar\"}], \"scatterpolargl\": [{\"marker\": {\"colorbar\": {\"outlinewidth\": 0, \"ticks\": \"\"}}, \"type\": \"scatterpolargl\"}], \"scatterternary\": [{\"marker\": {\"colorbar\": {\"outlinewidth\": 0, \"ticks\": \"\"}}, \"type\": \"scatterternary\"}], \"surface\": [{\"colorbar\": {\"outlinewidth\": 0, \"ticks\": \"\"}, \"colorscale\": [[0.0, \"#0d0887\"], [0.1111111111111111, \"#46039f\"], [0.2222222222222222, \"#7201a8\"], [0.3333333333333333, \"#9c179e\"], [0.4444444444444444, \"#bd3786\"], [0.5555555555555556, \"#d8576b\"], [0.6666666666666666, \"#ed7953\"], [0.7777777777777778, \"#fb9f3a\"], [0.8888888888888888, \"#fdca26\"], [1.0, \"#f0f921\"]], \"type\": \"surface\"}], \"table\": [{\"cells\": {\"fill\": {\"color\": \"#EBF0F8\"}, \"line\": {\"color\": \"white\"}}, \"header\": {\"fill\": {\"color\": \"#C8D4E3\"}, \"line\": {\"color\": \"white\"}}, \"type\": \"table\"}]}, \"layout\": {\"annotationdefaults\": {\"arrowcolor\": \"#2a3f5f\", \"arrowhead\": 0, \"arrowwidth\": 1}, \"coloraxis\": {\"colorbar\": {\"outlinewidth\": 0, \"ticks\": \"\"}}, \"colorscale\": {\"diverging\": [[0, \"#8e0152\"], [0.1, \"#c51b7d\"], [0.2, \"#de77ae\"], [0.3, \"#f1b6da\"], [0.4, \"#fde0ef\"], [0.5, \"#f7f7f7\"], [0.6, \"#e6f5d0\"], [0.7, \"#b8e186\"], [0.8, \"#7fbc41\"], [0.9, \"#4d9221\"], [1, \"#276419\"]], \"sequential\": [[0.0, \"#0d0887\"], [0.1111111111111111, \"#46039f\"], [0.2222222222222222, \"#7201a8\"], [0.3333333333333333, \"#9c179e\"], [0.4444444444444444, \"#bd3786\"], [0.5555555555555556, \"#d8576b\"], [0.6666666666666666, \"#ed7953\"], [0.7777777777777778, \"#fb9f3a\"], [0.8888888888888888, \"#fdca26\"], [1.0, \"#f0f921\"]], \"sequentialminus\": [[0.0, \"#0d0887\"], [0.1111111111111111, \"#46039f\"], [0.2222222222222222, \"#7201a8\"], [0.3333333333333333, \"#9c179e\"], [0.4444444444444444, \"#bd3786\"], [0.5555555555555556, \"#d8576b\"], [0.6666666666666666, \"#ed7953\"], [0.7777777777777778, \"#fb9f3a\"], [0.8888888888888888, \"#fdca26\"], [1.0, \"#f0f921\"]]}, \"colorway\": [\"#636efa\", \"#EF553B\", \"#00cc96\", \"#ab63fa\", \"#FFA15A\", \"#19d3f3\", \"#FF6692\", \"#B6E880\", \"#FF97FF\", \"#FECB52\"], \"font\": {\"color\": \"#2a3f5f\"}, \"geo\": {\"bgcolor\": \"white\", \"lakecolor\": \"white\", \"landcolor\": \"#E5ECF6\", \"showlakes\": true, \"showland\": true, \"subunitcolor\": \"white\"}, \"hoverlabel\": {\"align\": \"left\"}, \"hovermode\": \"closest\", \"mapbox\": {\"style\": \"light\"}, \"paper_bgcolor\": \"white\", \"plot_bgcolor\": \"#E5ECF6\", \"polar\": {\"angularaxis\": {\"gridcolor\": \"white\", \"linecolor\": \"white\", \"ticks\": \"\"}, \"bgcolor\": \"#E5ECF6\", \"radialaxis\": {\"gridcolor\": \"white\", \"linecolor\": \"white\", \"ticks\": \"\"}}, \"scene\": {\"xaxis\": {\"backgroundcolor\": \"#E5ECF6\", \"gridcolor\": \"white\", \"gridwidth\": 2, \"linecolor\": \"white\", \"showbackground\": true, \"ticks\": \"\", \"zerolinecolor\": \"white\"}, \"yaxis\": {\"backgroundcolor\": \"#E5ECF6\", \"gridcolor\": \"white\", \"gridwidth\": 2, \"linecolor\": \"white\", \"showbackground\": true, \"ticks\": \"\", \"zerolinecolor\": \"white\"}, \"zaxis\": {\"backgroundcolor\": \"#E5ECF6\", \"gridcolor\": \"white\", \"gridwidth\": 2, \"linecolor\": \"white\", \"showbackground\": true, \"ticks\": \"\", \"zerolinecolor\": \"white\"}}, \"shapedefaults\": {\"line\": {\"color\": \"#2a3f5f\"}}, \"ternary\": {\"aaxis\": {\"gridcolor\": \"white\", \"linecolor\": \"white\", \"ticks\": \"\"}, \"baxis\": {\"gridcolor\": \"white\", \"linecolor\": \"white\", \"ticks\": \"\"}, \"bgcolor\": \"#E5ECF6\", \"caxis\": {\"gridcolor\": \"white\", \"linecolor\": \"white\", \"ticks\": \"\"}}, \"title\": {\"x\": 0.05}, \"xaxis\": {\"automargin\": true, \"gridcolor\": \"white\", \"linecolor\": \"white\", \"ticks\": \"\", \"title\": {\"standoff\": 15}, \"zerolinecolor\": \"white\", \"zerolinewidth\": 2}, \"yaxis\": {\"automargin\": true, \"gridcolor\": \"white\", \"linecolor\": \"white\", \"ticks\": \"\", \"title\": {\"standoff\": 15}, \"zerolinecolor\": \"white\", \"zerolinewidth\": 2}}}, \"title\": {\"text\": \"Controversia generada por la pel\\u00edcula\"}, \"xaxis\": {\"anchor\": \"y\", \"domain\": [0.0, 1.0], \"title\": {\"text\": \"Controversia generada\"}}, \"yaxis\": {\"anchor\": \"x\", \"domain\": [0.0, 1.0], \"title\": {\"text\": \"Pel\\u00edcula\"}}},\n",
              "                        {\"responsive\": true}\n",
              "                    ).then(function(){\n",
              "                            \n",
              "var gd = document.getElementById('f9302f08-7ea2-4833-9e9a-9122f90af47f');\n",
              "var x = new MutationObserver(function (mutations, observer) {{\n",
              "        var display = window.getComputedStyle(gd).display;\n",
              "        if (!display || display === 'none') {{\n",
              "            console.log([gd, 'removed!']);\n",
              "            Plotly.purge(gd);\n",
              "            observer.disconnect();\n",
              "        }}\n",
              "}});\n",
              "\n",
              "// Listen for the removal of the full notebook cells\n",
              "var notebookContainer = gd.closest('#notebook-container');\n",
              "if (notebookContainer) {{\n",
              "    x.observe(notebookContainer, {childList: true});\n",
              "}}\n",
              "\n",
              "// Listen for the clearing of the current output cell\n",
              "var outputEl = gd.closest('.output');\n",
              "if (outputEl) {{\n",
              "    x.observe(outputEl, {childList: true});\n",
              "}}\n",
              "\n",
              "                        })\n",
              "                };\n",
              "                \n",
              "            </script>\n",
              "        </div>\n",
              "</body>\n",
              "</html>"
            ]
          },
          "metadata": {
            "tags": []
          }
        }
      ]
    },
    {
      "cell_type": "markdown",
      "metadata": {
        "id": "VBsq-jqaNrXC"
      },
      "source": [
        "### Una visión desciptiva global"
      ]
    },
    {
      "cell_type": "code",
      "metadata": {
        "id": "Pk2bvj49NrXL",
        "outputId": "6822244e-1bad-4c2f-9fca-1550698444eb",
        "colab": {
          "base_uri": "https://localhost:8080/",
          "height": 390
        }
      },
      "source": [
        "df_stats = df_mcu.describe()\n",
        "df_stats"
      ],
      "execution_count": 168,
      "outputs": [
        {
          "output_type": "execute_result",
          "data": {
            "text/html": [
              "<div>\n",
              "<style scoped>\n",
              "    .dataframe tbody tr th:only-of-type {\n",
              "        vertical-align: middle;\n",
              "    }\n",
              "\n",
              "    .dataframe tbody tr th {\n",
              "        vertical-align: top;\n",
              "    }\n",
              "\n",
              "    .dataframe thead th {\n",
              "        text-align: right;\n",
              "    }\n",
              "</style>\n",
              "<table border=\"1\" class=\"dataframe\">\n",
              "  <thead>\n",
              "    <tr style=\"text-align: right;\">\n",
              "      <th></th>\n",
              "      <th>Iron Man</th>\n",
              "      <th>The Incredible Hulk</th>\n",
              "      <th>Iron Man 2</th>\n",
              "      <th>Thor</th>\n",
              "      <th>Capitán América: el primer vengador</th>\n",
              "      <th>The Avengers</th>\n",
              "      <th>Iron Man 3</th>\n",
              "      <th>Thor: The Dark World</th>\n",
              "      <th>Captain America: The Winter Soldier</th>\n",
              "      <th>Guardianes de la Galaxia</th>\n",
              "      <th>Avengers: Age of Ultron</th>\n",
              "      <th>Ant-Man</th>\n",
              "      <th>Captain America: Civil War</th>\n",
              "      <th>Doctor Strange</th>\n",
              "      <th>Guardianes de la Galaxia Vol. 2</th>\n",
              "      <th>Spider-Man: Homecoming</th>\n",
              "      <th>Thor: Ragnarok</th>\n",
              "      <th>Black Panther</th>\n",
              "      <th>Avengers: Infinity War</th>\n",
              "      <th>Ant-Man and The Wasp</th>\n",
              "    </tr>\n",
              "  </thead>\n",
              "  <tbody>\n",
              "    <tr>\n",
              "      <th>count</th>\n",
              "      <td>30.000000</td>\n",
              "      <td>30.000000</td>\n",
              "      <td>30.000000</td>\n",
              "      <td>30.000000</td>\n",
              "      <td>30.000000</td>\n",
              "      <td>30.000000</td>\n",
              "      <td>30.000000</td>\n",
              "      <td>30.000000</td>\n",
              "      <td>30.000000</td>\n",
              "      <td>30.000000</td>\n",
              "      <td>30.000000</td>\n",
              "      <td>30.000000</td>\n",
              "      <td>30.000000</td>\n",
              "      <td>30.000000</td>\n",
              "      <td>30.000000</td>\n",
              "      <td>30.000000</td>\n",
              "      <td>30.000000</td>\n",
              "      <td>30.000000</td>\n",
              "      <td>30.000000</td>\n",
              "      <td>30.000000</td>\n",
              "    </tr>\n",
              "    <tr>\n",
              "      <th>mean</th>\n",
              "      <td>13.555556</td>\n",
              "      <td>6.423077</td>\n",
              "      <td>9.689655</td>\n",
              "      <td>7.638803</td>\n",
              "      <td>10.678571</td>\n",
              "      <td>14.233333</td>\n",
              "      <td>8.664067</td>\n",
              "      <td>7.441880</td>\n",
              "      <td>13.107143</td>\n",
              "      <td>13.969601</td>\n",
              "      <td>11.571429</td>\n",
              "      <td>11.148148</td>\n",
              "      <td>14.666667</td>\n",
              "      <td>13.607143</td>\n",
              "      <td>9.962963</td>\n",
              "      <td>11.383215</td>\n",
              "      <td>11.392857</td>\n",
              "      <td>12.928571</td>\n",
              "      <td>17.133333</td>\n",
              "      <td>12.530085</td>\n",
              "    </tr>\n",
              "    <tr>\n",
              "      <th>std</th>\n",
              "      <td>4.497764</td>\n",
              "      <td>4.364220</td>\n",
              "      <td>4.792979</td>\n",
              "      <td>4.915047</td>\n",
              "      <td>4.339502</td>\n",
              "      <td>4.746566</td>\n",
              "      <td>5.099909</td>\n",
              "      <td>5.833757</td>\n",
              "      <td>5.261043</td>\n",
              "      <td>4.634875</td>\n",
              "      <td>4.957951</td>\n",
              "      <td>5.069882</td>\n",
              "      <td>5.206097</td>\n",
              "      <td>5.326183</td>\n",
              "      <td>5.678037</td>\n",
              "      <td>6.062831</td>\n",
              "      <td>5.261043</td>\n",
              "      <td>5.794936</td>\n",
              "      <td>4.658943</td>\n",
              "      <td>22.425919</td>\n",
              "    </tr>\n",
              "    <tr>\n",
              "      <th>min</th>\n",
              "      <td>1.000000</td>\n",
              "      <td>1.000000</td>\n",
              "      <td>1.000000</td>\n",
              "      <td>-0.507588</td>\n",
              "      <td>1.000000</td>\n",
              "      <td>1.000000</td>\n",
              "      <td>1.000000</td>\n",
              "      <td>-6.120354</td>\n",
              "      <td>1.000000</td>\n",
              "      <td>2.000000</td>\n",
              "      <td>1.000000</td>\n",
              "      <td>1.000000</td>\n",
              "      <td>1.000000</td>\n",
              "      <td>1.000000</td>\n",
              "      <td>1.000000</td>\n",
              "      <td>-0.578183</td>\n",
              "      <td>1.000000</td>\n",
              "      <td>1.000000</td>\n",
              "      <td>1.000000</td>\n",
              "      <td>-48.992629</td>\n",
              "    </tr>\n",
              "    <tr>\n",
              "      <th>25%</th>\n",
              "      <td>11.500000</td>\n",
              "      <td>2.000000</td>\n",
              "      <td>6.000000</td>\n",
              "      <td>3.250000</td>\n",
              "      <td>8.000000</td>\n",
              "      <td>12.250000</td>\n",
              "      <td>4.250000</td>\n",
              "      <td>3.000000</td>\n",
              "      <td>8.250000</td>\n",
              "      <td>11.250000</td>\n",
              "      <td>7.500000</td>\n",
              "      <td>8.000000</td>\n",
              "      <td>12.250000</td>\n",
              "      <td>11.500000</td>\n",
              "      <td>6.000000</td>\n",
              "      <td>7.500000</td>\n",
              "      <td>9.250000</td>\n",
              "      <td>8.750000</td>\n",
              "      <td>16.250000</td>\n",
              "      <td>8.250000</td>\n",
              "    </tr>\n",
              "    <tr>\n",
              "      <th>50%</th>\n",
              "      <td>15.000000</td>\n",
              "      <td>6.423077</td>\n",
              "      <td>9.844828</td>\n",
              "      <td>7.335837</td>\n",
              "      <td>10.839286</td>\n",
              "      <td>15.500000</td>\n",
              "      <td>9.000000</td>\n",
              "      <td>6.500000</td>\n",
              "      <td>14.000000</td>\n",
              "      <td>15.000000</td>\n",
              "      <td>12.000000</td>\n",
              "      <td>11.574074</td>\n",
              "      <td>16.000000</td>\n",
              "      <td>15.000000</td>\n",
              "      <td>9.481481</td>\n",
              "      <td>12.000000</td>\n",
              "      <td>11.696429</td>\n",
              "      <td>15.000000</td>\n",
              "      <td>18.500000</td>\n",
              "      <td>13.000000</td>\n",
              "    </tr>\n",
              "    <tr>\n",
              "      <th>75%</th>\n",
              "      <td>17.000000</td>\n",
              "      <td>10.000000</td>\n",
              "      <td>14.000000</td>\n",
              "      <td>10.750000</td>\n",
              "      <td>13.000000</td>\n",
              "      <td>17.000000</td>\n",
              "      <td>12.000000</td>\n",
              "      <td>12.000000</td>\n",
              "      <td>18.000000</td>\n",
              "      <td>17.000000</td>\n",
              "      <td>15.750000</td>\n",
              "      <td>14.000000</td>\n",
              "      <td>18.750000</td>\n",
              "      <td>17.000000</td>\n",
              "      <td>14.750000</td>\n",
              "      <td>15.750000</td>\n",
              "      <td>14.000000</td>\n",
              "      <td>17.000000</td>\n",
              "      <td>20.000000</td>\n",
              "      <td>18.000000</td>\n",
              "    </tr>\n",
              "    <tr>\n",
              "      <th>max</th>\n",
              "      <td>20.000000</td>\n",
              "      <td>13.000000</td>\n",
              "      <td>19.000000</td>\n",
              "      <td>19.000000</td>\n",
              "      <td>20.000000</td>\n",
              "      <td>20.000000</td>\n",
              "      <td>18.000000</td>\n",
              "      <td>19.000000</td>\n",
              "      <td>20.000000</td>\n",
              "      <td>20.000000</td>\n",
              "      <td>20.000000</td>\n",
              "      <td>19.000000</td>\n",
              "      <td>20.000000</td>\n",
              "      <td>20.000000</td>\n",
              "      <td>20.000000</td>\n",
              "      <td>21.115503</td>\n",
              "      <td>20.000000</td>\n",
              "      <td>20.000000</td>\n",
              "      <td>20.000000</td>\n",
              "      <td>66.878943</td>\n",
              "    </tr>\n",
              "  </tbody>\n",
              "</table>\n",
              "</div>"
            ],
            "text/plain": [
              "        Iron Man  ...  Ant-Man and The Wasp\n",
              "count  30.000000  ...             30.000000\n",
              "mean   13.555556  ...             12.530085\n",
              "std     4.497764  ...             22.425919\n",
              "min     1.000000  ...            -48.992629\n",
              "25%    11.500000  ...              8.250000\n",
              "50%    15.000000  ...             13.000000\n",
              "75%    17.000000  ...             18.000000\n",
              "max    20.000000  ...             66.878943\n",
              "\n",
              "[8 rows x 20 columns]"
            ]
          },
          "metadata": {
            "tags": []
          },
          "execution_count": 168
        }
      ]
    },
    {
      "cell_type": "markdown",
      "metadata": {
        "id": "h9b0Q34SNrXZ"
      },
      "source": [
        "### Rango intercuartílico"
      ]
    },
    {
      "cell_type": "code",
      "metadata": {
        "id": "tbobdWAnNrXa",
        "outputId": "6e3a4f7a-0ae7-42a3-a862-aa2781cb3a6a",
        "colab": {
          "base_uri": "https://localhost:8080/",
          "height": 542
        }
      },
      "source": [
        "import plotly.graph_objects as go\n",
        "\n",
        "fig = go.Figure()\n",
        "for index, column in df_mcu[['Iron Man']].iteritems():\n",
        "    fig.add_trace(go.Box(y=column, name=index))\n",
        "\n",
        "fig.show()"
      ],
      "execution_count": 169,
      "outputs": [
        {
          "output_type": "display_data",
          "data": {
            "text/html": [
              "<html>\n",
              "<head><meta charset=\"utf-8\" /></head>\n",
              "<body>\n",
              "    <div>\n",
              "            <script src=\"https://cdnjs.cloudflare.com/ajax/libs/mathjax/2.7.5/MathJax.js?config=TeX-AMS-MML_SVG\"></script><script type=\"text/javascript\">if (window.MathJax) {MathJax.Hub.Config({SVG: {font: \"STIX-Web\"}});}</script>\n",
              "                <script type=\"text/javascript\">window.PlotlyConfig = {MathJaxConfig: 'local'};</script>\n",
              "        <script src=\"https://cdn.plot.ly/plotly-latest.min.js\"></script>    \n",
              "            <div id=\"79f39b1d-97c2-482d-a84e-879668251321\" class=\"plotly-graph-div\" style=\"height:525px; width:100%;\"></div>\n",
              "            <script type=\"text/javascript\">\n",
              "                \n",
              "                    window.PLOTLYENV=window.PLOTLYENV || {};\n",
              "                    \n",
              "                if (document.getElementById(\"79f39b1d-97c2-482d-a84e-879668251321\")) {\n",
              "                    Plotly.newPlot(\n",
              "                        '79f39b1d-97c2-482d-a84e-879668251321',\n",
              "                        [{\"name\": \"Iron Man\", \"type\": \"box\", \"y\": [17.0, 8.0, 20.0, 18.0, 13.555555555555568, 13.0, 17.0, 10.0, 14.0, 16.0, 15.0, 1.0, 11.0, 15.0, 16.0, 15.0, 3.0, 13.555555555555484, 9.0, 18.0, 15.0, 18.0, 13.0, 18.0, 15.0, 17.0, 17.0, 13.555555555555555, 7.0, 10.0]}],\n",
              "                        {\"template\": {\"data\": {\"bar\": [{\"error_x\": {\"color\": \"#2a3f5f\"}, \"error_y\": {\"color\": \"#2a3f5f\"}, \"marker\": {\"line\": {\"color\": \"#E5ECF6\", \"width\": 0.5}}, \"type\": \"bar\"}], \"barpolar\": [{\"marker\": {\"line\": {\"color\": \"#E5ECF6\", \"width\": 0.5}}, \"type\": \"barpolar\"}], \"carpet\": [{\"aaxis\": {\"endlinecolor\": \"#2a3f5f\", \"gridcolor\": \"white\", \"linecolor\": \"white\", \"minorgridcolor\": \"white\", \"startlinecolor\": \"#2a3f5f\"}, \"baxis\": {\"endlinecolor\": \"#2a3f5f\", \"gridcolor\": \"white\", \"linecolor\": \"white\", \"minorgridcolor\": \"white\", \"startlinecolor\": \"#2a3f5f\"}, \"type\": \"carpet\"}], \"choropleth\": [{\"colorbar\": {\"outlinewidth\": 0, \"ticks\": \"\"}, \"type\": \"choropleth\"}], \"contour\": [{\"colorbar\": {\"outlinewidth\": 0, \"ticks\": \"\"}, \"colorscale\": [[0.0, \"#0d0887\"], [0.1111111111111111, \"#46039f\"], [0.2222222222222222, \"#7201a8\"], [0.3333333333333333, \"#9c179e\"], [0.4444444444444444, \"#bd3786\"], [0.5555555555555556, \"#d8576b\"], [0.6666666666666666, \"#ed7953\"], [0.7777777777777778, \"#fb9f3a\"], [0.8888888888888888, \"#fdca26\"], [1.0, \"#f0f921\"]], \"type\": \"contour\"}], \"contourcarpet\": [{\"colorbar\": {\"outlinewidth\": 0, \"ticks\": \"\"}, \"type\": \"contourcarpet\"}], \"heatmap\": [{\"colorbar\": {\"outlinewidth\": 0, \"ticks\": \"\"}, \"colorscale\": [[0.0, \"#0d0887\"], [0.1111111111111111, \"#46039f\"], [0.2222222222222222, \"#7201a8\"], [0.3333333333333333, \"#9c179e\"], [0.4444444444444444, \"#bd3786\"], [0.5555555555555556, \"#d8576b\"], [0.6666666666666666, \"#ed7953\"], [0.7777777777777778, \"#fb9f3a\"], [0.8888888888888888, \"#fdca26\"], [1.0, \"#f0f921\"]], \"type\": \"heatmap\"}], \"heatmapgl\": [{\"colorbar\": {\"outlinewidth\": 0, \"ticks\": \"\"}, \"colorscale\": [[0.0, \"#0d0887\"], [0.1111111111111111, \"#46039f\"], [0.2222222222222222, \"#7201a8\"], [0.3333333333333333, \"#9c179e\"], [0.4444444444444444, \"#bd3786\"], [0.5555555555555556, \"#d8576b\"], [0.6666666666666666, \"#ed7953\"], [0.7777777777777778, \"#fb9f3a\"], [0.8888888888888888, \"#fdca26\"], [1.0, \"#f0f921\"]], \"type\": \"heatmapgl\"}], \"histogram\": [{\"marker\": {\"colorbar\": {\"outlinewidth\": 0, \"ticks\": \"\"}}, \"type\": \"histogram\"}], \"histogram2d\": [{\"colorbar\": {\"outlinewidth\": 0, \"ticks\": \"\"}, \"colorscale\": [[0.0, \"#0d0887\"], [0.1111111111111111, \"#46039f\"], [0.2222222222222222, \"#7201a8\"], [0.3333333333333333, \"#9c179e\"], [0.4444444444444444, \"#bd3786\"], [0.5555555555555556, \"#d8576b\"], [0.6666666666666666, \"#ed7953\"], [0.7777777777777778, \"#fb9f3a\"], [0.8888888888888888, \"#fdca26\"], [1.0, \"#f0f921\"]], \"type\": \"histogram2d\"}], \"histogram2dcontour\": [{\"colorbar\": {\"outlinewidth\": 0, \"ticks\": \"\"}, \"colorscale\": [[0.0, \"#0d0887\"], [0.1111111111111111, \"#46039f\"], [0.2222222222222222, \"#7201a8\"], [0.3333333333333333, \"#9c179e\"], [0.4444444444444444, \"#bd3786\"], [0.5555555555555556, \"#d8576b\"], [0.6666666666666666, \"#ed7953\"], [0.7777777777777778, \"#fb9f3a\"], [0.8888888888888888, \"#fdca26\"], [1.0, \"#f0f921\"]], \"type\": \"histogram2dcontour\"}], \"mesh3d\": [{\"colorbar\": {\"outlinewidth\": 0, \"ticks\": \"\"}, \"type\": \"mesh3d\"}], \"parcoords\": [{\"line\": {\"colorbar\": {\"outlinewidth\": 0, \"ticks\": \"\"}}, \"type\": \"parcoords\"}], \"pie\": [{\"automargin\": true, \"type\": \"pie\"}], \"scatter\": [{\"marker\": {\"colorbar\": {\"outlinewidth\": 0, \"ticks\": \"\"}}, \"type\": \"scatter\"}], \"scatter3d\": [{\"line\": {\"colorbar\": {\"outlinewidth\": 0, \"ticks\": \"\"}}, \"marker\": {\"colorbar\": {\"outlinewidth\": 0, \"ticks\": \"\"}}, \"type\": \"scatter3d\"}], \"scattercarpet\": [{\"marker\": {\"colorbar\": {\"outlinewidth\": 0, \"ticks\": \"\"}}, \"type\": \"scattercarpet\"}], \"scattergeo\": [{\"marker\": {\"colorbar\": {\"outlinewidth\": 0, \"ticks\": \"\"}}, \"type\": \"scattergeo\"}], \"scattergl\": [{\"marker\": {\"colorbar\": {\"outlinewidth\": 0, \"ticks\": \"\"}}, \"type\": \"scattergl\"}], \"scattermapbox\": [{\"marker\": {\"colorbar\": {\"outlinewidth\": 0, \"ticks\": \"\"}}, \"type\": \"scattermapbox\"}], \"scatterpolar\": [{\"marker\": {\"colorbar\": {\"outlinewidth\": 0, \"ticks\": \"\"}}, \"type\": \"scatterpolar\"}], \"scatterpolargl\": [{\"marker\": {\"colorbar\": {\"outlinewidth\": 0, \"ticks\": \"\"}}, \"type\": \"scatterpolargl\"}], \"scatterternary\": [{\"marker\": {\"colorbar\": {\"outlinewidth\": 0, \"ticks\": \"\"}}, \"type\": \"scatterternary\"}], \"surface\": [{\"colorbar\": {\"outlinewidth\": 0, \"ticks\": \"\"}, \"colorscale\": [[0.0, \"#0d0887\"], [0.1111111111111111, \"#46039f\"], [0.2222222222222222, \"#7201a8\"], [0.3333333333333333, \"#9c179e\"], [0.4444444444444444, \"#bd3786\"], [0.5555555555555556, \"#d8576b\"], [0.6666666666666666, \"#ed7953\"], [0.7777777777777778, \"#fb9f3a\"], [0.8888888888888888, \"#fdca26\"], [1.0, \"#f0f921\"]], \"type\": \"surface\"}], \"table\": [{\"cells\": {\"fill\": {\"color\": \"#EBF0F8\"}, \"line\": {\"color\": \"white\"}}, \"header\": {\"fill\": {\"color\": \"#C8D4E3\"}, \"line\": {\"color\": \"white\"}}, \"type\": \"table\"}]}, \"layout\": {\"annotationdefaults\": {\"arrowcolor\": \"#2a3f5f\", \"arrowhead\": 0, \"arrowwidth\": 1}, \"coloraxis\": {\"colorbar\": {\"outlinewidth\": 0, \"ticks\": \"\"}}, \"colorscale\": {\"diverging\": [[0, \"#8e0152\"], [0.1, \"#c51b7d\"], [0.2, \"#de77ae\"], [0.3, \"#f1b6da\"], [0.4, \"#fde0ef\"], [0.5, \"#f7f7f7\"], [0.6, \"#e6f5d0\"], [0.7, \"#b8e186\"], [0.8, \"#7fbc41\"], [0.9, \"#4d9221\"], [1, \"#276419\"]], \"sequential\": [[0.0, \"#0d0887\"], [0.1111111111111111, \"#46039f\"], [0.2222222222222222, \"#7201a8\"], [0.3333333333333333, \"#9c179e\"], [0.4444444444444444, \"#bd3786\"], [0.5555555555555556, \"#d8576b\"], [0.6666666666666666, \"#ed7953\"], [0.7777777777777778, \"#fb9f3a\"], [0.8888888888888888, \"#fdca26\"], [1.0, \"#f0f921\"]], \"sequentialminus\": [[0.0, \"#0d0887\"], [0.1111111111111111, \"#46039f\"], [0.2222222222222222, \"#7201a8\"], [0.3333333333333333, \"#9c179e\"], [0.4444444444444444, \"#bd3786\"], [0.5555555555555556, \"#d8576b\"], [0.6666666666666666, \"#ed7953\"], [0.7777777777777778, \"#fb9f3a\"], [0.8888888888888888, \"#fdca26\"], [1.0, \"#f0f921\"]]}, \"colorway\": [\"#636efa\", \"#EF553B\", \"#00cc96\", \"#ab63fa\", \"#FFA15A\", \"#19d3f3\", \"#FF6692\", \"#B6E880\", \"#FF97FF\", \"#FECB52\"], \"font\": {\"color\": \"#2a3f5f\"}, \"geo\": {\"bgcolor\": \"white\", \"lakecolor\": \"white\", \"landcolor\": \"#E5ECF6\", \"showlakes\": true, \"showland\": true, \"subunitcolor\": \"white\"}, \"hoverlabel\": {\"align\": \"left\"}, \"hovermode\": \"closest\", \"mapbox\": {\"style\": \"light\"}, \"paper_bgcolor\": \"white\", \"plot_bgcolor\": \"#E5ECF6\", \"polar\": {\"angularaxis\": {\"gridcolor\": \"white\", \"linecolor\": \"white\", \"ticks\": \"\"}, \"bgcolor\": \"#E5ECF6\", \"radialaxis\": {\"gridcolor\": \"white\", \"linecolor\": \"white\", \"ticks\": \"\"}}, \"scene\": {\"xaxis\": {\"backgroundcolor\": \"#E5ECF6\", \"gridcolor\": \"white\", \"gridwidth\": 2, \"linecolor\": \"white\", \"showbackground\": true, \"ticks\": \"\", \"zerolinecolor\": \"white\"}, \"yaxis\": {\"backgroundcolor\": \"#E5ECF6\", \"gridcolor\": \"white\", \"gridwidth\": 2, \"linecolor\": \"white\", \"showbackground\": true, \"ticks\": \"\", \"zerolinecolor\": \"white\"}, \"zaxis\": {\"backgroundcolor\": \"#E5ECF6\", \"gridcolor\": \"white\", \"gridwidth\": 2, \"linecolor\": \"white\", \"showbackground\": true, \"ticks\": \"\", \"zerolinecolor\": \"white\"}}, \"shapedefaults\": {\"line\": {\"color\": \"#2a3f5f\"}}, \"ternary\": {\"aaxis\": {\"gridcolor\": \"white\", \"linecolor\": \"white\", \"ticks\": \"\"}, \"baxis\": {\"gridcolor\": \"white\", \"linecolor\": \"white\", \"ticks\": \"\"}, \"bgcolor\": \"#E5ECF6\", \"caxis\": {\"gridcolor\": \"white\", \"linecolor\": \"white\", \"ticks\": \"\"}}, \"title\": {\"x\": 0.05}, \"xaxis\": {\"automargin\": true, \"gridcolor\": \"white\", \"linecolor\": \"white\", \"ticks\": \"\", \"title\": {\"standoff\": 15}, \"zerolinecolor\": \"white\", \"zerolinewidth\": 2}, \"yaxis\": {\"automargin\": true, \"gridcolor\": \"white\", \"linecolor\": \"white\", \"ticks\": \"\", \"title\": {\"standoff\": 15}, \"zerolinecolor\": \"white\", \"zerolinewidth\": 2}}}},\n",
              "                        {\"responsive\": true}\n",
              "                    ).then(function(){\n",
              "                            \n",
              "var gd = document.getElementById('79f39b1d-97c2-482d-a84e-879668251321');\n",
              "var x = new MutationObserver(function (mutations, observer) {{\n",
              "        var display = window.getComputedStyle(gd).display;\n",
              "        if (!display || display === 'none') {{\n",
              "            console.log([gd, 'removed!']);\n",
              "            Plotly.purge(gd);\n",
              "            observer.disconnect();\n",
              "        }}\n",
              "}});\n",
              "\n",
              "// Listen for the removal of the full notebook cells\n",
              "var notebookContainer = gd.closest('#notebook-container');\n",
              "if (notebookContainer) {{\n",
              "    x.observe(notebookContainer, {childList: true});\n",
              "}}\n",
              "\n",
              "// Listen for the clearing of the current output cell\n",
              "var outputEl = gd.closest('.output');\n",
              "if (outputEl) {{\n",
              "    x.observe(outputEl, {childList: true});\n",
              "}}\n",
              "\n",
              "                        })\n",
              "                };\n",
              "                \n",
              "            </script>\n",
              "        </div>\n",
              "</body>\n",
              "</html>"
            ]
          },
          "metadata": {
            "tags": []
          }
        }
      ]
    },
    {
      "cell_type": "code",
      "metadata": {
        "id": "bcDLkDfuNrXj",
        "outputId": "393536e5-256b-4154-9eb1-3ff757451b70",
        "colab": {
          "base_uri": "https://localhost:8080/",
          "height": 382
        }
      },
      "source": [
        "# Versión 1\n",
        "df_stats = df_mcu.describe()\n",
        "ri = df_stats.loc['75%'] - df_stats.loc['25%']\n",
        "ri"
      ],
      "execution_count": 170,
      "outputs": [
        {
          "output_type": "execute_result",
          "data": {
            "text/plain": [
              "Iron Man                               5.50\n",
              "The Incredible Hulk                    8.00\n",
              "Iron Man 2                             8.00\n",
              "Thor                                   7.50\n",
              "Capitán América: el primer vengador    5.00\n",
              "The Avengers                           4.75\n",
              "Iron Man 3                             7.75\n",
              "Thor: The Dark World                   9.00\n",
              "Captain America: The Winter Soldier    9.75\n",
              "Guardianes de la Galaxia               5.75\n",
              "Avengers: Age of Ultron                8.25\n",
              "Ant-Man                                6.00\n",
              "Captain America: Civil War             6.50\n",
              "Doctor Strange                         5.50\n",
              "Guardianes de la Galaxia Vol. 2        8.75\n",
              "Spider-Man: Homecoming                 8.25\n",
              "Thor: Ragnarok                         4.75\n",
              "Black Panther                          8.25\n",
              "Avengers: Infinity War                 3.75\n",
              "Ant-Man and The Wasp                   9.75\n",
              "dtype: float64"
            ]
          },
          "metadata": {
            "tags": []
          },
          "execution_count": 170
        }
      ]
    },
    {
      "cell_type": "code",
      "metadata": {
        "id": "oGknmNAlP97s",
        "outputId": "31d36712-5835-4c9c-cfb5-64d2faa0bf31",
        "colab": {
          "base_uri": "https://localhost:8080/",
          "height": 382
        }
      },
      "source": [
        "# Versión 2\n",
        "ri = df_mcu.quantile(.75) - df_mcu.quantile(.25) \n",
        "ri"
      ],
      "execution_count": 178,
      "outputs": [
        {
          "output_type": "execute_result",
          "data": {
            "text/plain": [
              "Iron Man                               5.50\n",
              "The Incredible Hulk                    8.00\n",
              "Iron Man 2                             8.00\n",
              "Thor                                   7.50\n",
              "Capitán América: el primer vengador    5.00\n",
              "The Avengers                           4.75\n",
              "Iron Man 3                             7.75\n",
              "Thor: The Dark World                   9.00\n",
              "Captain America: The Winter Soldier    9.75\n",
              "Guardianes de la Galaxia               5.75\n",
              "Avengers: Age of Ultron                8.25\n",
              "Ant-Man                                6.00\n",
              "Captain America: Civil War             6.50\n",
              "Doctor Strange                         5.50\n",
              "Guardianes de la Galaxia Vol. 2        8.75\n",
              "Spider-Man: Homecoming                 8.25\n",
              "Thor: Ragnarok                         4.75\n",
              "Black Panther                          8.25\n",
              "Avengers: Infinity War                 3.75\n",
              "Ant-Man and The Wasp                   9.75\n",
              "dtype: float64"
            ]
          },
          "metadata": {
            "tags": []
          },
          "execution_count": 178
        }
      ]
    },
    {
      "cell_type": "markdown",
      "metadata": {
        "id": "NcuUksk_NrXw"
      },
      "source": [
        "## Estadísticos de asociación"
      ]
    },
    {
      "cell_type": "markdown",
      "metadata": {
        "id": "wZPXXt1xNrXy"
      },
      "source": [
        "### Matriz de varianzas y covarianzas, matriz de correlaciones"
      ]
    },
    {
      "cell_type": "code",
      "metadata": {
        "id": "Z_P_-HQYNrX0",
        "outputId": "3bfc7c68-4951-40f3-d289-06eb048bb0c4",
        "colab": {
          "base_uri": "https://localhost:8080/",
          "height": 1000
        }
      },
      "source": [
        "cov = df_mcu.cov()\n",
        "cov"
      ],
      "execution_count": 171,
      "outputs": [
        {
          "output_type": "execute_result",
          "data": {
            "text/html": [
              "<div>\n",
              "<style scoped>\n",
              "    .dataframe tbody tr th:only-of-type {\n",
              "        vertical-align: middle;\n",
              "    }\n",
              "\n",
              "    .dataframe tbody tr th {\n",
              "        vertical-align: top;\n",
              "    }\n",
              "\n",
              "    .dataframe thead th {\n",
              "        text-align: right;\n",
              "    }\n",
              "</style>\n",
              "<table border=\"1\" class=\"dataframe\">\n",
              "  <thead>\n",
              "    <tr style=\"text-align: right;\">\n",
              "      <th></th>\n",
              "      <th>Iron Man</th>\n",
              "      <th>The Incredible Hulk</th>\n",
              "      <th>Iron Man 2</th>\n",
              "      <th>Thor</th>\n",
              "      <th>Capitán América: el primer vengador</th>\n",
              "      <th>The Avengers</th>\n",
              "      <th>Iron Man 3</th>\n",
              "      <th>Thor: The Dark World</th>\n",
              "      <th>Captain America: The Winter Soldier</th>\n",
              "      <th>Guardianes de la Galaxia</th>\n",
              "      <th>Avengers: Age of Ultron</th>\n",
              "      <th>Ant-Man</th>\n",
              "      <th>Captain America: Civil War</th>\n",
              "      <th>Doctor Strange</th>\n",
              "      <th>Guardianes de la Galaxia Vol. 2</th>\n",
              "      <th>Spider-Man: Homecoming</th>\n",
              "      <th>Thor: Ragnarok</th>\n",
              "      <th>Black Panther</th>\n",
              "      <th>Avengers: Infinity War</th>\n",
              "      <th>Ant-Man and The Wasp</th>\n",
              "    </tr>\n",
              "  </thead>\n",
              "  <tbody>\n",
              "    <tr>\n",
              "      <th>Iron Man</th>\n",
              "      <td>20.229885</td>\n",
              "      <td>9.747569</td>\n",
              "      <td>11.908046</td>\n",
              "      <td>8.604640</td>\n",
              "      <td>6.268336</td>\n",
              "      <td>11.877395</td>\n",
              "      <td>11.736436</td>\n",
              "      <td>6.149034</td>\n",
              "      <td>6.752463</td>\n",
              "      <td>11.023541</td>\n",
              "      <td>7.128626</td>\n",
              "      <td>7.886760</td>\n",
              "      <td>9.021711</td>\n",
              "      <td>7.904899</td>\n",
              "      <td>7.241521</td>\n",
              "      <td>6.346810</td>\n",
              "      <td>3.776683</td>\n",
              "      <td>5.562945</td>\n",
              "      <td>10.241379</td>\n",
              "      <td>-25.077431</td>\n",
              "    </tr>\n",
              "    <tr>\n",
              "      <th>The Incredible Hulk</th>\n",
              "      <td>9.747569</td>\n",
              "      <td>19.046419</td>\n",
              "      <td>9.665371</td>\n",
              "      <td>16.374440</td>\n",
              "      <td>5.189608</td>\n",
              "      <td>14.190981</td>\n",
              "      <td>5.014091</td>\n",
              "      <td>12.217346</td>\n",
              "      <td>1.617563</td>\n",
              "      <td>11.704490</td>\n",
              "      <td>14.489579</td>\n",
              "      <td>9.421161</td>\n",
              "      <td>9.171972</td>\n",
              "      <td>3.619269</td>\n",
              "      <td>7.985559</td>\n",
              "      <td>4.654223</td>\n",
              "      <td>2.220633</td>\n",
              "      <td>1.488537</td>\n",
              "      <td>9.590186</td>\n",
              "      <td>8.492672</td>\n",
              "    </tr>\n",
              "    <tr>\n",
              "      <th>Iron Man 2</th>\n",
              "      <td>11.908046</td>\n",
              "      <td>9.665371</td>\n",
              "      <td>22.972652</td>\n",
              "      <td>13.061013</td>\n",
              "      <td>3.661330</td>\n",
              "      <td>7.985731</td>\n",
              "      <td>13.237261</td>\n",
              "      <td>13.485160</td>\n",
              "      <td>-4.810345</td>\n",
              "      <td>8.664155</td>\n",
              "      <td>7.092577</td>\n",
              "      <td>0.429163</td>\n",
              "      <td>3.827586</td>\n",
              "      <td>4.907763</td>\n",
              "      <td>6.748844</td>\n",
              "      <td>4.203184</td>\n",
              "      <td>4.726601</td>\n",
              "      <td>-3.021828</td>\n",
              "      <td>7.354340</td>\n",
              "      <td>10.742030</td>\n",
              "    </tr>\n",
              "    <tr>\n",
              "      <th>Thor</th>\n",
              "      <td>8.604640</td>\n",
              "      <td>16.374440</td>\n",
              "      <td>13.061013</td>\n",
              "      <td>24.157688</td>\n",
              "      <td>6.575655</td>\n",
              "      <td>10.522068</td>\n",
              "      <td>7.805431</td>\n",
              "      <td>17.104318</td>\n",
              "      <td>1.659434</td>\n",
              "      <td>13.014107</td>\n",
              "      <td>9.880866</td>\n",
              "      <td>4.328968</td>\n",
              "      <td>9.177027</td>\n",
              "      <td>4.677247</td>\n",
              "      <td>15.307608</td>\n",
              "      <td>7.037154</td>\n",
              "      <td>8.977766</td>\n",
              "      <td>3.846563</td>\n",
              "      <td>7.385871</td>\n",
              "      <td>35.493705</td>\n",
              "    </tr>\n",
              "    <tr>\n",
              "      <th>Capitán América: el primer vengador</th>\n",
              "      <td>6.268336</td>\n",
              "      <td>5.189608</td>\n",
              "      <td>3.661330</td>\n",
              "      <td>6.575655</td>\n",
              "      <td>18.831281</td>\n",
              "      <td>9.568966</td>\n",
              "      <td>7.985116</td>\n",
              "      <td>4.504297</td>\n",
              "      <td>10.236409</td>\n",
              "      <td>3.372809</td>\n",
              "      <td>7.613476</td>\n",
              "      <td>3.965608</td>\n",
              "      <td>8.882184</td>\n",
              "      <td>4.322572</td>\n",
              "      <td>4.296798</td>\n",
              "      <td>10.907347</td>\n",
              "      <td>4.792532</td>\n",
              "      <td>6.757829</td>\n",
              "      <td>8.051724</td>\n",
              "      <td>10.267547</td>\n",
              "    </tr>\n",
              "    <tr>\n",
              "      <th>The Avengers</th>\n",
              "      <td>11.877395</td>\n",
              "      <td>14.190981</td>\n",
              "      <td>7.985731</td>\n",
              "      <td>10.522068</td>\n",
              "      <td>9.568966</td>\n",
              "      <td>22.529885</td>\n",
              "      <td>2.744760</td>\n",
              "      <td>13.516698</td>\n",
              "      <td>4.320197</td>\n",
              "      <td>13.185822</td>\n",
              "      <td>16.738916</td>\n",
              "      <td>14.177522</td>\n",
              "      <td>13.264368</td>\n",
              "      <td>9.833744</td>\n",
              "      <td>5.344828</td>\n",
              "      <td>10.507983</td>\n",
              "      <td>0.645320</td>\n",
              "      <td>7.933498</td>\n",
              "      <td>17.726437</td>\n",
              "      <td>-5.573128</td>\n",
              "    </tr>\n",
              "    <tr>\n",
              "      <th>Iron Man 3</th>\n",
              "      <td>11.736436</td>\n",
              "      <td>5.014091</td>\n",
              "      <td>13.237261</td>\n",
              "      <td>7.805431</td>\n",
              "      <td>7.985116</td>\n",
              "      <td>2.744760</td>\n",
              "      <td>26.009076</td>\n",
              "      <td>6.040338</td>\n",
              "      <td>2.680223</td>\n",
              "      <td>0.699084</td>\n",
              "      <td>1.887505</td>\n",
              "      <td>0.727796</td>\n",
              "      <td>5.390398</td>\n",
              "      <td>-2.199972</td>\n",
              "      <td>6.519658</td>\n",
              "      <td>1.330075</td>\n",
              "      <td>-0.069211</td>\n",
              "      <td>-5.066201</td>\n",
              "      <td>0.703696</td>\n",
              "      <td>8.704537</td>\n",
              "    </tr>\n",
              "    <tr>\n",
              "      <th>Thor: The Dark World</th>\n",
              "      <td>6.149034</td>\n",
              "      <td>12.217346</td>\n",
              "      <td>13.485160</td>\n",
              "      <td>17.104318</td>\n",
              "      <td>4.504297</td>\n",
              "      <td>13.516698</td>\n",
              "      <td>6.040338</td>\n",
              "      <td>34.032721</td>\n",
              "      <td>-1.625616</td>\n",
              "      <td>13.281648</td>\n",
              "      <td>15.841099</td>\n",
              "      <td>7.422704</td>\n",
              "      <td>0.922374</td>\n",
              "      <td>11.245856</td>\n",
              "      <td>16.279217</td>\n",
              "      <td>15.245463</td>\n",
              "      <td>4.570696</td>\n",
              "      <td>6.177601</td>\n",
              "      <td>10.704149</td>\n",
              "      <td>0.869419</td>\n",
              "    </tr>\n",
              "    <tr>\n",
              "      <th>Captain America: The Winter Soldier</th>\n",
              "      <td>6.752463</td>\n",
              "      <td>1.617563</td>\n",
              "      <td>-4.810345</td>\n",
              "      <td>1.659434</td>\n",
              "      <td>10.236409</td>\n",
              "      <td>4.320197</td>\n",
              "      <td>2.680223</td>\n",
              "      <td>-1.625616</td>\n",
              "      <td>27.678571</td>\n",
              "      <td>5.070197</td>\n",
              "      <td>6.611541</td>\n",
              "      <td>7.118318</td>\n",
              "      <td>12.767652</td>\n",
              "      <td>6.942338</td>\n",
              "      <td>8.605182</td>\n",
              "      <td>3.809490</td>\n",
              "      <td>5.031800</td>\n",
              "      <td>15.091661</td>\n",
              "      <td>10.899015</td>\n",
              "      <td>-0.629920</td>\n",
              "    </tr>\n",
              "    <tr>\n",
              "      <th>Guardianes de la Galaxia</th>\n",
              "      <td>11.023541</td>\n",
              "      <td>11.704490</td>\n",
              "      <td>8.664155</td>\n",
              "      <td>13.014107</td>\n",
              "      <td>3.372809</td>\n",
              "      <td>13.185822</td>\n",
              "      <td>0.699084</td>\n",
              "      <td>13.281648</td>\n",
              "      <td>5.070197</td>\n",
              "      <td>21.482070</td>\n",
              "      <td>10.121815</td>\n",
              "      <td>10.149425</td>\n",
              "      <td>8.377287</td>\n",
              "      <td>8.483990</td>\n",
              "      <td>11.335888</td>\n",
              "      <td>8.857436</td>\n",
              "      <td>9.209971</td>\n",
              "      <td>11.391842</td>\n",
              "      <td>15.139089</td>\n",
              "      <td>16.674075</td>\n",
              "    </tr>\n",
              "    <tr>\n",
              "      <th>Avengers: Age of Ultron</th>\n",
              "      <td>7.128626</td>\n",
              "      <td>14.489579</td>\n",
              "      <td>7.092577</td>\n",
              "      <td>9.880866</td>\n",
              "      <td>7.613476</td>\n",
              "      <td>16.738916</td>\n",
              "      <td>1.887505</td>\n",
              "      <td>15.841099</td>\n",
              "      <td>6.611541</td>\n",
              "      <td>10.121815</td>\n",
              "      <td>24.581281</td>\n",
              "      <td>11.874840</td>\n",
              "      <td>13.686371</td>\n",
              "      <td>7.501583</td>\n",
              "      <td>4.377303</td>\n",
              "      <td>6.366664</td>\n",
              "      <td>-3.050844</td>\n",
              "      <td>3.418719</td>\n",
              "      <td>14.497537</td>\n",
              "      <td>15.980323</td>\n",
              "    </tr>\n",
              "    <tr>\n",
              "      <th>Ant-Man</th>\n",
              "      <td>7.886760</td>\n",
              "      <td>9.421161</td>\n",
              "      <td>0.429163</td>\n",
              "      <td>4.328968</td>\n",
              "      <td>3.965608</td>\n",
              "      <td>14.177522</td>\n",
              "      <td>0.727796</td>\n",
              "      <td>7.422704</td>\n",
              "      <td>7.118318</td>\n",
              "      <td>10.149425</td>\n",
              "      <td>11.874840</td>\n",
              "      <td>25.703704</td>\n",
              "      <td>11.301405</td>\n",
              "      <td>9.263091</td>\n",
              "      <td>9.522728</td>\n",
              "      <td>11.416934</td>\n",
              "      <td>2.816548</td>\n",
              "      <td>6.527458</td>\n",
              "      <td>12.162197</td>\n",
              "      <td>-24.889543</td>\n",
              "    </tr>\n",
              "    <tr>\n",
              "      <th>Captain America: Civil War</th>\n",
              "      <td>9.021711</td>\n",
              "      <td>9.171972</td>\n",
              "      <td>3.827586</td>\n",
              "      <td>9.177027</td>\n",
              "      <td>8.882184</td>\n",
              "      <td>13.264368</td>\n",
              "      <td>5.390398</td>\n",
              "      <td>0.922374</td>\n",
              "      <td>12.767652</td>\n",
              "      <td>8.377287</td>\n",
              "      <td>13.686371</td>\n",
              "      <td>11.301405</td>\n",
              "      <td>27.103448</td>\n",
              "      <td>9.619048</td>\n",
              "      <td>8.939123</td>\n",
              "      <td>2.905022</td>\n",
              "      <td>4.045156</td>\n",
              "      <td>7.836617</td>\n",
              "      <td>12.413793</td>\n",
              "      <td>39.166173</td>\n",
              "    </tr>\n",
              "    <tr>\n",
              "      <th>Doctor Strange</th>\n",
              "      <td>7.904899</td>\n",
              "      <td>3.619269</td>\n",
              "      <td>4.907763</td>\n",
              "      <td>4.677247</td>\n",
              "      <td>4.322572</td>\n",
              "      <td>9.833744</td>\n",
              "      <td>-2.199972</td>\n",
              "      <td>11.245856</td>\n",
              "      <td>6.942338</td>\n",
              "      <td>8.483990</td>\n",
              "      <td>7.501583</td>\n",
              "      <td>9.263091</td>\n",
              "      <td>9.619048</td>\n",
              "      <td>28.368227</td>\n",
              "      <td>15.346059</td>\n",
              "      <td>15.318130</td>\n",
              "      <td>10.653105</td>\n",
              "      <td>15.247801</td>\n",
              "      <td>11.929803</td>\n",
              "      <td>-11.853246</td>\n",
              "    </tr>\n",
              "    <tr>\n",
              "      <th>Guardianes de la Galaxia Vol. 2</th>\n",
              "      <td>7.241521</td>\n",
              "      <td>7.985559</td>\n",
              "      <td>6.748844</td>\n",
              "      <td>15.307608</td>\n",
              "      <td>4.296798</td>\n",
              "      <td>5.344828</td>\n",
              "      <td>6.519658</td>\n",
              "      <td>16.279217</td>\n",
              "      <td>8.605182</td>\n",
              "      <td>11.335888</td>\n",
              "      <td>4.377303</td>\n",
              "      <td>9.522728</td>\n",
              "      <td>8.939123</td>\n",
              "      <td>15.346059</td>\n",
              "      <td>32.240102</td>\n",
              "      <td>19.444371</td>\n",
              "      <td>16.514915</td>\n",
              "      <td>15.344280</td>\n",
              "      <td>7.554278</td>\n",
              "      <td>-3.652384</td>\n",
              "    </tr>\n",
              "    <tr>\n",
              "      <th>Spider-Man: Homecoming</th>\n",
              "      <td>6.346810</td>\n",
              "      <td>4.654223</td>\n",
              "      <td>4.203184</td>\n",
              "      <td>7.037154</td>\n",
              "      <td>10.907347</td>\n",
              "      <td>10.507983</td>\n",
              "      <td>1.330075</td>\n",
              "      <td>15.245463</td>\n",
              "      <td>3.809490</td>\n",
              "      <td>8.857436</td>\n",
              "      <td>6.366664</td>\n",
              "      <td>11.416934</td>\n",
              "      <td>2.905022</td>\n",
              "      <td>15.318130</td>\n",
              "      <td>19.444371</td>\n",
              "      <td>36.757917</td>\n",
              "      <td>7.733489</td>\n",
              "      <td>7.745758</td>\n",
              "      <td>10.416273</td>\n",
              "      <td>7.265736</td>\n",
              "    </tr>\n",
              "    <tr>\n",
              "      <th>Thor: Ragnarok</th>\n",
              "      <td>3.776683</td>\n",
              "      <td>2.220633</td>\n",
              "      <td>4.726601</td>\n",
              "      <td>8.977766</td>\n",
              "      <td>4.792532</td>\n",
              "      <td>0.645320</td>\n",
              "      <td>-0.069211</td>\n",
              "      <td>4.570696</td>\n",
              "      <td>5.031800</td>\n",
              "      <td>9.209971</td>\n",
              "      <td>-3.050844</td>\n",
              "      <td>2.816548</td>\n",
              "      <td>4.045156</td>\n",
              "      <td>10.653105</td>\n",
              "      <td>16.514915</td>\n",
              "      <td>7.733489</td>\n",
              "      <td>27.678571</td>\n",
              "      <td>16.338406</td>\n",
              "      <td>5.597291</td>\n",
              "      <td>-9.834743</td>\n",
              "    </tr>\n",
              "    <tr>\n",
              "      <th>Black Panther</th>\n",
              "      <td>5.562945</td>\n",
              "      <td>1.488537</td>\n",
              "      <td>-3.021828</td>\n",
              "      <td>3.846563</td>\n",
              "      <td>6.757829</td>\n",
              "      <td>7.933498</td>\n",
              "      <td>-5.066201</td>\n",
              "      <td>6.177601</td>\n",
              "      <td>15.091661</td>\n",
              "      <td>11.391842</td>\n",
              "      <td>3.418719</td>\n",
              "      <td>6.527458</td>\n",
              "      <td>7.836617</td>\n",
              "      <td>15.247801</td>\n",
              "      <td>15.344280</td>\n",
              "      <td>7.745758</td>\n",
              "      <td>16.338406</td>\n",
              "      <td>33.581281</td>\n",
              "      <td>11.830049</td>\n",
              "      <td>-34.844657</td>\n",
              "    </tr>\n",
              "    <tr>\n",
              "      <th>Avengers: Infinity War</th>\n",
              "      <td>10.241379</td>\n",
              "      <td>9.590186</td>\n",
              "      <td>7.354340</td>\n",
              "      <td>7.385871</td>\n",
              "      <td>8.051724</td>\n",
              "      <td>17.726437</td>\n",
              "      <td>0.703696</td>\n",
              "      <td>10.704149</td>\n",
              "      <td>10.899015</td>\n",
              "      <td>15.139089</td>\n",
              "      <td>14.497537</td>\n",
              "      <td>12.162197</td>\n",
              "      <td>12.413793</td>\n",
              "      <td>11.929803</td>\n",
              "      <td>7.554278</td>\n",
              "      <td>10.416273</td>\n",
              "      <td>5.597291</td>\n",
              "      <td>11.830049</td>\n",
              "      <td>21.705747</td>\n",
              "      <td>-2.244579</td>\n",
              "    </tr>\n",
              "    <tr>\n",
              "      <th>Ant-Man and The Wasp</th>\n",
              "      <td>-25.077431</td>\n",
              "      <td>8.492672</td>\n",
              "      <td>10.742030</td>\n",
              "      <td>35.493705</td>\n",
              "      <td>10.267547</td>\n",
              "      <td>-5.573128</td>\n",
              "      <td>8.704537</td>\n",
              "      <td>0.869419</td>\n",
              "      <td>-0.629920</td>\n",
              "      <td>16.674075</td>\n",
              "      <td>15.980323</td>\n",
              "      <td>-24.889543</td>\n",
              "      <td>39.166173</td>\n",
              "      <td>-11.853246</td>\n",
              "      <td>-3.652384</td>\n",
              "      <td>7.265736</td>\n",
              "      <td>-9.834743</td>\n",
              "      <td>-34.844657</td>\n",
              "      <td>-2.244579</td>\n",
              "      <td>502.921823</td>\n",
              "    </tr>\n",
              "  </tbody>\n",
              "</table>\n",
              "</div>"
            ],
            "text/plain": [
              "                                      Iron Man  ...  Ant-Man and The Wasp\n",
              "Iron Man                             20.229885  ...            -25.077431\n",
              "The Incredible Hulk                   9.747569  ...              8.492672\n",
              "Iron Man 2                           11.908046  ...             10.742030\n",
              "Thor                                  8.604640  ...             35.493705\n",
              "Capitán América: el primer vengador   6.268336  ...             10.267547\n",
              "The Avengers                         11.877395  ...             -5.573128\n",
              "Iron Man 3                           11.736436  ...              8.704537\n",
              "Thor: The Dark World                  6.149034  ...              0.869419\n",
              "Captain America: The Winter Soldier   6.752463  ...             -0.629920\n",
              "Guardianes de la Galaxia             11.023541  ...             16.674075\n",
              "Avengers: Age of Ultron               7.128626  ...             15.980323\n",
              "Ant-Man                               7.886760  ...            -24.889543\n",
              "Captain America: Civil War            9.021711  ...             39.166173\n",
              "Doctor Strange                        7.904899  ...            -11.853246\n",
              "Guardianes de la Galaxia Vol. 2       7.241521  ...             -3.652384\n",
              "Spider-Man: Homecoming                6.346810  ...              7.265736\n",
              "Thor: Ragnarok                        3.776683  ...             -9.834743\n",
              "Black Panther                         5.562945  ...            -34.844657\n",
              "Avengers: Infinity War               10.241379  ...             -2.244579\n",
              "Ant-Man and The Wasp                -25.077431  ...            502.921823\n",
              "\n",
              "[20 rows x 20 columns]"
            ]
          },
          "metadata": {
            "tags": []
          },
          "execution_count": 171
        }
      ]
    },
    {
      "cell_type": "code",
      "metadata": {
        "id": "lswTvyEzQReu",
        "outputId": "3a6a97f5-1c6d-4d5c-de0a-227f51dd2512",
        "colab": {
          "base_uri": "https://localhost:8080/",
          "height": 542
        }
      },
      "source": [
        "corr = df_mcu.corr() # Tipos de correlaciones\n",
        "\n",
        "import plotly.graph_objects as go\n",
        "\n",
        "fig = go.Figure(data=go.Heatmap(z=corr.values,\n",
        "                        x=corr.columns.values,\n",
        "                        y=corr.columns.values))\n",
        "fig.show()"
      ],
      "execution_count": 179,
      "outputs": [
        {
          "output_type": "display_data",
          "data": {
            "text/html": [
              "<html>\n",
              "<head><meta charset=\"utf-8\" /></head>\n",
              "<body>\n",
              "    <div>\n",
              "            <script src=\"https://cdnjs.cloudflare.com/ajax/libs/mathjax/2.7.5/MathJax.js?config=TeX-AMS-MML_SVG\"></script><script type=\"text/javascript\">if (window.MathJax) {MathJax.Hub.Config({SVG: {font: \"STIX-Web\"}});}</script>\n",
              "                <script type=\"text/javascript\">window.PlotlyConfig = {MathJaxConfig: 'local'};</script>\n",
              "        <script src=\"https://cdn.plot.ly/plotly-latest.min.js\"></script>    \n",
              "            <div id=\"95b2e667-8eac-49f1-96fc-21468b1209a9\" class=\"plotly-graph-div\" style=\"height:525px; width:100%;\"></div>\n",
              "            <script type=\"text/javascript\">\n",
              "                \n",
              "                    window.PLOTLYENV=window.PLOTLYENV || {};\n",
              "                    \n",
              "                if (document.getElementById(\"95b2e667-8eac-49f1-96fc-21468b1209a9\")) {\n",
              "                    Plotly.newPlot(\n",
              "                        '95b2e667-8eac-49f1-96fc-21468b1209a9',\n",
              "                        [{\"type\": \"heatmap\", \"x\": [\"Iron Man\", \"The Incredible Hulk\", \"Iron Man 2\", \"Thor\", \"Capit\\u00e1n Am\\u00e9rica: el primer vengador\", \"The Avengers\", \"Iron Man 3\", \"Thor: The Dark World\", \"Captain America: The Winter Soldier\", \"Guardianes de la Galaxia\", \"Avengers: Age of Ultron\", \"Ant-Man\", \"Captain America: Civil War\", \"Doctor Strange\", \"Guardianes de la Galaxia Vol. 2\", \"Spider-Man: Homecoming\", \"Thor: Ragnarok\", \"Black Panther\", \"Avengers: Infinity War\", \"Ant-Man and The Wasp\"], \"y\": [\"Iron Man\", \"The Incredible Hulk\", \"Iron Man 2\", \"Thor\", \"Capit\\u00e1n Am\\u00e9rica: el primer vengador\", \"The Avengers\", \"Iron Man 3\", \"Thor: The Dark World\", \"Captain America: The Winter Soldier\", \"Guardianes de la Galaxia\", \"Avengers: Age of Ultron\", \"Ant-Man\", \"Captain America: Civil War\", \"Doctor Strange\", \"Guardianes de la Galaxia Vol. 2\", \"Spider-Man: Homecoming\", \"Thor: Ragnarok\", \"Black Panther\", \"Avengers: Infinity War\", \"Ant-Man and The Wasp\"], \"z\": [[1.0, 0.49658422718642875, 0.5523803642007029, 0.389231811880443, 0.32115570078938777, 0.5563460268416881, 0.5116548095501767, 0.23434830779851437, 0.28536037921401264, 0.5287938010170672, 0.3196736786608112, 0.34586298246718267, 0.3852830886806066, 0.3299768784801749, 0.28355342341381673, 0.23274659866168854, 0.15960334906489534, 0.2134319383156853, 0.4887360497106849, -0.2486200235283526], [0.49658422718642875, 1.0, 0.46206842542461307, 0.7633647308845112, 0.2740235828850321, 0.6850563173960937, 0.2252802535273741, 0.47986807251342034, 0.07045029679504827, 0.5786390915497253, 0.6696484325586486, 0.4257943694239014, 0.40368607060920847, 0.1557033872856944, 0.32225556272616757, 0.17589969335044456, 0.09671598285048144, 0.05885785527231462, 0.47166426952352103, 0.08677356949247801], [0.5523803642007029, 0.46206842542461307, 1.0, 0.5544260327898392, 0.176032715009197, 0.35101820456255517, 0.5415394804070929, 0.4822832869645379, -0.19076505012141556, 0.3900161600349467, 0.2984669407007839, 0.017661137316296205, 0.1533935659647114, 0.19224803679876096, 0.24798511843828802, 0.14464299268016595, 0.18744399958161315, -0.10879664793041757, 0.32934477320543815, 0.09993797313114186], [0.389231811880443, 0.7633647308845112, 0.5544260327898392, 1.0, 0.3082984862311859, 0.45101804549576274, 0.3113915027186178, 0.5965264856090674, 0.06417419994279483, 0.5712794964779017, 0.40547590427210867, 0.1737236014849844, 0.35864274701524396, 0.1786679164537389, 0.5485060599658423, 0.23615323880809708, 0.3471912447726765, 0.13505062048336192, 0.32254228804205565, 0.32201300613043954], [0.32115570078938777, 0.2740235828850321, 0.176032715009197, 0.3082984862311859, 1.0, 0.46456402094995236, 0.3608102285211105, 0.17792571435038554, 0.4483693056788883, 0.1676925565930451, 0.353867618988449, 0.18024866230222808, 0.39315839866130275, 0.18701921339894592, 0.1743840685469407, 0.41457563101546824, 0.20991971407264573, 0.26873153956420454, 0.3982553218034876, 0.10550585225969111], [0.5563460268416881, 0.6850563173960937, 0.35101820456255517, 0.45101804549576274, 0.46456402094995236, 1.0, 0.11338676685766028, 0.4881381819738805, 0.1730024413737357, 0.599362614100097, 0.7112881848663518, 0.5891460895740808, 0.5367781066174623, 0.38897645100628275, 0.19831520239836053, 0.3651442247258039, 0.02584186980604444, 0.28842743991260084, 0.8015942413653361, -0.05235634077559911], [0.5116548095501767, 0.2252802535273741, 0.5415394804070929, 0.3113915027186178, 0.3608102285211105, 0.11338676685766028, 1.0, 0.20302542747642952, 0.09989335067407377, 0.029575283024662963, 0.074648903782626, 0.028148098238072534, 0.2030234023757936, -0.08099134150690912, 0.22514594068207486, 0.04301682471258779, -0.002579517928050152, -0.1714238881696952, 0.029616605420652534, 0.07610846552464674], [0.23434830779851437, 0.47986807251342034, 0.4822832869645379, 0.5965264856090674, 0.17792571435038554, 0.4881381819738805, 0.20302542747642952, 1.0, -0.052966067199415906, 0.49120814637209853, 0.5476898677472132, 0.2509666024962451, 0.030370099134238392, 0.36193293162124235, 0.4914586189132927, 0.431039263166525, 0.1489231177218972, 0.18273547985929223, 0.39383694034375555, 0.006645541391046986], [0.28536037921401264, 0.07045029679504827, -0.19076505012141556, 0.06417419994279483, 0.4483693056788883, 0.1730024413737357, 0.09989335067407377, -0.052966067199415906, 1.0, 0.2079289406057398, 0.2534711977648641, 0.26687487327852083, 0.46615132544370086, 0.2477523792656637, 0.28806466957782434, 0.11943168556708628, 0.1817940568886333, 0.49501296282327156, 0.444659972001209, -0.005339037795950013], [0.5287938010170672, 0.5786390915497253, 0.3900161600349467, 0.5712794964779017, 0.1676925565930451, 0.599362614100097, 0.029575283024662963, 0.49120814637209853, 0.2079289406057398, 1.0, 0.4404717865140623, 0.43192220988015073, 0.3471786878594158, 0.34367346414716626, 0.43074402851390065, 0.3152060391716773, 0.37770119257312323, 0.42413809258362606, 0.7010908695539756, 0.1604181332740522], [0.3196736786608112, 0.6696484325586486, 0.2984669407007839, 0.40547590427210867, 0.353867618988449, 0.7112881848663518, 0.074648903782626, 0.5476898677472132, 0.2534711977648641, 0.4404717865140623, 1.0, 0.47241934461652374, 0.5302415833762537, 0.28407603258954206, 0.15549133493194178, 0.2118040465892595, -0.11696232145934801, 0.11899057156599491, 0.6276313101472927, 0.1437252486399403], [0.34586298246718267, 0.4257943694239014, 0.017661137316296205, 0.1737236014849844, 0.18024866230222808, 0.5891460895740808, 0.028148098238072534, 0.2509666024962451, 0.26687487327852083, 0.43192220988015073, 0.47241934461652374, 1.0, 0.4281759853464131, 0.3430377922212029, 0.3307998756588745, 0.37142931291633074, 0.10559600303047081, 0.22217625278688968, 0.5149046330257919, -0.21891162430259056], [0.3852830886806066, 0.40368607060920847, 0.1533935659647114, 0.35864274701524396, 0.39315839866130275, 0.5367781066174623, 0.2030234023757936, 0.030370099134238392, 0.46615132544370086, 0.3471786878594158, 0.5302415833762537, 0.4281759853464131, 1.0, 0.3468995264328012, 0.3024018444988736, 0.0920368361771844, 0.14769002510840634, 0.2597572885602268, 0.5118053946512132, 0.33546608408727524], [0.3299768784801749, 0.1557033872856944, 0.19224803679876096, 0.1786679164537389, 0.18701921339894592, 0.38897645100628275, -0.08099134150690912, 0.36193293162124235, 0.2477523792656637, 0.34367346414716626, 0.28407603258954206, 0.3430377922212029, 0.3468995264328012, 1.0, 0.5074375112548764, 0.47436670817184046, 0.3801791424886568, 0.4940176770019391, 0.48076163917772174, -0.09923639017226808], [0.28355342341381673, 0.32225556272616757, 0.24798511843828802, 0.5485060599658423, 0.1743840685469407, 0.19831520239836053, 0.22514594068207486, 0.4914586189132927, 0.28806466957782434, 0.43074402851390065, 0.15549133493194178, 0.3307998756588745, 0.3024018444988736, 0.5074375112548764, 1.0, 0.5648332496852775, 0.5528487178418379, 0.46633680068033356, 0.28556660119665933, -0.028683224037021025], [0.23274659866168854, 0.17589969335044456, 0.14464299268016595, 0.23615323880809708, 0.41457563101546824, 0.3651442247258039, 0.04301682471258779, 0.431039263166525, 0.11943168556708628, 0.3152060391716773, 0.2118040465892595, 0.37142931291633074, 0.0920368361771844, 0.47436670817184046, 0.5648332496852775, 1.0, 0.24245336230987924, 0.220465096230024, 0.3687648732518769, 0.05343846047490956], [0.15960334906489534, 0.09671598285048144, 0.18744399958161315, 0.3471912447726765, 0.20991971407264573, 0.02584186980604444, -0.002579517928050152, 0.1489231177218972, 0.1817940568886333, 0.37770119257312323, -0.11696232145934801, 0.10559600303047081, 0.14769002510840634, 0.3801791424886568, 0.5528487178418379, 0.24245336230987924, 1.0, 0.5359067430431791, 0.22835927375648832, -0.0833567850938438], [0.2134319383156853, 0.05885785527231462, -0.10879664793041757, 0.13505062048336192, 0.26873153956420454, 0.28842743991260084, -0.1714238881696952, 0.18273547985929223, 0.49501296282327156, 0.42413809258362606, 0.11899057156599491, 0.22217625278688968, 0.2597572885602268, 0.4940176770019391, 0.46633680068033356, 0.220465096230024, 0.5359067430431791, 1.0, 0.4381779865744856, -0.268125006886493], [0.4887360497106849, 0.47166426952352103, 0.32934477320543815, 0.32254228804205565, 0.3982553218034876, 0.8015942413653361, 0.029616605420652534, 0.39383694034375555, 0.444659972001209, 0.7010908695539756, 0.6276313101472927, 0.5149046330257919, 0.5118053946512132, 0.48076163917772174, 0.28556660119665933, 0.3687648732518769, 0.22835927375648832, 0.4381779865744856, 1.0, -0.021483114293434746], [-0.2486200235283526, 0.08677356949247801, 0.09993797313114186, 0.32201300613043954, 0.10550585225969111, -0.05235634077559911, 0.07610846552464674, 0.006645541391046986, -0.005339037795950013, 0.1604181332740522, 0.1437252486399403, -0.21891162430259056, 0.33546608408727524, -0.09923639017226808, -0.028683224037021025, 0.05343846047490956, -0.0833567850938438, -0.268125006886493, -0.021483114293434746, 1.0]]}],\n",
              "                        {\"template\": {\"data\": {\"bar\": [{\"error_x\": {\"color\": \"#2a3f5f\"}, \"error_y\": {\"color\": \"#2a3f5f\"}, \"marker\": {\"line\": {\"color\": \"#E5ECF6\", \"width\": 0.5}}, \"type\": \"bar\"}], \"barpolar\": [{\"marker\": {\"line\": {\"color\": \"#E5ECF6\", \"width\": 0.5}}, \"type\": \"barpolar\"}], \"carpet\": [{\"aaxis\": {\"endlinecolor\": \"#2a3f5f\", \"gridcolor\": \"white\", \"linecolor\": \"white\", \"minorgridcolor\": \"white\", \"startlinecolor\": \"#2a3f5f\"}, \"baxis\": {\"endlinecolor\": \"#2a3f5f\", \"gridcolor\": \"white\", \"linecolor\": \"white\", \"minorgridcolor\": \"white\", \"startlinecolor\": \"#2a3f5f\"}, \"type\": \"carpet\"}], \"choropleth\": [{\"colorbar\": {\"outlinewidth\": 0, \"ticks\": \"\"}, \"type\": \"choropleth\"}], \"contour\": [{\"colorbar\": {\"outlinewidth\": 0, \"ticks\": \"\"}, \"colorscale\": [[0.0, \"#0d0887\"], [0.1111111111111111, \"#46039f\"], [0.2222222222222222, \"#7201a8\"], [0.3333333333333333, \"#9c179e\"], [0.4444444444444444, \"#bd3786\"], [0.5555555555555556, \"#d8576b\"], [0.6666666666666666, \"#ed7953\"], [0.7777777777777778, \"#fb9f3a\"], [0.8888888888888888, \"#fdca26\"], [1.0, \"#f0f921\"]], \"type\": \"contour\"}], \"contourcarpet\": [{\"colorbar\": {\"outlinewidth\": 0, \"ticks\": \"\"}, \"type\": \"contourcarpet\"}], \"heatmap\": [{\"colorbar\": {\"outlinewidth\": 0, \"ticks\": \"\"}, \"colorscale\": [[0.0, \"#0d0887\"], [0.1111111111111111, \"#46039f\"], [0.2222222222222222, \"#7201a8\"], [0.3333333333333333, \"#9c179e\"], [0.4444444444444444, \"#bd3786\"], [0.5555555555555556, \"#d8576b\"], [0.6666666666666666, \"#ed7953\"], [0.7777777777777778, \"#fb9f3a\"], [0.8888888888888888, \"#fdca26\"], [1.0, \"#f0f921\"]], \"type\": \"heatmap\"}], \"heatmapgl\": [{\"colorbar\": {\"outlinewidth\": 0, \"ticks\": \"\"}, \"colorscale\": [[0.0, \"#0d0887\"], [0.1111111111111111, \"#46039f\"], [0.2222222222222222, \"#7201a8\"], [0.3333333333333333, \"#9c179e\"], [0.4444444444444444, \"#bd3786\"], [0.5555555555555556, \"#d8576b\"], [0.6666666666666666, \"#ed7953\"], [0.7777777777777778, \"#fb9f3a\"], [0.8888888888888888, \"#fdca26\"], [1.0, \"#f0f921\"]], \"type\": \"heatmapgl\"}], \"histogram\": [{\"marker\": {\"colorbar\": {\"outlinewidth\": 0, \"ticks\": \"\"}}, \"type\": \"histogram\"}], \"histogram2d\": [{\"colorbar\": {\"outlinewidth\": 0, \"ticks\": \"\"}, \"colorscale\": [[0.0, \"#0d0887\"], [0.1111111111111111, \"#46039f\"], [0.2222222222222222, \"#7201a8\"], [0.3333333333333333, \"#9c179e\"], [0.4444444444444444, \"#bd3786\"], [0.5555555555555556, \"#d8576b\"], [0.6666666666666666, \"#ed7953\"], [0.7777777777777778, \"#fb9f3a\"], [0.8888888888888888, \"#fdca26\"], [1.0, \"#f0f921\"]], \"type\": \"histogram2d\"}], \"histogram2dcontour\": [{\"colorbar\": {\"outlinewidth\": 0, \"ticks\": \"\"}, \"colorscale\": [[0.0, \"#0d0887\"], [0.1111111111111111, \"#46039f\"], [0.2222222222222222, \"#7201a8\"], [0.3333333333333333, \"#9c179e\"], [0.4444444444444444, \"#bd3786\"], [0.5555555555555556, \"#d8576b\"], [0.6666666666666666, \"#ed7953\"], [0.7777777777777778, \"#fb9f3a\"], [0.8888888888888888, \"#fdca26\"], [1.0, \"#f0f921\"]], \"type\": \"histogram2dcontour\"}], \"mesh3d\": [{\"colorbar\": {\"outlinewidth\": 0, \"ticks\": \"\"}, \"type\": \"mesh3d\"}], \"parcoords\": [{\"line\": {\"colorbar\": {\"outlinewidth\": 0, \"ticks\": \"\"}}, \"type\": \"parcoords\"}], \"pie\": [{\"automargin\": true, \"type\": \"pie\"}], \"scatter\": [{\"marker\": {\"colorbar\": {\"outlinewidth\": 0, \"ticks\": \"\"}}, \"type\": \"scatter\"}], \"scatter3d\": [{\"line\": {\"colorbar\": {\"outlinewidth\": 0, \"ticks\": \"\"}}, \"marker\": {\"colorbar\": {\"outlinewidth\": 0, \"ticks\": \"\"}}, \"type\": \"scatter3d\"}], \"scattercarpet\": [{\"marker\": {\"colorbar\": {\"outlinewidth\": 0, \"ticks\": \"\"}}, \"type\": \"scattercarpet\"}], \"scattergeo\": [{\"marker\": {\"colorbar\": {\"outlinewidth\": 0, \"ticks\": \"\"}}, \"type\": \"scattergeo\"}], \"scattergl\": [{\"marker\": {\"colorbar\": {\"outlinewidth\": 0, \"ticks\": \"\"}}, \"type\": \"scattergl\"}], \"scattermapbox\": [{\"marker\": {\"colorbar\": {\"outlinewidth\": 0, \"ticks\": \"\"}}, \"type\": \"scattermapbox\"}], \"scatterpolar\": [{\"marker\": {\"colorbar\": {\"outlinewidth\": 0, \"ticks\": \"\"}}, \"type\": \"scatterpolar\"}], \"scatterpolargl\": [{\"marker\": {\"colorbar\": {\"outlinewidth\": 0, \"ticks\": \"\"}}, \"type\": \"scatterpolargl\"}], \"scatterternary\": [{\"marker\": {\"colorbar\": {\"outlinewidth\": 0, \"ticks\": \"\"}}, \"type\": \"scatterternary\"}], \"surface\": [{\"colorbar\": {\"outlinewidth\": 0, \"ticks\": \"\"}, \"colorscale\": [[0.0, \"#0d0887\"], [0.1111111111111111, \"#46039f\"], [0.2222222222222222, \"#7201a8\"], [0.3333333333333333, \"#9c179e\"], [0.4444444444444444, \"#bd3786\"], [0.5555555555555556, \"#d8576b\"], [0.6666666666666666, \"#ed7953\"], [0.7777777777777778, \"#fb9f3a\"], [0.8888888888888888, \"#fdca26\"], [1.0, \"#f0f921\"]], \"type\": \"surface\"}], \"table\": [{\"cells\": {\"fill\": {\"color\": \"#EBF0F8\"}, \"line\": {\"color\": \"white\"}}, \"header\": {\"fill\": {\"color\": \"#C8D4E3\"}, \"line\": {\"color\": \"white\"}}, \"type\": \"table\"}]}, \"layout\": {\"annotationdefaults\": {\"arrowcolor\": \"#2a3f5f\", \"arrowhead\": 0, \"arrowwidth\": 1}, \"coloraxis\": {\"colorbar\": {\"outlinewidth\": 0, \"ticks\": \"\"}}, \"colorscale\": {\"diverging\": [[0, \"#8e0152\"], [0.1, \"#c51b7d\"], [0.2, \"#de77ae\"], [0.3, \"#f1b6da\"], [0.4, \"#fde0ef\"], [0.5, \"#f7f7f7\"], [0.6, \"#e6f5d0\"], [0.7, \"#b8e186\"], [0.8, \"#7fbc41\"], [0.9, \"#4d9221\"], [1, \"#276419\"]], \"sequential\": [[0.0, \"#0d0887\"], [0.1111111111111111, \"#46039f\"], [0.2222222222222222, \"#7201a8\"], [0.3333333333333333, \"#9c179e\"], [0.4444444444444444, \"#bd3786\"], [0.5555555555555556, \"#d8576b\"], [0.6666666666666666, \"#ed7953\"], [0.7777777777777778, \"#fb9f3a\"], [0.8888888888888888, \"#fdca26\"], [1.0, \"#f0f921\"]], \"sequentialminus\": [[0.0, \"#0d0887\"], [0.1111111111111111, \"#46039f\"], [0.2222222222222222, \"#7201a8\"], [0.3333333333333333, \"#9c179e\"], [0.4444444444444444, \"#bd3786\"], [0.5555555555555556, \"#d8576b\"], [0.6666666666666666, \"#ed7953\"], [0.7777777777777778, \"#fb9f3a\"], [0.8888888888888888, \"#fdca26\"], [1.0, \"#f0f921\"]]}, \"colorway\": [\"#636efa\", \"#EF553B\", \"#00cc96\", \"#ab63fa\", \"#FFA15A\", \"#19d3f3\", \"#FF6692\", \"#B6E880\", \"#FF97FF\", \"#FECB52\"], \"font\": {\"color\": \"#2a3f5f\"}, \"geo\": {\"bgcolor\": \"white\", \"lakecolor\": \"white\", \"landcolor\": \"#E5ECF6\", \"showlakes\": true, \"showland\": true, \"subunitcolor\": \"white\"}, \"hoverlabel\": {\"align\": \"left\"}, \"hovermode\": \"closest\", \"mapbox\": {\"style\": \"light\"}, \"paper_bgcolor\": \"white\", \"plot_bgcolor\": \"#E5ECF6\", \"polar\": {\"angularaxis\": {\"gridcolor\": \"white\", \"linecolor\": \"white\", \"ticks\": \"\"}, \"bgcolor\": \"#E5ECF6\", \"radialaxis\": {\"gridcolor\": \"white\", \"linecolor\": \"white\", \"ticks\": \"\"}}, \"scene\": {\"xaxis\": {\"backgroundcolor\": \"#E5ECF6\", \"gridcolor\": \"white\", \"gridwidth\": 2, \"linecolor\": \"white\", \"showbackground\": true, \"ticks\": \"\", \"zerolinecolor\": \"white\"}, \"yaxis\": {\"backgroundcolor\": \"#E5ECF6\", \"gridcolor\": \"white\", \"gridwidth\": 2, \"linecolor\": \"white\", \"showbackground\": true, \"ticks\": \"\", \"zerolinecolor\": \"white\"}, \"zaxis\": {\"backgroundcolor\": \"#E5ECF6\", \"gridcolor\": \"white\", \"gridwidth\": 2, \"linecolor\": \"white\", \"showbackground\": true, \"ticks\": \"\", \"zerolinecolor\": \"white\"}}, \"shapedefaults\": {\"line\": {\"color\": \"#2a3f5f\"}}, \"ternary\": {\"aaxis\": {\"gridcolor\": \"white\", \"linecolor\": \"white\", \"ticks\": \"\"}, \"baxis\": {\"gridcolor\": \"white\", \"linecolor\": \"white\", \"ticks\": \"\"}, \"bgcolor\": \"#E5ECF6\", \"caxis\": {\"gridcolor\": \"white\", \"linecolor\": \"white\", \"ticks\": \"\"}}, \"title\": {\"x\": 0.05}, \"xaxis\": {\"automargin\": true, \"gridcolor\": \"white\", \"linecolor\": \"white\", \"ticks\": \"\", \"title\": {\"standoff\": 15}, \"zerolinecolor\": \"white\", \"zerolinewidth\": 2}, \"yaxis\": {\"automargin\": true, \"gridcolor\": \"white\", \"linecolor\": \"white\", \"ticks\": \"\", \"title\": {\"standoff\": 15}, \"zerolinecolor\": \"white\", \"zerolinewidth\": 2}}}},\n",
              "                        {\"responsive\": true}\n",
              "                    ).then(function(){\n",
              "                            \n",
              "var gd = document.getElementById('95b2e667-8eac-49f1-96fc-21468b1209a9');\n",
              "var x = new MutationObserver(function (mutations, observer) {{\n",
              "        var display = window.getComputedStyle(gd).display;\n",
              "        if (!display || display === 'none') {{\n",
              "            console.log([gd, 'removed!']);\n",
              "            Plotly.purge(gd);\n",
              "            observer.disconnect();\n",
              "        }}\n",
              "}});\n",
              "\n",
              "// Listen for the removal of the full notebook cells\n",
              "var notebookContainer = gd.closest('#notebook-container');\n",
              "if (notebookContainer) {{\n",
              "    x.observe(notebookContainer, {childList: true});\n",
              "}}\n",
              "\n",
              "// Listen for the clearing of the current output cell\n",
              "var outputEl = gd.closest('.output');\n",
              "if (outputEl) {{\n",
              "    x.observe(outputEl, {childList: true});\n",
              "}}\n",
              "\n",
              "                        })\n",
              "                };\n",
              "                \n",
              "            </script>\n",
              "        </div>\n",
              "</body>\n",
              "</html>"
            ]
          },
          "metadata": {
            "tags": []
          }
        }
      ]
    }
  ]
}