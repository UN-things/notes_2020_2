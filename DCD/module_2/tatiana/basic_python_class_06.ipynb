{
  "nbformat": 4,
  "nbformat_minor": 0,
  "metadata": {
    "colab": {
      "name": "basic_python_class_06.ipynb",
      "provenance": [],
      "collapsed_sections": [
        "Rz-jhbyG7GTg",
        "cvf3peZQqxAu"
      ],
      "include_colab_link": true
    },
    "kernelspec": {
      "name": "python3",
      "display_name": "Python 3"
    }
  },
  "cells": [
    {
      "cell_type": "markdown",
      "metadata": {
        "id": "view-in-github",
        "colab_type": "text"
      },
      "source": [
        "<a href=\"https://colab.research.google.com/github/gtzambranop/UN_2020_2/blob/DCD/DCD/module_2/basic_python_class_06.ipynb\" target=\"_parent\"><img src=\"https://colab.research.google.com/assets/colab-badge.svg\" alt=\"Open In Colab\"/></a>"
      ]
    },
    {
      "cell_type": "markdown",
      "metadata": {
        "id": "9NIt06jTqxUR"
      },
      "source": [
        "# **\"Pyhton Básico\"**\n",
        "\n",
        "* **Profesor:** Francisco Javier Ospina Salazar\n",
        "* **Monitoras:**\n",
        "  - Diana Carolina Sanchez Perez\n",
        "  - Guiselle Tatiana Zambrano Penagos\n",
        "* **Fechas:** \n",
        "  - Inicio: 2020-09-12\n",
        "  - Final: 2020-09-29\n",
        "* [Presentación del curso](http://34.221.75.109/#/)\n"
      ]
    },
    {
      "cell_type": "markdown",
      "metadata": {
        "id": "PwXN-k6pcYtU"
      },
      "source": [
        "\n",
        "## Contenido de la clase\n",
        "\n",
        "- Operaciones entre tablas de datos\n",
        "  - Joins (uniones)\n",
        "- Creación de filas o columnas en tablas\n",
        "  - Añadir columas\n",
        "  - Broadcasting\n",
        "  - Añadir filas\n",
        "  - Concatenación\n",
        "- Operaciones útiles con DataFrames\n",
        "  - Multi-indexamiento\n",
        "    - Agregaciones por niveles de indexamiento\n",
        "  - Tablas pivote\n",
        "  - Selección de sub-dataframes\n",
        "  - Ordenamientos\n",
        "  - Iteraciones sobre grupos\n",
        "  - Agregaciones sobre grupos\n",
        "  - Tablas cruzadas\n",
        "\n"
      ]
    },
    {
      "cell_type": "markdown",
      "metadata": {
        "id": "Rz-jhbyG7GTg"
      },
      "source": [
        "# Informacióón adicional"
      ]
    },
    {
      "cell_type": "markdown",
      "metadata": {
        "id": "reau2Os27d-t"
      },
      "source": [
        "## Diferencia entre métodos y funciones\n",
        "\n",
        "Una **función** es una pieza de código que se llama por nombre. Se puede pasar datos para operar (es decir, los parámetros) y opcionalmente puede devolver datos (el valor de retorno). Todos los datos que se pasan a una función se pasan explícitamente. \n",
        "\n",
        "Un **método** es una porción de código que es llamado por un nombre que está asociado con un objeto. En la mayoría de los aspectos, es idéntica a una función, excepto por dos diferencias clave:\n",
        "\n",
        "- Un método se pasa implícitamente al objeto sobre el que se llamó.\n",
        "- Un método puede operar con datos contenidos en la clase (recordando que un objeto es una instancia de una clase, la clase es la definición, el objeto es una instancia de esa información).\n",
        "\n",
        "Una **función** puede retornar un resultado o realizar una accióón agena al objeto. Un **método** modifica y trabaja directamente con el objeto."
      ]
    },
    {
      "cell_type": "markdown",
      "metadata": {
        "id": "xps4CXj78sUc"
      },
      "source": [
        "### Ejemplo método"
      ]
    },
    {
      "cell_type": "code",
      "metadata": {
        "id": "_sGUBirNeoLK",
        "outputId": "49c38363-7fd0-436a-d17b-dc8f621a0e8c",
        "colab": {
          "base_uri": "https://localhost:8080/",
          "height": 34
        }
      },
      "source": [
        "# Se define un diccionario\n",
        "dc = {'a': 1}\n",
        "dc"
      ],
      "execution_count": null,
      "outputs": [
        {
          "output_type": "execute_result",
          "data": {
            "text/plain": [
              "{'a': 1}"
            ]
          },
          "metadata": {
            "tags": []
          },
          "execution_count": 448
        }
      ]
    },
    {
      "cell_type": "code",
      "metadata": {
        "id": "KMZ4oVk9er43",
        "outputId": "df62849a-db93-4d60-8e37-ef92b1a44a9e",
        "colab": {
          "base_uri": "https://localhost:8080/",
          "height": 34
        }
      },
      "source": [
        "# El método update actualiza el diccionario directamente\n",
        "dc.update({'b': 2})\n",
        "dc"
      ],
      "execution_count": null,
      "outputs": [
        {
          "output_type": "execute_result",
          "data": {
            "text/plain": [
              "{'a': 1, 'b': 2}"
            ]
          },
          "metadata": {
            "tags": []
          },
          "execution_count": 449
        }
      ]
    },
    {
      "cell_type": "code",
      "metadata": {
        "id": "yKr2aeaR_I1_"
      },
      "source": [
        "def exponentiation_method(list_base, exponent=2):\n",
        "  # Se sobrescriben los datos de list_base\n",
        "  for i in range(len(list_base)):\n",
        "    list_base[i] = list_base[i] ** exponent"
      ],
      "execution_count": null,
      "outputs": []
    },
    {
      "cell_type": "code",
      "metadata": {
        "id": "UXvgppoTATeV",
        "outputId": "93a01a18-cc62-4e29-eda6-bfb18850e799",
        "colab": {
          "base_uri": "https://localhost:8080/",
          "height": 34
        }
      },
      "source": [
        "# Lista de números pares en el rango [0, 10)\n",
        "list_1 = list(range(0, 10, 2)) \n",
        "print(list_1)"
      ],
      "execution_count": null,
      "outputs": [
        {
          "output_type": "stream",
          "text": [
            "[0, 2, 4, 6, 8]\n"
          ],
          "name": "stdout"
        }
      ]
    },
    {
      "cell_type": "code",
      "metadata": {
        "id": "JTr35hwLAVQW"
      },
      "source": [
        "exponentiation_method(list_1)"
      ],
      "execution_count": null,
      "outputs": []
    },
    {
      "cell_type": "code",
      "metadata": {
        "id": "Jr4PmpwVD6T1",
        "outputId": "5a2f75ef-38b1-480d-e699-c736bc3ce1e5",
        "colab": {
          "base_uri": "https://localhost:8080/",
          "height": 34
        }
      },
      "source": [
        "# Se modificó directamente la lista original\n",
        "list_1"
      ],
      "execution_count": null,
      "outputs": [
        {
          "output_type": "execute_result",
          "data": {
            "text/plain": [
              "[0, 4, 16, 36, 64]"
            ]
          },
          "metadata": {
            "tags": []
          },
          "execution_count": 567
        }
      ]
    },
    {
      "cell_type": "markdown",
      "metadata": {
        "id": "ZwNudCex9Ddi"
      },
      "source": [
        "### Ejemplo función"
      ]
    },
    {
      "cell_type": "code",
      "metadata": {
        "id": "2EK9Ytep9Crt",
        "outputId": "02fd0693-7c34-4423-87e1-48b923792c3e",
        "colab": {
          "base_uri": "https://localhost:8080/",
          "height": 34
        }
      },
      "source": [
        "# Lista de números pares en el rango [0, 10)\n",
        "list_1 = list(range(0, 10, 2)) \n",
        "print(list_1)"
      ],
      "execution_count": null,
      "outputs": [
        {
          "output_type": "stream",
          "text": [
            "[0, 2, 4, 6, 8]\n"
          ],
          "name": "stdout"
        }
      ]
    },
    {
      "cell_type": "code",
      "metadata": {
        "id": "_ys4RFE99n5g"
      },
      "source": [
        "def exponentiation_function(list_base, exponent=2):\n",
        "  # Se crea una nueva lista, la lista de entrada NO se modifica\n",
        "  list_2 = [x**exponent for x in list_base]\n",
        "  return list_2"
      ],
      "execution_count": null,
      "outputs": []
    },
    {
      "cell_type": "code",
      "metadata": {
        "id": "boH6POeH-XYn",
        "outputId": "4c883fac-62e7-458e-a502-2f4f1bb4acaa",
        "colab": {
          "base_uri": "https://localhost:8080/",
          "height": 34
        }
      },
      "source": [
        "# La lista original no se modifica, pero se retorna una nueva lista con los\n",
        "# cambios requeridos\n",
        "list_2 = exponentiation_function(list_1, 3)\n",
        "list_2"
      ],
      "execution_count": null,
      "outputs": [
        {
          "output_type": "execute_result",
          "data": {
            "text/plain": [
              "[0, 16, 256, 1296, 4096]"
            ]
          },
          "metadata": {
            "tags": []
          },
          "execution_count": 569
        }
      ]
    },
    {
      "cell_type": "code",
      "metadata": {
        "id": "Hh9Xvg_l_eM1",
        "outputId": "9ec278f7-d2e4-4970-e49b-46b8ad2ea559",
        "colab": {
          "base_uri": "https://localhost:8080/",
          "height": 34
        }
      },
      "source": [
        "list_1"
      ],
      "execution_count": null,
      "outputs": [
        {
          "output_type": "execute_result",
          "data": {
            "text/plain": [
              "[0, 2, 4, 6, 8]"
            ]
          },
          "metadata": {
            "tags": []
          },
          "execution_count": 555
        }
      ]
    },
    {
      "cell_type": "code",
      "metadata": {
        "id": "zezp4K3B-kfe"
      },
      "source": [
        "exponentiation_2(list_1, 2)\n"
      ],
      "execution_count": null,
      "outputs": []
    },
    {
      "cell_type": "code",
      "metadata": {
        "id": "ICmfgOF4_UyW",
        "outputId": "67abbb26-01d4-4f2f-afe2-3bb277016938",
        "colab": {
          "base_uri": "https://localhost:8080/",
          "height": 34
        }
      },
      "source": [
        "# La lista original se modificó\n",
        "list_1"
      ],
      "execution_count": null,
      "outputs": [
        {
          "output_type": "execute_result",
          "data": {
            "text/plain": [
              "[0, 4, 16, 36, 64]"
            ]
          },
          "metadata": {
            "tags": []
          },
          "execution_count": 557
        }
      ]
    },
    {
      "cell_type": "code",
      "metadata": {
        "id": "-M41e0-1dHzF"
      },
      "source": [
        "import pandas as pd \n",
        "import numpy as np"
      ],
      "execution_count": null,
      "outputs": []
    },
    {
      "cell_type": "markdown",
      "metadata": {
        "id": "cvf3peZQqxAu"
      },
      "source": [
        "# Operaciones de tablas en Pandas"
      ]
    },
    {
      "cell_type": "markdown",
      "metadata": {
        "id": "W8k9MfLZqzlN"
      },
      "source": [
        "## Operaciones entre tablas de datos\n",
        "* Joins\n",
        "* Concatenación de tablas\n",
        "  * Añadir columas\n",
        "  * Añadir filas"
      ]
    },
    {
      "cell_type": "markdown",
      "metadata": {
        "id": "oyknDapGq9Cv"
      },
      "source": [
        "### Joins\n",
        "\n",
        "**Nota:** \n",
        "\n",
        "\n",
        "Como ejemplos para ver la funcionalidad de los joins se tomaran las tablas que se usan como ejemplo en la sección de [joins de Wikipedia](https://es.wikipedia.org/wiki/Join)"
      ]
    },
    {
      "cell_type": "markdown",
      "metadata": {
        "id": "bEg47_K3gaKC"
      },
      "source": [
        "![join](https://ingenieriadesoftware.es/wp-content/uploads/2018/07/sqljoin.jpeg)"
      ]
    },
    {
      "cell_type": "code",
      "metadata": {
        "id": "4vGhCzePqwrP"
      },
      "source": [
        "Empleado = pd.DataFrame({'Apellido' : ['Andrade', 'Jordán', 'Steinberg', 'Róbinson', 'Zolano', 'Gaspar'],\n",
        "                         'IDDepartamento' : [31, 33, 33, 34, 34, 36]})\n",
        "\n",
        "\n",
        "Departamento = pd.DataFrame({'NombreDepartamento': ['Ventas', 'Ingeniería', 'Producción', 'Mercadeo'],\n",
        "                             'IDDepartamento': [31, 33, 34, 35]})"
      ],
      "execution_count": null,
      "outputs": []
    },
    {
      "cell_type": "code",
      "metadata": {
        "id": "nf05HGYcrMui",
        "outputId": "0f5b2e21-caf4-4353-ed66-a63f042a4905",
        "colab": {
          "base_uri": "https://localhost:8080/",
          "height": 243
        }
      },
      "source": [
        "print(Empleado)\n",
        "print('-' * 50)\n",
        "print(Departamento)"
      ],
      "execution_count": null,
      "outputs": [
        {
          "output_type": "stream",
          "text": [
            "    Apellido  IDDepartamento\n",
            "0    Andrade              31\n",
            "1     Jordán              33\n",
            "2  Steinberg              33\n",
            "3   Róbinson              34\n",
            "4     Zolano              34\n",
            "5     Gaspar              36\n",
            "--------------------------------------------------\n",
            "  NombreDepartamento  IDDepartamento\n",
            "0             Ventas              31\n",
            "1         Ingeniería              33\n",
            "2         Producción              34\n",
            "3           Mercadeo              35\n"
          ],
          "name": "stdout"
        }
      ]
    },
    {
      "cell_type": "markdown",
      "metadata": {
        "id": "8Iq3bfyXrRhW"
      },
      "source": [
        "#### Inner join.\n",
        "\n",
        "El inner join mezcla las dos tablas por columna dejando únicamente las filas que hacen **match** en ambas tablas. Inner es el join por defecto en Pandas."
      ]
    },
    {
      "cell_type": "code",
      "metadata": {
        "id": "mkCQeV3zrlZM",
        "outputId": "7d8057f5-7b2f-4829-b51a-9b2838c7c7c4",
        "colab": {
          "base_uri": "https://localhost:8080/",
          "height": 206
        }
      },
      "source": [
        "pd.merge(Empleado, Departamento) # La columna IDDepartamento solo queda una vez"
      ],
      "execution_count": null,
      "outputs": [
        {
          "output_type": "execute_result",
          "data": {
            "text/html": [
              "<div>\n",
              "<style scoped>\n",
              "    .dataframe tbody tr th:only-of-type {\n",
              "        vertical-align: middle;\n",
              "    }\n",
              "\n",
              "    .dataframe tbody tr th {\n",
              "        vertical-align: top;\n",
              "    }\n",
              "\n",
              "    .dataframe thead th {\n",
              "        text-align: right;\n",
              "    }\n",
              "</style>\n",
              "<table border=\"1\" class=\"dataframe\">\n",
              "  <thead>\n",
              "    <tr style=\"text-align: right;\">\n",
              "      <th></th>\n",
              "      <th>Apellido</th>\n",
              "      <th>IDDepartamento</th>\n",
              "      <th>NombreDepartamento</th>\n",
              "    </tr>\n",
              "  </thead>\n",
              "  <tbody>\n",
              "    <tr>\n",
              "      <th>0</th>\n",
              "      <td>Andrade</td>\n",
              "      <td>31</td>\n",
              "      <td>Ventas</td>\n",
              "    </tr>\n",
              "    <tr>\n",
              "      <th>1</th>\n",
              "      <td>Jordán</td>\n",
              "      <td>33</td>\n",
              "      <td>Ingeniería</td>\n",
              "    </tr>\n",
              "    <tr>\n",
              "      <th>2</th>\n",
              "      <td>Steinberg</td>\n",
              "      <td>33</td>\n",
              "      <td>Ingeniería</td>\n",
              "    </tr>\n",
              "    <tr>\n",
              "      <th>3</th>\n",
              "      <td>Róbinson</td>\n",
              "      <td>34</td>\n",
              "      <td>Producción</td>\n",
              "    </tr>\n",
              "    <tr>\n",
              "      <th>4</th>\n",
              "      <td>Zolano</td>\n",
              "      <td>34</td>\n",
              "      <td>Producción</td>\n",
              "    </tr>\n",
              "  </tbody>\n",
              "</table>\n",
              "</div>"
            ],
            "text/plain": [
              "    Apellido  IDDepartamento NombreDepartamento\n",
              "0    Andrade              31             Ventas\n",
              "1     Jordán              33         Ingeniería\n",
              "2  Steinberg              33         Ingeniería\n",
              "3   Róbinson              34         Producción\n",
              "4     Zolano              34         Producción"
            ]
          },
          "metadata": {
            "tags": []
          },
          "execution_count": 478
        }
      ]
    },
    {
      "cell_type": "code",
      "metadata": {
        "id": "jYkvv8jPr2RX",
        "outputId": "e4d62dd4-f6e9-40f5-c97d-3bbfee66e7fc",
        "colab": {
          "base_uri": "https://localhost:8080/",
          "height": 206
        }
      },
      "source": [
        "Empleado.merge(Departamento) # Forma alterna"
      ],
      "execution_count": null,
      "outputs": [
        {
          "output_type": "execute_result",
          "data": {
            "text/html": [
              "<div>\n",
              "<style scoped>\n",
              "    .dataframe tbody tr th:only-of-type {\n",
              "        vertical-align: middle;\n",
              "    }\n",
              "\n",
              "    .dataframe tbody tr th {\n",
              "        vertical-align: top;\n",
              "    }\n",
              "\n",
              "    .dataframe thead th {\n",
              "        text-align: right;\n",
              "    }\n",
              "</style>\n",
              "<table border=\"1\" class=\"dataframe\">\n",
              "  <thead>\n",
              "    <tr style=\"text-align: right;\">\n",
              "      <th></th>\n",
              "      <th>Apellido</th>\n",
              "      <th>IDDepartamento</th>\n",
              "      <th>NombreDepartamento</th>\n",
              "    </tr>\n",
              "  </thead>\n",
              "  <tbody>\n",
              "    <tr>\n",
              "      <th>0</th>\n",
              "      <td>Andrade</td>\n",
              "      <td>31</td>\n",
              "      <td>Ventas</td>\n",
              "    </tr>\n",
              "    <tr>\n",
              "      <th>1</th>\n",
              "      <td>Jordán</td>\n",
              "      <td>33</td>\n",
              "      <td>Ingeniería</td>\n",
              "    </tr>\n",
              "    <tr>\n",
              "      <th>2</th>\n",
              "      <td>Steinberg</td>\n",
              "      <td>33</td>\n",
              "      <td>Ingeniería</td>\n",
              "    </tr>\n",
              "    <tr>\n",
              "      <th>3</th>\n",
              "      <td>Róbinson</td>\n",
              "      <td>34</td>\n",
              "      <td>Producción</td>\n",
              "    </tr>\n",
              "    <tr>\n",
              "      <th>4</th>\n",
              "      <td>Zolano</td>\n",
              "      <td>34</td>\n",
              "      <td>Producción</td>\n",
              "    </tr>\n",
              "  </tbody>\n",
              "</table>\n",
              "</div>"
            ],
            "text/plain": [
              "    Apellido  IDDepartamento NombreDepartamento\n",
              "0    Andrade              31             Ventas\n",
              "1     Jordán              33         Ingeniería\n",
              "2  Steinberg              33         Ingeniería\n",
              "3   Róbinson              34         Producción\n",
              "4     Zolano              34         Producción"
            ]
          },
          "metadata": {
            "tags": []
          },
          "execution_count": 479
        }
      ]
    },
    {
      "cell_type": "markdown",
      "metadata": {
        "id": "iqQgo8c1rqKa"
      },
      "source": [
        "#### Left join\n",
        "\n",
        "El left join mezcla las dos tablas por columna, dejando todas las filas de la tabla izquierda y solo las de la derecha que hacen match; el resto de registros lo llena con nulos.\n",
        "\n"
      ]
    },
    {
      "cell_type": "code",
      "metadata": {
        "id": "yZ220YZVruBP",
        "outputId": "1bdbab2d-5c84-4bae-d488-ab6c341ba06e",
        "colab": {
          "base_uri": "https://localhost:8080/",
          "height": 238
        }
      },
      "source": [
        "# Se hace la operacióón left y luego el resultado es asignado a df_merged\n",
        "df_merged = pd.merge(Empleado, Departamento, how='left') \n",
        "df_merged"
      ],
      "execution_count": null,
      "outputs": [
        {
          "output_type": "execute_result",
          "data": {
            "text/html": [
              "<div>\n",
              "<style scoped>\n",
              "    .dataframe tbody tr th:only-of-type {\n",
              "        vertical-align: middle;\n",
              "    }\n",
              "\n",
              "    .dataframe tbody tr th {\n",
              "        vertical-align: top;\n",
              "    }\n",
              "\n",
              "    .dataframe thead th {\n",
              "        text-align: right;\n",
              "    }\n",
              "</style>\n",
              "<table border=\"1\" class=\"dataframe\">\n",
              "  <thead>\n",
              "    <tr style=\"text-align: right;\">\n",
              "      <th></th>\n",
              "      <th>Apellido</th>\n",
              "      <th>IDDepartamento</th>\n",
              "      <th>NombreDepartamento</th>\n",
              "    </tr>\n",
              "  </thead>\n",
              "  <tbody>\n",
              "    <tr>\n",
              "      <th>0</th>\n",
              "      <td>Andrade</td>\n",
              "      <td>31</td>\n",
              "      <td>Ventas</td>\n",
              "    </tr>\n",
              "    <tr>\n",
              "      <th>1</th>\n",
              "      <td>Jordán</td>\n",
              "      <td>33</td>\n",
              "      <td>Ingeniería</td>\n",
              "    </tr>\n",
              "    <tr>\n",
              "      <th>2</th>\n",
              "      <td>Steinberg</td>\n",
              "      <td>33</td>\n",
              "      <td>Ingeniería</td>\n",
              "    </tr>\n",
              "    <tr>\n",
              "      <th>3</th>\n",
              "      <td>Róbinson</td>\n",
              "      <td>34</td>\n",
              "      <td>Producción</td>\n",
              "    </tr>\n",
              "    <tr>\n",
              "      <th>4</th>\n",
              "      <td>Zolano</td>\n",
              "      <td>34</td>\n",
              "      <td>Producción</td>\n",
              "    </tr>\n",
              "    <tr>\n",
              "      <th>5</th>\n",
              "      <td>Gaspar</td>\n",
              "      <td>36</td>\n",
              "      <td>NaN</td>\n",
              "    </tr>\n",
              "  </tbody>\n",
              "</table>\n",
              "</div>"
            ],
            "text/plain": [
              "    Apellido  IDDepartamento NombreDepartamento\n",
              "0    Andrade              31             Ventas\n",
              "1     Jordán              33         Ingeniería\n",
              "2  Steinberg              33         Ingeniería\n",
              "3   Róbinson              34         Producción\n",
              "4     Zolano              34         Producción\n",
              "5     Gaspar              36                NaN"
            ]
          },
          "metadata": {
            "tags": []
          },
          "execution_count": 480
        }
      ]
    },
    {
      "cell_type": "markdown",
      "metadata": {
        "id": "ZtJG93akr94K"
      },
      "source": [
        "#### Right join\n",
        "\n",
        "El Right join mezcla las dos tablas por columna, dejando todas las filas de la tabla derecha y solo las de la izquierda que hacen match; el resto de registros lo llena con nulos."
      ]
    },
    {
      "cell_type": "code",
      "metadata": {
        "id": "8dZhBpaAsAaq",
        "outputId": "a4d12d7b-5b50-4b04-d88e-aac317a50839",
        "colab": {
          "base_uri": "https://localhost:8080/",
          "height": 238
        }
      },
      "source": [
        "pd.merge(Empleado, Departamento, how='right') "
      ],
      "execution_count": null,
      "outputs": [
        {
          "output_type": "execute_result",
          "data": {
            "text/html": [
              "<div>\n",
              "<style scoped>\n",
              "    .dataframe tbody tr th:only-of-type {\n",
              "        vertical-align: middle;\n",
              "    }\n",
              "\n",
              "    .dataframe tbody tr th {\n",
              "        vertical-align: top;\n",
              "    }\n",
              "\n",
              "    .dataframe thead th {\n",
              "        text-align: right;\n",
              "    }\n",
              "</style>\n",
              "<table border=\"1\" class=\"dataframe\">\n",
              "  <thead>\n",
              "    <tr style=\"text-align: right;\">\n",
              "      <th></th>\n",
              "      <th>Apellido</th>\n",
              "      <th>IDDepartamento</th>\n",
              "      <th>NombreDepartamento</th>\n",
              "    </tr>\n",
              "  </thead>\n",
              "  <tbody>\n",
              "    <tr>\n",
              "      <th>0</th>\n",
              "      <td>Andrade</td>\n",
              "      <td>31</td>\n",
              "      <td>Ventas</td>\n",
              "    </tr>\n",
              "    <tr>\n",
              "      <th>1</th>\n",
              "      <td>Jordán</td>\n",
              "      <td>33</td>\n",
              "      <td>Ingeniería</td>\n",
              "    </tr>\n",
              "    <tr>\n",
              "      <th>2</th>\n",
              "      <td>Steinberg</td>\n",
              "      <td>33</td>\n",
              "      <td>Ingeniería</td>\n",
              "    </tr>\n",
              "    <tr>\n",
              "      <th>3</th>\n",
              "      <td>Róbinson</td>\n",
              "      <td>34</td>\n",
              "      <td>Producción</td>\n",
              "    </tr>\n",
              "    <tr>\n",
              "      <th>4</th>\n",
              "      <td>Zolano</td>\n",
              "      <td>34</td>\n",
              "      <td>Producción</td>\n",
              "    </tr>\n",
              "    <tr>\n",
              "      <th>5</th>\n",
              "      <td>NaN</td>\n",
              "      <td>35</td>\n",
              "      <td>Mercadeo</td>\n",
              "    </tr>\n",
              "  </tbody>\n",
              "</table>\n",
              "</div>"
            ],
            "text/plain": [
              "    Apellido  IDDepartamento NombreDepartamento\n",
              "0    Andrade              31             Ventas\n",
              "1     Jordán              33         Ingeniería\n",
              "2  Steinberg              33         Ingeniería\n",
              "3   Róbinson              34         Producción\n",
              "4     Zolano              34         Producción\n",
              "5        NaN              35           Mercadeo"
            ]
          },
          "metadata": {
            "tags": []
          },
          "execution_count": 481
        }
      ]
    },
    {
      "cell_type": "markdown",
      "metadata": {
        "id": "dKHme-7Nsw7v"
      },
      "source": [
        "#### Outer join (Full outer join)\n",
        "El Outer join mezcla las dos tablas por columna, dejando todas las filas de ambas tablas independientemente si hay match o no."
      ]
    },
    {
      "cell_type": "code",
      "metadata": {
        "id": "6Novmuxrsz58",
        "outputId": "c1a9ff5c-77d5-40de-d004-d63d782be0b2",
        "colab": {
          "base_uri": "https://localhost:8080/",
          "height": 269
        }
      },
      "source": [
        "pd.merge(Empleado, Departamento, how='outer') "
      ],
      "execution_count": null,
      "outputs": [
        {
          "output_type": "execute_result",
          "data": {
            "text/html": [
              "<div>\n",
              "<style scoped>\n",
              "    .dataframe tbody tr th:only-of-type {\n",
              "        vertical-align: middle;\n",
              "    }\n",
              "\n",
              "    .dataframe tbody tr th {\n",
              "        vertical-align: top;\n",
              "    }\n",
              "\n",
              "    .dataframe thead th {\n",
              "        text-align: right;\n",
              "    }\n",
              "</style>\n",
              "<table border=\"1\" class=\"dataframe\">\n",
              "  <thead>\n",
              "    <tr style=\"text-align: right;\">\n",
              "      <th></th>\n",
              "      <th>Apellido</th>\n",
              "      <th>IDDepartamento</th>\n",
              "      <th>NombreDepartamento</th>\n",
              "    </tr>\n",
              "  </thead>\n",
              "  <tbody>\n",
              "    <tr>\n",
              "      <th>0</th>\n",
              "      <td>Andrade</td>\n",
              "      <td>31</td>\n",
              "      <td>Ventas</td>\n",
              "    </tr>\n",
              "    <tr>\n",
              "      <th>1</th>\n",
              "      <td>Jordán</td>\n",
              "      <td>33</td>\n",
              "      <td>Ingeniería</td>\n",
              "    </tr>\n",
              "    <tr>\n",
              "      <th>2</th>\n",
              "      <td>Steinberg</td>\n",
              "      <td>33</td>\n",
              "      <td>Ingeniería</td>\n",
              "    </tr>\n",
              "    <tr>\n",
              "      <th>3</th>\n",
              "      <td>Róbinson</td>\n",
              "      <td>34</td>\n",
              "      <td>Producción</td>\n",
              "    </tr>\n",
              "    <tr>\n",
              "      <th>4</th>\n",
              "      <td>Zolano</td>\n",
              "      <td>34</td>\n",
              "      <td>Producción</td>\n",
              "    </tr>\n",
              "    <tr>\n",
              "      <th>5</th>\n",
              "      <td>Gaspar</td>\n",
              "      <td>36</td>\n",
              "      <td>NaN</td>\n",
              "    </tr>\n",
              "    <tr>\n",
              "      <th>6</th>\n",
              "      <td>NaN</td>\n",
              "      <td>35</td>\n",
              "      <td>Mercadeo</td>\n",
              "    </tr>\n",
              "  </tbody>\n",
              "</table>\n",
              "</div>"
            ],
            "text/plain": [
              "    Apellido  IDDepartamento NombreDepartamento\n",
              "0    Andrade              31             Ventas\n",
              "1     Jordán              33         Ingeniería\n",
              "2  Steinberg              33         Ingeniería\n",
              "3   Róbinson              34         Producción\n",
              "4     Zolano              34         Producción\n",
              "5     Gaspar              36                NaN\n",
              "6        NaN              35           Mercadeo"
            ]
          },
          "metadata": {
            "tags": []
          },
          "execution_count": 482
        }
      ]
    },
    {
      "cell_type": "markdown",
      "metadata": {
        "id": "rVuMD-3ws12B"
      },
      "source": [
        "#### Full join\n",
        "\n",
        "El Full join mezcla las dos tablas por columna, dejando solo las filas de ambas tablas que no hicieron match."
      ]
    },
    {
      "cell_type": "code",
      "metadata": {
        "id": "GGZtweWoswUg",
        "outputId": "eced4393-f32a-430e-c462-7c47248dd825",
        "colab": {
          "base_uri": "https://localhost:8080/",
          "height": 112
        }
      },
      "source": [
        "df_merged = pd.merge(Empleado, Departamento, how='outer')\n",
        "# Retorna lo que no hizo match\n",
        "df_merged[np.logical_or(df_merged.Apellido.isna(), df_merged.NombreDepartamento.isna())]"
      ],
      "execution_count": null,
      "outputs": [
        {
          "output_type": "execute_result",
          "data": {
            "text/html": [
              "<div>\n",
              "<style scoped>\n",
              "    .dataframe tbody tr th:only-of-type {\n",
              "        vertical-align: middle;\n",
              "    }\n",
              "\n",
              "    .dataframe tbody tr th {\n",
              "        vertical-align: top;\n",
              "    }\n",
              "\n",
              "    .dataframe thead th {\n",
              "        text-align: right;\n",
              "    }\n",
              "</style>\n",
              "<table border=\"1\" class=\"dataframe\">\n",
              "  <thead>\n",
              "    <tr style=\"text-align: right;\">\n",
              "      <th></th>\n",
              "      <th>Apellido</th>\n",
              "      <th>IDDepartamento</th>\n",
              "      <th>NombreDepartamento</th>\n",
              "    </tr>\n",
              "  </thead>\n",
              "  <tbody>\n",
              "    <tr>\n",
              "      <th>5</th>\n",
              "      <td>Gaspar</td>\n",
              "      <td>36</td>\n",
              "      <td>NaN</td>\n",
              "    </tr>\n",
              "    <tr>\n",
              "      <th>6</th>\n",
              "      <td>NaN</td>\n",
              "      <td>35</td>\n",
              "      <td>Mercadeo</td>\n",
              "    </tr>\n",
              "  </tbody>\n",
              "</table>\n",
              "</div>"
            ],
            "text/plain": [
              "  Apellido  IDDepartamento NombreDepartamento\n",
              "5   Gaspar              36                NaN\n",
              "6      NaN              35           Mercadeo"
            ]
          },
          "metadata": {
            "tags": []
          },
          "execution_count": 483
        }
      ]
    },
    {
      "cell_type": "markdown",
      "metadata": {
        "id": "CJxsmB-9tXY8"
      },
      "source": [
        "#### Algunas funcionalidades adicionales de todos los joins dentro de pandas"
      ]
    },
    {
      "cell_type": "code",
      "metadata": {
        "id": "ik6R8bvutbN6"
      },
      "source": [
        "# Decidir la columna por la cual se hace el join explicitamente\n",
        "Empleado.columns = ['Nombre', 'IDDepartamento']\n",
        "Departamento.columns = ['Nombre', 'IDDepartamento']\n"
      ],
      "execution_count": null,
      "outputs": []
    },
    {
      "cell_type": "code",
      "metadata": {
        "id": "OFW2EDhgvVjE",
        "outputId": "72b35e5c-8d3e-420e-fefe-421ad216cee4",
        "colab": {
          "base_uri": "https://localhost:8080/",
          "height": 243
        }
      },
      "source": [
        "print(Empleado)\n",
        "print('-' * 50)\n",
        "print(Departamento)\n"
      ],
      "execution_count": null,
      "outputs": [
        {
          "output_type": "stream",
          "text": [
            "      Nombre  IDDepartamento\n",
            "0    Andrade              31\n",
            "1     Jordán              33\n",
            "2  Steinberg              33\n",
            "3   Róbinson              34\n",
            "4     Zolano              34\n",
            "5     Gaspar              36\n",
            "--------------------------------------------------\n",
            "       Nombre  IDDepartamento\n",
            "0      Ventas              31\n",
            "1  Ingeniería              33\n",
            "2  Producción              34\n",
            "3    Mercadeo              35\n"
          ],
          "name": "stdout"
        }
      ]
    },
    {
      "cell_type": "code",
      "metadata": {
        "id": "3ln4jqUQu8vK",
        "outputId": "d7ee6045-1b1e-45c3-c3a9-6cee010aadbe",
        "colab": {
          "base_uri": "https://localhost:8080/",
          "height": 49
        }
      },
      "source": [
        "pd.merge(Empleado, Departamento) "
      ],
      "execution_count": null,
      "outputs": [
        {
          "output_type": "execute_result",
          "data": {
            "text/html": [
              "<div>\n",
              "<style scoped>\n",
              "    .dataframe tbody tr th:only-of-type {\n",
              "        vertical-align: middle;\n",
              "    }\n",
              "\n",
              "    .dataframe tbody tr th {\n",
              "        vertical-align: top;\n",
              "    }\n",
              "\n",
              "    .dataframe thead th {\n",
              "        text-align: right;\n",
              "    }\n",
              "</style>\n",
              "<table border=\"1\" class=\"dataframe\">\n",
              "  <thead>\n",
              "    <tr style=\"text-align: right;\">\n",
              "      <th></th>\n",
              "      <th>Nombre</th>\n",
              "      <th>IDDepartamento</th>\n",
              "    </tr>\n",
              "  </thead>\n",
              "  <tbody>\n",
              "  </tbody>\n",
              "</table>\n",
              "</div>"
            ],
            "text/plain": [
              "Empty DataFrame\n",
              "Columns: [Nombre, IDDepartamento]\n",
              "Index: []"
            ]
          },
          "metadata": {
            "tags": []
          },
          "execution_count": 486
        }
      ]
    },
    {
      "cell_type": "code",
      "metadata": {
        "id": "ZH9fu-ZuvL9r",
        "outputId": "3c5d44aa-9b3c-4869-c9c5-20dee9cf7c13",
        "colab": {
          "base_uri": "https://localhost:8080/",
          "height": 206
        }
      },
      "source": [
        "pd.merge(Empleado, Departamento, on='IDDepartamento') # En caso de haber múltiples columnas que hagan match"
      ],
      "execution_count": null,
      "outputs": [
        {
          "output_type": "execute_result",
          "data": {
            "text/html": [
              "<div>\n",
              "<style scoped>\n",
              "    .dataframe tbody tr th:only-of-type {\n",
              "        vertical-align: middle;\n",
              "    }\n",
              "\n",
              "    .dataframe tbody tr th {\n",
              "        vertical-align: top;\n",
              "    }\n",
              "\n",
              "    .dataframe thead th {\n",
              "        text-align: right;\n",
              "    }\n",
              "</style>\n",
              "<table border=\"1\" class=\"dataframe\">\n",
              "  <thead>\n",
              "    <tr style=\"text-align: right;\">\n",
              "      <th></th>\n",
              "      <th>Nombre_x</th>\n",
              "      <th>IDDepartamento</th>\n",
              "      <th>Nombre_y</th>\n",
              "    </tr>\n",
              "  </thead>\n",
              "  <tbody>\n",
              "    <tr>\n",
              "      <th>0</th>\n",
              "      <td>Andrade</td>\n",
              "      <td>31</td>\n",
              "      <td>Ventas</td>\n",
              "    </tr>\n",
              "    <tr>\n",
              "      <th>1</th>\n",
              "      <td>Jordán</td>\n",
              "      <td>33</td>\n",
              "      <td>Ingeniería</td>\n",
              "    </tr>\n",
              "    <tr>\n",
              "      <th>2</th>\n",
              "      <td>Steinberg</td>\n",
              "      <td>33</td>\n",
              "      <td>Ingeniería</td>\n",
              "    </tr>\n",
              "    <tr>\n",
              "      <th>3</th>\n",
              "      <td>Róbinson</td>\n",
              "      <td>34</td>\n",
              "      <td>Producción</td>\n",
              "    </tr>\n",
              "    <tr>\n",
              "      <th>4</th>\n",
              "      <td>Zolano</td>\n",
              "      <td>34</td>\n",
              "      <td>Producción</td>\n",
              "    </tr>\n",
              "  </tbody>\n",
              "</table>\n",
              "</div>"
            ],
            "text/plain": [
              "    Nombre_x  IDDepartamento    Nombre_y\n",
              "0    Andrade              31      Ventas\n",
              "1     Jordán              33  Ingeniería\n",
              "2  Steinberg              33  Ingeniería\n",
              "3   Róbinson              34  Producción\n",
              "4     Zolano              34  Producción"
            ]
          },
          "metadata": {
            "tags": []
          },
          "execution_count": 487
        }
      ]
    },
    {
      "cell_type": "code",
      "metadata": {
        "id": "zCU-8LrpteW1",
        "outputId": "c97baeea-d4e8-434e-a247-d58c3e6e109b",
        "colab": {
          "base_uri": "https://localhost:8080/",
          "height": 206
        }
      },
      "source": [
        "# Prefijos para distiguir variables\n",
        "pd.merge(Empleado, Departamento, on='IDDepartamento', suffixes=('_emp','_dep')) # Sufijo personalizado"
      ],
      "execution_count": null,
      "outputs": [
        {
          "output_type": "execute_result",
          "data": {
            "text/html": [
              "<div>\n",
              "<style scoped>\n",
              "    .dataframe tbody tr th:only-of-type {\n",
              "        vertical-align: middle;\n",
              "    }\n",
              "\n",
              "    .dataframe tbody tr th {\n",
              "        vertical-align: top;\n",
              "    }\n",
              "\n",
              "    .dataframe thead th {\n",
              "        text-align: right;\n",
              "    }\n",
              "</style>\n",
              "<table border=\"1\" class=\"dataframe\">\n",
              "  <thead>\n",
              "    <tr style=\"text-align: right;\">\n",
              "      <th></th>\n",
              "      <th>Nombre_emp</th>\n",
              "      <th>IDDepartamento</th>\n",
              "      <th>Nombre_dep</th>\n",
              "    </tr>\n",
              "  </thead>\n",
              "  <tbody>\n",
              "    <tr>\n",
              "      <th>0</th>\n",
              "      <td>Andrade</td>\n",
              "      <td>31</td>\n",
              "      <td>Ventas</td>\n",
              "    </tr>\n",
              "    <tr>\n",
              "      <th>1</th>\n",
              "      <td>Jordán</td>\n",
              "      <td>33</td>\n",
              "      <td>Ingeniería</td>\n",
              "    </tr>\n",
              "    <tr>\n",
              "      <th>2</th>\n",
              "      <td>Steinberg</td>\n",
              "      <td>33</td>\n",
              "      <td>Ingeniería</td>\n",
              "    </tr>\n",
              "    <tr>\n",
              "      <th>3</th>\n",
              "      <td>Róbinson</td>\n",
              "      <td>34</td>\n",
              "      <td>Producción</td>\n",
              "    </tr>\n",
              "    <tr>\n",
              "      <th>4</th>\n",
              "      <td>Zolano</td>\n",
              "      <td>34</td>\n",
              "      <td>Producción</td>\n",
              "    </tr>\n",
              "  </tbody>\n",
              "</table>\n",
              "</div>"
            ],
            "text/plain": [
              "  Nombre_emp  IDDepartamento  Nombre_dep\n",
              "0    Andrade              31      Ventas\n",
              "1     Jordán              33  Ingeniería\n",
              "2  Steinberg              33  Ingeniería\n",
              "3   Róbinson              34  Producción\n",
              "4     Zolano              34  Producción"
            ]
          },
          "metadata": {
            "tags": []
          },
          "execution_count": 488
        }
      ]
    },
    {
      "cell_type": "code",
      "metadata": {
        "id": "F2vWSSPGthZ0",
        "outputId": "42cc2616-dc4b-48e9-c1e6-ed9eb6d20159",
        "colab": {
          "base_uri": "https://localhost:8080/",
          "height": 225
        }
      },
      "source": [
        "# Columnas para match con diferente nombre\n",
        "Empleado = pd.DataFrame({'Apellido' : ['Andrade', 'Jordán', 'Steinberg', 'Róbinson', 'Zolano', 'Gaspar'],\n",
        "                         'IDDepartamento' : [31, 33, 33, 34, 34, 36]})\n",
        "\n",
        "\n",
        "Departamento = pd.DataFrame({'NombreDepartamento': ['Ventas', 'Ingeniería', 'Producción', 'Mercadeo'],\n",
        "                             'IDDepartamento2': [31, 33, 34, 35]})\n",
        "print(Empleado)\n",
        "print(Departamento)"
      ],
      "execution_count": null,
      "outputs": [
        {
          "output_type": "stream",
          "text": [
            "    Apellido  IDDepartamento\n",
            "0    Andrade              31\n",
            "1     Jordán              33\n",
            "2  Steinberg              33\n",
            "3   Róbinson              34\n",
            "4     Zolano              34\n",
            "5     Gaspar              36\n",
            "  NombreDepartamento  IDDepartamento2\n",
            "0             Ventas               31\n",
            "1         Ingeniería               33\n",
            "2         Producción               34\n",
            "3           Mercadeo               35\n"
          ],
          "name": "stdout"
        }
      ]
    },
    {
      "cell_type": "code",
      "metadata": {
        "id": "P5VF-0Tjwa1W"
      },
      "source": [
        "# Error, no hay nada igual entre ambas tablas\n",
        "#pd.merge(Empleado, Departamento)"
      ],
      "execution_count": null,
      "outputs": []
    },
    {
      "cell_type": "code",
      "metadata": {
        "id": "TYYFQdefwctt",
        "outputId": "cdcb2b4b-5e46-44af-c6e1-36c023b92d45",
        "colab": {
          "base_uri": "https://localhost:8080/",
          "height": 206
        }
      },
      "source": [
        "pd.merge(Empleado, Departamento, left_on='IDDepartamento', right_on='IDDepartamento2') "
      ],
      "execution_count": null,
      "outputs": [
        {
          "output_type": "execute_result",
          "data": {
            "text/html": [
              "<div>\n",
              "<style scoped>\n",
              "    .dataframe tbody tr th:only-of-type {\n",
              "        vertical-align: middle;\n",
              "    }\n",
              "\n",
              "    .dataframe tbody tr th {\n",
              "        vertical-align: top;\n",
              "    }\n",
              "\n",
              "    .dataframe thead th {\n",
              "        text-align: right;\n",
              "    }\n",
              "</style>\n",
              "<table border=\"1\" class=\"dataframe\">\n",
              "  <thead>\n",
              "    <tr style=\"text-align: right;\">\n",
              "      <th></th>\n",
              "      <th>Apellido</th>\n",
              "      <th>IDDepartamento</th>\n",
              "      <th>NombreDepartamento</th>\n",
              "      <th>IDDepartamento2</th>\n",
              "    </tr>\n",
              "  </thead>\n",
              "  <tbody>\n",
              "    <tr>\n",
              "      <th>0</th>\n",
              "      <td>Andrade</td>\n",
              "      <td>31</td>\n",
              "      <td>Ventas</td>\n",
              "      <td>31</td>\n",
              "    </tr>\n",
              "    <tr>\n",
              "      <th>1</th>\n",
              "      <td>Jordán</td>\n",
              "      <td>33</td>\n",
              "      <td>Ingeniería</td>\n",
              "      <td>33</td>\n",
              "    </tr>\n",
              "    <tr>\n",
              "      <th>2</th>\n",
              "      <td>Steinberg</td>\n",
              "      <td>33</td>\n",
              "      <td>Ingeniería</td>\n",
              "      <td>33</td>\n",
              "    </tr>\n",
              "    <tr>\n",
              "      <th>3</th>\n",
              "      <td>Róbinson</td>\n",
              "      <td>34</td>\n",
              "      <td>Producción</td>\n",
              "      <td>34</td>\n",
              "    </tr>\n",
              "    <tr>\n",
              "      <th>4</th>\n",
              "      <td>Zolano</td>\n",
              "      <td>34</td>\n",
              "      <td>Producción</td>\n",
              "      <td>34</td>\n",
              "    </tr>\n",
              "  </tbody>\n",
              "</table>\n",
              "</div>"
            ],
            "text/plain": [
              "    Apellido  IDDepartamento NombreDepartamento  IDDepartamento2\n",
              "0    Andrade              31             Ventas               31\n",
              "1     Jordán              33         Ingeniería               33\n",
              "2  Steinberg              33         Ingeniería               33\n",
              "3   Róbinson              34         Producción               34\n",
              "4     Zolano              34         Producción               34"
            ]
          },
          "metadata": {
            "tags": []
          },
          "execution_count": 573
        }
      ]
    },
    {
      "cell_type": "markdown",
      "metadata": {
        "id": "mM8taT7-tk-F"
      },
      "source": [
        "##### Join por la indexación"
      ]
    },
    {
      "cell_type": "code",
      "metadata": {
        "id": "rAOhAZN4tkS8",
        "outputId": "8cdaaef6-6659-4e25-9979-c6ede8c85931",
        "colab": {
          "base_uri": "https://localhost:8080/",
          "height": 269
        }
      },
      "source": [
        "Empleado2 = Empleado.copy()\n",
        "Empleado2.index = Empleado2.IDDepartamento\n",
        "Empleado2"
      ],
      "execution_count": null,
      "outputs": [
        {
          "output_type": "execute_result",
          "data": {
            "text/html": [
              "<div>\n",
              "<style scoped>\n",
              "    .dataframe tbody tr th:only-of-type {\n",
              "        vertical-align: middle;\n",
              "    }\n",
              "\n",
              "    .dataframe tbody tr th {\n",
              "        vertical-align: top;\n",
              "    }\n",
              "\n",
              "    .dataframe thead th {\n",
              "        text-align: right;\n",
              "    }\n",
              "</style>\n",
              "<table border=\"1\" class=\"dataframe\">\n",
              "  <thead>\n",
              "    <tr style=\"text-align: right;\">\n",
              "      <th></th>\n",
              "      <th>Apellido</th>\n",
              "      <th>IDDepartamento</th>\n",
              "    </tr>\n",
              "    <tr>\n",
              "      <th>IDDepartamento</th>\n",
              "      <th></th>\n",
              "      <th></th>\n",
              "    </tr>\n",
              "  </thead>\n",
              "  <tbody>\n",
              "    <tr>\n",
              "      <th>31</th>\n",
              "      <td>Andrade</td>\n",
              "      <td>31</td>\n",
              "    </tr>\n",
              "    <tr>\n",
              "      <th>33</th>\n",
              "      <td>Jordán</td>\n",
              "      <td>33</td>\n",
              "    </tr>\n",
              "    <tr>\n",
              "      <th>33</th>\n",
              "      <td>Steinberg</td>\n",
              "      <td>33</td>\n",
              "    </tr>\n",
              "    <tr>\n",
              "      <th>34</th>\n",
              "      <td>Róbinson</td>\n",
              "      <td>34</td>\n",
              "    </tr>\n",
              "    <tr>\n",
              "      <th>34</th>\n",
              "      <td>Zolano</td>\n",
              "      <td>34</td>\n",
              "    </tr>\n",
              "    <tr>\n",
              "      <th>36</th>\n",
              "      <td>Gaspar</td>\n",
              "      <td>36</td>\n",
              "    </tr>\n",
              "  </tbody>\n",
              "</table>\n",
              "</div>"
            ],
            "text/plain": [
              "                 Apellido  IDDepartamento\n",
              "IDDepartamento                           \n",
              "31                Andrade              31\n",
              "33                 Jordán              33\n",
              "33              Steinberg              33\n",
              "34               Róbinson              34\n",
              "34                 Zolano              34\n",
              "36                 Gaspar              36"
            ]
          },
          "metadata": {
            "tags": []
          },
          "execution_count": 492
        }
      ]
    },
    {
      "cell_type": "code",
      "metadata": {
        "id": "JEWSQOBbjE_A",
        "outputId": "e53f9542-b9b4-4b55-805d-1471ba7e1856",
        "colab": {
          "base_uri": "https://localhost:8080/",
          "height": 206
        }
      },
      "source": [
        "Departamento2 = Departamento.copy()\n",
        "Departamento2.index = Departamento2.IDDepartamento2\n",
        "Departamento2"
      ],
      "execution_count": null,
      "outputs": [
        {
          "output_type": "execute_result",
          "data": {
            "text/html": [
              "<div>\n",
              "<style scoped>\n",
              "    .dataframe tbody tr th:only-of-type {\n",
              "        vertical-align: middle;\n",
              "    }\n",
              "\n",
              "    .dataframe tbody tr th {\n",
              "        vertical-align: top;\n",
              "    }\n",
              "\n",
              "    .dataframe thead th {\n",
              "        text-align: right;\n",
              "    }\n",
              "</style>\n",
              "<table border=\"1\" class=\"dataframe\">\n",
              "  <thead>\n",
              "    <tr style=\"text-align: right;\">\n",
              "      <th></th>\n",
              "      <th>NombreDepartamento</th>\n",
              "      <th>IDDepartamento2</th>\n",
              "    </tr>\n",
              "    <tr>\n",
              "      <th>IDDepartamento2</th>\n",
              "      <th></th>\n",
              "      <th></th>\n",
              "    </tr>\n",
              "  </thead>\n",
              "  <tbody>\n",
              "    <tr>\n",
              "      <th>31</th>\n",
              "      <td>Ventas</td>\n",
              "      <td>31</td>\n",
              "    </tr>\n",
              "    <tr>\n",
              "      <th>33</th>\n",
              "      <td>Ingeniería</td>\n",
              "      <td>33</td>\n",
              "    </tr>\n",
              "    <tr>\n",
              "      <th>34</th>\n",
              "      <td>Producción</td>\n",
              "      <td>34</td>\n",
              "    </tr>\n",
              "    <tr>\n",
              "      <th>35</th>\n",
              "      <td>Mercadeo</td>\n",
              "      <td>35</td>\n",
              "    </tr>\n",
              "  </tbody>\n",
              "</table>\n",
              "</div>"
            ],
            "text/plain": [
              "                NombreDepartamento  IDDepartamento2\n",
              "IDDepartamento2                                    \n",
              "31                          Ventas               31\n",
              "33                      Ingeniería               33\n",
              "34                      Producción               34\n",
              "35                        Mercadeo               35"
            ]
          },
          "metadata": {
            "tags": []
          },
          "execution_count": 493
        }
      ]
    },
    {
      "cell_type": "code",
      "metadata": {
        "id": "prVlt4NojKI8",
        "outputId": "e0b396a0-c0db-46cd-b128-14abb295e727",
        "colab": {
          "base_uri": "https://localhost:8080/",
          "height": 269
        }
      },
      "source": [
        "Empleado2 = Empleado2[['Apellido']]\n",
        "Empleado2"
      ],
      "execution_count": null,
      "outputs": [
        {
          "output_type": "execute_result",
          "data": {
            "text/html": [
              "<div>\n",
              "<style scoped>\n",
              "    .dataframe tbody tr th:only-of-type {\n",
              "        vertical-align: middle;\n",
              "    }\n",
              "\n",
              "    .dataframe tbody tr th {\n",
              "        vertical-align: top;\n",
              "    }\n",
              "\n",
              "    .dataframe thead th {\n",
              "        text-align: right;\n",
              "    }\n",
              "</style>\n",
              "<table border=\"1\" class=\"dataframe\">\n",
              "  <thead>\n",
              "    <tr style=\"text-align: right;\">\n",
              "      <th></th>\n",
              "      <th>Apellido</th>\n",
              "    </tr>\n",
              "    <tr>\n",
              "      <th>IDDepartamento</th>\n",
              "      <th></th>\n",
              "    </tr>\n",
              "  </thead>\n",
              "  <tbody>\n",
              "    <tr>\n",
              "      <th>31</th>\n",
              "      <td>Andrade</td>\n",
              "    </tr>\n",
              "    <tr>\n",
              "      <th>33</th>\n",
              "      <td>Jordán</td>\n",
              "    </tr>\n",
              "    <tr>\n",
              "      <th>33</th>\n",
              "      <td>Steinberg</td>\n",
              "    </tr>\n",
              "    <tr>\n",
              "      <th>34</th>\n",
              "      <td>Róbinson</td>\n",
              "    </tr>\n",
              "    <tr>\n",
              "      <th>34</th>\n",
              "      <td>Zolano</td>\n",
              "    </tr>\n",
              "    <tr>\n",
              "      <th>36</th>\n",
              "      <td>Gaspar</td>\n",
              "    </tr>\n",
              "  </tbody>\n",
              "</table>\n",
              "</div>"
            ],
            "text/plain": [
              "                 Apellido\n",
              "IDDepartamento           \n",
              "31                Andrade\n",
              "33                 Jordán\n",
              "33              Steinberg\n",
              "34               Róbinson\n",
              "34                 Zolano\n",
              "36                 Gaspar"
            ]
          },
          "metadata": {
            "tags": []
          },
          "execution_count": 494
        }
      ]
    },
    {
      "cell_type": "code",
      "metadata": {
        "id": "hjQOVNKsjPt3",
        "outputId": "312edc67-5118-475a-8e73-eedf8b452ac1",
        "colab": {
          "base_uri": "https://localhost:8080/",
          "height": 206
        }
      },
      "source": [
        "Departamento2 = Departamento2[['NombreDepartamento']]\n",
        "Departamento2"
      ],
      "execution_count": null,
      "outputs": [
        {
          "output_type": "execute_result",
          "data": {
            "text/html": [
              "<div>\n",
              "<style scoped>\n",
              "    .dataframe tbody tr th:only-of-type {\n",
              "        vertical-align: middle;\n",
              "    }\n",
              "\n",
              "    .dataframe tbody tr th {\n",
              "        vertical-align: top;\n",
              "    }\n",
              "\n",
              "    .dataframe thead th {\n",
              "        text-align: right;\n",
              "    }\n",
              "</style>\n",
              "<table border=\"1\" class=\"dataframe\">\n",
              "  <thead>\n",
              "    <tr style=\"text-align: right;\">\n",
              "      <th></th>\n",
              "      <th>NombreDepartamento</th>\n",
              "    </tr>\n",
              "    <tr>\n",
              "      <th>IDDepartamento2</th>\n",
              "      <th></th>\n",
              "    </tr>\n",
              "  </thead>\n",
              "  <tbody>\n",
              "    <tr>\n",
              "      <th>31</th>\n",
              "      <td>Ventas</td>\n",
              "    </tr>\n",
              "    <tr>\n",
              "      <th>33</th>\n",
              "      <td>Ingeniería</td>\n",
              "    </tr>\n",
              "    <tr>\n",
              "      <th>34</th>\n",
              "      <td>Producción</td>\n",
              "    </tr>\n",
              "    <tr>\n",
              "      <th>35</th>\n",
              "      <td>Mercadeo</td>\n",
              "    </tr>\n",
              "  </tbody>\n",
              "</table>\n",
              "</div>"
            ],
            "text/plain": [
              "                NombreDepartamento\n",
              "IDDepartamento2                   \n",
              "31                          Ventas\n",
              "33                      Ingeniería\n",
              "34                      Producción\n",
              "35                        Mercadeo"
            ]
          },
          "metadata": {
            "tags": []
          },
          "execution_count": 495
        }
      ]
    },
    {
      "cell_type": "code",
      "metadata": {
        "id": "-kTPuaTbyBPQ",
        "outputId": "b463ef21-584b-4feb-b589-58db89689435",
        "colab": {
          "base_uri": "https://localhost:8080/",
          "height": 243
        }
      },
      "source": [
        "print(Empleado)\n",
        "print('-' * 35)\n",
        "print(Departamento)"
      ],
      "execution_count": null,
      "outputs": [
        {
          "output_type": "stream",
          "text": [
            "    Apellido  IDDepartamento\n",
            "0    Andrade              31\n",
            "1     Jordán              33\n",
            "2  Steinberg              33\n",
            "3   Róbinson              34\n",
            "4     Zolano              34\n",
            "5     Gaspar              36\n",
            "-----------------------------------\n",
            "  NombreDepartamento  IDDepartamento2\n",
            "0             Ventas               31\n",
            "1         Ingeniería               33\n",
            "2         Producción               34\n",
            "3           Mercadeo               35\n"
          ],
          "name": "stdout"
        }
      ]
    },
    {
      "cell_type": "code",
      "metadata": {
        "id": "Fmhu0l4xxlmt",
        "outputId": "bf1088e3-4680-4205-ef54-3ba2b47adcae",
        "colab": {
          "base_uri": "https://localhost:8080/",
          "height": 278
        }
      },
      "source": [
        "print(Empleado2)\n",
        "print('-' * 35)\n",
        "print(Departamento2)"
      ],
      "execution_count": null,
      "outputs": [
        {
          "output_type": "stream",
          "text": [
            "                 Apellido\n",
            "IDDepartamento           \n",
            "31                Andrade\n",
            "33                 Jordán\n",
            "33              Steinberg\n",
            "34               Róbinson\n",
            "34                 Zolano\n",
            "36                 Gaspar\n",
            "-----------------------------------\n",
            "                NombreDepartamento\n",
            "IDDepartamento2                   \n",
            "31                          Ventas\n",
            "33                      Ingeniería\n",
            "34                      Producción\n",
            "35                        Mercadeo\n"
          ],
          "name": "stdout"
        }
      ]
    },
    {
      "cell_type": "code",
      "metadata": {
        "id": "8lfse9DkxoCX",
        "outputId": "f6f4637b-7998-4062-df78-9f0b29cb3016",
        "colab": {
          "base_uri": "https://localhost:8080/",
          "height": 206
        }
      },
      "source": [
        "pd.merge(Empleado2, Departamento2, left_index=True, right_index=True)"
      ],
      "execution_count": null,
      "outputs": [
        {
          "output_type": "execute_result",
          "data": {
            "text/html": [
              "<div>\n",
              "<style scoped>\n",
              "    .dataframe tbody tr th:only-of-type {\n",
              "        vertical-align: middle;\n",
              "    }\n",
              "\n",
              "    .dataframe tbody tr th {\n",
              "        vertical-align: top;\n",
              "    }\n",
              "\n",
              "    .dataframe thead th {\n",
              "        text-align: right;\n",
              "    }\n",
              "</style>\n",
              "<table border=\"1\" class=\"dataframe\">\n",
              "  <thead>\n",
              "    <tr style=\"text-align: right;\">\n",
              "      <th></th>\n",
              "      <th>Apellido</th>\n",
              "      <th>NombreDepartamento</th>\n",
              "    </tr>\n",
              "  </thead>\n",
              "  <tbody>\n",
              "    <tr>\n",
              "      <th>31</th>\n",
              "      <td>Andrade</td>\n",
              "      <td>Ventas</td>\n",
              "    </tr>\n",
              "    <tr>\n",
              "      <th>33</th>\n",
              "      <td>Jordán</td>\n",
              "      <td>Ingeniería</td>\n",
              "    </tr>\n",
              "    <tr>\n",
              "      <th>33</th>\n",
              "      <td>Steinberg</td>\n",
              "      <td>Ingeniería</td>\n",
              "    </tr>\n",
              "    <tr>\n",
              "      <th>34</th>\n",
              "      <td>Róbinson</td>\n",
              "      <td>Producción</td>\n",
              "    </tr>\n",
              "    <tr>\n",
              "      <th>34</th>\n",
              "      <td>Zolano</td>\n",
              "      <td>Producción</td>\n",
              "    </tr>\n",
              "  </tbody>\n",
              "</table>\n",
              "</div>"
            ],
            "text/plain": [
              "     Apellido NombreDepartamento\n",
              "31    Andrade             Ventas\n",
              "33     Jordán         Ingeniería\n",
              "33  Steinberg         Ingeniería\n",
              "34   Róbinson         Producción\n",
              "34     Zolano         Producción"
            ]
          },
          "metadata": {
            "tags": []
          },
          "execution_count": 498
        }
      ]
    },
    {
      "cell_type": "markdown",
      "metadata": {
        "id": "IJmKz2Z4tyK0"
      },
      "source": [
        "## Añadir filas o columnas a dataframes DataFrames y Series\n",
        "* Por inserción directa\n",
        "* Por Concatenación"
      ]
    },
    {
      "cell_type": "code",
      "metadata": {
        "id": "th7ulH0JuFlk",
        "outputId": "e5b40136-9b72-413a-e258-faeca42625a4",
        "colab": {
          "base_uri": "https://localhost:8080/",
          "height": 238
        }
      },
      "source": [
        "# Añadir columna\n",
        "\n",
        "Empleado = pd.DataFrame({'Apellido' : ['Andrade', 'Jordán', 'Steinberg', 'Róbinson', 'Zolano', 'Gaspar'],\n",
        "                         'IDDepartamento' : [31, 33, 33, 34, 34, 36]})\n",
        "Empleado"
      ],
      "execution_count": null,
      "outputs": [
        {
          "output_type": "execute_result",
          "data": {
            "text/html": [
              "<div>\n",
              "<style scoped>\n",
              "    .dataframe tbody tr th:only-of-type {\n",
              "        vertical-align: middle;\n",
              "    }\n",
              "\n",
              "    .dataframe tbody tr th {\n",
              "        vertical-align: top;\n",
              "    }\n",
              "\n",
              "    .dataframe thead th {\n",
              "        text-align: right;\n",
              "    }\n",
              "</style>\n",
              "<table border=\"1\" class=\"dataframe\">\n",
              "  <thead>\n",
              "    <tr style=\"text-align: right;\">\n",
              "      <th></th>\n",
              "      <th>Apellido</th>\n",
              "      <th>IDDepartamento</th>\n",
              "    </tr>\n",
              "  </thead>\n",
              "  <tbody>\n",
              "    <tr>\n",
              "      <th>0</th>\n",
              "      <td>Andrade</td>\n",
              "      <td>31</td>\n",
              "    </tr>\n",
              "    <tr>\n",
              "      <th>1</th>\n",
              "      <td>Jordán</td>\n",
              "      <td>33</td>\n",
              "    </tr>\n",
              "    <tr>\n",
              "      <th>2</th>\n",
              "      <td>Steinberg</td>\n",
              "      <td>33</td>\n",
              "    </tr>\n",
              "    <tr>\n",
              "      <th>3</th>\n",
              "      <td>Róbinson</td>\n",
              "      <td>34</td>\n",
              "    </tr>\n",
              "    <tr>\n",
              "      <th>4</th>\n",
              "      <td>Zolano</td>\n",
              "      <td>34</td>\n",
              "    </tr>\n",
              "    <tr>\n",
              "      <th>5</th>\n",
              "      <td>Gaspar</td>\n",
              "      <td>36</td>\n",
              "    </tr>\n",
              "  </tbody>\n",
              "</table>\n",
              "</div>"
            ],
            "text/plain": [
              "    Apellido  IDDepartamento\n",
              "0    Andrade              31\n",
              "1     Jordán              33\n",
              "2  Steinberg              33\n",
              "3   Róbinson              34\n",
              "4     Zolano              34\n",
              "5     Gaspar              36"
            ]
          },
          "metadata": {
            "tags": []
          },
          "execution_count": 499
        }
      ]
    },
    {
      "cell_type": "code",
      "metadata": {
        "id": "dJSOtG6zmMqm",
        "outputId": "3686d694-6f8e-4050-dbc6-75a5501ff590",
        "colab": {
          "base_uri": "https://localhost:8080/",
          "height": 238
        }
      },
      "source": [
        "nombres = ['Francisco', 'Edgar', 'Marta', 'Luciana', 'David', 'María']\n",
        "\n",
        "# Asignación creando un objeto nuevo\n",
        "Empleado2 = Empleado.assign(Nombre=nombres)\n",
        "Empleado2\n",
        "\n",
        "# Asignación modificando el objeto original\n",
        "#Empleado['Nombre'] = nombres\n",
        "#Empleado"
      ],
      "execution_count": null,
      "outputs": [
        {
          "output_type": "execute_result",
          "data": {
            "text/html": [
              "<div>\n",
              "<style scoped>\n",
              "    .dataframe tbody tr th:only-of-type {\n",
              "        vertical-align: middle;\n",
              "    }\n",
              "\n",
              "    .dataframe tbody tr th {\n",
              "        vertical-align: top;\n",
              "    }\n",
              "\n",
              "    .dataframe thead th {\n",
              "        text-align: right;\n",
              "    }\n",
              "</style>\n",
              "<table border=\"1\" class=\"dataframe\">\n",
              "  <thead>\n",
              "    <tr style=\"text-align: right;\">\n",
              "      <th></th>\n",
              "      <th>Apellido</th>\n",
              "      <th>IDDepartamento</th>\n",
              "      <th>Nombre</th>\n",
              "    </tr>\n",
              "  </thead>\n",
              "  <tbody>\n",
              "    <tr>\n",
              "      <th>0</th>\n",
              "      <td>Andrade</td>\n",
              "      <td>31</td>\n",
              "      <td>Francisco</td>\n",
              "    </tr>\n",
              "    <tr>\n",
              "      <th>1</th>\n",
              "      <td>Jordán</td>\n",
              "      <td>33</td>\n",
              "      <td>Edgar</td>\n",
              "    </tr>\n",
              "    <tr>\n",
              "      <th>2</th>\n",
              "      <td>Steinberg</td>\n",
              "      <td>33</td>\n",
              "      <td>Marta</td>\n",
              "    </tr>\n",
              "    <tr>\n",
              "      <th>3</th>\n",
              "      <td>Róbinson</td>\n",
              "      <td>34</td>\n",
              "      <td>Luciana</td>\n",
              "    </tr>\n",
              "    <tr>\n",
              "      <th>4</th>\n",
              "      <td>Zolano</td>\n",
              "      <td>34</td>\n",
              "      <td>David</td>\n",
              "    </tr>\n",
              "    <tr>\n",
              "      <th>5</th>\n",
              "      <td>Gaspar</td>\n",
              "      <td>36</td>\n",
              "      <td>María</td>\n",
              "    </tr>\n",
              "  </tbody>\n",
              "</table>\n",
              "</div>"
            ],
            "text/plain": [
              "    Apellido  IDDepartamento     Nombre\n",
              "0    Andrade              31  Francisco\n",
              "1     Jordán              33      Edgar\n",
              "2  Steinberg              33      Marta\n",
              "3   Róbinson              34    Luciana\n",
              "4     Zolano              34      David\n",
              "5     Gaspar              36      María"
            ]
          },
          "metadata": {
            "tags": []
          },
          "execution_count": 500
        }
      ]
    },
    {
      "cell_type": "code",
      "metadata": {
        "id": "F2vttSL35lCf",
        "outputId": "31fb54ee-7281-4db7-de57-d38c82c96e9e",
        "colab": {
          "base_uri": "https://localhost:8080/",
          "height": 238
        }
      },
      "source": [
        "# Se ordenan las columnas de la tabla y se asigna el resultado de la tabla\n",
        "# ordenada a Empleado3\n",
        "Empleado3 = Empleado2[['Nombre', 'Apellido', 'IDDepartamento']]\n",
        "Empleado3"
      ],
      "execution_count": null,
      "outputs": [
        {
          "output_type": "execute_result",
          "data": {
            "text/html": [
              "<div>\n",
              "<style scoped>\n",
              "    .dataframe tbody tr th:only-of-type {\n",
              "        vertical-align: middle;\n",
              "    }\n",
              "\n",
              "    .dataframe tbody tr th {\n",
              "        vertical-align: top;\n",
              "    }\n",
              "\n",
              "    .dataframe thead th {\n",
              "        text-align: right;\n",
              "    }\n",
              "</style>\n",
              "<table border=\"1\" class=\"dataframe\">\n",
              "  <thead>\n",
              "    <tr style=\"text-align: right;\">\n",
              "      <th></th>\n",
              "      <th>Nombre</th>\n",
              "      <th>Apellido</th>\n",
              "      <th>IDDepartamento</th>\n",
              "    </tr>\n",
              "  </thead>\n",
              "  <tbody>\n",
              "    <tr>\n",
              "      <th>0</th>\n",
              "      <td>Francisco</td>\n",
              "      <td>Andrade</td>\n",
              "      <td>31</td>\n",
              "    </tr>\n",
              "    <tr>\n",
              "      <th>1</th>\n",
              "      <td>Edgar</td>\n",
              "      <td>Jordán</td>\n",
              "      <td>33</td>\n",
              "    </tr>\n",
              "    <tr>\n",
              "      <th>2</th>\n",
              "      <td>Marta</td>\n",
              "      <td>Steinberg</td>\n",
              "      <td>33</td>\n",
              "    </tr>\n",
              "    <tr>\n",
              "      <th>3</th>\n",
              "      <td>Luciana</td>\n",
              "      <td>Róbinson</td>\n",
              "      <td>34</td>\n",
              "    </tr>\n",
              "    <tr>\n",
              "      <th>4</th>\n",
              "      <td>David</td>\n",
              "      <td>Zolano</td>\n",
              "      <td>34</td>\n",
              "    </tr>\n",
              "    <tr>\n",
              "      <th>5</th>\n",
              "      <td>María</td>\n",
              "      <td>Gaspar</td>\n",
              "      <td>36</td>\n",
              "    </tr>\n",
              "  </tbody>\n",
              "</table>\n",
              "</div>"
            ],
            "text/plain": [
              "      Nombre   Apellido  IDDepartamento\n",
              "0  Francisco    Andrade              31\n",
              "1      Edgar     Jordán              33\n",
              "2      Marta  Steinberg              33\n",
              "3    Luciana   Róbinson              34\n",
              "4      David     Zolano              34\n",
              "5      María     Gaspar              36"
            ]
          },
          "metadata": {
            "tags": []
          },
          "execution_count": 501
        }
      ]
    },
    {
      "cell_type": "code",
      "metadata": {
        "id": "weEYTBovlj-9",
        "outputId": "46904220-4a12-41c5-a82d-9d727a54d162",
        "colab": {
          "base_uri": "https://localhost:8080/",
          "height": 238
        }
      },
      "source": [
        "# No se modifica la tabla original\n",
        "Empleado2"
      ],
      "execution_count": null,
      "outputs": [
        {
          "output_type": "execute_result",
          "data": {
            "text/html": [
              "<div>\n",
              "<style scoped>\n",
              "    .dataframe tbody tr th:only-of-type {\n",
              "        vertical-align: middle;\n",
              "    }\n",
              "\n",
              "    .dataframe tbody tr th {\n",
              "        vertical-align: top;\n",
              "    }\n",
              "\n",
              "    .dataframe thead th {\n",
              "        text-align: right;\n",
              "    }\n",
              "</style>\n",
              "<table border=\"1\" class=\"dataframe\">\n",
              "  <thead>\n",
              "    <tr style=\"text-align: right;\">\n",
              "      <th></th>\n",
              "      <th>Apellido</th>\n",
              "      <th>IDDepartamento</th>\n",
              "      <th>Nombre</th>\n",
              "    </tr>\n",
              "  </thead>\n",
              "  <tbody>\n",
              "    <tr>\n",
              "      <th>0</th>\n",
              "      <td>Andrade</td>\n",
              "      <td>31</td>\n",
              "      <td>Francisco</td>\n",
              "    </tr>\n",
              "    <tr>\n",
              "      <th>1</th>\n",
              "      <td>Jordán</td>\n",
              "      <td>33</td>\n",
              "      <td>Edgar</td>\n",
              "    </tr>\n",
              "    <tr>\n",
              "      <th>2</th>\n",
              "      <td>Steinberg</td>\n",
              "      <td>33</td>\n",
              "      <td>Marta</td>\n",
              "    </tr>\n",
              "    <tr>\n",
              "      <th>3</th>\n",
              "      <td>Róbinson</td>\n",
              "      <td>34</td>\n",
              "      <td>Luciana</td>\n",
              "    </tr>\n",
              "    <tr>\n",
              "      <th>4</th>\n",
              "      <td>Zolano</td>\n",
              "      <td>34</td>\n",
              "      <td>David</td>\n",
              "    </tr>\n",
              "    <tr>\n",
              "      <th>5</th>\n",
              "      <td>Gaspar</td>\n",
              "      <td>36</td>\n",
              "      <td>María</td>\n",
              "    </tr>\n",
              "  </tbody>\n",
              "</table>\n",
              "</div>"
            ],
            "text/plain": [
              "    Apellido  IDDepartamento     Nombre\n",
              "0    Andrade              31  Francisco\n",
              "1     Jordán              33      Edgar\n",
              "2  Steinberg              33      Marta\n",
              "3   Róbinson              34    Luciana\n",
              "4     Zolano              34      David\n",
              "5     Gaspar              36      María"
            ]
          },
          "metadata": {
            "tags": []
          },
          "execution_count": 502
        }
      ]
    },
    {
      "cell_type": "code",
      "metadata": {
        "id": "kWT3wt8445M2",
        "outputId": "987082f8-e029-4744-8bd2-4e9dc1dbeaab",
        "colab": {
          "base_uri": "https://localhost:8080/",
          "height": 278
        }
      },
      "source": [
        "print(Empleado2)\n",
        "print('-'*40)\n",
        "print(Empleado)\n"
      ],
      "execution_count": null,
      "outputs": [
        {
          "output_type": "stream",
          "text": [
            "    Apellido  IDDepartamento     Nombre\n",
            "0    Andrade              31  Francisco\n",
            "1     Jordán              33      Edgar\n",
            "2  Steinberg              33      Marta\n",
            "3   Róbinson              34    Luciana\n",
            "4     Zolano              34      David\n",
            "5     Gaspar              36      María\n",
            "----------------------------------------\n",
            "    Apellido  IDDepartamento\n",
            "0    Andrade              31\n",
            "1     Jordán              33\n",
            "2  Steinberg              33\n",
            "3   Róbinson              34\n",
            "4     Zolano              34\n",
            "5     Gaspar              36\n"
          ],
          "name": "stdout"
        }
      ]
    },
    {
      "cell_type": "code",
      "metadata": {
        "id": "JfFRL_Nym72s",
        "outputId": "7587bff4-e743-4ad7-8da5-63600e2f638a",
        "colab": {
          "base_uri": "https://localhost:8080/",
          "height": 238
        }
      },
      "source": [
        "Empleado = pd.DataFrame({'Apellido' : ['Andrade', 'Jordán', 'Steinberg', 'Róbinson', 'Zolano', 'Gaspar'],\n",
        "                         'IDDepartamento' : [31, 33, 33, 34, 34, 36]})\n",
        "Empleado"
      ],
      "execution_count": null,
      "outputs": [
        {
          "output_type": "execute_result",
          "data": {
            "text/html": [
              "<div>\n",
              "<style scoped>\n",
              "    .dataframe tbody tr th:only-of-type {\n",
              "        vertical-align: middle;\n",
              "    }\n",
              "\n",
              "    .dataframe tbody tr th {\n",
              "        vertical-align: top;\n",
              "    }\n",
              "\n",
              "    .dataframe thead th {\n",
              "        text-align: right;\n",
              "    }\n",
              "</style>\n",
              "<table border=\"1\" class=\"dataframe\">\n",
              "  <thead>\n",
              "    <tr style=\"text-align: right;\">\n",
              "      <th></th>\n",
              "      <th>Apellido</th>\n",
              "      <th>IDDepartamento</th>\n",
              "    </tr>\n",
              "  </thead>\n",
              "  <tbody>\n",
              "    <tr>\n",
              "      <th>0</th>\n",
              "      <td>Andrade</td>\n",
              "      <td>31</td>\n",
              "    </tr>\n",
              "    <tr>\n",
              "      <th>1</th>\n",
              "      <td>Jordán</td>\n",
              "      <td>33</td>\n",
              "    </tr>\n",
              "    <tr>\n",
              "      <th>2</th>\n",
              "      <td>Steinberg</td>\n",
              "      <td>33</td>\n",
              "    </tr>\n",
              "    <tr>\n",
              "      <th>3</th>\n",
              "      <td>Róbinson</td>\n",
              "      <td>34</td>\n",
              "    </tr>\n",
              "    <tr>\n",
              "      <th>4</th>\n",
              "      <td>Zolano</td>\n",
              "      <td>34</td>\n",
              "    </tr>\n",
              "    <tr>\n",
              "      <th>5</th>\n",
              "      <td>Gaspar</td>\n",
              "      <td>36</td>\n",
              "    </tr>\n",
              "  </tbody>\n",
              "</table>\n",
              "</div>"
            ],
            "text/plain": [
              "    Apellido  IDDepartamento\n",
              "0    Andrade              31\n",
              "1     Jordán              33\n",
              "2  Steinberg              33\n",
              "3   Róbinson              34\n",
              "4     Zolano              34\n",
              "5     Gaspar              36"
            ]
          },
          "metadata": {
            "tags": []
          },
          "execution_count": 504
        }
      ]
    },
    {
      "cell_type": "code",
      "metadata": {
        "id": "v_Hy6UE4nowt",
        "outputId": "2969b35d-e614-4c24-a8d5-ac04d638f34e",
        "colab": {
          "base_uri": "https://localhost:8080/",
          "height": 269
        }
      },
      "source": [
        "nuevo_empleado = [('Ospina', 33)]\n",
        "  \n",
        "# Asignación creando un objeto nuevo\n",
        "Empleado2 = Empleado.append(nuevo_empleado, ignore_index=True)\n",
        "Empleado2"
      ],
      "execution_count": null,
      "outputs": [
        {
          "output_type": "execute_result",
          "data": {
            "text/html": [
              "<div>\n",
              "<style scoped>\n",
              "    .dataframe tbody tr th:only-of-type {\n",
              "        vertical-align: middle;\n",
              "    }\n",
              "\n",
              "    .dataframe tbody tr th {\n",
              "        vertical-align: top;\n",
              "    }\n",
              "\n",
              "    .dataframe thead th {\n",
              "        text-align: right;\n",
              "    }\n",
              "</style>\n",
              "<table border=\"1\" class=\"dataframe\">\n",
              "  <thead>\n",
              "    <tr style=\"text-align: right;\">\n",
              "      <th></th>\n",
              "      <th>Apellido</th>\n",
              "      <th>IDDepartamento</th>\n",
              "      <th>0</th>\n",
              "      <th>1</th>\n",
              "    </tr>\n",
              "  </thead>\n",
              "  <tbody>\n",
              "    <tr>\n",
              "      <th>0</th>\n",
              "      <td>Andrade</td>\n",
              "      <td>31.0</td>\n",
              "      <td>NaN</td>\n",
              "      <td>NaN</td>\n",
              "    </tr>\n",
              "    <tr>\n",
              "      <th>1</th>\n",
              "      <td>Jordán</td>\n",
              "      <td>33.0</td>\n",
              "      <td>NaN</td>\n",
              "      <td>NaN</td>\n",
              "    </tr>\n",
              "    <tr>\n",
              "      <th>2</th>\n",
              "      <td>Steinberg</td>\n",
              "      <td>33.0</td>\n",
              "      <td>NaN</td>\n",
              "      <td>NaN</td>\n",
              "    </tr>\n",
              "    <tr>\n",
              "      <th>3</th>\n",
              "      <td>Róbinson</td>\n",
              "      <td>34.0</td>\n",
              "      <td>NaN</td>\n",
              "      <td>NaN</td>\n",
              "    </tr>\n",
              "    <tr>\n",
              "      <th>4</th>\n",
              "      <td>Zolano</td>\n",
              "      <td>34.0</td>\n",
              "      <td>NaN</td>\n",
              "      <td>NaN</td>\n",
              "    </tr>\n",
              "    <tr>\n",
              "      <th>5</th>\n",
              "      <td>Gaspar</td>\n",
              "      <td>36.0</td>\n",
              "      <td>NaN</td>\n",
              "      <td>NaN</td>\n",
              "    </tr>\n",
              "    <tr>\n",
              "      <th>6</th>\n",
              "      <td>NaN</td>\n",
              "      <td>NaN</td>\n",
              "      <td>Ospina</td>\n",
              "      <td>33.0</td>\n",
              "    </tr>\n",
              "  </tbody>\n",
              "</table>\n",
              "</div>"
            ],
            "text/plain": [
              "    Apellido  IDDepartamento       0     1\n",
              "0    Andrade            31.0     NaN   NaN\n",
              "1     Jordán            33.0     NaN   NaN\n",
              "2  Steinberg            33.0     NaN   NaN\n",
              "3   Róbinson            34.0     NaN   NaN\n",
              "4     Zolano            34.0     NaN   NaN\n",
              "5     Gaspar            36.0     NaN   NaN\n",
              "6        NaN             NaN  Ospina  33.0"
            ]
          },
          "metadata": {
            "tags": []
          },
          "execution_count": 505
        }
      ]
    },
    {
      "cell_type": "code",
      "metadata": {
        "id": "dGlVfQHlnKO7",
        "outputId": "913cfb8e-7be7-4046-e2be-60cb042cbe99",
        "colab": {
          "base_uri": "https://localhost:8080/",
          "height": 269
        }
      },
      "source": [
        "Empleado = pd.DataFrame({'Apellido' : ['Andrade', 'Jordán', 'Steinberg', 'Róbinson', 'Zolano', 'Gaspar'],\n",
        "                         'IDDepartamento' : [31, 33, 33, 34, 34, 36]})\n",
        "nuevo_empleado = [{'Apellido': 'Ospina', 'IDDepartamento': 33}]\n",
        "\n",
        "# Asignación creando un objeto nuevo\n",
        "Empleado2 = Empleado.append(nuevo_empleado, ignore_index=True)\n",
        "Empleado2"
      ],
      "execution_count": null,
      "outputs": [
        {
          "output_type": "execute_result",
          "data": {
            "text/html": [
              "<div>\n",
              "<style scoped>\n",
              "    .dataframe tbody tr th:only-of-type {\n",
              "        vertical-align: middle;\n",
              "    }\n",
              "\n",
              "    .dataframe tbody tr th {\n",
              "        vertical-align: top;\n",
              "    }\n",
              "\n",
              "    .dataframe thead th {\n",
              "        text-align: right;\n",
              "    }\n",
              "</style>\n",
              "<table border=\"1\" class=\"dataframe\">\n",
              "  <thead>\n",
              "    <tr style=\"text-align: right;\">\n",
              "      <th></th>\n",
              "      <th>Apellido</th>\n",
              "      <th>IDDepartamento</th>\n",
              "    </tr>\n",
              "  </thead>\n",
              "  <tbody>\n",
              "    <tr>\n",
              "      <th>0</th>\n",
              "      <td>Andrade</td>\n",
              "      <td>31</td>\n",
              "    </tr>\n",
              "    <tr>\n",
              "      <th>1</th>\n",
              "      <td>Jordán</td>\n",
              "      <td>33</td>\n",
              "    </tr>\n",
              "    <tr>\n",
              "      <th>2</th>\n",
              "      <td>Steinberg</td>\n",
              "      <td>33</td>\n",
              "    </tr>\n",
              "    <tr>\n",
              "      <th>3</th>\n",
              "      <td>Róbinson</td>\n",
              "      <td>34</td>\n",
              "    </tr>\n",
              "    <tr>\n",
              "      <th>4</th>\n",
              "      <td>Zolano</td>\n",
              "      <td>34</td>\n",
              "    </tr>\n",
              "    <tr>\n",
              "      <th>5</th>\n",
              "      <td>Gaspar</td>\n",
              "      <td>36</td>\n",
              "    </tr>\n",
              "    <tr>\n",
              "      <th>6</th>\n",
              "      <td>Ospina</td>\n",
              "      <td>33</td>\n",
              "    </tr>\n",
              "  </tbody>\n",
              "</table>\n",
              "</div>"
            ],
            "text/plain": [
              "    Apellido  IDDepartamento\n",
              "0    Andrade              31\n",
              "1     Jordán              33\n",
              "2  Steinberg              33\n",
              "3   Róbinson              34\n",
              "4     Zolano              34\n",
              "5     Gaspar              36\n",
              "6     Ospina              33"
            ]
          },
          "metadata": {
            "tags": []
          },
          "execution_count": 506
        }
      ]
    },
    {
      "cell_type": "code",
      "metadata": {
        "id": "LHS9OaXJndjj",
        "outputId": "8f5b7226-2a06-4194-86cd-ce99bd0212f6",
        "colab": {
          "base_uri": "https://localhost:8080/",
          "height": 269
        }
      },
      "source": [
        "Empleado = pd.DataFrame({'Apellido' : ['Andrade', 'Jordán', 'Steinberg', 'Róbinson', 'Zolano', 'Gaspar'],\n",
        "                         'IDDepartamento' : [31, 33, 33, 34, 34, 36]})\n",
        "\n",
        "# Asignación creando un objeto nuevo\n",
        "nuevo_empleado = pd.Series(['Ospina', 37], index=['Apellido', 'IDDepartamento'])\n",
        "Empleado2 = Empleado.append(nuevo_empleado, ignore_index=True)\n",
        "Empleado2"
      ],
      "execution_count": null,
      "outputs": [
        {
          "output_type": "execute_result",
          "data": {
            "text/html": [
              "<div>\n",
              "<style scoped>\n",
              "    .dataframe tbody tr th:only-of-type {\n",
              "        vertical-align: middle;\n",
              "    }\n",
              "\n",
              "    .dataframe tbody tr th {\n",
              "        vertical-align: top;\n",
              "    }\n",
              "\n",
              "    .dataframe thead th {\n",
              "        text-align: right;\n",
              "    }\n",
              "</style>\n",
              "<table border=\"1\" class=\"dataframe\">\n",
              "  <thead>\n",
              "    <tr style=\"text-align: right;\">\n",
              "      <th></th>\n",
              "      <th>Apellido</th>\n",
              "      <th>IDDepartamento</th>\n",
              "    </tr>\n",
              "  </thead>\n",
              "  <tbody>\n",
              "    <tr>\n",
              "      <th>0</th>\n",
              "      <td>Andrade</td>\n",
              "      <td>31</td>\n",
              "    </tr>\n",
              "    <tr>\n",
              "      <th>1</th>\n",
              "      <td>Jordán</td>\n",
              "      <td>33</td>\n",
              "    </tr>\n",
              "    <tr>\n",
              "      <th>2</th>\n",
              "      <td>Steinberg</td>\n",
              "      <td>33</td>\n",
              "    </tr>\n",
              "    <tr>\n",
              "      <th>3</th>\n",
              "      <td>Róbinson</td>\n",
              "      <td>34</td>\n",
              "    </tr>\n",
              "    <tr>\n",
              "      <th>4</th>\n",
              "      <td>Zolano</td>\n",
              "      <td>34</td>\n",
              "    </tr>\n",
              "    <tr>\n",
              "      <th>5</th>\n",
              "      <td>Gaspar</td>\n",
              "      <td>36</td>\n",
              "    </tr>\n",
              "    <tr>\n",
              "      <th>6</th>\n",
              "      <td>Ospina</td>\n",
              "      <td>37</td>\n",
              "    </tr>\n",
              "  </tbody>\n",
              "</table>\n",
              "</div>"
            ],
            "text/plain": [
              "    Apellido  IDDepartamento\n",
              "0    Andrade              31\n",
              "1     Jordán              33\n",
              "2  Steinberg              33\n",
              "3   Róbinson              34\n",
              "4     Zolano              34\n",
              "5     Gaspar              36\n",
              "6     Ospina              37"
            ]
          },
          "metadata": {
            "tags": []
          },
          "execution_count": 507
        }
      ]
    },
    {
      "cell_type": "code",
      "metadata": {
        "id": "ldcO5CzGnytz",
        "outputId": "b56dd771-69a6-46df-89e2-9dfafa91a2af",
        "colab": {
          "base_uri": "https://localhost:8080/",
          "height": 269
        }
      },
      "source": [
        "Empleado = pd.DataFrame({'Apellido' : ['Andrade', 'Jordán', 'Steinberg', 'Róbinson', 'Zolano', 'Gaspar'],\n",
        "                         'IDDepartamento' : [31, 33, 33, 34, 34, 36]})\n",
        "\n",
        "# Asignación modificando el objeto original\n",
        "Empleado.loc[6] = ['Ospina', 37]\n",
        "Empleado"
      ],
      "execution_count": null,
      "outputs": [
        {
          "output_type": "execute_result",
          "data": {
            "text/html": [
              "<div>\n",
              "<style scoped>\n",
              "    .dataframe tbody tr th:only-of-type {\n",
              "        vertical-align: middle;\n",
              "    }\n",
              "\n",
              "    .dataframe tbody tr th {\n",
              "        vertical-align: top;\n",
              "    }\n",
              "\n",
              "    .dataframe thead th {\n",
              "        text-align: right;\n",
              "    }\n",
              "</style>\n",
              "<table border=\"1\" class=\"dataframe\">\n",
              "  <thead>\n",
              "    <tr style=\"text-align: right;\">\n",
              "      <th></th>\n",
              "      <th>Apellido</th>\n",
              "      <th>IDDepartamento</th>\n",
              "    </tr>\n",
              "  </thead>\n",
              "  <tbody>\n",
              "    <tr>\n",
              "      <th>0</th>\n",
              "      <td>Andrade</td>\n",
              "      <td>31</td>\n",
              "    </tr>\n",
              "    <tr>\n",
              "      <th>1</th>\n",
              "      <td>Jordán</td>\n",
              "      <td>33</td>\n",
              "    </tr>\n",
              "    <tr>\n",
              "      <th>2</th>\n",
              "      <td>Steinberg</td>\n",
              "      <td>33</td>\n",
              "    </tr>\n",
              "    <tr>\n",
              "      <th>3</th>\n",
              "      <td>Róbinson</td>\n",
              "      <td>34</td>\n",
              "    </tr>\n",
              "    <tr>\n",
              "      <th>4</th>\n",
              "      <td>Zolano</td>\n",
              "      <td>34</td>\n",
              "    </tr>\n",
              "    <tr>\n",
              "      <th>5</th>\n",
              "      <td>Gaspar</td>\n",
              "      <td>36</td>\n",
              "    </tr>\n",
              "    <tr>\n",
              "      <th>6</th>\n",
              "      <td>Ospina</td>\n",
              "      <td>37</td>\n",
              "    </tr>\n",
              "  </tbody>\n",
              "</table>\n",
              "</div>"
            ],
            "text/plain": [
              "    Apellido  IDDepartamento\n",
              "0    Andrade              31\n",
              "1     Jordán              33\n",
              "2  Steinberg              33\n",
              "3   Róbinson              34\n",
              "4     Zolano              34\n",
              "5     Gaspar              36\n",
              "6     Ospina              37"
            ]
          },
          "metadata": {
            "tags": []
          },
          "execution_count": 508
        }
      ]
    },
    {
      "cell_type": "code",
      "metadata": {
        "id": "NROS7cyl5RZ3",
        "outputId": "af44af22-0c0d-48be-dfda-0aa9fe88693f",
        "colab": {
          "base_uri": "https://localhost:8080/",
          "height": 312
        }
      },
      "source": [
        "print(Empleado2)\n",
        "print('-'*40)\n",
        "print(Empleado)\n"
      ],
      "execution_count": null,
      "outputs": [
        {
          "output_type": "stream",
          "text": [
            "    Apellido  IDDepartamento\n",
            "0    Andrade              31\n",
            "1     Jordán              33\n",
            "2  Steinberg              33\n",
            "3   Róbinson              34\n",
            "4     Zolano              34\n",
            "5     Gaspar              36\n",
            "6     Ospina              37\n",
            "----------------------------------------\n",
            "    Apellido  IDDepartamento\n",
            "0    Andrade              31\n",
            "1     Jordán              33\n",
            "2  Steinberg              33\n",
            "3   Róbinson              34\n",
            "4     Zolano              34\n",
            "5     Gaspar              36\n",
            "6     Ospina              37\n"
          ],
          "name": "stdout"
        }
      ]
    },
    {
      "cell_type": "code",
      "metadata": {
        "id": "J3QMZw046Xaj",
        "outputId": "2c18fbd9-9331-4fa9-d3a0-454ed73511ae",
        "colab": {
          "base_uri": "https://localhost:8080/",
          "height": 34
        }
      },
      "source": [
        "# Corregir la ubicacion de los nuevos datos\n",
        "# Sin embargo se conserva el problema del indice '0'\n",
        "Empleado = pd.DataFrame({'Apellido' : ['Andrade', 'Jordán', 'Steinberg', 'Róbinson', 'Zolano', 'Gaspar'],\n",
        "                         'IDDepartamento' : [31, 33, 33, 34, 34, 36]})\n",
        "nuevo_empleado = [{'Apellido': 'Ospina', 'IDDepartamento': 33}]\n",
        "\n",
        "print(nuevo_empleado)\n",
        "\n",
        "Empleado2 = Empleado.append(nuevo_empleado, ignore_index=True)"
      ],
      "execution_count": null,
      "outputs": [
        {
          "output_type": "stream",
          "text": [
            "[{'Apellido': 'Ospina', 'IDDepartamento': 33}]\n"
          ],
          "name": "stdout"
        }
      ]
    },
    {
      "cell_type": "code",
      "metadata": {
        "id": "pByyQqSI6pTQ",
        "outputId": "5f2821de-e9a9-4508-c60d-edb837b5ed28",
        "colab": {
          "base_uri": "https://localhost:8080/",
          "height": 295
        }
      },
      "source": [
        "print(Empleado2)\n",
        "print('-'*40)\n",
        "print(Empleado)\n"
      ],
      "execution_count": null,
      "outputs": [
        {
          "output_type": "stream",
          "text": [
            "    Apellido  IDDepartamento\n",
            "0    Andrade              31\n",
            "1     Jordán              33\n",
            "2  Steinberg              33\n",
            "3   Róbinson              34\n",
            "4     Zolano              34\n",
            "5     Gaspar              36\n",
            "6     Ospina              33\n",
            "----------------------------------------\n",
            "    Apellido  IDDepartamento\n",
            "0    Andrade              31\n",
            "1     Jordán              33\n",
            "2  Steinberg              33\n",
            "3   Róbinson              34\n",
            "4     Zolano              34\n",
            "5     Gaspar              36\n"
          ],
          "name": "stdout"
        }
      ]
    },
    {
      "cell_type": "code",
      "metadata": {
        "id": "hZw0qRBJ605L",
        "outputId": "6aa3975d-f410-43f2-e39b-42dfdc4acbe6",
        "colab": {
          "base_uri": "https://localhost:8080/",
          "height": 86
        }
      },
      "source": [
        "Empleado = pd.DataFrame({'Apellido' : ['Andrade', 'Jordán', 'Steinberg', 'Róbinson', 'Zolano', 'Gaspar'],\n",
        "                         'IDDepartamento' : [31, 33, 33, 34, 34, 36]})\n",
        "\n",
        "nuevo_empleado = pd.Series(['Ospina', 37], index=['Apellido', 'IDDepartamento'])\n",
        "print(nuevo_empleado)\n",
        "print(nuevo_empleado.index)\n",
        "# Asignación creando un objeto nuevo\n",
        "Empleado2 = Empleado.append(nuevo_empleado, ignore_index=True)"
      ],
      "execution_count": null,
      "outputs": [
        {
          "output_type": "stream",
          "text": [
            "Apellido          Ospina\n",
            "IDDepartamento        37\n",
            "dtype: object\n",
            "Index(['Apellido', 'IDDepartamento'], dtype='object')\n"
          ],
          "name": "stdout"
        }
      ]
    },
    {
      "cell_type": "code",
      "metadata": {
        "id": "xPula4Hc699k",
        "outputId": "f3bd5fc8-bdaa-46d2-8a69-ffee417f5b8d",
        "colab": {
          "base_uri": "https://localhost:8080/",
          "height": 295
        }
      },
      "source": [
        "print(Empleado2)\n",
        "print('-'*40)\n",
        "print(Empleado)"
      ],
      "execution_count": null,
      "outputs": [
        {
          "output_type": "stream",
          "text": [
            "    Apellido  IDDepartamento\n",
            "0    Andrade              31\n",
            "1     Jordán              33\n",
            "2  Steinberg              33\n",
            "3   Róbinson              34\n",
            "4     Zolano              34\n",
            "5     Gaspar              36\n",
            "6     Ospina              37\n",
            "----------------------------------------\n",
            "    Apellido  IDDepartamento\n",
            "0    Andrade              31\n",
            "1     Jordán              33\n",
            "2  Steinberg              33\n",
            "3   Róbinson              34\n",
            "4     Zolano              34\n",
            "5     Gaspar              36\n"
          ],
          "name": "stdout"
        }
      ]
    },
    {
      "cell_type": "code",
      "metadata": {
        "id": "wjEuV1q274v6",
        "outputId": "1f868e81-140d-474c-9249-1d2e37f2d2e8",
        "colab": {
          "base_uri": "https://localhost:8080/",
          "height": 69
        }
      },
      "source": [
        "Empleado = pd.DataFrame({'Apellido' : ['Andrade', 'Jordán', 'Steinberg', 'Róbinson', 'Zolano', 'Gaspar'],\n",
        "                         'IDDepartamento' : [31, 33, 33, 34, 34, 36]})\n",
        "\n",
        "nuevo_empleado = pd.Series(['Ospina'], index=['Apellido'])\n",
        "print(nuevo_empleado)\n",
        "print(nuevo_empleado.index)\n",
        "# Asignación creando un objeto nuevo\n",
        "Empleado2 = Empleado.append(nuevo_empleado, ignore_index=True)"
      ],
      "execution_count": null,
      "outputs": [
        {
          "output_type": "stream",
          "text": [
            "Apellido    Ospina\n",
            "dtype: object\n",
            "Index(['Apellido'], dtype='object')\n"
          ],
          "name": "stdout"
        }
      ]
    },
    {
      "cell_type": "code",
      "metadata": {
        "id": "V07_lnr579I6",
        "outputId": "a642b517-d594-4f9f-ccf5-b791e5c1f2cb",
        "colab": {
          "base_uri": "https://localhost:8080/",
          "height": 295
        }
      },
      "source": [
        "print(Empleado2)\n",
        "print('-'*40)\n",
        "print(Empleado)"
      ],
      "execution_count": null,
      "outputs": [
        {
          "output_type": "stream",
          "text": [
            "    Apellido  IDDepartamento\n",
            "0    Andrade            31.0\n",
            "1     Jordán            33.0\n",
            "2  Steinberg            33.0\n",
            "3   Róbinson            34.0\n",
            "4     Zolano            34.0\n",
            "5     Gaspar            36.0\n",
            "6     Ospina             NaN\n",
            "----------------------------------------\n",
            "    Apellido  IDDepartamento\n",
            "0    Andrade              31\n",
            "1     Jordán              33\n",
            "2  Steinberg              33\n",
            "3   Róbinson              34\n",
            "4     Zolano              34\n",
            "5     Gaspar              36\n"
          ],
          "name": "stdout"
        }
      ]
    },
    {
      "cell_type": "code",
      "metadata": {
        "id": "bhe3lb0m8E4j",
        "outputId": "e5db8936-cade-436e-8ade-f08f804c3776",
        "colab": {
          "base_uri": "https://localhost:8080/",
          "height": 269
        }
      },
      "source": [
        "# Asignación modificando el objeto original\n",
        "Empleado.loc[6] = ['Ospina', 37]\n",
        "Empleado"
      ],
      "execution_count": null,
      "outputs": [
        {
          "output_type": "execute_result",
          "data": {
            "text/html": [
              "<div>\n",
              "<style scoped>\n",
              "    .dataframe tbody tr th:only-of-type {\n",
              "        vertical-align: middle;\n",
              "    }\n",
              "\n",
              "    .dataframe tbody tr th {\n",
              "        vertical-align: top;\n",
              "    }\n",
              "\n",
              "    .dataframe thead th {\n",
              "        text-align: right;\n",
              "    }\n",
              "</style>\n",
              "<table border=\"1\" class=\"dataframe\">\n",
              "  <thead>\n",
              "    <tr style=\"text-align: right;\">\n",
              "      <th></th>\n",
              "      <th>Apellido</th>\n",
              "      <th>IDDepartamento</th>\n",
              "    </tr>\n",
              "  </thead>\n",
              "  <tbody>\n",
              "    <tr>\n",
              "      <th>0</th>\n",
              "      <td>Andrade</td>\n",
              "      <td>31</td>\n",
              "    </tr>\n",
              "    <tr>\n",
              "      <th>1</th>\n",
              "      <td>Jordán</td>\n",
              "      <td>33</td>\n",
              "    </tr>\n",
              "    <tr>\n",
              "      <th>2</th>\n",
              "      <td>Steinberg</td>\n",
              "      <td>33</td>\n",
              "    </tr>\n",
              "    <tr>\n",
              "      <th>3</th>\n",
              "      <td>Róbinson</td>\n",
              "      <td>34</td>\n",
              "    </tr>\n",
              "    <tr>\n",
              "      <th>4</th>\n",
              "      <td>Zolano</td>\n",
              "      <td>34</td>\n",
              "    </tr>\n",
              "    <tr>\n",
              "      <th>5</th>\n",
              "      <td>Gaspar</td>\n",
              "      <td>36</td>\n",
              "    </tr>\n",
              "    <tr>\n",
              "      <th>6</th>\n",
              "      <td>Ospina</td>\n",
              "      <td>37</td>\n",
              "    </tr>\n",
              "  </tbody>\n",
              "</table>\n",
              "</div>"
            ],
            "text/plain": [
              "    Apellido  IDDepartamento\n",
              "0    Andrade              31\n",
              "1     Jordán              33\n",
              "2  Steinberg              33\n",
              "3   Róbinson              34\n",
              "4     Zolano              34\n",
              "5     Gaspar              36\n",
              "6     Ospina              37"
            ]
          },
          "metadata": {
            "tags": []
          },
          "execution_count": 516
        }
      ]
    },
    {
      "cell_type": "markdown",
      "metadata": {
        "id": "EDcR6i4P8iRn"
      },
      "source": [
        "## Boadcasting con Dataframes"
      ]
    },
    {
      "cell_type": "code",
      "metadata": {
        "id": "fdm8lD5k8h1n",
        "outputId": "b42f3e44-2b47-4b58-ea23-497ae5515ab2",
        "colab": {
          "base_uri": "https://localhost:8080/",
          "height": 206
        }
      },
      "source": [
        "Empleado = pd.DataFrame({'Apellido' : ['Andrade', 'Jordán', 'Steinberg', 'Róbinson', 'Zolano', 'Gaspar'],\n",
        "                         'IDDepartamento' : [31, 33, 33, 34, 34, 36]})\n",
        "Departamento = pd.DataFrame({'NombreDepartamento': ['Ventas', 'Ingeniería', 'Producción', 'Mercadeo'],\n",
        "                             'IDDepartamento': [31, 33, 34, 35]})\n",
        "\n",
        "Empleado['Edad'] = [20,23,45,48,56,32]\n",
        "\n",
        "Empleado['Edad_meses'] = Empleado['Edad'] * 12\n",
        "\n",
        "Empleado.drop(5)"
      ],
      "execution_count": null,
      "outputs": [
        {
          "output_type": "execute_result",
          "data": {
            "text/html": [
              "<div>\n",
              "<style scoped>\n",
              "    .dataframe tbody tr th:only-of-type {\n",
              "        vertical-align: middle;\n",
              "    }\n",
              "\n",
              "    .dataframe tbody tr th {\n",
              "        vertical-align: top;\n",
              "    }\n",
              "\n",
              "    .dataframe thead th {\n",
              "        text-align: right;\n",
              "    }\n",
              "</style>\n",
              "<table border=\"1\" class=\"dataframe\">\n",
              "  <thead>\n",
              "    <tr style=\"text-align: right;\">\n",
              "      <th></th>\n",
              "      <th>Apellido</th>\n",
              "      <th>IDDepartamento</th>\n",
              "      <th>Edad</th>\n",
              "      <th>Edad_meses</th>\n",
              "    </tr>\n",
              "  </thead>\n",
              "  <tbody>\n",
              "    <tr>\n",
              "      <th>0</th>\n",
              "      <td>Andrade</td>\n",
              "      <td>31</td>\n",
              "      <td>20</td>\n",
              "      <td>240</td>\n",
              "    </tr>\n",
              "    <tr>\n",
              "      <th>1</th>\n",
              "      <td>Jordán</td>\n",
              "      <td>33</td>\n",
              "      <td>23</td>\n",
              "      <td>276</td>\n",
              "    </tr>\n",
              "    <tr>\n",
              "      <th>2</th>\n",
              "      <td>Steinberg</td>\n",
              "      <td>33</td>\n",
              "      <td>45</td>\n",
              "      <td>540</td>\n",
              "    </tr>\n",
              "    <tr>\n",
              "      <th>3</th>\n",
              "      <td>Róbinson</td>\n",
              "      <td>34</td>\n",
              "      <td>48</td>\n",
              "      <td>576</td>\n",
              "    </tr>\n",
              "    <tr>\n",
              "      <th>4</th>\n",
              "      <td>Zolano</td>\n",
              "      <td>34</td>\n",
              "      <td>56</td>\n",
              "      <td>672</td>\n",
              "    </tr>\n",
              "  </tbody>\n",
              "</table>\n",
              "</div>"
            ],
            "text/plain": [
              "    Apellido  IDDepartamento  Edad  Edad_meses\n",
              "0    Andrade              31    20         240\n",
              "1     Jordán              33    23         276\n",
              "2  Steinberg              33    45         540\n",
              "3   Róbinson              34    48         576\n",
              "4     Zolano              34    56         672"
            ]
          },
          "metadata": {
            "tags": []
          },
          "execution_count": 517
        }
      ]
    },
    {
      "cell_type": "markdown",
      "metadata": {
        "id": "AdQxr2xx838a"
      },
      "source": [
        "### ¿Cuándo no usar Broadcasting?\n",
        "\n",
        "No se usa broadcasting cuando la operación es compleja"
      ]
    },
    {
      "cell_type": "code",
      "metadata": {
        "id": "hBTpIg5B87PN",
        "outputId": "491d7d88-dced-48a9-fd02-1a65bd1e5a00",
        "colab": {
          "base_uri": "https://localhost:8080/",
          "height": 238
        }
      },
      "source": [
        "df_merge = pd.merge(Empleado, Departamento, how='left')\n",
        "\n",
        "str_list = []\n",
        "\n",
        "for index, row in df_merge.iterrows():\n",
        "    str_list.append('El empleado {} trabaja en el departamento de {}'.format(row['Apellido'], \n",
        "                                                                             row['IDDepartamento']))\n",
        "    \n",
        "df_merge['Comentario'] = str_list\n",
        "df_merge"
      ],
      "execution_count": null,
      "outputs": [
        {
          "output_type": "execute_result",
          "data": {
            "text/html": [
              "<div>\n",
              "<style scoped>\n",
              "    .dataframe tbody tr th:only-of-type {\n",
              "        vertical-align: middle;\n",
              "    }\n",
              "\n",
              "    .dataframe tbody tr th {\n",
              "        vertical-align: top;\n",
              "    }\n",
              "\n",
              "    .dataframe thead th {\n",
              "        text-align: right;\n",
              "    }\n",
              "</style>\n",
              "<table border=\"1\" class=\"dataframe\">\n",
              "  <thead>\n",
              "    <tr style=\"text-align: right;\">\n",
              "      <th></th>\n",
              "      <th>Apellido</th>\n",
              "      <th>IDDepartamento</th>\n",
              "      <th>Edad</th>\n",
              "      <th>Edad_meses</th>\n",
              "      <th>NombreDepartamento</th>\n",
              "      <th>Comentario</th>\n",
              "    </tr>\n",
              "  </thead>\n",
              "  <tbody>\n",
              "    <tr>\n",
              "      <th>0</th>\n",
              "      <td>Andrade</td>\n",
              "      <td>31</td>\n",
              "      <td>20</td>\n",
              "      <td>240</td>\n",
              "      <td>Ventas</td>\n",
              "      <td>El empleado Andrade trabaja en el departamento...</td>\n",
              "    </tr>\n",
              "    <tr>\n",
              "      <th>1</th>\n",
              "      <td>Jordán</td>\n",
              "      <td>33</td>\n",
              "      <td>23</td>\n",
              "      <td>276</td>\n",
              "      <td>Ingeniería</td>\n",
              "      <td>El empleado Jordán trabaja en el departamento ...</td>\n",
              "    </tr>\n",
              "    <tr>\n",
              "      <th>2</th>\n",
              "      <td>Steinberg</td>\n",
              "      <td>33</td>\n",
              "      <td>45</td>\n",
              "      <td>540</td>\n",
              "      <td>Ingeniería</td>\n",
              "      <td>El empleado Steinberg trabaja en el departamen...</td>\n",
              "    </tr>\n",
              "    <tr>\n",
              "      <th>3</th>\n",
              "      <td>Róbinson</td>\n",
              "      <td>34</td>\n",
              "      <td>48</td>\n",
              "      <td>576</td>\n",
              "      <td>Producción</td>\n",
              "      <td>El empleado Róbinson trabaja en el departament...</td>\n",
              "    </tr>\n",
              "    <tr>\n",
              "      <th>4</th>\n",
              "      <td>Zolano</td>\n",
              "      <td>34</td>\n",
              "      <td>56</td>\n",
              "      <td>672</td>\n",
              "      <td>Producción</td>\n",
              "      <td>El empleado Zolano trabaja en el departamento ...</td>\n",
              "    </tr>\n",
              "    <tr>\n",
              "      <th>5</th>\n",
              "      <td>Gaspar</td>\n",
              "      <td>36</td>\n",
              "      <td>32</td>\n",
              "      <td>384</td>\n",
              "      <td>NaN</td>\n",
              "      <td>El empleado Gaspar trabaja en el departamento ...</td>\n",
              "    </tr>\n",
              "  </tbody>\n",
              "</table>\n",
              "</div>"
            ],
            "text/plain": [
              "    Apellido  ...                                         Comentario\n",
              "0    Andrade  ...  El empleado Andrade trabaja en el departamento...\n",
              "1     Jordán  ...  El empleado Jordán trabaja en el departamento ...\n",
              "2  Steinberg  ...  El empleado Steinberg trabaja en el departamen...\n",
              "3   Róbinson  ...  El empleado Róbinson trabaja en el departament...\n",
              "4     Zolano  ...  El empleado Zolano trabaja en el departamento ...\n",
              "5     Gaspar  ...  El empleado Gaspar trabaja en el departamento ...\n",
              "\n",
              "[6 rows x 6 columns]"
            ]
          },
          "metadata": {
            "tags": []
          },
          "execution_count": 518
        }
      ]
    },
    {
      "cell_type": "markdown",
      "metadata": {
        "id": "YcMAD1hJ-_fS"
      },
      "source": [
        "### Concatenación de Series"
      ]
    },
    {
      "cell_type": "code",
      "metadata": {
        "id": "LKiL5Vo5_Brr",
        "outputId": "f8c1fb9c-5d8b-45fb-b927-18a1cb42b3c6",
        "colab": {
          "base_uri": "https://localhost:8080/",
          "height": 139
        }
      },
      "source": [
        "Ser1 = pd.Series([1,2], index=['a', 'b'])\n",
        "Ser2 = pd.Series([2,3,4,5], index=['a', 'b', 'c', 'd'])\n",
        "\n",
        "pd.concat([Ser1, Ser2], axis=0)"
      ],
      "execution_count": null,
      "outputs": [
        {
          "output_type": "execute_result",
          "data": {
            "text/plain": [
              "a    1\n",
              "b    2\n",
              "a    2\n",
              "b    3\n",
              "c    4\n",
              "d    5\n",
              "dtype: int64"
            ]
          },
          "metadata": {
            "tags": []
          },
          "execution_count": 519
        }
      ]
    },
    {
      "cell_type": "code",
      "metadata": {
        "id": "yXp9rYNdwhwK",
        "outputId": "0d984991-db8c-4820-84a6-a776ff232532",
        "colab": {
          "base_uri": "https://localhost:8080/",
          "height": 175
        }
      },
      "source": [
        "Ser1 = pd.Series([1,2], index=['a', 'b'])\n",
        "Ser2 = pd.Series([2,3,4,5], index=['a', 'b', 'c', 'd'])\n",
        "pd.concat([Ser1, Ser2], axis=1)"
      ],
      "execution_count": null,
      "outputs": [
        {
          "output_type": "execute_result",
          "data": {
            "text/html": [
              "<div>\n",
              "<style scoped>\n",
              "    .dataframe tbody tr th:only-of-type {\n",
              "        vertical-align: middle;\n",
              "    }\n",
              "\n",
              "    .dataframe tbody tr th {\n",
              "        vertical-align: top;\n",
              "    }\n",
              "\n",
              "    .dataframe thead th {\n",
              "        text-align: right;\n",
              "    }\n",
              "</style>\n",
              "<table border=\"1\" class=\"dataframe\">\n",
              "  <thead>\n",
              "    <tr style=\"text-align: right;\">\n",
              "      <th></th>\n",
              "      <th>0</th>\n",
              "      <th>1</th>\n",
              "    </tr>\n",
              "  </thead>\n",
              "  <tbody>\n",
              "    <tr>\n",
              "      <th>a</th>\n",
              "      <td>1.0</td>\n",
              "      <td>2</td>\n",
              "    </tr>\n",
              "    <tr>\n",
              "      <th>b</th>\n",
              "      <td>2.0</td>\n",
              "      <td>3</td>\n",
              "    </tr>\n",
              "    <tr>\n",
              "      <th>c</th>\n",
              "      <td>NaN</td>\n",
              "      <td>4</td>\n",
              "    </tr>\n",
              "    <tr>\n",
              "      <th>d</th>\n",
              "      <td>NaN</td>\n",
              "      <td>5</td>\n",
              "    </tr>\n",
              "  </tbody>\n",
              "</table>\n",
              "</div>"
            ],
            "text/plain": [
              "     0  1\n",
              "a  1.0  2\n",
              "b  2.0  3\n",
              "c  NaN  4\n",
              "d  NaN  5"
            ]
          },
          "metadata": {
            "tags": []
          },
          "execution_count": 520
        }
      ]
    },
    {
      "cell_type": "markdown",
      "metadata": {
        "id": "jzdNAO_rAmOi"
      },
      "source": [
        "## Concatenación de DataFrames"
      ]
    },
    {
      "cell_type": "code",
      "metadata": {
        "id": "pY4oCxpAAoF8",
        "outputId": "b732a8ca-2742-4c0f-aba0-9356e1ed522e",
        "colab": {
          "base_uri": "https://localhost:8080/",
          "height": 175
        }
      },
      "source": [
        "df1 = pd.DataFrame({'var_1': [1,2], 'var_2': [3,4]})\n",
        "df2 = pd.DataFrame({'var_3': [5,6], 'var_2': [7,8]})\n",
        "\n",
        "pd.concat([df1, df2])"
      ],
      "execution_count": null,
      "outputs": [
        {
          "output_type": "execute_result",
          "data": {
            "text/html": [
              "<div>\n",
              "<style scoped>\n",
              "    .dataframe tbody tr th:only-of-type {\n",
              "        vertical-align: middle;\n",
              "    }\n",
              "\n",
              "    .dataframe tbody tr th {\n",
              "        vertical-align: top;\n",
              "    }\n",
              "\n",
              "    .dataframe thead th {\n",
              "        text-align: right;\n",
              "    }\n",
              "</style>\n",
              "<table border=\"1\" class=\"dataframe\">\n",
              "  <thead>\n",
              "    <tr style=\"text-align: right;\">\n",
              "      <th></th>\n",
              "      <th>var_1</th>\n",
              "      <th>var_2</th>\n",
              "      <th>var_3</th>\n",
              "    </tr>\n",
              "  </thead>\n",
              "  <tbody>\n",
              "    <tr>\n",
              "      <th>0</th>\n",
              "      <td>1.0</td>\n",
              "      <td>3</td>\n",
              "      <td>NaN</td>\n",
              "    </tr>\n",
              "    <tr>\n",
              "      <th>1</th>\n",
              "      <td>2.0</td>\n",
              "      <td>4</td>\n",
              "      <td>NaN</td>\n",
              "    </tr>\n",
              "    <tr>\n",
              "      <th>0</th>\n",
              "      <td>NaN</td>\n",
              "      <td>7</td>\n",
              "      <td>5.0</td>\n",
              "    </tr>\n",
              "    <tr>\n",
              "      <th>1</th>\n",
              "      <td>NaN</td>\n",
              "      <td>8</td>\n",
              "      <td>6.0</td>\n",
              "    </tr>\n",
              "  </tbody>\n",
              "</table>\n",
              "</div>"
            ],
            "text/plain": [
              "   var_1  var_2  var_3\n",
              "0    1.0      3    NaN\n",
              "1    2.0      4    NaN\n",
              "0    NaN      7    5.0\n",
              "1    NaN      8    6.0"
            ]
          },
          "metadata": {
            "tags": []
          },
          "execution_count": 521
        }
      ]
    },
    {
      "cell_type": "code",
      "metadata": {
        "id": "jQPotoGTxALY",
        "outputId": "15d21b7a-ad9b-48e6-e31f-55a263affd70",
        "colab": {
          "base_uri": "https://localhost:8080/",
          "height": 112
        }
      },
      "source": [
        "df1 = pd.DataFrame({'var_1': [1,2], 'var_2': [3,4]})\n",
        "df2 = pd.DataFrame({'var_3': [5,6], 'var_2': [7,8]})\n",
        "\n",
        "pd.concat([df1, df2], axis=1) # Es importante renombrar columnas"
      ],
      "execution_count": null,
      "outputs": [
        {
          "output_type": "execute_result",
          "data": {
            "text/html": [
              "<div>\n",
              "<style scoped>\n",
              "    .dataframe tbody tr th:only-of-type {\n",
              "        vertical-align: middle;\n",
              "    }\n",
              "\n",
              "    .dataframe tbody tr th {\n",
              "        vertical-align: top;\n",
              "    }\n",
              "\n",
              "    .dataframe thead th {\n",
              "        text-align: right;\n",
              "    }\n",
              "</style>\n",
              "<table border=\"1\" class=\"dataframe\">\n",
              "  <thead>\n",
              "    <tr style=\"text-align: right;\">\n",
              "      <th></th>\n",
              "      <th>var_1</th>\n",
              "      <th>var_2</th>\n",
              "      <th>var_3</th>\n",
              "      <th>var_2</th>\n",
              "    </tr>\n",
              "  </thead>\n",
              "  <tbody>\n",
              "    <tr>\n",
              "      <th>0</th>\n",
              "      <td>1</td>\n",
              "      <td>3</td>\n",
              "      <td>5</td>\n",
              "      <td>7</td>\n",
              "    </tr>\n",
              "    <tr>\n",
              "      <th>1</th>\n",
              "      <td>2</td>\n",
              "      <td>4</td>\n",
              "      <td>6</td>\n",
              "      <td>8</td>\n",
              "    </tr>\n",
              "  </tbody>\n",
              "</table>\n",
              "</div>"
            ],
            "text/plain": [
              "   var_1  var_2  var_3  var_2\n",
              "0      1      3      5      7\n",
              "1      2      4      6      8"
            ]
          },
          "metadata": {
            "tags": []
          },
          "execution_count": 522
        }
      ]
    },
    {
      "cell_type": "code",
      "metadata": {
        "id": "ZYZM4Onqx4KH",
        "outputId": "55af8477-b770-4dfd-b280-fa852cd74fdf",
        "colab": {
          "base_uri": "https://localhost:8080/",
          "height": 112
        }
      },
      "source": [
        "# Resultados raros\n",
        "pd.concat([df1, df2], axis=1)['var_2']"
      ],
      "execution_count": null,
      "outputs": [
        {
          "output_type": "execute_result",
          "data": {
            "text/html": [
              "<div>\n",
              "<style scoped>\n",
              "    .dataframe tbody tr th:only-of-type {\n",
              "        vertical-align: middle;\n",
              "    }\n",
              "\n",
              "    .dataframe tbody tr th {\n",
              "        vertical-align: top;\n",
              "    }\n",
              "\n",
              "    .dataframe thead th {\n",
              "        text-align: right;\n",
              "    }\n",
              "</style>\n",
              "<table border=\"1\" class=\"dataframe\">\n",
              "  <thead>\n",
              "    <tr style=\"text-align: right;\">\n",
              "      <th></th>\n",
              "      <th>var_2</th>\n",
              "      <th>var_2</th>\n",
              "    </tr>\n",
              "  </thead>\n",
              "  <tbody>\n",
              "    <tr>\n",
              "      <th>0</th>\n",
              "      <td>3</td>\n",
              "      <td>7</td>\n",
              "    </tr>\n",
              "    <tr>\n",
              "      <th>1</th>\n",
              "      <td>4</td>\n",
              "      <td>8</td>\n",
              "    </tr>\n",
              "  </tbody>\n",
              "</table>\n",
              "</div>"
            ],
            "text/plain": [
              "   var_2  var_2\n",
              "0      3      7\n",
              "1      4      8"
            ]
          },
          "metadata": {
            "tags": []
          },
          "execution_count": 523
        }
      ]
    },
    {
      "cell_type": "markdown",
      "metadata": {
        "id": "U07toSMyAqeE"
      },
      "source": [
        "## Operaciones adicionales útiles con Pandas"
      ]
    },
    {
      "cell_type": "markdown",
      "metadata": {
        "id": "zElLz8AoAtuT"
      },
      "source": [
        "### Multi-indexamiento"
      ]
    },
    {
      "cell_type": "code",
      "metadata": {
        "id": "StCQiSjCAlBl",
        "outputId": "0e73b68f-efc6-4bd4-b912-d7f8e1bf7f83",
        "colab": {
          "base_uri": "https://localhost:8080/",
          "height": 363
        }
      },
      "source": [
        "import numpy as np\n",
        "import pandas as pd\n",
        "\n",
        "df_ventas = pd.DataFrame({'Oficina': [1,1,1,2,2,2,3,3,3,3],\n",
        "                          'Producto': ['a', 'b', 'c', 'a', 'b', 'c', 'a', 'b', 'c','d'],\n",
        "                          'Valor': np.random.randint(20, size=10)})\n",
        "df_ventas"
      ],
      "execution_count": null,
      "outputs": [
        {
          "output_type": "execute_result",
          "data": {
            "text/html": [
              "<div>\n",
              "<style scoped>\n",
              "    .dataframe tbody tr th:only-of-type {\n",
              "        vertical-align: middle;\n",
              "    }\n",
              "\n",
              "    .dataframe tbody tr th {\n",
              "        vertical-align: top;\n",
              "    }\n",
              "\n",
              "    .dataframe thead th {\n",
              "        text-align: right;\n",
              "    }\n",
              "</style>\n",
              "<table border=\"1\" class=\"dataframe\">\n",
              "  <thead>\n",
              "    <tr style=\"text-align: right;\">\n",
              "      <th></th>\n",
              "      <th>Oficina</th>\n",
              "      <th>Producto</th>\n",
              "      <th>Valor</th>\n",
              "    </tr>\n",
              "  </thead>\n",
              "  <tbody>\n",
              "    <tr>\n",
              "      <th>0</th>\n",
              "      <td>1</td>\n",
              "      <td>a</td>\n",
              "      <td>18</td>\n",
              "    </tr>\n",
              "    <tr>\n",
              "      <th>1</th>\n",
              "      <td>1</td>\n",
              "      <td>b</td>\n",
              "      <td>1</td>\n",
              "    </tr>\n",
              "    <tr>\n",
              "      <th>2</th>\n",
              "      <td>1</td>\n",
              "      <td>c</td>\n",
              "      <td>12</td>\n",
              "    </tr>\n",
              "    <tr>\n",
              "      <th>3</th>\n",
              "      <td>2</td>\n",
              "      <td>a</td>\n",
              "      <td>8</td>\n",
              "    </tr>\n",
              "    <tr>\n",
              "      <th>4</th>\n",
              "      <td>2</td>\n",
              "      <td>b</td>\n",
              "      <td>6</td>\n",
              "    </tr>\n",
              "    <tr>\n",
              "      <th>5</th>\n",
              "      <td>2</td>\n",
              "      <td>c</td>\n",
              "      <td>19</td>\n",
              "    </tr>\n",
              "    <tr>\n",
              "      <th>6</th>\n",
              "      <td>3</td>\n",
              "      <td>a</td>\n",
              "      <td>17</td>\n",
              "    </tr>\n",
              "    <tr>\n",
              "      <th>7</th>\n",
              "      <td>3</td>\n",
              "      <td>b</td>\n",
              "      <td>1</td>\n",
              "    </tr>\n",
              "    <tr>\n",
              "      <th>8</th>\n",
              "      <td>3</td>\n",
              "      <td>c</td>\n",
              "      <td>15</td>\n",
              "    </tr>\n",
              "    <tr>\n",
              "      <th>9</th>\n",
              "      <td>3</td>\n",
              "      <td>d</td>\n",
              "      <td>19</td>\n",
              "    </tr>\n",
              "  </tbody>\n",
              "</table>\n",
              "</div>"
            ],
            "text/plain": [
              "   Oficina Producto  Valor\n",
              "0        1        a     18\n",
              "1        1        b      1\n",
              "2        1        c     12\n",
              "3        2        a      8\n",
              "4        2        b      6\n",
              "5        2        c     19\n",
              "6        3        a     17\n",
              "7        3        b      1\n",
              "8        3        c     15\n",
              "9        3        d     19"
            ]
          },
          "metadata": {
            "tags": []
          },
          "execution_count": 524
        }
      ]
    },
    {
      "cell_type": "code",
      "metadata": {
        "id": "IXBqe-BbyVNk",
        "outputId": "03c149dc-9cf9-4b07-b598-eae4bd86f3ba",
        "colab": {
          "base_uri": "https://localhost:8080/",
          "height": 144
        }
      },
      "source": [
        "# Ventas de oficina 1\n",
        "df_ventas[df_ventas['Oficina'] == 1]"
      ],
      "execution_count": null,
      "outputs": [
        {
          "output_type": "execute_result",
          "data": {
            "text/html": [
              "<div>\n",
              "<style scoped>\n",
              "    .dataframe tbody tr th:only-of-type {\n",
              "        vertical-align: middle;\n",
              "    }\n",
              "\n",
              "    .dataframe tbody tr th {\n",
              "        vertical-align: top;\n",
              "    }\n",
              "\n",
              "    .dataframe thead th {\n",
              "        text-align: right;\n",
              "    }\n",
              "</style>\n",
              "<table border=\"1\" class=\"dataframe\">\n",
              "  <thead>\n",
              "    <tr style=\"text-align: right;\">\n",
              "      <th></th>\n",
              "      <th>Oficina</th>\n",
              "      <th>Producto</th>\n",
              "      <th>Valor</th>\n",
              "    </tr>\n",
              "  </thead>\n",
              "  <tbody>\n",
              "    <tr>\n",
              "      <th>0</th>\n",
              "      <td>1</td>\n",
              "      <td>a</td>\n",
              "      <td>18</td>\n",
              "    </tr>\n",
              "    <tr>\n",
              "      <th>1</th>\n",
              "      <td>1</td>\n",
              "      <td>b</td>\n",
              "      <td>1</td>\n",
              "    </tr>\n",
              "    <tr>\n",
              "      <th>2</th>\n",
              "      <td>1</td>\n",
              "      <td>c</td>\n",
              "      <td>12</td>\n",
              "    </tr>\n",
              "  </tbody>\n",
              "</table>\n",
              "</div>"
            ],
            "text/plain": [
              "   Oficina Producto  Valor\n",
              "0        1        a     18\n",
              "1        1        b      1\n",
              "2        1        c     12"
            ]
          },
          "metadata": {
            "tags": []
          },
          "execution_count": 525
        }
      ]
    },
    {
      "cell_type": "code",
      "metadata": {
        "id": "0X9JIu3Syc70",
        "outputId": "fbfd7055-c647-4d57-a2f5-9c6eb4946c04",
        "colab": {
          "base_uri": "https://localhost:8080/",
          "height": 238
        }
      },
      "source": [
        "# Ventas de oficinas 1 y 2\n",
        "df_ventas[df_ventas['Oficina'].isin([1,2])]"
      ],
      "execution_count": null,
      "outputs": [
        {
          "output_type": "execute_result",
          "data": {
            "text/html": [
              "<div>\n",
              "<style scoped>\n",
              "    .dataframe tbody tr th:only-of-type {\n",
              "        vertical-align: middle;\n",
              "    }\n",
              "\n",
              "    .dataframe tbody tr th {\n",
              "        vertical-align: top;\n",
              "    }\n",
              "\n",
              "    .dataframe thead th {\n",
              "        text-align: right;\n",
              "    }\n",
              "</style>\n",
              "<table border=\"1\" class=\"dataframe\">\n",
              "  <thead>\n",
              "    <tr style=\"text-align: right;\">\n",
              "      <th></th>\n",
              "      <th>Oficina</th>\n",
              "      <th>Producto</th>\n",
              "      <th>Valor</th>\n",
              "    </tr>\n",
              "  </thead>\n",
              "  <tbody>\n",
              "    <tr>\n",
              "      <th>0</th>\n",
              "      <td>1</td>\n",
              "      <td>a</td>\n",
              "      <td>18</td>\n",
              "    </tr>\n",
              "    <tr>\n",
              "      <th>1</th>\n",
              "      <td>1</td>\n",
              "      <td>b</td>\n",
              "      <td>1</td>\n",
              "    </tr>\n",
              "    <tr>\n",
              "      <th>2</th>\n",
              "      <td>1</td>\n",
              "      <td>c</td>\n",
              "      <td>12</td>\n",
              "    </tr>\n",
              "    <tr>\n",
              "      <th>3</th>\n",
              "      <td>2</td>\n",
              "      <td>a</td>\n",
              "      <td>8</td>\n",
              "    </tr>\n",
              "    <tr>\n",
              "      <th>4</th>\n",
              "      <td>2</td>\n",
              "      <td>b</td>\n",
              "      <td>6</td>\n",
              "    </tr>\n",
              "    <tr>\n",
              "      <th>5</th>\n",
              "      <td>2</td>\n",
              "      <td>c</td>\n",
              "      <td>19</td>\n",
              "    </tr>\n",
              "  </tbody>\n",
              "</table>\n",
              "</div>"
            ],
            "text/plain": [
              "   Oficina Producto  Valor\n",
              "0        1        a     18\n",
              "1        1        b      1\n",
              "2        1        c     12\n",
              "3        2        a      8\n",
              "4        2        b      6\n",
              "5        2        c     19"
            ]
          },
          "metadata": {
            "tags": []
          },
          "execution_count": 526
        }
      ]
    },
    {
      "cell_type": "code",
      "metadata": {
        "id": "h0qtJEXxyocE",
        "outputId": "e5f12ed5-678b-4ef4-8c0e-94a0ae9903e9",
        "colab": {
          "base_uri": "https://localhost:8080/",
          "height": 395
        }
      },
      "source": [
        "df_ventas = pd.DataFrame({'Valor': np.random.random(10)},\n",
        "                         index=[[1,1,1,2,2,2,3,3,3,3], \n",
        "                                ['a', 'b', 'c', 'a', 'b', 'c', 'a', 'b', 'c','d']])\n",
        "# Se vuelve la oficina un índice\n",
        "df_ventas = df_ventas.rename_axis(['Oficina','Producto'])\n",
        "df_ventas"
      ],
      "execution_count": null,
      "outputs": [
        {
          "output_type": "execute_result",
          "data": {
            "text/html": [
              "<div>\n",
              "<style scoped>\n",
              "    .dataframe tbody tr th:only-of-type {\n",
              "        vertical-align: middle;\n",
              "    }\n",
              "\n",
              "    .dataframe tbody tr th {\n",
              "        vertical-align: top;\n",
              "    }\n",
              "\n",
              "    .dataframe thead th {\n",
              "        text-align: right;\n",
              "    }\n",
              "</style>\n",
              "<table border=\"1\" class=\"dataframe\">\n",
              "  <thead>\n",
              "    <tr style=\"text-align: right;\">\n",
              "      <th></th>\n",
              "      <th></th>\n",
              "      <th>Valor</th>\n",
              "    </tr>\n",
              "    <tr>\n",
              "      <th>Oficina</th>\n",
              "      <th>Producto</th>\n",
              "      <th></th>\n",
              "    </tr>\n",
              "  </thead>\n",
              "  <tbody>\n",
              "    <tr>\n",
              "      <th rowspan=\"3\" valign=\"top\">1</th>\n",
              "      <th>a</th>\n",
              "      <td>0.347043</td>\n",
              "    </tr>\n",
              "    <tr>\n",
              "      <th>b</th>\n",
              "      <td>0.914267</td>\n",
              "    </tr>\n",
              "    <tr>\n",
              "      <th>c</th>\n",
              "      <td>0.400664</td>\n",
              "    </tr>\n",
              "    <tr>\n",
              "      <th rowspan=\"3\" valign=\"top\">2</th>\n",
              "      <th>a</th>\n",
              "      <td>0.641765</td>\n",
              "    </tr>\n",
              "    <tr>\n",
              "      <th>b</th>\n",
              "      <td>0.906480</td>\n",
              "    </tr>\n",
              "    <tr>\n",
              "      <th>c</th>\n",
              "      <td>0.023264</td>\n",
              "    </tr>\n",
              "    <tr>\n",
              "      <th rowspan=\"4\" valign=\"top\">3</th>\n",
              "      <th>a</th>\n",
              "      <td>0.858902</td>\n",
              "    </tr>\n",
              "    <tr>\n",
              "      <th>b</th>\n",
              "      <td>0.575298</td>\n",
              "    </tr>\n",
              "    <tr>\n",
              "      <th>c</th>\n",
              "      <td>0.522716</td>\n",
              "    </tr>\n",
              "    <tr>\n",
              "      <th>d</th>\n",
              "      <td>0.253971</td>\n",
              "    </tr>\n",
              "  </tbody>\n",
              "</table>\n",
              "</div>"
            ],
            "text/plain": [
              "                     Valor\n",
              "Oficina Producto          \n",
              "1       a         0.347043\n",
              "        b         0.914267\n",
              "        c         0.400664\n",
              "2       a         0.641765\n",
              "        b         0.906480\n",
              "        c         0.023264\n",
              "3       a         0.858902\n",
              "        b         0.575298\n",
              "        c         0.522716\n",
              "        d         0.253971"
            ]
          },
          "metadata": {
            "tags": []
          },
          "execution_count": 527
        }
      ]
    },
    {
      "cell_type": "code",
      "metadata": {
        "id": "I4Ye2xs9y_e-",
        "outputId": "82133352-ba3f-47c9-95df-645ed1b29f36",
        "colab": {
          "base_uri": "https://localhost:8080/",
          "height": 175
        }
      },
      "source": [
        "df_ventas.loc[1]"
      ],
      "execution_count": null,
      "outputs": [
        {
          "output_type": "execute_result",
          "data": {
            "text/html": [
              "<div>\n",
              "<style scoped>\n",
              "    .dataframe tbody tr th:only-of-type {\n",
              "        vertical-align: middle;\n",
              "    }\n",
              "\n",
              "    .dataframe tbody tr th {\n",
              "        vertical-align: top;\n",
              "    }\n",
              "\n",
              "    .dataframe thead th {\n",
              "        text-align: right;\n",
              "    }\n",
              "</style>\n",
              "<table border=\"1\" class=\"dataframe\">\n",
              "  <thead>\n",
              "    <tr style=\"text-align: right;\">\n",
              "      <th></th>\n",
              "      <th>Valor</th>\n",
              "    </tr>\n",
              "    <tr>\n",
              "      <th>Producto</th>\n",
              "      <th></th>\n",
              "    </tr>\n",
              "  </thead>\n",
              "  <tbody>\n",
              "    <tr>\n",
              "      <th>a</th>\n",
              "      <td>0.347043</td>\n",
              "    </tr>\n",
              "    <tr>\n",
              "      <th>b</th>\n",
              "      <td>0.914267</td>\n",
              "    </tr>\n",
              "    <tr>\n",
              "      <th>c</th>\n",
              "      <td>0.400664</td>\n",
              "    </tr>\n",
              "  </tbody>\n",
              "</table>\n",
              "</div>"
            ],
            "text/plain": [
              "             Valor\n",
              "Producto          \n",
              "a         0.347043\n",
              "b         0.914267\n",
              "c         0.400664"
            ]
          },
          "metadata": {
            "tags": []
          },
          "execution_count": 528
        }
      ]
    },
    {
      "cell_type": "code",
      "metadata": {
        "id": "OOWHdif9zBaS",
        "outputId": "22457e15-eec0-45c2-9218-2a21f26fae8f",
        "colab": {
          "base_uri": "https://localhost:8080/",
          "height": 269
        }
      },
      "source": [
        "df_ventas.loc[1:2]"
      ],
      "execution_count": null,
      "outputs": [
        {
          "output_type": "execute_result",
          "data": {
            "text/html": [
              "<div>\n",
              "<style scoped>\n",
              "    .dataframe tbody tr th:only-of-type {\n",
              "        vertical-align: middle;\n",
              "    }\n",
              "\n",
              "    .dataframe tbody tr th {\n",
              "        vertical-align: top;\n",
              "    }\n",
              "\n",
              "    .dataframe thead th {\n",
              "        text-align: right;\n",
              "    }\n",
              "</style>\n",
              "<table border=\"1\" class=\"dataframe\">\n",
              "  <thead>\n",
              "    <tr style=\"text-align: right;\">\n",
              "      <th></th>\n",
              "      <th></th>\n",
              "      <th>Valor</th>\n",
              "    </tr>\n",
              "    <tr>\n",
              "      <th>Oficina</th>\n",
              "      <th>Producto</th>\n",
              "      <th></th>\n",
              "    </tr>\n",
              "  </thead>\n",
              "  <tbody>\n",
              "    <tr>\n",
              "      <th rowspan=\"3\" valign=\"top\">1</th>\n",
              "      <th>a</th>\n",
              "      <td>0.347043</td>\n",
              "    </tr>\n",
              "    <tr>\n",
              "      <th>b</th>\n",
              "      <td>0.914267</td>\n",
              "    </tr>\n",
              "    <tr>\n",
              "      <th>c</th>\n",
              "      <td>0.400664</td>\n",
              "    </tr>\n",
              "    <tr>\n",
              "      <th rowspan=\"3\" valign=\"top\">2</th>\n",
              "      <th>a</th>\n",
              "      <td>0.641765</td>\n",
              "    </tr>\n",
              "    <tr>\n",
              "      <th>b</th>\n",
              "      <td>0.906480</td>\n",
              "    </tr>\n",
              "    <tr>\n",
              "      <th>c</th>\n",
              "      <td>0.023264</td>\n",
              "    </tr>\n",
              "  </tbody>\n",
              "</table>\n",
              "</div>"
            ],
            "text/plain": [
              "                     Valor\n",
              "Oficina Producto          \n",
              "1       a         0.347043\n",
              "        b         0.914267\n",
              "        c         0.400664\n",
              "2       a         0.641765\n",
              "        b         0.906480\n",
              "        c         0.023264"
            ]
          },
          "metadata": {
            "tags": []
          },
          "execution_count": 529
        }
      ]
    },
    {
      "cell_type": "markdown",
      "metadata": {
        "id": "ZMamJ_E9B9ke"
      },
      "source": [
        "### Intercambiando niveles de multi-indexamiento\n"
      ]
    },
    {
      "cell_type": "code",
      "metadata": {
        "id": "_Hrn0pPHB9KP",
        "outputId": "208e147c-d766-4622-bbf5-09078d4242b9",
        "colab": {
          "base_uri": "https://localhost:8080/",
          "height": 395
        }
      },
      "source": [
        "#df_ventas\n",
        "df_ventas2 = df_ventas.swaplevel('Oficina','Producto')\n",
        "df_ventas2"
      ],
      "execution_count": null,
      "outputs": [
        {
          "output_type": "execute_result",
          "data": {
            "text/html": [
              "<div>\n",
              "<style scoped>\n",
              "    .dataframe tbody tr th:only-of-type {\n",
              "        vertical-align: middle;\n",
              "    }\n",
              "\n",
              "    .dataframe tbody tr th {\n",
              "        vertical-align: top;\n",
              "    }\n",
              "\n",
              "    .dataframe thead th {\n",
              "        text-align: right;\n",
              "    }\n",
              "</style>\n",
              "<table border=\"1\" class=\"dataframe\">\n",
              "  <thead>\n",
              "    <tr style=\"text-align: right;\">\n",
              "      <th></th>\n",
              "      <th></th>\n",
              "      <th>Valor</th>\n",
              "    </tr>\n",
              "    <tr>\n",
              "      <th>Producto</th>\n",
              "      <th>Oficina</th>\n",
              "      <th></th>\n",
              "    </tr>\n",
              "  </thead>\n",
              "  <tbody>\n",
              "    <tr>\n",
              "      <th>a</th>\n",
              "      <th>1</th>\n",
              "      <td>0.347043</td>\n",
              "    </tr>\n",
              "    <tr>\n",
              "      <th>b</th>\n",
              "      <th>1</th>\n",
              "      <td>0.914267</td>\n",
              "    </tr>\n",
              "    <tr>\n",
              "      <th>c</th>\n",
              "      <th>1</th>\n",
              "      <td>0.400664</td>\n",
              "    </tr>\n",
              "    <tr>\n",
              "      <th>a</th>\n",
              "      <th>2</th>\n",
              "      <td>0.641765</td>\n",
              "    </tr>\n",
              "    <tr>\n",
              "      <th>b</th>\n",
              "      <th>2</th>\n",
              "      <td>0.906480</td>\n",
              "    </tr>\n",
              "    <tr>\n",
              "      <th>c</th>\n",
              "      <th>2</th>\n",
              "      <td>0.023264</td>\n",
              "    </tr>\n",
              "    <tr>\n",
              "      <th>a</th>\n",
              "      <th>3</th>\n",
              "      <td>0.858902</td>\n",
              "    </tr>\n",
              "    <tr>\n",
              "      <th>b</th>\n",
              "      <th>3</th>\n",
              "      <td>0.575298</td>\n",
              "    </tr>\n",
              "    <tr>\n",
              "      <th>c</th>\n",
              "      <th>3</th>\n",
              "      <td>0.522716</td>\n",
              "    </tr>\n",
              "    <tr>\n",
              "      <th>d</th>\n",
              "      <th>3</th>\n",
              "      <td>0.253971</td>\n",
              "    </tr>\n",
              "  </tbody>\n",
              "</table>\n",
              "</div>"
            ],
            "text/plain": [
              "                     Valor\n",
              "Producto Oficina          \n",
              "a        1        0.347043\n",
              "b        1        0.914267\n",
              "c        1        0.400664\n",
              "a        2        0.641765\n",
              "b        2        0.906480\n",
              "c        2        0.023264\n",
              "a        3        0.858902\n",
              "b        3        0.575298\n",
              "c        3        0.522716\n",
              "d        3        0.253971"
            ]
          },
          "metadata": {
            "tags": []
          },
          "execution_count": 530
        }
      ]
    },
    {
      "cell_type": "code",
      "metadata": {
        "id": "bM-NDVmW0HOZ",
        "outputId": "844446f3-deea-4d52-91cd-f11a8a57fc1b",
        "colab": {
          "base_uri": "https://localhost:8080/",
          "height": 175
        }
      },
      "source": [
        "df_ventas2.loc['a']"
      ],
      "execution_count": null,
      "outputs": [
        {
          "output_type": "execute_result",
          "data": {
            "text/html": [
              "<div>\n",
              "<style scoped>\n",
              "    .dataframe tbody tr th:only-of-type {\n",
              "        vertical-align: middle;\n",
              "    }\n",
              "\n",
              "    .dataframe tbody tr th {\n",
              "        vertical-align: top;\n",
              "    }\n",
              "\n",
              "    .dataframe thead th {\n",
              "        text-align: right;\n",
              "    }\n",
              "</style>\n",
              "<table border=\"1\" class=\"dataframe\">\n",
              "  <thead>\n",
              "    <tr style=\"text-align: right;\">\n",
              "      <th></th>\n",
              "      <th>Valor</th>\n",
              "    </tr>\n",
              "    <tr>\n",
              "      <th>Oficina</th>\n",
              "      <th></th>\n",
              "    </tr>\n",
              "  </thead>\n",
              "  <tbody>\n",
              "    <tr>\n",
              "      <th>1</th>\n",
              "      <td>0.347043</td>\n",
              "    </tr>\n",
              "    <tr>\n",
              "      <th>2</th>\n",
              "      <td>0.641765</td>\n",
              "    </tr>\n",
              "    <tr>\n",
              "      <th>3</th>\n",
              "      <td>0.858902</td>\n",
              "    </tr>\n",
              "  </tbody>\n",
              "</table>\n",
              "</div>"
            ],
            "text/plain": [
              "            Valor\n",
              "Oficina          \n",
              "1        0.347043\n",
              "2        0.641765\n",
              "3        0.858902"
            ]
          },
          "metadata": {
            "tags": []
          },
          "execution_count": 531
        }
      ]
    },
    {
      "cell_type": "markdown",
      "metadata": {
        "id": "V5UPzQkuCFGP"
      },
      "source": [
        "### Agregaciones por nivel de indexamiento"
      ]
    },
    {
      "cell_type": "code",
      "metadata": {
        "id": "qbS8p46vCHEo",
        "outputId": "3cb69954-8472-4cd0-ddc5-c835d413f019",
        "colab": {
          "base_uri": "https://localhost:8080/",
          "height": 175
        }
      },
      "source": [
        "# Todas las ventas por oficina\n",
        "df_ventas.sum(level='Oficina')\n"
      ],
      "execution_count": null,
      "outputs": [
        {
          "output_type": "execute_result",
          "data": {
            "text/html": [
              "<div>\n",
              "<style scoped>\n",
              "    .dataframe tbody tr th:only-of-type {\n",
              "        vertical-align: middle;\n",
              "    }\n",
              "\n",
              "    .dataframe tbody tr th {\n",
              "        vertical-align: top;\n",
              "    }\n",
              "\n",
              "    .dataframe thead th {\n",
              "        text-align: right;\n",
              "    }\n",
              "</style>\n",
              "<table border=\"1\" class=\"dataframe\">\n",
              "  <thead>\n",
              "    <tr style=\"text-align: right;\">\n",
              "      <th></th>\n",
              "      <th>Valor</th>\n",
              "    </tr>\n",
              "    <tr>\n",
              "      <th>Oficina</th>\n",
              "      <th></th>\n",
              "    </tr>\n",
              "  </thead>\n",
              "  <tbody>\n",
              "    <tr>\n",
              "      <th>1</th>\n",
              "      <td>1.720458</td>\n",
              "    </tr>\n",
              "    <tr>\n",
              "      <th>2</th>\n",
              "      <td>1.528225</td>\n",
              "    </tr>\n",
              "    <tr>\n",
              "      <th>3</th>\n",
              "      <td>1.722589</td>\n",
              "    </tr>\n",
              "  </tbody>\n",
              "</table>\n",
              "</div>"
            ],
            "text/plain": [
              "            Valor\n",
              "Oficina          \n",
              "1        1.720458\n",
              "2        1.528225\n",
              "3        1.722589"
            ]
          },
          "metadata": {
            "tags": []
          },
          "execution_count": 432
        }
      ]
    },
    {
      "cell_type": "code",
      "metadata": {
        "id": "9aRhcmr2CMHB",
        "outputId": "f22ef383-7011-4122-f70c-4ef5fd8cd2b6",
        "colab": {
          "base_uri": "https://localhost:8080/",
          "height": 206
        }
      },
      "source": [
        "# # Todas las ventas por oficina\n",
        "df_ventas.sum(level='Producto')"
      ],
      "execution_count": null,
      "outputs": [
        {
          "output_type": "execute_result",
          "data": {
            "text/html": [
              "<div>\n",
              "<style scoped>\n",
              "    .dataframe tbody tr th:only-of-type {\n",
              "        vertical-align: middle;\n",
              "    }\n",
              "\n",
              "    .dataframe tbody tr th {\n",
              "        vertical-align: top;\n",
              "    }\n",
              "\n",
              "    .dataframe thead th {\n",
              "        text-align: right;\n",
              "    }\n",
              "</style>\n",
              "<table border=\"1\" class=\"dataframe\">\n",
              "  <thead>\n",
              "    <tr style=\"text-align: right;\">\n",
              "      <th></th>\n",
              "      <th>Valor</th>\n",
              "    </tr>\n",
              "    <tr>\n",
              "      <th>Producto</th>\n",
              "      <th></th>\n",
              "    </tr>\n",
              "  </thead>\n",
              "  <tbody>\n",
              "    <tr>\n",
              "      <th>a</th>\n",
              "      <td>1.639970</td>\n",
              "    </tr>\n",
              "    <tr>\n",
              "      <th>b</th>\n",
              "      <td>1.864463</td>\n",
              "    </tr>\n",
              "    <tr>\n",
              "      <th>c</th>\n",
              "      <td>1.355901</td>\n",
              "    </tr>\n",
              "    <tr>\n",
              "      <th>d</th>\n",
              "      <td>0.110937</td>\n",
              "    </tr>\n",
              "  </tbody>\n",
              "</table>\n",
              "</div>"
            ],
            "text/plain": [
              "             Valor\n",
              "Producto          \n",
              "a         1.639970\n",
              "b         1.864463\n",
              "c         1.355901\n",
              "d         0.110937"
            ]
          },
          "metadata": {
            "tags": []
          },
          "execution_count": 433
        }
      ]
    },
    {
      "cell_type": "markdown",
      "metadata": {
        "id": "R9SHSVnPCO3B"
      },
      "source": [
        "### Tablas pivote"
      ]
    },
    {
      "cell_type": "code",
      "metadata": {
        "id": "R-r5bKNuCN64",
        "outputId": "8c59d43e-7ea8-49ef-c350-8f4fb2c61ce5",
        "colab": {
          "base_uri": "https://localhost:8080/",
          "height": 238
        }
      },
      "source": [
        "df_ventas = pd.DataFrame({'Oficina': [1,1,1,2,2,2,3,3,3,3],\n",
        "                          'Producto': ['a', 'b', 'c', 'a', 'b', 'c', 'a', 'b', 'c','d'],\n",
        "                          'Valor': np.random.randint(20, size=10)})\n",
        "df_ventas[df_ventas['Oficina'].isin([1,2])]\n"
      ],
      "execution_count": null,
      "outputs": [
        {
          "output_type": "execute_result",
          "data": {
            "text/html": [
              "<div>\n",
              "<style scoped>\n",
              "    .dataframe tbody tr th:only-of-type {\n",
              "        vertical-align: middle;\n",
              "    }\n",
              "\n",
              "    .dataframe tbody tr th {\n",
              "        vertical-align: top;\n",
              "    }\n",
              "\n",
              "    .dataframe thead th {\n",
              "        text-align: right;\n",
              "    }\n",
              "</style>\n",
              "<table border=\"1\" class=\"dataframe\">\n",
              "  <thead>\n",
              "    <tr style=\"text-align: right;\">\n",
              "      <th></th>\n",
              "      <th>Oficina</th>\n",
              "      <th>Producto</th>\n",
              "      <th>Valor</th>\n",
              "    </tr>\n",
              "  </thead>\n",
              "  <tbody>\n",
              "    <tr>\n",
              "      <th>0</th>\n",
              "      <td>1</td>\n",
              "      <td>a</td>\n",
              "      <td>13</td>\n",
              "    </tr>\n",
              "    <tr>\n",
              "      <th>1</th>\n",
              "      <td>1</td>\n",
              "      <td>b</td>\n",
              "      <td>3</td>\n",
              "    </tr>\n",
              "    <tr>\n",
              "      <th>2</th>\n",
              "      <td>1</td>\n",
              "      <td>c</td>\n",
              "      <td>17</td>\n",
              "    </tr>\n",
              "    <tr>\n",
              "      <th>3</th>\n",
              "      <td>2</td>\n",
              "      <td>a</td>\n",
              "      <td>10</td>\n",
              "    </tr>\n",
              "    <tr>\n",
              "      <th>4</th>\n",
              "      <td>2</td>\n",
              "      <td>b</td>\n",
              "      <td>19</td>\n",
              "    </tr>\n",
              "    <tr>\n",
              "      <th>5</th>\n",
              "      <td>2</td>\n",
              "      <td>c</td>\n",
              "      <td>9</td>\n",
              "    </tr>\n",
              "  </tbody>\n",
              "</table>\n",
              "</div>"
            ],
            "text/plain": [
              "   Oficina Producto  Valor\n",
              "0        1        a     13\n",
              "1        1        b      3\n",
              "2        1        c     17\n",
              "3        2        a     10\n",
              "4        2        b     19\n",
              "5        2        c      9"
            ]
          },
          "metadata": {
            "tags": []
          },
          "execution_count": 532
        }
      ]
    },
    {
      "cell_type": "code",
      "metadata": {
        "id": "7vjiplXA18lR",
        "outputId": "706ec673-fe09-41eb-b562-51ca8d14eae0",
        "colab": {
          "base_uri": "https://localhost:8080/",
          "height": 175
        }
      },
      "source": [
        "df_ventas.pivot(index='Oficina', columns='Producto', values='Valor')"
      ],
      "execution_count": null,
      "outputs": [
        {
          "output_type": "execute_result",
          "data": {
            "text/html": [
              "<div>\n",
              "<style scoped>\n",
              "    .dataframe tbody tr th:only-of-type {\n",
              "        vertical-align: middle;\n",
              "    }\n",
              "\n",
              "    .dataframe tbody tr th {\n",
              "        vertical-align: top;\n",
              "    }\n",
              "\n",
              "    .dataframe thead th {\n",
              "        text-align: right;\n",
              "    }\n",
              "</style>\n",
              "<table border=\"1\" class=\"dataframe\">\n",
              "  <thead>\n",
              "    <tr style=\"text-align: right;\">\n",
              "      <th>Producto</th>\n",
              "      <th>a</th>\n",
              "      <th>b</th>\n",
              "      <th>c</th>\n",
              "      <th>d</th>\n",
              "    </tr>\n",
              "    <tr>\n",
              "      <th>Oficina</th>\n",
              "      <th></th>\n",
              "      <th></th>\n",
              "      <th></th>\n",
              "      <th></th>\n",
              "    </tr>\n",
              "  </thead>\n",
              "  <tbody>\n",
              "    <tr>\n",
              "      <th>1</th>\n",
              "      <td>13.0</td>\n",
              "      <td>3.0</td>\n",
              "      <td>17.0</td>\n",
              "      <td>NaN</td>\n",
              "    </tr>\n",
              "    <tr>\n",
              "      <th>2</th>\n",
              "      <td>10.0</td>\n",
              "      <td>19.0</td>\n",
              "      <td>9.0</td>\n",
              "      <td>NaN</td>\n",
              "    </tr>\n",
              "    <tr>\n",
              "      <th>3</th>\n",
              "      <td>1.0</td>\n",
              "      <td>5.0</td>\n",
              "      <td>3.0</td>\n",
              "      <td>18.0</td>\n",
              "    </tr>\n",
              "  </tbody>\n",
              "</table>\n",
              "</div>"
            ],
            "text/plain": [
              "Producto     a     b     c     d\n",
              "Oficina                         \n",
              "1         13.0   3.0  17.0   NaN\n",
              "2         10.0  19.0   9.0   NaN\n",
              "3          1.0   5.0   3.0  18.0"
            ]
          },
          "metadata": {
            "tags": []
          },
          "execution_count": 533
        }
      ]
    },
    {
      "cell_type": "markdown",
      "metadata": {
        "id": "-HHOHntQ2LOj"
      },
      "source": [
        "### Selección de sub dataframes por columna"
      ]
    },
    {
      "cell_type": "code",
      "metadata": {
        "id": "pg4BWzL52MDX",
        "outputId": "e188b5c2-3cff-4218-eac1-d2fdf0a712dc",
        "colab": {
          "base_uri": "https://localhost:8080/",
          "height": 208
        }
      },
      "source": [
        "df_ventas['Producto']"
      ],
      "execution_count": null,
      "outputs": [
        {
          "output_type": "execute_result",
          "data": {
            "text/plain": [
              "0    a\n",
              "1    b\n",
              "2    c\n",
              "3    a\n",
              "4    b\n",
              "5    c\n",
              "6    a\n",
              "7    b\n",
              "8    c\n",
              "9    d\n",
              "Name: Producto, dtype: object"
            ]
          },
          "metadata": {
            "tags": []
          },
          "execution_count": 436
        }
      ]
    },
    {
      "cell_type": "code",
      "metadata": {
        "id": "52HieqEw2RYv",
        "outputId": "83e10e4d-6fe2-47e8-e77e-c801852eed42",
        "colab": {
          "base_uri": "https://localhost:8080/",
          "height": 363
        }
      },
      "source": [
        "df_ventas[['Producto', 'Valor']]"
      ],
      "execution_count": null,
      "outputs": [
        {
          "output_type": "execute_result",
          "data": {
            "text/html": [
              "<div>\n",
              "<style scoped>\n",
              "    .dataframe tbody tr th:only-of-type {\n",
              "        vertical-align: middle;\n",
              "    }\n",
              "\n",
              "    .dataframe tbody tr th {\n",
              "        vertical-align: top;\n",
              "    }\n",
              "\n",
              "    .dataframe thead th {\n",
              "        text-align: right;\n",
              "    }\n",
              "</style>\n",
              "<table border=\"1\" class=\"dataframe\">\n",
              "  <thead>\n",
              "    <tr style=\"text-align: right;\">\n",
              "      <th></th>\n",
              "      <th>Producto</th>\n",
              "      <th>Valor</th>\n",
              "    </tr>\n",
              "  </thead>\n",
              "  <tbody>\n",
              "    <tr>\n",
              "      <th>0</th>\n",
              "      <td>a</td>\n",
              "      <td>2</td>\n",
              "    </tr>\n",
              "    <tr>\n",
              "      <th>1</th>\n",
              "      <td>b</td>\n",
              "      <td>9</td>\n",
              "    </tr>\n",
              "    <tr>\n",
              "      <th>2</th>\n",
              "      <td>c</td>\n",
              "      <td>17</td>\n",
              "    </tr>\n",
              "    <tr>\n",
              "      <th>3</th>\n",
              "      <td>a</td>\n",
              "      <td>12</td>\n",
              "    </tr>\n",
              "    <tr>\n",
              "      <th>4</th>\n",
              "      <td>b</td>\n",
              "      <td>0</td>\n",
              "    </tr>\n",
              "    <tr>\n",
              "      <th>5</th>\n",
              "      <td>c</td>\n",
              "      <td>12</td>\n",
              "    </tr>\n",
              "    <tr>\n",
              "      <th>6</th>\n",
              "      <td>a</td>\n",
              "      <td>19</td>\n",
              "    </tr>\n",
              "    <tr>\n",
              "      <th>7</th>\n",
              "      <td>b</td>\n",
              "      <td>17</td>\n",
              "    </tr>\n",
              "    <tr>\n",
              "      <th>8</th>\n",
              "      <td>c</td>\n",
              "      <td>16</td>\n",
              "    </tr>\n",
              "    <tr>\n",
              "      <th>9</th>\n",
              "      <td>d</td>\n",
              "      <td>9</td>\n",
              "    </tr>\n",
              "  </tbody>\n",
              "</table>\n",
              "</div>"
            ],
            "text/plain": [
              "  Producto  Valor\n",
              "0        a      2\n",
              "1        b      9\n",
              "2        c     17\n",
              "3        a     12\n",
              "4        b      0\n",
              "5        c     12\n",
              "6        a     19\n",
              "7        b     17\n",
              "8        c     16\n",
              "9        d      9"
            ]
          },
          "metadata": {
            "tags": []
          },
          "execution_count": 437
        }
      ]
    },
    {
      "cell_type": "markdown",
      "metadata": {
        "id": "hb4x0xzU2aUR"
      },
      "source": [
        "### Ordenamientos"
      ]
    },
    {
      "cell_type": "code",
      "metadata": {
        "id": "T37v0yvS2bUi",
        "outputId": "e12e8020-6cff-45aa-9ecf-7847dfa55677",
        "colab": {
          "base_uri": "https://localhost:8080/",
          "height": 238
        }
      },
      "source": [
        "Empleado.sort_values(by='IDDepartamento')\n"
      ],
      "execution_count": null,
      "outputs": [
        {
          "output_type": "execute_result",
          "data": {
            "text/html": [
              "<div>\n",
              "<style scoped>\n",
              "    .dataframe tbody tr th:only-of-type {\n",
              "        vertical-align: middle;\n",
              "    }\n",
              "\n",
              "    .dataframe tbody tr th {\n",
              "        vertical-align: top;\n",
              "    }\n",
              "\n",
              "    .dataframe thead th {\n",
              "        text-align: right;\n",
              "    }\n",
              "</style>\n",
              "<table border=\"1\" class=\"dataframe\">\n",
              "  <thead>\n",
              "    <tr style=\"text-align: right;\">\n",
              "      <th></th>\n",
              "      <th>Apellido</th>\n",
              "      <th>IDDepartamento</th>\n",
              "      <th>Edad</th>\n",
              "      <th>Edad_meses</th>\n",
              "    </tr>\n",
              "  </thead>\n",
              "  <tbody>\n",
              "    <tr>\n",
              "      <th>0</th>\n",
              "      <td>Andrade</td>\n",
              "      <td>31</td>\n",
              "      <td>20</td>\n",
              "      <td>240</td>\n",
              "    </tr>\n",
              "    <tr>\n",
              "      <th>1</th>\n",
              "      <td>Jordán</td>\n",
              "      <td>33</td>\n",
              "      <td>23</td>\n",
              "      <td>276</td>\n",
              "    </tr>\n",
              "    <tr>\n",
              "      <th>2</th>\n",
              "      <td>Steinberg</td>\n",
              "      <td>33</td>\n",
              "      <td>45</td>\n",
              "      <td>540</td>\n",
              "    </tr>\n",
              "    <tr>\n",
              "      <th>3</th>\n",
              "      <td>Róbinson</td>\n",
              "      <td>34</td>\n",
              "      <td>48</td>\n",
              "      <td>576</td>\n",
              "    </tr>\n",
              "    <tr>\n",
              "      <th>4</th>\n",
              "      <td>Zolano</td>\n",
              "      <td>34</td>\n",
              "      <td>56</td>\n",
              "      <td>672</td>\n",
              "    </tr>\n",
              "    <tr>\n",
              "      <th>5</th>\n",
              "      <td>Gaspar</td>\n",
              "      <td>36</td>\n",
              "      <td>32</td>\n",
              "      <td>384</td>\n",
              "    </tr>\n",
              "  </tbody>\n",
              "</table>\n",
              "</div>"
            ],
            "text/plain": [
              "    Apellido  IDDepartamento  Edad  Edad_meses\n",
              "0    Andrade              31    20         240\n",
              "1     Jordán              33    23         276\n",
              "2  Steinberg              33    45         540\n",
              "3   Róbinson              34    48         576\n",
              "4     Zolano              34    56         672\n",
              "5     Gaspar              36    32         384"
            ]
          },
          "metadata": {
            "tags": []
          },
          "execution_count": 438
        }
      ]
    },
    {
      "cell_type": "code",
      "metadata": {
        "id": "g-OgHzGe3MFd",
        "outputId": "0fb26910-fb9a-4a35-b057-6fc2fce7e5d5",
        "colab": {
          "base_uri": "https://localhost:8080/",
          "height": 238
        }
      },
      "source": [
        "Empleado.sort_values(by='IDDepartamento', ascending=False)"
      ],
      "execution_count": null,
      "outputs": [
        {
          "output_type": "execute_result",
          "data": {
            "text/html": [
              "<div>\n",
              "<style scoped>\n",
              "    .dataframe tbody tr th:only-of-type {\n",
              "        vertical-align: middle;\n",
              "    }\n",
              "\n",
              "    .dataframe tbody tr th {\n",
              "        vertical-align: top;\n",
              "    }\n",
              "\n",
              "    .dataframe thead th {\n",
              "        text-align: right;\n",
              "    }\n",
              "</style>\n",
              "<table border=\"1\" class=\"dataframe\">\n",
              "  <thead>\n",
              "    <tr style=\"text-align: right;\">\n",
              "      <th></th>\n",
              "      <th>Apellido</th>\n",
              "      <th>IDDepartamento</th>\n",
              "      <th>Edad</th>\n",
              "      <th>Edad_meses</th>\n",
              "    </tr>\n",
              "  </thead>\n",
              "  <tbody>\n",
              "    <tr>\n",
              "      <th>5</th>\n",
              "      <td>Gaspar</td>\n",
              "      <td>36</td>\n",
              "      <td>32</td>\n",
              "      <td>384</td>\n",
              "    </tr>\n",
              "    <tr>\n",
              "      <th>3</th>\n",
              "      <td>Róbinson</td>\n",
              "      <td>34</td>\n",
              "      <td>48</td>\n",
              "      <td>576</td>\n",
              "    </tr>\n",
              "    <tr>\n",
              "      <th>4</th>\n",
              "      <td>Zolano</td>\n",
              "      <td>34</td>\n",
              "      <td>56</td>\n",
              "      <td>672</td>\n",
              "    </tr>\n",
              "    <tr>\n",
              "      <th>1</th>\n",
              "      <td>Jordán</td>\n",
              "      <td>33</td>\n",
              "      <td>23</td>\n",
              "      <td>276</td>\n",
              "    </tr>\n",
              "    <tr>\n",
              "      <th>2</th>\n",
              "      <td>Steinberg</td>\n",
              "      <td>33</td>\n",
              "      <td>45</td>\n",
              "      <td>540</td>\n",
              "    </tr>\n",
              "    <tr>\n",
              "      <th>0</th>\n",
              "      <td>Andrade</td>\n",
              "      <td>31</td>\n",
              "      <td>20</td>\n",
              "      <td>240</td>\n",
              "    </tr>\n",
              "  </tbody>\n",
              "</table>\n",
              "</div>"
            ],
            "text/plain": [
              "    Apellido  IDDepartamento  Edad  Edad_meses\n",
              "5     Gaspar              36    32         384\n",
              "3   Róbinson              34    48         576\n",
              "4     Zolano              34    56         672\n",
              "1     Jordán              33    23         276\n",
              "2  Steinberg              33    45         540\n",
              "0    Andrade              31    20         240"
            ]
          },
          "metadata": {
            "tags": []
          },
          "execution_count": 439
        }
      ]
    },
    {
      "cell_type": "code",
      "metadata": {
        "id": "JcZuIUfr3O4F",
        "outputId": "0a04981d-4eb6-4567-b419-bf7c4df4c6aa",
        "colab": {
          "base_uri": "https://localhost:8080/",
          "height": 238
        }
      },
      "source": [
        "Empleado.sort_values(by=['IDDepartamento', 'Apellido'], ascending=[False, False])"
      ],
      "execution_count": null,
      "outputs": [
        {
          "output_type": "execute_result",
          "data": {
            "text/html": [
              "<div>\n",
              "<style scoped>\n",
              "    .dataframe tbody tr th:only-of-type {\n",
              "        vertical-align: middle;\n",
              "    }\n",
              "\n",
              "    .dataframe tbody tr th {\n",
              "        vertical-align: top;\n",
              "    }\n",
              "\n",
              "    .dataframe thead th {\n",
              "        text-align: right;\n",
              "    }\n",
              "</style>\n",
              "<table border=\"1\" class=\"dataframe\">\n",
              "  <thead>\n",
              "    <tr style=\"text-align: right;\">\n",
              "      <th></th>\n",
              "      <th>Apellido</th>\n",
              "      <th>IDDepartamento</th>\n",
              "      <th>Edad</th>\n",
              "      <th>Edad_meses</th>\n",
              "    </tr>\n",
              "  </thead>\n",
              "  <tbody>\n",
              "    <tr>\n",
              "      <th>5</th>\n",
              "      <td>Gaspar</td>\n",
              "      <td>36</td>\n",
              "      <td>32</td>\n",
              "      <td>384</td>\n",
              "    </tr>\n",
              "    <tr>\n",
              "      <th>4</th>\n",
              "      <td>Zolano</td>\n",
              "      <td>34</td>\n",
              "      <td>56</td>\n",
              "      <td>672</td>\n",
              "    </tr>\n",
              "    <tr>\n",
              "      <th>3</th>\n",
              "      <td>Róbinson</td>\n",
              "      <td>34</td>\n",
              "      <td>48</td>\n",
              "      <td>576</td>\n",
              "    </tr>\n",
              "    <tr>\n",
              "      <th>2</th>\n",
              "      <td>Steinberg</td>\n",
              "      <td>33</td>\n",
              "      <td>45</td>\n",
              "      <td>540</td>\n",
              "    </tr>\n",
              "    <tr>\n",
              "      <th>1</th>\n",
              "      <td>Jordán</td>\n",
              "      <td>33</td>\n",
              "      <td>23</td>\n",
              "      <td>276</td>\n",
              "    </tr>\n",
              "    <tr>\n",
              "      <th>0</th>\n",
              "      <td>Andrade</td>\n",
              "      <td>31</td>\n",
              "      <td>20</td>\n",
              "      <td>240</td>\n",
              "    </tr>\n",
              "  </tbody>\n",
              "</table>\n",
              "</div>"
            ],
            "text/plain": [
              "    Apellido  IDDepartamento  Edad  Edad_meses\n",
              "5     Gaspar              36    32         384\n",
              "4     Zolano              34    56         672\n",
              "3   Róbinson              34    48         576\n",
              "2  Steinberg              33    45         540\n",
              "1     Jordán              33    23         276\n",
              "0    Andrade              31    20         240"
            ]
          },
          "metadata": {
            "tags": []
          },
          "execution_count": 440
        }
      ]
    },
    {
      "cell_type": "markdown",
      "metadata": {
        "id": "LuWkaq9W3aw6"
      },
      "source": [
        "### Iteraciones sobre grupos"
      ]
    },
    {
      "cell_type": "code",
      "metadata": {
        "id": "EsMZucIg3dZk",
        "outputId": "dbb1c523-2bc3-445f-8577-1c1cb3cb16da",
        "colab": {
          "base_uri": "https://localhost:8080/",
          "height": 469
        }
      },
      "source": [
        "# key: ID\n",
        "# group: subDataframe\n",
        "for key, group in Empleado.groupby('IDDepartamento'):\n",
        "    print('=' * 50)\n",
        "    print('IDDepartamento = {}'.format(key))\n",
        "    print('-' * 50)\n",
        "    print('DataFrame:')\n",
        "    print(group)"
      ],
      "execution_count": null,
      "outputs": [
        {
          "output_type": "stream",
          "text": [
            "==================================================\n",
            "IDDepartamento = 31\n",
            "--------------------------------------------------\n",
            "DataFrame:\n",
            "  Apellido  IDDepartamento  Edad  Edad_meses\n",
            "0  Andrade              31    20         240\n",
            "==================================================\n",
            "IDDepartamento = 33\n",
            "--------------------------------------------------\n",
            "DataFrame:\n",
            "    Apellido  IDDepartamento  Edad  Edad_meses\n",
            "1     Jordán              33    23         276\n",
            "2  Steinberg              33    45         540\n",
            "==================================================\n",
            "IDDepartamento = 34\n",
            "--------------------------------------------------\n",
            "DataFrame:\n",
            "   Apellido  IDDepartamento  Edad  Edad_meses\n",
            "3  Róbinson              34    48         576\n",
            "4    Zolano              34    56         672\n",
            "==================================================\n",
            "IDDepartamento = 36\n",
            "--------------------------------------------------\n",
            "DataFrame:\n",
            "  Apellido  IDDepartamento  Edad  Edad_meses\n",
            "5   Gaspar              36    32         384\n"
          ],
          "name": "stdout"
        }
      ]
    },
    {
      "cell_type": "code",
      "metadata": {
        "id": "V3N-ukRu3fBk",
        "outputId": "12aaff47-ad3c-4ad6-c45b-b9387fc5931d",
        "colab": {
          "base_uri": "https://localhost:8080/",
          "height": 469
        }
      },
      "source": [
        "# Se extrae solamente la columna 'apellido'\n",
        "for key, group in Empleado.groupby('IDDepartamento')['Apellido']:\n",
        "    print('=' * 50)\n",
        "    print('IDDepartamento = {}'.format(key))\n",
        "    print('-' * 50)\n",
        "    print('DataFrame:')\n",
        "    print(group)"
      ],
      "execution_count": null,
      "outputs": [
        {
          "output_type": "stream",
          "text": [
            "==================================================\n",
            "IDDepartamento = 31\n",
            "--------------------------------------------------\n",
            "DataFrame:\n",
            "0    Andrade\n",
            "Name: Apellido, dtype: object\n",
            "==================================================\n",
            "IDDepartamento = 33\n",
            "--------------------------------------------------\n",
            "DataFrame:\n",
            "1       Jordán\n",
            "2    Steinberg\n",
            "Name: Apellido, dtype: object\n",
            "==================================================\n",
            "IDDepartamento = 34\n",
            "--------------------------------------------------\n",
            "DataFrame:\n",
            "3    Róbinson\n",
            "4      Zolano\n",
            "Name: Apellido, dtype: object\n",
            "==================================================\n",
            "IDDepartamento = 36\n",
            "--------------------------------------------------\n",
            "DataFrame:\n",
            "5    Gaspar\n",
            "Name: Apellido, dtype: object\n"
          ],
          "name": "stdout"
        }
      ]
    },
    {
      "cell_type": "markdown",
      "metadata": {
        "id": "_foGNR9C3hcQ"
      },
      "source": [
        "### Agrupamiento aplicando estadísticas desriptivas"
      ]
    },
    {
      "cell_type": "code",
      "metadata": {
        "id": "5nTQE-dD3lwV",
        "outputId": "f4e634ec-e344-4529-a6e1-47c40e8b876e",
        "colab": {
          "base_uri": "https://localhost:8080/",
          "height": 903
        }
      },
      "source": [
        "df_ventas = pd.DataFrame({'Oficina': np.random.choice([1, 2, 3], 50),\n",
        "                          'Producto': np.random.choice(['a','b','c','d','e'], 50),\n",
        "                          'Valor': np.random.randint(20, size=50)})\n",
        "\n",
        "print(df_ventas)"
      ],
      "execution_count": null,
      "outputs": [
        {
          "output_type": "stream",
          "text": [
            "    Oficina Producto  Valor\n",
            "0         3        b     12\n",
            "1         2        c      5\n",
            "2         1        d      3\n",
            "3         1        a     12\n",
            "4         3        e     18\n",
            "5         3        e      7\n",
            "6         3        b      9\n",
            "7         2        c      8\n",
            "8         2        b     13\n",
            "9         3        a     17\n",
            "10        2        a     19\n",
            "11        2        d     12\n",
            "12        1        a      8\n",
            "13        1        c      9\n",
            "14        3        c      8\n",
            "15        3        d     10\n",
            "16        2        d     14\n",
            "17        3        c      2\n",
            "18        3        b      7\n",
            "19        1        e      0\n",
            "20        2        c     19\n",
            "21        1        b      7\n",
            "22        1        c      2\n",
            "23        1        b      5\n",
            "24        1        d      9\n",
            "25        2        a     12\n",
            "26        3        e      1\n",
            "27        2        a     11\n",
            "28        1        a     12\n",
            "29        3        c     18\n",
            "30        1        a      2\n",
            "31        2        c      6\n",
            "32        3        d      0\n",
            "33        3        a      7\n",
            "34        2        e      6\n",
            "35        3        e      7\n",
            "36        1        c     14\n",
            "37        1        d     12\n",
            "38        2        a      0\n",
            "39        2        e      6\n",
            "40        2        a      1\n",
            "41        2        b     11\n",
            "42        1        b      9\n",
            "43        2        c      0\n",
            "44        3        a      1\n",
            "45        1        e     12\n",
            "46        2        b     18\n",
            "47        1        e      4\n",
            "48        1        b      2\n",
            "49        2        e      2\n"
          ],
          "name": "stdout"
        }
      ]
    },
    {
      "cell_type": "code",
      "metadata": {
        "id": "K2yYMn1n5cmD",
        "outputId": "b6b28d33-5d14-4cbe-d02b-13fed1ad7330",
        "colab": {
          "base_uri": "https://localhost:8080/",
          "height": 551
        }
      },
      "source": [
        "df_ventas.groupby(['Oficina', 'Producto']).sum()"
      ],
      "execution_count": null,
      "outputs": [
        {
          "output_type": "execute_result",
          "data": {
            "text/html": [
              "<div>\n",
              "<style scoped>\n",
              "    .dataframe tbody tr th:only-of-type {\n",
              "        vertical-align: middle;\n",
              "    }\n",
              "\n",
              "    .dataframe tbody tr th {\n",
              "        vertical-align: top;\n",
              "    }\n",
              "\n",
              "    .dataframe thead th {\n",
              "        text-align: right;\n",
              "    }\n",
              "</style>\n",
              "<table border=\"1\" class=\"dataframe\">\n",
              "  <thead>\n",
              "    <tr style=\"text-align: right;\">\n",
              "      <th></th>\n",
              "      <th></th>\n",
              "      <th>Valor</th>\n",
              "    </tr>\n",
              "    <tr>\n",
              "      <th>Oficina</th>\n",
              "      <th>Producto</th>\n",
              "      <th></th>\n",
              "    </tr>\n",
              "  </thead>\n",
              "  <tbody>\n",
              "    <tr>\n",
              "      <th rowspan=\"5\" valign=\"top\">1</th>\n",
              "      <th>a</th>\n",
              "      <td>34</td>\n",
              "    </tr>\n",
              "    <tr>\n",
              "      <th>b</th>\n",
              "      <td>23</td>\n",
              "    </tr>\n",
              "    <tr>\n",
              "      <th>c</th>\n",
              "      <td>25</td>\n",
              "    </tr>\n",
              "    <tr>\n",
              "      <th>d</th>\n",
              "      <td>24</td>\n",
              "    </tr>\n",
              "    <tr>\n",
              "      <th>e</th>\n",
              "      <td>16</td>\n",
              "    </tr>\n",
              "    <tr>\n",
              "      <th rowspan=\"5\" valign=\"top\">2</th>\n",
              "      <th>a</th>\n",
              "      <td>43</td>\n",
              "    </tr>\n",
              "    <tr>\n",
              "      <th>b</th>\n",
              "      <td>42</td>\n",
              "    </tr>\n",
              "    <tr>\n",
              "      <th>c</th>\n",
              "      <td>38</td>\n",
              "    </tr>\n",
              "    <tr>\n",
              "      <th>d</th>\n",
              "      <td>26</td>\n",
              "    </tr>\n",
              "    <tr>\n",
              "      <th>e</th>\n",
              "      <td>14</td>\n",
              "    </tr>\n",
              "    <tr>\n",
              "      <th rowspan=\"5\" valign=\"top\">3</th>\n",
              "      <th>a</th>\n",
              "      <td>25</td>\n",
              "    </tr>\n",
              "    <tr>\n",
              "      <th>b</th>\n",
              "      <td>28</td>\n",
              "    </tr>\n",
              "    <tr>\n",
              "      <th>c</th>\n",
              "      <td>28</td>\n",
              "    </tr>\n",
              "    <tr>\n",
              "      <th>d</th>\n",
              "      <td>10</td>\n",
              "    </tr>\n",
              "    <tr>\n",
              "      <th>e</th>\n",
              "      <td>33</td>\n",
              "    </tr>\n",
              "  </tbody>\n",
              "</table>\n",
              "</div>"
            ],
            "text/plain": [
              "                  Valor\n",
              "Oficina Producto       \n",
              "1       a            34\n",
              "        b            23\n",
              "        c            25\n",
              "        d            24\n",
              "        e            16\n",
              "2       a            43\n",
              "        b            42\n",
              "        c            38\n",
              "        d            26\n",
              "        e            14\n",
              "3       a            25\n",
              "        b            28\n",
              "        c            28\n",
              "        d            10\n",
              "        e            33"
            ]
          },
          "metadata": {
            "tags": []
          },
          "execution_count": 444
        }
      ]
    },
    {
      "cell_type": "markdown",
      "metadata": {
        "id": "fv7SXn413oJ6"
      },
      "source": [
        "### Tablas cruzadas"
      ]
    },
    {
      "cell_type": "code",
      "metadata": {
        "id": "RFcExCCO4Hwt",
        "outputId": "afef2552-5ff0-4fe4-b8c1-85ffc2b6107c",
        "colab": {
          "base_uri": "https://localhost:8080/",
          "height": 175
        }
      },
      "source": [
        "pd.crosstab(df_ventas['Oficina'], df_ventas['Producto'])"
      ],
      "execution_count": null,
      "outputs": [
        {
          "output_type": "execute_result",
          "data": {
            "text/html": [
              "<div>\n",
              "<style scoped>\n",
              "    .dataframe tbody tr th:only-of-type {\n",
              "        vertical-align: middle;\n",
              "    }\n",
              "\n",
              "    .dataframe tbody tr th {\n",
              "        vertical-align: top;\n",
              "    }\n",
              "\n",
              "    .dataframe thead th {\n",
              "        text-align: right;\n",
              "    }\n",
              "</style>\n",
              "<table border=\"1\" class=\"dataframe\">\n",
              "  <thead>\n",
              "    <tr style=\"text-align: right;\">\n",
              "      <th>Producto</th>\n",
              "      <th>a</th>\n",
              "      <th>b</th>\n",
              "      <th>c</th>\n",
              "      <th>d</th>\n",
              "      <th>e</th>\n",
              "    </tr>\n",
              "    <tr>\n",
              "      <th>Oficina</th>\n",
              "      <th></th>\n",
              "      <th></th>\n",
              "      <th></th>\n",
              "      <th></th>\n",
              "      <th></th>\n",
              "    </tr>\n",
              "  </thead>\n",
              "  <tbody>\n",
              "    <tr>\n",
              "      <th>1</th>\n",
              "      <td>4</td>\n",
              "      <td>4</td>\n",
              "      <td>3</td>\n",
              "      <td>3</td>\n",
              "      <td>3</td>\n",
              "    </tr>\n",
              "    <tr>\n",
              "      <th>2</th>\n",
              "      <td>5</td>\n",
              "      <td>3</td>\n",
              "      <td>5</td>\n",
              "      <td>2</td>\n",
              "      <td>3</td>\n",
              "    </tr>\n",
              "    <tr>\n",
              "      <th>3</th>\n",
              "      <td>3</td>\n",
              "      <td>3</td>\n",
              "      <td>3</td>\n",
              "      <td>2</td>\n",
              "      <td>4</td>\n",
              "    </tr>\n",
              "  </tbody>\n",
              "</table>\n",
              "</div>"
            ],
            "text/plain": [
              "Producto  a  b  c  d  e\n",
              "Oficina                \n",
              "1         4  4  3  3  3\n",
              "2         5  3  5  2  3\n",
              "3         3  3  3  2  4"
            ]
          },
          "metadata": {
            "tags": []
          },
          "execution_count": 445
        }
      ]
    },
    {
      "cell_type": "code",
      "metadata": {
        "id": "hvR3ssaK4KAG",
        "outputId": "191e2e09-62a2-45fe-cb54-f571716ab248",
        "colab": {
          "base_uri": "https://localhost:8080/",
          "height": 206
        }
      },
      "source": [
        "pd.crosstab(df_ventas['Oficina'], df_ventas['Producto'], margins=True)"
      ],
      "execution_count": null,
      "outputs": [
        {
          "output_type": "execute_result",
          "data": {
            "text/html": [
              "<div>\n",
              "<style scoped>\n",
              "    .dataframe tbody tr th:only-of-type {\n",
              "        vertical-align: middle;\n",
              "    }\n",
              "\n",
              "    .dataframe tbody tr th {\n",
              "        vertical-align: top;\n",
              "    }\n",
              "\n",
              "    .dataframe thead th {\n",
              "        text-align: right;\n",
              "    }\n",
              "</style>\n",
              "<table border=\"1\" class=\"dataframe\">\n",
              "  <thead>\n",
              "    <tr style=\"text-align: right;\">\n",
              "      <th>Producto</th>\n",
              "      <th>a</th>\n",
              "      <th>b</th>\n",
              "      <th>c</th>\n",
              "      <th>d</th>\n",
              "      <th>e</th>\n",
              "      <th>All</th>\n",
              "    </tr>\n",
              "    <tr>\n",
              "      <th>Oficina</th>\n",
              "      <th></th>\n",
              "      <th></th>\n",
              "      <th></th>\n",
              "      <th></th>\n",
              "      <th></th>\n",
              "      <th></th>\n",
              "    </tr>\n",
              "  </thead>\n",
              "  <tbody>\n",
              "    <tr>\n",
              "      <th>1</th>\n",
              "      <td>4</td>\n",
              "      <td>4</td>\n",
              "      <td>3</td>\n",
              "      <td>3</td>\n",
              "      <td>3</td>\n",
              "      <td>17</td>\n",
              "    </tr>\n",
              "    <tr>\n",
              "      <th>2</th>\n",
              "      <td>5</td>\n",
              "      <td>3</td>\n",
              "      <td>5</td>\n",
              "      <td>2</td>\n",
              "      <td>3</td>\n",
              "      <td>18</td>\n",
              "    </tr>\n",
              "    <tr>\n",
              "      <th>3</th>\n",
              "      <td>3</td>\n",
              "      <td>3</td>\n",
              "      <td>3</td>\n",
              "      <td>2</td>\n",
              "      <td>4</td>\n",
              "      <td>15</td>\n",
              "    </tr>\n",
              "    <tr>\n",
              "      <th>All</th>\n",
              "      <td>12</td>\n",
              "      <td>10</td>\n",
              "      <td>11</td>\n",
              "      <td>7</td>\n",
              "      <td>10</td>\n",
              "      <td>50</td>\n",
              "    </tr>\n",
              "  </tbody>\n",
              "</table>\n",
              "</div>"
            ],
            "text/plain": [
              "Producto   a   b   c  d   e  All\n",
              "Oficina                         \n",
              "1          4   4   3  3   3   17\n",
              "2          5   3   5  2   3   18\n",
              "3          3   3   3  2   4   15\n",
              "All       12  10  11  7  10   50"
            ]
          },
          "metadata": {
            "tags": []
          },
          "execution_count": 446
        }
      ]
    }
  ]
}