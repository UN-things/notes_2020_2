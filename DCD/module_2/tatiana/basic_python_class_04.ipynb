{
  "nbformat": 4,
  "nbformat_minor": 0,
  "metadata": {
    "colab": {
      "name": "basic_python_class_04.ipynb",
      "provenance": [],
      "collapsed_sections": [
        "9NIt06jTqxUR",
        "cXEAMeIKnmc6",
        "Urh-57JFIpRV"
      ],
      "authorship_tag": "ABX9TyO5bl7f72H1D06X2d7+exXt",
      "include_colab_link": true
    },
    "kernelspec": {
      "name": "python3",
      "display_name": "Python 3"
    }
  },
  "cells": [
    {
      "cell_type": "markdown",
      "metadata": {
        "id": "view-in-github",
        "colab_type": "text"
      },
      "source": [
        "<a href=\"https://colab.research.google.com/github/gtzambranop/UN_2020_2/blob/DCD%2Fweek_4/DCD/module_2/basic_python_class_04.ipynb\" target=\"_parent\"><img src=\"https://colab.research.google.com/assets/colab-badge.svg\" alt=\"Open In Colab\"/></a>"
      ]
    },
    {
      "cell_type": "markdown",
      "metadata": {
        "id": "9NIt06jTqxUR",
        "colab_type": "text"
      },
      "source": [
        "# **\"Pyhton Básico\"**\n",
        "\n",
        "* **Profesor:** Francisco Javier Ospina Salazar\n",
        "* **Monitoras:**\n",
        "  - Diana Carolina Sanchez Perez\n",
        "  - Guiselle Tatiana Zambrano Penagos\n",
        "* **Fechas:** \n",
        "  - Inicio: 2020-09-12\n",
        "  - Final: 2020-09-29\n",
        "* [Presentacióón del curso](http://ospinafrancisco.com/)\n"
      ]
    },
    {
      "cell_type": "markdown",
      "metadata": {
        "id": "cXEAMeIKnmc6",
        "colab_type": "text"
      },
      "source": [
        "## Contenido de la clase\n",
        "\n",
        "- Objetos\n",
        "  - Clases\n",
        "    - Métodos\n",
        "    - Atributos\n",
        "  - Módulos para manipulación de datos en python\n",
        "    - Numpy\n",
        "    - Pandas\n",
        "\n"
      ]
    },
    {
      "cell_type": "markdown",
      "metadata": {
        "id": "oCtyoy1gDGZD",
        "colab_type": "text"
      },
      "source": [
        "# Clases u Objetos\n",
        "\n",
        "Los objetos son abstracciones de elementos reales o no reales que disponen de atributos y funciones que permiten interactuar con esos atributos."
      ]
    },
    {
      "cell_type": "markdown",
      "metadata": {
        "id": "DzkVggHSDTaa",
        "colab_type": "text"
      },
      "source": [
        "### Cómo construir clases\n",
        "* Debe haber una definición de la clase\n",
        "* Debe haber un método `__init__` cuya función es la de inicializar los atributos de la clase\n",
        "* Para referirse a los elementos (atributos o funciones) de la clase utilizamos el la entencia \"self.\"\n",
        "* Nota: Es importante tener claridad sobre la \"notación punto\""
      ]
    },
    {
      "cell_type": "markdown",
      "metadata": {
        "id": "bCpZaC9i2vQQ",
        "colab_type": "text"
      },
      "source": [
        "## Métodos mágicos - **Dunders**\n",
        "\n",
        "Son métodos especiales que tienen **doble guión bajo** al principio y al final de sus nombres.\n",
        "\n",
        "Un uso común de estos es la **sobrecarga de operadores**. Esto significa definir operadores para clases personalizadas que permiten que operadores tales como `+`, `and`, `*` sean utilizados en ellas"
      ]
    },
    {
      "cell_type": "markdown",
      "metadata": {
        "id": "WBY_BKxY3lBB",
        "colab_type": "text"
      },
      "source": [
        "Ejemplo de `__add__` para `+`:"
      ]
    },
    {
      "cell_type": "code",
      "metadata": {
        "id": "EFCbuFcp3q9R",
        "colab_type": "code",
        "colab": {}
      },
      "source": [
        "class Vector2D:\n",
        "  # TODOS los métodos de una clase deben tener 'self' como su primer parámetro\n",
        "  def __init__(self, x, y):\n",
        "    self.x = x;\n",
        "    self.y = y\n",
        "  \n",
        "  def __add__(self, other):\n",
        "    # Retorno una nueva instancia de la clase Vector2D donde:\n",
        "    # x = la suma del atributo x de los 2 vectores\n",
        "    # y = la suma del atributo y de los 2 vectores\n",
        "    return Vector2D((self.x + other.x), (self.y + other.y))"
      ],
      "execution_count": 446,
      "outputs": []
    },
    {
      "cell_type": "code",
      "metadata": {
        "id": "aWkvGmhE4ypW",
        "colab_type": "code",
        "colab": {
          "base_uri": "https://localhost:8080/",
          "height": 34
        },
        "outputId": "d6c92b6e-784b-4514-df9a-4ee89130f4d8"
      },
      "source": [
        "first = Vector2D(8, 9)\n",
        "second = Vector2D(2, 3)\n",
        "\n",
        "# first + second -> utilizan el método __add__ que sobrecarga el operador +\n",
        "# Es decir, se redefine el operador +\n",
        "\n",
        "# Esto se traduce a: \n",
        "#result = first.__add__(second) # DESCOMENTAR LINEA - se ejecuta con normalidad\n",
        "result = first + second\n",
        "\n",
        "# La suma retorna una instancia que es asignada a la variable 'result'\n",
        "print(type(result))\n"
      ],
      "execution_count": 447,
      "outputs": [
        {
          "output_type": "stream",
          "text": [
            "<class '__main__.Vector2D'>\n"
          ],
          "name": "stdout"
        }
      ]
    },
    {
      "cell_type": "code",
      "metadata": {
        "id": "MBjQpI4p5xek",
        "colab_type": "code",
        "colab": {
          "base_uri": "https://localhost:8080/",
          "height": 52
        },
        "outputId": "6e522f5c-356f-4668-b13b-63c1b5786892"
      },
      "source": [
        "print(result.x) # 8 + 2 = 10 = first.x + second.x\n",
        "print(result.y) # 9 + 3 = 12 = first.y + second.y"
      ],
      "execution_count": 448,
      "outputs": [
        {
          "output_type": "stream",
          "text": [
            "10\n",
            "12\n"
          ],
          "name": "stdout"
        }
      ]
    },
    {
      "cell_type": "markdown",
      "metadata": {
        "id": "RwFUne3I6Lgg",
        "colab_type": "text"
      },
      "source": [
        "### Más métodos mágicos para operadores comunes\n",
        "\n",
        "- `__sub__` para `-`\n",
        "- `__mul__` para `*`\n",
        "- `__truediv__` para `/`\n",
        "- `__floordiv__` para `//`\n",
        "- `__mod__` para `%`\n",
        "- `__pow__` para `**`\n",
        "- `__and__` para `&`\n",
        "- `__xor__` para `^`\n",
        "- `__or__` para `|`\n",
        "- `__lt__` para `<`\n",
        "- `__le__` para `<=`\n",
        "- `__eq__` para `==`\n",
        "- `__ne__` para `!=`\n",
        "- `__gt__` para `>`\n",
        "- `__ge__` para `>=`\n",
        "\n",
        "Hay más métodos mágicos pero no los voy a poner todos [acá](https://www.reddit.com/r/Python/comments/br9ok2/list_of_all_python_dunder_methods/) encontré un foro donde enlistan muchos más\n"
      ]
    },
    {
      "cell_type": "code",
      "metadata": {
        "id": "GUJFUjvS7OV2",
        "colab_type": "code",
        "colab": {}
      },
      "source": [
        "# Otro ejemplo\n",
        "\n",
        "class SpecialString:\n",
        "  def __init__(self, cont):\n",
        "    self.cont = cont\n",
        "\n",
        "  # sobrecarga del operador '/'\n",
        "  def __truediv__(self, other):\n",
        "    # Multiplicamos el string \"=\" por la longitud del string other.cont\n",
        "    line = \"=\" * len(other.cont)\n",
        "    return \"\\n\".join([self.cont, line, other.cont])"
      ],
      "execution_count": 449,
      "outputs": []
    },
    {
      "cell_type": "code",
      "metadata": {
        "id": "DCxcOGGF8djA",
        "colab_type": "code",
        "colab": {
          "base_uri": "https://localhost:8080/",
          "height": 69
        },
        "outputId": "30bda393-59ac-42e5-aa7f-43b20bf78e63"
      },
      "source": [
        "spam = SpecialString(\"Spam Spam :p\")\n",
        "hello = SpecialString(\"Hello World :D\")\n",
        "\n",
        "result = spam.__truediv__(hello)\n",
        "print(result)"
      ],
      "execution_count": 450,
      "outputs": [
        {
          "output_type": "stream",
          "text": [
            "Spam Spam :p\n",
            "==============\n",
            "Hello World :D\n"
          ],
          "name": "stdout"
        }
      ]
    },
    {
      "cell_type": "code",
      "metadata": {
        "id": "gmYqpZuP9KXg",
        "colab_type": "code",
        "colab": {
          "base_uri": "https://localhost:8080/",
          "height": 69
        },
        "outputId": "b31e3053-20de-49e8-e0c5-9cf9ead98c2f"
      },
      "source": [
        "print(spam/hello)"
      ],
      "execution_count": 451,
      "outputs": [
        {
          "output_type": "stream",
          "text": [
            "Spam Spam :p\n",
            "==============\n",
            "Hello World :D\n"
          ],
          "name": "stdout"
        }
      ]
    },
    {
      "cell_type": "markdown",
      "metadata": {
        "id": "Bjqz5X3rDyMK",
        "colab_type": "text"
      },
      "source": [
        "#### Ejemplo con clase tiempo\n",
        "* Version 0: Clase nula\n",
        "* Version 1: Clase simple\n",
        "* Version 2: Validando horas correctas\n",
        "* Version 3: Dando formato para poder visualizar con la función str\n",
        "* Version 4: Clase completa vista en clase"
      ]
    },
    {
      "cell_type": "markdown",
      "metadata": {
        "id": "kEswVZ8NEH08",
        "colab_type": "text"
      },
      "source": [
        "##### Version 0: Clase *nula*"
      ]
    },
    {
      "cell_type": "code",
      "metadata": {
        "id": "N65pJfh5C8Fk",
        "colab_type": "code",
        "colab": {}
      },
      "source": [
        "# Version 0 Clase nula\n",
        "class Tiempo():\n",
        "    pass"
      ],
      "execution_count": 452,
      "outputs": []
    },
    {
      "cell_type": "code",
      "metadata": {
        "id": "lV0xTHUpIbeO",
        "colab_type": "code",
        "colab": {}
      },
      "source": [
        "t1 = Tiempo()"
      ],
      "execution_count": 453,
      "outputs": []
    },
    {
      "cell_type": "markdown",
      "metadata": {
        "id": "8trdsuRBERBs",
        "colab_type": "text"
      },
      "source": [
        "##### Version 1: Clase simple"
      ]
    },
    {
      "cell_type": "code",
      "metadata": {
        "id": "VyoiO3kgIfBi",
        "colab_type": "code",
        "colab": {
          "base_uri": "https://localhost:8080/",
          "height": 34
        },
        "outputId": "1da6dea2-452f-42e6-dbf4-cd662a13acaf"
      },
      "source": [
        "class Tiempo():\n",
        "  def __init__(self, hora = 0, minuto = 0, segundo = 0):\n",
        "    # Definicion e inicialización de atributos de un objeto de la clase tiempo\n",
        "    self.hora = hora\n",
        "    self.minuto = minuto\n",
        "    self.segundo = segundo\n",
        "\n",
        "\n",
        "t1 = Tiempo(-19, 22, 35)\n",
        "print(t1.hora, t1.minuto, t1.segundo)"
      ],
      "execution_count": 454,
      "outputs": [
        {
          "output_type": "stream",
          "text": [
            "-19 22 35\n"
          ],
          "name": "stdout"
        }
      ]
    },
    {
      "cell_type": "markdown",
      "metadata": {
        "id": "AMW_rpfoEd7N",
        "colab_type": "text"
      },
      "source": [
        "##### Version 2: Validando horas correctas"
      ]
    },
    {
      "cell_type": "code",
      "metadata": {
        "id": "P5Im9_MTKexy",
        "colab_type": "code",
        "colab": {
          "base_uri": "https://localhost:8080/",
          "height": 34
        },
        "outputId": "570ffbc3-9092-4062-b2bf-34c69401cc9b"
      },
      "source": [
        "class Tiempo():\n",
        "  def __init__(self, hora=0, minuto=0, segundo=0):\n",
        "        self.hora = 0 if hora < 0 or hora > 23 else hora\n",
        "        self.minuto = 0 if minuto < 0 or minuto > 59 else minuto\n",
        "        self.segundo = 0 if segundo < 0 or segundo > 59 else segundo\n",
        "        \n",
        "\n",
        "t1 = Tiempo(-19, 22, 399)\n",
        "print(\"{}:{}:{}\".format(t1.hora, t1.minuto, t1.segundo))\n"
      ],
      "execution_count": 455,
      "outputs": [
        {
          "output_type": "stream",
          "text": [
            "0:22:0\n"
          ],
          "name": "stdout"
        }
      ]
    },
    {
      "cell_type": "code",
      "metadata": {
        "id": "0wPoXb2jLN04",
        "colab_type": "code",
        "colab": {
          "base_uri": "https://localhost:8080/",
          "height": 34
        },
        "outputId": "e3b1aa41-cad7-4dc2-ef31-81904c3b7041"
      },
      "source": [
        "t1 = Tiempo(19, 32, 39)\n",
        "print(\"{}:{}:{}\".format(t1.hora, t1.minuto, t1.segundo))"
      ],
      "execution_count": 456,
      "outputs": [
        {
          "output_type": "stream",
          "text": [
            "19:32:39\n"
          ],
          "name": "stdout"
        }
      ]
    },
    {
      "cell_type": "markdown",
      "metadata": {
        "id": "yICph4_CEi1G",
        "colab_type": "text"
      },
      "source": [
        "##### Version 3: Dando formato para poder visualizar con la función str\n"
      ]
    },
    {
      "cell_type": "code",
      "metadata": {
        "id": "jAJF21CAMBvs",
        "colab_type": "code",
        "colab": {}
      },
      "source": [
        "class Tiempo():\n",
        "  def __init__(self, hora=0, minuto=0, segundo=0):\n",
        "        self.hora = 0 if hora < 0 or hora > 23 else hora\n",
        "        self.minuto = 0 if minuto < 0 or minuto > 59 else minuto\n",
        "        self.segundo = 0 if segundo < 0 or segundo > 59 else segundo\n",
        "        \n",
        "  # Método invocado al hacer uso de la función print de python          \n",
        "  def __str__(self):\n",
        "      hora_str = str(self.hora) if self.hora > 9 else '0' + str(self.hora)\n",
        "      minuto_str = str(self.minuto) if self.minuto > 9 else '0' + str(self.minuto)\n",
        "      segundo_str = str(self.segundo) if self.segundo > 9 else '0' + str(self.segundo)\n",
        "      return '{}:{}:{}'.format(hora_str, minuto_str, segundo_str)"
      ],
      "execution_count": 457,
      "outputs": []
    },
    {
      "cell_type": "code",
      "metadata": {
        "id": "1DDtIWRVMxf9",
        "colab_type": "code",
        "colab": {
          "base_uri": "https://localhost:8080/",
          "height": 52
        },
        "outputId": "571207b8-42fb-456e-bc1d-f8c3b0627398"
      },
      "source": [
        "t1 = Tiempo(1, 32, 39)\n",
        "print(str(t1))\n",
        "print(t1)\n"
      ],
      "execution_count": 458,
      "outputs": [
        {
          "output_type": "stream",
          "text": [
            "01:32:39\n",
            "01:32:39\n"
          ],
          "name": "stdout"
        }
      ]
    },
    {
      "cell_type": "markdown",
      "metadata": {
        "id": "5WdUIc7w2HBC",
        "colab_type": "text"
      },
      "source": [
        "#### Versióón 4: Clase completa vista en clase"
      ]
    },
    {
      "cell_type": "code",
      "metadata": {
        "id": "cuQ9tFju1ElT",
        "colab_type": "code",
        "colab": {}
      },
      "source": [
        "\n",
        "class tiempo(): # Nombre de la clase\n",
        "    \n",
        "    def __init__(self, hora=0, minuto=0, segundo=0):\n",
        "        # Definición de paramétros internos de la clase\n",
        "        \n",
        "        self.hora = 0 if hora < 0 or hora > 23 else hora\n",
        "        self.minuto = 0 if minuto < 0 or minuto > 59 else minuto\n",
        "        self.segundo = 0 if segundo < 0 or segundo > 59 else segundo\n",
        "        \n",
        "    # Metodo que recibe los parametros hora, minuto y segundo y los suma a mi clase tiempo actual\n",
        "    def suma_hms(self, hora=0, minuto=0, segundo=0):\n",
        "        self.segundo = self.segundo + segundo\n",
        "        if self.segundo > 59: # Si segundo supera 60 se transforman 60 segundos a minuto\n",
        "            self.segundo = self.segundo % 60\n",
        "            self.minuto = self.minuto + 1\n",
        "        self.minuto = self.minuto + minuto\n",
        "        if self.minuto > 59: # Si segundo supera 60 se transforman 60 segundos a minuto\n",
        "            self.minuto = self.minuto % 60\n",
        "            self.hora = self.hora + 1\n",
        "        self.hora = self.hora + hora # Si hora supera 24 quiere decir que ya pasó un día y se pasó al siguiente\n",
        "        if self.hora > 23:\n",
        "            self.hora = self.hora % 24\n",
        "            \n",
        "    # A pesar de no haber sido definido el atributo franja al inicio de la clase se puede crear posteriormente\n",
        "    def set_franja_horaria(self):\n",
        "        if self.hora < 12: \n",
        "            self.franja = 'mañana'\n",
        "        elif self.hora >= 12 and self.hora < 19:\n",
        "            self.franja = 'tarde'\n",
        "        else:\n",
        "            self.franja = 'noche'\n",
        "    \n",
        "    # Un método de una clase puede invocar a otros métodos\n",
        "    def suma_tiempo(self, t2):\n",
        "        self.suma_hms(hora=t2.hora, minuto=t2.minuto, segundo=t2.segundo)\n",
        "        self.set_franja_horaria()\n",
        "        \n",
        "    # Uso de el operador + para hacer una suma de tiempos\n",
        "    # Esto tiene un nombre en programación y es sobrecarga del operador +\n",
        "    def __add__(self, t2):\n",
        "        temp = tiempo(hora=self.hora, minuto=self.minuto, segundo=self.segundo)\n",
        "        temp.suma_tiempo(t2)\n",
        "        return temp\n",
        "    \n",
        "    # Método invocado al hacer uso de la función print de python          \n",
        "    def __str__(self):\n",
        "        hora_str = str(self.hora) if self.hora > 9 else '0' + str(self.hora)\n",
        "        minuto_str = str(self.minuto) if self.minuto > 9 else '0' + str(self.minuto)\n",
        "        segundo_str = str(self.segundo) if self.segundo > 9 else '0' + str(self.segundo)\n",
        "        return '{}:{}:{}'.format(hora_str, minuto_str, segundo_str)"
      ],
      "execution_count": 459,
      "outputs": []
    },
    {
      "cell_type": "markdown",
      "metadata": {
        "id": "ScgeuphGF9jq",
        "colab_type": "text"
      },
      "source": [
        "## Herencia en Clases\n"
      ]
    },
    {
      "cell_type": "markdown",
      "metadata": {
        "id": "EfbQOP2zAxR5",
        "colab_type": "text"
      },
      "source": [
        "La Herencia brinda una manera de compartir funcionalidades entre clases.\n",
        "\n",
        "Una clase que hereda de otra clase se le llama **Subclase**.\n",
        "\n",
        "Una clase de la cual se hereda se llama **Superclase**."
      ]
    },
    {
      "cell_type": "code",
      "metadata": {
        "id": "k2cH5C-RGFSD",
        "colab_type": "code",
        "colab": {}
      },
      "source": [
        "class punto_2d():\n",
        "    def __init__(self, x, y):\n",
        "        self.x = x\n",
        "        self.y = y\n",
        "    \n",
        "    # Sobrescritura para el método print de python\n",
        "    def __str__(self):\n",
        "        return '({},{})'.format(self.x, self.y)"
      ],
      "execution_count": 460,
      "outputs": []
    },
    {
      "cell_type": "code",
      "metadata": {
        "id": "m9ljbFgwGN_q",
        "colab_type": "code",
        "colab": {
          "base_uri": "https://localhost:8080/",
          "height": 34
        },
        "outputId": "51af05b1-50ac-4556-da47-a164313fd68c"
      },
      "source": [
        "punto1 = punto_2d(2,5)\n",
        "print(punto1)"
      ],
      "execution_count": 461,
      "outputs": [
        {
          "output_type": "stream",
          "text": [
            "(2,5)\n"
          ],
          "name": "stdout"
        }
      ]
    },
    {
      "cell_type": "code",
      "metadata": {
        "id": "S7MSVJgXGXZ_",
        "colab_type": "code",
        "colab": {}
      },
      "source": [
        "class punto_3d():    \n",
        "    def __init__(self, x, y, z):\n",
        "        self.p2d = punto_2d(x,y)\n",
        "        self.z = z\n",
        "    \n",
        "    def __str__(self):\n",
        "        return '({},{},{})'.format(self.p2d.x, self.p2d.y, self.z)"
      ],
      "execution_count": 462,
      "outputs": []
    },
    {
      "cell_type": "code",
      "metadata": {
        "id": "fLmnYcMsGdNo",
        "colab_type": "code",
        "colab": {
          "base_uri": "https://localhost:8080/",
          "height": 34
        },
        "outputId": "d635c330-46dd-42dc-eef4-ee710ef5d0f2"
      },
      "source": [
        "punto2 = punto_3d(2,5,8)\n",
        "print(punto2)"
      ],
      "execution_count": 463,
      "outputs": [
        {
          "output_type": "stream",
          "text": [
            "(2,5,8)\n"
          ],
          "name": "stdout"
        }
      ]
    },
    {
      "cell_type": "markdown",
      "metadata": {
        "id": "P8s90KquAokU",
        "colab_type": "text"
      },
      "source": [
        "### Otro ejemplo de Herencia de clases"
      ]
    },
    {
      "cell_type": "code",
      "metadata": {
        "id": "LWTcPph7Ankw",
        "colab_type": "code",
        "colab": {}
      },
      "source": [
        "class Animal:\n",
        "  def __init__(self, name, color):\n",
        "    self.name = name\n",
        "    self.color = color\n",
        "\n",
        "# Indico que la clase Cat hereda de la clase Animal\n",
        "# Por lo tanto la clase Cat hereda los atributos name y color\n",
        "class Cat(Animal):\n",
        "  def purr(self):\n",
        "    print(\"Purr :3\")\n",
        "\n",
        "# Indico que la clase Dog hereda de la clase Animal\n",
        "# Por lo tanto la clase Cat hereda los atributos name y color\n",
        "class Dog(Animal):\n",
        "  def bark(self):\n",
        "    print(\"Woof! :p\")"
      ],
      "execution_count": 464,
      "outputs": []
    },
    {
      "cell_type": "code",
      "metadata": {
        "id": "m56FvLR5B18R",
        "colab_type": "code",
        "colab": {
          "base_uri": "https://localhost:8080/",
          "height": 52
        },
        "outputId": "37d45a54-2cd9-429a-f032-5b5ef5c6ee23"
      },
      "source": [
        "# Al instanciar un objeto de la clase Dog, ingreso los atributos\n",
        "# name y color que fueron heredados de la clase Animal\n",
        "fido = Dog(\"Fido\", \"Brown\")\n",
        "\n",
        "# Accedo a un atributo de un objeto usando\n",
        "# nombre_objeto.nombre_atributo\n",
        "print(fido.color)\n",
        "\n",
        "# Accedo a un método de un objeto usando\n",
        "# nombre_objeto.nombre_metodo() -> NO olvidar los parentesis al final\n",
        "fido.bark()"
      ],
      "execution_count": 465,
      "outputs": [
        {
          "output_type": "stream",
          "text": [
            "Brown\n",
            "Woof! :p\n"
          ],
          "name": "stdout"
        }
      ]
    },
    {
      "cell_type": "code",
      "metadata": {
        "id": "hfP8Ftu5CC3T",
        "colab_type": "code",
        "colab": {
          "base_uri": "https://localhost:8080/",
          "height": 52
        },
        "outputId": "695e7040-778d-4b7d-955a-60486fbc7667"
      },
      "source": [
        "# Al instanciar un objeto de la clase Cat, ingreso los atributos\n",
        "# name y color que fueron heredados de la clase Animal\n",
        "luna = Cat(\"Luna\", \"Black and Gray\")\n",
        "\n",
        "# Accedo a un atributo de un objeto usando\n",
        "# nombre_objeto.nombre_atributo\n",
        "print(luna.name)\n",
        "\n",
        "# Accedo a un método de un objeto usando\n",
        "# nombre_objeto.nombre_metodo() -> NO olvidar los parentesis al final\n",
        "luna.purr()"
      ],
      "execution_count": 466,
      "outputs": [
        {
          "output_type": "stream",
          "text": [
            "Luna\n",
            "Purr :3\n"
          ],
          "name": "stdout"
        }
      ]
    },
    {
      "cell_type": "markdown",
      "metadata": {
        "id": "eWSb3qvICpyu",
        "colab_type": "text"
      },
      "source": [
        "Si una clase hereda de otra con los mismos atributos o métodos, los sobrescribe."
      ]
    },
    {
      "cell_type": "code",
      "metadata": {
        "id": "Bb1IYpEEC1Au",
        "colab_type": "code",
        "colab": {}
      },
      "source": [
        "class Wolf:\n",
        "  def __init__(self, name, color):\n",
        "    self.name = name\n",
        "    self.color = color\n",
        "  \n",
        "  def bark(self):\n",
        "    print(\"Grrr... >:v\")\n",
        "\n",
        "class Dog(Wolf):\n",
        "  # Acá sobrescribo el método bark que fué heredado de la clase Wolf\n",
        "  def bark(self):\n",
        "    # Ya no va a imprimir \"Grrr... >:v\" sino \"Woof :p\"\n",
        "    print(\"Woof :p\")"
      ],
      "execution_count": 467,
      "outputs": []
    },
    {
      "cell_type": "code",
      "metadata": {
        "id": "whgAgtHBEHgc",
        "colab_type": "code",
        "colab": {
          "base_uri": "https://localhost:8080/",
          "height": 34
        },
        "outputId": "7e8fa128-02f6-4343-d0c8-0e69ab2ebe29"
      },
      "source": [
        "max = Wolf(\"Max\", \"Grey\")\n",
        "max.bark()"
      ],
      "execution_count": 468,
      "outputs": [
        {
          "output_type": "stream",
          "text": [
            "Grrr... >:v\n"
          ],
          "name": "stdout"
        }
      ]
    },
    {
      "cell_type": "code",
      "metadata": {
        "id": "gm2mCkDXEVl3",
        "colab_type": "code",
        "colab": {
          "base_uri": "https://localhost:8080/",
          "height": 34
        },
        "outputId": "c0db9128-f0a9-40c8-9990-4ea789ea110e"
      },
      "source": [
        "jack = Dog(\"Jack\", \"Black\")\n",
        "jack.bark()"
      ],
      "execution_count": 469,
      "outputs": [
        {
          "output_type": "stream",
          "text": [
            "Woof :p\n"
          ],
          "name": "stdout"
        }
      ]
    },
    {
      "cell_type": "markdown",
      "metadata": {
        "id": "qDZbkn0QFfE5",
        "colab_type": "text"
      },
      "source": [
        "## Ocultamiento de Información\n",
        "\n",
        "Un componente clave en la programación orientada a objetos es el **encapsulamiento**, que involucra empaquetar las variables y funciones relacionadas en un único objeto fácil de usar.\n",
        "\n",
        "Un concepto asociado es el **ocultamiento de información**, el cual dicta que los **detalles** de implementación de una clase deben estar ocultos y que sean presentados a aquellos que quieran utilizar la clase en una interfaz estandar limpia.\n",
        "\n",
        "En python, no hay maneras de imponer que un método o atributo sea estrictamente privado. \n",
        "\n",
        "Se asume que no se forzará el acceso a estos atributos, también se usa esta convensión para evitar errores en caso de qu[texto del enlace](https://)e existan subclases que tengan métodos o atributos con los mismos nombres"
      ]
    },
    {
      "cell_type": "markdown",
      "metadata": {
        "id": "J52upZnAMOEj",
        "colab_type": "text"
      },
      "source": [
        "### Métodos devilmente tipados"
      ]
    },
    {
      "cell_type": "markdown",
      "metadata": {
        "id": "gab7eIR1H_wK",
        "colab_type": "text"
      },
      "source": [
        "Los métodos y atributos débilmente privados tienen un **único guión bajo** al principio.\n",
        "\n",
        "Esto señala que son privados, y no deberían ser utilizados por código externo. Sin embargo, es en su mayor parte una convensión, y no impide que el código externo los acceda.\n",
        "\n",
        "Su único efecto verdadero es que `from module_name import *` no importará a las variables que empiecen con un único guion bajo."
      ]
    },
    {
      "cell_type": "code",
      "metadata": {
        "id": "1grE_nESHVcw",
        "colab_type": "code",
        "colab": {}
      },
      "source": [
        "class Person:\n",
        "  def __init__(self, name, last_name, age, document):\n",
        "    self.name = name\n",
        "    self.last_name = last_name\n",
        "    self.age = age\n",
        "    # Defino un atributo privado\n",
        "    self._document = document\n",
        "    \n",
        "    # Al atributo full_name se le asigna el resultado \n",
        "    # de la función _create_full_name\n",
        "    # para llamarlo se debe usar la palabra reservada self, así:\n",
        "    # self._create_full_name()\n",
        "    self.full_name = self._create_full_name()\n",
        "\n",
        "  # Defino un método privado\n",
        "  def _create_full_name(self):\n",
        "    return \"{} {}\".format(self.name, self.last_name)"
      ],
      "execution_count": 470,
      "outputs": []
    },
    {
      "cell_type": "code",
      "metadata": {
        "id": "bkVvfJHRKSCb",
        "colab_type": "code",
        "colab": {
          "base_uri": "https://localhost:8080/",
          "height": 34
        },
        "outputId": "18f0f405-300d-4d11-d76e-30b5d67dbd9d"
      },
      "source": [
        "tatiana = Person(\"Tatiana\", \"Zambrano\", \"95\", \"123456789\")\n",
        "# Accedo a un atributo no privado\n",
        "print(tatiana.full_name)"
      ],
      "execution_count": 471,
      "outputs": [
        {
          "output_type": "stream",
          "text": [
            "Tatiana Zambrano\n"
          ],
          "name": "stdout"
        }
      ]
    },
    {
      "cell_type": "code",
      "metadata": {
        "id": "jFWED-7gK6vk",
        "colab_type": "code",
        "colab": {
          "base_uri": "https://localhost:8080/",
          "height": 34
        },
        "outputId": "d705a466-1a72-40ff-e62a-ae93e5bde948"
      },
      "source": [
        "# Aunque estéé marcado como privado, este método puede ser accedido\n",
        "# por código externo\n",
        "print(tatiana._create_full_name())"
      ],
      "execution_count": 472,
      "outputs": [
        {
          "output_type": "stream",
          "text": [
            "Tatiana Zambrano\n"
          ],
          "name": "stdout"
        }
      ]
    },
    {
      "cell_type": "code",
      "metadata": {
        "id": "JTyj7yn-MajW",
        "colab_type": "code",
        "colab": {
          "base_uri": "https://localhost:8080/",
          "height": 34
        },
        "outputId": "3602ed66-e67c-4671-ed2e-b2f1b3289f1c"
      },
      "source": [
        "print(tatiana._document)"
      ],
      "execution_count": 473,
      "outputs": [
        {
          "output_type": "stream",
          "text": [
            "123456789\n"
          ],
          "name": "stdout"
        }
      ]
    },
    {
      "cell_type": "markdown",
      "metadata": {
        "id": "rCXBjvgDMgj2",
        "colab_type": "text"
      },
      "source": [
        "### Métodos fuertemente tipados"
      ]
    },
    {
      "cell_type": "markdown",
      "metadata": {
        "id": "H062uFeUMmzg",
        "colab_type": "text"
      },
      "source": [
        "Tienen **doble guion bajo** al principio de sus nombres. Esto hace que sus nombres sean decorados, lo cual significa que no pueden ser accedidos desde afuera de la clase de manera convencional.\n",
        "\n",
        "Estos métodos o atributos pueden ser accedidos con un nombre diferente:\n",
        "\n",
        "```python\n",
        "# inicia con 1 guion bajo\n",
        "# entre el nombre de la clase y el atributo o método van 2 guiones bajos\n",
        "_NombreClase__atributo\n",
        "_NombreClase__metodo()\n",
        "```"
      ]
    },
    {
      "cell_type": "code",
      "metadata": {
        "colab_type": "code",
        "id": "oSpPIJZzOFXi",
        "colab": {}
      },
      "source": [
        "class Person:\n",
        "  def __init__(self, name, last_name, age, document):\n",
        "    self.name = name\n",
        "    self.last_name = last_name\n",
        "    self.age = age\n",
        "    # Defino un atributo privado\n",
        "    self.__document = document\n",
        "\n",
        "    # Al atributo full_name se le asigna el resultado \n",
        "    # de la función _create_full_name\n",
        "    # para llamarlo se debe usar la palabra reservada self, así:\n",
        "    # self._create_full_name()\n",
        "    self.full_name = self.__create_full_name()\n",
        "\n",
        "  # Defino un método privado\n",
        "  def __create_full_name(self):\n",
        "    return \"{} {}\".format(self.name, self.last_name)"
      ],
      "execution_count": 474,
      "outputs": []
    },
    {
      "cell_type": "code",
      "metadata": {
        "id": "AbQ92i61OJln",
        "colab_type": "code",
        "colab": {
          "base_uri": "https://localhost:8080/",
          "height": 34
        },
        "outputId": "16e04192-6096-4478-c6b7-21d14424f3f5"
      },
      "source": [
        "diana = Person(\"Diana\", \"Sanchez\", \"20\", \"987654321\")\n",
        "print(diana.full_name)"
      ],
      "execution_count": 475,
      "outputs": [
        {
          "output_type": "stream",
          "text": [
            "Diana Sanchez\n"
          ],
          "name": "stdout"
        }
      ]
    },
    {
      "cell_type": "code",
      "metadata": {
        "id": "cboLvnPGOlnf",
        "colab_type": "code",
        "colab": {}
      },
      "source": [
        "#print(diana.__create_full_name) # ERROR"
      ],
      "execution_count": 476,
      "outputs": []
    },
    {
      "cell_type": "code",
      "metadata": {
        "id": "of7ocUg_Ovzw",
        "colab_type": "code",
        "colab": {
          "base_uri": "https://localhost:8080/",
          "height": 34
        },
        "outputId": "0084a1f2-ce85-4a33-c2be-e6dda64e04d0"
      },
      "source": [
        "# diana._NombreClase__Atributo\n",
        "print(diana._Person__document)"
      ],
      "execution_count": 477,
      "outputs": [
        {
          "output_type": "stream",
          "text": [
            "987654321\n"
          ],
          "name": "stdout"
        }
      ]
    },
    {
      "cell_type": "code",
      "metadata": {
        "id": "20TkALXuPc2d",
        "colab_type": "code",
        "colab": {
          "base_uri": "https://localhost:8080/",
          "height": 34
        },
        "outputId": "6e6afc47-c0d1-45c7-f1f0-49ca48812380"
      },
      "source": [
        "# NO olviden los parentesis después del nombre del método\n",
        "# diana._NombreClase__Método()\n",
        "print(diana._Person__create_full_name())"
      ],
      "execution_count": 478,
      "outputs": [
        {
          "output_type": "stream",
          "text": [
            "Diana Sanchez\n"
          ],
          "name": "stdout"
        }
      ]
    },
    {
      "cell_type": "markdown",
      "metadata": {
        "id": "wngpaqtrGnbk",
        "colab_type": "text"
      },
      "source": [
        "# Módulos Numpy, Pandas y Numba"
      ]
    },
    {
      "cell_type": "markdown",
      "metadata": {
        "id": "KXYQ6Z5tIJuG",
        "colab_type": "text"
      },
      "source": [
        "## Numpy\n",
        "\n",
        "Numpy es el módulo fundamental para la computación científica con Python. Es un paquete de funciones y herramientas matemáticas y numéricas de alto nivel que estáán diseñadas para trabajar con el objeto matriz numpy.\n",
        "\n",
        "* Matrices multidimensionales\n",
        "* Herramientas avanzadas para algebra líneal\n",
        "* Funciones para trabajar con número aleatorios\n",
        "* Su nucleo de procesamiento por debajo de Python está escrito en Fortran y C++"
      ]
    },
    {
      "cell_type": "markdown",
      "metadata": {
        "id": "7sfRK_siIfYU",
        "colab_type": "text"
      },
      "source": [
        "### Carga de módulo de Numpy"
      ]
    },
    {
      "cell_type": "markdown",
      "metadata": {
        "id": "liLN2nofjEEi",
        "colab_type": "text"
      },
      "source": [
        "Es posible abreviar los namespaces mediante un alias. Para ello, durante la importación, se asigna la palabra clave **as** seguida del _alias_ con el cuál nos referiremos en el futuro a ese namespace importado:"
      ]
    },
    {
      "cell_type": "code",
      "metadata": {
        "id": "4eypCa6TIh4N",
        "colab_type": "code",
        "colab": {}
      },
      "source": [
        "# np = alias de numpy\n",
        "import numpy as np"
      ],
      "execution_count": 479,
      "outputs": []
    },
    {
      "cell_type": "markdown",
      "metadata": {
        "id": "Urh-57JFIpRV",
        "colab_type": "text"
      },
      "source": [
        "### Tipos de datos en Numpy\n",
        "\n",
        "* Data type Description\n",
        "* bool_ Boolean (True or False) stored as a byte\n",
        "* int_ Default integer type (same as C long; normally either int64 or - int32)\n",
        "* intc Identical to C int (normally int32 or int64)\n",
        "* intp Integer used for indexing (same as C ssize_t; normally either - int32 or int64)\n",
        "* int8 Byte (-128 to 127)\n",
        "* int16 Integer (-32768 to 32767)\n",
        "* int32 Integer (-2147483648 to 2147483647)\n",
        "* int64 Integer (-9223372036854775808 to 9223372036854775807)\n",
        "* uint8 Unsigned integer (0 to 255)\n",
        "* uint16 Unsigned integer (0 to 65535)\n",
        "* uint32 Unsigned integer (0 to 4294967295)\n",
        "* uint64 Unsigned integer (0 to 18446744073709551615)\n",
        "* float_ Shorthand for float64.\n",
        "* float16 Half precision float: sign bit, 5 bits exponent, 10 bits - - mantissa\n",
        "* float32 Single precision float: sign bit, 8 bits exponent, 23 bits - mantissa\n",
        "* float64 Double precision float: sign bit, 11 bits exponent, 52 - - bits mantissa\n",
        "* complex_ Shorthand for complex128.\n",
        "* complex64 Complex number, represented by two 32-bit floats\n",
        "* complex128 Complex number, represented by two 64-bit floats"
      ]
    },
    {
      "cell_type": "markdown",
      "metadata": {
        "id": "zRyGsE3HJBwk",
        "colab_type": "text"
      },
      "source": [
        "### Creación de Matrices en Numpy\n",
        "\n",
        "Una matriz unidimensional se puede comparar directamente con una lista de Python porque ambas pueden almacenar una lista de números. De manera similar los datos de una matriz se denominan elementos y se accede a ellos mediante corchetes `[]`.\n",
        "\n",
        "Una matriz bidimensional tiene una estructura de cuadrícula con filas y columnas.\n",
        "\n",
        "Una matriz tridimensional se puede considerar como una pila de matrices bidimensionales."
      ]
    },
    {
      "cell_type": "code",
      "metadata": {
        "id": "eHoAwGJsJM5G",
        "colab_type": "code",
        "colab": {
          "base_uri": "https://localhost:8080/",
          "height": 69
        },
        "outputId": "07480dd5-b3da-42b0-946a-7cee5d13befa"
      },
      "source": [
        "a = np.array([1, 2, 3, 4, 5, 6])   \n",
        "\n",
        "print(a)\n",
        "print(type(a))           \n",
        "print(a.shape) # n filas, m columnas"
      ],
      "execution_count": 480,
      "outputs": [
        {
          "output_type": "stream",
          "text": [
            "[1 2 3 4 5 6]\n",
            "<class 'numpy.ndarray'>\n",
            "(6,)\n"
          ],
          "name": "stdout"
        }
      ]
    },
    {
      "cell_type": "markdown",
      "metadata": {
        "id": "baDaOfXtjuu2",
        "colab_type": "text"
      },
      "source": [
        "**dtype:** El tipo de datos deseado para la matriz. Si no se proporciona, el tipo se determinará como el tipo mínimo requerido para contener los objetos en la secuencia."
      ]
    },
    {
      "cell_type": "code",
      "metadata": {
        "id": "DWuHW1M8JNff",
        "colab_type": "code",
        "colab": {
          "base_uri": "https://localhost:8080/",
          "height": 86
        },
        "outputId": "1e6b1925-1882-4d1e-9577-df6e2be6e893"
      },
      "source": [
        "a = np.array([0, 1, 2, 3, 4, 5, 6], dtype=np.float64)   \n",
        "\n",
        "print(a)\n",
        "print(type(a))      \n",
        "print(a.shape)  # n filas, m columnas\n",
        "print(a.ndim) # Dimensiones del array"
      ],
      "execution_count": 481,
      "outputs": [
        {
          "output_type": "stream",
          "text": [
            "[0. 1. 2. 3. 4. 5. 6.]\n",
            "<class 'numpy.ndarray'>\n",
            "(7,)\n",
            "1\n"
          ],
          "name": "stdout"
        }
      ]
    },
    {
      "cell_type": "code",
      "metadata": {
        "id": "bUnfwEJ_kEub",
        "colab_type": "code",
        "colab": {
          "base_uri": "https://localhost:8080/",
          "height": 121
        },
        "outputId": "9380f489-6601-4e6c-8fdf-d49561e5703e"
      },
      "source": [
        "my_arr = np.array([[1, 2, 3, 4],\n",
        "                   [5, 6, 7, 8]])\n",
        "print(my_arr)\n",
        "#[[1 2 3 4]\n",
        "# [5 6 7 8]]\n",
        "\n",
        "print(my_arr.ndim)  # Dimensiones de la matriz\n",
        "\n",
        "print(my_arr.shape) # n filas, m columnas\n",
        "\n",
        "print(my_arr.size)  # Número de elementos\n",
        "\n",
        "print(type(my_arr)) # Tipo de elemento"
      ],
      "execution_count": 482,
      "outputs": [
        {
          "output_type": "stream",
          "text": [
            "[[1 2 3 4]\n",
            " [5 6 7 8]]\n",
            "2\n",
            "(2, 4)\n",
            "8\n",
            "<class 'numpy.ndarray'>\n"
          ],
          "name": "stdout"
        }
      ]
    },
    {
      "cell_type": "markdown",
      "metadata": {
        "id": "WhfID5kbJZXe",
        "colab_type": "text"
      },
      "source": [
        "#### Creación de arrays especiales\n",
        "* Arrays con ceros\n",
        "* Arrays con unos\n",
        "* Arrays con constante\n",
        "* Matriz identidad\n",
        "* Arrays con números aleatorios"
      ]
    },
    {
      "cell_type": "markdown",
      "metadata": {
        "id": "GKqCN2hxKKNy",
        "colab_type": "text"
      },
      "source": [
        "##### Arrays con ceros"
      ]
    },
    {
      "cell_type": "code",
      "metadata": {
        "id": "wS0sdvFbJQkA",
        "colab_type": "code",
        "colab": {
          "base_uri": "https://localhost:8080/",
          "height": 121
        },
        "outputId": "ce5f1cbf-f0cd-41e9-af22-1841f948a063"
      },
      "source": [
        "a = np.zeros((5,3))   # 5 filas, 3 columnas\n",
        "\n",
        "print(a)\n",
        "print(a.shape)        # n filas, m columnas"
      ],
      "execution_count": 483,
      "outputs": [
        {
          "output_type": "stream",
          "text": [
            "[[0. 0. 0.]\n",
            " [0. 0. 0.]\n",
            " [0. 0. 0.]\n",
            " [0. 0. 0.]\n",
            " [0. 0. 0.]]\n",
            "(5, 3)\n"
          ],
          "name": "stdout"
        }
      ]
    },
    {
      "cell_type": "code",
      "metadata": {
        "id": "f0S9U0vXL7LI",
        "colab_type": "code",
        "colab": {
          "base_uri": "https://localhost:8080/",
          "height": 1000
        },
        "outputId": "2e739ac6-1b72-457d-be7a-5103a53d9143"
      },
      "source": [
        "a = np.zeros(shape=(5,4,3,2))\n",
        "\n",
        "'''\n",
        "[A] = [0, 0] -> (x, x, x, 2)\n",
        "[B] = [ [A],\n",
        "        [A], -> (x, x, 3, [A])\n",
        "        [A]]\n",
        "[C] = [ [B],\n",
        "        [B], -> (x, 4, [B], [A])\n",
        "        [B]\n",
        "        [B]]\n",
        "[D] = [ [C],\n",
        "        [C]\n",
        "        [C], -> (5, [C], [B], [A])\n",
        "        [C]\n",
        "        [C]\n",
        "'''\n",
        "\n",
        "print(a)\n",
        "print(a.shape)  # número de elementos en cada dimensión"
      ],
      "execution_count": 484,
      "outputs": [
        {
          "output_type": "stream",
          "text": [
            "[[[[0. 0.]\n",
            "   [0. 0.]\n",
            "   [0. 0.]]\n",
            "\n",
            "  [[0. 0.]\n",
            "   [0. 0.]\n",
            "   [0. 0.]]\n",
            "\n",
            "  [[0. 0.]\n",
            "   [0. 0.]\n",
            "   [0. 0.]]\n",
            "\n",
            "  [[0. 0.]\n",
            "   [0. 0.]\n",
            "   [0. 0.]]]\n",
            "\n",
            "\n",
            " [[[0. 0.]\n",
            "   [0. 0.]\n",
            "   [0. 0.]]\n",
            "\n",
            "  [[0. 0.]\n",
            "   [0. 0.]\n",
            "   [0. 0.]]\n",
            "\n",
            "  [[0. 0.]\n",
            "   [0. 0.]\n",
            "   [0. 0.]]\n",
            "\n",
            "  [[0. 0.]\n",
            "   [0. 0.]\n",
            "   [0. 0.]]]\n",
            "\n",
            "\n",
            " [[[0. 0.]\n",
            "   [0. 0.]\n",
            "   [0. 0.]]\n",
            "\n",
            "  [[0. 0.]\n",
            "   [0. 0.]\n",
            "   [0. 0.]]\n",
            "\n",
            "  [[0. 0.]\n",
            "   [0. 0.]\n",
            "   [0. 0.]]\n",
            "\n",
            "  [[0. 0.]\n",
            "   [0. 0.]\n",
            "   [0. 0.]]]\n",
            "\n",
            "\n",
            " [[[0. 0.]\n",
            "   [0. 0.]\n",
            "   [0. 0.]]\n",
            "\n",
            "  [[0. 0.]\n",
            "   [0. 0.]\n",
            "   [0. 0.]]\n",
            "\n",
            "  [[0. 0.]\n",
            "   [0. 0.]\n",
            "   [0. 0.]]\n",
            "\n",
            "  [[0. 0.]\n",
            "   [0. 0.]\n",
            "   [0. 0.]]]\n",
            "\n",
            "\n",
            " [[[0. 0.]\n",
            "   [0. 0.]\n",
            "   [0. 0.]]\n",
            "\n",
            "  [[0. 0.]\n",
            "   [0. 0.]\n",
            "   [0. 0.]]\n",
            "\n",
            "  [[0. 0.]\n",
            "   [0. 0.]\n",
            "   [0. 0.]]\n",
            "\n",
            "  [[0. 0.]\n",
            "   [0. 0.]\n",
            "   [0. 0.]]]]\n",
            "(5, 4, 3, 2)\n"
          ],
          "name": "stdout"
        }
      ]
    },
    {
      "cell_type": "markdown",
      "metadata": {
        "id": "9JDTJHLiKRYm",
        "colab_type": "text"
      },
      "source": [
        "##### Arrays con unos"
      ]
    },
    {
      "cell_type": "code",
      "metadata": {
        "id": "PFIc5HAQJpPC",
        "colab_type": "code",
        "colab": {
          "base_uri": "https://localhost:8080/",
          "height": 52
        },
        "outputId": "76a24d18-0582-424b-c7f0-76c20743d2c9"
      },
      "source": [
        "# Agregamos la dimensióón de la matriz para que esta sea llenada con 1s\n",
        "a = np.ones((2,7))    \n",
        "\n",
        "print(a)  "
      ],
      "execution_count": 485,
      "outputs": [
        {
          "output_type": "stream",
          "text": [
            "[[1. 1. 1. 1. 1. 1. 1.]\n",
            " [1. 1. 1. 1. 1. 1. 1.]]\n"
          ],
          "name": "stdout"
        }
      ]
    },
    {
      "cell_type": "markdown",
      "metadata": {
        "id": "VtihrLwrKXpt",
        "colab_type": "text"
      },
      "source": [
        "##### Arrays con constante"
      ]
    },
    {
      "cell_type": "code",
      "metadata": {
        "id": "EkiCvrOtJtyC",
        "colab_type": "code",
        "colab": {
          "base_uri": "https://localhost:8080/",
          "height": 86
        },
        "outputId": "12e1ffd3-f959-4211-a9cd-e3d63d0137d8"
      },
      "source": [
        "# np.ful((n filas, m columnas), cte)\n",
        "a = np.full((4,4), 8)  \n",
        "\n",
        "print(a)     "
      ],
      "execution_count": 486,
      "outputs": [
        {
          "output_type": "stream",
          "text": [
            "[[8 8 8 8]\n",
            " [8 8 8 8]\n",
            " [8 8 8 8]\n",
            " [8 8 8 8]]\n"
          ],
          "name": "stdout"
        }
      ]
    },
    {
      "cell_type": "markdown",
      "metadata": {
        "id": "QpjZoWC2KdvZ",
        "colab_type": "text"
      },
      "source": [
        "##### Matriz identidad"
      ]
    },
    {
      "cell_type": "markdown",
      "metadata": {
        "id": "N2jn1oOboh56",
        "colab_type": "text"
      },
      "source": [
        "[numpy.eye](https://numpy.org/doc/stable/reference/generated/numpy.eye.html)"
      ]
    },
    {
      "cell_type": "code",
      "metadata": {
        "id": "Y6q7I1neo6Tg",
        "colab_type": "code",
        "colab": {
          "base_uri": "https://localhost:8080/",
          "height": 104
        },
        "outputId": "779cac0e-ec2f-4533-dfb6-59c28fe24e5d"
      },
      "source": [
        "a = np.eye(5, k = 0)         \n",
        "\n",
        "print(a) "
      ],
      "execution_count": 487,
      "outputs": [
        {
          "output_type": "stream",
          "text": [
            "[[1. 0. 0. 0. 0.]\n",
            " [0. 1. 0. 0. 0.]\n",
            " [0. 0. 1. 0. 0.]\n",
            " [0. 0. 0. 1. 0.]\n",
            " [0. 0. 0. 0. 1.]]\n"
          ],
          "name": "stdout"
        }
      ]
    },
    {
      "cell_type": "code",
      "metadata": {
        "id": "39UYUtgpJ5Iq",
        "colab_type": "code",
        "colab": {
          "base_uri": "https://localhost:8080/",
          "height": 104
        },
        "outputId": "b77891ee-7094-4082-af6e-d0cbf12580f9"
      },
      "source": [
        "a = np.eye(5, k = 1)         \n",
        "\n",
        "print(a) "
      ],
      "execution_count": 488,
      "outputs": [
        {
          "output_type": "stream",
          "text": [
            "[[0. 1. 0. 0. 0.]\n",
            " [0. 0. 1. 0. 0.]\n",
            " [0. 0. 0. 1. 0.]\n",
            " [0. 0. 0. 0. 1.]\n",
            " [0. 0. 0. 0. 0.]]\n"
          ],
          "name": "stdout"
        }
      ]
    },
    {
      "cell_type": "markdown",
      "metadata": {
        "id": "4buBIKbBKijW",
        "colab_type": "text"
      },
      "source": [
        "##### Arrays con números aleatorios"
      ]
    },
    {
      "cell_type": "markdown",
      "metadata": {
        "id": "JzpFZYSopwYD",
        "colab_type": "text"
      },
      "source": [
        "[numpy.random.random](http://pageperso.lif.univ-mrs.fr/~francois.denis/IAAM1/numpy-html-1.14.0/reference/generated/numpy.random.random.html)"
      ]
    },
    {
      "cell_type": "code",
      "metadata": {
        "id": "jwiCZkiUJ7u_",
        "colab_type": "code",
        "colab": {
          "base_uri": "https://localhost:8080/",
          "height": 139
        },
        "outputId": "c6d54057-344c-4090-bbb9-ed619123cf5a"
      },
      "source": [
        "# np.random.random((elementos por dimensión))\n",
        "a = np.random.random((2,3,2))  \n",
        "print(a) "
      ],
      "execution_count": 489,
      "outputs": [
        {
          "output_type": "stream",
          "text": [
            "[[[0.21084268 0.58434361]\n",
            "  [0.76587742 0.36081967]\n",
            "  [0.79919535 0.1114408 ]]\n",
            "\n",
            " [[0.44156703 0.66844532]\n",
            "  [0.42123687 0.05904446]\n",
            "  [0.7370391  0.1225759 ]]]\n"
          ],
          "name": "stdout"
        }
      ]
    },
    {
      "cell_type": "code",
      "metadata": {
        "id": "bazGnvbpqCQS",
        "colab_type": "code",
        "colab": {
          "base_uri": "https://localhost:8080/",
          "height": 52
        },
        "outputId": "1a1057a2-831a-4e19-c498-a62a7002b4bc"
      },
      "source": [
        "a = np.random.random((2, 2))\n",
        "print(a)"
      ],
      "execution_count": 490,
      "outputs": [
        {
          "output_type": "stream",
          "text": [
            "[[0.74018328 0.88769228]\n",
            " [0.71072869 0.46163317]]\n"
          ],
          "name": "stdout"
        }
      ]
    },
    {
      "cell_type": "code",
      "metadata": {
        "id": "rpe1l4M3qOWT",
        "colab_type": "code",
        "colab": {
          "base_uri": "https://localhost:8080/",
          "height": 52
        },
        "outputId": "dabbe66e-9e2a-41f5-abee-b085503deaa9"
      },
      "source": [
        "# Obtener números aleatorios entre el rango:\n",
        "# [-10, 0) -> el 0.000000 núnca es tomado\n",
        "\n",
        "b = (10 * a) - 10\n",
        "print(b)"
      ],
      "execution_count": 491,
      "outputs": [
        {
          "output_type": "stream",
          "text": [
            "[[-2.59816719 -1.12307724]\n",
            " [-2.89271309 -5.38366825]]\n"
          ],
          "name": "stdout"
        }
      ]
    },
    {
      "cell_type": "code",
      "metadata": {
        "id": "9wXJZf1pq1ZT",
        "colab_type": "code",
        "colab": {
          "base_uri": "https://localhost:8080/",
          "height": 52
        },
        "outputId": "936299f8-9c0a-4e69-aa76-526a34065c57"
      },
      "source": [
        "# Obtener números aleatorios entre el rango:\n",
        "# (0, 10] -> el 0.000000 núnca es tomado\n",
        "\n",
        "a = (-10 * a) + 10\n",
        "print(a)"
      ],
      "execution_count": 492,
      "outputs": [
        {
          "output_type": "stream",
          "text": [
            "[[2.59816719 1.12307724]\n",
            " [2.89271309 5.38366825]]\n"
          ],
          "name": "stdout"
        }
      ]
    },
    {
      "cell_type": "markdown",
      "metadata": {
        "id": "vwSuEAhIObsS",
        "colab_type": "text"
      },
      "source": [
        "#### Indexamiento de arrays de numpy\n",
        "\n",
        "* Accediendo a elementos por indice\n",
        "* Accediendo a elementos por slice"
      ]
    },
    {
      "cell_type": "markdown",
      "metadata": {
        "id": "QpEZvYrFOhZB",
        "colab_type": "text"
      },
      "source": [
        "##### Accediendo a elementos por indice"
      ]
    },
    {
      "cell_type": "code",
      "metadata": {
        "id": "LUb2WNN1Ogv6",
        "colab_type": "code",
        "colab": {
          "base_uri": "https://localhost:8080/",
          "height": 121
        },
        "outputId": "b34b3bc9-5c97-43d7-ac7e-9801b3abe753"
      },
      "source": [
        "a = np.array([[1,2,3,4], [5,6,7,8], [9,10,11,12]])\n",
        "\n",
        "'''\n",
        "position:     0              1              2\n",
        "              -3            -2              -1\n",
        "        [[1, 2, 3, 4], [5, 6, 7, 8], [9, 10, 11, 12]]\n",
        "\n",
        "position:  0  1  2  3\n",
        "          -4 -3 -2 -1\n",
        "          [5, 6, 7, 8]\n",
        "'''   \n",
        "\n",
        "print(a)\n",
        "\n",
        "print(a[1])     # -> [5 6 7 8]\n",
        "\n",
        "print(a[2][3])  # -> [9 10 11 12] -> 12\n",
        "\n",
        "print(a[2,3])   # -> [9 10 11 12] -> 12"
      ],
      "execution_count": 493,
      "outputs": [
        {
          "output_type": "stream",
          "text": [
            "[[ 1  2  3  4]\n",
            " [ 5  6  7  8]\n",
            " [ 9 10 11 12]]\n",
            "[5 6 7 8]\n",
            "12\n",
            "12\n"
          ],
          "name": "stdout"
        }
      ]
    },
    {
      "cell_type": "markdown",
      "metadata": {
        "id": "zpzAwe_5O1Jz",
        "colab_type": "text"
      },
      "source": [
        "##### Accediendo a elementos por slice"
      ]
    },
    {
      "cell_type": "code",
      "metadata": {
        "id": "LLoCyLbEO6_V",
        "colab_type": "code",
        "colab": {
          "base_uri": "https://localhost:8080/",
          "height": 191
        },
        "outputId": "5538bc3a-77cf-457e-c182-96d25d6d9f79"
      },
      "source": [
        "a = np.array([[1,2,3,4], [5,6,7,8], [9,10,11,12]])\n",
        "\n",
        "'''\n",
        "position:     0              1              2\n",
        "             -3             -2             -1\n",
        "        [[1, 2, 3, 4], [5, 6, 7, 8], [9, 10, 11, 12]]\n",
        "\n",
        "position:  0  1  2  3\n",
        "          -4 -3 -2 -1\n",
        "          [5, 6, 7, 8]\n",
        "'''  \n",
        "\n",
        "print(\"a\\n\")\n",
        "print(a)\n",
        "\n",
        "\n",
        "print(\"\\na[:2]\\n\")\n",
        "# Primeras 2 filas\n",
        "'''\n",
        "[ [1 2 3 4]\n",
        "  [5 6 7 8]]\n",
        "'''\n",
        "print(a[:2])\n"
      ],
      "execution_count": 530,
      "outputs": [
        {
          "output_type": "stream",
          "text": [
            "a\n",
            "\n",
            "[[ 1  2  3  4]\n",
            " [ 5  6  7  8]\n",
            " [ 9 10 11 12]]\n",
            "\n",
            "a[:2]\n",
            "\n",
            "[[1 2 3 4]\n",
            " [5 6 7 8]]\n"
          ],
          "name": "stdout"
        }
      ]
    },
    {
      "cell_type": "code",
      "metadata": {
        "id": "u3vVhEKqN3hO",
        "colab_type": "code",
        "colab": {
          "base_uri": "https://localhost:8080/",
          "height": 104
        },
        "outputId": "983167b8-1c27-45e3-e62f-b37b22b937e3"
      },
      "source": [
        "'''\n",
        "position:     0              1              2\n",
        "             -3             -2             -1\n",
        "        [[1, 2, 3, 4], [5, 6, 7, 8], [9, 10, 11, 12]]\n",
        "\n",
        "position:  0  1  2  3\n",
        "          -4 -3 -2 -1\n",
        "          [5, 6, 7, 8]\n",
        "'''  \n",
        "\n",
        "print(\"\\na[:2, -2:]\\n\")\n",
        "# Ultimas 2 columnas de las 2 primeras filas\n",
        "print(a[:2,-2:])"
      ],
      "execution_count": 531,
      "outputs": [
        {
          "output_type": "stream",
          "text": [
            "\n",
            "a[:2, -2:]\n",
            "\n",
            "[[3 4]\n",
            " [7 8]]\n"
          ],
          "name": "stdout"
        }
      ]
    },
    {
      "cell_type": "code",
      "metadata": {
        "id": "3TRe_fScN7zu",
        "colab_type": "code",
        "colab": {
          "base_uri": "https://localhost:8080/",
          "height": 104
        },
        "outputId": "7e90e680-9cdf-43b1-b90c-146180b76867"
      },
      "source": [
        "'''\n",
        "position:     0              1              2\n",
        "             -3             -2             -1\n",
        "        [[1, 2, 3, 4], [5, 6, 7, 8], [9, 10, 11, 12]]\n",
        "\n",
        "position:  0  1  2  3\n",
        "          -4 -3 -2 -1\n",
        "          [5, 6, 7, 8]\n",
        "'''  \n",
        "print(\"\\na[:2, -3:]\\n\")\n",
        "# Ultimas 3 columnas de las 2 primeras filas\n",
        "print(a[:2,-3:])"
      ],
      "execution_count": 536,
      "outputs": [
        {
          "output_type": "stream",
          "text": [
            "\n",
            "a[:2, -3:]\n",
            "\n",
            "[[2 3 4]\n",
            " [6 7 8]]\n"
          ],
          "name": "stdout"
        }
      ]
    },
    {
      "cell_type": "code",
      "metadata": {
        "id": "di3pOVGLOAlW",
        "colab_type": "code",
        "colab": {
          "base_uri": "https://localhost:8080/",
          "height": 191
        },
        "outputId": "98a0b528-da2c-4f7b-f37a-f5289f0c0622"
      },
      "source": [
        "'''\n",
        "position:     0              1              2\n",
        "             -3             -2             -1\n",
        "        [[1, 2, 3, 4], [5, 6, 7, 8], [9, 10, 11, 12]]\n",
        "\n",
        "position:  0  1  2  3\n",
        "          -4 -3 -2 -1\n",
        "          [5, 6, 7, 8]\n",
        "'''  \n",
        "\n",
        "print(\"\\na[::-1, ::-1]\\n\")\n",
        "# Se toman las filas una a una de atrás hacia adelante, es decir:\n",
        "'''\n",
        "Original:     [[1,2,3,4], [5,6,7,8], [9,10,11,12]] \n",
        "[::-1, X] ->  [[9, 10, 11, 12], [5, 6, 7, 8], [1, 2, 3, 4]]\n",
        "'''\n",
        "# Por cada fila, se tomarán los elementos de las columnas de atrás \n",
        "# hacia adelante, es decir:\n",
        "'''\n",
        "Original:     [9, 10, 11, 12]\n",
        "[X, ::-1] ->  [12, 11, 10, 9]\n",
        "'''\n",
        "print(a[::-1, ::-1])\n",
        "print('\\n',a)"
      ],
      "execution_count": 538,
      "outputs": [
        {
          "output_type": "stream",
          "text": [
            "\n",
            "a[::-1, ::-1]\n",
            "\n",
            "[[12 11 10  9]\n",
            " [ 8  7  6  5]\n",
            " [ 4  3  2  1]]\n",
            "\n",
            " [[ 1  2  3  4]\n",
            " [ 5  6  7  8]\n",
            " [ 9 10 11 12]]\n"
          ],
          "name": "stdout"
        }
      ]
    },
    {
      "cell_type": "markdown",
      "metadata": {
        "id": "Xvuq_oABQML6",
        "colab_type": "text"
      },
      "source": [
        "#### Broadcasting con arrays de Numpy\n",
        "\n",
        "El broadcasting es coger una operación aritmetica y replicarla a lo largo de un array de numpy"
      ]
    },
    {
      "cell_type": "markdown",
      "metadata": {
        "id": "5ZgonOJgwcko",
        "colab_type": "text"
      },
      "source": [
        "[np.arange](https://numpy.org/doc/stable/reference/generated/numpy.arange.html)"
      ]
    },
    {
      "cell_type": "code",
      "metadata": {
        "id": "z8BDnVD-QJ_z",
        "colab_type": "code",
        "colab": {
          "base_uri": "https://localhost:8080/",
          "height": 139
        },
        "outputId": "002aa5d0-4438-45d1-eb68-e6c8a799dda7"
      },
      "source": [
        "# np.arange(inicio*, fin, saltos*, dtype=None) \n",
        "# los que tienen asterisco son opcionales\n",
        "a = np.arange(10)\n",
        "print(a, '\\n')\n",
        "\n",
        "# Genera una matriz con 2 filas X 5 columnas\n",
        "'''\n",
        "CUIDADO:\n",
        "Las dimensiones del reshape deben contener exactamente la cantidad de elementos\n",
        "de el array unidimencional\n",
        "a = 10 elementos\n",
        "a.reshape((2, 5)) -> 2*5 = 10\n",
        "a.reshape((2, 6)) -> 2*6 = 12 ->ERROR\n",
        "a.reshape((2, 4)) -> 2*4 = 8  ->ERROR\n",
        "'''\n",
        "a = a.reshape((2, 5))\n",
        "\n",
        "b = a + 10\n",
        "\n",
        "print(a, '\\n')\n",
        "print(b)"
      ],
      "execution_count": 540,
      "outputs": [
        {
          "output_type": "stream",
          "text": [
            "[0 1 2 3 4 5 6 7 8 9] \n",
            "\n",
            "[[0 1 2 3 4]\n",
            " [5 6 7 8 9]] \n",
            "\n",
            "[[10 11 12 13 14]\n",
            " [15 16 17 18 19]]\n"
          ],
          "name": "stdout"
        }
      ]
    },
    {
      "cell_type": "markdown",
      "metadata": {
        "id": "TecSidKyQg9i",
        "colab_type": "text"
      },
      "source": [
        "#### Operaciones por columna o por fila"
      ]
    },
    {
      "cell_type": "code",
      "metadata": {
        "id": "DA6EnXhdQgby",
        "colab_type": "code",
        "colab": {
          "base_uri": "https://localhost:8080/",
          "height": 173
        },
        "outputId": "08da4e8a-165c-438c-ddb0-adf4b1c03966"
      },
      "source": [
        "a = np.arange(12)\n",
        "a = a.reshape((3,4))\n",
        "\n",
        "print(a, '\\n')\n",
        "\n",
        "print(np.sum(a))          # = 0 + 1 + 2 + 3 + ...+ 12\n",
        "\n",
        "print(np.sum(a, axis=0)) \n",
        "# axis = 0 -> COLUMNA\n",
        "'''\n",
        "[[ 0  1  2  3]\n",
        " [ 4  5  6  7]\n",
        " [ 8  9 10 11]]\n",
        "  \n",
        "  12 15 18 21\n",
        "\n",
        "12 = 0 + 4 + 8\n",
        "15 = 1 + 5 + 9\n",
        "21 = 3 + 7 + 11\n",
        "'''\n",
        "\n",
        "print(np.sum(a, axis=1))\n",
        "# axis = 0 -> FILA\n",
        "\n",
        "'''\n",
        "[[ 0  1  2  3]  = 6\n",
        " [ 4  5  6  7]  = 22\n",
        " [ 8  9 10 11]] = 38\n",
        "\n",
        "6  = 0 + 1 + 2 + 3\n",
        "22 = 4 + 5 + 6 + 7\n",
        "38 = 8 + 9 + 10 + 11\n",
        "'''\n",
        "print('\\n ( ꈍᴗꈍ)')"
      ],
      "execution_count": 499,
      "outputs": [
        {
          "output_type": "stream",
          "text": [
            "[[ 0  1  2  3]\n",
            " [ 4  5  6  7]\n",
            " [ 8  9 10 11]] \n",
            "\n",
            "66\n",
            "[12 15 18 21]\n",
            "[ 6 22 38]\n",
            "\n",
            " ( ꈍᴗꈍ)\n"
          ],
          "name": "stdout"
        }
      ]
    },
    {
      "cell_type": "markdown",
      "metadata": {
        "id": "y5aRuM6vRRU2",
        "colab_type": "text"
      },
      "source": [
        "#### Operaciones matriciales elemento a elemento"
      ]
    },
    {
      "cell_type": "code",
      "metadata": {
        "id": "oRHz9jFFRUER",
        "colab_type": "code",
        "colab": {
          "base_uri": "https://localhost:8080/",
          "height": 173
        },
        "outputId": "ff7c2dc9-45a6-4c14-f250-713809463cb6"
      },
      "source": [
        "a = np.arange(4)\n",
        "a = a.reshape(2,2)\n",
        "\n",
        "# np.arange(inicio*, fin, saltos*, dtype=None) \n",
        "# los que tienen asterisco son opcionales\n",
        "b = np.arange(10,14)  # inicio = 10, fin = 14 -> [10, 14) = [10, 11, 12, 13]\n",
        "b = b.reshape(2,2)    # Matriz 2X2 con los elementos del array unidimensional b\n",
        "\n",
        "print(a, '\\n')\n",
        "\n",
        "print(b, '\\n')\n",
        "\n",
        "print(a / b)\n",
        "'''\n",
        "[ [0/10 1/11]\n",
        "  [2/12 3/13]]\n",
        "'''\n",
        "print()"
      ],
      "execution_count": 500,
      "outputs": [
        {
          "output_type": "stream",
          "text": [
            "[[0 1]\n",
            " [2 3]] \n",
            "\n",
            "[[10 11]\n",
            " [12 13]] \n",
            "\n",
            "[[0.         0.09090909]\n",
            " [0.16666667 0.23076923]]\n",
            "\n"
          ],
          "name": "stdout"
        }
      ]
    },
    {
      "cell_type": "markdown",
      "metadata": {
        "id": "mJTMSAjdRWfp",
        "colab_type": "text"
      },
      "source": [
        "#### Indexado Booleano"
      ]
    },
    {
      "cell_type": "code",
      "metadata": {
        "id": "IZHBI7cfRb2Z",
        "colab_type": "code",
        "colab": {
          "base_uri": "https://localhost:8080/",
          "height": 364
        },
        "outputId": "4d6ccee4-7b84-42a9-f0ff-fe149f919a50"
      },
      "source": [
        "# np.arange(inicio*, fin, saltos*, dtype=None) \n",
        "# los que tienen asterisco son opcionales\n",
        "a = np.arange(16)           # Elementos en el rango [0, 16)\n",
        "b = np.random.choice(a, 16) # Desorganiza los 16 elementos de forma aleatoria\n",
        "b = b.reshape(4, 4)         # Crea una matriz 4X4\n",
        "\n",
        "print('Matriz b\\n')\n",
        "print(b)\n",
        "\n",
        "matriz_logica = b < 8       # Cada elemento de b es evaluado\n",
        "\n",
        "print('\\nMatriz matriz_logica\\n')\n",
        "print(matriz_logica)\n",
        "\n",
        "c = b.copy()                # c es generado con una copia de b (matriz 4x4)\n",
        "c[matriz_logica] = -1       # Si elemento == True -> nuevo valor = -1\n",
        "\n",
        "print('\\nMatriz c\\n')\n",
        "print(c)"
      ],
      "execution_count": 542,
      "outputs": [
        {
          "output_type": "stream",
          "text": [
            "Matriz b\n",
            "\n",
            "[[ 4 15 12  3]\n",
            " [ 9  9  9  6]\n",
            " [13  2  4  2]\n",
            " [11  0 15  6]]\n",
            "\n",
            "Matriz matriz_logica\n",
            "\n",
            "[[ True False False  True]\n",
            " [False False False  True]\n",
            " [False  True  True  True]\n",
            " [False  True False  True]]\n",
            "\n",
            "Matriz c\n",
            "\n",
            "[[-1 15 12 -1]\n",
            " [ 9  9  9 -1]\n",
            " [13 -1 -1 -1]\n",
            " [11 -1 15 -1]]\n"
          ],
          "name": "stdout"
        }
      ]
    },
    {
      "cell_type": "markdown",
      "metadata": {
        "id": "a4WWodNcSh-r",
        "colab_type": "text"
      },
      "source": [
        "## Pandas\n",
        "pandas es una biblioteca de código abierto con licencia BSD que proporciona estructuras de datos y herramientas de análisis de datos de alto rendimiento; fáciles de usar para el lenguaje de programación Python."
      ]
    },
    {
      "cell_type": "markdown",
      "metadata": {
        "id": "ihOCK5dfSoXR",
        "colab_type": "text"
      },
      "source": [
        "### Carga de módulo de Pandas"
      ]
    },
    {
      "cell_type": "code",
      "metadata": {
        "id": "M5Lfi4WDRue3",
        "colab_type": "code",
        "colab": {}
      },
      "source": [
        "# pd = alias de pandas\n",
        "import pandas as pd"
      ],
      "execution_count": 502,
      "outputs": []
    },
    {
      "cell_type": "markdown",
      "metadata": {
        "id": "nMTqb8MMStLj",
        "colab_type": "text"
      },
      "source": [
        "### Estructuras de datos en Pandas\n",
        "\n",
        "* Series\n",
        "* Dataframes"
      ]
    },
    {
      "cell_type": "markdown",
      "metadata": {
        "id": "zkDp_c_9Szx7",
        "colab_type": "text"
      },
      "source": [
        "#### Series\n",
        "\n",
        "Una serie es un array unidimensional (con tipos de datos de numpy), cada uno de sus elementos está etiquetado. Las etiquetas se llaman índices."
      ]
    },
    {
      "cell_type": "markdown",
      "metadata": {
        "id": "7gSJol0iS6Ad",
        "colab_type": "text"
      },
      "source": [
        "##### Creación de una serie"
      ]
    },
    {
      "cell_type": "code",
      "metadata": {
        "id": "WzlrpAm2SrbT",
        "colab_type": "code",
        "colab": {
          "base_uri": "https://localhost:8080/",
          "height": 156
        },
        "outputId": "86d3e73b-e14c-4e8f-a774-f7e2f353c52d"
      },
      "source": [
        "# Ejemplo\n",
        "\n",
        "'''\n",
        " La primera columna inicia desde 0 por defecto y la segunda columna es poblada\n",
        " con los valores especificados en la lista\n",
        "'''\n",
        "serie1 = pd.Series([1,2,3,4,5,6])\n",
        "print(serie1)\n",
        "print(type(serie1))"
      ],
      "execution_count": 503,
      "outputs": [
        {
          "output_type": "stream",
          "text": [
            "0    1\n",
            "1    2\n",
            "2    3\n",
            "3    4\n",
            "4    5\n",
            "5    6\n",
            "dtype: int64\n",
            "<class 'pandas.core.series.Series'>\n"
          ],
          "name": "stdout"
        }
      ]
    },
    {
      "cell_type": "markdown",
      "metadata": {
        "id": "sCHjEQsOTBGt",
        "colab_type": "text"
      },
      "source": [
        "##### Acceder a elementos e índices de una serie"
      ]
    },
    {
      "cell_type": "code",
      "metadata": {
        "id": "RMmPGriwTDK8",
        "colab_type": "code",
        "colab": {
          "base_uri": "https://localhost:8080/",
          "height": 104
        },
        "outputId": "51a1cf6c-edb9-4b1c-ccb2-a8cba05dea4b"
      },
      "source": [
        "# list() es un constructor que genera una lista\n",
        "\n",
        "# Obtener valores\n",
        "lista_valores = list(serie1.values) # lista de todos los valores de la serie1\n",
        "\n",
        "print('lista_valores\\n',lista_valores, '\\n')\n",
        "\n",
        "# Obtener índices\n",
        "serie1.index\n",
        "lista_indices = list(serie1.index)  # lista de todos los índices de la serie1\n",
        "\n",
        "print('lista_indices\\n', lista_indices)"
      ],
      "execution_count": 504,
      "outputs": [
        {
          "output_type": "stream",
          "text": [
            "lista_valores\n",
            " [1, 2, 3, 4, 5, 6] \n",
            "\n",
            "lista_indices\n",
            " [0, 1, 2, 3, 4, 5]\n"
          ],
          "name": "stdout"
        }
      ]
    },
    {
      "cell_type": "code",
      "metadata": {
        "id": "C0BGpuA2TQ7m",
        "colab_type": "code",
        "colab": {
          "base_uri": "https://localhost:8080/",
          "height": 139
        },
        "outputId": "d39784cd-d7a2-4b69-e455-cec782ba2cca"
      },
      "source": [
        "# Ejemplo de serie con index personalizados\n",
        "\n",
        "serie1 = pd.Series([1,2,3,4,5,6], index=['a', 'b', 'c', 'd', 'e', 'f'])\n",
        "print(serie1)"
      ],
      "execution_count": 505,
      "outputs": [
        {
          "output_type": "stream",
          "text": [
            "a    1\n",
            "b    2\n",
            "c    3\n",
            "d    4\n",
            "e    5\n",
            "f    6\n",
            "dtype: int64\n"
          ],
          "name": "stdout"
        }
      ]
    },
    {
      "cell_type": "markdown",
      "metadata": {
        "id": "FfZCjexcUB_q",
        "colab_type": "text"
      },
      "source": [
        "##### Transformar un diccionario en una serie\n"
      ]
    },
    {
      "cell_type": "code",
      "metadata": {
        "id": "HpPnbD9PUHjb",
        "colab_type": "code",
        "colab": {
          "base_uri": "https://localhost:8080/",
          "height": 86
        },
        "outputId": "dd7e59c0-4b71-4eed-b569-23a9a3263c3b"
      },
      "source": [
        "# Ejemplo de una Serie construida desde un diccionario\n",
        "\n",
        "dic = {0: 'a', 1: 'b', 2: 'c'}\n",
        "pd.Series(dic)"
      ],
      "execution_count": 506,
      "outputs": [
        {
          "output_type": "execute_result",
          "data": {
            "text/plain": [
              "0    a\n",
              "1    b\n",
              "2    c\n",
              "dtype: object"
            ]
          },
          "metadata": {
            "tags": []
          },
          "execution_count": 506
        }
      ]
    },
    {
      "cell_type": "markdown",
      "metadata": {
        "id": "CBA9ennsUc9J",
        "colab_type": "text"
      },
      "source": [
        "##### Opeaciones con series\n",
        "\n",
        "* Broadcasting\n",
        "* indexado booleano"
      ]
    },
    {
      "cell_type": "code",
      "metadata": {
        "id": "5y39ZyFUUcZR",
        "colab_type": "code",
        "colab": {
          "base_uri": "https://localhost:8080/",
          "height": 312
        },
        "outputId": "ee10c4d9-2376-4d6f-ac3a-54b61b6eb993"
      },
      "source": [
        "# Ejemplo\n",
        "import string\n",
        "print('letras ascii\\n', string.ascii_letters, '\\n')\n",
        "\n",
        "# Toma las primeras 10 letras ascii y genera una lista llamada 'index'\n",
        "index = list(string.ascii_letters)[:10]\n",
        "\n",
        "# Genera una Serie donde:\n",
        "'''\n",
        "valores = números entre el rango [0, 10)\n",
        "indices = lista 'index' que tiene las 10 primeras letras ascii\n",
        "'''\n",
        "serie1 = pd.Series(np.arange(10), index=index)\n",
        "print('Serie1\\n')\n",
        "print(serie1, '\\n')"
      ],
      "execution_count": 507,
      "outputs": [
        {
          "output_type": "stream",
          "text": [
            "letras ascii\n",
            " abcdefghijklmnopqrstuvwxyzABCDEFGHIJKLMNOPQRSTUVWXYZ \n",
            "\n",
            "Serie1\n",
            "\n",
            "a    0\n",
            "b    1\n",
            "c    2\n",
            "d    3\n",
            "e    4\n",
            "f    5\n",
            "g    6\n",
            "h    7\n",
            "i    8\n",
            "j    9\n",
            "dtype: int64 \n",
            "\n"
          ],
          "name": "stdout"
        }
      ]
    },
    {
      "cell_type": "code",
      "metadata": {
        "id": "AFR9iF4-9s0J",
        "colab_type": "code",
        "colab": {
          "base_uri": "https://localhost:8080/",
          "height": 503
        },
        "outputId": "160e666e-a5e3-40bf-c8fd-c23e5e9cdee0"
      },
      "source": [
        "# Broadcasting\n",
        "serie2 = serie1 * 3       # multiplico cada uno de los valores de serie1 por 3\n",
        "print('Serie2\\n')\n",
        "print(serie2, '\\n')\n",
        "\n",
        "# Aplico raiz cuadrada a cada uno de los valores de serie1\n",
        "serie3 = np.sqrt(serie1)\n",
        "print('Serie3\\n')\n",
        "print(serie3, '\\n')"
      ],
      "execution_count": 508,
      "outputs": [
        {
          "output_type": "stream",
          "text": [
            "Serie2\n",
            "\n",
            "a     0\n",
            "b     3\n",
            "c     6\n",
            "d     9\n",
            "e    12\n",
            "f    15\n",
            "g    18\n",
            "h    21\n",
            "i    24\n",
            "j    27\n",
            "dtype: int64 \n",
            "\n",
            "Serie3\n",
            "\n",
            "a    0.000000\n",
            "b    1.000000\n",
            "c    1.414214\n",
            "d    1.732051\n",
            "e    2.000000\n",
            "f    2.236068\n",
            "g    2.449490\n",
            "h    2.645751\n",
            "i    2.828427\n",
            "j    3.000000\n",
            "dtype: float64 \n",
            "\n"
          ],
          "name": "stdout"
        }
      ]
    },
    {
      "cell_type": "code",
      "metadata": {
        "id": "qFWRgFIB9x_q",
        "colab_type": "code",
        "colab": {
          "base_uri": "https://localhost:8080/",
          "height": 278
        },
        "outputId": "ddecca5a-7636-4fbc-8c83-7ee3942adda9"
      },
      "source": [
        "# Indexado booleano\n",
        "serie4 = serie1[serie1 >= 5]\n",
        "print('Serie1\\n')\n",
        "print(serie4, '\\n')\n",
        "\n",
        "# Ejemplo con error\n",
        "# serie5 = serie1[serie1 >= 5 and serie1 <= 7]\n",
        "'''\n",
        "El 'and' comun espera dos valores booleanos para operar:\n",
        "T and F \n",
        "\n",
        "Sin embargo se le esta mostrando una lista de valores booleanos: \n",
        "[T, F, T, T] and [T, T, F, T] -> error\n",
        "\n",
        "np.logical_and([T, F, T, T], [T, T, F, T]) = [T, F, F, T]\n",
        "'''\n",
        "serie5 = serie1[np.logical_and(serie1 >= 5, serie1 <= 7)]\n",
        "print('Serie5\\n')\n",
        "print(serie5)"
      ],
      "execution_count": 509,
      "outputs": [
        {
          "output_type": "stream",
          "text": [
            "Serie1\n",
            "\n",
            "f    5\n",
            "g    6\n",
            "h    7\n",
            "i    8\n",
            "j    9\n",
            "dtype: int64 \n",
            "\n",
            "Serie5\n",
            "\n",
            "f    5\n",
            "g    6\n",
            "h    7\n",
            "dtype: int64\n"
          ],
          "name": "stdout"
        }
      ]
    },
    {
      "cell_type": "markdown",
      "metadata": {
        "id": "ZxYJDaeoUnza",
        "colab_type": "text"
      },
      "source": [
        "#### Data Frames\n",
        "\n",
        "Un Dataframe es una estructura de datos que sirve para crear tablas bidimensionales, en donde a cada dimensión tiene etiquetas para acceder a los datos."
      ]
    },
    {
      "cell_type": "markdown",
      "metadata": {
        "id": "QmU2Ayp5U_MM",
        "colab_type": "text"
      },
      "source": [
        "##### Creación de dataframes"
      ]
    },
    {
      "cell_type": "code",
      "metadata": {
        "id": "tT8c7R0sVCPs",
        "colab_type": "code",
        "colab": {
          "base_uri": "https://localhost:8080/",
          "height": 206
        },
        "outputId": "4f839faa-d26b-4492-9e58-1c3873066fb1"
      },
      "source": [
        "# Definición de un diccionario\n",
        "dc = {'Nombre': ['Francisco', 'Mario', 'Ana', 'Pedro', 'Marta'],\n",
        "      'Edad': [37, 20, 45, 26, 42],\n",
        "      'Género': ['M', 'M', 'F', 'M', 'F']}\n",
        "# df1 es un dataframe creado a partir del diccionario dc\n",
        "df1 = pd.DataFrame(dc)\n",
        "df1"
      ],
      "execution_count": 510,
      "outputs": [
        {
          "output_type": "execute_result",
          "data": {
            "text/html": [
              "<div>\n",
              "<style scoped>\n",
              "    .dataframe tbody tr th:only-of-type {\n",
              "        vertical-align: middle;\n",
              "    }\n",
              "\n",
              "    .dataframe tbody tr th {\n",
              "        vertical-align: top;\n",
              "    }\n",
              "\n",
              "    .dataframe thead th {\n",
              "        text-align: right;\n",
              "    }\n",
              "</style>\n",
              "<table border=\"1\" class=\"dataframe\">\n",
              "  <thead>\n",
              "    <tr style=\"text-align: right;\">\n",
              "      <th></th>\n",
              "      <th>Nombre</th>\n",
              "      <th>Edad</th>\n",
              "      <th>Género</th>\n",
              "    </tr>\n",
              "  </thead>\n",
              "  <tbody>\n",
              "    <tr>\n",
              "      <th>0</th>\n",
              "      <td>Francisco</td>\n",
              "      <td>37</td>\n",
              "      <td>M</td>\n",
              "    </tr>\n",
              "    <tr>\n",
              "      <th>1</th>\n",
              "      <td>Mario</td>\n",
              "      <td>20</td>\n",
              "      <td>M</td>\n",
              "    </tr>\n",
              "    <tr>\n",
              "      <th>2</th>\n",
              "      <td>Ana</td>\n",
              "      <td>45</td>\n",
              "      <td>F</td>\n",
              "    </tr>\n",
              "    <tr>\n",
              "      <th>3</th>\n",
              "      <td>Pedro</td>\n",
              "      <td>26</td>\n",
              "      <td>M</td>\n",
              "    </tr>\n",
              "    <tr>\n",
              "      <th>4</th>\n",
              "      <td>Marta</td>\n",
              "      <td>42</td>\n",
              "      <td>F</td>\n",
              "    </tr>\n",
              "  </tbody>\n",
              "</table>\n",
              "</div>"
            ],
            "text/plain": [
              "      Nombre  Edad Género\n",
              "0  Francisco    37      M\n",
              "1      Mario    20      M\n",
              "2        Ana    45      F\n",
              "3      Pedro    26      M\n",
              "4      Marta    42      F"
            ]
          },
          "metadata": {
            "tags": []
          },
          "execution_count": 510
        }
      ]
    },
    {
      "cell_type": "markdown",
      "metadata": {
        "id": "bn3smvuTfEOI",
        "colab_type": "text"
      },
      "source": [
        "##### Acceso a índices por columnas o por filas"
      ]
    },
    {
      "cell_type": "code",
      "metadata": {
        "id": "FQzr15rhfIXo",
        "colab_type": "code",
        "colab": {
          "base_uri": "https://localhost:8080/",
          "height": 52
        },
        "outputId": "532e6aab-36c8-45ae-a21c-bc0dd11ca320"
      },
      "source": [
        "# Ejemplo\n",
        "# Por columnas\n",
        "print(df1.columns)\n",
        "\n",
        "# Por filas\n",
        "print(df1.index)  #[0, 5)"
      ],
      "execution_count": 511,
      "outputs": [
        {
          "output_type": "stream",
          "text": [
            "Index(['Nombre', 'Edad', 'Género'], dtype='object')\n",
            "RangeIndex(start=0, stop=5, step=1)\n"
          ],
          "name": "stdout"
        }
      ]
    },
    {
      "cell_type": "markdown",
      "metadata": {
        "id": "4VSSwh2DfObw",
        "colab_type": "text"
      },
      "source": [
        "##### Acceso a los datos por columnas o por filas"
      ]
    },
    {
      "cell_type": "code",
      "metadata": {
        "id": "BjhaNDJOfQ9v",
        "colab_type": "code",
        "colab": {
          "base_uri": "https://localhost:8080/",
          "height": 399
        },
        "outputId": "af3d23c0-3a75-417d-d38b-d9d0632e7638"
      },
      "source": [
        "# Ejemplo de acceso por columnas\n",
        "\n",
        "print(df1['Edad'], '\\n') \n",
        "\n",
        "print('Type: ',type(df1['Edad']), '\\n')# El retorno es una Serie\n",
        "\n",
        "print(df1[['Nombre', 'Edad']], '\\n')\n",
        "\n",
        "# Acceder como atributo\n",
        "print(df1.Edad)"
      ],
      "execution_count": 512,
      "outputs": [
        {
          "output_type": "stream",
          "text": [
            "0    37\n",
            "1    20\n",
            "2    45\n",
            "3    26\n",
            "4    42\n",
            "Name: Edad, dtype: int64 \n",
            "\n",
            "Type:  <class 'pandas.core.series.Series'> \n",
            "\n",
            "      Nombre  Edad\n",
            "0  Francisco    37\n",
            "1      Mario    20\n",
            "2        Ana    45\n",
            "3      Pedro    26\n",
            "4      Marta    42 \n",
            "\n",
            "0    37\n",
            "1    20\n",
            "2    45\n",
            "3    26\n",
            "4    42\n",
            "Name: Edad, dtype: int64\n"
          ],
          "name": "stdout"
        }
      ]
    },
    {
      "cell_type": "markdown",
      "metadata": {
        "id": "RmjaPpS1AxGF",
        "colab_type": "text"
      },
      "source": [
        "[diferencia loc e iloc](https://www.analyticslane.com/2019/06/21/seleccionar-filas-y-columnas-en-pandas-con-iloc-y-loc/)"
      ]
    },
    {
      "cell_type": "code",
      "metadata": {
        "id": "7RtjBEJ1fydK",
        "colab_type": "code",
        "colab": {
          "base_uri": "https://localhost:8080/",
          "height": 330
        },
        "outputId": "243e488a-9b5d-4cd6-aa35-2197a8e066eb"
      },
      "source": [
        "# Ejemplo de acceso por filas\n",
        "\n",
        "# Llaves  Valores de la fila\n",
        "print(df1.loc[0], '\\n')\n",
        "\n",
        "print('Type:',type(df1.iloc[0]), '\\n') # El retorno es una Serie\n",
        "\n",
        "df2 = df1.copy()\n",
        "\n",
        "# Se redefine el valor de los indices para df2 -> [10, 15)\n",
        "df2.index = np.arange(10,15)\n",
        "print(df2, '\\n')\n",
        "\n",
        "# df2.loc[0]  #error porque el indice 0 no existe\n",
        "df2.iloc[0]"
      ],
      "execution_count": 513,
      "outputs": [
        {
          "output_type": "stream",
          "text": [
            "Nombre    Francisco\n",
            "Edad             37\n",
            "Género            M\n",
            "Name: 0, dtype: object \n",
            "\n",
            "Type: <class 'pandas.core.series.Series'> \n",
            "\n",
            "       Nombre  Edad Género\n",
            "10  Francisco    37      M\n",
            "11      Mario    20      M\n",
            "12        Ana    45      F\n",
            "13      Pedro    26      M\n",
            "14      Marta    42      F \n",
            "\n"
          ],
          "name": "stdout"
        },
        {
          "output_type": "execute_result",
          "data": {
            "text/plain": [
              "Nombre    Francisco\n",
              "Edad             37\n",
              "Género            M\n",
              "Name: 10, dtype: object"
            ]
          },
          "metadata": {
            "tags": []
          },
          "execution_count": 513
        }
      ]
    },
    {
      "cell_type": "code",
      "metadata": {
        "id": "F3-YWLfFgfD9",
        "colab_type": "code",
        "colab": {
          "base_uri": "https://localhost:8080/",
          "height": 69
        },
        "outputId": "06b86aaa-f970-4513-edca-5e3bea3bdfe0"
      },
      "source": [
        "# Eliminar personas cuya edad sea menor o igual a 40\n",
        "df2 = df1[df1['Edad'] > 40]\n",
        "print(df2)"
      ],
      "execution_count": 514,
      "outputs": [
        {
          "output_type": "stream",
          "text": [
            "  Nombre  Edad Género\n",
            "2    Ana    45      F\n",
            "4  Marta    42      F\n"
          ],
          "name": "stdout"
        }
      ]
    },
    {
      "cell_type": "code",
      "metadata": {
        "id": "1VkfzYbCgyMN",
        "colab_type": "code",
        "colab": {
          "base_uri": "https://localhost:8080/",
          "height": 86
        },
        "outputId": "e06b3f8b-63e8-459b-b044-3176e84c7d01"
      },
      "source": [
        "df2.iloc[0]\n",
        "\n",
        "# Hay un error porque el indice 0 fue eliminado, solo estan 2 y 4\n",
        "# df2.loc[0]"
      ],
      "execution_count": 515,
      "outputs": [
        {
          "output_type": "execute_result",
          "data": {
            "text/plain": [
              "Nombre    Ana\n",
              "Edad       45\n",
              "Género      F\n",
              "Name: 2, dtype: object"
            ]
          },
          "metadata": {
            "tags": []
          },
          "execution_count": 515
        }
      ]
    },
    {
      "cell_type": "markdown",
      "metadata": {
        "id": "z3UmPYOyiGEb",
        "colab_type": "text"
      },
      "source": [
        "##### Obtener todos los elementos de un DataFrame como un array de numpy"
      ]
    },
    {
      "cell_type": "code",
      "metadata": {
        "id": "U3IeKSDhiCvS",
        "colab_type": "code",
        "colab": {
          "base_uri": "https://localhost:8080/",
          "height": 104
        },
        "outputId": "ce1ce95a-869d-4cc7-f450-242eb314418e"
      },
      "source": [
        "# Ejemplob\n",
        "df1.values"
      ],
      "execution_count": 516,
      "outputs": [
        {
          "output_type": "execute_result",
          "data": {
            "text/plain": [
              "array([['Francisco', 37, 'M'],\n",
              "       ['Mario', 20, 'M'],\n",
              "       ['Ana', 45, 'F'],\n",
              "       ['Pedro', 26, 'M'],\n",
              "       ['Marta', 42, 'F']], dtype=object)"
            ]
          },
          "metadata": {
            "tags": []
          },
          "execution_count": 516
        }
      ]
    },
    {
      "cell_type": "markdown",
      "metadata": {
        "id": "zVGfHHAkiQps",
        "colab_type": "text"
      },
      "source": [
        "##### Formas de iterar un dataframe de pandas\n",
        "\n",
        "* Con un for convencional\n",
        "* Con un iterrows\n",
        "* Con una función lambda"
      ]
    },
    {
      "cell_type": "code",
      "metadata": {
        "id": "Rqd-WyntiO3q",
        "colab_type": "code",
        "colab": {
          "base_uri": "https://localhost:8080/",
          "height": 208
        },
        "outputId": "2e903c71-3f3d-4ca6-ce92-5f9967936811"
      },
      "source": [
        "! wget https://archive.ics.uci.edu/ml/machine-learning-databases/iris/iris.data"
      ],
      "execution_count": 517,
      "outputs": [
        {
          "output_type": "stream",
          "text": [
            "--2020-09-20 20:33:48--  https://archive.ics.uci.edu/ml/machine-learning-databases/iris/iris.data\n",
            "Resolving archive.ics.uci.edu (archive.ics.uci.edu)... 128.195.10.252\n",
            "Connecting to archive.ics.uci.edu (archive.ics.uci.edu)|128.195.10.252|:443... connected.\n",
            "HTTP request sent, awaiting response... 200 OK\n",
            "Length: 4551 (4.4K) [application/x-httpd-php]\n",
            "Saving to: ‘iris.data.4’\n",
            "\n",
            "iris.data.4         100%[===================>]   4.44K  --.-KB/s    in 0s      \n",
            "\n",
            "2020-09-20 20:33:48 (99.8 MB/s) - ‘iris.data.4’ saved [4551/4551]\n",
            "\n"
          ],
          "name": "stdout"
        }
      ]
    },
    {
      "cell_type": "code",
      "metadata": {
        "id": "5InzXHyTicks",
        "colab_type": "code",
        "colab": {
          "base_uri": "https://localhost:8080/",
          "height": 104
        },
        "outputId": "3a5c069f-1ef5-4d16-cc19-e1327ffac43a"
      },
      "source": [
        "! head -n 5 iris.data"
      ],
      "execution_count": 518,
      "outputs": [
        {
          "output_type": "stream",
          "text": [
            "5.1,3.5,1.4,0.2,Iris-setosa\n",
            "4.9,3.0,1.4,0.2,Iris-setosa\n",
            "4.7,3.2,1.3,0.2,Iris-setosa\n",
            "4.6,3.1,1.5,0.2,Iris-setosa\n",
            "5.0,3.6,1.4,0.2,Iris-setosa\n"
          ],
          "name": "stdout"
        }
      ]
    },
    {
      "cell_type": "code",
      "metadata": {
        "id": "sr7pt6GzigSH",
        "colab_type": "code",
        "colab": {
          "base_uri": "https://localhost:8080/",
          "height": 424
        },
        "outputId": "5ce672ef-e6eb-44a0-8b83-c2ae4894d64c"
      },
      "source": [
        "iris = pd.read_csv('iris.data', header=None)\n",
        "iris.columns = ['sepal_length', 'sepal_width', 'petal_length', 'petal_width', 'class']\n",
        "iris"
      ],
      "execution_count": 519,
      "outputs": [
        {
          "output_type": "execute_result",
          "data": {
            "text/html": [
              "<div>\n",
              "<style scoped>\n",
              "    .dataframe tbody tr th:only-of-type {\n",
              "        vertical-align: middle;\n",
              "    }\n",
              "\n",
              "    .dataframe tbody tr th {\n",
              "        vertical-align: top;\n",
              "    }\n",
              "\n",
              "    .dataframe thead th {\n",
              "        text-align: right;\n",
              "    }\n",
              "</style>\n",
              "<table border=\"1\" class=\"dataframe\">\n",
              "  <thead>\n",
              "    <tr style=\"text-align: right;\">\n",
              "      <th></th>\n",
              "      <th>sepal_length</th>\n",
              "      <th>sepal_width</th>\n",
              "      <th>petal_length</th>\n",
              "      <th>petal_width</th>\n",
              "      <th>class</th>\n",
              "    </tr>\n",
              "  </thead>\n",
              "  <tbody>\n",
              "    <tr>\n",
              "      <th>0</th>\n",
              "      <td>5.1</td>\n",
              "      <td>3.5</td>\n",
              "      <td>1.4</td>\n",
              "      <td>0.2</td>\n",
              "      <td>Iris-setosa</td>\n",
              "    </tr>\n",
              "    <tr>\n",
              "      <th>1</th>\n",
              "      <td>4.9</td>\n",
              "      <td>3.0</td>\n",
              "      <td>1.4</td>\n",
              "      <td>0.2</td>\n",
              "      <td>Iris-setosa</td>\n",
              "    </tr>\n",
              "    <tr>\n",
              "      <th>2</th>\n",
              "      <td>4.7</td>\n",
              "      <td>3.2</td>\n",
              "      <td>1.3</td>\n",
              "      <td>0.2</td>\n",
              "      <td>Iris-setosa</td>\n",
              "    </tr>\n",
              "    <tr>\n",
              "      <th>3</th>\n",
              "      <td>4.6</td>\n",
              "      <td>3.1</td>\n",
              "      <td>1.5</td>\n",
              "      <td>0.2</td>\n",
              "      <td>Iris-setosa</td>\n",
              "    </tr>\n",
              "    <tr>\n",
              "      <th>4</th>\n",
              "      <td>5.0</td>\n",
              "      <td>3.6</td>\n",
              "      <td>1.4</td>\n",
              "      <td>0.2</td>\n",
              "      <td>Iris-setosa</td>\n",
              "    </tr>\n",
              "    <tr>\n",
              "      <th>...</th>\n",
              "      <td>...</td>\n",
              "      <td>...</td>\n",
              "      <td>...</td>\n",
              "      <td>...</td>\n",
              "      <td>...</td>\n",
              "    </tr>\n",
              "    <tr>\n",
              "      <th>145</th>\n",
              "      <td>6.7</td>\n",
              "      <td>3.0</td>\n",
              "      <td>5.2</td>\n",
              "      <td>2.3</td>\n",
              "      <td>Iris-virginica</td>\n",
              "    </tr>\n",
              "    <tr>\n",
              "      <th>146</th>\n",
              "      <td>6.3</td>\n",
              "      <td>2.5</td>\n",
              "      <td>5.0</td>\n",
              "      <td>1.9</td>\n",
              "      <td>Iris-virginica</td>\n",
              "    </tr>\n",
              "    <tr>\n",
              "      <th>147</th>\n",
              "      <td>6.5</td>\n",
              "      <td>3.0</td>\n",
              "      <td>5.2</td>\n",
              "      <td>2.0</td>\n",
              "      <td>Iris-virginica</td>\n",
              "    </tr>\n",
              "    <tr>\n",
              "      <th>148</th>\n",
              "      <td>6.2</td>\n",
              "      <td>3.4</td>\n",
              "      <td>5.4</td>\n",
              "      <td>2.3</td>\n",
              "      <td>Iris-virginica</td>\n",
              "    </tr>\n",
              "    <tr>\n",
              "      <th>149</th>\n",
              "      <td>5.9</td>\n",
              "      <td>3.0</td>\n",
              "      <td>5.1</td>\n",
              "      <td>1.8</td>\n",
              "      <td>Iris-virginica</td>\n",
              "    </tr>\n",
              "  </tbody>\n",
              "</table>\n",
              "<p>150 rows × 5 columns</p>\n",
              "</div>"
            ],
            "text/plain": [
              "     sepal_length  sepal_width  petal_length  petal_width           class\n",
              "0             5.1          3.5           1.4          0.2     Iris-setosa\n",
              "1             4.9          3.0           1.4          0.2     Iris-setosa\n",
              "2             4.7          3.2           1.3          0.2     Iris-setosa\n",
              "3             4.6          3.1           1.5          0.2     Iris-setosa\n",
              "4             5.0          3.6           1.4          0.2     Iris-setosa\n",
              "..            ...          ...           ...          ...             ...\n",
              "145           6.7          3.0           5.2          2.3  Iris-virginica\n",
              "146           6.3          2.5           5.0          1.9  Iris-virginica\n",
              "147           6.5          3.0           5.2          2.0  Iris-virginica\n",
              "148           6.2          3.4           5.4          2.3  Iris-virginica\n",
              "149           5.9          3.0           5.1          1.8  Iris-virginica\n",
              "\n",
              "[150 rows x 5 columns]"
            ]
          },
          "metadata": {
            "tags": []
          },
          "execution_count": 519
        }
      ]
    },
    {
      "cell_type": "markdown",
      "metadata": {
        "id": "sqi21S-MizPh",
        "colab_type": "text"
      },
      "source": [
        "###### Con un for convencional"
      ]
    },
    {
      "cell_type": "code",
      "metadata": {
        "id": "sLhGekyai3pQ",
        "colab_type": "code",
        "colab": {
          "base_uri": "https://localhost:8080/",
          "height": 34
        },
        "outputId": "163e89bc-79c0-47f0-b648-22501a24154d"
      },
      "source": [
        "from datetime import datetime as dt\n",
        "\n",
        "start = dt.now()\n",
        "\n",
        "sepal_box = np.zeros(len(iris))\n",
        "# np.arange(len(iris)) -> [0, len(iris))\n",
        "for index in np.arange(len(iris)):\n",
        "    # row_act = contiene los valores de la fila recorrida en esa iteración\n",
        "    row_act = iris.iloc[index]\n",
        "    sepal_box[index] = row_act['sepal_length'] * row_act['sepal_width']\n",
        "print(dt.now() - start)"
      ],
      "execution_count": 520,
      "outputs": [
        {
          "output_type": "stream",
          "text": [
            "0:00:00.029514\n"
          ],
          "name": "stdout"
        }
      ]
    },
    {
      "cell_type": "markdown",
      "metadata": {
        "id": "_s2lWhrki51h",
        "colab_type": "text"
      },
      "source": [
        "###### Con un iterrows"
      ]
    },
    {
      "cell_type": "code",
      "metadata": {
        "id": "GMZ-hkKYi83Z",
        "colab_type": "code",
        "colab": {
          "base_uri": "https://localhost:8080/",
          "height": 34
        },
        "outputId": "921a85b6-72d4-4059-9b03-518ea9d32af3"
      },
      "source": [
        "start = dt.now()\n",
        "\n",
        "sepal_box = np.zeros(len(iris))\n",
        "\n",
        "for index, row in iris.iterrows():\n",
        "    sepal_box[index] = row['sepal_length'] * row['sepal_width']\n",
        "    \n",
        "print(dt.now() - start)"
      ],
      "execution_count": 521,
      "outputs": [
        {
          "output_type": "stream",
          "text": [
            "0:00:00.023896\n"
          ],
          "name": "stdout"
        }
      ]
    },
    {
      "cell_type": "markdown",
      "metadata": {
        "id": "b3lJi8JNjrz9",
        "colab_type": "text"
      },
      "source": [
        "###### Con una función lambda"
      ]
    },
    {
      "cell_type": "code",
      "metadata": {
        "id": "5xE6dujAju8F",
        "colab_type": "code",
        "colab": {
          "base_uri": "https://localhost:8080/",
          "height": 34
        },
        "outputId": "26fbc154-dcfc-4276-8371-c9b0db752289"
      },
      "source": [
        "def get_box(row):\n",
        "    return row['sepal_length'] * row['sepal_width']\n",
        "\n",
        "get_box(iris.iloc[0])"
      ],
      "execution_count": 522,
      "outputs": [
        {
          "output_type": "execute_result",
          "data": {
            "text/plain": [
              "17.849999999999998"
            ]
          },
          "metadata": {
            "tags": []
          },
          "execution_count": 522
        }
      ]
    },
    {
      "cell_type": "code",
      "metadata": {
        "id": "fUg6X8Nci-B6",
        "colab_type": "code",
        "colab": {
          "base_uri": "https://localhost:8080/",
          "height": 34
        },
        "outputId": "65b524e5-9d16-4b77-f4de-df93b299dde0"
      },
      "source": [
        "start = dt.now()\n",
        "\n",
        "# axis=1  ->  filas\n",
        "sepal_box = iris.apply(lambda row: get_box(row), axis=1)\n",
        "\n",
        "print(dt.now() - start)"
      ],
      "execution_count": 523,
      "outputs": [
        {
          "output_type": "stream",
          "text": [
            "0:00:00.010792\n"
          ],
          "name": "stdout"
        }
      ]
    },
    {
      "cell_type": "markdown",
      "metadata": {
        "id": "TNDEM2N8C1Hr",
        "colab_type": "text"
      },
      "source": [
        "## Numba\n",
        "\n",
        "Numba es un módulo de python que permite convertir código de python directamenet a código de máquina para obtener tiempos de ejecución **muchísimo** mas eficientes.\n"
      ]
    },
    {
      "cell_type": "code",
      "metadata": {
        "id": "Nkgs-sB1Ddr0",
        "colab_type": "code",
        "colab": {
          "base_uri": "https://localhost:8080/",
          "height": 52
        },
        "outputId": "be3d7f1b-43d5-4891-9f26-f7a0430b3ca3"
      },
      "source": [
        "import numpy as np\n",
        "\n",
        "n = 1e7\n",
        "array = np.random.rand(int(n)) * 360\n",
        "print(array)"
      ],
      "execution_count": 524,
      "outputs": [
        {
          "output_type": "stream",
          "text": [
            "[ 31.73389241  64.97720092 348.00306802 ... 129.70698296  80.60581405\n",
            " 285.18499785]\n"
          ],
          "name": "stdout"
        }
      ]
    },
    {
      "cell_type": "code",
      "metadata": {
        "id": "8N48jG7VDnAE",
        "colab_type": "code",
        "colab": {
          "base_uri": "https://localhost:8080/",
          "height": 34
        },
        "outputId": "f32b8b78-367a-4dcd-cd44-aec526863c7b"
      },
      "source": [
        "from datetime import datetime as dt\n",
        "\n",
        "\n",
        "def sin_array(array):\n",
        "    ret = np.empty(len(array))\n",
        "    for index, x in enumerate(array):\n",
        "        ret[index] = np.sin(x * 2 * np.pi / 360)\n",
        "    return ret\n",
        "\n",
        "\n",
        "start = dt.now()\n",
        "\n",
        "sin_array(array)\n",
        "\n",
        "print(dt.now() - start)"
      ],
      "execution_count": 525,
      "outputs": [
        {
          "output_type": "stream",
          "text": [
            "0:00:26.747090\n"
          ],
          "name": "stdout"
        }
      ]
    },
    {
      "cell_type": "code",
      "metadata": {
        "id": "xoq6UkbEDybu",
        "colab_type": "code",
        "colab": {
          "base_uri": "https://localhost:8080/",
          "height": 34
        },
        "outputId": "13689ae3-b828-4c10-e630-e9d7a1c2fbbd"
      },
      "source": [
        "import numba\n",
        "\n",
        "@numba.jit\n",
        "def sin_array2(array):\n",
        "    ret = np.empty(len(array))\n",
        "    for index, x in enumerate(array):\n",
        "        ret[index] = np.sin(x * 2 * np.pi / 360)\n",
        "    return ret\n",
        "\n",
        "start = dt.now()\n",
        "\n",
        "sin_array2(array)\n",
        "\n",
        "print(dt.now() - start)"
      ],
      "execution_count": 526,
      "outputs": [
        {
          "output_type": "stream",
          "text": [
            "0:00:00.498549\n"
          ],
          "name": "stdout"
        }
      ]
    }
  ]
}