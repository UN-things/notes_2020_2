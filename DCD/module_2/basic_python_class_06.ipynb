{
  "nbformat": 4,
  "nbformat_minor": 0,
  "metadata": {
    "colab": {
      "name": "basic_python_class_06.ipynb",
      "provenance": [],
      "collapsed_sections": [
        "Rz-jhbyG7GTg",
        "cvf3peZQqxAu",
        "4i_0T5aM0gqe",
        "cdKqtMAs0gyQ"
      ],
      "include_colab_link": true
    },
    "kernelspec": {
      "name": "python3",
      "display_name": "Python 3"
    }
  },
  "cells": [
    {
      "cell_type": "markdown",
      "metadata": {
        "id": "view-in-github",
        "colab_type": "text"
      },
      "source": [
        "<a href=\"https://colab.research.google.com/github/gtzambranop/UN_2020_2/blob/DCD/DCD/module_2/basic_python_class_06.ipynb\" target=\"_parent\"><img src=\"https://colab.research.google.com/assets/colab-badge.svg\" alt=\"Open In Colab\"/></a>"
      ]
    },
    {
      "cell_type": "markdown",
      "metadata": {
        "id": "9NIt06jTqxUR",
        "colab_type": "text"
      },
      "source": [
        "# **\"Pyhton Básico\"**\n",
        "\n",
        "* **Profesor:** Francisco Javier Ospina Salazar\n",
        "* **Monitoras:**\n",
        "  - Diana Carolina Sanchez Perez\n",
        "  - Guiselle Tatiana Zambrano Penagos\n",
        "* **Fechas:** \n",
        "  - Inicio: 2020-09-12\n",
        "  - Final: 2020-09-29\n",
        "* [Presentacióón del curso](http://ospinafrancisco.com/)\n"
      ]
    },
    {
      "cell_type": "markdown",
      "metadata": {
        "id": "PwXN-k6pcYtU",
        "colab_type": "text"
      },
      "source": [
        "\n",
        "## Contenido de la clase\n",
        "\n",
        "- Operaciones entre tablas de datos\n",
        "  - Joins (uniones)\n",
        "- Creación de filas o columnas en tablas\n",
        "  - Añadir columas\n",
        "  - Broadcasting\n",
        "  - Añadir filas\n",
        "  - Concatenación\n",
        "- Operaciones útiles con DataFrames\n",
        "  - Multi-indexamiento\n",
        "    - Agregaciones por niveles de indexamiento\n",
        "  - Tablas pivote\n",
        "  - Selección de sub-dataframes\n",
        "  - Ordenamientos\n",
        "  - Iteraciones sobre grupos\n",
        "  - Agregaciones sobre grupos\n",
        "  - Tablas cruzadas\n",
        "\n"
      ]
    },
    {
      "cell_type": "markdown",
      "metadata": {
        "id": "Rz-jhbyG7GTg",
        "colab_type": "text"
      },
      "source": [
        "# Informacióón adicional"
      ]
    },
    {
      "cell_type": "markdown",
      "metadata": {
        "id": "reau2Os27d-t",
        "colab_type": "text"
      },
      "source": [
        "## Diferencia entre métodos y funciones\n",
        "\n",
        "Una **función** es una pieza de código que se llama por nombre. Se puede pasar datos para operar (es decir, los parámetros) y opcionalmente puede devolver datos (el valor de retorno). Todos los datos que se pasan a una función se pasan explícitamente. \n",
        "\n",
        "Un **método** es una porción de código que es llamado por un nombre que está asociado con un objeto. En la mayoría de los aspectos, es idéntica a una función, excepto por dos diferencias clave:\n",
        "\n",
        "- Un método se pasa implícitamente al objeto sobre el que se llamó.\n",
        "- Un método puede operar con datos contenidos en la clase (recordando que un objeto es una instancia de una clase, la clase es la definición, el objeto es una instancia de esa información).\n",
        "\n",
        "Una **función** puede retornar un resultado o realizar una accióón agena al objeto. Un **método** modifica y trabaja directamente con el objeto."
      ]
    },
    {
      "cell_type": "markdown",
      "metadata": {
        "id": "xps4CXj78sUc",
        "colab_type": "text"
      },
      "source": [
        "### Ejemplo método"
      ]
    },
    {
      "cell_type": "code",
      "metadata": {
        "id": "_sGUBirNeoLK",
        "colab_type": "code",
        "colab": {
          "base_uri": "https://localhost:8080/",
          "height": 34
        },
        "outputId": "49c38363-7fd0-436a-d17b-dc8f621a0e8c"
      },
      "source": [
        "# Se define un diccionario\n",
        "dc = {'a': 1}\n",
        "dc"
      ],
      "execution_count": 448,
      "outputs": [
        {
          "output_type": "execute_result",
          "data": {
            "text/plain": [
              "{'a': 1}"
            ]
          },
          "metadata": {
            "tags": []
          },
          "execution_count": 448
        }
      ]
    },
    {
      "cell_type": "code",
      "metadata": {
        "id": "KMZ4oVk9er43",
        "colab_type": "code",
        "colab": {
          "base_uri": "https://localhost:8080/",
          "height": 34
        },
        "outputId": "df62849a-db93-4d60-8e37-ef92b1a44a9e"
      },
      "source": [
        "# El método update actualiza el diccionario directamente\n",
        "dc.update({'b': 2})\n",
        "dc"
      ],
      "execution_count": 449,
      "outputs": [
        {
          "output_type": "execute_result",
          "data": {
            "text/plain": [
              "{'a': 1, 'b': 2}"
            ]
          },
          "metadata": {
            "tags": []
          },
          "execution_count": 449
        }
      ]
    },
    {
      "cell_type": "code",
      "metadata": {
        "id": "yKr2aeaR_I1_",
        "colab_type": "code",
        "colab": {}
      },
      "source": [
        "def exponentiation_method(list_base, exponent=2):\n",
        "  # Se sobrescriben los datos de list_base\n",
        "  for i in range(len(list_base)):\n",
        "    list_base[i] = list_base[i] ** exponent"
      ],
      "execution_count": 564,
      "outputs": []
    },
    {
      "cell_type": "code",
      "metadata": {
        "id": "UXvgppoTATeV",
        "colab_type": "code",
        "colab": {
          "base_uri": "https://localhost:8080/",
          "height": 34
        },
        "outputId": "93a01a18-cc62-4e29-eda6-bfb18850e799"
      },
      "source": [
        "# Lista de números pares en el rango [0, 10)\n",
        "list_1 = list(range(0, 10, 2)) \n",
        "print(list_1)"
      ],
      "execution_count": 562,
      "outputs": [
        {
          "output_type": "stream",
          "text": [
            "[0, 2, 4, 6, 8]\n"
          ],
          "name": "stdout"
        }
      ]
    },
    {
      "cell_type": "code",
      "metadata": {
        "id": "JTr35hwLAVQW",
        "colab_type": "code",
        "colab": {}
      },
      "source": [
        "exponentiation_method(list_1)"
      ],
      "execution_count": 565,
      "outputs": []
    },
    {
      "cell_type": "code",
      "metadata": {
        "id": "Jr4PmpwVD6T1",
        "colab_type": "code",
        "colab": {
          "base_uri": "https://localhost:8080/",
          "height": 34
        },
        "outputId": "5a2f75ef-38b1-480d-e699-c736bc3ce1e5"
      },
      "source": [
        "# Se modificó directamente la lista original\n",
        "list_1"
      ],
      "execution_count": 567,
      "outputs": [
        {
          "output_type": "execute_result",
          "data": {
            "text/plain": [
              "[0, 4, 16, 36, 64]"
            ]
          },
          "metadata": {
            "tags": []
          },
          "execution_count": 567
        }
      ]
    },
    {
      "cell_type": "markdown",
      "metadata": {
        "id": "ZwNudCex9Ddi",
        "colab_type": "text"
      },
      "source": [
        "### Ejemplo función"
      ]
    },
    {
      "cell_type": "code",
      "metadata": {
        "id": "2EK9Ytep9Crt",
        "colab_type": "code",
        "colab": {
          "base_uri": "https://localhost:8080/",
          "height": 34
        },
        "outputId": "02fd0693-7c34-4423-87e1-48b923792c3e"
      },
      "source": [
        "# Lista de números pares en el rango [0, 10)\n",
        "list_1 = list(range(0, 10, 2)) \n",
        "print(list_1)"
      ],
      "execution_count": 568,
      "outputs": [
        {
          "output_type": "stream",
          "text": [
            "[0, 2, 4, 6, 8]\n"
          ],
          "name": "stdout"
        }
      ]
    },
    {
      "cell_type": "code",
      "metadata": {
        "id": "_ys4RFE99n5g",
        "colab_type": "code",
        "colab": {}
      },
      "source": [
        "def exponentiation_function(list_base, exponent=2):\n",
        "  # Se crea una nueva lista, la lista de entrada NO se modifica\n",
        "  list_2 = [x**exponent for x in list_base]\n",
        "  return list_2"
      ],
      "execution_count": 571,
      "outputs": []
    },
    {
      "cell_type": "code",
      "metadata": {
        "id": "boH6POeH-XYn",
        "colab_type": "code",
        "colab": {
          "base_uri": "https://localhost:8080/",
          "height": 34
        },
        "outputId": "4c883fac-62e7-458e-a502-2f4f1bb4acaa"
      },
      "source": [
        "# La lista original no se modifica, pero se retorna una nueva lista con los\n",
        "# cambios requeridos\n",
        "list_2 = exponentiation_function(list_1, 3)\n",
        "list_2"
      ],
      "execution_count": 569,
      "outputs": [
        {
          "output_type": "execute_result",
          "data": {
            "text/plain": [
              "[0, 16, 256, 1296, 4096]"
            ]
          },
          "metadata": {
            "tags": []
          },
          "execution_count": 569
        }
      ]
    },
    {
      "cell_type": "code",
      "metadata": {
        "id": "Hh9Xvg_l_eM1",
        "colab_type": "code",
        "colab": {
          "base_uri": "https://localhost:8080/",
          "height": 34
        },
        "outputId": "9ec278f7-d2e4-4970-e49b-46b8ad2ea559"
      },
      "source": [
        "list_1"
      ],
      "execution_count": 555,
      "outputs": [
        {
          "output_type": "execute_result",
          "data": {
            "text/plain": [
              "[0, 2, 4, 6, 8]"
            ]
          },
          "metadata": {
            "tags": []
          },
          "execution_count": 555
        }
      ]
    },
    {
      "cell_type": "code",
      "metadata": {
        "id": "zezp4K3B-kfe",
        "colab_type": "code",
        "colab": {}
      },
      "source": [
        "exponentiation_2(list_1, 2)\n"
      ],
      "execution_count": 556,
      "outputs": []
    },
    {
      "cell_type": "code",
      "metadata": {
        "id": "ICmfgOF4_UyW",
        "colab_type": "code",
        "colab": {
          "base_uri": "https://localhost:8080/",
          "height": 34
        },
        "outputId": "67abbb26-01d4-4f2f-afe2-3bb277016938"
      },
      "source": [
        "# La lista original se modificó\n",
        "list_1"
      ],
      "execution_count": 557,
      "outputs": [
        {
          "output_type": "execute_result",
          "data": {
            "text/plain": [
              "[0, 4, 16, 36, 64]"
            ]
          },
          "metadata": {
            "tags": []
          },
          "execution_count": 557
        }
      ]
    },
    {
      "cell_type": "code",
      "metadata": {
        "id": "-M41e0-1dHzF",
        "colab_type": "code",
        "colab": {}
      },
      "source": [
        "import pandas as pd \n",
        "import numpy as np"
      ],
      "execution_count": 450,
      "outputs": []
    },
    {
      "cell_type": "markdown",
      "metadata": {
        "id": "cvf3peZQqxAu",
        "colab_type": "text"
      },
      "source": [
        "# Operaciones de tablas en Pandas"
      ]
    },
    {
      "cell_type": "markdown",
      "metadata": {
        "id": "W8k9MfLZqzlN",
        "colab_type": "text"
      },
      "source": [
        "## Operaciones entre tablas de datos\n",
        "* Joins\n",
        "* Concatenación de tablas\n",
        "  * Añadir columas\n",
        "  * Añadir filas"
      ]
    },
    {
      "cell_type": "markdown",
      "metadata": {
        "id": "oyknDapGq9Cv",
        "colab_type": "text"
      },
      "source": [
        "### Joins\n",
        "\n",
        "**Nota:** \n",
        "\n",
        "\n",
        "Como ejemplos para ver la funcionalidad de los joins se tomaran las tablas que se usan como ejemplo en la sección de [joins de Wikipedia](https://es.wikipedia.org/wiki/Join)"
      ]
    },
    {
      "cell_type": "markdown",
      "metadata": {
        "id": "bEg47_K3gaKC",
        "colab_type": "text"
      },
      "source": [
        "![join](https://ingenieriadesoftware.es/wp-content/uploads/2018/07/sqljoin.jpeg)"
      ]
    },
    {
      "cell_type": "code",
      "metadata": {
        "id": "4vGhCzePqwrP",
        "colab_type": "code",
        "colab": {}
      },
      "source": [
        "Empleado = pd.DataFrame({'Apellido' : ['Andrade', 'Jordán', 'Steinberg', 'Róbinson', 'Zolano', 'Gaspar'],\n",
        "                         'IDDepartamento' : [31, 33, 33, 34, 34, 36]})\n",
        "\n",
        "\n",
        "Departamento = pd.DataFrame({'NombreDepartamento': ['Ventas', 'Ingeniería', 'Producción', 'Mercadeo'],\n",
        "                             'IDDepartamento': [31, 33, 34, 35]})"
      ],
      "execution_count": 476,
      "outputs": []
    },
    {
      "cell_type": "code",
      "metadata": {
        "id": "nf05HGYcrMui",
        "colab_type": "code",
        "colab": {
          "base_uri": "https://localhost:8080/",
          "height": 243
        },
        "outputId": "0f5b2e21-caf4-4353-ed66-a63f042a4905"
      },
      "source": [
        "print(Empleado)\n",
        "print('-' * 50)\n",
        "print(Departamento)"
      ],
      "execution_count": 477,
      "outputs": [
        {
          "output_type": "stream",
          "text": [
            "    Apellido  IDDepartamento\n",
            "0    Andrade              31\n",
            "1     Jordán              33\n",
            "2  Steinberg              33\n",
            "3   Róbinson              34\n",
            "4     Zolano              34\n",
            "5     Gaspar              36\n",
            "--------------------------------------------------\n",
            "  NombreDepartamento  IDDepartamento\n",
            "0             Ventas              31\n",
            "1         Ingeniería              33\n",
            "2         Producción              34\n",
            "3           Mercadeo              35\n"
          ],
          "name": "stdout"
        }
      ]
    },
    {
      "cell_type": "markdown",
      "metadata": {
        "id": "8Iq3bfyXrRhW",
        "colab_type": "text"
      },
      "source": [
        "#### Inner join.\n",
        "\n",
        "El inner join mezcla las dos tablas por columna dejando únicamente las filas que hacen **match** en ambas tablas. Inner es el join por defecto en Pandas."
      ]
    },
    {
      "cell_type": "code",
      "metadata": {
        "id": "mkCQeV3zrlZM",
        "colab_type": "code",
        "colab": {
          "base_uri": "https://localhost:8080/",
          "height": 206
        },
        "outputId": "7d8057f5-7b2f-4829-b51a-9b2838c7c7c4"
      },
      "source": [
        "pd.merge(Empleado, Departamento) # La columna IDDepartamento solo queda una vez"
      ],
      "execution_count": 478,
      "outputs": [
        {
          "output_type": "execute_result",
          "data": {
            "text/html": [
              "<div>\n",
              "<style scoped>\n",
              "    .dataframe tbody tr th:only-of-type {\n",
              "        vertical-align: middle;\n",
              "    }\n",
              "\n",
              "    .dataframe tbody tr th {\n",
              "        vertical-align: top;\n",
              "    }\n",
              "\n",
              "    .dataframe thead th {\n",
              "        text-align: right;\n",
              "    }\n",
              "</style>\n",
              "<table border=\"1\" class=\"dataframe\">\n",
              "  <thead>\n",
              "    <tr style=\"text-align: right;\">\n",
              "      <th></th>\n",
              "      <th>Apellido</th>\n",
              "      <th>IDDepartamento</th>\n",
              "      <th>NombreDepartamento</th>\n",
              "    </tr>\n",
              "  </thead>\n",
              "  <tbody>\n",
              "    <tr>\n",
              "      <th>0</th>\n",
              "      <td>Andrade</td>\n",
              "      <td>31</td>\n",
              "      <td>Ventas</td>\n",
              "    </tr>\n",
              "    <tr>\n",
              "      <th>1</th>\n",
              "      <td>Jordán</td>\n",
              "      <td>33</td>\n",
              "      <td>Ingeniería</td>\n",
              "    </tr>\n",
              "    <tr>\n",
              "      <th>2</th>\n",
              "      <td>Steinberg</td>\n",
              "      <td>33</td>\n",
              "      <td>Ingeniería</td>\n",
              "    </tr>\n",
              "    <tr>\n",
              "      <th>3</th>\n",
              "      <td>Róbinson</td>\n",
              "      <td>34</td>\n",
              "      <td>Producción</td>\n",
              "    </tr>\n",
              "    <tr>\n",
              "      <th>4</th>\n",
              "      <td>Zolano</td>\n",
              "      <td>34</td>\n",
              "      <td>Producción</td>\n",
              "    </tr>\n",
              "  </tbody>\n",
              "</table>\n",
              "</div>"
            ],
            "text/plain": [
              "    Apellido  IDDepartamento NombreDepartamento\n",
              "0    Andrade              31             Ventas\n",
              "1     Jordán              33         Ingeniería\n",
              "2  Steinberg              33         Ingeniería\n",
              "3   Róbinson              34         Producción\n",
              "4     Zolano              34         Producción"
            ]
          },
          "metadata": {
            "tags": []
          },
          "execution_count": 478
        }
      ]
    },
    {
      "cell_type": "code",
      "metadata": {
        "id": "jYkvv8jPr2RX",
        "colab_type": "code",
        "colab": {
          "base_uri": "https://localhost:8080/",
          "height": 206
        },
        "outputId": "e4d62dd4-f6e9-40f5-c97d-3bbfee66e7fc"
      },
      "source": [
        "Empleado.merge(Departamento) # Forma alterna"
      ],
      "execution_count": 479,
      "outputs": [
        {
          "output_type": "execute_result",
          "data": {
            "text/html": [
              "<div>\n",
              "<style scoped>\n",
              "    .dataframe tbody tr th:only-of-type {\n",
              "        vertical-align: middle;\n",
              "    }\n",
              "\n",
              "    .dataframe tbody tr th {\n",
              "        vertical-align: top;\n",
              "    }\n",
              "\n",
              "    .dataframe thead th {\n",
              "        text-align: right;\n",
              "    }\n",
              "</style>\n",
              "<table border=\"1\" class=\"dataframe\">\n",
              "  <thead>\n",
              "    <tr style=\"text-align: right;\">\n",
              "      <th></th>\n",
              "      <th>Apellido</th>\n",
              "      <th>IDDepartamento</th>\n",
              "      <th>NombreDepartamento</th>\n",
              "    </tr>\n",
              "  </thead>\n",
              "  <tbody>\n",
              "    <tr>\n",
              "      <th>0</th>\n",
              "      <td>Andrade</td>\n",
              "      <td>31</td>\n",
              "      <td>Ventas</td>\n",
              "    </tr>\n",
              "    <tr>\n",
              "      <th>1</th>\n",
              "      <td>Jordán</td>\n",
              "      <td>33</td>\n",
              "      <td>Ingeniería</td>\n",
              "    </tr>\n",
              "    <tr>\n",
              "      <th>2</th>\n",
              "      <td>Steinberg</td>\n",
              "      <td>33</td>\n",
              "      <td>Ingeniería</td>\n",
              "    </tr>\n",
              "    <tr>\n",
              "      <th>3</th>\n",
              "      <td>Róbinson</td>\n",
              "      <td>34</td>\n",
              "      <td>Producción</td>\n",
              "    </tr>\n",
              "    <tr>\n",
              "      <th>4</th>\n",
              "      <td>Zolano</td>\n",
              "      <td>34</td>\n",
              "      <td>Producción</td>\n",
              "    </tr>\n",
              "  </tbody>\n",
              "</table>\n",
              "</div>"
            ],
            "text/plain": [
              "    Apellido  IDDepartamento NombreDepartamento\n",
              "0    Andrade              31             Ventas\n",
              "1     Jordán              33         Ingeniería\n",
              "2  Steinberg              33         Ingeniería\n",
              "3   Róbinson              34         Producción\n",
              "4     Zolano              34         Producción"
            ]
          },
          "metadata": {
            "tags": []
          },
          "execution_count": 479
        }
      ]
    },
    {
      "cell_type": "markdown",
      "metadata": {
        "id": "iqQgo8c1rqKa",
        "colab_type": "text"
      },
      "source": [
        "#### Left join\n",
        "\n",
        "El left join mezcla las dos tablas por columna, dejando todas las filas de la tabla izquierda y solo las de la derecha que hacen match; el resto de registros lo llena con nulos.\n",
        "\n"
      ]
    },
    {
      "cell_type": "code",
      "metadata": {
        "id": "yZ220YZVruBP",
        "colab_type": "code",
        "colab": {
          "base_uri": "https://localhost:8080/",
          "height": 238
        },
        "outputId": "1bdbab2d-5c84-4bae-d488-ab6c341ba06e"
      },
      "source": [
        "# Se hace la operacióón left y luego el resultado es asignado a df_merged\n",
        "df_merged = pd.merge(Empleado, Departamento, how='left') \n",
        "df_merged"
      ],
      "execution_count": 480,
      "outputs": [
        {
          "output_type": "execute_result",
          "data": {
            "text/html": [
              "<div>\n",
              "<style scoped>\n",
              "    .dataframe tbody tr th:only-of-type {\n",
              "        vertical-align: middle;\n",
              "    }\n",
              "\n",
              "    .dataframe tbody tr th {\n",
              "        vertical-align: top;\n",
              "    }\n",
              "\n",
              "    .dataframe thead th {\n",
              "        text-align: right;\n",
              "    }\n",
              "</style>\n",
              "<table border=\"1\" class=\"dataframe\">\n",
              "  <thead>\n",
              "    <tr style=\"text-align: right;\">\n",
              "      <th></th>\n",
              "      <th>Apellido</th>\n",
              "      <th>IDDepartamento</th>\n",
              "      <th>NombreDepartamento</th>\n",
              "    </tr>\n",
              "  </thead>\n",
              "  <tbody>\n",
              "    <tr>\n",
              "      <th>0</th>\n",
              "      <td>Andrade</td>\n",
              "      <td>31</td>\n",
              "      <td>Ventas</td>\n",
              "    </tr>\n",
              "    <tr>\n",
              "      <th>1</th>\n",
              "      <td>Jordán</td>\n",
              "      <td>33</td>\n",
              "      <td>Ingeniería</td>\n",
              "    </tr>\n",
              "    <tr>\n",
              "      <th>2</th>\n",
              "      <td>Steinberg</td>\n",
              "      <td>33</td>\n",
              "      <td>Ingeniería</td>\n",
              "    </tr>\n",
              "    <tr>\n",
              "      <th>3</th>\n",
              "      <td>Róbinson</td>\n",
              "      <td>34</td>\n",
              "      <td>Producción</td>\n",
              "    </tr>\n",
              "    <tr>\n",
              "      <th>4</th>\n",
              "      <td>Zolano</td>\n",
              "      <td>34</td>\n",
              "      <td>Producción</td>\n",
              "    </tr>\n",
              "    <tr>\n",
              "      <th>5</th>\n",
              "      <td>Gaspar</td>\n",
              "      <td>36</td>\n",
              "      <td>NaN</td>\n",
              "    </tr>\n",
              "  </tbody>\n",
              "</table>\n",
              "</div>"
            ],
            "text/plain": [
              "    Apellido  IDDepartamento NombreDepartamento\n",
              "0    Andrade              31             Ventas\n",
              "1     Jordán              33         Ingeniería\n",
              "2  Steinberg              33         Ingeniería\n",
              "3   Róbinson              34         Producción\n",
              "4     Zolano              34         Producción\n",
              "5     Gaspar              36                NaN"
            ]
          },
          "metadata": {
            "tags": []
          },
          "execution_count": 480
        }
      ]
    },
    {
      "cell_type": "markdown",
      "metadata": {
        "id": "ZtJG93akr94K",
        "colab_type": "text"
      },
      "source": [
        "#### Right join\n",
        "\n",
        "El Right join mezcla las dos tablas por columna, dejando todas las filas de la tabla derecha y solo las de la izquierda que hacen match; el resto de registros lo llena con nulos."
      ]
    },
    {
      "cell_type": "code",
      "metadata": {
        "id": "8dZhBpaAsAaq",
        "colab_type": "code",
        "colab": {
          "base_uri": "https://localhost:8080/",
          "height": 238
        },
        "outputId": "a4d12d7b-5b50-4b04-d88e-aac317a50839"
      },
      "source": [
        "pd.merge(Empleado, Departamento, how='right') "
      ],
      "execution_count": 481,
      "outputs": [
        {
          "output_type": "execute_result",
          "data": {
            "text/html": [
              "<div>\n",
              "<style scoped>\n",
              "    .dataframe tbody tr th:only-of-type {\n",
              "        vertical-align: middle;\n",
              "    }\n",
              "\n",
              "    .dataframe tbody tr th {\n",
              "        vertical-align: top;\n",
              "    }\n",
              "\n",
              "    .dataframe thead th {\n",
              "        text-align: right;\n",
              "    }\n",
              "</style>\n",
              "<table border=\"1\" class=\"dataframe\">\n",
              "  <thead>\n",
              "    <tr style=\"text-align: right;\">\n",
              "      <th></th>\n",
              "      <th>Apellido</th>\n",
              "      <th>IDDepartamento</th>\n",
              "      <th>NombreDepartamento</th>\n",
              "    </tr>\n",
              "  </thead>\n",
              "  <tbody>\n",
              "    <tr>\n",
              "      <th>0</th>\n",
              "      <td>Andrade</td>\n",
              "      <td>31</td>\n",
              "      <td>Ventas</td>\n",
              "    </tr>\n",
              "    <tr>\n",
              "      <th>1</th>\n",
              "      <td>Jordán</td>\n",
              "      <td>33</td>\n",
              "      <td>Ingeniería</td>\n",
              "    </tr>\n",
              "    <tr>\n",
              "      <th>2</th>\n",
              "      <td>Steinberg</td>\n",
              "      <td>33</td>\n",
              "      <td>Ingeniería</td>\n",
              "    </tr>\n",
              "    <tr>\n",
              "      <th>3</th>\n",
              "      <td>Róbinson</td>\n",
              "      <td>34</td>\n",
              "      <td>Producción</td>\n",
              "    </tr>\n",
              "    <tr>\n",
              "      <th>4</th>\n",
              "      <td>Zolano</td>\n",
              "      <td>34</td>\n",
              "      <td>Producción</td>\n",
              "    </tr>\n",
              "    <tr>\n",
              "      <th>5</th>\n",
              "      <td>NaN</td>\n",
              "      <td>35</td>\n",
              "      <td>Mercadeo</td>\n",
              "    </tr>\n",
              "  </tbody>\n",
              "</table>\n",
              "</div>"
            ],
            "text/plain": [
              "    Apellido  IDDepartamento NombreDepartamento\n",
              "0    Andrade              31             Ventas\n",
              "1     Jordán              33         Ingeniería\n",
              "2  Steinberg              33         Ingeniería\n",
              "3   Róbinson              34         Producción\n",
              "4     Zolano              34         Producción\n",
              "5        NaN              35           Mercadeo"
            ]
          },
          "metadata": {
            "tags": []
          },
          "execution_count": 481
        }
      ]
    },
    {
      "cell_type": "markdown",
      "metadata": {
        "id": "dKHme-7Nsw7v",
        "colab_type": "text"
      },
      "source": [
        "#### Outer join (Full outer join)\n",
        "El Outer join mezcla las dos tablas por columna, dejando todas las filas de ambas tablas independientemente si hay match o no."
      ]
    },
    {
      "cell_type": "code",
      "metadata": {
        "id": "6Novmuxrsz58",
        "colab_type": "code",
        "colab": {
          "base_uri": "https://localhost:8080/",
          "height": 269
        },
        "outputId": "c1a9ff5c-77d5-40de-d004-d63d782be0b2"
      },
      "source": [
        "pd.merge(Empleado, Departamento, how='outer') "
      ],
      "execution_count": 482,
      "outputs": [
        {
          "output_type": "execute_result",
          "data": {
            "text/html": [
              "<div>\n",
              "<style scoped>\n",
              "    .dataframe tbody tr th:only-of-type {\n",
              "        vertical-align: middle;\n",
              "    }\n",
              "\n",
              "    .dataframe tbody tr th {\n",
              "        vertical-align: top;\n",
              "    }\n",
              "\n",
              "    .dataframe thead th {\n",
              "        text-align: right;\n",
              "    }\n",
              "</style>\n",
              "<table border=\"1\" class=\"dataframe\">\n",
              "  <thead>\n",
              "    <tr style=\"text-align: right;\">\n",
              "      <th></th>\n",
              "      <th>Apellido</th>\n",
              "      <th>IDDepartamento</th>\n",
              "      <th>NombreDepartamento</th>\n",
              "    </tr>\n",
              "  </thead>\n",
              "  <tbody>\n",
              "    <tr>\n",
              "      <th>0</th>\n",
              "      <td>Andrade</td>\n",
              "      <td>31</td>\n",
              "      <td>Ventas</td>\n",
              "    </tr>\n",
              "    <tr>\n",
              "      <th>1</th>\n",
              "      <td>Jordán</td>\n",
              "      <td>33</td>\n",
              "      <td>Ingeniería</td>\n",
              "    </tr>\n",
              "    <tr>\n",
              "      <th>2</th>\n",
              "      <td>Steinberg</td>\n",
              "      <td>33</td>\n",
              "      <td>Ingeniería</td>\n",
              "    </tr>\n",
              "    <tr>\n",
              "      <th>3</th>\n",
              "      <td>Róbinson</td>\n",
              "      <td>34</td>\n",
              "      <td>Producción</td>\n",
              "    </tr>\n",
              "    <tr>\n",
              "      <th>4</th>\n",
              "      <td>Zolano</td>\n",
              "      <td>34</td>\n",
              "      <td>Producción</td>\n",
              "    </tr>\n",
              "    <tr>\n",
              "      <th>5</th>\n",
              "      <td>Gaspar</td>\n",
              "      <td>36</td>\n",
              "      <td>NaN</td>\n",
              "    </tr>\n",
              "    <tr>\n",
              "      <th>6</th>\n",
              "      <td>NaN</td>\n",
              "      <td>35</td>\n",
              "      <td>Mercadeo</td>\n",
              "    </tr>\n",
              "  </tbody>\n",
              "</table>\n",
              "</div>"
            ],
            "text/plain": [
              "    Apellido  IDDepartamento NombreDepartamento\n",
              "0    Andrade              31             Ventas\n",
              "1     Jordán              33         Ingeniería\n",
              "2  Steinberg              33         Ingeniería\n",
              "3   Róbinson              34         Producción\n",
              "4     Zolano              34         Producción\n",
              "5     Gaspar              36                NaN\n",
              "6        NaN              35           Mercadeo"
            ]
          },
          "metadata": {
            "tags": []
          },
          "execution_count": 482
        }
      ]
    },
    {
      "cell_type": "markdown",
      "metadata": {
        "id": "rVuMD-3ws12B",
        "colab_type": "text"
      },
      "source": [
        "#### Full join\n",
        "\n",
        "El Full join mezcla las dos tablas por columna, dejando solo las filas de ambas tablas que no hicieron match."
      ]
    },
    {
      "cell_type": "code",
      "metadata": {
        "id": "GGZtweWoswUg",
        "colab_type": "code",
        "colab": {
          "base_uri": "https://localhost:8080/",
          "height": 112
        },
        "outputId": "eced4393-f32a-430e-c462-7c47248dd825"
      },
      "source": [
        "df_merged = pd.merge(Empleado, Departamento, how='outer')\n",
        "# Retorna lo que no hizo match\n",
        "df_merged[np.logical_or(df_merged.Apellido.isna(), df_merged.NombreDepartamento.isna())]"
      ],
      "execution_count": 483,
      "outputs": [
        {
          "output_type": "execute_result",
          "data": {
            "text/html": [
              "<div>\n",
              "<style scoped>\n",
              "    .dataframe tbody tr th:only-of-type {\n",
              "        vertical-align: middle;\n",
              "    }\n",
              "\n",
              "    .dataframe tbody tr th {\n",
              "        vertical-align: top;\n",
              "    }\n",
              "\n",
              "    .dataframe thead th {\n",
              "        text-align: right;\n",
              "    }\n",
              "</style>\n",
              "<table border=\"1\" class=\"dataframe\">\n",
              "  <thead>\n",
              "    <tr style=\"text-align: right;\">\n",
              "      <th></th>\n",
              "      <th>Apellido</th>\n",
              "      <th>IDDepartamento</th>\n",
              "      <th>NombreDepartamento</th>\n",
              "    </tr>\n",
              "  </thead>\n",
              "  <tbody>\n",
              "    <tr>\n",
              "      <th>5</th>\n",
              "      <td>Gaspar</td>\n",
              "      <td>36</td>\n",
              "      <td>NaN</td>\n",
              "    </tr>\n",
              "    <tr>\n",
              "      <th>6</th>\n",
              "      <td>NaN</td>\n",
              "      <td>35</td>\n",
              "      <td>Mercadeo</td>\n",
              "    </tr>\n",
              "  </tbody>\n",
              "</table>\n",
              "</div>"
            ],
            "text/plain": [
              "  Apellido  IDDepartamento NombreDepartamento\n",
              "5   Gaspar              36                NaN\n",
              "6      NaN              35           Mercadeo"
            ]
          },
          "metadata": {
            "tags": []
          },
          "execution_count": 483
        }
      ]
    },
    {
      "cell_type": "markdown",
      "metadata": {
        "id": "CJxsmB-9tXY8",
        "colab_type": "text"
      },
      "source": [
        "#### Algunas funcionalidades adicionales de todos los joins dentro de pandas"
      ]
    },
    {
      "cell_type": "code",
      "metadata": {
        "id": "ik6R8bvutbN6",
        "colab_type": "code",
        "colab": {}
      },
      "source": [
        "# Decidir la columna por la cual se hace el join explicitamente\n",
        "Empleado.columns = ['Nombre', 'IDDepartamento']\n",
        "Departamento.columns = ['Nombre', 'IDDepartamento']\n"
      ],
      "execution_count": 484,
      "outputs": []
    },
    {
      "cell_type": "code",
      "metadata": {
        "id": "OFW2EDhgvVjE",
        "colab_type": "code",
        "colab": {
          "base_uri": "https://localhost:8080/",
          "height": 243
        },
        "outputId": "72b35e5c-8d3e-420e-fefe-421ad216cee4"
      },
      "source": [
        "print(Empleado)\n",
        "print('-' * 50)\n",
        "print(Departamento)\n"
      ],
      "execution_count": 485,
      "outputs": [
        {
          "output_type": "stream",
          "text": [
            "      Nombre  IDDepartamento\n",
            "0    Andrade              31\n",
            "1     Jordán              33\n",
            "2  Steinberg              33\n",
            "3   Róbinson              34\n",
            "4     Zolano              34\n",
            "5     Gaspar              36\n",
            "--------------------------------------------------\n",
            "       Nombre  IDDepartamento\n",
            "0      Ventas              31\n",
            "1  Ingeniería              33\n",
            "2  Producción              34\n",
            "3    Mercadeo              35\n"
          ],
          "name": "stdout"
        }
      ]
    },
    {
      "cell_type": "code",
      "metadata": {
        "id": "3ln4jqUQu8vK",
        "colab_type": "code",
        "colab": {
          "base_uri": "https://localhost:8080/",
          "height": 49
        },
        "outputId": "d7ee6045-1b1e-45c3-c3a9-6cee010aadbe"
      },
      "source": [
        "pd.merge(Empleado, Departamento) "
      ],
      "execution_count": 486,
      "outputs": [
        {
          "output_type": "execute_result",
          "data": {
            "text/html": [
              "<div>\n",
              "<style scoped>\n",
              "    .dataframe tbody tr th:only-of-type {\n",
              "        vertical-align: middle;\n",
              "    }\n",
              "\n",
              "    .dataframe tbody tr th {\n",
              "        vertical-align: top;\n",
              "    }\n",
              "\n",
              "    .dataframe thead th {\n",
              "        text-align: right;\n",
              "    }\n",
              "</style>\n",
              "<table border=\"1\" class=\"dataframe\">\n",
              "  <thead>\n",
              "    <tr style=\"text-align: right;\">\n",
              "      <th></th>\n",
              "      <th>Nombre</th>\n",
              "      <th>IDDepartamento</th>\n",
              "    </tr>\n",
              "  </thead>\n",
              "  <tbody>\n",
              "  </tbody>\n",
              "</table>\n",
              "</div>"
            ],
            "text/plain": [
              "Empty DataFrame\n",
              "Columns: [Nombre, IDDepartamento]\n",
              "Index: []"
            ]
          },
          "metadata": {
            "tags": []
          },
          "execution_count": 486
        }
      ]
    },
    {
      "cell_type": "code",
      "metadata": {
        "id": "ZH9fu-ZuvL9r",
        "colab_type": "code",
        "colab": {
          "base_uri": "https://localhost:8080/",
          "height": 206
        },
        "outputId": "3c5d44aa-9b3c-4869-c9c5-20dee9cf7c13"
      },
      "source": [
        "pd.merge(Empleado, Departamento, on='IDDepartamento') # En caso de haber múltiples columnas que hagan match"
      ],
      "execution_count": 487,
      "outputs": [
        {
          "output_type": "execute_result",
          "data": {
            "text/html": [
              "<div>\n",
              "<style scoped>\n",
              "    .dataframe tbody tr th:only-of-type {\n",
              "        vertical-align: middle;\n",
              "    }\n",
              "\n",
              "    .dataframe tbody tr th {\n",
              "        vertical-align: top;\n",
              "    }\n",
              "\n",
              "    .dataframe thead th {\n",
              "        text-align: right;\n",
              "    }\n",
              "</style>\n",
              "<table border=\"1\" class=\"dataframe\">\n",
              "  <thead>\n",
              "    <tr style=\"text-align: right;\">\n",
              "      <th></th>\n",
              "      <th>Nombre_x</th>\n",
              "      <th>IDDepartamento</th>\n",
              "      <th>Nombre_y</th>\n",
              "    </tr>\n",
              "  </thead>\n",
              "  <tbody>\n",
              "    <tr>\n",
              "      <th>0</th>\n",
              "      <td>Andrade</td>\n",
              "      <td>31</td>\n",
              "      <td>Ventas</td>\n",
              "    </tr>\n",
              "    <tr>\n",
              "      <th>1</th>\n",
              "      <td>Jordán</td>\n",
              "      <td>33</td>\n",
              "      <td>Ingeniería</td>\n",
              "    </tr>\n",
              "    <tr>\n",
              "      <th>2</th>\n",
              "      <td>Steinberg</td>\n",
              "      <td>33</td>\n",
              "      <td>Ingeniería</td>\n",
              "    </tr>\n",
              "    <tr>\n",
              "      <th>3</th>\n",
              "      <td>Róbinson</td>\n",
              "      <td>34</td>\n",
              "      <td>Producción</td>\n",
              "    </tr>\n",
              "    <tr>\n",
              "      <th>4</th>\n",
              "      <td>Zolano</td>\n",
              "      <td>34</td>\n",
              "      <td>Producción</td>\n",
              "    </tr>\n",
              "  </tbody>\n",
              "</table>\n",
              "</div>"
            ],
            "text/plain": [
              "    Nombre_x  IDDepartamento    Nombre_y\n",
              "0    Andrade              31      Ventas\n",
              "1     Jordán              33  Ingeniería\n",
              "2  Steinberg              33  Ingeniería\n",
              "3   Róbinson              34  Producción\n",
              "4     Zolano              34  Producción"
            ]
          },
          "metadata": {
            "tags": []
          },
          "execution_count": 487
        }
      ]
    },
    {
      "cell_type": "code",
      "metadata": {
        "id": "zCU-8LrpteW1",
        "colab_type": "code",
        "colab": {
          "base_uri": "https://localhost:8080/",
          "height": 206
        },
        "outputId": "c97baeea-d4e8-434e-a247-d58c3e6e109b"
      },
      "source": [
        "# Prefijos para distiguir variables\n",
        "pd.merge(Empleado, Departamento, on='IDDepartamento', suffixes=('_emp','_dep')) # Sufijo personalizado"
      ],
      "execution_count": 488,
      "outputs": [
        {
          "output_type": "execute_result",
          "data": {
            "text/html": [
              "<div>\n",
              "<style scoped>\n",
              "    .dataframe tbody tr th:only-of-type {\n",
              "        vertical-align: middle;\n",
              "    }\n",
              "\n",
              "    .dataframe tbody tr th {\n",
              "        vertical-align: top;\n",
              "    }\n",
              "\n",
              "    .dataframe thead th {\n",
              "        text-align: right;\n",
              "    }\n",
              "</style>\n",
              "<table border=\"1\" class=\"dataframe\">\n",
              "  <thead>\n",
              "    <tr style=\"text-align: right;\">\n",
              "      <th></th>\n",
              "      <th>Nombre_emp</th>\n",
              "      <th>IDDepartamento</th>\n",
              "      <th>Nombre_dep</th>\n",
              "    </tr>\n",
              "  </thead>\n",
              "  <tbody>\n",
              "    <tr>\n",
              "      <th>0</th>\n",
              "      <td>Andrade</td>\n",
              "      <td>31</td>\n",
              "      <td>Ventas</td>\n",
              "    </tr>\n",
              "    <tr>\n",
              "      <th>1</th>\n",
              "      <td>Jordán</td>\n",
              "      <td>33</td>\n",
              "      <td>Ingeniería</td>\n",
              "    </tr>\n",
              "    <tr>\n",
              "      <th>2</th>\n",
              "      <td>Steinberg</td>\n",
              "      <td>33</td>\n",
              "      <td>Ingeniería</td>\n",
              "    </tr>\n",
              "    <tr>\n",
              "      <th>3</th>\n",
              "      <td>Róbinson</td>\n",
              "      <td>34</td>\n",
              "      <td>Producción</td>\n",
              "    </tr>\n",
              "    <tr>\n",
              "      <th>4</th>\n",
              "      <td>Zolano</td>\n",
              "      <td>34</td>\n",
              "      <td>Producción</td>\n",
              "    </tr>\n",
              "  </tbody>\n",
              "</table>\n",
              "</div>"
            ],
            "text/plain": [
              "  Nombre_emp  IDDepartamento  Nombre_dep\n",
              "0    Andrade              31      Ventas\n",
              "1     Jordán              33  Ingeniería\n",
              "2  Steinberg              33  Ingeniería\n",
              "3   Róbinson              34  Producción\n",
              "4     Zolano              34  Producción"
            ]
          },
          "metadata": {
            "tags": []
          },
          "execution_count": 488
        }
      ]
    },
    {
      "cell_type": "code",
      "metadata": {
        "id": "F2vWSSPGthZ0",
        "colab_type": "code",
        "colab": {
          "base_uri": "https://localhost:8080/",
          "height": 225
        },
        "outputId": "42cc2616-dc4b-48e9-c1e6-ed9eb6d20159"
      },
      "source": [
        "# Columnas para match con diferente nombre\n",
        "Empleado = pd.DataFrame({'Apellido' : ['Andrade', 'Jordán', 'Steinberg', 'Róbinson', 'Zolano', 'Gaspar'],\n",
        "                         'IDDepartamento' : [31, 33, 33, 34, 34, 36]})\n",
        "\n",
        "\n",
        "Departamento = pd.DataFrame({'NombreDepartamento': ['Ventas', 'Ingeniería', 'Producción', 'Mercadeo'],\n",
        "                             'IDDepartamento2': [31, 33, 34, 35]})\n",
        "print(Empleado)\n",
        "print(Departamento)"
      ],
      "execution_count": 572,
      "outputs": [
        {
          "output_type": "stream",
          "text": [
            "    Apellido  IDDepartamento\n",
            "0    Andrade              31\n",
            "1     Jordán              33\n",
            "2  Steinberg              33\n",
            "3   Róbinson              34\n",
            "4     Zolano              34\n",
            "5     Gaspar              36\n",
            "  NombreDepartamento  IDDepartamento2\n",
            "0             Ventas               31\n",
            "1         Ingeniería               33\n",
            "2         Producción               34\n",
            "3           Mercadeo               35\n"
          ],
          "name": "stdout"
        }
      ]
    },
    {
      "cell_type": "code",
      "metadata": {
        "id": "P5VF-0Tjwa1W",
        "colab_type": "code",
        "colab": {}
      },
      "source": [
        "# Error, no hay nada igual entre ambas tablas\n",
        "#pd.merge(Empleado, Departamento)"
      ],
      "execution_count": 490,
      "outputs": []
    },
    {
      "cell_type": "code",
      "metadata": {
        "id": "TYYFQdefwctt",
        "colab_type": "code",
        "colab": {
          "base_uri": "https://localhost:8080/",
          "height": 206
        },
        "outputId": "cdcb2b4b-5e46-44af-c6e1-36c023b92d45"
      },
      "source": [
        "pd.merge(Empleado, Departamento, left_on='IDDepartamento', right_on='IDDepartamento2') "
      ],
      "execution_count": 573,
      "outputs": [
        {
          "output_type": "execute_result",
          "data": {
            "text/html": [
              "<div>\n",
              "<style scoped>\n",
              "    .dataframe tbody tr th:only-of-type {\n",
              "        vertical-align: middle;\n",
              "    }\n",
              "\n",
              "    .dataframe tbody tr th {\n",
              "        vertical-align: top;\n",
              "    }\n",
              "\n",
              "    .dataframe thead th {\n",
              "        text-align: right;\n",
              "    }\n",
              "</style>\n",
              "<table border=\"1\" class=\"dataframe\">\n",
              "  <thead>\n",
              "    <tr style=\"text-align: right;\">\n",
              "      <th></th>\n",
              "      <th>Apellido</th>\n",
              "      <th>IDDepartamento</th>\n",
              "      <th>NombreDepartamento</th>\n",
              "      <th>IDDepartamento2</th>\n",
              "    </tr>\n",
              "  </thead>\n",
              "  <tbody>\n",
              "    <tr>\n",
              "      <th>0</th>\n",
              "      <td>Andrade</td>\n",
              "      <td>31</td>\n",
              "      <td>Ventas</td>\n",
              "      <td>31</td>\n",
              "    </tr>\n",
              "    <tr>\n",
              "      <th>1</th>\n",
              "      <td>Jordán</td>\n",
              "      <td>33</td>\n",
              "      <td>Ingeniería</td>\n",
              "      <td>33</td>\n",
              "    </tr>\n",
              "    <tr>\n",
              "      <th>2</th>\n",
              "      <td>Steinberg</td>\n",
              "      <td>33</td>\n",
              "      <td>Ingeniería</td>\n",
              "      <td>33</td>\n",
              "    </tr>\n",
              "    <tr>\n",
              "      <th>3</th>\n",
              "      <td>Róbinson</td>\n",
              "      <td>34</td>\n",
              "      <td>Producción</td>\n",
              "      <td>34</td>\n",
              "    </tr>\n",
              "    <tr>\n",
              "      <th>4</th>\n",
              "      <td>Zolano</td>\n",
              "      <td>34</td>\n",
              "      <td>Producción</td>\n",
              "      <td>34</td>\n",
              "    </tr>\n",
              "  </tbody>\n",
              "</table>\n",
              "</div>"
            ],
            "text/plain": [
              "    Apellido  IDDepartamento NombreDepartamento  IDDepartamento2\n",
              "0    Andrade              31             Ventas               31\n",
              "1     Jordán              33         Ingeniería               33\n",
              "2  Steinberg              33         Ingeniería               33\n",
              "3   Róbinson              34         Producción               34\n",
              "4     Zolano              34         Producción               34"
            ]
          },
          "metadata": {
            "tags": []
          },
          "execution_count": 573
        }
      ]
    },
    {
      "cell_type": "markdown",
      "metadata": {
        "id": "mM8taT7-tk-F",
        "colab_type": "text"
      },
      "source": [
        "##### Join por la indexación"
      ]
    },
    {
      "cell_type": "code",
      "metadata": {
        "id": "rAOhAZN4tkS8",
        "colab_type": "code",
        "colab": {
          "base_uri": "https://localhost:8080/",
          "height": 269
        },
        "outputId": "8cdaaef6-6659-4e25-9979-c6ede8c85931"
      },
      "source": [
        "Empleado2 = Empleado.copy()\n",
        "Empleado2.index = Empleado2.IDDepartamento\n",
        "Empleado2"
      ],
      "execution_count": 492,
      "outputs": [
        {
          "output_type": "execute_result",
          "data": {
            "text/html": [
              "<div>\n",
              "<style scoped>\n",
              "    .dataframe tbody tr th:only-of-type {\n",
              "        vertical-align: middle;\n",
              "    }\n",
              "\n",
              "    .dataframe tbody tr th {\n",
              "        vertical-align: top;\n",
              "    }\n",
              "\n",
              "    .dataframe thead th {\n",
              "        text-align: right;\n",
              "    }\n",
              "</style>\n",
              "<table border=\"1\" class=\"dataframe\">\n",
              "  <thead>\n",
              "    <tr style=\"text-align: right;\">\n",
              "      <th></th>\n",
              "      <th>Apellido</th>\n",
              "      <th>IDDepartamento</th>\n",
              "    </tr>\n",
              "    <tr>\n",
              "      <th>IDDepartamento</th>\n",
              "      <th></th>\n",
              "      <th></th>\n",
              "    </tr>\n",
              "  </thead>\n",
              "  <tbody>\n",
              "    <tr>\n",
              "      <th>31</th>\n",
              "      <td>Andrade</td>\n",
              "      <td>31</td>\n",
              "    </tr>\n",
              "    <tr>\n",
              "      <th>33</th>\n",
              "      <td>Jordán</td>\n",
              "      <td>33</td>\n",
              "    </tr>\n",
              "    <tr>\n",
              "      <th>33</th>\n",
              "      <td>Steinberg</td>\n",
              "      <td>33</td>\n",
              "    </tr>\n",
              "    <tr>\n",
              "      <th>34</th>\n",
              "      <td>Róbinson</td>\n",
              "      <td>34</td>\n",
              "    </tr>\n",
              "    <tr>\n",
              "      <th>34</th>\n",
              "      <td>Zolano</td>\n",
              "      <td>34</td>\n",
              "    </tr>\n",
              "    <tr>\n",
              "      <th>36</th>\n",
              "      <td>Gaspar</td>\n",
              "      <td>36</td>\n",
              "    </tr>\n",
              "  </tbody>\n",
              "</table>\n",
              "</div>"
            ],
            "text/plain": [
              "                 Apellido  IDDepartamento\n",
              "IDDepartamento                           \n",
              "31                Andrade              31\n",
              "33                 Jordán              33\n",
              "33              Steinberg              33\n",
              "34               Róbinson              34\n",
              "34                 Zolano              34\n",
              "36                 Gaspar              36"
            ]
          },
          "metadata": {
            "tags": []
          },
          "execution_count": 492
        }
      ]
    },
    {
      "cell_type": "code",
      "metadata": {
        "id": "JEWSQOBbjE_A",
        "colab_type": "code",
        "colab": {
          "base_uri": "https://localhost:8080/",
          "height": 206
        },
        "outputId": "e53f9542-b9b4-4b55-805d-1471ba7e1856"
      },
      "source": [
        "Departamento2 = Departamento.copy()\n",
        "Departamento2.index = Departamento2.IDDepartamento2\n",
        "Departamento2"
      ],
      "execution_count": 493,
      "outputs": [
        {
          "output_type": "execute_result",
          "data": {
            "text/html": [
              "<div>\n",
              "<style scoped>\n",
              "    .dataframe tbody tr th:only-of-type {\n",
              "        vertical-align: middle;\n",
              "    }\n",
              "\n",
              "    .dataframe tbody tr th {\n",
              "        vertical-align: top;\n",
              "    }\n",
              "\n",
              "    .dataframe thead th {\n",
              "        text-align: right;\n",
              "    }\n",
              "</style>\n",
              "<table border=\"1\" class=\"dataframe\">\n",
              "  <thead>\n",
              "    <tr style=\"text-align: right;\">\n",
              "      <th></th>\n",
              "      <th>NombreDepartamento</th>\n",
              "      <th>IDDepartamento2</th>\n",
              "    </tr>\n",
              "    <tr>\n",
              "      <th>IDDepartamento2</th>\n",
              "      <th></th>\n",
              "      <th></th>\n",
              "    </tr>\n",
              "  </thead>\n",
              "  <tbody>\n",
              "    <tr>\n",
              "      <th>31</th>\n",
              "      <td>Ventas</td>\n",
              "      <td>31</td>\n",
              "    </tr>\n",
              "    <tr>\n",
              "      <th>33</th>\n",
              "      <td>Ingeniería</td>\n",
              "      <td>33</td>\n",
              "    </tr>\n",
              "    <tr>\n",
              "      <th>34</th>\n",
              "      <td>Producción</td>\n",
              "      <td>34</td>\n",
              "    </tr>\n",
              "    <tr>\n",
              "      <th>35</th>\n",
              "      <td>Mercadeo</td>\n",
              "      <td>35</td>\n",
              "    </tr>\n",
              "  </tbody>\n",
              "</table>\n",
              "</div>"
            ],
            "text/plain": [
              "                NombreDepartamento  IDDepartamento2\n",
              "IDDepartamento2                                    \n",
              "31                          Ventas               31\n",
              "33                      Ingeniería               33\n",
              "34                      Producción               34\n",
              "35                        Mercadeo               35"
            ]
          },
          "metadata": {
            "tags": []
          },
          "execution_count": 493
        }
      ]
    },
    {
      "cell_type": "code",
      "metadata": {
        "id": "prVlt4NojKI8",
        "colab_type": "code",
        "colab": {
          "base_uri": "https://localhost:8080/",
          "height": 269
        },
        "outputId": "e0b396a0-c0db-46cd-b128-14abb295e727"
      },
      "source": [
        "Empleado2 = Empleado2[['Apellido']]\n",
        "Empleado2"
      ],
      "execution_count": 494,
      "outputs": [
        {
          "output_type": "execute_result",
          "data": {
            "text/html": [
              "<div>\n",
              "<style scoped>\n",
              "    .dataframe tbody tr th:only-of-type {\n",
              "        vertical-align: middle;\n",
              "    }\n",
              "\n",
              "    .dataframe tbody tr th {\n",
              "        vertical-align: top;\n",
              "    }\n",
              "\n",
              "    .dataframe thead th {\n",
              "        text-align: right;\n",
              "    }\n",
              "</style>\n",
              "<table border=\"1\" class=\"dataframe\">\n",
              "  <thead>\n",
              "    <tr style=\"text-align: right;\">\n",
              "      <th></th>\n",
              "      <th>Apellido</th>\n",
              "    </tr>\n",
              "    <tr>\n",
              "      <th>IDDepartamento</th>\n",
              "      <th></th>\n",
              "    </tr>\n",
              "  </thead>\n",
              "  <tbody>\n",
              "    <tr>\n",
              "      <th>31</th>\n",
              "      <td>Andrade</td>\n",
              "    </tr>\n",
              "    <tr>\n",
              "      <th>33</th>\n",
              "      <td>Jordán</td>\n",
              "    </tr>\n",
              "    <tr>\n",
              "      <th>33</th>\n",
              "      <td>Steinberg</td>\n",
              "    </tr>\n",
              "    <tr>\n",
              "      <th>34</th>\n",
              "      <td>Róbinson</td>\n",
              "    </tr>\n",
              "    <tr>\n",
              "      <th>34</th>\n",
              "      <td>Zolano</td>\n",
              "    </tr>\n",
              "    <tr>\n",
              "      <th>36</th>\n",
              "      <td>Gaspar</td>\n",
              "    </tr>\n",
              "  </tbody>\n",
              "</table>\n",
              "</div>"
            ],
            "text/plain": [
              "                 Apellido\n",
              "IDDepartamento           \n",
              "31                Andrade\n",
              "33                 Jordán\n",
              "33              Steinberg\n",
              "34               Róbinson\n",
              "34                 Zolano\n",
              "36                 Gaspar"
            ]
          },
          "metadata": {
            "tags": []
          },
          "execution_count": 494
        }
      ]
    },
    {
      "cell_type": "code",
      "metadata": {
        "id": "hjQOVNKsjPt3",
        "colab_type": "code",
        "colab": {
          "base_uri": "https://localhost:8080/",
          "height": 206
        },
        "outputId": "312edc67-5118-475a-8e73-eedf8b452ac1"
      },
      "source": [
        "Departamento2 = Departamento2[['NombreDepartamento']]\n",
        "Departamento2"
      ],
      "execution_count": 495,
      "outputs": [
        {
          "output_type": "execute_result",
          "data": {
            "text/html": [
              "<div>\n",
              "<style scoped>\n",
              "    .dataframe tbody tr th:only-of-type {\n",
              "        vertical-align: middle;\n",
              "    }\n",
              "\n",
              "    .dataframe tbody tr th {\n",
              "        vertical-align: top;\n",
              "    }\n",
              "\n",
              "    .dataframe thead th {\n",
              "        text-align: right;\n",
              "    }\n",
              "</style>\n",
              "<table border=\"1\" class=\"dataframe\">\n",
              "  <thead>\n",
              "    <tr style=\"text-align: right;\">\n",
              "      <th></th>\n",
              "      <th>NombreDepartamento</th>\n",
              "    </tr>\n",
              "    <tr>\n",
              "      <th>IDDepartamento2</th>\n",
              "      <th></th>\n",
              "    </tr>\n",
              "  </thead>\n",
              "  <tbody>\n",
              "    <tr>\n",
              "      <th>31</th>\n",
              "      <td>Ventas</td>\n",
              "    </tr>\n",
              "    <tr>\n",
              "      <th>33</th>\n",
              "      <td>Ingeniería</td>\n",
              "    </tr>\n",
              "    <tr>\n",
              "      <th>34</th>\n",
              "      <td>Producción</td>\n",
              "    </tr>\n",
              "    <tr>\n",
              "      <th>35</th>\n",
              "      <td>Mercadeo</td>\n",
              "    </tr>\n",
              "  </tbody>\n",
              "</table>\n",
              "</div>"
            ],
            "text/plain": [
              "                NombreDepartamento\n",
              "IDDepartamento2                   \n",
              "31                          Ventas\n",
              "33                      Ingeniería\n",
              "34                      Producción\n",
              "35                        Mercadeo"
            ]
          },
          "metadata": {
            "tags": []
          },
          "execution_count": 495
        }
      ]
    },
    {
      "cell_type": "code",
      "metadata": {
        "id": "-kTPuaTbyBPQ",
        "colab_type": "code",
        "colab": {
          "base_uri": "https://localhost:8080/",
          "height": 243
        },
        "outputId": "b463ef21-584b-4feb-b589-58db89689435"
      },
      "source": [
        "print(Empleado)\n",
        "print('-' * 35)\n",
        "print(Departamento)"
      ],
      "execution_count": 496,
      "outputs": [
        {
          "output_type": "stream",
          "text": [
            "    Apellido  IDDepartamento\n",
            "0    Andrade              31\n",
            "1     Jordán              33\n",
            "2  Steinberg              33\n",
            "3   Róbinson              34\n",
            "4     Zolano              34\n",
            "5     Gaspar              36\n",
            "-----------------------------------\n",
            "  NombreDepartamento  IDDepartamento2\n",
            "0             Ventas               31\n",
            "1         Ingeniería               33\n",
            "2         Producción               34\n",
            "3           Mercadeo               35\n"
          ],
          "name": "stdout"
        }
      ]
    },
    {
      "cell_type": "code",
      "metadata": {
        "id": "Fmhu0l4xxlmt",
        "colab_type": "code",
        "colab": {
          "base_uri": "https://localhost:8080/",
          "height": 278
        },
        "outputId": "bf1088e3-4680-4205-ef54-3ba2b47adcae"
      },
      "source": [
        "print(Empleado2)\n",
        "print('-' * 35)\n",
        "print(Departamento2)"
      ],
      "execution_count": 497,
      "outputs": [
        {
          "output_type": "stream",
          "text": [
            "                 Apellido\n",
            "IDDepartamento           \n",
            "31                Andrade\n",
            "33                 Jordán\n",
            "33              Steinberg\n",
            "34               Róbinson\n",
            "34                 Zolano\n",
            "36                 Gaspar\n",
            "-----------------------------------\n",
            "                NombreDepartamento\n",
            "IDDepartamento2                   \n",
            "31                          Ventas\n",
            "33                      Ingeniería\n",
            "34                      Producción\n",
            "35                        Mercadeo\n"
          ],
          "name": "stdout"
        }
      ]
    },
    {
      "cell_type": "code",
      "metadata": {
        "id": "8lfse9DkxoCX",
        "colab_type": "code",
        "colab": {
          "base_uri": "https://localhost:8080/",
          "height": 206
        },
        "outputId": "f6f4637b-7998-4062-df78-9f0b29cb3016"
      },
      "source": [
        "pd.merge(Empleado2, Departamento2, left_index=True, right_index=True)"
      ],
      "execution_count": 498,
      "outputs": [
        {
          "output_type": "execute_result",
          "data": {
            "text/html": [
              "<div>\n",
              "<style scoped>\n",
              "    .dataframe tbody tr th:only-of-type {\n",
              "        vertical-align: middle;\n",
              "    }\n",
              "\n",
              "    .dataframe tbody tr th {\n",
              "        vertical-align: top;\n",
              "    }\n",
              "\n",
              "    .dataframe thead th {\n",
              "        text-align: right;\n",
              "    }\n",
              "</style>\n",
              "<table border=\"1\" class=\"dataframe\">\n",
              "  <thead>\n",
              "    <tr style=\"text-align: right;\">\n",
              "      <th></th>\n",
              "      <th>Apellido</th>\n",
              "      <th>NombreDepartamento</th>\n",
              "    </tr>\n",
              "  </thead>\n",
              "  <tbody>\n",
              "    <tr>\n",
              "      <th>31</th>\n",
              "      <td>Andrade</td>\n",
              "      <td>Ventas</td>\n",
              "    </tr>\n",
              "    <tr>\n",
              "      <th>33</th>\n",
              "      <td>Jordán</td>\n",
              "      <td>Ingeniería</td>\n",
              "    </tr>\n",
              "    <tr>\n",
              "      <th>33</th>\n",
              "      <td>Steinberg</td>\n",
              "      <td>Ingeniería</td>\n",
              "    </tr>\n",
              "    <tr>\n",
              "      <th>34</th>\n",
              "      <td>Róbinson</td>\n",
              "      <td>Producción</td>\n",
              "    </tr>\n",
              "    <tr>\n",
              "      <th>34</th>\n",
              "      <td>Zolano</td>\n",
              "      <td>Producción</td>\n",
              "    </tr>\n",
              "  </tbody>\n",
              "</table>\n",
              "</div>"
            ],
            "text/plain": [
              "     Apellido NombreDepartamento\n",
              "31    Andrade             Ventas\n",
              "33     Jordán         Ingeniería\n",
              "33  Steinberg         Ingeniería\n",
              "34   Róbinson         Producción\n",
              "34     Zolano         Producción"
            ]
          },
          "metadata": {
            "tags": []
          },
          "execution_count": 498
        }
      ]
    },
    {
      "cell_type": "markdown",
      "metadata": {
        "id": "IJmKz2Z4tyK0",
        "colab_type": "text"
      },
      "source": [
        "## Añadir filas o columnas a dataframes DataFrames y Series\n",
        "* Por inserción directa\n",
        "* Por Concatenación"
      ]
    },
    {
      "cell_type": "code",
      "metadata": {
        "id": "th7ulH0JuFlk",
        "colab_type": "code",
        "colab": {
          "base_uri": "https://localhost:8080/",
          "height": 238
        },
        "outputId": "e5b40136-9b72-413a-e258-faeca42625a4"
      },
      "source": [
        "# Añadir columna\n",
        "\n",
        "Empleado = pd.DataFrame({'Apellido' : ['Andrade', 'Jordán', 'Steinberg', 'Róbinson', 'Zolano', 'Gaspar'],\n",
        "                         'IDDepartamento' : [31, 33, 33, 34, 34, 36]})\n",
        "Empleado"
      ],
      "execution_count": 499,
      "outputs": [
        {
          "output_type": "execute_result",
          "data": {
            "text/html": [
              "<div>\n",
              "<style scoped>\n",
              "    .dataframe tbody tr th:only-of-type {\n",
              "        vertical-align: middle;\n",
              "    }\n",
              "\n",
              "    .dataframe tbody tr th {\n",
              "        vertical-align: top;\n",
              "    }\n",
              "\n",
              "    .dataframe thead th {\n",
              "        text-align: right;\n",
              "    }\n",
              "</style>\n",
              "<table border=\"1\" class=\"dataframe\">\n",
              "  <thead>\n",
              "    <tr style=\"text-align: right;\">\n",
              "      <th></th>\n",
              "      <th>Apellido</th>\n",
              "      <th>IDDepartamento</th>\n",
              "    </tr>\n",
              "  </thead>\n",
              "  <tbody>\n",
              "    <tr>\n",
              "      <th>0</th>\n",
              "      <td>Andrade</td>\n",
              "      <td>31</td>\n",
              "    </tr>\n",
              "    <tr>\n",
              "      <th>1</th>\n",
              "      <td>Jordán</td>\n",
              "      <td>33</td>\n",
              "    </tr>\n",
              "    <tr>\n",
              "      <th>2</th>\n",
              "      <td>Steinberg</td>\n",
              "      <td>33</td>\n",
              "    </tr>\n",
              "    <tr>\n",
              "      <th>3</th>\n",
              "      <td>Róbinson</td>\n",
              "      <td>34</td>\n",
              "    </tr>\n",
              "    <tr>\n",
              "      <th>4</th>\n",
              "      <td>Zolano</td>\n",
              "      <td>34</td>\n",
              "    </tr>\n",
              "    <tr>\n",
              "      <th>5</th>\n",
              "      <td>Gaspar</td>\n",
              "      <td>36</td>\n",
              "    </tr>\n",
              "  </tbody>\n",
              "</table>\n",
              "</div>"
            ],
            "text/plain": [
              "    Apellido  IDDepartamento\n",
              "0    Andrade              31\n",
              "1     Jordán              33\n",
              "2  Steinberg              33\n",
              "3   Róbinson              34\n",
              "4     Zolano              34\n",
              "5     Gaspar              36"
            ]
          },
          "metadata": {
            "tags": []
          },
          "execution_count": 499
        }
      ]
    },
    {
      "cell_type": "code",
      "metadata": {
        "id": "dJSOtG6zmMqm",
        "colab_type": "code",
        "colab": {
          "base_uri": "https://localhost:8080/",
          "height": 238
        },
        "outputId": "3686d694-6f8e-4050-dbc6-75a5501ff590"
      },
      "source": [
        "nombres = ['Francisco', 'Edgar', 'Marta', 'Luciana', 'David', 'María']\n",
        "\n",
        "# Asignación creando un objeto nuevo\n",
        "Empleado2 = Empleado.assign(Nombre=nombres)\n",
        "Empleado2\n",
        "\n",
        "# Asignación modificando el objeto original\n",
        "#Empleado['Nombre'] = nombres\n",
        "#Empleado"
      ],
      "execution_count": 500,
      "outputs": [
        {
          "output_type": "execute_result",
          "data": {
            "text/html": [
              "<div>\n",
              "<style scoped>\n",
              "    .dataframe tbody tr th:only-of-type {\n",
              "        vertical-align: middle;\n",
              "    }\n",
              "\n",
              "    .dataframe tbody tr th {\n",
              "        vertical-align: top;\n",
              "    }\n",
              "\n",
              "    .dataframe thead th {\n",
              "        text-align: right;\n",
              "    }\n",
              "</style>\n",
              "<table border=\"1\" class=\"dataframe\">\n",
              "  <thead>\n",
              "    <tr style=\"text-align: right;\">\n",
              "      <th></th>\n",
              "      <th>Apellido</th>\n",
              "      <th>IDDepartamento</th>\n",
              "      <th>Nombre</th>\n",
              "    </tr>\n",
              "  </thead>\n",
              "  <tbody>\n",
              "    <tr>\n",
              "      <th>0</th>\n",
              "      <td>Andrade</td>\n",
              "      <td>31</td>\n",
              "      <td>Francisco</td>\n",
              "    </tr>\n",
              "    <tr>\n",
              "      <th>1</th>\n",
              "      <td>Jordán</td>\n",
              "      <td>33</td>\n",
              "      <td>Edgar</td>\n",
              "    </tr>\n",
              "    <tr>\n",
              "      <th>2</th>\n",
              "      <td>Steinberg</td>\n",
              "      <td>33</td>\n",
              "      <td>Marta</td>\n",
              "    </tr>\n",
              "    <tr>\n",
              "      <th>3</th>\n",
              "      <td>Róbinson</td>\n",
              "      <td>34</td>\n",
              "      <td>Luciana</td>\n",
              "    </tr>\n",
              "    <tr>\n",
              "      <th>4</th>\n",
              "      <td>Zolano</td>\n",
              "      <td>34</td>\n",
              "      <td>David</td>\n",
              "    </tr>\n",
              "    <tr>\n",
              "      <th>5</th>\n",
              "      <td>Gaspar</td>\n",
              "      <td>36</td>\n",
              "      <td>María</td>\n",
              "    </tr>\n",
              "  </tbody>\n",
              "</table>\n",
              "</div>"
            ],
            "text/plain": [
              "    Apellido  IDDepartamento     Nombre\n",
              "0    Andrade              31  Francisco\n",
              "1     Jordán              33      Edgar\n",
              "2  Steinberg              33      Marta\n",
              "3   Róbinson              34    Luciana\n",
              "4     Zolano              34      David\n",
              "5     Gaspar              36      María"
            ]
          },
          "metadata": {
            "tags": []
          },
          "execution_count": 500
        }
      ]
    },
    {
      "cell_type": "code",
      "metadata": {
        "id": "F2vttSL35lCf",
        "colab_type": "code",
        "colab": {
          "base_uri": "https://localhost:8080/",
          "height": 238
        },
        "outputId": "31fb54ee-7281-4db7-de57-d38c82c96e9e"
      },
      "source": [
        "# Se ordenan las columnas de la tabla y se asigna el resultado de la tabla\n",
        "# ordenada a Empleado3\n",
        "Empleado3 = Empleado2[['Nombre', 'Apellido', 'IDDepartamento']]\n",
        "Empleado3"
      ],
      "execution_count": 501,
      "outputs": [
        {
          "output_type": "execute_result",
          "data": {
            "text/html": [
              "<div>\n",
              "<style scoped>\n",
              "    .dataframe tbody tr th:only-of-type {\n",
              "        vertical-align: middle;\n",
              "    }\n",
              "\n",
              "    .dataframe tbody tr th {\n",
              "        vertical-align: top;\n",
              "    }\n",
              "\n",
              "    .dataframe thead th {\n",
              "        text-align: right;\n",
              "    }\n",
              "</style>\n",
              "<table border=\"1\" class=\"dataframe\">\n",
              "  <thead>\n",
              "    <tr style=\"text-align: right;\">\n",
              "      <th></th>\n",
              "      <th>Nombre</th>\n",
              "      <th>Apellido</th>\n",
              "      <th>IDDepartamento</th>\n",
              "    </tr>\n",
              "  </thead>\n",
              "  <tbody>\n",
              "    <tr>\n",
              "      <th>0</th>\n",
              "      <td>Francisco</td>\n",
              "      <td>Andrade</td>\n",
              "      <td>31</td>\n",
              "    </tr>\n",
              "    <tr>\n",
              "      <th>1</th>\n",
              "      <td>Edgar</td>\n",
              "      <td>Jordán</td>\n",
              "      <td>33</td>\n",
              "    </tr>\n",
              "    <tr>\n",
              "      <th>2</th>\n",
              "      <td>Marta</td>\n",
              "      <td>Steinberg</td>\n",
              "      <td>33</td>\n",
              "    </tr>\n",
              "    <tr>\n",
              "      <th>3</th>\n",
              "      <td>Luciana</td>\n",
              "      <td>Róbinson</td>\n",
              "      <td>34</td>\n",
              "    </tr>\n",
              "    <tr>\n",
              "      <th>4</th>\n",
              "      <td>David</td>\n",
              "      <td>Zolano</td>\n",
              "      <td>34</td>\n",
              "    </tr>\n",
              "    <tr>\n",
              "      <th>5</th>\n",
              "      <td>María</td>\n",
              "      <td>Gaspar</td>\n",
              "      <td>36</td>\n",
              "    </tr>\n",
              "  </tbody>\n",
              "</table>\n",
              "</div>"
            ],
            "text/plain": [
              "      Nombre   Apellido  IDDepartamento\n",
              "0  Francisco    Andrade              31\n",
              "1      Edgar     Jordán              33\n",
              "2      Marta  Steinberg              33\n",
              "3    Luciana   Róbinson              34\n",
              "4      David     Zolano              34\n",
              "5      María     Gaspar              36"
            ]
          },
          "metadata": {
            "tags": []
          },
          "execution_count": 501
        }
      ]
    },
    {
      "cell_type": "code",
      "metadata": {
        "id": "weEYTBovlj-9",
        "colab_type": "code",
        "colab": {
          "base_uri": "https://localhost:8080/",
          "height": 238
        },
        "outputId": "46904220-4a12-41c5-a82d-9d727a54d162"
      },
      "source": [
        "# No se modifica la tabla original\n",
        "Empleado2"
      ],
      "execution_count": 502,
      "outputs": [
        {
          "output_type": "execute_result",
          "data": {
            "text/html": [
              "<div>\n",
              "<style scoped>\n",
              "    .dataframe tbody tr th:only-of-type {\n",
              "        vertical-align: middle;\n",
              "    }\n",
              "\n",
              "    .dataframe tbody tr th {\n",
              "        vertical-align: top;\n",
              "    }\n",
              "\n",
              "    .dataframe thead th {\n",
              "        text-align: right;\n",
              "    }\n",
              "</style>\n",
              "<table border=\"1\" class=\"dataframe\">\n",
              "  <thead>\n",
              "    <tr style=\"text-align: right;\">\n",
              "      <th></th>\n",
              "      <th>Apellido</th>\n",
              "      <th>IDDepartamento</th>\n",
              "      <th>Nombre</th>\n",
              "    </tr>\n",
              "  </thead>\n",
              "  <tbody>\n",
              "    <tr>\n",
              "      <th>0</th>\n",
              "      <td>Andrade</td>\n",
              "      <td>31</td>\n",
              "      <td>Francisco</td>\n",
              "    </tr>\n",
              "    <tr>\n",
              "      <th>1</th>\n",
              "      <td>Jordán</td>\n",
              "      <td>33</td>\n",
              "      <td>Edgar</td>\n",
              "    </tr>\n",
              "    <tr>\n",
              "      <th>2</th>\n",
              "      <td>Steinberg</td>\n",
              "      <td>33</td>\n",
              "      <td>Marta</td>\n",
              "    </tr>\n",
              "    <tr>\n",
              "      <th>3</th>\n",
              "      <td>Róbinson</td>\n",
              "      <td>34</td>\n",
              "      <td>Luciana</td>\n",
              "    </tr>\n",
              "    <tr>\n",
              "      <th>4</th>\n",
              "      <td>Zolano</td>\n",
              "      <td>34</td>\n",
              "      <td>David</td>\n",
              "    </tr>\n",
              "    <tr>\n",
              "      <th>5</th>\n",
              "      <td>Gaspar</td>\n",
              "      <td>36</td>\n",
              "      <td>María</td>\n",
              "    </tr>\n",
              "  </tbody>\n",
              "</table>\n",
              "</div>"
            ],
            "text/plain": [
              "    Apellido  IDDepartamento     Nombre\n",
              "0    Andrade              31  Francisco\n",
              "1     Jordán              33      Edgar\n",
              "2  Steinberg              33      Marta\n",
              "3   Róbinson              34    Luciana\n",
              "4     Zolano              34      David\n",
              "5     Gaspar              36      María"
            ]
          },
          "metadata": {
            "tags": []
          },
          "execution_count": 502
        }
      ]
    },
    {
      "cell_type": "code",
      "metadata": {
        "id": "kWT3wt8445M2",
        "colab_type": "code",
        "colab": {
          "base_uri": "https://localhost:8080/",
          "height": 278
        },
        "outputId": "987082f8-e029-4744-8bd2-4e9dc1dbeaab"
      },
      "source": [
        "print(Empleado2)\n",
        "print('-'*40)\n",
        "print(Empleado)\n"
      ],
      "execution_count": 503,
      "outputs": [
        {
          "output_type": "stream",
          "text": [
            "    Apellido  IDDepartamento     Nombre\n",
            "0    Andrade              31  Francisco\n",
            "1     Jordán              33      Edgar\n",
            "2  Steinberg              33      Marta\n",
            "3   Róbinson              34    Luciana\n",
            "4     Zolano              34      David\n",
            "5     Gaspar              36      María\n",
            "----------------------------------------\n",
            "    Apellido  IDDepartamento\n",
            "0    Andrade              31\n",
            "1     Jordán              33\n",
            "2  Steinberg              33\n",
            "3   Róbinson              34\n",
            "4     Zolano              34\n",
            "5     Gaspar              36\n"
          ],
          "name": "stdout"
        }
      ]
    },
    {
      "cell_type": "code",
      "metadata": {
        "id": "JfFRL_Nym72s",
        "colab_type": "code",
        "colab": {
          "base_uri": "https://localhost:8080/",
          "height": 238
        },
        "outputId": "7587bff4-e743-4ad7-8da5-63600e2f638a"
      },
      "source": [
        "Empleado = pd.DataFrame({'Apellido' : ['Andrade', 'Jordán', 'Steinberg', 'Róbinson', 'Zolano', 'Gaspar'],\n",
        "                         'IDDepartamento' : [31, 33, 33, 34, 34, 36]})\n",
        "Empleado"
      ],
      "execution_count": 504,
      "outputs": [
        {
          "output_type": "execute_result",
          "data": {
            "text/html": [
              "<div>\n",
              "<style scoped>\n",
              "    .dataframe tbody tr th:only-of-type {\n",
              "        vertical-align: middle;\n",
              "    }\n",
              "\n",
              "    .dataframe tbody tr th {\n",
              "        vertical-align: top;\n",
              "    }\n",
              "\n",
              "    .dataframe thead th {\n",
              "        text-align: right;\n",
              "    }\n",
              "</style>\n",
              "<table border=\"1\" class=\"dataframe\">\n",
              "  <thead>\n",
              "    <tr style=\"text-align: right;\">\n",
              "      <th></th>\n",
              "      <th>Apellido</th>\n",
              "      <th>IDDepartamento</th>\n",
              "    </tr>\n",
              "  </thead>\n",
              "  <tbody>\n",
              "    <tr>\n",
              "      <th>0</th>\n",
              "      <td>Andrade</td>\n",
              "      <td>31</td>\n",
              "    </tr>\n",
              "    <tr>\n",
              "      <th>1</th>\n",
              "      <td>Jordán</td>\n",
              "      <td>33</td>\n",
              "    </tr>\n",
              "    <tr>\n",
              "      <th>2</th>\n",
              "      <td>Steinberg</td>\n",
              "      <td>33</td>\n",
              "    </tr>\n",
              "    <tr>\n",
              "      <th>3</th>\n",
              "      <td>Róbinson</td>\n",
              "      <td>34</td>\n",
              "    </tr>\n",
              "    <tr>\n",
              "      <th>4</th>\n",
              "      <td>Zolano</td>\n",
              "      <td>34</td>\n",
              "    </tr>\n",
              "    <tr>\n",
              "      <th>5</th>\n",
              "      <td>Gaspar</td>\n",
              "      <td>36</td>\n",
              "    </tr>\n",
              "  </tbody>\n",
              "</table>\n",
              "</div>"
            ],
            "text/plain": [
              "    Apellido  IDDepartamento\n",
              "0    Andrade              31\n",
              "1     Jordán              33\n",
              "2  Steinberg              33\n",
              "3   Róbinson              34\n",
              "4     Zolano              34\n",
              "5     Gaspar              36"
            ]
          },
          "metadata": {
            "tags": []
          },
          "execution_count": 504
        }
      ]
    },
    {
      "cell_type": "code",
      "metadata": {
        "id": "v_Hy6UE4nowt",
        "colab_type": "code",
        "colab": {
          "base_uri": "https://localhost:8080/",
          "height": 269
        },
        "outputId": "2969b35d-e614-4c24-a8d5-ac04d638f34e"
      },
      "source": [
        "nuevo_empleado = [('Ospina', 33)]\n",
        "  \n",
        "# Asignación creando un objeto nuevo\n",
        "Empleado2 = Empleado.append(nuevo_empleado, ignore_index=True)\n",
        "Empleado2"
      ],
      "execution_count": 505,
      "outputs": [
        {
          "output_type": "execute_result",
          "data": {
            "text/html": [
              "<div>\n",
              "<style scoped>\n",
              "    .dataframe tbody tr th:only-of-type {\n",
              "        vertical-align: middle;\n",
              "    }\n",
              "\n",
              "    .dataframe tbody tr th {\n",
              "        vertical-align: top;\n",
              "    }\n",
              "\n",
              "    .dataframe thead th {\n",
              "        text-align: right;\n",
              "    }\n",
              "</style>\n",
              "<table border=\"1\" class=\"dataframe\">\n",
              "  <thead>\n",
              "    <tr style=\"text-align: right;\">\n",
              "      <th></th>\n",
              "      <th>Apellido</th>\n",
              "      <th>IDDepartamento</th>\n",
              "      <th>0</th>\n",
              "      <th>1</th>\n",
              "    </tr>\n",
              "  </thead>\n",
              "  <tbody>\n",
              "    <tr>\n",
              "      <th>0</th>\n",
              "      <td>Andrade</td>\n",
              "      <td>31.0</td>\n",
              "      <td>NaN</td>\n",
              "      <td>NaN</td>\n",
              "    </tr>\n",
              "    <tr>\n",
              "      <th>1</th>\n",
              "      <td>Jordán</td>\n",
              "      <td>33.0</td>\n",
              "      <td>NaN</td>\n",
              "      <td>NaN</td>\n",
              "    </tr>\n",
              "    <tr>\n",
              "      <th>2</th>\n",
              "      <td>Steinberg</td>\n",
              "      <td>33.0</td>\n",
              "      <td>NaN</td>\n",
              "      <td>NaN</td>\n",
              "    </tr>\n",
              "    <tr>\n",
              "      <th>3</th>\n",
              "      <td>Róbinson</td>\n",
              "      <td>34.0</td>\n",
              "      <td>NaN</td>\n",
              "      <td>NaN</td>\n",
              "    </tr>\n",
              "    <tr>\n",
              "      <th>4</th>\n",
              "      <td>Zolano</td>\n",
              "      <td>34.0</td>\n",
              "      <td>NaN</td>\n",
              "      <td>NaN</td>\n",
              "    </tr>\n",
              "    <tr>\n",
              "      <th>5</th>\n",
              "      <td>Gaspar</td>\n",
              "      <td>36.0</td>\n",
              "      <td>NaN</td>\n",
              "      <td>NaN</td>\n",
              "    </tr>\n",
              "    <tr>\n",
              "      <th>6</th>\n",
              "      <td>NaN</td>\n",
              "      <td>NaN</td>\n",
              "      <td>Ospina</td>\n",
              "      <td>33.0</td>\n",
              "    </tr>\n",
              "  </tbody>\n",
              "</table>\n",
              "</div>"
            ],
            "text/plain": [
              "    Apellido  IDDepartamento       0     1\n",
              "0    Andrade            31.0     NaN   NaN\n",
              "1     Jordán            33.0     NaN   NaN\n",
              "2  Steinberg            33.0     NaN   NaN\n",
              "3   Róbinson            34.0     NaN   NaN\n",
              "4     Zolano            34.0     NaN   NaN\n",
              "5     Gaspar            36.0     NaN   NaN\n",
              "6        NaN             NaN  Ospina  33.0"
            ]
          },
          "metadata": {
            "tags": []
          },
          "execution_count": 505
        }
      ]
    },
    {
      "cell_type": "code",
      "metadata": {
        "id": "dGlVfQHlnKO7",
        "colab_type": "code",
        "colab": {
          "base_uri": "https://localhost:8080/",
          "height": 269
        },
        "outputId": "913cfb8e-7be7-4046-e2be-60cb042cbe99"
      },
      "source": [
        "Empleado = pd.DataFrame({'Apellido' : ['Andrade', 'Jordán', 'Steinberg', 'Róbinson', 'Zolano', 'Gaspar'],\n",
        "                         'IDDepartamento' : [31, 33, 33, 34, 34, 36]})\n",
        "nuevo_empleado = [{'Apellido': 'Ospina', 'IDDepartamento': 33}]\n",
        "\n",
        "# Asignación creando un objeto nuevo\n",
        "Empleado2 = Empleado.append(nuevo_empleado, ignore_index=True)\n",
        "Empleado2"
      ],
      "execution_count": 506,
      "outputs": [
        {
          "output_type": "execute_result",
          "data": {
            "text/html": [
              "<div>\n",
              "<style scoped>\n",
              "    .dataframe tbody tr th:only-of-type {\n",
              "        vertical-align: middle;\n",
              "    }\n",
              "\n",
              "    .dataframe tbody tr th {\n",
              "        vertical-align: top;\n",
              "    }\n",
              "\n",
              "    .dataframe thead th {\n",
              "        text-align: right;\n",
              "    }\n",
              "</style>\n",
              "<table border=\"1\" class=\"dataframe\">\n",
              "  <thead>\n",
              "    <tr style=\"text-align: right;\">\n",
              "      <th></th>\n",
              "      <th>Apellido</th>\n",
              "      <th>IDDepartamento</th>\n",
              "    </tr>\n",
              "  </thead>\n",
              "  <tbody>\n",
              "    <tr>\n",
              "      <th>0</th>\n",
              "      <td>Andrade</td>\n",
              "      <td>31</td>\n",
              "    </tr>\n",
              "    <tr>\n",
              "      <th>1</th>\n",
              "      <td>Jordán</td>\n",
              "      <td>33</td>\n",
              "    </tr>\n",
              "    <tr>\n",
              "      <th>2</th>\n",
              "      <td>Steinberg</td>\n",
              "      <td>33</td>\n",
              "    </tr>\n",
              "    <tr>\n",
              "      <th>3</th>\n",
              "      <td>Róbinson</td>\n",
              "      <td>34</td>\n",
              "    </tr>\n",
              "    <tr>\n",
              "      <th>4</th>\n",
              "      <td>Zolano</td>\n",
              "      <td>34</td>\n",
              "    </tr>\n",
              "    <tr>\n",
              "      <th>5</th>\n",
              "      <td>Gaspar</td>\n",
              "      <td>36</td>\n",
              "    </tr>\n",
              "    <tr>\n",
              "      <th>6</th>\n",
              "      <td>Ospina</td>\n",
              "      <td>33</td>\n",
              "    </tr>\n",
              "  </tbody>\n",
              "</table>\n",
              "</div>"
            ],
            "text/plain": [
              "    Apellido  IDDepartamento\n",
              "0    Andrade              31\n",
              "1     Jordán              33\n",
              "2  Steinberg              33\n",
              "3   Róbinson              34\n",
              "4     Zolano              34\n",
              "5     Gaspar              36\n",
              "6     Ospina              33"
            ]
          },
          "metadata": {
            "tags": []
          },
          "execution_count": 506
        }
      ]
    },
    {
      "cell_type": "code",
      "metadata": {
        "id": "LHS9OaXJndjj",
        "colab_type": "code",
        "colab": {
          "base_uri": "https://localhost:8080/",
          "height": 269
        },
        "outputId": "8f5b7226-2a06-4194-86cd-ce99bd0212f6"
      },
      "source": [
        "Empleado = pd.DataFrame({'Apellido' : ['Andrade', 'Jordán', 'Steinberg', 'Róbinson', 'Zolano', 'Gaspar'],\n",
        "                         'IDDepartamento' : [31, 33, 33, 34, 34, 36]})\n",
        "\n",
        "# Asignación creando un objeto nuevo\n",
        "nuevo_empleado = pd.Series(['Ospina', 37], index=['Apellido', 'IDDepartamento'])\n",
        "Empleado2 = Empleado.append(nuevo_empleado, ignore_index=True)\n",
        "Empleado2"
      ],
      "execution_count": 507,
      "outputs": [
        {
          "output_type": "execute_result",
          "data": {
            "text/html": [
              "<div>\n",
              "<style scoped>\n",
              "    .dataframe tbody tr th:only-of-type {\n",
              "        vertical-align: middle;\n",
              "    }\n",
              "\n",
              "    .dataframe tbody tr th {\n",
              "        vertical-align: top;\n",
              "    }\n",
              "\n",
              "    .dataframe thead th {\n",
              "        text-align: right;\n",
              "    }\n",
              "</style>\n",
              "<table border=\"1\" class=\"dataframe\">\n",
              "  <thead>\n",
              "    <tr style=\"text-align: right;\">\n",
              "      <th></th>\n",
              "      <th>Apellido</th>\n",
              "      <th>IDDepartamento</th>\n",
              "    </tr>\n",
              "  </thead>\n",
              "  <tbody>\n",
              "    <tr>\n",
              "      <th>0</th>\n",
              "      <td>Andrade</td>\n",
              "      <td>31</td>\n",
              "    </tr>\n",
              "    <tr>\n",
              "      <th>1</th>\n",
              "      <td>Jordán</td>\n",
              "      <td>33</td>\n",
              "    </tr>\n",
              "    <tr>\n",
              "      <th>2</th>\n",
              "      <td>Steinberg</td>\n",
              "      <td>33</td>\n",
              "    </tr>\n",
              "    <tr>\n",
              "      <th>3</th>\n",
              "      <td>Róbinson</td>\n",
              "      <td>34</td>\n",
              "    </tr>\n",
              "    <tr>\n",
              "      <th>4</th>\n",
              "      <td>Zolano</td>\n",
              "      <td>34</td>\n",
              "    </tr>\n",
              "    <tr>\n",
              "      <th>5</th>\n",
              "      <td>Gaspar</td>\n",
              "      <td>36</td>\n",
              "    </tr>\n",
              "    <tr>\n",
              "      <th>6</th>\n",
              "      <td>Ospina</td>\n",
              "      <td>37</td>\n",
              "    </tr>\n",
              "  </tbody>\n",
              "</table>\n",
              "</div>"
            ],
            "text/plain": [
              "    Apellido  IDDepartamento\n",
              "0    Andrade              31\n",
              "1     Jordán              33\n",
              "2  Steinberg              33\n",
              "3   Róbinson              34\n",
              "4     Zolano              34\n",
              "5     Gaspar              36\n",
              "6     Ospina              37"
            ]
          },
          "metadata": {
            "tags": []
          },
          "execution_count": 507
        }
      ]
    },
    {
      "cell_type": "code",
      "metadata": {
        "id": "ldcO5CzGnytz",
        "colab_type": "code",
        "colab": {
          "base_uri": "https://localhost:8080/",
          "height": 269
        },
        "outputId": "b56dd771-69a6-46df-89e2-9dfafa91a2af"
      },
      "source": [
        "Empleado = pd.DataFrame({'Apellido' : ['Andrade', 'Jordán', 'Steinberg', 'Róbinson', 'Zolano', 'Gaspar'],\n",
        "                         'IDDepartamento' : [31, 33, 33, 34, 34, 36]})\n",
        "\n",
        "# Asignación modificando el objeto original\n",
        "Empleado.loc[6] = ['Ospina', 37]\n",
        "Empleado"
      ],
      "execution_count": 508,
      "outputs": [
        {
          "output_type": "execute_result",
          "data": {
            "text/html": [
              "<div>\n",
              "<style scoped>\n",
              "    .dataframe tbody tr th:only-of-type {\n",
              "        vertical-align: middle;\n",
              "    }\n",
              "\n",
              "    .dataframe tbody tr th {\n",
              "        vertical-align: top;\n",
              "    }\n",
              "\n",
              "    .dataframe thead th {\n",
              "        text-align: right;\n",
              "    }\n",
              "</style>\n",
              "<table border=\"1\" class=\"dataframe\">\n",
              "  <thead>\n",
              "    <tr style=\"text-align: right;\">\n",
              "      <th></th>\n",
              "      <th>Apellido</th>\n",
              "      <th>IDDepartamento</th>\n",
              "    </tr>\n",
              "  </thead>\n",
              "  <tbody>\n",
              "    <tr>\n",
              "      <th>0</th>\n",
              "      <td>Andrade</td>\n",
              "      <td>31</td>\n",
              "    </tr>\n",
              "    <tr>\n",
              "      <th>1</th>\n",
              "      <td>Jordán</td>\n",
              "      <td>33</td>\n",
              "    </tr>\n",
              "    <tr>\n",
              "      <th>2</th>\n",
              "      <td>Steinberg</td>\n",
              "      <td>33</td>\n",
              "    </tr>\n",
              "    <tr>\n",
              "      <th>3</th>\n",
              "      <td>Róbinson</td>\n",
              "      <td>34</td>\n",
              "    </tr>\n",
              "    <tr>\n",
              "      <th>4</th>\n",
              "      <td>Zolano</td>\n",
              "      <td>34</td>\n",
              "    </tr>\n",
              "    <tr>\n",
              "      <th>5</th>\n",
              "      <td>Gaspar</td>\n",
              "      <td>36</td>\n",
              "    </tr>\n",
              "    <tr>\n",
              "      <th>6</th>\n",
              "      <td>Ospina</td>\n",
              "      <td>37</td>\n",
              "    </tr>\n",
              "  </tbody>\n",
              "</table>\n",
              "</div>"
            ],
            "text/plain": [
              "    Apellido  IDDepartamento\n",
              "0    Andrade              31\n",
              "1     Jordán              33\n",
              "2  Steinberg              33\n",
              "3   Róbinson              34\n",
              "4     Zolano              34\n",
              "5     Gaspar              36\n",
              "6     Ospina              37"
            ]
          },
          "metadata": {
            "tags": []
          },
          "execution_count": 508
        }
      ]
    },
    {
      "cell_type": "code",
      "metadata": {
        "id": "NROS7cyl5RZ3",
        "colab_type": "code",
        "colab": {
          "base_uri": "https://localhost:8080/",
          "height": 312
        },
        "outputId": "af44af22-0c0d-48be-dfda-0aa9fe88693f"
      },
      "source": [
        "print(Empleado2)\n",
        "print('-'*40)\n",
        "print(Empleado)\n"
      ],
      "execution_count": 509,
      "outputs": [
        {
          "output_type": "stream",
          "text": [
            "    Apellido  IDDepartamento\n",
            "0    Andrade              31\n",
            "1     Jordán              33\n",
            "2  Steinberg              33\n",
            "3   Róbinson              34\n",
            "4     Zolano              34\n",
            "5     Gaspar              36\n",
            "6     Ospina              37\n",
            "----------------------------------------\n",
            "    Apellido  IDDepartamento\n",
            "0    Andrade              31\n",
            "1     Jordán              33\n",
            "2  Steinberg              33\n",
            "3   Róbinson              34\n",
            "4     Zolano              34\n",
            "5     Gaspar              36\n",
            "6     Ospina              37\n"
          ],
          "name": "stdout"
        }
      ]
    },
    {
      "cell_type": "code",
      "metadata": {
        "id": "J3QMZw046Xaj",
        "colab_type": "code",
        "colab": {
          "base_uri": "https://localhost:8080/",
          "height": 34
        },
        "outputId": "2c18fbd9-9331-4fa9-d3a0-454ed73511ae"
      },
      "source": [
        "# Corregir la ubicacion de los nuevos datos\n",
        "# Sin embargo se conserva el problema del indice '0'\n",
        "Empleado = pd.DataFrame({'Apellido' : ['Andrade', 'Jordán', 'Steinberg', 'Róbinson', 'Zolano', 'Gaspar'],\n",
        "                         'IDDepartamento' : [31, 33, 33, 34, 34, 36]})\n",
        "nuevo_empleado = [{'Apellido': 'Ospina', 'IDDepartamento': 33}]\n",
        "\n",
        "print(nuevo_empleado)\n",
        "\n",
        "Empleado2 = Empleado.append(nuevo_empleado, ignore_index=True)"
      ],
      "execution_count": 510,
      "outputs": [
        {
          "output_type": "stream",
          "text": [
            "[{'Apellido': 'Ospina', 'IDDepartamento': 33}]\n"
          ],
          "name": "stdout"
        }
      ]
    },
    {
      "cell_type": "code",
      "metadata": {
        "id": "pByyQqSI6pTQ",
        "colab_type": "code",
        "colab": {
          "base_uri": "https://localhost:8080/",
          "height": 295
        },
        "outputId": "5f2821de-e9a9-4508-c60d-edb837b5ed28"
      },
      "source": [
        "print(Empleado2)\n",
        "print('-'*40)\n",
        "print(Empleado)\n"
      ],
      "execution_count": 511,
      "outputs": [
        {
          "output_type": "stream",
          "text": [
            "    Apellido  IDDepartamento\n",
            "0    Andrade              31\n",
            "1     Jordán              33\n",
            "2  Steinberg              33\n",
            "3   Róbinson              34\n",
            "4     Zolano              34\n",
            "5     Gaspar              36\n",
            "6     Ospina              33\n",
            "----------------------------------------\n",
            "    Apellido  IDDepartamento\n",
            "0    Andrade              31\n",
            "1     Jordán              33\n",
            "2  Steinberg              33\n",
            "3   Róbinson              34\n",
            "4     Zolano              34\n",
            "5     Gaspar              36\n"
          ],
          "name": "stdout"
        }
      ]
    },
    {
      "cell_type": "code",
      "metadata": {
        "id": "hZw0qRBJ605L",
        "colab_type": "code",
        "colab": {
          "base_uri": "https://localhost:8080/",
          "height": 86
        },
        "outputId": "6aa3975d-f410-43f2-e39b-42dfdc4acbe6"
      },
      "source": [
        "Empleado = pd.DataFrame({'Apellido' : ['Andrade', 'Jordán', 'Steinberg', 'Róbinson', 'Zolano', 'Gaspar'],\n",
        "                         'IDDepartamento' : [31, 33, 33, 34, 34, 36]})\n",
        "\n",
        "nuevo_empleado = pd.Series(['Ospina', 37], index=['Apellido', 'IDDepartamento'])\n",
        "print(nuevo_empleado)\n",
        "print(nuevo_empleado.index)\n",
        "# Asignación creando un objeto nuevo\n",
        "Empleado2 = Empleado.append(nuevo_empleado, ignore_index=True)"
      ],
      "execution_count": 512,
      "outputs": [
        {
          "output_type": "stream",
          "text": [
            "Apellido          Ospina\n",
            "IDDepartamento        37\n",
            "dtype: object\n",
            "Index(['Apellido', 'IDDepartamento'], dtype='object')\n"
          ],
          "name": "stdout"
        }
      ]
    },
    {
      "cell_type": "code",
      "metadata": {
        "id": "xPula4Hc699k",
        "colab_type": "code",
        "colab": {
          "base_uri": "https://localhost:8080/",
          "height": 295
        },
        "outputId": "f3bd5fc8-bdaa-46d2-8a69-ffee417f5b8d"
      },
      "source": [
        "print(Empleado2)\n",
        "print('-'*40)\n",
        "print(Empleado)"
      ],
      "execution_count": 513,
      "outputs": [
        {
          "output_type": "stream",
          "text": [
            "    Apellido  IDDepartamento\n",
            "0    Andrade              31\n",
            "1     Jordán              33\n",
            "2  Steinberg              33\n",
            "3   Róbinson              34\n",
            "4     Zolano              34\n",
            "5     Gaspar              36\n",
            "6     Ospina              37\n",
            "----------------------------------------\n",
            "    Apellido  IDDepartamento\n",
            "0    Andrade              31\n",
            "1     Jordán              33\n",
            "2  Steinberg              33\n",
            "3   Róbinson              34\n",
            "4     Zolano              34\n",
            "5     Gaspar              36\n"
          ],
          "name": "stdout"
        }
      ]
    },
    {
      "cell_type": "code",
      "metadata": {
        "id": "wjEuV1q274v6",
        "colab_type": "code",
        "colab": {
          "base_uri": "https://localhost:8080/",
          "height": 69
        },
        "outputId": "1f868e81-140d-474c-9249-1d2e37f2d2e8"
      },
      "source": [
        "Empleado = pd.DataFrame({'Apellido' : ['Andrade', 'Jordán', 'Steinberg', 'Róbinson', 'Zolano', 'Gaspar'],\n",
        "                         'IDDepartamento' : [31, 33, 33, 34, 34, 36]})\n",
        "\n",
        "nuevo_empleado = pd.Series(['Ospina'], index=['Apellido'])\n",
        "print(nuevo_empleado)\n",
        "print(nuevo_empleado.index)\n",
        "# Asignación creando un objeto nuevo\n",
        "Empleado2 = Empleado.append(nuevo_empleado, ignore_index=True)"
      ],
      "execution_count": 514,
      "outputs": [
        {
          "output_type": "stream",
          "text": [
            "Apellido    Ospina\n",
            "dtype: object\n",
            "Index(['Apellido'], dtype='object')\n"
          ],
          "name": "stdout"
        }
      ]
    },
    {
      "cell_type": "code",
      "metadata": {
        "id": "V07_lnr579I6",
        "colab_type": "code",
        "colab": {
          "base_uri": "https://localhost:8080/",
          "height": 295
        },
        "outputId": "a642b517-d594-4f9f-ccf5-b791e5c1f2cb"
      },
      "source": [
        "print(Empleado2)\n",
        "print('-'*40)\n",
        "print(Empleado)"
      ],
      "execution_count": 515,
      "outputs": [
        {
          "output_type": "stream",
          "text": [
            "    Apellido  IDDepartamento\n",
            "0    Andrade            31.0\n",
            "1     Jordán            33.0\n",
            "2  Steinberg            33.0\n",
            "3   Róbinson            34.0\n",
            "4     Zolano            34.0\n",
            "5     Gaspar            36.0\n",
            "6     Ospina             NaN\n",
            "----------------------------------------\n",
            "    Apellido  IDDepartamento\n",
            "0    Andrade              31\n",
            "1     Jordán              33\n",
            "2  Steinberg              33\n",
            "3   Róbinson              34\n",
            "4     Zolano              34\n",
            "5     Gaspar              36\n"
          ],
          "name": "stdout"
        }
      ]
    },
    {
      "cell_type": "code",
      "metadata": {
        "id": "bhe3lb0m8E4j",
        "colab_type": "code",
        "colab": {
          "base_uri": "https://localhost:8080/",
          "height": 269
        },
        "outputId": "e5db8936-cade-436e-8ade-f08f804c3776"
      },
      "source": [
        "# Asignación modificando el objeto original\n",
        "Empleado.loc[6] = ['Ospina', 37]\n",
        "Empleado"
      ],
      "execution_count": 516,
      "outputs": [
        {
          "output_type": "execute_result",
          "data": {
            "text/html": [
              "<div>\n",
              "<style scoped>\n",
              "    .dataframe tbody tr th:only-of-type {\n",
              "        vertical-align: middle;\n",
              "    }\n",
              "\n",
              "    .dataframe tbody tr th {\n",
              "        vertical-align: top;\n",
              "    }\n",
              "\n",
              "    .dataframe thead th {\n",
              "        text-align: right;\n",
              "    }\n",
              "</style>\n",
              "<table border=\"1\" class=\"dataframe\">\n",
              "  <thead>\n",
              "    <tr style=\"text-align: right;\">\n",
              "      <th></th>\n",
              "      <th>Apellido</th>\n",
              "      <th>IDDepartamento</th>\n",
              "    </tr>\n",
              "  </thead>\n",
              "  <tbody>\n",
              "    <tr>\n",
              "      <th>0</th>\n",
              "      <td>Andrade</td>\n",
              "      <td>31</td>\n",
              "    </tr>\n",
              "    <tr>\n",
              "      <th>1</th>\n",
              "      <td>Jordán</td>\n",
              "      <td>33</td>\n",
              "    </tr>\n",
              "    <tr>\n",
              "      <th>2</th>\n",
              "      <td>Steinberg</td>\n",
              "      <td>33</td>\n",
              "    </tr>\n",
              "    <tr>\n",
              "      <th>3</th>\n",
              "      <td>Róbinson</td>\n",
              "      <td>34</td>\n",
              "    </tr>\n",
              "    <tr>\n",
              "      <th>4</th>\n",
              "      <td>Zolano</td>\n",
              "      <td>34</td>\n",
              "    </tr>\n",
              "    <tr>\n",
              "      <th>5</th>\n",
              "      <td>Gaspar</td>\n",
              "      <td>36</td>\n",
              "    </tr>\n",
              "    <tr>\n",
              "      <th>6</th>\n",
              "      <td>Ospina</td>\n",
              "      <td>37</td>\n",
              "    </tr>\n",
              "  </tbody>\n",
              "</table>\n",
              "</div>"
            ],
            "text/plain": [
              "    Apellido  IDDepartamento\n",
              "0    Andrade              31\n",
              "1     Jordán              33\n",
              "2  Steinberg              33\n",
              "3   Róbinson              34\n",
              "4     Zolano              34\n",
              "5     Gaspar              36\n",
              "6     Ospina              37"
            ]
          },
          "metadata": {
            "tags": []
          },
          "execution_count": 516
        }
      ]
    },
    {
      "cell_type": "markdown",
      "metadata": {
        "id": "EDcR6i4P8iRn",
        "colab_type": "text"
      },
      "source": [
        "## Boadcasting con Dataframes"
      ]
    },
    {
      "cell_type": "code",
      "metadata": {
        "id": "fdm8lD5k8h1n",
        "colab_type": "code",
        "colab": {
          "base_uri": "https://localhost:8080/",
          "height": 206
        },
        "outputId": "b42f3e44-2b47-4b58-ea23-497ae5515ab2"
      },
      "source": [
        "Empleado = pd.DataFrame({'Apellido' : ['Andrade', 'Jordán', 'Steinberg', 'Róbinson', 'Zolano', 'Gaspar'],\n",
        "                         'IDDepartamento' : [31, 33, 33, 34, 34, 36]})\n",
        "Departamento = pd.DataFrame({'NombreDepartamento': ['Ventas', 'Ingeniería', 'Producción', 'Mercadeo'],\n",
        "                             'IDDepartamento': [31, 33, 34, 35]})\n",
        "\n",
        "Empleado['Edad'] = [20,23,45,48,56,32]\n",
        "\n",
        "Empleado['Edad_meses'] = Empleado['Edad'] * 12\n",
        "\n",
        "Empleado.drop(5)"
      ],
      "execution_count": 517,
      "outputs": [
        {
          "output_type": "execute_result",
          "data": {
            "text/html": [
              "<div>\n",
              "<style scoped>\n",
              "    .dataframe tbody tr th:only-of-type {\n",
              "        vertical-align: middle;\n",
              "    }\n",
              "\n",
              "    .dataframe tbody tr th {\n",
              "        vertical-align: top;\n",
              "    }\n",
              "\n",
              "    .dataframe thead th {\n",
              "        text-align: right;\n",
              "    }\n",
              "</style>\n",
              "<table border=\"1\" class=\"dataframe\">\n",
              "  <thead>\n",
              "    <tr style=\"text-align: right;\">\n",
              "      <th></th>\n",
              "      <th>Apellido</th>\n",
              "      <th>IDDepartamento</th>\n",
              "      <th>Edad</th>\n",
              "      <th>Edad_meses</th>\n",
              "    </tr>\n",
              "  </thead>\n",
              "  <tbody>\n",
              "    <tr>\n",
              "      <th>0</th>\n",
              "      <td>Andrade</td>\n",
              "      <td>31</td>\n",
              "      <td>20</td>\n",
              "      <td>240</td>\n",
              "    </tr>\n",
              "    <tr>\n",
              "      <th>1</th>\n",
              "      <td>Jordán</td>\n",
              "      <td>33</td>\n",
              "      <td>23</td>\n",
              "      <td>276</td>\n",
              "    </tr>\n",
              "    <tr>\n",
              "      <th>2</th>\n",
              "      <td>Steinberg</td>\n",
              "      <td>33</td>\n",
              "      <td>45</td>\n",
              "      <td>540</td>\n",
              "    </tr>\n",
              "    <tr>\n",
              "      <th>3</th>\n",
              "      <td>Róbinson</td>\n",
              "      <td>34</td>\n",
              "      <td>48</td>\n",
              "      <td>576</td>\n",
              "    </tr>\n",
              "    <tr>\n",
              "      <th>4</th>\n",
              "      <td>Zolano</td>\n",
              "      <td>34</td>\n",
              "      <td>56</td>\n",
              "      <td>672</td>\n",
              "    </tr>\n",
              "  </tbody>\n",
              "</table>\n",
              "</div>"
            ],
            "text/plain": [
              "    Apellido  IDDepartamento  Edad  Edad_meses\n",
              "0    Andrade              31    20         240\n",
              "1     Jordán              33    23         276\n",
              "2  Steinberg              33    45         540\n",
              "3   Róbinson              34    48         576\n",
              "4     Zolano              34    56         672"
            ]
          },
          "metadata": {
            "tags": []
          },
          "execution_count": 517
        }
      ]
    },
    {
      "cell_type": "markdown",
      "metadata": {
        "id": "AdQxr2xx838a",
        "colab_type": "text"
      },
      "source": [
        "### ¿Cuándo no usar Broadcasting?\n",
        "\n",
        "No se usa broadcasting cuando la operación es compleja"
      ]
    },
    {
      "cell_type": "code",
      "metadata": {
        "id": "hBTpIg5B87PN",
        "colab_type": "code",
        "colab": {
          "base_uri": "https://localhost:8080/",
          "height": 238
        },
        "outputId": "491d7d88-dced-48a9-fd02-1a65bd1e5a00"
      },
      "source": [
        "df_merge = pd.merge(Empleado, Departamento, how='left')\n",
        "\n",
        "str_list = []\n",
        "\n",
        "for index, row in df_merge.iterrows():\n",
        "    str_list.append('El empleado {} trabaja en el departamento de {}'.format(row['Apellido'], \n",
        "                                                                             row['IDDepartamento']))\n",
        "    \n",
        "df_merge['Comentario'] = str_list\n",
        "df_merge"
      ],
      "execution_count": 518,
      "outputs": [
        {
          "output_type": "execute_result",
          "data": {
            "text/html": [
              "<div>\n",
              "<style scoped>\n",
              "    .dataframe tbody tr th:only-of-type {\n",
              "        vertical-align: middle;\n",
              "    }\n",
              "\n",
              "    .dataframe tbody tr th {\n",
              "        vertical-align: top;\n",
              "    }\n",
              "\n",
              "    .dataframe thead th {\n",
              "        text-align: right;\n",
              "    }\n",
              "</style>\n",
              "<table border=\"1\" class=\"dataframe\">\n",
              "  <thead>\n",
              "    <tr style=\"text-align: right;\">\n",
              "      <th></th>\n",
              "      <th>Apellido</th>\n",
              "      <th>IDDepartamento</th>\n",
              "      <th>Edad</th>\n",
              "      <th>Edad_meses</th>\n",
              "      <th>NombreDepartamento</th>\n",
              "      <th>Comentario</th>\n",
              "    </tr>\n",
              "  </thead>\n",
              "  <tbody>\n",
              "    <tr>\n",
              "      <th>0</th>\n",
              "      <td>Andrade</td>\n",
              "      <td>31</td>\n",
              "      <td>20</td>\n",
              "      <td>240</td>\n",
              "      <td>Ventas</td>\n",
              "      <td>El empleado Andrade trabaja en el departamento...</td>\n",
              "    </tr>\n",
              "    <tr>\n",
              "      <th>1</th>\n",
              "      <td>Jordán</td>\n",
              "      <td>33</td>\n",
              "      <td>23</td>\n",
              "      <td>276</td>\n",
              "      <td>Ingeniería</td>\n",
              "      <td>El empleado Jordán trabaja en el departamento ...</td>\n",
              "    </tr>\n",
              "    <tr>\n",
              "      <th>2</th>\n",
              "      <td>Steinberg</td>\n",
              "      <td>33</td>\n",
              "      <td>45</td>\n",
              "      <td>540</td>\n",
              "      <td>Ingeniería</td>\n",
              "      <td>El empleado Steinberg trabaja en el departamen...</td>\n",
              "    </tr>\n",
              "    <tr>\n",
              "      <th>3</th>\n",
              "      <td>Róbinson</td>\n",
              "      <td>34</td>\n",
              "      <td>48</td>\n",
              "      <td>576</td>\n",
              "      <td>Producción</td>\n",
              "      <td>El empleado Róbinson trabaja en el departament...</td>\n",
              "    </tr>\n",
              "    <tr>\n",
              "      <th>4</th>\n",
              "      <td>Zolano</td>\n",
              "      <td>34</td>\n",
              "      <td>56</td>\n",
              "      <td>672</td>\n",
              "      <td>Producción</td>\n",
              "      <td>El empleado Zolano trabaja en el departamento ...</td>\n",
              "    </tr>\n",
              "    <tr>\n",
              "      <th>5</th>\n",
              "      <td>Gaspar</td>\n",
              "      <td>36</td>\n",
              "      <td>32</td>\n",
              "      <td>384</td>\n",
              "      <td>NaN</td>\n",
              "      <td>El empleado Gaspar trabaja en el departamento ...</td>\n",
              "    </tr>\n",
              "  </tbody>\n",
              "</table>\n",
              "</div>"
            ],
            "text/plain": [
              "    Apellido  ...                                         Comentario\n",
              "0    Andrade  ...  El empleado Andrade trabaja en el departamento...\n",
              "1     Jordán  ...  El empleado Jordán trabaja en el departamento ...\n",
              "2  Steinberg  ...  El empleado Steinberg trabaja en el departamen...\n",
              "3   Róbinson  ...  El empleado Róbinson trabaja en el departament...\n",
              "4     Zolano  ...  El empleado Zolano trabaja en el departamento ...\n",
              "5     Gaspar  ...  El empleado Gaspar trabaja en el departamento ...\n",
              "\n",
              "[6 rows x 6 columns]"
            ]
          },
          "metadata": {
            "tags": []
          },
          "execution_count": 518
        }
      ]
    },
    {
      "cell_type": "markdown",
      "metadata": {
        "id": "YcMAD1hJ-_fS",
        "colab_type": "text"
      },
      "source": [
        "### Concatenación de Series"
      ]
    },
    {
      "cell_type": "code",
      "metadata": {
        "id": "LKiL5Vo5_Brr",
        "colab_type": "code",
        "colab": {
          "base_uri": "https://localhost:8080/",
          "height": 139
        },
        "outputId": "f8c1fb9c-5d8b-45fb-b927-18a1cb42b3c6"
      },
      "source": [
        "Ser1 = pd.Series([1,2], index=['a', 'b'])\n",
        "Ser2 = pd.Series([2,3,4,5], index=['a', 'b', 'c', 'd'])\n",
        "\n",
        "pd.concat([Ser1, Ser2], axis=0)"
      ],
      "execution_count": 519,
      "outputs": [
        {
          "output_type": "execute_result",
          "data": {
            "text/plain": [
              "a    1\n",
              "b    2\n",
              "a    2\n",
              "b    3\n",
              "c    4\n",
              "d    5\n",
              "dtype: int64"
            ]
          },
          "metadata": {
            "tags": []
          },
          "execution_count": 519
        }
      ]
    },
    {
      "cell_type": "code",
      "metadata": {
        "id": "yXp9rYNdwhwK",
        "colab_type": "code",
        "colab": {
          "base_uri": "https://localhost:8080/",
          "height": 175
        },
        "outputId": "0d984991-db8c-4820-84a6-a776ff232532"
      },
      "source": [
        "Ser1 = pd.Series([1,2], index=['a', 'b'])\n",
        "Ser2 = pd.Series([2,3,4,5], index=['a', 'b', 'c', 'd'])\n",
        "pd.concat([Ser1, Ser2], axis=1)"
      ],
      "execution_count": 520,
      "outputs": [
        {
          "output_type": "execute_result",
          "data": {
            "text/html": [
              "<div>\n",
              "<style scoped>\n",
              "    .dataframe tbody tr th:only-of-type {\n",
              "        vertical-align: middle;\n",
              "    }\n",
              "\n",
              "    .dataframe tbody tr th {\n",
              "        vertical-align: top;\n",
              "    }\n",
              "\n",
              "    .dataframe thead th {\n",
              "        text-align: right;\n",
              "    }\n",
              "</style>\n",
              "<table border=\"1\" class=\"dataframe\">\n",
              "  <thead>\n",
              "    <tr style=\"text-align: right;\">\n",
              "      <th></th>\n",
              "      <th>0</th>\n",
              "      <th>1</th>\n",
              "    </tr>\n",
              "  </thead>\n",
              "  <tbody>\n",
              "    <tr>\n",
              "      <th>a</th>\n",
              "      <td>1.0</td>\n",
              "      <td>2</td>\n",
              "    </tr>\n",
              "    <tr>\n",
              "      <th>b</th>\n",
              "      <td>2.0</td>\n",
              "      <td>3</td>\n",
              "    </tr>\n",
              "    <tr>\n",
              "      <th>c</th>\n",
              "      <td>NaN</td>\n",
              "      <td>4</td>\n",
              "    </tr>\n",
              "    <tr>\n",
              "      <th>d</th>\n",
              "      <td>NaN</td>\n",
              "      <td>5</td>\n",
              "    </tr>\n",
              "  </tbody>\n",
              "</table>\n",
              "</div>"
            ],
            "text/plain": [
              "     0  1\n",
              "a  1.0  2\n",
              "b  2.0  3\n",
              "c  NaN  4\n",
              "d  NaN  5"
            ]
          },
          "metadata": {
            "tags": []
          },
          "execution_count": 520
        }
      ]
    },
    {
      "cell_type": "markdown",
      "metadata": {
        "id": "jzdNAO_rAmOi",
        "colab_type": "text"
      },
      "source": [
        "## Concatenación de DataFrames"
      ]
    },
    {
      "cell_type": "code",
      "metadata": {
        "id": "pY4oCxpAAoF8",
        "colab_type": "code",
        "colab": {
          "base_uri": "https://localhost:8080/",
          "height": 175
        },
        "outputId": "b732a8ca-2742-4c0f-aba0-9356e1ed522e"
      },
      "source": [
        "df1 = pd.DataFrame({'var_1': [1,2], 'var_2': [3,4]})\n",
        "df2 = pd.DataFrame({'var_3': [5,6], 'var_2': [7,8]})\n",
        "\n",
        "pd.concat([df1, df2])"
      ],
      "execution_count": 521,
      "outputs": [
        {
          "output_type": "execute_result",
          "data": {
            "text/html": [
              "<div>\n",
              "<style scoped>\n",
              "    .dataframe tbody tr th:only-of-type {\n",
              "        vertical-align: middle;\n",
              "    }\n",
              "\n",
              "    .dataframe tbody tr th {\n",
              "        vertical-align: top;\n",
              "    }\n",
              "\n",
              "    .dataframe thead th {\n",
              "        text-align: right;\n",
              "    }\n",
              "</style>\n",
              "<table border=\"1\" class=\"dataframe\">\n",
              "  <thead>\n",
              "    <tr style=\"text-align: right;\">\n",
              "      <th></th>\n",
              "      <th>var_1</th>\n",
              "      <th>var_2</th>\n",
              "      <th>var_3</th>\n",
              "    </tr>\n",
              "  </thead>\n",
              "  <tbody>\n",
              "    <tr>\n",
              "      <th>0</th>\n",
              "      <td>1.0</td>\n",
              "      <td>3</td>\n",
              "      <td>NaN</td>\n",
              "    </tr>\n",
              "    <tr>\n",
              "      <th>1</th>\n",
              "      <td>2.0</td>\n",
              "      <td>4</td>\n",
              "      <td>NaN</td>\n",
              "    </tr>\n",
              "    <tr>\n",
              "      <th>0</th>\n",
              "      <td>NaN</td>\n",
              "      <td>7</td>\n",
              "      <td>5.0</td>\n",
              "    </tr>\n",
              "    <tr>\n",
              "      <th>1</th>\n",
              "      <td>NaN</td>\n",
              "      <td>8</td>\n",
              "      <td>6.0</td>\n",
              "    </tr>\n",
              "  </tbody>\n",
              "</table>\n",
              "</div>"
            ],
            "text/plain": [
              "   var_1  var_2  var_3\n",
              "0    1.0      3    NaN\n",
              "1    2.0      4    NaN\n",
              "0    NaN      7    5.0\n",
              "1    NaN      8    6.0"
            ]
          },
          "metadata": {
            "tags": []
          },
          "execution_count": 521
        }
      ]
    },
    {
      "cell_type": "code",
      "metadata": {
        "id": "jQPotoGTxALY",
        "colab_type": "code",
        "colab": {
          "base_uri": "https://localhost:8080/",
          "height": 112
        },
        "outputId": "15d21b7a-ad9b-48e6-e31f-55a263affd70"
      },
      "source": [
        "df1 = pd.DataFrame({'var_1': [1,2], 'var_2': [3,4]})\n",
        "df2 = pd.DataFrame({'var_3': [5,6], 'var_2': [7,8]})\n",
        "\n",
        "pd.concat([df1, df2], axis=1) # Es importante renombrar columnas"
      ],
      "execution_count": 522,
      "outputs": [
        {
          "output_type": "execute_result",
          "data": {
            "text/html": [
              "<div>\n",
              "<style scoped>\n",
              "    .dataframe tbody tr th:only-of-type {\n",
              "        vertical-align: middle;\n",
              "    }\n",
              "\n",
              "    .dataframe tbody tr th {\n",
              "        vertical-align: top;\n",
              "    }\n",
              "\n",
              "    .dataframe thead th {\n",
              "        text-align: right;\n",
              "    }\n",
              "</style>\n",
              "<table border=\"1\" class=\"dataframe\">\n",
              "  <thead>\n",
              "    <tr style=\"text-align: right;\">\n",
              "      <th></th>\n",
              "      <th>var_1</th>\n",
              "      <th>var_2</th>\n",
              "      <th>var_3</th>\n",
              "      <th>var_2</th>\n",
              "    </tr>\n",
              "  </thead>\n",
              "  <tbody>\n",
              "    <tr>\n",
              "      <th>0</th>\n",
              "      <td>1</td>\n",
              "      <td>3</td>\n",
              "      <td>5</td>\n",
              "      <td>7</td>\n",
              "    </tr>\n",
              "    <tr>\n",
              "      <th>1</th>\n",
              "      <td>2</td>\n",
              "      <td>4</td>\n",
              "      <td>6</td>\n",
              "      <td>8</td>\n",
              "    </tr>\n",
              "  </tbody>\n",
              "</table>\n",
              "</div>"
            ],
            "text/plain": [
              "   var_1  var_2  var_3  var_2\n",
              "0      1      3      5      7\n",
              "1      2      4      6      8"
            ]
          },
          "metadata": {
            "tags": []
          },
          "execution_count": 522
        }
      ]
    },
    {
      "cell_type": "code",
      "metadata": {
        "id": "ZYZM4Onqx4KH",
        "colab_type": "code",
        "colab": {
          "base_uri": "https://localhost:8080/",
          "height": 112
        },
        "outputId": "55af8477-b770-4dfd-b280-fa852cd74fdf"
      },
      "source": [
        "# Resultados raros\n",
        "pd.concat([df1, df2], axis=1)['var_2']"
      ],
      "execution_count": 523,
      "outputs": [
        {
          "output_type": "execute_result",
          "data": {
            "text/html": [
              "<div>\n",
              "<style scoped>\n",
              "    .dataframe tbody tr th:only-of-type {\n",
              "        vertical-align: middle;\n",
              "    }\n",
              "\n",
              "    .dataframe tbody tr th {\n",
              "        vertical-align: top;\n",
              "    }\n",
              "\n",
              "    .dataframe thead th {\n",
              "        text-align: right;\n",
              "    }\n",
              "</style>\n",
              "<table border=\"1\" class=\"dataframe\">\n",
              "  <thead>\n",
              "    <tr style=\"text-align: right;\">\n",
              "      <th></th>\n",
              "      <th>var_2</th>\n",
              "      <th>var_2</th>\n",
              "    </tr>\n",
              "  </thead>\n",
              "  <tbody>\n",
              "    <tr>\n",
              "      <th>0</th>\n",
              "      <td>3</td>\n",
              "      <td>7</td>\n",
              "    </tr>\n",
              "    <tr>\n",
              "      <th>1</th>\n",
              "      <td>4</td>\n",
              "      <td>8</td>\n",
              "    </tr>\n",
              "  </tbody>\n",
              "</table>\n",
              "</div>"
            ],
            "text/plain": [
              "   var_2  var_2\n",
              "0      3      7\n",
              "1      4      8"
            ]
          },
          "metadata": {
            "tags": []
          },
          "execution_count": 523
        }
      ]
    },
    {
      "cell_type": "markdown",
      "metadata": {
        "id": "U07toSMyAqeE",
        "colab_type": "text"
      },
      "source": [
        "## Operaciones adicionales útiles con Pandas"
      ]
    },
    {
      "cell_type": "markdown",
      "metadata": {
        "id": "zElLz8AoAtuT",
        "colab_type": "text"
      },
      "source": [
        "### Multi-indexamiento"
      ]
    },
    {
      "cell_type": "code",
      "metadata": {
        "id": "StCQiSjCAlBl",
        "colab_type": "code",
        "colab": {
          "base_uri": "https://localhost:8080/",
          "height": 363
        },
        "outputId": "0e73b68f-efc6-4bd4-b912-d7f8e1bf7f83"
      },
      "source": [
        "import numpy as np\n",
        "import pandas as pd\n",
        "\n",
        "df_ventas = pd.DataFrame({'Oficina': [1,1,1,2,2,2,3,3,3,3],\n",
        "                          'Producto': ['a', 'b', 'c', 'a', 'b', 'c', 'a', 'b', 'c','d'],\n",
        "                          'Valor': np.random.randint(20, size=10)})\n",
        "df_ventas"
      ],
      "execution_count": 524,
      "outputs": [
        {
          "output_type": "execute_result",
          "data": {
            "text/html": [
              "<div>\n",
              "<style scoped>\n",
              "    .dataframe tbody tr th:only-of-type {\n",
              "        vertical-align: middle;\n",
              "    }\n",
              "\n",
              "    .dataframe tbody tr th {\n",
              "        vertical-align: top;\n",
              "    }\n",
              "\n",
              "    .dataframe thead th {\n",
              "        text-align: right;\n",
              "    }\n",
              "</style>\n",
              "<table border=\"1\" class=\"dataframe\">\n",
              "  <thead>\n",
              "    <tr style=\"text-align: right;\">\n",
              "      <th></th>\n",
              "      <th>Oficina</th>\n",
              "      <th>Producto</th>\n",
              "      <th>Valor</th>\n",
              "    </tr>\n",
              "  </thead>\n",
              "  <tbody>\n",
              "    <tr>\n",
              "      <th>0</th>\n",
              "      <td>1</td>\n",
              "      <td>a</td>\n",
              "      <td>18</td>\n",
              "    </tr>\n",
              "    <tr>\n",
              "      <th>1</th>\n",
              "      <td>1</td>\n",
              "      <td>b</td>\n",
              "      <td>1</td>\n",
              "    </tr>\n",
              "    <tr>\n",
              "      <th>2</th>\n",
              "      <td>1</td>\n",
              "      <td>c</td>\n",
              "      <td>12</td>\n",
              "    </tr>\n",
              "    <tr>\n",
              "      <th>3</th>\n",
              "      <td>2</td>\n",
              "      <td>a</td>\n",
              "      <td>8</td>\n",
              "    </tr>\n",
              "    <tr>\n",
              "      <th>4</th>\n",
              "      <td>2</td>\n",
              "      <td>b</td>\n",
              "      <td>6</td>\n",
              "    </tr>\n",
              "    <tr>\n",
              "      <th>5</th>\n",
              "      <td>2</td>\n",
              "      <td>c</td>\n",
              "      <td>19</td>\n",
              "    </tr>\n",
              "    <tr>\n",
              "      <th>6</th>\n",
              "      <td>3</td>\n",
              "      <td>a</td>\n",
              "      <td>17</td>\n",
              "    </tr>\n",
              "    <tr>\n",
              "      <th>7</th>\n",
              "      <td>3</td>\n",
              "      <td>b</td>\n",
              "      <td>1</td>\n",
              "    </tr>\n",
              "    <tr>\n",
              "      <th>8</th>\n",
              "      <td>3</td>\n",
              "      <td>c</td>\n",
              "      <td>15</td>\n",
              "    </tr>\n",
              "    <tr>\n",
              "      <th>9</th>\n",
              "      <td>3</td>\n",
              "      <td>d</td>\n",
              "      <td>19</td>\n",
              "    </tr>\n",
              "  </tbody>\n",
              "</table>\n",
              "</div>"
            ],
            "text/plain": [
              "   Oficina Producto  Valor\n",
              "0        1        a     18\n",
              "1        1        b      1\n",
              "2        1        c     12\n",
              "3        2        a      8\n",
              "4        2        b      6\n",
              "5        2        c     19\n",
              "6        3        a     17\n",
              "7        3        b      1\n",
              "8        3        c     15\n",
              "9        3        d     19"
            ]
          },
          "metadata": {
            "tags": []
          },
          "execution_count": 524
        }
      ]
    },
    {
      "cell_type": "code",
      "metadata": {
        "id": "IXBqe-BbyVNk",
        "colab_type": "code",
        "colab": {
          "base_uri": "https://localhost:8080/",
          "height": 144
        },
        "outputId": "03c149dc-9cf9-4b07-b598-eae4bd86f3ba"
      },
      "source": [
        "# Ventas de oficina 1\n",
        "df_ventas[df_ventas['Oficina'] == 1]"
      ],
      "execution_count": 525,
      "outputs": [
        {
          "output_type": "execute_result",
          "data": {
            "text/html": [
              "<div>\n",
              "<style scoped>\n",
              "    .dataframe tbody tr th:only-of-type {\n",
              "        vertical-align: middle;\n",
              "    }\n",
              "\n",
              "    .dataframe tbody tr th {\n",
              "        vertical-align: top;\n",
              "    }\n",
              "\n",
              "    .dataframe thead th {\n",
              "        text-align: right;\n",
              "    }\n",
              "</style>\n",
              "<table border=\"1\" class=\"dataframe\">\n",
              "  <thead>\n",
              "    <tr style=\"text-align: right;\">\n",
              "      <th></th>\n",
              "      <th>Oficina</th>\n",
              "      <th>Producto</th>\n",
              "      <th>Valor</th>\n",
              "    </tr>\n",
              "  </thead>\n",
              "  <tbody>\n",
              "    <tr>\n",
              "      <th>0</th>\n",
              "      <td>1</td>\n",
              "      <td>a</td>\n",
              "      <td>18</td>\n",
              "    </tr>\n",
              "    <tr>\n",
              "      <th>1</th>\n",
              "      <td>1</td>\n",
              "      <td>b</td>\n",
              "      <td>1</td>\n",
              "    </tr>\n",
              "    <tr>\n",
              "      <th>2</th>\n",
              "      <td>1</td>\n",
              "      <td>c</td>\n",
              "      <td>12</td>\n",
              "    </tr>\n",
              "  </tbody>\n",
              "</table>\n",
              "</div>"
            ],
            "text/plain": [
              "   Oficina Producto  Valor\n",
              "0        1        a     18\n",
              "1        1        b      1\n",
              "2        1        c     12"
            ]
          },
          "metadata": {
            "tags": []
          },
          "execution_count": 525
        }
      ]
    },
    {
      "cell_type": "code",
      "metadata": {
        "id": "0X9JIu3Syc70",
        "colab_type": "code",
        "colab": {
          "base_uri": "https://localhost:8080/",
          "height": 238
        },
        "outputId": "fbfd7055-c647-4d57-a2f5-9c6eb4946c04"
      },
      "source": [
        "# Ventas de oficinas 1 y 2\n",
        "df_ventas[df_ventas['Oficina'].isin([1,2])]"
      ],
      "execution_count": 526,
      "outputs": [
        {
          "output_type": "execute_result",
          "data": {
            "text/html": [
              "<div>\n",
              "<style scoped>\n",
              "    .dataframe tbody tr th:only-of-type {\n",
              "        vertical-align: middle;\n",
              "    }\n",
              "\n",
              "    .dataframe tbody tr th {\n",
              "        vertical-align: top;\n",
              "    }\n",
              "\n",
              "    .dataframe thead th {\n",
              "        text-align: right;\n",
              "    }\n",
              "</style>\n",
              "<table border=\"1\" class=\"dataframe\">\n",
              "  <thead>\n",
              "    <tr style=\"text-align: right;\">\n",
              "      <th></th>\n",
              "      <th>Oficina</th>\n",
              "      <th>Producto</th>\n",
              "      <th>Valor</th>\n",
              "    </tr>\n",
              "  </thead>\n",
              "  <tbody>\n",
              "    <tr>\n",
              "      <th>0</th>\n",
              "      <td>1</td>\n",
              "      <td>a</td>\n",
              "      <td>18</td>\n",
              "    </tr>\n",
              "    <tr>\n",
              "      <th>1</th>\n",
              "      <td>1</td>\n",
              "      <td>b</td>\n",
              "      <td>1</td>\n",
              "    </tr>\n",
              "    <tr>\n",
              "      <th>2</th>\n",
              "      <td>1</td>\n",
              "      <td>c</td>\n",
              "      <td>12</td>\n",
              "    </tr>\n",
              "    <tr>\n",
              "      <th>3</th>\n",
              "      <td>2</td>\n",
              "      <td>a</td>\n",
              "      <td>8</td>\n",
              "    </tr>\n",
              "    <tr>\n",
              "      <th>4</th>\n",
              "      <td>2</td>\n",
              "      <td>b</td>\n",
              "      <td>6</td>\n",
              "    </tr>\n",
              "    <tr>\n",
              "      <th>5</th>\n",
              "      <td>2</td>\n",
              "      <td>c</td>\n",
              "      <td>19</td>\n",
              "    </tr>\n",
              "  </tbody>\n",
              "</table>\n",
              "</div>"
            ],
            "text/plain": [
              "   Oficina Producto  Valor\n",
              "0        1        a     18\n",
              "1        1        b      1\n",
              "2        1        c     12\n",
              "3        2        a      8\n",
              "4        2        b      6\n",
              "5        2        c     19"
            ]
          },
          "metadata": {
            "tags": []
          },
          "execution_count": 526
        }
      ]
    },
    {
      "cell_type": "code",
      "metadata": {
        "id": "h0qtJEXxyocE",
        "colab_type": "code",
        "colab": {
          "base_uri": "https://localhost:8080/",
          "height": 395
        },
        "outputId": "e5f12ed5-678b-4ef4-8c0e-94a0ae9903e9"
      },
      "source": [
        "df_ventas = pd.DataFrame({'Valor': np.random.random(10)},\n",
        "                         index=[[1,1,1,2,2,2,3,3,3,3], \n",
        "                                ['a', 'b', 'c', 'a', 'b', 'c', 'a', 'b', 'c','d']])\n",
        "# Se vuelve la oficina un índice\n",
        "df_ventas = df_ventas.rename_axis(['Oficina','Producto'])\n",
        "df_ventas"
      ],
      "execution_count": 527,
      "outputs": [
        {
          "output_type": "execute_result",
          "data": {
            "text/html": [
              "<div>\n",
              "<style scoped>\n",
              "    .dataframe tbody tr th:only-of-type {\n",
              "        vertical-align: middle;\n",
              "    }\n",
              "\n",
              "    .dataframe tbody tr th {\n",
              "        vertical-align: top;\n",
              "    }\n",
              "\n",
              "    .dataframe thead th {\n",
              "        text-align: right;\n",
              "    }\n",
              "</style>\n",
              "<table border=\"1\" class=\"dataframe\">\n",
              "  <thead>\n",
              "    <tr style=\"text-align: right;\">\n",
              "      <th></th>\n",
              "      <th></th>\n",
              "      <th>Valor</th>\n",
              "    </tr>\n",
              "    <tr>\n",
              "      <th>Oficina</th>\n",
              "      <th>Producto</th>\n",
              "      <th></th>\n",
              "    </tr>\n",
              "  </thead>\n",
              "  <tbody>\n",
              "    <tr>\n",
              "      <th rowspan=\"3\" valign=\"top\">1</th>\n",
              "      <th>a</th>\n",
              "      <td>0.347043</td>\n",
              "    </tr>\n",
              "    <tr>\n",
              "      <th>b</th>\n",
              "      <td>0.914267</td>\n",
              "    </tr>\n",
              "    <tr>\n",
              "      <th>c</th>\n",
              "      <td>0.400664</td>\n",
              "    </tr>\n",
              "    <tr>\n",
              "      <th rowspan=\"3\" valign=\"top\">2</th>\n",
              "      <th>a</th>\n",
              "      <td>0.641765</td>\n",
              "    </tr>\n",
              "    <tr>\n",
              "      <th>b</th>\n",
              "      <td>0.906480</td>\n",
              "    </tr>\n",
              "    <tr>\n",
              "      <th>c</th>\n",
              "      <td>0.023264</td>\n",
              "    </tr>\n",
              "    <tr>\n",
              "      <th rowspan=\"4\" valign=\"top\">3</th>\n",
              "      <th>a</th>\n",
              "      <td>0.858902</td>\n",
              "    </tr>\n",
              "    <tr>\n",
              "      <th>b</th>\n",
              "      <td>0.575298</td>\n",
              "    </tr>\n",
              "    <tr>\n",
              "      <th>c</th>\n",
              "      <td>0.522716</td>\n",
              "    </tr>\n",
              "    <tr>\n",
              "      <th>d</th>\n",
              "      <td>0.253971</td>\n",
              "    </tr>\n",
              "  </tbody>\n",
              "</table>\n",
              "</div>"
            ],
            "text/plain": [
              "                     Valor\n",
              "Oficina Producto          \n",
              "1       a         0.347043\n",
              "        b         0.914267\n",
              "        c         0.400664\n",
              "2       a         0.641765\n",
              "        b         0.906480\n",
              "        c         0.023264\n",
              "3       a         0.858902\n",
              "        b         0.575298\n",
              "        c         0.522716\n",
              "        d         0.253971"
            ]
          },
          "metadata": {
            "tags": []
          },
          "execution_count": 527
        }
      ]
    },
    {
      "cell_type": "code",
      "metadata": {
        "id": "I4Ye2xs9y_e-",
        "colab_type": "code",
        "colab": {
          "base_uri": "https://localhost:8080/",
          "height": 175
        },
        "outputId": "82133352-ba3f-47c9-95df-645ed1b29f36"
      },
      "source": [
        "df_ventas.loc[1]"
      ],
      "execution_count": 528,
      "outputs": [
        {
          "output_type": "execute_result",
          "data": {
            "text/html": [
              "<div>\n",
              "<style scoped>\n",
              "    .dataframe tbody tr th:only-of-type {\n",
              "        vertical-align: middle;\n",
              "    }\n",
              "\n",
              "    .dataframe tbody tr th {\n",
              "        vertical-align: top;\n",
              "    }\n",
              "\n",
              "    .dataframe thead th {\n",
              "        text-align: right;\n",
              "    }\n",
              "</style>\n",
              "<table border=\"1\" class=\"dataframe\">\n",
              "  <thead>\n",
              "    <tr style=\"text-align: right;\">\n",
              "      <th></th>\n",
              "      <th>Valor</th>\n",
              "    </tr>\n",
              "    <tr>\n",
              "      <th>Producto</th>\n",
              "      <th></th>\n",
              "    </tr>\n",
              "  </thead>\n",
              "  <tbody>\n",
              "    <tr>\n",
              "      <th>a</th>\n",
              "      <td>0.347043</td>\n",
              "    </tr>\n",
              "    <tr>\n",
              "      <th>b</th>\n",
              "      <td>0.914267</td>\n",
              "    </tr>\n",
              "    <tr>\n",
              "      <th>c</th>\n",
              "      <td>0.400664</td>\n",
              "    </tr>\n",
              "  </tbody>\n",
              "</table>\n",
              "</div>"
            ],
            "text/plain": [
              "             Valor\n",
              "Producto          \n",
              "a         0.347043\n",
              "b         0.914267\n",
              "c         0.400664"
            ]
          },
          "metadata": {
            "tags": []
          },
          "execution_count": 528
        }
      ]
    },
    {
      "cell_type": "code",
      "metadata": {
        "id": "OOWHdif9zBaS",
        "colab_type": "code",
        "colab": {
          "base_uri": "https://localhost:8080/",
          "height": 269
        },
        "outputId": "22457e15-eec0-45c2-9218-2a21f26fae8f"
      },
      "source": [
        "df_ventas.loc[1:2]"
      ],
      "execution_count": 529,
      "outputs": [
        {
          "output_type": "execute_result",
          "data": {
            "text/html": [
              "<div>\n",
              "<style scoped>\n",
              "    .dataframe tbody tr th:only-of-type {\n",
              "        vertical-align: middle;\n",
              "    }\n",
              "\n",
              "    .dataframe tbody tr th {\n",
              "        vertical-align: top;\n",
              "    }\n",
              "\n",
              "    .dataframe thead th {\n",
              "        text-align: right;\n",
              "    }\n",
              "</style>\n",
              "<table border=\"1\" class=\"dataframe\">\n",
              "  <thead>\n",
              "    <tr style=\"text-align: right;\">\n",
              "      <th></th>\n",
              "      <th></th>\n",
              "      <th>Valor</th>\n",
              "    </tr>\n",
              "    <tr>\n",
              "      <th>Oficina</th>\n",
              "      <th>Producto</th>\n",
              "      <th></th>\n",
              "    </tr>\n",
              "  </thead>\n",
              "  <tbody>\n",
              "    <tr>\n",
              "      <th rowspan=\"3\" valign=\"top\">1</th>\n",
              "      <th>a</th>\n",
              "      <td>0.347043</td>\n",
              "    </tr>\n",
              "    <tr>\n",
              "      <th>b</th>\n",
              "      <td>0.914267</td>\n",
              "    </tr>\n",
              "    <tr>\n",
              "      <th>c</th>\n",
              "      <td>0.400664</td>\n",
              "    </tr>\n",
              "    <tr>\n",
              "      <th rowspan=\"3\" valign=\"top\">2</th>\n",
              "      <th>a</th>\n",
              "      <td>0.641765</td>\n",
              "    </tr>\n",
              "    <tr>\n",
              "      <th>b</th>\n",
              "      <td>0.906480</td>\n",
              "    </tr>\n",
              "    <tr>\n",
              "      <th>c</th>\n",
              "      <td>0.023264</td>\n",
              "    </tr>\n",
              "  </tbody>\n",
              "</table>\n",
              "</div>"
            ],
            "text/plain": [
              "                     Valor\n",
              "Oficina Producto          \n",
              "1       a         0.347043\n",
              "        b         0.914267\n",
              "        c         0.400664\n",
              "2       a         0.641765\n",
              "        b         0.906480\n",
              "        c         0.023264"
            ]
          },
          "metadata": {
            "tags": []
          },
          "execution_count": 529
        }
      ]
    },
    {
      "cell_type": "markdown",
      "metadata": {
        "id": "ZMamJ_E9B9ke",
        "colab_type": "text"
      },
      "source": [
        "### Intercambiando niveles de multi-indexamiento\n"
      ]
    },
    {
      "cell_type": "code",
      "metadata": {
        "id": "_Hrn0pPHB9KP",
        "colab_type": "code",
        "colab": {
          "base_uri": "https://localhost:8080/",
          "height": 395
        },
        "outputId": "208e147c-d766-4622-bbf5-09078d4242b9"
      },
      "source": [
        "#df_ventas\n",
        "df_ventas2 = df_ventas.swaplevel('Oficina','Producto')\n",
        "df_ventas2"
      ],
      "execution_count": 530,
      "outputs": [
        {
          "output_type": "execute_result",
          "data": {
            "text/html": [
              "<div>\n",
              "<style scoped>\n",
              "    .dataframe tbody tr th:only-of-type {\n",
              "        vertical-align: middle;\n",
              "    }\n",
              "\n",
              "    .dataframe tbody tr th {\n",
              "        vertical-align: top;\n",
              "    }\n",
              "\n",
              "    .dataframe thead th {\n",
              "        text-align: right;\n",
              "    }\n",
              "</style>\n",
              "<table border=\"1\" class=\"dataframe\">\n",
              "  <thead>\n",
              "    <tr style=\"text-align: right;\">\n",
              "      <th></th>\n",
              "      <th></th>\n",
              "      <th>Valor</th>\n",
              "    </tr>\n",
              "    <tr>\n",
              "      <th>Producto</th>\n",
              "      <th>Oficina</th>\n",
              "      <th></th>\n",
              "    </tr>\n",
              "  </thead>\n",
              "  <tbody>\n",
              "    <tr>\n",
              "      <th>a</th>\n",
              "      <th>1</th>\n",
              "      <td>0.347043</td>\n",
              "    </tr>\n",
              "    <tr>\n",
              "      <th>b</th>\n",
              "      <th>1</th>\n",
              "      <td>0.914267</td>\n",
              "    </tr>\n",
              "    <tr>\n",
              "      <th>c</th>\n",
              "      <th>1</th>\n",
              "      <td>0.400664</td>\n",
              "    </tr>\n",
              "    <tr>\n",
              "      <th>a</th>\n",
              "      <th>2</th>\n",
              "      <td>0.641765</td>\n",
              "    </tr>\n",
              "    <tr>\n",
              "      <th>b</th>\n",
              "      <th>2</th>\n",
              "      <td>0.906480</td>\n",
              "    </tr>\n",
              "    <tr>\n",
              "      <th>c</th>\n",
              "      <th>2</th>\n",
              "      <td>0.023264</td>\n",
              "    </tr>\n",
              "    <tr>\n",
              "      <th>a</th>\n",
              "      <th>3</th>\n",
              "      <td>0.858902</td>\n",
              "    </tr>\n",
              "    <tr>\n",
              "      <th>b</th>\n",
              "      <th>3</th>\n",
              "      <td>0.575298</td>\n",
              "    </tr>\n",
              "    <tr>\n",
              "      <th>c</th>\n",
              "      <th>3</th>\n",
              "      <td>0.522716</td>\n",
              "    </tr>\n",
              "    <tr>\n",
              "      <th>d</th>\n",
              "      <th>3</th>\n",
              "      <td>0.253971</td>\n",
              "    </tr>\n",
              "  </tbody>\n",
              "</table>\n",
              "</div>"
            ],
            "text/plain": [
              "                     Valor\n",
              "Producto Oficina          \n",
              "a        1        0.347043\n",
              "b        1        0.914267\n",
              "c        1        0.400664\n",
              "a        2        0.641765\n",
              "b        2        0.906480\n",
              "c        2        0.023264\n",
              "a        3        0.858902\n",
              "b        3        0.575298\n",
              "c        3        0.522716\n",
              "d        3        0.253971"
            ]
          },
          "metadata": {
            "tags": []
          },
          "execution_count": 530
        }
      ]
    },
    {
      "cell_type": "code",
      "metadata": {
        "id": "bM-NDVmW0HOZ",
        "colab_type": "code",
        "colab": {
          "base_uri": "https://localhost:8080/",
          "height": 175
        },
        "outputId": "844446f3-deea-4d52-91cd-f11a8a57fc1b"
      },
      "source": [
        "df_ventas2.loc['a']"
      ],
      "execution_count": 531,
      "outputs": [
        {
          "output_type": "execute_result",
          "data": {
            "text/html": [
              "<div>\n",
              "<style scoped>\n",
              "    .dataframe tbody tr th:only-of-type {\n",
              "        vertical-align: middle;\n",
              "    }\n",
              "\n",
              "    .dataframe tbody tr th {\n",
              "        vertical-align: top;\n",
              "    }\n",
              "\n",
              "    .dataframe thead th {\n",
              "        text-align: right;\n",
              "    }\n",
              "</style>\n",
              "<table border=\"1\" class=\"dataframe\">\n",
              "  <thead>\n",
              "    <tr style=\"text-align: right;\">\n",
              "      <th></th>\n",
              "      <th>Valor</th>\n",
              "    </tr>\n",
              "    <tr>\n",
              "      <th>Oficina</th>\n",
              "      <th></th>\n",
              "    </tr>\n",
              "  </thead>\n",
              "  <tbody>\n",
              "    <tr>\n",
              "      <th>1</th>\n",
              "      <td>0.347043</td>\n",
              "    </tr>\n",
              "    <tr>\n",
              "      <th>2</th>\n",
              "      <td>0.641765</td>\n",
              "    </tr>\n",
              "    <tr>\n",
              "      <th>3</th>\n",
              "      <td>0.858902</td>\n",
              "    </tr>\n",
              "  </tbody>\n",
              "</table>\n",
              "</div>"
            ],
            "text/plain": [
              "            Valor\n",
              "Oficina          \n",
              "1        0.347043\n",
              "2        0.641765\n",
              "3        0.858902"
            ]
          },
          "metadata": {
            "tags": []
          },
          "execution_count": 531
        }
      ]
    },
    {
      "cell_type": "markdown",
      "metadata": {
        "id": "V5UPzQkuCFGP",
        "colab_type": "text"
      },
      "source": [
        "### Agregaciones por nivel de indexamiento"
      ]
    },
    {
      "cell_type": "code",
      "metadata": {
        "id": "qbS8p46vCHEo",
        "colab_type": "code",
        "colab": {
          "base_uri": "https://localhost:8080/",
          "height": 175
        },
        "outputId": "3cb69954-8472-4cd0-ddc5-c835d413f019"
      },
      "source": [
        "# Todas las ventas por oficina\n",
        "df_ventas.sum(level='Oficina')\n"
      ],
      "execution_count": 432,
      "outputs": [
        {
          "output_type": "execute_result",
          "data": {
            "text/html": [
              "<div>\n",
              "<style scoped>\n",
              "    .dataframe tbody tr th:only-of-type {\n",
              "        vertical-align: middle;\n",
              "    }\n",
              "\n",
              "    .dataframe tbody tr th {\n",
              "        vertical-align: top;\n",
              "    }\n",
              "\n",
              "    .dataframe thead th {\n",
              "        text-align: right;\n",
              "    }\n",
              "</style>\n",
              "<table border=\"1\" class=\"dataframe\">\n",
              "  <thead>\n",
              "    <tr style=\"text-align: right;\">\n",
              "      <th></th>\n",
              "      <th>Valor</th>\n",
              "    </tr>\n",
              "    <tr>\n",
              "      <th>Oficina</th>\n",
              "      <th></th>\n",
              "    </tr>\n",
              "  </thead>\n",
              "  <tbody>\n",
              "    <tr>\n",
              "      <th>1</th>\n",
              "      <td>1.720458</td>\n",
              "    </tr>\n",
              "    <tr>\n",
              "      <th>2</th>\n",
              "      <td>1.528225</td>\n",
              "    </tr>\n",
              "    <tr>\n",
              "      <th>3</th>\n",
              "      <td>1.722589</td>\n",
              "    </tr>\n",
              "  </tbody>\n",
              "</table>\n",
              "</div>"
            ],
            "text/plain": [
              "            Valor\n",
              "Oficina          \n",
              "1        1.720458\n",
              "2        1.528225\n",
              "3        1.722589"
            ]
          },
          "metadata": {
            "tags": []
          },
          "execution_count": 432
        }
      ]
    },
    {
      "cell_type": "code",
      "metadata": {
        "id": "9aRhcmr2CMHB",
        "colab_type": "code",
        "colab": {
          "base_uri": "https://localhost:8080/",
          "height": 206
        },
        "outputId": "f22ef383-7011-4122-f70c-4ef5fd8cd2b6"
      },
      "source": [
        "# # Todas las ventas por oficina\n",
        "df_ventas.sum(level='Producto')"
      ],
      "execution_count": 433,
      "outputs": [
        {
          "output_type": "execute_result",
          "data": {
            "text/html": [
              "<div>\n",
              "<style scoped>\n",
              "    .dataframe tbody tr th:only-of-type {\n",
              "        vertical-align: middle;\n",
              "    }\n",
              "\n",
              "    .dataframe tbody tr th {\n",
              "        vertical-align: top;\n",
              "    }\n",
              "\n",
              "    .dataframe thead th {\n",
              "        text-align: right;\n",
              "    }\n",
              "</style>\n",
              "<table border=\"1\" class=\"dataframe\">\n",
              "  <thead>\n",
              "    <tr style=\"text-align: right;\">\n",
              "      <th></th>\n",
              "      <th>Valor</th>\n",
              "    </tr>\n",
              "    <tr>\n",
              "      <th>Producto</th>\n",
              "      <th></th>\n",
              "    </tr>\n",
              "  </thead>\n",
              "  <tbody>\n",
              "    <tr>\n",
              "      <th>a</th>\n",
              "      <td>1.639970</td>\n",
              "    </tr>\n",
              "    <tr>\n",
              "      <th>b</th>\n",
              "      <td>1.864463</td>\n",
              "    </tr>\n",
              "    <tr>\n",
              "      <th>c</th>\n",
              "      <td>1.355901</td>\n",
              "    </tr>\n",
              "    <tr>\n",
              "      <th>d</th>\n",
              "      <td>0.110937</td>\n",
              "    </tr>\n",
              "  </tbody>\n",
              "</table>\n",
              "</div>"
            ],
            "text/plain": [
              "             Valor\n",
              "Producto          \n",
              "a         1.639970\n",
              "b         1.864463\n",
              "c         1.355901\n",
              "d         0.110937"
            ]
          },
          "metadata": {
            "tags": []
          },
          "execution_count": 433
        }
      ]
    },
    {
      "cell_type": "markdown",
      "metadata": {
        "id": "R9SHSVnPCO3B",
        "colab_type": "text"
      },
      "source": [
        "### Tablas pivote"
      ]
    },
    {
      "cell_type": "code",
      "metadata": {
        "id": "R-r5bKNuCN64",
        "colab_type": "code",
        "colab": {
          "base_uri": "https://localhost:8080/",
          "height": 238
        },
        "outputId": "8c59d43e-7ea8-49ef-c350-8f4fb2c61ce5"
      },
      "source": [
        "df_ventas = pd.DataFrame({'Oficina': [1,1,1,2,2,2,3,3,3,3],\n",
        "                          'Producto': ['a', 'b', 'c', 'a', 'b', 'c', 'a', 'b', 'c','d'],\n",
        "                          'Valor': np.random.randint(20, size=10)})\n",
        "df_ventas[df_ventas['Oficina'].isin([1,2])]\n"
      ],
      "execution_count": 532,
      "outputs": [
        {
          "output_type": "execute_result",
          "data": {
            "text/html": [
              "<div>\n",
              "<style scoped>\n",
              "    .dataframe tbody tr th:only-of-type {\n",
              "        vertical-align: middle;\n",
              "    }\n",
              "\n",
              "    .dataframe tbody tr th {\n",
              "        vertical-align: top;\n",
              "    }\n",
              "\n",
              "    .dataframe thead th {\n",
              "        text-align: right;\n",
              "    }\n",
              "</style>\n",
              "<table border=\"1\" class=\"dataframe\">\n",
              "  <thead>\n",
              "    <tr style=\"text-align: right;\">\n",
              "      <th></th>\n",
              "      <th>Oficina</th>\n",
              "      <th>Producto</th>\n",
              "      <th>Valor</th>\n",
              "    </tr>\n",
              "  </thead>\n",
              "  <tbody>\n",
              "    <tr>\n",
              "      <th>0</th>\n",
              "      <td>1</td>\n",
              "      <td>a</td>\n",
              "      <td>13</td>\n",
              "    </tr>\n",
              "    <tr>\n",
              "      <th>1</th>\n",
              "      <td>1</td>\n",
              "      <td>b</td>\n",
              "      <td>3</td>\n",
              "    </tr>\n",
              "    <tr>\n",
              "      <th>2</th>\n",
              "      <td>1</td>\n",
              "      <td>c</td>\n",
              "      <td>17</td>\n",
              "    </tr>\n",
              "    <tr>\n",
              "      <th>3</th>\n",
              "      <td>2</td>\n",
              "      <td>a</td>\n",
              "      <td>10</td>\n",
              "    </tr>\n",
              "    <tr>\n",
              "      <th>4</th>\n",
              "      <td>2</td>\n",
              "      <td>b</td>\n",
              "      <td>19</td>\n",
              "    </tr>\n",
              "    <tr>\n",
              "      <th>5</th>\n",
              "      <td>2</td>\n",
              "      <td>c</td>\n",
              "      <td>9</td>\n",
              "    </tr>\n",
              "  </tbody>\n",
              "</table>\n",
              "</div>"
            ],
            "text/plain": [
              "   Oficina Producto  Valor\n",
              "0        1        a     13\n",
              "1        1        b      3\n",
              "2        1        c     17\n",
              "3        2        a     10\n",
              "4        2        b     19\n",
              "5        2        c      9"
            ]
          },
          "metadata": {
            "tags": []
          },
          "execution_count": 532
        }
      ]
    },
    {
      "cell_type": "code",
      "metadata": {
        "id": "7vjiplXA18lR",
        "colab_type": "code",
        "colab": {
          "base_uri": "https://localhost:8080/",
          "height": 175
        },
        "outputId": "706ec673-fe09-41eb-b562-51ca8d14eae0"
      },
      "source": [
        "df_ventas.pivot(index='Oficina', columns='Producto', values='Valor')"
      ],
      "execution_count": 533,
      "outputs": [
        {
          "output_type": "execute_result",
          "data": {
            "text/html": [
              "<div>\n",
              "<style scoped>\n",
              "    .dataframe tbody tr th:only-of-type {\n",
              "        vertical-align: middle;\n",
              "    }\n",
              "\n",
              "    .dataframe tbody tr th {\n",
              "        vertical-align: top;\n",
              "    }\n",
              "\n",
              "    .dataframe thead th {\n",
              "        text-align: right;\n",
              "    }\n",
              "</style>\n",
              "<table border=\"1\" class=\"dataframe\">\n",
              "  <thead>\n",
              "    <tr style=\"text-align: right;\">\n",
              "      <th>Producto</th>\n",
              "      <th>a</th>\n",
              "      <th>b</th>\n",
              "      <th>c</th>\n",
              "      <th>d</th>\n",
              "    </tr>\n",
              "    <tr>\n",
              "      <th>Oficina</th>\n",
              "      <th></th>\n",
              "      <th></th>\n",
              "      <th></th>\n",
              "      <th></th>\n",
              "    </tr>\n",
              "  </thead>\n",
              "  <tbody>\n",
              "    <tr>\n",
              "      <th>1</th>\n",
              "      <td>13.0</td>\n",
              "      <td>3.0</td>\n",
              "      <td>17.0</td>\n",
              "      <td>NaN</td>\n",
              "    </tr>\n",
              "    <tr>\n",
              "      <th>2</th>\n",
              "      <td>10.0</td>\n",
              "      <td>19.0</td>\n",
              "      <td>9.0</td>\n",
              "      <td>NaN</td>\n",
              "    </tr>\n",
              "    <tr>\n",
              "      <th>3</th>\n",
              "      <td>1.0</td>\n",
              "      <td>5.0</td>\n",
              "      <td>3.0</td>\n",
              "      <td>18.0</td>\n",
              "    </tr>\n",
              "  </tbody>\n",
              "</table>\n",
              "</div>"
            ],
            "text/plain": [
              "Producto     a     b     c     d\n",
              "Oficina                         \n",
              "1         13.0   3.0  17.0   NaN\n",
              "2         10.0  19.0   9.0   NaN\n",
              "3          1.0   5.0   3.0  18.0"
            ]
          },
          "metadata": {
            "tags": []
          },
          "execution_count": 533
        }
      ]
    },
    {
      "cell_type": "markdown",
      "metadata": {
        "id": "-HHOHntQ2LOj",
        "colab_type": "text"
      },
      "source": [
        "### Selección de sub dataframes por columna"
      ]
    },
    {
      "cell_type": "code",
      "metadata": {
        "id": "pg4BWzL52MDX",
        "colab_type": "code",
        "colab": {
          "base_uri": "https://localhost:8080/",
          "height": 208
        },
        "outputId": "e188b5c2-3cff-4218-eac1-d2fdf0a712dc"
      },
      "source": [
        "df_ventas['Producto']"
      ],
      "execution_count": 436,
      "outputs": [
        {
          "output_type": "execute_result",
          "data": {
            "text/plain": [
              "0    a\n",
              "1    b\n",
              "2    c\n",
              "3    a\n",
              "4    b\n",
              "5    c\n",
              "6    a\n",
              "7    b\n",
              "8    c\n",
              "9    d\n",
              "Name: Producto, dtype: object"
            ]
          },
          "metadata": {
            "tags": []
          },
          "execution_count": 436
        }
      ]
    },
    {
      "cell_type": "code",
      "metadata": {
        "id": "52HieqEw2RYv",
        "colab_type": "code",
        "colab": {
          "base_uri": "https://localhost:8080/",
          "height": 363
        },
        "outputId": "83e10e4d-6fe2-47e8-e77e-c801852eed42"
      },
      "source": [
        "df_ventas[['Producto', 'Valor']]"
      ],
      "execution_count": 437,
      "outputs": [
        {
          "output_type": "execute_result",
          "data": {
            "text/html": [
              "<div>\n",
              "<style scoped>\n",
              "    .dataframe tbody tr th:only-of-type {\n",
              "        vertical-align: middle;\n",
              "    }\n",
              "\n",
              "    .dataframe tbody tr th {\n",
              "        vertical-align: top;\n",
              "    }\n",
              "\n",
              "    .dataframe thead th {\n",
              "        text-align: right;\n",
              "    }\n",
              "</style>\n",
              "<table border=\"1\" class=\"dataframe\">\n",
              "  <thead>\n",
              "    <tr style=\"text-align: right;\">\n",
              "      <th></th>\n",
              "      <th>Producto</th>\n",
              "      <th>Valor</th>\n",
              "    </tr>\n",
              "  </thead>\n",
              "  <tbody>\n",
              "    <tr>\n",
              "      <th>0</th>\n",
              "      <td>a</td>\n",
              "      <td>2</td>\n",
              "    </tr>\n",
              "    <tr>\n",
              "      <th>1</th>\n",
              "      <td>b</td>\n",
              "      <td>9</td>\n",
              "    </tr>\n",
              "    <tr>\n",
              "      <th>2</th>\n",
              "      <td>c</td>\n",
              "      <td>17</td>\n",
              "    </tr>\n",
              "    <tr>\n",
              "      <th>3</th>\n",
              "      <td>a</td>\n",
              "      <td>12</td>\n",
              "    </tr>\n",
              "    <tr>\n",
              "      <th>4</th>\n",
              "      <td>b</td>\n",
              "      <td>0</td>\n",
              "    </tr>\n",
              "    <tr>\n",
              "      <th>5</th>\n",
              "      <td>c</td>\n",
              "      <td>12</td>\n",
              "    </tr>\n",
              "    <tr>\n",
              "      <th>6</th>\n",
              "      <td>a</td>\n",
              "      <td>19</td>\n",
              "    </tr>\n",
              "    <tr>\n",
              "      <th>7</th>\n",
              "      <td>b</td>\n",
              "      <td>17</td>\n",
              "    </tr>\n",
              "    <tr>\n",
              "      <th>8</th>\n",
              "      <td>c</td>\n",
              "      <td>16</td>\n",
              "    </tr>\n",
              "    <tr>\n",
              "      <th>9</th>\n",
              "      <td>d</td>\n",
              "      <td>9</td>\n",
              "    </tr>\n",
              "  </tbody>\n",
              "</table>\n",
              "</div>"
            ],
            "text/plain": [
              "  Producto  Valor\n",
              "0        a      2\n",
              "1        b      9\n",
              "2        c     17\n",
              "3        a     12\n",
              "4        b      0\n",
              "5        c     12\n",
              "6        a     19\n",
              "7        b     17\n",
              "8        c     16\n",
              "9        d      9"
            ]
          },
          "metadata": {
            "tags": []
          },
          "execution_count": 437
        }
      ]
    },
    {
      "cell_type": "markdown",
      "metadata": {
        "id": "hb4x0xzU2aUR",
        "colab_type": "text"
      },
      "source": [
        "### Ordenamientos"
      ]
    },
    {
      "cell_type": "code",
      "metadata": {
        "id": "T37v0yvS2bUi",
        "colab_type": "code",
        "colab": {
          "base_uri": "https://localhost:8080/",
          "height": 238
        },
        "outputId": "e12e8020-6cff-45aa-9ecf-7847dfa55677"
      },
      "source": [
        "Empleado.sort_values(by='IDDepartamento')\n"
      ],
      "execution_count": 438,
      "outputs": [
        {
          "output_type": "execute_result",
          "data": {
            "text/html": [
              "<div>\n",
              "<style scoped>\n",
              "    .dataframe tbody tr th:only-of-type {\n",
              "        vertical-align: middle;\n",
              "    }\n",
              "\n",
              "    .dataframe tbody tr th {\n",
              "        vertical-align: top;\n",
              "    }\n",
              "\n",
              "    .dataframe thead th {\n",
              "        text-align: right;\n",
              "    }\n",
              "</style>\n",
              "<table border=\"1\" class=\"dataframe\">\n",
              "  <thead>\n",
              "    <tr style=\"text-align: right;\">\n",
              "      <th></th>\n",
              "      <th>Apellido</th>\n",
              "      <th>IDDepartamento</th>\n",
              "      <th>Edad</th>\n",
              "      <th>Edad_meses</th>\n",
              "    </tr>\n",
              "  </thead>\n",
              "  <tbody>\n",
              "    <tr>\n",
              "      <th>0</th>\n",
              "      <td>Andrade</td>\n",
              "      <td>31</td>\n",
              "      <td>20</td>\n",
              "      <td>240</td>\n",
              "    </tr>\n",
              "    <tr>\n",
              "      <th>1</th>\n",
              "      <td>Jordán</td>\n",
              "      <td>33</td>\n",
              "      <td>23</td>\n",
              "      <td>276</td>\n",
              "    </tr>\n",
              "    <tr>\n",
              "      <th>2</th>\n",
              "      <td>Steinberg</td>\n",
              "      <td>33</td>\n",
              "      <td>45</td>\n",
              "      <td>540</td>\n",
              "    </tr>\n",
              "    <tr>\n",
              "      <th>3</th>\n",
              "      <td>Róbinson</td>\n",
              "      <td>34</td>\n",
              "      <td>48</td>\n",
              "      <td>576</td>\n",
              "    </tr>\n",
              "    <tr>\n",
              "      <th>4</th>\n",
              "      <td>Zolano</td>\n",
              "      <td>34</td>\n",
              "      <td>56</td>\n",
              "      <td>672</td>\n",
              "    </tr>\n",
              "    <tr>\n",
              "      <th>5</th>\n",
              "      <td>Gaspar</td>\n",
              "      <td>36</td>\n",
              "      <td>32</td>\n",
              "      <td>384</td>\n",
              "    </tr>\n",
              "  </tbody>\n",
              "</table>\n",
              "</div>"
            ],
            "text/plain": [
              "    Apellido  IDDepartamento  Edad  Edad_meses\n",
              "0    Andrade              31    20         240\n",
              "1     Jordán              33    23         276\n",
              "2  Steinberg              33    45         540\n",
              "3   Róbinson              34    48         576\n",
              "4     Zolano              34    56         672\n",
              "5     Gaspar              36    32         384"
            ]
          },
          "metadata": {
            "tags": []
          },
          "execution_count": 438
        }
      ]
    },
    {
      "cell_type": "code",
      "metadata": {
        "id": "g-OgHzGe3MFd",
        "colab_type": "code",
        "colab": {
          "base_uri": "https://localhost:8080/",
          "height": 238
        },
        "outputId": "0fb26910-fb9a-4a35-b057-6fc2fce7e5d5"
      },
      "source": [
        "Empleado.sort_values(by='IDDepartamento', ascending=False)"
      ],
      "execution_count": 439,
      "outputs": [
        {
          "output_type": "execute_result",
          "data": {
            "text/html": [
              "<div>\n",
              "<style scoped>\n",
              "    .dataframe tbody tr th:only-of-type {\n",
              "        vertical-align: middle;\n",
              "    }\n",
              "\n",
              "    .dataframe tbody tr th {\n",
              "        vertical-align: top;\n",
              "    }\n",
              "\n",
              "    .dataframe thead th {\n",
              "        text-align: right;\n",
              "    }\n",
              "</style>\n",
              "<table border=\"1\" class=\"dataframe\">\n",
              "  <thead>\n",
              "    <tr style=\"text-align: right;\">\n",
              "      <th></th>\n",
              "      <th>Apellido</th>\n",
              "      <th>IDDepartamento</th>\n",
              "      <th>Edad</th>\n",
              "      <th>Edad_meses</th>\n",
              "    </tr>\n",
              "  </thead>\n",
              "  <tbody>\n",
              "    <tr>\n",
              "      <th>5</th>\n",
              "      <td>Gaspar</td>\n",
              "      <td>36</td>\n",
              "      <td>32</td>\n",
              "      <td>384</td>\n",
              "    </tr>\n",
              "    <tr>\n",
              "      <th>3</th>\n",
              "      <td>Róbinson</td>\n",
              "      <td>34</td>\n",
              "      <td>48</td>\n",
              "      <td>576</td>\n",
              "    </tr>\n",
              "    <tr>\n",
              "      <th>4</th>\n",
              "      <td>Zolano</td>\n",
              "      <td>34</td>\n",
              "      <td>56</td>\n",
              "      <td>672</td>\n",
              "    </tr>\n",
              "    <tr>\n",
              "      <th>1</th>\n",
              "      <td>Jordán</td>\n",
              "      <td>33</td>\n",
              "      <td>23</td>\n",
              "      <td>276</td>\n",
              "    </tr>\n",
              "    <tr>\n",
              "      <th>2</th>\n",
              "      <td>Steinberg</td>\n",
              "      <td>33</td>\n",
              "      <td>45</td>\n",
              "      <td>540</td>\n",
              "    </tr>\n",
              "    <tr>\n",
              "      <th>0</th>\n",
              "      <td>Andrade</td>\n",
              "      <td>31</td>\n",
              "      <td>20</td>\n",
              "      <td>240</td>\n",
              "    </tr>\n",
              "  </tbody>\n",
              "</table>\n",
              "</div>"
            ],
            "text/plain": [
              "    Apellido  IDDepartamento  Edad  Edad_meses\n",
              "5     Gaspar              36    32         384\n",
              "3   Róbinson              34    48         576\n",
              "4     Zolano              34    56         672\n",
              "1     Jordán              33    23         276\n",
              "2  Steinberg              33    45         540\n",
              "0    Andrade              31    20         240"
            ]
          },
          "metadata": {
            "tags": []
          },
          "execution_count": 439
        }
      ]
    },
    {
      "cell_type": "code",
      "metadata": {
        "id": "JcZuIUfr3O4F",
        "colab_type": "code",
        "colab": {
          "base_uri": "https://localhost:8080/",
          "height": 238
        },
        "outputId": "0a04981d-4eb6-4567-b419-bf7c4df4c6aa"
      },
      "source": [
        "Empleado.sort_values(by=['IDDepartamento', 'Apellido'], ascending=[False, False])"
      ],
      "execution_count": 440,
      "outputs": [
        {
          "output_type": "execute_result",
          "data": {
            "text/html": [
              "<div>\n",
              "<style scoped>\n",
              "    .dataframe tbody tr th:only-of-type {\n",
              "        vertical-align: middle;\n",
              "    }\n",
              "\n",
              "    .dataframe tbody tr th {\n",
              "        vertical-align: top;\n",
              "    }\n",
              "\n",
              "    .dataframe thead th {\n",
              "        text-align: right;\n",
              "    }\n",
              "</style>\n",
              "<table border=\"1\" class=\"dataframe\">\n",
              "  <thead>\n",
              "    <tr style=\"text-align: right;\">\n",
              "      <th></th>\n",
              "      <th>Apellido</th>\n",
              "      <th>IDDepartamento</th>\n",
              "      <th>Edad</th>\n",
              "      <th>Edad_meses</th>\n",
              "    </tr>\n",
              "  </thead>\n",
              "  <tbody>\n",
              "    <tr>\n",
              "      <th>5</th>\n",
              "      <td>Gaspar</td>\n",
              "      <td>36</td>\n",
              "      <td>32</td>\n",
              "      <td>384</td>\n",
              "    </tr>\n",
              "    <tr>\n",
              "      <th>4</th>\n",
              "      <td>Zolano</td>\n",
              "      <td>34</td>\n",
              "      <td>56</td>\n",
              "      <td>672</td>\n",
              "    </tr>\n",
              "    <tr>\n",
              "      <th>3</th>\n",
              "      <td>Róbinson</td>\n",
              "      <td>34</td>\n",
              "      <td>48</td>\n",
              "      <td>576</td>\n",
              "    </tr>\n",
              "    <tr>\n",
              "      <th>2</th>\n",
              "      <td>Steinberg</td>\n",
              "      <td>33</td>\n",
              "      <td>45</td>\n",
              "      <td>540</td>\n",
              "    </tr>\n",
              "    <tr>\n",
              "      <th>1</th>\n",
              "      <td>Jordán</td>\n",
              "      <td>33</td>\n",
              "      <td>23</td>\n",
              "      <td>276</td>\n",
              "    </tr>\n",
              "    <tr>\n",
              "      <th>0</th>\n",
              "      <td>Andrade</td>\n",
              "      <td>31</td>\n",
              "      <td>20</td>\n",
              "      <td>240</td>\n",
              "    </tr>\n",
              "  </tbody>\n",
              "</table>\n",
              "</div>"
            ],
            "text/plain": [
              "    Apellido  IDDepartamento  Edad  Edad_meses\n",
              "5     Gaspar              36    32         384\n",
              "4     Zolano              34    56         672\n",
              "3   Róbinson              34    48         576\n",
              "2  Steinberg              33    45         540\n",
              "1     Jordán              33    23         276\n",
              "0    Andrade              31    20         240"
            ]
          },
          "metadata": {
            "tags": []
          },
          "execution_count": 440
        }
      ]
    },
    {
      "cell_type": "markdown",
      "metadata": {
        "id": "LuWkaq9W3aw6",
        "colab_type": "text"
      },
      "source": [
        "### Iteraciones sobre grupos"
      ]
    },
    {
      "cell_type": "code",
      "metadata": {
        "id": "EsMZucIg3dZk",
        "colab_type": "code",
        "colab": {
          "base_uri": "https://localhost:8080/",
          "height": 469
        },
        "outputId": "dbb1c523-2bc3-445f-8577-1c1cb3cb16da"
      },
      "source": [
        "# key: ID\n",
        "# group: subDataframe\n",
        "for key, group in Empleado.groupby('IDDepartamento'):\n",
        "    print('=' * 50)\n",
        "    print('IDDepartamento = {}'.format(key))\n",
        "    print('-' * 50)\n",
        "    print('DataFrame:')\n",
        "    print(group)"
      ],
      "execution_count": 534,
      "outputs": [
        {
          "output_type": "stream",
          "text": [
            "==================================================\n",
            "IDDepartamento = 31\n",
            "--------------------------------------------------\n",
            "DataFrame:\n",
            "  Apellido  IDDepartamento  Edad  Edad_meses\n",
            "0  Andrade              31    20         240\n",
            "==================================================\n",
            "IDDepartamento = 33\n",
            "--------------------------------------------------\n",
            "DataFrame:\n",
            "    Apellido  IDDepartamento  Edad  Edad_meses\n",
            "1     Jordán              33    23         276\n",
            "2  Steinberg              33    45         540\n",
            "==================================================\n",
            "IDDepartamento = 34\n",
            "--------------------------------------------------\n",
            "DataFrame:\n",
            "   Apellido  IDDepartamento  Edad  Edad_meses\n",
            "3  Róbinson              34    48         576\n",
            "4    Zolano              34    56         672\n",
            "==================================================\n",
            "IDDepartamento = 36\n",
            "--------------------------------------------------\n",
            "DataFrame:\n",
            "  Apellido  IDDepartamento  Edad  Edad_meses\n",
            "5   Gaspar              36    32         384\n"
          ],
          "name": "stdout"
        }
      ]
    },
    {
      "cell_type": "code",
      "metadata": {
        "id": "V3N-ukRu3fBk",
        "colab_type": "code",
        "colab": {
          "base_uri": "https://localhost:8080/",
          "height": 469
        },
        "outputId": "12aaff47-ad3c-4ad6-c45b-b9387fc5931d"
      },
      "source": [
        "# Se extrae solamente la columna 'apellido'\n",
        "for key, group in Empleado.groupby('IDDepartamento')['Apellido']:\n",
        "    print('=' * 50)\n",
        "    print('IDDepartamento = {}'.format(key))\n",
        "    print('-' * 50)\n",
        "    print('DataFrame:')\n",
        "    print(group)"
      ],
      "execution_count": 536,
      "outputs": [
        {
          "output_type": "stream",
          "text": [
            "==================================================\n",
            "IDDepartamento = 31\n",
            "--------------------------------------------------\n",
            "DataFrame:\n",
            "0    Andrade\n",
            "Name: Apellido, dtype: object\n",
            "==================================================\n",
            "IDDepartamento = 33\n",
            "--------------------------------------------------\n",
            "DataFrame:\n",
            "1       Jordán\n",
            "2    Steinberg\n",
            "Name: Apellido, dtype: object\n",
            "==================================================\n",
            "IDDepartamento = 34\n",
            "--------------------------------------------------\n",
            "DataFrame:\n",
            "3    Róbinson\n",
            "4      Zolano\n",
            "Name: Apellido, dtype: object\n",
            "==================================================\n",
            "IDDepartamento = 36\n",
            "--------------------------------------------------\n",
            "DataFrame:\n",
            "5    Gaspar\n",
            "Name: Apellido, dtype: object\n"
          ],
          "name": "stdout"
        }
      ]
    },
    {
      "cell_type": "markdown",
      "metadata": {
        "id": "_foGNR9C3hcQ",
        "colab_type": "text"
      },
      "source": [
        "### Agrupamiento aplicando estadísticas desriptivas"
      ]
    },
    {
      "cell_type": "code",
      "metadata": {
        "id": "5nTQE-dD3lwV",
        "colab_type": "code",
        "colab": {
          "base_uri": "https://localhost:8080/",
          "height": 903
        },
        "outputId": "f4e634ec-e344-4529-a6e1-47c40e8b876e"
      },
      "source": [
        "df_ventas = pd.DataFrame({'Oficina': np.random.choice([1, 2, 3], 50),\n",
        "                          'Producto': np.random.choice(['a','b','c','d','e'], 50),\n",
        "                          'Valor': np.random.randint(20, size=50)})\n",
        "\n",
        "print(df_ventas)"
      ],
      "execution_count": 443,
      "outputs": [
        {
          "output_type": "stream",
          "text": [
            "    Oficina Producto  Valor\n",
            "0         3        b     12\n",
            "1         2        c      5\n",
            "2         1        d      3\n",
            "3         1        a     12\n",
            "4         3        e     18\n",
            "5         3        e      7\n",
            "6         3        b      9\n",
            "7         2        c      8\n",
            "8         2        b     13\n",
            "9         3        a     17\n",
            "10        2        a     19\n",
            "11        2        d     12\n",
            "12        1        a      8\n",
            "13        1        c      9\n",
            "14        3        c      8\n",
            "15        3        d     10\n",
            "16        2        d     14\n",
            "17        3        c      2\n",
            "18        3        b      7\n",
            "19        1        e      0\n",
            "20        2        c     19\n",
            "21        1        b      7\n",
            "22        1        c      2\n",
            "23        1        b      5\n",
            "24        1        d      9\n",
            "25        2        a     12\n",
            "26        3        e      1\n",
            "27        2        a     11\n",
            "28        1        a     12\n",
            "29        3        c     18\n",
            "30        1        a      2\n",
            "31        2        c      6\n",
            "32        3        d      0\n",
            "33        3        a      7\n",
            "34        2        e      6\n",
            "35        3        e      7\n",
            "36        1        c     14\n",
            "37        1        d     12\n",
            "38        2        a      0\n",
            "39        2        e      6\n",
            "40        2        a      1\n",
            "41        2        b     11\n",
            "42        1        b      9\n",
            "43        2        c      0\n",
            "44        3        a      1\n",
            "45        1        e     12\n",
            "46        2        b     18\n",
            "47        1        e      4\n",
            "48        1        b      2\n",
            "49        2        e      2\n"
          ],
          "name": "stdout"
        }
      ]
    },
    {
      "cell_type": "code",
      "metadata": {
        "id": "K2yYMn1n5cmD",
        "colab_type": "code",
        "colab": {
          "base_uri": "https://localhost:8080/",
          "height": 551
        },
        "outputId": "b6b28d33-5d14-4cbe-d02b-13fed1ad7330"
      },
      "source": [
        "df_ventas.groupby(['Oficina', 'Producto']).sum()"
      ],
      "execution_count": 444,
      "outputs": [
        {
          "output_type": "execute_result",
          "data": {
            "text/html": [
              "<div>\n",
              "<style scoped>\n",
              "    .dataframe tbody tr th:only-of-type {\n",
              "        vertical-align: middle;\n",
              "    }\n",
              "\n",
              "    .dataframe tbody tr th {\n",
              "        vertical-align: top;\n",
              "    }\n",
              "\n",
              "    .dataframe thead th {\n",
              "        text-align: right;\n",
              "    }\n",
              "</style>\n",
              "<table border=\"1\" class=\"dataframe\">\n",
              "  <thead>\n",
              "    <tr style=\"text-align: right;\">\n",
              "      <th></th>\n",
              "      <th></th>\n",
              "      <th>Valor</th>\n",
              "    </tr>\n",
              "    <tr>\n",
              "      <th>Oficina</th>\n",
              "      <th>Producto</th>\n",
              "      <th></th>\n",
              "    </tr>\n",
              "  </thead>\n",
              "  <tbody>\n",
              "    <tr>\n",
              "      <th rowspan=\"5\" valign=\"top\">1</th>\n",
              "      <th>a</th>\n",
              "      <td>34</td>\n",
              "    </tr>\n",
              "    <tr>\n",
              "      <th>b</th>\n",
              "      <td>23</td>\n",
              "    </tr>\n",
              "    <tr>\n",
              "      <th>c</th>\n",
              "      <td>25</td>\n",
              "    </tr>\n",
              "    <tr>\n",
              "      <th>d</th>\n",
              "      <td>24</td>\n",
              "    </tr>\n",
              "    <tr>\n",
              "      <th>e</th>\n",
              "      <td>16</td>\n",
              "    </tr>\n",
              "    <tr>\n",
              "      <th rowspan=\"5\" valign=\"top\">2</th>\n",
              "      <th>a</th>\n",
              "      <td>43</td>\n",
              "    </tr>\n",
              "    <tr>\n",
              "      <th>b</th>\n",
              "      <td>42</td>\n",
              "    </tr>\n",
              "    <tr>\n",
              "      <th>c</th>\n",
              "      <td>38</td>\n",
              "    </tr>\n",
              "    <tr>\n",
              "      <th>d</th>\n",
              "      <td>26</td>\n",
              "    </tr>\n",
              "    <tr>\n",
              "      <th>e</th>\n",
              "      <td>14</td>\n",
              "    </tr>\n",
              "    <tr>\n",
              "      <th rowspan=\"5\" valign=\"top\">3</th>\n",
              "      <th>a</th>\n",
              "      <td>25</td>\n",
              "    </tr>\n",
              "    <tr>\n",
              "      <th>b</th>\n",
              "      <td>28</td>\n",
              "    </tr>\n",
              "    <tr>\n",
              "      <th>c</th>\n",
              "      <td>28</td>\n",
              "    </tr>\n",
              "    <tr>\n",
              "      <th>d</th>\n",
              "      <td>10</td>\n",
              "    </tr>\n",
              "    <tr>\n",
              "      <th>e</th>\n",
              "      <td>33</td>\n",
              "    </tr>\n",
              "  </tbody>\n",
              "</table>\n",
              "</div>"
            ],
            "text/plain": [
              "                  Valor\n",
              "Oficina Producto       \n",
              "1       a            34\n",
              "        b            23\n",
              "        c            25\n",
              "        d            24\n",
              "        e            16\n",
              "2       a            43\n",
              "        b            42\n",
              "        c            38\n",
              "        d            26\n",
              "        e            14\n",
              "3       a            25\n",
              "        b            28\n",
              "        c            28\n",
              "        d            10\n",
              "        e            33"
            ]
          },
          "metadata": {
            "tags": []
          },
          "execution_count": 444
        }
      ]
    },
    {
      "cell_type": "markdown",
      "metadata": {
        "id": "fv7SXn413oJ6",
        "colab_type": "text"
      },
      "source": [
        "### Tablas cruzadas"
      ]
    },
    {
      "cell_type": "code",
      "metadata": {
        "id": "RFcExCCO4Hwt",
        "colab_type": "code",
        "colab": {
          "base_uri": "https://localhost:8080/",
          "height": 175
        },
        "outputId": "afef2552-5ff0-4fe4-b8c1-85ffc2b6107c"
      },
      "source": [
        "pd.crosstab(df_ventas['Oficina'], df_ventas['Producto'])"
      ],
      "execution_count": 445,
      "outputs": [
        {
          "output_type": "execute_result",
          "data": {
            "text/html": [
              "<div>\n",
              "<style scoped>\n",
              "    .dataframe tbody tr th:only-of-type {\n",
              "        vertical-align: middle;\n",
              "    }\n",
              "\n",
              "    .dataframe tbody tr th {\n",
              "        vertical-align: top;\n",
              "    }\n",
              "\n",
              "    .dataframe thead th {\n",
              "        text-align: right;\n",
              "    }\n",
              "</style>\n",
              "<table border=\"1\" class=\"dataframe\">\n",
              "  <thead>\n",
              "    <tr style=\"text-align: right;\">\n",
              "      <th>Producto</th>\n",
              "      <th>a</th>\n",
              "      <th>b</th>\n",
              "      <th>c</th>\n",
              "      <th>d</th>\n",
              "      <th>e</th>\n",
              "    </tr>\n",
              "    <tr>\n",
              "      <th>Oficina</th>\n",
              "      <th></th>\n",
              "      <th></th>\n",
              "      <th></th>\n",
              "      <th></th>\n",
              "      <th></th>\n",
              "    </tr>\n",
              "  </thead>\n",
              "  <tbody>\n",
              "    <tr>\n",
              "      <th>1</th>\n",
              "      <td>4</td>\n",
              "      <td>4</td>\n",
              "      <td>3</td>\n",
              "      <td>3</td>\n",
              "      <td>3</td>\n",
              "    </tr>\n",
              "    <tr>\n",
              "      <th>2</th>\n",
              "      <td>5</td>\n",
              "      <td>3</td>\n",
              "      <td>5</td>\n",
              "      <td>2</td>\n",
              "      <td>3</td>\n",
              "    </tr>\n",
              "    <tr>\n",
              "      <th>3</th>\n",
              "      <td>3</td>\n",
              "      <td>3</td>\n",
              "      <td>3</td>\n",
              "      <td>2</td>\n",
              "      <td>4</td>\n",
              "    </tr>\n",
              "  </tbody>\n",
              "</table>\n",
              "</div>"
            ],
            "text/plain": [
              "Producto  a  b  c  d  e\n",
              "Oficina                \n",
              "1         4  4  3  3  3\n",
              "2         5  3  5  2  3\n",
              "3         3  3  3  2  4"
            ]
          },
          "metadata": {
            "tags": []
          },
          "execution_count": 445
        }
      ]
    },
    {
      "cell_type": "code",
      "metadata": {
        "id": "hvR3ssaK4KAG",
        "colab_type": "code",
        "colab": {
          "base_uri": "https://localhost:8080/",
          "height": 206
        },
        "outputId": "191e2e09-62a2-45fe-cb54-f571716ab248"
      },
      "source": [
        "pd.crosstab(df_ventas['Oficina'], df_ventas['Producto'], margins=True)"
      ],
      "execution_count": 446,
      "outputs": [
        {
          "output_type": "execute_result",
          "data": {
            "text/html": [
              "<div>\n",
              "<style scoped>\n",
              "    .dataframe tbody tr th:only-of-type {\n",
              "        vertical-align: middle;\n",
              "    }\n",
              "\n",
              "    .dataframe tbody tr th {\n",
              "        vertical-align: top;\n",
              "    }\n",
              "\n",
              "    .dataframe thead th {\n",
              "        text-align: right;\n",
              "    }\n",
              "</style>\n",
              "<table border=\"1\" class=\"dataframe\">\n",
              "  <thead>\n",
              "    <tr style=\"text-align: right;\">\n",
              "      <th>Producto</th>\n",
              "      <th>a</th>\n",
              "      <th>b</th>\n",
              "      <th>c</th>\n",
              "      <th>d</th>\n",
              "      <th>e</th>\n",
              "      <th>All</th>\n",
              "    </tr>\n",
              "    <tr>\n",
              "      <th>Oficina</th>\n",
              "      <th></th>\n",
              "      <th></th>\n",
              "      <th></th>\n",
              "      <th></th>\n",
              "      <th></th>\n",
              "      <th></th>\n",
              "    </tr>\n",
              "  </thead>\n",
              "  <tbody>\n",
              "    <tr>\n",
              "      <th>1</th>\n",
              "      <td>4</td>\n",
              "      <td>4</td>\n",
              "      <td>3</td>\n",
              "      <td>3</td>\n",
              "      <td>3</td>\n",
              "      <td>17</td>\n",
              "    </tr>\n",
              "    <tr>\n",
              "      <th>2</th>\n",
              "      <td>5</td>\n",
              "      <td>3</td>\n",
              "      <td>5</td>\n",
              "      <td>2</td>\n",
              "      <td>3</td>\n",
              "      <td>18</td>\n",
              "    </tr>\n",
              "    <tr>\n",
              "      <th>3</th>\n",
              "      <td>3</td>\n",
              "      <td>3</td>\n",
              "      <td>3</td>\n",
              "      <td>2</td>\n",
              "      <td>4</td>\n",
              "      <td>15</td>\n",
              "    </tr>\n",
              "    <tr>\n",
              "      <th>All</th>\n",
              "      <td>12</td>\n",
              "      <td>10</td>\n",
              "      <td>11</td>\n",
              "      <td>7</td>\n",
              "      <td>10</td>\n",
              "      <td>50</td>\n",
              "    </tr>\n",
              "  </tbody>\n",
              "</table>\n",
              "</div>"
            ],
            "text/plain": [
              "Producto   a   b   c  d   e  All\n",
              "Oficina                         \n",
              "1          4   4   3  3   3   17\n",
              "2          5   3   5  2   3   18\n",
              "3          3   3   3  2   4   15\n",
              "All       12  10  11  7  10   50"
            ]
          },
          "metadata": {
            "tags": []
          },
          "execution_count": 446
        }
      ]
    },
    {
      "cell_type": "markdown",
      "metadata": {
        "colab_type": "text",
        "id": "4i_0T5aM0gqe"
      },
      "source": [
        "# Estadísticos descriptivos y de asociación"
      ]
    },
    {
      "cell_type": "markdown",
      "metadata": {
        "colab_type": "text",
        "id": "ZgRbsoyN0gqv"
      },
      "source": [
        "## Estadísticos descriptivos\n",
        "\n",
        "* Media\n",
        "* Mediana\n",
        "* Moda\n",
        "* Máximo\n",
        "* Mínimo\n",
        "* Varianza\n",
        "* Desviación estándar\n",
        "* Rango intercuartílico"
      ]
    },
    {
      "cell_type": "code",
      "metadata": {
        "colab_type": "code",
        "id": "4DphbrS90gq6",
        "colab": {
          "base_uri": "https://localhost:8080/"
        },
        "outputId": "6a250cd8-bcde-4fe7-d335-de3e84d6c650"
      },
      "source": [
        "! wget https://www.dropbox.com/s/kc98g3pjcp8trba/MCU2.csv\n"
      ],
      "execution_count": null,
      "outputs": [
        {
          "output_type": "stream",
          "text": [
            "--2020-09-25 01:11:36--  https://www.dropbox.com/s/kc98g3pjcp8trba/MCU2.csv\n",
            "Resolving www.dropbox.com (www.dropbox.com)... 162.125.5.1, 2620:100:601d:1::a27d:501\n",
            "Connecting to www.dropbox.com (www.dropbox.com)|162.125.5.1|:443... connected.\n",
            "HTTP request sent, awaiting response... 301 Moved Permanently\n",
            "Location: /s/raw/kc98g3pjcp8trba/MCU2.csv [following]\n",
            "--2020-09-25 01:11:36--  https://www.dropbox.com/s/raw/kc98g3pjcp8trba/MCU2.csv\n",
            "Reusing existing connection to www.dropbox.com:443.\n",
            "HTTP request sent, awaiting response... 302 Found\n",
            "Location: https://uc9a02830adb478ffdf2d49532b3.dl.dropboxusercontent.com/cd/0/inline/BADBxwTFXpoBPFd391xuNgE9HXaanijNxU_JMG0nsbZNC9zVucf0Wx4uMudMkxa2BUD6FWObw5LHcv6CFdDN3F8cQlPRrlN4mIJjoPtRYbWCrLrx3mzJUBmetOp67Uy83yU/file# [following]\n",
            "--2020-09-25 01:11:36--  https://uc9a02830adb478ffdf2d49532b3.dl.dropboxusercontent.com/cd/0/inline/BADBxwTFXpoBPFd391xuNgE9HXaanijNxU_JMG0nsbZNC9zVucf0Wx4uMudMkxa2BUD6FWObw5LHcv6CFdDN3F8cQlPRrlN4mIJjoPtRYbWCrLrx3mzJUBmetOp67Uy83yU/file\n",
            "Resolving uc9a02830adb478ffdf2d49532b3.dl.dropboxusercontent.com (uc9a02830adb478ffdf2d49532b3.dl.dropboxusercontent.com)... 162.125.5.15, 2620:100:601d:15::a27d:50f\n",
            "Connecting to uc9a02830adb478ffdf2d49532b3.dl.dropboxusercontent.com (uc9a02830adb478ffdf2d49532b3.dl.dropboxusercontent.com)|162.125.5.15|:443... connected.\n",
            "HTTP request sent, awaiting response... 200 OK\n",
            "Length: 1890 (1.8K) [text/plain]\n",
            "Saving to: ‘MCU2.csv.4’\n",
            "\n",
            "MCU2.csv.4          100%[===================>]   1.85K  --.-KB/s    in 0s      \n",
            "\n",
            "2020-09-25 01:11:37 (202 MB/s) - ‘MCU2.csv.4’ saved [1890/1890]\n",
            "\n"
          ],
          "name": "stdout"
        }
      ]
    },
    {
      "cell_type": "code",
      "metadata": {
        "colab_type": "code",
        "id": "DgTTf5I30grp",
        "colab": {}
      },
      "source": [
        "df_mcu = pd.read_csv('MCU2.csv')"
      ],
      "execution_count": null,
      "outputs": []
    },
    {
      "cell_type": "code",
      "metadata": {
        "colab_type": "code",
        "id": "dRaVLpoX0gsU",
        "colab": {
          "base_uri": "https://localhost:8080/"
        },
        "outputId": "30f4aa3e-3dfa-4bfc-cc7b-2e6a7a372644"
      },
      "source": [
        "df_mcu = df_mcu.dropna()\n",
        "df_mcu"
      ],
      "execution_count": null,
      "outputs": [
        {
          "output_type": "execute_result",
          "data": {
            "text/html": [
              "<div>\n",
              "<style scoped>\n",
              "    .dataframe tbody tr th:only-of-type {\n",
              "        vertical-align: middle;\n",
              "    }\n",
              "\n",
              "    .dataframe tbody tr th {\n",
              "        vertical-align: top;\n",
              "    }\n",
              "\n",
              "    .dataframe thead th {\n",
              "        text-align: right;\n",
              "    }\n",
              "</style>\n",
              "<table border=\"1\" class=\"dataframe\">\n",
              "  <thead>\n",
              "    <tr style=\"text-align: right;\">\n",
              "      <th></th>\n",
              "      <th>Iron Man</th>\n",
              "      <th>The Incredible Hulk</th>\n",
              "      <th>Iron Man 2</th>\n",
              "      <th>Thor</th>\n",
              "      <th>Capitán América: el primer vengador</th>\n",
              "      <th>The Avengers</th>\n",
              "      <th>Iron Man 3</th>\n",
              "      <th>Thor: The Dark World</th>\n",
              "      <th>Captain America: The Winter Soldier</th>\n",
              "      <th>Guardianes de la Galaxia</th>\n",
              "      <th>Avengers: Age of Ultron</th>\n",
              "      <th>Ant-Man</th>\n",
              "      <th>Captain America: Civil War</th>\n",
              "      <th>Doctor Strange</th>\n",
              "      <th>Guardianes de la Galaxia Vol. 2</th>\n",
              "      <th>Spider-Man: Homecoming</th>\n",
              "      <th>Thor: Ragnarok</th>\n",
              "      <th>Black Panther</th>\n",
              "      <th>Avengers: Infinity War</th>\n",
              "      <th>Ant-Man and The Wasp</th>\n",
              "    </tr>\n",
              "  </thead>\n",
              "  <tbody>\n",
              "    <tr>\n",
              "      <th>0</th>\n",
              "      <td>17.0</td>\n",
              "      <td>12.0</td>\n",
              "      <td>14.0</td>\n",
              "      <td>13.0</td>\n",
              "      <td>11.0</td>\n",
              "      <td>18</td>\n",
              "      <td>4.0</td>\n",
              "      <td>5.0</td>\n",
              "      <td>6.0</td>\n",
              "      <td>16.0</td>\n",
              "      <td>17.0</td>\n",
              "      <td>10.0</td>\n",
              "      <td>19.0</td>\n",
              "      <td>17.0</td>\n",
              "      <td>7.0</td>\n",
              "      <td>6.0</td>\n",
              "      <td>10.0</td>\n",
              "      <td>8.0</td>\n",
              "      <td>20</td>\n",
              "      <td>9.0</td>\n",
              "    </tr>\n",
              "    <tr>\n",
              "      <th>1</th>\n",
              "      <td>8.0</td>\n",
              "      <td>1.0</td>\n",
              "      <td>7.0</td>\n",
              "      <td>1.0</td>\n",
              "      <td>7.0</td>\n",
              "      <td>8</td>\n",
              "      <td>7.0</td>\n",
              "      <td>3.0</td>\n",
              "      <td>8.0</td>\n",
              "      <td>9.0</td>\n",
              "      <td>7.0</td>\n",
              "      <td>9.0</td>\n",
              "      <td>8.0</td>\n",
              "      <td>9.0</td>\n",
              "      <td>9.0</td>\n",
              "      <td>9.0</td>\n",
              "      <td>9.0</td>\n",
              "      <td>8.0</td>\n",
              "      <td>9</td>\n",
              "      <td>9.0</td>\n",
              "    </tr>\n",
              "    <tr>\n",
              "      <th>2</th>\n",
              "      <td>20.0</td>\n",
              "      <td>13.0</td>\n",
              "      <td>6.0</td>\n",
              "      <td>7.0</td>\n",
              "      <td>11.0</td>\n",
              "      <td>19</td>\n",
              "      <td>9.0</td>\n",
              "      <td>5.0</td>\n",
              "      <td>17.0</td>\n",
              "      <td>20.0</td>\n",
              "      <td>20.0</td>\n",
              "      <td>17.0</td>\n",
              "      <td>20.0</td>\n",
              "      <td>10.0</td>\n",
              "      <td>6.0</td>\n",
              "      <td>6.0</td>\n",
              "      <td>4.0</td>\n",
              "      <td>17.0</td>\n",
              "      <td>18</td>\n",
              "      <td>8.0</td>\n",
              "    </tr>\n",
              "    <tr>\n",
              "      <th>6</th>\n",
              "      <td>17.0</td>\n",
              "      <td>13.0</td>\n",
              "      <td>14.0</td>\n",
              "      <td>19.0</td>\n",
              "      <td>20.0</td>\n",
              "      <td>20</td>\n",
              "      <td>10.0</td>\n",
              "      <td>19.0</td>\n",
              "      <td>20.0</td>\n",
              "      <td>20.0</td>\n",
              "      <td>17.0</td>\n",
              "      <td>19.0</td>\n",
              "      <td>20.0</td>\n",
              "      <td>20.0</td>\n",
              "      <td>20.0</td>\n",
              "      <td>20.0</td>\n",
              "      <td>17.0</td>\n",
              "      <td>20.0</td>\n",
              "      <td>20</td>\n",
              "      <td>19.0</td>\n",
              "    </tr>\n",
              "    <tr>\n",
              "      <th>7</th>\n",
              "      <td>10.0</td>\n",
              "      <td>11.0</td>\n",
              "      <td>12.0</td>\n",
              "      <td>9.0</td>\n",
              "      <td>8.0</td>\n",
              "      <td>19</td>\n",
              "      <td>7.0</td>\n",
              "      <td>16.0</td>\n",
              "      <td>6.0</td>\n",
              "      <td>15.0</td>\n",
              "      <td>18.0</td>\n",
              "      <td>13.0</td>\n",
              "      <td>5.0</td>\n",
              "      <td>4.0</td>\n",
              "      <td>3.0</td>\n",
              "      <td>14.0</td>\n",
              "      <td>2.0</td>\n",
              "      <td>1.0</td>\n",
              "      <td>20</td>\n",
              "      <td>17.0</td>\n",
              "    </tr>\n",
              "    <tr>\n",
              "      <th>8</th>\n",
              "      <td>14.0</td>\n",
              "      <td>8.0</td>\n",
              "      <td>9.0</td>\n",
              "      <td>10.0</td>\n",
              "      <td>11.0</td>\n",
              "      <td>15</td>\n",
              "      <td>6.0</td>\n",
              "      <td>7.0</td>\n",
              "      <td>16.0</td>\n",
              "      <td>17.0</td>\n",
              "      <td>12.0</td>\n",
              "      <td>4.0</td>\n",
              "      <td>13.0</td>\n",
              "      <td>3.0</td>\n",
              "      <td>2.0</td>\n",
              "      <td>1.0</td>\n",
              "      <td>18.0</td>\n",
              "      <td>19.0</td>\n",
              "      <td>20</td>\n",
              "      <td>5.0</td>\n",
              "    </tr>\n",
              "    <tr>\n",
              "      <th>9</th>\n",
              "      <td>16.0</td>\n",
              "      <td>13.0</td>\n",
              "      <td>10.0</td>\n",
              "      <td>14.0</td>\n",
              "      <td>15.0</td>\n",
              "      <td>20</td>\n",
              "      <td>7.0</td>\n",
              "      <td>7.0</td>\n",
              "      <td>18.0</td>\n",
              "      <td>15.0</td>\n",
              "      <td>13.0</td>\n",
              "      <td>13.0</td>\n",
              "      <td>20.0</td>\n",
              "      <td>15.0</td>\n",
              "      <td>15.0</td>\n",
              "      <td>16.0</td>\n",
              "      <td>13.0</td>\n",
              "      <td>15.0</td>\n",
              "      <td>20</td>\n",
              "      <td>14.0</td>\n",
              "    </tr>\n",
              "    <tr>\n",
              "      <th>10</th>\n",
              "      <td>15.0</td>\n",
              "      <td>1.0</td>\n",
              "      <td>3.0</td>\n",
              "      <td>5.0</td>\n",
              "      <td>9.0</td>\n",
              "      <td>11</td>\n",
              "      <td>5.0</td>\n",
              "      <td>10.0</td>\n",
              "      <td>18.0</td>\n",
              "      <td>14.0</td>\n",
              "      <td>12.0</td>\n",
              "      <td>8.0</td>\n",
              "      <td>18.0</td>\n",
              "      <td>16.0</td>\n",
              "      <td>19.0</td>\n",
              "      <td>20.0</td>\n",
              "      <td>14.0</td>\n",
              "      <td>17.0</td>\n",
              "      <td>16</td>\n",
              "      <td>7.0</td>\n",
              "    </tr>\n",
              "    <tr>\n",
              "      <th>11</th>\n",
              "      <td>1.0</td>\n",
              "      <td>1.0</td>\n",
              "      <td>1.0</td>\n",
              "      <td>1.0</td>\n",
              "      <td>1.0</td>\n",
              "      <td>1</td>\n",
              "      <td>1.0</td>\n",
              "      <td>1.0</td>\n",
              "      <td>1.0</td>\n",
              "      <td>2.0</td>\n",
              "      <td>1.0</td>\n",
              "      <td>1.0</td>\n",
              "      <td>1.0</td>\n",
              "      <td>1.0</td>\n",
              "      <td>1.0</td>\n",
              "      <td>1.0</td>\n",
              "      <td>1.0</td>\n",
              "      <td>1.0</td>\n",
              "      <td>1</td>\n",
              "      <td>1.0</td>\n",
              "    </tr>\n",
              "    <tr>\n",
              "      <th>12</th>\n",
              "      <td>11.0</td>\n",
              "      <td>2.0</td>\n",
              "      <td>5.0</td>\n",
              "      <td>3.0</td>\n",
              "      <td>17.0</td>\n",
              "      <td>15</td>\n",
              "      <td>14.0</td>\n",
              "      <td>1.0</td>\n",
              "      <td>16.0</td>\n",
              "      <td>10.0</td>\n",
              "      <td>9.0</td>\n",
              "      <td>19.0</td>\n",
              "      <td>20.0</td>\n",
              "      <td>4.0</td>\n",
              "      <td>6.0</td>\n",
              "      <td>12.0</td>\n",
              "      <td>7.0</td>\n",
              "      <td>8.0</td>\n",
              "      <td>18</td>\n",
              "      <td>13.0</td>\n",
              "    </tr>\n",
              "    <tr>\n",
              "      <th>13</th>\n",
              "      <td>15.0</td>\n",
              "      <td>12.0</td>\n",
              "      <td>5.0</td>\n",
              "      <td>13.0</td>\n",
              "      <td>15.0</td>\n",
              "      <td>17</td>\n",
              "      <td>12.0</td>\n",
              "      <td>3.0</td>\n",
              "      <td>18.0</td>\n",
              "      <td>17.0</td>\n",
              "      <td>10.0</td>\n",
              "      <td>14.0</td>\n",
              "      <td>16.0</td>\n",
              "      <td>14.0</td>\n",
              "      <td>20.0</td>\n",
              "      <td>18.0</td>\n",
              "      <td>18.0</td>\n",
              "      <td>18.0</td>\n",
              "      <td>20</td>\n",
              "      <td>16.0</td>\n",
              "    </tr>\n",
              "    <tr>\n",
              "      <th>14</th>\n",
              "      <td>16.0</td>\n",
              "      <td>5.0</td>\n",
              "      <td>6.0</td>\n",
              "      <td>2.0</td>\n",
              "      <td>10.0</td>\n",
              "      <td>19</td>\n",
              "      <td>4.0</td>\n",
              "      <td>1.0</td>\n",
              "      <td>13.0</td>\n",
              "      <td>15.0</td>\n",
              "      <td>7.0</td>\n",
              "      <td>14.0</td>\n",
              "      <td>18.0</td>\n",
              "      <td>17.0</td>\n",
              "      <td>3.0</td>\n",
              "      <td>12.0</td>\n",
              "      <td>11.0</td>\n",
              "      <td>8.0</td>\n",
              "      <td>20</td>\n",
              "      <td>9.0</td>\n",
              "    </tr>\n",
              "    <tr>\n",
              "      <th>19</th>\n",
              "      <td>18.0</td>\n",
              "      <td>10.0</td>\n",
              "      <td>18.0</td>\n",
              "      <td>10.0</td>\n",
              "      <td>8.0</td>\n",
              "      <td>14</td>\n",
              "      <td>15.0</td>\n",
              "      <td>12.0</td>\n",
              "      <td>8.0</td>\n",
              "      <td>15.0</td>\n",
              "      <td>16.0</td>\n",
              "      <td>17.0</td>\n",
              "      <td>16.0</td>\n",
              "      <td>17.0</td>\n",
              "      <td>13.0</td>\n",
              "      <td>17.0</td>\n",
              "      <td>16.0</td>\n",
              "      <td>1.0</td>\n",
              "      <td>18</td>\n",
              "      <td>18.0</td>\n",
              "    </tr>\n",
              "    <tr>\n",
              "      <th>28</th>\n",
              "      <td>7.0</td>\n",
              "      <td>2.0</td>\n",
              "      <td>4.0</td>\n",
              "      <td>3.0</td>\n",
              "      <td>8.0</td>\n",
              "      <td>13</td>\n",
              "      <td>1.0</td>\n",
              "      <td>5.0</td>\n",
              "      <td>18.0</td>\n",
              "      <td>6.0</td>\n",
              "      <td>14.0</td>\n",
              "      <td>12.0</td>\n",
              "      <td>16.0</td>\n",
              "      <td>20.0</td>\n",
              "      <td>10.0</td>\n",
              "      <td>15.0</td>\n",
              "      <td>9.0</td>\n",
              "      <td>17.0</td>\n",
              "      <td>19</td>\n",
              "      <td>11.0</td>\n",
              "    </tr>\n",
              "    <tr>\n",
              "      <th>29</th>\n",
              "      <td>10.0</td>\n",
              "      <td>8.0</td>\n",
              "      <td>10.0</td>\n",
              "      <td>8.0</td>\n",
              "      <td>18.0</td>\n",
              "      <td>14</td>\n",
              "      <td>12.0</td>\n",
              "      <td>9.0</td>\n",
              "      <td>14.0</td>\n",
              "      <td>8.0</td>\n",
              "      <td>15.0</td>\n",
              "      <td>8.0</td>\n",
              "      <td>18.0</td>\n",
              "      <td>15.0</td>\n",
              "      <td>11.0</td>\n",
              "      <td>14.0</td>\n",
              "      <td>13.0</td>\n",
              "      <td>15.0</td>\n",
              "      <td>17</td>\n",
              "      <td>13.0</td>\n",
              "    </tr>\n",
              "  </tbody>\n",
              "</table>\n",
              "</div>"
            ],
            "text/plain": [
              "    Iron Man  The Incredible Hulk  ...  Avengers: Infinity War  Ant-Man and The Wasp\n",
              "0       17.0                 12.0  ...                      20                   9.0\n",
              "1        8.0                  1.0  ...                       9                   9.0\n",
              "2       20.0                 13.0  ...                      18                   8.0\n",
              "6       17.0                 13.0  ...                      20                  19.0\n",
              "7       10.0                 11.0  ...                      20                  17.0\n",
              "8       14.0                  8.0  ...                      20                   5.0\n",
              "9       16.0                 13.0  ...                      20                  14.0\n",
              "10      15.0                  1.0  ...                      16                   7.0\n",
              "11       1.0                  1.0  ...                       1                   1.0\n",
              "12      11.0                  2.0  ...                      18                  13.0\n",
              "13      15.0                 12.0  ...                      20                  16.0\n",
              "14      16.0                  5.0  ...                      20                   9.0\n",
              "19      18.0                 10.0  ...                      18                  18.0\n",
              "28       7.0                  2.0  ...                      19                  11.0\n",
              "29      10.0                  8.0  ...                      17                  13.0\n",
              "\n",
              "[15 rows x 20 columns]"
            ]
          },
          "metadata": {
            "tags": []
          },
          "execution_count": 453
        }
      ]
    },
    {
      "cell_type": "markdown",
      "metadata": {
        "colab_type": "text",
        "id": "GELAXop20gsw"
      },
      "source": [
        "### Media y mediana"
      ]
    },
    {
      "cell_type": "code",
      "metadata": {
        "colab_type": "code",
        "id": "riNgYM5r0gs5",
        "colab": {
          "base_uri": "https://localhost:8080/"
        },
        "outputId": "70d2c85a-74de-4a33-952c-8ba5d96f7861"
      },
      "source": [
        "# Elimina los NA/NAN por defecto\n",
        "df_mcu.mean()"
      ],
      "execution_count": null,
      "outputs": [
        {
          "output_type": "execute_result",
          "data": {
            "text/plain": [
              "Iron Man                               13.000000\n",
              "The Incredible Hulk                     7.466667\n",
              "Iron Man 2                              8.266667\n",
              "Thor                                    7.866667\n",
              "Capitán América: el primer vengador    11.266667\n",
              "The Avengers                           14.866667\n",
              "Iron Man 3                              7.600000\n",
              "Thor: The Dark World                    6.933333\n",
              "Captain America: The Winter Soldier    13.133333\n",
              "Guardianes de la Galaxia               13.266667\n",
              "Avengers: Age of Ultron                12.533333\n",
              "Ant-Man                                11.866667\n",
              "Captain America: Civil War             15.200000\n",
              "Doctor Strange                         12.133333\n",
              "Guardianes de la Galaxia Vol. 2         9.666667\n",
              "Spider-Man: Homecoming                 12.066667\n",
              "Thor: Ragnarok                         10.800000\n",
              "Black Panther                          11.533333\n",
              "Avengers: Infinity War                 17.066667\n",
              "Ant-Man and The Wasp                   11.266667\n",
              "dtype: float64"
            ]
          },
          "metadata": {
            "tags": []
          },
          "execution_count": 454
        }
      ]
    },
    {
      "cell_type": "code",
      "metadata": {
        "colab_type": "code",
        "id": "jW3D318w0gtL",
        "colab": {
          "base_uri": "https://localhost:8080/"
        },
        "outputId": "a4bfea2e-6865-4ded-ef70-c651bd83a4af"
      },
      "source": [
        "# Hacerlo por filas, por defecto lo hace por columnas (axis=0)\n",
        "df_mcu.mean(axis=1)"
      ],
      "execution_count": null,
      "outputs": [
        {
          "output_type": "execute_result",
          "data": {
            "text/plain": [
              "0     11.95\n",
              "1      7.25\n",
              "2     12.65\n",
              "6     18.20\n",
              "7     10.50\n",
              "8     10.50\n",
              "9     14.45\n",
              "10    11.90\n",
              "11     1.05\n",
              "12    10.50\n",
              "13    14.55\n",
              "14    10.50\n",
              "19    13.85\n",
              "28    10.50\n",
              "29    12.50\n",
              "dtype: float64"
            ]
          },
          "metadata": {
            "tags": []
          },
          "execution_count": 455
        }
      ]
    },
    {
      "cell_type": "code",
      "metadata": {
        "colab_type": "code",
        "id": "FORpZtG-0gtj",
        "colab": {
          "base_uri": "https://localhost:8080/"
        },
        "outputId": "bafa53fe-03c4-44bb-8eae-83d97fd1f68c"
      },
      "source": [
        "# Para no eliminar los alores nulos\n",
        "df_mcu.mean(skipna=False)\n"
      ],
      "execution_count": null,
      "outputs": [
        {
          "output_type": "execute_result",
          "data": {
            "text/plain": [
              "Iron Man                               13.000000\n",
              "The Incredible Hulk                     7.466667\n",
              "Iron Man 2                              8.266667\n",
              "Thor                                    7.866667\n",
              "Capitán América: el primer vengador    11.266667\n",
              "The Avengers                           14.866667\n",
              "Iron Man 3                              7.600000\n",
              "Thor: The Dark World                    6.933333\n",
              "Captain America: The Winter Soldier    13.133333\n",
              "Guardianes de la Galaxia               13.266667\n",
              "Avengers: Age of Ultron                12.533333\n",
              "Ant-Man                                11.866667\n",
              "Captain America: Civil War             15.200000\n",
              "Doctor Strange                         12.133333\n",
              "Guardianes de la Galaxia Vol. 2         9.666667\n",
              "Spider-Man: Homecoming                 12.066667\n",
              "Thor: Ragnarok                         10.800000\n",
              "Black Panther                          11.533333\n",
              "Avengers: Infinity War                 17.066667\n",
              "Ant-Man and The Wasp                   11.266667\n",
              "dtype: float64"
            ]
          },
          "metadata": {
            "tags": []
          },
          "execution_count": 456
        }
      ]
    },
    {
      "cell_type": "code",
      "metadata": {
        "colab_type": "code",
        "id": "g5VG7u8N0gt7",
        "colab": {
          "base_uri": "https://localhost:8080/"
        },
        "outputId": "3ff39e6a-f14c-4b17-a08a-a1b5c765b0f0"
      },
      "source": [
        "df_mcu.median()"
      ],
      "execution_count": null,
      "outputs": [
        {
          "output_type": "execute_result",
          "data": {
            "text/plain": [
              "Iron Man                               15.0\n",
              "The Incredible Hulk                     8.0\n",
              "Iron Man 2                              7.0\n",
              "Thor                                    8.0\n",
              "Capitán América: el primer vengador    11.0\n",
              "The Avengers                           15.0\n",
              "Iron Man 3                              7.0\n",
              "Thor: The Dark World                    5.0\n",
              "Captain America: The Winter Soldier    16.0\n",
              "Guardianes de la Galaxia               15.0\n",
              "Avengers: Age of Ultron                13.0\n",
              "Ant-Man                                13.0\n",
              "Captain America: Civil War             18.0\n",
              "Doctor Strange                         15.0\n",
              "Guardianes de la Galaxia Vol. 2         9.0\n",
              "Spider-Man: Homecoming                 14.0\n",
              "Thor: Ragnarok                         11.0\n",
              "Black Panther                          15.0\n",
              "Avengers: Infinity War                 19.0\n",
              "Ant-Man and The Wasp                   11.0\n",
              "dtype: float64"
            ]
          },
          "metadata": {
            "tags": []
          },
          "execution_count": 457
        }
      ]
    },
    {
      "cell_type": "code",
      "metadata": {
        "colab_type": "code",
        "id": "Cy01hUQQ0guQ",
        "colab": {
          "base_uri": "https://localhost:8080/"
        },
        "outputId": "65135d33-2224-454c-ad86-1b25d356049d"
      },
      "source": [
        "# calcular la media de todas las columnas y luego obtener el resultados de una \n",
        "# columna especifica\n",
        "df_mcu.mean()['Iron Man']"
      ],
      "execution_count": null,
      "outputs": [
        {
          "output_type": "execute_result",
          "data": {
            "text/plain": [
              "13.0"
            ]
          },
          "metadata": {
            "tags": []
          },
          "execution_count": 458
        }
      ]
    },
    {
      "cell_type": "code",
      "metadata": {
        "colab_type": "code",
        "id": "uVtWuSBM0gur",
        "colab": {
          "base_uri": "https://localhost:8080/"
        },
        "outputId": "ebc739e2-39de-4317-e6eb-3a73fbbc709b"
      },
      "source": [
        "# Extraer la columna que se necesita y luego calcular la media \n",
        "df_mcu['Iron Man'].mean()"
      ],
      "execution_count": null,
      "outputs": [
        {
          "output_type": "execute_result",
          "data": {
            "text/plain": [
              "13.0"
            ]
          },
          "metadata": {
            "tags": []
          },
          "execution_count": 459
        }
      ]
    },
    {
      "cell_type": "markdown",
      "metadata": {
        "colab_type": "text",
        "id": "392TIPEr0gu8"
      },
      "source": [
        "### Moda"
      ]
    },
    {
      "cell_type": "code",
      "metadata": {
        "colab_type": "code",
        "id": "CQWkGGo40gvA",
        "colab": {
          "base_uri": "https://localhost:8080/"
        },
        "outputId": "7c80b906-fa7b-406e-8b9d-ed67a55bffea"
      },
      "source": [
        "df_mcu.mode()\n"
      ],
      "execution_count": null,
      "outputs": [
        {
          "output_type": "execute_result",
          "data": {
            "text/html": [
              "<div>\n",
              "<style scoped>\n",
              "    .dataframe tbody tr th:only-of-type {\n",
              "        vertical-align: middle;\n",
              "    }\n",
              "\n",
              "    .dataframe tbody tr th {\n",
              "        vertical-align: top;\n",
              "    }\n",
              "\n",
              "    .dataframe thead th {\n",
              "        text-align: right;\n",
              "    }\n",
              "</style>\n",
              "<table border=\"1\" class=\"dataframe\">\n",
              "  <thead>\n",
              "    <tr style=\"text-align: right;\">\n",
              "      <th></th>\n",
              "      <th>Iron Man</th>\n",
              "      <th>The Incredible Hulk</th>\n",
              "      <th>Iron Man 2</th>\n",
              "      <th>Thor</th>\n",
              "      <th>Capitán América: el primer vengador</th>\n",
              "      <th>The Avengers</th>\n",
              "      <th>Iron Man 3</th>\n",
              "      <th>Thor: The Dark World</th>\n",
              "      <th>Captain America: The Winter Soldier</th>\n",
              "      <th>Guardianes de la Galaxia</th>\n",
              "      <th>Avengers: Age of Ultron</th>\n",
              "      <th>Ant-Man</th>\n",
              "      <th>Captain America: Civil War</th>\n",
              "      <th>Doctor Strange</th>\n",
              "      <th>Guardianes de la Galaxia Vol. 2</th>\n",
              "      <th>Spider-Man: Homecoming</th>\n",
              "      <th>Thor: Ragnarok</th>\n",
              "      <th>Black Panther</th>\n",
              "      <th>Avengers: Infinity War</th>\n",
              "      <th>Ant-Man and The Wasp</th>\n",
              "    </tr>\n",
              "  </thead>\n",
              "  <tbody>\n",
              "    <tr>\n",
              "      <th>0</th>\n",
              "      <td>10.0</td>\n",
              "      <td>1.0</td>\n",
              "      <td>5.0</td>\n",
              "      <td>1.0</td>\n",
              "      <td>8.0</td>\n",
              "      <td>19.0</td>\n",
              "      <td>7.0</td>\n",
              "      <td>1.0</td>\n",
              "      <td>18.0</td>\n",
              "      <td>15.0</td>\n",
              "      <td>7.0</td>\n",
              "      <td>8.0</td>\n",
              "      <td>20.0</td>\n",
              "      <td>17.0</td>\n",
              "      <td>3.0</td>\n",
              "      <td>1.0</td>\n",
              "      <td>9.0</td>\n",
              "      <td>8.0</td>\n",
              "      <td>20.0</td>\n",
              "      <td>9.0</td>\n",
              "    </tr>\n",
              "    <tr>\n",
              "      <th>1</th>\n",
              "      <td>15.0</td>\n",
              "      <td>13.0</td>\n",
              "      <td>6.0</td>\n",
              "      <td>3.0</td>\n",
              "      <td>11.0</td>\n",
              "      <td>NaN</td>\n",
              "      <td>NaN</td>\n",
              "      <td>5.0</td>\n",
              "      <td>NaN</td>\n",
              "      <td>NaN</td>\n",
              "      <td>12.0</td>\n",
              "      <td>13.0</td>\n",
              "      <td>NaN</td>\n",
              "      <td>NaN</td>\n",
              "      <td>6.0</td>\n",
              "      <td>6.0</td>\n",
              "      <td>13.0</td>\n",
              "      <td>NaN</td>\n",
              "      <td>NaN</td>\n",
              "      <td>NaN</td>\n",
              "    </tr>\n",
              "    <tr>\n",
              "      <th>2</th>\n",
              "      <td>16.0</td>\n",
              "      <td>NaN</td>\n",
              "      <td>10.0</td>\n",
              "      <td>10.0</td>\n",
              "      <td>NaN</td>\n",
              "      <td>NaN</td>\n",
              "      <td>NaN</td>\n",
              "      <td>NaN</td>\n",
              "      <td>NaN</td>\n",
              "      <td>NaN</td>\n",
              "      <td>17.0</td>\n",
              "      <td>14.0</td>\n",
              "      <td>NaN</td>\n",
              "      <td>NaN</td>\n",
              "      <td>20.0</td>\n",
              "      <td>12.0</td>\n",
              "      <td>18.0</td>\n",
              "      <td>NaN</td>\n",
              "      <td>NaN</td>\n",
              "      <td>NaN</td>\n",
              "    </tr>\n",
              "    <tr>\n",
              "      <th>3</th>\n",
              "      <td>17.0</td>\n",
              "      <td>NaN</td>\n",
              "      <td>14.0</td>\n",
              "      <td>13.0</td>\n",
              "      <td>NaN</td>\n",
              "      <td>NaN</td>\n",
              "      <td>NaN</td>\n",
              "      <td>NaN</td>\n",
              "      <td>NaN</td>\n",
              "      <td>NaN</td>\n",
              "      <td>NaN</td>\n",
              "      <td>17.0</td>\n",
              "      <td>NaN</td>\n",
              "      <td>NaN</td>\n",
              "      <td>NaN</td>\n",
              "      <td>14.0</td>\n",
              "      <td>NaN</td>\n",
              "      <td>NaN</td>\n",
              "      <td>NaN</td>\n",
              "      <td>NaN</td>\n",
              "    </tr>\n",
              "    <tr>\n",
              "      <th>4</th>\n",
              "      <td>NaN</td>\n",
              "      <td>NaN</td>\n",
              "      <td>NaN</td>\n",
              "      <td>NaN</td>\n",
              "      <td>NaN</td>\n",
              "      <td>NaN</td>\n",
              "      <td>NaN</td>\n",
              "      <td>NaN</td>\n",
              "      <td>NaN</td>\n",
              "      <td>NaN</td>\n",
              "      <td>NaN</td>\n",
              "      <td>19.0</td>\n",
              "      <td>NaN</td>\n",
              "      <td>NaN</td>\n",
              "      <td>NaN</td>\n",
              "      <td>20.0</td>\n",
              "      <td>NaN</td>\n",
              "      <td>NaN</td>\n",
              "      <td>NaN</td>\n",
              "      <td>NaN</td>\n",
              "    </tr>\n",
              "  </tbody>\n",
              "</table>\n",
              "</div>"
            ],
            "text/plain": [
              "   Iron Man  The Incredible Hulk  ...  Avengers: Infinity War  Ant-Man and The Wasp\n",
              "0      10.0                  1.0  ...                    20.0                   9.0\n",
              "1      15.0                 13.0  ...                     NaN                   NaN\n",
              "2      16.0                  NaN  ...                     NaN                   NaN\n",
              "3      17.0                  NaN  ...                     NaN                   NaN\n",
              "4       NaN                  NaN  ...                     NaN                   NaN\n",
              "\n",
              "[5 rows x 20 columns]"
            ]
          },
          "metadata": {
            "tags": []
          },
          "execution_count": 460
        }
      ]
    },
    {
      "cell_type": "code",
      "metadata": {
        "colab_type": "code",
        "id": "5ibUy3ul0gvU",
        "colab": {
          "base_uri": "https://localhost:8080/"
        },
        "outputId": "3966f155-b40d-4496-c58e-ba711814f8d4"
      },
      "source": [
        "df_mcu['Iron Man 2'].value_counts()\n"
      ],
      "execution_count": null,
      "outputs": [
        {
          "output_type": "execute_result",
          "data": {
            "text/plain": [
              "5.0     2\n",
              "10.0    2\n",
              "6.0     2\n",
              "14.0    2\n",
              "4.0     1\n",
              "18.0    1\n",
              "1.0     1\n",
              "3.0     1\n",
              "9.0     1\n",
              "12.0    1\n",
              "7.0     1\n",
              "Name: Iron Man 2, dtype: int64"
            ]
          },
          "metadata": {
            "tags": []
          },
          "execution_count": 461
        }
      ]
    },
    {
      "cell_type": "code",
      "metadata": {
        "colab_type": "code",
        "id": "z925LWiA0gvm",
        "colab": {
          "base_uri": "https://localhost:8080/"
        },
        "outputId": "d7ccc08a-9e3e-457f-d952-9eae87f47346"
      },
      "source": [
        "df_mcu['Thor'].value_counts()"
      ],
      "execution_count": null,
      "outputs": [
        {
          "output_type": "execute_result",
          "data": {
            "text/plain": [
              "3.0     2\n",
              "10.0    2\n",
              "1.0     2\n",
              "13.0    2\n",
              "8.0     1\n",
              "2.0     1\n",
              "5.0     1\n",
              "14.0    1\n",
              "9.0     1\n",
              "19.0    1\n",
              "7.0     1\n",
              "Name: Thor, dtype: int64"
            ]
          },
          "metadata": {
            "tags": []
          },
          "execution_count": 462
        }
      ]
    },
    {
      "cell_type": "markdown",
      "metadata": {
        "colab_type": "text",
        "id": "BOPZXyfE0gv9"
      },
      "source": [
        "### Máximo y mínimo"
      ]
    },
    {
      "cell_type": "code",
      "metadata": {
        "colab_type": "code",
        "id": "xcHxAO-90gwC",
        "colab": {
          "base_uri": "https://localhost:8080/"
        },
        "outputId": "b4bc8b9f-c75d-4e29-cf1d-c06eb6931e82"
      },
      "source": [
        "df_mcu.max()"
      ],
      "execution_count": null,
      "outputs": [
        {
          "output_type": "execute_result",
          "data": {
            "text/plain": [
              "Iron Man                               20.0\n",
              "The Incredible Hulk                    13.0\n",
              "Iron Man 2                             18.0\n",
              "Thor                                   19.0\n",
              "Capitán América: el primer vengador    20.0\n",
              "The Avengers                           20.0\n",
              "Iron Man 3                             15.0\n",
              "Thor: The Dark World                   19.0\n",
              "Captain America: The Winter Soldier    20.0\n",
              "Guardianes de la Galaxia               20.0\n",
              "Avengers: Age of Ultron                20.0\n",
              "Ant-Man                                19.0\n",
              "Captain America: Civil War             20.0\n",
              "Doctor Strange                         20.0\n",
              "Guardianes de la Galaxia Vol. 2        20.0\n",
              "Spider-Man: Homecoming                 20.0\n",
              "Thor: Ragnarok                         18.0\n",
              "Black Panther                          20.0\n",
              "Avengers: Infinity War                 20.0\n",
              "Ant-Man and The Wasp                   19.0\n",
              "dtype: float64"
            ]
          },
          "metadata": {
            "tags": []
          },
          "execution_count": 463
        }
      ]
    },
    {
      "cell_type": "code",
      "metadata": {
        "colab_type": "code",
        "id": "Pw2I--pV0gwW",
        "colab": {
          "base_uri": "https://localhost:8080/"
        },
        "outputId": "7cf13598-abe2-47c5-a0c5-d754faa4633f"
      },
      "source": [
        "# Ordenamiento ascendente\n",
        "df_mcu.max().sort_values()"
      ],
      "execution_count": null,
      "outputs": [
        {
          "output_type": "execute_result",
          "data": {
            "text/plain": [
              "The Incredible Hulk                    13.0\n",
              "Iron Man 3                             15.0\n",
              "Iron Man 2                             18.0\n",
              "Thor: Ragnarok                         18.0\n",
              "Ant-Man and The Wasp                   19.0\n",
              "Thor                                   19.0\n",
              "Thor: The Dark World                   19.0\n",
              "Ant-Man                                19.0\n",
              "Black Panther                          20.0\n",
              "Spider-Man: Homecoming                 20.0\n",
              "Guardianes de la Galaxia Vol. 2        20.0\n",
              "Doctor Strange                         20.0\n",
              "Iron Man                               20.0\n",
              "Avengers: Age of Ultron                20.0\n",
              "Avengers: Infinity War                 20.0\n",
              "Captain America: The Winter Soldier    20.0\n",
              "The Avengers                           20.0\n",
              "Capitán América: el primer vengador    20.0\n",
              "Captain America: Civil War             20.0\n",
              "Guardianes de la Galaxia               20.0\n",
              "dtype: float64"
            ]
          },
          "metadata": {
            "tags": []
          },
          "execution_count": 464
        }
      ]
    },
    {
      "cell_type": "code",
      "metadata": {
        "colab_type": "code",
        "id": "Qw1SndM50gwp",
        "colab": {
          "base_uri": "https://localhost:8080/"
        },
        "outputId": "4173a838-128c-435e-c7a2-0c0cd415852c"
      },
      "source": [
        "# Ordenamiento descendente\n",
        "df_mcu.max().sort_values(ascending=False)"
      ],
      "execution_count": null,
      "outputs": [
        {
          "output_type": "execute_result",
          "data": {
            "text/plain": [
              "Guardianes de la Galaxia               20.0\n",
              "Captain America: Civil War             20.0\n",
              "Capitán América: el primer vengador    20.0\n",
              "The Avengers                           20.0\n",
              "Captain America: The Winter Soldier    20.0\n",
              "Avengers: Infinity War                 20.0\n",
              "Avengers: Age of Ultron                20.0\n",
              "Iron Man                               20.0\n",
              "Doctor Strange                         20.0\n",
              "Guardianes de la Galaxia Vol. 2        20.0\n",
              "Spider-Man: Homecoming                 20.0\n",
              "Black Panther                          20.0\n",
              "Ant-Man                                19.0\n",
              "Thor: The Dark World                   19.0\n",
              "Thor                                   19.0\n",
              "Ant-Man and The Wasp                   19.0\n",
              "Thor: Ragnarok                         18.0\n",
              "Iron Man 2                             18.0\n",
              "Iron Man 3                             15.0\n",
              "The Incredible Hulk                    13.0\n",
              "dtype: float64"
            ]
          },
          "metadata": {
            "tags": []
          },
          "execution_count": 465
        }
      ]
    },
    {
      "cell_type": "code",
      "metadata": {
        "colab_type": "code",
        "id": "unLrXvE_0gxB",
        "colab": {
          "base_uri": "https://localhost:8080/"
        },
        "outputId": "517ea61e-eae1-4c38-8cd6-3a52b7c1dd9c"
      },
      "source": [
        "df_mcu.min()"
      ],
      "execution_count": null,
      "outputs": [
        {
          "output_type": "execute_result",
          "data": {
            "text/plain": [
              "Iron Man                               1.0\n",
              "The Incredible Hulk                    1.0\n",
              "Iron Man 2                             1.0\n",
              "Thor                                   1.0\n",
              "Capitán América: el primer vengador    1.0\n",
              "The Avengers                           1.0\n",
              "Iron Man 3                             1.0\n",
              "Thor: The Dark World                   1.0\n",
              "Captain America: The Winter Soldier    1.0\n",
              "Guardianes de la Galaxia               2.0\n",
              "Avengers: Age of Ultron                1.0\n",
              "Ant-Man                                1.0\n",
              "Captain America: Civil War             1.0\n",
              "Doctor Strange                         1.0\n",
              "Guardianes de la Galaxia Vol. 2        1.0\n",
              "Spider-Man: Homecoming                 1.0\n",
              "Thor: Ragnarok                         1.0\n",
              "Black Panther                          1.0\n",
              "Avengers: Infinity War                 1.0\n",
              "Ant-Man and The Wasp                   1.0\n",
              "dtype: float64"
            ]
          },
          "metadata": {
            "tags": []
          },
          "execution_count": 466
        }
      ]
    },
    {
      "cell_type": "code",
      "metadata": {
        "colab_type": "code",
        "id": "yAsp_lT70gxO",
        "colab": {
          "base_uri": "https://localhost:8080/"
        },
        "outputId": "d78559a0-2210-4c64-f057-c40673d4f095"
      },
      "source": [
        "df_mcu.max(axis=1)"
      ],
      "execution_count": null,
      "outputs": [
        {
          "output_type": "execute_result",
          "data": {
            "text/plain": [
              "0     20.0\n",
              "1      9.0\n",
              "2     20.0\n",
              "6     20.0\n",
              "7     20.0\n",
              "8     20.0\n",
              "9     20.0\n",
              "10    20.0\n",
              "11     2.0\n",
              "12    20.0\n",
              "13    20.0\n",
              "14    20.0\n",
              "19    18.0\n",
              "28    20.0\n",
              "29    18.0\n",
              "dtype: float64"
            ]
          },
          "metadata": {
            "tags": []
          },
          "execution_count": 467
        }
      ]
    },
    {
      "cell_type": "code",
      "metadata": {
        "colab_type": "code",
        "id": "XdTznkOn0gxf",
        "colab": {
          "base_uri": "https://localhost:8080/"
        },
        "outputId": "8d280f73-369a-4fc6-bdf8-a3116f44708a"
      },
      "source": [
        "df_mcu.max(skipna=False)"
      ],
      "execution_count": null,
      "outputs": [
        {
          "output_type": "execute_result",
          "data": {
            "text/plain": [
              "Iron Man                               20.0\n",
              "The Incredible Hulk                    13.0\n",
              "Iron Man 2                             18.0\n",
              "Thor                                   19.0\n",
              "Capitán América: el primer vengador    20.0\n",
              "The Avengers                           20.0\n",
              "Iron Man 3                             15.0\n",
              "Thor: The Dark World                   19.0\n",
              "Captain America: The Winter Soldier    20.0\n",
              "Guardianes de la Galaxia               20.0\n",
              "Avengers: Age of Ultron                20.0\n",
              "Ant-Man                                19.0\n",
              "Captain America: Civil War             20.0\n",
              "Doctor Strange                         20.0\n",
              "Guardianes de la Galaxia Vol. 2        20.0\n",
              "Spider-Man: Homecoming                 20.0\n",
              "Thor: Ragnarok                         18.0\n",
              "Black Panther                          20.0\n",
              "Avengers: Infinity War                 20.0\n",
              "Ant-Man and The Wasp                   19.0\n",
              "dtype: float64"
            ]
          },
          "metadata": {
            "tags": []
          },
          "execution_count": 468
        }
      ]
    },
    {
      "cell_type": "markdown",
      "metadata": {
        "colab_type": "text",
        "id": "Tl9u-2Nw0gxu"
      },
      "source": [
        "### Desviación estándar y varianza"
      ]
    },
    {
      "cell_type": "code",
      "metadata": {
        "colab_type": "code",
        "id": "yr5ytY7q0gxz",
        "colab": {
          "base_uri": "https://localhost:8080/"
        },
        "outputId": "4e4d84a9-5af8-4846-9258-d5e3f9ab65ca"
      },
      "source": [
        "disp = df_mcu.var()\n",
        "disp"
      ],
      "execution_count": null,
      "outputs": [
        {
          "output_type": "execute_result",
          "data": {
            "text/plain": [
              "Iron Man                               25.714286\n",
              "The Incredible Hulk                    24.552381\n",
              "Iron Man 2                             22.352381\n",
              "Thor                                   29.266667\n",
              "Capitán América: el primer vengador    24.638095\n",
              "The Avengers                           26.980952\n",
              "Iron Man 3                             18.971429\n",
              "Thor: The Dark World                   29.638095\n",
              "Captain America: The Winter Soldier    33.980952\n",
              "Guardianes de la Galaxia               26.780952\n",
              "Avengers: Age of Ultron                25.695238\n",
              "Ant-Man                                27.695238\n",
              "Captain America: Civil War             35.314286\n",
              "Doctor Strange                         41.695238\n",
              "Guardianes de la Galaxia Vol. 2        42.809524\n",
              "Spider-Man: Homecoming                 38.923810\n",
              "Thor: Ragnarok                         30.742857\n",
              "Black Panther                          47.552381\n",
              "Avengers: Infinity War                 27.923810\n",
              "Ant-Man and The Wasp                   25.923810\n",
              "dtype: float64"
            ]
          },
          "metadata": {
            "tags": []
          },
          "execution_count": 469
        }
      ]
    },
    {
      "cell_type": "code",
      "metadata": {
        "colab_type": "code",
        "id": "tqvSuQ6e0gyA",
        "colab": {}
      },
      "source": [
        "# varianza\n",
        "disp = df_mcu.var()\n",
        "disp = disp.sort_values()\n",
        "disp\n",
        "\n",
        "# desviasion estandar\n",
        "disp = df_mcu.std()\n",
        "disp = disp.sort_values()\n",
        "\n",
        "# import plotly.express as px\n",
        "# fig = px.bar(y=disp.index, x=disp.values,  orientation='h')\n",
        "# fig.update_layout(title='Controversia generada por la película',\n",
        "#                  xaxis_title=\"Controversia generada\",\n",
        "#                  yaxis_title=\"Película\",)\n",
        "# fig.show()"
      ],
      "execution_count": null,
      "outputs": []
    },
    {
      "cell_type": "markdown",
      "metadata": {
        "colab_type": "text",
        "id": "cdKqtMAs0gyQ"
      },
      "source": [
        "## Estadísticos de asociación\n",
        "\n",
        "* Covarianza\n",
        "* Correlación"
      ]
    },
    {
      "cell_type": "markdown",
      "metadata": {
        "colab_type": "text",
        "id": "5XxOUWfH0gyS"
      },
      "source": [
        "### Matriz de varianzas y covarianzas, matriz de correlaciones"
      ]
    },
    {
      "cell_type": "code",
      "metadata": {
        "colab_type": "code",
        "id": "0TdZMuJA0gyX",
        "colab": {
          "base_uri": "https://localhost:8080/"
        },
        "outputId": "f74699d4-b914-4924-bf00-dc01b864fc52"
      },
      "source": [
        "cov = df_mcu.cov()\n",
        "cov\n"
      ],
      "execution_count": null,
      "outputs": [
        {
          "output_type": "execute_result",
          "data": {
            "text/html": [
              "<div>\n",
              "<style scoped>\n",
              "    .dataframe tbody tr th:only-of-type {\n",
              "        vertical-align: middle;\n",
              "    }\n",
              "\n",
              "    .dataframe tbody tr th {\n",
              "        vertical-align: top;\n",
              "    }\n",
              "\n",
              "    .dataframe thead th {\n",
              "        text-align: right;\n",
              "    }\n",
              "</style>\n",
              "<table border=\"1\" class=\"dataframe\">\n",
              "  <thead>\n",
              "    <tr style=\"text-align: right;\">\n",
              "      <th></th>\n",
              "      <th>Iron Man</th>\n",
              "      <th>The Incredible Hulk</th>\n",
              "      <th>Iron Man 2</th>\n",
              "      <th>Thor</th>\n",
              "      <th>Capitán América: el primer vengador</th>\n",
              "      <th>The Avengers</th>\n",
              "      <th>Iron Man 3</th>\n",
              "      <th>Thor: The Dark World</th>\n",
              "      <th>Captain America: The Winter Soldier</th>\n",
              "      <th>Guardianes de la Galaxia</th>\n",
              "      <th>Avengers: Age of Ultron</th>\n",
              "      <th>Ant-Man</th>\n",
              "      <th>Captain America: Civil War</th>\n",
              "      <th>Doctor Strange</th>\n",
              "      <th>Guardianes de la Galaxia Vol. 2</th>\n",
              "      <th>Spider-Man: Homecoming</th>\n",
              "      <th>Thor: Ragnarok</th>\n",
              "      <th>Black Panther</th>\n",
              "      <th>Avengers: Infinity War</th>\n",
              "      <th>Ant-Man and The Wasp</th>\n",
              "    </tr>\n",
              "  </thead>\n",
              "  <tbody>\n",
              "    <tr>\n",
              "      <th>Iron Man</th>\n",
              "      <td>25.714286</td>\n",
              "      <td>17.071429</td>\n",
              "      <td>12.142857</td>\n",
              "      <td>16.357143</td>\n",
              "      <td>12.000000</td>\n",
              "      <td>20.285714</td>\n",
              "      <td>9.214286</td>\n",
              "      <td>8.142857</td>\n",
              "      <td>13.714286</td>\n",
              "      <td>23.857143</td>\n",
              "      <td>16.000000</td>\n",
              "      <td>15.642857</td>\n",
              "      <td>22.428571</td>\n",
              "      <td>15.714286</td>\n",
              "      <td>12.714286</td>\n",
              "      <td>9.785714</td>\n",
              "      <td>14.285714</td>\n",
              "      <td>12.571429</td>\n",
              "      <td>19.285714</td>\n",
              "      <td>9.928571</td>\n",
              "    </tr>\n",
              "    <tr>\n",
              "      <th>The Incredible Hulk</th>\n",
              "      <td>17.071429</td>\n",
              "      <td>24.552381</td>\n",
              "      <td>15.366667</td>\n",
              "      <td>23.066667</td>\n",
              "      <td>11.795238</td>\n",
              "      <td>19.566667</td>\n",
              "      <td>8.057143</td>\n",
              "      <td>12.676190</td>\n",
              "      <td>5.576190</td>\n",
              "      <td>19.438095</td>\n",
              "      <td>17.519048</td>\n",
              "      <td>11.066667</td>\n",
              "      <td>10.685714</td>\n",
              "      <td>8.219048</td>\n",
              "      <td>8.380952</td>\n",
              "      <td>5.038095</td>\n",
              "      <td>7.814286</td>\n",
              "      <td>7.519048</td>\n",
              "      <td>15.609524</td>\n",
              "      <td>13.723810</td>\n",
              "    </tr>\n",
              "    <tr>\n",
              "      <th>Iron Man 2</th>\n",
              "      <td>12.142857</td>\n",
              "      <td>15.366667</td>\n",
              "      <td>22.352381</td>\n",
              "      <td>17.109524</td>\n",
              "      <td>7.209524</td>\n",
              "      <td>12.395238</td>\n",
              "      <td>9.185714</td>\n",
              "      <td>16.804762</td>\n",
              "      <td>-3.680952</td>\n",
              "      <td>11.995238</td>\n",
              "      <td>15.204762</td>\n",
              "      <td>9.252381</td>\n",
              "      <td>6.371429</td>\n",
              "      <td>9.890476</td>\n",
              "      <td>5.166667</td>\n",
              "      <td>6.623810</td>\n",
              "      <td>9.271429</td>\n",
              "      <td>-5.795238</td>\n",
              "      <td>11.695238</td>\n",
              "      <td>15.280952</td>\n",
              "    </tr>\n",
              "    <tr>\n",
              "      <th>Thor</th>\n",
              "      <td>16.357143</td>\n",
              "      <td>23.066667</td>\n",
              "      <td>17.109524</td>\n",
              "      <td>29.266667</td>\n",
              "      <td>16.395238</td>\n",
              "      <td>18.052381</td>\n",
              "      <td>8.371429</td>\n",
              "      <td>18.561905</td>\n",
              "      <td>10.447619</td>\n",
              "      <td>19.395238</td>\n",
              "      <td>16.433333</td>\n",
              "      <td>9.695238</td>\n",
              "      <td>13.100000</td>\n",
              "      <td>13.090476</td>\n",
              "      <td>19.023810</td>\n",
              "      <td>11.938095</td>\n",
              "      <td>16.757143</td>\n",
              "      <td>14.290476</td>\n",
              "      <td>16.366667</td>\n",
              "      <td>16.466667</td>\n",
              "    </tr>\n",
              "    <tr>\n",
              "      <th>Capitán América: el primer vengador</th>\n",
              "      <td>12.000000</td>\n",
              "      <td>11.795238</td>\n",
              "      <td>7.209524</td>\n",
              "      <td>16.395238</td>\n",
              "      <td>24.638095</td>\n",
              "      <td>16.823810</td>\n",
              "      <td>13.042857</td>\n",
              "      <td>7.876190</td>\n",
              "      <td>19.890476</td>\n",
              "      <td>11.709524</td>\n",
              "      <td>10.061905</td>\n",
              "      <td>14.252381</td>\n",
              "      <td>21.585714</td>\n",
              "      <td>11.319048</td>\n",
              "      <td>16.380952</td>\n",
              "      <td>14.409524</td>\n",
              "      <td>14.342857</td>\n",
              "      <td>19.847619</td>\n",
              "      <td>16.409524</td>\n",
              "      <td>14.852381</td>\n",
              "    </tr>\n",
              "    <tr>\n",
              "      <th>The Avengers</th>\n",
              "      <td>20.285714</td>\n",
              "      <td>19.566667</td>\n",
              "      <td>12.395238</td>\n",
              "      <td>18.052381</td>\n",
              "      <td>16.823810</td>\n",
              "      <td>26.980952</td>\n",
              "      <td>7.442857</td>\n",
              "      <td>10.490476</td>\n",
              "      <td>15.304762</td>\n",
              "      <td>21.538095</td>\n",
              "      <td>18.290476</td>\n",
              "      <td>18.552381</td>\n",
              "      <td>20.242857</td>\n",
              "      <td>13.519048</td>\n",
              "      <td>7.595238</td>\n",
              "      <td>12.009524</td>\n",
              "      <td>8.971429</td>\n",
              "      <td>12.433333</td>\n",
              "      <td>25.152381</td>\n",
              "      <td>16.038095</td>\n",
              "    </tr>\n",
              "    <tr>\n",
              "      <th>Iron Man 3</th>\n",
              "      <td>9.214286</td>\n",
              "      <td>8.057143</td>\n",
              "      <td>9.185714</td>\n",
              "      <td>8.371429</td>\n",
              "      <td>13.042857</td>\n",
              "      <td>7.442857</td>\n",
              "      <td>18.971429</td>\n",
              "      <td>6.185714</td>\n",
              "      <td>6.342857</td>\n",
              "      <td>7.828571</td>\n",
              "      <td>6.871429</td>\n",
              "      <td>13.800000</td>\n",
              "      <td>9.942857</td>\n",
              "      <td>1.200000</td>\n",
              "      <td>10.714286</td>\n",
              "      <td>10.885714</td>\n",
              "      <td>8.914286</td>\n",
              "      <td>0.728571</td>\n",
              "      <td>7.528571</td>\n",
              "      <td>14.757143</td>\n",
              "    </tr>\n",
              "    <tr>\n",
              "      <th>Thor: The Dark World</th>\n",
              "      <td>8.142857</td>\n",
              "      <td>12.676190</td>\n",
              "      <td>16.804762</td>\n",
              "      <td>18.561905</td>\n",
              "      <td>7.876190</td>\n",
              "      <td>10.490476</td>\n",
              "      <td>6.185714</td>\n",
              "      <td>29.638095</td>\n",
              "      <td>4.509524</td>\n",
              "      <td>12.233333</td>\n",
              "      <td>18.038095</td>\n",
              "      <td>7.704762</td>\n",
              "      <td>2.157143</td>\n",
              "      <td>9.509524</td>\n",
              "      <td>14.190476</td>\n",
              "      <td>17.076190</td>\n",
              "      <td>8.057143</td>\n",
              "      <td>4.038095</td>\n",
              "      <td>10.361905</td>\n",
              "      <td>16.804762</td>\n",
              "    </tr>\n",
              "    <tr>\n",
              "      <th>Captain America: The Winter Soldier</th>\n",
              "      <td>13.714286</td>\n",
              "      <td>5.576190</td>\n",
              "      <td>-3.680952</td>\n",
              "      <td>10.447619</td>\n",
              "      <td>19.890476</td>\n",
              "      <td>15.304762</td>\n",
              "      <td>6.342857</td>\n",
              "      <td>4.509524</td>\n",
              "      <td>33.980952</td>\n",
              "      <td>12.961905</td>\n",
              "      <td>8.923810</td>\n",
              "      <td>13.304762</td>\n",
              "      <td>25.471429</td>\n",
              "      <td>16.266667</td>\n",
              "      <td>21.976190</td>\n",
              "      <td>18.276190</td>\n",
              "      <td>17.885714</td>\n",
              "      <td>35.423810</td>\n",
              "      <td>18.347619</td>\n",
              "      <td>8.604762</td>\n",
              "    </tr>\n",
              "    <tr>\n",
              "      <th>Guardianes de la Galaxia</th>\n",
              "      <td>23.857143</td>\n",
              "      <td>19.438095</td>\n",
              "      <td>11.995238</td>\n",
              "      <td>19.395238</td>\n",
              "      <td>11.709524</td>\n",
              "      <td>21.538095</td>\n",
              "      <td>7.828571</td>\n",
              "      <td>12.233333</td>\n",
              "      <td>12.961905</td>\n",
              "      <td>26.780952</td>\n",
              "      <td>16.347619</td>\n",
              "      <td>14.323810</td>\n",
              "      <td>15.942857</td>\n",
              "      <td>9.176190</td>\n",
              "      <td>10.666667</td>\n",
              "      <td>7.695238</td>\n",
              "      <td>12.842857</td>\n",
              "      <td>13.633333</td>\n",
              "      <td>19.338095</td>\n",
              "      <td>10.709524</td>\n",
              "    </tr>\n",
              "    <tr>\n",
              "      <th>Avengers: Age of Ultron</th>\n",
              "      <td>16.000000</td>\n",
              "      <td>17.519048</td>\n",
              "      <td>15.204762</td>\n",
              "      <td>16.433333</td>\n",
              "      <td>10.061905</td>\n",
              "      <td>18.290476</td>\n",
              "      <td>6.871429</td>\n",
              "      <td>18.038095</td>\n",
              "      <td>8.923810</td>\n",
              "      <td>16.347619</td>\n",
              "      <td>25.695238</td>\n",
              "      <td>13.004762</td>\n",
              "      <td>14.314286</td>\n",
              "      <td>12.780952</td>\n",
              "      <td>8.190476</td>\n",
              "      <td>9.533333</td>\n",
              "      <td>4.185714</td>\n",
              "      <td>9.766667</td>\n",
              "      <td>18.461905</td>\n",
              "      <td>13.633333</td>\n",
              "    </tr>\n",
              "    <tr>\n",
              "      <th>Ant-Man</th>\n",
              "      <td>15.642857</td>\n",
              "      <td>11.066667</td>\n",
              "      <td>9.252381</td>\n",
              "      <td>9.695238</td>\n",
              "      <td>14.252381</td>\n",
              "      <td>18.552381</td>\n",
              "      <td>13.800000</td>\n",
              "      <td>7.704762</td>\n",
              "      <td>13.304762</td>\n",
              "      <td>14.323810</td>\n",
              "      <td>13.004762</td>\n",
              "      <td>27.695238</td>\n",
              "      <td>18.742857</td>\n",
              "      <td>13.447619</td>\n",
              "      <td>12.309524</td>\n",
              "      <td>18.509524</td>\n",
              "      <td>3.757143</td>\n",
              "      <td>3.290476</td>\n",
              "      <td>16.438095</td>\n",
              "      <td>20.109524</td>\n",
              "    </tr>\n",
              "    <tr>\n",
              "      <th>Captain America: Civil War</th>\n",
              "      <td>22.428571</td>\n",
              "      <td>10.685714</td>\n",
              "      <td>6.371429</td>\n",
              "      <td>13.100000</td>\n",
              "      <td>21.585714</td>\n",
              "      <td>20.242857</td>\n",
              "      <td>9.942857</td>\n",
              "      <td>2.157143</td>\n",
              "      <td>25.471429</td>\n",
              "      <td>15.942857</td>\n",
              "      <td>14.314286</td>\n",
              "      <td>18.742857</td>\n",
              "      <td>35.314286</td>\n",
              "      <td>24.900000</td>\n",
              "      <td>18.928571</td>\n",
              "      <td>16.200000</td>\n",
              "      <td>16.900000</td>\n",
              "      <td>23.957143</td>\n",
              "      <td>21.985714</td>\n",
              "      <td>10.514286</td>\n",
              "    </tr>\n",
              "    <tr>\n",
              "      <th>Doctor Strange</th>\n",
              "      <td>15.714286</td>\n",
              "      <td>8.219048</td>\n",
              "      <td>9.890476</td>\n",
              "      <td>13.090476</td>\n",
              "      <td>11.319048</td>\n",
              "      <td>13.519048</td>\n",
              "      <td>1.200000</td>\n",
              "      <td>9.509524</td>\n",
              "      <td>16.266667</td>\n",
              "      <td>9.176190</td>\n",
              "      <td>12.780952</td>\n",
              "      <td>13.447619</td>\n",
              "      <td>24.900000</td>\n",
              "      <td>41.695238</td>\n",
              "      <td>27.833333</td>\n",
              "      <td>26.419048</td>\n",
              "      <td>18.671429</td>\n",
              "      <td>17.138095</td>\n",
              "      <td>16.061905</td>\n",
              "      <td>14.247619</td>\n",
              "    </tr>\n",
              "    <tr>\n",
              "      <th>Guardianes de la Galaxia Vol. 2</th>\n",
              "      <td>12.714286</td>\n",
              "      <td>8.380952</td>\n",
              "      <td>5.166667</td>\n",
              "      <td>19.023810</td>\n",
              "      <td>16.380952</td>\n",
              "      <td>7.595238</td>\n",
              "      <td>10.714286</td>\n",
              "      <td>14.190476</td>\n",
              "      <td>21.976190</td>\n",
              "      <td>10.666667</td>\n",
              "      <td>8.190476</td>\n",
              "      <td>12.309524</td>\n",
              "      <td>18.928571</td>\n",
              "      <td>27.833333</td>\n",
              "      <td>42.809524</td>\n",
              "      <td>33.380952</td>\n",
              "      <td>23.500000</td>\n",
              "      <td>23.404762</td>\n",
              "      <td>9.880952</td>\n",
              "      <td>18.238095</td>\n",
              "    </tr>\n",
              "    <tr>\n",
              "      <th>Spider-Man: Homecoming</th>\n",
              "      <td>9.785714</td>\n",
              "      <td>5.038095</td>\n",
              "      <td>6.623810</td>\n",
              "      <td>11.938095</td>\n",
              "      <td>14.409524</td>\n",
              "      <td>12.009524</td>\n",
              "      <td>10.885714</td>\n",
              "      <td>17.076190</td>\n",
              "      <td>18.276190</td>\n",
              "      <td>7.695238</td>\n",
              "      <td>9.533333</td>\n",
              "      <td>18.509524</td>\n",
              "      <td>16.200000</td>\n",
              "      <td>26.419048</td>\n",
              "      <td>33.380952</td>\n",
              "      <td>38.923810</td>\n",
              "      <td>15.300000</td>\n",
              "      <td>10.461905</td>\n",
              "      <td>14.709524</td>\n",
              "      <td>24.052381</td>\n",
              "    </tr>\n",
              "    <tr>\n",
              "      <th>Thor: Ragnarok</th>\n",
              "      <td>14.285714</td>\n",
              "      <td>7.814286</td>\n",
              "      <td>9.271429</td>\n",
              "      <td>16.757143</td>\n",
              "      <td>14.342857</td>\n",
              "      <td>8.971429</td>\n",
              "      <td>8.914286</td>\n",
              "      <td>8.057143</td>\n",
              "      <td>17.885714</td>\n",
              "      <td>12.842857</td>\n",
              "      <td>4.185714</td>\n",
              "      <td>3.757143</td>\n",
              "      <td>16.900000</td>\n",
              "      <td>18.671429</td>\n",
              "      <td>23.500000</td>\n",
              "      <td>15.300000</td>\n",
              "      <td>30.742857</td>\n",
              "      <td>21.542857</td>\n",
              "      <td>14.228571</td>\n",
              "      <td>9.985714</td>\n",
              "    </tr>\n",
              "    <tr>\n",
              "      <th>Black Panther</th>\n",
              "      <td>12.571429</td>\n",
              "      <td>7.519048</td>\n",
              "      <td>-5.795238</td>\n",
              "      <td>14.290476</td>\n",
              "      <td>19.847619</td>\n",
              "      <td>12.433333</td>\n",
              "      <td>0.728571</td>\n",
              "      <td>4.038095</td>\n",
              "      <td>35.423810</td>\n",
              "      <td>13.633333</td>\n",
              "      <td>9.766667</td>\n",
              "      <td>3.290476</td>\n",
              "      <td>23.957143</td>\n",
              "      <td>17.138095</td>\n",
              "      <td>23.404762</td>\n",
              "      <td>10.461905</td>\n",
              "      <td>21.542857</td>\n",
              "      <td>47.552381</td>\n",
              "      <td>15.604762</td>\n",
              "      <td>1.204762</td>\n",
              "    </tr>\n",
              "    <tr>\n",
              "      <th>Avengers: Infinity War</th>\n",
              "      <td>19.285714</td>\n",
              "      <td>15.609524</td>\n",
              "      <td>11.695238</td>\n",
              "      <td>16.366667</td>\n",
              "      <td>16.409524</td>\n",
              "      <td>25.152381</td>\n",
              "      <td>7.528571</td>\n",
              "      <td>10.361905</td>\n",
              "      <td>18.347619</td>\n",
              "      <td>19.338095</td>\n",
              "      <td>18.461905</td>\n",
              "      <td>16.438095</td>\n",
              "      <td>21.985714</td>\n",
              "      <td>16.061905</td>\n",
              "      <td>9.880952</td>\n",
              "      <td>14.709524</td>\n",
              "      <td>14.228571</td>\n",
              "      <td>15.604762</td>\n",
              "      <td>27.923810</td>\n",
              "      <td>15.838095</td>\n",
              "    </tr>\n",
              "    <tr>\n",
              "      <th>Ant-Man and The Wasp</th>\n",
              "      <td>9.928571</td>\n",
              "      <td>13.723810</td>\n",
              "      <td>15.280952</td>\n",
              "      <td>16.466667</td>\n",
              "      <td>14.852381</td>\n",
              "      <td>16.038095</td>\n",
              "      <td>14.757143</td>\n",
              "      <td>16.804762</td>\n",
              "      <td>8.604762</td>\n",
              "      <td>10.709524</td>\n",
              "      <td>13.633333</td>\n",
              "      <td>20.109524</td>\n",
              "      <td>10.514286</td>\n",
              "      <td>14.247619</td>\n",
              "      <td>18.238095</td>\n",
              "      <td>24.052381</td>\n",
              "      <td>9.985714</td>\n",
              "      <td>1.204762</td>\n",
              "      <td>15.838095</td>\n",
              "      <td>25.923810</td>\n",
              "    </tr>\n",
              "  </tbody>\n",
              "</table>\n",
              "</div>"
            ],
            "text/plain": [
              "                                      Iron Man  ...  Ant-Man and The Wasp\n",
              "Iron Man                             25.714286  ...              9.928571\n",
              "The Incredible Hulk                  17.071429  ...             13.723810\n",
              "Iron Man 2                           12.142857  ...             15.280952\n",
              "Thor                                 16.357143  ...             16.466667\n",
              "Capitán América: el primer vengador  12.000000  ...             14.852381\n",
              "The Avengers                         20.285714  ...             16.038095\n",
              "Iron Man 3                            9.214286  ...             14.757143\n",
              "Thor: The Dark World                  8.142857  ...             16.804762\n",
              "Captain America: The Winter Soldier  13.714286  ...              8.604762\n",
              "Guardianes de la Galaxia             23.857143  ...             10.709524\n",
              "Avengers: Age of Ultron              16.000000  ...             13.633333\n",
              "Ant-Man                              15.642857  ...             20.109524\n",
              "Captain America: Civil War           22.428571  ...             10.514286\n",
              "Doctor Strange                       15.714286  ...             14.247619\n",
              "Guardianes de la Galaxia Vol. 2      12.714286  ...             18.238095\n",
              "Spider-Man: Homecoming                9.785714  ...             24.052381\n",
              "Thor: Ragnarok                       14.285714  ...              9.985714\n",
              "Black Panther                        12.571429  ...              1.204762\n",
              "Avengers: Infinity War               19.285714  ...             15.838095\n",
              "Ant-Man and The Wasp                  9.928571  ...             25.923810\n",
              "\n",
              "[20 rows x 20 columns]"
            ]
          },
          "metadata": {
            "tags": []
          },
          "execution_count": 471
        }
      ]
    },
    {
      "cell_type": "code",
      "metadata": {
        "colab_type": "code",
        "id": "haOJKulR0gyp",
        "colab": {
          "base_uri": "https://localhost:8080/"
        },
        "outputId": "4c44739e-924b-4d99-9f31-e903197048ef"
      },
      "source": [
        "corr = df_mcu.corr() # Tipos de correlaciones\n",
        "\n",
        "import plotly.graph_objects as go\n",
        "\n",
        "fig = go.Figure(data=go.Heatmap(z=corr.values,\n",
        "                        x=corr.columns.values,\n",
        "                        y=corr.columns.values))\n",
        "fig.show()"
      ],
      "execution_count": null,
      "outputs": [
        {
          "output_type": "display_data",
          "data": {
            "text/html": [
              "<html>\n",
              "<head><meta charset=\"utf-8\" /></head>\n",
              "<body>\n",
              "    <div>\n",
              "            <script src=\"https://cdnjs.cloudflare.com/ajax/libs/mathjax/2.7.5/MathJax.js?config=TeX-AMS-MML_SVG\"></script><script type=\"text/javascript\">if (window.MathJax) {MathJax.Hub.Config({SVG: {font: \"STIX-Web\"}});}</script>\n",
              "                <script type=\"text/javascript\">window.PlotlyConfig = {MathJaxConfig: 'local'};</script>\n",
              "        <script src=\"https://cdn.plot.ly/plotly-latest.min.js\"></script>    \n",
              "            <div id=\"2bc379c9-4d11-42c7-b1c3-6ce6e4d57f6b\" class=\"plotly-graph-div\" style=\"height:525px; width:100%;\"></div>\n",
              "            <script type=\"text/javascript\">\n",
              "                \n",
              "                    window.PLOTLYENV=window.PLOTLYENV || {};\n",
              "                    \n",
              "                if (document.getElementById(\"2bc379c9-4d11-42c7-b1c3-6ce6e4d57f6b\")) {\n",
              "                    Plotly.newPlot(\n",
              "                        '2bc379c9-4d11-42c7-b1c3-6ce6e4d57f6b',\n",
              "                        [{\"type\": \"heatmap\", \"x\": [\"Iron Man\", \"The Incredible Hulk\", \"Iron Man 2\", \"Thor\", \"Capit\\u00e1n Am\\u00e9rica: el primer vengador\", \"The Avengers\", \"Iron Man 3\", \"Thor: The Dark World\", \"Captain America: The Winter Soldier\", \"Guardianes de la Galaxia\", \"Avengers: Age of Ultron\", \"Ant-Man\", \"Captain America: Civil War\", \"Doctor Strange\", \"Guardianes de la Galaxia Vol. 2\", \"Spider-Man: Homecoming\", \"Thor: Ragnarok\", \"Black Panther\", \"Avengers: Infinity War\", \"Ant-Man and The Wasp\"], \"y\": [\"Iron Man\", \"The Incredible Hulk\", \"Iron Man 2\", \"Thor\", \"Capit\\u00e1n Am\\u00e9rica: el primer vengador\", \"The Avengers\", \"Iron Man 3\", \"Thor: The Dark World\", \"Captain America: The Winter Soldier\", \"Guardianes de la Galaxia\", \"Avengers: Age of Ultron\", \"Ant-Man\", \"Captain America: Civil War\", \"Doctor Strange\", \"Guardianes de la Galaxia Vol. 2\", \"Spider-Man: Homecoming\", \"Thor: Ragnarok\", \"Black Panther\", \"Avengers: Infinity War\", \"Ant-Man and The Wasp\"], \"z\": [[1.0, 0.6794160870125466, 0.5064910294398083, 0.5962571275045782, 0.47674972222546325, 0.7701484294375349, 0.4171809075671539, 0.2949608923578947, 0.46394680381623554, 0.9091136737957519, 0.6224528030054649, 0.5861736542675379, 0.7442848288850513, 0.4799148444843616, 0.3832079722794649, 0.3093126128564206, 0.5080923007080771, 0.35951024091856154, 0.7197160081121432, 0.38454761408619825], [0.6794160870125466, 1.0, 0.6559503504558358, 0.860501045188693, 0.4795747842136317, 0.7602236951081703, 0.3733225636229925, 0.4699122912738555, 0.1930514287123807, 0.7580430843789547, 0.6974890003011094, 0.42439227538675806, 0.3628954622372487, 0.2568806908779772, 0.2585094166294594, 0.16297158774635467, 0.2844267021868991, 0.2200543179560751, 0.596149953035894, 0.5439744025573733], [0.5064910294398083, 0.6559503504558358, 1.0, 0.6689434360441673, 0.30721408302437647, 0.5047360682761094, 0.4460679498459795, 0.6528979781874319, -0.13356126711092636, 0.4902684755701562, 0.6344412401996088, 0.37186821492269645, 0.2267773678474609, 0.32397543186217337, 0.16702379595566208, 0.22456303575382275, 0.35368174776920275, -0.17775558491284796, 0.46812284849727526, 0.6348032129522075], [0.5962571275045782, 0.860501045188693, 0.6689434360441673, 1.0, 0.6105588526260971, 0.6424202489762101, 0.3552735927769418, 0.6302469676900613, 0.3312935072582569, 0.6927802148095206, 0.5992564412270152, 0.3405409135706622, 0.40748295962632386, 0.37473614556051127, 0.5374532084169904, 0.3537046255496597, 0.55865183292822, 0.3830662909205834, 0.5725142137914488, 0.5978189159733365], [0.47674972222546325, 0.4795747842136317, 0.30721408302437647, 0.6105588526260971, 1.0, 0.6525174647722072, 0.6032803158929299, 0.2914657316633431, 0.6874226574628031, 0.4558507362207632, 0.3998989965356323, 0.5456087238459653, 0.7317919812298436, 0.35315315710202244, 0.5043887419948102, 0.4653057237113198, 0.5211467028865332, 0.5798540799023676, 0.6256120139392399, 0.5876829679442427], [0.7701484294375349, 0.7602236951081703, 0.5047360682761094, 0.6424202489762101, 0.6525174647722072, 1.0, 0.32897358535130444, 0.37097224654768185, 0.5054522878509966, 0.8012455797439937, 0.6946564164242393, 0.6786853336095667, 0.6557947858285769, 0.403064204622593, 0.22348200365961116, 0.370586402712495, 0.3115020094060147, 0.3471145400069824, 0.9163536856558647, 0.6064217082565088], [0.4171809075671539, 0.3733225636229925, 0.4460679498459795, 0.3552735927769418, 0.6032803158929299, 0.32897358535130444, 1.0, 0.26086432729354336, 0.24981421050420988, 0.3473117628163264, 0.3112222912563143, 0.6020416222710183, 0.3841368483489257, 0.042666596376310956, 0.3759611829011348, 0.40058920745692544, 0.36911731549859167, 0.02425693838654546, 0.3270959932169446, 0.665430730177508], [0.2949608923578947, 0.4699122912738555, 0.6528979781874319, 0.6302469676900613, 0.2914657316633431, 0.37097224654768185, 0.26086432729354336, 1.0, 0.14209793487657646, 0.4342168338145912, 0.6536408827489889, 0.26892521614767184, 0.06667738353017709, 0.27051440501192375, 0.3983837599969094, 0.5027570584097966, 0.2669216530964369, 0.10756358771438189, 0.3601862404440659, 0.6062584545734483], [0.46394680381623554, 0.1930514287123807, -0.13356126711092636, 0.3312935072582569, 0.6874226574628031, 0.5054522878509966, 0.24981421050420988, 0.14209793487657646, 1.0, 0.42967298025537476, 0.30199948014123795, 0.43369736364161415, 0.7352928055353196, 0.4321530325111873, 0.576188304644977, 0.5025279631063362, 0.5533710080519094, 0.8812342278695096, 0.5956273171565, 0.2899156592644826], [0.9091136737957519, 0.7580430843789547, 0.4902684755701562, 0.6927802148095206, 0.4558507362207632, 0.8012455797439937, 0.3473117628163264, 0.4342168338145912, 0.42967298025537476, 1.0, 0.6231823963905624, 0.5259482046804476, 0.5184154460541891, 0.2746035720189354, 0.3150253599469459, 0.23834244147049746, 0.447586036872064, 0.3820347877256096, 0.7071529422263382, 0.4064505739557429], [0.6224528030054649, 0.6974890003011094, 0.6344412401996088, 0.5992564412270152, 0.3998989965356323, 0.6946564164242393, 0.3112222912563143, 0.6536408827489889, 0.30199948014123795, 0.6231823963905624, 1.0, 0.48749877722841023, 0.4751909327762759, 0.3904753874859982, 0.2469520470773816, 0.3014468749431188, 0.14892621218203303, 0.2794048297606367, 0.6892279004505162, 0.528233961007016], [0.5861736542675379, 0.42439227538675806, 0.37186821492269645, 0.3405409135706622, 0.5456087238459653, 0.6786853336095667, 0.6020416222710183, 0.26892521614767184, 0.43369736364161415, 0.5259482046804476, 0.48749877722841023, 1.0, 0.5993189780103304, 0.39573058494409274, 0.3574937904401948, 0.5637480141088179, 0.12876061532179703, 0.09067134699943506, 0.5911008819012938, 0.750498492509845], [0.7442848288850513, 0.3628954622372487, 0.2267773678474609, 0.40748295962632386, 0.7317919812298436, 0.6557947858285769, 0.3841368483489257, 0.06667738353017709, 0.7352928055353196, 0.5184154460541891, 0.4751909327762759, 0.5993189780103304, 1.0, 0.6489046776767005, 0.4868245000929295, 0.4369503907118783, 0.512907887762888, 0.5846200098226499, 0.7001289456026902, 0.34750027308845616], [0.4799148444843616, 0.2568806908779772, 0.32397543186217337, 0.37473614556051127, 0.35315315710202244, 0.403064204622593, 0.042666596376310956, 0.27051440501192375, 0.4321530325111873, 0.2746035720189354, 0.3904753874859982, 0.39573058494409274, 0.6489046776767005, 1.0, 0.658797273582008, 0.6557922187318118, 0.5215094770643508, 0.384886952850074, 0.4707241543699753, 0.4333608301104583], [0.3832079722794649, 0.2585094166294594, 0.16702379595566208, 0.5374532084169904, 0.5043887419948102, 0.22348200365961116, 0.3759611829011348, 0.3983837599969094, 0.576188304644977, 0.3150253599469459, 0.2469520470773816, 0.3574937904401948, 0.4868245000929295, 0.658797273582008, 1.0, 0.8177505698062195, 0.6477770393981237, 0.5187377995353298, 0.2857862135220374, 0.5474694250853482], [0.3093126128564206, 0.16297158774635467, 0.22456303575382275, 0.3537046255496597, 0.4653057237113198, 0.370586402712495, 0.40058920745692544, 0.5027570584097966, 0.5025279631063362, 0.23834244147049746, 0.3014468749431188, 0.5637480141088179, 0.4369503907118783, 0.6557922187318118, 0.8177505698062195, 1.0, 0.4422946111322108, 0.2431738996401996, 0.44617333412543975, 0.7571832419616719], [0.5080923007080771, 0.2844267021868991, 0.35368174776920275, 0.55865183292822, 0.5211467028865332, 0.3115020094060147, 0.36911731549859167, 0.2669216530964369, 0.5533710080519094, 0.447586036872064, 0.14892621218203303, 0.12876061532179703, 0.512907887762888, 0.5215094770643508, 0.6477770393981237, 0.4422946111322108, 1.0, 0.5634365998052697, 0.48562591169127917, 0.3537183669902881], [0.35951024091856154, 0.2200543179560751, -0.17775558491284796, 0.3830662909205834, 0.5798540799023676, 0.3471145400069824, 0.02425693838654546, 0.10756358771438189, 0.8812342278695096, 0.3820347877256096, 0.2794048297606367, 0.09067134699943506, 0.5846200098226499, 0.384886952850074, 0.5187377995353298, 0.2431738996401996, 0.5634365998052697, 1.0, 0.42823649884496645, 0.03431355241564858], [0.7197160081121432, 0.596149953035894, 0.46812284849727526, 0.5725142137914488, 0.6256120139392399, 0.9163536856558647, 0.3270959932169446, 0.3601862404440659, 0.5956273171565, 0.7071529422263382, 0.6892279004505162, 0.5911008819012938, 0.7001289456026902, 0.4707241543699753, 0.2857862135220374, 0.44617333412543975, 0.48562591169127917, 0.42823649884496645, 1.0, 0.5886622767427475], [0.38454761408619825, 0.5439744025573733, 0.6348032129522075, 0.5978189159733365, 0.5876829679442427, 0.6064217082565088, 0.665430730177508, 0.6062584545734483, 0.2899156592644826, 0.4064505739557429, 0.528233961007016, 0.750498492509845, 0.34750027308845616, 0.4333608301104583, 0.5474694250853482, 0.7571832419616719, 0.3537183669902881, 0.03431355241564858, 0.5886622767427475, 1.0]]}],\n",
              "                        {\"template\": {\"data\": {\"bar\": [{\"error_x\": {\"color\": \"#2a3f5f\"}, \"error_y\": {\"color\": \"#2a3f5f\"}, \"marker\": {\"line\": {\"color\": \"#E5ECF6\", \"width\": 0.5}}, \"type\": \"bar\"}], \"barpolar\": [{\"marker\": {\"line\": {\"color\": \"#E5ECF6\", \"width\": 0.5}}, \"type\": \"barpolar\"}], \"carpet\": [{\"aaxis\": {\"endlinecolor\": \"#2a3f5f\", \"gridcolor\": \"white\", \"linecolor\": \"white\", \"minorgridcolor\": \"white\", \"startlinecolor\": \"#2a3f5f\"}, \"baxis\": {\"endlinecolor\": \"#2a3f5f\", \"gridcolor\": \"white\", \"linecolor\": \"white\", \"minorgridcolor\": \"white\", \"startlinecolor\": \"#2a3f5f\"}, \"type\": \"carpet\"}], \"choropleth\": [{\"colorbar\": {\"outlinewidth\": 0, \"ticks\": \"\"}, \"type\": \"choropleth\"}], \"contour\": [{\"colorbar\": {\"outlinewidth\": 0, \"ticks\": \"\"}, \"colorscale\": [[0.0, \"#0d0887\"], [0.1111111111111111, \"#46039f\"], [0.2222222222222222, \"#7201a8\"], [0.3333333333333333, \"#9c179e\"], [0.4444444444444444, \"#bd3786\"], [0.5555555555555556, \"#d8576b\"], [0.6666666666666666, \"#ed7953\"], [0.7777777777777778, \"#fb9f3a\"], [0.8888888888888888, \"#fdca26\"], [1.0, \"#f0f921\"]], \"type\": \"contour\"}], \"contourcarpet\": [{\"colorbar\": {\"outlinewidth\": 0, \"ticks\": \"\"}, \"type\": \"contourcarpet\"}], \"heatmap\": [{\"colorbar\": {\"outlinewidth\": 0, \"ticks\": \"\"}, \"colorscale\": [[0.0, \"#0d0887\"], [0.1111111111111111, \"#46039f\"], [0.2222222222222222, \"#7201a8\"], [0.3333333333333333, \"#9c179e\"], [0.4444444444444444, \"#bd3786\"], [0.5555555555555556, \"#d8576b\"], [0.6666666666666666, \"#ed7953\"], [0.7777777777777778, \"#fb9f3a\"], [0.8888888888888888, \"#fdca26\"], [1.0, \"#f0f921\"]], \"type\": \"heatmap\"}], \"heatmapgl\": [{\"colorbar\": {\"outlinewidth\": 0, \"ticks\": \"\"}, \"colorscale\": [[0.0, \"#0d0887\"], [0.1111111111111111, \"#46039f\"], [0.2222222222222222, \"#7201a8\"], [0.3333333333333333, \"#9c179e\"], [0.4444444444444444, \"#bd3786\"], [0.5555555555555556, \"#d8576b\"], [0.6666666666666666, \"#ed7953\"], [0.7777777777777778, \"#fb9f3a\"], [0.8888888888888888, \"#fdca26\"], [1.0, \"#f0f921\"]], \"type\": \"heatmapgl\"}], \"histogram\": [{\"marker\": {\"colorbar\": {\"outlinewidth\": 0, \"ticks\": \"\"}}, \"type\": \"histogram\"}], \"histogram2d\": [{\"colorbar\": {\"outlinewidth\": 0, \"ticks\": \"\"}, \"colorscale\": [[0.0, \"#0d0887\"], [0.1111111111111111, \"#46039f\"], [0.2222222222222222, \"#7201a8\"], [0.3333333333333333, \"#9c179e\"], [0.4444444444444444, \"#bd3786\"], [0.5555555555555556, \"#d8576b\"], [0.6666666666666666, \"#ed7953\"], [0.7777777777777778, \"#fb9f3a\"], [0.8888888888888888, \"#fdca26\"], [1.0, \"#f0f921\"]], \"type\": \"histogram2d\"}], \"histogram2dcontour\": [{\"colorbar\": {\"outlinewidth\": 0, \"ticks\": \"\"}, \"colorscale\": [[0.0, \"#0d0887\"], [0.1111111111111111, \"#46039f\"], [0.2222222222222222, \"#7201a8\"], [0.3333333333333333, \"#9c179e\"], [0.4444444444444444, \"#bd3786\"], [0.5555555555555556, \"#d8576b\"], [0.6666666666666666, \"#ed7953\"], [0.7777777777777778, \"#fb9f3a\"], [0.8888888888888888, \"#fdca26\"], [1.0, \"#f0f921\"]], \"type\": \"histogram2dcontour\"}], \"mesh3d\": [{\"colorbar\": {\"outlinewidth\": 0, \"ticks\": \"\"}, \"type\": \"mesh3d\"}], \"parcoords\": [{\"line\": {\"colorbar\": {\"outlinewidth\": 0, \"ticks\": \"\"}}, \"type\": \"parcoords\"}], \"pie\": [{\"automargin\": true, \"type\": \"pie\"}], \"scatter\": [{\"marker\": {\"colorbar\": {\"outlinewidth\": 0, \"ticks\": \"\"}}, \"type\": \"scatter\"}], \"scatter3d\": [{\"line\": {\"colorbar\": {\"outlinewidth\": 0, \"ticks\": \"\"}}, \"marker\": {\"colorbar\": {\"outlinewidth\": 0, \"ticks\": \"\"}}, \"type\": \"scatter3d\"}], \"scattercarpet\": [{\"marker\": {\"colorbar\": {\"outlinewidth\": 0, \"ticks\": \"\"}}, \"type\": \"scattercarpet\"}], \"scattergeo\": [{\"marker\": {\"colorbar\": {\"outlinewidth\": 0, \"ticks\": \"\"}}, \"type\": \"scattergeo\"}], \"scattergl\": [{\"marker\": {\"colorbar\": {\"outlinewidth\": 0, \"ticks\": \"\"}}, \"type\": \"scattergl\"}], \"scattermapbox\": [{\"marker\": {\"colorbar\": {\"outlinewidth\": 0, \"ticks\": \"\"}}, \"type\": \"scattermapbox\"}], \"scatterpolar\": [{\"marker\": {\"colorbar\": {\"outlinewidth\": 0, \"ticks\": \"\"}}, \"type\": \"scatterpolar\"}], \"scatterpolargl\": [{\"marker\": {\"colorbar\": {\"outlinewidth\": 0, \"ticks\": \"\"}}, \"type\": \"scatterpolargl\"}], \"scatterternary\": [{\"marker\": {\"colorbar\": {\"outlinewidth\": 0, \"ticks\": \"\"}}, \"type\": \"scatterternary\"}], \"surface\": [{\"colorbar\": {\"outlinewidth\": 0, \"ticks\": \"\"}, \"colorscale\": [[0.0, \"#0d0887\"], [0.1111111111111111, \"#46039f\"], [0.2222222222222222, \"#7201a8\"], [0.3333333333333333, \"#9c179e\"], [0.4444444444444444, \"#bd3786\"], [0.5555555555555556, \"#d8576b\"], [0.6666666666666666, \"#ed7953\"], [0.7777777777777778, \"#fb9f3a\"], [0.8888888888888888, \"#fdca26\"], [1.0, \"#f0f921\"]], \"type\": \"surface\"}], \"table\": [{\"cells\": {\"fill\": {\"color\": \"#EBF0F8\"}, \"line\": {\"color\": \"white\"}}, \"header\": {\"fill\": {\"color\": \"#C8D4E3\"}, \"line\": {\"color\": \"white\"}}, \"type\": \"table\"}]}, \"layout\": {\"annotationdefaults\": {\"arrowcolor\": \"#2a3f5f\", \"arrowhead\": 0, \"arrowwidth\": 1}, \"coloraxis\": {\"colorbar\": {\"outlinewidth\": 0, \"ticks\": \"\"}}, \"colorscale\": {\"diverging\": [[0, \"#8e0152\"], [0.1, \"#c51b7d\"], [0.2, \"#de77ae\"], [0.3, \"#f1b6da\"], [0.4, \"#fde0ef\"], [0.5, \"#f7f7f7\"], [0.6, \"#e6f5d0\"], [0.7, \"#b8e186\"], [0.8, \"#7fbc41\"], [0.9, \"#4d9221\"], [1, \"#276419\"]], \"sequential\": [[0.0, \"#0d0887\"], [0.1111111111111111, \"#46039f\"], [0.2222222222222222, \"#7201a8\"], [0.3333333333333333, \"#9c179e\"], [0.4444444444444444, \"#bd3786\"], [0.5555555555555556, \"#d8576b\"], [0.6666666666666666, \"#ed7953\"], [0.7777777777777778, \"#fb9f3a\"], [0.8888888888888888, \"#fdca26\"], [1.0, \"#f0f921\"]], \"sequentialminus\": [[0.0, \"#0d0887\"], [0.1111111111111111, \"#46039f\"], [0.2222222222222222, \"#7201a8\"], [0.3333333333333333, \"#9c179e\"], [0.4444444444444444, \"#bd3786\"], [0.5555555555555556, \"#d8576b\"], [0.6666666666666666, \"#ed7953\"], [0.7777777777777778, \"#fb9f3a\"], [0.8888888888888888, \"#fdca26\"], [1.0, \"#f0f921\"]]}, \"colorway\": [\"#636efa\", \"#EF553B\", \"#00cc96\", \"#ab63fa\", \"#FFA15A\", \"#19d3f3\", \"#FF6692\", \"#B6E880\", \"#FF97FF\", \"#FECB52\"], \"font\": {\"color\": \"#2a3f5f\"}, \"geo\": {\"bgcolor\": \"white\", \"lakecolor\": \"white\", \"landcolor\": \"#E5ECF6\", \"showlakes\": true, \"showland\": true, \"subunitcolor\": \"white\"}, \"hoverlabel\": {\"align\": \"left\"}, \"hovermode\": \"closest\", \"mapbox\": {\"style\": \"light\"}, \"paper_bgcolor\": \"white\", \"plot_bgcolor\": \"#E5ECF6\", \"polar\": {\"angularaxis\": {\"gridcolor\": \"white\", \"linecolor\": \"white\", \"ticks\": \"\"}, \"bgcolor\": \"#E5ECF6\", \"radialaxis\": {\"gridcolor\": \"white\", \"linecolor\": \"white\", \"ticks\": \"\"}}, \"scene\": {\"xaxis\": {\"backgroundcolor\": \"#E5ECF6\", \"gridcolor\": \"white\", \"gridwidth\": 2, \"linecolor\": \"white\", \"showbackground\": true, \"ticks\": \"\", \"zerolinecolor\": \"white\"}, \"yaxis\": {\"backgroundcolor\": \"#E5ECF6\", \"gridcolor\": \"white\", \"gridwidth\": 2, \"linecolor\": \"white\", \"showbackground\": true, \"ticks\": \"\", \"zerolinecolor\": \"white\"}, \"zaxis\": {\"backgroundcolor\": \"#E5ECF6\", \"gridcolor\": \"white\", \"gridwidth\": 2, \"linecolor\": \"white\", \"showbackground\": true, \"ticks\": \"\", \"zerolinecolor\": \"white\"}}, \"shapedefaults\": {\"line\": {\"color\": \"#2a3f5f\"}}, \"ternary\": {\"aaxis\": {\"gridcolor\": \"white\", \"linecolor\": \"white\", \"ticks\": \"\"}, \"baxis\": {\"gridcolor\": \"white\", \"linecolor\": \"white\", \"ticks\": \"\"}, \"bgcolor\": \"#E5ECF6\", \"caxis\": {\"gridcolor\": \"white\", \"linecolor\": \"white\", \"ticks\": \"\"}}, \"title\": {\"x\": 0.05}, \"xaxis\": {\"automargin\": true, \"gridcolor\": \"white\", \"linecolor\": \"white\", \"ticks\": \"\", \"title\": {\"standoff\": 15}, \"zerolinecolor\": \"white\", \"zerolinewidth\": 2}, \"yaxis\": {\"automargin\": true, \"gridcolor\": \"white\", \"linecolor\": \"white\", \"ticks\": \"\", \"title\": {\"standoff\": 15}, \"zerolinecolor\": \"white\", \"zerolinewidth\": 2}}}},\n",
              "                        {\"responsive\": true}\n",
              "                    ).then(function(){\n",
              "                            \n",
              "var gd = document.getElementById('2bc379c9-4d11-42c7-b1c3-6ce6e4d57f6b');\n",
              "var x = new MutationObserver(function (mutations, observer) {{\n",
              "        var display = window.getComputedStyle(gd).display;\n",
              "        if (!display || display === 'none') {{\n",
              "            console.log([gd, 'removed!']);\n",
              "            Plotly.purge(gd);\n",
              "            observer.disconnect();\n",
              "        }}\n",
              "}});\n",
              "\n",
              "// Listen for the removal of the full notebook cells\n",
              "var notebookContainer = gd.closest('#notebook-container');\n",
              "if (notebookContainer) {{\n",
              "    x.observe(notebookContainer, {childList: true});\n",
              "}}\n",
              "\n",
              "// Listen for the clearing of the current output cell\n",
              "var outputEl = gd.closest('.output');\n",
              "if (outputEl) {{\n",
              "    x.observe(outputEl, {childList: true});\n",
              "}}\n",
              "\n",
              "                        })\n",
              "                };\n",
              "                \n",
              "            </script>\n",
              "        </div>\n",
              "</body>\n",
              "</html>"
            ]
          },
          "metadata": {
            "tags": []
          }
        }
      ]
    },
    {
      "cell_type": "markdown",
      "metadata": {
        "colab_type": "text",
        "id": "pPF4UYQS0gy4"
      },
      "source": [
        "### Una visión global"
      ]
    },
    {
      "cell_type": "code",
      "metadata": {
        "colab_type": "code",
        "id": "WHrcSDti0gy_",
        "colab": {
          "base_uri": "https://localhost:8080/"
        },
        "outputId": "575386aa-0276-454f-9477-09c2ef242fe4"
      },
      "source": [
        "df_stats = df_mcu.describe()\n",
        "df_stats"
      ],
      "execution_count": null,
      "outputs": [
        {
          "output_type": "execute_result",
          "data": {
            "text/html": [
              "<div>\n",
              "<style scoped>\n",
              "    .dataframe tbody tr th:only-of-type {\n",
              "        vertical-align: middle;\n",
              "    }\n",
              "\n",
              "    .dataframe tbody tr th {\n",
              "        vertical-align: top;\n",
              "    }\n",
              "\n",
              "    .dataframe thead th {\n",
              "        text-align: right;\n",
              "    }\n",
              "</style>\n",
              "<table border=\"1\" class=\"dataframe\">\n",
              "  <thead>\n",
              "    <tr style=\"text-align: right;\">\n",
              "      <th></th>\n",
              "      <th>Iron Man</th>\n",
              "      <th>The Incredible Hulk</th>\n",
              "      <th>Iron Man 2</th>\n",
              "      <th>Thor</th>\n",
              "      <th>Capitán América: el primer vengador</th>\n",
              "      <th>The Avengers</th>\n",
              "      <th>Iron Man 3</th>\n",
              "      <th>Thor: The Dark World</th>\n",
              "      <th>Captain America: The Winter Soldier</th>\n",
              "      <th>Guardianes de la Galaxia</th>\n",
              "      <th>Avengers: Age of Ultron</th>\n",
              "      <th>Ant-Man</th>\n",
              "      <th>Captain America: Civil War</th>\n",
              "      <th>Doctor Strange</th>\n",
              "      <th>Guardianes de la Galaxia Vol. 2</th>\n",
              "      <th>Spider-Man: Homecoming</th>\n",
              "      <th>Thor: Ragnarok</th>\n",
              "      <th>Black Panther</th>\n",
              "      <th>Avengers: Infinity War</th>\n",
              "      <th>Ant-Man and The Wasp</th>\n",
              "    </tr>\n",
              "  </thead>\n",
              "  <tbody>\n",
              "    <tr>\n",
              "      <th>count</th>\n",
              "      <td>15.000000</td>\n",
              "      <td>15.000000</td>\n",
              "      <td>15.000000</td>\n",
              "      <td>15.000000</td>\n",
              "      <td>15.000000</td>\n",
              "      <td>15.000000</td>\n",
              "      <td>15.00000</td>\n",
              "      <td>15.000000</td>\n",
              "      <td>15.000000</td>\n",
              "      <td>15.000000</td>\n",
              "      <td>15.000000</td>\n",
              "      <td>15.000000</td>\n",
              "      <td>15.000000</td>\n",
              "      <td>15.000000</td>\n",
              "      <td>15.000000</td>\n",
              "      <td>15.000000</td>\n",
              "      <td>15.000000</td>\n",
              "      <td>15.000000</td>\n",
              "      <td>15.000000</td>\n",
              "      <td>15.000000</td>\n",
              "    </tr>\n",
              "    <tr>\n",
              "      <th>mean</th>\n",
              "      <td>13.000000</td>\n",
              "      <td>7.466667</td>\n",
              "      <td>8.266667</td>\n",
              "      <td>7.866667</td>\n",
              "      <td>11.266667</td>\n",
              "      <td>14.866667</td>\n",
              "      <td>7.60000</td>\n",
              "      <td>6.933333</td>\n",
              "      <td>13.133333</td>\n",
              "      <td>13.266667</td>\n",
              "      <td>12.533333</td>\n",
              "      <td>11.866667</td>\n",
              "      <td>15.200000</td>\n",
              "      <td>12.133333</td>\n",
              "      <td>9.666667</td>\n",
              "      <td>12.066667</td>\n",
              "      <td>10.800000</td>\n",
              "      <td>11.533333</td>\n",
              "      <td>17.066667</td>\n",
              "      <td>11.266667</td>\n",
              "    </tr>\n",
              "    <tr>\n",
              "      <th>std</th>\n",
              "      <td>5.070926</td>\n",
              "      <td>4.955036</td>\n",
              "      <td>4.727830</td>\n",
              "      <td>5.409868</td>\n",
              "      <td>4.963678</td>\n",
              "      <td>5.194319</td>\n",
              "      <td>4.35562</td>\n",
              "      <td>5.444088</td>\n",
              "      <td>5.829318</td>\n",
              "      <td>5.175032</td>\n",
              "      <td>5.069047</td>\n",
              "      <td>5.262627</td>\n",
              "      <td>5.942582</td>\n",
              "      <td>6.457185</td>\n",
              "      <td>6.542899</td>\n",
              "      <td>6.238895</td>\n",
              "      <td>5.544624</td>\n",
              "      <td>6.895823</td>\n",
              "      <td>5.284298</td>\n",
              "      <td>5.091543</td>\n",
              "    </tr>\n",
              "    <tr>\n",
              "      <th>min</th>\n",
              "      <td>1.000000</td>\n",
              "      <td>1.000000</td>\n",
              "      <td>1.000000</td>\n",
              "      <td>1.000000</td>\n",
              "      <td>1.000000</td>\n",
              "      <td>1.000000</td>\n",
              "      <td>1.00000</td>\n",
              "      <td>1.000000</td>\n",
              "      <td>1.000000</td>\n",
              "      <td>2.000000</td>\n",
              "      <td>1.000000</td>\n",
              "      <td>1.000000</td>\n",
              "      <td>1.000000</td>\n",
              "      <td>1.000000</td>\n",
              "      <td>1.000000</td>\n",
              "      <td>1.000000</td>\n",
              "      <td>1.000000</td>\n",
              "      <td>1.000000</td>\n",
              "      <td>1.000000</td>\n",
              "      <td>1.000000</td>\n",
              "    </tr>\n",
              "    <tr>\n",
              "      <th>25%</th>\n",
              "      <td>10.000000</td>\n",
              "      <td>2.000000</td>\n",
              "      <td>5.000000</td>\n",
              "      <td>3.000000</td>\n",
              "      <td>8.000000</td>\n",
              "      <td>13.500000</td>\n",
              "      <td>4.50000</td>\n",
              "      <td>3.000000</td>\n",
              "      <td>8.000000</td>\n",
              "      <td>9.500000</td>\n",
              "      <td>9.500000</td>\n",
              "      <td>8.500000</td>\n",
              "      <td>14.500000</td>\n",
              "      <td>6.500000</td>\n",
              "      <td>4.500000</td>\n",
              "      <td>7.500000</td>\n",
              "      <td>8.000000</td>\n",
              "      <td>8.000000</td>\n",
              "      <td>17.500000</td>\n",
              "      <td>8.500000</td>\n",
              "    </tr>\n",
              "    <tr>\n",
              "      <th>50%</th>\n",
              "      <td>15.000000</td>\n",
              "      <td>8.000000</td>\n",
              "      <td>7.000000</td>\n",
              "      <td>8.000000</td>\n",
              "      <td>11.000000</td>\n",
              "      <td>15.000000</td>\n",
              "      <td>7.00000</td>\n",
              "      <td>5.000000</td>\n",
              "      <td>16.000000</td>\n",
              "      <td>15.000000</td>\n",
              "      <td>13.000000</td>\n",
              "      <td>13.000000</td>\n",
              "      <td>18.000000</td>\n",
              "      <td>15.000000</td>\n",
              "      <td>9.000000</td>\n",
              "      <td>14.000000</td>\n",
              "      <td>11.000000</td>\n",
              "      <td>15.000000</td>\n",
              "      <td>19.000000</td>\n",
              "      <td>11.000000</td>\n",
              "    </tr>\n",
              "    <tr>\n",
              "      <th>75%</th>\n",
              "      <td>16.500000</td>\n",
              "      <td>12.000000</td>\n",
              "      <td>11.000000</td>\n",
              "      <td>11.500000</td>\n",
              "      <td>15.000000</td>\n",
              "      <td>19.000000</td>\n",
              "      <td>11.00000</td>\n",
              "      <td>9.500000</td>\n",
              "      <td>18.000000</td>\n",
              "      <td>16.500000</td>\n",
              "      <td>16.500000</td>\n",
              "      <td>15.500000</td>\n",
              "      <td>19.500000</td>\n",
              "      <td>17.000000</td>\n",
              "      <td>14.000000</td>\n",
              "      <td>16.500000</td>\n",
              "      <td>15.000000</td>\n",
              "      <td>17.000000</td>\n",
              "      <td>20.000000</td>\n",
              "      <td>15.000000</td>\n",
              "    </tr>\n",
              "    <tr>\n",
              "      <th>max</th>\n",
              "      <td>20.000000</td>\n",
              "      <td>13.000000</td>\n",
              "      <td>18.000000</td>\n",
              "      <td>19.000000</td>\n",
              "      <td>20.000000</td>\n",
              "      <td>20.000000</td>\n",
              "      <td>15.00000</td>\n",
              "      <td>19.000000</td>\n",
              "      <td>20.000000</td>\n",
              "      <td>20.000000</td>\n",
              "      <td>20.000000</td>\n",
              "      <td>19.000000</td>\n",
              "      <td>20.000000</td>\n",
              "      <td>20.000000</td>\n",
              "      <td>20.000000</td>\n",
              "      <td>20.000000</td>\n",
              "      <td>18.000000</td>\n",
              "      <td>20.000000</td>\n",
              "      <td>20.000000</td>\n",
              "      <td>19.000000</td>\n",
              "    </tr>\n",
              "  </tbody>\n",
              "</table>\n",
              "</div>"
            ],
            "text/plain": [
              "        Iron Man  ...  Ant-Man and The Wasp\n",
              "count  15.000000  ...             15.000000\n",
              "mean   13.000000  ...             11.266667\n",
              "std     5.070926  ...              5.091543\n",
              "min     1.000000  ...              1.000000\n",
              "25%    10.000000  ...              8.500000\n",
              "50%    15.000000  ...             11.000000\n",
              "75%    16.500000  ...             15.000000\n",
              "max    20.000000  ...             19.000000\n",
              "\n",
              "[8 rows x 20 columns]"
            ]
          },
          "metadata": {
            "tags": []
          },
          "execution_count": 473
        }
      ]
    },
    {
      "cell_type": "code",
      "metadata": {
        "colab_type": "code",
        "id": "iGGZHb-r0gzQ",
        "colab": {
          "base_uri": "https://localhost:8080/"
        },
        "outputId": "41284067-48b3-4139-dd27-7328d37e044d"
      },
      "source": [
        "df_stats = df_mcu.describe()\n",
        "ri = df_stats.loc['75%'] - df_stats.loc['25%']\n",
        "ri"
      ],
      "execution_count": null,
      "outputs": [
        {
          "output_type": "execute_result",
          "data": {
            "text/plain": [
              "Iron Man                                6.5\n",
              "The Incredible Hulk                    10.0\n",
              "Iron Man 2                              6.0\n",
              "Thor                                    8.5\n",
              "Capitán América: el primer vengador     7.0\n",
              "The Avengers                            5.5\n",
              "Iron Man 3                              6.5\n",
              "Thor: The Dark World                    6.5\n",
              "Captain America: The Winter Soldier    10.0\n",
              "Guardianes de la Galaxia                7.0\n",
              "Avengers: Age of Ultron                 7.0\n",
              "Ant-Man                                 7.0\n",
              "Captain America: Civil War              5.0\n",
              "Doctor Strange                         10.5\n",
              "Guardianes de la Galaxia Vol. 2         9.5\n",
              "Spider-Man: Homecoming                  9.0\n",
              "Thor: Ragnarok                          7.0\n",
              "Black Panther                           9.0\n",
              "Avengers: Infinity War                  2.5\n",
              "Ant-Man and The Wasp                    6.5\n",
              "dtype: float64"
            ]
          },
          "metadata": {
            "tags": []
          },
          "execution_count": 474
        }
      ]
    },
    {
      "cell_type": "code",
      "metadata": {
        "colab_type": "code",
        "id": "rFoQmFNF0gzi",
        "colab": {
          "base_uri": "https://localhost:8080/"
        },
        "outputId": "b284b489-4ded-41c0-900f-5ed0337f9bda"
      },
      "source": [
        "df_stats = df_mcu.quantile([.75, .25])\n",
        "df_stats.loc[0.75] - df_stats.loc[0.25]"
      ],
      "execution_count": null,
      "outputs": [
        {
          "output_type": "execute_result",
          "data": {
            "text/plain": [
              "Iron Man                                6.5\n",
              "The Incredible Hulk                    10.0\n",
              "Iron Man 2                              6.0\n",
              "Thor                                    8.5\n",
              "Capitán América: el primer vengador     7.0\n",
              "The Avengers                            5.5\n",
              "Iron Man 3                              6.5\n",
              "Thor: The Dark World                    6.5\n",
              "Captain America: The Winter Soldier    10.0\n",
              "Guardianes de la Galaxia                7.0\n",
              "Avengers: Age of Ultron                 7.0\n",
              "Ant-Man                                 7.0\n",
              "Captain America: Civil War              5.0\n",
              "Doctor Strange                         10.5\n",
              "Guardianes de la Galaxia Vol. 2         9.5\n",
              "Spider-Man: Homecoming                  9.0\n",
              "Thor: Ragnarok                          7.0\n",
              "Black Panther                           9.0\n",
              "Avengers: Infinity War                  2.5\n",
              "Ant-Man and The Wasp                    6.5\n",
              "dtype: float64"
            ]
          },
          "metadata": {
            "tags": []
          },
          "execution_count": 475
        }
      ]
    }
  ]
}