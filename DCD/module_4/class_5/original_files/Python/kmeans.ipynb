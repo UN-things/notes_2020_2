{
 "cells": [
  {
   "cell_type": "markdown",
   "metadata": {},
   "source": [
    "## Universidad Nacional de Colombia\n",
    "\n",
    "## Diplomado Ciencia de Datos \n"
   ]
  },
  {
   "cell_type": "markdown",
   "metadata": {},
   "source": [
    "## Validación K-means"
   ]
  },
  {
   "cell_type": "markdown",
   "metadata": {},
   "source": [
    "En este caso práctico continuaremos con el caso de clustering que hicimos la clase anterior. Haremos la validación de nuestra aplicación de k-means.\n",
    "\n",
    "El caso estará estructurado así\n",
    "1. Resumir el caso anterior\n",
    "2. Ajustar y comparar distintos k-means\n",
    "3. Revisar criterios de validación\n",
    "4. Hacer conclusiones a partir del análisis"
   ]
  },
  {
   "cell_type": "markdown",
   "metadata": {},
   "source": [
    "**Contexto:** Las competencias deportivas cada día recogen una gran cantidad de datos relacionados con el desempeño de sus equipos y jugadores para encontrar patrones en estos datos y tomar decisiones informadas basadas en ellos. De esta manera la competencia aumenta tanto dentro como fuera de la cancha"
   ]
  },
  {
   "cell_type": "markdown",
   "metadata": {},
   "source": [
    "**Problema de negocio:** Se tienen los datos de desempeño de los equipos de baloncesto del torneo NCAA March Madness que contiene las estadísticas de juego de 353 equipos de la liga. El objetivo es inspeccionar esta data utilizando técnicas de visualización y agrupación para encontrar patrones en el desempeño de los equipos y generar recomendaciones de umbrales en las estadísticas para que un equipo esté en el grupo de desempeño superior."
   ]
  },
  {
   "cell_type": "code",
   "execution_count": null,
   "metadata": {},
   "outputs": [],
   "source": [
    "# librerías\n",
    "import pandas as pd\n",
    "import matplotlib.pyplot as plt\n",
    "from matplotlib import cm\n",
    "from mpl_toolkits.mplot3d import Axes3D\n",
    "import numpy as np\n",
    "import pandas as pd\n",
    "import scipy\n",
    "import seaborn as sns\n",
    "import sklearn\n",
    "from scipy.stats import norm\n",
    "from sklearn.cluster import KMeans\n",
    "from sklearn.preprocessing import MinMaxScaler, MaxAbsScaler, RobustScaler, StandardScaler\n",
    "from sklearn.metrics import silhouette_samples,silhouette_score\n",
    "from scipy.spatial.distance import cdist\n",
    "import scipy.cluster.hierarchy as sch\n",
    "from sklearn.preprocessing import StandardScaler\n",
    "from sklearn.decomposition import PCA"
   ]
  },
  {
   "cell_type": "code",
   "execution_count": null,
   "metadata": {},
   "outputs": [],
   "source": [
    "# display setting Para visualizar el máximo de columnas\n",
    "pd.set_option('display.max_columns', None)"
   ]
  },
  {
   "cell_type": "code",
   "execution_count": null,
   "metadata": {},
   "outputs": [],
   "source": [
    "datos = pd.read_csv('basketball_19.csv')"
   ]
  },
  {
   "cell_type": "markdown",
   "metadata": {},
   "source": [
    "Estas son las variables que contiene el conjunto de datos \n",
    "\n",
    "- TEAM: Equipo\n",
    "- CONF: La conferencia en la que el equipo participa(A10 = Atlantic 10, ACC = Atlantic Coast Conference, AE = America East, Amer = American, ASun = ASUN, B10 = Big Ten, B12 = Big 12, BE = Big East, BSky = Big Sky, BSth = Big South, BW = Big West, CAA = Colonial Athletic Association, CUSA = Conference USA, Horz = Horizon League, Ivy = Ivy League, MAAC = Metro Atlantic Athletic Conference, MAC = Mid-American Conference, MEAC = Mid-Eastern Athletic Conference, MVC = Missouri Valley Conference, MWC = Mountain West, NEC = Northeast Conference, OVC = Ohio Valley Conference, P12 = Pac-12, Pat = Patriot League, SB = Sun Belt, SC = Southern Conference, SEC = South Eastern Conference, Slnd = Southland Conference, Sum = Summit League, SWAC = Southwestern Athletic Conference, WAC = Western Athletic Conference, WCC = West Coast Conference)\n",
    "- G: Número de partidos jugados\n",
    "- W: Número de partidos ganados\n",
    "- ADJOE: Estimación de eficiencia ofensiva, puntos anotados por cada 100 posesiones\n",
    "- ADJDE: Estimación de eficiencia defensiva, puntos permitidos por cada 100 posesiones del equipo contrario\n",
    "- BARTHAG: Probabilidad de vencer a un equipo\n",
    "- EFG_O: Effective Field Goal Percentage Shot\n",
    "- EFG_D: Effective Field Goal Percentage Allowed\n",
    "- TOR: Porcentaje de rotación permitida (equipo pierde la posesión del balón contra el equipo contrario antes de que un jugador dispare a la canasta de su equipo)\n",
    "- TORD: Porcentaje de rotación hecha al equipo contrario (se roba la pelota al contrincante)\n",
    "- ORB: Porcentaje de rebote ofensivo\n",
    "- B: Porcentaje de rebote defensivo\n",
    "- FTR : Tasa de tiros libres hechos(que hace el equipo)\n",
    "- FTRD: Tasa de tiros libres permitidos (que hace el contrincante)\n",
    "- 2P_O: Porcentaje de tiros de 2 puntos hechos\n",
    "- 2P_D: Porcentaje de tiros de 2 puntos permitidos\n",
    "- 3P_O: Porcentaje de tiros de 3 puntos hechos\n",
    "- 3P_D: Porcentaje de tiros de 3 puntos permitidos\n",
    "- ADJ_T: Posesión del balón por 40 min\n",
    "- WAB: Triunfos por encima de la 'burbuja' (la burbuja es el límite definido para pasar al campeonato NCAA March Madness Tournament\n",
    "- POSTSEASON: Ronda en la que el equipo de fue eliminado (R68 = First Four, R64 = Round of 64, R32 = Round of 32, S16 = Sweet Sixteen, E8 = Elite Eight, F4 = Final Four, 2ND = Runner-up, Champion = Winner of the NCAA March Madness Tournament for that given year)\n",
    "- SEED: Semilla definida por el torneo\n"
   ]
  },
  {
   "cell_type": "code",
   "execution_count": null,
   "metadata": {
    "scrolled": false
   },
   "outputs": [],
   "source": [
    "datos.head()"
   ]
  },
  {
   "cell_type": "markdown",
   "metadata": {},
   "source": [
    "## Exploración de los datos "
   ]
  },
  {
   "cell_type": "markdown",
   "metadata": {},
   "source": [
    "En el caso pasado hicimos una exploración general de las variables "
   ]
  },
  {
   "cell_type": "code",
   "execution_count": null,
   "metadata": {
    "scrolled": true
   },
   "outputs": [],
   "source": [
    "# Partidos jugados\n",
    "plt.figure(figsize=(15,15))\n",
    "\n",
    "plt.subplot(321)\n",
    "plt.scatter(y=datos['BARTHAG'], x=datos['ADJOE'],alpha=0.5, edgecolor='k')\n",
    "plt.yticks(fontsize=12)\n",
    "plt.ylabel('Prob Ganar', fontsize=12)\n",
    "plt.title('Eficiencia Ofensiva', fontsize=16)\n",
    "\n",
    "plt.subplot(322)\n",
    "plt.scatter(y=datos['BARTHAG'], x=datos['EFG_O'],alpha=0.5, edgecolor='k')\n",
    "plt.yticks(fontsize=12)\n",
    "plt.ylabel('Prob Ganar', fontsize=12)\n",
    "plt.title('% Tiros efectivos', fontsize=16)\n",
    "\n",
    "\n",
    "plt.subplot(323)\n",
    "plt.scatter(y=datos['BARTHAG'], x=datos['ORB'],alpha=0.5, edgecolor='k')\n",
    "plt.yticks(fontsize=12)\n",
    "plt.ylabel('Prob Ganar', fontsize=12)\n",
    "plt.title('Porcentaje de rebote ofensivo', fontsize=16)\n",
    "\n",
    "\n",
    "# Partidos ganados\n",
    "plt.subplot(324)\n",
    "plt.scatter(y=datos['BARTHAG'], x=datos['TOR'],alpha=0.5, edgecolor='k')\n",
    "plt.ylabel('Prob Ganar', fontsize=12)\n",
    "plt.yticks(fontsize=12)\n",
    "plt.title('Porcentaje rotación', fontsize=16)\n",
    "\n",
    "\n",
    "plt.subplot(325)\n",
    "plt.scatter(y=datos['BARTHAG'], x=datos['2P_O'],alpha=0.5, edgecolor='k')\n",
    "plt.ylabel('Prob ganar', fontsize=12)\n",
    "plt.yticks(fontsize=12)\n",
    "plt.title('Porcentaje de tiros de 2 puntos hechos', fontsize=16)\n",
    "\n",
    "\n",
    "plt.subplot(326)\n",
    "plt.scatter(y=datos['BARTHAG'], x=datos['ADJ_T'],alpha=0.5, edgecolor='k')\n",
    "plt.ylabel('Prob ganar', fontsize=12)\n",
    "plt.yticks(fontsize=12)\n",
    "plt.title('Posesión del balón', fontsize=16)\n",
    "\n",
    "\n",
    "plt.show()"
   ]
  },
  {
   "cell_type": "markdown",
   "metadata": {},
   "source": [
    "Con ésta exploración inicial seleccionamos algunas variables para hacer el análisis de clusters"
   ]
  },
  {
   "cell_type": "code",
   "execution_count": null,
   "metadata": {},
   "outputs": [],
   "source": [
    "# sacamos del análisis variables categóricas\n",
    "km_data = datos.drop(['TEAM','CONF','POSTSEASON','SEED'],axis=1)"
   ]
  },
  {
   "cell_type": "code",
   "execution_count": null,
   "metadata": {},
   "outputs": [],
   "source": [
    "# seleccionamos las variables para el análisis\n",
    "km = km_data[['W','ADJOE','BARTHAG','EFG_O','2P_O','WAB']]\n",
    "km.head()"
   ]
  },
  {
   "cell_type": "markdown",
   "metadata": {},
   "source": [
    "## Agrupamiento "
   ]
  },
  {
   "cell_type": "markdown",
   "metadata": {},
   "source": [
    "Al igual que en ACP es importante estandarizar las variables que vamos a utilizar. La función **StandardScaler** nos permite hacerlo en una sola linea"
   ]
  },
  {
   "cell_type": "code",
   "execution_count": null,
   "metadata": {},
   "outputs": [],
   "source": [
    "scaler = StandardScaler()\n",
    "km_scale = scaler.fit_transform(km)"
   ]
  },
  {
   "cell_type": "markdown",
   "metadata": {},
   "source": [
    "En el caso anterior definimos el número de clusters como $k=3$ para el algortimo de kmeans. Al ajustar el agrupamiento jerárquico observabamos que otros posibles números de cluster podríamos utilizar "
   ]
  },
  {
   "cell_type": "code",
   "execution_count": null,
   "metadata": {
    "scrolled": true
   },
   "outputs": [],
   "source": [
    "plt.figure(figsize=(10,8))\n",
    "dendrogram = sch.dendrogram(sch.linkage(km_scale, method  = \"ward\"))\n",
    "plt.title('Dendrogram')\n",
    "plt.xlabel('Equipos')\n",
    "plt.ylabel('Distancias euclideanas')\n",
    "plt.show()"
   ]
  },
  {
   "cell_type": "markdown",
   "metadata": {},
   "source": [
    "Podemos entonces ajustar el kmeans con $k=3$. Adicionalmente, tiene mucha lógica ajustarlo con $k=4$ o $k=5$"
   ]
  },
  {
   "cell_type": "code",
   "execution_count": null,
   "metadata": {},
   "outputs": [],
   "source": [
    "kmeans_3k = KMeans(init=\"random\",n_clusters=3,n_init=10,max_iter=300,random_state=42)\n",
    "kmeans_3k.fit(km_scale)"
   ]
  },
  {
   "cell_type": "code",
   "execution_count": null,
   "metadata": {},
   "outputs": [],
   "source": [
    "kmeans_4k = KMeans(init=\"random\",n_clusters=4,n_init=10,max_iter=300,random_state=42)\n",
    "kmeans_4k.fit(km_scale)"
   ]
  },
  {
   "cell_type": "markdown",
   "metadata": {},
   "source": [
    "## Validación"
   ]
  },
  {
   "cell_type": "markdown",
   "metadata": {},
   "source": [
    "Emplearemos validación interna para comparar las soluciones anteriores. Para esto podemos evaluar la **cohesión** revisando el argumento **inertia_** que es la suma de distancias cuadradas de cada punto a su centroide"
   ]
  },
  {
   "cell_type": "code",
   "execution_count": null,
   "metadata": {},
   "outputs": [],
   "source": [
    "print(kmeans_3k.inertia_)"
   ]
  },
  {
   "cell_type": "code",
   "execution_count": null,
   "metadata": {},
   "outputs": [],
   "source": [
    "print(kmeans_4k.inertia_)"
   ]
  },
  {
   "cell_type": "markdown",
   "metadata": {},
   "source": [
    "Recordemos que entre menor sea esta suma de cuadrados será mejor la solución. Sin embargo siempre que se generen más clusters este número tiende a disminuir. Por esta razón debemos enocontrar un punto de balance entre tener un número bajo de inertia_ y un número adecuado de clusters"
   ]
  },
  {
   "cell_type": "markdown",
   "metadata": {},
   "source": [
    "Podemos también revisar los coeficientes de silhouette para ver qué tan bien asignado está cada punto a su cluster"
   ]
  },
  {
   "cell_type": "code",
   "execution_count": null,
   "metadata": {},
   "outputs": [],
   "source": [
    "score = silhouette_score(km_scale, kmeans_3k.labels_)\n",
    "print('Silhouetter Score 3 clusters: %.3f' % score)"
   ]
  },
  {
   "cell_type": "code",
   "execution_count": null,
   "metadata": {},
   "outputs": [],
   "source": [
    "import matplotlib.cm as cm\n",
    "#modified code from http://scikit-learn.org/stable/auto_examples/cluster/plot_kmeans_silhouette_analysis.html\n",
    "\n",
    "def silplot(X, clusterer, pointlabels=None):\n",
    "    cluster_labels = clusterer.labels_\n",
    "    n_clusters = clusterer.n_clusters\n",
    "    \n",
    "    # Create a subplot with 1 row and 2 columns\n",
    "    fig, (ax1, ax2) = plt.subplots(1, 2)\n",
    "    fig.set_size_inches(11,8.5)\n",
    "\n",
    "    # The 1st subplot is the silhouette plot\n",
    "    # The silhouette coefficient can range from -1, 1 but in this example all\n",
    "    # lie within [-0.1, 1]\n",
    "    ax1.set_xlim([-0.1, 1])\n",
    "    \n",
    "    # The (n_clusters+1)*10 is for inserting blank space between silhouette\n",
    "    # plots of individual clusters, to demarcate them clearly.\n",
    "    ax1.set_ylim([0, len(X) + (n_clusters + 1) * 10])\n",
    "\n",
    "    # The silhouette_score gives the average value for all the samples.\n",
    "    # This gives a perspective into the density and separation of the formed\n",
    "    # clusters\n",
    "    silhouette_avg = silhouette_score(X, cluster_labels)\n",
    "    print(\"For n_clusters = \", n_clusters,\n",
    "          \", the average silhouette_score is \", silhouette_avg,\".\",sep=\"\")\n",
    "\n",
    "    # Compute the silhouette scores for each sample\n",
    "    sample_silhouette_values = silhouette_samples(X, cluster_labels)\n",
    "\n",
    "    y_lower = 10\n",
    "    for i in range(0,n_clusters+1):\n",
    "        # Aggregate the silhouette scores for samples belonging to\n",
    "        # cluster i, and sort them\n",
    "        ith_cluster_silhouette_values = \\\n",
    "            sample_silhouette_values[cluster_labels == i]\n",
    "\n",
    "        ith_cluster_silhouette_values.sort()\n",
    "\n",
    "        size_cluster_i = ith_cluster_silhouette_values.shape[0]\n",
    "        y_upper = y_lower + size_cluster_i\n",
    "\n",
    "        color = cm.nipy_spectral(float(i) / n_clusters)\n",
    "        ax1.fill_betweenx(np.arange(y_lower, y_upper),\n",
    "                          0, ith_cluster_silhouette_values,\n",
    "                          facecolor=color, edgecolor=color, alpha=0.7)\n",
    "\n",
    "        # Label the silhouette plots with their cluster numbers at the middle\n",
    "        ax1.text(-0.05, y_lower + 0.5 * size_cluster_i, str(i))\n",
    "\n",
    "        # Compute the new y_lower for next plot\n",
    "        y_lower = y_upper + 10  # 10 for the 0 samples\n",
    "\n",
    "    ax1.set_title(\"The silhouette plot for the various clusters.\")\n",
    "    ax1.set_xlabel(\"The silhouette coefficient values\")\n",
    "    ax1.set_ylabel(\"Cluster label\")\n",
    "\n",
    "    # The vertical line for average silhouette score of all the values\n",
    "    ax1.axvline(x=silhouette_avg, color=\"red\", linestyle=\"--\")\n",
    "\n",
    "    ax1.set_yticks([])  # Clear the yaxis labels / ticks\n",
    "    ax1.set_xticks([-0.1, 0, 0.2, 0.4, 0.6, 0.8, 1])\n",
    "\n",
    "    # 2nd Plot showing the actual clusters formed\n",
    "    colors = cm.nipy_spectral(cluster_labels.astype(float) / n_clusters)\n",
    "    ax2.scatter(X[:, 0], X[:, 1], marker='.', s=200, lw=0, alpha=0.7,\n",
    "                c=colors, edgecolor='k')\n",
    "    xs = X[:, 0]\n",
    "    ys = X[:, 1]\n",
    "    \n",
    "    if pointlabels is not None:\n",
    "        for i in range(len(xs)):\n",
    "            plt.text(xs[i],ys[i],pointlabels[i])\n",
    "\n",
    "    # Labeling the clusters\n",
    "    centers = clusterer.cluster_centers_\n",
    "    # Draw white circles at cluster centers\n",
    "    ax2.scatter(centers[:, 0], centers[:, 1], marker='o',\n",
    "                c=\"white\", alpha=1, s=200, edgecolor='k')\n",
    "\n",
    "    for i, c in enumerate(centers):\n",
    "        ax2.scatter(c[0], c[1], marker='$%d$' % int(i), alpha=1,\n",
    "                    s=50, edgecolor='k')\n",
    "\n",
    "    ax2.set_title(\"The visualization of the clustered data.\")\n",
    "    ax2.set_xlabel(\"Feature space for the 1st feature\")\n",
    "    ax2.set_ylabel(\"Feature space for the 2nd feature\")\n",
    "\n",
    "    plt.suptitle((\"Silhouette analysis for KMeans clustering on sample data \"\n",
    "                  \"with n_clusters = %d\" % n_clusters),\n",
    "                 fontsize=14, fontweight='bold')"
   ]
  },
  {
   "cell_type": "code",
   "execution_count": null,
   "metadata": {
    "scrolled": true
   },
   "outputs": [],
   "source": [
    "silplot(km_scale, kmeans_3k)"
   ]
  },
  {
   "cell_type": "markdown",
   "metadata": {},
   "source": [
    "Con 4 clusters"
   ]
  },
  {
   "cell_type": "code",
   "execution_count": null,
   "metadata": {
    "scrolled": true
   },
   "outputs": [],
   "source": [
    "score = silhouette_score(km_scale, kmeans_4k.labels_)\n",
    "print('Silhouetter Score 4 clusters: %.3f' % score)"
   ]
  },
  {
   "cell_type": "code",
   "execution_count": null,
   "metadata": {},
   "outputs": [],
   "source": [
    "silplot(km_scale, kmeans_4k)"
   ]
  },
  {
   "cell_type": "markdown",
   "metadata": {},
   "source": [
    "Hay menor número de puntos \"mal representados\" en la solución de 3 clusters"
   ]
  },
  {
   "cell_type": "markdown",
   "metadata": {},
   "source": [
    "## Elección de k\n",
    "\n",
    "Utilizaremos la comparación de valores de suma de cuadrados dentro total con respecto a diferentes valores de $k$. Este método es conocido como el **método del codo**"
   ]
  },
  {
   "cell_type": "code",
   "execution_count": null,
   "metadata": {
    "scrolled": true
   },
   "outputs": [],
   "source": [
    "ssw = []\n",
    "K = range(1,10)\n",
    "for k in K:\n",
    "    kmeanModel = KMeans(n_clusters=k,init=\"random\",n_init=10,max_iter=300,random_state=42)\n",
    "    kmeanModel.fit(km_scale)\n",
    "    ssw.append(kmeanModel.inertia_)\n",
    "    \n",
    "plt.figure(figsize=(12,8))\n",
    "plt.plot(K, ssw, 'bx-')\n",
    "plt.xlabel('Número de clusters $k$')\n",
    "plt.ylabel('Suma de cuadrados dentro')\n",
    "plt.title('El método del codo mostrando el k óptimo')\n",
    "plt.show()"
   ]
  },
  {
   "cell_type": "markdown",
   "metadata": {},
   "source": [
    "## ¿ Cuál consideran sería el valor óptimo para k según el método del codo?"
   ]
  },
  {
   "cell_type": "markdown",
   "metadata": {},
   "source": [
    "Adicionalmente, podemos revisar el coeficiente de Silhouette"
   ]
  },
  {
   "cell_type": "code",
   "execution_count": null,
   "metadata": {},
   "outputs": [],
   "source": [
    "scores = [0]\n",
    "for k in range(2,11):\n",
    "    fitx = KMeans(n_clusters=k,init=\"random\",n_init=10,max_iter=300,random_state=42).fit(km_scale)\n",
    "    score = silhouette_score(km_scale, fitx.labels_)\n",
    "    scores.append(score)\n",
    "    \n",
    "plt.figure(figsize=(11,8.5))\n",
    "plt.plot(range(1,11), np.array(scores), 'bx-')\n",
    "plt.xlabel('Número de clusters $k$')\n",
    "plt.ylabel('Average Silhouette')\n",
    "plt.title('Método Silhouette mostrando el $k$ óptimo')\n",
    "plt.show()"
   ]
  },
  {
   "cell_type": "markdown",
   "metadata": {},
   "source": [
    "## ¿Cuál consideran sería el valor óptimo para k según el método de silhouette?"
   ]
  },
  {
   "cell_type": "markdown",
   "metadata": {},
   "source": [
    "No necesariamente los métodos deben coincidir ni dan una única respuesta. Depende del investigador y el contexto analizar qué solución podría ser mejor"
   ]
  },
  {
   "cell_type": "markdown",
   "metadata": {},
   "source": [
    "## Validación estructura de clusters\n",
    "\n",
    "Podemos guardar los clusters asignados por el algoritmo cuando se usaron $k=3$ y $k=4$ y evaluar las diferencias entre ellos en cómo están definidos en la data"
   ]
  },
  {
   "cell_type": "code",
   "execution_count": null,
   "metadata": {},
   "outputs": [],
   "source": [
    "datos['cluster_3k'] = kmeans_3k.labels_\n",
    "datos['cluster_4k'] = kmeans_4k.labels_"
   ]
  },
  {
   "cell_type": "markdown",
   "metadata": {},
   "source": [
    "Revisemos la distribución de estos clusters"
   ]
  },
  {
   "cell_type": "code",
   "execution_count": null,
   "metadata": {},
   "outputs": [],
   "source": [
    "print(datos.cluster_3k.value_counts())\n",
    "datos.cluster_3k.value_counts().plot(kind='bar')"
   ]
  },
  {
   "cell_type": "code",
   "execution_count": null,
   "metadata": {},
   "outputs": [],
   "source": [
    "print(datos.cluster_4k.value_counts())\n",
    "datos.cluster_4k.value_counts().plot(kind='bar')"
   ]
  },
  {
   "cell_type": "markdown",
   "metadata": {},
   "source": [
    "Para tener mayor información podríamos visualizar las variables originales de acuerdo a los clusters para entender mejor la estructura"
   ]
  },
  {
   "cell_type": "markdown",
   "metadata": {},
   "source": [
    "**Solución 3 clusters**"
   ]
  },
  {
   "cell_type": "code",
   "execution_count": null,
   "metadata": {
    "scrolled": true
   },
   "outputs": [],
   "source": [
    "plt.figure(figsize=(10,5))\n",
    "plt.subplot(121)\n",
    "colors ={0: 'blue', 1: 'pink', 2: 'orange' , 3:'green', 4:'red'}\n",
    "plt.scatter(y=datos['BARTHAG'], x=datos['ADJOE'],c=datos['cluster_3k'].apply(lambda x: colors[x]),alpha=0.5, edgecolor='k')\n",
    "plt.yticks(fontsize=12)\n",
    "plt.ylabel('Prob Ganar', fontsize=12)\n",
    "plt.title('Efic. Ofensiva', fontsize=16)\n",
    "\n",
    "plt.subplot(122)\n",
    "plt.scatter(y=datos['BARTHAG'], x=datos['EFG_O'],c=datos['cluster_3k'].apply(lambda x: colors[x]),alpha=0.5, edgecolor='k')\n",
    "plt.yticks(fontsize=12)\n",
    "plt.ylabel('Prob Ganar', fontsize=12)\n",
    "plt.title('% Tiros efectivos', fontsize=16)\n"
   ]
  },
  {
   "cell_type": "code",
   "execution_count": null,
   "metadata": {},
   "outputs": [],
   "source": [
    "fig = plt.figure()\n",
    "ax = fig.add_subplot(111, projection='3d')\n",
    "p3d = ax.scatter(xs=datos['BARTHAG'], ys=datos['ADJOE'], zs=datos['EFG_O'], s=30, c=datos['cluster_3k'], cmap = cm.coolwarm)\n",
    "plt.show()"
   ]
  },
  {
   "cell_type": "markdown",
   "metadata": {},
   "source": [
    "**Solución 4 clusters**"
   ]
  },
  {
   "cell_type": "code",
   "execution_count": null,
   "metadata": {
    "scrolled": false
   },
   "outputs": [],
   "source": [
    "plt.figure(figsize=(10,5))\n",
    "plt.subplot(121)\n",
    "colors ={0: 'blue', 1: 'pink', 2: 'orange' , 3:'green', 4:'red'}\n",
    "plt.scatter(y=datos['BARTHAG'], x=datos['ADJOE'],c=datos['cluster_4k'].apply(lambda x: colors[x]),alpha=0.5, edgecolor='k')\n",
    "plt.yticks(fontsize=12)\n",
    "plt.ylabel('Prob Ganar', fontsize=12)\n",
    "plt.title('Efic. Ofensiva', fontsize=16)\n",
    "\n",
    "plt.subplot(122)\n",
    "plt.scatter(y=datos['BARTHAG'], x=datos['EFG_O'],c=datos['cluster_4k'].apply(lambda x: colors[x]),alpha=0.5, edgecolor='k')\n",
    "plt.yticks(fontsize=12)\n",
    "plt.ylabel('Prob Ganar', fontsize=12)\n",
    "plt.title('% Tiros efectivos', fontsize=16)"
   ]
  },
  {
   "cell_type": "code",
   "execution_count": null,
   "metadata": {},
   "outputs": [],
   "source": [
    "fig = plt.figure()\n",
    "ax = fig.add_subplot(111, projection='3d')\n",
    "p3d = ax.scatter(xs=datos['BARTHAG'], ys=datos['ADJOE'], zs=datos['EFG_O'], s=30, c=datos['cluster_4k'], cmap = cm.coolwarm)\n",
    "plt.show()"
   ]
  },
  {
   "cell_type": "code",
   "execution_count": null,
   "metadata": {},
   "outputs": [],
   "source": [
    "pd.crosstab(datos['cluster_3k'],datos['cluster_4k'])"
   ]
  },
  {
   "cell_type": "markdown",
   "metadata": {},
   "source": [
    "En los anteriores gráficos se observa cómo claramente al aumentar el número de clusters, el nuevo grupo se traslapa con los anteriores. Esta situación podría llevar a una solución redundante donde dos clusters van a tener características muy similares o cercanas. Revisemos la caracterización de los clusters con las variables numéricas"
   ]
  },
  {
   "cell_type": "code",
   "execution_count": null,
   "metadata": {
    "scrolled": true
   },
   "outputs": [],
   "source": [
    "datos.groupby('cluster_3k')['W','ADJOE','BARTHAG','EFG_O','2P_O','WAB'].mean()"
   ]
  },
  {
   "cell_type": "code",
   "execution_count": null,
   "metadata": {},
   "outputs": [],
   "source": [
    "datos[['W','ADJOE','BARTHAG','EFG_O','2P_O','WAB']].mean()"
   ]
  },
  {
   "cell_type": "code",
   "execution_count": null,
   "metadata": {
    "scrolled": false
   },
   "outputs": [],
   "source": [
    "datos.groupby('cluster_4k')['W','ADJOE','BARTHAG','EFG_O','2P_O','WAB'].mean()"
   ]
  },
  {
   "cell_type": "markdown",
   "metadata": {},
   "source": [
    "En la solución de 4 clusters se puede ver como el cluster de nivel medio en la solución original es ahora reemplazado por dos clusters que podríamos considerar de desempeño medio-bajo (3) y medio-alto (1)"
   ]
  },
  {
   "cell_type": "markdown",
   "metadata": {},
   "source": [
    "## Comparación ACP y Kmeans\n",
    "\n",
    "Ajustamos un ACP con las variables de interés"
   ]
  },
  {
   "cell_type": "code",
   "execution_count": null,
   "metadata": {},
   "outputs": [],
   "source": [
    "pca = PCA(n_components=5)\n",
    "pca_bs = pca.fit(km_scale)\n",
    "pca_bs = pca.transform(km_scale)"
   ]
  },
  {
   "cell_type": "markdown",
   "metadata": {},
   "source": [
    "Revisemos cuántos componentes deberíamos utilizar"
   ]
  },
  {
   "cell_type": "code",
   "execution_count": null,
   "metadata": {
    "scrolled": true
   },
   "outputs": [],
   "source": [
    "fig, ax = plt.subplots(figsize=(10, 6))\n",
    "ax.bar(np.array([1,2,3,4,5]),pca.explained_variance_ratio_)\n",
    "ax.set(xlabel = \"Dimension\",\n",
    "       ylabel = \"Porcentaje de varianza explicada\")\n",
    "plt.show()"
   ]
  },
  {
   "cell_type": "code",
   "execution_count": null,
   "metadata": {},
   "outputs": [],
   "source": [
    "principalDf = pd.DataFrame(data = pca_bs, columns = ['PC1', 'PC2','PC3', 'PC4','PC5'])\n",
    "principalDf.head()"
   ]
  },
  {
   "cell_type": "code",
   "execution_count": null,
   "metadata": {},
   "outputs": [],
   "source": [
    "datos['CP1'] = principalDf['PC1']\n",
    "datos['CP2'] = principalDf['PC2']\n",
    "datos['CP3'] = principalDf['PC3']"
   ]
  },
  {
   "cell_type": "markdown",
   "metadata": {},
   "source": [
    "Evaluemos cuántos clusters deberíamos tener con estas nuevas variables "
   ]
  },
  {
   "cell_type": "code",
   "execution_count": null,
   "metadata": {},
   "outputs": [],
   "source": [
    "ssw = []\n",
    "K = range(1,10)\n",
    "for k in K:\n",
    "    kmeanModel = KMeans(n_clusters=k,init=\"random\",n_init=10,max_iter=300,random_state=42)\n",
    "    kmeanModel.fit(datos[['CP1','CP2','CP3']])\n",
    "    ssw.append(kmeanModel.inertia_)\n",
    "    \n",
    "plt.figure(figsize=(12,8))\n",
    "plt.plot(K, ssw, 'bx-')\n",
    "plt.xlabel('Número de clusters $k$')\n",
    "plt.ylabel('Suma de cuadrados dentro')\n",
    "plt.title('El método del codo mostrando el k óptimo')\n",
    "plt.show()"
   ]
  },
  {
   "cell_type": "markdown",
   "metadata": {},
   "source": [
    "Nuevamente parece que k=4 podría ser un valor apropiado para el número de clusters"
   ]
  },
  {
   "cell_type": "code",
   "execution_count": null,
   "metadata": {},
   "outputs": [],
   "source": [
    "kmeans_acp = KMeans(init=\"random\",n_clusters=4,n_init=10,max_iter=300,random_state=42)\n",
    "kmeans_acp.fit(datos[['CP1','CP2','CP3']])"
   ]
  },
  {
   "cell_type": "markdown",
   "metadata": {},
   "source": [
    "**Comparación de resultados**"
   ]
  },
  {
   "cell_type": "markdown",
   "metadata": {},
   "source": [
    "Cohesión "
   ]
  },
  {
   "cell_type": "code",
   "execution_count": null,
   "metadata": {},
   "outputs": [],
   "source": [
    "print(kmeans_4k.inertia_)\n",
    "print(kmeans_acp.inertia_)"
   ]
  },
  {
   "cell_type": "markdown",
   "metadata": {},
   "source": [
    "Silhouette"
   ]
  },
  {
   "cell_type": "code",
   "execution_count": null,
   "metadata": {
    "scrolled": false
   },
   "outputs": [],
   "source": [
    "score = silhouette_score(datos[['CP1','CP2','CP3']], kmeans_acp.labels_)\n",
    "print('Silhouetter Score clusters ACP: %.3f' % score)"
   ]
  },
  {
   "cell_type": "code",
   "execution_count": null,
   "metadata": {},
   "outputs": [],
   "source": [
    "score = silhouette_score(km_scale, kmeans_4k.labels_)\n",
    "print('Silhouetter Score 4 clusters: %.3f' % score)"
   ]
  },
  {
   "cell_type": "code",
   "execution_count": null,
   "metadata": {},
   "outputs": [],
   "source": [
    "silplot(datos[['CP1','CP2','CP3']].values,kmeans_acp)"
   ]
  },
  {
   "cell_type": "code",
   "execution_count": null,
   "metadata": {},
   "outputs": [],
   "source": [
    "datos['cluster_acp'] = kmeans_acp.labels_"
   ]
  },
  {
   "cell_type": "code",
   "execution_count": null,
   "metadata": {},
   "outputs": [],
   "source": [
    "print(datos.cluster_acp.value_counts())\n",
    "datos.cluster_acp.value_counts().plot(kind='bar')"
   ]
  },
  {
   "cell_type": "code",
   "execution_count": null,
   "metadata": {
    "scrolled": true
   },
   "outputs": [],
   "source": [
    "pd.crosstab(datos['cluster_4k'],datos['cluster_acp'])"
   ]
  },
  {
   "cell_type": "code",
   "execution_count": null,
   "metadata": {
    "scrolled": true
   },
   "outputs": [],
   "source": [
    "plt.figure(figsize=(10,5))\n",
    "plt.subplot(121)\n",
    "colors ={0: 'blue', 1: 'pink', 2: 'orange' , 3:'green', 4:'red'}\n",
    "plt.scatter(y=datos['BARTHAG'], x=datos['ADJOE'],c=datos['cluster_acp'].apply(lambda x: colors[x]),alpha=0.5, edgecolor='k')\n",
    "plt.yticks(fontsize=12)\n",
    "plt.ylabel('Prob Ganar', fontsize=12)\n",
    "plt.title('Efic. Ofensiva', fontsize=16)\n",
    "\n",
    "plt.subplot(122)\n",
    "plt.scatter(y=datos['BARTHAG'], x=datos['EFG_O'],c=datos['cluster_acp'].apply(lambda x: colors[x]),alpha=0.5, edgecolor='k')\n",
    "plt.yticks(fontsize=12)\n",
    "plt.ylabel('Prob Ganar', fontsize=12)\n",
    "plt.title('% Tiros efectivos', fontsize=16)"
   ]
  },
  {
   "cell_type": "code",
   "execution_count": null,
   "metadata": {},
   "outputs": [],
   "source": [
    "fig = plt.figure()\n",
    "ax = fig.add_subplot(111, projection='3d')\n",
    "p3d = ax.scatter(xs=datos['BARTHAG'], ys=datos['ADJOE'], zs=datos['EFG_O'], s=30, c=datos['cluster_acp'], cmap = cm.coolwarm)\n",
    "plt.show()"
   ]
  },
  {
   "cell_type": "markdown",
   "metadata": {},
   "source": [
    "## Ejercicios\n",
    "\n",
    "1. Ajustemos un nuevo kmeans considerando ahora 5 clusters\n",
    "2. ¿Qué diferencias se evidencian en comparación con los dos anteriores?\n",
    "3. Analicemos la caracterización de los 5 clusters con las variables originales, ¿qué nombre le podríamos dar a cada uno de los clusters?\n",
    "4. Después de analizar estas tres opciones, ¿cuál sería la mejor solución en este caso?"
   ]
  },
  {
   "cell_type": "markdown",
   "metadata": {},
   "source": [
    "## Conclusiones\n",
    "\n",
    "- Efectivamente se logran diferenciar tres grandes segmentos en los equipos: desempeño bajo, medio y alto\n",
    "- Las métricas de validación son una gran herramienta para tomar la decisión sobre el número de clusters a utilizar\n",
    "- También es necesario tener en cuenta el contexto de los datos para definir si la solución tiene sentido\n"
   ]
  }
 ],
 "metadata": {
  "kernelspec": {
   "display_name": "Python 3",
   "language": "python",
   "name": "python3"
  },
  "language_info": {
   "codemirror_mode": {
    "name": "ipython",
    "version": 3
   },
   "file_extension": ".py",
   "mimetype": "text/x-python",
   "name": "python",
   "nbconvert_exporter": "python",
   "pygments_lexer": "ipython3",
   "version": "3.7.3"
  }
 },
 "nbformat": 4,
 "nbformat_minor": 2
}
