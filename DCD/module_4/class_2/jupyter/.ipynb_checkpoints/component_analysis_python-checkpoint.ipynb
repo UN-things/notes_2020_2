{
 "cells": [
  {
   "cell_type": "markdown",
   "metadata": {},
   "source": [
    "# Análisis de componentes principales\n",
    "\n",
    "Este caso práctico muestra un ejemplo de cómo hacer un análisis de componentes principales en R La meta del caso es conocer una de las funciones más usadas en R para hacer análisis de componentes principales. Entender las salidas que ofrece y tomar decisiones de análisis basadas en ellas.\n",
    "\n",
    "**Contexto:** El sector de los bienes raíces es uno de los más exitosos en la economía del mundo. La gran mayoría de personas en el mundo deciden rentar sus viviendas por comodidad o economía.\n",
    "\n",
    "**Problema de negocio:** Existen relaciones fuertes entre las variables a considerar cuando se busca un inmueble para rentarlo? Si es así cómo podría resumir esta información para lograr encontrar un lugar de renta\n",
    "\n",
    "Empezaremos por cargar las librerías requeridas para este caso"
   ]
  },
  {
   "cell_type": "code",
   "execution_count": 1,
   "metadata": {},
   "outputs": [],
   "source": [
    "import pandas as pd\n",
    "import seaborn as sns\n",
    "import numpy as np\n",
    "from sklearn.preprocessing import StandardScaler\n",
    "from sklearn.decomposition import PCA\n",
    "import matplotlib.pyplot as plt"
   ]
  },
  {
   "cell_type": "markdown",
   "metadata": {},
   "source": [
    "### **Datos**\n",
    "Vamos a utilizar una tabla de datos que contiene información sobre los inmuebles en renta y sus características en el mercado de Brasil. La documentación de los mismos puede encontrarse en https://www.kaggle.com/rubenssjr/brasilian-houses-to-rent?select=houses_to_rent_v2.csv\n",
    "Así pues, para cada inmueble se tiene la siguiente información:\n",
    "\n",
    "- **city:** ciudad donde la propiedad esta ubicada\n",
    "- **area:** area de la propiedad\n",
    "- **rooms:** número de cuartos\n",
    "- **bathroom:** número de baños \n",
    "- **parking spaces:** número de parqueaderos\n",
    "- **floor:** piso \n",
    "- **animal:** acepta animales \n",
    "- **furnished:** esta amoblada\n",
    "- **hoa:** administración\n",
    "- **rent amount:** renta\n",
    "- **property tax:** impuesto predial \n",
    "- **fire insurance:** seguro de incendio\n",
    "- **total:** valor total"
   ]
  },
  {
   "cell_type": "code",
   "execution_count": 2,
   "metadata": {
    "scrolled": true
   },
   "outputs": [
    {
     "data": {
      "text/html": [
       "<div>\n",
       "<style scoped>\n",
       "    .dataframe tbody tr th:only-of-type {\n",
       "        vertical-align: middle;\n",
       "    }\n",
       "\n",
       "    .dataframe tbody tr th {\n",
       "        vertical-align: top;\n",
       "    }\n",
       "\n",
       "    .dataframe thead th {\n",
       "        text-align: right;\n",
       "    }\n",
       "</style>\n",
       "<table border=\"1\" class=\"dataframe\">\n",
       "  <thead>\n",
       "    <tr style=\"text-align: right;\">\n",
       "      <th></th>\n",
       "      <th>city</th>\n",
       "      <th>area</th>\n",
       "      <th>rooms</th>\n",
       "      <th>bathroom</th>\n",
       "      <th>parking spaces</th>\n",
       "      <th>floor</th>\n",
       "      <th>animal</th>\n",
       "      <th>furniture</th>\n",
       "      <th>hoa</th>\n",
       "      <th>rent</th>\n",
       "      <th>property_tax</th>\n",
       "      <th>fire_insurance</th>\n",
       "      <th>total</th>\n",
       "    </tr>\n",
       "  </thead>\n",
       "  <tbody>\n",
       "    <tr>\n",
       "      <th>0</th>\n",
       "      <td>São Paulo</td>\n",
       "      <td>70</td>\n",
       "      <td>2</td>\n",
       "      <td>1</td>\n",
       "      <td>1</td>\n",
       "      <td>7</td>\n",
       "      <td>acept</td>\n",
       "      <td>furnished</td>\n",
       "      <td>2065</td>\n",
       "      <td>3300</td>\n",
       "      <td>211</td>\n",
       "      <td>42</td>\n",
       "      <td>5618</td>\n",
       "    </tr>\n",
       "    <tr>\n",
       "      <th>1</th>\n",
       "      <td>São Paulo</td>\n",
       "      <td>320</td>\n",
       "      <td>4</td>\n",
       "      <td>4</td>\n",
       "      <td>0</td>\n",
       "      <td>20</td>\n",
       "      <td>acept</td>\n",
       "      <td>not furnished</td>\n",
       "      <td>1200</td>\n",
       "      <td>4960</td>\n",
       "      <td>1750</td>\n",
       "      <td>63</td>\n",
       "      <td>7973</td>\n",
       "    </tr>\n",
       "    <tr>\n",
       "      <th>2</th>\n",
       "      <td>Porto Alegre</td>\n",
       "      <td>80</td>\n",
       "      <td>1</td>\n",
       "      <td>1</td>\n",
       "      <td>1</td>\n",
       "      <td>6</td>\n",
       "      <td>acept</td>\n",
       "      <td>not furnished</td>\n",
       "      <td>1000</td>\n",
       "      <td>2800</td>\n",
       "      <td>0</td>\n",
       "      <td>41</td>\n",
       "      <td>3841</td>\n",
       "    </tr>\n",
       "    <tr>\n",
       "      <th>3</th>\n",
       "      <td>Porto Alegre</td>\n",
       "      <td>51</td>\n",
       "      <td>2</td>\n",
       "      <td>1</td>\n",
       "      <td>0</td>\n",
       "      <td>2</td>\n",
       "      <td>acept</td>\n",
       "      <td>not furnished</td>\n",
       "      <td>270</td>\n",
       "      <td>1112</td>\n",
       "      <td>22</td>\n",
       "      <td>17</td>\n",
       "      <td>1421</td>\n",
       "    </tr>\n",
       "    <tr>\n",
       "      <th>4</th>\n",
       "      <td>São Paulo</td>\n",
       "      <td>25</td>\n",
       "      <td>1</td>\n",
       "      <td>1</td>\n",
       "      <td>0</td>\n",
       "      <td>1</td>\n",
       "      <td>not acept</td>\n",
       "      <td>not furnished</td>\n",
       "      <td>0</td>\n",
       "      <td>800</td>\n",
       "      <td>25</td>\n",
       "      <td>11</td>\n",
       "      <td>836</td>\n",
       "    </tr>\n",
       "  </tbody>\n",
       "</table>\n",
       "</div>"
      ],
      "text/plain": [
       "           city  area  rooms  bathroom  parking spaces floor     animal  \\\n",
       "0     São Paulo    70      2         1               1     7      acept   \n",
       "1     São Paulo   320      4         4               0    20      acept   \n",
       "2  Porto Alegre    80      1         1               1     6      acept   \n",
       "3  Porto Alegre    51      2         1               0     2      acept   \n",
       "4     São Paulo    25      1         1               0     1  not acept   \n",
       "\n",
       "       furniture   hoa  rent  property_tax  fire_insurance  total  \n",
       "0      furnished  2065  3300           211              42   5618  \n",
       "1  not furnished  1200  4960          1750              63   7973  \n",
       "2  not furnished  1000  2800             0              41   3841  \n",
       "3  not furnished   270  1112            22              17   1421  \n",
       "4  not furnished     0   800            25              11    836  "
      ]
     },
     "execution_count": 2,
     "metadata": {},
     "output_type": "execute_result"
    }
   ],
   "source": [
    "data = pd.read_csv('data/houses_to_rent_v2.csv')\n",
    "data.head()"
   ]
  },
  {
   "cell_type": "markdown",
   "metadata": {},
   "source": [
    "## Pre-procesamiento y limpieza\n",
    "Debemos modificar la variable floor ya que sería interesante incluirla como un valor numérico. Sin embargo el tipo de variable es un factor y contiene el valor ‘-’ para referirse al ground floor."
   ]
  },
  {
   "cell_type": "code",
   "execution_count": 3,
   "metadata": {},
   "outputs": [
    {
     "data": {
      "text/plain": [
       "array(['7', '20', '6', '2', '1', '-', '4', '3', '10', '11', '24', '9',\n",
       "       '8', '17', '18', '5', '13', '15', '16', '14', '26', '12', '21',\n",
       "       '19', '22', '27', '23', '35', '25', '46', '28', '29', '301', '51',\n",
       "       '32'], dtype=object)"
      ]
     },
     "execution_count": 3,
     "metadata": {},
     "output_type": "execute_result"
    }
   ],
   "source": [
    "data['floor'].unique()"
   ]
  },
  {
   "cell_type": "code",
   "execution_count": 4,
   "metadata": {},
   "outputs": [],
   "source": [
    "data.loc[data['floor']=='-','floor'] = 0"
   ]
  },
  {
   "cell_type": "markdown",
   "metadata": {},
   "source": [
    "Queremos hacer un análisis por componentes principales en datos sobre inmuebles rentados. Para acotar nuestro análisis filtraremos únicamente los registros de Sao Paulo. Adicionalmente, para ésta técnica únicamente requerimos de las variables numéricas, por lo cual excluimos del análisis las variables **animal** y **furnished**"
   ]
  },
  {
   "cell_type": "code",
   "execution_count": 5,
   "metadata": {},
   "outputs": [],
   "source": [
    "data_acp = data[data['city']=='São Paulo']\n",
    "# data_acp = data[data['city']=='Rio de Janeiro']\n",
    "data_acp = data_acp[['area','rooms','bathroom','parking spaces','floor','hoa','rent','property_tax','fire_insurance','total']]"
   ]
  },
  {
   "cell_type": "markdown",
   "metadata": {},
   "source": [
    "## Exploración\n",
    "Empecemos haciendo una exploración de los datos"
   ]
  },
  {
   "cell_type": "code",
   "execution_count": 6,
   "metadata": {},
   "outputs": [
    {
     "data": {
      "text/html": [
       "<div>\n",
       "<style scoped>\n",
       "    .dataframe tbody tr th:only-of-type {\n",
       "        vertical-align: middle;\n",
       "    }\n",
       "\n",
       "    .dataframe tbody tr th {\n",
       "        vertical-align: top;\n",
       "    }\n",
       "\n",
       "    .dataframe thead th {\n",
       "        text-align: right;\n",
       "    }\n",
       "</style>\n",
       "<table border=\"1\" class=\"dataframe\">\n",
       "  <thead>\n",
       "    <tr style=\"text-align: right;\">\n",
       "      <th></th>\n",
       "      <th>area</th>\n",
       "      <th>rooms</th>\n",
       "      <th>bathroom</th>\n",
       "      <th>parking spaces</th>\n",
       "      <th>hoa</th>\n",
       "      <th>rent</th>\n",
       "      <th>property_tax</th>\n",
       "      <th>fire_insurance</th>\n",
       "      <th>total</th>\n",
       "    </tr>\n",
       "  </thead>\n",
       "  <tbody>\n",
       "    <tr>\n",
       "      <th>count</th>\n",
       "      <td>5887.000000</td>\n",
       "      <td>5887.000000</td>\n",
       "      <td>5887.000000</td>\n",
       "      <td>5887.000000</td>\n",
       "      <td>5887.000000</td>\n",
       "      <td>5887.000000</td>\n",
       "      <td>5887.000000</td>\n",
       "      <td>5887.000000</td>\n",
       "      <td>5887.000000</td>\n",
       "    </tr>\n",
       "    <tr>\n",
       "      <th>mean</th>\n",
       "      <td>158.899439</td>\n",
       "      <td>2.558859</td>\n",
       "      <td>2.467641</td>\n",
       "      <td>1.877527</td>\n",
       "      <td>1169.627994</td>\n",
       "      <td>4652.793783</td>\n",
       "      <td>495.701716</td>\n",
       "      <td>62.428911</td>\n",
       "      <td>6380.831833</td>\n",
       "    </tr>\n",
       "    <tr>\n",
       "      <th>std</th>\n",
       "      <td>347.474169</td>\n",
       "      <td>1.166365</td>\n",
       "      <td>1.503060</td>\n",
       "      <td>1.687973</td>\n",
       "      <td>4076.461180</td>\n",
       "      <td>3634.612007</td>\n",
       "      <td>4153.618928</td>\n",
       "      <td>50.073429</td>\n",
       "      <td>7541.320897</td>\n",
       "    </tr>\n",
       "    <tr>\n",
       "      <th>min</th>\n",
       "      <td>11.000000</td>\n",
       "      <td>1.000000</td>\n",
       "      <td>1.000000</td>\n",
       "      <td>0.000000</td>\n",
       "      <td>0.000000</td>\n",
       "      <td>500.000000</td>\n",
       "      <td>0.000000</td>\n",
       "      <td>4.000000</td>\n",
       "      <td>508.000000</td>\n",
       "    </tr>\n",
       "    <tr>\n",
       "      <th>25%</th>\n",
       "      <td>59.000000</td>\n",
       "      <td>2.000000</td>\n",
       "      <td>1.000000</td>\n",
       "      <td>1.000000</td>\n",
       "      <td>0.000000</td>\n",
       "      <td>2000.000000</td>\n",
       "      <td>37.000000</td>\n",
       "      <td>26.000000</td>\n",
       "      <td>2631.000000</td>\n",
       "    </tr>\n",
       "    <tr>\n",
       "      <th>50%</th>\n",
       "      <td>106.000000</td>\n",
       "      <td>3.000000</td>\n",
       "      <td>2.000000</td>\n",
       "      <td>1.000000</td>\n",
       "      <td>665.000000</td>\n",
       "      <td>3400.000000</td>\n",
       "      <td>170.000000</td>\n",
       "      <td>45.000000</td>\n",
       "      <td>4596.000000</td>\n",
       "    </tr>\n",
       "    <tr>\n",
       "      <th>75%</th>\n",
       "      <td>212.000000</td>\n",
       "      <td>3.000000</td>\n",
       "      <td>4.000000</td>\n",
       "      <td>3.000000</td>\n",
       "      <td>1608.500000</td>\n",
       "      <td>6000.000000</td>\n",
       "      <td>550.000000</td>\n",
       "      <td>83.000000</td>\n",
       "      <td>8591.000000</td>\n",
       "    </tr>\n",
       "    <tr>\n",
       "      <th>max</th>\n",
       "      <td>24606.000000</td>\n",
       "      <td>10.000000</td>\n",
       "      <td>10.000000</td>\n",
       "      <td>12.000000</td>\n",
       "      <td>220000.000000</td>\n",
       "      <td>45000.000000</td>\n",
       "      <td>313700.000000</td>\n",
       "      <td>677.000000</td>\n",
       "      <td>316900.000000</td>\n",
       "    </tr>\n",
       "  </tbody>\n",
       "</table>\n",
       "</div>"
      ],
      "text/plain": [
       "               area        rooms     bathroom  parking spaces            hoa  \\\n",
       "count   5887.000000  5887.000000  5887.000000     5887.000000    5887.000000   \n",
       "mean     158.899439     2.558859     2.467641        1.877527    1169.627994   \n",
       "std      347.474169     1.166365     1.503060        1.687973    4076.461180   \n",
       "min       11.000000     1.000000     1.000000        0.000000       0.000000   \n",
       "25%       59.000000     2.000000     1.000000        1.000000       0.000000   \n",
       "50%      106.000000     3.000000     2.000000        1.000000     665.000000   \n",
       "75%      212.000000     3.000000     4.000000        3.000000    1608.500000   \n",
       "max    24606.000000    10.000000    10.000000       12.000000  220000.000000   \n",
       "\n",
       "               rent   property_tax  fire_insurance          total  \n",
       "count   5887.000000    5887.000000     5887.000000    5887.000000  \n",
       "mean    4652.793783     495.701716       62.428911    6380.831833  \n",
       "std     3634.612007    4153.618928       50.073429    7541.320897  \n",
       "min      500.000000       0.000000        4.000000     508.000000  \n",
       "25%     2000.000000      37.000000       26.000000    2631.000000  \n",
       "50%     3400.000000     170.000000       45.000000    4596.000000  \n",
       "75%     6000.000000     550.000000       83.000000    8591.000000  \n",
       "max    45000.000000  313700.000000      677.000000  316900.000000  "
      ]
     },
     "execution_count": 6,
     "metadata": {},
     "output_type": "execute_result"
    }
   ],
   "source": [
    "data_acp.describe()"
   ]
  },
  {
   "cell_type": "markdown",
   "metadata": {},
   "source": [
    "Podemos revisar la correlación entre las variables numéricas"
   ]
  },
  {
   "cell_type": "code",
   "execution_count": 7,
   "metadata": {},
   "outputs": [
    {
     "data": {
      "text/plain": [
       "<matplotlib.axes._subplots.AxesSubplot at 0x7f91d168e9d0>"
      ]
     },
     "execution_count": 7,
     "metadata": {},
     "output_type": "execute_result"
    },
    {
     "data": {
      "image/png": "[encoded data removed]",
      "text/plain": [
       "<Figure size 720x576 with 2 Axes>"
      ]
     },
     "metadata": {
      "needs_background": "light"
     },
     "output_type": "display_data"
    }
   ],
   "source": [
    "fig, ax = plt.subplots(figsize=(10,8)) \n",
    "sns.heatmap(data_acp.corr(),annot = True, ax=ax)"
   ]
  },
  {
   "cell_type": "markdown",
   "metadata": {},
   "source": [
    "De lo anterior ya podemos entender el funcionamiento de los datos. Aquí podemos tomar la decisión de sacar información que se vuelve redundante. En particular, la variable total resulta ser la suma de hoa, rent,property_tax y fire_insurance. Podemos observar la relación lineal casi perfecta entre el costo total y el seguro contra incendios, probablemente se calcula de acuerdo al canon de arrendamiento. En este punto podemos quedarnos únicamente con las variables hoa y rent las cuales contienen suficiente información para entender los costos."
   ]
  },
  {
   "cell_type": "code",
   "execution_count": 8,
   "metadata": {},
   "outputs": [],
   "source": [
    "data_acp = data_acp[['area','rooms','bathroom','parking spaces','floor','hoa','rent']]"
   ]
  },
  {
   "cell_type": "markdown",
   "metadata": {},
   "source": [
    "El análisis de componentes principales es sensible a las dimensiones. Es recomendable siempre hacer una estandarización de las variables a utilizar para que las unidades de análisis no interfieran en el análisis. La idea es llevar todas las variables a la misma escala, así esta no interfiere con los resultados del análisis. Esto lo podemos hacer transformando a las variables para que tengan media cero y varianza 1. Hagamos la estandarización del valor de la renta:"
   ]
  },
  {
   "cell_type": "code",
   "execution_count": 9,
   "metadata": {},
   "outputs": [
    {
     "data": {
      "text/html": [
       "<div>\n",
       "<style scoped>\n",
       "    .dataframe tbody tr th:only-of-type {\n",
       "        vertical-align: middle;\n",
       "    }\n",
       "\n",
       "    .dataframe tbody tr th {\n",
       "        vertical-align: top;\n",
       "    }\n",
       "\n",
       "    .dataframe thead th {\n",
       "        text-align: right;\n",
       "    }\n",
       "</style>\n",
       "<table border=\"1\" class=\"dataframe\">\n",
       "  <thead>\n",
       "    <tr style=\"text-align: right;\">\n",
       "      <th></th>\n",
       "      <th>rent</th>\n",
       "      <th>renta_std1</th>\n",
       "    </tr>\n",
       "  </thead>\n",
       "  <tbody>\n",
       "    <tr>\n",
       "      <th>0</th>\n",
       "      <td>3300</td>\n",
       "      <td>-0.372198</td>\n",
       "    </tr>\n",
       "    <tr>\n",
       "      <th>1</th>\n",
       "      <td>4960</td>\n",
       "      <td>0.084522</td>\n",
       "    </tr>\n",
       "    <tr>\n",
       "      <th>4</th>\n",
       "      <td>800</td>\n",
       "      <td>-1.060029</td>\n",
       "    </tr>\n",
       "    <tr>\n",
       "      <th>5</th>\n",
       "      <td>8000</td>\n",
       "      <td>0.920925</td>\n",
       "    </tr>\n",
       "    <tr>\n",
       "      <th>7</th>\n",
       "      <td>3223</td>\n",
       "      <td>-0.393383</td>\n",
       "    </tr>\n",
       "  </tbody>\n",
       "</table>\n",
       "</div>"
      ],
      "text/plain": [
       "   rent  renta_std1\n",
       "0  3300   -0.372198\n",
       "1  4960    0.084522\n",
       "4   800   -1.060029\n",
       "5  8000    0.920925\n",
       "7  3223   -0.393383"
      ]
     },
     "execution_count": 9,
     "metadata": {},
     "output_type": "execute_result"
    }
   ],
   "source": [
    "# calculamos la media de la variable\n",
    "media_renta = data_acp['rent'].mean()\n",
    "# Calculamos la desviación estándar\n",
    "ds_renta = data_acp['rent'].std()\n",
    "# a cada valor restamos la media y dividimos por la desviación estándar\n",
    "data_acp['renta_std1'] = (data_acp['rent']-media_renta)/(ds_renta)\n",
    "# Revisemos el resultado\n",
    "data_acp[['rent','renta_std1']].head()\n"
   ]
  },
  {
   "cell_type": "code",
   "execution_count": 10,
   "metadata": {},
   "outputs": [
    {
     "data": {
      "text/html": [
       "<div>\n",
       "<style scoped>\n",
       "    .dataframe tbody tr th:only-of-type {\n",
       "        vertical-align: middle;\n",
       "    }\n",
       "\n",
       "    .dataframe tbody tr th {\n",
       "        vertical-align: top;\n",
       "    }\n",
       "\n",
       "    .dataframe thead th {\n",
       "        text-align: right;\n",
       "    }\n",
       "</style>\n",
       "<table border=\"1\" class=\"dataframe\">\n",
       "  <thead>\n",
       "    <tr style=\"text-align: right;\">\n",
       "      <th></th>\n",
       "      <th>rent</th>\n",
       "      <th>renta_std1</th>\n",
       "    </tr>\n",
       "  </thead>\n",
       "  <tbody>\n",
       "    <tr>\n",
       "      <th>count</th>\n",
       "      <td>5887.000000</td>\n",
       "      <td>5.887000e+03</td>\n",
       "    </tr>\n",
       "    <tr>\n",
       "      <th>mean</th>\n",
       "      <td>4652.793783</td>\n",
       "      <td>6.638330e-18</td>\n",
       "    </tr>\n",
       "    <tr>\n",
       "      <th>std</th>\n",
       "      <td>3634.612007</td>\n",
       "      <td>1.000000e+00</td>\n",
       "    </tr>\n",
       "    <tr>\n",
       "      <th>min</th>\n",
       "      <td>500.000000</td>\n",
       "      <td>-1.142569e+00</td>\n",
       "    </tr>\n",
       "    <tr>\n",
       "      <th>25%</th>\n",
       "      <td>2000.000000</td>\n",
       "      <td>-7.298699e-01</td>\n",
       "    </tr>\n",
       "    <tr>\n",
       "      <th>50%</th>\n",
       "      <td>3400.000000</td>\n",
       "      <td>-3.446843e-01</td>\n",
       "    </tr>\n",
       "    <tr>\n",
       "      <th>75%</th>\n",
       "      <td>6000.000000</td>\n",
       "      <td>3.706603e-01</td>\n",
       "    </tr>\n",
       "    <tr>\n",
       "      <th>max</th>\n",
       "      <td>45000.000000</td>\n",
       "      <td>1.110083e+01</td>\n",
       "    </tr>\n",
       "  </tbody>\n",
       "</table>\n",
       "</div>"
      ],
      "text/plain": [
       "               rent    renta_std1\n",
       "count   5887.000000  5.887000e+03\n",
       "mean    4652.793783  6.638330e-18\n",
       "std     3634.612007  1.000000e+00\n",
       "min      500.000000 -1.142569e+00\n",
       "25%     2000.000000 -7.298699e-01\n",
       "50%     3400.000000 -3.446843e-01\n",
       "75%     6000.000000  3.706603e-01\n",
       "max    45000.000000  1.110083e+01"
      ]
     },
     "execution_count": 10,
     "metadata": {},
     "output_type": "execute_result"
    }
   ],
   "source": [
    "data_acp[['rent','renta_std1']].describe()"
   ]
  },
  {
   "cell_type": "markdown",
   "metadata": {},
   "source": [
    "Existe también en Python tenemos una función **StandardScaler** que hace éste cómputo por nosotros"
   ]
  },
  {
   "cell_type": "code",
   "execution_count": 11,
   "metadata": {},
   "outputs": [],
   "source": [
    "# creamos el objeto scaler\n",
    "scaler = StandardScaler()"
   ]
  },
  {
   "cell_type": "code",
   "execution_count": 12,
   "metadata": {},
   "outputs": [
    {
     "name": "stderr",
     "output_type": "stream",
     "text": [
      "/usr/local/lib/python2.7/dist-packages/sklearn/preprocessing/data.py:645: DataConversionWarning: Data with input dtype int64 were all converted to float64 by StandardScaler.\n",
      "  return self.partial_fit(X, y)\n",
      "/usr/local/lib/python2.7/dist-packages/sklearn/base.py:464: DataConversionWarning: Data with input dtype int64 were all converted to float64 by StandardScaler.\n",
      "  return self.fit(X, **fit_params).transform(X)\n"
     ]
    }
   ],
   "source": [
    "# ajustamos y transformamos los datos\n",
    "data_acp['renta_std2'] = scaler.fit_transform(data_acp[['rent']]) "
   ]
  },
  {
   "cell_type": "code",
   "execution_count": 13,
   "metadata": {},
   "outputs": [
    {
     "data": {
      "text/html": [
       "<div>\n",
       "<style scoped>\n",
       "    .dataframe tbody tr th:only-of-type {\n",
       "        vertical-align: middle;\n",
       "    }\n",
       "\n",
       "    .dataframe tbody tr th {\n",
       "        vertical-align: top;\n",
       "    }\n",
       "\n",
       "    .dataframe thead th {\n",
       "        text-align: right;\n",
       "    }\n",
       "</style>\n",
       "<table border=\"1\" class=\"dataframe\">\n",
       "  <thead>\n",
       "    <tr style=\"text-align: right;\">\n",
       "      <th></th>\n",
       "      <th>rent</th>\n",
       "      <th>renta_std1</th>\n",
       "      <th>renta_std2</th>\n",
       "    </tr>\n",
       "  </thead>\n",
       "  <tbody>\n",
       "    <tr>\n",
       "      <th>0</th>\n",
       "      <td>3300</td>\n",
       "      <td>-0.372198</td>\n",
       "      <td>-0.372229</td>\n",
       "    </tr>\n",
       "    <tr>\n",
       "      <th>1</th>\n",
       "      <td>4960</td>\n",
       "      <td>0.084522</td>\n",
       "      <td>0.084530</td>\n",
       "    </tr>\n",
       "    <tr>\n",
       "      <th>4</th>\n",
       "      <td>800</td>\n",
       "      <td>-1.060029</td>\n",
       "      <td>-1.060119</td>\n",
       "    </tr>\n",
       "    <tr>\n",
       "      <th>5</th>\n",
       "      <td>8000</td>\n",
       "      <td>0.920925</td>\n",
       "      <td>0.921004</td>\n",
       "    </tr>\n",
       "    <tr>\n",
       "      <th>7</th>\n",
       "      <td>3223</td>\n",
       "      <td>-0.393383</td>\n",
       "      <td>-0.393416</td>\n",
       "    </tr>\n",
       "  </tbody>\n",
       "</table>\n",
       "</div>"
      ],
      "text/plain": [
       "   rent  renta_std1  renta_std2\n",
       "0  3300   -0.372198   -0.372229\n",
       "1  4960    0.084522    0.084530\n",
       "4   800   -1.060029   -1.060119\n",
       "5  8000    0.920925    0.921004\n",
       "7  3223   -0.393383   -0.393416"
      ]
     },
     "execution_count": 13,
     "metadata": {},
     "output_type": "execute_result"
    }
   ],
   "source": [
    "data_acp[['rent','renta_std1','renta_std2']].head()"
   ]
  },
  {
   "cell_type": "code",
   "execution_count": 14,
   "metadata": {},
   "outputs": [
    {
     "data": {
      "text/html": [
       "<div>\n",
       "<style scoped>\n",
       "    .dataframe tbody tr th:only-of-type {\n",
       "        vertical-align: middle;\n",
       "    }\n",
       "\n",
       "    .dataframe tbody tr th {\n",
       "        vertical-align: top;\n",
       "    }\n",
       "\n",
       "    .dataframe thead th {\n",
       "        text-align: right;\n",
       "    }\n",
       "</style>\n",
       "<table border=\"1\" class=\"dataframe\">\n",
       "  <thead>\n",
       "    <tr style=\"text-align: right;\">\n",
       "      <th></th>\n",
       "      <th>rent</th>\n",
       "      <th>renta_std1</th>\n",
       "      <th>renta_std2</th>\n",
       "    </tr>\n",
       "  </thead>\n",
       "  <tbody>\n",
       "    <tr>\n",
       "      <th>count</th>\n",
       "      <td>5887.000000</td>\n",
       "      <td>5.887000e+03</td>\n",
       "      <td>5.887000e+03</td>\n",
       "    </tr>\n",
       "    <tr>\n",
       "      <th>mean</th>\n",
       "      <td>4652.793783</td>\n",
       "      <td>6.638330e-18</td>\n",
       "      <td>1.327666e-17</td>\n",
       "    </tr>\n",
       "    <tr>\n",
       "      <th>std</th>\n",
       "      <td>3634.612007</td>\n",
       "      <td>1.000000e+00</td>\n",
       "      <td>1.000085e+00</td>\n",
       "    </tr>\n",
       "    <tr>\n",
       "      <th>min</th>\n",
       "      <td>500.000000</td>\n",
       "      <td>-1.142569e+00</td>\n",
       "      <td>-1.142666e+00</td>\n",
       "    </tr>\n",
       "    <tr>\n",
       "      <th>25%</th>\n",
       "      <td>2000.000000</td>\n",
       "      <td>-7.298699e-01</td>\n",
       "      <td>-7.299319e-01</td>\n",
       "    </tr>\n",
       "    <tr>\n",
       "      <th>50%</th>\n",
       "      <td>3400.000000</td>\n",
       "      <td>-3.446843e-01</td>\n",
       "      <td>-3.447136e-01</td>\n",
       "    </tr>\n",
       "    <tr>\n",
       "      <th>75%</th>\n",
       "      <td>6000.000000</td>\n",
       "      <td>3.706603e-01</td>\n",
       "      <td>3.706917e-01</td>\n",
       "    </tr>\n",
       "    <tr>\n",
       "      <th>max</th>\n",
       "      <td>45000.000000</td>\n",
       "      <td>1.110083e+01</td>\n",
       "      <td>1.110177e+01</td>\n",
       "    </tr>\n",
       "  </tbody>\n",
       "</table>\n",
       "</div>"
      ],
      "text/plain": [
       "               rent    renta_std1    renta_std2\n",
       "count   5887.000000  5.887000e+03  5.887000e+03\n",
       "mean    4652.793783  6.638330e-18  1.327666e-17\n",
       "std     3634.612007  1.000000e+00  1.000085e+00\n",
       "min      500.000000 -1.142569e+00 -1.142666e+00\n",
       "25%     2000.000000 -7.298699e-01 -7.299319e-01\n",
       "50%     3400.000000 -3.446843e-01 -3.447136e-01\n",
       "75%     6000.000000  3.706603e-01  3.706917e-01\n",
       "max    45000.000000  1.110083e+01  1.110177e+01"
      ]
     },
     "execution_count": 14,
     "metadata": {},
     "output_type": "execute_result"
    }
   ],
   "source": [
    "data_acp[['rent','renta_std1','renta_std2']].describe()"
   ]
  },
  {
   "cell_type": "markdown",
   "metadata": {},
   "source": [
    "Eliminamos estas dos columnas creadas"
   ]
  },
  {
   "cell_type": "code",
   "execution_count": 15,
   "metadata": {},
   "outputs": [],
   "source": [
    "data_acp = data_acp[['area','rooms','bathroom','parking spaces','floor','hoa','rent']]"
   ]
  },
  {
   "cell_type": "markdown",
   "metadata": {},
   "source": [
    "### Análisis de componentes principales\n",
    "\n",
    "La gran mayoría de implementaciones en R o Python de ACP tienen la posibilidad de estandarizar las variables dentro de la función. En este caso utilizaremos la función PCA de la librería sklearn"
   ]
  },
  {
   "cell_type": "code",
   "execution_count": 16,
   "metadata": {},
   "outputs": [
    {
     "name": "stderr",
     "output_type": "stream",
     "text": [
      "/usr/local/lib/python2.7/dist-packages/sklearn/preprocessing/data.py:645: DataConversionWarning: Data with input dtype int64, object were all converted to float64 by StandardScaler.\n",
      "  return self.partial_fit(X, y)\n",
      "/usr/local/lib/python2.7/dist-packages/sklearn/base.py:464: DataConversionWarning: Data with input dtype int64, object were all converted to float64 by StandardScaler.\n",
      "  return self.fit(X, **fit_params).transform(X)\n"
     ]
    }
   ],
   "source": [
    "data_scale =  scaler.fit_transform(data_acp[['area','rooms','bathroom','parking spaces','floor','hoa','rent']]) "
   ]
  },
  {
   "cell_type": "code",
   "execution_count": 17,
   "metadata": {},
   "outputs": [],
   "source": [
    "pca = PCA(n_components=7)"
   ]
  },
  {
   "cell_type": "code",
   "execution_count": 18,
   "metadata": {},
   "outputs": [],
   "source": [
    "pca_renta = pca.fit(data_scale)\n",
    "pca_renta = pca.transform(data_scale)"
   ]
  },
  {
   "cell_type": "markdown",
   "metadata": {},
   "source": [
    "Y podemos describir entonces cómo está hecha la combinación lineal de cada variable original para definir los componentes principales"
   ]
  },
  {
   "cell_type": "code",
   "execution_count": 19,
   "metadata": {},
   "outputs": [
    {
     "data": {
      "text/plain": [
       "array([[ 2.69903853e-01,  4.79909260e-01,  5.06588767e-01,\n",
       "         4.73511308e-01, -1.71323937e-02,  1.39390356e-01,\n",
       "         4.43024474e-01],\n",
       "       [-1.43081089e-01, -1.11041723e-01, -1.68027010e-02,\n",
       "        -6.51797272e-02,  7.60189541e-01,  6.05378780e-01,\n",
       "         1.35259770e-01],\n",
       "       [-1.67205835e-01,  2.92164407e-02, -3.61073304e-02,\n",
       "        -6.58692909e-02, -6.21874364e-01,  7.56564171e-01,\n",
       "        -8.01812701e-02],\n",
       "       [ 9.37380676e-01, -1.48963377e-01, -1.59677236e-01,\n",
       "        -1.58010808e-01,  9.47276603e-03,  1.86960690e-01,\n",
       "        -1.16700957e-01],\n",
       "       [-4.04294793e-03, -4.42807042e-01, -1.65789783e-01,\n",
       "        -1.51138557e-01, -1.81462293e-01, -6.43118786e-02,\n",
       "         8.46470248e-01],\n",
       "       [ 1.33259244e-04, -4.89612531e-01, -2.01657346e-01,\n",
       "         8.33717010e-01, -1.88220947e-02,  5.08560042e-02,\n",
       "        -1.46932671e-01],\n",
       "       [ 4.79858586e-03, -5.46364936e-01,  8.05067074e-01,\n",
       "        -1.55902373e-01, -4.14493788e-02, -4.56791375e-03,\n",
       "        -1.65181322e-01]])"
      ]
     },
     "execution_count": 19,
     "metadata": {},
     "output_type": "execute_result"
    }
   ],
   "source": [
    "pca.components_"
   ]
  },
  {
   "cell_type": "code",
   "execution_count": 20,
   "metadata": {},
   "outputs": [
    {
     "data": {
      "text/plain": [
       "array([ 0.26990385,  0.47990926,  0.50658877,  0.47351131, -0.01713239,\n",
       "        0.13939036,  0.44302447])"
      ]
     },
     "execution_count": 20,
     "metadata": {},
     "output_type": "execute_result"
    }
   ],
   "source": [
    "# PC1\n",
    "pca.components_[0]"
   ]
  },
  {
   "cell_type": "markdown",
   "metadata": {},
   "source": [
    "Por ejemplo, la primer componente se puede definir así:\n",
    "\n",
    "$PC1=0.26area+0.47rooms+0.50bathroom+0.47parking−0.017floor+0.13hoa+0.44rent$\n",
    "\n",
    "Estos pesos de cada variable en el primer componente nos dan una idea de qué información está recogiendo la dimensión."
   ]
  },
  {
   "cell_type": "markdown",
   "metadata": {},
   "source": [
    "Podemos también revisar cómo está representada cada observación en las nuevas dimensiones"
   ]
  },
  {
   "cell_type": "code",
   "execution_count": 21,
   "metadata": {},
   "outputs": [
    {
     "data": {
      "text/html": [
       "<div>\n",
       "<style scoped>\n",
       "    .dataframe tbody tr th:only-of-type {\n",
       "        vertical-align: middle;\n",
       "    }\n",
       "\n",
       "    .dataframe tbody tr th {\n",
       "        vertical-align: top;\n",
       "    }\n",
       "\n",
       "    .dataframe thead th {\n",
       "        text-align: right;\n",
       "    }\n",
       "</style>\n",
       "<table border=\"1\" class=\"dataframe\">\n",
       "  <thead>\n",
       "    <tr style=\"text-align: right;\">\n",
       "      <th></th>\n",
       "      <th>PC1</th>\n",
       "      <th>PC2</th>\n",
       "      <th>PC3</th>\n",
       "      <th>PC4</th>\n",
       "      <th>PC5</th>\n",
       "      <th>PC6</th>\n",
       "      <th>PC7</th>\n",
       "    </tr>\n",
       "  </thead>\n",
       "  <tbody>\n",
       "    <tr>\n",
       "      <th>0</th>\n",
       "      <td>-1.178077</td>\n",
       "      <td>0.395167</td>\n",
       "      <td>0.153275</td>\n",
       "      <td>0.156273</td>\n",
       "      <td>0.083332</td>\n",
       "      <td>0.059637</td>\n",
       "      <td>-0.393443</td>\n",
       "    </tr>\n",
       "    <tr>\n",
       "      <th>1</th>\n",
       "      <td>0.705767</td>\n",
       "      <td>1.672070</td>\n",
       "      <td>-1.482126</td>\n",
       "      <td>0.277543</td>\n",
       "      <td>-0.909585</td>\n",
       "      <td>-1.794688</td>\n",
       "      <td>0.208966</td>\n",
       "    </tr>\n",
       "    <tr>\n",
       "      <th>2</th>\n",
       "      <td>-2.263465</td>\n",
       "      <td>-0.605387</td>\n",
       "      <td>0.476918</td>\n",
       "      <td>0.232387</td>\n",
       "      <td>0.183173</td>\n",
       "      <td>0.079431</td>\n",
       "      <td>0.323785</td>\n",
       "    </tr>\n",
       "    <tr>\n",
       "      <th>3</th>\n",
       "      <td>2.350645</td>\n",
       "      <td>-1.090601</td>\n",
       "      <td>-0.019287</td>\n",
       "      <td>-0.176669</td>\n",
       "      <td>0.279211</td>\n",
       "      <td>2.141313</td>\n",
       "      <td>-0.503966</td>\n",
       "    </tr>\n",
       "    <tr>\n",
       "      <th>4</th>\n",
       "      <td>1.614392</td>\n",
       "      <td>-0.354922</td>\n",
       "      <td>0.290256</td>\n",
       "      <td>-0.306513</td>\n",
       "      <td>-1.208284</td>\n",
       "      <td>0.314209</td>\n",
       "      <td>0.025293</td>\n",
       "    </tr>\n",
       "  </tbody>\n",
       "</table>\n",
       "</div>"
      ],
      "text/plain": [
       "        PC1       PC2       PC3       PC4       PC5       PC6       PC7\n",
       "0 -1.178077  0.395167  0.153275  0.156273  0.083332  0.059637 -0.393443\n",
       "1  0.705767  1.672070 -1.482126  0.277543 -0.909585 -1.794688  0.208966\n",
       "2 -2.263465 -0.605387  0.476918  0.232387  0.183173  0.079431  0.323785\n",
       "3  2.350645 -1.090601 -0.019287 -0.176669  0.279211  2.141313 -0.503966\n",
       "4  1.614392 -0.354922  0.290256 -0.306513 -1.208284  0.314209  0.025293"
      ]
     },
     "execution_count": 21,
     "metadata": {},
     "output_type": "execute_result"
    }
   ],
   "source": [
    "principalDf = pd.DataFrame(data = pca_renta, columns = ['PC1', 'PC2','PC3', 'PC4','PC5', 'PC6','PC7'])\n",
    "principalDf.head()"
   ]
  },
  {
   "cell_type": "markdown",
   "metadata": {},
   "source": [
    "Paso seguido podemos visualizar los valores propios para saber qué tan buena es la reducción en los componentes principales. Utilizaremos **explained_variance_** para obtener los valores propios o varianza explicada y **explained_variance_ratio_** para saber el porcentaje de varianza explicada por cada componente"
   ]
  },
  {
   "cell_type": "code",
   "execution_count": 22,
   "metadata": {
    "scrolled": true
   },
   "outputs": [
    {
     "data": {
      "text/plain": [
       "array([3.15040047, 1.121576  , 0.86706738, 0.82333972, 0.46171593,\n",
       "       0.3580203 , 0.21906947])"
      ]
     },
     "execution_count": 22,
     "metadata": {},
     "output_type": "execute_result"
    }
   ],
   "source": [
    "# Varianza de cada uno de los componentes\n",
    "# Desviasión estándar = sqrt(Varianza)\n",
    "pca.explained_variance_"
   ]
  },
  {
   "cell_type": "code",
   "execution_count": 23,
   "metadata": {
    "scrolled": true
   },
   "outputs": [
    {
     "data": {
      "text/plain": [
       "array([0.44998076, 0.16019793, 0.12384573, 0.11759998, 0.06594821,\n",
       "       0.05113707, 0.03129032])"
      ]
     },
     "execution_count": 23,
     "metadata": {},
     "output_type": "execute_result"
    }
   ],
   "source": [
    "# Porcentaje que acumula cada uno de los componentes\n",
    "pca.explained_variance_ratio_"
   ]
  },
  {
   "cell_type": "code",
   "execution_count": 24,
   "metadata": {},
   "outputs": [
    {
     "data": {
      "image/png": "[encoded data removed]",
      "text/plain": [
       "<Figure size 720x432 with 1 Axes>"
      ]
     },
     "metadata": {
      "needs_background": "light"
     },
     "output_type": "display_data"
    }
   ],
   "source": [
    "fig, ax = plt.subplots(figsize=(10, 6))\n",
    "ax.bar(np.array([1,2,3,4,5,6,7]),pca.explained_variance_ratio_)\n",
    "ax.set(xlabel = \"Dimension\",\n",
    "       ylabel = \"Porcentaje de varianza explicada\")\n",
    "\n",
    "plt.show()\n"
   ]
  },
  {
   "cell_type": "markdown",
   "metadata": {},
   "source": [
    "También podemos hacer una visualización de las variables originales en las nuevas dimensiones. Primero revisemos las dos primeras componentes"
   ]
  },
  {
   "cell_type": "code",
   "execution_count": 25,
   "metadata": {
    "scrolled": false
   },
   "outputs": [
    {
     "data": {
      "image/png": "[encoded data removed]",
      "text/plain": [
       "<Figure size 504x504 with 1 Axes>"
      ]
     },
     "metadata": {
      "needs_background": "light"
     },
     "output_type": "display_data"
    }
   ],
   "source": [
    "# Get the PCA components (loadings)\n",
    "PCs = pca.components_\n",
    "\n",
    "# Use quiver to generate the basic plot\n",
    "fig = plt.figure(figsize=(7,7))\n",
    "plt.quiver(np.zeros(PCs.shape[1]), np.zeros(PCs.shape[1]),\n",
    "           PCs[0,:], PCs[1,:], \n",
    "           angles='xy', scale_units='xy', scale=1)\n",
    "\n",
    "# Add labels based on feature names (here just numbers)\n",
    "feature_names = np.array(['area', 'rooms', 'bathroom', 'parking spaces', 'floor', 'hoa', 'rent'])\n",
    "\n",
    "for i,j,z in zip(PCs[1,:]+0.02, PCs[0,:]+0.02, feature_names):\n",
    "    plt.text(j, i, z, ha='center', va='center')\n",
    "\n",
    "# Add unit circle\n",
    "circle = plt.Circle((0,0), 1, facecolor='none', edgecolor='b')\n",
    "plt.gca().add_artist(circle)\n",
    "\n",
    "# Ensure correct aspect ratio and axis limits\n",
    "plt.axis('equal')\n",
    "plt.xlim([-1.0,1.0])\n",
    "plt.ylim([-1.0,1.0])\n",
    "\n",
    "# Label axes\n",
    "plt.xlabel('PC 1')\n",
    "plt.ylabel('PC 2')\n",
    "\n",
    "# Done\n",
    "plt.show()"
   ]
  },
  {
   "cell_type": "markdown",
   "metadata": {},
   "source": [
    "La cercanía al circulo unitario es un indicativo de qué tan buena es ésta representación para cada variable"
   ]
  },
  {
   "cell_type": "code",
   "execution_count": 26,
   "metadata": {},
   "outputs": [
    {
     "data": {
      "image/png": "[encoded data removed]",
      "text/plain": [
       "<Figure size 504x504 with 1 Axes>"
      ]
     },
     "metadata": {
      "needs_background": "light"
     },
     "output_type": "display_data"
    }
   ],
   "source": [
    "# Get the PCA components (loadings)\n",
    "PCs = pca.components_\n",
    "\n",
    "# Use quiver to generate the basic plot\n",
    "fig = plt.figure(figsize=(7,7))\n",
    "plt.quiver(np.zeros(PCs.shape[1]), np.zeros(PCs.shape[1]),\n",
    "           PCs[0,:], PCs[2,:], # primera y tercera dimension\n",
    "           angles='xy', scale_units='xy', scale=1)\n",
    "\n",
    "# Add labels based on feature names (here just numbers)\n",
    "feature_names = np.array(['area', 'rooms', 'bathroom', 'parking spaces', 'floor', 'hoa', 'rent'])\n",
    "\n",
    "for i,j,z in zip(PCs[2,:]+0.02, PCs[0,:]+0.02, feature_names):\n",
    "    plt.text(j, i, z, ha='center', va='center')\n",
    "\n",
    "# Add unit circle\n",
    "circle = plt.Circle((0,0), 1, facecolor='none', edgecolor='b')\n",
    "plt.gca().add_artist(circle)\n",
    "\n",
    "# Ensure correct aspect ratio and axis limits\n",
    "plt.axis('equal')\n",
    "plt.xlim([-1.0,1.0])\n",
    "plt.ylim([-1.0,1.0])\n",
    "\n",
    "# Label axes\n",
    "plt.xlabel('PC 1')\n",
    "plt.ylabel('PC 3')\n",
    "\n",
    "# Done\n",
    "plt.show()"
   ]
  },
  {
   "cell_type": "markdown",
   "metadata": {},
   "source": [
    "Podemos también visualizar los individuos en el mismo plano. Dado que tenemos 5887 observaciones la siguiente función puede tomar mucho tiempo para graficar los resultados. Por esta razón, sólo graficaremos las primeras 150 observaciones"
   ]
  },
  {
   "cell_type": "code",
   "execution_count": 27,
   "metadata": {},
   "outputs": [],
   "source": [
    "df = principalDf.loc[:150]"
   ]
  },
  {
   "cell_type": "code",
   "execution_count": 28,
   "metadata": {},
   "outputs": [
    {
     "name": "stderr",
     "output_type": "stream",
     "text": [
      "/usr/local/lib/python2.7/dist-packages/seaborn/regression.py:576: UserWarning: The `size` parameter has been renamed to `height`; please update your code.\n",
      "  warnings.warn(msg, UserWarning)\n"
     ]
    },
    {
     "data": {
      "image/png": "[encoded data removed]",
      "text/plain": [
       "<Figure size 432x432 with 1 Axes>"
      ]
     },
     "metadata": {
      "needs_background": "light"
     },
     "output_type": "display_data"
    }
   ],
   "source": [
    "g = sns.lmplot('PC1',\n",
    "               'PC2',\n",
    "               data=df,\n",
    "               fit_reg=False,\n",
    "               size = 6,\n",
    "               scatter=True)\n",
    "               #size=7)\n",
    "\n",
    "plt.show()"
   ]
  },
  {
   "cell_type": "markdown",
   "metadata": {},
   "source": [
    "### Ejercicios"
   ]
  },
  {
   "cell_type": "markdown",
   "metadata": {},
   "source": [
    "**1. ¿Qué conclusiones podríamos sacar del biplot de la primer y segunda componente?**\n",
    "\n",
    "\n",
    "**2. Ajustemos el mismo análisis para la ciudad de Rio de Janeiro, ¿qué resultados se obtienen? ¿hay diferencias con el análisis anterior?**"
   ]
  },
  {
   "cell_type": "markdown",
   "metadata": {},
   "source": [
    "## Conclusiones"
   ]
  },
  {
   "cell_type": "markdown",
   "metadata": {},
   "source": [
    "- El análisis de componentes principales resulta ser una gran herramienta para resumir información \n",
    "\n",
    "- Se pueden visualizar y encontrar patrones de forma multivariada\n",
    "\n",
    "- Es posible identificar también información recurrente"
   ]
  }
 ],
 "metadata": {
  "kernelspec": {
   "display_name": "Python 3",
   "language": "python",
   "name": "python3"
  },
  "language_info": {
   "codemirror_mode": {
    "name": "ipython",
    "version": 2
   },
   "file_extension": ".py",
   "mimetype": "text/x-python",
   "name": "python",
   "nbconvert_exporter": "python",
   "pygments_lexer": "ipython2",
   "version": "2.7.16"
  }
 },
 "nbformat": 4,
 "nbformat_minor": 2
}
