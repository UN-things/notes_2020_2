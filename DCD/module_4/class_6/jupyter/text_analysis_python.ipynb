{
 "cells": [
  {
   "cell_type": "markdown",
   "metadata": {},
   "source": [
    "## Análisis de texto\n",
    "\n",
    "En este caso práctico haremos una revisión general de cómo podemos analizar y procesar textos desde una perspectiva descriptiva. \n",
    "\n",
    "El caso está estructurado así:\n",
    "\n",
    "1. Carga y exploración de texto\n",
    "2. Procesos de limpieza y transformación en texto\n",
    "3. Representaciones de conteos"
   ]
  },
  {
   "cell_type": "markdown",
   "metadata": {},
   "source": [
    "**Contexto:** Muchas empresas y entidades estan monitoreando constantemente los comentarios que hay en redes sociales sobre sus productos y servicios para identificar rápidamente molestias e inquietudes de sus clientes. Así poder tomar decisiones y medidas eficientemente evitando que su imagen se vea damnificada\n",
    "\n",
    "**Pregunta de negocio:** En este caso analizaremos una muestra de tweets relacionados con el banco Davivienda. El objetivo es analizar cuáles pueden ser los temas tendencia en estos tweets y qué hallazgos se encuentran en ellos"
   ]
  },
  {
   "cell_type": "code",
   "execution_count": 1,
   "metadata": {
    "scrolled": true
   },
   "outputs": [
    {
     "name": "stderr",
     "output_type": "stream",
     "text": [
      "[nltk_data] Downloading package punkt to /root/nltk_data...\n",
      "[nltk_data]   Package punkt is already up-to-date!\n",
      "[nltk_data] Downloading package stopwords to /root/nltk_data...\n",
      "[nltk_data]   Package stopwords is already up-to-date!\n"
     ]
    }
   ],
   "source": [
    "import nltk # imports the natural language toolkit\n",
    "nltk.download('punkt')\n",
    "nltk.download('stopwords')\n",
    "from nltk.corpus import stopwords\n",
    "import matplotlib.pyplot as plt\n",
    "from wordcloud import WordCloud\n",
    "from collections import Counter\n",
    "import pandas as pd\n",
    "import re\n",
    "import string\n",
    "from nltk.util import ngrams\n",
    "from sklearn.feature_extraction.text import CountVectorizer"
   ]
  },
  {
   "cell_type": "code",
   "execution_count": 2,
   "metadata": {},
   "outputs": [],
   "source": [
    "tx = pd.read_csv('data/tweets.csv',encoding='latin-1')"
   ]
  },
  {
   "cell_type": "code",
   "execution_count": 3,
   "metadata": {
    "scrolled": false
   },
   "outputs": [
    {
     "data": {
      "text/html": [
       "<div>\n",
       "<style scoped>\n",
       "    .dataframe tbody tr th:only-of-type {\n",
       "        vertical-align: middle;\n",
       "    }\n",
       "\n",
       "    .dataframe tbody tr th {\n",
       "        vertical-align: top;\n",
       "    }\n",
       "\n",
       "    .dataframe thead th {\n",
       "        text-align: right;\n",
       "    }\n",
       "</style>\n",
       "<table border=\"1\" class=\"dataframe\">\n",
       "  <thead>\n",
       "    <tr style=\"text-align: right;\">\n",
       "      <th></th>\n",
       "      <th>texto</th>\n",
       "    </tr>\n",
       "  </thead>\n",
       "  <tbody>\n",
       "    <tr>\n",
       "      <th>0</th>\n",
       "      <td>RT @davicorredores: Actualizamos nuestro pronó...</td>\n",
       "    </tr>\n",
       "    <tr>\n",
       "      <th>1</th>\n",
       "      <td>Explicó que en lo corrido del año los resultad...</td>\n",
       "    </tr>\n",
       "    <tr>\n",
       "      <th>2</th>\n",
       "      <td>Nuevo #TipoDeCambio en Banco Davivienda (Costa...</td>\n",
       "    </tr>\n",
       "    <tr>\n",
       "      <th>3</th>\n",
       "      <td>No les pasa que se sienten como davivienda. Ya...</td>\n",
       "    </tr>\n",
       "    <tr>\n",
       "      <th>4</th>\n",
       "      <td>Actualizamos nuestro pronóstico de inflación, ...</td>\n",
       "    </tr>\n",
       "  </tbody>\n",
       "</table>\n",
       "</div>"
      ],
      "text/plain": [
       "                                               texto\n",
       "0  RT @davicorredores: Actualizamos nuestro pronó...\n",
       "1  Explicó que en lo corrido del año los resultad...\n",
       "2  Nuevo #TipoDeCambio en Banco Davivienda (Costa...\n",
       "3  No les pasa que se sienten como davivienda. Ya...\n",
       "4  Actualizamos nuestro pronóstico de inflación, ..."
      ]
     },
     "execution_count": 3,
     "metadata": {},
     "output_type": "execute_result"
    }
   ],
   "source": [
    "tx.head()"
   ]
  },
  {
   "cell_type": "markdown",
   "metadata": {},
   "source": [
    "## Manejo de textos"
   ]
  },
  {
   "cell_type": "markdown",
   "metadata": {},
   "source": [
    "**Tokenizar oraciones**"
   ]
  },
  {
   "cell_type": "code",
   "execution_count": 4,
   "metadata": {},
   "outputs": [
    {
     "data": {
      "text/plain": [
       "'RT @davicorredores: Actualizamos nuestro pronóstico de inflación, ahora en @davivienda esperamos una inflación de 3.97% al finalizar 2019. Conozca más aquí #PresentaciónSemanal #Mercados #Acciones #Colcap #TES'"
      ]
     },
     "execution_count": 4,
     "metadata": {},
     "output_type": "execute_result"
    }
   ],
   "source": [
    "tw = tx['texto']\n",
    "tw.head()\n",
    "tw[0]"
   ]
  },
  {
   "cell_type": "code",
   "execution_count": 5,
   "metadata": {},
   "outputs": [
    {
     "name": "stdout",
     "output_type": "stream",
     "text": [
      "RT @davicorredores: Actualizamos nuestro pronóstico de inflación, ahora en @davivienda esperamos una inflación de 3.97% al finalizar 2019.\n",
      "\n",
      "Conozca más aquí #PresentaciónSemanal #Mercados #Acciones #Colcap #TES\n",
      "\n"
     ]
    }
   ],
   "source": [
    "oraciones = nltk.sent_tokenize(tw[0])\n",
    "for oracion in oraciones:\n",
    "    print(oracion)\n",
    "    print()"
   ]
  },
  {
   "cell_type": "markdown",
   "metadata": {},
   "source": [
    "**Tokenizar palabras**"
   ]
  },
  {
   "cell_type": "code",
   "execution_count": 6,
   "metadata": {},
   "outputs": [
    {
     "name": "stdout",
     "output_type": "stream",
     "text": [
      "Explicó que en lo corrido del año los resultados del grueso de las compañías son saludables, jalonados por menores impuestos, menor apalancamiento y costo de crédito, lo cual favorece las utilidades.\n",
      "['Explicó', 'que', 'en', 'lo', 'corrido', 'del', 'año', 'los', 'resultados', 'del', 'grueso', 'de', 'las', 'compañías', 'son', 'saludables', ',', 'jalonados', 'por', 'menores', 'impuestos', ',', 'menor', 'apalancamiento', 'y', 'costo', 'de', 'crédito', ',', 'lo', 'cual', 'favorece', 'las', 'utilidades', '.']\n",
      "\n",
      "#ValoraAnalitik\n",
      "['#', 'ValoraAnalitik']\n",
      "\n"
     ]
    }
   ],
   "source": [
    "oraciones = nltk.sent_tokenize(tx['texto'][1])\n",
    "for oracion in oraciones:\n",
    "    palabras = nltk.word_tokenize(oracion)\n",
    "    print(oracion)\n",
    "    print(palabras)\n",
    "    print()"
   ]
  },
  {
   "cell_type": "markdown",
   "metadata": {},
   "source": [
    "**Tamaño de los tweets**"
   ]
  },
  {
   "cell_type": "code",
   "execution_count": 7,
   "metadata": {},
   "outputs": [
    {
     "data": {
      "text/html": [
       "<div>\n",
       "<style scoped>\n",
       "    .dataframe tbody tr th:only-of-type {\n",
       "        vertical-align: middle;\n",
       "    }\n",
       "\n",
       "    .dataframe tbody tr th {\n",
       "        vertical-align: top;\n",
       "    }\n",
       "\n",
       "    .dataframe thead th {\n",
       "        text-align: right;\n",
       "    }\n",
       "</style>\n",
       "<table border=\"1\" class=\"dataframe\">\n",
       "  <thead>\n",
       "    <tr style=\"text-align: right;\">\n",
       "      <th></th>\n",
       "      <th>texto</th>\n",
       "      <th>largo</th>\n",
       "    </tr>\n",
       "  </thead>\n",
       "  <tbody>\n",
       "    <tr>\n",
       "      <th>0</th>\n",
       "      <td>RT @davicorredores: Actualizamos nuestro pronó...</td>\n",
       "      <td>209</td>\n",
       "    </tr>\n",
       "    <tr>\n",
       "      <th>1</th>\n",
       "      <td>Explicó que en lo corrido del año los resultad...</td>\n",
       "      <td>215</td>\n",
       "    </tr>\n",
       "    <tr>\n",
       "      <th>2</th>\n",
       "      <td>Nuevo #TipoDeCambio en Banco Davivienda (Costa...</td>\n",
       "      <td>121</td>\n",
       "    </tr>\n",
       "    <tr>\n",
       "      <th>3</th>\n",
       "      <td>No les pasa que se sienten como davivienda. Ya...</td>\n",
       "      <td>74</td>\n",
       "    </tr>\n",
       "    <tr>\n",
       "      <th>4</th>\n",
       "      <td>Actualizamos nuestro pronóstico de inflación, ...</td>\n",
       "      <td>189</td>\n",
       "    </tr>\n",
       "  </tbody>\n",
       "</table>\n",
       "</div>"
      ],
      "text/plain": [
       "                                               texto  largo\n",
       "0  RT @davicorredores: Actualizamos nuestro pronó...    209\n",
       "1  Explicó que en lo corrido del año los resultad...    215\n",
       "2  Nuevo #TipoDeCambio en Banco Davivienda (Costa...    121\n",
       "3  No les pasa que se sienten como davivienda. Ya...     74\n",
       "4  Actualizamos nuestro pronóstico de inflación, ...    189"
      ]
     },
     "execution_count": 7,
     "metadata": {},
     "output_type": "execute_result"
    }
   ],
   "source": [
    "tx['largo'] = tx['texto'].apply(len)\n",
    "tx.head()"
   ]
  },
  {
   "cell_type": "code",
   "execution_count": 8,
   "metadata": {
    "scrolled": true
   },
   "outputs": [
    {
     "data": {
      "text/plain": [
       "183.03341352579525"
      ]
     },
     "execution_count": 8,
     "metadata": {},
     "output_type": "execute_result"
    }
   ],
   "source": [
    "tx['largo'].mean()"
   ]
  },
  {
   "cell_type": "code",
   "execution_count": 9,
   "metadata": {
    "scrolled": true
   },
   "outputs": [
    {
     "name": "stdout",
     "output_type": "stream",
     "text": [
      "13\n",
      "578\n"
     ]
    }
   ],
   "source": [
    "print(tx['largo'].min())\n",
    "print(tx['largo'].max())"
   ]
  },
  {
   "cell_type": "code",
   "execution_count": 10,
   "metadata": {},
   "outputs": [
    {
     "data": {
      "text/plain": [
       "<matplotlib.axes._subplots.AxesSubplot at 0x7f3a9c69dcf8>"
      ]
     },
     "execution_count": 10,
     "metadata": {},
     "output_type": "execute_result"
    },
    {
     "data": {
      "image/png": "[encoded data removed]",
      "text/plain": [
       "<Figure size 432x288 with 1 Axes>"
      ]
     },
     "metadata": {
      "needs_background": "light"
     },
     "output_type": "display_data"
    }
   ],
   "source": [
    "tx['largo'].hist()"
   ]
  },
  {
   "cell_type": "markdown",
   "metadata": {},
   "source": [
    "**Wordclouds**"
   ]
  },
  {
   "cell_type": "code",
   "execution_count": 11,
   "metadata": {},
   "outputs": [
    {
     "data": {
      "image/png": "[encoded data removed]",
      "text/plain": [
       "<Figure size 432x288 with 1 Axes>"
      ]
     },
     "metadata": {
      "needs_background": "light"
     },
     "output_type": "display_data"
    }
   ],
   "source": [
    "texto_c = ''.join(tx.texto)\n",
    "wordcloud = WordCloud(max_font_size=100, max_words=100, background_color=\"white\",\\\n",
    "                          scale = 10,width=800, height=400).generate(texto_c)\n",
    "plt.figure()\n",
    "plt.imshow(wordcloud, interpolation=\"bilinear\")\n",
    "plt.axis(\"off\")\n",
    "plt.show()"
   ]
  },
  {
   "cell_type": "markdown",
   "metadata": {},
   "source": [
    "## Palabras o tokens más frecuentes"
   ]
  },
  {
   "cell_type": "code",
   "execution_count": 12,
   "metadata": {
    "scrolled": true
   },
   "outputs": [
    {
     "data": {
      "text/plain": [
       "[('@', 6148),\n",
       " ('de', 4523),\n",
       " (',', 3824),\n",
       " ('.', 3750),\n",
       " ('?', 2887),\n",
       " ('el', 2593),\n",
       " (':', 2558),\n",
       " ('en', 2546),\n",
       " ('#', 2303),\n",
       " ('a', 2163),\n",
       " ('Davivienda', 2136),\n",
       " ('que', 1975),\n",
       " ('la', 1975),\n",
       " ('y', 1947),\n",
       " ('davivienda', 1301),\n",
       " ('es', 1230),\n",
       " ('del', 1031),\n",
       " ('por', 1029),\n",
       " ('no', 910),\n",
       " ('con', 899)]"
      ]
     },
     "execution_count": 12,
     "metadata": {},
     "output_type": "execute_result"
    }
   ],
   "source": [
    "tokenized_words = nltk.word_tokenize(texto_c)\n",
    "word_freq = Counter(tokenized_words)\n",
    "word_freq.most_common(20)"
   ]
  },
  {
   "cell_type": "markdown",
   "metadata": {},
   "source": [
    "Al sacar los tokens más comunes en esta muestra de tweets observamos como algunos signos de puntuación resultan ser los más comunes. Esto indica que debemos hacer un proceso de limpieza de los textos"
   ]
  },
  {
   "cell_type": "markdown",
   "metadata": {},
   "source": [
    "## Limpieza y pre-procesamiento"
   ]
  },
  {
   "cell_type": "code",
   "execution_count": 13,
   "metadata": {
    "scrolled": true
   },
   "outputs": [
    {
     "data": {
      "text/plain": [
       "'RT @davicorredores: Actualizamos nuestro pronóstico de inflación, ahora en @davivienda esperamos una inflación de 3.97% al finalizar 2019. Conozca más aquí #PresentaciónSemanal #Mercados #Acciones #Colcap #TESExplicó que en lo corrido del año los resultados del grueso de las compañías son saludables, jalonados por menores impuestos, menor apalancamiento y costo de crédito, lo cual favorece las uti'"
      ]
     },
     "execution_count": 13,
     "metadata": {},
     "output_type": "execute_result"
    }
   ],
   "source": [
    "texto_c = ''.join(tx.texto)\n",
    "texto_c[:400]"
   ]
  },
  {
   "cell_type": "markdown",
   "metadata": {},
   "source": [
    "**Llevar todas las palabras a minúsculas**"
   ]
  },
  {
   "cell_type": "code",
   "execution_count": 14,
   "metadata": {},
   "outputs": [],
   "source": [
    "texto_c = texto_c.lower()"
   ]
  },
  {
   "cell_type": "code",
   "execution_count": 15,
   "metadata": {},
   "outputs": [
    {
     "data": {
      "text/plain": [
       "'rt @davicorredores: actualizamos nuestro pronóstico de inflación, ahora en @davivienda esperamos una inflación de 3.97% al finalizar 2019. conozca más aquí #presentaciónsemanal #mercados #acciones #colcap #tesexplicó que en lo corrido del año los resultados del grueso de las compañías son saludables, jalonados por menores impuestos, menor apalancamiento y costo de crédito, lo cual favorece las uti'"
      ]
     },
     "execution_count": 15,
     "metadata": {},
     "output_type": "execute_result"
    }
   ],
   "source": [
    "texto_c[:400]"
   ]
  },
  {
   "cell_type": "markdown",
   "metadata": {},
   "source": [
    "**Remover @, # con expresiones regulares**"
   ]
  },
  {
   "cell_type": "code",
   "execution_count": 16,
   "metadata": {
    "scrolled": false
   },
   "outputs": [
    {
     "data": {
      "text/plain": [
       "'rt : actualizamos nuestro pronóstico de inflación, ahora en  esperamos una inflación de 3.97% al finalizar 2019. conozca más aquí presentaciónsemanal mercados acciones colcap tesexplicó que en lo corrido del año los resultados del grueso de las compañías son saludables, jalonados por menores impuestos, menor apalancamiento y costo de crédito, lo cual favorece las utilidades. valoraanalitiknuevo ti'"
      ]
     },
     "execution_count": 16,
     "metadata": {},
     "output_type": "execute_result"
    }
   ],
   "source": [
    "texto_c = re.sub(r'\\@\\w+|\\#','', texto_c)\n",
    "texto_c[:400]"
   ]
  },
  {
   "cell_type": "markdown",
   "metadata": {},
   "source": [
    "**Remover signos de puntuación**"
   ]
  },
  {
   "cell_type": "code",
   "execution_count": 17,
   "metadata": {
    "scrolled": false
   },
   "outputs": [
    {
     "data": {
      "text/plain": [
       "'rt  actualizamos nuestro pronóstico de inflación ahora en  esperamos una inflación de 397 al finalizar 2019 conozca más aquí presentaciónsemanal mercados acciones colcap tesexplicó que en lo corrido del año los resultados del grueso de las compañías son saludables jalonados por menores impuestos menor apalancamiento y costo de crédito lo cual favorece las utilidades valoraanalitiknuevo tipodecambi'"
      ]
     },
     "execution_count": 17,
     "metadata": {},
     "output_type": "execute_result"
    }
   ],
   "source": [
    "texto_c = texto_c.translate(str.maketrans('', '', string.punctuation))\n",
    "texto_c[0:400]"
   ]
  },
  {
   "cell_type": "markdown",
   "metadata": {},
   "source": [
    "Luego de hacer esta limpieza inicial cómo varían las palabras/tokens más frecuentes"
   ]
  },
  {
   "cell_type": "code",
   "execution_count": 18,
   "metadata": {
    "scrolled": true
   },
   "outputs": [
    {
     "data": {
      "text/plain": [
       "[('de', 4656),\n",
       " ('el', 2939),\n",
       " ('en', 2787),\n",
       " ('davivienda', 2701),\n",
       " ('a', 2386),\n",
       " ('la', 2213),\n",
       " ('y', 2082),\n",
       " ('que', 2052),\n",
       " ('no', 1311),\n",
       " ('es', 1279),\n",
       " ('por', 1158),\n",
       " ('del', 1037),\n",
       " ('se', 977),\n",
       " ('con', 929),\n",
       " ('los', 909),\n",
       " ('para', 824),\n",
       " ('un', 785),\n",
       " ('una', 724),\n",
       " ('al', 647),\n",
       " ('si', 591)]"
      ]
     },
     "execution_count": 18,
     "metadata": {},
     "output_type": "execute_result"
    }
   ],
   "source": [
    "tokenized_words = nltk.word_tokenize(texto_c)\n",
    "word_freq = Counter(tokenized_words)\n",
    "word_freq.most_common(20)"
   ]
  },
  {
   "cell_type": "markdown",
   "metadata": {},
   "source": [
    "**¿Qué tipo de palabras encontramos en la lista de las más frecuentes?**"
   ]
  },
  {
   "cell_type": "markdown",
   "metadata": {},
   "source": [
    "Naturalmente las palabras más comunes suelen ser \"palabras vacías\" que no añaden mucho significado al texto como artículos, pronombres y preposiciones. Lo más aconsejable es no considerarlas en el análisis ya que traen mucho ruido y no permiten identificar aquellas palabras que si son relevantes para el análisis"
   ]
  },
  {
   "cell_type": "markdown",
   "metadata": {},
   "source": [
    "**Stopwords**"
   ]
  },
  {
   "cell_type": "code",
   "execution_count": 19,
   "metadata": {
    "scrolled": true
   },
   "outputs": [
    {
     "name": "stdout",
     "output_type": "stream",
     "text": [
      "['de', 'la', 'que', 'el', 'en', 'y', 'a', 'los', 'del', 'se', 'las', 'por', 'un', 'para', 'con', 'no', 'una', 'su', 'al', 'lo', 'como', 'más', 'pero', 'sus', 'le', 'ya', 'o', 'este', 'sí', 'porque', 'esta', 'entre', 'cuando', 'muy', 'sin', 'sobre', 'también', 'me', 'hasta', 'hay', 'donde', 'quien', 'desde', 'todo', 'nos', 'durante', 'todos', 'uno', 'les', 'ni', 'contra', 'otros', 'ese', 'eso', 'ante', 'ellos', 'e', 'esto', 'mí', 'antes', 'algunos', 'qué', 'unos', 'yo', 'otro', 'otras', 'otra', 'él', 'tanto', 'esa', 'estos', 'mucho', 'quienes', 'nada', 'muchos', 'cual', 'poco', 'ella', 'estar', 'estas', 'algunas', 'algo', 'nosotros', 'mi', 'mis', 'tú', 'te', 'ti', 'tu', 'tus', 'ellas', 'nosotras', 'vosotros', 'vosotras', 'os', 'mío', 'mía', 'míos', 'mías', 'tuyo', 'tuya', 'tuyos', 'tuyas', 'suyo', 'suya', 'suyos', 'suyas', 'nuestro', 'nuestra', 'nuestros', 'nuestras', 'vuestro', 'vuestra', 'vuestros', 'vuestras', 'esos', 'esas', 'estoy', 'estás', 'está', 'estamos', 'estáis', 'están', 'esté', 'estés', 'estemos', 'estéis', 'estén', 'estaré', 'estarás', 'estará', 'estaremos', 'estaréis', 'estarán', 'estaría', 'estarías', 'estaríamos', 'estaríais', 'estarían', 'estaba', 'estabas', 'estábamos', 'estabais', 'estaban', 'estuve', 'estuviste', 'estuvo', 'estuvimos', 'estuvisteis', 'estuvieron', 'estuviera', 'estuvieras', 'estuviéramos', 'estuvierais', 'estuvieran', 'estuviese', 'estuvieses', 'estuviésemos', 'estuvieseis', 'estuviesen', 'estando', 'estado', 'estada', 'estados', 'estadas', 'estad', 'he', 'has', 'ha', 'hemos', 'habéis', 'han', 'haya', 'hayas', 'hayamos', 'hayáis', 'hayan', 'habré', 'habrás', 'habrá', 'habremos', 'habréis', 'habrán', 'habría', 'habrías', 'habríamos', 'habríais', 'habrían', 'había', 'habías', 'habíamos', 'habíais', 'habían', 'hube', 'hubiste', 'hubo', 'hubimos', 'hubisteis', 'hubieron', 'hubiera', 'hubieras', 'hubiéramos', 'hubierais', 'hubieran', 'hubiese', 'hubieses', 'hubiésemos', 'hubieseis', 'hubiesen', 'habiendo', 'habido', 'habida', 'habidos', 'habidas', 'soy', 'eres', 'es', 'somos', 'sois', 'son', 'sea', 'seas', 'seamos', 'seáis', 'sean', 'seré', 'serás', 'será', 'seremos', 'seréis', 'serán', 'sería', 'serías', 'seríamos', 'seríais', 'serían', 'era', 'eras', 'éramos', 'erais', 'eran', 'fui', 'fuiste', 'fue', 'fuimos', 'fuisteis', 'fueron', 'fuera', 'fueras', 'fuéramos', 'fuerais', 'fueran', 'fuese', 'fueses', 'fuésemos', 'fueseis', 'fuesen', 'sintiendo', 'sentido', 'sentida', 'sentidos', 'sentidas', 'siente', 'sentid', 'tengo', 'tienes', 'tiene', 'tenemos', 'tenéis', 'tienen', 'tenga', 'tengas', 'tengamos', 'tengáis', 'tengan', 'tendré', 'tendrás', 'tendrá', 'tendremos', 'tendréis', 'tendrán', 'tendría', 'tendrías', 'tendríamos', 'tendríais', 'tendrían', 'tenía', 'tenías', 'teníamos', 'teníais', 'tenían', 'tuve', 'tuviste', 'tuvo', 'tuvimos', 'tuvisteis', 'tuvieron', 'tuviera', 'tuvieras', 'tuviéramos', 'tuvierais', 'tuvieran', 'tuviese', 'tuvieses', 'tuviésemos', 'tuvieseis', 'tuviesen', 'teniendo', 'tenido', 'tenida', 'tenidos', 'tenidas', 'tened']\n"
     ]
    }
   ],
   "source": [
    "print(stopwords.words(\"spanish\"))"
   ]
  },
  {
   "cell_type": "markdown",
   "metadata": {},
   "source": [
    "Removamos de nuestro texto las stopwords"
   ]
  },
  {
   "cell_type": "code",
   "execution_count": 20,
   "metadata": {},
   "outputs": [],
   "source": [
    "stop_words = set(stopwords.words(\"spanish\"))\n",
    "tweet_tokens = nltk.word_tokenize(texto_c)\n",
    "texto_f = [w for w in tweet_tokens if not w in stop_words]"
   ]
  },
  {
   "cell_type": "code",
   "execution_count": 21,
   "metadata": {
    "scrolled": true
   },
   "outputs": [
    {
     "name": "stdout",
     "output_type": "stream",
     "text": [
      "590350\n",
      "54710\n"
     ]
    }
   ],
   "source": [
    "print(len(texto_c))\n",
    "print(len(texto_f))"
   ]
  },
  {
   "cell_type": "markdown",
   "metadata": {},
   "source": [
    "Las stopwords en este caso representaban casi un 90% del total de las palabras"
   ]
  },
  {
   "cell_type": "markdown",
   "metadata": {},
   "source": [
    "## Conteos de frecuencias"
   ]
  },
  {
   "cell_type": "markdown",
   "metadata": {},
   "source": [
    "Una vez hecha la limpieza ya podemos entonces verificar cuáles son las palabras más frecuentes en esta muestra de tweets"
   ]
  },
  {
   "cell_type": "code",
   "execution_count": 22,
   "metadata": {
    "scrolled": true
   },
   "outputs": [
    {
     "data": {
      "text/plain": [
       "[('davivienda', 2701),\n",
       " ('si', 591),\n",
       " ('banco', 502),\n",
       " ('cuenta', 484),\n",
       " ('grupo', 446),\n",
       " ('bancos', 427),\n",
       " ('bancolombia', 419),\n",
       " ('ud', 417),\n",
       " ('ahorros', 358),\n",
       " ('sistema', 354),\n",
       " ('dinero', 328),\n",
       " ('financiero', 320),\n",
       " ('aval', 298),\n",
       " ('grande', 289),\n",
       " ('colombia', 274),\n",
       " ('día', 274),\n",
       " ('rt', 265),\n",
       " ('4', 241),\n",
       " ('año', 238),\n",
       " ('plata', 231)]"
      ]
     },
     "execution_count": 22,
     "metadata": {},
     "output_type": "execute_result"
    }
   ],
   "source": [
    "word_freq = Counter(texto_f)\n",
    "word_freq.most_common(20)"
   ]
  },
  {
   "cell_type": "markdown",
   "metadata": {},
   "source": [
    "**n-gramas**"
   ]
  },
  {
   "cell_type": "code",
   "execution_count": 23,
   "metadata": {},
   "outputs": [
    {
     "data": {
      "text/plain": [
       "[('rt', 'actualizamos'),\n",
       " ('actualizamos', 'pronóstico'),\n",
       " ('pronóstico', 'inflación'),\n",
       " ('inflación', 'ahora'),\n",
       " ('ahora', 'esperamos'),\n",
       " ('esperamos', 'inflación'),\n",
       " ('inflación', '397'),\n",
       " ('397', 'finalizar'),\n",
       " ('finalizar', '2019'),\n",
       " ('2019', 'conozca'),\n",
       " ('conozca', 'aquí'),\n",
       " ('aquí', 'presentaciónsemanal'),\n",
       " ('presentaciónsemanal', 'mercados'),\n",
       " ('mercados', 'acciones'),\n",
       " ('acciones', 'colcap'),\n",
       " ('colcap', 'tesexplicó'),\n",
       " ('tesexplicó', 'corrido'),\n",
       " ('corrido', 'año'),\n",
       " ('año', 'resultados'),\n",
       " ('resultados', 'grueso'),\n",
       " ('grueso', 'compañías'),\n",
       " ('compañías', 'saludables'),\n",
       " ('saludables', 'jalonados'),\n",
       " ('jalonados', 'menores'),\n",
       " ('menores', 'impuestos'),\n",
       " ('impuestos', 'menor'),\n",
       " ('menor', 'apalancamiento'),\n",
       " ('apalancamiento', 'costo'),\n",
       " ('costo', 'crédito'),\n",
       " ('crédito', 'favorece'),\n",
       " ('favorece', 'utilidades'),\n",
       " ('utilidades', 'valoraanalitiknuevo'),\n",
       " ('valoraanalitiknuevo', 'tipodecambio'),\n",
       " ('tipodecambio', 'banco'),\n",
       " ('banco', 'davivienda'),\n",
       " ('davivienda', 'costa'),\n",
       " ('costa', 'rica'),\n",
       " ('rica', 'sa'),\n",
       " ('sa', 'compra'),\n",
       " ('compra', '¢59100'),\n",
       " ('¢59100', 'venta'),\n",
       " ('venta', '¢60500'),\n",
       " ('¢60500', 'diferencial'),\n",
       " ('diferencial', '¢1400'),\n",
       " ('¢1400', 'crcusdno'),\n",
       " ('crcusdno', 'pasa'),\n",
       " ('pasa', 'sienten'),\n",
       " ('sienten', 'davivienda'),\n",
       " ('davivienda', 'puede'),\n",
       " ('puede', 'pensar'),\n",
       " ('pensar', 'actualizamos'),\n",
       " ('actualizamos', 'pronóstico'),\n",
       " ('pronóstico', 'inflación'),\n",
       " ('inflación', 'ahora'),\n",
       " ('ahora', 'esperamos'),\n",
       " ('esperamos', 'inflación'),\n",
       " ('inflación', '397'),\n",
       " ('397', 'finalizar'),\n",
       " ('finalizar', '2019'),\n",
       " ('2019', 'conozca'),\n",
       " ('conozca', 'aquí'),\n",
       " ('aquí', 'presentaciónsemanal'),\n",
       " ('presentaciónsemanal', 'mercados'),\n",
       " ('mercados', 'acciones'),\n",
       " ('acciones', 'colcap'),\n",
       " ('colcap', 'tesrt'),\n",
       " ('tesrt', 'cajeros'),\n",
       " ('cajeros', 'remodelación'),\n",
       " ('remodelación', 'unico'),\n",
       " ('unico', 'quedaba'),\n",
       " ('quedaba', 'encuentra'),\n",
       " ('encuentra', 'efectivo'),\n",
       " ('efectivo', 'siento'),\n",
       " ('siento', 'lugar'),\n",
       " ('lugar', 'equivocado'),\n",
       " ('equivocado', 'centro'),\n",
       " ('centro', 'comercial'),\n",
       " ('comercial', 'dinero'),\n",
       " ('dinero', 'gastar'),\n",
       " ('gastar', 'ud'),\n",
       " ('ud', 'debería'),\n",
       " ('debería', 'davivienda'),\n",
       " ('davivienda', 'datos'),\n",
       " ('datos', 'sistema'),\n",
       " ('sistema', 'medellín'),\n",
       " ('medellín', 'palabras'),\n",
       " ('palabras', 'ud'),\n",
       " ('ud', 'esrt'),\n",
       " ('esrt', 'hola'),\n",
       " ('hola', 'acabo'),\n",
       " ('acabo', 'encontrar'),\n",
       " ('encontrar', 'tarjeta'),\n",
       " ('tarjeta', 'pegada'),\n",
       " ('pegada', 'cajero'),\n",
       " ('cajero', 'davivienda'),\n",
       " ('davivienda', 'parkway'),\n",
       " ('parkway', 'si'),\n",
       " ('si', 'conocen'),\n",
       " ('conocen', 'propietaria'),\n",
       " ('propietaria', 'laura'),\n",
       " ('laura', 'osma'),\n",
       " ('osma', 'inbox'),\n",
       " ('inbox', 'gracias'),\n",
       " ('gracias', 'nunca'),\n",
       " ('nunca', 'habia'),\n",
       " ('habia', 'esperando'),\n",
       " ('esperando', 'mas'),\n",
       " ('mas', '15'),\n",
       " ('15', 'minutos'),\n",
       " ('minutos', 'servicio'),\n",
       " ('servicio', 'cliente'),\n",
       " ('cliente', 'cosa'),\n",
       " ('cosa', 'tan'),\n",
       " ('tan', 'demorada'),\n",
       " ('demorada', 'horror'),\n",
       " ('horror', 'servicio'),\n",
       " ('servicio', 'rt'),\n",
       " ('rt', 'cajeros'),\n",
       " ('cajeros', 'remodelación'),\n",
       " ('remodelación', 'unico'),\n",
       " ('unico', 'quedaba'),\n",
       " ('quedaba', 'encuentra'),\n",
       " ('encuentra', 'efectivo'),\n",
       " ('efectivo', 'siento'),\n",
       " ('siento', 'lugar'),\n",
       " ('lugar', 'equivocado'),\n",
       " ('equivocado', 'centro'),\n",
       " ('centro', 'comercial'),\n",
       " ('comercial', 'dinero'),\n",
       " ('dinero', 'gastar'),\n",
       " ('gastar', 'cajeros'),\n",
       " ('cajeros', 'remodelación'),\n",
       " ('remodelación', 'unico'),\n",
       " ('unico', 'quedaba'),\n",
       " ('quedaba', 'encuentra'),\n",
       " ('encuentra', 'efectivo'),\n",
       " ('efectivo', 'siento'),\n",
       " ('siento', 'lugar'),\n",
       " ('lugar', 'equivocado'),\n",
       " ('equivocado', 'centro'),\n",
       " ('centro', 'comercial'),\n",
       " ('comercial', 'dinero'),\n",
       " ('dinero', 'gastar'),\n",
       " ('gastar', 'cajeros'),\n",
       " ('cajeros', 'remodelación'),\n",
       " ('remodelación', 'único'),\n",
       " ('único', 'quedaba'),\n",
       " ('quedaba', 'efectivo'),\n",
       " ('efectivo', 'ilíquida'),\n",
       " ('ilíquida', 'culpaa'),\n",
       " ('culpaa', 'veces'),\n",
       " ('veces', 'quiero'),\n",
       " ('quiero', 'abrir'),\n",
       " ('abrir', 'cuenta'),\n",
       " ('cuenta', 'veo'),\n",
       " ('veo', 'pasa'),\n",
       " ('pasa', 'seis'),\n",
       " ('seis', 'cajas'),\n",
       " ('cajas', 'dos'),\n",
       " ('dos', 'cajeros'),\n",
       " ('cajeros', 'atendiendo'),\n",
       " ('atendiendo', 'puente'),\n",
       " ('puente', 'aranda'),\n",
       " ('aranda', 'malserviciocultive'),\n",
       " ('malserviciocultive', 'hábitos'),\n",
       " ('hábitos', 'ahorro'),\n",
       " ('ahorro', 'hijos'),\n",
       " ('hijos', 'monetarium'),\n",
       " ('monetarium', 'finanzas'),\n",
       " ('finanzas', 'casa'),\n",
       " ('casa', 'finanzaspersonales'),\n",
       " ('finanzaspersonales', 'finanzas'),\n",
       " ('finanzas', 'ahorro'),\n",
       " ('ahorro', 'dinero'),\n",
       " ('dinero', 'davivienda'),\n",
       " ('davivienda', 'educacionfinanciera'),\n",
       " ('educacionfinanciera', 'colombia'),\n",
       " ('colombia', 'complica'),\n",
       " ('complica', 'vida'),\n",
       " ('vida', 'si'),\n",
       " ('si', 'vives'),\n",
       " ('vives', 'extranjero'),\n",
       " ('extranjero', 'tanta'),\n",
       " ('tanta', 'tecnología'),\n",
       " ('tecnología', 'sigue'),\n",
       " ('sigue', 'fregando'),\n",
       " ('fregando', '¡increíble'),\n",
       " ('¡increíble', 'lujo'),\n",
       " ('lujo', 'sacrificar'),\n",
       " ('sacrificar', 'estudiantes'),\n",
       " ('estudiantes', 'cerrar'),\n",
       " ('cerrar', 'vez'),\n",
       " ('vez', 'u'),\n",
       " ('u', 'publica'),\n",
       " ('publica', 'desprestigio'),\n",
       " ('desprestigio', 'asociado'),\n",
       " ('asociado', 'salir'),\n",
       " ('salir', 'medio'),\n",
       " ('medio', 'tiempo'),\n",
       " ('tiempo', 'estan'),\n",
       " ('estan', 'davivienda'),\n",
       " ('davivienda', 'lugar'),\n",
       " ('lugar', 'equivocado'),\n",
       " ('equivocado', 'mas'),\n",
       " ('mas', 'daño'),\n",
       " ('daño', 'estudiantes'),\n",
       " ('estudiantes', 'u'),\n",
       " ('u', 'mas'),\n",
       " ('mas', 'paro'),\n",
       " ('paro', 'mas'),\n",
       " ('mas', 'cuentosno'),\n",
       " ('cuentosno', 'friegue'),\n",
       " ('friegue', 'digan'),\n",
       " ('digan', 'ustedes'),\n",
       " ('ustedes', 'dan'),\n",
       " ('dan', 'información'),\n",
       " ('información', 'incompleta'),\n",
       " ('incompleta', 'tal'),\n",
       " ('tal', 'salir'),\n",
       " ('salir', 'ustedes'),\n",
       " ('ustedes', 'hijueputa'),\n",
       " ('hijueputa', 'realmente'),\n",
       " ('realmente', 'si'),\n",
       " ('si', 'lugar'),\n",
       " ('lugar', 'equivocado'),\n",
       " ('equivocado', 'ustedes'),\n",
       " ('ustedes', 'evergold'),\n",
       " ('evergold', 'bank'),\n",
       " ('bank', 'servis'),\n",
       " ('servis', 'nit'),\n",
       " ('nit', '9011720923'),\n",
       " ('9011720923', 'bancolombia'),\n",
       " ('bancolombia', 'cta'),\n",
       " ('cta', 'ah'),\n",
       " ('ah', '31797851496'),\n",
       " ('31797851496', 'davivienda'),\n",
       " ('davivienda', 'cta'),\n",
       " ('cta', 'ah'),\n",
       " ('ah', '506000156378'),\n",
       " ('506000156378', 'favor'),\n",
       " ('favor', 'consignar'),\n",
       " ('consignar', 'corresponsal'),\n",
       " ('corresponsal', 'bancario'),\n",
       " ('bancario', 'cualquier'),\n",
       " ('cualquier', 'inquietud'),\n",
       " ('inquietud', 'dude'),\n",
       " ('dude', 'comunicarse'),\n",
       " ('comunicarse', 'ws573118203179'),\n",
       " ('ws573118203179', 'haga'),\n",
       " ('haga', 'consignaciones'),\n",
       " ('consignaciones', 'cualquier'),\n",
       " ('cualquier', 'lugar'),\n",
       " ('lugar', 'colombiart'),\n",
       " ('colombiart', 'novedades'),\n",
       " ('novedades', 'nuevos'),\n",
       " ('nuevos', '400'),\n",
       " ('400', 'metros'),\n",
       " ('metros', 'gran'),\n",
       " ('gran', 'malecón'),\n",
       " ('malecón', 'inaugurado'),\n",
       " ('inaugurado', 'anoche'),\n",
       " ('anoche', 'aporte'),\n",
       " ('aporte', 'cuanto'),\n",
       " ('cuanto', 'tecnología'),\n",
       " ('tecnología', 'innovación'),\n",
       " ('innovación', 'referente'),\n",
       " ('referente', 'energía'),\n",
       " ('energía', 'limpia'),\n",
       " ('limpia', 'cardenalmásnoticias'),\n",
       " ('cardenalmásnoticias', 'deben'),\n",
       " ('deben', 'mirar'),\n",
       " ('mirar', 'tema'),\n",
       " ('tema', 'pyme'),\n",
       " ('pyme', 'on'),\n",
       " ('on', 'line'),\n",
       " ('line', 'llamado'),\n",
       " ('llamado', 'dirigido'),\n",
       " ('dirigido', '3'),\n",
       " ('3', 'sucursales'),\n",
       " ('sucursales', 'ninguno'),\n",
       " ('ninguno', 'información'),\n",
       " ('información', 'perdiendo'),\n",
       " ('perdiendo', 'pautart'),\n",
       " ('pautart', 'novedades'),\n",
       " ('novedades', 'nuevos'),\n",
       " ('nuevos', '400'),\n",
       " ('400', 'metros'),\n",
       " ('metros', 'gran'),\n",
       " ('gran', 'malecón'),\n",
       " ('malecón', 'inaugurado'),\n",
       " ('inaugurado', 'anoche'),\n",
       " ('anoche', 'aporte'),\n",
       " ('aporte', 'cuanto'),\n",
       " ('cuanto', 'tecnología'),\n",
       " ('tecnología', 'innovación'),\n",
       " ('innovación', 'referente'),\n",
       " ('referente', 'energía'),\n",
       " ('energía', 'limpia'),\n",
       " ('limpia', 'cardenalmásnoticiasrt'),\n",
       " ('cardenalmásnoticiasrt', 'novedades'),\n",
       " ('novedades', 'nuevos'),\n",
       " ('nuevos', '400'),\n",
       " ('400', 'metros'),\n",
       " ('metros', 'gran'),\n",
       " ('gran', 'malecón'),\n",
       " ('malecón', 'inaugurado'),\n",
       " ('inaugurado', 'anoche'),\n",
       " ('anoche', 'aporte'),\n",
       " ('aporte', 'cuanto'),\n",
       " ('cuanto', 'tecnología'),\n",
       " ('tecnología', 'innovación'),\n",
       " ('innovación', 'referente'),\n",
       " ('referente', 'energía'),\n",
       " ('energía', 'limpia'),\n",
       " ('limpia', 'cardenalmásnoticiasuna'),\n",
       " ('cardenalmásnoticiasuna', 'novedades'),\n",
       " ('novedades', 'nuevos'),\n",
       " ('nuevos', '400'),\n",
       " ('400', 'metros'),\n",
       " ('metros', 'gran'),\n",
       " ('gran', 'malecón'),\n",
       " ('malecón', 'inaugurado'),\n",
       " ('inaugurado', 'anoche'),\n",
       " ('anoche', 'aporte'),\n",
       " ('aporte', 'cuanto'),\n",
       " ('cuanto', 'tecnología'),\n",
       " ('tecnología', 'innovación'),\n",
       " ('innovación', 'referente'),\n",
       " ('referente', 'energía'),\n",
       " ('energía', 'limpia'),\n",
       " ('limpia', 'cardenalmásnoticias'),\n",
       " ('cardenalmásnoticias', 'jajajajaquién'),\n",
       " ('jajajajaquién', 'habra'),\n",
       " ('habra', 'desginado'),\n",
       " ('desginado', 'colombia'),\n",
       " ('colombia', 'esopor'),\n",
       " ('esopor', 'dios'),\n",
       " ('dios', 'daviviendajajart'),\n",
       " ('daviviendajajart', 'aviso'),\n",
       " ('aviso', 'queremos'),\n",
       " ('queremos', 'enviar'),\n",
       " ('enviar', 'clientes'),\n",
       " ('clientes', 'colombia'),\n",
       " ('colombia', 'fin'),\n",
       " ('fin', 'año'),\n",
       " ('año', 'pasar'),\n",
       " ('pasar', 'fiestas'),\n",
       " ('fiestas', 'asociación'),\n",
       " ('asociación', '¡compártelo'),\n",
       " ('¡compártelo', 'mas'),\n",
       " ('mas', 'detalles'),\n",
       " ('detalles', 'aquí'),\n",
       " ('aquí', '\\x93davivienda\\x94no'),\n",
       " ('\\x93davivienda\\x94no', 'sé'),\n",
       " ('sé', 'cómo'),\n",
       " ('cómo', 'llegan'),\n",
       " ('llegan', 'extractos'),\n",
       " ('extractos', 'davivienda'),\n",
       " ('davivienda', 'bancolombia'),\n",
       " ('bancolombia', 'si'),\n",
       " ('si', 'año'),\n",
       " ('año', 'cerosrt'),\n",
       " ('cerosrt', 'dejé'),\n",
       " ('dejé', 'sucursal'),\n",
       " ('sucursal', 'davivienda'),\n",
       " ('davivienda', 'junto'),\n",
       " ('junto', 'oficinas'),\n",
       " ('oficinas', 'avianca'),\n",
       " ('avianca', 'ciudad'),\n",
       " ('ciudad', 'salitre'),\n",
       " ('salitre', 'estación'),\n",
       " ('estación', 'can'),\n",
       " ('can', 'transmila'),\n",
       " ('transmila', 'dejé'),\n",
       " ('dejé', 'sucursal'),\n",
       " ('sucursal', 'davivienda'),\n",
       " ('davivienda', 'junto'),\n",
       " ('junto', 'oficinas'),\n",
       " ('oficinas', 'avianca'),\n",
       " ('avianca', 'ciudad'),\n",
       " ('ciudad', 'salitre'),\n",
       " ('salitre', 'estación'),\n",
       " ('estación', 'can'),\n",
       " ('can', 'transmi'),\n",
       " ('transmi', 'davivienda'),\n",
       " ('davivienda', 'cobra'),\n",
       " ('cobra', '7500'),\n",
       " ('7500', 'cada'),\n",
       " ('cada', 'retiro'),\n",
       " ('retiro', 'aplaudir'),\n",
       " ('aplaudir', 'logros'),\n",
       " ('logros', 'colombiano'),\n",
       " ('colombiano', 'exterior'),\n",
       " ('exterior', 'sacar'),\n",
       " ('sacar', 'provecho'),\n",
       " ('provecho', 'señor'),\n",
       " ('señor', 'ubique'),\n",
       " ('ubique', 'comentario'),\n",
       " ('comentario', 'algún'),\n",
       " ('algún', 'lado'),\n",
       " ('lado', 'q'),\n",
       " ('q', 'davivienda'),\n",
       " ('davivienda', 'davivienda'),\n",
       " ('davivienda', 'rt'),\n",
       " ('rt', 'existen'),\n",
       " ('existen', 'rateros'),\n",
       " ('rateros', 'vil'),\n",
       " ('vil', 'ratero'),\n",
       " ('ratero', 'si'),\n",
       " ('si', 'banco'),\n",
       " ('banco', 'da'),\n",
       " ('da', 'billetes'),\n",
       " ('billetes', 'falsos'),\n",
       " ('falsos', 'responde'),\n",
       " ('responde', 'puede'),\n",
       " ('puede', 'esperar'),\n",
       " ('esperar', 'demás'),\n",
       " ('demás', 'vil'),\n",
       " ('vil', 'rateros'),\n",
       " ('rateros', 'peor'),\n",
       " ('peor', 'servicio'),\n",
       " ('servicio', 'bancos'),\n",
       " ('bancos', 'rt'),\n",
       " ('rt', 'hola'),\n",
       " ('hola', 'acabo'),\n",
       " ('acabo', 'encontrar'),\n",
       " ('encontrar', 'tarjeta'),\n",
       " ('tarjeta', 'pegada'),\n",
       " ('pegada', 'cajero'),\n",
       " ('cajero', 'davivienda'),\n",
       " ('davivienda', 'parkway'),\n",
       " ('parkway', 'si'),\n",
       " ('si', 'conocen'),\n",
       " ('conocen', 'propietaria'),\n",
       " ('propietaria', 'laura'),\n",
       " ('laura', 'osma'),\n",
       " ('osma', 'inbox'),\n",
       " ('inbox', 'gracias'),\n",
       " ('gracias', 'ventajas'),\n",
       " ('ventajas', 'trabajar'),\n",
       " ('trabajar', 'davivienda'),\n",
       " ('davivienda', 'rt'),\n",
       " ('rt', 'hola'),\n",
       " ('hola', 'acabo'),\n",
       " ('acabo', 'encontrar'),\n",
       " ('encontrar', 'tarjeta'),\n",
       " ('tarjeta', 'pegada'),\n",
       " ('pegada', 'cajero'),\n",
       " ('cajero', 'davivienda'),\n",
       " ('davivienda', 'parkway'),\n",
       " ('parkway', 'si'),\n",
       " ('si', 'conocen'),\n",
       " ('conocen', 'propietaria'),\n",
       " ('propietaria', 'laura'),\n",
       " ('laura', 'osma'),\n",
       " ('osma', 'inbox'),\n",
       " ('inbox', 'gracias'),\n",
       " ('gracias', 'rt'),\n",
       " ('rt', 'sangil'),\n",
       " ('sangil', 'trabaja'),\n",
       " ('trabaja', 'navidadsegura'),\n",
       " ('navidadsegura', 'mascercadelciudadano'),\n",
       " ('mascercadelciudadano', 'relizando'),\n",
       " ('relizando', 'charla'),\n",
       " ('charla', 'prevención'),\n",
       " ('prevención', 'funcionarios'),\n",
       " ('funcionarios', 'empleados'),\n",
       " ('empleados', 'banco'),\n",
       " ('banco', 'daviviendart'),\n",
       " ('daviviendart', 'hola'),\n",
       " ('hola', 'acabo'),\n",
       " ('acabo', 'encontrar'),\n",
       " ('encontrar', 'tarjeta'),\n",
       " ('tarjeta', 'pegada'),\n",
       " ('pegada', 'cajero'),\n",
       " ('cajero', 'davivienda'),\n",
       " ('davivienda', 'parkway'),\n",
       " ('parkway', 'si'),\n",
       " ('si', 'conocen'),\n",
       " ('conocen', 'propietaria'),\n",
       " ('propietaria', 'laura'),\n",
       " ('laura', 'osma'),\n",
       " ('osma', 'inbox'),\n",
       " ('inbox', 'gracias'),\n",
       " ('gracias', 'agradable'),\n",
       " ('agradable', 'noche'),\n",
       " ('noche', 'viaje'),\n",
       " ('viaje', 'tren'),\n",
       " ('tren', 'navidad'),\n",
       " ('navidad', 'patrocinio'),\n",
       " ('patrocinio', 'banco'),\n",
       " ('banco', 'davivienda'),\n",
       " ('davivienda', 'trendavivienda'),\n",
       " ('trendavivienda', 'tren'),\n",
       " ('tren', 'bogota'),\n",
       " ('bogota', 'bogotá'),\n",
       " ('bogotá', 'colombiart'),\n",
       " ('colombiart', 'hola'),\n",
       " ('hola', 'acabo'),\n",
       " ('acabo', 'encontrar'),\n",
       " ('encontrar', 'tarjeta'),\n",
       " ('tarjeta', 'pegada'),\n",
       " ('pegada', 'cajero'),\n",
       " ('cajero', 'davivienda'),\n",
       " ('davivienda', 'parkway'),\n",
       " ('parkway', 'si'),\n",
       " ('si', 'conocen'),\n",
       " ('conocen', 'propietaria'),\n",
       " ('propietaria', 'laura'),\n",
       " ('laura', 'osma'),\n",
       " ('osma', 'inbox'),\n",
       " ('inbox', 'gracias'),\n",
       " ('gracias', 'rt'),\n",
       " ('rt', 'hola'),\n",
       " ('hola', 'acabo'),\n",
       " ('acabo', 'encontrar'),\n",
       " ('encontrar', 'tarjeta'),\n",
       " ('tarjeta', 'pegada'),\n",
       " ('pegada', 'cajero'),\n",
       " ('cajero', 'davivienda'),\n",
       " ('davivienda', 'parkway'),\n",
       " ('parkway', 'si'),\n",
       " ('si', 'conocen'),\n",
       " ('conocen', 'propietaria'),\n",
       " ('propietaria', 'laura'),\n",
       " ('laura', 'osma'),\n",
       " ('osma', 'inbox'),\n",
       " ('inbox', 'gracias'),\n",
       " ('gracias', 'rt'),\n",
       " ('rt', 'hola'),\n",
       " ('hola', 'acabo'),\n",
       " ('acabo', 'encontrar'),\n",
       " ('encontrar', 'tarjeta'),\n",
       " ('tarjeta', 'pegada'),\n",
       " ('pegada', 'cajero'),\n",
       " ('cajero', 'davivienda'),\n",
       " ('davivienda', 'parkway'),\n",
       " ('parkway', 'si'),\n",
       " ('si', 'conocen'),\n",
       " ('conocen', 'propietaria'),\n",
       " ('propietaria', 'laura'),\n",
       " ('laura', 'osma'),\n",
       " ('osma', 'inbox'),\n",
       " ('inbox', 'gracias'),\n",
       " ('gracias', 'quiero'),\n",
       " ('quiero', 'ver'),\n",
       " ('ver', 'anuncios'),\n",
       " ('anuncios', 'apoyar'),\n",
       " ('apoyar', 'causa'),\n",
       " ('causa', 'marcasbuenaondame'),\n",
       " ('marcasbuenaondame', 'siento'),\n",
       " ('siento', 'daviviendart'),\n",
       " ('daviviendart', 'hola'),\n",
       " ('hola', 'acabo'),\n",
       " ('acabo', 'encontrar'),\n",
       " ('encontrar', 'tarjeta'),\n",
       " ('tarjeta', 'pegada'),\n",
       " ('pegada', 'cajero'),\n",
       " ('cajero', 'davivienda'),\n",
       " ('davivienda', 'parkway'),\n",
       " ('parkway', 'si'),\n",
       " ('si', 'conocen'),\n",
       " ('conocen', 'propietaria'),\n",
       " ('propietaria', 'laura'),\n",
       " ('laura', 'osma'),\n",
       " ('osma', 'inbox'),\n",
       " ('inbox', 'gracias'),\n",
       " ('gracias', 'rt'),\n",
       " ('rt', 'hola'),\n",
       " ('hola', 'acabo'),\n",
       " ('acabo', 'encontrar'),\n",
       " ('encontrar', 'tarjeta'),\n",
       " ('tarjeta', 'pegada'),\n",
       " ('pegada', 'cajero'),\n",
       " ('cajero', 'davivienda'),\n",
       " ('davivienda', 'parkway'),\n",
       " ('parkway', 'si'),\n",
       " ('si', 'conocen'),\n",
       " ('conocen', 'propietaria'),\n",
       " ('propietaria', 'laura'),\n",
       " ('laura', 'osma'),\n",
       " ('osma', 'inbox'),\n",
       " ('inbox', 'gracias'),\n",
       " ('gracias', 'rt'),\n",
       " ('rt', 'deberían'),\n",
       " ('deberían', 'cambiar'),\n",
       " ('cambiar', 'desarrollador'),\n",
       " ('desarrollador', 'app'),\n",
       " ('app', '\\x97'),\n",
       " ('\\x97', 'nunca'),\n",
       " ('nunca', 'nunca'),\n",
       " ('nunca', 'funciona'),\n",
       " ('funciona', 'recomendaría'),\n",
       " ('recomendaría', 'app'),\n",
       " ('app', 'perfecta'),\n",
       " ('perfecta', 'deje'),\n",
       " ('deje', 'futuro'),\n",
       " ('futuro', 'finanzas'),\n",
       " ('finanzas', 'manos'),\n",
       " ('manos', 'incertidumbre'),\n",
       " ('incertidumbre', 'aquí'),\n",
       " ('aquí', 'herramienta'),\n",
       " ('herramienta', 'fácil'),\n",
       " ('fácil', 'comience'),\n",
       " ('comience', 'ahorro'),\n",
       " ('ahorro', '2019'),\n",
       " ('2019', 'finanzaspersonales'),\n",
       " ('finanzaspersonales', 'finanzas'),\n",
       " ('finanzas', 'ahorro'),\n",
       " ('ahorro', 'dinero'),\n",
       " ('dinero', 'davivienda'),\n",
       " ('davivienda', 'educacionfinanciera'),\n",
       " ('educacionfinanciera', 'colombiafiesta'),\n",
       " ('colombiafiesta', 'infantil'),\n",
       " ('infantil', 'fin'),\n",
       " ('fin', 'año'),\n",
       " ('año', 'davivienda'),\n",
       " ('davivienda', 'amorcito'),\n",
       " ('amorcito', 'salitre'),\n",
       " ('salitre', 'mágicort'),\n",
       " ('mágicort', 'hola'),\n",
       " ('hola', 'acabo'),\n",
       " ('acabo', 'encontrar'),\n",
       " ('encontrar', 'tarjeta'),\n",
       " ('tarjeta', 'pegada'),\n",
       " ('pegada', 'cajero'),\n",
       " ('cajero', 'davivienda'),\n",
       " ('davivienda', 'parkway'),\n",
       " ('parkway', 'si'),\n",
       " ('si', 'conocen'),\n",
       " ('conocen', 'propietaria'),\n",
       " ('propietaria', 'laura'),\n",
       " ('laura', 'osma'),\n",
       " ('osma', 'inbox'),\n",
       " ('inbox', 'gracias'),\n",
       " ('gracias', 'si'),\n",
       " ('si', 'sé'),\n",
       " ('sé', 'diferencia'),\n",
       " ('diferencia', 'ahora'),\n",
       " ('ahora', 'si'),\n",
       " ('si', 'usted'),\n",
       " ('usted', 'pone'),\n",
       " ('pone', 'fe'),\n",
       " ('fe', 'gasto'),\n",
       " ('gasto', 'público'),\n",
       " ('público', 'obras'),\n",
       " ('obras', 'muchas'),\n",
       " ('muchas', 'advertencias'),\n",
       " ('advertencias', 'costos'),\n",
       " ('costos', 'entonces'),\n",
       " ('entonces', 'comercial'),\n",
       " ('comercial', 'davivienda'),\n",
       " ('davivienda', 'colocando'),\n",
       " ('colocando', 'plata'),\n",
       " ('plata', 'lugar'),\n",
       " ('lugar', 'equivocado'),\n",
       " ('equivocado', 'contando'),\n",
       " ('contando', 'además'),\n",
       " ('además', 'exista'),\n",
       " ('exista', 'corrupciónuna'),\n",
       " ('corrupciónuna', 'noche'),\n",
       " ('noche', 'llena'),\n",
       " ('llena', 'alegría'),\n",
       " ('alegría', 'junto'),\n",
       " ('junto', 'dos'),\n",
       " ('dos', 'amores'),\n",
       " ('amores', 'familiafeliz'),\n",
       " ('familiafeliz', 'fiestadeniños'),\n",
       " ('fiestadeniños', 'davivienda'),\n",
       " ('davivienda', 'parque'),\n",
       " ('parque', 'salitre'),\n",
       " ('salitre', 'magicort'),\n",
       " ('magicort', 'hola'),\n",
       " ('hola', 'acabo'),\n",
       " ('acabo', 'encontrar'),\n",
       " ('encontrar', 'tarjeta'),\n",
       " ('tarjeta', 'pegada'),\n",
       " ('pegada', 'cajero'),\n",
       " ('cajero', 'davivienda'),\n",
       " ('davivienda', 'parkway'),\n",
       " ('parkway', 'si'),\n",
       " ('si', 'conocen'),\n",
       " ('conocen', 'propietaria'),\n",
       " ('propietaria', 'laura'),\n",
       " ('laura', 'osma'),\n",
       " ('osma', 'inbox'),\n",
       " ('inbox', 'gracias'),\n",
       " ('gracias', 'i'),\n",
       " ('i', 'liked'),\n",
       " ('liked', 'video'),\n",
       " ('video', 'tren'),\n",
       " ('tren', 'navidad'),\n",
       " ('navidad', 'davivienda'),\n",
       " ('davivienda', '2017rt'),\n",
       " ('2017rt', 'hola'),\n",
       " ('hola', 'acabo'),\n",
       " ('acabo', 'encontrar'),\n",
       " ('encontrar', 'tarjeta'),\n",
       " ('tarjeta', 'pegada'),\n",
       " ('pegada', 'cajero'),\n",
       " ('cajero', 'davivienda'),\n",
       " ('davivienda', 'parkway'),\n",
       " ('parkway', 'si'),\n",
       " ('si', 'conocen'),\n",
       " ('conocen', 'propietaria'),\n",
       " ('propietaria', 'laura'),\n",
       " ('laura', 'osma'),\n",
       " ('osma', 'inbox'),\n",
       " ('inbox', 'gracias'),\n",
       " ('gracias', 'rt'),\n",
       " ('rt', 'hola'),\n",
       " ('hola', 'acabo'),\n",
       " ('acabo', 'encontrar'),\n",
       " ('encontrar', 'tarjeta'),\n",
       " ('tarjeta', 'pegada'),\n",
       " ('pegada', 'cajero'),\n",
       " ('cajero', 'davivienda'),\n",
       " ('davivienda', 'parkway'),\n",
       " ('parkway', 'si'),\n",
       " ('si', 'conocen'),\n",
       " ('conocen', 'propietaria'),\n",
       " ('propietaria', 'laura'),\n",
       " ('laura', 'osma'),\n",
       " ('osma', 'inbox'),\n",
       " ('inbox', 'gracias'),\n",
       " ('gracias', 'rt'),\n",
       " ('rt', 'hola'),\n",
       " ('hola', 'acabo'),\n",
       " ('acabo', 'encontrar'),\n",
       " ('encontrar', 'tarjeta'),\n",
       " ('tarjeta', 'pegada'),\n",
       " ('pegada', 'cajero'),\n",
       " ('cajero', 'davivienda'),\n",
       " ('davivienda', 'parkway'),\n",
       " ('parkway', 'si'),\n",
       " ('si', 'conocen'),\n",
       " ('conocen', 'propietaria'),\n",
       " ('propietaria', 'laura'),\n",
       " ('laura', 'osma'),\n",
       " ('osma', 'inbox'),\n",
       " ('inbox', 'gracias'),\n",
       " ('gracias', 'ezequiel'),\n",
       " ('ezequiel', 'cano'),\n",
       " ('cano', 'ricaurte'),\n",
       " ('ricaurte', 'daviviendaen'),\n",
       " ('daviviendaen', 'lugar'),\n",
       " ('lugar', 'equivocadomucho'),\n",
       " ('equivocadomucho', 'jugadores'),\n",
       " ('jugadores', 'tampoco'),\n",
       " ('tampoco', 'equiponoche'),\n",
       " ('equiponoche', 'davivienda'),\n",
       " ('davivienda', 'gracias'),\n",
       " ('gracias', 'confianza'),\n",
       " ('confianza', 'mañana'),\n",
       " ('mañana', 'pista'),\n",
       " ('pista', 'motocrosstrabajo'),\n",
       " ('motocrosstrabajo', 'bogotá'),\n",
       " ('bogotá', 'practicantes'),\n",
       " ('practicantes', 'universitarios'),\n",
       " ('universitarios', 'ingenierías'),\n",
       " ('ingenierías', '\\x96'),\n",
       " ('\\x96', 'davivienda'),\n",
       " ('davivienda', '\\x96'),\n",
       " ('\\x96', 'bogotá'),\n",
       " ('bogotá', 'ingenieríart'),\n",
       " ('ingenieríart', 'hola'),\n",
       " ('hola', 'acabo'),\n",
       " ('acabo', 'encontrar'),\n",
       " ('encontrar', 'tarjeta'),\n",
       " ('tarjeta', 'pegada'),\n",
       " ('pegada', 'cajero'),\n",
       " ('cajero', 'davivienda'),\n",
       " ('davivienda', 'parkway'),\n",
       " ('parkway', 'si'),\n",
       " ('si', 'conocen'),\n",
       " ('conocen', 'propietaria'),\n",
       " ('propietaria', 'laura'),\n",
       " ('laura', 'osma'),\n",
       " ('osma', 'inbox'),\n",
       " ('inbox', 'gracias'),\n",
       " ('gracias', 'nunca'),\n",
       " ('nunca', 'funciona'),\n",
       " ('funciona', 'app'),\n",
       " ('app', 'transferencias'),\n",
       " ('transferencias', 'retiros'),\n",
       " ('retiros', 'tarjeta'),\n",
       " ('tarjeta', 'nuncavilla'),\n",
       " ('nuncavilla', 'claus'),\n",
       " ('claus', 'navidad'),\n",
       " ('navidad', 'partytime'),\n",
       " ('partytime', 'dav'),\n",
       " ('dav', 'hoy'),\n",
       " ('hoy', 'fiesta'),\n",
       " ('fiesta', 'fiestanavideña'),\n",
       " ('fiestanavideña', 'christmas'),\n",
       " ('christmas', 'hotel'),\n",
       " ('hotel', 'davivienda'),\n",
       " ('davivienda', 'myphoto'),\n",
       " ('myphoto', 'huawei'),\n",
       " ('huawei', 'party'),\n",
       " ('party', 'indoor'),\n",
       " ('indoor', 'night'),\n",
       " ('night', 'red'),\n",
       " ('red', 'cumbia'),\n",
       " ('cumbia', 'dancefloor'),\n",
       " ('dancefloor', 'elsalvador'),\n",
       " ('elsalvador', 'cenanavideñaque'),\n",
       " ('cenanavideñaque', 'belleza'),\n",
       " ('belleza', 'ningún'),\n",
       " ('ningún', 'cajero'),\n",
       " ('cajero', 'funcionando'),\n",
       " ('funcionando', 'horart'),\n",
       " ('horart', 'hola'),\n",
       " ('hola', 'acabo'),\n",
       " ('acabo', 'encontrar'),\n",
       " ('encontrar', 'tarjeta'),\n",
       " ('tarjeta', 'pegada'),\n",
       " ('pegada', 'cajero'),\n",
       " ('cajero', 'davivienda'),\n",
       " ('davivienda', 'parkway'),\n",
       " ('parkway', 'si'),\n",
       " ('si', 'conocen'),\n",
       " ('conocen', 'propietaria'),\n",
       " ('propietaria', 'laura'),\n",
       " ('laura', 'osma'),\n",
       " ('osma', 'inbox'),\n",
       " ('inbox', 'gracias'),\n",
       " ('gracias', 'rt'),\n",
       " ('rt', 'hola'),\n",
       " ('hola', 'acabo'),\n",
       " ('acabo', 'encontrar'),\n",
       " ('encontrar', 'tarjeta'),\n",
       " ('tarjeta', 'pegada'),\n",
       " ('pegada', 'cajero'),\n",
       " ('cajero', 'davivienda'),\n",
       " ('davivienda', 'parkway'),\n",
       " ('parkway', 'si'),\n",
       " ('si', 'conocen'),\n",
       " ('conocen', 'propietaria'),\n",
       " ('propietaria', 'laura'),\n",
       " ('laura', 'osma'),\n",
       " ('osma', 'inbox'),\n",
       " ('inbox', 'gracias'),\n",
       " ('gracias', 'fiestainfantil'),\n",
       " ('fiestainfantil', 'davivienda'),\n",
       " ('davivienda', 'salitremagico'),\n",
       " ('salitremagico', 'parque'),\n",
       " ('parque', 'salitre'),\n",
       " ('salitre', 'magicort'),\n",
       " ('magicort', 'hola'),\n",
       " ('hola', 'acabo'),\n",
       " ('acabo', 'encontrar'),\n",
       " ('encontrar', 'tarjeta'),\n",
       " ('tarjeta', 'pegada'),\n",
       " ('pegada', 'cajero'),\n",
       " ('cajero', 'davivienda'),\n",
       " ('davivienda', 'parkway'),\n",
       " ('parkway', 'si'),\n",
       " ('si', 'conocen'),\n",
       " ('conocen', 'propietaria'),\n",
       " ('propietaria', 'laura'),\n",
       " ('laura', 'osma'),\n",
       " ('osma', 'inbox'),\n",
       " ('inbox', 'gracias'),\n",
       " ('gracias', 'propaganda'),\n",
       " ('propaganda', 'davivienda'),\n",
       " ('davivienda', 'lugar'),\n",
       " ('lugar', 'equivocadort'),\n",
       " ('equivocadort', 'hola'),\n",
       " ('hola', 'acabo'),\n",
       " ('acabo', 'encontrar'),\n",
       " ('encontrar', 'tarjeta'),\n",
       " ('tarjeta', 'pegada'),\n",
       " ('pegada', 'cajero'),\n",
       " ('cajero', 'davivienda'),\n",
       " ('davivienda', 'parkway'),\n",
       " ('parkway', 'si'),\n",
       " ('si', 'conocen'),\n",
       " ('conocen', 'propietaria'),\n",
       " ('propietaria', 'laura'),\n",
       " ('laura', 'osma'),\n",
       " ('osma', 'inbox'),\n",
       " ('inbox', 'gracias'),\n",
       " ('gracias', 'recuperar'),\n",
       " ('recuperar', 'comercial'),\n",
       " ('comercial', 'davivienda'),\n",
       " ('davivienda', 'así'),\n",
       " ('así', 'dinero'),\n",
       " ('dinero', 'lugar'),\n",
       " ('lugar', 'equivocado'),\n",
       " ('equivocado', 'bolsas'),\n",
       " ('bolsas', 'póngalo'),\n",
       " ('póngalo', 'fiducias'),\n",
       " ('fiducias', 'gran'),\n",
       " ('gran', 'interés'),\n",
       " ('interés', 'rt'),\n",
       " ('rt', 'encantaría'),\n",
       " ('encantaría', 'grupo'),\n",
       " ('grupo', 'aval'),\n",
       " ('aval', 'utilizara'),\n",
       " ('utilizara', 'imágenes'),\n",
       " ('imágenes', 'hacer'),\n",
       " ('hacer', 'comercial'),\n",
       " ('comercial', '\\x93no'),\n",
       " ('\\x93no', 'guarde'),\n",
       " ('guarde', 'dinero'),\n",
       " ('dinero', 'bolsas'),\n",
       " ('bolsas', 'deposítelo'),\n",
       " ('deposítelo', 'cualquiera'),\n",
       " ('cualquiera', 'bancos'),\n",
       " ('bancos', 'grupo'),\n",
       " ('grupo', 'aval'),\n",
       " ('aval', 'manejamos'),\n",
       " ('manejamos', 'dinero'),\n",
       " ('dinero', 'limpio\\x94'),\n",
       " ('limpio\\x94', 'furia'),\n",
       " ('furia', 'mamertos'),\n",
       " ('mamertos', 'izquierdosos'),\n",
       " ('izquierdosos', 'espectáculort'),\n",
       " ('espectáculort', 'viene'),\n",
       " ('viene', 'comercial'),\n",
       " ('comercial', 'davivienda'),\n",
       " ('davivienda', 'acabó'),\n",
       " ('acabó', 'tarjeta'),\n",
       " ('tarjeta', 'colombiart'),\n",
       " ('colombiart', 'hola'),\n",
       " ('hola', 'acabo'),\n",
       " ('acabo', 'encontrar'),\n",
       " ('encontrar', 'tarjeta'),\n",
       " ('tarjeta', 'pegada'),\n",
       " ('pegada', 'cajero'),\n",
       " ('cajero', 'davivienda'),\n",
       " ('davivienda', 'parkway'),\n",
       " ('parkway', 'si'),\n",
       " ('si', 'conocen'),\n",
       " ('conocen', 'propietaria'),\n",
       " ('propietaria', 'laura'),\n",
       " ('laura', 'osma'),\n",
       " ('osma', 'inbox'),\n",
       " ('inbox', 'gracias'),\n",
       " ('gracias', 'rt'),\n",
       " ('rt', 'nunca'),\n",
       " ('nunca', 'demasiado'),\n",
       " ('demasiado', 'tarde'),\n",
       " ('tarde', 'demasiado'),\n",
       " ('demasiado', 'temprano'),\n",
       " ('temprano', 'emprender'),\n",
       " ('emprender', 'plan'),\n",
       " ('plan', 'ahorro'),\n",
       " ('ahorro', 'aquí'),\n",
       " ('aquí', 'herramienta'),\n",
       " ('herramienta', 'permitirá'),\n",
       " ('permitirá', 'hacerlo'),\n",
       " ('hacerlo', 'finanzaspersonales'),\n",
       " ('finanzaspersonales', 'finanzas'),\n",
       " ('finanzas', 'ahorro'),\n",
       " ('ahorro', 'dinero'),\n",
       " ('dinero', 'davivienda'),\n",
       " ('davivienda', 'educacionfinanciera'),\n",
       " ('educacionfinanciera', 'colombiart'),\n",
       " ('colombiart', 'hola'),\n",
       " ('hola', 'acabo'),\n",
       " ('acabo', 'encontrar'),\n",
       " ('encontrar', 'tarjeta'),\n",
       " ('tarjeta', 'pegada'),\n",
       " ('pegada', 'cajero'),\n",
       " ('cajero', 'davivienda'),\n",
       " ('davivienda', 'parkway'),\n",
       " ('parkway', 'si'),\n",
       " ('si', 'conocen'),\n",
       " ('conocen', 'propietaria'),\n",
       " ('propietaria', 'laura'),\n",
       " ('laura', 'osma'),\n",
       " ('osma', 'inbox'),\n",
       " ('inbox', 'gracias'),\n",
       " ('gracias', 'davivienda'),\n",
       " ('davivienda', 'lugar'),\n",
       " ('lugar', 'equivocadoolvídala'),\n",
       " ('equivocadoolvídala', 'mejor'),\n",
       " ('mejor', 'olvidalaaa'),\n",
       " ('olvidalaaa', 'arrancala'),\n",
       " ('arrancala', 'amorr'),\n",
       " ('amorr', 'davivienda'),\n",
       " ('davivienda', 'veeee'),\n",
       " ('veeee', 'lluvia'),\n",
       " ('lluvia', 'ideas'),\n",
       " ('ideas', 'cómo'),\n",
       " ('cómo', 'utilizar'),\n",
       " ('utilizar', 'alcancias'),\n",
       " ('alcancias', 'davívienda'),\n",
       " ('davívienda', 'haré'),\n",
       " ('haré', 'caserío'),\n",
       " ('caserío', 'pesebre'),\n",
       " ('pesebre', 'casitas'),\n",
       " ('casitas', 'rojas'),\n",
       " ('rojas', 'llamará'),\n",
       " ('llamará', 'santafecito'),\n",
       " ('santafecito', 'lindort'),\n",
       " ('lindort', 'hola'),\n",
       " ('hola', 'acabo'),\n",
       " ...]"
      ]
     },
     "execution_count": 23,
     "metadata": {},
     "output_type": "execute_result"
    }
   ],
   "source": [
    "list(ngrams(texto_f, 2)) #ngrams(word_tokens,n) gives the n-grams."
   ]
  },
  {
   "cell_type": "code",
   "execution_count": 24,
   "metadata": {},
   "outputs": [],
   "source": [
    "def top_k_ngrams(word_tokens,n,k):\n",
    "    \n",
    "    ## lista de n-gramas\n",
    "    n_gram_list = list(ngrams(word_tokens, n))\n",
    "\n",
    "    ### Tomar cada ngrama como un string separado\n",
    "    n_gram_strings = [' '.join(each) for each in n_gram_list]\n",
    "    \n",
    "    n_gram_counter = Counter(n_gram_strings)\n",
    "    most_common_k = n_gram_counter.most_common(k)\n",
    "    print(most_common_k)"
   ]
  },
  {
   "cell_type": "code",
   "execution_count": 25,
   "metadata": {
    "scrolled": true
   },
   "outputs": [
    {
     "name": "stdout",
     "output_type": "stream",
     "text": [
      "[('sistema financiero', 242), ('grupo aval', 231), ('bancolombia davivienda', 229), ('cuenta davivienda', 155), ('grupo bolivar', 138), ('banco davivienda', 135), ('ahorros 506100124201', 134), ('casi quiebran', 132), ('davivienda año', 132), ('4 x', 132), ('x 1000', 132), ('quiebran davivienda', 131), ('año 99', 131), ('1000 si', 131), ('ud recuerda', 130), ('recuerda cómo', 130), ('cómo casi', 130), ('99 cuantos', 130), ('cuantos bancos', 130), ('bancos quebraron', 130)]\n"
     ]
    }
   ],
   "source": [
    "bigram = top_k_ngrams(texto_f,2,20)\n",
    "bigram"
   ]
  },
  {
   "cell_type": "markdown",
   "metadata": {},
   "source": [
    "**Trigrams**"
   ]
  },
  {
   "cell_type": "code",
   "execution_count": 26,
   "metadata": {
    "scrolled": false
   },
   "outputs": [
    {
     "name": "stdout",
     "output_type": "stream",
     "text": [
      "[('casi quiebran davivienda', 131), ('davivienda año 99', 131), ('4 x 1000', 131), ('x 1000 si', 131), ('ud recuerda cómo', 130), ('recuerda cómo casi', 130), ('cómo casi quiebran', 130), ('quiebran davivienda año', 130), ('año 99 cuantos', 130), ('99 cuantos bancos', 130)]\n"
     ]
    }
   ],
   "source": [
    "top_k_ngrams(texto_f,3,10)"
   ]
  },
  {
   "cell_type": "markdown",
   "metadata": {},
   "source": [
    "## Llevar texto a vectores"
   ]
  },
  {
   "cell_type": "code",
   "execution_count": 27,
   "metadata": {
    "scrolled": true
   },
   "outputs": [
    {
     "data": {
      "text/html": [
       "<div>\n",
       "<style scoped>\n",
       "    .dataframe tbody tr th:only-of-type {\n",
       "        vertical-align: middle;\n",
       "    }\n",
       "\n",
       "    .dataframe tbody tr th {\n",
       "        vertical-align: top;\n",
       "    }\n",
       "\n",
       "    .dataframe thead th {\n",
       "        text-align: right;\n",
       "    }\n",
       "</style>\n",
       "<table border=\"1\" class=\"dataframe\">\n",
       "  <thead>\n",
       "    <tr style=\"text-align: right;\">\n",
       "      <th></th>\n",
       "      <th>00</th>\n",
       "      <th>000</th>\n",
       "      <th>000021074034</th>\n",
       "      <th>000735672307126481</th>\n",
       "      <th>003045375618</th>\n",
       "      <th>00374637467467</th>\n",
       "      <th>004100145707</th>\n",
       "      <th>01</th>\n",
       "      <th>018000123838</th>\n",
       "      <th>02</th>\n",
       "      <th>...</th>\n",
       "      <th>últimas</th>\n",
       "      <th>último</th>\n",
       "      <th>últimos</th>\n",
       "      <th>únete</th>\n",
       "      <th>única</th>\n",
       "      <th>únicamente</th>\n",
       "      <th>único</th>\n",
       "      <th>únicos</th>\n",
       "      <th>úsela</th>\n",
       "      <th>útil</th>\n",
       "    </tr>\n",
       "  </thead>\n",
       "  <tbody>\n",
       "    <tr>\n",
       "      <th>0</th>\n",
       "      <td>0</td>\n",
       "      <td>0</td>\n",
       "      <td>0</td>\n",
       "      <td>0</td>\n",
       "      <td>0</td>\n",
       "      <td>0</td>\n",
       "      <td>0</td>\n",
       "      <td>0</td>\n",
       "      <td>0</td>\n",
       "      <td>0</td>\n",
       "      <td>...</td>\n",
       "      <td>0</td>\n",
       "      <td>0</td>\n",
       "      <td>0</td>\n",
       "      <td>0</td>\n",
       "      <td>0</td>\n",
       "      <td>0</td>\n",
       "      <td>0</td>\n",
       "      <td>0</td>\n",
       "      <td>0</td>\n",
       "      <td>0</td>\n",
       "    </tr>\n",
       "    <tr>\n",
       "      <th>1</th>\n",
       "      <td>0</td>\n",
       "      <td>0</td>\n",
       "      <td>0</td>\n",
       "      <td>0</td>\n",
       "      <td>0</td>\n",
       "      <td>0</td>\n",
       "      <td>0</td>\n",
       "      <td>0</td>\n",
       "      <td>0</td>\n",
       "      <td>0</td>\n",
       "      <td>...</td>\n",
       "      <td>0</td>\n",
       "      <td>0</td>\n",
       "      <td>0</td>\n",
       "      <td>0</td>\n",
       "      <td>0</td>\n",
       "      <td>0</td>\n",
       "      <td>0</td>\n",
       "      <td>0</td>\n",
       "      <td>0</td>\n",
       "      <td>0</td>\n",
       "    </tr>\n",
       "    <tr>\n",
       "      <th>2</th>\n",
       "      <td>0</td>\n",
       "      <td>0</td>\n",
       "      <td>0</td>\n",
       "      <td>0</td>\n",
       "      <td>0</td>\n",
       "      <td>0</td>\n",
       "      <td>0</td>\n",
       "      <td>0</td>\n",
       "      <td>0</td>\n",
       "      <td>0</td>\n",
       "      <td>...</td>\n",
       "      <td>0</td>\n",
       "      <td>0</td>\n",
       "      <td>0</td>\n",
       "      <td>0</td>\n",
       "      <td>0</td>\n",
       "      <td>0</td>\n",
       "      <td>0</td>\n",
       "      <td>0</td>\n",
       "      <td>0</td>\n",
       "      <td>0</td>\n",
       "    </tr>\n",
       "    <tr>\n",
       "      <th>3</th>\n",
       "      <td>0</td>\n",
       "      <td>0</td>\n",
       "      <td>0</td>\n",
       "      <td>0</td>\n",
       "      <td>0</td>\n",
       "      <td>0</td>\n",
       "      <td>0</td>\n",
       "      <td>0</td>\n",
       "      <td>0</td>\n",
       "      <td>0</td>\n",
       "      <td>...</td>\n",
       "      <td>0</td>\n",
       "      <td>0</td>\n",
       "      <td>0</td>\n",
       "      <td>0</td>\n",
       "      <td>0</td>\n",
       "      <td>0</td>\n",
       "      <td>0</td>\n",
       "      <td>0</td>\n",
       "      <td>0</td>\n",
       "      <td>0</td>\n",
       "    </tr>\n",
       "    <tr>\n",
       "      <th>4</th>\n",
       "      <td>0</td>\n",
       "      <td>0</td>\n",
       "      <td>0</td>\n",
       "      <td>0</td>\n",
       "      <td>0</td>\n",
       "      <td>0</td>\n",
       "      <td>0</td>\n",
       "      <td>0</td>\n",
       "      <td>0</td>\n",
       "      <td>0</td>\n",
       "      <td>...</td>\n",
       "      <td>0</td>\n",
       "      <td>0</td>\n",
       "      <td>0</td>\n",
       "      <td>0</td>\n",
       "      <td>0</td>\n",
       "      <td>0</td>\n",
       "      <td>0</td>\n",
       "      <td>0</td>\n",
       "      <td>0</td>\n",
       "      <td>0</td>\n",
       "    </tr>\n",
       "  </tbody>\n",
       "</table>\n",
       "<p>5 rows × 7906 columns</p>\n",
       "</div>"
      ],
      "text/plain": [
       "   00  000  000021074034  000735672307126481  003045375618  00374637467467  \\\n",
       "0   0    0             0                   0             0               0   \n",
       "1   0    0             0                   0             0               0   \n",
       "2   0    0             0                   0             0               0   \n",
       "3   0    0             0                   0             0               0   \n",
       "4   0    0             0                   0             0               0   \n",
       "\n",
       "   004100145707  01  018000123838  02  ...  últimas  último  últimos  únete  \\\n",
       "0             0   0             0   0  ...        0       0        0      0   \n",
       "1             0   0             0   0  ...        0       0        0      0   \n",
       "2             0   0             0   0  ...        0       0        0      0   \n",
       "3             0   0             0   0  ...        0       0        0      0   \n",
       "4             0   0             0   0  ...        0       0        0      0   \n",
       "\n",
       "   única  únicamente  único  únicos  úsela  útil  \n",
       "0      0           0      0       0      0     0  \n",
       "1      0           0      0       0      0     0  \n",
       "2      0           0      0       0      0     0  \n",
       "3      0           0      0       0      0     0  \n",
       "4      0           0      0       0      0     0  \n",
       "\n",
       "[5 rows x 7906 columns]"
      ]
     },
     "execution_count": 27,
     "metadata": {},
     "output_type": "execute_result"
    }
   ],
   "source": [
    "# The following code creates a word-document matrix.\n",
    "from sklearn.feature_extraction.text import CountVectorizer\n",
    "\n",
    "vec = CountVectorizer()\n",
    "X = vec.fit_transform(texto_f)\n",
    "df = pd.DataFrame(X.toarray(), columns=vec.get_feature_names())\n",
    "df.head()"
   ]
  },
  {
   "cell_type": "markdown",
   "metadata": {},
   "source": [
    "## Otras transformaciones de texto"
   ]
  },
  {
   "cell_type": "markdown",
   "metadata": {},
   "source": [
    "**lematizacion**"
   ]
  },
  {
   "cell_type": "code",
   "execution_count": 28,
   "metadata": {},
   "outputs": [
    {
     "name": "stderr",
     "output_type": "stream",
     "text": [
      "[nltk_data] Downloading package wordnet to /root/nltk_data...\n",
      "[nltk_data]   Unzipping corpora/wordnet.zip.\n"
     ]
    }
   ],
   "source": [
    "from nltk.stem import PorterStemmer, WordNetLemmatizer, LancasterStemmer\n",
    "\n",
    "nltk.download('wordnet')\n",
    "\n",
    "from nltk.corpus import wordnet\n",
    "\n",
    "porter = PorterStemmer()\n",
    "lancaster = LancasterStemmer()\n",
    "lemmatizer = WordNetLemmatizer()"
   ]
  },
  {
   "cell_type": "code",
   "execution_count": 29,
   "metadata": {},
   "outputs": [
    {
     "name": "stdout",
     "output_type": "stream",
     "text": [
      "Lancaster Stemmer\n",
      "troubl\n",
      "troubl\n",
      "troubl\n",
      "WordNet Lemmatizer\n",
      "trouble\n",
      "trouble\n",
      "trouble\n"
     ]
    }
   ],
   "source": [
    "print(\"Lancaster Stemmer\")\n",
    "print(lancaster.stem(\"trouble\"))\n",
    "print(lancaster.stem(\"troubling\"))\n",
    "print(lancaster.stem(\"troubled\"))\n",
    "\n",
    "# Provide a word to be lemmatized\n",
    "print(\"WordNet Lemmatizer\")\n",
    "print(lemmatizer.lemmatize(\"trouble\", wordnet.NOUN))\n",
    "print(lemmatizer.lemmatize(\"troubling\", wordnet.VERB))\n",
    "print(lemmatizer.lemmatize(\"troubled\", wordnet.VERB))"
   ]
  },
  {
   "cell_type": "markdown",
   "metadata": {},
   "source": [
    "**POS**"
   ]
  },
  {
   "cell_type": "code",
   "execution_count": 30,
   "metadata": {},
   "outputs": [
    {
     "name": "stderr",
     "output_type": "stream",
     "text": [
      "[nltk_data] Downloading package averaged_perceptron_tagger to\n",
      "[nltk_data]     /root/nltk_data...\n",
      "[nltk_data]   Unzipping taggers/averaged_perceptron_tagger.zip.\n"
     ]
    },
    {
     "data": {
      "text/plain": [
       "[('Juliana', 'NNP'),\n",
       " ('is', 'VBZ'),\n",
       " ('having', 'VBG'),\n",
       " ('a', 'DT'),\n",
       " ('nice', 'JJ'),\n",
       " ('day', 'NN')]"
      ]
     },
     "execution_count": 30,
     "metadata": {},
     "output_type": "execute_result"
    }
   ],
   "source": [
    "import nltk\n",
    "nltk.download('averaged_perceptron_tagger')\n",
    "\n",
    "text_word_token = nltk.word_tokenize(\"Juliana is having a nice day\")\n",
    "\n",
    "nltk.pos_tag(text_word_token)\n"
   ]
  },
  {
   "cell_type": "code",
   "execution_count": 31,
   "metadata": {
    "scrolled": true
   },
   "outputs": [
    {
     "data": {
      "text/plain": [
       "[('Juliana', 'NNP'),\n",
       " ('tiene', 'NN'),\n",
       " ('un', 'JJ'),\n",
       " ('buen', 'NN'),\n",
       " ('día', 'NN')]"
      ]
     },
     "execution_count": 31,
     "metadata": {},
     "output_type": "execute_result"
    }
   ],
   "source": [
    "text_word_token = nltk.word_tokenize(\"Juliana tiene un buen día\")\n",
    "\n",
    "nltk.pos_tag(text_word_token)\n"
   ]
  },
  {
   "cell_type": "markdown",
   "metadata": {},
   "source": [
    "## Conclusiones\n",
    "\n",
    "- Analizar texto requiere de una gran tarea de limpieza y transformación\n",
    "- La descripción inicial de los tweets ya nos puede dar ideas de cuáles podrían ser temas o palabras en tendencia\n",
    "- Algunas de las herramientas implementadas no funcionan tan bien en español "
   ]
  }
 ],
 "metadata": {
  "kernelspec": {
   "display_name": "Python 3",
   "language": "python",
   "name": "python3"
  },
  "language_info": {
   "codemirror_mode": {
    "name": "ipython",
    "version": 3
   },
   "file_extension": ".py",
   "mimetype": "text/x-python",
   "name": "python",
   "nbconvert_exporter": "python",
   "pygments_lexer": "ipython3",
   "version": "3.7.3"
  }
 },
 "nbformat": 4,
 "nbformat_minor": 2
}
