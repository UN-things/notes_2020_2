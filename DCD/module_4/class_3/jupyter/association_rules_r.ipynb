{
 "cells": [
  {
   "cell_type": "markdown",
   "metadata": {},
   "source": [
    "# Reglas de asociación\n",
    "En este caso aprenderemos a manejar una tabla de datos de tipo transaccional y ver métodos para poder analizarla. También aplicaremos los conceptos de reglas de asociación en este ejemplo.\n",
    "\n",
    "El caso estará estructurado así:\n",
    "\n",
    "1. Explorar la estructura de una base de datos transaccional\n",
    "\n",
    "2. Transformación de los datos para su análisis\n",
    "\n",
    "3. Exploración descriptiva de los datos\n",
    "\n",
    "4. Análisis de reglas de asociación"
   ]
  },
  {
   "cell_type": "code",
   "execution_count": 1,
   "metadata": {},
   "outputs": [
    {
     "name": "stderr",
     "output_type": "stream",
     "text": [
      "Loading required package: Matrix\n",
      "\n",
      "\n",
      "Attaching package: ‘arules’\n",
      "\n",
      "\n",
      "The following objects are masked from ‘package:base’:\n",
      "\n",
      "    abbreviate, write\n",
      "\n",
      "\n",
      "Loading required package: grid\n",
      "\n"
     ]
    }
   ],
   "source": [
    "# librerias\n",
    "library(arules)\n",
    "library(arulesViz)\n",
    "library(repr)"
   ]
  },
  {
   "cell_type": "code",
   "execution_count": 2,
   "metadata": {},
   "outputs": [],
   "source": [
    "# definir ruta del directorio de trabajo\n",
    "# setwd('C:/Users/Juliana/Desktop/Diplomado/D_2020/Casos/Casos/AssociationRules')\n",
    "setwd('/root/Documentos/UN/UN_2020_2/DCD/module_4/class_3/jupyter/data')"
   ]
  },
  {
   "cell_type": "markdown",
   "metadata": {},
   "source": [
    "La tabla de datos corresponde a compras de un supermercado. Cada fila representa artículos (ítems) que fueron comprados juntos el mismo día durante la misma compra. Tenemos un total de 9835 compras diferentes de hasta 32 productos"
   ]
  },
  {
   "cell_type": "code",
   "execution_count": 3,
   "metadata": {},
   "outputs": [
    {
     "data": {
      "text/html": [
       "<table>\n",
       "<caption>A data.frame: 6 × 32</caption>\n",
       "<thead>\n",
       "\t<tr><th></th><th scope=col>Product.1</th><th scope=col>Product.2</th><th scope=col>Product.3</th><th scope=col>Product.4</th><th scope=col>Product.5</th><th scope=col>Product.6</th><th scope=col>Product.7</th><th scope=col>Product.8</th><th scope=col>Product.9</th><th scope=col>Product.10</th><th scope=col>⋯</th><th scope=col>Product.23</th><th scope=col>Product.24</th><th scope=col>Product.25</th><th scope=col>Product.26</th><th scope=col>Product.27</th><th scope=col>Product.28</th><th scope=col>Product.29</th><th scope=col>Product.30</th><th scope=col>Product.31</th><th scope=col>Product.32</th></tr>\n",
       "\t<tr><th></th><th scope=col>&lt;chr&gt;</th><th scope=col>&lt;chr&gt;</th><th scope=col>&lt;chr&gt;</th><th scope=col>&lt;chr&gt;</th><th scope=col>&lt;chr&gt;</th><th scope=col>&lt;chr&gt;</th><th scope=col>&lt;chr&gt;</th><th scope=col>&lt;chr&gt;</th><th scope=col>&lt;chr&gt;</th><th scope=col>&lt;chr&gt;</th><th scope=col>⋯</th><th scope=col>&lt;chr&gt;</th><th scope=col>&lt;chr&gt;</th><th scope=col>&lt;chr&gt;</th><th scope=col>&lt;chr&gt;</th><th scope=col>&lt;chr&gt;</th><th scope=col>&lt;chr&gt;</th><th scope=col>&lt;chr&gt;</th><th scope=col>&lt;chr&gt;</th><th scope=col>&lt;chr&gt;</th><th scope=col>&lt;chr&gt;</th></tr>\n",
       "</thead>\n",
       "<tbody>\n",
       "\t<tr><th scope=row>1</th><td>citrus fruit    </td><td>semi-finished bread</td><td>margarine     </td><td>ready soups             </td><td>                </td><td></td><td></td><td></td><td></td><td></td><td>⋯</td><td></td><td></td><td></td><td></td><td></td><td></td><td></td><td></td><td></td><td></td></tr>\n",
       "\t<tr><th scope=row>2</th><td>tropical fruit  </td><td>yogurt             </td><td>coffee        </td><td>                        </td><td>                </td><td></td><td></td><td></td><td></td><td></td><td>⋯</td><td></td><td></td><td></td><td></td><td></td><td></td><td></td><td></td><td></td><td></td></tr>\n",
       "\t<tr><th scope=row>3</th><td>whole milk      </td><td>                   </td><td>              </td><td>                        </td><td>                </td><td></td><td></td><td></td><td></td><td></td><td>⋯</td><td></td><td></td><td></td><td></td><td></td><td></td><td></td><td></td><td></td><td></td></tr>\n",
       "\t<tr><th scope=row>4</th><td>pip fruit       </td><td>yogurt             </td><td>cream cheese  </td><td>meat spreads            </td><td>                </td><td></td><td></td><td></td><td></td><td></td><td>⋯</td><td></td><td></td><td></td><td></td><td></td><td></td><td></td><td></td><td></td><td></td></tr>\n",
       "\t<tr><th scope=row>5</th><td>other vegetables</td><td>whole milk         </td><td>condensed milk</td><td>long life bakery product</td><td>                </td><td></td><td></td><td></td><td></td><td></td><td>⋯</td><td></td><td></td><td></td><td></td><td></td><td></td><td></td><td></td><td></td><td></td></tr>\n",
       "\t<tr><th scope=row>6</th><td>whole milk      </td><td>butter             </td><td>yogurt        </td><td>rice                    </td><td>abrasive cleaner</td><td></td><td></td><td></td><td></td><td></td><td>⋯</td><td></td><td></td><td></td><td></td><td></td><td></td><td></td><td></td><td></td><td></td></tr>\n",
       "</tbody>\n",
       "</table>\n"
      ],
      "text/latex": [
       "A data.frame: 6 × 32\n",
       "\\begin{tabular}{r|lllllllllllllllllllll}\n",
       "  & Product.1 & Product.2 & Product.3 & Product.4 & Product.5 & Product.6 & Product.7 & Product.8 & Product.9 & Product.10 & ⋯ & Product.23 & Product.24 & Product.25 & Product.26 & Product.27 & Product.28 & Product.29 & Product.30 & Product.31 & Product.32\\\\\n",
       "  & <chr> & <chr> & <chr> & <chr> & <chr> & <chr> & <chr> & <chr> & <chr> & <chr> & ⋯ & <chr> & <chr> & <chr> & <chr> & <chr> & <chr> & <chr> & <chr> & <chr> & <chr>\\\\\n",
       "\\hline\n",
       "\t1 & citrus fruit     & semi-finished bread & margarine      & ready soups              &                  &  &  &  &  &  & ⋯ &  &  &  &  &  &  &  &  &  & \\\\\n",
       "\t2 & tropical fruit   & yogurt              & coffee         &                          &                  &  &  &  &  &  & ⋯ &  &  &  &  &  &  &  &  &  & \\\\\n",
       "\t3 & whole milk       &                     &                &                          &                  &  &  &  &  &  & ⋯ &  &  &  &  &  &  &  &  &  & \\\\\n",
       "\t4 & pip fruit        & yogurt              & cream cheese   & meat spreads             &                  &  &  &  &  &  & ⋯ &  &  &  &  &  &  &  &  &  & \\\\\n",
       "\t5 & other vegetables & whole milk          & condensed milk & long life bakery product &                  &  &  &  &  &  & ⋯ &  &  &  &  &  &  &  &  &  & \\\\\n",
       "\t6 & whole milk       & butter              & yogurt         & rice                     & abrasive cleaner &  &  &  &  &  & ⋯ &  &  &  &  &  &  &  &  &  & \\\\\n",
       "\\end{tabular}\n"
      ],
      "text/markdown": [
       "\n",
       "A data.frame: 6 × 32\n",
       "\n",
       "| <!--/--> | Product.1 &lt;chr&gt; | Product.2 &lt;chr&gt; | Product.3 &lt;chr&gt; | Product.4 &lt;chr&gt; | Product.5 &lt;chr&gt; | Product.6 &lt;chr&gt; | Product.7 &lt;chr&gt; | Product.8 &lt;chr&gt; | Product.9 &lt;chr&gt; | Product.10 &lt;chr&gt; | ⋯ ⋯ | Product.23 &lt;chr&gt; | Product.24 &lt;chr&gt; | Product.25 &lt;chr&gt; | Product.26 &lt;chr&gt; | Product.27 &lt;chr&gt; | Product.28 &lt;chr&gt; | Product.29 &lt;chr&gt; | Product.30 &lt;chr&gt; | Product.31 &lt;chr&gt; | Product.32 &lt;chr&gt; |\n",
       "|---|---|---|---|---|---|---|---|---|---|---|---|---|---|---|---|---|---|---|---|---|---|\n",
       "| 1 | citrus fruit     | semi-finished bread | margarine      | ready soups              | <!----> | <!----> | <!----> | <!----> | <!----> | <!----> | ⋯ | <!----> | <!----> | <!----> | <!----> | <!----> | <!----> | <!----> | <!----> | <!----> | <!----> |\n",
       "| 2 | tropical fruit   | yogurt              | coffee         | <!----> | <!----> | <!----> | <!----> | <!----> | <!----> | <!----> | ⋯ | <!----> | <!----> | <!----> | <!----> | <!----> | <!----> | <!----> | <!----> | <!----> | <!----> |\n",
       "| 3 | whole milk       | <!----> | <!----> | <!----> | <!----> | <!----> | <!----> | <!----> | <!----> | <!----> | ⋯ | <!----> | <!----> | <!----> | <!----> | <!----> | <!----> | <!----> | <!----> | <!----> | <!----> |\n",
       "| 4 | pip fruit        | yogurt              | cream cheese   | meat spreads             | <!----> | <!----> | <!----> | <!----> | <!----> | <!----> | ⋯ | <!----> | <!----> | <!----> | <!----> | <!----> | <!----> | <!----> | <!----> | <!----> | <!----> |\n",
       "| 5 | other vegetables | whole milk          | condensed milk | long life bakery product | <!----> | <!----> | <!----> | <!----> | <!----> | <!----> | ⋯ | <!----> | <!----> | <!----> | <!----> | <!----> | <!----> | <!----> | <!----> | <!----> | <!----> |\n",
       "| 6 | whole milk       | butter              | yogurt         | rice                     | abrasive cleaner | <!----> | <!----> | <!----> | <!----> | <!----> | ⋯ | <!----> | <!----> | <!----> | <!----> | <!----> | <!----> | <!----> | <!----> | <!----> | <!----> |\n",
       "\n"
      ],
      "text/plain": [
       "  Product.1        Product.2           Product.3      Product.4               \n",
       "1 citrus fruit     semi-finished bread margarine      ready soups             \n",
       "2 tropical fruit   yogurt              coffee                                 \n",
       "3 whole milk                                                                  \n",
       "4 pip fruit        yogurt              cream cheese   meat spreads            \n",
       "5 other vegetables whole milk          condensed milk long life bakery product\n",
       "6 whole milk       butter              yogurt         rice                    \n",
       "  Product.5        Product.6 Product.7 Product.8 Product.9 Product.10 ⋯\n",
       "1                                                                     ⋯\n",
       "2                                                                     ⋯\n",
       "3                                                                     ⋯\n",
       "4                                                                     ⋯\n",
       "5                                                                     ⋯\n",
       "6 abrasive cleaner                                                    ⋯\n",
       "  Product.23 Product.24 Product.25 Product.26 Product.27 Product.28 Product.29\n",
       "1                                                                             \n",
       "2                                                                             \n",
       "3                                                                             \n",
       "4                                                                             \n",
       "5                                                                             \n",
       "6                                                                             \n",
       "  Product.30 Product.31 Product.32\n",
       "1                                 \n",
       "2                                 \n",
       "3                                 \n",
       "4                                 \n",
       "5                                 \n",
       "6                                 "
      ]
     },
     "metadata": {},
     "output_type": "display_data"
    }
   ],
   "source": [
    "compras <-read.csv('compras_mercado.csv', stringsAsFactors = F)\n",
    "# Eliminar filas vacías\n",
    "compras <- na.omit(compras)\n",
    "head(compras)"
   ]
  },
  {
   "cell_type": "code",
   "execution_count": 4,
   "metadata": {},
   "outputs": [
    {
     "name": "stdout",
     "output_type": "stream",
     "text": [
      "[1] 9835\n",
      "[1] 32\n"
     ]
    }
   ],
   "source": [
    "# estructura de datos filas y columnas\n",
    "print(nrow(compras))\n",
    "print(ncol(compras))"
   ]
  },
  {
   "cell_type": "markdown",
   "metadata": {},
   "source": [
    "A primera vista, se puede observar que las compras no contienen muchos productos, razón por la cuál hay muchas celdas vacías. Veamos para la primer columna qué tantos productos diferentes podríamos encontrar"
   ]
  },
  {
   "cell_type": "code",
   "execution_count": 5,
   "metadata": {},
   "outputs": [
    {
     "name": "stdout",
     "output_type": "stream",
     "text": [
      "[1] \"Encontramos en sólo esta primer columna 158 productos dirferentes\"\n"
     ]
    },
    {
     "data": {
      "text/html": [
       "<style>\n",
       ".list-inline {list-style: none; margin:0; padding: 0}\n",
       ".list-inline>li {display: inline-block}\n",
       ".list-inline>li:not(:last-child)::after {content: \"\\00b7\"; padding: 0 .5ex}\n",
       "</style>\n",
       "<ol class=list-inline><li>'citrus fruit'</li><li>'tropical fruit'</li><li>'whole milk'</li><li>'pip fruit'</li><li>'other vegetables'</li><li>'rolls/buns'</li><li>'potted plants'</li><li>'beef'</li><li>'frankfurter'</li><li>'chicken'</li><li>'butter'</li><li>'fruit/vegetable juice'</li><li>'packaged fruit/vegetables'</li><li>'chocolate'</li><li>'specialty bar'</li><li>'butter milk'</li><li>'bottled water'</li><li>'yogurt'</li><li>'sausage'</li><li>'brown bread'</li><li>'hamburger meat'</li><li>'root vegetables'</li><li>'pork'</li><li>'pastry'</li><li>'canned beer'</li><li>'berries'</li><li>'coffee'</li><li>'misc. beverages'</li><li>'ham'</li><li>'turkey'</li><li>'curd cheese'</li><li>'red/blush wine'</li><li>'frozen potato products'</li><li>'flour'</li><li>'sugar'</li><li>'frozen meals'</li><li>'herbs'</li><li>'soda'</li><li>'detergent'</li><li>'grapes'</li><li>'processed cheese'</li><li>'fish'</li><li>'sparkling wine'</li><li>'newspapers'</li><li>'curd'</li><li>'pasta'</li><li>'popcorn'</li><li>'finished products'</li><li>'beverages'</li><li>'bottled beer'</li><li>'dessert'</li><li>'dog food'</li><li>'specialty chocolate'</li><li>'condensed milk'</li><li>'cleaner'</li><li>'white wine'</li><li>'meat'</li><li>'ice cream'</li><li>'hard cheese'</li><li>'cream cheese'</li><li>'liquor'</li><li>'pickled vegetables'</li><li>'liquor (appetizer)'</li><li>'UHT-milk'</li><li>'candy'</li><li>'onions'</li><li>'hair spray'</li><li>'photo/film'</li><li>'domestic eggs'</li><li>'margarine'</li><li>'shopping bags'</li><li>'salt'</li><li>'oil'</li><li>'whipped/sour cream'</li><li>'frozen vegetables'</li><li>'sliced cheese'</li><li>'dish cleaner'</li><li>'baking powder'</li><li>'specialty cheese'</li><li>'salty snack'</li><li>'Instant food products'</li><li>'pet care'</li><li>'white bread'</li><li>'female sanitary products'</li><li>'cling film/bags'</li><li>'soap'</li><li>'frozen chicken'</li><li>'house keeping products'</li><li>'spread cheese'</li><li>'decalcifier'</li><li>'frozen dessert'</li><li>'vinegar'</li><li>'nuts/prunes'</li><li>'potato products'</li><li>'frozen fish'</li><li>'hygiene articles'</li><li>'artif. sweetener'</li><li>'light bulbs'</li><li>'canned vegetables'</li><li>'chewing gum'</li><li>'canned fish'</li><li>'cookware'</li><li>'semi-finished bread'</li><li>'cat food'</li><li>'bathroom cleaner'</li><li>'prosecco'</li><li>'liver loaf'</li><li>'zwieback'</li><li>'canned fruit'</li><li>'frozen fruits'</li><li>'brandy'</li><li>'baby cosmetics'</li><li>'spices'</li><li>'napkins'</li><li>'waffles'</li><li>'sauces'</li><li>'rum'</li><li>'chocolate marshmallow'</li><li>'long life bakery product'</li><li>'bags'</li><li>'sweet spreads'</li><li>'soups'</li><li>'mustard'</li><li>'specialty fat'</li><li>'instant coffee'</li><li>'snack products'</li><li>'organic sausage'</li><li>'soft cheese'</li><li>'mayonnaise'</li><li>'dental care'</li><li>'roll products'</li><li>'kitchen towels'</li><li>'flower soil/fertilizer'</li><li>'cereals'</li><li>'meat spreads'</li><li>'dishes'</li><li>'male cosmetics'</li><li>'candles'</li><li>'whisky'</li><li>'tidbits'</li><li>'cooking chocolate'</li><li>'seasonal products'</li><li>'liqueur'</li><li>'abrasive cleaner'</li><li>'syrup'</li><li>'ketchup'</li><li>'cream'</li><li>'skin care'</li><li>'rubbing alcohol'</li><li>'nut snack'</li><li>'cocoa drinks'</li><li>'softener'</li><li>'organic products'</li><li>'cake bar'</li><li>'honey'</li><li>'jam'</li><li>'kitchen utensil'</li><li>'flower (seeds)'</li></ol>\n"
      ],
      "text/latex": [
       "\\begin{enumerate*}\n",
       "\\item 'citrus fruit'\n",
       "\\item 'tropical fruit'\n",
       "\\item 'whole milk'\n",
       "\\item 'pip fruit'\n",
       "\\item 'other vegetables'\n",
       "\\item 'rolls/buns'\n",
       "\\item 'potted plants'\n",
       "\\item 'beef'\n",
       "\\item 'frankfurter'\n",
       "\\item 'chicken'\n",
       "\\item 'butter'\n",
       "\\item 'fruit/vegetable juice'\n",
       "\\item 'packaged fruit/vegetables'\n",
       "\\item 'chocolate'\n",
       "\\item 'specialty bar'\n",
       "\\item 'butter milk'\n",
       "\\item 'bottled water'\n",
       "\\item 'yogurt'\n",
       "\\item 'sausage'\n",
       "\\item 'brown bread'\n",
       "\\item 'hamburger meat'\n",
       "\\item 'root vegetables'\n",
       "\\item 'pork'\n",
       "\\item 'pastry'\n",
       "\\item 'canned beer'\n",
       "\\item 'berries'\n",
       "\\item 'coffee'\n",
       "\\item 'misc. beverages'\n",
       "\\item 'ham'\n",
       "\\item 'turkey'\n",
       "\\item 'curd cheese'\n",
       "\\item 'red/blush wine'\n",
       "\\item 'frozen potato products'\n",
       "\\item 'flour'\n",
       "\\item 'sugar'\n",
       "\\item 'frozen meals'\n",
       "\\item 'herbs'\n",
       "\\item 'soda'\n",
       "\\item 'detergent'\n",
       "\\item 'grapes'\n",
       "\\item 'processed cheese'\n",
       "\\item 'fish'\n",
       "\\item 'sparkling wine'\n",
       "\\item 'newspapers'\n",
       "\\item 'curd'\n",
       "\\item 'pasta'\n",
       "\\item 'popcorn'\n",
       "\\item 'finished products'\n",
       "\\item 'beverages'\n",
       "\\item 'bottled beer'\n",
       "\\item 'dessert'\n",
       "\\item 'dog food'\n",
       "\\item 'specialty chocolate'\n",
       "\\item 'condensed milk'\n",
       "\\item 'cleaner'\n",
       "\\item 'white wine'\n",
       "\\item 'meat'\n",
       "\\item 'ice cream'\n",
       "\\item 'hard cheese'\n",
       "\\item 'cream cheese'\n",
       "\\item 'liquor'\n",
       "\\item 'pickled vegetables'\n",
       "\\item 'liquor (appetizer)'\n",
       "\\item 'UHT-milk'\n",
       "\\item 'candy'\n",
       "\\item 'onions'\n",
       "\\item 'hair spray'\n",
       "\\item 'photo/film'\n",
       "\\item 'domestic eggs'\n",
       "\\item 'margarine'\n",
       "\\item 'shopping bags'\n",
       "\\item 'salt'\n",
       "\\item 'oil'\n",
       "\\item 'whipped/sour cream'\n",
       "\\item 'frozen vegetables'\n",
       "\\item 'sliced cheese'\n",
       "\\item 'dish cleaner'\n",
       "\\item 'baking powder'\n",
       "\\item 'specialty cheese'\n",
       "\\item 'salty snack'\n",
       "\\item 'Instant food products'\n",
       "\\item 'pet care'\n",
       "\\item 'white bread'\n",
       "\\item 'female sanitary products'\n",
       "\\item 'cling film/bags'\n",
       "\\item 'soap'\n",
       "\\item 'frozen chicken'\n",
       "\\item 'house keeping products'\n",
       "\\item 'spread cheese'\n",
       "\\item 'decalcifier'\n",
       "\\item 'frozen dessert'\n",
       "\\item 'vinegar'\n",
       "\\item 'nuts/prunes'\n",
       "\\item 'potato products'\n",
       "\\item 'frozen fish'\n",
       "\\item 'hygiene articles'\n",
       "\\item 'artif. sweetener'\n",
       "\\item 'light bulbs'\n",
       "\\item 'canned vegetables'\n",
       "\\item 'chewing gum'\n",
       "\\item 'canned fish'\n",
       "\\item 'cookware'\n",
       "\\item 'semi-finished bread'\n",
       "\\item 'cat food'\n",
       "\\item 'bathroom cleaner'\n",
       "\\item 'prosecco'\n",
       "\\item 'liver loaf'\n",
       "\\item 'zwieback'\n",
       "\\item 'canned fruit'\n",
       "\\item 'frozen fruits'\n",
       "\\item 'brandy'\n",
       "\\item 'baby cosmetics'\n",
       "\\item 'spices'\n",
       "\\item 'napkins'\n",
       "\\item 'waffles'\n",
       "\\item 'sauces'\n",
       "\\item 'rum'\n",
       "\\item 'chocolate marshmallow'\n",
       "\\item 'long life bakery product'\n",
       "\\item 'bags'\n",
       "\\item 'sweet spreads'\n",
       "\\item 'soups'\n",
       "\\item 'mustard'\n",
       "\\item 'specialty fat'\n",
       "\\item 'instant coffee'\n",
       "\\item 'snack products'\n",
       "\\item 'organic sausage'\n",
       "\\item 'soft cheese'\n",
       "\\item 'mayonnaise'\n",
       "\\item 'dental care'\n",
       "\\item 'roll products'\n",
       "\\item 'kitchen towels'\n",
       "\\item 'flower soil/fertilizer'\n",
       "\\item 'cereals'\n",
       "\\item 'meat spreads'\n",
       "\\item 'dishes'\n",
       "\\item 'male cosmetics'\n",
       "\\item 'candles'\n",
       "\\item 'whisky'\n",
       "\\item 'tidbits'\n",
       "\\item 'cooking chocolate'\n",
       "\\item 'seasonal products'\n",
       "\\item 'liqueur'\n",
       "\\item 'abrasive cleaner'\n",
       "\\item 'syrup'\n",
       "\\item 'ketchup'\n",
       "\\item 'cream'\n",
       "\\item 'skin care'\n",
       "\\item 'rubbing alcohol'\n",
       "\\item 'nut snack'\n",
       "\\item 'cocoa drinks'\n",
       "\\item 'softener'\n",
       "\\item 'organic products'\n",
       "\\item 'cake bar'\n",
       "\\item 'honey'\n",
       "\\item 'jam'\n",
       "\\item 'kitchen utensil'\n",
       "\\item 'flower (seeds)'\n",
       "\\end{enumerate*}\n"
      ],
      "text/markdown": [
       "1. 'citrus fruit'\n",
       "2. 'tropical fruit'\n",
       "3. 'whole milk'\n",
       "4. 'pip fruit'\n",
       "5. 'other vegetables'\n",
       "6. 'rolls/buns'\n",
       "7. 'potted plants'\n",
       "8. 'beef'\n",
       "9. 'frankfurter'\n",
       "10. 'chicken'\n",
       "11. 'butter'\n",
       "12. 'fruit/vegetable juice'\n",
       "13. 'packaged fruit/vegetables'\n",
       "14. 'chocolate'\n",
       "15. 'specialty bar'\n",
       "16. 'butter milk'\n",
       "17. 'bottled water'\n",
       "18. 'yogurt'\n",
       "19. 'sausage'\n",
       "20. 'brown bread'\n",
       "21. 'hamburger meat'\n",
       "22. 'root vegetables'\n",
       "23. 'pork'\n",
       "24. 'pastry'\n",
       "25. 'canned beer'\n",
       "26. 'berries'\n",
       "27. 'coffee'\n",
       "28. 'misc. beverages'\n",
       "29. 'ham'\n",
       "30. 'turkey'\n",
       "31. 'curd cheese'\n",
       "32. 'red/blush wine'\n",
       "33. 'frozen potato products'\n",
       "34. 'flour'\n",
       "35. 'sugar'\n",
       "36. 'frozen meals'\n",
       "37. 'herbs'\n",
       "38. 'soda'\n",
       "39. 'detergent'\n",
       "40. 'grapes'\n",
       "41. 'processed cheese'\n",
       "42. 'fish'\n",
       "43. 'sparkling wine'\n",
       "44. 'newspapers'\n",
       "45. 'curd'\n",
       "46. 'pasta'\n",
       "47. 'popcorn'\n",
       "48. 'finished products'\n",
       "49. 'beverages'\n",
       "50. 'bottled beer'\n",
       "51. 'dessert'\n",
       "52. 'dog food'\n",
       "53. 'specialty chocolate'\n",
       "54. 'condensed milk'\n",
       "55. 'cleaner'\n",
       "56. 'white wine'\n",
       "57. 'meat'\n",
       "58. 'ice cream'\n",
       "59. 'hard cheese'\n",
       "60. 'cream cheese'\n",
       "61. 'liquor'\n",
       "62. 'pickled vegetables'\n",
       "63. 'liquor (appetizer)'\n",
       "64. 'UHT-milk'\n",
       "65. 'candy'\n",
       "66. 'onions'\n",
       "67. 'hair spray'\n",
       "68. 'photo/film'\n",
       "69. 'domestic eggs'\n",
       "70. 'margarine'\n",
       "71. 'shopping bags'\n",
       "72. 'salt'\n",
       "73. 'oil'\n",
       "74. 'whipped/sour cream'\n",
       "75. 'frozen vegetables'\n",
       "76. 'sliced cheese'\n",
       "77. 'dish cleaner'\n",
       "78. 'baking powder'\n",
       "79. 'specialty cheese'\n",
       "80. 'salty snack'\n",
       "81. 'Instant food products'\n",
       "82. 'pet care'\n",
       "83. 'white bread'\n",
       "84. 'female sanitary products'\n",
       "85. 'cling film/bags'\n",
       "86. 'soap'\n",
       "87. 'frozen chicken'\n",
       "88. 'house keeping products'\n",
       "89. 'spread cheese'\n",
       "90. 'decalcifier'\n",
       "91. 'frozen dessert'\n",
       "92. 'vinegar'\n",
       "93. 'nuts/prunes'\n",
       "94. 'potato products'\n",
       "95. 'frozen fish'\n",
       "96. 'hygiene articles'\n",
       "97. 'artif. sweetener'\n",
       "98. 'light bulbs'\n",
       "99. 'canned vegetables'\n",
       "100. 'chewing gum'\n",
       "101. 'canned fish'\n",
       "102. 'cookware'\n",
       "103. 'semi-finished bread'\n",
       "104. 'cat food'\n",
       "105. 'bathroom cleaner'\n",
       "106. 'prosecco'\n",
       "107. 'liver loaf'\n",
       "108. 'zwieback'\n",
       "109. 'canned fruit'\n",
       "110. 'frozen fruits'\n",
       "111. 'brandy'\n",
       "112. 'baby cosmetics'\n",
       "113. 'spices'\n",
       "114. 'napkins'\n",
       "115. 'waffles'\n",
       "116. 'sauces'\n",
       "117. 'rum'\n",
       "118. 'chocolate marshmallow'\n",
       "119. 'long life bakery product'\n",
       "120. 'bags'\n",
       "121. 'sweet spreads'\n",
       "122. 'soups'\n",
       "123. 'mustard'\n",
       "124. 'specialty fat'\n",
       "125. 'instant coffee'\n",
       "126. 'snack products'\n",
       "127. 'organic sausage'\n",
       "128. 'soft cheese'\n",
       "129. 'mayonnaise'\n",
       "130. 'dental care'\n",
       "131. 'roll products'\n",
       "132. 'kitchen towels'\n",
       "133. 'flower soil/fertilizer'\n",
       "134. 'cereals'\n",
       "135. 'meat spreads'\n",
       "136. 'dishes'\n",
       "137. 'male cosmetics'\n",
       "138. 'candles'\n",
       "139. 'whisky'\n",
       "140. 'tidbits'\n",
       "141. 'cooking chocolate'\n",
       "142. 'seasonal products'\n",
       "143. 'liqueur'\n",
       "144. 'abrasive cleaner'\n",
       "145. 'syrup'\n",
       "146. 'ketchup'\n",
       "147. 'cream'\n",
       "148. 'skin care'\n",
       "149. 'rubbing alcohol'\n",
       "150. 'nut snack'\n",
       "151. 'cocoa drinks'\n",
       "152. 'softener'\n",
       "153. 'organic products'\n",
       "154. 'cake bar'\n",
       "155. 'honey'\n",
       "156. 'jam'\n",
       "157. 'kitchen utensil'\n",
       "158. 'flower (seeds)'\n",
       "\n",
       "\n"
      ],
      "text/plain": [
       "  [1] \"citrus fruit\"              \"tropical fruit\"           \n",
       "  [3] \"whole milk\"                \"pip fruit\"                \n",
       "  [5] \"other vegetables\"          \"rolls/buns\"               \n",
       "  [7] \"potted plants\"             \"beef\"                     \n",
       "  [9] \"frankfurter\"               \"chicken\"                  \n",
       " [11] \"butter\"                    \"fruit/vegetable juice\"    \n",
       " [13] \"packaged fruit/vegetables\" \"chocolate\"                \n",
       " [15] \"specialty bar\"             \"butter milk\"              \n",
       " [17] \"bottled water\"             \"yogurt\"                   \n",
       " [19] \"sausage\"                   \"brown bread\"              \n",
       " [21] \"hamburger meat\"            \"root vegetables\"          \n",
       " [23] \"pork\"                      \"pastry\"                   \n",
       " [25] \"canned beer\"               \"berries\"                  \n",
       " [27] \"coffee\"                    \"misc. beverages\"          \n",
       " [29] \"ham\"                       \"turkey\"                   \n",
       " [31] \"curd cheese\"               \"red/blush wine\"           \n",
       " [33] \"frozen potato products\"    \"flour\"                    \n",
       " [35] \"sugar\"                     \"frozen meals\"             \n",
       " [37] \"herbs\"                     \"soda\"                     \n",
       " [39] \"detergent\"                 \"grapes\"                   \n",
       " [41] \"processed cheese\"          \"fish\"                     \n",
       " [43] \"sparkling wine\"            \"newspapers\"               \n",
       " [45] \"curd\"                      \"pasta\"                    \n",
       " [47] \"popcorn\"                   \"finished products\"        \n",
       " [49] \"beverages\"                 \"bottled beer\"             \n",
       " [51] \"dessert\"                   \"dog food\"                 \n",
       " [53] \"specialty chocolate\"       \"condensed milk\"           \n",
       " [55] \"cleaner\"                   \"white wine\"               \n",
       " [57] \"meat\"                      \"ice cream\"                \n",
       " [59] \"hard cheese\"               \"cream cheese\"             \n",
       " [61] \"liquor\"                    \"pickled vegetables\"       \n",
       " [63] \"liquor (appetizer)\"        \"UHT-milk\"                 \n",
       " [65] \"candy\"                     \"onions\"                   \n",
       " [67] \"hair spray\"                \"photo/film\"               \n",
       " [69] \"domestic eggs\"             \"margarine\"                \n",
       " [71] \"shopping bags\"             \"salt\"                     \n",
       " [73] \"oil\"                       \"whipped/sour cream\"       \n",
       " [75] \"frozen vegetables\"         \"sliced cheese\"            \n",
       " [77] \"dish cleaner\"              \"baking powder\"            \n",
       " [79] \"specialty cheese\"          \"salty snack\"              \n",
       " [81] \"Instant food products\"     \"pet care\"                 \n",
       " [83] \"white bread\"               \"female sanitary products\" \n",
       " [85] \"cling film/bags\"           \"soap\"                     \n",
       " [87] \"frozen chicken\"            \"house keeping products\"   \n",
       " [89] \"spread cheese\"             \"decalcifier\"              \n",
       " [91] \"frozen dessert\"            \"vinegar\"                  \n",
       " [93] \"nuts/prunes\"               \"potato products\"          \n",
       " [95] \"frozen fish\"               \"hygiene articles\"         \n",
       " [97] \"artif. sweetener\"          \"light bulbs\"              \n",
       " [99] \"canned vegetables\"         \"chewing gum\"              \n",
       "[101] \"canned fish\"               \"cookware\"                 \n",
       "[103] \"semi-finished bread\"       \"cat food\"                 \n",
       "[105] \"bathroom cleaner\"          \"prosecco\"                 \n",
       "[107] \"liver loaf\"                \"zwieback\"                 \n",
       "[109] \"canned fruit\"              \"frozen fruits\"            \n",
       "[111] \"brandy\"                    \"baby cosmetics\"           \n",
       "[113] \"spices\"                    \"napkins\"                  \n",
       "[115] \"waffles\"                   \"sauces\"                   \n",
       "[117] \"rum\"                       \"chocolate marshmallow\"    \n",
       "[119] \"long life bakery product\"  \"bags\"                     \n",
       "[121] \"sweet spreads\"             \"soups\"                    \n",
       "[123] \"mustard\"                   \"specialty fat\"            \n",
       "[125] \"instant coffee\"            \"snack products\"           \n",
       "[127] \"organic sausage\"           \"soft cheese\"              \n",
       "[129] \"mayonnaise\"                \"dental care\"              \n",
       "[131] \"roll products\"             \"kitchen towels\"           \n",
       "[133] \"flower soil/fertilizer\"    \"cereals\"                  \n",
       "[135] \"meat spreads\"              \"dishes\"                   \n",
       "[137] \"male cosmetics\"            \"candles\"                  \n",
       "[139] \"whisky\"                    \"tidbits\"                  \n",
       "[141] \"cooking chocolate\"         \"seasonal products\"        \n",
       "[143] \"liqueur\"                   \"abrasive cleaner\"         \n",
       "[145] \"syrup\"                     \"ketchup\"                  \n",
       "[147] \"cream\"                     \"skin care\"                \n",
       "[149] \"rubbing alcohol\"           \"nut snack\"                \n",
       "[151] \"cocoa drinks\"              \"softener\"                 \n",
       "[153] \"organic products\"          \"cake bar\"                 \n",
       "[155] \"honey\"                     \"jam\"                      \n",
       "[157] \"kitchen utensil\"           \"flower (seeds)\"           "
      ]
     },
     "metadata": {},
     "output_type": "display_data"
    }
   ],
   "source": [
    "print(paste('Encontramos en sólo esta primer columna',length(unique(compras[,'Product.1'])),'productos dirferentes'))\n",
    "unique(compras[,'Product.1'])"
   ]
  },
  {
   "cell_type": "markdown",
   "metadata": {},
   "source": [
    "Para analizar estos datos en R vamos a utilizar la librería **arules**  y su función apriori para generar las reglas de asociación. Para esto debemos transformar los datos, ya que la función que utilizaremos sólo recibe datos de tipo transacción. El resultado debe llevar a una fila por cada transacción y una columna que grupe todos los ítem separados por comas. "
   ]
  },
  {
   "cell_type": "code",
   "execution_count": 6,
   "metadata": {},
   "outputs": [],
   "source": [
    "trans <- function(){\n",
    "  lista = list()\n",
    "  for (i in 1:nrow(compras)) {\n",
    "    lista[i][1]=as.character(compras[i,1])\n",
    "    j <- 2\n",
    "    while(j <= ncol(compras) & compras[i,j] != \"\"){\n",
    "        lista[[i]][j]=as.character(compras[i,j])\n",
    "        if (j < ncol(compras))\n",
    "          j = j + 1\n",
    "        else\n",
    "          break\n",
    "    } # end while\n",
    "  } # end i loop\n",
    "  return(lista)\n",
    "} # end function"
   ]
  },
  {
   "cell_type": "code",
   "execution_count": 7,
   "metadata": {},
   "outputs": [
    {
     "data": {
      "text/html": [
       "<style>\n",
       ".list-inline {list-style: none; margin:0; padding: 0}\n",
       ".list-inline>li {display: inline-block}\n",
       ".list-inline>li:not(:last-child)::after {content: \"\\00b7\"; padding: 0 .5ex}\n",
       "</style>\n",
       "<ol class=list-inline><li>'citrus fruit,semi-finished bread,margarine,ready soups'</li><li>'tropical fruit,yogurt,coffee'</li><li>'whole milk'</li><li>'pip fruit,yogurt,cream cheese,meat spreads'</li><li>'other vegetables,whole milk,condensed milk,long life bakery product'</li><li>'whole milk,butter,yogurt,rice,abrasive cleaner'</li><li>'rolls/buns'</li><li>'other vegetables,UHT-milk,rolls/buns,bottled beer,liquor (appetizer)'</li><li>'potted plants'</li><li>'whole milk,cereals'</li><li>'tropical fruit,other vegetables,white bread,bottled water,chocolate'</li><li>'citrus fruit,tropical fruit,whole milk,butter,curd,yogurt,flour,bottled water,dishes'</li><li>'beef'</li><li>'frankfurter,rolls/buns,soda'</li><li>'chicken,tropical fruit'</li><li>'butter,sugar,fruit/vegetable juice,newspapers'</li><li>'fruit/vegetable juice'</li><li>'packaged fruit/vegetables'</li><li>'chocolate'</li><li>'specialty bar'</li></ol>\n"
      ],
      "text/latex": [
       "\\begin{enumerate*}\n",
       "\\item 'citrus fruit,semi-finished bread,margarine,ready soups'\n",
       "\\item 'tropical fruit,yogurt,coffee'\n",
       "\\item 'whole milk'\n",
       "\\item 'pip fruit,yogurt,cream cheese,meat spreads'\n",
       "\\item 'other vegetables,whole milk,condensed milk,long life bakery product'\n",
       "\\item 'whole milk,butter,yogurt,rice,abrasive cleaner'\n",
       "\\item 'rolls/buns'\n",
       "\\item 'other vegetables,UHT-milk,rolls/buns,bottled beer,liquor (appetizer)'\n",
       "\\item 'potted plants'\n",
       "\\item 'whole milk,cereals'\n",
       "\\item 'tropical fruit,other vegetables,white bread,bottled water,chocolate'\n",
       "\\item 'citrus fruit,tropical fruit,whole milk,butter,curd,yogurt,flour,bottled water,dishes'\n",
       "\\item 'beef'\n",
       "\\item 'frankfurter,rolls/buns,soda'\n",
       "\\item 'chicken,tropical fruit'\n",
       "\\item 'butter,sugar,fruit/vegetable juice,newspapers'\n",
       "\\item 'fruit/vegetable juice'\n",
       "\\item 'packaged fruit/vegetables'\n",
       "\\item 'chocolate'\n",
       "\\item 'specialty bar'\n",
       "\\end{enumerate*}\n"
      ],
      "text/markdown": [
       "1. 'citrus fruit,semi-finished bread,margarine,ready soups'\n",
       "2. 'tropical fruit,yogurt,coffee'\n",
       "3. 'whole milk'\n",
       "4. 'pip fruit,yogurt,cream cheese,meat spreads'\n",
       "5. 'other vegetables,whole milk,condensed milk,long life bakery product'\n",
       "6. 'whole milk,butter,yogurt,rice,abrasive cleaner'\n",
       "7. 'rolls/buns'\n",
       "8. 'other vegetables,UHT-milk,rolls/buns,bottled beer,liquor (appetizer)'\n",
       "9. 'potted plants'\n",
       "10. 'whole milk,cereals'\n",
       "11. 'tropical fruit,other vegetables,white bread,bottled water,chocolate'\n",
       "12. 'citrus fruit,tropical fruit,whole milk,butter,curd,yogurt,flour,bottled water,dishes'\n",
       "13. 'beef'\n",
       "14. 'frankfurter,rolls/buns,soda'\n",
       "15. 'chicken,tropical fruit'\n",
       "16. 'butter,sugar,fruit/vegetable juice,newspapers'\n",
       "17. 'fruit/vegetable juice'\n",
       "18. 'packaged fruit/vegetables'\n",
       "19. 'chocolate'\n",
       "20. 'specialty bar'\n",
       "\n",
       "\n"
      ],
      "text/plain": [
       " [1] \"citrus fruit,semi-finished bread,margarine,ready soups\"                              \n",
       " [2] \"tropical fruit,yogurt,coffee\"                                                        \n",
       " [3] \"whole milk\"                                                                          \n",
       " [4] \"pip fruit,yogurt,cream cheese,meat spreads\"                                          \n",
       " [5] \"other vegetables,whole milk,condensed milk,long life bakery product\"                 \n",
       " [6] \"whole milk,butter,yogurt,rice,abrasive cleaner\"                                      \n",
       " [7] \"rolls/buns\"                                                                          \n",
       " [8] \"other vegetables,UHT-milk,rolls/buns,bottled beer,liquor (appetizer)\"                \n",
       " [9] \"potted plants\"                                                                       \n",
       "[10] \"whole milk,cereals\"                                                                  \n",
       "[11] \"tropical fruit,other vegetables,white bread,bottled water,chocolate\"                 \n",
       "[12] \"citrus fruit,tropical fruit,whole milk,butter,curd,yogurt,flour,bottled water,dishes\"\n",
       "[13] \"beef\"                                                                                \n",
       "[14] \"frankfurter,rolls/buns,soda\"                                                         \n",
       "[15] \"chicken,tropical fruit\"                                                              \n",
       "[16] \"butter,sugar,fruit/vegetable juice,newspapers\"                                       \n",
       "[17] \"fruit/vegetable juice\"                                                               \n",
       "[18] \"packaged fruit/vegetables\"                                                           \n",
       "[19] \"chocolate\"                                                                           \n",
       "[20] \"specialty bar\"                                                                       "
      ]
     },
     "metadata": {},
     "output_type": "display_data"
    }
   ],
   "source": [
    "resultado <- trans()\n",
    "resultado2 <- sapply(resultado, paste, collapse = \",\")\n",
    "resultado2[1:20]"
   ]
  },
  {
   "cell_type": "markdown",
   "metadata": {},
   "source": [
    "Tranformamos este resultado como un objeto de tipo transacción para poder analizarlo"
   ]
  },
  {
   "cell_type": "code",
   "execution_count": 8,
   "metadata": {},
   "outputs": [],
   "source": [
    "#transacciones\n",
    "trObj <- as(strsplit(resultado2, \",\"), \"transactions\")"
   ]
  },
  {
   "cell_type": "markdown",
   "metadata": {},
   "source": [
    "## Exploración de las compras"
   ]
  },
  {
   "cell_type": "code",
   "execution_count": 9,
   "metadata": {},
   "outputs": [
    {
     "data": {
      "text/plain": [
       "transactions as itemMatrix in sparse format with\n",
       " 9835 rows (elements/itemsets/transactions) and\n",
       " 169 columns (items) and a density of 0.02609146 \n",
       "\n",
       "most frequent items:\n",
       "      whole milk other vegetables       rolls/buns             soda \n",
       "            2513             1903             1809             1715 \n",
       "          yogurt          (Other) \n",
       "            1372            34055 \n",
       "\n",
       "element (itemset/transaction) length distribution:\n",
       "sizes\n",
       "   1    2    3    4    5    6    7    8    9   10   11   12   13   14   15   16 \n",
       "2159 1643 1299 1005  855  645  545  438  350  246  182  117   78   77   55   46 \n",
       "  17   18   19   20   21   22   23   24   26   27   28   29   32 \n",
       "  29   14   14    9   11    4    6    1    1    1    1    3    1 \n",
       "\n",
       "   Min. 1st Qu.  Median    Mean 3rd Qu.    Max. \n",
       "  1.000   2.000   3.000   4.409   6.000  32.000 \n",
       "\n",
       "includes extended item information - examples:\n",
       "            labels\n",
       "1 abrasive cleaner\n",
       "2 artif. sweetener\n",
       "3   baby cosmetics"
      ]
     },
     "metadata": {},
     "output_type": "display_data"
    }
   ],
   "source": [
    "summary(trObj)"
   ]
  },
  {
   "cell_type": "markdown",
   "metadata": {},
   "source": [
    "Analicemos más en detalle cuál es el comportamiento del número de ítems por compra"
   ]
  },
  {
   "cell_type": "code",
   "execution_count": 10,
   "metadata": {},
   "outputs": [
    {
     "data": {
      "image/png": "[encoded data removed]",
      "text/plain": [
       "Plot with title “Tamaño de canastas”"
      ]
     },
     "metadata": {
      "image/png": {
       "height": 420,
       "width": 420
      }
     },
     "output_type": "display_data"
    }
   ],
   "source": [
    "hist(size(trObj),xlab='número de ítems por compra',main='Tamaño de canastas')"
   ]
  },
  {
   "cell_type": "markdown",
   "metadata": {},
   "source": [
    "Analicemos cuántas de las compras contienen sólo 1 ítem y cuántas menos de 10 ítems"
   ]
  },
  {
   "cell_type": "code",
   "execution_count": 11,
   "metadata": {},
   "outputs": [
    {
     "data": {
      "text/plain": [
       "transactions in sparse format with\n",
       " 2159 transactions (rows) and\n",
       " 169 items (columns)"
      ]
     },
     "metadata": {},
     "output_type": "display_data"
    },
    {
     "data": {
      "text/html": [
       "21.952211489578"
      ],
      "text/latex": [
       "21.952211489578"
      ],
      "text/markdown": [
       "21.952211489578"
      ],
      "text/plain": [
       "[1] 21.95221"
      ]
     },
     "metadata": {},
     "output_type": "display_data"
    },
    {
     "data": {
      "text/plain": [
       "transactions in sparse format with\n",
       " 8939 transactions (rows) and\n",
       " 169 items (columns)"
      ]
     },
     "metadata": {},
     "output_type": "display_data"
    },
    {
     "data": {
      "text/html": [
       "90.8896797153025"
      ],
      "text/latex": [
       "90.8896797153025"
      ],
      "text/markdown": [
       "90.8896797153025"
      ],
      "text/plain": [
       "[1] 90.88968"
      ]
     },
     "metadata": {},
     "output_type": "display_data"
    }
   ],
   "source": [
    "# compras con solo 1 ítem\n",
    "trObj[size(trObj)==1]\n",
    "2159*100/9835\n",
    "\n",
    "# reglas con menos de 10 ítems\n",
    "trObj[size(trObj)<10]\n",
    "8939*100/9835"
   ]
  },
  {
   "cell_type": "markdown",
   "metadata": {},
   "source": [
    "Con la función apriori podemos obtener las reglas de asociación definiendo distintos valores para los umbrales de las métricas de evaluación"
   ]
  },
  {
   "cell_type": "code",
   "execution_count": 12,
   "metadata": {},
   "outputs": [
    {
     "name": "stdout",
     "output_type": "stream",
     "text": [
      "Apriori\n",
      "\n",
      "Parameter specification:\n",
      " confidence minval smax arem  aval originalSupport maxtime support minlen\n",
      "        0.5    0.1    1 none FALSE            TRUE       5   0.001      1\n",
      " maxlen target  ext\n",
      "     10  rules TRUE\n",
      "\n",
      "Algorithmic control:\n",
      " filter tree heap memopt load sort verbose\n",
      "    0.1 TRUE TRUE  FALSE TRUE    2    TRUE\n",
      "\n",
      "Absolute minimum support count: 9 \n",
      "\n",
      "set item appearances ...[0 item(s)] done [0.00s].\n",
      "set transactions ...[169 item(s), 9835 transaction(s)] done [0.01s].\n",
      "sorting and recoding items ... [157 item(s)] done [0.00s].\n",
      "creating transaction tree ... done [0.01s].\n",
      "checking subsets of size 1 2 3 4 5 6 done [0.02s].\n",
      "writing ... [5668 rule(s)] done [0.00s].\n",
      "creating S4 object  ... done [0.00s].\n"
     ]
    }
   ],
   "source": [
    "association.rules <- apriori(trObj, parameter = list(supp=0.001,conf=0.5))"
   ]
  },
  {
   "cell_type": "code",
   "execution_count": 13,
   "metadata": {},
   "outputs": [
    {
     "name": "stdout",
     "output_type": "stream",
     "text": [
      "     lhs                    rhs                support     confidence\n",
      "[1]  {honey}             => {whole milk}       0.001118454 0.7333333 \n",
      "[2]  {tidbits}           => {rolls/buns}       0.001220132 0.5217391 \n",
      "[3]  {cocoa drinks}      => {whole milk}       0.001321810 0.5909091 \n",
      "[4]  {pudding powder}    => {whole milk}       0.001321810 0.5652174 \n",
      "[5]  {cooking chocolate} => {whole milk}       0.001321810 0.5200000 \n",
      "[6]  {cereals}           => {whole milk}       0.003660397 0.6428571 \n",
      "[7]  {jam}               => {whole milk}       0.002948653 0.5471698 \n",
      "[8]  {specialty cheese}  => {other vegetables} 0.004270463 0.5000000 \n",
      "[9]  {rice}              => {other vegetables} 0.003965430 0.5200000 \n",
      "[10] {rice}              => {whole milk}       0.004677173 0.6133333 \n",
      "     coverage    lift     count\n",
      "[1]  0.001525165 2.870009 11   \n",
      "[2]  0.002338587 2.836542 12   \n",
      "[3]  0.002236909 2.312611 13   \n",
      "[4]  0.002338587 2.212062 13   \n",
      "[5]  0.002541942 2.035097 13   \n",
      "[6]  0.005693950 2.515917 36   \n",
      "[7]  0.005388917 2.141431 29   \n",
      "[8]  0.008540925 2.584078 42   \n",
      "[9]  0.007625826 2.687441 39   \n",
      "[10] 0.007625826 2.400371 46   \n"
     ]
    },
    {
     "name": "stderr",
     "output_type": "stream",
     "text": [
      "To reduce overplotting, jitter is added! Use jitter = 0 to prevent jitter.\n",
      "\n"
     ]
    },
    {
     "data": {
      "image/png": "[encoded data removed]",
      "text/plain": [
       "plot without title"
      ]
     },
     "metadata": {
      "image/png": {
       "height": 480,
       "width": 600
      }
     },
     "output_type": "display_data"
    }
   ],
   "source": [
    "inspect(association.rules[1:10])\n",
    "options(repr.plot.width = 10, repr.plot.height=8)\n",
    "plot(association.rules)"
   ]
  },
  {
   "cell_type": "markdown",
   "metadata": {},
   "source": [
    "## Ejercicios\n",
    "1. ¿Cuáles reglas parecen interesantes de esta salida?\n",
    "\n",
    "2. ¿ Cuáles reglas podrían ser 'poco' interesantes?\n",
    "\n",
    "3. Utilizando la métrica de 'lift', ¿Cuáles serían algunas de las reglas más interesantes?\n",
    "\n",
    "4. ¿Qué pasa si utilizamos diferentes niveles de soporte y confianza? Se llega a otras reglas más interesantes?"
   ]
  },
  {
   "cell_type": "markdown",
   "metadata": {},
   "source": [
    "## Conclusiones\n",
    "\n",
    "- Las tablas de datos transaccionales requieren de un manejo diferente a las tablas tradicionales y requieren de transformación en la mayoría de casos para su análisis\n",
    "\n",
    "- Conocer los ítems más frecuentes permite sacar conclusiones interesantes sobre las compras\n",
    "\n",
    "- La aplicación de las reglas de asociación es bastante sencilla"
   ]
  }
 ],
 "metadata": {
  "kernelspec": {
   "display_name": "R",
   "language": "R",
   "name": "ir"
  },
  "language_info": {
   "codemirror_mode": "r",
   "file_extension": ".r",
   "mimetype": "text/x-r-source",
   "name": "R",
   "pygments_lexer": "r",
   "version": "3.6.3"
  }
 },
 "nbformat": 4,
 "nbformat_minor": 4
}
