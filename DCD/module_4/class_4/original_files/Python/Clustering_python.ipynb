{
 "cells": [
  {
   "cell_type": "markdown",
   "metadata": {},
   "source": [
    "## Universidad Nacional de Colombia\n",
    "\n",
    "## Diplomado Ciencia de datos\n"
   ]
  },
  {
   "cell_type": "markdown",
   "metadata": {},
   "source": [
    "## Clusterización"
   ]
  },
  {
   "cell_type": "markdown",
   "metadata": {},
   "source": [
    "En este caso práctico aplicaremos el algoritmos de clusterización para hacer agrupamiento de datos, aprenderemos cómo funcionan y cómo utilizarlos en un caso práctico\n",
    "\n",
    "El caso estará estructurado así\n",
    "1. Hacer un análisis exploratorio para revisar la estructura de los datos\n",
    "2. Usar lo que observamos para guiar nuestro proceso de agrupamiento\n",
    "3. Ajustar un algortimo de k-means a los datos disponibles\n",
    "4. Ajustar un agrupamiento jerárquico\n",
    "5. Hacer segmentaciones y conclusiones a partir del análisis"
   ]
  },
  {
   "cell_type": "markdown",
   "metadata": {},
   "source": [
    "**Contexto:** Las competencias deportivas cada día recogen una gran cantidad de datos relacionados con el desempeño de sus equipos y jugadores para encontrar patrones en estos datos y tomar decisiones informadas basadas en ellos. De esta manera la competencia aumenta tanto dentro como fuera de la cancha"
   ]
  },
  {
   "cell_type": "markdown",
   "metadata": {},
   "source": [
    "**Problema de negocio:** Se tienen los datos de desempeño de los equipos de baloncesto del torneo NCAA March Madness que contiene las estadísticas de juego de 353 equipos de la liga. El objetivo es inspeccionar esta data utilizando técnicas de visualización y agrupación para encontrar patrones en el desempeño de los equipos y generar recomendaciones de umbrales en las estadísticas para que un equipo esté en el grupo de desempeño superior."
   ]
  },
  {
   "cell_type": "code",
   "execution_count": null,
   "metadata": {},
   "outputs": [],
   "source": [
    "# librerías\n",
    "import pandas as pd\n",
    "import matplotlib.pyplot as plt\n",
    "import numpy as np\n",
    "import pandas as pd\n",
    "import scipy\n",
    "import seaborn as sns\n",
    "import sklearn\n",
    "from scipy.stats import norm\n",
    "from sklearn.cluster import KMeans\n",
    "from sklearn.preprocessing import MinMaxScaler, MaxAbsScaler, RobustScaler, StandardScaler\n",
    "import scipy.cluster.hierarchy as sch\n",
    "from sklearn.cluster import AgglomerativeClustering \n",
    "from sklearn.datasets.samples_generator import make_blobs\n",
    "from sklearn.neighbors import NearestNeighbors\n",
    "from sklearn.cluster import DBSCAN\n",
    "from matplotlib import pyplot as plt"
   ]
  },
  {
   "cell_type": "code",
   "execution_count": null,
   "metadata": {},
   "outputs": [],
   "source": [
    "# display setting Para visualizar el máximo de columnas\n",
    "pd.set_option('display.max_columns', None)"
   ]
  },
  {
   "cell_type": "code",
   "execution_count": null,
   "metadata": {},
   "outputs": [],
   "source": [
    "datos = pd.read_csv('basketball_19.csv')"
   ]
  },
  {
   "cell_type": "code",
   "execution_count": null,
   "metadata": {},
   "outputs": [],
   "source": [
    "datos.columns"
   ]
  },
  {
   "cell_type": "markdown",
   "metadata": {},
   "source": [
    "Estas son las variables que contiene el conjunto de datos \n",
    "\n",
    "- TEAM: Equipo\n",
    "- CONF: La conferencia en la que el equipo participa(A10 = Atlantic 10, ACC = Atlantic Coast Conference, AE = America East, Amer = American, ASun = ASUN, B10 = Big Ten, B12 = Big 12, BE = Big East, BSky = Big Sky, BSth = Big South, BW = Big West, CAA = Colonial Athletic Association, CUSA = Conference USA, Horz = Horizon League, Ivy = Ivy League, MAAC = Metro Atlantic Athletic Conference, MAC = Mid-American Conference, MEAC = Mid-Eastern Athletic Conference, MVC = Missouri Valley Conference, MWC = Mountain West, NEC = Northeast Conference, OVC = Ohio Valley Conference, P12 = Pac-12, Pat = Patriot League, SB = Sun Belt, SC = Southern Conference, SEC = South Eastern Conference, Slnd = Southland Conference, Sum = Summit League, SWAC = Southwestern Athletic Conference, WAC = Western Athletic Conference, WCC = West Coast Conference)\n",
    "- G: Número de partidos jugados\n",
    "- W: Número de partidos ganados\n",
    "- ADJOE: Estimación de eficiencia ofensiva, puntos anotados por cada 100 posesiones\n",
    "- ADJDE: Estimación de eficiencia defensiva, puntos permitidos por cada 100 posesiones del equipo contrario\n",
    "- BARTHAG: Probabilidad de vencer a un equipo\n",
    "- EFG_O: Effective Field Goal Percentage Shot\n",
    "- EFG_D: Effective Field Goal Percentage Allowed\n",
    "- TOR: Porcentaje de rotación permitida (equipo pierde la posesión del balón contra el equipo contrario antes de que un jugador dispare a la canasta de su equipo)\n",
    "- TORD: Porcentaje de rotación hecha al equipo contrario (se roba la pelota al contrincante)\n",
    "- ORB: Porcentaje de rebote ofensivo\n",
    "- B: Porcentaje de rebote defensivo\n",
    "- FTR : Tasa de tiros libres hechos(que hace el equipo)\n",
    "- FTRD: Tasa de tiros libres permitidos (que hace el contrincante)\n",
    "- 2P_O: Porcentaje de tiros de 2 puntos hechos\n",
    "- 2P_D: Porcentaje de tiros de 2 puntos permitidos\n",
    "- 3P_O: Porcentaje de tiros de 3 puntos hechos\n",
    "- 3P_D: Porcentaje de tiros de 3 puntos permitidos\n",
    "- ADJ_T: Posesión del balón por 40 min\n",
    "- WAB: Triunfos por encima de la 'burbuja' (la burbuja es el límite definido para pasar al campeonato NCAA March Madness Tournament\n",
    "- POSTSEASON: Ronda en la que el equipo de fue eliminado (R68 = First Four, R64 = Round of 64, R32 = Round of 32, S16 = Sweet Sixteen, E8 = Elite Eight, F4 = Final Four, 2ND = Runner-up, Champion = Winner of the NCAA March Madness Tournament for that given year)\n",
    "- SEED: Semilla definida por el torneo\n"
   ]
  },
  {
   "cell_type": "code",
   "execution_count": null,
   "metadata": {
    "scrolled": false
   },
   "outputs": [],
   "source": [
    "datos.head()"
   ]
  },
  {
   "cell_type": "markdown",
   "metadata": {},
   "source": [
    "## Exploración de los datos "
   ]
  },
  {
   "cell_type": "markdown",
   "metadata": {},
   "source": [
    "Para empezar el análisis hay que hacer una exploración inicial de los datos, entender un poco las variables y la información que tenemos. Para empezar nuestros datos consisten en las estadísticas de 353 equipos contenidas en 24 variables "
   ]
  },
  {
   "cell_type": "code",
   "execution_count": null,
   "metadata": {
    "scrolled": true
   },
   "outputs": [],
   "source": [
    "datos.shape"
   ]
  },
  {
   "cell_type": "code",
   "execution_count": null,
   "metadata": {
    "scrolled": false
   },
   "outputs": [],
   "source": [
    "datos.describe()"
   ]
  },
  {
   "cell_type": "markdown",
   "metadata": {},
   "source": [
    "Visualicemos el comportamiento de algunas variables"
   ]
  },
  {
   "cell_type": "code",
   "execution_count": null,
   "metadata": {},
   "outputs": [],
   "source": [
    "columnas = ['G', 'W', 'ADJOE', 'ADJDE', 'BARTHAG', 'EFG_O', 'EFG_D',\n",
    "       'TOR', 'TORD', 'ORB', 'DRB', 'FTR', 'FTRD', '2P_O', '2P_D', '3P_O',\n",
    "       '3P_D', 'ADJ_T', 'WAB']"
   ]
  },
  {
   "cell_type": "code",
   "execution_count": null,
   "metadata": {},
   "outputs": [],
   "source": [
    "fig=plt.figure(figsize=(20,30))\n",
    "for i, feature in enumerate(columnas):\n",
    "    ax=fig.add_subplot(10,2,i+1)\n",
    "    sns.distplot(datos[feature], bins=14, kde=False)\n",
    "    ax.set_title(feature+\" Distribution\")\n",
    "\n",
    "fig.tight_layout()  \n",
    "plt.show()"
   ]
  },
  {
   "cell_type": "markdown",
   "metadata": {},
   "source": [
    "Podríamos empezar a identificar cuál es el comportamiento de los equipos durante la temporada "
   ]
  },
  {
   "cell_type": "code",
   "execution_count": null,
   "metadata": {
    "scrolled": true
   },
   "outputs": [],
   "source": [
    "plt.figure(figsize=(8,6))\n",
    "\n",
    "plt.scatter(datos['BARTHAG'], datos['W'],alpha=0.5, edgecolor='k')\n",
    "plt.title('Relación partidos ganados con probabilidad de vencer un equipo ', fontsize=16)\n",
    "plt.xlabel('Probabilidad de ganar', fontsize=14)\n",
    "plt.xticks(fontsize=12)\n",
    "plt.ylabel('Partidos ganados', fontsize=14)\n",
    "plt.yticks(fontsize=12)\n",
    "plt.show()"
   ]
  },
  {
   "cell_type": "code",
   "execution_count": null,
   "metadata": {
    "scrolled": false
   },
   "outputs": [],
   "source": [
    "# Cómo se relacionan algunas variables con la probabilidad de ganar\n",
    "plt.figure(figsize=(12,10))\n",
    "\n",
    "plt.subplot(321)\n",
    "plt.scatter(y=datos['BARTHAG'], x=datos['ADJOE'],alpha=0.5, edgecolor='k')\n",
    "plt.yticks(fontsize=12)\n",
    "plt.ylabel('Prob Ganar', fontsize=12)\n",
    "plt.title('Eficiencia Ofensiva', fontsize=16)\n",
    "\n",
    "plt.subplot(322)\n",
    "plt.scatter(y=datos['BARTHAG'], x=datos['EFG_O'],alpha=0.5, edgecolor='k')\n",
    "plt.yticks(fontsize=12)\n",
    "plt.ylabel('Prob Ganar', fontsize=12)\n",
    "plt.title('% Tiros efectivos', fontsize=16)\n",
    "\n",
    "\n",
    "plt.subplot(323)\n",
    "plt.scatter(y=datos['BARTHAG'], x=datos['ORB'],alpha=0.5, edgecolor='k')\n",
    "plt.yticks(fontsize=12)\n",
    "plt.ylabel('Prob Ganar', fontsize=12)\n",
    "plt.title('% rebote ofensivo', fontsize=16)\n",
    "\n",
    "\n",
    "# Partidos ganados\n",
    "plt.subplot(324)\n",
    "plt.scatter(y=datos['BARTHAG'], x=datos['TOR'],alpha=0.5, edgecolor='k')\n",
    "plt.ylabel('Prob Ganar', fontsize=12)\n",
    "plt.yticks(fontsize=12)\n",
    "plt.title('% rotación', fontsize=16)\n",
    "\n",
    "\n",
    "plt.subplot(325)\n",
    "plt.scatter(y=datos['BARTHAG'], x=datos['2P_O'],alpha=0.5, edgecolor='k')\n",
    "plt.ylabel('Prob ganar', fontsize=12)\n",
    "plt.yticks(fontsize=12)\n",
    "plt.title('% tiros de 2 puntos hechos', fontsize=16)\n",
    "\n",
    "\n",
    "plt.subplot(326)\n",
    "plt.scatter(y=datos['BARTHAG'], x=datos['ADJ_T'],alpha=0.5, edgecolor='k')\n",
    "plt.ylabel('Prob ganar', fontsize=12)\n",
    "plt.yticks(fontsize=12)\n",
    "plt.title('Posesión del balón', fontsize=16)\n",
    "\n",
    "\n",
    "plt.show()"
   ]
  },
  {
   "cell_type": "markdown",
   "metadata": {},
   "source": [
    "Inspeccionemos las correlaciones existentes entre las variables numéricas"
   ]
  },
  {
   "cell_type": "code",
   "execution_count": null,
   "metadata": {},
   "outputs": [],
   "source": [
    "km_data = datos.drop(['TEAM','CONF','POSTSEASON','SEED'],axis=1)"
   ]
  },
  {
   "cell_type": "code",
   "execution_count": null,
   "metadata": {},
   "outputs": [],
   "source": [
    "corr = km_data.corr()\n",
    "corr.style.background_gradient(cmap='coolwarm').set_precision(2)"
   ]
  },
  {
   "cell_type": "markdown",
   "metadata": {},
   "source": [
    "## Agrupamiento "
   ]
  },
  {
   "cell_type": "markdown",
   "metadata": {},
   "source": [
    "A partir del análisis exploratorio, escogemos algunas variables que parecen tener una mayor variabilidad y nos permitirán identificar tipos de equipos"
   ]
  },
  {
   "cell_type": "code",
   "execution_count": null,
   "metadata": {},
   "outputs": [],
   "source": [
    "km = km_data[['W','ADJOE','BARTHAG','EFG_O','2P_O','WAB']]\n",
    "km.head()"
   ]
  },
  {
   "cell_type": "markdown",
   "metadata": {},
   "source": [
    "Al igual que en ACP es importante estandarizar las variables que vamos a utilizar. La función **StandardScaler** nos permite hacerlo en una sola linea"
   ]
  },
  {
   "cell_type": "code",
   "execution_count": null,
   "metadata": {},
   "outputs": [],
   "source": [
    "scaler = StandardScaler()\n",
    "km_scale = scaler.fit_transform(km)\n",
    "km_scale[0:5]"
   ]
  },
  {
   "cell_type": "markdown",
   "metadata": {},
   "source": [
    "## Agrupamiento k-means"
   ]
  },
  {
   "cell_type": "markdown",
   "metadata": {},
   "source": [
    "Utilizaremos la funcion KMeans de la librería sklearn https://scikit-learn.org/stable/modules/generated/sklearn.cluster.KMeans.html\n",
    "\n",
    "Los principales argumentos que debemos dar a la función son:\n",
    "- n_clusters, al ser un método particional debemos definir el número de clusters\n",
    "- init, indica el método con el cuál vamos a escoger los puntos de inicio de los centroides \n",
    "- random_state, definir una semilla para poder reproducir \n",
    "\n",
    "\n",
    "Primero definimos los parámetros del algoritmo"
   ]
  },
  {
   "cell_type": "code",
   "execution_count": null,
   "metadata": {},
   "outputs": [],
   "source": [
    "kmeans = KMeans(\n",
    "        init=\"random\",\n",
    "        n_clusters=3,\n",
    "        random_state=42\n",
    "    )"
   ]
  },
  {
   "cell_type": "markdown",
   "metadata": {},
   "source": [
    "Ajustamos el algoritmo a los datos"
   ]
  },
  {
   "cell_type": "code",
   "execution_count": null,
   "metadata": {
    "scrolled": true
   },
   "outputs": [],
   "source": [
    "kmeans.fit(km_scale)"
   ]
  },
  {
   "cell_type": "markdown",
   "metadata": {},
   "source": [
    "Los atributos generados por el algoritmo son:\n",
    "\n",
    "- cluster_centers_, los centroides de los clusters encontrados \n",
    "- labels_, la asignación de cluster para cada punto\n",
    "- inertia_, suma de distancias cuadradas de cada punto a su centroide-Total Suma de cuadrados dentro  (comparar métodos)"
   ]
  },
  {
   "cell_type": "code",
   "execution_count": null,
   "metadata": {
    "scrolled": false
   },
   "outputs": [],
   "source": [
    "print('La suma de distancias cuadradas de cada punto a su centroide en esta solución es de')\n",
    "print(kmeans.inertia_)\n",
    "print('Pero este número por si solo no es muy explicativo')"
   ]
  },
  {
   "cell_type": "markdown",
   "metadata": {},
   "source": [
    "**Centroides**\n",
    "\n",
    "Tener en cuenta que las variables están estandarizadas, no necesariamente estos valores tengan un significado explícito pero sus magnitudes y sentidos si nos pueden decir mucho sobre las variables originales"
   ]
  },
  {
   "cell_type": "code",
   "execution_count": null,
   "metadata": {
    "scrolled": true
   },
   "outputs": [],
   "source": [
    "centroides = pd.DataFrame(kmeans.cluster_centers_)\n",
    "centroides.columns = ['W','ADJOE','BARTHAG','EFG_O','2P_O','WAB']\n",
    "centroides"
   ]
  },
  {
   "cell_type": "markdown",
   "metadata": {},
   "source": [
    "Podríamos llegar a decir que los equipos del cluster 2 son quienes más han ganado partidos, mientras que los del cluster 0 son los del menor número de partidos ganados.\n",
    "\n",
    "Revisemos cómo podemos relacionar el cluster con las variables originales"
   ]
  },
  {
   "cell_type": "markdown",
   "metadata": {},
   "source": [
    "Guardamos la asignación del cluster en una nueva columna del data set"
   ]
  },
  {
   "cell_type": "code",
   "execution_count": null,
   "metadata": {},
   "outputs": [],
   "source": [
    "datos['cluster'] = kmeans.labels_"
   ]
  },
  {
   "cell_type": "markdown",
   "metadata": {},
   "source": [
    "Y podemos visualizar cómo se comportan los clusters con respecto a las variables originales"
   ]
  },
  {
   "cell_type": "code",
   "execution_count": null,
   "metadata": {},
   "outputs": [],
   "source": [
    "plt.figure(figsize=(12,10))\n",
    "\n",
    "sns.boxplot(y=datos['W'],x=datos['cluster'])\n",
    "plt.yticks(fontsize=12)\n",
    "plt.title('Partidos ganados según cluster', fontsize=16)"
   ]
  },
  {
   "cell_type": "code",
   "execution_count": null,
   "metadata": {
    "scrolled": false
   },
   "outputs": [],
   "source": [
    "datos.groupby('cluster')['W','ADJOE','BARTHAG','EFG_O','2P_O','WAB'].mean()"
   ]
  },
  {
   "cell_type": "code",
   "execution_count": null,
   "metadata": {},
   "outputs": [],
   "source": [
    "# Relacion con probabilidad de ganar por cluster\n",
    "plt.figure(figsize=(12,10))\n",
    "\n",
    "plt.subplot(321)\n",
    "plt.scatter(y=datos['BARTHAG'], x=datos['W'],c=datos['cluster'],alpha=0.5, edgecolor='k')\n",
    "plt.yticks(fontsize=12)\n",
    "plt.ylabel('Prob Ganar', fontsize=12)\n",
    "plt.title('Partidos ganados', fontsize=16)\n",
    "\n",
    "plt.subplot(322)\n",
    "plt.scatter(y=datos['BARTHAG'], x=datos['ADJOE'],c=datos['cluster'],alpha=0.5, edgecolor='k')\n",
    "plt.yticks(fontsize=12)\n",
    "plt.ylabel('Prob Ganar', fontsize=12)\n",
    "plt.title('Eficiencia defensiva', fontsize=16)\n",
    "\n",
    "\n",
    "plt.subplot(323)\n",
    "plt.scatter(y=datos['BARTHAG'], x=datos['EFG_O'],c=datos['cluster'],alpha=0.5, edgecolor='k')\n",
    "plt.yticks(fontsize=12)\n",
    "plt.ylabel('Prob Ganar', fontsize=12)\n",
    "plt.title('Lanzamientos efectivos', fontsize=16)\n",
    "\n",
    "\n",
    "# Partidos ganados\n",
    "plt.subplot(324)\n",
    "plt.scatter(y=datos['BARTHAG'], x=datos['2P_O'],c=datos['cluster'],alpha=0.5, edgecolor='k')\n",
    "plt.ylabel('Prob Ganar', fontsize=12)\n",
    "plt.yticks(fontsize=12)\n",
    "plt.title('Porcentaje de tiros de 2 puntos hechos', fontsize=16)\n",
    "\n",
    "\n",
    "plt.subplot(325)\n",
    "plt.scatter(y=datos['BARTHAG'], x=datos['WAB'],c=datos['cluster'],alpha=0.5, edgecolor='k')\n",
    "plt.ylabel('Prob ganar', fontsize=12)\n",
    "plt.yticks(fontsize=12)\n",
    "plt.title('Triunfos por encima de la burbuja', fontsize=16)\n",
    "\n",
    "\n",
    "\n",
    "\n",
    "plt.show()"
   ]
  },
  {
   "cell_type": "markdown",
   "metadata": {},
   "source": [
    "## Agrupamiento jerárquico"
   ]
  },
  {
   "cell_type": "markdown",
   "metadata": {},
   "source": [
    "En el agrupamiento jerárquico primero podemos inspeccionar cuántos clusters debería considerar el algoritmo usando el dendograma. Para hacer esto utilizaremos las funciones **linkage** (https://docs.scipy.org/doc/scipy/reference/generated/scipy.cluster.hierarchy.linkage.html) y **dendogram** (https://docs.scipy.org/doc/scipy/reference/generated/scipy.cluster.hierarchy.dendrogram.html) de la librería **scipy**"
   ]
  },
  {
   "cell_type": "markdown",
   "metadata": {},
   "source": [
    "Para el linkage utilizaremos el método ward que minimiza la varianza dentro de los clusters"
   ]
  },
  {
   "cell_type": "code",
   "execution_count": null,
   "metadata": {},
   "outputs": [],
   "source": [
    "plt.figure(figsize=(10,8))\n",
    "dendrogram = sch.dendrogram(sch.linkage(km_scale, method  = \"ward\"))\n",
    "plt.title('Dendrogram')\n",
    "plt.xlabel('Equipos')\n",
    "plt.ylabel('Distancias euclideanas')\n",
    "plt.show()"
   ]
  },
  {
   "cell_type": "markdown",
   "metadata": {},
   "source": [
    "El gráfico nos muestra las ramificaciones de posibles clusters y nos puede indicar un buen número de clusters. Para continuar con la lógica del k-means anterior utilizaremos el agrupamiento de 3 clusters. Para hacer el ajuste del algoritmo utilizaremos la función **AgglomerativeClustering** de sklearn (https://scikit-learn.org/stable/modules/generated/sklearn.cluster.AgglomerativeClustering.html)"
   ]
  },
  {
   "cell_type": "code",
   "execution_count": null,
   "metadata": {},
   "outputs": [],
   "source": [
    "jer = AgglomerativeClustering(n_clusters = 3, affinity = 'euclidean', linkage ='ward')"
   ]
  },
  {
   "cell_type": "markdown",
   "metadata": {},
   "source": [
    "Guardemos el cluster asignado a cada observación"
   ]
  },
  {
   "cell_type": "code",
   "execution_count": null,
   "metadata": {},
   "outputs": [],
   "source": [
    "datos['cluster_j']= jer.fit_predict(km_scale)"
   ]
  },
  {
   "cell_type": "markdown",
   "metadata": {},
   "source": [
    "Comparemos los resultados del k-means con el jerárquico. \n",
    "\n",
    "\n",
    "**Nota:** Los algoritmos no necesariamente van a dar las mismas etiquetas a cada observación, esto incluso si se corre el mismo k-means varias veces los resultados pueden ser diferentes. Lo que queremos es analizar que tan similar es la asignación de clusters"
   ]
  },
  {
   "cell_type": "code",
   "execution_count": null,
   "metadata": {
    "scrolled": false
   },
   "outputs": [],
   "source": [
    "pd.crosstab(datos['cluster'],datos['cluster_j'])"
   ]
  },
  {
   "cell_type": "markdown",
   "metadata": {},
   "source": [
    "Podríamos inferir que el cluster 0 en el k-means tiene una composición similar para el cluster 2 en el jerárquico, y viceversa. Revisemos cómo se comportan los clusters con respecto a las variables observadas "
   ]
  },
  {
   "cell_type": "code",
   "execution_count": null,
   "metadata": {},
   "outputs": [],
   "source": [
    "plt.figure(figsize=(12,10))\n",
    "sns.boxplot(y=datos['W'],x=datos['cluster_j'])\n",
    "plt.yticks(fontsize=12)\n",
    "plt.title('Partidos ganados según cluster jerárquico', fontsize=16)"
   ]
  },
  {
   "cell_type": "code",
   "execution_count": null,
   "metadata": {},
   "outputs": [],
   "source": [
    "datos.groupby('cluster_j')['W','ADJOE','BARTHAG','EFG_O','2P_O','WAB'].mean()"
   ]
  },
  {
   "cell_type": "code",
   "execution_count": null,
   "metadata": {
    "scrolled": true
   },
   "outputs": [],
   "source": [
    "plt.figure(figsize=(12,10))\n",
    "\n",
    "plt.subplot(321)\n",
    "plt.scatter(y=datos['BARTHAG'], x=datos['W'],c=datos['cluster_j'],alpha=0.5, edgecolor='k')\n",
    "plt.yticks(fontsize=12)\n",
    "plt.ylabel('Prob Ganar', fontsize=12)\n",
    "plt.title('Partidos ganados', fontsize=16)\n",
    "\n",
    "plt.subplot(322)\n",
    "plt.scatter(y=datos['BARTHAG'], x=datos['ADJOE'],c=datos['cluster_j'],alpha=0.5, edgecolor='k')\n",
    "plt.yticks(fontsize=12)\n",
    "plt.ylabel('Prob Ganar', fontsize=12)\n",
    "plt.title('Eficiencia defensiva', fontsize=16)\n",
    "\n",
    "\n",
    "plt.subplot(323)\n",
    "plt.scatter(y=datos['BARTHAG'], x=datos['EFG_O'],c=datos['cluster_j'],alpha=0.5, edgecolor='k')\n",
    "plt.yticks(fontsize=12)\n",
    "plt.ylabel('Prob Ganar', fontsize=12)\n",
    "plt.title('Lanzamientos efectivos', fontsize=16)\n",
    "\n",
    "\n",
    "# Partidos ganados\n",
    "plt.subplot(324)\n",
    "plt.scatter(y=datos['BARTHAG'], x=datos['2P_O'],c=datos['cluster_j'],alpha=0.5, edgecolor='k')\n",
    "plt.ylabel('Prob Ganar', fontsize=12)\n",
    "plt.yticks(fontsize=12)\n",
    "plt.title('Porcentaje de tiros de 2 puntos hechos', fontsize=16)\n",
    "\n",
    "\n",
    "plt.subplot(325)\n",
    "plt.scatter(y=datos['BARTHAG'], x=datos['WAB'],c=datos['cluster_j'],alpha=0.5, edgecolor='k')\n",
    "plt.ylabel('Prob ganar', fontsize=12)\n",
    "plt.yticks(fontsize=12)\n",
    "plt.title('Triunfos por encima de la burbuja', fontsize=16)\n",
    "plt.show()"
   ]
  },
  {
   "cell_type": "markdown",
   "metadata": {},
   "source": [
    "## DBSCAN"
   ]
  },
  {
   "cell_type": "markdown",
   "metadata": {},
   "source": [
    "Ajustamos también un DBSCAN a nuestros datos"
   ]
  },
  {
   "cell_type": "code",
   "execution_count": null,
   "metadata": {},
   "outputs": [],
   "source": [
    "m = DBSCAN(eps=0.70, min_samples=10)\n",
    "m.fit(km_scale)"
   ]
  },
  {
   "cell_type": "code",
   "execution_count": null,
   "metadata": {},
   "outputs": [],
   "source": [
    "datos['cluster_db'] = m.labels_"
   ]
  },
  {
   "cell_type": "code",
   "execution_count": null,
   "metadata": {
    "scrolled": true
   },
   "outputs": [],
   "source": [
    "datos.cluster_db.value_counts()"
   ]
  },
  {
   "cell_type": "code",
   "execution_count": null,
   "metadata": {
    "scrolled": true
   },
   "outputs": [],
   "source": [
    "plt.scatter(datos['BARTHAG'], datos['W'], c=datos['cluster_db'])"
   ]
  },
  {
   "cell_type": "markdown",
   "metadata": {},
   "source": [
    "En este caso particular DBSCAN no parece ser una buena solución. Sólo identifica 4 clusters pero la gran mayoría de puntos quedan identificados como noise points"
   ]
  },
  {
   "cell_type": "markdown",
   "metadata": {},
   "source": [
    "## Ejercicios\n",
    "\n",
    "1. Analizando los clusters formados por el k-means ¿Qué nombres le podríamos asignar a cada uno de los clusters que identifiquen sus comportamientos?\n",
    "2. ¿Podríamos utilizar estos nombres para los resultados del jerárquico?\n",
    "3. En el dendograma del agrupamiento jerárquico vimos que 5 clusters podría ser una solución. Ajustemos tanto para k-means como para el jerárquico nuevos agrupamientos utilizando 5 clusters. ¿Qué podemos concluir? ¿Cuál sería la mejor solución?"
   ]
  },
  {
   "cell_type": "markdown",
   "metadata": {},
   "source": [
    "## Conclusiones\n",
    "\n",
    "- Efectivamente se logran diferenciar tres grandes segmentos en los equipos caracterizados por su desempeño\n",
    "- Se pueden identificar patrones en las métricas que permitan definir umbrales mínimos para los indicadores de rendimiento\n",
    "- Se requiere de mayor información para escoger el número de clusters (más adelante lo veremos)"
   ]
  }
 ],
 "metadata": {
  "kernelspec": {
   "display_name": "Python 3",
   "language": "python",
   "name": "python3"
  },
  "language_info": {
   "codemirror_mode": {
    "name": "ipython",
    "version": 3
   },
   "file_extension": ".py",
   "mimetype": "text/x-python",
   "name": "python",
   "nbconvert_exporter": "python",
   "pygments_lexer": "ipython3",
   "version": "3.7.3"
  }
 },
 "nbformat": 4,
 "nbformat_minor": 2
}
