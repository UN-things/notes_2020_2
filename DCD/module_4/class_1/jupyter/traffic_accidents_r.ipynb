{
 "cells": [
  {
   "cell_type": "markdown",
   "metadata": {},
   "source": [
    "# Accidentes de tránsito en New York\n",
    "\n",
    "En este caso práctico haremos la exploración de un data set aplicando algunas de las etapas de los procesos de ciencia de datos. Haremos transformación y limpiea de los datos. Entenderemos cómo extraer valor de los datos desde una perspectiva exploratoria\n",
    "\n",
    "El caso estará estructurado así\n",
    "\n",
    "- Explorar la estructura de los datos\n",
    "- Hacer un análisis exploratorio y descriptivo de las principales variables\n",
    "- Sacar conclusiones e hipótesis de análisis a partir de los hallazgos"
   ]
  },
  {
   "cell_type": "markdown",
   "metadata": {},
   "source": [
    "## Lirerías utilizadas durante la clase\n",
    "\n",
    "- [dplyr](https://github.com/tidyverse/dplyr): Una herramienta rápida y consistente para trabajar con marcos de datos como objetos, tanto en memoria como sin memoria.\n",
    "- [ggplot2](https://github.com/tidyverse/ggplot2): Es un sistema para crear gráficos de forma declarativa, basado en The Grammar of Graphics.\n",
    "- [reshape](https://github.com/cran/reshape2): Paquete de remodelación de datos."
   ]
  },
  {
   "cell_type": "code",
   "execution_count": 1,
   "metadata": {},
   "outputs": [
    {
     "name": "stderr",
     "output_type": "stream",
     "text": [
      "\n",
      "Attaching package: ‘dplyr’\n",
      "\n",
      "\n",
      "The following objects are masked from ‘package:stats’:\n",
      "\n",
      "    filter, lag\n",
      "\n",
      "\n",
      "The following objects are masked from ‘package:base’:\n",
      "\n",
      "    intersect, setdiff, setequal, union\n",
      "\n",
      "\n",
      "\n",
      "Attaching package: ‘reshape’\n",
      "\n",
      "\n",
      "The following object is masked from ‘package:dplyr’:\n",
      "\n",
      "    rename\n",
      "\n",
      "\n"
     ]
    }
   ],
   "source": [
    "library(dplyr)\n",
    "library(ggplot2)\n",
    "library(reshape)"
   ]
  },
  {
   "cell_type": "code",
   "execution_count": 2,
   "metadata": {},
   "outputs": [],
   "source": [
    "# install.packages(\"repr\")\n",
    "library(\"repr\")\n",
    "options(repr.plot.width = 8, repr.plot.height=6)"
   ]
  },
  {
   "cell_type": "markdown",
   "metadata": {},
   "source": [
    "**Contexto:** New York ha tenido un incremento en el número de accidentes de tránsito constante y se requiere analizar datos de estos accidentes del periodo Enero 2018 - Agosto 2019.\n",
    "\n",
    "**Problema de negocio:** Identificar patrones en la data que permita tomar decisiones informadas dirigidas hacia la planeación de políticas públicas de caracter preventivo para diminuir el número y/o gravedad de los accidentes\n",
    "\n",
    "Definimos nuestra ruta de trabajo, dónde tenemos guardados nuestros datos"
   ]
  },
  {
   "cell_type": "code",
   "execution_count": 3,
   "metadata": {},
   "outputs": [],
   "source": [
    "setwd('/root/Documentos/UN/UN_2020_2/DCD/module_4/class_1/jupyter/data')\n",
    "#setwd('C:/Users/Juliana/Desktop/Diplomado/D_2020/Casos/Casos/EDA') "
   ]
  },
  {
   "cell_type": "code",
   "execution_count": 4,
   "metadata": {},
   "outputs": [
    {
     "data": {
      "text/html": [
       "<table>\n",
       "<caption>A data.frame: 6 × 24</caption>\n",
       "<thead>\n",
       "\t<tr><th></th><th scope=col>DATE</th><th scope=col>TIME</th><th scope=col>BOROUGH</th><th scope=col>ZIP.CODE</th><th scope=col>LATITUDE</th><th scope=col>LONGITUDE</th><th scope=col>ON.STREET.NAME</th><th scope=col>NUMBER.OF.PEDESTRIANS.INJURED</th><th scope=col>NUMBER.OF.PEDESTRIANS.KILLED</th><th scope=col>NUMBER.OF.CYCLIST.INJURED</th><th scope=col>⋯</th><th scope=col>CONTRIBUTING.FACTOR.VEHICLE.2</th><th scope=col>CONTRIBUTING.FACTOR.VEHICLE.3</th><th scope=col>CONTRIBUTING.FACTOR.VEHICLE.4</th><th scope=col>CONTRIBUTING.FACTOR.VEHICLE.5</th><th scope=col>COLLISION_ID</th><th scope=col>VEHICLE.TYPE.CODE.1</th><th scope=col>VEHICLE.TYPE.CODE.2</th><th scope=col>VEHICLE.TYPE.CODE.3</th><th scope=col>VEHICLE.TYPE.CODE.4</th><th scope=col>VEHICLE.TYPE.CODE.5</th></tr>\n",
       "\t<tr><th></th><th scope=col>&lt;fct&gt;</th><th scope=col>&lt;fct&gt;</th><th scope=col>&lt;fct&gt;</th><th scope=col>&lt;dbl&gt;</th><th scope=col>&lt;dbl&gt;</th><th scope=col>&lt;dbl&gt;</th><th scope=col>&lt;fct&gt;</th><th scope=col>&lt;int&gt;</th><th scope=col>&lt;int&gt;</th><th scope=col>&lt;int&gt;</th><th scope=col>⋯</th><th scope=col>&lt;fct&gt;</th><th scope=col>&lt;fct&gt;</th><th scope=col>&lt;fct&gt;</th><th scope=col>&lt;fct&gt;</th><th scope=col>&lt;int&gt;</th><th scope=col>&lt;fct&gt;</th><th scope=col>&lt;fct&gt;</th><th scope=col>&lt;fct&gt;</th><th scope=col>&lt;fct&gt;</th><th scope=col>&lt;fct&gt;</th></tr>\n",
       "</thead>\n",
       "<tbody>\n",
       "\t<tr><th scope=row>1</th><td>09/26/2018</td><td>12:12</td><td>BRONX   </td><td>10454</td><td>40.80899</td><td>-73.91132</td><td>                                </td><td>0</td><td>0</td><td>0</td><td>⋯</td><td>           </td><td></td><td></td><td></td><td>3988123</td><td>Sedan</td><td>                                   </td><td></td><td></td><td></td></tr>\n",
       "\t<tr><th scope=row>2</th><td>09/25/2018</td><td>16:30</td><td>BROOKLYN</td><td>11236</td><td>40.63600</td><td>-73.91251</td><td>FLATLANDS AVENUE                </td><td>1</td><td>0</td><td>0</td><td>⋯</td><td>           </td><td></td><td></td><td></td><td>3987962</td><td>Sedan</td><td>                                   </td><td></td><td></td><td></td></tr>\n",
       "\t<tr><th scope=row>3</th><td>08/22/2019</td><td>19:30</td><td>QUEENS  </td><td>11101</td><td>40.75549</td><td>-73.93953</td><td>                                </td><td>0</td><td>0</td><td>0</td><td>⋯</td><td>           </td><td></td><td></td><td></td><td>4193132</td><td>Sedan</td><td>                                   </td><td></td><td></td><td></td></tr>\n",
       "\t<tr><th scope=row>4</th><td>09/23/2018</td><td>13:10</td><td>QUEENS  </td><td>11367</td><td>      NA</td><td>       NA</td><td>MAIN STREET                     </td><td>0</td><td>0</td><td>1</td><td>⋯</td><td>Unspecified</td><td></td><td></td><td></td><td>3985962</td><td>Bike </td><td>Station Wagon/Sport Utility Vehicle</td><td></td><td></td><td></td></tr>\n",
       "\t<tr><th scope=row>5</th><td>08/20/2019</td><td>22:40</td><td>BRONX   </td><td>10468</td><td>40.86834</td><td>-73.90127</td><td>                                </td><td>0</td><td>0</td><td>0</td><td>⋯</td><td>Unspecified</td><td></td><td></td><td></td><td>4192111</td><td>Sedan</td><td>Sedan                              </td><td></td><td></td><td></td></tr>\n",
       "\t<tr><th scope=row>6</th><td>08/20/2019</td><td>7:15 </td><td>QUEENS  </td><td>11354</td><td>      NA</td><td>       NA</td><td>                                </td><td>0</td><td>0</td><td>0</td><td>⋯</td><td>           </td><td></td><td></td><td></td><td>4191802</td><td>Sedan</td><td>                                   </td><td></td><td></td><td></td></tr>\n",
       "</tbody>\n",
       "</table>\n"
      ],
      "text/latex": [
       "A data.frame: 6 × 24\n",
       "\\begin{tabular}{r|lllllllllllllllllllll}\n",
       "  & DATE & TIME & BOROUGH & ZIP.CODE & LATITUDE & LONGITUDE & ON.STREET.NAME & NUMBER.OF.PEDESTRIANS.INJURED & NUMBER.OF.PEDESTRIANS.KILLED & NUMBER.OF.CYCLIST.INJURED & ⋯ & CONTRIBUTING.FACTOR.VEHICLE.2 & CONTRIBUTING.FACTOR.VEHICLE.3 & CONTRIBUTING.FACTOR.VEHICLE.4 & CONTRIBUTING.FACTOR.VEHICLE.5 & COLLISION\\_ID & VEHICLE.TYPE.CODE.1 & VEHICLE.TYPE.CODE.2 & VEHICLE.TYPE.CODE.3 & VEHICLE.TYPE.CODE.4 & VEHICLE.TYPE.CODE.5\\\\\n",
       "  & <fct> & <fct> & <fct> & <dbl> & <dbl> & <dbl> & <fct> & <int> & <int> & <int> & ⋯ & <fct> & <fct> & <fct> & <fct> & <int> & <fct> & <fct> & <fct> & <fct> & <fct>\\\\\n",
       "\\hline\n",
       "\t1 & 09/26/2018 & 12:12 & BRONX    & 10454 & 40.80899 & -73.91132 &                                  & 0 & 0 & 0 & ⋯ &             &  &  &  & 3988123 & Sedan &                                     &  &  & \\\\\n",
       "\t2 & 09/25/2018 & 16:30 & BROOKLYN & 11236 & 40.63600 & -73.91251 & FLATLANDS AVENUE                 & 1 & 0 & 0 & ⋯ &             &  &  &  & 3987962 & Sedan &                                     &  &  & \\\\\n",
       "\t3 & 08/22/2019 & 19:30 & QUEENS   & 11101 & 40.75549 & -73.93953 &                                  & 0 & 0 & 0 & ⋯ &             &  &  &  & 4193132 & Sedan &                                     &  &  & \\\\\n",
       "\t4 & 09/23/2018 & 13:10 & QUEENS   & 11367 &       NA &        NA & MAIN STREET                      & 0 & 0 & 1 & ⋯ & Unspecified &  &  &  & 3985962 & Bike  & Station Wagon/Sport Utility Vehicle &  &  & \\\\\n",
       "\t5 & 08/20/2019 & 22:40 & BRONX    & 10468 & 40.86834 & -73.90127 &                                  & 0 & 0 & 0 & ⋯ & Unspecified &  &  &  & 4192111 & Sedan & Sedan                               &  &  & \\\\\n",
       "\t6 & 08/20/2019 & 7:15  & QUEENS   & 11354 &       NA &        NA &                                  & 0 & 0 & 0 & ⋯ &             &  &  &  & 4191802 & Sedan &                                     &  &  & \\\\\n",
       "\\end{tabular}\n"
      ],
      "text/markdown": [
       "\n",
       "A data.frame: 6 × 24\n",
       "\n",
       "| <!--/--> | DATE &lt;fct&gt; | TIME &lt;fct&gt; | BOROUGH &lt;fct&gt; | ZIP.CODE &lt;dbl&gt; | LATITUDE &lt;dbl&gt; | LONGITUDE &lt;dbl&gt; | ON.STREET.NAME &lt;fct&gt; | NUMBER.OF.PEDESTRIANS.INJURED &lt;int&gt; | NUMBER.OF.PEDESTRIANS.KILLED &lt;int&gt; | NUMBER.OF.CYCLIST.INJURED &lt;int&gt; | ⋯ ⋯ | CONTRIBUTING.FACTOR.VEHICLE.2 &lt;fct&gt; | CONTRIBUTING.FACTOR.VEHICLE.3 &lt;fct&gt; | CONTRIBUTING.FACTOR.VEHICLE.4 &lt;fct&gt; | CONTRIBUTING.FACTOR.VEHICLE.5 &lt;fct&gt; | COLLISION_ID &lt;int&gt; | VEHICLE.TYPE.CODE.1 &lt;fct&gt; | VEHICLE.TYPE.CODE.2 &lt;fct&gt; | VEHICLE.TYPE.CODE.3 &lt;fct&gt; | VEHICLE.TYPE.CODE.4 &lt;fct&gt; | VEHICLE.TYPE.CODE.5 &lt;fct&gt; |\n",
       "|---|---|---|---|---|---|---|---|---|---|---|---|---|---|---|---|---|---|---|---|---|---|\n",
       "| 1 | 09/26/2018 | 12:12 | BRONX    | 10454 | 40.80899 | -73.91132 | <!----> | 0 | 0 | 0 | ⋯ | <!----> | <!----> | <!----> | <!----> | 3988123 | Sedan | <!----> | <!----> | <!----> | <!----> |\n",
       "| 2 | 09/25/2018 | 16:30 | BROOKLYN | 11236 | 40.63600 | -73.91251 | FLATLANDS AVENUE                 | 1 | 0 | 0 | ⋯ | <!----> | <!----> | <!----> | <!----> | 3987962 | Sedan | <!----> | <!----> | <!----> | <!----> |\n",
       "| 3 | 08/22/2019 | 19:30 | QUEENS   | 11101 | 40.75549 | -73.93953 | <!----> | 0 | 0 | 0 | ⋯ | <!----> | <!----> | <!----> | <!----> | 4193132 | Sedan | <!----> | <!----> | <!----> | <!----> |\n",
       "| 4 | 09/23/2018 | 13:10 | QUEENS   | 11367 |       NA |        NA | MAIN STREET                      | 0 | 0 | 1 | ⋯ | Unspecified | <!----> | <!----> | <!----> | 3985962 | Bike  | Station Wagon/Sport Utility Vehicle | <!----> | <!----> | <!----> |\n",
       "| 5 | 08/20/2019 | 22:40 | BRONX    | 10468 | 40.86834 | -73.90127 | <!----> | 0 | 0 | 0 | ⋯ | Unspecified | <!----> | <!----> | <!----> | 4192111 | Sedan | Sedan                               | <!----> | <!----> | <!----> |\n",
       "| 6 | 08/20/2019 | 7:15  | QUEENS   | 11354 |       NA |        NA | <!----> | 0 | 0 | 0 | ⋯ | <!----> | <!----> | <!----> | <!----> | 4191802 | Sedan | <!----> | <!----> | <!----> | <!----> |\n",
       "\n"
      ],
      "text/plain": [
       "  DATE       TIME  BOROUGH  ZIP.CODE LATITUDE LONGITUDE\n",
       "1 09/26/2018 12:12 BRONX    10454    40.80899 -73.91132\n",
       "2 09/25/2018 16:30 BROOKLYN 11236    40.63600 -73.91251\n",
       "3 08/22/2019 19:30 QUEENS   11101    40.75549 -73.93953\n",
       "4 09/23/2018 13:10 QUEENS   11367          NA        NA\n",
       "5 08/20/2019 22:40 BRONX    10468    40.86834 -73.90127\n",
       "6 08/20/2019 7:15  QUEENS   11354          NA        NA\n",
       "  ON.STREET.NAME                   NUMBER.OF.PEDESTRIANS.INJURED\n",
       "1                                  0                            \n",
       "2 FLATLANDS AVENUE                 1                            \n",
       "3                                  0                            \n",
       "4 MAIN STREET                      0                            \n",
       "5                                  0                            \n",
       "6                                  0                            \n",
       "  NUMBER.OF.PEDESTRIANS.KILLED NUMBER.OF.CYCLIST.INJURED ⋯\n",
       "1 0                            0                         ⋯\n",
       "2 0                            0                         ⋯\n",
       "3 0                            0                         ⋯\n",
       "4 0                            1                         ⋯\n",
       "5 0                            0                         ⋯\n",
       "6 0                            0                         ⋯\n",
       "  CONTRIBUTING.FACTOR.VEHICLE.2 CONTRIBUTING.FACTOR.VEHICLE.3\n",
       "1                                                            \n",
       "2                                                            \n",
       "3                                                            \n",
       "4 Unspecified                                                \n",
       "5 Unspecified                                                \n",
       "6                                                            \n",
       "  CONTRIBUTING.FACTOR.VEHICLE.4 CONTRIBUTING.FACTOR.VEHICLE.5 COLLISION_ID\n",
       "1                                                             3988123     \n",
       "2                                                             3987962     \n",
       "3                                                             4193132     \n",
       "4                                                             3985962     \n",
       "5                                                             4192111     \n",
       "6                                                             4191802     \n",
       "  VEHICLE.TYPE.CODE.1 VEHICLE.TYPE.CODE.2                 VEHICLE.TYPE.CODE.3\n",
       "1 Sedan                                                                      \n",
       "2 Sedan                                                                      \n",
       "3 Sedan                                                                      \n",
       "4 Bike                Station Wagon/Sport Utility Vehicle                    \n",
       "5 Sedan               Sedan                                                  \n",
       "6 Sedan                                                                      \n",
       "  VEHICLE.TYPE.CODE.4 VEHICLE.TYPE.CODE.5\n",
       "1                                        \n",
       "2                                        \n",
       "3                                        \n",
       "4                                        \n",
       "5                                        \n",
       "6                                        "
      ]
     },
     "metadata": {},
     "output_type": "display_data"
    }
   ],
   "source": [
    "accidentes <- read.csv('accidents.csv',header=T,sep=';')\n",
    "head(accidentes)"
   ]
  },
  {
   "cell_type": "markdown",
   "metadata": {},
   "source": [
    "Se tienen las variables\n",
    "\n",
    "- **BOROUGH:** Vecindario donde ocurrió el accidente\n",
    "- **COLLISION_ID:** ID del accidente\n",
    "- **CONTRIBUTING FACTOR VEHICLE (1, 2, 3, 4, 5):** Razones del accidente\n",
    "- **CROSS STREET NAME:** La calle cruzada más cercana en la que pasó el accidente\n",
    "- **DATE:** Fecha del accidente\n",
    "- **TIME:** Hora del accidente\n",
    "- **LATITUDE:** Latitud del accidente\n",
    "- **LONGITUDE:** Longitud del accidente\n",
    "- **NUMBER OF (CYCLISTS, MOTORISTS, PEDESTRIANS) INJURED:** Número de heridos de cada tipo\n",
    "- **NUMBER OF (CYCLISTS, MOTORISTS, PEDESTRIANS) KILLED:** Número de muertos de cada tipo\n",
    "- **ON STREET NAME:** Calle de accidente\n",
    "- **VEHICLE TYPE CODE (1, 2, 3, 4, 5):** Tipo de vehículo involucrado en el accidente\n",
    "- **ZIP CODE:** Código zip del accidente"
   ]
  },
  {
   "cell_type": "code",
   "execution_count": 5,
   "metadata": {},
   "outputs": [
    {
     "name": "stdout",
     "output_type": "stream",
     "text": [
      "[1] 238522\n"
     ]
    }
   ],
   "source": [
    "print(nrow(accidentes))"
   ]
  },
  {
   "cell_type": "code",
   "execution_count": 6,
   "metadata": {},
   "outputs": [
    {
     "name": "stdout",
     "output_type": "stream",
     "text": [
      "[1] 24\n"
     ]
    }
   ],
   "source": [
    "print(ncol(accidentes))"
   ]
  },
  {
   "cell_type": "markdown",
   "metadata": {},
   "source": [
    "**¿Han incrementado el número de accidentes en el periodo de observación?**\n",
    "\n",
    "Para hacer éste análisis primero debemos cambiar el formato de la columna de la fecha para manejarla apropiadamente."
   ]
  },
  {
   "cell_type": "code",
   "execution_count": 7,
   "metadata": {},
   "outputs": [],
   "source": [
    "accidentes$DATE <-as.Date(accidentes$DATE,'%m/%d/%Y')"
   ]
  },
  {
   "cell_type": "markdown",
   "metadata": {},
   "source": [
    "Con esta transformación podemos extraer el mes de la fecha y hacer un análisis por meses. ¿Qué podemos concluir del número de accidentes por mes?"
   ]
  },
  {
   "cell_type": "code",
   "execution_count": 8,
   "metadata": {},
   "outputs": [
    {
     "data": {
      "image/png": "[encoded data removed]",
      "text/plain": [
       "plot without title"
      ]
     },
     "metadata": {
      "image/png": {
       "height": 360,
       "width": 480
      }
     },
     "output_type": "display_data"
    }
   ],
   "source": [
    "accidentes$m_y <- strftime(accidentes$DATE,'%y-%m')\n",
    "accidentes_mes <- as.data.frame(accidentes %>% count(m_y))\n",
    "# accidentes_mes = frame con 2 columnas:\n",
    "# m_y: año y mes\n",
    "# n: número de accidentes en ese mes\n",
    "ggplot(accidentes_mes, aes(x=m_y, y=n,group=1)) +\n",
    "  geom_line()+xlab(\"Mes\")+ylab(\"Accidentes\")"
   ]
  },
  {
   "cell_type": "markdown",
   "metadata": {},
   "source": [
    "**¿Existen patrones horarios en los accidentes?**"
   ]
  },
  {
   "cell_type": "code",
   "execution_count": 9,
   "metadata": {},
   "outputs": [],
   "source": [
    "accidentes$TIME <-strptime(accidentes$TIME,'%H:%M')"
   ]
  },
  {
   "cell_type": "markdown",
   "metadata": {},
   "source": [
    "Al igual que la fecha podemos transformar el formato de la hora y crear una variable que contenga únicamente la hora del accidente"
   ]
  },
  {
   "cell_type": "code",
   "execution_count": 10,
   "metadata": {},
   "outputs": [
    {
     "data": {
      "image/png": "[encoded data removed]",
      "text/plain": [
       "plot without title"
      ]
     },
     "metadata": {
      "image/png": {
       "height": 360,
       "width": 480
      }
     },
     "output_type": "display_data"
    }
   ],
   "source": [
    "# Nueva columna HORA que contiene la hora del accidente\n",
    "accidentes$HORA <- strftime(accidentes$TIME,'%H')\n",
    "\n",
    "accidentes_hora <- as.data.frame(accidentes %>% count(HORA))\n",
    "# accidentes_hora = frame con 2 columnas:\n",
    "# HORA: año y mes\n",
    "# n: número de accidentes en ese mes\n",
    "ggplot(accidentes_hora, aes(x=HORA, y=n,group=1)) +\n",
    "  geom_bar(stat=\"identity\")+xlab(\"Hora\")+ylab(\"Accidentes\")"
   ]
  },
  {
   "cell_type": "markdown",
   "metadata": {},
   "source": [
    "**¿Existen patrones en los accidentes según el día de la semana?**"
   ]
  },
  {
   "cell_type": "code",
   "execution_count": 11,
   "metadata": {
    "scrolled": false
   },
   "outputs": [
    {
     "data": {
      "image/png": "[encoded data removed]",
      "text/plain": [
       "plot without title"
      ]
     },
     "metadata": {
      "image/png": {
       "height": 360,
       "width": 480
      }
     },
     "output_type": "display_data"
    }
   ],
   "source": [
    "# Nueva columna 'dia' que contiene el nombre del día del accidente\n",
    "accidentes$dia <- weekdays(as.Date(accidentes$DATE,'%m/%d/%Y'))\n",
    "\n",
    "accidentes_dia <- as.data.frame(accidentes %>% count(dia))\n",
    "# accidentes_dia = frame con 2 columnas:\n",
    "# dia: nombre del día del accidente\n",
    "# n: número de accidentes por día\n",
    "\n",
    "# ggplot(accidentes_dia, aes(x=factor(dia,level=c('Monday','Tuesday','Wednesday','Thursday','Friday','Saturday','Sunday')),\n",
    "ggplot(accidentes_dia, aes(x=factor(dia,level=c('lunes','martes','miércoles','jueves','viernes','sábado','domingo')),\n",
    "                           y=n,group=)) +\n",
    "  geom_bar(stat=\"identity\")+xlab(\"Dia\")+ylab(\"Accidentes\")"
   ]
  },
  {
   "cell_type": "markdown",
   "metadata": {},
   "source": [
    "**¿Existen patrones accidentales por vecindario?**"
   ]
  },
  {
   "cell_type": "code",
   "execution_count": 12,
   "metadata": {},
   "outputs": [
    {
     "data": {
      "image/png": "[encoded data removed]",
      "text/plain": [
       "plot without title"
      ]
     },
     "metadata": {
      "image/png": {
       "height": 360,
       "width": 480
      }
     },
     "output_type": "display_data"
    }
   ],
   "source": [
    "vec <- as.data.frame(accidentes %>% count(BOROUGH))\n",
    "# vec = frame con 2 columnas:\n",
    "# BOROUGH: nombre vecindario\n",
    "# n: número de accidentes por vecindario\n",
    "ggplot(vec, aes(x=BOROUGH,y=n,group=1)) +\n",
    "  geom_bar(stat=\"identity\")+xlab(\"Vecindario\")+ylab(\"Accidentes\")"
   ]
  },
  {
   "cell_type": "markdown",
   "metadata": {},
   "source": [
    "**¿Por qué razón deberíamos estandarizxar estos conteos?**\n",
    "\n",
    "Carguemos la información adicional de los vecindarios para poder analizarlos"
   ]
  },
  {
   "cell_type": "code",
   "execution_count": 13,
   "metadata": {},
   "outputs": [
    {
     "data": {
      "text/html": [
       "<table>\n",
       "<caption>A data.frame: 5 × 3</caption>\n",
       "<thead>\n",
       "\t<tr><th scope=col>borough</th><th scope=col>population</th><th scope=col>area</th></tr>\n",
       "\t<tr><th scope=col>&lt;fct&gt;</th><th scope=col>&lt;int&gt;</th><th scope=col>&lt;dbl&gt;</th></tr>\n",
       "</thead>\n",
       "<tbody>\n",
       "\t<tr><td>the bronx    </td><td>1471160</td><td> 42.10</td></tr>\n",
       "\t<tr><td>brooklyn     </td><td>2648771</td><td> 70.82</td></tr>\n",
       "\t<tr><td>manhattan    </td><td>1664727</td><td> 22.83</td></tr>\n",
       "\t<tr><td>queens       </td><td>2358582</td><td>108.53</td></tr>\n",
       "\t<tr><td>staten island</td><td> 479458</td><td> 58.37</td></tr>\n",
       "</tbody>\n",
       "</table>\n"
      ],
      "text/latex": [
       "A data.frame: 5 × 3\n",
       "\\begin{tabular}{lll}\n",
       " borough & population & area\\\\\n",
       " <fct> & <int> & <dbl>\\\\\n",
       "\\hline\n",
       "\t the bronx     & 1471160 &  42.10\\\\\n",
       "\t brooklyn      & 2648771 &  70.82\\\\\n",
       "\t manhattan     & 1664727 &  22.83\\\\\n",
       "\t queens        & 2358582 & 108.53\\\\\n",
       "\t staten island &  479458 &  58.37\\\\\n",
       "\\end{tabular}\n"
      ],
      "text/markdown": [
       "\n",
       "A data.frame: 5 × 3\n",
       "\n",
       "| borough &lt;fct&gt; | population &lt;int&gt; | area &lt;dbl&gt; |\n",
       "|---|---|---|\n",
       "| the bronx     | 1471160 |  42.10 |\n",
       "| brooklyn      | 2648771 |  70.82 |\n",
       "| manhattan     | 1664727 |  22.83 |\n",
       "| queens        | 2358582 | 108.53 |\n",
       "| staten island |  479458 |  58.37 |\n",
       "\n"
      ],
      "text/plain": [
       "  borough       population area  \n",
       "1 the bronx     1471160     42.10\n",
       "2 brooklyn      2648771     70.82\n",
       "3 manhattan     1664727     22.83\n",
       "4 queens        2358582    108.53\n",
       "5 staten island  479458     58.37"
      ]
     },
     "metadata": {},
     "output_type": "display_data"
    }
   ],
   "source": [
    "borough_data <- read.csv('borough_data.csv',header=T)\n",
    "borough_data"
   ]
  },
  {
   "cell_type": "markdown",
   "metadata": {},
   "source": [
    "Para hacer los conteos de accidentes comparables podemos relativizar utilizando el área de los vecindarios. Para esto primero debemos asociar las dos tablas de información\n",
    "\n",
    "El único vecindario que no haría match sería ‘the bronx’ con ‘BRONX’. Adicionalmente, necesitamos transformar los valores en el df a mayúsculas para poder calcular los conteos de accidentes relativos al área del vecindario"
   ]
  },
  {
   "cell_type": "code",
   "execution_count": 14,
   "metadata": {},
   "outputs": [],
   "source": [
    "# transformamos los valores de la columna 'borough' a mayusculas\n",
    "borough_data$borough <- as.character(toupper(borough_data$borough))\n",
    "# renombramos las filas de la columna 'borough' \n",
    "# que tengan el valor 'THE BRONX' como 'BRONX'\n",
    "borough_data$borough[borough_data$borough =='THE BRONX'] <- 'BRONX'"
   ]
  },
  {
   "cell_type": "code",
   "execution_count": 15,
   "metadata": {},
   "outputs": [
    {
     "data": {
      "text/html": [
       "<table>\n",
       "<caption>A data.frame: 5 × 5</caption>\n",
       "<thead>\n",
       "\t<tr><th scope=col>BOROUGH</th><th scope=col>n</th><th scope=col>population</th><th scope=col>area</th><th scope=col>accidentes_por_area</th></tr>\n",
       "\t<tr><th scope=col>&lt;fct&gt;</th><th scope=col>&lt;int&gt;</th><th scope=col>&lt;int&gt;</th><th scope=col>&lt;dbl&gt;</th><th scope=col>&lt;dbl&gt;</th></tr>\n",
       "</thead>\n",
       "<tbody>\n",
       "\t<tr><td>BRONX        </td><td>37709</td><td>1471160</td><td> 42.10</td><td> 895.7007</td></tr>\n",
       "\t<tr><td>BROOKLYN     </td><td>76253</td><td>2648771</td><td> 70.82</td><td>1076.7156</td></tr>\n",
       "\t<tr><td>MANHATTAN    </td><td>48749</td><td>1664727</td><td> 22.83</td><td>2135.3044</td></tr>\n",
       "\t<tr><td>QUEENS       </td><td>67120</td><td>2358582</td><td>108.53</td><td> 618.4465</td></tr>\n",
       "\t<tr><td>STATEN ISLAND</td><td> 8691</td><td> 479458</td><td> 58.37</td><td> 148.8950</td></tr>\n",
       "</tbody>\n",
       "</table>\n"
      ],
      "text/latex": [
       "A data.frame: 5 × 5\n",
       "\\begin{tabular}{lllll}\n",
       " BOROUGH & n & population & area & accidentes\\_por\\_area\\\\\n",
       " <fct> & <int> & <int> & <dbl> & <dbl>\\\\\n",
       "\\hline\n",
       "\t BRONX         & 37709 & 1471160 &  42.10 &  895.7007\\\\\n",
       "\t BROOKLYN      & 76253 & 2648771 &  70.82 & 1076.7156\\\\\n",
       "\t MANHATTAN     & 48749 & 1664727 &  22.83 & 2135.3044\\\\\n",
       "\t QUEENS        & 67120 & 2358582 & 108.53 &  618.4465\\\\\n",
       "\t STATEN ISLAND &  8691 &  479458 &  58.37 &  148.8950\\\\\n",
       "\\end{tabular}\n"
      ],
      "text/markdown": [
       "\n",
       "A data.frame: 5 × 5\n",
       "\n",
       "| BOROUGH &lt;fct&gt; | n &lt;int&gt; | population &lt;int&gt; | area &lt;dbl&gt; | accidentes_por_area &lt;dbl&gt; |\n",
       "|---|---|---|---|---|\n",
       "| BRONX         | 37709 | 1471160 |  42.10 |  895.7007 |\n",
       "| BROOKLYN      | 76253 | 2648771 |  70.82 | 1076.7156 |\n",
       "| MANHATTAN     | 48749 | 1664727 |  22.83 | 2135.3044 |\n",
       "| QUEENS        | 67120 | 2358582 | 108.53 |  618.4465 |\n",
       "| STATEN ISLAND |  8691 |  479458 |  58.37 |  148.8950 |\n",
       "\n"
      ],
      "text/plain": [
       "  BOROUGH       n     population area   accidentes_por_area\n",
       "1 BRONX         37709 1471160     42.10  895.7007          \n",
       "2 BROOKLYN      76253 2648771     70.82 1076.7156          \n",
       "3 MANHATTAN     48749 1664727     22.83 2135.3044          \n",
       "4 QUEENS        67120 2358582    108.53  618.4465          \n",
       "5 STATEN ISLAND  8691  479458     58.37  148.8950          "
      ]
     },
     "metadata": {},
     "output_type": "display_data"
    }
   ],
   "source": [
    "borough_frame = merge(vec,borough_data,by.x='BOROUGH',by.y='borough')\n",
    "borough_frame$accidentes_por_area = borough_frame$n/borough_frame$area\n",
    "borough_frame"
   ]
  },
  {
   "cell_type": "code",
   "execution_count": 16,
   "metadata": {},
   "outputs": [
    {
     "data": {
      "image/png": "[encoded data removed]",
      "text/plain": [
       "plot without title"
      ]
     },
     "metadata": {
      "image/png": {
       "height": 360,
       "width": 480
      }
     },
     "output_type": "display_data"
    }
   ],
   "source": [
    "ggplot(borough_frame, aes(x=BOROUGH,y=accidentes_por_area,group=1)) +\n",
    "  geom_bar(stat=\"identity\")+xlab(\"Vecindario\")+ylab(\"Accidentes por area\")"
   ]
  },
  {
   "cell_type": "markdown",
   "metadata": {},
   "source": [
    "**Ampliemos el análisis de manera bivariada**\n",
    "\n",
    "¿Existen patrones horarios en la accidentalidad por vecindario?"
   ]
  },
  {
   "cell_type": "code",
   "execution_count": 17,
   "metadata": {},
   "outputs": [],
   "source": [
    "accidentes_hora_borough <- as.data.frame(accidentes %>% count(BOROUGH,HORA))"
   ]
  },
  {
   "cell_type": "code",
   "execution_count": 18,
   "metadata": {},
   "outputs": [
    {
     "data": {
      "image/png": "[encoded data removed]",
      "text/plain": [
       "plot without title"
      ]
     },
     "metadata": {
      "image/png": {
       "height": 720,
       "width": 840
      }
     },
     "output_type": "display_data"
    }
   ],
   "source": [
    "options(repr.plot.width = 14, repr.plot.height=12)\n",
    "p <- ggplot(accidentes_hora_borough, aes(HORA, n, colour = factor(BOROUGH))) +\n",
    "  geom_bar(stat=\"identity\")+ylab(\"Accidentes por area\")\n",
    "\n",
    "p + facet_grid(vars(BOROUGH), scales = \"free\")"
   ]
  },
  {
   "cell_type": "markdown",
   "metadata": {},
   "source": [
    "**¿Cuáles son las causas más comunes de los accidentes?**\n",
    "\n",
    "Debemos tener en cuenta las 5 columnas de CONTRIBUTING FACTOR para hacer este análisis"
   ]
  },
  {
   "cell_type": "code",
   "execution_count": 22,
   "metadata": {},
   "outputs": [
    {
     "data": {
      "text/html": [
       "<table>\n",
       "<caption>A data.frame: 6 × 3</caption>\n",
       "<thead>\n",
       "\t<tr><th></th><th scope=col>COLLISION_ID</th><th scope=col>variable</th><th scope=col>value</th></tr>\n",
       "\t<tr><th></th><th scope=col>&lt;int&gt;</th><th scope=col>&lt;fct&gt;</th><th scope=col>&lt;fct&gt;</th></tr>\n",
       "</thead>\n",
       "<tbody>\n",
       "\t<tr><th scope=row>1</th><td>3988123</td><td>CONTRIBUTING.FACTOR.VEHICLE.1</td><td>Unspecified                   </td></tr>\n",
       "\t<tr><th scope=row>2</th><td>3987962</td><td>CONTRIBUTING.FACTOR.VEHICLE.1</td><td>Unspecified                   </td></tr>\n",
       "\t<tr><th scope=row>3</th><td>4193132</td><td>CONTRIBUTING.FACTOR.VEHICLE.1</td><td>Unspecified                   </td></tr>\n",
       "\t<tr><th scope=row>4</th><td>3985962</td><td>CONTRIBUTING.FACTOR.VEHICLE.1</td><td>Driver Inattention/Distraction</td></tr>\n",
       "\t<tr><th scope=row>5</th><td>4192111</td><td>CONTRIBUTING.FACTOR.VEHICLE.1</td><td>View Obstructed/Limited       </td></tr>\n",
       "\t<tr><th scope=row>6</th><td>4191802</td><td>CONTRIBUTING.FACTOR.VEHICLE.1</td><td>Driver Inattention/Distraction</td></tr>\n",
       "</tbody>\n",
       "</table>\n"
      ],
      "text/latex": [
       "A data.frame: 6 × 3\n",
       "\\begin{tabular}{r|lll}\n",
       "  & COLLISION\\_ID & variable & value\\\\\n",
       "  & <int> & <fct> & <fct>\\\\\n",
       "\\hline\n",
       "\t1 & 3988123 & CONTRIBUTING.FACTOR.VEHICLE.1 & Unspecified                   \\\\\n",
       "\t2 & 3987962 & CONTRIBUTING.FACTOR.VEHICLE.1 & Unspecified                   \\\\\n",
       "\t3 & 4193132 & CONTRIBUTING.FACTOR.VEHICLE.1 & Unspecified                   \\\\\n",
       "\t4 & 3985962 & CONTRIBUTING.FACTOR.VEHICLE.1 & Driver Inattention/Distraction\\\\\n",
       "\t5 & 4192111 & CONTRIBUTING.FACTOR.VEHICLE.1 & View Obstructed/Limited       \\\\\n",
       "\t6 & 4191802 & CONTRIBUTING.FACTOR.VEHICLE.1 & Driver Inattention/Distraction\\\\\n",
       "\\end{tabular}\n"
      ],
      "text/markdown": [
       "\n",
       "A data.frame: 6 × 3\n",
       "\n",
       "| <!--/--> | COLLISION_ID &lt;int&gt; | variable &lt;fct&gt; | value &lt;fct&gt; |\n",
       "|---|---|---|---|\n",
       "| 1 | 3988123 | CONTRIBUTING.FACTOR.VEHICLE.1 | Unspecified                    |\n",
       "| 2 | 3987962 | CONTRIBUTING.FACTOR.VEHICLE.1 | Unspecified                    |\n",
       "| 3 | 4193132 | CONTRIBUTING.FACTOR.VEHICLE.1 | Unspecified                    |\n",
       "| 4 | 3985962 | CONTRIBUTING.FACTOR.VEHICLE.1 | Driver Inattention/Distraction |\n",
       "| 5 | 4192111 | CONTRIBUTING.FACTOR.VEHICLE.1 | View Obstructed/Limited        |\n",
       "| 6 | 4191802 | CONTRIBUTING.FACTOR.VEHICLE.1 | Driver Inattention/Distraction |\n",
       "\n"
      ],
      "text/plain": [
       "  COLLISION_ID variable                      value                         \n",
       "1 3988123      CONTRIBUTING.FACTOR.VEHICLE.1 Unspecified                   \n",
       "2 3987962      CONTRIBUTING.FACTOR.VEHICLE.1 Unspecified                   \n",
       "3 4193132      CONTRIBUTING.FACTOR.VEHICLE.1 Unspecified                   \n",
       "4 3985962      CONTRIBUTING.FACTOR.VEHICLE.1 Driver Inattention/Distraction\n",
       "5 4192111      CONTRIBUTING.FACTOR.VEHICLE.1 View Obstructed/Limited       \n",
       "6 4191802      CONTRIBUTING.FACTOR.VEHICLE.1 Driver Inattention/Distraction"
      ]
     },
     "metadata": {},
     "output_type": "display_data"
    }
   ],
   "source": [
    "# Factores uno debajo del otro\n",
    "factors_df <- melt(accidentes[,c('CONTRIBUTING.FACTOR.VEHICLE.1','CONTRIBUTING.FACTOR.VEHICLE.2','CONTRIBUTING.FACTOR.VEHICLE.3',\n",
    "                                 'CONTRIBUTING.FACTOR.VEHICLE.4','CONTRIBUTING.FACTOR.VEHICLE.5','COLLISION_ID')],\n",
    "                   id='COLLISION_ID')\n",
    "factors_df <- factors_df[factors_df$value !='',]\n",
    "head(factors_df)"
   ]
  },
  {
   "cell_type": "code",
   "execution_count": 23,
   "metadata": {},
   "outputs": [],
   "source": [
    "no_rep_factors <- as.data.frame(factors_df %>% count(COLLISION_ID,value))"
   ]
  },
  {
   "cell_type": "code",
   "execution_count": 24,
   "metadata": {},
   "outputs": [
    {
     "data": {
      "text/html": [
       "<table>\n",
       "<caption>A data.frame: 6 × 2</caption>\n",
       "<thead>\n",
       "\t<tr><th></th><th scope=col>value</th><th scope=col>n</th></tr>\n",
       "\t<tr><th></th><th scope=col>&lt;fct&gt;</th><th scope=col>&lt;int&gt;</th></tr>\n",
       "</thead>\n",
       "<tbody>\n",
       "\t<tr><th scope=row>51</th><td>Unspecified                   </td><td>190096</td></tr>\n",
       "\t<tr><th scope=row>9</th><td>Driver Inattention/Distraction</td><td> 61752</td></tr>\n",
       "\t<tr><th scope=row>15</th><td>Failure to Yield Right-of-Way </td><td> 19641</td></tr>\n",
       "\t<tr><th scope=row>18</th><td>Following Too Closely         </td><td> 17293</td></tr>\n",
       "\t<tr><th scope=row>5</th><td>Backing Unsafely              </td><td> 14835</td></tr>\n",
       "\t<tr><th scope=row>33</th><td>Passing Too Closely           </td><td> 12631</td></tr>\n",
       "</tbody>\n",
       "</table>\n"
      ],
      "text/latex": [
       "A data.frame: 6 × 2\n",
       "\\begin{tabular}{r|ll}\n",
       "  & value & n\\\\\n",
       "  & <fct> & <int>\\\\\n",
       "\\hline\n",
       "\t51 & Unspecified                    & 190096\\\\\n",
       "\t9 & Driver Inattention/Distraction &  61752\\\\\n",
       "\t15 & Failure to Yield Right-of-Way  &  19641\\\\\n",
       "\t18 & Following Too Closely          &  17293\\\\\n",
       "\t5 & Backing Unsafely               &  14835\\\\\n",
       "\t33 & Passing Too Closely            &  12631\\\\\n",
       "\\end{tabular}\n"
      ],
      "text/markdown": [
       "\n",
       "A data.frame: 6 × 2\n",
       "\n",
       "| <!--/--> | value &lt;fct&gt; | n &lt;int&gt; |\n",
       "|---|---|---|\n",
       "| 51 | Unspecified                    | 190096 |\n",
       "| 9 | Driver Inattention/Distraction |  61752 |\n",
       "| 15 | Failure to Yield Right-of-Way  |  19641 |\n",
       "| 18 | Following Too Closely          |  17293 |\n",
       "| 5 | Backing Unsafely               |  14835 |\n",
       "| 33 | Passing Too Closely            |  12631 |\n",
       "\n"
      ],
      "text/plain": [
       "   value                          n     \n",
       "51 Unspecified                    190096\n",
       "9  Driver Inattention/Distraction  61752\n",
       "15 Failure to Yield Right-of-Way   19641\n",
       "18 Following Too Closely           17293\n",
       "5  Backing Unsafely                14835\n",
       "33 Passing Too Closely             12631"
      ]
     },
     "metadata": {},
     "output_type": "display_data"
    }
   ],
   "source": [
    "final_df <- as.data.frame(no_rep_factors %>% count(value))\n",
    "head(final_df[order(-final_df$n),])"
   ]
  },
  {
   "cell_type": "markdown",
   "metadata": {},
   "source": [
    "Y **¿cuáles son los tipos de vehículos involucrados en mas accidentes?**"
   ]
  },
  {
   "cell_type": "code",
   "execution_count": 25,
   "metadata": {},
   "outputs": [
    {
     "data": {
      "text/html": [
       "<table>\n",
       "<caption>A data.frame: 6 × 2</caption>\n",
       "<thead>\n",
       "\t<tr><th></th><th scope=col>value</th><th scope=col>n</th></tr>\n",
       "\t<tr><th></th><th scope=col>&lt;fct&gt;</th><th scope=col>&lt;int&gt;</th></tr>\n",
       "</thead>\n",
       "<tbody>\n",
       "\t<tr><th scope=row>326</th><td>Sedan                              </td><td>119714</td></tr>\n",
       "\t<tr><th scope=row>353</th><td>Station Wagon/Sport Utility Vehicle</td><td> 99146</td></tr>\n",
       "\t<tr><th scope=row>275</th><td>PASSENGER VEHICLE                  </td><td> 31228</td></tr>\n",
       "\t<tr><th scope=row>345</th><td>SPORT UTILITY / STATION WAGON      </td><td> 25059</td></tr>\n",
       "\t<tr><th scope=row>366</th><td>Taxi                               </td><td> 14584</td></tr>\n",
       "\t<tr><th scope=row>281</th><td>Pick-up Truck                      </td><td> 10864</td></tr>\n",
       "</tbody>\n",
       "</table>\n"
      ],
      "text/latex": [
       "A data.frame: 6 × 2\n",
       "\\begin{tabular}{r|ll}\n",
       "  & value & n\\\\\n",
       "  & <fct> & <int>\\\\\n",
       "\\hline\n",
       "\t326 & Sedan                               & 119714\\\\\n",
       "\t353 & Station Wagon/Sport Utility Vehicle &  99146\\\\\n",
       "\t275 & PASSENGER VEHICLE                   &  31228\\\\\n",
       "\t345 & SPORT UTILITY / STATION WAGON       &  25059\\\\\n",
       "\t366 & Taxi                                &  14584\\\\\n",
       "\t281 & Pick-up Truck                       &  10864\\\\\n",
       "\\end{tabular}\n"
      ],
      "text/markdown": [
       "\n",
       "A data.frame: 6 × 2\n",
       "\n",
       "| <!--/--> | value &lt;fct&gt; | n &lt;int&gt; |\n",
       "|---|---|---|\n",
       "| 326 | Sedan                               | 119714 |\n",
       "| 353 | Station Wagon/Sport Utility Vehicle |  99146 |\n",
       "| 275 | PASSENGER VEHICLE                   |  31228 |\n",
       "| 345 | SPORT UTILITY / STATION WAGON       |  25059 |\n",
       "| 366 | Taxi                                |  14584 |\n",
       "| 281 | Pick-up Truck                       |  10864 |\n",
       "\n"
      ],
      "text/plain": [
       "    value                               n     \n",
       "326 Sedan                               119714\n",
       "353 Station Wagon/Sport Utility Vehicle  99146\n",
       "275 PASSENGER VEHICLE                    31228\n",
       "345 SPORT UTILITY / STATION WAGON        25059\n",
       "366 Taxi                                 14584\n",
       "281 Pick-up Truck                        10864"
      ]
     },
     "metadata": {},
     "output_type": "display_data"
    }
   ],
   "source": [
    "vehicle_df <- melt(accidentes[,c('VEHICLE.TYPE.CODE.1','VEHICLE.TYPE.CODE.2','VEHICLE.TYPE.CODE.3',\n",
    "                                 'VEHICLE.TYPE.CODE.4','VEHICLE.TYPE.CODE.5','COLLISION_ID')],\n",
    "                   id='COLLISION_ID')\n",
    "vehicle_df <- vehicle_df[vehicle_df$value !='',]\n",
    "\n",
    "no_rep_vehicle <- as.data.frame(vehicle_df %>% count(COLLISION_ID,value))\n",
    "\n",
    "\n",
    "final_dfv <- as.data.frame(no_rep_vehicle %>% count(value))\n",
    "head(final_dfv[order(-final_dfv$n),])"
   ]
  },
  {
   "cell_type": "markdown",
   "metadata": {},
   "source": [
    "**¿Pueden existir patrones de factores o vehículos diferencial para vecindarios?**\n",
    "\n",
    "Por factores y vecindarios"
   ]
  },
  {
   "cell_type": "code",
   "execution_count": 26,
   "metadata": {},
   "outputs": [
    {
     "data": {
      "text/html": [
       "<table>\n",
       "<caption>A data.frame: 6 × 3</caption>\n",
       "<thead>\n",
       "\t<tr><th></th><th scope=col>BOROUGH</th><th scope=col>value</th><th scope=col>n</th></tr>\n",
       "\t<tr><th></th><th scope=col>&lt;fct&gt;</th><th scope=col>&lt;fct&gt;</th><th scope=col>&lt;int&gt;</th></tr>\n",
       "</thead>\n",
       "<tbody>\n",
       "\t<tr><th scope=row>105</th><td>BROOKLYN </td><td>Unspecified                   </td><td>63448</td></tr>\n",
       "\t<tr><th scope=row>214</th><td>QUEENS   </td><td>Unspecified                   </td><td>54884</td></tr>\n",
       "\t<tr><th scope=row>160</th><td>MANHATTAN</td><td>Unspecified                   </td><td>35375</td></tr>\n",
       "\t<tr><th scope=row>51</th><td>BRONX    </td><td>Unspecified                   </td><td>29342</td></tr>\n",
       "\t<tr><th scope=row>172</th><td>QUEENS   </td><td>Driver Inattention/Distraction</td><td>19517</td></tr>\n",
       "\t<tr><th scope=row>64</th><td>BROOKLYN </td><td>Driver Inattention/Distraction</td><td>17997</td></tr>\n",
       "</tbody>\n",
       "</table>\n"
      ],
      "text/latex": [
       "A data.frame: 6 × 3\n",
       "\\begin{tabular}{r|lll}\n",
       "  & BOROUGH & value & n\\\\\n",
       "  & <fct> & <fct> & <int>\\\\\n",
       "\\hline\n",
       "\t105 & BROOKLYN  & Unspecified                    & 63448\\\\\n",
       "\t214 & QUEENS    & Unspecified                    & 54884\\\\\n",
       "\t160 & MANHATTAN & Unspecified                    & 35375\\\\\n",
       "\t51 & BRONX     & Unspecified                    & 29342\\\\\n",
       "\t172 & QUEENS    & Driver Inattention/Distraction & 19517\\\\\n",
       "\t64 & BROOKLYN  & Driver Inattention/Distraction & 17997\\\\\n",
       "\\end{tabular}\n"
      ],
      "text/markdown": [
       "\n",
       "A data.frame: 6 × 3\n",
       "\n",
       "| <!--/--> | BOROUGH &lt;fct&gt; | value &lt;fct&gt; | n &lt;int&gt; |\n",
       "|---|---|---|---|\n",
       "| 105 | BROOKLYN  | Unspecified                    | 63448 |\n",
       "| 214 | QUEENS    | Unspecified                    | 54884 |\n",
       "| 160 | MANHATTAN | Unspecified                    | 35375 |\n",
       "| 51 | BRONX     | Unspecified                    | 29342 |\n",
       "| 172 | QUEENS    | Driver Inattention/Distraction | 19517 |\n",
       "| 64 | BROOKLYN  | Driver Inattention/Distraction | 17997 |\n",
       "\n"
      ],
      "text/plain": [
       "    BOROUGH   value                          n    \n",
       "105 BROOKLYN  Unspecified                    63448\n",
       "214 QUEENS    Unspecified                    54884\n",
       "160 MANHATTAN Unspecified                    35375\n",
       "51  BRONX     Unspecified                    29342\n",
       "172 QUEENS    Driver Inattention/Distraction 19517\n",
       "64  BROOKLYN  Driver Inattention/Distraction 17997"
      ]
     },
     "metadata": {},
     "output_type": "display_data"
    }
   ],
   "source": [
    "factors_df <- melt(accidentes[,c('CONTRIBUTING.FACTOR.VEHICLE.1','CONTRIBUTING.FACTOR.VEHICLE.2','CONTRIBUTING.FACTOR.VEHICLE.3',\n",
    "                                 'CONTRIBUTING.FACTOR.VEHICLE.4','CONTRIBUTING.FACTOR.VEHICLE.5','COLLISION_ID','BOROUGH')],\n",
    "                   id=c('COLLISION_ID','BOROUGH'))\n",
    "\n",
    "factors_df <- factors_df[factors_df$value !='',]\n",
    "\n",
    "no_rep_factors <- as.data.frame(factors_df %>% count(COLLISION_ID,BOROUGH,value))\n",
    "\n",
    "\n",
    "final_df <- as.data.frame(no_rep_factors %>% count(BOROUGH,value))\n",
    "\n",
    "head(final_df[order(-final_df$n),])"
   ]
  },
  {
   "cell_type": "markdown",
   "metadata": {},
   "source": [
    "Por vehículo y vecindarios"
   ]
  },
  {
   "cell_type": "code",
   "execution_count": 27,
   "metadata": {},
   "outputs": [
    {
     "data": {
      "text/html": [
       "<table>\n",
       "<caption>A data.frame: 6 × 3</caption>\n",
       "<thead>\n",
       "\t<tr><th></th><th scope=col>BOROUGH</th><th scope=col>value</th><th scope=col>n</th></tr>\n",
       "\t<tr><th></th><th scope=col>&lt;fct&gt;</th><th scope=col>&lt;fct&gt;</th><th scope=col>&lt;int&gt;</th></tr>\n",
       "</thead>\n",
       "<tbody>\n",
       "\t<tr><th scope=row>498</th><td>BROOKLYN </td><td>Sedan                              </td><td>39459</td></tr>\n",
       "\t<tr><th scope=row>1161</th><td>QUEENS   </td><td>Sedan                              </td><td>35103</td></tr>\n",
       "\t<tr><th scope=row>514</th><td>BROOKLYN </td><td>Station Wagon/Sport Utility Vehicle</td><td>32262</td></tr>\n",
       "\t<tr><th scope=row>1176</th><td>QUEENS   </td><td>Station Wagon/Sport Utility Vehicle</td><td>31647</td></tr>\n",
       "\t<tr><th scope=row>846</th><td>MANHATTAN</td><td>Sedan                              </td><td>20727</td></tr>\n",
       "\t<tr><th scope=row>158</th><td>BRONX    </td><td>Sedan                              </td><td>19652</td></tr>\n",
       "</tbody>\n",
       "</table>\n"
      ],
      "text/latex": [
       "A data.frame: 6 × 3\n",
       "\\begin{tabular}{r|lll}\n",
       "  & BOROUGH & value & n\\\\\n",
       "  & <fct> & <fct> & <int>\\\\\n",
       "\\hline\n",
       "\t498 & BROOKLYN  & Sedan                               & 39459\\\\\n",
       "\t1161 & QUEENS    & Sedan                               & 35103\\\\\n",
       "\t514 & BROOKLYN  & Station Wagon/Sport Utility Vehicle & 32262\\\\\n",
       "\t1176 & QUEENS    & Station Wagon/Sport Utility Vehicle & 31647\\\\\n",
       "\t846 & MANHATTAN & Sedan                               & 20727\\\\\n",
       "\t158 & BRONX     & Sedan                               & 19652\\\\\n",
       "\\end{tabular}\n"
      ],
      "text/markdown": [
       "\n",
       "A data.frame: 6 × 3\n",
       "\n",
       "| <!--/--> | BOROUGH &lt;fct&gt; | value &lt;fct&gt; | n &lt;int&gt; |\n",
       "|---|---|---|---|\n",
       "| 498 | BROOKLYN  | Sedan                               | 39459 |\n",
       "| 1161 | QUEENS    | Sedan                               | 35103 |\n",
       "| 514 | BROOKLYN  | Station Wagon/Sport Utility Vehicle | 32262 |\n",
       "| 1176 | QUEENS    | Station Wagon/Sport Utility Vehicle | 31647 |\n",
       "| 846 | MANHATTAN | Sedan                               | 20727 |\n",
       "| 158 | BRONX     | Sedan                               | 19652 |\n",
       "\n"
      ],
      "text/plain": [
       "     BOROUGH   value                               n    \n",
       "498  BROOKLYN  Sedan                               39459\n",
       "1161 QUEENS    Sedan                               35103\n",
       "514  BROOKLYN  Station Wagon/Sport Utility Vehicle 32262\n",
       "1176 QUEENS    Station Wagon/Sport Utility Vehicle 31647\n",
       "846  MANHATTAN Sedan                               20727\n",
       "158  BRONX     Sedan                               19652"
      ]
     },
     "metadata": {},
     "output_type": "display_data"
    }
   ],
   "source": [
    "vehicle_df <- melt(accidentes[,c('VEHICLE.TYPE.CODE.1','VEHICLE.TYPE.CODE.2','VEHICLE.TYPE.CODE.3',\n",
    "                                 'VEHICLE.TYPE.CODE.4','VEHICLE.TYPE.CODE.5','COLLISION_ID','BOROUGH')],\n",
    "                   id=c('COLLISION_ID','BOROUGH'))\n",
    "vehicle_df <- vehicle_df[vehicle_df$value !='',]\n",
    "\n",
    "no_rep_vehicle <- as.data.frame(vehicle_df %>% count(COLLISION_ID,BOROUGH,value))\n",
    "\n",
    "\n",
    "final_dfv <- as.data.frame(no_rep_vehicle %>% count(BOROUGH,value))\n",
    "head(final_dfv[order(-final_dfv$n),])"
   ]
  },
  {
   "cell_type": "markdown",
   "metadata": {},
   "source": [
    "## Ejercicios\n",
    "\n",
    "**1. ¿Qué podemos decir sobre el número de personas heridas y muertes en los accidentes? Exploremos el comportamiento del total de heridos y total de muertes en todos los accidentes. (Crear una nueva columna que sume todos los herido y otra que sume todas las muertes)**"
   ]
  },
  {
   "cell_type": "code",
   "execution_count": 28,
   "metadata": {},
   "outputs": [
    {
     "data": {
      "text/html": [
       "61081"
      ],
      "text/latex": [
       "61081"
      ],
      "text/markdown": [
       "61081"
      ],
      "text/plain": [
       "[1] 61081"
      ]
     },
     "metadata": {},
     "output_type": "display_data"
    },
    {
     "data": {
      "text/html": [
       "221"
      ],
      "text/latex": [
       "221"
      ],
      "text/markdown": [
       "221"
      ],
      "text/plain": [
       "[1] 221"
      ]
     },
     "metadata": {},
     "output_type": "display_data"
    }
   ],
   "source": [
    "accidentes$heridos <- accidentes$NUMBER.OF.PEDESTRIANS.INJURED+accidentes$NUMBER.OF.CYCLIST.INJURED+accidentes$NUMBER.OF.MOTORIST.INJURED\n",
    "accidentes$muertes <- accidentes$NUMBER.OF.PEDESTRIANS.KILLED+accidentes$NUMBER.OF.CYCLIST.KILLED+accidentes$NUMBER.OF.MOTORIST.KILLED\n",
    "\n",
    "sum(accidentes$heridos)\n",
    "sum(accidentes$muertes)"
   ]
  },
  {
   "cell_type": "markdown",
   "metadata": {},
   "source": [
    "**2. Exploremos las muertes y heridas por peatón, ciclista y motociclista. Existen diferencias en estos? En qué casos mueren más personas durante los accidentes? En qué casos resultan más heridos?**"
   ]
  },
  {
   "cell_type": "code",
   "execution_count": 30,
   "metadata": {},
   "outputs": [
    {
     "data": {
      "text/html": [
       "13005"
      ],
      "text/latex": [
       "13005"
      ],
      "text/markdown": [
       "13005"
      ],
      "text/plain": [
       "[1] 13005"
      ]
     },
     "metadata": {},
     "output_type": "display_data"
    },
    {
     "data": {
      "text/html": [
       "5601"
      ],
      "text/latex": [
       "5601"
      ],
      "text/markdown": [
       "5601"
      ],
      "text/plain": [
       "[1] 5601"
      ]
     },
     "metadata": {},
     "output_type": "display_data"
    },
    {
     "data": {
      "text/html": [
       "42475"
      ],
      "text/latex": [
       "42475"
      ],
      "text/markdown": [
       "42475"
      ],
      "text/plain": [
       "[1] 42475"
      ]
     },
     "metadata": {},
     "output_type": "display_data"
    }
   ],
   "source": [
    "sum(accidentes$NUMBER.OF.PEDESTRIANS.INJURED)\n",
    "sum(accidentes$NUMBER.OF.CYCLIST.INJURED)\n",
    "sum(accidentes$NUMBER.OF.MOTORIST.INJURED)"
   ]
  },
  {
   "cell_type": "code",
   "execution_count": 31,
   "metadata": {},
   "outputs": [
    {
     "data": {
      "text/html": [
       "127"
      ],
      "text/latex": [
       "127"
      ],
      "text/markdown": [
       "127"
      ],
      "text/plain": [
       "[1] 127"
      ]
     },
     "metadata": {},
     "output_type": "display_data"
    },
    {
     "data": {
      "text/html": [
       "20"
      ],
      "text/latex": [
       "20"
      ],
      "text/markdown": [
       "20"
      ],
      "text/plain": [
       "[1] 20"
      ]
     },
     "metadata": {},
     "output_type": "display_data"
    },
    {
     "data": {
      "text/html": [
       "74"
      ],
      "text/latex": [
       "74"
      ],
      "text/markdown": [
       "74"
      ],
      "text/plain": [
       "[1] 74"
      ]
     },
     "metadata": {},
     "output_type": "display_data"
    }
   ],
   "source": [
    "sum(accidentes$NUMBER.OF.PEDESTRIANS.KILLED)\n",
    "sum(accidentes$NUMBER.OF.CYCLIST.KILLED)\n",
    "sum(accidentes$NUMBER.OF.MOTORIST.KILLED)"
   ]
  },
  {
   "cell_type": "markdown",
   "metadata": {},
   "source": [
    "**3. ¿ Existen patrones en las muertes y heridos en accidentes por vecindario? En cuál vecindario se presentaron más muertes? En cuál menos?**"
   ]
  },
  {
   "cell_type": "code",
   "execution_count": 32,
   "metadata": {},
   "outputs": [
    {
     "name": "stderr",
     "output_type": "stream",
     "text": [
      "`summarise()` ungrouping output (override with `.groups` argument)\n",
      "\n"
     ]
    },
    {
     "data": {
      "text/html": [
       "<table>\n",
       "<caption>A tibble: 5 × 2</caption>\n",
       "<thead>\n",
       "\t<tr><th scope=col>BOROUGH</th><th scope=col>total_heridos</th></tr>\n",
       "\t<tr><th scope=col>&lt;fct&gt;</th><th scope=col>&lt;int&gt;</th></tr>\n",
       "</thead>\n",
       "<tbody>\n",
       "\t<tr><td>BRONX        </td><td>10538</td></tr>\n",
       "\t<tr><td>BROOKLYN     </td><td>21585</td></tr>\n",
       "\t<tr><td>MANHATTAN    </td><td> 8774</td></tr>\n",
       "\t<tr><td>QUEENS       </td><td>17908</td></tr>\n",
       "\t<tr><td>STATEN ISLAND</td><td> 2276</td></tr>\n",
       "</tbody>\n",
       "</table>\n"
      ],
      "text/latex": [
       "A tibble: 5 × 2\n",
       "\\begin{tabular}{ll}\n",
       " BOROUGH & total\\_heridos\\\\\n",
       " <fct> & <int>\\\\\n",
       "\\hline\n",
       "\t BRONX         & 10538\\\\\n",
       "\t BROOKLYN      & 21585\\\\\n",
       "\t MANHATTAN     &  8774\\\\\n",
       "\t QUEENS        & 17908\\\\\n",
       "\t STATEN ISLAND &  2276\\\\\n",
       "\\end{tabular}\n"
      ],
      "text/markdown": [
       "\n",
       "A tibble: 5 × 2\n",
       "\n",
       "| BOROUGH &lt;fct&gt; | total_heridos &lt;int&gt; |\n",
       "|---|---|\n",
       "| BRONX         | 10538 |\n",
       "| BROOKLYN      | 21585 |\n",
       "| MANHATTAN     |  8774 |\n",
       "| QUEENS        | 17908 |\n",
       "| STATEN ISLAND |  2276 |\n",
       "\n"
      ],
      "text/plain": [
       "  BOROUGH       total_heridos\n",
       "1 BRONX         10538        \n",
       "2 BROOKLYN      21585        \n",
       "3 MANHATTAN      8774        \n",
       "4 QUEENS        17908        \n",
       "5 STATEN ISLAND  2276        "
      ]
     },
     "metadata": {},
     "output_type": "display_data"
    },
    {
     "name": "stderr",
     "output_type": "stream",
     "text": [
      "`summarise()` ungrouping output (override with `.groups` argument)\n",
      "\n"
     ]
    },
    {
     "data": {
      "text/html": [
       "<table>\n",
       "<caption>A tibble: 5 × 2</caption>\n",
       "<thead>\n",
       "\t<tr><th scope=col>BOROUGH</th><th scope=col>total_heridos</th></tr>\n",
       "\t<tr><th scope=col>&lt;fct&gt;</th><th scope=col>&lt;int&gt;</th></tr>\n",
       "</thead>\n",
       "<tbody>\n",
       "\t<tr><td>BRONX        </td><td>26</td></tr>\n",
       "\t<tr><td>BROOKLYN     </td><td>75</td></tr>\n",
       "\t<tr><td>MANHATTAN    </td><td>36</td></tr>\n",
       "\t<tr><td>QUEENS       </td><td>73</td></tr>\n",
       "\t<tr><td>STATEN ISLAND</td><td>11</td></tr>\n",
       "</tbody>\n",
       "</table>\n"
      ],
      "text/latex": [
       "A tibble: 5 × 2\n",
       "\\begin{tabular}{ll}\n",
       " BOROUGH & total\\_heridos\\\\\n",
       " <fct> & <int>\\\\\n",
       "\\hline\n",
       "\t BRONX         & 26\\\\\n",
       "\t BROOKLYN      & 75\\\\\n",
       "\t MANHATTAN     & 36\\\\\n",
       "\t QUEENS        & 73\\\\\n",
       "\t STATEN ISLAND & 11\\\\\n",
       "\\end{tabular}\n"
      ],
      "text/markdown": [
       "\n",
       "A tibble: 5 × 2\n",
       "\n",
       "| BOROUGH &lt;fct&gt; | total_heridos &lt;int&gt; |\n",
       "|---|---|\n",
       "| BRONX         | 26 |\n",
       "| BROOKLYN      | 75 |\n",
       "| MANHATTAN     | 36 |\n",
       "| QUEENS        | 73 |\n",
       "| STATEN ISLAND | 11 |\n",
       "\n"
      ],
      "text/plain": [
       "  BOROUGH       total_heridos\n",
       "1 BRONX         26           \n",
       "2 BROOKLYN      75           \n",
       "3 MANHATTAN     36           \n",
       "4 QUEENS        73           \n",
       "5 STATEN ISLAND 11           "
      ]
     },
     "metadata": {},
     "output_type": "display_data"
    }
   ],
   "source": [
    "accidentes %>% \n",
    "  group_by(BOROUGH) %>% \n",
    "  summarise(total_heridos = sum(heridos))\n",
    "\n",
    "\n",
    "accidentes %>% \n",
    "  group_by(BOROUGH) %>% \n",
    "  summarise(total_heridos = sum(muertes))"
   ]
  },
  {
   "cell_type": "markdown",
   "metadata": {},
   "source": [
    "**4. A partir de los análisis anteriores, qué recomendaciones sobre la planeación de políticas preventivas frente a la accidentalidad se podrían hacer para reducir los accidentes y su gravedad?**"
   ]
  },
  {
   "cell_type": "markdown",
   "metadata": {},
   "source": [
    "**5. ¿Qué otras variables o análisis exploratorios podríamos hacer para complementar este análisis?**"
   ]
  },
  {
   "cell_type": "markdown",
   "metadata": {},
   "source": [
    "**6. ¿Cuáles podrían ser los siguientes pasos para el análisis de este problema en búsqueda de soluciones?**"
   ]
  },
  {
   "cell_type": "markdown",
   "metadata": {},
   "source": [
    "## Conclusiones\n",
    "\n",
    "- La exploración y descripción inicial de los datos es una gran herramienta para encontrar patrones de interés del problema\n",
    "- Encontramos patrones en los datos que ayudan a generar hipótesis sobre el comportamiento de los accidentes\n",
    "- Resultan ser relevantes factores cómo el día de la semana, hora y vecindario para analizar el comportamiento de la accidentalidad\n",
    "- Esta descripción puede ser una guía importante para definir pasos siguientes en un análisis con mayor profundidad"
   ]
  }
 ],
 "metadata": {
  "kernelspec": {
   "display_name": "R",
   "language": "R",
   "name": "ir"
  },
  "language_info": {
   "codemirror_mode": "r",
   "file_extension": ".r",
   "mimetype": "text/x-r-source",
   "name": "R",
   "pygments_lexer": "r",
   "version": "3.6.3"
  }
 },
 "nbformat": 4,
 "nbformat_minor": 2
}
