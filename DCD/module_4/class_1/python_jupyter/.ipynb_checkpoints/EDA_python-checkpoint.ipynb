{
 "cells": [
  {
   "cell_type": "markdown",
   "metadata": {},
   "source": [
    "### Universidad Nacional de Colombia\n",
    "### Diplomado Ciencia de datos"
   ]
  },
  {
   "cell_type": "markdown",
   "metadata": {},
   "source": [
    "### Accidentes de tránsito en New York "
   ]
  },
  {
   "cell_type": "markdown",
   "metadata": {},
   "source": [
    "En este caso práctico haremos la exploración de un data set aplicando  algunas de las etapas de los procesos de ciencia de datos. Haremos transformación y limpieza de los datos. Entenderemos cómo extraer valor de los datos desde una perspectiva exploratoria\n",
    "\n",
    "El caso estará estructurado así\n",
    "\n",
    "1. Explorar la estructura de los datos\n",
    "2. Hacer un análisis exploratorio y descriptivo de las principales variables\n",
    "3. Sacar conclusiones e hipótesis de análisis a partir de los hallazgos"
   ]
  },
  {
   "cell_type": "code",
   "execution_count": null,
   "metadata": {},
   "outputs": [],
   "source": [
    "import json\n",
    "import requests\n",
    "from bs4 import BeautifulSoup\n",
    "import pandas as pd\n",
    "import matplotlib.pyplot as plt\n",
    "import seaborn as sns\n",
    "import numpy"
   ]
  },
  {
   "cell_type": "code",
   "execution_count": null,
   "metadata": {},
   "outputs": [],
   "source": [
    "# display setting Para visualizar el máximo de columnas\n",
    "pd.set_option('display.max_columns', None)"
   ]
  },
  {
   "cell_type": "markdown",
   "metadata": {},
   "source": [
    "**Contexto** \n",
    "New York ha tenido un incremento en el número de accidentes de tránsito constante y se requiere analizar datos de estos accidentes del periodo Enero 2018 - Agosto 2019. \n",
    "\n",
    "**Problema de negocio**\n",
    "Identificar patrones en la data que permita tomar decisiones informadas dirigidas hacia la planeación de políticas públicas de caracter preventivo para diminuir el número y/o gravedad de los accidentes"
   ]
  },
  {
   "cell_type": "code",
   "execution_count": null,
   "metadata": {},
   "outputs": [],
   "source": [
    "with open('accidents.csv') as f:\n",
    "    accidentes=pd.read_csv(f, delimiter=';')"
   ]
  },
  {
   "cell_type": "code",
   "execution_count": null,
   "metadata": {
    "scrolled": false
   },
   "outputs": [],
   "source": [
    "accidentes.head()"
   ]
  },
  {
   "cell_type": "markdown",
   "metadata": {},
   "source": [
    "Se tienen las variables \n",
    "- BOROUGH: Vecindario donde ocurrió el accidente\n",
    "- COLLISION_ID: ID del accidente\n",
    "- CONTRIBUTING FACTOR VEHICLE (1, 2, 3, 4, 5): Razones del accidente\n",
    "- CROSS STREET NAME: La calle cruzada más cercana en la que pasó el accidente\n",
    "- DATE: Fecha del accidente\n",
    " -TIME: Hora del accidente\n",
    " -LATITUDE: Latitud del accidente\n",
    "- LONGITUDE: Longitud del accidente\n",
    "- NUMBER OF (CYCLISTS, MOTORISTS, PEDESTRIANS) INJURED: Número de heridos de cada tipo\n",
    "- NUMBER OF (CYCLISTS, MOTORISTS, PEDESTRIANS) KILLED: Número de muertos de cada tipo\n",
    "- ON STREET NAME: Calle de accidente\n",
    "- VEHICLE TYPE CODE (1, 2, 3, 4, 5): Tipo de vehículo involucrado en el accidente\n",
    "- ZIP CODE: Código zip del accidente"
   ]
  },
  {
   "cell_type": "code",
   "execution_count": null,
   "metadata": {},
   "outputs": [],
   "source": [
    "accidentes.shape"
   ]
  },
  {
   "cell_type": "markdown",
   "metadata": {},
   "source": [
    "**¿Han incrementado el número de accidentes en el periodo de observación?**"
   ]
  },
  {
   "cell_type": "markdown",
   "metadata": {},
   "source": [
    "Para hacer éste análisis primero debemos cambiar el formato de la columna de la fecha para manejarla apropiadamente. "
   ]
  },
  {
   "cell_type": "code",
   "execution_count": null,
   "metadata": {},
   "outputs": [],
   "source": [
    "accidentes['DATE']=pd.to_datetime(accidentes['DATE'])"
   ]
  },
  {
   "cell_type": "markdown",
   "metadata": {},
   "source": [
    "Con esta transformación podemos extraer el mes de la fecha y hacer un análisis por meses. ¿Qué podemos concluir del número de accidentes por mes?"
   ]
  },
  {
   "cell_type": "code",
   "execution_count": null,
   "metadata": {
    "scrolled": true
   },
   "outputs": [],
   "source": [
    "accidentes['MES'] = accidentes['DATE'].dt.to_period('M')\n",
    "accidentes_mes = accidentes.groupby(accidentes['MES']).size()\n",
    "accidentes_mes.plot.line()"
   ]
  },
  {
   "cell_type": "markdown",
   "metadata": {},
   "source": [
    "**¿Existen patrones horarios en los accidentes?**"
   ]
  },
  {
   "cell_type": "code",
   "execution_count": null,
   "metadata": {},
   "outputs": [],
   "source": [
    "# transformación de la hora del accidente a formato de fecha\n",
    "accidentes['TIME'] = pd.to_datetime(accidentes['TIME'])"
   ]
  },
  {
   "cell_type": "markdown",
   "metadata": {},
   "source": [
    "Al igual que la fecha podemos transformar el formato de la hora y crear una variable que contenga únicamente la hora del accidente"
   ]
  },
  {
   "cell_type": "code",
   "execution_count": null,
   "metadata": {},
   "outputs": [],
   "source": [
    "accidentes['HORA'] = accidentes['TIME'].dt.hour"
   ]
  },
  {
   "cell_type": "code",
   "execution_count": null,
   "metadata": {
    "scrolled": true
   },
   "outputs": [],
   "source": [
    "# Conteo de accidentes por hora\n",
    "accidentes_hora = accidentes.groupby('HORA').size()\n",
    "accidentes_hora.plot.bar()"
   ]
  },
  {
   "cell_type": "markdown",
   "metadata": {},
   "source": [
    "**¿Existen patrones en los accidentes según el día de la semana?**"
   ]
  },
  {
   "cell_type": "code",
   "execution_count": null,
   "metadata": {},
   "outputs": [],
   "source": [
    "# Creamos una variable con el día de la semana de la fecha del accidente\n",
    "accidentes['DIA'] = accidentes['DATE'].dt.weekday"
   ]
  },
  {
   "cell_type": "code",
   "execution_count": null,
   "metadata": {},
   "outputs": [],
   "source": [
    "accidentes.head()"
   ]
  },
  {
   "cell_type": "code",
   "execution_count": null,
   "metadata": {
    "scrolled": true
   },
   "outputs": [],
   "source": [
    "# Conteo de accidentes por dia de la semana\n",
    "accidentes_dia = accidentes.groupby('DIA').size()\n",
    "accidentes_dia.plot.bar()"
   ]
  },
  {
   "cell_type": "markdown",
   "metadata": {},
   "source": [
    "**¿Existen patrones accidentales por vecindario?**"
   ]
  },
  {
   "cell_type": "code",
   "execution_count": null,
   "metadata": {},
   "outputs": [],
   "source": [
    "vec = accidentes.groupby('BOROUGH').size()\n",
    "vec.plot.bar()"
   ]
  },
  {
   "cell_type": "markdown",
   "metadata": {},
   "source": [
    "## ¿Por qué razón deberíamos estandarizar estos conteos?"
   ]
  },
  {
   "cell_type": "markdown",
   "metadata": {},
   "source": [
    "Carguemos la información adicional de los vecindarios para poder analizarlos"
   ]
  },
  {
   "cell_type": "code",
   "execution_count": null,
   "metadata": {},
   "outputs": [],
   "source": [
    "borough_data = pd.read_csv('borough_data.csv')"
   ]
  },
  {
   "cell_type": "code",
   "execution_count": null,
   "metadata": {},
   "outputs": [],
   "source": [
    "borough_data"
   ]
  },
  {
   "cell_type": "markdown",
   "metadata": {},
   "source": [
    "Para hacer los conteos de accidentes comparables podemos relativizar utilizando el área de los vecindarios. Para esto primero debemos asociar las dos tablas de información"
   ]
  },
  {
   "cell_type": "code",
   "execution_count": null,
   "metadata": {},
   "outputs": [],
   "source": [
    "print(accidentes['BOROUGH'].unique())"
   ]
  },
  {
   "cell_type": "markdown",
   "metadata": {},
   "source": [
    "El único vecindario que no haría match sería 'the bronx' con 'BRONX'"
   ]
  },
  {
   "cell_type": "code",
   "execution_count": null,
   "metadata": {},
   "outputs": [],
   "source": [
    "borough_data.loc[borough_data.borough=='the bronx','borough'] = 'bronx'"
   ]
  },
  {
   "cell_type": "code",
   "execution_count": null,
   "metadata": {
    "scrolled": true
   },
   "outputs": [],
   "source": [
    "borough_frame = pd.DataFrame(vec)\n",
    "borough_frame.columns = ['count']\n",
    "borough_frame['borough'] = borough_frame.index\n",
    "borough_frame"
   ]
  },
  {
   "cell_type": "markdown",
   "metadata": {},
   "source": [
    "Adicionalmente, necesitamos transformar los valores en el df a minúsculas para poder calcular los conteos de accidentes relativos al área del vecindario"
   ]
  },
  {
   "cell_type": "code",
   "execution_count": null,
   "metadata": {},
   "outputs": [],
   "source": [
    "borough_data.borough = borough_data.borough.str.upper()\n",
    "borough_data"
   ]
  },
  {
   "cell_type": "code",
   "execution_count": null,
   "metadata": {},
   "outputs": [],
   "source": [
    "borough_frame = borough_frame.merge(borough_data, left_on='borough',right_on='borough')\n",
    "borough_frame"
   ]
  },
  {
   "cell_type": "code",
   "execution_count": null,
   "metadata": {},
   "outputs": [],
   "source": [
    "borough_frame['accidentes_por_area'] = borough_frame['count']/borough_frame['area']\n",
    "borough_frame.plot.bar(x='borough', y='accidentes_por_area')"
   ]
  },
  {
   "cell_type": "markdown",
   "metadata": {},
   "source": [
    "**Ampliemos el análisis de manera bivariada**\n",
    "\n",
    "¿Existen patrones horarios en la accidentalidad por vecindario?"
   ]
  },
  {
   "cell_type": "code",
   "execution_count": null,
   "metadata": {},
   "outputs": [],
   "source": [
    "# creamos conteo de accidentes por hora y vecindario\n",
    "df1 = pd.DataFrame({'count': accidentes.groupby(['BOROUGH', 'HORA']).size()})\n",
    "df1 = df1.reset_index()"
   ]
  },
  {
   "cell_type": "code",
   "execution_count": null,
   "metadata": {},
   "outputs": [],
   "source": [
    "plt.figure(figsize=(10,8))\n",
    "chart = sns.FacetGrid(df1, col='BOROUGH', margin_titles=True, col_wrap=3, aspect=2, row_order=accidentes['BOROUGH'].unique)\n",
    "chart.map(sns.barplot, 'HORA', 'count',)"
   ]
  },
  {
   "cell_type": "markdown",
   "metadata": {},
   "source": [
    "**¿Cuáles son las causas más comunes de los accidentes?**"
   ]
  },
  {
   "cell_type": "markdown",
   "metadata": {},
   "source": [
    "Debemos tener en cuenta las 5 columnas de CONTRIBUTING FACTOR para hacer este análisis"
   ]
  },
  {
   "cell_type": "code",
   "execution_count": null,
   "metadata": {},
   "outputs": [],
   "source": [
    "columns = ['CONTRIBUTING FACTOR VEHICLE 1', 'CONTRIBUTING FACTOR VEHICLE 2', \n",
    "           'CONTRIBUTING FACTOR VEHICLE 3', 'CONTRIBUTING FACTOR VEHICLE 4',\n",
    "          'CONTRIBUTING FACTOR VEHICLE 5']"
   ]
  },
  {
   "cell_type": "code",
   "execution_count": null,
   "metadata": {},
   "outputs": [],
   "source": [
    "# creamos un nuevo df con todos los factores en una sola columna\n",
    "frames=[accidentes[column].reset_index().rename(columns={column:'FACTOR'}) for column in columns]\n",
    "factors_df=pd.concat(frames)\n"
   ]
  },
  {
   "cell_type": "code",
   "execution_count": null,
   "metadata": {},
   "outputs": [],
   "source": [
    "# agurpamos por el índice para poder descartar factores que se repiten en el mismo accidente\n",
    "no_rep_factors=factors_df.groupby(['index','FACTOR']).size().reset_index()"
   ]
  },
  {
   "cell_type": "code",
   "execution_count": null,
   "metadata": {},
   "outputs": [],
   "source": [
    "# Conteo de accidentes por factor\n",
    "final_df=no_rep_factors.groupby(['FACTOR']).size()\n",
    "final_df=final_df.sort_values(ascending=False).reset_index()\n",
    "final_df.head(10)"
   ]
  },
  {
   "cell_type": "markdown",
   "metadata": {},
   "source": [
    "**Y ¿cuáles son los tipos de vehículos involucrados en mas accidentes?**"
   ]
  },
  {
   "cell_type": "code",
   "execution_count": null,
   "metadata": {},
   "outputs": [],
   "source": [
    "columns = ['VEHICLE TYPE CODE 1', 'VEHICLE TYPE CODE 2', 'VEHICLE TYPE CODE 3',\n",
    "           'VEHICLE TYPE CODE 4', 'VEHICLE TYPE CODE 5',]\n",
    "\n",
    "#First, we concatenate all the corresponding columns into a big data-frame\n",
    "frames=[accidentes[column].reset_index().rename(columns={column:'VEHICLE'}) for column in columns]\n",
    "vehicle_df=pd.concat(frames)\n",
    "\n",
    "\n",
    "#The reasoning behind doing reset_index() is that we can use a groupby on the indexes to delete repetitions as follows:\n",
    "no_rep_vehicle=vehicle_df.groupby(['index','VEHICLE']).size().reset_index()"
   ]
  },
  {
   "cell_type": "code",
   "execution_count": null,
   "metadata": {},
   "outputs": [],
   "source": [
    "\n",
    "#The data frame we are looking for is given by\n",
    "final_dfv=no_rep_vehicle.groupby(['VEHICLE']).size()\n",
    "\n",
    "#Since we want to search for the most common factors of accidents, we can do the following:\n",
    "final_dfv=final_dfv.sort_values(ascending=False).reset_index()\n",
    "final_dfv.head(10)\n"
   ]
  },
  {
   "cell_type": "markdown",
   "metadata": {},
   "source": [
    "**Pueden existir patrones de factores o vehículos diferencial para vecindarios?**"
   ]
  },
  {
   "cell_type": "code",
   "execution_count": null,
   "metadata": {
    "scrolled": true
   },
   "outputs": [],
   "source": [
    "columns =['CONTRIBUTING FACTOR VEHICLE 1', 'CONTRIBUTING FACTOR VEHICLE 2', \n",
    "           'CONTRIBUTING FACTOR VEHICLE 3', 'CONTRIBUTING FACTOR VEHICLE 4',\n",
    "          'CONTRIBUTING FACTOR VEHICLE 5']\n",
    "\n",
    "\n",
    "# Concatenate all corresponding frames.\n",
    "frames=[accidentes[['BOROUGH',column]].rename(columns={'BOROUGH':'BOROUGH',column:'FACTOR'}) for column in columns]\n",
    "factor_df=pd.concat(frames).reset_index()\n",
    "\n",
    "#Count repetitions\n",
    "no_rep_factor=factor_df.groupby(['index','BOROUGH','FACTOR']).size().reset_index()\n",
    "\n",
    "\n",
    "final_df=no_rep_factor.groupby(['BOROUGH','FACTOR']).size().sort_values(ascending=False).reset_index()\n",
    "\n",
    "final_df.head(10)"
   ]
  },
  {
   "cell_type": "code",
   "execution_count": null,
   "metadata": {
    "scrolled": true
   },
   "outputs": [],
   "source": [
    "columns = ['VEHICLE TYPE CODE 1', 'VEHICLE TYPE CODE 2', 'VEHICLE TYPE CODE 3',\n",
    "           'VEHICLE TYPE CODE 4', 'VEHICLE TYPE CODE 5',]\n",
    "\n",
    "# Concatenate all corresponding frames.\n",
    "frames=[accidentes[['BOROUGH',column]].rename(columns={'BOROUGH':'BOROUGH',column:'VEHICLE'}) for column in columns]\n",
    "vehicles_df=pd.concat(frames).reset_index()\n",
    "\n",
    "#Count repetitions\n",
    "no_rep_vehicles=vehicles_df.groupby(['index','BOROUGH','VEHICLE']).size().reset_index()\n",
    "\n",
    "#Then get rid of these\n",
    "final_df=no_rep_vehicles.groupby(['BOROUGH','VEHICLE']).size().sort_values(ascending=False).reset_index()\n",
    "\n",
    "final_df.head(10)"
   ]
  },
  {
   "cell_type": "markdown",
   "metadata": {},
   "source": [
    "## Ejercicios"
   ]
  },
  {
   "cell_type": "markdown",
   "metadata": {},
   "source": [
    "**1. ¿Qué podemos decir sobre el número de personas heridas y muertes en los accidentes? Exploremos el comportamiento del total de heridos y total de muertes en todos los accidentes. (Crear una nueva columna que sume todos los herido y otra que sume todas las muertes)**"
   ]
  },
  {
   "cell_type": "markdown",
   "metadata": {},
   "source": [
    "**2. Exploremos las muertes y heridas por peatón, ciclista y motociclista. Existen diferencias en estos? En qué casos mueren más personas durante los accidentes? En qué casos resultan más heridos?**"
   ]
  },
  {
   "cell_type": "markdown",
   "metadata": {},
   "source": [
    "**3. ¿ Existen patrones en las muertes y heridos en accidentes por vecindario? En cuál vecindario se presentaron más muertes? En cuál menos?**"
   ]
  },
  {
   "cell_type": "markdown",
   "metadata": {},
   "source": [
    "**4. A partir de los análisis anteriores, qué recomendaciones sobre la planeación de políticas preventivas frente a la accidentalidad se podrían hacer para reducir los accidentes y su gravedad?**"
   ]
  },
  {
   "cell_type": "markdown",
   "metadata": {},
   "source": [
    "**5. ¿Qué otras variables o análisis exploratorios podríamos hacer para complementar este análisis?**"
   ]
  },
  {
   "cell_type": "markdown",
   "metadata": {},
   "source": [
    "**6. ¿Cuáles podrían ser los siguientes pasos para el análisis de este problema en búsqueda de soluciones?**"
   ]
  },
  {
   "cell_type": "markdown",
   "metadata": {},
   "source": [
    "## Conclusiones\n",
    "\n",
    "- La exploración y descripción inicial de los datos es una gran herramienta para encontrar patrones de interés del problema \n",
    "- Encontramos patrones en los datos que ayudan a generar hipótesis sobre el comportamiento de los accidentes\n",
    "- Resultan ser relevantes factores cómo el día de la semana, hora y vecindario para analizar el comportamiento de la accidentalidad\n",
    "- Esta descripción puede ser una guía importante para definir pasos siguientes en un análisis con mayor profundidad"
   ]
  }
 ],
 "metadata": {
  "kernelspec": {
   "display_name": "Python 3",
   "language": "python",
   "name": "python3"
  },
  "language_info": {
   "codemirror_mode": {
    "name": "ipython",
    "version": 2
   },
   "file_extension": ".py",
   "mimetype": "text/x-python",
   "name": "python",
   "nbconvert_exporter": "python",
   "pygments_lexer": "ipython2",
   "version": "2.7.16"
  }
 },
 "nbformat": 4,
 "nbformat_minor": 2
}
