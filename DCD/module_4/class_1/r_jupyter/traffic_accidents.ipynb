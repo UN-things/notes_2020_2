{
 "cells": [
  {
   "cell_type": "markdown",
   "metadata": {},
   "source": [
    "# Accidentes de tránsito en New York\n",
    "\n",
    "En este caso práctico haremos la exploración de un data set aplicando algunas de las etapas de los procesos de ciencia de datos. Haremos transformación y limpiea de los datos. Entenderemos cómo extraer valor de los datos desde una perspectiva exploratoria\n",
    "\n",
    "El caso estará estructurado así\n",
    "\n",
    "- Explorar la estructura de los datos\n",
    "- Hacer un análisis exploratorio y descriptivo de las principales variables\n",
    "- Sacar conclusiones e hipótesis de análisis a partir de los hallazgos"
   ]
  },
  {
   "cell_type": "markdown",
   "metadata": {},
   "source": [
    "## Lirerías utilizadas durante la clase\n",
    "\n",
    "- [dplyr](https://github.com/tidyverse/dplyr): Una herramienta rápida y consistente para trabajar con marcos de datos como objetos, tanto en memoria como sin memoria.\n",
    "- [ggplot2](https://github.com/tidyverse/ggplot2): Es un sistema para crear gráficos de forma declarativa, basado en The Grammar of Graphics.\n",
    "- [reshape](https://github.com/cran/reshape2): Paquete de remodelación de datos."
   ]
  },
  {
   "cell_type": "code",
   "execution_count": 8,
   "metadata": {},
   "outputs": [],
   "source": [
    "library(dplyr)\n",
    "library(ggplot2)\n",
    "library(reshape)"
   ]
  },
  {
   "cell_type": "markdown",
   "metadata": {},
   "source": [
    "**Contexto:** New York ha tenido un incremento en el número de accidentes de tránsito constante y se requiere analizar datos de estos accidentes del periodo Enero 2018 - Agosto 2019.\n",
    "\n",
    "**Problema de negocio:** Identificar patrones en la data que permita tomar decisiones informadas dirigidas hacia la planeación de políticas públicas de caracter preventivo para diminuir el número y/o gravedad de los accidentes\n",
    "\n",
    "Definimos nuestra ruta de trabajo, dónde tenemos guardados nuestros datos"
   ]
  },
  {
   "cell_type": "code",
   "execution_count": null,
   "metadata": {},
   "outputs": [],
   "source": [
    "setwd('/root/Documentos/UN/UN_2020_2/DCD/module_4/class_1/r_jupyter')\n",
    "#setwd('C:/Users/Juliana/Desktop/Diplomado/D_2020/Casos/Casos/EDA') "
   ]
  },
  {
   "cell_type": "code",
   "execution_count": 3,
   "metadata": {},
   "outputs": [
    {
     "data": {
      "text/html": [
       "<table>\n",
       "<caption>A data.frame: 6 × 24</caption>\n",
       "<thead>\n",
       "\t<tr><th></th><th scope=col>DATE</th><th scope=col>TIME</th><th scope=col>BOROUGH</th><th scope=col>ZIP.CODE</th><th scope=col>LATITUDE</th><th scope=col>LONGITUDE</th><th scope=col>ON.STREET.NAME</th><th scope=col>NUMBER.OF.PEDESTRIANS.INJURED</th><th scope=col>NUMBER.OF.PEDESTRIANS.KILLED</th><th scope=col>NUMBER.OF.CYCLIST.INJURED</th><th scope=col>⋯</th><th scope=col>CONTRIBUTING.FACTOR.VEHICLE.2</th><th scope=col>CONTRIBUTING.FACTOR.VEHICLE.3</th><th scope=col>CONTRIBUTING.FACTOR.VEHICLE.4</th><th scope=col>CONTRIBUTING.FACTOR.VEHICLE.5</th><th scope=col>COLLISION_ID</th><th scope=col>VEHICLE.TYPE.CODE.1</th><th scope=col>VEHICLE.TYPE.CODE.2</th><th scope=col>VEHICLE.TYPE.CODE.3</th><th scope=col>VEHICLE.TYPE.CODE.4</th><th scope=col>VEHICLE.TYPE.CODE.5</th></tr>\n",
       "\t<tr><th></th><th scope=col>&lt;fct&gt;</th><th scope=col>&lt;fct&gt;</th><th scope=col>&lt;fct&gt;</th><th scope=col>&lt;dbl&gt;</th><th scope=col>&lt;dbl&gt;</th><th scope=col>&lt;dbl&gt;</th><th scope=col>&lt;fct&gt;</th><th scope=col>&lt;int&gt;</th><th scope=col>&lt;int&gt;</th><th scope=col>&lt;int&gt;</th><th scope=col>⋯</th><th scope=col>&lt;fct&gt;</th><th scope=col>&lt;fct&gt;</th><th scope=col>&lt;fct&gt;</th><th scope=col>&lt;fct&gt;</th><th scope=col>&lt;int&gt;</th><th scope=col>&lt;fct&gt;</th><th scope=col>&lt;fct&gt;</th><th scope=col>&lt;fct&gt;</th><th scope=col>&lt;fct&gt;</th><th scope=col>&lt;fct&gt;</th></tr>\n",
       "</thead>\n",
       "<tbody>\n",
       "\t<tr><th scope=row>1</th><td>09/26/2018</td><td>12:12</td><td>BRONX   </td><td>10454</td><td>40.80899</td><td>-73.91132</td><td>                                </td><td>0</td><td>0</td><td>0</td><td>⋯</td><td>           </td><td></td><td></td><td></td><td>3988123</td><td>Sedan</td><td>                                   </td><td></td><td></td><td></td></tr>\n",
       "\t<tr><th scope=row>2</th><td>09/25/2018</td><td>16:30</td><td>BROOKLYN</td><td>11236</td><td>40.63600</td><td>-73.91251</td><td>FLATLANDS AVENUE                </td><td>1</td><td>0</td><td>0</td><td>⋯</td><td>           </td><td></td><td></td><td></td><td>3987962</td><td>Sedan</td><td>                                   </td><td></td><td></td><td></td></tr>\n",
       "\t<tr><th scope=row>3</th><td>08/22/2019</td><td>19:30</td><td>QUEENS  </td><td>11101</td><td>40.75549</td><td>-73.93953</td><td>                                </td><td>0</td><td>0</td><td>0</td><td>⋯</td><td>           </td><td></td><td></td><td></td><td>4193132</td><td>Sedan</td><td>                                   </td><td></td><td></td><td></td></tr>\n",
       "\t<tr><th scope=row>4</th><td>09/23/2018</td><td>13:10</td><td>QUEENS  </td><td>11367</td><td>      NA</td><td>       NA</td><td>MAIN STREET                     </td><td>0</td><td>0</td><td>1</td><td>⋯</td><td>Unspecified</td><td></td><td></td><td></td><td>3985962</td><td>Bike </td><td>Station Wagon/Sport Utility Vehicle</td><td></td><td></td><td></td></tr>\n",
       "\t<tr><th scope=row>5</th><td>08/20/2019</td><td>22:40</td><td>BRONX   </td><td>10468</td><td>40.86834</td><td>-73.90127</td><td>                                </td><td>0</td><td>0</td><td>0</td><td>⋯</td><td>Unspecified</td><td></td><td></td><td></td><td>4192111</td><td>Sedan</td><td>Sedan                              </td><td></td><td></td><td></td></tr>\n",
       "\t<tr><th scope=row>6</th><td>08/20/2019</td><td>7:15 </td><td>QUEENS  </td><td>11354</td><td>      NA</td><td>       NA</td><td>                                </td><td>0</td><td>0</td><td>0</td><td>⋯</td><td>           </td><td></td><td></td><td></td><td>4191802</td><td>Sedan</td><td>                                   </td><td></td><td></td><td></td></tr>\n",
       "</tbody>\n",
       "</table>\n"
      ],
      "text/latex": [
       "A data.frame: 6 × 24\n",
       "\\begin{tabular}{r|lllllllllllllllllllll}\n",
       "  & DATE & TIME & BOROUGH & ZIP.CODE & LATITUDE & LONGITUDE & ON.STREET.NAME & NUMBER.OF.PEDESTRIANS.INJURED & NUMBER.OF.PEDESTRIANS.KILLED & NUMBER.OF.CYCLIST.INJURED & ⋯ & CONTRIBUTING.FACTOR.VEHICLE.2 & CONTRIBUTING.FACTOR.VEHICLE.3 & CONTRIBUTING.FACTOR.VEHICLE.4 & CONTRIBUTING.FACTOR.VEHICLE.5 & COLLISION\\_ID & VEHICLE.TYPE.CODE.1 & VEHICLE.TYPE.CODE.2 & VEHICLE.TYPE.CODE.3 & VEHICLE.TYPE.CODE.4 & VEHICLE.TYPE.CODE.5\\\\\n",
       "  & <fct> & <fct> & <fct> & <dbl> & <dbl> & <dbl> & <fct> & <int> & <int> & <int> & ⋯ & <fct> & <fct> & <fct> & <fct> & <int> & <fct> & <fct> & <fct> & <fct> & <fct>\\\\\n",
       "\\hline\n",
       "\t1 & 09/26/2018 & 12:12 & BRONX    & 10454 & 40.80899 & -73.91132 &                                  & 0 & 0 & 0 & ⋯ &             &  &  &  & 3988123 & Sedan &                                     &  &  & \\\\\n",
       "\t2 & 09/25/2018 & 16:30 & BROOKLYN & 11236 & 40.63600 & -73.91251 & FLATLANDS AVENUE                 & 1 & 0 & 0 & ⋯ &             &  &  &  & 3987962 & Sedan &                                     &  &  & \\\\\n",
       "\t3 & 08/22/2019 & 19:30 & QUEENS   & 11101 & 40.75549 & -73.93953 &                                  & 0 & 0 & 0 & ⋯ &             &  &  &  & 4193132 & Sedan &                                     &  &  & \\\\\n",
       "\t4 & 09/23/2018 & 13:10 & QUEENS   & 11367 &       NA &        NA & MAIN STREET                      & 0 & 0 & 1 & ⋯ & Unspecified &  &  &  & 3985962 & Bike  & Station Wagon/Sport Utility Vehicle &  &  & \\\\\n",
       "\t5 & 08/20/2019 & 22:40 & BRONX    & 10468 & 40.86834 & -73.90127 &                                  & 0 & 0 & 0 & ⋯ & Unspecified &  &  &  & 4192111 & Sedan & Sedan                               &  &  & \\\\\n",
       "\t6 & 08/20/2019 & 7:15  & QUEENS   & 11354 &       NA &        NA &                                  & 0 & 0 & 0 & ⋯ &             &  &  &  & 4191802 & Sedan &                                     &  &  & \\\\\n",
       "\\end{tabular}\n"
      ],
      "text/markdown": [
       "\n",
       "A data.frame: 6 × 24\n",
       "\n",
       "| <!--/--> | DATE &lt;fct&gt; | TIME &lt;fct&gt; | BOROUGH &lt;fct&gt; | ZIP.CODE &lt;dbl&gt; | LATITUDE &lt;dbl&gt; | LONGITUDE &lt;dbl&gt; | ON.STREET.NAME &lt;fct&gt; | NUMBER.OF.PEDESTRIANS.INJURED &lt;int&gt; | NUMBER.OF.PEDESTRIANS.KILLED &lt;int&gt; | NUMBER.OF.CYCLIST.INJURED &lt;int&gt; | ⋯ ⋯ | CONTRIBUTING.FACTOR.VEHICLE.2 &lt;fct&gt; | CONTRIBUTING.FACTOR.VEHICLE.3 &lt;fct&gt; | CONTRIBUTING.FACTOR.VEHICLE.4 &lt;fct&gt; | CONTRIBUTING.FACTOR.VEHICLE.5 &lt;fct&gt; | COLLISION_ID &lt;int&gt; | VEHICLE.TYPE.CODE.1 &lt;fct&gt; | VEHICLE.TYPE.CODE.2 &lt;fct&gt; | VEHICLE.TYPE.CODE.3 &lt;fct&gt; | VEHICLE.TYPE.CODE.4 &lt;fct&gt; | VEHICLE.TYPE.CODE.5 &lt;fct&gt; |\n",
       "|---|---|---|---|---|---|---|---|---|---|---|---|---|---|---|---|---|---|---|---|---|---|\n",
       "| 1 | 09/26/2018 | 12:12 | BRONX    | 10454 | 40.80899 | -73.91132 | <!----> | 0 | 0 | 0 | ⋯ | <!----> | <!----> | <!----> | <!----> | 3988123 | Sedan | <!----> | <!----> | <!----> | <!----> |\n",
       "| 2 | 09/25/2018 | 16:30 | BROOKLYN | 11236 | 40.63600 | -73.91251 | FLATLANDS AVENUE                 | 1 | 0 | 0 | ⋯ | <!----> | <!----> | <!----> | <!----> | 3987962 | Sedan | <!----> | <!----> | <!----> | <!----> |\n",
       "| 3 | 08/22/2019 | 19:30 | QUEENS   | 11101 | 40.75549 | -73.93953 | <!----> | 0 | 0 | 0 | ⋯ | <!----> | <!----> | <!----> | <!----> | 4193132 | Sedan | <!----> | <!----> | <!----> | <!----> |\n",
       "| 4 | 09/23/2018 | 13:10 | QUEENS   | 11367 |       NA |        NA | MAIN STREET                      | 0 | 0 | 1 | ⋯ | Unspecified | <!----> | <!----> | <!----> | 3985962 | Bike  | Station Wagon/Sport Utility Vehicle | <!----> | <!----> | <!----> |\n",
       "| 5 | 08/20/2019 | 22:40 | BRONX    | 10468 | 40.86834 | -73.90127 | <!----> | 0 | 0 | 0 | ⋯ | Unspecified | <!----> | <!----> | <!----> | 4192111 | Sedan | Sedan                               | <!----> | <!----> | <!----> |\n",
       "| 6 | 08/20/2019 | 7:15  | QUEENS   | 11354 |       NA |        NA | <!----> | 0 | 0 | 0 | ⋯ | <!----> | <!----> | <!----> | <!----> | 4191802 | Sedan | <!----> | <!----> | <!----> | <!----> |\n",
       "\n"
      ],
      "text/plain": [
       "  DATE       TIME  BOROUGH  ZIP.CODE LATITUDE LONGITUDE\n",
       "1 09/26/2018 12:12 BRONX    10454    40.80899 -73.91132\n",
       "2 09/25/2018 16:30 BROOKLYN 11236    40.63600 -73.91251\n",
       "3 08/22/2019 19:30 QUEENS   11101    40.75549 -73.93953\n",
       "4 09/23/2018 13:10 QUEENS   11367          NA        NA\n",
       "5 08/20/2019 22:40 BRONX    10468    40.86834 -73.90127\n",
       "6 08/20/2019 7:15  QUEENS   11354          NA        NA\n",
       "  ON.STREET.NAME                   NUMBER.OF.PEDESTRIANS.INJURED\n",
       "1                                  0                            \n",
       "2 FLATLANDS AVENUE                 1                            \n",
       "3                                  0                            \n",
       "4 MAIN STREET                      0                            \n",
       "5                                  0                            \n",
       "6                                  0                            \n",
       "  NUMBER.OF.PEDESTRIANS.KILLED NUMBER.OF.CYCLIST.INJURED ⋯\n",
       "1 0                            0                         ⋯\n",
       "2 0                            0                         ⋯\n",
       "3 0                            0                         ⋯\n",
       "4 0                            1                         ⋯\n",
       "5 0                            0                         ⋯\n",
       "6 0                            0                         ⋯\n",
       "  CONTRIBUTING.FACTOR.VEHICLE.2 CONTRIBUTING.FACTOR.VEHICLE.3\n",
       "1                                                            \n",
       "2                                                            \n",
       "3                                                            \n",
       "4 Unspecified                                                \n",
       "5 Unspecified                                                \n",
       "6                                                            \n",
       "  CONTRIBUTING.FACTOR.VEHICLE.4 CONTRIBUTING.FACTOR.VEHICLE.5 COLLISION_ID\n",
       "1                                                             3988123     \n",
       "2                                                             3987962     \n",
       "3                                                             4193132     \n",
       "4                                                             3985962     \n",
       "5                                                             4192111     \n",
       "6                                                             4191802     \n",
       "  VEHICLE.TYPE.CODE.1 VEHICLE.TYPE.CODE.2                 VEHICLE.TYPE.CODE.3\n",
       "1 Sedan                                                                      \n",
       "2 Sedan                                                                      \n",
       "3 Sedan                                                                      \n",
       "4 Bike                Station Wagon/Sport Utility Vehicle                    \n",
       "5 Sedan               Sedan                                                  \n",
       "6 Sedan                                                                      \n",
       "  VEHICLE.TYPE.CODE.4 VEHICLE.TYPE.CODE.5\n",
       "1                                        \n",
       "2                                        \n",
       "3                                        \n",
       "4                                        \n",
       "5                                        \n",
       "6                                        "
      ]
     },
     "metadata": {},
     "output_type": "display_data"
    }
   ],
   "source": [
    "accidentes <- read.csv('data/accidents.csv',header=T,sep=';')\n",
    "head(accidentes)"
   ]
  },
  {
   "cell_type": "markdown",
   "metadata": {},
   "source": [
    "Se tienen las variables\n",
    "\n",
    "- **BOROUGH:** Vecindario donde ocurrió el accidente\n",
    "- **COLLISION_ID:** ID del accidente\n",
    "- **CONTRIBUTING FACTOR VEHICLE (1, 2, 3, 4, 5):** Razones del accidente\n",
    "- **CROSS STREET NAME:** La calle cruzada más cercana en la que pasó el accidente\n",
    "- **DATE:** Fecha del accidente\n",
    "- **TIME:** Hora del accidente\n",
    "- **LATITUDE:** Latitud del accidente\n",
    "- **LONGITUDE:** Longitud del accidente\n",
    "- **NUMBER OF (CYCLISTS, MOTORISTS, PEDESTRIANS) INJURED:** Número de heridos de cada tipo\n",
    "- **NUMBER OF (CYCLISTS, MOTORISTS, PEDESTRIANS) KILLED:** Número de muertos de cada tipo\n",
    "- **ON STREET NAME:** Calle de accidente\n",
    "- **VEHICLE TYPE CODE (1, 2, 3, 4, 5):** Tipo de vehículo involucrado en el accidente\n",
    "- **ZIP CODE:** Código zip del accidente"
   ]
  },
  {
   "cell_type": "code",
   "execution_count": 4,
   "metadata": {},
   "outputs": [
    {
     "name": "stdout",
     "output_type": "stream",
     "text": [
      "[1] 238522\n"
     ]
    }
   ],
   "source": [
    "print(nrow(accidentes))"
   ]
  },
  {
   "cell_type": "code",
   "execution_count": 5,
   "metadata": {},
   "outputs": [
    {
     "name": "stdout",
     "output_type": "stream",
     "text": [
      "[1] 24\n"
     ]
    }
   ],
   "source": [
    "print(ncol(accidentes))"
   ]
  },
  {
   "cell_type": "markdown",
   "metadata": {},
   "source": [
    "**¿Han incrementado el número de accidentes en el periodo de observación?**\n",
    "\n",
    "Para hacer éste análisis primero debemos cambiar el formato de la columna de la fecha para manejarla apropiadamente."
   ]
  },
  {
   "cell_type": "code",
   "execution_count": 6,
   "metadata": {},
   "outputs": [],
   "source": [
    "accidentes$DATE <-as.Date(accidentes$DATE,'%m/%d/%Y')"
   ]
  },
  {
   "cell_type": "markdown",
   "metadata": {},
   "source": [
    "Con esta transformación podemos extraer el mes de la fecha y hacer un análisis por meses. ¿Qué podemos concluir del número de accidentes por mes?"
   ]
  },
  {
   "cell_type": "code",
   "execution_count": 7,
   "metadata": {},
   "outputs": [
    {
     "data": {
      "image/png": "[encoded data removed]",
      "text/plain": [
       "plot without title"
      ]
     },
     "metadata": {
      "image/png": {
       "height": 420,
       "width": 420
      }
     },
     "output_type": "display_data"
    }
   ],
   "source": [
    "accidentes$m_y <- strftime(accidentes$DATE,'%y-%m')\n",
    "accidentes_mes <- as.data.frame(accidentes %>% count(m_y))\n",
    "ggplot(accidentes_mes, aes(x=m_y, y=n,group=1)) +\n",
    "  geom_line()+xlab(\"Mes\")+ylab(\"Accidentes\")"
   ]
  },
  {
   "cell_type": "code",
   "execution_count": null,
   "metadata": {},
   "outputs": [],
   "source": []
  }
 ],
 "metadata": {
  "kernelspec": {
   "display_name": "R",
   "language": "R",
   "name": "ir"
  },
  "language_info": {
   "codemirror_mode": "r",
   "file_extension": ".r",
   "mimetype": "text/x-r-source",
   "name": "R",
   "pygments_lexer": "r",
   "version": "3.6.3"
  }
 },
 "nbformat": 4,
 "nbformat_minor": 2
}
