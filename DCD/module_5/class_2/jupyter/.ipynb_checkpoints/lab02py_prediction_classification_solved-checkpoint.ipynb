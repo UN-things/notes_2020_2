{
 "cells": [
  {
   "cell_type": "markdown",
   "metadata": {
    "id": "3jxNeuS_inNR"
   },
   "source": [
    "# Lab02 - Predicción y Clasificación"
   ]
  },
  {
   "cell_type": "code",
   "execution_count": 1,
   "metadata": {
    "colab": {
     "base_uri": "https://localhost:8080/"
    },
    "executionInfo": {
     "elapsed": 3438,
     "status": "ok",
     "timestamp": 1605051809412,
     "user": {
      "displayName": "Diana Carolina Sanchez Perez",
      "photoUrl": "https://lh3.googleusercontent.com/a-/AOh14Gj_3KYjtLJhLfSgjmBkvdgF8BYBRKqRe1kF3AVmYOY=s64",
      "userId": "01780966628014545561"
     },
     "user_tz": 300
    },
    "id": "hajWHocOinNS",
    "outputId": "809dbcb1-1fbe-4929-c826-bdd961195e44"
   },
   "outputs": [
    {
     "name": "stderr",
     "output_type": "stream",
     "text": [
      "/usr/local/lib/python3.6/dist-packages/statsmodels/tools/_testing.py:19: FutureWarning: pandas.util.testing is deprecated. Use the functions in the public API at pandas.testing instead.\n",
      "  import pandas.util.testing as tm\n"
     ]
    }
   ],
   "source": [
    "import pickle\n",
    "import pandas as pd\n",
    "import numpy as np\n",
    "import seaborn as sns\n",
    "import pylab as pl\n",
    "import matplotlib.pyplot as plt\n",
    "import statsmodels.api as sm\n",
    "import statsmodels.formula.api as smf\n",
    "\n",
    "from sklearn import svm\n",
    "from sklearn import tree\n",
    "from sklearn.neighbors import KNeighborsClassifier\n",
    "from sklearn.tree import DecisionTreeClassifier\n",
    "from sklearn.linear_model import LinearRegression\n",
    "from sklearn.linear_model import LogisticRegression\n",
    "from sklearn.ensemble import RandomForestClassifier\n",
    "from sklearn.model_selection import train_test_split\n",
    "from sklearn.preprocessing import PolynomialFeatures\n",
    "\n",
    "%matplotlib inline"
   ]
  },
  {
   "cell_type": "markdown",
   "metadata": {
    "id": "U5ZHTmm5inNX"
   },
   "source": [
    "## Cargar el set de datos\n",
    "Vamos a continuar usando el set de datos que limpiamos y transformamos en el [laboratorio pasado](./Lab01py_Preprocesamiento.ipynb) en donde se registran los atributos de varias botellas de vino junto con su calidad.  De esta forma usaremos el mismo dataset a lo largo de todo el flujo del curso como si se tratara de un proyecto real!"
   ]
  },
  {
   "cell_type": "code",
   "execution_count": 2,
   "metadata": {
    "colab": {
     "base_uri": "https://localhost:8080/"
    },
    "executionInfo": {
     "elapsed": 822,
     "status": "ok",
     "timestamp": 1605051874562,
     "user": {
      "displayName": "Diana Carolina Sanchez Perez",
      "photoUrl": "https://lh3.googleusercontent.com/a-/AOh14Gj_3KYjtLJhLfSgjmBkvdgF8BYBRKqRe1kF3AVmYOY=s64",
      "userId": "01780966628014545561"
     },
     "user_tz": 300
    },
    "id": "0lILY0MiinNY",
    "outputId": "f400be3f-74c6-4034-ac15-dd5cb0ff5a36"
   },
   "outputs": [
    {
     "data": {
      "text/plain": [
       "4461"
      ]
     },
     "execution_count": 2,
     "metadata": {
      "tags": []
     },
     "output_type": "execute_result"
    }
   ],
   "source": [
    "wine_df = pd.read_csv('winequality-white_clean.csv')\n",
    "len(wine_df)"
   ]
  },
  {
   "cell_type": "code",
   "execution_count": null,
   "metadata": {
    "id": "nuhwZ80linNd",
    "outputId": "ba210751-c201-4a31-c584-6f015beb4f48"
   },
   "outputs": [
    {
     "data": {
      "text/html": [
       "<div>\n",
       "<style scoped>\n",
       "    .dataframe tbody tr th:only-of-type {\n",
       "        vertical-align: middle;\n",
       "    }\n",
       "\n",
       "    .dataframe tbody tr th {\n",
       "        vertical-align: top;\n",
       "    }\n",
       "\n",
       "    .dataframe thead th {\n",
       "        text-align: right;\n",
       "    }\n",
       "</style>\n",
       "<table border=\"1\" class=\"dataframe\">\n",
       "  <thead>\n",
       "    <tr style=\"text-align: right;\">\n",
       "      <th></th>\n",
       "      <th>fixed_acidity</th>\n",
       "      <th>volatile_acidity</th>\n",
       "      <th>citric_acid</th>\n",
       "      <th>residual_sugar</th>\n",
       "      <th>chlorides</th>\n",
       "      <th>free_sulfur_dioxide</th>\n",
       "      <th>total_sulfur_dioxide</th>\n",
       "      <th>density</th>\n",
       "      <th>pH</th>\n",
       "      <th>sulphates</th>\n",
       "      <th>alcohol</th>\n",
       "      <th>score</th>\n",
       "    </tr>\n",
       "  </thead>\n",
       "  <tbody>\n",
       "    <tr>\n",
       "      <th>0</th>\n",
       "      <td>7.0</td>\n",
       "      <td>0.27</td>\n",
       "      <td>0.36</td>\n",
       "      <td>20.7</td>\n",
       "      <td>0.045</td>\n",
       "      <td>45.0</td>\n",
       "      <td>170.0</td>\n",
       "      <td>1.0010</td>\n",
       "      <td>3.00</td>\n",
       "      <td>0.45</td>\n",
       "      <td>8.8</td>\n",
       "      <td>6.15</td>\n",
       "    </tr>\n",
       "    <tr>\n",
       "      <th>1</th>\n",
       "      <td>6.3</td>\n",
       "      <td>0.30</td>\n",
       "      <td>0.34</td>\n",
       "      <td>1.6</td>\n",
       "      <td>0.049</td>\n",
       "      <td>14.0</td>\n",
       "      <td>132.0</td>\n",
       "      <td>0.9940</td>\n",
       "      <td>3.30</td>\n",
       "      <td>0.49</td>\n",
       "      <td>9.5</td>\n",
       "      <td>6.67</td>\n",
       "    </tr>\n",
       "    <tr>\n",
       "      <th>2</th>\n",
       "      <td>8.1</td>\n",
       "      <td>0.28</td>\n",
       "      <td>0.40</td>\n",
       "      <td>6.9</td>\n",
       "      <td>0.050</td>\n",
       "      <td>30.0</td>\n",
       "      <td>97.0</td>\n",
       "      <td>0.9951</td>\n",
       "      <td>3.26</td>\n",
       "      <td>0.44</td>\n",
       "      <td>10.1</td>\n",
       "      <td>6.48</td>\n",
       "    </tr>\n",
       "    <tr>\n",
       "      <th>3</th>\n",
       "      <td>7.2</td>\n",
       "      <td>0.23</td>\n",
       "      <td>0.32</td>\n",
       "      <td>8.5</td>\n",
       "      <td>0.058</td>\n",
       "      <td>47.0</td>\n",
       "      <td>186.0</td>\n",
       "      <td>0.9956</td>\n",
       "      <td>3.19</td>\n",
       "      <td>0.40</td>\n",
       "      <td>9.9</td>\n",
       "      <td>6.74</td>\n",
       "    </tr>\n",
       "    <tr>\n",
       "      <th>4</th>\n",
       "      <td>7.2</td>\n",
       "      <td>0.23</td>\n",
       "      <td>0.32</td>\n",
       "      <td>8.5</td>\n",
       "      <td>0.058</td>\n",
       "      <td>47.0</td>\n",
       "      <td>186.0</td>\n",
       "      <td>0.9956</td>\n",
       "      <td>3.19</td>\n",
       "      <td>0.40</td>\n",
       "      <td>9.9</td>\n",
       "      <td>6.45</td>\n",
       "    </tr>\n",
       "  </tbody>\n",
       "</table>\n",
       "</div>"
      ],
      "text/plain": [
       "   fixed_acidity  volatile_acidity  citric_acid  residual_sugar  chlorides  \\\n",
       "0            7.0              0.27         0.36            20.7      0.045   \n",
       "1            6.3              0.30         0.34             1.6      0.049   \n",
       "2            8.1              0.28         0.40             6.9      0.050   \n",
       "3            7.2              0.23         0.32             8.5      0.058   \n",
       "4            7.2              0.23         0.32             8.5      0.058   \n",
       "\n",
       "   free_sulfur_dioxide  total_sulfur_dioxide  density    pH  sulphates  \\\n",
       "0                 45.0                 170.0   1.0010  3.00       0.45   \n",
       "1                 14.0                 132.0   0.9940  3.30       0.49   \n",
       "2                 30.0                  97.0   0.9951  3.26       0.44   \n",
       "3                 47.0                 186.0   0.9956  3.19       0.40   \n",
       "4                 47.0                 186.0   0.9956  3.19       0.40   \n",
       "\n",
       "   alcohol  score  \n",
       "0      8.8   6.15  \n",
       "1      9.5   6.67  \n",
       "2     10.1   6.48  \n",
       "3      9.9   6.74  \n",
       "4      9.9   6.45  "
      ]
     },
     "execution_count": 4,
     "metadata": {
      "tags": []
     },
     "output_type": "execute_result"
    }
   ],
   "source": [
    "wine_df.head()"
   ]
  },
  {
   "cell_type": "markdown",
   "metadata": {
    "id": "sQqBM0l7inNi"
   },
   "source": [
    "## 2a. Predicción  \n",
    "Ya hemos visto los conceptos básicos de una regresión: \n",
    "- Aprendizaje **supervisado**\n",
    "- Predecir una variable **contínua**\n",
    "- Se busca encontrar los **pesos** de las variables para validar cada una de ellas cómo influye en nuestra variable final  \n",
    "\n",
    "Lo primero que debemos hacer es separar nuestra variable objetivo (*score*) de las variables predictivas (En este caso son todas las demás, excepto *high_quality* que será nuestra variable objetivo en el laboratorio de clasificación)"
   ]
  },
  {
   "cell_type": "code",
   "execution_count": null,
   "metadata": {
    "id": "_pKrGxrRinNj",
    "outputId": "d9455792-c8fa-4438-a1ef-40fce478cc0d"
   },
   "outputs": [
    {
     "data": {
      "text/html": [
       "<div>\n",
       "<style scoped>\n",
       "    .dataframe tbody tr th:only-of-type {\n",
       "        vertical-align: middle;\n",
       "    }\n",
       "\n",
       "    .dataframe tbody tr th {\n",
       "        vertical-align: top;\n",
       "    }\n",
       "\n",
       "    .dataframe thead th {\n",
       "        text-align: right;\n",
       "    }\n",
       "</style>\n",
       "<table border=\"1\" class=\"dataframe\">\n",
       "  <thead>\n",
       "    <tr style=\"text-align: right;\">\n",
       "      <th></th>\n",
       "      <th>fixed_acidity</th>\n",
       "      <th>volatile_acidity</th>\n",
       "      <th>citric_acid</th>\n",
       "      <th>residual_sugar</th>\n",
       "      <th>chlorides</th>\n",
       "      <th>free_sulfur_dioxide</th>\n",
       "      <th>total_sulfur_dioxide</th>\n",
       "      <th>density</th>\n",
       "      <th>pH</th>\n",
       "      <th>sulphates</th>\n",
       "      <th>alcohol</th>\n",
       "    </tr>\n",
       "  </thead>\n",
       "  <tbody>\n",
       "    <tr>\n",
       "      <th>0</th>\n",
       "      <td>7.0</td>\n",
       "      <td>0.27</td>\n",
       "      <td>0.36</td>\n",
       "      <td>20.7</td>\n",
       "      <td>0.045</td>\n",
       "      <td>45.0</td>\n",
       "      <td>170.0</td>\n",
       "      <td>1.0010</td>\n",
       "      <td>3.00</td>\n",
       "      <td>0.45</td>\n",
       "      <td>8.8</td>\n",
       "    </tr>\n",
       "    <tr>\n",
       "      <th>1</th>\n",
       "      <td>6.3</td>\n",
       "      <td>0.30</td>\n",
       "      <td>0.34</td>\n",
       "      <td>1.6</td>\n",
       "      <td>0.049</td>\n",
       "      <td>14.0</td>\n",
       "      <td>132.0</td>\n",
       "      <td>0.9940</td>\n",
       "      <td>3.30</td>\n",
       "      <td>0.49</td>\n",
       "      <td>9.5</td>\n",
       "    </tr>\n",
       "    <tr>\n",
       "      <th>2</th>\n",
       "      <td>8.1</td>\n",
       "      <td>0.28</td>\n",
       "      <td>0.40</td>\n",
       "      <td>6.9</td>\n",
       "      <td>0.050</td>\n",
       "      <td>30.0</td>\n",
       "      <td>97.0</td>\n",
       "      <td>0.9951</td>\n",
       "      <td>3.26</td>\n",
       "      <td>0.44</td>\n",
       "      <td>10.1</td>\n",
       "    </tr>\n",
       "    <tr>\n",
       "      <th>3</th>\n",
       "      <td>7.2</td>\n",
       "      <td>0.23</td>\n",
       "      <td>0.32</td>\n",
       "      <td>8.5</td>\n",
       "      <td>0.058</td>\n",
       "      <td>47.0</td>\n",
       "      <td>186.0</td>\n",
       "      <td>0.9956</td>\n",
       "      <td>3.19</td>\n",
       "      <td>0.40</td>\n",
       "      <td>9.9</td>\n",
       "    </tr>\n",
       "    <tr>\n",
       "      <th>4</th>\n",
       "      <td>7.2</td>\n",
       "      <td>0.23</td>\n",
       "      <td>0.32</td>\n",
       "      <td>8.5</td>\n",
       "      <td>0.058</td>\n",
       "      <td>47.0</td>\n",
       "      <td>186.0</td>\n",
       "      <td>0.9956</td>\n",
       "      <td>3.19</td>\n",
       "      <td>0.40</td>\n",
       "      <td>9.9</td>\n",
       "    </tr>\n",
       "  </tbody>\n",
       "</table>\n",
       "</div>"
      ],
      "text/plain": [
       "   fixed_acidity  volatile_acidity  citric_acid  residual_sugar  chlorides  \\\n",
       "0            7.0              0.27         0.36            20.7      0.045   \n",
       "1            6.3              0.30         0.34             1.6      0.049   \n",
       "2            8.1              0.28         0.40             6.9      0.050   \n",
       "3            7.2              0.23         0.32             8.5      0.058   \n",
       "4            7.2              0.23         0.32             8.5      0.058   \n",
       "\n",
       "   free_sulfur_dioxide  total_sulfur_dioxide  density    pH  sulphates  \\\n",
       "0                 45.0                 170.0   1.0010  3.00       0.45   \n",
       "1                 14.0                 132.0   0.9940  3.30       0.49   \n",
       "2                 30.0                  97.0   0.9951  3.26       0.44   \n",
       "3                 47.0                 186.0   0.9956  3.19       0.40   \n",
       "4                 47.0                 186.0   0.9956  3.19       0.40   \n",
       "\n",
       "   alcohol  \n",
       "0      8.8  \n",
       "1      9.5  \n",
       "2     10.1  \n",
       "3      9.9  \n",
       "4      9.9  "
      ]
     },
     "execution_count": 5,
     "metadata": {
      "tags": []
     },
     "output_type": "execute_result"
    }
   ],
   "source": [
    "# PRIMERO DEBO SEPARAR MI VARIABLE X Y Y. Entonce separé todos mis dtasets original y después separo mis dos variables\n",
    "y = wine_df['score']\n",
    "x = wine_df.drop(['score'], axis=1)\n",
    "x.head()"
   ]
  },
  {
   "cell_type": "code",
   "execution_count": null,
   "metadata": {
    "id": "dvCWuLT-inNn",
    "outputId": "6d85d9f8-b305-46b4-967f-1245ee74166b"
   },
   "outputs": [
    {
     "name": "stdout",
     "output_type": "stream",
     "text": [
      "Población:4461\n",
      "Muestra para Entrenamiento:3122\n",
      "Muestra para Pruebas:1339\n"
     ]
    }
   ],
   "source": [
    "#test_size: siempre es recomendable que el de prueba sea más alto y esto debe hacerse para cualquier modelo que yo vaya a entrenar.\n",
    "print('Población:'+str(len(x)))\n",
    "x_train, x_test, y_train, y_test = train_test_split(x, y, test_size=0.3, random_state=42)\n",
    "print('Muestra para Entrenamiento:'+str(len(x_train)))\n",
    "print('Muestra para Pruebas:'+str(len(x_test)))"
   ]
  },
  {
   "cell_type": "markdown",
   "metadata": {
    "id": "oBW9ClO1inNq"
   },
   "source": [
    "### OLS (Ordinary Least Squares)\n",
    "\n",
    "Ahora voy a buscar mis variables de predicción y busco una línea que defina todos los puntos.\n",
    "\n",
    "El mejor modelo será aquel en que los errores sean los más cercanos a cero.\n",
    "\n",
    "Llamado así porque busca los coeficientes de la ecuación que minimizen la suma de las distancias verticales entre los datos y el modelo.  Para aplicar este modelo se debe validar que no haya multicolinealidad entre las variables predictivas, pues no la detecta fácilmente.  \n",
    "![OLS](https://miro.medium.com/max/3268/1*AwC1WRm7jtldUcNMJTWmiA.png)\n",
    "\n",
    "Características de un modelo de error de mínimo cuadrado: me sirve es para variables no correlacionadas. Si las variables yo las escogí muy bien, va a tener una alta precisión, se entrena muy rápido, es mu explicativo\n",
    "\n",
    "- **Precisión:** Alta, para variables no correlacionadas (Condiciones para OLS [aquí](https://statisticsbyjim.com/regression/ols-linear-regression-assumptions))\n",
    "- **Velocidad:** Rápido\n",
    "- **Explicativo:** Mucho (Peso/Importancia de cada variable)\n",
    "- **Sensible a cambios:** Poco, OLS crea una estimación generalizada a todos los puntos, un solo valor atípico modificará los pesos de las variables pero no drasticamente, pues seguirá convergiendo a los demás puntos\n",
    "- **Deteminístico**: Sí\n",
    "\n",
    "Este modelo es muy poco sensible a cambios. Si llegara un dato muy atipico, si va a cambiar un poco, pero no va a desestabilizar el modelo.\n",
    "\n",
    "Deterministico: si, lo entreno varias veces con los mismos datos, siempre me va a dar el mismo resultado. "
   ]
  },
  {
   "cell_type": "code",
   "execution_count": null,
   "metadata": {
    "id": "3ecSkDCSinNr",
    "outputId": "f648991c-df1f-447e-e335-66635fbdc9cf"
   },
   "outputs": [
    {
     "data": {
      "text/plain": [
       "Index(['fixed_acidity', 'volatile_acidity', 'citric_acid', 'residual_sugar',\n",
       "       'chlorides', 'free_sulfur_dioxide', 'total_sulfur_dioxide', 'density',\n",
       "       'pH', 'sulphates', 'alcohol'],\n",
       "      dtype='object')"
      ]
     },
     "execution_count": 7,
     "metadata": {
      "tags": []
     },
     "output_type": "execute_result"
    }
   ],
   "source": [
    "x.columns"
   ]
  },
  {
   "cell_type": "markdown",
   "metadata": {
    "id": "6_pjl6GEinNv"
   },
   "source": [
    "Empecemos con un modelo sencillo: una regresión sobre una sola variable.  Elija una de las columnas predictivas y usémosla como única variable predictiva.  *Ej: chlorides*"
   ]
  },
  {
   "cell_type": "code",
   "execution_count": null,
   "metadata": {
    "id": "9xTSzUptinNx"
   },
   "outputs": [],
   "source": [
    "#vairable objetivo: score y variable explicativa: chlorides\n",
    "model_ols = smf.ols('score ~ chlorides', data=wine_df)\n",
    "fit_ols = model_ols.fit()"
   ]
  },
  {
   "cell_type": "markdown",
   "metadata": {
    "id": "obVeaDCRinN7"
   },
   "source": [
    "En el caso de **una** variable predictiva y una variable objetivo, podemos ver gráficamente el comportamiento de nuestro modelo:"
   ]
  },
  {
   "cell_type": "code",
   "execution_count": null,
   "metadata": {
    "id": "SyyAzk42inN8",
    "outputId": "5e7a6f8d-d2f1-4414-818f-c7a3d23001ff"
   },
   "outputs": [
    {
     "data": {
      "image/png": "[encoded data removed]",
      "text/plain": [
       "<Figure size 432x288 with 1 Axes>"
      ]
     },
     "metadata": {
      "needs_background": "light",
      "tags": []
     },
     "output_type": "display_data"
    }
   ],
   "source": [
    "fig, ax = plt.subplots()\n",
    "plt.scatter(x['chlorides'], y, c='Purple', label='Datos')\n",
    "y_pred = fit_ols.predict(x['chlorides'])\n",
    "ax.plot(x['chlorides'], y_pred, c='Blue', label='Modelo')\n",
    "plt.xlabel('chlorides')\n",
    "plt.ylabel('score')\n",
    "plt.title('Primer Modelo de Regresión Lineal Simple');"
   ]
  },
  {
   "cell_type": "markdown",
   "metadata": {
    "id": "SAfWqUalinOI"
   },
   "source": [
    "Con una sola variable es posible que el modelo no se ajuste correctamente a los datos, podemos ver que daría predicciones erradas.  Podemos incluír otras variables al modelo que nos permitan darle más flexibilidad a l ecuación\n",
    "\n",
    "En el parámetro para *smf.ols()* se le indica al modelo que necesitamos una función de la forma:\n",
    "> Y ~ X1 + X2 + X3 + X4 + ... + Xn  \n",
    "\n",
    "En donde Y es nuestra variale objetivo y cada Xi son las variables predictivas para las que se debe buscar un peso en la ecuación."
   ]
  },
  {
   "cell_type": "code",
   "execution_count": null,
   "metadata": {
    "id": "JphqEZk2inOL",
    "outputId": "e7caf4fa-6349-4c9e-e3fa-2caa1aa5cba9"
   },
   "outputs": [
    {
     "data": {
      "text/html": [
       "<table class=\"simpletable\">\n",
       "<caption>OLS Regression Results</caption>\n",
       "<tr>\n",
       "  <th>Dep. Variable:</th>          <td>score</td>      <th>  R-squared:         </th> <td>   0.273</td> \n",
       "</tr>\n",
       "<tr>\n",
       "  <th>Model:</th>                   <td>OLS</td>       <th>  Adj. R-squared:    </th> <td>   0.272</td> \n",
       "</tr>\n",
       "<tr>\n",
       "  <th>Method:</th>             <td>Least Squares</td>  <th>  F-statistic:       </th> <td>   152.1</td> \n",
       "</tr>\n",
       "<tr>\n",
       "  <th>Date:</th>             <td>Sun, 08 Nov 2020</td> <th>  Prob (F-statistic):</th> <td>2.30e-298</td>\n",
       "</tr>\n",
       "<tr>\n",
       "  <th>Time:</th>                 <td>23:42:42</td>     <th>  Log-Likelihood:    </th> <td> -5301.4</td> \n",
       "</tr>\n",
       "<tr>\n",
       "  <th>No. Observations:</th>      <td>  4461</td>      <th>  AIC:               </th> <td>1.063e+04</td>\n",
       "</tr>\n",
       "<tr>\n",
       "  <th>Df Residuals:</th>          <td>  4449</td>      <th>  BIC:               </th> <td>1.070e+04</td>\n",
       "</tr>\n",
       "<tr>\n",
       "  <th>Df Model:</th>              <td>    11</td>      <th>                     </th>     <td> </td>    \n",
       "</tr>\n",
       "<tr>\n",
       "  <th>Covariance Type:</th>      <td>nonrobust</td>    <th>                     </th>     <td> </td>    \n",
       "</tr>\n",
       "</table>\n",
       "<table class=\"simpletable\">\n",
       "<tr>\n",
       "            <td></td>              <th>coef</th>     <th>std err</th>      <th>t</th>      <th>P>|t|</th>  <th>[0.025</th>    <th>0.975]</th>  \n",
       "</tr>\n",
       "<tr>\n",
       "  <th>Intercept</th>            <td>  153.5215</td> <td>   20.503</td> <td>    7.488</td> <td> 0.000</td> <td>  113.324</td> <td>  193.718</td>\n",
       "</tr>\n",
       "<tr>\n",
       "  <th>fixed_acidity</th>        <td>    0.1088</td> <td>    0.024</td> <td>    4.611</td> <td> 0.000</td> <td>    0.063</td> <td>    0.155</td>\n",
       "</tr>\n",
       "<tr>\n",
       "  <th>volatile_acidity</th>     <td>   -1.6731</td> <td>    0.127</td> <td>  -13.209</td> <td> 0.000</td> <td>   -1.921</td> <td>   -1.425</td>\n",
       "</tr>\n",
       "<tr>\n",
       "  <th>citric_acid</th>          <td>    0.1496</td> <td>    0.109</td> <td>    1.371</td> <td> 0.170</td> <td>   -0.064</td> <td>    0.363</td>\n",
       "</tr>\n",
       "<tr>\n",
       "  <th>residual_sugar</th>       <td>    0.0813</td> <td>    0.008</td> <td>    9.843</td> <td> 0.000</td> <td>    0.065</td> <td>    0.097</td>\n",
       "</tr>\n",
       "<tr>\n",
       "  <th>chlorides</th>            <td>   -0.5376</td> <td>    0.637</td> <td>   -0.844</td> <td> 0.399</td> <td>   -1.786</td> <td>    0.711</td>\n",
       "</tr>\n",
       "<tr>\n",
       "  <th>free_sulfur_dioxide</th>  <td>    0.0043</td> <td>    0.001</td> <td>    4.517</td> <td> 0.000</td> <td>    0.002</td> <td>    0.006</td>\n",
       "</tr>\n",
       "<tr>\n",
       "  <th>total_sulfur_dioxide</th> <td>   -0.0006</td> <td>    0.000</td> <td>   -1.494</td> <td> 0.135</td> <td>   -0.001</td> <td>    0.000</td>\n",
       "</tr>\n",
       "<tr>\n",
       "  <th>density</th>              <td> -154.2728</td> <td>   20.814</td> <td>   -7.412</td> <td> 0.000</td> <td> -195.078</td> <td> -113.467</td>\n",
       "</tr>\n",
       "<tr>\n",
       "  <th>pH</th>                   <td>    0.8969</td> <td>    0.125</td> <td>    7.200</td> <td> 0.000</td> <td>    0.653</td> <td>    1.141</td>\n",
       "</tr>\n",
       "<tr>\n",
       "  <th>sulphates</th>            <td>    0.6693</td> <td>    0.111</td> <td>    6.008</td> <td> 0.000</td> <td>    0.451</td> <td>    0.888</td>\n",
       "</tr>\n",
       "<tr>\n",
       "  <th>alcohol</th>              <td>    0.2012</td> <td>    0.026</td> <td>    7.620</td> <td> 0.000</td> <td>    0.149</td> <td>    0.253</td>\n",
       "</tr>\n",
       "</table>\n",
       "<table class=\"simpletable\">\n",
       "<tr>\n",
       "  <th>Omnibus:</th>       <td>62.094</td> <th>  Durbin-Watson:     </th> <td>   1.708</td>\n",
       "</tr>\n",
       "<tr>\n",
       "  <th>Prob(Omnibus):</th> <td> 0.000</td> <th>  Jarque-Bera (JB):  </th> <td> 114.404</td>\n",
       "</tr>\n",
       "<tr>\n",
       "  <th>Skew:</th>          <td>-0.005</td> <th>  Prob(JB):          </th> <td>1.44e-25</td>\n",
       "</tr>\n",
       "<tr>\n",
       "  <th>Kurtosis:</th>      <td> 3.784</td> <th>  Cond. No.          </th> <td>3.70e+05</td>\n",
       "</tr>\n",
       "</table><br/><br/>Warnings:<br/>[1] Standard Errors assume that the covariance matrix of the errors is correctly specified.<br/>[2] The condition number is large, 3.7e+05. This might indicate that there are<br/>strong multicollinearity or other numerical problems."
      ],
      "text/plain": [
       "<class 'statsmodels.iolib.summary.Summary'>\n",
       "\"\"\"\n",
       "                            OLS Regression Results                            \n",
       "==============================================================================\n",
       "Dep. Variable:                  score   R-squared:                       0.273\n",
       "Model:                            OLS   Adj. R-squared:                  0.272\n",
       "Method:                 Least Squares   F-statistic:                     152.1\n",
       "Date:                Sun, 08 Nov 2020   Prob (F-statistic):          2.30e-298\n",
       "Time:                        23:42:42   Log-Likelihood:                -5301.4\n",
       "No. Observations:                4461   AIC:                         1.063e+04\n",
       "Df Residuals:                    4449   BIC:                         1.070e+04\n",
       "Df Model:                          11                                         \n",
       "Covariance Type:            nonrobust                                         \n",
       "========================================================================================\n",
       "                           coef    std err          t      P>|t|      [0.025      0.975]\n",
       "----------------------------------------------------------------------------------------\n",
       "Intercept              153.5215     20.503      7.488      0.000     113.324     193.718\n",
       "fixed_acidity            0.1088      0.024      4.611      0.000       0.063       0.155\n",
       "volatile_acidity        -1.6731      0.127    -13.209      0.000      -1.921      -1.425\n",
       "citric_acid              0.1496      0.109      1.371      0.170      -0.064       0.363\n",
       "residual_sugar           0.0813      0.008      9.843      0.000       0.065       0.097\n",
       "chlorides               -0.5376      0.637     -0.844      0.399      -1.786       0.711\n",
       "free_sulfur_dioxide      0.0043      0.001      4.517      0.000       0.002       0.006\n",
       "total_sulfur_dioxide    -0.0006      0.000     -1.494      0.135      -0.001       0.000\n",
       "density               -154.2728     20.814     -7.412      0.000    -195.078    -113.467\n",
       "pH                       0.8969      0.125      7.200      0.000       0.653       1.141\n",
       "sulphates                0.6693      0.111      6.008      0.000       0.451       0.888\n",
       "alcohol                  0.2012      0.026      7.620      0.000       0.149       0.253\n",
       "==============================================================================\n",
       "Omnibus:                       62.094   Durbin-Watson:                   1.708\n",
       "Prob(Omnibus):                  0.000   Jarque-Bera (JB):              114.404\n",
       "Skew:                          -0.005   Prob(JB):                     1.44e-25\n",
       "Kurtosis:                       3.784   Cond. No.                     3.70e+05\n",
       "==============================================================================\n",
       "\n",
       "Warnings:\n",
       "[1] Standard Errors assume that the covariance matrix of the errors is correctly specified.\n",
       "[2] The condition number is large, 3.7e+05. This might indicate that there are\n",
       "strong multicollinearity or other numerical problems.\n",
       "\"\"\""
      ]
     },
     "execution_count": 10,
     "metadata": {
      "tags": []
     },
     "output_type": "execute_result"
    }
   ],
   "source": [
    "#el R cuadrado: que tan bien se está comportando mi modelo y que tanto se equivocó. Que tanto ese modelo me está explicando. Todas esas variables estadisticas es para mirar si esa variable me sirve o no\n",
    "model_ols = smf.ols('score ~ fixed_acidity + volatile_acidity + citric_acid + residual_sugar +\\\n",
    "              chlorides + free_sulfur_dioxide + total_sulfur_dioxide + density + pH+\\\n",
    "              sulphates + alcohol', data=wine_df)\n",
    "fit_ols = model_ols.fit()\n",
    "fit_ols.summary()"
   ]
  },
  {
   "cell_type": "markdown",
   "metadata": {
    "id": "AgZ_-3EPinOV"
   },
   "source": [
    "La funcion *fit.summary()* nos entrega un montón de información, vamos a analizar las que ma´s nos interesan:  \n",
    "\n",
    "- Modelo utilizado (OLS), cantidad de registros y de variables usadas (incluyendo intercepto)\n",
    "- Df Residuals (Flexibilidad del modelo: #Observacionnes - #Variables) y Df modelo (#Variables -Intercepto) *(Un dato que no da el summary de R)*\n",
    "- R2, en la primera tabla, es el cuadrado del coeficiente de correlación de todas las variables y representa el porcentaje estimado de varianza que puede ser explicado por el modelo. Entre mayor R2 mejor. R2 me permite evaluar el modelo, yo empiezo a ver que tan bien se está comportando el modelo, si me explica bien mi variable objetivo.\n",
    "- Adj. R2 es un R2 que penaliza coeficientes muy grandes o muy bajos y variables redundantes.  \n",
    "- La tabla del centro nos muestra los coeficientes encontrados por el modelo para cada variable, junto con el error estándar de cada uno.  Esto significa que nuestro modelo tiene la forma:\n",
    "\n",
    "$$\n",
    "y = 153.5215 + 0.1088(fixed acidity) - 1.6731(volatile acidity) + ... + 0.2012(alcohol)\n",
    "$$\n",
    "\n",
    "- Los valores t y valores P (*P>t*), para cada variable, indican si esta afecta o no la variable objetivo.  Son valores estadísticos, por lo general se busca que P < 0.05\n",
    "- Intervalo de confianza de cada variable [0.025 - 0.975]\n",
    "\n",
    "Por ahora, vamos a trabajar con estos valores para mejorar nuestro modelo.  Si quieres saber en detalle el significado y el impacto de modificar cada uno de estos resultados, puedes leer más [aquí](https://www.datarobot.com/blog/ordinary-least-squares-in-python/)"
   ]
  },
  {
   "cell_type": "markdown",
   "metadata": {
    "id": "mE26uy_QinOW"
   },
   "source": [
    "Una buena práctica es guardar los modelos\n",
    "\n",
    "**Taller**  \n",
    "Juegue un poco con las variables en la función *smf.ols()* para ver si logra aumentar el R2 del modelo.  Por ejemplo:\n",
    "- Revise las variables que, según el  [laboratorio pasado](./Lab01py_Preprocesamiento.ipynb) están correlacionadas entre sí y aquellas que están correlacionadas con la variabe objetivo\n",
    "- Revise las variables que, según el modelo afectan la variable objetivo (*P valores*)  \n",
    "\n",
    "Una vez encuentre un modelo que considere adecuado, vamos a a guardarlo para futuros laboratorios:"
   ]
  },
  {
   "cell_type": "code",
   "execution_count": null,
   "metadata": {
    "id": "MFOVWD2EinOW"
   },
   "outputs": [],
   "source": [
    "fit_ols.save('models/model_ols.pkl')"
   ]
  },
  {
   "cell_type": "markdown",
   "metadata": {
    "id": "lnC6ohSCinOZ"
   },
   "source": [
    "### Modelos Polinomiales  \n",
    "Modelos como el anterior, en los que se define una *\"fórmula\"* para que el modelo encuentre los coeficientes, son muy comunes en las funciones de R.  \n",
    "[scikit-learn](https://scikit-learn.org/dev/index.html), es la librería preferida de los que trabajamos con Machine Learning en **Python**.  No solo para predicción de variables contínuas sino para todo tipo de modelos.  \n",
    ">Por ejemplo, el ejercicio anterior puede realizarse también con esta librería usando la clase *LinearRegression()*  \n",
    "\n",
    "Para ello, es necesario dividir el dataset en entrenamiento y prueba y **diferenciar las variables predictivas (x) de la variable objetivo (y).**"
   ]
  },
  {
   "cell_type": "code",
   "execution_count": null,
   "metadata": {
    "id": "nqNe8t8IinOa"
   },
   "outputs": [],
   "source": [
    "x_train, x_test, y_train, y_test = train_test_split(x, y, test_size=0.3, random_state=42)\n",
    "columnas = ['residual_sugar', 'alcohol', 'citric_acid']\n",
    "\n",
    "x_train = x_train[columnas]\n",
    "x_test = x_test[columnas]"
   ]
  },
  {
   "cell_type": "code",
   "execution_count": null,
   "metadata": {
    "id": "47uDnaniinOd",
    "outputId": "9a8be0fa-4efd-40d9-c440-c74a75eaf91d"
   },
   "outputs": [
    {
     "data": {
      "text/plain": [
       "0.2343782555635947"
      ]
     },
     "execution_count": 13,
     "metadata": {
      "tags": []
     },
     "output_type": "execute_result"
    }
   ],
   "source": [
    "model_poly = PolynomialFeatures(degree=2)\n",
    "x_train_poly = model_poly.fit_transform(x_train)\n",
    "x_test_poly = model_poly.fit_transform(x_test)\n",
    "\n",
    "model_linpoly = LinearRegression()\n",
    "model_linpoly.fit(x_train_poly, y_train)\n",
    "model_linpoly.feature_names_ = model_poly.get_feature_names()\n",
    "\n",
    "model_linpoly.score(x_test_poly, y_test)"
   ]
  },
  {
   "cell_type": "markdown",
   "metadata": {
    "id": "Bw0fRi4JinOm"
   },
   "source": [
    "En celdas anteriores hemos dividido el conjunto de datos en dos subconjuntos: Entrenamiento y Prueba.  \n",
    "Ahora, hemos tomado solo tres de ellas (*residual_sugar, alcohol, citric_acid*), para el ejemplo y creado y entrenado (*fit*) un modelo polinomial usando únicamente el set de entrenamiento, y hemos calculado el $R2$ (*score*) usando el set de pruebas: **23%**, el modelo aún puede mejorar, esto lo haremos más adelante.  \n",
    "Pero cuál es este modelo/ecuación qué hemos creado, asi como lo vimos en la sección pasada?"
   ]
  },
  {
   "cell_type": "code",
   "execution_count": null,
   "metadata": {
    "id": "wpTcr5S-inOm",
    "outputId": "635d5a40-4c1c-4a6e-b756-a6ed6fc9a53f"
   },
   "outputs": [
    {
     "name": "stdout",
     "output_type": "stream",
     "text": [
      "[ 0.00000000e+00  1.06650064e-01  6.45477565e-01  2.47922588e+00\n",
      " -9.56781899e-04 -5.60730321e-03 -3.78017361e-02 -1.06736019e-02\n",
      " -5.00653324e-02 -1.75114094e+00]\n",
      "Cantidad de coeficientes: 10\n"
     ]
    }
   ],
   "source": [
    "print(model_linpoly.coef_)\n",
    "print('Cantidad de coeficientes: ' + str(len(model_linpoly.coef_)))"
   ]
  },
  {
   "cell_type": "markdown",
   "metadata": {
    "id": "5I2FHbAqinOq"
   },
   "source": [
    "Parecen ser muchos? Porqué? Cómo saber a qué variable corresponde cada uno?"
   ]
  },
  {
   "cell_type": "code",
   "execution_count": null,
   "metadata": {
    "id": "XzQvRx2UinOr",
    "outputId": "969c2fb5-0f3e-46e2-c94d-348c2937a87d"
   },
   "outputs": [
    {
     "data": {
      "text/plain": [
       "'(0.0)*1 + (0.10665006370762513)*x0 + (0.6454775653273231)*x1 + (2.4792258796071525)*x2 + (-0.0009567818991781629)*x0^2 + (-0.005607303205422449)*x0 x1 + (-0.03780173605013963)*x0 x2 + (-0.010673601861558716)*x1^2 + (-0.05006533237909552)*x1 x2 + (-1.7511409446058785)*x2^2'"
      ]
     },
     "execution_count": 15,
     "metadata": {
      "tags": []
     },
     "output_type": "execute_result"
    }
   ],
   "source": [
    "' + '.join(['('+str(c)+')*'+f for c,f in \n",
    "          zip(model_linpoly.coef_, model_linpoly.feature_names_)])"
   ]
  },
  {
   "cell_type": "markdown",
   "metadata": {
    "id": "aTraXBFtinOv"
   },
   "source": [
    "En este formato $X0, X1 y X2$ corresponden a nuestras columnas elegidas para el ejemplo: *residual_sugar, alcohol, citric_acid*  \n",
    "\n",
    "Pero no es necesario realizar este calculo cada vez que queramos predecir un dato nuevo. El modelo nos entrega predicciones de un nuevo set de datos usando la función *predict*"
   ]
  },
  {
   "cell_type": "code",
   "execution_count": null,
   "metadata": {
    "id": "FL-YB_NdinOw",
    "outputId": "b8b596e9-5ede-47af-d854-7b71914aa4cc"
   },
   "outputs": [
    {
     "name": "stdout",
     "output_type": "stream",
     "text": [
      "[6.46198484 6.02779122 6.2357096  ... 5.731812   5.92737537 6.61237207]\n"
     ]
    }
   ],
   "source": [
    "print(model_linpoly.predict(x_test_poly))"
   ]
  },
  {
   "cell_type": "markdown",
   "metadata": {
    "id": "DUSmT62IinO4"
   },
   "source": [
    "**Taller**  \n",
    "Juegue un poco con las variables a incluir o no en el modelo, así como el grado de la regresión polinomial para ver si logra aumentar el score del modelo.\n",
    "\n",
    "Una vez encuentre un modelo que considere adecuado, vamos a a guardarlo para futuros laboratorios:"
   ]
  },
  {
   "cell_type": "code",
   "execution_count": null,
   "metadata": {
    "id": "aySHR_7FinO6"
   },
   "outputs": [],
   "source": [
    "with open(\"models/model_poly.pkl\", \"wb\") as f:\n",
    "    pickle.dump(model_linpoly, f)"
   ]
  },
  {
   "cell_type": "markdown",
   "metadata": {
    "id": "DecGXVi6inPJ"
   },
   "source": [
    "## 2b. Clasificación  \n",
    "\n",
    "Antes de todo. Dividr los datasets en entreno y prueba.\n",
    "\n",
    "Ya hemos visto porqué una regresión lineal es diferente a una clasificación, tanto en el concepto como matemáticamente: \n",
    "- Predecir una variable **categórica**\n",
    "- Se busca encontrar los patrones o similitudes entre cada *clase* para poder clasificar después un registro nuevo  \n",
    "\n",
    "Sin embargo, al igual que en la Predicción, lo primero que debemos hacer es separar nuestra variable objetivo (*high_quality*) de las variables predictivas (En este caso son todas las demás, excepto *score* que fue nuestra variable objetivo en el laboratorio de predicción)"
   ]
  },
  {
   "cell_type": "code",
   "execution_count": null,
   "metadata": {
    "id": "THCQH9bpinPK",
    "outputId": "e079df5b-debb-4339-f702-bdbf4a944697"
   },
   "outputs": [
    {
     "data": {
      "text/plain": [
       "1571"
      ]
     },
     "execution_count": 19,
     "metadata": {
      "tags": []
     },
     "output_type": "execute_result"
    }
   ],
   "source": [
    "wine_df = pd.read_csv('data/winequality-red_clean.csv')\n",
    "len(wine_df)"
   ]
  },
  {
   "cell_type": "code",
   "execution_count": null,
   "metadata": {
    "id": "13UgP2mUinPQ",
    "outputId": "89791569-d6d7-4e70-f8d9-3ee021c6aea5"
   },
   "outputs": [
    {
     "data": {
      "text/html": [
       "<div>\n",
       "<style scoped>\n",
       "    .dataframe tbody tr th:only-of-type {\n",
       "        vertical-align: middle;\n",
       "    }\n",
       "\n",
       "    .dataframe tbody tr th {\n",
       "        vertical-align: top;\n",
       "    }\n",
       "\n",
       "    .dataframe thead th {\n",
       "        text-align: right;\n",
       "    }\n",
       "</style>\n",
       "<table border=\"1\" class=\"dataframe\">\n",
       "  <thead>\n",
       "    <tr style=\"text-align: right;\">\n",
       "      <th></th>\n",
       "      <th>fixed_acidity</th>\n",
       "      <th>volatile_acidity</th>\n",
       "      <th>citric_acid</th>\n",
       "      <th>residual_sugar</th>\n",
       "      <th>chlorides</th>\n",
       "      <th>free_sulfur_dioxide</th>\n",
       "      <th>total_sulfur_dioxide</th>\n",
       "      <th>density</th>\n",
       "      <th>pH</th>\n",
       "      <th>sulphates</th>\n",
       "      <th>alcohol</th>\n",
       "    </tr>\n",
       "  </thead>\n",
       "  <tbody>\n",
       "    <tr>\n",
       "      <th>0</th>\n",
       "      <td>7.4</td>\n",
       "      <td>0.70</td>\n",
       "      <td>0.00</td>\n",
       "      <td>1.9</td>\n",
       "      <td>0.076</td>\n",
       "      <td>11.0</td>\n",
       "      <td>34.0</td>\n",
       "      <td>0.9978</td>\n",
       "      <td>3.51</td>\n",
       "      <td>0.56</td>\n",
       "      <td>9.4</td>\n",
       "    </tr>\n",
       "    <tr>\n",
       "      <th>1</th>\n",
       "      <td>7.8</td>\n",
       "      <td>0.88</td>\n",
       "      <td>0.00</td>\n",
       "      <td>2.6</td>\n",
       "      <td>0.098</td>\n",
       "      <td>25.0</td>\n",
       "      <td>67.0</td>\n",
       "      <td>0.9968</td>\n",
       "      <td>3.20</td>\n",
       "      <td>0.68</td>\n",
       "      <td>9.8</td>\n",
       "    </tr>\n",
       "    <tr>\n",
       "      <th>2</th>\n",
       "      <td>7.8</td>\n",
       "      <td>0.76</td>\n",
       "      <td>0.04</td>\n",
       "      <td>2.3</td>\n",
       "      <td>0.092</td>\n",
       "      <td>15.0</td>\n",
       "      <td>54.0</td>\n",
       "      <td>0.9970</td>\n",
       "      <td>3.26</td>\n",
       "      <td>0.65</td>\n",
       "      <td>9.8</td>\n",
       "    </tr>\n",
       "    <tr>\n",
       "      <th>3</th>\n",
       "      <td>11.2</td>\n",
       "      <td>0.28</td>\n",
       "      <td>0.56</td>\n",
       "      <td>1.9</td>\n",
       "      <td>0.075</td>\n",
       "      <td>17.0</td>\n",
       "      <td>60.0</td>\n",
       "      <td>0.9980</td>\n",
       "      <td>3.16</td>\n",
       "      <td>0.58</td>\n",
       "      <td>9.8</td>\n",
       "    </tr>\n",
       "    <tr>\n",
       "      <th>4</th>\n",
       "      <td>7.4</td>\n",
       "      <td>0.70</td>\n",
       "      <td>0.00</td>\n",
       "      <td>1.9</td>\n",
       "      <td>0.076</td>\n",
       "      <td>11.0</td>\n",
       "      <td>34.0</td>\n",
       "      <td>0.9978</td>\n",
       "      <td>3.51</td>\n",
       "      <td>0.56</td>\n",
       "      <td>9.4</td>\n",
       "    </tr>\n",
       "  </tbody>\n",
       "</table>\n",
       "</div>"
      ],
      "text/plain": [
       "   fixed_acidity  volatile_acidity  citric_acid  residual_sugar  chlorides  \\\n",
       "0            7.4              0.70         0.00             1.9      0.076   \n",
       "1            7.8              0.88         0.00             2.6      0.098   \n",
       "2            7.8              0.76         0.04             2.3      0.092   \n",
       "3           11.2              0.28         0.56             1.9      0.075   \n",
       "4            7.4              0.70         0.00             1.9      0.076   \n",
       "\n",
       "   free_sulfur_dioxide  total_sulfur_dioxide  density    pH  sulphates  \\\n",
       "0                 11.0                  34.0   0.9978  3.51       0.56   \n",
       "1                 25.0                  67.0   0.9968  3.20       0.68   \n",
       "2                 15.0                  54.0   0.9970  3.26       0.65   \n",
       "3                 17.0                  60.0   0.9980  3.16       0.58   \n",
       "4                 11.0                  34.0   0.9978  3.51       0.56   \n",
       "\n",
       "   alcohol  \n",
       "0      9.4  \n",
       "1      9.8  \n",
       "2      9.8  \n",
       "3      9.8  \n",
       "4      9.4  "
      ]
     },
     "execution_count": 20,
     "metadata": {
      "tags": []
     },
     "output_type": "execute_result"
    }
   ],
   "source": [
    "y = wine_df['high_quality']\n",
    "x = wine_df.drop(['high_quality'], axis=1)\n",
    "x.head()"
   ]
  },
  {
   "cell_type": "markdown",
   "metadata": {
    "id": "T3RyrUlsinPZ"
   },
   "source": [
    "### Regresion Logística\n",
    "\n",
    "Similar a una regresión lineal, busca definir el comportamiento de los datos a través de una **ecuación**, con la diferencia que en este caso estamos buscando una variable categórica (1/0 o SI/NO), por lo que no nos serviría una ecuación que retorne un valor entre $(-\\infty, \\infty)$.  \n",
    "Sin embago, al ser una ecuación, asume que los datos son linealmente separables:\n",
    "\n",
    "![Logit](https://qph.fs.quoracdn.net/main-qimg-4ddda954955cabf0fb59364cc37232b7.webp)\n",
    "\n",
    "- **Precisión:** Alta, para variables no correlacionadas y modelos linealmente separables\n",
    "- **Velocidad:** Rápido\n",
    "- **Explicativo:** Mucho (Peso/Importancia de cada variable)\n",
    "- **Sensible a cambios:** Mucho, asume que los datos son separables linealmente\n",
    "- **Deteminístico**: No, probabilístico\n",
    "\n",
    "Como el hecho de que sean datos linealmente separables es **muy** importante, vamos a crear un modelo con solo **dos** variables precitivas para poder ver la separación gráficamente:"
   ]
  },
  {
   "cell_type": "code",
   "execution_count": null,
   "metadata": {
    "id": "DsWKKg_binPa"
   },
   "outputs": [],
   "source": [
    "x_train, x_test, y_train, y_test = train_test_split(x, y, test_size=0.2, random_state=42)\n",
    "columnas = ['pH', 'alcohol']\n",
    "x_train = x_train[columnas]\n",
    "x_test = x_test[columnas]"
   ]
  },
  {
   "cell_type": "code",
   "execution_count": null,
   "metadata": {
    "id": "W0Gzbm3linPi",
    "outputId": "35c24078-7acd-4b2d-e2b9-ee10ae5f1481"
   },
   "outputs": [
    {
     "data": {
      "image/png": "[encoded data removed]",
      "text/plain": [
       "<Figure size 432x288 with 1 Axes>"
      ]
     },
     "metadata": {
      "needs_background": "light",
      "tags": []
     },
     "output_type": "display_data"
    }
   ],
   "source": [
    "plt.scatter(x[columnas[0]], x[columnas[1]], c=y, s=20)\n",
    "plt.xlabel(columnas[0])\n",
    "plt.ylabel(columnas[1])\n",
    "plt.title('high_quality');"
   ]
  },
  {
   "cell_type": "markdown",
   "metadata": {
    "id": "TALffcuKinP0"
   },
   "source": [
    "En este caso, nuestra variable predictiva *high_quality*, representada por el color de los puntos, parece ser linealmente separable por la variable *alcohol*, pero no tanto por la variable *pH*.  \n",
    "\n",
    "Cómo afecta esto al modelo?"
   ]
  },
  {
   "cell_type": "code",
   "execution_count": null,
   "metadata": {
    "id": "3M5E7hv9inP1",
    "outputId": "09ecde4a-4284-4f45-fa86-709e49c9b2c0"
   },
   "outputs": [
    {
     "name": "stdout",
     "output_type": "stream",
     "text": [
      "Error: 0.28253968253968254\n"
     ]
    }
   ],
   "source": [
    "model_log = LogisticRegression(solver='liblinear')\n",
    "model_log.fit(x_train, y_train)\n",
    "print('Error: {}'.format(1 - model_log.score(x_test, y_test)))"
   ]
  },
  {
   "cell_type": "markdown",
   "metadata": {
    "id": "u2pbPU-VinP8"
   },
   "source": [
    "Nuevamente hemos entrenado el modelo con los datos de entrenamiento y calculamos el error con datos de entrenamiento, aunque no parece un score tan malo, veamos cómo se comporta el modelo:"
   ]
  },
  {
   "cell_type": "code",
   "execution_count": null,
   "metadata": {
    "id": "zzJOlJBPinP9",
    "outputId": "8397806b-efa3-413b-d292-ab4b4bbb6f51"
   },
   "outputs": [
    {
     "data": {
      "text/plain": [
       "array([[0.61065927, 0.38934073],\n",
       "       [0.73555475, 0.26444525],\n",
       "       [0.165373  , 0.834627  ],\n",
       "       [0.6966012 , 0.3033988 ],\n",
       "       [0.55564586, 0.44435414],\n",
       "       [0.48315083, 0.51684917],\n",
       "       [0.49633092, 0.50366908],\n",
       "       [0.73830408, 0.26169592],\n",
       "       [0.75198774, 0.24801226],\n",
       "       [0.50180449, 0.49819551],\n",
       "       [0.35808512, 0.64191488],\n",
       "       [0.31862776, 0.68137224],\n",
       "       [0.74593789, 0.25406211],\n",
       "       [0.16097929, 0.83902071],\n",
       "       [0.74788186, 0.25211814],\n",
       "       [0.17297204, 0.82702796],\n",
       "       [0.19317247, 0.80682753],\n",
       "       [0.67919084, 0.32080916],\n",
       "       [0.29562255, 0.70437745],\n",
       "       [0.12685726, 0.87314274],\n",
       "       [0.53490043, 0.46509957],\n",
       "       [0.32707642, 0.67292358],\n",
       "       [0.47478948, 0.52521052],\n",
       "       [0.63485175, 0.36514825],\n",
       "       [0.43554857, 0.56445143],\n",
       "       [0.38391391, 0.61608609],\n",
       "       [0.51531791, 0.48468209],\n",
       "       [0.08768012, 0.91231988],\n",
       "       [0.40141519, 0.59858481],\n",
       "       [0.37693555, 0.62306445],\n",
       "       [0.37029783, 0.62970217],\n",
       "       [0.55023363, 0.44976637],\n",
       "       [0.39339172, 0.60660828],\n",
       "       [0.71999815, 0.28000185],\n",
       "       [0.70335867, 0.29664133],\n",
       "       [0.57210304, 0.42789696],\n",
       "       [0.02672865, 0.97327135],\n",
       "       [0.55691503, 0.44308497],\n",
       "       [0.24069395, 0.75930605],\n",
       "       [0.26100858, 0.73899142],\n",
       "       [0.58466136, 0.41533864],\n",
       "       [0.42576796, 0.57423204],\n",
       "       [0.64227828, 0.35772172],\n",
       "       [0.02845481, 0.97154519],\n",
       "       [0.54832417, 0.45167583],\n",
       "       [0.59834701, 0.40165299],\n",
       "       [0.67919084, 0.32080916],\n",
       "       [0.63604288, 0.36395712],\n",
       "       [0.4157227 , 0.5842773 ],\n",
       "       [0.28240008, 0.71759992],\n",
       "       [0.6054413 , 0.3945587 ],\n",
       "       [0.77250836, 0.22749164],\n",
       "       [0.06527822, 0.93472178],\n",
       "       [0.11734061, 0.88265939],\n",
       "       [0.54672153, 0.45327847],\n",
       "       [0.5936943 , 0.4063057 ],\n",
       "       [0.59896472, 0.40103528],\n",
       "       [0.09210307, 0.90789693],\n",
       "       [0.58341221, 0.41658779],\n",
       "       [0.33477008, 0.66522992],\n",
       "       [0.26903682, 0.73096318],\n",
       "       [0.35424356, 0.64575644],\n",
       "       [0.57021391, 0.42978609],\n",
       "       [0.65895994, 0.34104006],\n",
       "       [0.58590942, 0.41409058],\n",
       "       [0.48281941, 0.51718059],\n",
       "       [0.22394159, 0.77605841],\n",
       "       [0.49504555, 0.50495445],\n",
       "       [0.16272308, 0.83727692],\n",
       "       [0.06973514, 0.93026486],\n",
       "       [0.09210307, 0.90789693],\n",
       "       [0.66615399, 0.33384601],\n",
       "       [0.72592796, 0.27407204],\n",
       "       [0.63604288, 0.36395712],\n",
       "       [0.74176625, 0.25823375],\n",
       "       [0.52944951, 0.47055049],\n",
       "       [0.24974969, 0.75025031],\n",
       "       [0.06599026, 0.93400974],\n",
       "       [0.41884839, 0.58115161],\n",
       "       [0.48764607, 0.51235393],\n",
       "       [0.03160194, 0.96839806],\n",
       "       [0.28032076, 0.71967924],\n",
       "       [0.55277727, 0.44722273],\n",
       "       [0.38879005, 0.61120995],\n",
       "       [0.16841718, 0.83158282],\n",
       "       [0.74545035, 0.25454965],\n",
       "       [0.39094039, 0.60905961],\n",
       "       [0.21187369, 0.78812631],\n",
       "       [0.57870831, 0.42129169],\n",
       "       [0.54225806, 0.45774194],\n",
       "       [0.47414843, 0.52585157],\n",
       "       [0.4944029 , 0.5055971 ],\n",
       "       [0.44665007, 0.55334993],\n",
       "       [0.77967055, 0.22032945],\n",
       "       [0.12757553, 0.87242447],\n",
       "       [0.74078012, 0.25921988],\n",
       "       [0.67327154, 0.32672846],\n",
       "       [0.44220656, 0.55779344],\n",
       "       [0.59183248, 0.40816752],\n",
       "       [0.55246978, 0.44753022],\n",
       "       [0.60821151, 0.39178849],\n",
       "       [0.69140573, 0.30859427],\n",
       "       [0.55787672, 0.44212328],\n",
       "       [0.72874046, 0.27125954],\n",
       "       [0.0219715 , 0.9780285 ],\n",
       "       [0.08474038, 0.91525962],\n",
       "       [0.03605754, 0.96394246],\n",
       "       [0.6966012 , 0.3033988 ],\n",
       "       [0.08374869, 0.91625131],\n",
       "       [0.30074234, 0.69925766],\n",
       "       [0.41884839, 0.58115161],\n",
       "       [0.50792021, 0.49207979],\n",
       "       [0.47061381, 0.52938619],\n",
       "       [0.18664057, 0.81335943],\n",
       "       [0.05612132, 0.94387868],\n",
       "       [0.26425281, 0.73574719],\n",
       "       [0.51981144, 0.48018856],\n",
       "       [0.67440162, 0.32559838],\n",
       "       [0.54832417, 0.45167583],\n",
       "       [0.21144471, 0.78855529],\n",
       "       [0.58403692, 0.41596308],\n",
       "       [0.04453982, 0.95546018],\n",
       "       [0.32820913, 0.67179087],\n",
       "       [0.18527214, 0.81472786],\n",
       "       [0.15959517, 0.84040483],\n",
       "       [0.09039759, 0.90960241],\n",
       "       [0.40512723, 0.59487277],\n",
       "       [0.82835347, 0.17164653],\n",
       "       [0.43017368, 0.56982632],\n",
       "       [0.70228473, 0.29771527],\n",
       "       [0.23742028, 0.76257972],\n",
       "       [0.11211069, 0.88788931],\n",
       "       [0.83180418, 0.16819582],\n",
       "       [0.48153559, 0.51846441],\n",
       "       [0.44855708, 0.55144292],\n",
       "       [0.26525371, 0.73474629],\n",
       "       [0.53553997, 0.46446003],\n",
       "       [0.17260457, 0.82739543],\n",
       "       [0.71896038, 0.28103962],\n",
       "       [0.7505465 , 0.2494535 ],\n",
       "       [0.08227777, 0.91772223],\n",
       "       [0.51531791, 0.48468209],\n",
       "       [0.59183248, 0.40816752],\n",
       "       [0.30893177, 0.69106823],\n",
       "       [0.71896038, 0.28103962],\n",
       "       [0.56736614, 0.43263386],\n",
       "       [0.62070607, 0.37929393],\n",
       "       [0.07978299, 0.92021701],\n",
       "       [0.5227089 , 0.4772911 ],\n",
       "       [0.57021391, 0.42978609],\n",
       "       [0.4998763 , 0.5001237 ],\n",
       "       [0.14529877, 0.85470123],\n",
       "       [0.06767635, 0.93232365],\n",
       "       [0.54735857, 0.45264143],\n",
       "       [0.60482699, 0.39517301],\n",
       "       [0.44888539, 0.55111461],\n",
       "       [0.40512723, 0.59487277],\n",
       "       [0.26667852, 0.73332148],\n",
       "       [0.73026241, 0.26973759],\n",
       "       [0.68616139, 0.31383861],\n",
       "       [0.19038308, 0.80961692],\n",
       "       [0.12843643, 0.87156357],\n",
       "       [0.70790644, 0.29209356],\n",
       "       [0.76053264, 0.23946736],\n",
       "       [0.59834701, 0.40165299],\n",
       "       [0.18604954, 0.81395046],\n",
       "       [0.45461603, 0.54538397],\n",
       "       [0.02824237, 0.97175763],\n",
       "       [0.71947956, 0.28052044],\n",
       "       [0.63365897, 0.36634103],\n",
       "       [0.54641329, 0.45358671],\n",
       "       [0.75699566, 0.24300434],\n",
       "       [0.2451936 , 0.7548064 ],\n",
       "       [0.05437265, 0.94562735],\n",
       "       [0.33218933, 0.66781067],\n",
       "       [0.77499102, 0.22500898],\n",
       "       [0.73979153, 0.26020847],\n",
       "       [0.65402255, 0.34597745],\n",
       "       [0.62403913, 0.37596087],\n",
       "       [0.24878748, 0.75121252],\n",
       "       [0.72233292, 0.27766708],\n",
       "       [0.555011  , 0.444989  ],\n",
       "       [0.60482699, 0.39517301],\n",
       "       [0.74373118, 0.25626882],\n",
       "       [0.52206746, 0.47793254],\n",
       "       [0.04961745, 0.95038255],\n",
       "       [0.10684001, 0.89315999],\n",
       "       [0.56484016, 0.43515984],\n",
       "       [0.65692546, 0.34307454],\n",
       "       [0.65634581, 0.34365419],\n",
       "       [0.12657277, 0.87342723],\n",
       "       [0.55437596, 0.44562404],\n",
       "       [0.24376897, 0.75623103],\n",
       "       [0.01709082, 0.98290918],\n",
       "       [0.65022207, 0.34977793],\n",
       "       [0.16805742, 0.83194258],\n",
       "       [0.66414056, 0.33585944],\n",
       "       [0.4966627 , 0.5033373 ],\n",
       "       [0.64168738, 0.35831262],\n",
       "       [0.37000787, 0.62999213],\n",
       "       [0.6966012 , 0.3033988 ],\n",
       "       [0.08006964, 0.91993036],\n",
       "       [0.44124527, 0.55875473],\n",
       "       [0.14228676, 0.85771324],\n",
       "       [0.78427985, 0.21572015],\n",
       "       [0.78558187, 0.21441813],\n",
       "       [0.27928461, 0.72071539],\n",
       "       [0.24830731, 0.75169269],\n",
       "       [0.23256009, 0.76743991],\n",
       "       [0.32934384, 0.67065616],\n",
       "       [0.70843776, 0.29156224],\n",
       "       [0.83323803, 0.16676197],\n",
       "       [0.46388381, 0.53611619],\n",
       "       [0.7365537 , 0.2634463 ],\n",
       "       [0.43585436, 0.56414564],\n",
       "       [0.7038948 , 0.2961052 ],\n",
       "       [0.29562255, 0.70437745],\n",
       "       [0.71055733, 0.28944267],\n",
       "       [0.44601474, 0.55398526],\n",
       "       [0.0794063 , 0.9205937 ],\n",
       "       [0.51339131, 0.48660869],\n",
       "       [0.07959444, 0.92040556],\n",
       "       [0.0385987 , 0.9614013 ],\n",
       "       [0.70282198, 0.29717802],\n",
       "       [0.06465353, 0.93534647],\n",
       "       [0.62343576, 0.37656424],\n",
       "       [0.78143205, 0.21856795],\n",
       "       [0.59183248, 0.40816752],\n",
       "       [0.56895334, 0.43104666],\n",
       "       [0.58341221, 0.41658779],\n",
       "       [0.11654414, 0.88345586],\n",
       "       [0.66126722, 0.33873278],\n",
       "       [0.72975569, 0.27024431],\n",
       "       [0.44728557, 0.55271443],\n",
       "       [0.57682677, 0.42317323],\n",
       "       [0.22776967, 0.77223033],\n",
       "       [0.6749659 , 0.3250341 ],\n",
       "       [0.22912912, 0.77087088],\n",
       "       [0.08997568, 0.91002432],\n",
       "       [0.19357348, 0.80642652],\n",
       "       [0.31528822, 0.68471178],\n",
       "       [0.66356686, 0.33643314],\n",
       "       [0.66729653, 0.33270347],\n",
       "       [0.0794063 , 0.9205937 ],\n",
       "       [0.69714428, 0.30285572],\n",
       "       [0.7901008 , 0.2098992 ],\n",
       "       [0.15994029, 0.84005971],\n",
       "       [0.47350746, 0.52649254],\n",
       "       [0.60882396, 0.39117604],\n",
       "       [0.24022441, 0.75977559],\n",
       "       [0.67383683, 0.32616317],\n",
       "       [0.67327154, 0.32672846],\n",
       "       [0.66126722, 0.33873278],\n",
       "       [0.48315083, 0.51684917],\n",
       "       [0.42765473, 0.57234527],\n",
       "       [0.30893177, 0.69106823],\n",
       "       [0.26903682, 0.73096318],\n",
       "       [0.26375326, 0.73624674],\n",
       "       [0.36075838, 0.63924162],\n",
       "       [0.55277727, 0.44722273],\n",
       "       [0.7932875 , 0.2067125 ],\n",
       "       [0.12930228, 0.87069772],\n",
       "       [0.35659952, 0.64340048],\n",
       "       [0.16360637, 0.83639363],\n",
       "       [0.77633312, 0.22366688],\n",
       "       [0.31278704, 0.68721296],\n",
       "       [0.78187083, 0.21812917],\n",
       "       [0.13017309, 0.86982691],\n",
       "       [0.58872361, 0.41127639],\n",
       "       [0.50051903, 0.49948097],\n",
       "       [0.32707642, 0.67292358],\n",
       "       [0.26176116, 0.73823884],\n",
       "       [0.40636701, 0.59363299],\n",
       "       [0.72439078, 0.27560922],\n",
       "       [0.03798485, 0.96201515],\n",
       "       [0.65576569, 0.34423431],\n",
       "       [0.22528486, 0.77471514],\n",
       "       [0.64109605, 0.35890395],\n",
       "       [0.55394562, 0.44605438],\n",
       "       [0.25755232, 0.74244768],\n",
       "       [0.07133907, 0.92866093],\n",
       "       [0.5361794 , 0.4638206 ],\n",
       "       [0.18527214, 0.81472786],\n",
       "       [0.56071803, 0.43928197],\n",
       "       [0.48507707, 0.51492293],\n",
       "       [0.58091071, 0.41908929],\n",
       "       [0.59245338, 0.40754662],\n",
       "       [0.03912842, 0.96087158],\n",
       "       [0.54161986, 0.45838014],\n",
       "       [0.59834701, 0.40165299],\n",
       "       [0.54161986, 0.45838014],\n",
       "       [0.17297204, 0.82702796],\n",
       "       [0.72975569, 0.27024431],\n",
       "       [0.14690243, 0.85309757],\n",
       "       [0.09460891, 0.90539109],\n",
       "       [0.32991195, 0.67008805],\n",
       "       [0.61646005, 0.38353995],\n",
       "       [0.10659493, 0.89340507],\n",
       "       [0.56231081, 0.43768919],\n",
       "       [0.124172  , 0.875828  ],\n",
       "       [0.81496644, 0.18503356],\n",
       "       [0.15380914, 0.84619086],\n",
       "       [0.57021391, 0.42978609],\n",
       "       [0.67750798, 0.32249202],\n",
       "       [0.60882396, 0.39117604],\n",
       "       [0.17187149, 0.82812851],\n",
       "       [0.23049426, 0.76950574],\n",
       "       [0.45397867, 0.54602133],\n",
       "       [0.71083021, 0.28916979],\n",
       "       [0.12657277, 0.87342723],\n",
       "       [0.59958211, 0.40041789],\n",
       "       [0.5188592 , 0.4811408 ],\n",
       "       [0.06940231, 0.93059769],\n",
       "       [0.13871157, 0.86128843],\n",
       "       [0.78187083, 0.21812917]])"
      ]
     },
     "execution_count": 24,
     "metadata": {
      "tags": []
     },
     "output_type": "execute_result"
    }
   ],
   "source": [
    "model_log.predict_proba(x_test)"
   ]
  },
  {
   "cell_type": "code",
   "execution_count": null,
   "metadata": {
    "id": "HAzdBPZHinQI",
    "outputId": "1b615ef3-fb88-44ba-9df9-fdc157f0581b"
   },
   "outputs": [
    {
     "name": "stdout",
     "output_type": "stream",
     "text": [
      "Ground Truth: [1 0 1 0 0 0 0 0 0 0 0 0 1 1 0 1 0 0 0 1]\n",
      "Prediciones:  [0 0 1 0 0 1 1 0 0 0 1 1 0 1 0 1 1 0 1 1]\n"
     ]
    }
   ],
   "source": [
    "y_pred = model_log.predict(x_test)\n",
    "print('Ground Truth: '+str(np.array(y_test)[:20]))\n",
    "print('Prediciones:  '+str(y_pred[:20]))"
   ]
  },
  {
   "cell_type": "markdown",
   "metadata": {
    "id": "FGmK8seXinQL"
   },
   "source": [
    "**Taller**  \n",
    "Juegue un poco con las variables a incluir en el modelo para ver si logra aumentar el score del modelo y sus predicciones.  Algunas sugerencias:\n",
    "- Valide qué variables permiten la separación lineal de los datos\n",
    "- Puede incluir mas de dos variables para entrenar el modelo, es lo más recomendable, pero recuerde que no será posible visualizar la separación gráficamente\n",
    "- Intente con el parámetro *solver* de la función LogisticRegression(), éste permite generar otro tipo de líneas que pueden mejorar el modelo (Los posibles valores para el parámetro solver son: *'liblinear', 'newton-cg', 'lbfgs', 'sag' y 'saga'*.  Para saber en detalle qué tipo de modelo genera cada uno puede consultar [aqui](https://medium.com/@venali/conventional-guide-to-supervised-learning-with-scikit-learn-logistic-regression-generalized-e9783c414588))\n",
    "\n",
    "Una vez encuentre un modelo que considere adecuado, vamos a a guardarlo para futuros laboratorios:"
   ]
  },
  {
   "cell_type": "code",
   "execution_count": null,
   "metadata": {
    "id": "k2DlXWw9inQM"
   },
   "outputs": [],
   "source": [
    "with open(\"models/model_log.pkl\", \"wb\") as f:\n",
    "    pickle.dump(model_log, f)"
   ]
  },
  {
   "cell_type": "markdown",
   "metadata": {
    "id": "07WoUMjOinQP"
   },
   "source": [
    "### Vecinos más cercanos (kNN)\n",
    "\n",
    "Es un método de clasificación para problemas **no lineales**, y tal vez con una metodología/matemática más sencilla.\n",
    "Consiste en ver los datos como puntos en un plano (de N dimensiones cuántas variables incluya el modelo) y clasificar cualquier \"punto nuevo\" en la misma clase a la que pertenescan los *k* puntos más cercanos (*k* puede ser definido por nosotros mismos)\n",
    "\n",
    "<img src=\"https://encrypted-tbn0.gstatic.com/images?q=tbn%3AANd9GcTIr4A7USCWANPP8HDtHIOmN2HOY_CK1PhL2Q&usqp=CAU\" alt=\"kNN\" width=\"400\"/>\n",
    "\n",
    "- **Precisión:** Depende intensamente del valor de k.  muy eficiente para datasets sin ruido\n",
    "- **Velocidad:** Depende de dimensiones (*Realmente no construye ningún modelo*)\n",
    "- **Explicativo:** Mucho (Es una ecuación sencilla)\n",
    "- **Sensible a cambios:** Mucho a atributos irrelevantes y la complejidad del modelo\n",
    "- **Deteminístico**: Sí"
   ]
  },
  {
   "cell_type": "code",
   "execution_count": null,
   "metadata": {
    "id": "beLSt1i2inQP"
   },
   "outputs": [],
   "source": [
    "x_train, x_test, y_train, y_test = train_test_split(x, y, test_size=0.2, random_state=42)"
   ]
  },
  {
   "cell_type": "code",
   "execution_count": null,
   "metadata": {
    "id": "bDtBsNCYinQR",
    "outputId": "5a76a71e-94ae-4dee-c109-cbc4dda273e5"
   },
   "outputs": [
    {
     "name": "stdout",
     "output_type": "stream",
     "text": [
      "Error: 0.33650793650793653\n"
     ]
    }
   ],
   "source": [
    "model_knn = KNeighborsClassifier(n_neighbors=18)\n",
    "model_knn.fit(x_train, y_train)\n",
    "print('Error: {}'.format(1 - model_knn.score(x_test, y_test)))"
   ]
  },
  {
   "cell_type": "markdown",
   "metadata": {
    "id": "wBqPRYDXinQU"
   },
   "source": [
    "En este caso, se eligió el número de vecinos (k) aleatoriamente, y con razón no obtuvimos un score bueno. Pero cuidado:\n",
    "- Si k es muy pequeño, tendiendo a 1, el modelo va a decidir por la clase del ejemplo más cercano. Esto hace el modelo muy sensible al ruido o a pequeños cambios.\n",
    "- Si k es muy grande, tendiendo a N, el modelo no podrá gneralizar.  Nunca analizará patrones, reglas, ni similitudes sino que decidirá siempre *lo que diga la mayoría*  \n",
    "\n",
    "**Taller**  \n",
    "Juegue un poco con el valor de k (*n_neighbors* en la función *KNeighborsClassifier*) para mejorar el score del modelo.  \n",
    "También puede intentar eliminando aquellas variables que generen ruido o atípicos sobre los datos.\n",
    "\n",
    "Una vez encuentre un modelo que considere adecuado, vamos a a guardarlo para futuros laboratorios:"
   ]
  },
  {
   "cell_type": "code",
   "execution_count": null,
   "metadata": {
    "id": "V8Z-w8cPinQV"
   },
   "outputs": [],
   "source": [
    "with open(\"models/model_knn.pkl\", \"wb\") as f:\n",
    "    pickle.dump(model_knn, f)"
   ]
  },
  {
   "cell_type": "markdown",
   "metadata": {
    "id": "-Il1sLlninQa"
   },
   "source": [
    "### Máquinas de Soporte Vectorial (SVM)\n",
    "\n",
    "Cuando hablamos de Regresión logística, buscamos **una línea** que divida los datos de la mejor manera. Pero, qué pasa cuando hay más de una línea que cumple con esta condición? Cómo elegir la mejor?  \n",
    "Las maquinas de soporte vectorial buscan, por el contrario, un *hiperplano*: un conjunto de líneas que maximicen la distancia/margen entre los puntos más cercanos de cada clase.  A estos puntos más cercanos se les conoce como *vectores de soporte*\n",
    "\n",
    "<img src=\"https://d2h0cx97tjks2p.cloudfront.net/blogs/wp-content/uploads/sites/2/2017/08/how-svm-works.png\" alt=\"SVM\" width=\"400\"/>\n",
    "\n",
    "- **Precisión:** Alta si se configura correctamente\n",
    "- **Velocidad:** Lento para una gran cantidad de datos\n",
    "- **Explicativo:** No\n",
    "- **Sensible a cambios:** Si, sobretodo a ejemplos mal etiquetados\n",
    "- **Deteminístico**: Sí"
   ]
  },
  {
   "cell_type": "code",
   "execution_count": null,
   "metadata": {
    "id": "2pFKCmHginQb"
   },
   "outputs": [],
   "source": [
    "x_train, x_test, y_train, y_test = train_test_split(x, y, test_size=0.2, random_state=42)"
   ]
  },
  {
   "cell_type": "code",
   "execution_count": null,
   "metadata": {
    "id": "sSMileOMinQf",
    "outputId": "3896910a-77c6-458c-aac8-84636ad501be"
   },
   "outputs": [
    {
     "name": "stdout",
     "output_type": "stream",
     "text": [
      "Error: 0.37142857142857144\n"
     ]
    }
   ],
   "source": [
    "model_svm = svm.SVC(probability= True,\n",
    "                    kernel='rbf')\n",
    "model_svm.fit(x_train, y_train)\n",
    "print('Error: {}'.format(1 - model_svm.score(x_test, y_test)))"
   ]
  },
  {
   "cell_type": "markdown",
   "metadata": {
    "id": "tVXpnjdYinQ_"
   },
   "source": [
    "Aún tenemos un error un poco alto.  Sin embargo, una de las ventajas de SVM, a pesar de ser un algoritmo lento y sensible al ruido, es su versatilidad para manejar problemas no lineales.  Esto lo logra por medio del parámetro **kernell** que permite definir \"la forma\" del/los hiperplano/s que va a generar:\n",
    "![Kernell](https://i.imgur.com/HKTLn35.png)"
   ]
  },
  {
   "cell_type": "markdown",
   "metadata": {
    "id": "ksxS9qz4inRA"
   },
   "source": [
    "**Taller**  \n",
    "Juegue un poco con las columas a incluir en el modelo, así como con el **kernell** de la función *svm.SVC()*.  Los posibles valores de este parámetro son:\n",
    "- 'linear'\n",
    "- 'poly' (Polinomial, en este caso tambien se puede configurar el parámetro *degree*)\n",
    "- 'rbf'\n",
    "- 'sigmoid'\n",
    "\n",
    "Puede que enuentre varios modelos que le parezcan convenientes.  Se sugiere guardar cada uno de la siguiente manera (cambiando el nombre del archivo):"
   ]
  },
  {
   "cell_type": "code",
   "execution_count": null,
   "metadata": {
    "id": "YRmj0ROkinRB"
   },
   "outputs": [],
   "source": [
    "with open(\"models/model_svm.pkl\", \"wb\") as f:\n",
    "    pickle.dump(model_svm, f)"
   ]
  },
  {
   "cell_type": "markdown",
   "metadata": {
    "id": "Pg-qolD0inRD"
   },
   "source": [
    "### Árboles de Decisión\n",
    "\n",
    "Es el tipo de algoritmo más fácil de entender, pues se basa en reglas condicionales muy similares al lenguaje humano (*Si... entonces...*).  El entrenamiento consiste en encontrar las reglas y condiciones que cubran la mayor cantidad de casos.  \n",
    "El modelo gráficamente puede ser representado mediante un árbol en el que los **nodos intermedios** son decisiones basadas en alguno de los atributos predictivos, y las **hojas** son la clase objetivo.\n",
    "\n",
    "<img src=\"https://upload.wikimedia.org/wikipedia/commons/f/f3/CART_tree_titanic_survivors.png\" alt=\"Decision Tree\" width=\"400\"/>\n",
    "\n",
    "- **Precisión:** Alta tendencia al sobreajuste (memorizar datos)\n",
    "- **Velocidad:** Rápido. La validación de reglas son condicionales\n",
    "- **Explicativo:** Sí\n",
    "- **Sensible a cambios:** Si, pequeños cambios en los datos puede resultar en árboles completamente diferentes.\n",
    "- **Deteminístico**: No"
   ]
  },
  {
   "cell_type": "code",
   "execution_count": null,
   "metadata": {
    "id": "08cwto9UinRE"
   },
   "outputs": [],
   "source": [
    "x_train, x_test, y_train, y_test = train_test_split(x, y, test_size=0.2, random_state=42)"
   ]
  },
  {
   "cell_type": "code",
   "execution_count": null,
   "metadata": {
    "id": "eqNH9GtMinRL",
    "outputId": "8394d0a7-3481-4adb-f2cc-e26308bebd12"
   },
   "outputs": [
    {
     "name": "stdout",
     "output_type": "stream",
     "text": [
      "Error: 0.3015873015873016\n"
     ]
    }
   ],
   "source": [
    "model_tree= DecisionTreeClassifier(max_depth=3)\n",
    "model_tree.fit(x_train, y_train)\n",
    "print('Error: {}'.format(1 - model_tree.score(x_test, y_test)))"
   ]
  },
  {
   "cell_type": "markdown",
   "metadata": {
    "id": "g7fsCjeTinRS"
   },
   "source": [
    "En cada uno de los nodos, el algoritmo valida qué variable y qué valor de esa variable produce un nivel mayor de \"pureza\" entre las hojas (*Entropía/gini index*).  Si este nivel no es suficiente para dar una buena decisión, se hace una nueva partición en cada una de las hojas, validando nuevamente todas las variables predictivas.  \n",
    "Por esto mismo, los árboles de decisión tienen varios parámetros que configurar (Nivel mínimo de entropía, profundidad máxima del árbol, mínima cantidad de muestras para las hojas, etc.)  \n",
    "Otra de las ventajas de los árboles es que son **tan explicativos**, que pueden ser graficados para validar el proceso de toma de cada decisión en el proceso de predicción:"
   ]
  },
  {
   "cell_type": "code",
   "execution_count": null,
   "metadata": {
    "id": "wzI844-uinRS",
    "outputId": "87904ad6-44ed-4858-d3fa-3c41fe69a4f4"
   },
   "outputs": [
    {
     "data": {
      "image/png": "[encoded data removed]",
      "text/plain": [
       "<Figure size 1440x720 with 1 Axes>"
      ]
     },
     "metadata": {
      "needs_background": "light",
      "tags": []
     },
     "output_type": "display_data"
    }
   ],
   "source": [
    "plt.figure(figsize=(20,10))\n",
    "tree.plot_tree(model_tree, \n",
    "               feature_names=x.columns,  \n",
    "               class_names=['BAJA', 'ALTA'],\n",
    "               filled=True);"
   ]
  },
  {
   "cell_type": "markdown",
   "metadata": {
    "id": "aGKDNpSlinRg"
   },
   "source": [
    "**Taller**  \n",
    "Juegue un poco con las columas a incluir en el modelo, así como con los parámetros de la función *DecisionTreeClassifier()*, como por ejemplo: *max_depth, min_samples_split, min_samples_leaf, max_leaf_nodes, ...*\n",
    "\n",
    "Una vez encuentre un modelo que considere adecuado, vamos a a guardarlo para futuros laboratorios:"
   ]
  },
  {
   "cell_type": "code",
   "execution_count": null,
   "metadata": {
    "id": "MG1AK8W9inRh"
   },
   "outputs": [],
   "source": [
    "with open(\"models/model_tree.pkl\", \"wb\") as f:\n",
    "    pickle.dump(model_tree, f)"
   ]
  },
  {
   "cell_type": "markdown",
   "metadata": {
    "id": "WSyfxKUPinRj"
   },
   "source": [
    "### Ensambles de Modelos\n",
    "Cuando un modelo es **no determinístico**, pero tiende al **sobreajuste**, es decir, aprende de memoria las reglas y patrones del set de entrenamiento, hasta el punto de no predecir correctamente sobre el test de entrenamiento, esto puede solucionarse haciendo un ensamble o conjunto de modelos.  Esto es, construir varios modelos \"débiles\" y crear uno \"robusto\", tomando la decisión final dependiendo de:\n",
    "- \"Democracia\", el resultado es lo que diga la mayoría de modelos, realizando cada uno **bajo un set de entrenamiento diferente** (*BaggingClassifier*)\n",
    "- \"Aleatorio\", el resultado es lo que diga la mayoría de árboles de decisión, realizando cada uno con un set aleatorio de  variables (*RandomForestClassifier*)\n",
    "\n",
    "<img src=\"https://ars.els-cdn.com/content/image/3-s2.0-B9780128177365000090-f09-17-9780128177365.jpg\" alt=\"Rnd Forest\" width=\"500\"/>\n",
    "\n",
    "- **Precisión:** Alta, varios modelos eliminan el sobreajuste\n",
    "- **Velocidad:** Lento, por velocidad se sacrifica precisión\n",
    "- **Explicativo:** Sí, aunque no entrega el modelo, entre importancia de variables\n",
    "- **Sensible a cambios:** No mucho, un dato atípico peude modificar un árbol, pero no todos\n",
    "- **Deteminístico**: No"
   ]
  },
  {
   "cell_type": "code",
   "execution_count": null,
   "metadata": {
    "id": "bS0TnvVJinRk"
   },
   "outputs": [],
   "source": [
    "x_train, x_test, y_train, y_test = train_test_split(x, y, test_size=0.2, random_state=42)"
   ]
  },
  {
   "cell_type": "code",
   "execution_count": null,
   "metadata": {
    "id": "W-Y39noBinSC",
    "outputId": "e651ef96-08ca-407e-e723-5b41adbec347"
   },
   "outputs": [
    {
     "name": "stdout",
     "output_type": "stream",
     "text": [
      "Error: 0.23809523809523814\n"
     ]
    }
   ],
   "source": [
    "model_forest= RandomForestClassifier(n_estimators=20, max_depth=5)\n",
    "model_forest.fit(x_train, y_train)\n",
    "print('Error: {}'.format(1 - model_forest.score(x_test, y_test)))"
   ]
  },
  {
   "cell_type": "markdown",
   "metadata": {
    "id": "UzZlxA-GinSI"
   },
   "source": [
    "Note que, si la anterior celda se ejecuta varias veces, cada vez da un valor diferente.  Esto significa que el modelo es **no determinístico**.  Aunque el error cambie con solo ejecutarlo, es mejor configurar algunos parámetros para indicarle al modelo por dónde está la mejor solución.  \n",
    "El concenso realizado entre los modelos permite al algoritmo, a pesar de ser no determinístico, darse una idea de la importancia de cada variable en la toma de la decisión:"
   ]
  },
  {
   "cell_type": "code",
   "execution_count": null,
   "metadata": {
    "id": "LtlqgDypinSJ",
    "outputId": "200cc358-15e6-468d-9949-2197ae775b61"
   },
   "outputs": [
    {
     "name": "stdout",
     "output_type": "stream",
     "text": [
      "fixed_acidity: 0.04\n",
      "volatile_acidity: 0.13\n",
      "citric_acid: 0.05\n",
      "residual_sugar: 0.04\n",
      "chlorides: 0.04\n",
      "free_sulfur_dioxide: 0.03\n",
      "total_sulfur_dioxide: 0.11\n",
      "density: 0.08\n",
      "pH: 0.03\n",
      "sulphates: 0.15\n",
      "alcohol: 0.29\n"
     ]
    }
   ],
   "source": [
    "for col, imp in zip(x.columns, model_forest.feature_importances_) :\n",
    "    print('{}: {:.2f}'.format(col, imp))"
   ]
  },
  {
   "cell_type": "markdown",
   "metadata": {
    "id": "r0keP0P9inSO"
   },
   "source": [
    "**Taller**  \n",
    "Juegue un poco con las columnas a incluir en el modelo, en este caso revise la importancia de variables.  \n",
    "Puede también jugar con los parámetros de la función *RandomForestClassifier()*, que son los mismos del Árbol de Decisión con la adición de *n_estimators* (Cantidad de modelos/árboles a generar)\n",
    "\n",
    "Una vez encuentre un modelo que considere adecuado, vamos a a guardarlo para futuros laboratorios:"
   ]
  },
  {
   "cell_type": "code",
   "execution_count": null,
   "metadata": {
    "id": "WqrmnOsdinSO"
   },
   "outputs": [],
   "source": [
    "with open(\"models/model_forest.pkl\", \"wb\") as f:\n",
    "    pickle.dump(model_forest, f)"
   ]
  }
 ],
 "metadata": {
  "anaconda-cloud": {},
  "colab": {
   "name": "Lab02py_PrediccionClasificacion_solved.ipynb",
   "provenance": [],
   "toc_visible": true
  },
  "kernelspec": {
   "display_name": "Python 3",
   "language": "python",
   "name": "python3"
  },
  "language_info": {
   "codemirror_mode": {
    "name": "ipython",
    "version": 3
   },
   "file_extension": ".py",
   "mimetype": "text/x-python",
   "name": "python",
   "nbconvert_exporter": "python",
   "pygments_lexer": "ipython3",
   "version": "3.7.3"
  }
 },
 "nbformat": 4,
 "nbformat_minor": 1
}
