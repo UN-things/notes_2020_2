{
 "cells": [
  {
   "cell_type": "markdown",
   "metadata": {},
   "source": [
    "# Lab04 - Introducción a Redes Neuronales\n",
    "\n",
    "En la sesión de hoy ya aprendimos qué es una **Red Neuronal** (*Realmente es una ecuación matemática*) y cómo **\"aprende\"** (*Minizar funciones matemáticas*).  También aprendimos algunos conceptos e hiperparámetros como:\n",
    "- Perceptrón\n",
    "- Neuronas\n",
    "- Capas Ocultas\n",
    "- Función de Pérdida (Loss)\n",
    "- Función de Activación\n",
    "- Descenso de Gradiente\n",
    "- Retropropagación\n",
    "- Batch\n",
    "- Epoca\n",
    "- Learning Rate (Taza de Aprendizaje)\n",
    "\n",
    "Es mucha información!  Ahora vamos a aplicarlo todo!\n",
    "\n",
    "## 4a. Tensorflow Playground\n",
    "\n",
    "Tensorflow es una librería desarrollada por [Google](https://www.tensorflow.org/?hl=es-419) para aprendizaje profundo. Permite configurar de forma fácil todos los conceptos de redes neuronales como capas ocultas, funciones de activación, y otro hiperarámetros; además, puede usarse tanto en R como en Python!  \n",
    "\n",
    "Una de las ventajas de Tensorflow, es que su filosofía es siempre acercar la Inteligencia Artificial a las personas de forma amigable y estructurada sin necesidad de conocer todos los cálculos y matemáticas que suceden por debajo (Aunque siempre es mejor conocerlos!).  Como parte de esta metodología, se creó [Tensorflow Playground](https://playground.tensorflow.org/), una plataforma gráfica que permite visualizar la implementación y entrenamiento de una Red Neuronal, y los efectos de configurar cada uno de sus hiperparámetros!  \n",
    "\n",
    "### Taller:  \n",
    "Dentro de la plataforma de **TensorFlow Playground** vamos a tratar de construir una red neuronal para cada uno de los siguientes sets de datos.  Trate de construirla de manera que, graficamente divida a los datos por color en la menor cantidad de tiempo (*Epocas*) posible con el *Loss* más bajo posible.  \n",
    "Algunos de los hiperparámetros con los que puede *jugar* son: \n",
    "- Cantidad de capas ocultas\n",
    "- Cantidad de neuronas en cada capa (Excepto la capa final: 2)\n",
    "- Taza de Aprendizaje (Learning Rate)\n",
    "- Función de Activación iniciales y final\n",
    "- Regularización (Y su respectivo Lambda)\n",
    "- % de test de entrenamiento y pruebas\n",
    "- Batch Size\n",
    "- Epocas (Tú decides cuándo parar!)\n",
    "\n",
    "\n",
    "[**1. Regresión**  ](https://playground.tensorflow.org/#activation=tanh&batchSize=4&dataset=circle&regDataset=reg-gauss&learningRate=1&regularizationRate=0&noise=0&networkShape=4,4,2&seed=0.48832&showTestData=false&discretize=false&percTrainData=80&x=true&y=true&xTimesY=true&xSquared=true&ySquared=true&cosX=false&sinX=true&cosY=false&sinY=true&collectStats=false&problem=regression&initZero=false&hideText=false)  \n",
    "\n",
    "[**2. Clasificación**](https://playground.tensorflow.org/#activation=tanh&batchSize=10&dataset=spiral&regDataset=reg-plane&learningRate=1&regularizationRate=0&noise=0&networkShape=4,2&seed=0.88013&showTestData=false&discretize=false&percTrainData=50&x=true&y=true&xTimesY=false&xSquared=false&ySquared=false&cosX=false&sinX=false&cosY=false&sinY=false&collectStats=false&problem=classification&initZero=false&hideText=false)  \n",
    "\n",
    "## 4b. Mi Primera Red Neuronal  \n",
    "\n",
    "Una de las librerías más cómodas y amigable para definir redes neuronales es [Keras](https://keras.rstudio.com/reference/index.html).  Es amigable porque empaqueta en una sola librería todas las librerías necesarias para realizar las operaciones tan complejas que comprenden una Red Neuronal y simplifica su sintaxis.  \n",
    "\n",
    "Sin embargo, aunque usarla sea muy fácil, en ocasiones es difícil su instalación por toda la complejidad que lleva por dentro:  \n",
    "\n",
    "Trate de instalar la librería *keras* y de importarla ejecutando la siguiente celda.  Si no es posible de forma fácil vamos a trabajar usando contenedores en [Docker](https://www.docker.com/)\n",
    "\n",
    "> Recuerde que el manual y videos tutoriales para utilizar Docker se encuentran en el [repositorio del Diplomado](https://drive.google.com/drive/u/0/folders/1EFve1_7l0X1xpPR6qVR0mikJ0WYbMYgn)"
   ]
  },
  {
   "cell_type": "code",
   "execution_count": 1,
   "metadata": {},
   "outputs": [
    {
     "name": "stdout",
     "output_type": "stream",
     "text": [
      "\n",
      "Installation complete.\n",
      "\n"
     ]
    }
   ],
   "source": [
    "library(keras)\n",
    "install_keras()"
   ]
  },
  {
   "cell_type": "markdown",
   "metadata": {},
   "source": [
    "Recordemos que una Red Neuronal es, al fin y al cabo, una ecuación.  Vamos a entrenar una Red Neuronal/Ecuación sencilla, de la cuál ya conocemos los coeficientes para poder validar su funcionamiento ya que estamos aprendiendo, por ejemplo: **Transformar Grados Centígrados a Grados Farenheit**.  \n",
    "Obviamente, podemos recordar o [buscar](https://www.google.com/search?sxsrf=ALeKk02bpoMAGFjDz3hSNDjPDDcynzjCTg%3A1602822358031&source=hp&ei=1SCJX-uDO-fO5gLo-InoCA&q=c+to+f&oq=c+to+f&gs_lcp=CgZwc3ktYWIQAzIECCMQJzIECAAQQzIFCAAQywEyBQgAEMsBMgUIABDLATIFCAAQywEyBQgAEMsBMgUIABDLATIFCAAQywEyBQgAEMsBOgcIABCxAxBDOgUIABCxAzoCCAA6CAgAELEDEIMBOgUILhCxAzoHCAAQFBCHAjoCCC5Q9w5Y4BRg0xVoAHAAeACAAY0BiAGFBZIBAzIuNJgBAKABAaoBB2d3cy13aXo&sclient=psy-ab&ved=0ahUKEwirwqPKorjsAhVnp1kKHWh8Ao0Q4dUDCAc&uact=5) la ecuación y crear una función tradicional que haga el cálculo:  \n",
    "$$ F = 2/9*C + 32 $$\n",
    "\n",
    "... pero esto no sería Machine Learning!  Además, no siempre vamos a conocer la ecuación de antemano.  \n",
    "\n",
    "Por el contrario, vamos a crear un modelo basado en *algunos* valores de grados Celsius, para los que conocemos sus correspondientes valores Farenheit y vamos a dejar que el modelo encuentre la relación entre ellos."
   ]
  },
  {
   "cell_type": "code",
   "execution_count": 2,
   "metadata": {},
   "outputs": [],
   "source": [
    "c = c(-40, -18, 0, 10, 20, 30, 40,  50, 60, 70, 80, 90)\n",
    "f = c(-40,  0, 32, 50, 68, 86, 104, 122, 140, 158, 176, 194)"
   ]
  },
  {
   "cell_type": "markdown",
   "metadata": {},
   "source": [
    "Recordemos los tres pasos para implementar una Red Neuronal que vimos en clase:  \n",
    "\n",
    "**1. Definir el Modelo**  \n",
    "El modelo se define como un listado de capas a las cuales debemos configurar para cada una, el número de neuronas y la función de activación.  Por ahora, para empezar, vamos a definir solo una capa, Densa, con una sola Neurona:"
   ]
  },
  {
   "cell_type": "code",
   "execution_count": 3,
   "metadata": {},
   "outputs": [
    {
     "name": "stdout",
     "output_type": "stream",
     "text": [
      "Model: \"sequential\"\n",
      "________________________________________________________________________________\n",
      "Layer (type)                        Output Shape                    Param #     \n",
      "================================================================================\n",
      "dense (Dense)                       (None, 1)                       2           \n",
      "================================================================================\n",
      "Total params: 2\n",
      "Trainable params: 2\n",
      "Non-trainable params: 0\n",
      "________________________________________________________________________________\n"
     ]
    }
   ],
   "source": [
    "model <- keras_model_sequential() \n",
    "\n",
    "model %>% \n",
    "  layer_dense(units = 1, input_shape = c(1)) \n",
    "\n",
    "summary(model)"
   ]
  },
  {
   "cell_type": "markdown",
   "metadata": {},
   "source": [
    "El resumen del modelo nos muestra que, aunque no ha sido entrenada, la red tiene una sola capa (*dense_x*), con una sola salida, y que está preparado para entrenar dos parámetros: La neurona de la primera capa y el bias.  \n",
    "\n",
    "**2. Compilar el Modelo**  \n",
    "Ahora debemos decirle al Modelo, cómo medir si se está equivocando (*Función de pérdida*), cómo evaluarse a sí mismo (*Métricas*) y cómo ajustar sus valores (*Optimizador*) para ir mejorando en cada época:"
   ]
  },
  {
   "cell_type": "code",
   "execution_count": 4,
   "metadata": {},
   "outputs": [],
   "source": [
    "model %>% compile(\n",
    "  loss = \"mean_squared_error\",\n",
    "  optimizer = optimizer_adam(lr = 0.1),\n",
    "  metrics = list(\"mean_absolute_error\")\n",
    ")"
   ]
  },
  {
   "cell_type": "markdown",
   "metadata": {},
   "source": [
    "**3. Entrenar el Modelo**  \n",
    "Listo! Ya le indicamos a la red su estructura, y sus métodos de aprendizaje, ahora solo falta indicarle con qué datos se va a entrenar y por cuanto tiempo lo va a hacer (épocas):"
   ]
  },
  {
   "cell_type": "code",
   "execution_count": 5,
   "metadata": {},
   "outputs": [],
   "source": [
    "history <- model %>% fit(\n",
    "  c, f, \n",
    "  epochs = 500,\n",
    "  steps_per_epoch=12\n",
    ")"
   ]
  },
  {
   "cell_type": "markdown",
   "metadata": {},
   "source": [
    "Estas 500 épocas se ejecutaron muy rápido!  Cuando estemos trabajando con un dataset real/más grande (Con más atributos y muchísimos más registros) es posible que tome mucho más tiempo, por esto es importante tener en cuenta la cantidad de épocas y pasos en cada época.  \n",
    "\n",
    "En este ejemplo, vemos como, época a época, el modelo va evolucionando: Disminuye el valor de pérdida (*loss*) y aumentan/disminuyen las métricas elegidas (En este caso, *Error Medio Absoluto*, disminuye!).  \n",
    "Es mucho mejor ver esta evolución del modelo gráficamente para tomar decisiones.  Si ejecutamos la sentencia anterior en una consola de R-Studio, nos va a mostrar la fráfica de entrenamiento en tiempo real, pero si no, podemos generar la gráfica final de la siguiente manera:"
   ]
  },
  {
   "cell_type": "code",
   "execution_count": 6,
   "metadata": {},
   "outputs": [
    {
     "name": "stderr",
     "output_type": "stream",
     "text": [
      "`geom_smooth()` using formula 'y ~ x'\n",
      "\n"
     ]
    },
    {
     "data": {
      "image/png": "[encoded data removed]",
      "text/plain": [
       "plot without title"
      ]
     },
     "metadata": {
      "image/png": {
       "height": 420,
       "width": 420
      }
     },
     "output_type": "display_data"
    }
   ],
   "source": [
    "plot(history)"
   ]
  },
  {
   "cell_type": "markdown",
   "metadata": {},
   "source": [
    "Aquí vemos de forma gráfica cómo, en su primer intento (epoca), el modelo se equivocó muchísimo \"adivinando\" los coeficientes de la ecuación, es decir el valor del *loss* dio muy alto al elegir los coeficientes aleatoriamente.  Sin embargo, en las siguientes épocas, estos valores se fueron optimizando, disminuyendo el *loss* a casi 0.  \n",
    "\n",
    "**Ejercicio:**  \n",
    "Compile y entrene nuevamente el modelo (*compile()* y *fit()*) sin cambiar ningún parámetro.  Genere nuevamente la gráfica de pérdida.  Qué nota?  \n",
    "\n",
    "Es muy posible que la gráfica sea diferente cada vez (Es decir: Las Redes Neuronales son **No Determinísticas**).  Esto se debe a:  \n",
    "- Los valores iniciales se eligen aleatoriamente y son distintos cada vez que se compila/entrena el modelo.  \n",
    "- Lo mismo pasa con cada época, para modificar los coeficientes de una época a otra usando la función de optimización se toman valores aleatorios muy pequeños (Taza de Aprendizaje, LR).  \n",
    "- En todo caso, aunque se trata de varias decisiones aleatorias, las \"reglas del juego\": optimizador, métricas y funcion depérdida, ayudan al modelo a encaminarse a una buena solución  \n",
    "\n",
    "La función evaluate() nos va a entregar las métricas correspondientes a la última epoca, la que definió el modelo finalmente:"
   ]
  },
  {
   "cell_type": "code",
   "execution_count": 7,
   "metadata": {},
   "outputs": [
    {
     "data": {
      "text/html": [
       "<style>\n",
       ".dl-inline {width: auto; margin:0; padding: 0}\n",
       ".dl-inline>dt, .dl-inline>dd {float: none; width: auto; display: inline-block}\n",
       ".dl-inline>dt::after {content: \":\\0020\"; padding-right: .5ex}\n",
       ".dl-inline>dt:not(:first-of-type) {padding-left: .5ex}\n",
       "</style><dl class=dl-inline><dt>loss</dt><dd>0.072123758494854</dd><dt>mean_absolute_error</dt><dd>0.265350013971329</dd></dl>\n"
      ],
      "text/latex": [
       "\\begin{description*}\n",
       "\\item[loss] 0.072123758494854\n",
       "\\item[mean\\textbackslash{}\\_absolute\\textbackslash{}\\_error] 0.265350013971329\n",
       "\\end{description*}\n"
      ],
      "text/markdown": [
       "loss\n",
       ":   0.072123758494854mean_absolute_error\n",
       ":   0.265350013971329\n",
       "\n"
      ],
      "text/plain": [
       "               loss mean_absolute_error \n",
       "         0.07212376          0.26535001 "
      ]
     },
     "metadata": {},
     "output_type": "display_data"
    }
   ],
   "source": [
    "model %>% evaluate(c, f,verbose = 0)"
   ]
  },
  {
   "cell_type": "markdown",
   "metadata": {},
   "source": [
    "Vamos a probar el Modelo!  Intentemos pasar un valor con el que no haya sido entrenado (En este caso, como se trata de una ecuación científica muy común, podemos saber el valor real que debería haber retornado)"
   ]
  },
  {
   "cell_type": "code",
   "execution_count": 8,
   "metadata": {},
   "outputs": [
    {
     "data": {
      "text/html": [
       "<table>\n",
       "<caption>A matrix: 1 × 1 of type dbl</caption>\n",
       "<tbody>\n",
       "\t<tr><td>100.6741</td></tr>\n",
       "</tbody>\n",
       "</table>\n"
      ],
      "text/latex": [
       "A matrix: 1 × 1 of type dbl\n",
       "\\begin{tabular}{l}\n",
       "\t 100.6741\\\\\n",
       "\\end{tabular}\n"
      ],
      "text/markdown": [
       "\n",
       "A matrix: 1 × 1 of type dbl\n",
       "\n",
       "| 100.6741 |\n",
       "\n"
      ],
      "text/plain": [
       "     [,1]    \n",
       "[1,] 100.6741"
      ]
     },
     "metadata": {},
     "output_type": "display_data"
    },
    {
     "data": {
      "text/html": [
       "<table>\n",
       "<caption>A matrix: 1 × 1 of type dbl</caption>\n",
       "<tbody>\n",
       "\t<tr><td>212.3295</td></tr>\n",
       "</tbody>\n",
       "</table>\n"
      ],
      "text/latex": [
       "A matrix: 1 × 1 of type dbl\n",
       "\\begin{tabular}{l}\n",
       "\t 212.3295\\\\\n",
       "\\end{tabular}\n"
      ],
      "text/markdown": [
       "\n",
       "A matrix: 1 × 1 of type dbl\n",
       "\n",
       "| 212.3295 |\n",
       "\n"
      ],
      "text/plain": [
       "     [,1]    \n",
       "[1,] 212.3295"
      ]
     },
     "metadata": {},
     "output_type": "display_data"
    },
    {
     "data": {
      "text/html": [
       "<table>\n",
       "<caption>A matrix: 1 × 1 of type dbl</caption>\n",
       "<tbody>\n",
       "\t<tr><td>392.4189</td></tr>\n",
       "</tbody>\n",
       "</table>\n"
      ],
      "text/latex": [
       "A matrix: 1 × 1 of type dbl\n",
       "\\begin{tabular}{l}\n",
       "\t 392.4189\\\\\n",
       "\\end{tabular}\n"
      ],
      "text/markdown": [
       "\n",
       "A matrix: 1 × 1 of type dbl\n",
       "\n",
       "| 392.4189 |\n",
       "\n"
      ],
      "text/plain": [
       "     [,1]    \n",
       "[1,] 392.4189"
      ]
     },
     "metadata": {},
     "output_type": "display_data"
    }
   ],
   "source": [
    "model %>% predict(c(38)) # 100C\n",
    "model %>% predict(c(100)) # 212C\n",
    "model %>% predict(c(200)) # 392C"
   ]
  },
  {
   "cell_type": "markdown",
   "metadata": {},
   "source": [
    "Como una prueba adicional, vamos a hacer algo que solo podemos hacer en este caso y es validar los pesos asignados por el modelo. Esto porque asignamos una sola capa de una sola neurona (Entonces es sencillo) y porque conocemos la ecuación que estamos buscando (Esto no ocurre nunca!):  \n",
    "$$ F = 2/9*C + 32 = 1.8*C + 32$$"
   ]
  },
  {
   "cell_type": "code",
   "execution_count": 9,
   "metadata": {},
   "outputs": [
    {
     "data": {
      "text/html": [
       "<ol>\n",
       "\t<li><table>\n",
       "<caption>A matrix: 1 × 1 of type dbl</caption>\n",
       "<tbody>\n",
       "\t<tr><td>1.800894</td></tr>\n",
       "</tbody>\n",
       "</table>\n",
       "</li>\n",
       "\t<li>32.240177154541</li>\n",
       "</ol>\n"
      ],
      "text/latex": [
       "\\begin{enumerate}\n",
       "\\item A matrix: 1 × 1 of type dbl\n",
       "\\begin{tabular}{l}\n",
       "\t 1.800894\\\\\n",
       "\\end{tabular}\n",
       "\n",
       "\\item 32.240177154541\n",
       "\\end{enumerate}\n"
      ],
      "text/markdown": [
       "1. \n",
       "A matrix: 1 × 1 of type dbl\n",
       "\n",
       "| 1.800894 |\n",
       "\n",
       "\n",
       "2. 32.240177154541\n",
       "\n",
       "\n"
      ],
      "text/plain": [
       "[[1]]\n",
       "         [,1]\n",
       "[1,] 1.800894\n",
       "\n",
       "[[2]]\n",
       "[1] 32.24018\n"
      ]
     },
     "metadata": {},
     "output_type": "display_data"
    }
   ],
   "source": [
    "get_weights(model)"
   ]
  },
  {
   "cell_type": "markdown",
   "metadata": {},
   "source": [
    "**Taller:**  \n",
    "\n",
    "Qué pasa si añadimos más capas y neuronas a la Red? O si cambiamos el método de aprendizaje?\n",
    "\n",
    "- En la definición del modelo, puede agregar cualquiera o varias de las siguientes capas a la función, en cualquier orden y modificar los valores *x* de sus hiperparámetros:\n",
    "\n",
    ">model <- keras_model_sequential()   \n",
    "    **model %>% layer_dense(x, input_shape=c(1))** # *No cambiar input_shape (#entradas este caso = 1)*  \n",
    "    **model %>% layer_dense(x)** # *A partir de la 2 capa podemos \"jugar\" con la cantidad de neuronas*  \n",
    "    **model %>% layer_dropout(x)** # *También podemos modificar otrss parámetros de cada una*  \n",
    "    model %>% layer_dense(1) # *No cambiar (#salidas este caso = 1)* \n",
    "    \n",
    "- En las capas principales puede cambiar también la función de activación por los valores: *activation = \"relu\", \"softmax\", \"sigmoid\", \"tanh\"*\n",
    "- En la compilación del modelo, intente con otros optimizadores, por ejemplo: *optimizer_sgd, optimizer_adadelta, optimizer_adam, optimizer_rmsprop*\n",
    "- En el entrenamiento del modelo, pruebe modificando los valores de *epochs* y *steps_per_epoch*  \n",
    "\n",
    "> Tenga en cuenta que si va a trabajar un problema de **Clasificación**, también puede \"jugar\" con *loss = \"categorical_crossentropy\"* y *metrics = list(\"accuracy\", \"recall\")*...\n",
    "\n",
    "Analice cómo cambia la estructura de la red (*summary()*), y como evoluciona en entrenamiento de acuerdo a su nueva configuración (Mejora? Empeora? Aprende más rápido?)  \n",
    "\n",
    "También note cómo, si agregó más capas o neuronas a la red, la última función de este ejercicio (*get_weights()*) ahora arroja muchos más coeficientes de variables que realmente no podemos entender (**No explicativo**), añadiento muchísima más complejidad al modelo aunque también arroja un resulado **correcto**."
   ]
  }
 ],
 "metadata": {
  "kernelspec": {
   "display_name": "R",
   "language": "R",
   "name": "ir"
  },
  "language_info": {
   "codemirror_mode": "r",
   "file_extension": ".r",
   "mimetype": "text/x-r-source",
   "name": "R",
   "pygments_lexer": "r",
   "version": "3.6.3"
  }
 },
 "nbformat": 4,
 "nbformat_minor": 4
}
