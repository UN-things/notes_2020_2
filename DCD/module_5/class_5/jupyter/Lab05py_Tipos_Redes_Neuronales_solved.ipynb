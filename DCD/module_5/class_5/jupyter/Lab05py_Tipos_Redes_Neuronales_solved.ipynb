{
 "cells": [
  {
   "cell_type": "markdown",
   "metadata": {},
   "source": [
    "# Lab05 - Tipos de Redes Neuronales  \n",
    "\n",
    "En la sesión pasada creamos nuestra primera **Red Neuronal Profunda** usando capas densas (*Fully Connected*) ya que se trataba de una regresión lineal sencilla.  \n",
    "\n",
    "Ahora, vamos a crear una **Red Neuronal Convolucional** en un problema muy común de Inteligencia Artificial: Clasificación de imágenes!  "
   ]
  },
  {
   "cell_type": "code",
   "execution_count": 1,
   "metadata": {},
   "outputs": [
    {
     "name": "stderr",
     "output_type": "stream",
     "text": [
      "Using TensorFlow backend.\n"
     ]
    }
   ],
   "source": [
    "import keras\n",
    "import cv2\n",
    "import matplotlib.pyplot as plt\n",
    "import numpy as np\n",
    "\n",
    "from skimage import io\n",
    "from PIL import Image\n",
    "from io import BytesIO\n",
    "from keras. preprocessing.image import ImageDataGenerator\n",
    "%matplotlib inline"
   ]
  },
  {
   "cell_type": "markdown",
   "metadata": {},
   "source": [
    "## Cargar el set de datos\n",
    "Dependiendo del problema que queramos solucionar, va a ser necesario recolectar una gran cantidad de imágenes para entrenar el modelo.  Existen fuentes de datos abiertas para casos de uso generales como: personas, animales, flores, automóviles, etc.  \n",
    "Por otro lado, cuándo nuestro problema es mucho más particular y no se encuentran datasets ya creados para nuestro caso, será necesario recolectar las imágenes manualmente.  La regla siempre será: *Entre más imágenes, mejor*.  \n",
    "En cualquiera de los dos casos, la estructura recomendable para organizar las imágenes es la siguiente:\n",
    "```\n",
    "Directorio Raíz\n",
    "└───train\n",
    "│   └───clase1\n",
    "│   │       imagen01.jpg\n",
    "│   │       imagen02.jpg\n",
    "│   │       ...\n",
    "│   └───clase2\n",
    "│   │       imagen01.jpg\n",
    "│   │       imagen02.jpg\n",
    "│   │       ...\n",
    "│   └───...\n",
    "│   \n",
    "└───test\n",
    "    └───clase1\n",
    "    │       imagen01.jpg\n",
    "    │       imagen02.jpg\n",
    "    │       ...\n",
    "    └───clase2\n",
    "    │       imagen01.jpg\n",
    "    │       imagen02.jpg\n",
    "    │       ...\n",
    "    └───...\n",
    "```\n",
    "\n",
    "Los directorios no *necesariemante* deben llamarse así, pero sí es recomendable tener un set de datos de entrenamiento separado del de pruebas.  Además, los **nombres** de las carpetas dentro de estos (clase1, clase2, ...), son los que indicarán las **clases/labels** de las imagenes que están adentro.\n",
    "\n",
    "Vamos a trabajar con un dataset de Logos de algunas empresas conocidas, se puede descargar de [aquí](http://flovv.github.io/Logo_detection_deep_learning/), pero para facilidad ya se encuentra descargado y  organizado en la estructura necesaria dentro de nuestra carpeta */data*:\n",
    "![Logos_sample](http://flovv.github.io/figures/post21/flickr27-sample.png)"
   ]
  },
  {
   "cell_type": "markdown",
   "metadata": {},
   "source": [
    "El dataset consta de 675 imágenes de 27 marcas diferentes (En promedio 25 imágenes de cada clase para entrenamiento y pruebas).  En un problema real esto es un dataset pequeño, pero hoy nos servirá para aprender otros conceptos de Redes Neuronales."
   ]
  },
  {
   "cell_type": "markdown",
   "metadata": {},
   "source": [
    "## 5a. Mi Primera Red Neuronal Convolucional CNN"
   ]
  },
  {
   "cell_type": "code",
   "execution_count": 2,
   "metadata": {},
   "outputs": [],
   "source": [
    "# Configuración de variables\n",
    "img_width = 32\n",
    "img_height = 32\n",
    "train_samples = 498\n",
    "validation_samples = 177\n",
    "classes = ['Adidas', 'Apple', 'BMW', 'Citroen', 'Cocacola', 'DHL', 'Fedex', 'Ferrari', 'Ford', 'Google', \n",
    "           'Heineken', 'HP', 'Intel', 'McDonalds', 'Mini', 'Nbc', 'Nike', 'Pepsi', 'Porsche', 'Puma', \n",
    "           'RedBull', 'Sprite', 'Starbucks', 'Texaco', 'Unicef', 'Vodafone', 'Yahoo']\n",
    "\n",
    "train_directory = \"data/LogoData/train\"\n",
    "test_directory = \"data/LogoData/test\""
   ]
  },
  {
   "cell_type": "code",
   "execution_count": 3,
   "metadata": {},
   "outputs": [],
   "source": [
    "# Configuración de Hiperparámetros:\n",
    "batch_size = 8\n",
    "learning_rate = 0.0001\n",
    "epochs = 50"
   ]
  },
  {
   "cell_type": "markdown",
   "metadata": {},
   "source": [
    "### Data Augmentation\n",
    "Como ya se ha mencionado varias veces, entre más datos tengamos, mejor.  En el caso de Computer Vision: entre más imágenes, mejor.\n",
    "Cuando no tenemos suficientes datos, la técnica de Data Augmentation permite, por medio de un algoritmo, generar imágenes artificialmente a partir de las pocas imágenes que tenemos.  Esto se logra haciendo cambios pequeños a los datos: Girar un poco la imagen, cambiando su luminocidad, resolución, moviéndola un poco, etc.  Para nosotros es un cambio pequeño, pero para el modelo es una imagen completamente diferente!\n",
    "![Data Augmenation](https://miro.medium.com/max/605/0*Utma-dS47hSoQ6Zt)  \n",
    "A nivel de código, estas son TODAS las opciones que se pueden configurar para el generador de datos, tenga en cuenta que no siempre todas aplican, por ejemplo, la imagen del león mirando a la derecha o mirando a la izquierda, sigue siendo un león, pero, nuestros logos?"
   ]
  },
  {
   "cell_type": "code",
   "execution_count": 4,
   "metadata": {},
   "outputs": [],
   "source": [
    "# Estas son TODAS las opciones!\n",
    "datagen = ImageDataGenerator(\n",
    "    featurewise_center=False,\n",
    "    samplewise_center=False,\n",
    "    featurewise_std_normalization=False,\n",
    "    samplewise_std_normalization=False,\n",
    "    zca_whitening=False,\n",
    "    zca_epsilon=1e-06,\n",
    "    rotation_range=0,\n",
    "    width_shift_range=0.0,\n",
    "    height_shift_range=0.0,\n",
    "    brightness_range=None,\n",
    "    shear_range=0.0,\n",
    "    zoom_range=0.0,\n",
    "    channel_shift_range=0.0,\n",
    "    fill_mode=\"nearest\",\n",
    "    cval=0.0,\n",
    "    horizontal_flip=False,\n",
    "    vertical_flip=False,\n",
    "    rescale=None\n",
    ")"
   ]
  },
  {
   "cell_type": "code",
   "execution_count": 5,
   "metadata": {},
   "outputs": [],
   "source": [
    "datagen = ImageDataGenerator(\n",
    "    rescale=1. / 255,\n",
    "    shear_range=0.2,\n",
    "    zoom_range=0.2,\n",
    "    horizontal_flip=True)"
   ]
  },
  {
   "cell_type": "code",
   "execution_count": 6,
   "metadata": {},
   "outputs": [
    {
     "name": "stdout",
     "output_type": "stream",
     "text": [
      "Found 498 images belonging to 27 classes.\n",
      "Found 177 images belonging to 27 classes.\n"
     ]
    }
   ],
   "source": [
    "train_generator = datagen.flow_from_directory(\n",
    "    directory=train_directory,\n",
    "    target_size=(img_width, img_height),\n",
    "    batch_size=batch_size,\n",
    "    class_mode='categorical',\n",
    "    shuffle = True,\n",
    "    seed = 123\n",
    ")\n",
    "\n",
    "validation_generator = datagen.flow_from_directory(\n",
    "    directory=test_directory,\n",
    "    target_size=(img_width, img_height),\n",
    "    batch_size=batch_size,\n",
    "    class_mode='categorical',\n",
    "    shuffle = True,\n",
    "    seed = 123\n",
    ")"
   ]
  },
  {
   "cell_type": "markdown",
   "metadata": {},
   "source": [
    "Hemos creado dos generadores de imagenes porque cada dataset partirá de un directorio diferente, y puede ser con transformaciones diferentes.  \n",
    "Ahora sí, podemos crear el modelo:"
   ]
  },
  {
   "cell_type": "code",
   "execution_count": 13,
   "metadata": {},
   "outputs": [],
   "source": [
    "model = keras.Sequential()\n",
    "\n",
    "model.add(keras.layers.convolutional.Conv2D(filters=16, kernel_size = (3,3), \n",
    "                                            input_shape=(img_width, img_height,3)))\n",
    "model.add(keras.layers.Activation(activation='relu'))\n",
    "model.add(keras.layers.convolutional.MaxPooling2D(pool_size = (2,2)))\n",
    "\n",
    "model.add(keras.layers.convolutional.Conv2D(filters=32, kernel_size = (3,3)))\n",
    "model.add(keras.layers.Activation(activation='relu'))\n",
    "model.add(keras.layers.convolutional.MaxPooling2D(pool_size = (2,2)))\n",
    "\n",
    "model.add(keras.layers.Flatten())\n",
    "model.add(keras.layers.Dense(64))\n",
    "model.add(keras.layers.Activation(activation='relu'))\n",
    "model.add(keras.layers.Dropout(0.5))\n",
    "model.add(keras.layers.Dense(27))\n",
    "model.add(keras.layers.Activation(activation='softmax'))"
   ]
  },
  {
   "cell_type": "code",
   "execution_count": 14,
   "metadata": {},
   "outputs": [
    {
     "name": "stdout",
     "output_type": "stream",
     "text": [
      "Model: \"sequential_3\"\n",
      "_________________________________________________________________\n",
      "Layer (type)                 Output Shape              Param #   \n",
      "=================================================================\n",
      "conv2d_5 (Conv2D)            (None, 30, 30, 16)        448       \n",
      "_________________________________________________________________\n",
      "activation_8 (Activation)    (None, 30, 30, 16)        0         \n",
      "_________________________________________________________________\n",
      "max_pooling2d_5 (MaxPooling2 (None, 15, 15, 16)        0         \n",
      "_________________________________________________________________\n",
      "conv2d_6 (Conv2D)            (None, 13, 13, 32)        4640      \n",
      "_________________________________________________________________\n",
      "activation_9 (Activation)    (None, 13, 13, 32)        0         \n",
      "_________________________________________________________________\n",
      "max_pooling2d_6 (MaxPooling2 (None, 6, 6, 32)          0         \n",
      "_________________________________________________________________\n",
      "flatten_2 (Flatten)          (None, 1152)              0         \n",
      "_________________________________________________________________\n",
      "dense_4 (Dense)              (None, 64)                73792     \n",
      "_________________________________________________________________\n",
      "activation_10 (Activation)   (None, 64)                0         \n",
      "_________________________________________________________________\n",
      "dropout_3 (Dropout)          (None, 64)                0         \n",
      "_________________________________________________________________\n",
      "dense_5 (Dense)              (None, 27)                1755      \n",
      "_________________________________________________________________\n",
      "activation_11 (Activation)   (None, 27)                0         \n",
      "=================================================================\n",
      "Total params: 80,635\n",
      "Trainable params: 80,635\n",
      "Non-trainable params: 0\n",
      "_________________________________________________________________\n"
     ]
    }
   ],
   "source": [
    "model.summary()"
   ]
  },
  {
   "cell_type": "markdown",
   "metadata": {},
   "source": [
    "En el resumen que nos entrega el modelo podemos ver:\n",
    "- Estructura de la red, capa por capa\n",
    "- Como van disminuyendo las dimensiones de cada capa, empezando por las dimensiones de la imágen (30,30) hasta la última capa = Número de clases (27)\n",
    "- Cantidad de parámetros que se van a calcular/entrenar: 80.635"
   ]
  },
  {
   "cell_type": "code",
   "execution_count": 15,
   "metadata": {},
   "outputs": [],
   "source": [
    "model.compile(loss='categorical_crossentropy',\n",
    "              optimizer=keras.optimizers.rmsprop(learning_rate=learning_rate),\n",
    "              metrics=['accuracy'])"
   ]
  },
  {
   "cell_type": "code",
   "execution_count": 16,
   "metadata": {},
   "outputs": [
    {
     "name": "stdout",
     "output_type": "stream",
     "text": [
      "Epoch 1/50\n",
      "62/62 [==============================] - 20s 329ms/step - loss: 3.3374 - accuracy: 0.0327 - val_loss: 3.2839 - val_accuracy: 0.0568\n",
      "Epoch 2/50\n",
      "62/62 [==============================] - 3s 53ms/step - loss: 3.2924 - accuracy: 0.0449 - val_loss: 3.3235 - val_accuracy: 0.0355\n",
      "Epoch 3/50\n",
      "62/62 [==============================] - 3s 51ms/step - loss: 3.2739 - accuracy: 0.0531 - val_loss: 3.3271 - val_accuracy: 0.0888\n",
      "Epoch 4/50\n",
      "62/62 [==============================] - 3s 48ms/step - loss: 3.2608 - accuracy: 0.0653 - val_loss: 3.2241 - val_accuracy: 0.0651\n",
      "Epoch 5/50\n",
      "62/62 [==============================] - 3s 49ms/step - loss: 3.2396 - accuracy: 0.0857 - val_loss: 3.2844 - val_accuracy: 0.0828\n",
      "Epoch 6/50\n",
      "62/62 [==============================] - 3s 46ms/step - loss: 3.2220 - accuracy: 0.0837 - val_loss: 3.2587 - val_accuracy: 0.1183\n",
      "Epoch 7/50\n",
      "62/62 [==============================] - 3s 47ms/step - loss: 3.1735 - accuracy: 0.0878 - val_loss: 3.1608 - val_accuracy: 0.0947\n",
      "Epoch 8/50\n",
      "62/62 [==============================] - 3s 45ms/step - loss: 3.1713 - accuracy: 0.1000 - val_loss: 3.1581 - val_accuracy: 0.1124\n",
      "Epoch 9/50\n",
      "62/62 [==============================] - 3s 45ms/step - loss: 3.1485 - accuracy: 0.1000 - val_loss: 3.2686 - val_accuracy: 0.1006\n",
      "Epoch 10/50\n",
      "62/62 [==============================] - 3s 45ms/step - loss: 3.1595 - accuracy: 0.1061 - val_loss: 3.2984 - val_accuracy: 0.1183\n",
      "Epoch 11/50\n",
      "62/62 [==============================] - 3s 46ms/step - loss: 3.1121 - accuracy: 0.1061 - val_loss: 3.0632 - val_accuracy: 0.0947\n",
      "Epoch 12/50\n",
      "62/62 [==============================] - 3s 44ms/step - loss: 3.0772 - accuracy: 0.1367 - val_loss: 3.2464 - val_accuracy: 0.1006\n",
      "Epoch 13/50\n",
      "62/62 [==============================] - 3s 45ms/step - loss: 3.0984 - accuracy: 0.1190 - val_loss: 3.1835 - val_accuracy: 0.1124\n",
      "Epoch 14/50\n",
      "62/62 [==============================] - 2s 40ms/step - loss: 3.0514 - accuracy: 0.1260 - val_loss: 3.0619 - val_accuracy: 0.1361\n",
      "Epoch 15/50\n",
      "62/62 [==============================] - 3s 43ms/step - loss: 3.0337 - accuracy: 0.1327 - val_loss: 3.0183 - val_accuracy: 0.1124\n",
      "Epoch 16/50\n",
      "62/62 [==============================] - 3s 44ms/step - loss: 3.0382 - accuracy: 0.1388 - val_loss: 3.2016 - val_accuracy: 0.1183\n",
      "Epoch 17/50\n",
      "62/62 [==============================] - 3s 42ms/step - loss: 3.0358 - accuracy: 0.1245 - val_loss: 3.1204 - val_accuracy: 0.1302\n",
      "Epoch 18/50\n",
      "62/62 [==============================] - 3s 41ms/step - loss: 3.0209 - accuracy: 0.1327 - val_loss: 3.3101 - val_accuracy: 0.1598\n",
      "Epoch 19/50\n",
      "62/62 [==============================] - 3s 42ms/step - loss: 2.9316 - accuracy: 0.1633 - val_loss: 3.1262 - val_accuracy: 0.1538\n",
      "Epoch 20/50\n",
      "62/62 [==============================] - 3s 43ms/step - loss: 2.9591 - accuracy: 0.1532 - val_loss: 2.9742 - val_accuracy: 0.1479\n",
      "Epoch 21/50\n",
      "62/62 [==============================] - 3s 44ms/step - loss: 2.9774 - accuracy: 0.1224 - val_loss: 2.9730 - val_accuracy: 0.1420\n",
      "Epoch 22/50\n",
      "62/62 [==============================] - 3s 44ms/step - loss: 2.9036 - accuracy: 0.1736 - val_loss: 2.9348 - val_accuracy: 0.1598\n",
      "Epoch 23/50\n",
      "62/62 [==============================] - 3s 48ms/step - loss: 2.9329 - accuracy: 0.1452 - val_loss: 3.0491 - val_accuracy: 0.1775\n",
      "Epoch 24/50\n",
      "62/62 [==============================] - 3s 47ms/step - loss: 2.8878 - accuracy: 0.1818 - val_loss: 2.7798 - val_accuracy: 0.1761\n",
      "Epoch 25/50\n",
      "62/62 [==============================] - 3s 52ms/step - loss: 2.8788 - accuracy: 0.1429 - val_loss: 3.0713 - val_accuracy: 0.2071\n",
      "Epoch 26/50\n",
      "62/62 [==============================] - 3s 48ms/step - loss: 2.8483 - accuracy: 0.1857 - val_loss: 2.9464 - val_accuracy: 0.1420\n",
      "Epoch 27/50\n",
      "62/62 [==============================] - 3s 45ms/step - loss: 2.8223 - accuracy: 0.1837 - val_loss: 2.8374 - val_accuracy: 0.1479\n",
      "Epoch 28/50\n",
      "62/62 [==============================] - 2s 36ms/step - loss: 2.8122 - accuracy: 0.1996 - val_loss: 2.7882 - val_accuracy: 0.1302\n",
      "Epoch 29/50\n",
      "62/62 [==============================] - 3s 48ms/step - loss: 2.8068 - accuracy: 0.1796 - val_loss: 2.6005 - val_accuracy: 0.2130\n",
      "Epoch 30/50\n",
      "62/62 [==============================] - 3s 46ms/step - loss: 2.8440 - accuracy: 0.1959 - val_loss: 3.1108 - val_accuracy: 0.2367\n",
      "Epoch 31/50\n",
      "62/62 [==============================] - 3s 48ms/step - loss: 2.7496 - accuracy: 0.2143 - val_loss: 2.5121 - val_accuracy: 0.2071\n",
      "Epoch 32/50\n",
      "62/62 [==============================] - 3s 43ms/step - loss: 2.7388 - accuracy: 0.2252 - val_loss: 2.5665 - val_accuracy: 0.2249\n",
      "Epoch 33/50\n",
      "62/62 [==============================] - 3s 47ms/step - loss: 2.6984 - accuracy: 0.2510 - val_loss: 3.0958 - val_accuracy: 0.2071\n",
      "Epoch 34/50\n",
      "62/62 [==============================] - 3s 48ms/step - loss: 2.7712 - accuracy: 0.2204 - val_loss: 2.9707 - val_accuracy: 0.2485\n",
      "Epoch 35/50\n",
      "62/62 [==============================] - 3s 45ms/step - loss: 2.6850 - accuracy: 0.2319 - val_loss: 2.8471 - val_accuracy: 0.2544\n",
      "Epoch 36/50\n",
      "62/62 [==============================] - 3s 44ms/step - loss: 2.7139 - accuracy: 0.2143 - val_loss: 2.6737 - val_accuracy: 0.2663\n",
      "Epoch 37/50\n",
      "62/62 [==============================] - 3s 42ms/step - loss: 2.6362 - accuracy: 0.2755 - val_loss: 2.8061 - val_accuracy: 0.2426\n",
      "Epoch 38/50\n",
      "62/62 [==============================] - 3s 45ms/step - loss: 2.6821 - accuracy: 0.2562 - val_loss: 2.0032 - val_accuracy: 0.3018\n",
      "Epoch 39/50\n",
      "62/62 [==============================] - 3s 46ms/step - loss: 2.5664 - accuracy: 0.2681 - val_loss: 2.6968 - val_accuracy: 0.2604\n",
      "Epoch 40/50\n",
      "62/62 [==============================] - 3s 41ms/step - loss: 2.6495 - accuracy: 0.2347 - val_loss: 2.3324 - val_accuracy: 0.2781\n",
      "Epoch 41/50\n",
      "62/62 [==============================] - 3s 45ms/step - loss: 2.6509 - accuracy: 0.2562 - val_loss: 2.3761 - val_accuracy: 0.2840\n",
      "Epoch 42/50\n",
      "62/62 [==============================] - 3s 47ms/step - loss: 2.5632 - accuracy: 0.2823 - val_loss: 2.6450 - val_accuracy: 0.2663\n",
      "Epoch 43/50\n",
      "62/62 [==============================] - 3s 45ms/step - loss: 2.5946 - accuracy: 0.2592 - val_loss: 2.7918 - val_accuracy: 0.3314\n",
      "Epoch 44/50\n",
      "62/62 [==============================] - 3s 47ms/step - loss: 2.5482 - accuracy: 0.2893 - val_loss: 2.4932 - val_accuracy: 0.2604\n",
      "Epoch 45/50\n",
      "62/62 [==============================] - 3s 45ms/step - loss: 2.4436 - accuracy: 0.3206 - val_loss: 2.2415 - val_accuracy: 0.2781\n",
      "Epoch 46/50\n",
      "62/62 [==============================] - 3s 46ms/step - loss: 2.5401 - accuracy: 0.3163 - val_loss: 3.8256 - val_accuracy: 0.2663\n",
      "Epoch 47/50\n",
      "62/62 [==============================] - 3s 44ms/step - loss: 2.5014 - accuracy: 0.2776 - val_loss: 2.7153 - val_accuracy: 0.3068\n",
      "Epoch 48/50\n",
      "62/62 [==============================] - 3s 49ms/step - loss: 2.4737 - accuracy: 0.2898 - val_loss: 2.2660 - val_accuracy: 0.2840\n",
      "Epoch 49/50\n",
      "62/62 [==============================] - 3s 48ms/step - loss: 2.4518 - accuracy: 0.3286 - val_loss: 2.2428 - val_accuracy: 0.3018\n",
      "Epoch 50/50\n",
      "62/62 [==============================] - 3s 48ms/step - loss: 2.4641 - accuracy: 0.2939 - val_loss: 2.2418 - val_accuracy: 0.2840\n"
     ]
    }
   ],
   "source": [
    "history = model.fit(train_generator, \n",
    "                    steps_per_epoch = int(train_samples/batch_size), \n",
    "                    epochs = epochs, \n",
    "                    validation_data = validation_generator,\n",
    "                    validation_steps = int(validation_samples/batch_size))"
   ]
  },
  {
   "cell_type": "code",
   "execution_count": 27,
   "metadata": {},
   "outputs": [
    {
     "data": {
      "text/plain": [
       "[<matplotlib.lines.Line2D at 0x16b7c762898>]"
      ]
     },
     "execution_count": 27,
     "metadata": {},
     "output_type": "execute_result"
    },
    {
     "data": {
      "image/png": "[encoded data removed]",
      "text/plain": [
       "<Figure size 432x288 with 1 Axes>"
      ]
     },
     "metadata": {
      "needs_background": "light"
     },
     "output_type": "display_data"
    }
   ],
   "source": [
    "plt.xlabel('# Epoca')\n",
    "plt.ylabel(\"Función de Pérdida (loss)\")\n",
    "plt.plot(history.history['loss'])"
   ]
  },
  {
   "cell_type": "markdown",
   "metadata": {},
   "source": [
    "En la gráfica de **loss** podemos ver cómo va disminuyendo nuestro *categorical_crossentropy* en cada epoca.  \n",
    "También podemos ver los valores finales del loss y el accuracy:"
   ]
  },
  {
   "cell_type": "code",
   "execution_count": 29,
   "metadata": {},
   "outputs": [
    {
     "data": {
      "text/plain": [
       "[2.4574368000030518, 0.2618873417377472]"
      ]
     },
     "execution_count": 29,
     "metadata": {},
     "output_type": "execute_result"
    }
   ],
   "source": [
    "model.evaluate_generator(validation_generator, validation_samples)"
   ]
  },
  {
   "cell_type": "markdown",
   "metadata": {},
   "source": [
    "Una vez aprobemos nuestro modelo, podemos usarlo para predecir sobre imágenes nuevas:"
   ]
  },
  {
   "cell_type": "code",
   "execution_count": 31,
   "metadata": {},
   "outputs": [
    {
     "data": {
      "text/plain": [
       "<matplotlib.image.AxesImage at 0x16b00289a58>"
      ]
     },
     "execution_count": 31,
     "metadata": {},
     "output_type": "execute_result"
    },
    {
     "data": {
      "image/png": "[encoded data removed]",
      "text/plain": [
       "<Figure size 432x288 with 1 Axes>"
      ]
     },
     "metadata": {
      "needs_background": "light"
     },
     "output_type": "display_data"
    }
   ],
   "source": [
    "img_path  = \"https://i.pinimg.com/originals/07/0d/3e/070d3e118fa9bcf14bf6a1004308c91b.jpg\"\n",
    "response = requests.get(img_path)\n",
    "img = Image.open(BytesIO(response.content))\n",
    "plt.imshow(img)"
   ]
  },
  {
   "cell_type": "code",
   "execution_count": 51,
   "metadata": {},
   "outputs": [
    {
     "data": {
      "text/plain": [
       "array([[0., 0., 1., 0., 0., 0., 0., 0., 0., 0., 0., 0., 0., 0., 0., 0.,\n",
       "        0., 0., 0., 0., 0., 0., 0., 0., 0., 0., 0.]], dtype=float32)"
      ]
     },
     "execution_count": 51,
     "metadata": {},
     "output_type": "execute_result"
    }
   ],
   "source": [
    "img = io.imread(img_path)\n",
    "img = cv2.resize(img, (img_width, img_height)).astype(np.float32)\n",
    "img = np.expand_dims(img, axis=0)\n",
    "prediction = model.predict(img)\n",
    "prediction"
   ]
  },
  {
   "cell_type": "markdown",
   "metadata": {},
   "source": [
    "El resultado de la predicción es la salida de la última neurona, es decir 27 valores que siginifican la probabilidad de que la imagen dada pertenesca a cada una de las 27 clases objetivo.  "
   ]
  },
  {
   "cell_type": "code",
   "execution_count": 53,
   "metadata": {},
   "outputs": [
    {
     "data": {
      "text/plain": [
       "27"
      ]
     },
     "execution_count": 53,
     "metadata": {},
     "output_type": "execute_result"
    }
   ],
   "source": [
    "len(prediction[0])"
   ]
  },
  {
   "cell_type": "markdown",
   "metadata": {},
   "source": [
    "Para saber, entonces, la clase que indica la predicción basta con elegir la probabilidad más alta del vector entregado, pues corresponden, por índice a las clases objetivo:"
   ]
  },
  {
   "cell_type": "code",
   "execution_count": 54,
   "metadata": {},
   "outputs": [
    {
     "data": {
      "text/plain": [
       "'BMW'"
      ]
     },
     "execution_count": 54,
     "metadata": {},
     "output_type": "execute_result"
    }
   ],
   "source": [
    "classes[prediction.argmax()]"
   ]
  },
  {
   "cell_type": "markdown",
   "metadata": {},
   "source": [
    "**Taller:**  \n",
    "A pesar de que para este ejemplo, el modelo hizo una predicción correcta, el loss aún está un poco alto, y el accuracy esta muy bajo.  Además, el valor de *accuracy* para el set de entrenamiento fue más alto que el de pruebas, quiere decir que el modelo está aprendiendo de memoria casos particulres, en lugar de patrones generales (Overfit).  Para ello:\n",
    "- Juegue un poco con los hiperparámetros, capas y funciones de activación para mejorar estos valores.  Para ello peude usar la documentación de [keras](https://keras.io/api/)\n",
    "- Busque otra imagen (*.jpg*) de alguno de los logos en nuestro modelo y haga la predicción.  Funciona? Estamos safisfechos con este modelo? Podria mejorar?\n"
   ]
  },
  {
   "cell_type": "markdown",
   "metadata": {},
   "source": [
    "## 5b. Transfer Learning  \n",
    "Para no tener que diseñar la red desde ceros, pensando qué capas, neuronas y funciones de activación usar, usamos Transfer Learning, en el que tomamos la estructura de una red ya contruida y especializada en una tarea específica (Ej: Reconocimiento de imagen).  \n",
    "Los siguientes pasos iniciales siguen siendo necesarios: \n",
    "- Definición de hiperprámetros\n",
    "- Generador de imagenes nuevas (Data Augemtnation)\n",
    "- Configuración de generadores para entrenamiento y pruebas  \n",
    "\n",
    "Pero en lugar de crear un modelo desde ceros, vamos a tomar un modelo ya existente, por ejemplo VGG16 y vamos a indicar que sus capas NO SON reentrenables:"
   ]
  },
  {
   "cell_type": "code",
   "execution_count": 77,
   "metadata": {},
   "outputs": [
    {
     "name": "stdout",
     "output_type": "stream",
     "text": [
      "Model: \"vgg16\"\n",
      "_________________________________________________________________\n",
      "Layer (type)                 Output Shape              Param #   \n",
      "=================================================================\n",
      "input_11 (InputLayer)        (None, None, None, 3)     0         \n",
      "_________________________________________________________________\n",
      "block1_conv1 (Conv2D)        (None, None, None, 64)    1792      \n",
      "_________________________________________________________________\n",
      "block1_conv2 (Conv2D)        (None, None, None, 64)    36928     \n",
      "_________________________________________________________________\n",
      "block1_pool (MaxPooling2D)   (None, None, None, 64)    0         \n",
      "_________________________________________________________________\n",
      "block2_conv1 (Conv2D)        (None, None, None, 128)   73856     \n",
      "_________________________________________________________________\n",
      "block2_conv2 (Conv2D)        (None, None, None, 128)   147584    \n",
      "_________________________________________________________________\n",
      "block2_pool (MaxPooling2D)   (None, None, None, 128)   0         \n",
      "_________________________________________________________________\n",
      "block3_conv1 (Conv2D)        (None, None, None, 256)   295168    \n",
      "_________________________________________________________________\n",
      "block3_conv2 (Conv2D)        (None, None, None, 256)   590080    \n",
      "_________________________________________________________________\n",
      "block3_conv3 (Conv2D)        (None, None, None, 256)   590080    \n",
      "_________________________________________________________________\n",
      "block3_pool (MaxPooling2D)   (None, None, None, 256)   0         \n",
      "_________________________________________________________________\n",
      "block4_conv1 (Conv2D)        (None, None, None, 512)   1180160   \n",
      "_________________________________________________________________\n",
      "block4_conv2 (Conv2D)        (None, None, None, 512)   2359808   \n",
      "_________________________________________________________________\n",
      "block4_conv3 (Conv2D)        (None, None, None, 512)   2359808   \n",
      "_________________________________________________________________\n",
      "block4_pool (MaxPooling2D)   (None, None, None, 512)   0         \n",
      "_________________________________________________________________\n",
      "block5_conv1 (Conv2D)        (None, None, None, 512)   2359808   \n",
      "_________________________________________________________________\n",
      "block5_conv2 (Conv2D)        (None, None, None, 512)   2359808   \n",
      "_________________________________________________________________\n",
      "block5_conv3 (Conv2D)        (None, None, None, 512)   2359808   \n",
      "_________________________________________________________________\n",
      "block5_pool (MaxPooling2D)   (None, None, None, 512)   0         \n",
      "=================================================================\n",
      "Total params: 14,714,688\n",
      "Trainable params: 0\n",
      "Non-trainable params: 14,714,688\n",
      "_________________________________________________________________\n"
     ]
    }
   ],
   "source": [
    "base_model = keras.applications.VGG16(weights='imagenet', include_top=False)\n",
    "\n",
    "for layer in base_model.layers :\n",
    "    layer.trainable = False\n",
    "\n",
    "base_model.summary()"
   ]
  },
  {
   "cell_type": "markdown",
   "metadata": {},
   "source": [
    "Vemos la estructura tan compleja que tiene esta red ya preentrenada, más de 14.5 millones de parámetros!  En este caso, también hemos indicado que este modelo no sea reentrenable.  \n",
    "También hemos indicado al modelo no incluir la \"cabeza\" de la red, pues las últimas capas las vamos a reescribir nosotros mismos:\n",
    "> Ya hemos visto una forma de definir la red: deinifiendo el modelo Sequencil vacío e ir añadiendo capas (*model.add*).  \n",
    "> Otra forma es definiendo cada capa, y agregándola como entrada de la capa siguiente:"
   ]
  },
  {
   "cell_type": "code",
   "execution_count": 82,
   "metadata": {},
   "outputs": [
    {
     "name": "stderr",
     "output_type": "stream",
     "text": [
      "C:\\Users\\Asus\\Anaconda3\\lib\\site-packages\\ipykernel_launcher.py:11: UserWarning: Update your `Model` call to the Keras 2 API: `Model(inputs=Tensor(\"im..., outputs=Tensor(\"ac...)`\n",
      "  # This is added back by InteractiveShellApp.init_path()\n"
     ]
    }
   ],
   "source": [
    "input = keras.Input(shape=(img_width, img_height, 3),name = 'image_input')\n",
    "\n",
    "model_head = base_model(input)\n",
    "model_head = keras.layers.GlobalAveragePooling2D()(model_head)\n",
    "model_head = keras.layers.Dense(64)(model_head)\n",
    "model_head = keras.layers.Activation(activation='relu')(model_head)\n",
    "model_head = keras.layers.Dropout(0.4)(model_head)\n",
    "model_head = keras.layers.Dense(27)(model_head)\n",
    "model_head = keras.layers.Activation(activation='softmax')(model_head)\n",
    "\n",
    "my_model = keras.Model(input=input, output=model_head)"
   ]
  },
  {
   "cell_type": "code",
   "execution_count": 76,
   "metadata": {},
   "outputs": [
    {
     "name": "stdout",
     "output_type": "stream",
     "text": [
      "Model: \"model_7\"\n",
      "_________________________________________________________________\n",
      "Layer (type)                 Output Shape              Param #   \n",
      "=================================================================\n",
      "image_input (InputLayer)     (None, 32, 32, 3)         0         \n",
      "_________________________________________________________________\n",
      "vgg16 (Model)                multiple                  14714688  \n",
      "_________________________________________________________________\n",
      "global_average_pooling2d_11  (None, 512)               0         \n",
      "_________________________________________________________________\n",
      "dense_21 (Dense)             (None, 64)                32832     \n",
      "_________________________________________________________________\n",
      "activation_26 (Activation)   (None, 64)                0         \n",
      "_________________________________________________________________\n",
      "dropout_11 (Dropout)         (None, 64)                0         \n",
      "_________________________________________________________________\n",
      "dense_22 (Dense)             (None, 27)                1755      \n",
      "_________________________________________________________________\n",
      "activation_27 (Activation)   (None, 27)                0         \n",
      "=================================================================\n",
      "Total params: 14,749,275\n",
      "Trainable params: 34,587\n",
      "Non-trainable params: 14,714,688\n",
      "_________________________________________________________________\n"
     ]
    }
   ],
   "source": [
    "my_model.summary()"
   ]
  },
  {
   "cell_type": "markdown",
   "metadata": {},
   "source": [
    "Vemos ahora que, la estructura de nuestra nueva red es mucho más compleja, incluye los 14.5 millones de parámetros del modelo VGG16, adicionalmente hemos configurado la capa de entrada para que reciba las imágenes que tenemos preparadas, pero lo más importante, hemos configurado algunas capas adicionales como la **nueva cabeza** de la red.  \n",
    "Al final del resumen vemos que, los 14.5 millones de parámetros del modelo base (VGG16) no son entrenables, pero los 34mil de nuestra nueva cabeza sí, y estos son los valores que va a buscar el modelo.  \n",
    "\n",
    "Hemos creado en pocas líneas un modelo más complejo, pero más sencillo de entrenar.  Desde aquí la compilación y entrenamiento del modelo es igual a como ya lo hemos trabajado:"
   ]
  },
  {
   "cell_type": "code",
   "execution_count": 87,
   "metadata": {},
   "outputs": [],
   "source": [
    "my_model.compile(loss='categorical_crossentropy',\n",
    "              optimizer=keras.optimizers.rmsprop(learning_rate=learning_rate),\n",
    "              metrics=['accuracy'])"
   ]
  },
  {
   "cell_type": "markdown",
   "metadata": {},
   "source": [
    "Como paso adicional de este laboratorio vamos a trabajar con los Callbacks que vimos la sesión pasada.  Son funciones que se ejecutan al final de cada época y que pueden ayudar a mejorar el rendimiento del modelo:"
   ]
  },
  {
   "cell_type": "code",
   "execution_count": 79,
   "metadata": {},
   "outputs": [],
   "source": [
    "mis_callbacks = [\n",
    "    # Modificar el LR si el modelo no mejora:\n",
    "    keras.callbacks.ReduceLROnPlateau(monitor = \"val_loss\", factor=.1, patience=5),\n",
    "    # Configurar que el modelo pare si no mejora:\n",
    "    keras.callbacks.EarlyStopping(monitor='val_accuracy', patience=10, mode='auto'),\n",
    "    # Ir guardando el mejor modelo\n",
    "    keras.callbacks.ModelCheckpoint(\"models/logos_checkpoints.h5\", monitor='val_loss', save_best_only=True)\n",
    "]"
   ]
  },
  {
   "cell_type": "code",
   "execution_count": 88,
   "metadata": {},
   "outputs": [
    {
     "name": "stdout",
     "output_type": "stream",
     "text": [
      "Epoch 1/50\n",
      "62/62 [==============================] - 7s 105ms/step - loss: 3.5036 - accuracy: 0.0469 - val_loss: 3.2899 - val_accuracy: 0.0455\n",
      "Epoch 2/50\n",
      "62/62 [==============================] - 7s 111ms/step - loss: 3.4012 - accuracy: 0.0755 - val_loss: 3.1203 - val_accuracy: 0.0651\n",
      "Epoch 3/50\n",
      "62/62 [==============================] - 7s 116ms/step - loss: 3.3183 - accuracy: 0.0673 - val_loss: 3.2753 - val_accuracy: 0.0769\n",
      "Epoch 4/50\n",
      "62/62 [==============================] - 7s 112ms/step - loss: 3.2983 - accuracy: 0.0776 - val_loss: 3.0023 - val_accuracy: 0.0533\n",
      "Epoch 5/50\n",
      "62/62 [==============================] - 7s 117ms/step - loss: 3.2526 - accuracy: 0.0694 - val_loss: 3.1736 - val_accuracy: 0.1124\n",
      "Epoch 6/50\n",
      "62/62 [==============================] - 7s 119ms/step - loss: 3.2279 - accuracy: 0.0776 - val_loss: 3.2153 - val_accuracy: 0.0651\n",
      "Epoch 7/50\n",
      "62/62 [==============================] - 8s 126ms/step - loss: 3.1992 - accuracy: 0.0837 - val_loss: 3.2320 - val_accuracy: 0.1006\n",
      "Epoch 8/50\n",
      "62/62 [==============================] - 7s 119ms/step - loss: 3.1565 - accuracy: 0.1224 - val_loss: 3.4614 - val_accuracy: 0.0828\n",
      "Epoch 9/50\n",
      "62/62 [==============================] - 8s 132ms/step - loss: 3.1247 - accuracy: 0.1020 - val_loss: 3.3003 - val_accuracy: 0.0828\n",
      "Epoch 10/50\n",
      "62/62 [==============================] - 8s 127ms/step - loss: 3.1449 - accuracy: 0.1028 - val_loss: 3.1415 - val_accuracy: 0.0947\n",
      "Epoch 11/50\n",
      "62/62 [==============================] - 8s 129ms/step - loss: 3.0984 - accuracy: 0.1364 - val_loss: 3.2446 - val_accuracy: 0.1243\n",
      "Epoch 12/50\n",
      "62/62 [==============================] - 8s 133ms/step - loss: 3.1168 - accuracy: 0.1245 - val_loss: 3.1110 - val_accuracy: 0.0888\n",
      "Epoch 13/50\n",
      "62/62 [==============================] - 9s 140ms/step - loss: 3.1260 - accuracy: 0.1224 - val_loss: 3.0711 - val_accuracy: 0.1006\n",
      "Epoch 14/50\n",
      "62/62 [==============================] - 8s 133ms/step - loss: 3.1010 - accuracy: 0.1306 - val_loss: 3.2480 - val_accuracy: 0.1006\n",
      "Epoch 15/50\n",
      "62/62 [==============================] - 8s 126ms/step - loss: 3.1157 - accuracy: 0.1449 - val_loss: 3.2297 - val_accuracy: 0.1183\n",
      "Epoch 16/50\n",
      "62/62 [==============================] - 8s 136ms/step - loss: 3.1020 - accuracy: 0.1371 - val_loss: 2.8903 - val_accuracy: 0.1243\n",
      "Epoch 17/50\n",
      "62/62 [==============================] - 7s 120ms/step - loss: 3.1261 - accuracy: 0.1095 - val_loss: 3.2330 - val_accuracy: 0.0888\n",
      "Epoch 18/50\n",
      "62/62 [==============================] - 8s 126ms/step - loss: 3.1073 - accuracy: 0.1184 - val_loss: 3.3192 - val_accuracy: 0.1124\n",
      "Epoch 19/50\n",
      "62/62 [==============================] - 8s 126ms/step - loss: 3.0930 - accuracy: 0.1163 - val_loss: 3.2980 - val_accuracy: 0.0888\n",
      "Epoch 20/50\n",
      "62/62 [==============================] - 9s 143ms/step - loss: 3.1463 - accuracy: 0.1204 - val_loss: 3.2770 - val_accuracy: 0.1183\n",
      "Epoch 21/50\n",
      "62/62 [==============================] - 8s 133ms/step - loss: 3.0870 - accuracy: 0.1122 - val_loss: 3.1667 - val_accuracy: 0.1183\n"
     ]
    }
   ],
   "source": [
    "history = my_model.fit(train_generator, \n",
    "                    steps_per_epoch = int(train_samples/batch_size), \n",
    "                    epochs = epochs, \n",
    "                    validation_data = validation_generator,\n",
    "                    validation_steps = int(validation_samples/batch_size),\n",
    "                    callbacks = mis_callbacks)"
   ]
  },
  {
   "cell_type": "code",
   "execution_count": 89,
   "metadata": {},
   "outputs": [
    {
     "data": {
      "text/plain": [
       "[<matplotlib.lines.Line2D at 0x16b1b51fe10>]"
      ]
     },
     "execution_count": 89,
     "metadata": {},
     "output_type": "execute_result"
    },
    {
     "data": {
      "image/png": "[encoded data removed]",
      "text/plain": [
       "<Figure size 432x288 with 1 Axes>"
      ]
     },
     "metadata": {
      "needs_background": "light"
     },
     "output_type": "display_data"
    }
   ],
   "source": [
    "plt.xlabel('# Epoca')\n",
    "plt.ylabel(\"Función de Pérdida (loss)\")\n",
    "plt.plot(history.history['loss'])"
   ]
  },
  {
   "cell_type": "code",
   "execution_count": 90,
   "metadata": {},
   "outputs": [
    {
     "data": {
      "text/plain": [
       "[<matplotlib.lines.Line2D at 0x16b1b57de48>]"
      ]
     },
     "execution_count": 90,
     "metadata": {},
     "output_type": "execute_result"
    },
    {
     "data": {
      "image/png": "[encoded data removed]",
      "text/plain": [
       "<Figure size 432x288 with 1 Axes>"
      ]
     },
     "metadata": {
      "needs_background": "light"
     },
     "output_type": "display_data"
    }
   ],
   "source": [
    "plt.xlabel('# Epoca')\n",
    "plt.ylabel(\"Métrica (Accuracy)\")\n",
    "plt.plot(history.history['accuracy'])"
   ]
  },
  {
   "cell_type": "code",
   "execution_count": 91,
   "metadata": {},
   "outputs": [
    {
     "data": {
      "text/plain": [
       "[3.1950111389160156, 0.11046086251735687]"
      ]
     },
     "execution_count": 91,
     "metadata": {},
     "output_type": "execute_result"
    }
   ],
   "source": [
    "my_model.evaluate_generator(validation_generator, validation_samples)"
   ]
  },
  {
   "cell_type": "markdown",
   "metadata": {},
   "source": [
    "En comparación con nuestro modelo inicial (*Loss = 2.46, Accuracy=0.26*), este modelo da mejores resultados!  \n",
    "Vamos ahora a probarlo con imágenes nuevas:"
   ]
  },
  {
   "cell_type": "code",
   "execution_count": 113,
   "metadata": {},
   "outputs": [
    {
     "data": {
      "text/plain": [
       "<matplotlib.image.AxesImage at 0x16b059052b0>"
      ]
     },
     "execution_count": 113,
     "metadata": {},
     "output_type": "execute_result"
    },
    {
     "data": {
      "image/png": "[encoded data removed]",
      "text/plain": [
       "<Figure size 432x288 with 1 Axes>"
      ]
     },
     "metadata": {
      "needs_background": "light"
     },
     "output_type": "display_data"
    }
   ],
   "source": [
    "img_path  = \"https://i.pinimg.com/originals/02/ac/cd/02accd95989df4cde2f57adcd508dbcd.jpg\"\n",
    "response = requests.get(img_path)\n",
    "img = Image.open(BytesIO(response.content))\n",
    "plt.imshow(img)"
   ]
  },
  {
   "cell_type": "code",
   "execution_count": 114,
   "metadata": {},
   "outputs": [
    {
     "data": {
      "text/plain": [
       "array([[0.0000000e+00, 8.1275206e-35, 2.5568487e-23, 1.0499337e-22,\n",
       "        5.0212055e-19, 2.3437378e-23, 1.4189888e-27, 1.8820297e-26,\n",
       "        2.1995170e-12, 4.2436749e-28, 5.4551773e-08, 3.3357892e-31,\n",
       "        4.6215437e-08, 3.4674574e-22, 4.7707822e-28, 1.1618717e-03,\n",
       "        4.6271006e-23, 1.6938114e-11, 0.0000000e+00, 4.8490119e-23,\n",
       "        6.3445415e-19, 1.0515380e-05, 4.7777030e-28, 3.6574839e-04,\n",
       "        2.2782622e-20, 2.5103259e-21, 9.9846172e-01]], dtype=float32)"
      ]
     },
     "execution_count": 114,
     "metadata": {},
     "output_type": "execute_result"
    }
   ],
   "source": [
    "img = io.imread(img_path)\n",
    "img = cv2.resize(img, (img_width, img_height)).astype(np.float32)\n",
    "img = np.expand_dims(img, axis=0)\n",
    "prediction = my_model.predict(img)\n",
    "prediction"
   ]
  },
  {
   "cell_type": "code",
   "execution_count": 108,
   "metadata": {},
   "outputs": [
    {
     "data": {
      "text/plain": [
       "27"
      ]
     },
     "execution_count": 108,
     "metadata": {},
     "output_type": "execute_result"
    }
   ],
   "source": [
    "len(prediction[0])"
   ]
  },
  {
   "cell_type": "code",
   "execution_count": 115,
   "metadata": {},
   "outputs": [
    {
     "data": {
      "text/plain": [
       "'Yahoo'"
      ]
     },
     "execution_count": 115,
     "metadata": {},
     "output_type": "execute_result"
    }
   ],
   "source": [
    "classes[prediction.argmax()]"
   ]
  },
  {
   "cell_type": "markdown",
   "metadata": {},
   "source": [
    "**Taller**  \n",
    "**Ups!** Al modelo le falta un poco de afinamiento, intente:\n",
    "- Cambiar el modelo base VGG16 por otros modelos como *VGG19, ResNet50, InceptionV3, MobileNet, Xception*.  Para ello peude usar la documentación de [keras](https://keras.io/api/)\n",
    "- Juegue un poco con los hiperparámetros, capas y funciones de activación en la **cabeza de la red** para mejorar los valores de loss, accuracy y las predicciones.\n",
    "- Busque otra imagen (*.jpg*) de alguno de los logos en nuestro modelo y haga la predicción.  Funciona? Estamos safisfechos con este modelo? Podria mejorar?"
   ]
  },
  {
   "cell_type": "code",
   "execution_count": null,
   "metadata": {},
   "outputs": [],
   "source": []
  }
 ],
 "metadata": {
  "kernelspec": {
   "display_name": "Python 3",
   "language": "python",
   "name": "python3"
  },
  "language_info": {
   "codemirror_mode": {
    "name": "ipython",
    "version": 3
   },
   "file_extension": ".py",
   "mimetype": "text/x-python",
   "name": "python",
   "nbconvert_exporter": "python",
   "pygments_lexer": "ipython3",
   "version": "3.6.5"
  }
 },
 "nbformat": 4,
 "nbformat_minor": 4
}
