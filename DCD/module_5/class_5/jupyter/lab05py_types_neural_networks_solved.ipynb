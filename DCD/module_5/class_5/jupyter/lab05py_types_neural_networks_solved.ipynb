{
 "cells": [
  {
   "cell_type": "markdown",
   "metadata": {},
   "source": [
    "# Lab05 - Tipos de Redes Neuronales  \n",
    "\n",
    "En la sesión pasada creamos nuestra primera **Red Neuronal Profunda** usando capas densas (*Fully Connected*) ya que se trataba de una regresión lineal sencilla.  \n",
    "\n",
    "Ahora, vamos a crear una **Red Neuronal Convolucional** en un problema muy común de Inteligencia Artificial: Clasificación de imágenes!  "
   ]
  },
  {
   "cell_type": "code",
   "execution_count": 1,
   "metadata": {},
   "outputs": [
    {
     "name": "stderr",
     "output_type": "stream",
     "text": [
      "/usr/lib/python3/dist-packages/requests/__init__.py:91: RequestsDependencyWarning: urllib3 (1.26.2) or chardet (3.0.4) doesn't match a supported version!\n",
      "  RequestsDependencyWarning)\n"
     ]
    }
   ],
   "source": [
    "import keras\n",
    "import cv2\n",
    "import matplotlib.pyplot as plt\n",
    "import numpy as np\n",
    "import requests\n",
    "\n",
    "from skimage import io\n",
    "from PIL import Image\n",
    "from io import BytesIO\n",
    "from keras. preprocessing.image import ImageDataGenerator\n",
    "%matplotlib inline"
   ]
  },
  {
   "cell_type": "markdown",
   "metadata": {},
   "source": [
    "## Cargar el set de datos\n",
    "Dependiendo del problema que queramos solucionar, va a ser necesario recolectar una gran cantidad de imágenes para entrenar el modelo.  Existen fuentes de datos abiertas para casos de uso generales como: personas, animales, flores, automóviles, etc.  \n",
    "Por otro lado, cuándo nuestro problema es mucho más particular y no se encuentran datasets ya creados para nuestro caso, será necesario recolectar las imágenes manualmente.  La regla siempre será: *Entre más imágenes, mejor*.  \n",
    "En cualquiera de los dos casos, la estructura recomendable para organizar las imágenes es la siguiente:\n",
    "```\n",
    "Directorio Raíz\n",
    "└───train\n",
    "│   └───clase1\n",
    "│   │       imagen01.jpg\n",
    "│   │       imagen02.jpg\n",
    "│   │       ...\n",
    "│   └───clase2\n",
    "│   │       imagen01.jpg\n",
    "│   │       imagen02.jpg\n",
    "│   │       ...\n",
    "│   └───...\n",
    "│   \n",
    "└───test\n",
    "    └───clase1\n",
    "    │       imagen01.jpg\n",
    "    │       imagen02.jpg\n",
    "    │       ...\n",
    "    └───clase2\n",
    "    │       imagen01.jpg\n",
    "    │       imagen02.jpg\n",
    "    │       ...\n",
    "    └───...\n",
    "```\n",
    "\n",
    "Los directorios no *necesariemante* deben llamarse así, pero sí es recomendable tener un set de datos de entrenamiento separado del de pruebas.  Además, los **nombres** de las carpetas dentro de estos (clase1, clase2, ...), son los que indicarán las **clases/labels** de las imagenes que están adentro.\n",
    "\n",
    "Vamos a trabajar con un dataset de Logos de algunas empresas conocidas, se puede descargar de [aquí](http://flovv.github.io/Logo_detection_deep_learning/), pero para facilidad ya se encuentra descargado y  organizado en la estructura necesaria dentro de nuestra carpeta */data*:\n",
    "![Logos_sample](http://flovv.github.io/figures/post21/flickr27-sample.png)"
   ]
  },
  {
   "cell_type": "markdown",
   "metadata": {},
   "source": [
    "El dataset consta de 675 imágenes de 27 marcas diferentes (En promedio 25 imágenes de cada clase para entrenamiento y pruebas).  En un problema real esto es un dataset pequeño, pero hoy nos servirá para aprender otros conceptos de Redes Neuronales."
   ]
  },
  {
   "cell_type": "markdown",
   "metadata": {},
   "source": [
    "## 5a. Mi Primera Red Neuronal Convolucional CNN"
   ]
  },
  {
   "cell_type": "code",
   "execution_count": 2,
   "metadata": {},
   "outputs": [],
   "source": [
    "# Configuración de variables\n",
    "img_width = 32\n",
    "img_height = 32\n",
    "train_samples = 498\n",
    "validation_samples = 177\n",
    "classes = ['Adidas', 'Apple', 'BMW', 'Citroen', 'Cocacola', 'DHL', 'Fedex', 'Ferrari', 'Ford', 'Google', \n",
    "           'Heineken', 'HP', 'Intel', 'McDonalds', 'Mini', 'Nbc', 'Nike', 'Pepsi', 'Porsche', 'Puma', \n",
    "           'RedBull', 'Sprite', 'Starbucks', 'Texaco', 'Unicef', 'Vodafone', 'Yahoo']\n",
    "\n",
    "train_directory = \"LogoData/train\"\n",
    "test_directory = \"LogoData/test\""
   ]
  },
  {
   "cell_type": "code",
   "execution_count": 3,
   "metadata": {},
   "outputs": [],
   "source": [
    "# Configuración de Hiperparámetros:\n",
    "batch_size = 8\n",
    "learning_rate = 0.0001\n",
    "epochs = 50"
   ]
  },
  {
   "cell_type": "markdown",
   "metadata": {},
   "source": [
    "### Data Augmentation\n",
    "Como ya se ha mencionado varias veces, entre más datos tengamos, mejor.  En el caso de Computer Vision: entre más imágenes, mejor.\n",
    "Cuando no tenemos suficientes datos, la técnica de Data Augmentation permite, por medio de un algoritmo, generar imágenes artificialmente a partir de las pocas imágenes que tenemos.  Esto se logra haciendo cambios pequeños a los datos: Girar un poco la imagen, cambiando su luminocidad, resolución, moviéndola un poco, etc.  Para nosotros es un cambio pequeño, pero para el modelo es una imagen completamente diferente!\n",
    "![Data Augmenation](https://miro.medium.com/max/605/0*Utma-dS47hSoQ6Zt)  \n",
    "A nivel de código, estas son TODAS las opciones que se pueden configurar para el generador de datos, tenga en cuenta que no siempre todas aplican, por ejemplo, la imagen del león mirando a la derecha o mirando a la izquierda, sigue siendo un león, pero, nuestros logos?"
   ]
  },
  {
   "cell_type": "code",
   "execution_count": 4,
   "metadata": {},
   "outputs": [],
   "source": [
    "# Estas son TODAS las opciones!\n",
    "datagen = ImageDataGenerator(\n",
    "    featurewise_center=False,\n",
    "    samplewise_center=False,\n",
    "    featurewise_std_normalization=False,\n",
    "    samplewise_std_normalization=False,\n",
    "    zca_whitening=False,\n",
    "    zca_epsilon=1e-06,\n",
    "    rotation_range=0,\n",
    "    width_shift_range=0.0,\n",
    "    height_shift_range=0.0,\n",
    "    brightness_range=None,\n",
    "    shear_range=0.0,\n",
    "    zoom_range=0.0,\n",
    "    channel_shift_range=0.0,\n",
    "    fill_mode=\"nearest\",\n",
    "    cval=0.0,\n",
    "    horizontal_flip=False,\n",
    "    vertical_flip=False,\n",
    "    rescale=None\n",
    ")"
   ]
  },
  {
   "cell_type": "code",
   "execution_count": 5,
   "metadata": {},
   "outputs": [],
   "source": [
    "datagen = ImageDataGenerator(\n",
    "    rescale=1. / 255,\n",
    "    shear_range=0.2,\n",
    "    zoom_range=0.2,\n",
    "    horizontal_flip=True)"
   ]
  },
  {
   "cell_type": "code",
   "execution_count": 6,
   "metadata": {},
   "outputs": [
    {
     "name": "stdout",
     "output_type": "stream",
     "text": [
      "Found 498 images belonging to 27 classes.\n",
      "Found 177 images belonging to 27 classes.\n"
     ]
    }
   ],
   "source": [
    "train_generator = datagen.flow_from_directory(\n",
    "    directory=train_directory,\n",
    "    target_size=(img_width, img_height),\n",
    "    batch_size=batch_size,\n",
    "    class_mode='categorical',\n",
    "    shuffle = True,\n",
    "    seed = 123\n",
    ")\n",
    "\n",
    "validation_generator = datagen.flow_from_directory(\n",
    "    directory=test_directory,\n",
    "    target_size=(img_width, img_height),\n",
    "    batch_size=batch_size,\n",
    "    class_mode='categorical',\n",
    "    shuffle = True,\n",
    "    seed = 123\n",
    ")"
   ]
  },
  {
   "cell_type": "markdown",
   "metadata": {},
   "source": [
    "Hemos creado dos generadores de imagenes porque cada dataset partirá de un directorio diferente, y puede ser con transformaciones diferentes.  \n",
    "Ahora sí, podemos crear el modelo:"
   ]
  },
  {
   "cell_type": "code",
   "execution_count": 7,
   "metadata": {},
   "outputs": [],
   "source": [
    "model = keras.Sequential()\n",
    "\n",
    "model.add(keras.layers.convolutional.Conv2D(filters=16, kernel_size = (3,3), \n",
    "                                            input_shape=(img_width, img_height,3)))\n",
    "model.add(keras.layers.Activation(activation='relu'))\n",
    "model.add(keras.layers.convolutional.MaxPooling2D(pool_size = (2,2)))\n",
    "\n",
    "model.add(keras.layers.convolutional.Conv2D(filters=32, kernel_size = (3,3)))\n",
    "model.add(keras.layers.Activation(activation='relu'))\n",
    "model.add(keras.layers.convolutional.MaxPooling2D(pool_size = (2,2)))\n",
    "\n",
    "model.add(keras.layers.Flatten())\n",
    "model.add(keras.layers.Dense(64))\n",
    "model.add(keras.layers.Activation(activation='relu'))\n",
    "model.add(keras.layers.Dropout(0.5))\n",
    "model.add(keras.layers.Dense(27))\n",
    "model.add(keras.layers.Activation(activation='softmax'))"
   ]
  },
  {
   "cell_type": "code",
   "execution_count": 8,
   "metadata": {},
   "outputs": [
    {
     "name": "stdout",
     "output_type": "stream",
     "text": [
      "Model: \"sequential\"\n",
      "_________________________________________________________________\n",
      "Layer (type)                 Output Shape              Param #   \n",
      "=================================================================\n",
      "conv2d (Conv2D)              (None, 30, 30, 16)        448       \n",
      "_________________________________________________________________\n",
      "activation (Activation)      (None, 30, 30, 16)        0         \n",
      "_________________________________________________________________\n",
      "max_pooling2d (MaxPooling2D) (None, 15, 15, 16)        0         \n",
      "_________________________________________________________________\n",
      "conv2d_1 (Conv2D)            (None, 13, 13, 32)        4640      \n",
      "_________________________________________________________________\n",
      "activation_1 (Activation)    (None, 13, 13, 32)        0         \n",
      "_________________________________________________________________\n",
      "max_pooling2d_1 (MaxPooling2 (None, 6, 6, 32)          0         \n",
      "_________________________________________________________________\n",
      "flatten (Flatten)            (None, 1152)              0         \n",
      "_________________________________________________________________\n",
      "dense (Dense)                (None, 64)                73792     \n",
      "_________________________________________________________________\n",
      "activation_2 (Activation)    (None, 64)                0         \n",
      "_________________________________________________________________\n",
      "dropout (Dropout)            (None, 64)                0         \n",
      "_________________________________________________________________\n",
      "dense_1 (Dense)              (None, 27)                1755      \n",
      "_________________________________________________________________\n",
      "activation_3 (Activation)    (None, 27)                0         \n",
      "=================================================================\n",
      "Total params: 80,635\n",
      "Trainable params: 80,635\n",
      "Non-trainable params: 0\n",
      "_________________________________________________________________\n"
     ]
    }
   ],
   "source": [
    "model.summary()"
   ]
  },
  {
   "cell_type": "markdown",
   "metadata": {},
   "source": [
    "En el resumen que nos entrega el modelo podemos ver:\n",
    "- Estructura de la red, capa por capa\n",
    "- Como van disminuyendo las dimensiones de cada capa, empezando por las dimensiones de la imágen (30,30) hasta la última capa = Número de clases (27)\n",
    "- Cantidad de parámetros que se van a calcular/entrenar: 80.635"
   ]
  },
  {
   "cell_type": "code",
   "execution_count": 9,
   "metadata": {},
   "outputs": [],
   "source": [
    "model.compile(loss='categorical_crossentropy',\n",
    "              optimizer=keras.optimizers.RMSprop(learning_rate=learning_rate),\n",
    "              metrics=['accuracy'])"
   ]
  },
  {
   "cell_type": "code",
   "execution_count": 10,
   "metadata": {},
   "outputs": [
    {
     "name": "stdout",
     "output_type": "stream",
     "text": [
      "Epoch 1/50\n",
      "62/62 [==============================] - 7s 107ms/step - loss: 3.2938 - accuracy: 0.0531 - val_loss: 3.2941 - val_accuracy: 0.0455\n",
      "Epoch 2/50\n",
      "62/62 [==============================] - 3s 46ms/step - loss: 3.2842 - accuracy: 0.0429 - val_loss: 3.2890 - val_accuracy: 0.0511\n",
      "Epoch 3/50\n",
      "62/62 [==============================] - 3s 47ms/step - loss: 3.2751 - accuracy: 0.0633 - val_loss: 3.2832 - val_accuracy: 0.0568\n",
      "Epoch 4/50\n",
      "62/62 [==============================] - 3s 46ms/step - loss: 3.2658 - accuracy: 0.0673 - val_loss: 3.2816 - val_accuracy: 0.0398\n",
      "Epoch 5/50\n",
      "62/62 [==============================] - 3s 46ms/step - loss: 3.2535 - accuracy: 0.0735 - val_loss: 3.2735 - val_accuracy: 0.0398\n",
      "Epoch 6/50\n",
      "62/62 [==============================] - 3s 46ms/step - loss: 3.2452 - accuracy: 0.0755 - val_loss: 3.2658 - val_accuracy: 0.0568\n",
      "Epoch 7/50\n",
      "62/62 [==============================] - 3s 46ms/step - loss: 3.2339 - accuracy: 0.0694 - val_loss: 3.2587 - val_accuracy: 0.0511\n",
      "Epoch 8/50\n",
      "62/62 [==============================] - 3s 46ms/step - loss: 3.2316 - accuracy: 0.0776 - val_loss: 3.2424 - val_accuracy: 0.0682\n",
      "Epoch 9/50\n",
      "62/62 [==============================] - 3s 46ms/step - loss: 3.2100 - accuracy: 0.0776 - val_loss: 3.2363 - val_accuracy: 0.0625\n",
      "Epoch 10/50\n",
      "62/62 [==============================] - 3s 45ms/step - loss: 3.2006 - accuracy: 0.0959 - val_loss: 3.2238 - val_accuracy: 0.0739\n",
      "Epoch 11/50\n",
      "62/62 [==============================] - 3s 46ms/step - loss: 3.1835 - accuracy: 0.0837 - val_loss: 3.2146 - val_accuracy: 0.0852\n",
      "Epoch 12/50\n",
      "62/62 [==============================] - 3s 46ms/step - loss: 3.1557 - accuracy: 0.1122 - val_loss: 3.1995 - val_accuracy: 0.0909\n",
      "Epoch 13/50\n",
      "62/62 [==============================] - 3s 45ms/step - loss: 3.1502 - accuracy: 0.1102 - val_loss: 3.1793 - val_accuracy: 0.0966\n",
      "Epoch 14/50\n",
      "62/62 [==============================] - 3s 46ms/step - loss: 3.1133 - accuracy: 0.1306 - val_loss: 3.1562 - val_accuracy: 0.0966\n",
      "Epoch 15/50\n",
      "62/62 [==============================] - 3s 46ms/step - loss: 3.1084 - accuracy: 0.1327 - val_loss: 3.1316 - val_accuracy: 0.1136\n",
      "Epoch 16/50\n",
      "62/62 [==============================] - 3s 47ms/step - loss: 3.0875 - accuracy: 0.1286 - val_loss: 3.1215 - val_accuracy: 0.1023\n",
      "Epoch 17/50\n",
      "62/62 [==============================] - 3s 50ms/step - loss: 3.0816 - accuracy: 0.1388 - val_loss: 3.1028 - val_accuracy: 0.1136\n",
      "Epoch 18/50\n",
      "62/62 [==============================] - 3s 49ms/step - loss: 3.0469 - accuracy: 0.1347 - val_loss: 3.0792 - val_accuracy: 0.1080\n",
      "Epoch 19/50\n",
      "62/62 [==============================] - 3s 53ms/step - loss: 3.0373 - accuracy: 0.1490 - val_loss: 3.0552 - val_accuracy: 0.1136\n",
      "Epoch 20/50\n",
      "62/62 [==============================] - 3s 48ms/step - loss: 3.0051 - accuracy: 0.1224 - val_loss: 3.0433 - val_accuracy: 0.1136\n",
      "Epoch 21/50\n",
      "62/62 [==============================] - 3s 49ms/step - loss: 2.9958 - accuracy: 0.1306 - val_loss: 3.0301 - val_accuracy: 0.1193\n",
      "Epoch 22/50\n",
      "62/62 [==============================] - 3s 49ms/step - loss: 3.0007 - accuracy: 0.1286 - val_loss: 3.0145 - val_accuracy: 0.1591\n",
      "Epoch 23/50\n",
      "62/62 [==============================] - 3s 54ms/step - loss: 2.9782 - accuracy: 0.1367 - val_loss: 2.9848 - val_accuracy: 0.1534\n",
      "Epoch 24/50\n",
      "62/62 [==============================] - 3s 47ms/step - loss: 2.9428 - accuracy: 0.1510 - val_loss: 2.9895 - val_accuracy: 0.1307\n",
      "Epoch 25/50\n",
      "62/62 [==============================] - 3s 47ms/step - loss: 2.9213 - accuracy: 0.1592 - val_loss: 2.9552 - val_accuracy: 0.1705\n",
      "Epoch 26/50\n",
      "62/62 [==============================] - 3s 46ms/step - loss: 2.9172 - accuracy: 0.1633 - val_loss: 2.9591 - val_accuracy: 0.1818\n",
      "Epoch 27/50\n",
      "62/62 [==============================] - 3s 46ms/step - loss: 2.8868 - accuracy: 0.1837 - val_loss: 2.9313 - val_accuracy: 0.1761\n",
      "Epoch 28/50\n",
      "62/62 [==============================] - 3s 46ms/step - loss: 2.9011 - accuracy: 0.1531 - val_loss: 2.9319 - val_accuracy: 0.1477\n",
      "Epoch 29/50\n",
      "62/62 [==============================] - 3s 46ms/step - loss: 2.8574 - accuracy: 0.1735 - val_loss: 2.8894 - val_accuracy: 0.1648\n",
      "Epoch 30/50\n",
      "62/62 [==============================] - 3s 46ms/step - loss: 2.8253 - accuracy: 0.1694 - val_loss: 2.8838 - val_accuracy: 0.1875\n",
      "Epoch 31/50\n",
      "62/62 [==============================] - 3s 46ms/step - loss: 2.7904 - accuracy: 0.1837 - val_loss: 2.8434 - val_accuracy: 0.2045\n",
      "Epoch 32/50\n",
      "62/62 [==============================] - 3s 46ms/step - loss: 2.7891 - accuracy: 0.1776 - val_loss: 2.8282 - val_accuracy: 0.1932\n",
      "Epoch 33/50\n",
      "62/62 [==============================] - 3s 46ms/step - loss: 2.7329 - accuracy: 0.2020 - val_loss: 2.8044 - val_accuracy: 0.1932\n",
      "Epoch 34/50\n",
      "62/62 [==============================] - 3s 46ms/step - loss: 2.7546 - accuracy: 0.1980 - val_loss: 2.7823 - val_accuracy: 0.2045\n",
      "Epoch 35/50\n",
      "62/62 [==============================] - 3s 46ms/step - loss: 2.7521 - accuracy: 0.2122 - val_loss: 2.8058 - val_accuracy: 0.1761\n",
      "Epoch 36/50\n",
      "62/62 [==============================] - 3s 47ms/step - loss: 2.7120 - accuracy: 0.2204 - val_loss: 2.7886 - val_accuracy: 0.2045\n",
      "Epoch 37/50\n",
      "62/62 [==============================] - 3s 46ms/step - loss: 2.6938 - accuracy: 0.2117 - val_loss: 2.7649 - val_accuracy: 0.2045\n",
      "Epoch 38/50\n",
      "62/62 [==============================] - 3s 46ms/step - loss: 2.6667 - accuracy: 0.2184 - val_loss: 2.7367 - val_accuracy: 0.2216\n",
      "Epoch 39/50\n",
      "62/62 [==============================] - 3s 46ms/step - loss: 2.6554 - accuracy: 0.2224 - val_loss: 2.7150 - val_accuracy: 0.2500\n",
      "Epoch 40/50\n",
      "62/62 [==============================] - 3s 46ms/step - loss: 2.6678 - accuracy: 0.2306 - val_loss: 2.7130 - val_accuracy: 0.2443\n",
      "Epoch 41/50\n",
      "62/62 [==============================] - 3s 46ms/step - loss: 2.6351 - accuracy: 0.2102 - val_loss: 2.7141 - val_accuracy: 0.2443\n",
      "Epoch 42/50\n",
      "62/62 [==============================] - 3s 47ms/step - loss: 2.6240 - accuracy: 0.2429 - val_loss: 2.6851 - val_accuracy: 0.2898\n",
      "Epoch 43/50\n",
      "62/62 [==============================] - 3s 46ms/step - loss: 2.6101 - accuracy: 0.2367 - val_loss: 2.6808 - val_accuracy: 0.2273\n",
      "Epoch 44/50\n",
      "62/62 [==============================] - 3s 46ms/step - loss: 2.6143 - accuracy: 0.2469 - val_loss: 2.6874 - val_accuracy: 0.2443\n",
      "Epoch 45/50\n",
      "62/62 [==============================] - 3s 54ms/step - loss: 2.5543 - accuracy: 0.2633 - val_loss: 2.6552 - val_accuracy: 0.2557\n",
      "Epoch 46/50\n",
      "62/62 [==============================] - 3s 48ms/step - loss: 2.5237 - accuracy: 0.2551 - val_loss: 2.6371 - val_accuracy: 0.2557\n",
      "Epoch 47/50\n",
      "62/62 [==============================] - 3s 47ms/step - loss: 2.5295 - accuracy: 0.2612 - val_loss: 2.6199 - val_accuracy: 0.2670\n",
      "Epoch 48/50\n",
      "62/62 [==============================] - 3s 47ms/step - loss: 2.5312 - accuracy: 0.2388 - val_loss: 2.5958 - val_accuracy: 0.2727\n",
      "Epoch 49/50\n",
      "62/62 [==============================] - 3s 47ms/step - loss: 2.4819 - accuracy: 0.2959 - val_loss: 2.6293 - val_accuracy: 0.2330\n",
      "Epoch 50/50\n",
      "62/62 [==============================] - 3s 47ms/step - loss: 2.4923 - accuracy: 0.2592 - val_loss: 2.5718 - val_accuracy: 0.3011\n"
     ]
    }
   ],
   "source": [
    "history = model.fit(train_generator, \n",
    "                    steps_per_epoch = int(train_samples/batch_size), \n",
    "                    epochs = epochs, \n",
    "                    validation_data = validation_generator,\n",
    "                    validation_steps = int(validation_samples/batch_size))"
   ]
  },
  {
   "cell_type": "code",
   "execution_count": 11,
   "metadata": {},
   "outputs": [
    {
     "data": {
      "text/plain": [
       "[<matplotlib.lines.Line2D at 0x7fc1cc1ff0b8>]"
      ]
     },
     "execution_count": 11,
     "metadata": {},
     "output_type": "execute_result"
    },
    {
     "data": {
      "image/png": "[encoded data removed]",
      "text/plain": [
       "<Figure size 432x288 with 1 Axes>"
      ]
     },
     "metadata": {
      "needs_background": "light"
     },
     "output_type": "display_data"
    }
   ],
   "source": [
    "plt.xlabel('# Epoca')\n",
    "plt.ylabel(\"Función de Pérdida (loss)\")\n",
    "plt.plot(history.history['loss'])"
   ]
  },
  {
   "cell_type": "markdown",
   "metadata": {},
   "source": [
    "En la gráfica de **loss** podemos ver cómo va disminuyendo nuestro *categorical_crossentropy* en cada epoca.  \n",
    "También podemos ver los valores finales del loss y el accuracy:"
   ]
  },
  {
   "cell_type": "code",
   "execution_count": 12,
   "metadata": {},
   "outputs": [
    {
     "name": "stdout",
     "output_type": "stream",
     "text": [
      "WARNING:tensorflow:From <ipython-input-12-062177d12847>:1: Model.evaluate_generator (from tensorflow.python.keras.engine.training) is deprecated and will be removed in a future version.\n",
      "Instructions for updating:\n",
      "Please use Model.evaluate, which supports generators.\n",
      "WARNING:tensorflow:Your input ran out of data; interrupting training. Make sure that your dataset or generator can generate at least `steps_per_epoch * epochs` batches (in this case, 177 batches). You may need to use the repeat() function when building your dataset.\n"
     ]
    },
    {
     "data": {
      "text/plain": [
       "[2.5915961265563965, 0.3163841664791107]"
      ]
     },
     "execution_count": 12,
     "metadata": {},
     "output_type": "execute_result"
    }
   ],
   "source": [
    "model.evaluate_generator(validation_generator, validation_samples)"
   ]
  },
  {
   "cell_type": "markdown",
   "metadata": {},
   "source": [
    "Una vez aprobemos nuestro modelo, podemos usarlo para predecir sobre imágenes nuevas:"
   ]
  },
  {
   "cell_type": "code",
   "execution_count": 13,
   "metadata": {},
   "outputs": [
    {
     "data": {
      "text/plain": [
       "<matplotlib.image.AxesImage at 0x7fc1bc117d68>"
      ]
     },
     "execution_count": 13,
     "metadata": {},
     "output_type": "execute_result"
    },
    {
     "data": {
      "image/png": "[encoded data removed]",
      "text/plain": [
       "<Figure size 432x288 with 1 Axes>"
      ]
     },
     "metadata": {
      "needs_background": "light"
     },
     "output_type": "display_data"
    }
   ],
   "source": [
    "img_path  = \"https://i.pinimg.com/originals/07/0d/3e/070d3e118fa9bcf14bf6a1004308c91b.jpg\"\n",
    "response = requests.get(img_path)\n",
    "img = Image.open(BytesIO(response.content))\n",
    "plt.imshow(img)"
   ]
  },
  {
   "cell_type": "code",
   "execution_count": 14,
   "metadata": {},
   "outputs": [
    {
     "data": {
      "text/plain": [
       "array([[0., 0., 1., 0., 0., 0., 0., 0., 0., 0., 0., 0., 0., 0., 0., 0.,\n",
       "        0., 0., 0., 0., 0., 0., 0., 0., 0., 0., 0.]], dtype=float32)"
      ]
     },
     "execution_count": 14,
     "metadata": {},
     "output_type": "execute_result"
    }
   ],
   "source": [
    "img = io.imread(img_path)\n",
    "img = cv2.resize(img, (img_width, img_height)).astype(np.float32)\n",
    "img = np.expand_dims(img, axis=0)\n",
    "prediction = model.predict(img)\n",
    "prediction"
   ]
  },
  {
   "cell_type": "markdown",
   "metadata": {},
   "source": [
    "El resultado de la predicción es la salida de la última neurona, es decir 27 valores que siginifican la probabilidad de que la imagen dada pertenesca a cada una de las 27 clases objetivo.  "
   ]
  },
  {
   "cell_type": "code",
   "execution_count": 15,
   "metadata": {},
   "outputs": [
    {
     "data": {
      "text/plain": [
       "27"
      ]
     },
     "execution_count": 15,
     "metadata": {},
     "output_type": "execute_result"
    }
   ],
   "source": [
    "len(prediction[0])"
   ]
  },
  {
   "cell_type": "markdown",
   "metadata": {},
   "source": [
    "Para saber, entonces, la clase que indica la predicción basta con elegir la probabilidad más alta del vector entregado, pues corresponden, por índice a las clases objetivo:"
   ]
  },
  {
   "cell_type": "code",
   "execution_count": 16,
   "metadata": {},
   "outputs": [
    {
     "data": {
      "text/plain": [
       "'BMW'"
      ]
     },
     "execution_count": 16,
     "metadata": {},
     "output_type": "execute_result"
    }
   ],
   "source": [
    "classes[prediction.argmax()]"
   ]
  },
  {
   "cell_type": "markdown",
   "metadata": {},
   "source": [
    "**Taller:**  \n",
    "A pesar de que para este ejemplo, el modelo hizo una predicción correcta, el loss aún está un poco alto, y el accuracy esta muy bajo.  Además, el valor de *accuracy* para el set de entrenamiento fue más alto que el de pruebas, quiere decir que el modelo está aprendiendo de memoria casos particulres, en lugar de patrones generales (Overfit).  Para ello:\n",
    "- Juegue un poco con los hiperparámetros, capas y funciones de activación para mejorar estos valores.  Para ello peude usar la documentación de [keras](https://keras.io/api/)\n",
    "- Busque otra imagen (*.jpg*) de alguno de los logos en nuestro modelo y haga la predicción.  Funciona? Estamos safisfechos con este modelo? Podria mejorar?\n"
   ]
  },
  {
   "cell_type": "markdown",
   "metadata": {},
   "source": [
    "## 5b. Transfer Learning  \n",
    "Para no tener que diseñar la red desde ceros, pensando qué capas, neuronas y funciones de activación usar, usamos Transfer Learning, en el que tomamos la estructura de una red ya contruida y especializada en una tarea específica (Ej: Reconocimiento de imagen).  \n",
    "Los siguientes pasos iniciales siguen siendo necesarios: \n",
    "- Definición de hiperprámetros\n",
    "- Generador de imagenes nuevas (Data Augemtnation)\n",
    "- Configuración de generadores para entrenamiento y pruebas  \n",
    "\n",
    "Pero en lugar de crear un modelo desde ceros, vamos a tomar un modelo ya existente, por ejemplo VGG16 y vamos a indicar que sus capas NO SON reentrenables:"
   ]
  },
  {
   "cell_type": "code",
   "execution_count": 17,
   "metadata": {},
   "outputs": [
    {
     "name": "stdout",
     "output_type": "stream",
     "text": [
      "Model: \"vgg16\"\n",
      "_________________________________________________________________\n",
      "Layer (type)                 Output Shape              Param #   \n",
      "=================================================================\n",
      "input_1 (InputLayer)         [(None, None, None, 3)]   0         \n",
      "_________________________________________________________________\n",
      "block1_conv1 (Conv2D)        (None, None, None, 64)    1792      \n",
      "_________________________________________________________________\n",
      "block1_conv2 (Conv2D)        (None, None, None, 64)    36928     \n",
      "_________________________________________________________________\n",
      "block1_pool (MaxPooling2D)   (None, None, None, 64)    0         \n",
      "_________________________________________________________________\n",
      "block2_conv1 (Conv2D)        (None, None, None, 128)   73856     \n",
      "_________________________________________________________________\n",
      "block2_conv2 (Conv2D)        (None, None, None, 128)   147584    \n",
      "_________________________________________________________________\n",
      "block2_pool (MaxPooling2D)   (None, None, None, 128)   0         \n",
      "_________________________________________________________________\n",
      "block3_conv1 (Conv2D)        (None, None, None, 256)   295168    \n",
      "_________________________________________________________________\n",
      "block3_conv2 (Conv2D)        (None, None, None, 256)   590080    \n",
      "_________________________________________________________________\n",
      "block3_conv3 (Conv2D)        (None, None, None, 256)   590080    \n",
      "_________________________________________________________________\n",
      "block3_pool (MaxPooling2D)   (None, None, None, 256)   0         \n",
      "_________________________________________________________________\n",
      "block4_conv1 (Conv2D)        (None, None, None, 512)   1180160   \n",
      "_________________________________________________________________\n",
      "block4_conv2 (Conv2D)        (None, None, None, 512)   2359808   \n",
      "_________________________________________________________________\n",
      "block4_conv3 (Conv2D)        (None, None, None, 512)   2359808   \n",
      "_________________________________________________________________\n",
      "block4_pool (MaxPooling2D)   (None, None, None, 512)   0         \n",
      "_________________________________________________________________\n",
      "block5_conv1 (Conv2D)        (None, None, None, 512)   2359808   \n",
      "_________________________________________________________________\n",
      "block5_conv2 (Conv2D)        (None, None, None, 512)   2359808   \n",
      "_________________________________________________________________\n",
      "block5_conv3 (Conv2D)        (None, None, None, 512)   2359808   \n",
      "_________________________________________________________________\n",
      "block5_pool (MaxPooling2D)   (None, None, None, 512)   0         \n",
      "=================================================================\n",
      "Total params: 14,714,688\n",
      "Trainable params: 0\n",
      "Non-trainable params: 14,714,688\n",
      "_________________________________________________________________\n"
     ]
    }
   ],
   "source": [
    "base_model = keras.applications.VGG16(weights='imagenet', include_top=False)\n",
    "\n",
    "for layer in base_model.layers :\n",
    "    layer.trainable = False\n",
    "\n",
    "base_model.summary()"
   ]
  },
  {
   "cell_type": "markdown",
   "metadata": {},
   "source": [
    "Vemos la estructura tan compleja que tiene esta red ya preentrenada, más de 14.5 millones de parámetros!  En este caso, también hemos indicado que este modelo no sea reentrenable.  \n",
    "También hemos indicado al modelo no incluir la \"cabeza\" de la red, pues las últimas capas las vamos a reescribir nosotros mismos:\n",
    "> Ya hemos visto una forma de definir la red: deinifiendo el modelo Sequencil vacío e ir añadiendo capas (*model.add*).  \n",
    "> Otra forma es definiendo cada capa, y agregándola como entrada de la capa siguiente:"
   ]
  },
  {
   "cell_type": "code",
   "execution_count": 18,
   "metadata": {},
   "outputs": [
    {
     "ename": "TypeError",
     "evalue": "('Keyword argument not understood:', 'input')",
     "output_type": "error",
     "traceback": [
      "\u001b[0;31m---------------------------------------------------------------------------\u001b[0m",
      "\u001b[0;31mTypeError\u001b[0m                                 Traceback (most recent call last)",
      "\u001b[0;32m<ipython-input-18-7e09367baa77>\u001b[0m in \u001b[0;36m<module>\u001b[0;34m\u001b[0m\n\u001b[1;32m      9\u001b[0m \u001b[0mmodel_head\u001b[0m \u001b[0;34m=\u001b[0m \u001b[0mkeras\u001b[0m\u001b[0;34m.\u001b[0m\u001b[0mlayers\u001b[0m\u001b[0;34m.\u001b[0m\u001b[0mActivation\u001b[0m\u001b[0;34m(\u001b[0m\u001b[0mactivation\u001b[0m\u001b[0;34m=\u001b[0m\u001b[0;34m'softmax'\u001b[0m\u001b[0;34m)\u001b[0m\u001b[0;34m(\u001b[0m\u001b[0mmodel_head\u001b[0m\u001b[0;34m)\u001b[0m\u001b[0;34m\u001b[0m\u001b[0;34m\u001b[0m\u001b[0m\n\u001b[1;32m     10\u001b[0m \u001b[0;34m\u001b[0m\u001b[0m\n\u001b[0;32m---> 11\u001b[0;31m \u001b[0mmy_model\u001b[0m \u001b[0;34m=\u001b[0m \u001b[0mkeras\u001b[0m\u001b[0;34m.\u001b[0m\u001b[0mModel\u001b[0m\u001b[0;34m(\u001b[0m\u001b[0minput\u001b[0m\u001b[0;34m=\u001b[0m\u001b[0minput\u001b[0m\u001b[0;34m,\u001b[0m \u001b[0moutput\u001b[0m\u001b[0;34m=\u001b[0m\u001b[0mmodel_head\u001b[0m\u001b[0;34m)\u001b[0m\u001b[0;34m\u001b[0m\u001b[0;34m\u001b[0m\u001b[0m\n\u001b[0m",
      "\u001b[0;32m/usr/local/lib/python3.7/dist-packages/tensorflow/python/training/tracking/base.py\u001b[0m in \u001b[0;36m_method_wrapper\u001b[0;34m(self, *args, **kwargs)\u001b[0m\n\u001b[1;32m    455\u001b[0m     \u001b[0mself\u001b[0m\u001b[0;34m.\u001b[0m\u001b[0m_self_setattr_tracking\u001b[0m \u001b[0;34m=\u001b[0m \u001b[0;32mFalse\u001b[0m  \u001b[0;31m# pylint: disable=protected-access\u001b[0m\u001b[0;34m\u001b[0m\u001b[0;34m\u001b[0m\u001b[0m\n\u001b[1;32m    456\u001b[0m     \u001b[0;32mtry\u001b[0m\u001b[0;34m:\u001b[0m\u001b[0;34m\u001b[0m\u001b[0;34m\u001b[0m\u001b[0m\n\u001b[0;32m--> 457\u001b[0;31m       \u001b[0mresult\u001b[0m \u001b[0;34m=\u001b[0m \u001b[0mmethod\u001b[0m\u001b[0;34m(\u001b[0m\u001b[0mself\u001b[0m\u001b[0;34m,\u001b[0m \u001b[0;34m*\u001b[0m\u001b[0margs\u001b[0m\u001b[0;34m,\u001b[0m \u001b[0;34m**\u001b[0m\u001b[0mkwargs\u001b[0m\u001b[0;34m)\u001b[0m\u001b[0;34m\u001b[0m\u001b[0;34m\u001b[0m\u001b[0m\n\u001b[0m\u001b[1;32m    458\u001b[0m     \u001b[0;32mfinally\u001b[0m\u001b[0;34m:\u001b[0m\u001b[0;34m\u001b[0m\u001b[0;34m\u001b[0m\u001b[0m\n\u001b[1;32m    459\u001b[0m       \u001b[0mself\u001b[0m\u001b[0;34m.\u001b[0m\u001b[0m_self_setattr_tracking\u001b[0m \u001b[0;34m=\u001b[0m \u001b[0mprevious_value\u001b[0m  \u001b[0;31m# pylint: disable=protected-access\u001b[0m\u001b[0;34m\u001b[0m\u001b[0;34m\u001b[0m\u001b[0m\n",
      "\u001b[0;32m/usr/local/lib/python3.7/dist-packages/tensorflow/python/keras/engine/training.py\u001b[0m in \u001b[0;36m__init__\u001b[0;34m(self, *args, **kwargs)\u001b[0m\n\u001b[1;32m    260\u001b[0m     \u001b[0;31m# self.non_trainable_weights\u001b[0m\u001b[0;34m\u001b[0m\u001b[0;34m\u001b[0m\u001b[0;34m\u001b[0m\u001b[0m\n\u001b[1;32m    261\u001b[0m     generic_utils.validate_kwargs(kwargs, {'trainable', 'dtype', 'dynamic',\n\u001b[0;32m--> 262\u001b[0;31m                                            'name', 'autocast'})\n\u001b[0m\u001b[1;32m    263\u001b[0m     \u001b[0msuper\u001b[0m\u001b[0;34m(\u001b[0m\u001b[0mModel\u001b[0m\u001b[0;34m,\u001b[0m \u001b[0mself\u001b[0m\u001b[0;34m)\u001b[0m\u001b[0;34m.\u001b[0m\u001b[0m__init__\u001b[0m\u001b[0;34m(\u001b[0m\u001b[0;34m**\u001b[0m\u001b[0mkwargs\u001b[0m\u001b[0;34m)\u001b[0m\u001b[0;34m\u001b[0m\u001b[0;34m\u001b[0m\u001b[0m\n\u001b[1;32m    264\u001b[0m     \u001b[0;31m# By default, Model is a subclass model, which is not in graph network.\u001b[0m\u001b[0;34m\u001b[0m\u001b[0;34m\u001b[0m\u001b[0;34m\u001b[0m\u001b[0m\n",
      "\u001b[0;32m/usr/local/lib/python3.7/dist-packages/tensorflow/python/keras/utils/generic_utils.py\u001b[0m in \u001b[0;36mvalidate_kwargs\u001b[0;34m(kwargs, allowed_kwargs, error_message)\u001b[0m\n\u001b[1;32m    776\u001b[0m   \u001b[0;32mfor\u001b[0m \u001b[0mkwarg\u001b[0m \u001b[0;32min\u001b[0m \u001b[0mkwargs\u001b[0m\u001b[0;34m:\u001b[0m\u001b[0;34m\u001b[0m\u001b[0;34m\u001b[0m\u001b[0m\n\u001b[1;32m    777\u001b[0m     \u001b[0;32mif\u001b[0m \u001b[0mkwarg\u001b[0m \u001b[0;32mnot\u001b[0m \u001b[0;32min\u001b[0m \u001b[0mallowed_kwargs\u001b[0m\u001b[0;34m:\u001b[0m\u001b[0;34m\u001b[0m\u001b[0;34m\u001b[0m\u001b[0m\n\u001b[0;32m--> 778\u001b[0;31m       \u001b[0;32mraise\u001b[0m \u001b[0mTypeError\u001b[0m\u001b[0;34m(\u001b[0m\u001b[0merror_message\u001b[0m\u001b[0;34m,\u001b[0m \u001b[0mkwarg\u001b[0m\u001b[0;34m)\u001b[0m\u001b[0;34m\u001b[0m\u001b[0;34m\u001b[0m\u001b[0m\n\u001b[0m\u001b[1;32m    779\u001b[0m \u001b[0;34m\u001b[0m\u001b[0m\n\u001b[1;32m    780\u001b[0m \u001b[0;34m\u001b[0m\u001b[0m\n",
      "\u001b[0;31mTypeError\u001b[0m: ('Keyword argument not understood:', 'input')"
     ]
    }
   ],
   "source": [
    "input = keras.Input(shape=(img_width, img_height, 3),name = 'image_input')\n",
    "\n",
    "model_head = base_model(input)\n",
    "model_head = keras.layers.GlobalAveragePooling2D()(model_head)\n",
    "model_head = keras.layers.Dense(64)(model_head)\n",
    "model_head = keras.layers.Activation(activation='relu')(model_head)\n",
    "model_head = keras.layers.Dropout(0.4)(model_head)\n",
    "model_head = keras.layers.Dense(27)(model_head)\n",
    "model_head = keras.layers.Activation(activation='softmax')(model_head)\n",
    "\n",
    "my_model = keras.Model(input=input, output=model_head)"
   ]
  },
  {
   "cell_type": "code",
   "execution_count": null,
   "metadata": {},
   "outputs": [],
   "source": [
    "my_model.summary()"
   ]
  },
  {
   "cell_type": "markdown",
   "metadata": {},
   "source": [
    "Vemos ahora que, la estructura de nuestra nueva red es mucho más compleja, incluye los 14.5 millones de parámetros del modelo VGG16, adicionalmente hemos configurado la capa de entrada para que reciba las imágenes que tenemos preparadas, pero lo más importante, hemos configurado algunas capas adicionales como la **nueva cabeza** de la red.  \n",
    "Al final del resumen vemos que, los 14.5 millones de parámetros del modelo base (VGG16) no son entrenables, pero los 34mil de nuestra nueva cabeza sí, y estos son los valores que va a buscar el modelo.  \n",
    "\n",
    "Hemos creado en pocas líneas un modelo más complejo, pero más sencillo de entrenar.  Desde aquí la compilación y entrenamiento del modelo es igual a como ya lo hemos trabajado:"
   ]
  },
  {
   "cell_type": "code",
   "execution_count": null,
   "metadata": {},
   "outputs": [],
   "source": [
    "my_model.compile(loss='categorical_crossentropy',\n",
    "              optimizer=keras.optimizers.rmsprop(learning_rate=learning_rate),\n",
    "              metrics=['accuracy'])"
   ]
  },
  {
   "cell_type": "markdown",
   "metadata": {},
   "source": [
    "Como paso adicional de este laboratorio vamos a trabajar con los Callbacks que vimos la sesión pasada.  Son funciones que se ejecutan al final de cada época y que pueden ayudar a mejorar el rendimiento del modelo:"
   ]
  },
  {
   "cell_type": "code",
   "execution_count": null,
   "metadata": {},
   "outputs": [],
   "source": [
    "mis_callbacks = [\n",
    "    # Modificar el LR si el modelo no mejora:\n",
    "    keras.callbacks.ReduceLROnPlateau(monitor = \"val_loss\", factor=.1, patience=5),\n",
    "    # Configurar que el modelo pare si no mejora:\n",
    "    keras.callbacks.EarlyStopping(monitor='val_accuracy', patience=10, mode='auto'),\n",
    "    # Ir guardando el mejor modelo\n",
    "    keras.callbacks.ModelCheckpoint(\"models/logos_checkpoints.h5\", monitor='val_loss', save_best_only=True)\n",
    "]"
   ]
  },
  {
   "cell_type": "code",
   "execution_count": null,
   "metadata": {},
   "outputs": [],
   "source": [
    "history = my_model.fit(train_generator, \n",
    "                    steps_per_epoch = int(train_samples/batch_size), \n",
    "                    epochs = epochs, \n",
    "                    validation_data = validation_generator,\n",
    "                    validation_steps = int(validation_samples/batch_size),\n",
    "                    callbacks = mis_callbacks)"
   ]
  },
  {
   "cell_type": "code",
   "execution_count": null,
   "metadata": {},
   "outputs": [],
   "source": [
    "plt.xlabel('# Epoca')\n",
    "plt.ylabel(\"Función de Pérdida (loss)\")\n",
    "plt.plot(history.history['loss'])"
   ]
  },
  {
   "cell_type": "code",
   "execution_count": null,
   "metadata": {},
   "outputs": [],
   "source": [
    "plt.xlabel('# Epoca')\n",
    "plt.ylabel(\"Métrica (Accuracy)\")\n",
    "plt.plot(history.history['accuracy'])"
   ]
  },
  {
   "cell_type": "code",
   "execution_count": null,
   "metadata": {},
   "outputs": [],
   "source": [
    "my_model.evaluate_generator(validation_generator, validation_samples)"
   ]
  },
  {
   "cell_type": "markdown",
   "metadata": {},
   "source": [
    "En comparación con nuestro modelo inicial (*Loss = 2.46, Accuracy=0.26*), este modelo da mejores resultados!  \n",
    "Vamos ahora a probarlo con imágenes nuevas:"
   ]
  },
  {
   "cell_type": "code",
   "execution_count": null,
   "metadata": {},
   "outputs": [],
   "source": [
    "img_path  = \"https://i.pinimg.com/originals/02/ac/cd/02accd95989df4cde2f57adcd508dbcd.jpg\"\n",
    "response = requests.get(img_path)\n",
    "img = Image.open(BytesIO(response.content))\n",
    "plt.imshow(img)"
   ]
  },
  {
   "cell_type": "code",
   "execution_count": null,
   "metadata": {},
   "outputs": [],
   "source": [
    "img = io.imread(img_path)\n",
    "img = cv2.resize(img, (img_width, img_height)).astype(np.float32)\n",
    "img = np.expand_dims(img, axis=0)\n",
    "prediction = my_model.predict(img)\n",
    "prediction"
   ]
  },
  {
   "cell_type": "code",
   "execution_count": null,
   "metadata": {},
   "outputs": [],
   "source": [
    "len(prediction[0])"
   ]
  },
  {
   "cell_type": "code",
   "execution_count": null,
   "metadata": {},
   "outputs": [],
   "source": [
    "classes[prediction.argmax()]"
   ]
  },
  {
   "cell_type": "markdown",
   "metadata": {},
   "source": [
    "**Taller**  \n",
    "**Ups!** Al modelo le falta un poco de afinamiento, intente:\n",
    "- Cambiar el modelo base VGG16 por otros modelos como *VGG19, ResNet50, InceptionV3, MobileNet, Xception*.  Para ello peude usar la documentación de [keras](https://keras.io/api/)\n",
    "- Juegue un poco con los hiperparámetros, capas y funciones de activación en la **cabeza de la red** para mejorar los valores de loss, accuracy y las predicciones.\n",
    "- Busque otra imagen (*.jpg*) de alguno de los logos en nuestro modelo y haga la predicción.  Funciona? Estamos safisfechos con este modelo? Podria mejorar?"
   ]
  }
 ],
 "metadata": {
  "kernelspec": {
   "display_name": "Python 3",
   "language": "python",
   "name": "python3"
  },
  "language_info": {
   "codemirror_mode": {
    "name": "ipython",
    "version": 3
   },
   "file_extension": ".py",
   "mimetype": "text/x-python",
   "name": "python",
   "nbconvert_exporter": "python",
   "pygments_lexer": "ipython3",
   "version": "3.7.3"
  }
 },
 "nbformat": 4,
 "nbformat_minor": 4
}
