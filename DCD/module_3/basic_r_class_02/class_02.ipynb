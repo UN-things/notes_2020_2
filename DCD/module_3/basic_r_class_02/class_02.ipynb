{
 "cells": [
  {
   "cell_type": "markdown",
   "metadata": {},
   "source": [
    "# R básico\n",
    "- **Conferencista:** Felipe Calvo Cepeda\n",
    "\t-\t**Emails:**\n",
    "\t\t- fcalvoc@unal.edu.co\n",
    "\t\t- fe.calvo@uniandes.edu.co\n",
    "\t-\t**GitHub:** [felipe-calvo](https://github.com/felipe-calvo)\n",
    "- **Monitoras:**\n",
    "  - Diana Carolina Sanchez Perez\n",
    "    - **Email:** dicsanchezpe@unal.edu.co\n",
    "  - Guiselle Tatiana Zambrano Penagos\n",
    "    - **Email:** gtzambranop@unal.edu.co\n",
    "- **Fecha de inicio:** 1 de octubre de 2020\n",
    "- **Fecha de finalización:** 17 de octubre de 2020\n",
    "- **Material utilizado en esta clase:**\n",
    "  - [p1-setup](https://felipe-calvo.github.io/r-101/p1-setup.html)\n",
    "  - [p2-basic-R](https://felipe-calvo.github.io/r-101/p2-basics-R.html)\n"
   ]
  },
  {
   "cell_type": "markdown",
   "metadata": {},
   "source": [
    "# Configuración del ambiente de trabajo en R"
   ]
  },
  {
   "cell_type": "markdown",
   "metadata": {},
   "source": [
    "## ¿Qué es R?\n",
    "\n",
    "- R es un lenguaje de programación de acceso libre, inicialmente diseñado y utilizado para realizar análisis estadístico.\n",
    "- R es el programa que instalamos para interpretar el código que escribimos.\n",
    "- RStudio es un IDE (Integrated Development Environment) que funciona como una “máscara” sobre R, con más herramientas y facilidades."
   ]
  },
  {
   "cell_type": "markdown",
   "metadata": {},
   "source": [
    "## ¿Por qué nos gusta?\n",
    "\n",
    "- Es una forma BBB de convertirse en un geek.\n",
    "- No solamente permite realizar análisis estadístico; tambien es posible capturar información de páginas web, crear aplicaciones web, procesar texto, entre otras cosas.\n",
    "- La comunidad que lo usa es muy amplia (= muchísima ayuda e información en internet).\n",
    "- Es muy versátil para la creación de gráficos.\n",
    "- Tiene disponibles muchos paquetes para diferentes tipos de análisis.\n",
    "- ¡ES GRATIS!.\n",
    "\n"
   ]
  },
  {
   "cell_type": "markdown",
   "metadata": {},
   "source": [
    "## Particularmente útil para\n",
    "\n",
    "- Manejar, combinar, limpiar y reorganizar datos.\n",
    "- Análisis estadístico, álgebra matricial, modelado, estadística avanzada.\n",
    "- Entorno gráfico poderoso para explorar datos o para publicar.\n",
    "- Análisis pipeline"
   ]
  },
  {
   "cell_type": "markdown",
   "metadata": {},
   "source": [
    "## ¿Por qué no usar R?\n",
    "\n",
    "- R no puede hacer todo.\n",
    "- La documentación a veces es muy técnica o muy compacta.\n",
    "- No todo el código ha sido exhaustivamente testeado, es decir, no siempre hay garantías que las cosas funcionen.\n",
    "- La curva de aprendizaje es más difícil que programas como SPSS o Minitab (frente a Stata o SAS es más bien similar).\n",
    "\n"
   ]
  },
  {
   "cell_type": "markdown",
   "metadata": {},
   "source": [
    "## ¿Cómo correr comandos/código?\n",
    "\n",
    "- Si se está trabajando en el panel console solamente es necesario presionar “Enter”.\n",
    "- Si se está trabajando en un script es posible ejecutar los comandos presionando “Ctrl+Enter”.\n",
    "- Adicionalmente, el símbolo “#” nos permite incluir comentarios en cualquier lugar del script.\n",
    "- ¡Siempre usa scripts (si nunca antes has creado un ‘programa para un computador’ en este curso lo vas a hacer)!"
   ]
  },
  {
   "cell_type": "markdown",
   "metadata": {},
   "source": [
    "## Instalación de R\n",
    "\n",
    "[Link de descarga](https://cran.r-project.org/)"
   ]
  },
  {
   "cell_type": "markdown",
   "metadata": {},
   "source": [
    "## Interfaces de usuario\n",
    "\n",
    "- Por defecto\n",
    "- [RStudio](http://www.rstudio.org/): funciona en Windows, MacOS, Linux. Recomendada\n",
    "- [Eclipse](http://www.eclipse.org/eclipse): funciona en Windows, MacOS, Linux.\n",
    "- Entre otras\n"
   ]
  },
  {
   "cell_type": "markdown",
   "metadata": {},
   "source": [
    "## Front-ends gráficos\n",
    "\n",
    "- [Rcmdr](https://socialsciences.mcmaster.ca/jfox/Misc/Rcmdr/)\n",
    "- [RKWard](https://rkward.kde.org/)"
   ]
  },
  {
   "cell_type": "markdown",
   "metadata": {},
   "source": [
    "## Grupos de funciones (Paquetes)\n",
    "\n",
    "- Cuando varias funciones son desarrolladas con un objetivos similar se suelen agrupar en paquetes, los cuales son colaborativamente distribuidos y de forma gratuita.\n",
    "- Para utilizar de las funciones de un paquete es necesario instalar este paquete primero usando `install.packages()` y luego cargarlo en nuestro ambiente de trabajo usando `library()`.\n",
    "- Se instalan una vez y se llaman muchas veces.\n",
    "- [Lista de paquetes del CRAN](https://cran.r-project.org/web/packages/available_packages_by_date.html)\n",
    "- [Lista de paquetes de Bioconductor](https://www.bioconductor.org/packages/release/bioc/)\n",
    "- [rdrr.io](https://rdrr.io/)"
   ]
  },
  {
   "cell_type": "markdown",
   "metadata": {},
   "source": [
    "## Buenas prácticas\n",
    "\n",
    "- Usar projects para ajustar el ambiente de trabajo para un proyecto.\n",
    "- Por reproducibilidad, facilidad y para tener los proyectos mejor organizados es mucho mejor usar projects.\n",
    "- La idea es que cada proyecto tenga su propio espacio y esté aislado, de tal manera que los recursos y códigos de uno no interfieran con otros proyectos.\n",
    "- A todo lo que le pongamos un nombre (variables, funciones, bases de datos) [hay que ponerle un buen nombre](https://felipe-calvo.github.io/r-101/resources/naming.pdf).\n",
    "- Si aparecen errores, se puede copiar y pegar el error en Google.\n",
    "- A R podemos preguntarle cosas.\n"
   ]
  },
  {
   "cell_type": "code",
   "execution_count": 1,
   "metadata": {},
   "outputs": [],
   "source": [
    "?ayuda\n",
    "?cualquier_cosa\n",
    "?mean\n",
    "??mean"
   ]
  },
  {
   "cell_type": "markdown",
   "metadata": {},
   "source": [
    "## Informes automáticos\n",
    "\n",
    "R cuenta con un paquete llamado knitr con el cual podemos generar dinámicamente reportes, análisis y documentos.\n",
    "\n",
    "- [Elegant, flexible, and fast dynamic report generation with R](https://yihui.org/knitr/)\n",
    "- [RMarkdwon](https://rmarkdown.rstudio.com/)\n"
   ]
  },
  {
   "cell_type": "markdown",
   "metadata": {},
   "source": [
    "# Creación de nuestro primer proyecto\n",
    "\n",
    "1. Abrir RStudio.\n",
    "1. Clic en **File > New Project**\n",
    "  - **New Directory > New Project** si queremos crear una nueva carpeta en nuestro equipo.\n",
    "  - **Existing Directory** si queremos alojar nuestro proyecto en una carpeta ya creada.\n",
    "1. Una vez creado el proyecto, podemos verificar que la ventana del programa se renombra y apunta a la carpeta donde está alojado.\n",
    "1. Clic en **File > New File > R Script**. En la ventana que se carga ya podemos empezar a ejecutar nuestro código."
   ]
  },
  {
   "cell_type": "markdown",
   "metadata": {},
   "source": [
    "![Estructura proyecto](images/R_00.png)\n"
   ]
  },
  {
   "cell_type": "markdown",
   "metadata": {},
   "source": [
    "En la carpeta **referencias** se deben especificar los datos:\n",
    "- Nombre\n",
    "- Descripción de los mismos\n",
    "- Valores que puede tomar"
   ]
  },
  {
   "cell_type": "markdown",
   "metadata": {},
   "source": [
    "# Carga de datos y programación básica en R"
   ]
  },
  {
   "cell_type": "markdown",
   "metadata": {},
   "source": [
    "## Importar datos a R\n",
    "\n",
    "[Conjunto de datos](https://felipe-calvo.github.io/r-101/resources/data.zip)\n",
    "\n",
    "Una vez descargados los archivos de datos, vamos a ubicarlos al interior de una carpeta llamada **data** que a su vez crearemos dentro del directorio de nuestro proyecto."
   ]
  },
  {
   "cell_type": "markdown",
   "metadata": {},
   "source": [
    "### Paquetes para importar datos"
   ]
  },
  {
   "cell_type": "markdown",
   "metadata": {},
   "source": [
    "- [tidyverse](https://www.tidyverse.org/): Conjunto de funciones para limpiar,\n",
    "  procesar, organizar y mostrar datos\n",
    "- [readxl](https://readxl.tidyverse.org/): leer archivos de excel\n",
    "- [haven](https://haven.tidyverse.org/): Leer archivos spss\n",
    "- [googlesheets](https://github.com/jennybc/googlesheets)Leer archivos de google\n",
    "- [RMySQL](https://github.com/r-dbi/RMySQL): Leer archivos sql"
   ]
  },
  {
   "cell_type": "code",
   "execution_count": 2,
   "metadata": {},
   "outputs": [
    {
     "name": "stderr",
     "output_type": "stream",
     "text": [
      "── \u001b[1mAttaching packages\u001b[22m ─────────────────────────────────────── tidyverse 1.3.0 ──\n",
      "\n",
      "\u001b[32m✔\u001b[39m \u001b[34mggplot2\u001b[39m 3.3.2     \u001b[32m✔\u001b[39m \u001b[34mpurrr  \u001b[39m 0.3.4\n",
      "\u001b[32m✔\u001b[39m \u001b[34mtibble \u001b[39m 3.0.3     \u001b[32m✔\u001b[39m \u001b[34mdplyr  \u001b[39m 1.0.2\n",
      "\u001b[32m✔\u001b[39m \u001b[34mtidyr  \u001b[39m 1.1.2     \u001b[32m✔\u001b[39m \u001b[34mstringr\u001b[39m 1.4.0\n",
      "\u001b[32m✔\u001b[39m \u001b[34mreadr  \u001b[39m 1.3.1     \u001b[32m✔\u001b[39m \u001b[34mforcats\u001b[39m 0.5.0\n",
      "\n",
      "── \u001b[1mConflicts\u001b[22m ────────────────────────────────────────── tidyverse_conflicts() ──\n",
      "\u001b[31m✖\u001b[39m \u001b[34mdplyr\u001b[39m::\u001b[32mfilter()\u001b[39m masks \u001b[34mstats\u001b[39m::filter()\n",
      "\u001b[31m✖\u001b[39m \u001b[34mdplyr\u001b[39m::\u001b[32mlag()\u001b[39m    masks \u001b[34mstats\u001b[39m::lag()\n",
      "\n",
      "Loading required package: DBI\n",
      "\n"
     ]
    }
   ],
   "source": [
    "# Instalamos los paquetes -> LOCALMENTE\n",
    "#install.packages(\"tidyverse\")\n",
    "#install.packages(\"readxl\")\n",
    "#install.packages(\"haven\")\n",
    "#install.packages(\"googlesheets\")\n",
    "#install.packages(\"RMySQL\")\n",
    "\n",
    "# Cargamos los paquetes\n",
    "library(\"tidyverse\")\n",
    "library(\"readxl\")\n",
    "library(\"haven\")\n",
    "library(\"googlesheets\")\n",
    "library(\"RMySQL\")"
   ]
  },
  {
   "cell_type": "markdown",
   "metadata": {},
   "source": [
    "La función [str()](https://www.rdocumentation.org/packages/utils/versions/3.6.2/topics/str) muestra de forma compacta la estructura de un objeto R arbitrario"
   ]
  },
  {
   "cell_type": "markdown",
   "metadata": {},
   "source": [
    "### Archivos de texto plano (.txt)"
   ]
  },
  {
   "cell_type": "code",
   "execution_count": 3,
   "metadata": {},
   "outputs": [
    {
     "name": "stderr",
     "output_type": "stream",
     "text": [
      "Parsed with column specification:\n",
      "cols(\n",
      "  CRIM = \u001b[32mcol_double()\u001b[39m,\n",
      "  ZN = \u001b[32mcol_double()\u001b[39m,\n",
      "  INDUS = \u001b[32mcol_double()\u001b[39m,\n",
      "  CHAS = \u001b[32mcol_double()\u001b[39m,\n",
      "  NOX = \u001b[32mcol_double()\u001b[39m,\n",
      "  RM = \u001b[32mcol_double()\u001b[39m,\n",
      "  AGE = \u001b[32mcol_double()\u001b[39m,\n",
      "  DIS = \u001b[32mcol_double()\u001b[39m,\n",
      "  RAD = \u001b[32mcol_double()\u001b[39m,\n",
      "  TAX = \u001b[32mcol_double()\u001b[39m,\n",
      "  PTRATIO = \u001b[32mcol_double()\u001b[39m,\n",
      "  B = \u001b[32mcol_double()\u001b[39m,\n",
      "  LSTAT = \u001b[32mcol_double()\u001b[39m,\n",
      "  MEDV = \u001b[32mcol_double()\u001b[39m\n",
      ")\n",
      "\n"
     ]
    },
    {
     "name": "stdout",
     "output_type": "stream",
     "text": [
      "tibble [506 × 14] (S3: spec_tbl_df/tbl_df/tbl/data.frame)\n",
      " $ CRIM   : num [1:506] 0.00632 0.02731 0.02729 0.03237 0.06905 ...\n",
      " $ ZN     : num [1:506] 18 0 0 0 0 0 12.5 12.5 12.5 12.5 ...\n",
      " $ INDUS  : num [1:506] 2.31 7.07 7.07 2.18 2.18 2.18 7.87 7.87 7.87 7.87 ...\n",
      " $ CHAS   : num [1:506] 0 0 0 0 0 0 0 0 0 0 ...\n",
      " $ NOX    : num [1:506] 0.538 0.469 0.469 0.458 0.458 0.458 0.524 0.524 0.524 0.524 ...\n",
      " $ RM     : num [1:506] 6.58 6.42 7.18 7 7.15 ...\n",
      " $ AGE    : num [1:506] 65.2 78.9 61.1 45.8 54.2 58.7 66.6 96.1 100 85.9 ...\n",
      " $ DIS    : num [1:506] 4.09 4.97 4.97 6.06 6.06 ...\n",
      " $ RAD    : num [1:506] 1 2 2 3 3 3 5 5 5 5 ...\n",
      " $ TAX    : num [1:506] 296 242 242 222 222 222 311 311 311 311 ...\n",
      " $ PTRATIO: num [1:506] 15.3 17.8 17.8 18.7 18.7 18.7 15.2 15.2 15.2 15.2 ...\n",
      " $ B      : num [1:506] 397 397 393 395 397 ...\n",
      " $ LSTAT  : num [1:506] 4.98 9.14 4.03 2.94 5.33 ...\n",
      " $ MEDV   : num [1:506] 24 21.6 34.7 33.4 36.2 28.7 22.9 27.1 16.5 18.9 ...\n",
      " - attr(*, \"spec\")=\n",
      "  .. cols(\n",
      "  ..   CRIM = \u001b[32mcol_double()\u001b[39m,\n",
      "  ..   ZN = \u001b[32mcol_double()\u001b[39m,\n",
      "  ..   INDUS = \u001b[32mcol_double()\u001b[39m,\n",
      "  ..   CHAS = \u001b[32mcol_double()\u001b[39m,\n",
      "  ..   NOX = \u001b[32mcol_double()\u001b[39m,\n",
      "  ..   RM = \u001b[32mcol_double()\u001b[39m,\n",
      "  ..   AGE = \u001b[32mcol_double()\u001b[39m,\n",
      "  ..   DIS = \u001b[32mcol_double()\u001b[39m,\n",
      "  ..   RAD = \u001b[32mcol_double()\u001b[39m,\n",
      "  ..   TAX = \u001b[32mcol_double()\u001b[39m,\n",
      "  ..   PTRATIO = \u001b[32mcol_double()\u001b[39m,\n",
      "  ..   B = \u001b[32mcol_double()\u001b[39m,\n",
      "  ..   LSTAT = \u001b[32mcol_double()\u001b[39m,\n",
      "  ..   MEDV = \u001b[32mcol_double()\u001b[39m\n",
      "  .. )\n"
     ]
    }
   ],
   "source": [
    "read_delim(\n",
    "  file = \"data/Boston_Housing.txt\",\n",
    "  delim = \"|\", \n",
    "  locale=locale(decimal_mark = \",\")\n",
    "  ) -> boston_housing_txt\n",
    "str(boston_housing_txt)"
   ]
  },
  {
   "cell_type": "markdown",
   "metadata": {},
   "source": [
    "[Codificación de caracteres](https://www.w3.org/International/articles/definitions-characters/index.es). Unicode es un set de caracteres universal, es\n",
    "decir, un estándar en el que se definen todos los caracteres necesarios para la\n",
    "escritura de la mayoría de los idiomas hablados en la actualidad que se usan en la\n",
    "computadora."
   ]
  },
  {
   "cell_type": "code",
   "execution_count": 4,
   "metadata": {},
   "outputs": [
    {
     "name": "stdout",
     "output_type": "stream",
     "text": [
      "'data.frame':\t506 obs. of  14 variables:\n",
      " $ CRIM   : num  0.00632 0.02731 0.02729 0.03237 0.06905 ...\n",
      " $ ZN     : num  18 0 0 0 0 0 12.5 12.5 12.5 12.5 ...\n",
      " $ INDUS  : num  2.31 7.07 7.07 2.18 2.18 2.18 7.87 7.87 7.87 7.87 ...\n",
      " $ CHAS   : int  0 0 0 0 0 0 0 0 0 0 ...\n",
      " $ NOX    : num  0.538 0.469 0.469 0.458 0.458 0.458 0.524 0.524 0.524 0.524 ...\n",
      " $ RM     : num  6.58 6.42 7.18 7 7.15 ...\n",
      " $ AGE    : num  65.2 78.9 61.1 45.8 54.2 58.7 66.6 96.1 100 85.9 ...\n",
      " $ DIS    : num  4.09 4.97 4.97 6.06 6.06 ...\n",
      " $ RAD    : int  1 2 2 3 3 3 5 5 5 5 ...\n",
      " $ TAX    : int  296 242 242 222 222 222 311 311 311 311 ...\n",
      " $ PTRATIO: num  15.3 17.8 17.8 18.7 18.7 18.7 15.2 15.2 15.2 15.2 ...\n",
      " $ B      : num  397 397 393 395 397 ...\n",
      " $ LSTAT  : num  4.98 9.14 4.03 2.94 5.33 ...\n",
      " $ MEDV   : num  24 21.6 34.7 33.4 36.2 28.7 22.9 27.1 16.5 18.9 ...\n"
     ]
    }
   ],
   "source": [
    "read.table(\n",
    "  file =  \"data/Boston_Housing.txt\",\n",
    "  sep =  \"|\",\n",
    "  header = TRUE,\n",
    "  dec = \",\",\n",
    "  fileEncoding = \"UTF-8\"\n",
    "  ) -> boston_housing_txt\n",
    "\n",
    "str(boston_housing_txt)"
   ]
  },
  {
   "cell_type": "markdown",
   "metadata": {},
   "source": [
    "### Archivo de valores separados por comas (.csv)"
   ]
  },
  {
   "cell_type": "code",
   "execution_count": 5,
   "metadata": {},
   "outputs": [
    {
     "name": "stderr",
     "output_type": "stream",
     "text": [
      "Using ',' as decimal and '.' as grouping mark. Use read_delim() for more control.\n",
      "\n",
      "Parsed with column specification:\n",
      "cols(\n",
      "  CRIM = \u001b[32mcol_double()\u001b[39m,\n",
      "  ZN = \u001b[32mcol_double()\u001b[39m,\n",
      "  INDUS = \u001b[32mcol_double()\u001b[39m,\n",
      "  CHAS = \u001b[32mcol_double()\u001b[39m,\n",
      "  NOX = \u001b[32mcol_double()\u001b[39m,\n",
      "  RM = \u001b[32mcol_double()\u001b[39m,\n",
      "  AGE = \u001b[32mcol_double()\u001b[39m,\n",
      "  DIS = \u001b[32mcol_double()\u001b[39m,\n",
      "  RAD = \u001b[32mcol_double()\u001b[39m,\n",
      "  TAX = \u001b[32mcol_double()\u001b[39m,\n",
      "  PTRATIO = \u001b[32mcol_double()\u001b[39m,\n",
      "  B = \u001b[32mcol_double()\u001b[39m,\n",
      "  LSTAT = \u001b[32mcol_double()\u001b[39m,\n",
      "  MEDV = \u001b[32mcol_double()\u001b[39m\n",
      ")\n",
      "\n"
     ]
    },
    {
     "name": "stdout",
     "output_type": "stream",
     "text": [
      "tibble [506 × 14] (S3: spec_tbl_df/tbl_df/tbl/data.frame)\n",
      " $ CRIM   : num [1:506] 0.00632 0.02731 0.02729 0.03237 0.06905 ...\n",
      " $ ZN     : num [1:506] 18 0 0 0 0 0 12.5 12.5 12.5 12.5 ...\n",
      " $ INDUS  : num [1:506] 2.31 7.07 7.07 2.18 2.18 2.18 7.87 7.87 7.87 7.87 ...\n",
      " $ CHAS   : num [1:506] 0 0 0 0 0 0 0 0 0 0 ...\n",
      " $ NOX    : num [1:506] 0.538 0.469 0.469 0.458 0.458 0.458 0.524 0.524 0.524 0.524 ...\n",
      " $ RM     : num [1:506] 6.58 6.42 7.18 7 7.15 ...\n",
      " $ AGE    : num [1:506] 65.2 78.9 61.1 45.8 54.2 58.7 66.6 96.1 100 85.9 ...\n",
      " $ DIS    : num [1:506] 4.09 4.97 4.97 6.06 6.06 ...\n",
      " $ RAD    : num [1:506] 1 2 2 3 3 3 5 5 5 5 ...\n",
      " $ TAX    : num [1:506] 296 242 242 222 222 222 311 311 311 311 ...\n",
      " $ PTRATIO: num [1:506] 15.3 17.8 17.8 18.7 18.7 18.7 15.2 15.2 15.2 15.2 ...\n",
      " $ B      : num [1:506] 397 397 393 395 397 ...\n",
      " $ LSTAT  : num [1:506] 4.98 9.14 4.03 2.94 5.33 ...\n",
      " $ MEDV   : num [1:506] 24 21.6 34.7 33.4 36.2 28.7 22.9 27.1 16.5 18.9 ...\n",
      " - attr(*, \"spec\")=\n",
      "  .. cols(\n",
      "  ..   CRIM = \u001b[32mcol_double()\u001b[39m,\n",
      "  ..   ZN = \u001b[32mcol_double()\u001b[39m,\n",
      "  ..   INDUS = \u001b[32mcol_double()\u001b[39m,\n",
      "  ..   CHAS = \u001b[32mcol_double()\u001b[39m,\n",
      "  ..   NOX = \u001b[32mcol_double()\u001b[39m,\n",
      "  ..   RM = \u001b[32mcol_double()\u001b[39m,\n",
      "  ..   AGE = \u001b[32mcol_double()\u001b[39m,\n",
      "  ..   DIS = \u001b[32mcol_double()\u001b[39m,\n",
      "  ..   RAD = \u001b[32mcol_double()\u001b[39m,\n",
      "  ..   TAX = \u001b[32mcol_double()\u001b[39m,\n",
      "  ..   PTRATIO = \u001b[32mcol_double()\u001b[39m,\n",
      "  ..   B = \u001b[32mcol_double()\u001b[39m,\n",
      "  ..   LSTAT = \u001b[32mcol_double()\u001b[39m,\n",
      "  ..   MEDV = \u001b[32mcol_double()\u001b[39m\n",
      "  .. )\n"
     ]
    }
   ],
   "source": [
    "read_csv2(\n",
    "  file = \"data/Boston_Housing.csv\"\n",
    ") -> boston_housing_csv\n",
    "\n",
    "str(boston_housing_csv)"
   ]
  },
  {
   "cell_type": "markdown",
   "metadata": {},
   "source": [
    "### Archivos de Excel (.xls .xlsx)"
   ]
  },
  {
   "cell_type": "code",
   "execution_count": 6,
   "metadata": {},
   "outputs": [
    {
     "name": "stdout",
     "output_type": "stream",
     "text": [
      "tibble [506 × 14] (S3: tbl_df/tbl/data.frame)\n",
      " $ CRIM   : num [1:506] 0.00632 0.02731 0.02729 0.03237 0.06905 ...\n",
      " $ ZN     : num [1:506] 18 0 0 0 0 0 12.5 12.5 12.5 12.5 ...\n",
      " $ INDUS  : num [1:506] 2.31 7.07 7.07 2.18 2.18 2.18 7.87 7.87 7.87 7.87 ...\n",
      " $ CHAS   : num [1:506] 0 0 0 0 0 0 0 0 0 0 ...\n",
      " $ NOX    : num [1:506] 0.538 0.469 0.469 0.458 0.458 0.458 0.524 0.524 0.524 0.524 ...\n",
      " $ RM     : num [1:506] 6.58 6.42 7.18 7 7.15 ...\n",
      " $ AGE    : num [1:506] 65.2 78.9 61.1 45.8 54.2 58.7 66.6 96.1 100 85.9 ...\n",
      " $ DIS    : num [1:506] 4.09 4.97 4.97 6.06 6.06 ...\n",
      " $ RAD    : num [1:506] 1 2 2 3 3 3 5 5 5 5 ...\n",
      " $ TAX    : num [1:506] 296 242 242 222 222 222 311 311 311 311 ...\n",
      " $ PTRATIO: num [1:506] 15.3 17.8 17.8 18.7 18.7 18.7 15.2 15.2 15.2 15.2 ...\n",
      " $ B      : num [1:506] 397 397 393 395 397 ...\n",
      " $ LSTAT  : num [1:506] 4.98 9.14 4.03 2.94 5.33 ...\n",
      " $ MEDV   : num [1:506] 24 21.6 34.7 33.4 36.2 28.7 22.9 27.1 16.5 18.9 ...\n"
     ]
    }
   ],
   "source": [
    "read_excel(\n",
    "  path = \"data/Boston_Housing.xls\"\n",
    ") -> boston_housing_xls\n",
    "\n",
    "str(boston_housing_xls)"
   ]
  },
  {
   "cell_type": "code",
   "execution_count": 7,
   "metadata": {},
   "outputs": [
    {
     "name": "stdout",
     "output_type": "stream",
     "text": [
      "tibble [506 × 14] (S3: tbl_df/tbl/data.frame)\n",
      " $ CRIM   : num [1:506] 0.00632 0.02731 0.02729 0.03237 0.06905 ...\n",
      " $ ZN     : num [1:506] 18 0 0 0 0 0 12.5 12.5 12.5 12.5 ...\n",
      " $ INDUS  : num [1:506] 2.31 7.07 7.07 2.18 2.18 2.18 7.87 7.87 7.87 7.87 ...\n",
      " $ CHAS   : num [1:506] 0 0 0 0 0 0 0 0 0 0 ...\n",
      " $ NOX    : num [1:506] 0.538 0.469 0.469 0.458 0.458 0.458 0.524 0.524 0.524 0.524 ...\n",
      " $ RM     : num [1:506] 6.58 6.42 7.18 7 7.15 ...\n",
      " $ AGE    : num [1:506] 65.2 78.9 61.1 45.8 54.2 58.7 66.6 96.1 100 85.9 ...\n",
      " $ DIS    : num [1:506] 4.09 4.97 4.97 6.06 6.06 ...\n",
      " $ RAD    : num [1:506] 1 2 2 3 3 3 5 5 5 5 ...\n",
      " $ TAX    : num [1:506] 296 242 242 222 222 222 311 311 311 311 ...\n",
      " $ PTRATIO: num [1:506] 15.3 17.8 17.8 18.7 18.7 18.7 15.2 15.2 15.2 15.2 ...\n",
      " $ B      : num [1:506] 397 397 393 395 397 ...\n",
      " $ LSTAT  : num [1:506] 4.98 9.14 4.03 2.94 5.33 ...\n",
      " $ MEDV   : num [1:506] 24 21.6 34.7 33.4 36.2 28.7 22.9 27.1 16.5 18.9 ...\n"
     ]
    }
   ],
   "source": [
    "read_xlsx(\n",
    "  path = \"data/Boston_Housing.xlsx\", \n",
    "  sheet=\"Data\"\n",
    ") -> boston_housing_xlsx\n",
    "str(boston_housing_xlsx)"
   ]
  },
  {
   "cell_type": "markdown",
   "metadata": {},
   "source": [
    "### Archivos de STATA (.dta)"
   ]
  },
  {
   "cell_type": "code",
   "execution_count": 8,
   "metadata": {},
   "outputs": [
    {
     "name": "stdout",
     "output_type": "stream",
     "text": [
      "tibble [506 × 14] (S3: tbl_df/tbl/data.frame)\n",
      " $ CRIM   : num [1:506] 0.00632 0.02731 0.02729 0.03237 0.06905 ...\n",
      "  ..- attr(*, \"label\")= chr \"CRIM\"\n",
      "  ..- attr(*, \"format.stata\")= chr \"%10.0g\"\n",
      " $ ZN     : num [1:506] 18 0 0 0 0 0 12.5 12.5 12.5 12.5 ...\n",
      "  ..- attr(*, \"label\")= chr \"ZN\"\n",
      "  ..- attr(*, \"format.stata\")= chr \"%10.0g\"\n",
      " $ INDUS  : num [1:506] 2.31 7.07 7.07 2.18 2.18 2.18 7.87 7.87 7.87 7.87 ...\n",
      "  ..- attr(*, \"label\")= chr \"INDUS\"\n",
      "  ..- attr(*, \"format.stata\")= chr \"%10.0g\"\n",
      " $ CHAS   : num [1:506] 0 0 0 0 0 0 0 0 0 0 ...\n",
      "  ..- attr(*, \"label\")= chr \"CHAS\"\n",
      "  ..- attr(*, \"format.stata\")= chr \"%10.0g\"\n",
      " $ NOX    : num [1:506] 0.538 0.469 0.469 0.458 0.458 0.458 0.524 0.524 0.524 0.524 ...\n",
      "  ..- attr(*, \"label\")= chr \"NOX\"\n",
      "  ..- attr(*, \"format.stata\")= chr \"%10.0g\"\n",
      " $ RM     : num [1:506] 6.58 6.42 7.18 7 7.15 ...\n",
      "  ..- attr(*, \"label\")= chr \"RM\"\n",
      "  ..- attr(*, \"format.stata\")= chr \"%10.0g\"\n",
      " $ AGE    : num [1:506] 65.2 78.9 61.1 45.8 54.2 58.7 66.6 96.1 100 85.9 ...\n",
      "  ..- attr(*, \"label\")= chr \"AGE\"\n",
      "  ..- attr(*, \"format.stata\")= chr \"%10.0g\"\n",
      " $ DIS    : num [1:506] 4.09 4.97 4.97 6.06 6.06 ...\n",
      "  ..- attr(*, \"label\")= chr \"DIS\"\n",
      "  ..- attr(*, \"format.stata\")= chr \"%10.0g\"\n",
      " $ RAD    : num [1:506] 1 2 2 3 3 3 5 5 5 5 ...\n",
      "  ..- attr(*, \"label\")= chr \"RAD\"\n",
      "  ..- attr(*, \"format.stata\")= chr \"%10.0g\"\n",
      " $ TAX    : num [1:506] 296 242 242 222 222 222 311 311 311 311 ...\n",
      "  ..- attr(*, \"label\")= chr \"TAX\"\n",
      "  ..- attr(*, \"format.stata\")= chr \"%10.0g\"\n",
      " $ PTRATIO: num [1:506] 15.3 17.8 17.8 18.7 18.7 18.7 15.2 15.2 15.2 15.2 ...\n",
      "  ..- attr(*, \"label\")= chr \"PTRATIO\"\n",
      "  ..- attr(*, \"format.stata\")= chr \"%10.0g\"\n",
      " $ B      : num [1:506] 397 397 393 395 397 ...\n",
      "  ..- attr(*, \"label\")= chr \"B\"\n",
      "  ..- attr(*, \"format.stata\")= chr \"%10.0g\"\n",
      " $ LSTAT  : num [1:506] 4.98 9.14 4.03 2.94 5.33 ...\n",
      "  ..- attr(*, \"label\")= chr \"LSTAT\"\n",
      "  ..- attr(*, \"format.stata\")= chr \"%10.0g\"\n",
      " $ MEDV   : num [1:506] 24 21.6 34.7 33.4 36.2 28.7 22.9 27.1 16.5 18.9 ...\n",
      "  ..- attr(*, \"label\")= chr \"MEDV\"\n",
      "  ..- attr(*, \"format.stata\")= chr \"%10.0g\"\n"
     ]
    }
   ],
   "source": [
    "read_dta(\n",
    "  file = \"data/Boston_Housing.dta\"\n",
    ") -> boston_housing_dta\n",
    "\n",
    "str(boston_housing_dta)"
   ]
  },
  {
   "cell_type": "markdown",
   "metadata": {},
   "source": [
    "### Archivos de bases de datos de SPSS"
   ]
  },
  {
   "cell_type": "code",
   "execution_count": 9,
   "metadata": {},
   "outputs": [
    {
     "name": "stdout",
     "output_type": "stream",
     "text": [
      "tibble [109 × 12] (S3: tbl_df/tbl/data.frame)\n",
      " $ VAR00001: dbl+lbl [1:109] 1, 1, 1, 1, 1, 1, 1, 1, 1, 1, 1, 1, 1, 1, 1, 1, 1, 1, ...\n",
      "   ..@ label      : chr \"TARGET\"\n",
      "   ..@ format.spss: chr \"F8.2\"\n",
      "   ..@ labels     : Named num [1:2] 1 2\n",
      "   .. ..- attr(*, \"names\")= chr [1:2] \"PADRES\" \"ESTUDIANTES\"\n",
      " $ VAR00002: dbl+lbl [1:109] 1, 1, 1, 1, 1, 1, 1, 1, 1, 1, 1, 1, 1, 1, 1, 1, 1, 1, ...\n",
      "   ..@ label      : chr \"P1. CIUDAD\"\n",
      "   ..@ format.spss: chr \"F8.2\"\n",
      "   ..@ labels     : Named num [1:2] 1 2\n",
      "   .. ..- attr(*, \"names\")= chr [1:2] \"BOGOTÁ\" \"FUERA BOGOTÁ\"\n",
      " $ VAR00010: num [1:109] 5 10 9 9 9 10 9 8 8 8 ...\n",
      "  ..- attr(*, \"label\")= chr \"ALTA CALIDAD U1\"\n",
      "  ..- attr(*, \"format.spss\")= chr \"F8.2\"\n",
      " $ VAR00011: dbl+lbl [1:109]  8,  6,  4,  6,  9,  9,  3,  8,  9,  8,  7,  8, 10, 10...\n",
      "   ..@ label      : chr \"ALTA CALIDAD U2\"\n",
      "   ..@ format.spss: chr \"F8.2\"\n",
      "   ..@ labels     : Named num [1:15] 1 2 3 4 5 6 7 8 9 10 ...\n",
      "   .. ..- attr(*, \"names\")= chr [1:15] \"1 MILLÓN\" \"2 MILLONES\" \"3 MILLONES\" \"4 MILLONES\" ...\n",
      " $ VAR00012: dbl+lbl [1:109]  3,  9,  8, 10, 10, 10, 10,  8,  8,  9,  8, 10, 10, 10...\n",
      "   ..@ label      : chr \"ALTA CALIDAD U3\"\n",
      "   ..@ format.spss: chr \"F8.2\"\n",
      "   ..@ labels     : Named num [1:10] 1 2 3 4 5 6 7 8 9 10\n",
      "   .. ..- attr(*, \"names\")= chr [1:10] \"U. SABANA\" \"U. ANDES\" \"U. JAVERIANA\" \"U. EXTERNADO\" ...\n",
      " $ VAR00013: dbl+lbl [1:109]  7,  9,  4,  7, 10,  9,  4,  9,  9,  8,  8, 10, 10, 10...\n",
      "   ..@ label      : chr \"P.VALOR U1\"\n",
      "   ..@ format.spss: chr \"F8.2\"\n",
      "   ..@ labels     : Named num [1:15] 1 2 3 4 5 6 7 8 9 10 ...\n",
      "   .. ..- attr(*, \"names\")= chr [1:15] \"1 MILLÓN\" \"2 MILLONES\" \"3 MILLONES\" \"4 MILLONES\" ...\n",
      " $ VAR00014: dbl+lbl [1:109]  2,  8,  8,  8, 10, 10,  7,  8,  8,  8,  9, 10, 10, 10...\n",
      "   ..@ label      : chr \"P VALOR U2\"\n",
      "   ..@ format.spss: chr \"F8.2\"\n",
      "   ..@ labels     : Named num [1:10] 1 2 3 4 5 6 7 8 9 10\n",
      "   .. ..- attr(*, \"names\")= chr [1:10] \"U. SABANA\" \"U. ANDES\" \"U. JAVERIANA\" \"U. EXTERNADO\" ...\n",
      " $ VAR00015: dbl+lbl [1:109]  6,  8,  4,  6, 10, 10,  3,  8,  8,  9,  8, 10, 10, 10...\n",
      "   ..@ label      : chr \"P.VALOR U3\"\n",
      "   ..@ format.spss: chr \"F8.2\"\n",
      "   ..@ labels     : Named num [1:15] 1 2 3 4 5 6 7 8 9 10 ...\n",
      "   .. ..- attr(*, \"names\")= chr [1:15] \"1 MILLÓN\" \"2 MILLONES\" \"3 MILLONES\" \"4 MILLONES\" ...\n",
      " $ VAR00024: dbl+lbl [1:109] 1, 1, 1, 5, 1, 5, 1, 5, 1, 1, 1, 1, 1, 1, 1, 1, 3, 3, ...\n",
      "   ..@ label      : chr \"MUY BARATO\"\n",
      "   ..@ format.spss: chr \"F8.2\"\n",
      "   ..@ labels     : Named num [1:15] 1 2 3 4 5 6 7 8 9 10 ...\n",
      "   .. ..- attr(*, \"names\")= chr [1:15] \"1 MILLÓN\" \"2 MILLONES\" \"3 MILLONES\" \"4 MILLONES\" ...\n",
      " $ VAR00025: dbl+lbl [1:109] 6, 6, 6, 6, 7, 7, 6, 6, 6, 6, 6, 6, 6, 7, 6, 7, 6, 6, ...\n",
      "   ..@ label      : chr \"CÓMODO\"\n",
      "   ..@ format.spss: chr \"F8.2\"\n",
      "   ..@ labels     : Named num [1:15] 1 2 3 4 5 6 7 8 9 10 ...\n",
      "   .. ..- attr(*, \"names\")= chr [1:15] \"1 MILLÓN\" \"2 MILLONES\" \"3 MILLONES\" \"4 MILLONES\" ...\n",
      " $ VAR00026: dbl+lbl [1:109] 12,  9, 11,  9,  9,  9, 11, 12,  9,  9,  9,  9, 12,  9...\n",
      "   ..@ label      : chr \"COSTOSO\"\n",
      "   ..@ format.spss: chr \"F8.2\"\n",
      "   ..@ labels     : Named num [1:15] 1 2 3 4 5 6 7 8 9 10 ...\n",
      "   .. ..- attr(*, \"names\")= chr [1:15] \"1 MILLÓN\" \"2 MILLONES\" \"3 MILLONES\" \"4 MILLONES\" ...\n",
      " $ VAR00027: dbl+lbl [1:109] 14, 15, 13, 13, 13, 15, 13, 13, 13, 13, 13, 13, 13, 13...\n",
      "   ..@ label      : chr \"MUY COSTOSO\"\n",
      "   ..@ format.spss: chr \"F8.2\"\n",
      "   ..@ labels     : Named num [1:15] 1 2 3 4 5 6 7 8 9 10 ...\n",
      "   .. ..- attr(*, \"names\")= chr [1:15] \"1 MILLÓN\" \"2 MILLONES\" \"3 MILLONES\" \"4 MILLONES\" ...\n"
     ]
    }
   ],
   "source": [
    "read_sav(\n",
    "  file = \"data/PRICING.sav\"\n",
    ") -> pricing_sav\n",
    "\n",
    "str(pricing_sav)"
   ]
  },
  {
   "cell_type": "markdown",
   "metadata": {},
   "source": [
    "### Bases de datos en Google Sheets"
   ]
  },
  {
   "cell_type": "code",
   "execution_count": 10,
   "metadata": {},
   "outputs": [
    {
     "name": "stderr",
     "output_type": "stream",
     "text": [
      "Warning message:\n",
      "“`as_data_frame()` is deprecated as of tibble 2.0.0.\n",
      "Please use `as_tibble()` instead.\n",
      "The signature and semantics have changed, see `?as_tibble`.\n",
      "\u001b[90mThis warning is displayed once every 8 hours.\u001b[39m\n",
      "\u001b[90mCall `lifecycle::last_warnings()` to see where this warning was generated.\u001b[39m”\n",
      "Parsed with column specification:\n",
      "cols(\n",
      "  CRIM = \u001b[32mcol_double()\u001b[39m,\n",
      "  ZN = \u001b[32mcol_double()\u001b[39m,\n",
      "  INDUS = \u001b[32mcol_double()\u001b[39m,\n",
      "  CHAS = \u001b[32mcol_double()\u001b[39m,\n",
      "  NOX = \u001b[32mcol_double()\u001b[39m,\n",
      "  RM = \u001b[32mcol_double()\u001b[39m,\n",
      "  AGE = \u001b[32mcol_double()\u001b[39m,\n",
      "  DIS = \u001b[32mcol_double()\u001b[39m,\n",
      "  RAD = \u001b[32mcol_double()\u001b[39m,\n",
      "  TAX = \u001b[32mcol_double()\u001b[39m,\n",
      "  PTRATIO = \u001b[32mcol_double()\u001b[39m,\n",
      "  B = \u001b[32mcol_double()\u001b[39m,\n",
      "  LSTAT = \u001b[32mcol_double()\u001b[39m,\n",
      "  MEDV = \u001b[32mcol_double()\u001b[39m\n",
      ")\n",
      "\n"
     ]
    },
    {
     "name": "stdout",
     "output_type": "stream",
     "text": [
      "tibble [506 × 14] (S3: spec_tbl_df/tbl_df/tbl/data.frame)\n",
      " $ CRIM   : num [1:506] 0.00632 0.02731 0.02729 0.03237 0.06905 ...\n",
      " $ ZN     : num [1:506] 18 0 0 0 0 0 12.5 12.5 12.5 12.5 ...\n",
      " $ INDUS  : num [1:506] 2.31 7.07 7.07 2.18 2.18 2.18 7.87 7.87 7.87 7.87 ...\n",
      " $ CHAS   : num [1:506] 0 0 0 0 0 0 0 0 0 0 ...\n",
      " $ NOX    : num [1:506] 0.538 0.469 0.469 0.458 0.458 0.458 0.524 0.524 0.524 0.524 ...\n",
      " $ RM     : num [1:506] 6.58 6.42 7.18 7 7.15 ...\n",
      " $ AGE    : num [1:506] 65.2 78.9 61.1 45.8 54.2 58.7 66.6 96.1 100 85.9 ...\n",
      " $ DIS    : num [1:506] 4.09 4.97 4.97 6.06 6.06 ...\n",
      " $ RAD    : num [1:506] 1 2 2 3 3 3 5 5 5 5 ...\n",
      " $ TAX    : num [1:506] 296 242 242 222 222 222 311 311 311 311 ...\n",
      " $ PTRATIO: num [1:506] 15.3 17.8 17.8 18.7 18.7 18.7 15.2 15.2 15.2 15.2 ...\n",
      " $ B      : num [1:506] 397 397 393 395 397 ...\n",
      " $ LSTAT  : num [1:506] 4.98 9.14 4.03 2.94 5.33 ...\n",
      " $ MEDV   : num [1:506] 24 21.6 34.7 33.4 36.2 28.7 22.9 27.1 16.5 18.9 ...\n",
      " - attr(*, \"spec\")=\n",
      "  .. cols(\n",
      "  ..   CRIM = \u001b[32mcol_double()\u001b[39m,\n",
      "  ..   ZN = \u001b[32mcol_double()\u001b[39m,\n",
      "  ..   INDUS = \u001b[32mcol_double()\u001b[39m,\n",
      "  ..   CHAS = \u001b[32mcol_double()\u001b[39m,\n",
      "  ..   NOX = \u001b[32mcol_double()\u001b[39m,\n",
      "  ..   RM = \u001b[32mcol_double()\u001b[39m,\n",
      "  ..   AGE = \u001b[32mcol_double()\u001b[39m,\n",
      "  ..   DIS = \u001b[32mcol_double()\u001b[39m,\n",
      "  ..   RAD = \u001b[32mcol_double()\u001b[39m,\n",
      "  ..   TAX = \u001b[32mcol_double()\u001b[39m,\n",
      "  ..   PTRATIO = \u001b[32mcol_double()\u001b[39m,\n",
      "  ..   B = \u001b[32mcol_double()\u001b[39m,\n",
      "  ..   LSTAT = \u001b[32mcol_double()\u001b[39m,\n",
      "  ..   MEDV = \u001b[32mcol_double()\u001b[39m\n",
      "  .. )\n"
     ]
    }
   ],
   "source": [
    "\"https://docs.google.com/spreadsheets/d/1z7uEedjNKXN4ub5lNZLO-dJhtWs4-Lv3PRcOTf-HWdk/edit?usp=sharing\" -> link\n",
    "gs_url(link, lookup = FALSE, verbose = FALSE) -> online_gs_object\n",
    "gs_read(online_gs_object, verbose = FALSE) -> boston_housing_gs\n",
    "\n",
    "str(boston_housing_gs)"
   ]
  },
  {
   "cell_type": "markdown",
   "metadata": {},
   "source": [
    "## Usando la interfaz de RStudio"
   ]
  },
  {
   "cell_type": "markdown",
   "metadata": {},
   "source": [
    "![carga de datos gráfica](images/R_01.png)"
   ]
  },
  {
   "cell_type": "markdown",
   "metadata": {},
   "source": [
    "## Algoritmos\n",
    "\n",
    "Un algoritmo es un conjunto finito de instrucciones que, si se siguen rigurosamente, llevan a cabo una tarea específica.\n",
    "\n",
    "Todos los algoritmos se componen de “partes” básicas que se utilizan para crear “partes” más complejas."
   ]
  },
  {
   "cell_type": "markdown",
   "metadata": {},
   "source": [
    "# Tipos y operaciones"
   ]
  },
  {
   "cell_type": "markdown",
   "metadata": {},
   "source": [
    "## Tipos de variables"
   ]
  },
  {
   "cell_type": "markdown",
   "metadata": {},
   "source": [
    "### Booleanos (lógicos) \n",
    "\n",
    "- VERDADERO\n",
    "- FALSO"
   ]
  },
  {
   "cell_type": "code",
   "execution_count": 11,
   "metadata": {},
   "outputs": [
    {
     "data": {
      "text/html": [
       "TRUE"
      ],
      "text/latex": [
       "TRUE"
      ],
      "text/markdown": [
       "TRUE"
      ],
      "text/plain": [
       "[1] TRUE"
      ]
     },
     "metadata": {},
     "output_type": "display_data"
    }
   ],
   "source": [
    "objeto_nombrado_por_mi <- TRUE # Siempre con mayúsculas\n",
    "objeto_nombrado_por_mi"
   ]
  },
  {
   "cell_type": "code",
   "execution_count": 12,
   "metadata": {},
   "outputs": [
    {
     "data": {
      "text/html": [
       "'logical'"
      ],
      "text/latex": [
       "'logical'"
      ],
      "text/markdown": [
       "'logical'"
      ],
      "text/plain": [
       "[1] \"logical\""
      ]
     },
     "metadata": {},
     "output_type": "display_data"
    }
   ],
   "source": [
    "class(objeto_nombrado_por_mi)"
   ]
  },
  {
   "cell_type": "code",
   "execution_count": 13,
   "metadata": {},
   "outputs": [
    {
     "data": {
      "text/html": [
       "TRUE"
      ],
      "text/latex": [
       "TRUE"
      ],
      "text/markdown": [
       "TRUE"
      ],
      "text/plain": [
       "[1] TRUE"
      ]
     },
     "metadata": {},
     "output_type": "display_data"
    }
   ],
   "source": [
    "is.logical(objeto_nombrado_por_mi)"
   ]
  },
  {
   "cell_type": "markdown",
   "metadata": {},
   "source": [
    "### Numéricos\n",
    "\n",
    "- Enteros\n",
    "- Reales"
   ]
  },
  {
   "cell_type": "code",
   "execution_count": 14,
   "metadata": {},
   "outputs": [
    {
     "data": {
      "text/html": [
       "3.14159265358979"
      ],
      "text/latex": [
       "3.14159265358979"
      ],
      "text/markdown": [
       "3.14159265358979"
      ],
      "text/plain": [
       "[1] 3.141593"
      ]
     },
     "metadata": {},
     "output_type": "display_data"
    }
   ],
   "source": [
    "# Real\n",
    "pi"
   ]
  },
  {
   "cell_type": "code",
   "execution_count": 15,
   "metadata": {},
   "outputs": [
    {
     "data": {
      "text/html": [
       "'numeric'"
      ],
      "text/latex": [
       "'numeric'"
      ],
      "text/markdown": [
       "'numeric'"
      ],
      "text/plain": [
       "[1] \"numeric\""
      ]
     },
     "metadata": {},
     "output_type": "display_data"
    }
   ],
   "source": [
    "class(pi)"
   ]
  },
  {
   "cell_type": "code",
   "execution_count": 16,
   "metadata": {},
   "outputs": [
    {
     "data": {
      "text/html": [
       "0"
      ],
      "text/latex": [
       "0"
      ],
      "text/markdown": [
       "0"
      ],
      "text/plain": [
       "[1] 0"
      ]
     },
     "metadata": {},
     "output_type": "display_data"
    }
   ],
   "source": [
    "objeto_nombrado_por_mi <- 0\n",
    "objeto_nombrado_por_mi"
   ]
  },
  {
   "cell_type": "code",
   "execution_count": 17,
   "metadata": {},
   "outputs": [
    {
     "data": {
      "text/html": [
       "'numeric'"
      ],
      "text/latex": [
       "'numeric'"
      ],
      "text/markdown": [
       "'numeric'"
      ],
      "text/plain": [
       "[1] \"numeric\""
      ]
     },
     "metadata": {},
     "output_type": "display_data"
    }
   ],
   "source": [
    "class(objeto_nombrado_por_mi)"
   ]
  },
  {
   "cell_type": "code",
   "execution_count": 18,
   "metadata": {},
   "outputs": [
    {
     "data": {
      "text/html": [
       "TRUE"
      ],
      "text/latex": [
       "TRUE"
      ],
      "text/markdown": [
       "TRUE"
      ],
      "text/plain": [
       "[1] TRUE"
      ]
     },
     "metadata": {},
     "output_type": "display_data"
    }
   ],
   "source": [
    "is.numeric(objeto_nombrado_por_mi)"
   ]
  },
  {
   "cell_type": "markdown",
   "metadata": {},
   "source": [
    "### Alfanuméricos: caracteres o cadenas de texto"
   ]
  },
  {
   "cell_type": "code",
   "execution_count": 19,
   "metadata": {},
   "outputs": [
    {
     "data": {
      "text/html": [
       "'hola mundo'"
      ],
      "text/latex": [
       "'hola mundo'"
      ],
      "text/markdown": [
       "'hola mundo'"
      ],
      "text/plain": [
       "[1] \"hola mundo\""
      ]
     },
     "metadata": {},
     "output_type": "display_data"
    }
   ],
   "source": [
    "objeto_nombrado_por_mi <- \"hola mundo\"\n",
    "objeto_nombrado_por_mi"
   ]
  },
  {
   "cell_type": "code",
   "execution_count": 20,
   "metadata": {},
   "outputs": [
    {
     "data": {
      "text/html": [
       "'character'"
      ],
      "text/latex": [
       "'character'"
      ],
      "text/markdown": [
       "'character'"
      ],
      "text/plain": [
       "[1] \"character\""
      ]
     },
     "metadata": {},
     "output_type": "display_data"
    }
   ],
   "source": [
    "class(objeto_nombrado_por_mi)"
   ]
  },
  {
   "cell_type": "code",
   "execution_count": 21,
   "metadata": {},
   "outputs": [
    {
     "data": {
      "text/html": [
       "TRUE"
      ],
      "text/latex": [
       "TRUE"
      ],
      "text/markdown": [
       "TRUE"
      ],
      "text/plain": [
       "[1] TRUE"
      ]
     },
     "metadata": {},
     "output_type": "display_data"
    }
   ],
   "source": [
    "is.character(objeto_nombrado_por_mi)"
   ]
  },
  {
   "cell_type": "markdown",
   "metadata": {},
   "source": [
    "### Fechas"
   ]
  },
  {
   "cell_type": "code",
   "execution_count": 22,
   "metadata": {},
   "outputs": [
    {
     "data": {
      "text/html": [
       "'2020-04-06'"
      ],
      "text/latex": [
       "'2020-04-06'"
      ],
      "text/markdown": [
       "'2020-04-06'"
      ],
      "text/plain": [
       "[1] \"2020-04-06\""
      ]
     },
     "metadata": {},
     "output_type": "display_data"
    }
   ],
   "source": [
    "objeto_nombrado_por_mi <- \"2020-04-06\" # Recomendado: ISO 8601 para fechas\n",
    "objeto_nombrado_por_mi"
   ]
  },
  {
   "cell_type": "code",
   "execution_count": 23,
   "metadata": {},
   "outputs": [
    {
     "data": {
      "text/html": [
       "'character'"
      ],
      "text/latex": [
       "'character'"
      ],
      "text/markdown": [
       "'character'"
      ],
      "text/plain": [
       "[1] \"character\""
      ]
     },
     "metadata": {},
     "output_type": "display_data"
    }
   ],
   "source": [
    "class(objeto_nombrado_por_mi)"
   ]
  },
  {
   "cell_type": "code",
   "execution_count": 24,
   "metadata": {},
   "outputs": [
    {
     "data": {
      "text/html": [
       "'Date'"
      ],
      "text/latex": [
       "'Date'"
      ],
      "text/markdown": [
       "'Date'"
      ],
      "text/plain": [
       "[1] \"Date\""
      ]
     },
     "metadata": {},
     "output_type": "display_data"
    }
   ],
   "source": [
    "otro_objeto_distinto <- as.Date(objeto_nombrado_por_mi)\n",
    "class(otro_objeto_distinto)"
   ]
  },
  {
   "cell_type": "markdown",
   "metadata": {},
   "source": [
    "### NA"
   ]
  },
  {
   "cell_type": "code",
   "execution_count": 25,
   "metadata": {},
   "outputs": [
    {
     "data": {
      "text/html": [
       "&lt;NA&gt;"
      ],
      "text/latex": [
       "<NA>"
      ],
      "text/markdown": [
       "&lt;NA&gt;"
      ],
      "text/plain": [
       "[1] NA"
      ]
     },
     "metadata": {},
     "output_type": "display_data"
    }
   ],
   "source": [
    "objeto_nombrado_por_mi <- NA # Siempre en mayúsculas NA\n",
    "objeto_nombrado_por_mi"
   ]
  },
  {
   "cell_type": "code",
   "execution_count": 26,
   "metadata": {},
   "outputs": [
    {
     "data": {
      "text/html": [
       "'logical'"
      ],
      "text/latex": [
       "'logical'"
      ],
      "text/markdown": [
       "'logical'"
      ],
      "text/plain": [
       "[1] \"logical\""
      ]
     },
     "metadata": {},
     "output_type": "display_data"
    }
   ],
   "source": [
    "class(objeto_nombrado_por_mi)"
   ]
  },
  {
   "cell_type": "markdown",
   "metadata": {},
   "source": [
    "## Método is"
   ]
  },
  {
   "cell_type": "code",
   "execution_count": 27,
   "metadata": {},
   "outputs": [
    {
     "data": {
      "text/html": [
       "TRUE"
      ],
      "text/latex": [
       "TRUE"
      ],
      "text/markdown": [
       "TRUE"
      ],
      "text/plain": [
       "[1] TRUE"
      ]
     },
     "metadata": {},
     "output_type": "display_data"
    }
   ],
   "source": [
    "cualquier_cosa <- TRUE\n",
    "is.logical(cualquier_cosa)"
   ]
  },
  {
   "cell_type": "code",
   "execution_count": 28,
   "metadata": {},
   "outputs": [
    {
     "data": {
      "text/html": [
       "FALSE"
      ],
      "text/latex": [
       "FALSE"
      ],
      "text/markdown": [
       "FALSE"
      ],
      "text/plain": [
       "[1] FALSE"
      ]
     },
     "metadata": {},
     "output_type": "display_data"
    }
   ],
   "source": [
    "is.numeric(cualquier_cosa)"
   ]
  },
  {
   "cell_type": "code",
   "execution_count": 29,
   "metadata": {},
   "outputs": [
    {
     "data": {
      "text/html": [
       "FALSE"
      ],
      "text/latex": [
       "FALSE"
      ],
      "text/markdown": [
       "FALSE"
      ],
      "text/plain": [
       "[1] FALSE"
      ]
     },
     "metadata": {},
     "output_type": "display_data"
    }
   ],
   "source": [
    "is.character(cualquier_cosa)"
   ]
  },
  {
   "cell_type": "markdown",
   "metadata": {},
   "source": [
    "## Método as"
   ]
  },
  {
   "cell_type": "markdown",
   "metadata": {},
   "source": [
    "### Conversiones\n",
    "\n",
    "|Desde | Hacia |\n",
    "| :---:| :---: |\n",
    "| logical | numeric |\n",
    "| logical |\tcharacter |\n",
    "| numeric |\tcharacter |\n",
    "| numeric |\tDate |\n",
    "| character | Date |"
   ]
  },
  {
   "cell_type": "code",
   "execution_count": 30,
   "metadata": {},
   "outputs": [
    {
     "data": {
      "text/html": [
       "TRUE"
      ],
      "text/latex": [
       "TRUE"
      ],
      "text/markdown": [
       "TRUE"
      ],
      "text/plain": [
       "[1] TRUE"
      ]
     },
     "metadata": {},
     "output_type": "display_data"
    }
   ],
   "source": [
    "TRUE -> true_logico\n",
    "true_logico"
   ]
  },
  {
   "cell_type": "code",
   "execution_count": 31,
   "metadata": {},
   "outputs": [
    {
     "data": {
      "text/html": [
       "'logical'"
      ],
      "text/latex": [
       "'logical'"
      ],
      "text/markdown": [
       "'logical'"
      ],
      "text/plain": [
       "[1] \"logical\""
      ]
     },
     "metadata": {},
     "output_type": "display_data"
    }
   ],
   "source": [
    "class(true_logico)"
   ]
  },
  {
   "cell_type": "code",
   "execution_count": 32,
   "metadata": {},
   "outputs": [
    {
     "data": {
      "text/html": [
       "'TRUE'"
      ],
      "text/latex": [
       "'TRUE'"
      ],
      "text/markdown": [
       "'TRUE'"
      ],
      "text/plain": [
       "[1] \"TRUE\""
      ]
     },
     "metadata": {},
     "output_type": "display_data"
    }
   ],
   "source": [
    "as.character(true_logico) -> true_char\n",
    "true_char"
   ]
  },
  {
   "cell_type": "code",
   "execution_count": 33,
   "metadata": {},
   "outputs": [
    {
     "data": {
      "text/html": [
       "'character'"
      ],
      "text/latex": [
       "'character'"
      ],
      "text/markdown": [
       "'character'"
      ],
      "text/plain": [
       "[1] \"character\""
      ]
     },
     "metadata": {},
     "output_type": "display_data"
    }
   ],
   "source": [
    "class(true_char)"
   ]
  },
  {
   "cell_type": "code",
   "execution_count": 34,
   "metadata": {},
   "outputs": [
    {
     "data": {
      "text/html": [
       "1"
      ],
      "text/latex": [
       "1"
      ],
      "text/markdown": [
       "1"
      ],
      "text/plain": [
       "[1] 1"
      ]
     },
     "metadata": {},
     "output_type": "display_data"
    }
   ],
   "source": [
    "1 -> uno_numeric\n",
    "uno_numeric"
   ]
  },
  {
   "cell_type": "code",
   "execution_count": 35,
   "metadata": {},
   "outputs": [
    {
     "data": {
      "text/html": [
       "'numeric'"
      ],
      "text/latex": [
       "'numeric'"
      ],
      "text/markdown": [
       "'numeric'"
      ],
      "text/plain": [
       "[1] \"numeric\""
      ]
     },
     "metadata": {},
     "output_type": "display_data"
    }
   ],
   "source": [
    "class(uno_numeric)"
   ]
  },
  {
   "cell_type": "code",
   "execution_count": 36,
   "metadata": {},
   "outputs": [
    {
     "data": {
      "text/html": [
       "'1'"
      ],
      "text/latex": [
       "'1'"
      ],
      "text/markdown": [
       "'1'"
      ],
      "text/plain": [
       "[1] \"1\""
      ]
     },
     "metadata": {},
     "output_type": "display_data"
    }
   ],
   "source": [
    "as.character(uno_numeric) -> uno_char\n",
    "uno_char"
   ]
  },
  {
   "cell_type": "code",
   "execution_count": 37,
   "metadata": {},
   "outputs": [
    {
     "data": {
      "text/html": [
       "'character'"
      ],
      "text/latex": [
       "'character'"
      ],
      "text/markdown": [
       "'character'"
      ],
      "text/plain": [
       "[1] \"character\""
      ]
     },
     "metadata": {},
     "output_type": "display_data"
    }
   ],
   "source": [
    "class(uno_char)"
   ]
  },
  {
   "cell_type": "markdown",
   "metadata": {},
   "source": [
    "## Operadores"
   ]
  },
  {
   "cell_type": "markdown",
   "metadata": {},
   "source": [
    "### Operadores matemáticos\n",
    "\n",
    "| Operador | Operación |\n",
    "| :---: | :---: |\n",
    "| + | Suma |\n",
    "| - | Resta |\n",
    "| * | Multiplicación |\n",
    "| / | División |\n",
    "| %% | Módulo |\n",
    "| ** | Potenciación |\n",
    "| ^ | Potenciación |\n",
    "| [log()](https://www.rdocumentation.org/packages/base/versions/3.6.2/topics/log) | Logaritmo |\n",
    "| sqrt() | Raiz cuadrada |\n"
   ]
  },
  {
   "cell_type": "markdown",
   "metadata": {},
   "source": [
    "**Recordar**\n",
    "![propiedades potenciación](https://i.pinimg.com/originals/26/c7/23/26c723075b7d08e73d157f99884fe54e.png)"
   ]
  },
  {
   "cell_type": "code",
   "execution_count": 38,
   "metadata": {},
   "outputs": [
    {
     "data": {
      "text/html": [
       "4"
      ],
      "text/latex": [
       "4"
      ],
      "text/markdown": [
       "4"
      ],
      "text/plain": [
       "[1] 4"
      ]
     },
     "metadata": {},
     "output_type": "display_data"
    }
   ],
   "source": [
    "2+2"
   ]
  },
  {
   "cell_type": "code",
   "execution_count": 39,
   "metadata": {},
   "outputs": [
    {
     "data": {
      "text/html": [
       "3"
      ],
      "text/latex": [
       "3"
      ],
      "text/markdown": [
       "3"
      ],
      "text/plain": [
       "[1] 3"
      ]
     },
     "metadata": {},
     "output_type": "display_data"
    }
   ],
   "source": [
    "5-2"
   ]
  },
  {
   "cell_type": "code",
   "execution_count": 40,
   "metadata": {},
   "outputs": [
    {
     "data": {
      "text/html": [
       "12"
      ],
      "text/latex": [
       "12"
      ],
      "text/markdown": [
       "12"
      ],
      "text/plain": [
       "[1] 12"
      ]
     },
     "metadata": {},
     "output_type": "display_data"
    }
   ],
   "source": [
    "3*4"
   ]
  },
  {
   "cell_type": "code",
   "execution_count": 41,
   "metadata": {},
   "outputs": [
    {
     "data": {
      "text/html": [
       "1.25"
      ],
      "text/latex": [
       "1.25"
      ],
      "text/markdown": [
       "1.25"
      ],
      "text/plain": [
       "[1] 1.25"
      ]
     },
     "metadata": {},
     "output_type": "display_data"
    }
   ],
   "source": [
    "5/4"
   ]
  },
  {
   "cell_type": "code",
   "execution_count": 42,
   "metadata": {},
   "outputs": [
    {
     "data": {
      "text/html": [
       "1"
      ],
      "text/latex": [
       "1"
      ],
      "text/markdown": [
       "1"
      ],
      "text/plain": [
       "[1] 1"
      ]
     },
     "metadata": {},
     "output_type": "display_data"
    }
   ],
   "source": [
    "9 %% 2"
   ]
  },
  {
   "cell_type": "code",
   "execution_count": 43,
   "metadata": {},
   "outputs": [
    {
     "data": {
      "text/html": [
       "27"
      ],
      "text/latex": [
       "27"
      ],
      "text/markdown": [
       "27"
      ],
      "text/plain": [
       "[1] 27"
      ]
     },
     "metadata": {},
     "output_type": "display_data"
    }
   ],
   "source": [
    "3 ** 3"
   ]
  },
  {
   "cell_type": "code",
   "execution_count": 44,
   "metadata": {},
   "outputs": [
    {
     "data": {
      "text/html": [
       "27"
      ],
      "text/latex": [
       "27"
      ],
      "text/markdown": [
       "27"
      ],
      "text/plain": [
       "[1] 27"
      ]
     },
     "metadata": {},
     "output_type": "display_data"
    }
   ],
   "source": [
    "3 ^ 3"
   ]
  },
  {
   "cell_type": "code",
   "execution_count": 45,
   "metadata": {},
   "outputs": [
    {
     "data": {
      "text/html": [
       "2.30258509299405"
      ],
      "text/latex": [
       "2.30258509299405"
      ],
      "text/markdown": [
       "2.30258509299405"
      ],
      "text/plain": [
       "[1] 2.302585"
      ]
     },
     "metadata": {},
     "output_type": "display_data"
    }
   ],
   "source": [
    "log(10) # logarítmo natural"
   ]
  },
  {
   "cell_type": "code",
   "execution_count": 46,
   "metadata": {},
   "outputs": [
    {
     "data": {
      "text/html": [
       "4"
      ],
      "text/latex": [
       "4"
      ],
      "text/markdown": [
       "4"
      ],
      "text/plain": [
       "[1] 4"
      ]
     },
     "metadata": {},
     "output_type": "display_data"
    }
   ],
   "source": [
    "sqrt(16) # Raíz cuadrada"
   ]
  },
  {
   "cell_type": "markdown",
   "metadata": {},
   "source": [
    "$a^{\\frac{n}{m}} = \\sqrt[m]{a^n}$"
   ]
  },
  {
   "cell_type": "code",
   "execution_count": 47,
   "metadata": {},
   "outputs": [
    {
     "data": {
      "text/html": [
       "4"
      ],
      "text/latex": [
       "4"
      ],
      "text/markdown": [
       "4"
      ],
      "text/plain": [
       "[1] 4"
      ]
     },
     "metadata": {},
     "output_type": "display_data"
    }
   ],
   "source": [
    "16 ** (1/2)"
   ]
  },
  {
   "cell_type": "markdown",
   "metadata": {},
   "source": [
    "### Operadores para comparación\n",
    "\n",
    "| Operador | Comparación |\n",
    "| :---: | :---: |\n",
    "| > | Mayor que |\n",
    "| < | Menor que |\n",
    "| == | Igual que |\n",
    "| != | Diferente a |\n",
    "| >= | Mayor o igual que |\n",
    "| <= | Menor o igual que |"
   ]
  },
  {
   "cell_type": "code",
   "execution_count": 48,
   "metadata": {},
   "outputs": [
    {
     "data": {
      "text/html": [
       "TRUE"
      ],
      "text/latex": [
       "TRUE"
      ],
      "text/markdown": [
       "TRUE"
      ],
      "text/plain": [
       "[1] TRUE"
      ]
     },
     "metadata": {},
     "output_type": "display_data"
    }
   ],
   "source": [
    "5 > 2"
   ]
  },
  {
   "cell_type": "code",
   "execution_count": 49,
   "metadata": {},
   "outputs": [
    {
     "data": {
      "text/html": [
       "FALSE"
      ],
      "text/latex": [
       "FALSE"
      ],
      "text/markdown": [
       "FALSE"
      ],
      "text/plain": [
       "[1] FALSE"
      ]
     },
     "metadata": {},
     "output_type": "display_data"
    }
   ],
   "source": [
    "5 < 2"
   ]
  },
  {
   "cell_type": "code",
   "execution_count": 50,
   "metadata": {},
   "outputs": [
    {
     "data": {
      "text/html": [
       "TRUE"
      ],
      "text/latex": [
       "TRUE"
      ],
      "text/markdown": [
       "TRUE"
      ],
      "text/plain": [
       "[1] TRUE"
      ]
     },
     "metadata": {},
     "output_type": "display_data"
    }
   ],
   "source": [
    "10 == 10"
   ]
  },
  {
   "cell_type": "code",
   "execution_count": 51,
   "metadata": {},
   "outputs": [
    {
     "data": {
      "text/html": [
       "FALSE"
      ],
      "text/latex": [
       "FALSE"
      ],
      "text/markdown": [
       "FALSE"
      ],
      "text/plain": [
       "[1] FALSE"
      ]
     },
     "metadata": {},
     "output_type": "display_data"
    }
   ],
   "source": [
    "10 == 9"
   ]
  },
  {
   "cell_type": "code",
   "execution_count": 52,
   "metadata": {},
   "outputs": [
    {
     "data": {
      "text/html": [
       "TRUE"
      ],
      "text/latex": [
       "TRUE"
      ],
      "text/markdown": [
       "TRUE"
      ],
      "text/plain": [
       "[1] TRUE"
      ]
     },
     "metadata": {},
     "output_type": "display_data"
    }
   ],
   "source": [
    "10 != 9"
   ]
  },
  {
   "cell_type": "code",
   "execution_count": 53,
   "metadata": {},
   "outputs": [
    {
     "data": {
      "text/html": [
       "TRUE"
      ],
      "text/latex": [
       "TRUE"
      ],
      "text/markdown": [
       "TRUE"
      ],
      "text/plain": [
       "[1] TRUE"
      ]
     },
     "metadata": {},
     "output_type": "display_data"
    }
   ],
   "source": [
    "10 >= 10"
   ]
  },
  {
   "cell_type": "code",
   "execution_count": 54,
   "metadata": {},
   "outputs": [
    {
     "data": {
      "text/html": [
       "FALSE"
      ],
      "text/latex": [
       "FALSE"
      ],
      "text/markdown": [
       "FALSE"
      ],
      "text/plain": [
       "[1] FALSE"
      ]
     },
     "metadata": {},
     "output_type": "display_data"
    }
   ],
   "source": [
    "10 <= 8"
   ]
  },
  {
   "cell_type": "markdown",
   "metadata": {},
   "source": [
    "### Operadores lógicas\n",
    "\n",
    "| Operador | Operación | Descripción|\n",
    "| :---: | :---: | :---: |\n",
    "| && | Conjunción | Ambas sentencias deben ser verdaderas |\n",
    "| \\|\\| | Disyunción | Al menos una de las sentencias son verdaderas |\n",
    "| ! | Negación | Cambia el valor de verdad de la sentencia |"
   ]
  },
  {
   "cell_type": "code",
   "execution_count": 55,
   "metadata": {},
   "outputs": [
    {
     "data": {
      "text/html": [
       "FALSE"
      ],
      "text/latex": [
       "FALSE"
      ],
      "text/markdown": [
       "FALSE"
      ],
      "text/plain": [
       "[1] FALSE"
      ]
     },
     "metadata": {},
     "output_type": "display_data"
    }
   ],
   "source": [
    "(4 > 2) && (5 < 3)"
   ]
  },
  {
   "cell_type": "code",
   "execution_count": 56,
   "metadata": {},
   "outputs": [
    {
     "data": {
      "text/html": [
       "TRUE"
      ],
      "text/latex": [
       "TRUE"
      ],
      "text/markdown": [
       "TRUE"
      ],
      "text/plain": [
       "[1] TRUE"
      ]
     },
     "metadata": {},
     "output_type": "display_data"
    }
   ],
   "source": [
    "(4 > 2) && (5 > 3)"
   ]
  },
  {
   "cell_type": "code",
   "execution_count": 57,
   "metadata": {},
   "outputs": [
    {
     "data": {
      "text/html": [
       "TRUE"
      ],
      "text/latex": [
       "TRUE"
      ],
      "text/markdown": [
       "TRUE"
      ],
      "text/plain": [
       "[1] TRUE"
      ]
     },
     "metadata": {},
     "output_type": "display_data"
    }
   ],
   "source": [
    "(4 > 2) || (5 < 3)"
   ]
  },
  {
   "cell_type": "code",
   "execution_count": 58,
   "metadata": {},
   "outputs": [
    {
     "data": {
      "text/html": [
       "FALSE"
      ],
      "text/latex": [
       "FALSE"
      ],
      "text/markdown": [
       "FALSE"
      ],
      "text/plain": [
       "[1] FALSE"
      ]
     },
     "metadata": {},
     "output_type": "display_data"
    }
   ],
   "source": [
    "(4 < 2) && (5 < 3)"
   ]
  },
  {
   "cell_type": "code",
   "execution_count": 59,
   "metadata": {},
   "outputs": [
    {
     "data": {
      "text/html": [
       "TRUE"
      ],
      "text/latex": [
       "TRUE"
      ],
      "text/markdown": [
       "TRUE"
      ],
      "text/plain": [
       "[1] TRUE"
      ]
     },
     "metadata": {},
     "output_type": "display_data"
    }
   ],
   "source": [
    "!((4 < 2) && (5 < 3))"
   ]
  },
  {
   "cell_type": "markdown",
   "metadata": {},
   "source": [
    "### Orden de las operaciones\n",
    "\n",
    "PEMDAS\n",
    "1. Paréntesis\n",
    "1. Exponentes\n",
    "1. Multiplicaciones / Divisiones\n",
    "1. Adición / Sustracción"
   ]
  },
  {
   "cell_type": "markdown",
   "metadata": {},
   "source": [
    "## Variables"
   ]
  },
  {
   "cell_type": "code",
   "execution_count": 60,
   "metadata": {},
   "outputs": [
    {
     "data": {
      "text/html": [
       "28.2735"
      ],
      "text/latex": [
       "28.2735"
      ],
      "text/markdown": [
       "28.2735"
      ],
      "text/plain": [
       "[1] 28.2735"
      ]
     },
     "metadata": {},
     "output_type": "display_data"
    }
   ],
   "source": [
    "pi = 3.1415\n",
    "radio = 3\n",
    "area = pi * radio**2\n",
    "area"
   ]
  },
  {
   "cell_type": "code",
   "execution_count": 61,
   "metadata": {},
   "outputs": [
    {
     "data": {
      "text/html": [
       "28.27"
      ],
      "text/latex": [
       "28.27"
      ],
      "text/markdown": [
       "28.27"
      ],
      "text/plain": [
       "[1] 28.27"
      ]
     },
     "metadata": {},
     "output_type": "display_data"
    }
   ],
   "source": [
    "round(area, 2)"
   ]
  }
 ],
 "metadata": {
  "kernelspec": {
   "display_name": "R",
   "language": "R",
   "name": "ir"
  },
  "language_info": {
   "codemirror_mode": "r",
   "file_extension": ".r",
   "mimetype": "text/x-r-source",
   "name": "R",
   "pygments_lexer": "r",
   "version": "3.6.3"
  }
 },
 "nbformat": 4,
 "nbformat_minor": 4
}
