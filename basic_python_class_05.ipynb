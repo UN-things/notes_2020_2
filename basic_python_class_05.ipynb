{
  "nbformat": 4,
  "nbformat_minor": 0,
  "metadata": {
    "colab": {
      "name": "basic_python_class_05.ipynb",
      "provenance": [],
      "collapsed_sections": [],
      "include_colab_link": true
    },
    "kernelspec": {
      "name": "python3",
      "display_name": "Python 3"
    }
  },
  "cells": [
    {
      "cell_type": "markdown",
      "metadata": {
        "id": "view-in-github",
        "colab_type": "text"
      },
      "source": [
        "<a href=\"https://colab.research.google.com/github/gtzambranop/UN_2020_2/blob/DCD/basic_python_class_05.ipynb\" target=\"_parent\"><img src=\"https://colab.research.google.com/assets/colab-badge.svg\" alt=\"Open In Colab\"/></a>"
      ]
    },
    {
      "cell_type": "markdown",
      "metadata": {
        "id": "z26RyrG3lGF0",
        "colab_type": "text"
      },
      "source": [
        "[Link de la presentación](http://35.238.194.79/slides.html#/8)"
      ]
    },
    {
      "cell_type": "markdown",
      "metadata": {
        "id": "9NIt06jTqxUR",
        "colab_type": "text"
      },
      "source": [
        "# **\"Pyhton Básico\"**\n",
        "\n",
        "* **Profesor:** Francisco Javier Ospina Salazar\n",
        "* **Monitoras:**\n",
        "  - Diana Carolina Sanchez Perez\n",
        "  - Guiselle Tatiana Zambrano Penagos\n",
        "* **Fechas:** \n",
        "  - Inicio: 2020-09-12\n",
        "  - Final: 2020-09-29\n",
        "* [Presentacióón del curso](http://ospinafrancisco.com/)\n"
      ]
    },
    {
      "cell_type": "markdown",
      "metadata": {
        "id": "O_LG7OUQlPYk",
        "colab_type": "text"
      },
      "source": [
        "# Limpieza de datos"
      ]
    },
    {
      "cell_type": "markdown",
      "metadata": {
        "id": "PQZEt0FHlTNM",
        "colab_type": "text"
      },
      "source": [
        "## Carga de datos MCU"
      ]
    },
    {
      "cell_type": "code",
      "metadata": {
        "id": "x4kjC52SmBq1",
        "colab_type": "code",
        "colab": {}
      },
      "source": [
        "import pandas as pd\n",
        "import numpy as np"
      ],
      "execution_count": null,
      "outputs": []
    },
    {
      "cell_type": "code",
      "metadata": {
        "id": "f48rykMKJ0zR",
        "colab_type": "code",
        "colab": {
          "base_uri": "https://localhost:8080/",
          "height": 384
        },
        "outputId": "8acabe51-bc4f-4f79-c196-d94c48315735"
      },
      "source": [
        "! wget https://www.dropbox.com/s/kc98g3pjcp8trba/MCU2.csv"
      ],
      "execution_count": null,
      "outputs": [
        {
          "output_type": "stream",
          "text": [
            "--2020-09-23 01:23:43--  https://www.dropbox.com/s/kc98g3pjcp8trba/MCU2.csv\n",
            "Resolving www.dropbox.com (www.dropbox.com)... 162.125.5.1, 2620:100:601d:1::a27d:501\n",
            "Connecting to www.dropbox.com (www.dropbox.com)|162.125.5.1|:443... connected.\n",
            "HTTP request sent, awaiting response... 301 Moved Permanently\n",
            "Location: /s/raw/kc98g3pjcp8trba/MCU2.csv [following]\n",
            "--2020-09-23 01:23:43--  https://www.dropbox.com/s/raw/kc98g3pjcp8trba/MCU2.csv\n",
            "Reusing existing connection to www.dropbox.com:443.\n",
            "HTTP request sent, awaiting response... 302 Found\n",
            "Location: https://ucfb05bf2f1a37b0933b4ff84d3c.dl.dropboxusercontent.com/cd/0/inline/A_5xE0RsvD01gI9HNXK92J4iRvObwDI78J8e_deZMa-5OkUMhHufMzhsOGe1pFSQMv00gwECkIVMoZjDDCFykalY9ExF-3oERBxhZbmQnGswMsg1N2MDHNXuWHNqA9sCn0U/file# [following]\n",
            "--2020-09-23 01:23:44--  https://ucfb05bf2f1a37b0933b4ff84d3c.dl.dropboxusercontent.com/cd/0/inline/A_5xE0RsvD01gI9HNXK92J4iRvObwDI78J8e_deZMa-5OkUMhHufMzhsOGe1pFSQMv00gwECkIVMoZjDDCFykalY9ExF-3oERBxhZbmQnGswMsg1N2MDHNXuWHNqA9sCn0U/file\n",
            "Resolving ucfb05bf2f1a37b0933b4ff84d3c.dl.dropboxusercontent.com (ucfb05bf2f1a37b0933b4ff84d3c.dl.dropboxusercontent.com)... 162.125.5.15, 2620:100:601d:15::a27d:50f\n",
            "Connecting to ucfb05bf2f1a37b0933b4ff84d3c.dl.dropboxusercontent.com (ucfb05bf2f1a37b0933b4ff84d3c.dl.dropboxusercontent.com)|162.125.5.15|:443... connected.\n",
            "HTTP request sent, awaiting response... 200 OK\n",
            "Length: 1890 (1.8K) [text/plain]\n",
            "Saving to: ‘MCU2.csv.1’\n",
            "\n",
            "MCU2.csv.1          100%[===================>]   1.85K  --.-KB/s    in 0s      \n",
            "\n",
            "2020-09-23 01:23:44 (242 MB/s) - ‘MCU2.csv.1’ saved [1890/1890]\n",
            "\n"
          ],
          "name": "stdout"
        }
      ]
    },
    {
      "cell_type": "code",
      "metadata": {
        "id": "ne3gHVTelYR3",
        "colab_type": "code",
        "colab": {
          "base_uri": "https://localhost:8080/",
          "height": 34
        },
        "outputId": "3c0ed98c-506f-4b91-d1bf-90f62cb536d5"
      },
      "source": [
        "# Listar los archivos del directorio\n",
        "! ls"
      ],
      "execution_count": null,
      "outputs": [
        {
          "output_type": "stream",
          "text": [
            "MCU2.csv  MCU2.csv.1  sample_data\n"
          ],
          "name": "stdout"
        }
      ]
    },
    {
      "cell_type": "code",
      "metadata": {
        "id": "m-k5X7Fll6lY",
        "colab_type": "code",
        "colab": {}
      },
      "source": [
        "df_mcu = pd.read_csv('MCU2.csv')"
      ],
      "execution_count": null,
      "outputs": []
    },
    {
      "cell_type": "code",
      "metadata": {
        "id": "FVZbvgaxKIEa",
        "colab_type": "code",
        "colab": {
          "base_uri": "https://localhost:8080/",
          "height": 124
        },
        "outputId": "35033726-a844-4f3d-9854-2256826b94e3"
      },
      "source": [
        "! head -n 5 MCU2.csv"
      ],
      "execution_count": null,
      "outputs": [
        {
          "output_type": "stream",
          "text": [
            "Iron Man,The Incredible Hulk,Iron Man 2,Thor,Capitán América: el primer vengador,The Avengers,Iron Man 3,Thor: The Dark World,Captain America: The Winter Soldier,Guardianes de la Galaxia,Avengers: Age of Ultron,Ant-Man,Captain America: Civil War,Doctor Strange,Guardianes de la Galaxia Vol. 2,Spider-Man: Homecoming,Thor: Ragnarok,Black Panther,Avengers: Infinity War,Ant-Man and The Wasp\n",
            "17,12,14,13,11,18,4,5,6,16,17,10,19,17,7,6,10,8,20,9\n",
            "8,1,7,1,7,8,7,3,8,9,7,9,8,9,9,9,9,8,9,9\n",
            "20,13,6,7,11,19,9,5,17,20,20,17,20,10,6,6,4,17,18,8\n",
            "18,10,19,15,5,16,18,16,8,18,,,18,,16,10,,,17,\n"
          ],
          "name": "stdout"
        }
      ]
    },
    {
      "cell_type": "code",
      "metadata": {
        "id": "IcLFwI1bQzX-",
        "colab_type": "code",
        "colab": {
          "base_uri": "https://localhost:8080/",
          "height": 486
        },
        "outputId": "2ffd2ffb-fd2e-4e8e-f942-282b24db8942"
      },
      "source": [
        "df_mcu.info()"
      ],
      "execution_count": null,
      "outputs": [
        {
          "output_type": "stream",
          "text": [
            "<class 'pandas.core.frame.DataFrame'>\n",
            "RangeIndex: 30 entries, 0 to 29\n",
            "Data columns (total 20 columns):\n",
            " #   Column                               Non-Null Count  Dtype  \n",
            "---  ------                               --------------  -----  \n",
            " 0   Iron Man                             27 non-null     float64\n",
            " 1   The Incredible Hulk                  26 non-null     float64\n",
            " 2   Iron Man 2                           29 non-null     float64\n",
            " 3   Thor                                 28 non-null     float64\n",
            " 4   Capitán América: el primer vengador  28 non-null     float64\n",
            " 5   The Avengers                         30 non-null     int64  \n",
            " 6   Iron Man 3                           26 non-null     float64\n",
            " 7   Thor: The Dark World                 28 non-null     float64\n",
            " 8   Captain America: The Winter Soldier  28 non-null     float64\n",
            " 9   Guardianes de la Galaxia             29 non-null     float64\n",
            " 10  Avengers: Age of Ultron              28 non-null     float64\n",
            " 11  Ant-Man                              27 non-null     float64\n",
            " 12  Captain America: Civil War           27 non-null     float64\n",
            " 13  Doctor Strange                       28 non-null     float64\n",
            " 14  Guardianes de la Galaxia Vol. 2      27 non-null     float64\n",
            " 15  Spider-Man: Homecoming               26 non-null     float64\n",
            " 16  Thor: Ragnarok                       28 non-null     float64\n",
            " 17  Black Panther                        28 non-null     float64\n",
            " 18  Avengers: Infinity War               30 non-null     int64  \n",
            " 19  Ant-Man and The Wasp                 20 non-null     float64\n",
            "dtypes: float64(18), int64(2)\n",
            "memory usage: 4.8 KB\n"
          ],
          "name": "stdout"
        }
      ]
    },
    {
      "cell_type": "code",
      "metadata": {
        "id": "qkxUyK7yWfiM",
        "colab_type": "code",
        "colab": {
          "base_uri": "https://localhost:8080/",
          "height": 359
        },
        "outputId": "8dd66848-351c-47c7-a807-85b2a43a74d2"
      },
      "source": [
        "# Valores originales\n",
        "'''\n",
        "columnas: Peliculas de Marvel\n",
        "calificación: de 0 - 20\n",
        "\n",
        "El individuo 3 no vio: Ant-Man, Avengers: Age of Ultron\n",
        "'''\n",
        "df_mcu.head(7)"
      ],
      "execution_count": null,
      "outputs": [
        {
          "output_type": "execute_result",
          "data": {
            "text/html": [
              "<div>\n",
              "<style scoped>\n",
              "    .dataframe tbody tr th:only-of-type {\n",
              "        vertical-align: middle;\n",
              "    }\n",
              "\n",
              "    .dataframe tbody tr th {\n",
              "        vertical-align: top;\n",
              "    }\n",
              "\n",
              "    .dataframe thead th {\n",
              "        text-align: right;\n",
              "    }\n",
              "</style>\n",
              "<table border=\"1\" class=\"dataframe\">\n",
              "  <thead>\n",
              "    <tr style=\"text-align: right;\">\n",
              "      <th></th>\n",
              "      <th>Iron Man</th>\n",
              "      <th>The Incredible Hulk</th>\n",
              "      <th>Iron Man 2</th>\n",
              "      <th>Thor</th>\n",
              "      <th>Capitán América: el primer vengador</th>\n",
              "      <th>The Avengers</th>\n",
              "      <th>Iron Man 3</th>\n",
              "      <th>Thor: The Dark World</th>\n",
              "      <th>Captain America: The Winter Soldier</th>\n",
              "      <th>Guardianes de la Galaxia</th>\n",
              "      <th>Avengers: Age of Ultron</th>\n",
              "      <th>Ant-Man</th>\n",
              "      <th>Captain America: Civil War</th>\n",
              "      <th>Doctor Strange</th>\n",
              "      <th>Guardianes de la Galaxia Vol. 2</th>\n",
              "      <th>Spider-Man: Homecoming</th>\n",
              "      <th>Thor: Ragnarok</th>\n",
              "      <th>Black Panther</th>\n",
              "      <th>Avengers: Infinity War</th>\n",
              "      <th>Ant-Man and The Wasp</th>\n",
              "    </tr>\n",
              "  </thead>\n",
              "  <tbody>\n",
              "    <tr>\n",
              "      <th>0</th>\n",
              "      <td>17.0</td>\n",
              "      <td>12.0</td>\n",
              "      <td>14.0</td>\n",
              "      <td>13.0</td>\n",
              "      <td>11.0</td>\n",
              "      <td>18</td>\n",
              "      <td>4.0</td>\n",
              "      <td>5.0</td>\n",
              "      <td>6.0</td>\n",
              "      <td>16.0</td>\n",
              "      <td>17.0</td>\n",
              "      <td>10.0</td>\n",
              "      <td>19.0</td>\n",
              "      <td>17.0</td>\n",
              "      <td>7.0</td>\n",
              "      <td>6.0</td>\n",
              "      <td>10.0</td>\n",
              "      <td>8.0</td>\n",
              "      <td>20</td>\n",
              "      <td>9.0</td>\n",
              "    </tr>\n",
              "    <tr>\n",
              "      <th>1</th>\n",
              "      <td>8.0</td>\n",
              "      <td>1.0</td>\n",
              "      <td>7.0</td>\n",
              "      <td>1.0</td>\n",
              "      <td>7.0</td>\n",
              "      <td>8</td>\n",
              "      <td>7.0</td>\n",
              "      <td>3.0</td>\n",
              "      <td>8.0</td>\n",
              "      <td>9.0</td>\n",
              "      <td>7.0</td>\n",
              "      <td>9.0</td>\n",
              "      <td>8.0</td>\n",
              "      <td>9.0</td>\n",
              "      <td>9.0</td>\n",
              "      <td>9.0</td>\n",
              "      <td>9.0</td>\n",
              "      <td>8.0</td>\n",
              "      <td>9</td>\n",
              "      <td>9.0</td>\n",
              "    </tr>\n",
              "    <tr>\n",
              "      <th>2</th>\n",
              "      <td>20.0</td>\n",
              "      <td>13.0</td>\n",
              "      <td>6.0</td>\n",
              "      <td>7.0</td>\n",
              "      <td>11.0</td>\n",
              "      <td>19</td>\n",
              "      <td>9.0</td>\n",
              "      <td>5.0</td>\n",
              "      <td>17.0</td>\n",
              "      <td>20.0</td>\n",
              "      <td>20.0</td>\n",
              "      <td>17.0</td>\n",
              "      <td>20.0</td>\n",
              "      <td>10.0</td>\n",
              "      <td>6.0</td>\n",
              "      <td>6.0</td>\n",
              "      <td>4.0</td>\n",
              "      <td>17.0</td>\n",
              "      <td>18</td>\n",
              "      <td>8.0</td>\n",
              "    </tr>\n",
              "    <tr>\n",
              "      <th>3</th>\n",
              "      <td>18.0</td>\n",
              "      <td>10.0</td>\n",
              "      <td>19.0</td>\n",
              "      <td>15.0</td>\n",
              "      <td>5.0</td>\n",
              "      <td>16</td>\n",
              "      <td>18.0</td>\n",
              "      <td>16.0</td>\n",
              "      <td>8.0</td>\n",
              "      <td>18.0</td>\n",
              "      <td>NaN</td>\n",
              "      <td>NaN</td>\n",
              "      <td>18.0</td>\n",
              "      <td>NaN</td>\n",
              "      <td>16.0</td>\n",
              "      <td>10.0</td>\n",
              "      <td>NaN</td>\n",
              "      <td>NaN</td>\n",
              "      <td>17</td>\n",
              "      <td>NaN</td>\n",
              "    </tr>\n",
              "    <tr>\n",
              "      <th>4</th>\n",
              "      <td>NaN</td>\n",
              "      <td>3.0</td>\n",
              "      <td>2.0</td>\n",
              "      <td>4.0</td>\n",
              "      <td>5.0</td>\n",
              "      <td>10</td>\n",
              "      <td>1.0</td>\n",
              "      <td>6.0</td>\n",
              "      <td>20.0</td>\n",
              "      <td>14.0</td>\n",
              "      <td>7.0</td>\n",
              "      <td>15.0</td>\n",
              "      <td>8.0</td>\n",
              "      <td>19.0</td>\n",
              "      <td>9.0</td>\n",
              "      <td>11.0</td>\n",
              "      <td>10.0</td>\n",
              "      <td>17.0</td>\n",
              "      <td>16</td>\n",
              "      <td>NaN</td>\n",
              "    </tr>\n",
              "    <tr>\n",
              "      <th>5</th>\n",
              "      <td>13.0</td>\n",
              "      <td>NaN</td>\n",
              "      <td>8.0</td>\n",
              "      <td>10.0</td>\n",
              "      <td>9.0</td>\n",
              "      <td>17</td>\n",
              "      <td>14.0</td>\n",
              "      <td>12.0</td>\n",
              "      <td>14.0</td>\n",
              "      <td>16.0</td>\n",
              "      <td>14.0</td>\n",
              "      <td>10.0</td>\n",
              "      <td>19.0</td>\n",
              "      <td>17.0</td>\n",
              "      <td>8.0</td>\n",
              "      <td>5.0</td>\n",
              "      <td>3.0</td>\n",
              "      <td>12.0</td>\n",
              "      <td>20</td>\n",
              "      <td>NaN</td>\n",
              "    </tr>\n",
              "    <tr>\n",
              "      <th>6</th>\n",
              "      <td>17.0</td>\n",
              "      <td>13.0</td>\n",
              "      <td>14.0</td>\n",
              "      <td>19.0</td>\n",
              "      <td>20.0</td>\n",
              "      <td>20</td>\n",
              "      <td>10.0</td>\n",
              "      <td>19.0</td>\n",
              "      <td>20.0</td>\n",
              "      <td>20.0</td>\n",
              "      <td>17.0</td>\n",
              "      <td>19.0</td>\n",
              "      <td>20.0</td>\n",
              "      <td>20.0</td>\n",
              "      <td>20.0</td>\n",
              "      <td>20.0</td>\n",
              "      <td>17.0</td>\n",
              "      <td>20.0</td>\n",
              "      <td>20</td>\n",
              "      <td>19.0</td>\n",
              "    </tr>\n",
              "  </tbody>\n",
              "</table>\n",
              "</div>"
            ],
            "text/plain": [
              "   Iron Man  The Incredible Hulk  ...  Avengers: Infinity War  Ant-Man and The Wasp\n",
              "0      17.0                 12.0  ...                      20                   9.0\n",
              "1       8.0                  1.0  ...                       9                   9.0\n",
              "2      20.0                 13.0  ...                      18                   8.0\n",
              "3      18.0                 10.0  ...                      17                   NaN\n",
              "4       NaN                  3.0  ...                      16                   NaN\n",
              "5      13.0                  NaN  ...                      20                   NaN\n",
              "6      17.0                 13.0  ...                      20                  19.0\n",
              "\n",
              "[7 rows x 20 columns]"
            ]
          },
          "metadata": {
            "tags": []
          },
          "execution_count": 61
        }
      ]
    },
    {
      "cell_type": "code",
      "metadata": {
        "id": "ZDTyJea_K4bZ",
        "colab_type": "code",
        "colab": {
          "base_uri": "https://localhost:8080/",
          "height": 34
        },
        "outputId": "ba6caa6b-dd3c-4175-abd7-9fabf215a1e8"
      },
      "source": [
        "# Dimenciones de la tabla\n",
        "# 30 filas, 20 columnas\n",
        "df_mcu.shape"
      ],
      "execution_count": null,
      "outputs": [
        {
          "output_type": "execute_result",
          "data": {
            "text/plain": [
              "(30, 20)"
            ]
          },
          "metadata": {
            "tags": []
          },
          "execution_count": 62
        }
      ]
    },
    {
      "cell_type": "code",
      "metadata": {
        "id": "iZYD1ikyLG0q",
        "colab_type": "code",
        "colab": {}
      },
      "source": [
        "# Ver la tabla completa\n",
        "\n",
        "#df_mcu"
      ],
      "execution_count": null,
      "outputs": []
    },
    {
      "cell_type": "markdown",
      "metadata": {
        "id": "valAujXqmL_E",
        "colab_type": "text"
      },
      "source": [
        "### Eliminar las filas con datos faltantes\n",
        "\n",
        "Más información de la función [dropna()](https://pandas.pydata.org/pandas-docs/stable/reference/api/pandas.DataFrame.dropna.html)"
      ]
    },
    {
      "cell_type": "code",
      "metadata": {
        "id": "RJsBAq9Hl8gP",
        "colab_type": "code",
        "colab": {
          "base_uri": "https://localhost:8080/",
          "height": 296
        },
        "outputId": "6084b742-947a-4531-bd7b-f4f1a9a3b0c8"
      },
      "source": [
        "# dropna() busca los espacios donde hay un NaN, al encontrarlo elimina toda\n",
        "# la fila\n",
        "df_mcu2 = df_mcu.dropna()\n",
        "\n",
        "# Elimina las filas que tiene datos faltantes, como el individuo  3 \n",
        "# visto en la tabla original.\n",
        "# dropna() -> No es útil en este caso\n",
        "\n",
        "#df_mcu2    # DESCOMENTAR -> Imprime la tabla completa\n",
        "df_mcu2.head()"
      ],
      "execution_count": null,
      "outputs": [
        {
          "output_type": "execute_result",
          "data": {
            "text/html": [
              "<div>\n",
              "<style scoped>\n",
              "    .dataframe tbody tr th:only-of-type {\n",
              "        vertical-align: middle;\n",
              "    }\n",
              "\n",
              "    .dataframe tbody tr th {\n",
              "        vertical-align: top;\n",
              "    }\n",
              "\n",
              "    .dataframe thead th {\n",
              "        text-align: right;\n",
              "    }\n",
              "</style>\n",
              "<table border=\"1\" class=\"dataframe\">\n",
              "  <thead>\n",
              "    <tr style=\"text-align: right;\">\n",
              "      <th></th>\n",
              "      <th>Iron Man</th>\n",
              "      <th>The Incredible Hulk</th>\n",
              "      <th>Iron Man 2</th>\n",
              "      <th>Thor</th>\n",
              "      <th>Capitán América: el primer vengador</th>\n",
              "      <th>The Avengers</th>\n",
              "      <th>Iron Man 3</th>\n",
              "      <th>Thor: The Dark World</th>\n",
              "      <th>Captain America: The Winter Soldier</th>\n",
              "      <th>Guardianes de la Galaxia</th>\n",
              "      <th>Avengers: Age of Ultron</th>\n",
              "      <th>Ant-Man</th>\n",
              "      <th>Captain America: Civil War</th>\n",
              "      <th>Doctor Strange</th>\n",
              "      <th>Guardianes de la Galaxia Vol. 2</th>\n",
              "      <th>Spider-Man: Homecoming</th>\n",
              "      <th>Thor: Ragnarok</th>\n",
              "      <th>Black Panther</th>\n",
              "      <th>Avengers: Infinity War</th>\n",
              "      <th>Ant-Man and The Wasp</th>\n",
              "    </tr>\n",
              "  </thead>\n",
              "  <tbody>\n",
              "    <tr>\n",
              "      <th>0</th>\n",
              "      <td>17.0</td>\n",
              "      <td>12.0</td>\n",
              "      <td>14.0</td>\n",
              "      <td>13.0</td>\n",
              "      <td>11.0</td>\n",
              "      <td>18</td>\n",
              "      <td>4.0</td>\n",
              "      <td>5.0</td>\n",
              "      <td>6.0</td>\n",
              "      <td>16.0</td>\n",
              "      <td>17.0</td>\n",
              "      <td>10.0</td>\n",
              "      <td>19.0</td>\n",
              "      <td>17.0</td>\n",
              "      <td>7.0</td>\n",
              "      <td>6.0</td>\n",
              "      <td>10.0</td>\n",
              "      <td>8.0</td>\n",
              "      <td>20</td>\n",
              "      <td>9.0</td>\n",
              "    </tr>\n",
              "    <tr>\n",
              "      <th>1</th>\n",
              "      <td>8.0</td>\n",
              "      <td>1.0</td>\n",
              "      <td>7.0</td>\n",
              "      <td>1.0</td>\n",
              "      <td>7.0</td>\n",
              "      <td>8</td>\n",
              "      <td>7.0</td>\n",
              "      <td>3.0</td>\n",
              "      <td>8.0</td>\n",
              "      <td>9.0</td>\n",
              "      <td>7.0</td>\n",
              "      <td>9.0</td>\n",
              "      <td>8.0</td>\n",
              "      <td>9.0</td>\n",
              "      <td>9.0</td>\n",
              "      <td>9.0</td>\n",
              "      <td>9.0</td>\n",
              "      <td>8.0</td>\n",
              "      <td>9</td>\n",
              "      <td>9.0</td>\n",
              "    </tr>\n",
              "    <tr>\n",
              "      <th>2</th>\n",
              "      <td>20.0</td>\n",
              "      <td>13.0</td>\n",
              "      <td>6.0</td>\n",
              "      <td>7.0</td>\n",
              "      <td>11.0</td>\n",
              "      <td>19</td>\n",
              "      <td>9.0</td>\n",
              "      <td>5.0</td>\n",
              "      <td>17.0</td>\n",
              "      <td>20.0</td>\n",
              "      <td>20.0</td>\n",
              "      <td>17.0</td>\n",
              "      <td>20.0</td>\n",
              "      <td>10.0</td>\n",
              "      <td>6.0</td>\n",
              "      <td>6.0</td>\n",
              "      <td>4.0</td>\n",
              "      <td>17.0</td>\n",
              "      <td>18</td>\n",
              "      <td>8.0</td>\n",
              "    </tr>\n",
              "    <tr>\n",
              "      <th>6</th>\n",
              "      <td>17.0</td>\n",
              "      <td>13.0</td>\n",
              "      <td>14.0</td>\n",
              "      <td>19.0</td>\n",
              "      <td>20.0</td>\n",
              "      <td>20</td>\n",
              "      <td>10.0</td>\n",
              "      <td>19.0</td>\n",
              "      <td>20.0</td>\n",
              "      <td>20.0</td>\n",
              "      <td>17.0</td>\n",
              "      <td>19.0</td>\n",
              "      <td>20.0</td>\n",
              "      <td>20.0</td>\n",
              "      <td>20.0</td>\n",
              "      <td>20.0</td>\n",
              "      <td>17.0</td>\n",
              "      <td>20.0</td>\n",
              "      <td>20</td>\n",
              "      <td>19.0</td>\n",
              "    </tr>\n",
              "    <tr>\n",
              "      <th>7</th>\n",
              "      <td>10.0</td>\n",
              "      <td>11.0</td>\n",
              "      <td>12.0</td>\n",
              "      <td>9.0</td>\n",
              "      <td>8.0</td>\n",
              "      <td>19</td>\n",
              "      <td>7.0</td>\n",
              "      <td>16.0</td>\n",
              "      <td>6.0</td>\n",
              "      <td>15.0</td>\n",
              "      <td>18.0</td>\n",
              "      <td>13.0</td>\n",
              "      <td>5.0</td>\n",
              "      <td>4.0</td>\n",
              "      <td>3.0</td>\n",
              "      <td>14.0</td>\n",
              "      <td>2.0</td>\n",
              "      <td>1.0</td>\n",
              "      <td>20</td>\n",
              "      <td>17.0</td>\n",
              "    </tr>\n",
              "  </tbody>\n",
              "</table>\n",
              "</div>"
            ],
            "text/plain": [
              "   Iron Man  The Incredible Hulk  ...  Avengers: Infinity War  Ant-Man and The Wasp\n",
              "0      17.0                 12.0  ...                      20                   9.0\n",
              "1       8.0                  1.0  ...                       9                   9.0\n",
              "2      20.0                 13.0  ...                      18                   8.0\n",
              "6      17.0                 13.0  ...                      20                  19.0\n",
              "7      10.0                 11.0  ...                      20                  17.0\n",
              "\n",
              "[5 rows x 20 columns]"
            ]
          },
          "metadata": {
            "tags": []
          },
          "execution_count": 64
        }
      ]
    },
    {
      "cell_type": "code",
      "metadata": {
        "id": "6nkysqyAMNUt",
        "colab_type": "code",
        "colab": {
          "base_uri": "https://localhost:8080/",
          "height": 34
        },
        "outputId": "896b37eb-ad16-438b-d4ae-36115563a2b4"
      },
      "source": [
        "# Se eliminaron 30 filas\n",
        "df_mcu2.shape"
      ],
      "execution_count": null,
      "outputs": [
        {
          "output_type": "execute_result",
          "data": {
            "text/plain": [
              "(15, 20)"
            ]
          },
          "metadata": {
            "tags": []
          },
          "execution_count": 65
        }
      ]
    },
    {
      "cell_type": "markdown",
      "metadata": {
        "id": "2di3yjeGPypb",
        "colab_type": "text"
      },
      "source": [
        "**Recordando conceptos básicos**\n",
        "\n",
        "![MMM](https://cdn.slidesharecdn.com/ss_thumbnails/medidasdetendenciacentral-151117175529-lva1-app6892-thumbnail-4.jpg?cb=1447782967)"
      ]
    },
    {
      "cell_type": "markdown",
      "metadata": {
        "id": "SmQD7Hy1QHjc",
        "colab_type": "text"
      },
      "source": [
        "![grafica](https://2.bp.blogspot.com/-6jT0-qB3ZwQ/UrOZrH-6qWI/AAAAAAAABwo/GQXsH1YVaSw/s320/Nueva+imagen+(4).bmp)"
      ]
    },
    {
      "cell_type": "markdown",
      "metadata": {
        "id": "C0PGnq9boRwk",
        "colab_type": "text"
      },
      "source": [
        "### Imputación por la media\n",
        "\n",
        "Más información de la función [mean()](https://www.geeksforgeeks.org/python-statistics-mean-function/)"
      ]
    },
    {
      "cell_type": "code",
      "metadata": {
        "id": "g_bNI0B-XFqQ",
        "colab_type": "code",
        "colab": {
          "base_uri": "https://localhost:8080/",
          "height": 364
        },
        "outputId": "9f72a648-dd81-4185-da6c-afb1c470fcfd"
      },
      "source": [
        "# mean(axis)\n",
        "# axis = 0 Es el valor por defecto, calcula la media de cada columna\n",
        "# axis = 1 La media de cada fila, en este caso la apreciación de un usuario en\n",
        "#          específico sobre todas las películas\n",
        "\n",
        "dc_mean = df_mcu.mean().to_dict()\n",
        "# Se crea un diccionario donde:\n",
        "# Llave: Nombre de la película\n",
        "# Valor: Media de las calificaciones de la película\n",
        "\n",
        "# Imprimimos el diccionario obtenido\n",
        "dc_mean"
      ],
      "execution_count": null,
      "outputs": [
        {
          "output_type": "execute_result",
          "data": {
            "text/plain": [
              "{'Ant-Man': 11.148148148148149,\n",
              " 'Ant-Man and The Wasp': 11.8,\n",
              " 'Avengers: Age of Ultron': 11.571428571428571,\n",
              " 'Avengers: Infinity War': 17.133333333333333,\n",
              " 'Black Panther': 12.928571428571429,\n",
              " 'Capitán América: el primer vengador': 10.678571428571429,\n",
              " 'Captain America: Civil War': 14.666666666666666,\n",
              " 'Captain America: The Winter Soldier': 13.107142857142858,\n",
              " 'Doctor Strange': 13.607142857142858,\n",
              " 'Guardianes de la Galaxia': 13.96551724137931,\n",
              " 'Guardianes de la Galaxia Vol. 2': 9.962962962962964,\n",
              " 'Iron Man': 13.555555555555555,\n",
              " 'Iron Man 2': 9.689655172413794,\n",
              " 'Iron Man 3': 8.23076923076923,\n",
              " 'Spider-Man: Homecoming': 11.423076923076923,\n",
              " 'The Avengers': 14.233333333333333,\n",
              " 'The Incredible Hulk': 6.423076923076923,\n",
              " 'Thor': 7.928571428571429,\n",
              " 'Thor: Ragnarok': 11.392857142857142,\n",
              " 'Thor: The Dark World': 7.714285714285714}"
            ]
          },
          "metadata": {
            "tags": []
          },
          "execution_count": 66
        }
      ]
    },
    {
      "cell_type": "markdown",
      "metadata": {
        "id": "q7d4R13BazOM",
        "colab_type": "text"
      },
      "source": [
        "La función [fillna(method)]() rellena los valores NA/NAN utilizando el método especificado."
      ]
    },
    {
      "cell_type": "code",
      "metadata": {
        "id": "McZ4sa0UoW7U",
        "colab_type": "code",
        "colab": {
          "base_uri": "https://localhost:8080/",
          "height": 359
        },
        "outputId": "b9c3706b-820d-4946-de12-6d8c16254568"
      },
      "source": [
        "# Rellenar valores faltantes de cada columna con la media correspondiente a esta\n",
        "df_mcu3 = df_mcu.fillna(dc_mean)\n",
        "df_mcu3.head(7)"
      ],
      "execution_count": null,
      "outputs": [
        {
          "output_type": "execute_result",
          "data": {
            "text/html": [
              "<div>\n",
              "<style scoped>\n",
              "    .dataframe tbody tr th:only-of-type {\n",
              "        vertical-align: middle;\n",
              "    }\n",
              "\n",
              "    .dataframe tbody tr th {\n",
              "        vertical-align: top;\n",
              "    }\n",
              "\n",
              "    .dataframe thead th {\n",
              "        text-align: right;\n",
              "    }\n",
              "</style>\n",
              "<table border=\"1\" class=\"dataframe\">\n",
              "  <thead>\n",
              "    <tr style=\"text-align: right;\">\n",
              "      <th></th>\n",
              "      <th>Iron Man</th>\n",
              "      <th>The Incredible Hulk</th>\n",
              "      <th>Iron Man 2</th>\n",
              "      <th>Thor</th>\n",
              "      <th>Capitán América: el primer vengador</th>\n",
              "      <th>The Avengers</th>\n",
              "      <th>Iron Man 3</th>\n",
              "      <th>Thor: The Dark World</th>\n",
              "      <th>Captain America: The Winter Soldier</th>\n",
              "      <th>Guardianes de la Galaxia</th>\n",
              "      <th>Avengers: Age of Ultron</th>\n",
              "      <th>Ant-Man</th>\n",
              "      <th>Captain America: Civil War</th>\n",
              "      <th>Doctor Strange</th>\n",
              "      <th>Guardianes de la Galaxia Vol. 2</th>\n",
              "      <th>Spider-Man: Homecoming</th>\n",
              "      <th>Thor: Ragnarok</th>\n",
              "      <th>Black Panther</th>\n",
              "      <th>Avengers: Infinity War</th>\n",
              "      <th>Ant-Man and The Wasp</th>\n",
              "    </tr>\n",
              "  </thead>\n",
              "  <tbody>\n",
              "    <tr>\n",
              "      <th>0</th>\n",
              "      <td>17.000000</td>\n",
              "      <td>12.000000</td>\n",
              "      <td>14.0</td>\n",
              "      <td>13.0</td>\n",
              "      <td>11.0</td>\n",
              "      <td>18</td>\n",
              "      <td>4.0</td>\n",
              "      <td>5.0</td>\n",
              "      <td>6.0</td>\n",
              "      <td>16.0</td>\n",
              "      <td>17.000000</td>\n",
              "      <td>10.000000</td>\n",
              "      <td>19.0</td>\n",
              "      <td>17.000000</td>\n",
              "      <td>7.0</td>\n",
              "      <td>6.0</td>\n",
              "      <td>10.000000</td>\n",
              "      <td>8.000000</td>\n",
              "      <td>20</td>\n",
              "      <td>9.0</td>\n",
              "    </tr>\n",
              "    <tr>\n",
              "      <th>1</th>\n",
              "      <td>8.000000</td>\n",
              "      <td>1.000000</td>\n",
              "      <td>7.0</td>\n",
              "      <td>1.0</td>\n",
              "      <td>7.0</td>\n",
              "      <td>8</td>\n",
              "      <td>7.0</td>\n",
              "      <td>3.0</td>\n",
              "      <td>8.0</td>\n",
              "      <td>9.0</td>\n",
              "      <td>7.000000</td>\n",
              "      <td>9.000000</td>\n",
              "      <td>8.0</td>\n",
              "      <td>9.000000</td>\n",
              "      <td>9.0</td>\n",
              "      <td>9.0</td>\n",
              "      <td>9.000000</td>\n",
              "      <td>8.000000</td>\n",
              "      <td>9</td>\n",
              "      <td>9.0</td>\n",
              "    </tr>\n",
              "    <tr>\n",
              "      <th>2</th>\n",
              "      <td>20.000000</td>\n",
              "      <td>13.000000</td>\n",
              "      <td>6.0</td>\n",
              "      <td>7.0</td>\n",
              "      <td>11.0</td>\n",
              "      <td>19</td>\n",
              "      <td>9.0</td>\n",
              "      <td>5.0</td>\n",
              "      <td>17.0</td>\n",
              "      <td>20.0</td>\n",
              "      <td>20.000000</td>\n",
              "      <td>17.000000</td>\n",
              "      <td>20.0</td>\n",
              "      <td>10.000000</td>\n",
              "      <td>6.0</td>\n",
              "      <td>6.0</td>\n",
              "      <td>4.000000</td>\n",
              "      <td>17.000000</td>\n",
              "      <td>18</td>\n",
              "      <td>8.0</td>\n",
              "    </tr>\n",
              "    <tr>\n",
              "      <th>3</th>\n",
              "      <td>18.000000</td>\n",
              "      <td>10.000000</td>\n",
              "      <td>19.0</td>\n",
              "      <td>15.0</td>\n",
              "      <td>5.0</td>\n",
              "      <td>16</td>\n",
              "      <td>18.0</td>\n",
              "      <td>16.0</td>\n",
              "      <td>8.0</td>\n",
              "      <td>18.0</td>\n",
              "      <td>11.571429</td>\n",
              "      <td>11.148148</td>\n",
              "      <td>18.0</td>\n",
              "      <td>13.607143</td>\n",
              "      <td>16.0</td>\n",
              "      <td>10.0</td>\n",
              "      <td>11.392857</td>\n",
              "      <td>12.928571</td>\n",
              "      <td>17</td>\n",
              "      <td>11.8</td>\n",
              "    </tr>\n",
              "    <tr>\n",
              "      <th>4</th>\n",
              "      <td>13.555556</td>\n",
              "      <td>3.000000</td>\n",
              "      <td>2.0</td>\n",
              "      <td>4.0</td>\n",
              "      <td>5.0</td>\n",
              "      <td>10</td>\n",
              "      <td>1.0</td>\n",
              "      <td>6.0</td>\n",
              "      <td>20.0</td>\n",
              "      <td>14.0</td>\n",
              "      <td>7.000000</td>\n",
              "      <td>15.000000</td>\n",
              "      <td>8.0</td>\n",
              "      <td>19.000000</td>\n",
              "      <td>9.0</td>\n",
              "      <td>11.0</td>\n",
              "      <td>10.000000</td>\n",
              "      <td>17.000000</td>\n",
              "      <td>16</td>\n",
              "      <td>11.8</td>\n",
              "    </tr>\n",
              "    <tr>\n",
              "      <th>5</th>\n",
              "      <td>13.000000</td>\n",
              "      <td>6.423077</td>\n",
              "      <td>8.0</td>\n",
              "      <td>10.0</td>\n",
              "      <td>9.0</td>\n",
              "      <td>17</td>\n",
              "      <td>14.0</td>\n",
              "      <td>12.0</td>\n",
              "      <td>14.0</td>\n",
              "      <td>16.0</td>\n",
              "      <td>14.000000</td>\n",
              "      <td>10.000000</td>\n",
              "      <td>19.0</td>\n",
              "      <td>17.000000</td>\n",
              "      <td>8.0</td>\n",
              "      <td>5.0</td>\n",
              "      <td>3.000000</td>\n",
              "      <td>12.000000</td>\n",
              "      <td>20</td>\n",
              "      <td>11.8</td>\n",
              "    </tr>\n",
              "    <tr>\n",
              "      <th>6</th>\n",
              "      <td>17.000000</td>\n",
              "      <td>13.000000</td>\n",
              "      <td>14.0</td>\n",
              "      <td>19.0</td>\n",
              "      <td>20.0</td>\n",
              "      <td>20</td>\n",
              "      <td>10.0</td>\n",
              "      <td>19.0</td>\n",
              "      <td>20.0</td>\n",
              "      <td>20.0</td>\n",
              "      <td>17.000000</td>\n",
              "      <td>19.000000</td>\n",
              "      <td>20.0</td>\n",
              "      <td>20.000000</td>\n",
              "      <td>20.0</td>\n",
              "      <td>20.0</td>\n",
              "      <td>17.000000</td>\n",
              "      <td>20.000000</td>\n",
              "      <td>20</td>\n",
              "      <td>19.0</td>\n",
              "    </tr>\n",
              "  </tbody>\n",
              "</table>\n",
              "</div>"
            ],
            "text/plain": [
              "    Iron Man  The Incredible Hulk  ...  Avengers: Infinity War  Ant-Man and The Wasp\n",
              "0  17.000000            12.000000  ...                      20                   9.0\n",
              "1   8.000000             1.000000  ...                       9                   9.0\n",
              "2  20.000000            13.000000  ...                      18                   8.0\n",
              "3  18.000000            10.000000  ...                      17                  11.8\n",
              "4  13.555556             3.000000  ...                      16                  11.8\n",
              "5  13.000000             6.423077  ...                      20                  11.8\n",
              "6  17.000000            13.000000  ...                      20                  19.0\n",
              "\n",
              "[7 rows x 20 columns]"
            ]
          },
          "metadata": {
            "tags": []
          },
          "execution_count": 67
        }
      ]
    },
    {
      "cell_type": "markdown",
      "metadata": {
        "id": "Vbmm1YoXome2",
        "colab_type": "text"
      },
      "source": [
        "### Imputación por la mediana\n",
        "\n",
        "[quantile](https://www.geeksforgeeks.org/python-pandas-dataframe-quantile/)"
      ]
    },
    {
      "cell_type": "code",
      "metadata": {
        "id": "CzL3VQdpooVG",
        "colab_type": "code",
        "colab": {
          "base_uri": "https://localhost:8080/",
          "height": 296
        },
        "outputId": "373b88a0-f8c6-41f3-f186-d9c69ead84ee"
      },
      "source": [
        "# Es mejor imputar por la mediana\n",
        "# 50% cuantil\n",
        "dc_median = df_mcu.quantile(.5).to_dict()\n",
        "df_mcu4 = df_mcu.fillna(dc_median)\n",
        "df_mcu4.head()"
      ],
      "execution_count": null,
      "outputs": [
        {
          "output_type": "execute_result",
          "data": {
            "text/html": [
              "<div>\n",
              "<style scoped>\n",
              "    .dataframe tbody tr th:only-of-type {\n",
              "        vertical-align: middle;\n",
              "    }\n",
              "\n",
              "    .dataframe tbody tr th {\n",
              "        vertical-align: top;\n",
              "    }\n",
              "\n",
              "    .dataframe thead th {\n",
              "        text-align: right;\n",
              "    }\n",
              "</style>\n",
              "<table border=\"1\" class=\"dataframe\">\n",
              "  <thead>\n",
              "    <tr style=\"text-align: right;\">\n",
              "      <th></th>\n",
              "      <th>Iron Man</th>\n",
              "      <th>The Incredible Hulk</th>\n",
              "      <th>Iron Man 2</th>\n",
              "      <th>Thor</th>\n",
              "      <th>Capitán América: el primer vengador</th>\n",
              "      <th>The Avengers</th>\n",
              "      <th>Iron Man 3</th>\n",
              "      <th>Thor: The Dark World</th>\n",
              "      <th>Captain America: The Winter Soldier</th>\n",
              "      <th>Guardianes de la Galaxia</th>\n",
              "      <th>Avengers: Age of Ultron</th>\n",
              "      <th>Ant-Man</th>\n",
              "      <th>Captain America: Civil War</th>\n",
              "      <th>Doctor Strange</th>\n",
              "      <th>Guardianes de la Galaxia Vol. 2</th>\n",
              "      <th>Spider-Man: Homecoming</th>\n",
              "      <th>Thor: Ragnarok</th>\n",
              "      <th>Black Panther</th>\n",
              "      <th>Avengers: Infinity War</th>\n",
              "      <th>Ant-Man and The Wasp</th>\n",
              "    </tr>\n",
              "  </thead>\n",
              "  <tbody>\n",
              "    <tr>\n",
              "      <th>0</th>\n",
              "      <td>17.0</td>\n",
              "      <td>12.0</td>\n",
              "      <td>14.0</td>\n",
              "      <td>13.0</td>\n",
              "      <td>11.0</td>\n",
              "      <td>18</td>\n",
              "      <td>4.0</td>\n",
              "      <td>5.0</td>\n",
              "      <td>6.0</td>\n",
              "      <td>16.0</td>\n",
              "      <td>17.0</td>\n",
              "      <td>10.0</td>\n",
              "      <td>19.0</td>\n",
              "      <td>17.0</td>\n",
              "      <td>7.0</td>\n",
              "      <td>6.0</td>\n",
              "      <td>10.0</td>\n",
              "      <td>8.0</td>\n",
              "      <td>20</td>\n",
              "      <td>9.0</td>\n",
              "    </tr>\n",
              "    <tr>\n",
              "      <th>1</th>\n",
              "      <td>8.0</td>\n",
              "      <td>1.0</td>\n",
              "      <td>7.0</td>\n",
              "      <td>1.0</td>\n",
              "      <td>7.0</td>\n",
              "      <td>8</td>\n",
              "      <td>7.0</td>\n",
              "      <td>3.0</td>\n",
              "      <td>8.0</td>\n",
              "      <td>9.0</td>\n",
              "      <td>7.0</td>\n",
              "      <td>9.0</td>\n",
              "      <td>8.0</td>\n",
              "      <td>9.0</td>\n",
              "      <td>9.0</td>\n",
              "      <td>9.0</td>\n",
              "      <td>9.0</td>\n",
              "      <td>8.0</td>\n",
              "      <td>9</td>\n",
              "      <td>9.0</td>\n",
              "    </tr>\n",
              "    <tr>\n",
              "      <th>2</th>\n",
              "      <td>20.0</td>\n",
              "      <td>13.0</td>\n",
              "      <td>6.0</td>\n",
              "      <td>7.0</td>\n",
              "      <td>11.0</td>\n",
              "      <td>19</td>\n",
              "      <td>9.0</td>\n",
              "      <td>5.0</td>\n",
              "      <td>17.0</td>\n",
              "      <td>20.0</td>\n",
              "      <td>20.0</td>\n",
              "      <td>17.0</td>\n",
              "      <td>20.0</td>\n",
              "      <td>10.0</td>\n",
              "      <td>6.0</td>\n",
              "      <td>6.0</td>\n",
              "      <td>4.0</td>\n",
              "      <td>17.0</td>\n",
              "      <td>18</td>\n",
              "      <td>8.0</td>\n",
              "    </tr>\n",
              "    <tr>\n",
              "      <th>3</th>\n",
              "      <td>18.0</td>\n",
              "      <td>10.0</td>\n",
              "      <td>19.0</td>\n",
              "      <td>15.0</td>\n",
              "      <td>5.0</td>\n",
              "      <td>16</td>\n",
              "      <td>18.0</td>\n",
              "      <td>16.0</td>\n",
              "      <td>8.0</td>\n",
              "      <td>18.0</td>\n",
              "      <td>12.5</td>\n",
              "      <td>12.0</td>\n",
              "      <td>18.0</td>\n",
              "      <td>15.5</td>\n",
              "      <td>16.0</td>\n",
              "      <td>10.0</td>\n",
              "      <td>12.0</td>\n",
              "      <td>15.0</td>\n",
              "      <td>17</td>\n",
              "      <td>13.0</td>\n",
              "    </tr>\n",
              "    <tr>\n",
              "      <th>4</th>\n",
              "      <td>15.0</td>\n",
              "      <td>3.0</td>\n",
              "      <td>2.0</td>\n",
              "      <td>4.0</td>\n",
              "      <td>5.0</td>\n",
              "      <td>10</td>\n",
              "      <td>1.0</td>\n",
              "      <td>6.0</td>\n",
              "      <td>20.0</td>\n",
              "      <td>14.0</td>\n",
              "      <td>7.0</td>\n",
              "      <td>15.0</td>\n",
              "      <td>8.0</td>\n",
              "      <td>19.0</td>\n",
              "      <td>9.0</td>\n",
              "      <td>11.0</td>\n",
              "      <td>10.0</td>\n",
              "      <td>17.0</td>\n",
              "      <td>16</td>\n",
              "      <td>13.0</td>\n",
              "    </tr>\n",
              "  </tbody>\n",
              "</table>\n",
              "</div>"
            ],
            "text/plain": [
              "   Iron Man  The Incredible Hulk  ...  Avengers: Infinity War  Ant-Man and The Wasp\n",
              "0      17.0                 12.0  ...                      20                   9.0\n",
              "1       8.0                  1.0  ...                       9                   9.0\n",
              "2      20.0                 13.0  ...                      18                   8.0\n",
              "3      18.0                 10.0  ...                      17                  13.0\n",
              "4      15.0                  3.0  ...                      16                  13.0\n",
              "\n",
              "[5 rows x 20 columns]"
            ]
          },
          "metadata": {
            "tags": []
          },
          "execution_count": 68
        }
      ]
    },
    {
      "cell_type": "markdown",
      "metadata": {
        "id": "KT85z1rVS00U",
        "colab_type": "text"
      },
      "source": [
        "## K vecinos mas cercanos (K-NN k nearest neighbours)\n",
        "\n",
        "[impyute](https://impyute.readthedocs.io/en/master/)"
      ]
    },
    {
      "cell_type": "code",
      "metadata": {
        "id": "F0ZjofLKTDLV",
        "colab_type": "code",
        "colab": {
          "base_uri": "https://localhost:8080/",
          "height": 104
        },
        "outputId": "68b99ed1-e3e6-40ec-e395-93b06de35be1"
      },
      "source": [
        "! pip install impyute"
      ],
      "execution_count": null,
      "outputs": [
        {
          "output_type": "stream",
          "text": [
            "Requirement already satisfied: impyute in /usr/local/lib/python3.6/dist-packages (0.0.8)\n",
            "Requirement already satisfied: scipy in /usr/local/lib/python3.6/dist-packages (from impyute) (1.4.1)\n",
            "Requirement already satisfied: scikit-learn in /usr/local/lib/python3.6/dist-packages (from impyute) (0.22.2.post1)\n",
            "Requirement already satisfied: numpy in /usr/local/lib/python3.6/dist-packages (from impyute) (1.18.5)\n",
            "Requirement already satisfied: joblib>=0.11 in /usr/local/lib/python3.6/dist-packages (from scikit-learn->impyute) (0.16.0)\n"
          ],
          "name": "stdout"
        }
      ]
    },
    {
      "cell_type": "code",
      "metadata": {
        "id": "ALNzS2OHTA5n",
        "colab_type": "code",
        "colab": {}
      },
      "source": [
        "#import sys\n",
        "from impyute.imputation.cs import fast_knn\n",
        "# Cambiar limite de recursion cuando los\n",
        "#sys.setrecursionlimit(100000) "
      ],
      "execution_count": null,
      "outputs": []
    },
    {
      "cell_type": "code",
      "metadata": {
        "id": "9njHWdgGRtiR",
        "colab_type": "code",
        "colab": {}
      },
      "source": [
        "# Array de Numpy\n",
        "#df_mcu.values"
      ],
      "execution_count": null,
      "outputs": []
    },
    {
      "cell_type": "code",
      "metadata": {
        "id": "b3g_edE-R5fE",
        "colab_type": "code",
        "colab": {}
      },
      "source": [
        "# fast_knn retorna una matriz\n",
        "#fast_knn(df_mcu.values, k=10) # k vecinos más cercanos"
      ],
      "execution_count": null,
      "outputs": []
    },
    {
      "cell_type": "code",
      "metadata": {
        "id": "Ktb4_qVESFV9",
        "colab_type": "code",
        "colab": {
          "base_uri": "https://localhost:8080/",
          "height": 296
        },
        "outputId": "453ee0e6-1ffd-4031-85c3-a03162c1f1c5"
      },
      "source": [
        "#Recibe y retorna como parámetro un array de numpy\n",
        "df_mcu5 = fast_knn(df_mcu.values, k=10)\n",
        "\n",
        "# Conventir Matriz a un DataFrame de Pandas, almacenar en -> df_mcu5\n",
        "df_mcu5 = pd.DataFrame(df_mcu5, columns=df_mcu.columns)\n",
        "df_mcu5.head()"
      ],
      "execution_count": null,
      "outputs": [
        {
          "output_type": "execute_result",
          "data": {
            "text/html": [
              "<div>\n",
              "<style scoped>\n",
              "    .dataframe tbody tr th:only-of-type {\n",
              "        vertical-align: middle;\n",
              "    }\n",
              "\n",
              "    .dataframe tbody tr th {\n",
              "        vertical-align: top;\n",
              "    }\n",
              "\n",
              "    .dataframe thead th {\n",
              "        text-align: right;\n",
              "    }\n",
              "</style>\n",
              "<table border=\"1\" class=\"dataframe\">\n",
              "  <thead>\n",
              "    <tr style=\"text-align: right;\">\n",
              "      <th></th>\n",
              "      <th>Iron Man</th>\n",
              "      <th>The Incredible Hulk</th>\n",
              "      <th>Iron Man 2</th>\n",
              "      <th>Thor</th>\n",
              "      <th>Capitán América: el primer vengador</th>\n",
              "      <th>The Avengers</th>\n",
              "      <th>Iron Man 3</th>\n",
              "      <th>Thor: The Dark World</th>\n",
              "      <th>Captain America: The Winter Soldier</th>\n",
              "      <th>Guardianes de la Galaxia</th>\n",
              "      <th>Avengers: Age of Ultron</th>\n",
              "      <th>Ant-Man</th>\n",
              "      <th>Captain America: Civil War</th>\n",
              "      <th>Doctor Strange</th>\n",
              "      <th>Guardianes de la Galaxia Vol. 2</th>\n",
              "      <th>Spider-Man: Homecoming</th>\n",
              "      <th>Thor: Ragnarok</th>\n",
              "      <th>Black Panther</th>\n",
              "      <th>Avengers: Infinity War</th>\n",
              "      <th>Ant-Man and The Wasp</th>\n",
              "    </tr>\n",
              "  </thead>\n",
              "  <tbody>\n",
              "    <tr>\n",
              "      <th>0</th>\n",
              "      <td>17.000000</td>\n",
              "      <td>12.0</td>\n",
              "      <td>14.0</td>\n",
              "      <td>13.0</td>\n",
              "      <td>11.0</td>\n",
              "      <td>18.0</td>\n",
              "      <td>4.0</td>\n",
              "      <td>5.0</td>\n",
              "      <td>6.0</td>\n",
              "      <td>16.0</td>\n",
              "      <td>17.000000</td>\n",
              "      <td>10.000000</td>\n",
              "      <td>19.0</td>\n",
              "      <td>17.000000</td>\n",
              "      <td>7.0</td>\n",
              "      <td>6.0</td>\n",
              "      <td>10.000000</td>\n",
              "      <td>8.000000</td>\n",
              "      <td>20.0</td>\n",
              "      <td>9.000000</td>\n",
              "    </tr>\n",
              "    <tr>\n",
              "      <th>1</th>\n",
              "      <td>8.000000</td>\n",
              "      <td>1.0</td>\n",
              "      <td>7.0</td>\n",
              "      <td>1.0</td>\n",
              "      <td>7.0</td>\n",
              "      <td>8.0</td>\n",
              "      <td>7.0</td>\n",
              "      <td>3.0</td>\n",
              "      <td>8.0</td>\n",
              "      <td>9.0</td>\n",
              "      <td>7.000000</td>\n",
              "      <td>9.000000</td>\n",
              "      <td>8.0</td>\n",
              "      <td>9.000000</td>\n",
              "      <td>9.0</td>\n",
              "      <td>9.0</td>\n",
              "      <td>9.000000</td>\n",
              "      <td>8.000000</td>\n",
              "      <td>9.0</td>\n",
              "      <td>9.000000</td>\n",
              "    </tr>\n",
              "    <tr>\n",
              "      <th>2</th>\n",
              "      <td>20.000000</td>\n",
              "      <td>13.0</td>\n",
              "      <td>6.0</td>\n",
              "      <td>7.0</td>\n",
              "      <td>11.0</td>\n",
              "      <td>19.0</td>\n",
              "      <td>9.0</td>\n",
              "      <td>5.0</td>\n",
              "      <td>17.0</td>\n",
              "      <td>20.0</td>\n",
              "      <td>20.000000</td>\n",
              "      <td>17.000000</td>\n",
              "      <td>20.0</td>\n",
              "      <td>10.000000</td>\n",
              "      <td>6.0</td>\n",
              "      <td>6.0</td>\n",
              "      <td>4.000000</td>\n",
              "      <td>17.000000</td>\n",
              "      <td>18.0</td>\n",
              "      <td>8.000000</td>\n",
              "    </tr>\n",
              "    <tr>\n",
              "      <th>3</th>\n",
              "      <td>18.000000</td>\n",
              "      <td>10.0</td>\n",
              "      <td>19.0</td>\n",
              "      <td>15.0</td>\n",
              "      <td>5.0</td>\n",
              "      <td>16.0</td>\n",
              "      <td>18.0</td>\n",
              "      <td>16.0</td>\n",
              "      <td>8.0</td>\n",
              "      <td>18.0</td>\n",
              "      <td>14.454512</td>\n",
              "      <td>12.869104</td>\n",
              "      <td>18.0</td>\n",
              "      <td>16.105745</td>\n",
              "      <td>16.0</td>\n",
              "      <td>10.0</td>\n",
              "      <td>11.919205</td>\n",
              "      <td>12.599674</td>\n",
              "      <td>17.0</td>\n",
              "      <td>13.518933</td>\n",
              "    </tr>\n",
              "    <tr>\n",
              "      <th>4</th>\n",
              "      <td>12.858728</td>\n",
              "      <td>3.0</td>\n",
              "      <td>2.0</td>\n",
              "      <td>4.0</td>\n",
              "      <td>5.0</td>\n",
              "      <td>10.0</td>\n",
              "      <td>1.0</td>\n",
              "      <td>6.0</td>\n",
              "      <td>20.0</td>\n",
              "      <td>14.0</td>\n",
              "      <td>7.000000</td>\n",
              "      <td>15.000000</td>\n",
              "      <td>8.0</td>\n",
              "      <td>19.000000</td>\n",
              "      <td>9.0</td>\n",
              "      <td>11.0</td>\n",
              "      <td>10.000000</td>\n",
              "      <td>17.000000</td>\n",
              "      <td>16.0</td>\n",
              "      <td>11.475344</td>\n",
              "    </tr>\n",
              "  </tbody>\n",
              "</table>\n",
              "</div>"
            ],
            "text/plain": [
              "    Iron Man  The Incredible Hulk  ...  Avengers: Infinity War  Ant-Man and The Wasp\n",
              "0  17.000000                 12.0  ...                    20.0              9.000000\n",
              "1   8.000000                  1.0  ...                     9.0              9.000000\n",
              "2  20.000000                 13.0  ...                    18.0              8.000000\n",
              "3  18.000000                 10.0  ...                    17.0             13.518933\n",
              "4  12.858728                  3.0  ...                    16.0             11.475344\n",
              "\n",
              "[5 rows x 20 columns]"
            ]
          },
          "metadata": {
            "tags": []
          },
          "execution_count": 73
        }
      ]
    },
    {
      "cell_type": "markdown",
      "metadata": {
        "id": "QmVhMLIAVuH2",
        "colab_type": "text"
      },
      "source": [
        "## Mice\n",
        "\n",
        "[Mice](https://impyute.readthedocs.io/en/latest/_modules/impyute/imputation/cs/mice.html) crea múltiples imputaciones, los analisa y luego retorna la mejor imputación.\n",
        "\n",
        "[Link](https://www.jstatsoft.org/article/view/v045i03 ) del paper visto en clase"
      ]
    },
    {
      "cell_type": "code",
      "metadata": {
        "id": "1UkQqVkzVysw",
        "colab_type": "code",
        "colab": {
          "base_uri": "https://localhost:8080/",
          "height": 296
        },
        "outputId": "7f2f8b49-93db-439f-a538-d104e9e96935"
      },
      "source": [
        "from impyute.imputation.cs import mice\n",
        "\n",
        "# df_mcu.values -> Array de Numpy\n",
        "df_mcu6 = mice(df_mcu.values) # mice retorna una matriz y se asigna a df_mcu6\n",
        "df_mcu6 = pd.DataFrame(df_mcu6, columns=df_mcu.columns)\n",
        "df_mcu6.head()"
      ],
      "execution_count": null,
      "outputs": [
        {
          "output_type": "execute_result",
          "data": {
            "text/html": [
              "<div>\n",
              "<style scoped>\n",
              "    .dataframe tbody tr th:only-of-type {\n",
              "        vertical-align: middle;\n",
              "    }\n",
              "\n",
              "    .dataframe tbody tr th {\n",
              "        vertical-align: top;\n",
              "    }\n",
              "\n",
              "    .dataframe thead th {\n",
              "        text-align: right;\n",
              "    }\n",
              "</style>\n",
              "<table border=\"1\" class=\"dataframe\">\n",
              "  <thead>\n",
              "    <tr style=\"text-align: right;\">\n",
              "      <th></th>\n",
              "      <th>Iron Man</th>\n",
              "      <th>The Incredible Hulk</th>\n",
              "      <th>Iron Man 2</th>\n",
              "      <th>Thor</th>\n",
              "      <th>Capitán América: el primer vengador</th>\n",
              "      <th>The Avengers</th>\n",
              "      <th>Iron Man 3</th>\n",
              "      <th>Thor: The Dark World</th>\n",
              "      <th>Captain America: The Winter Soldier</th>\n",
              "      <th>Guardianes de la Galaxia</th>\n",
              "      <th>Avengers: Age of Ultron</th>\n",
              "      <th>Ant-Man</th>\n",
              "      <th>Captain America: Civil War</th>\n",
              "      <th>Doctor Strange</th>\n",
              "      <th>Guardianes de la Galaxia Vol. 2</th>\n",
              "      <th>Spider-Man: Homecoming</th>\n",
              "      <th>Thor: Ragnarok</th>\n",
              "      <th>Black Panther</th>\n",
              "      <th>Avengers: Infinity War</th>\n",
              "      <th>Ant-Man and The Wasp</th>\n",
              "    </tr>\n",
              "  </thead>\n",
              "  <tbody>\n",
              "    <tr>\n",
              "      <th>0</th>\n",
              "      <td>17.000000</td>\n",
              "      <td>12.0</td>\n",
              "      <td>14.0</td>\n",
              "      <td>13.0</td>\n",
              "      <td>11.0</td>\n",
              "      <td>18.0</td>\n",
              "      <td>4.0</td>\n",
              "      <td>5.0</td>\n",
              "      <td>6.0</td>\n",
              "      <td>16.0</td>\n",
              "      <td>17.000000</td>\n",
              "      <td>10.000000</td>\n",
              "      <td>19.0</td>\n",
              "      <td>17.000000</td>\n",
              "      <td>7.0</td>\n",
              "      <td>6.0</td>\n",
              "      <td>10.000000</td>\n",
              "      <td>8.000000</td>\n",
              "      <td>20.0</td>\n",
              "      <td>9.000000</td>\n",
              "    </tr>\n",
              "    <tr>\n",
              "      <th>1</th>\n",
              "      <td>8.000000</td>\n",
              "      <td>1.0</td>\n",
              "      <td>7.0</td>\n",
              "      <td>1.0</td>\n",
              "      <td>7.0</td>\n",
              "      <td>8.0</td>\n",
              "      <td>7.0</td>\n",
              "      <td>3.0</td>\n",
              "      <td>8.0</td>\n",
              "      <td>9.0</td>\n",
              "      <td>7.000000</td>\n",
              "      <td>9.000000</td>\n",
              "      <td>8.0</td>\n",
              "      <td>9.000000</td>\n",
              "      <td>9.0</td>\n",
              "      <td>9.0</td>\n",
              "      <td>9.000000</td>\n",
              "      <td>8.000000</td>\n",
              "      <td>9.0</td>\n",
              "      <td>9.000000</td>\n",
              "    </tr>\n",
              "    <tr>\n",
              "      <th>2</th>\n",
              "      <td>20.000000</td>\n",
              "      <td>13.0</td>\n",
              "      <td>6.0</td>\n",
              "      <td>7.0</td>\n",
              "      <td>11.0</td>\n",
              "      <td>19.0</td>\n",
              "      <td>9.0</td>\n",
              "      <td>5.0</td>\n",
              "      <td>17.0</td>\n",
              "      <td>20.0</td>\n",
              "      <td>20.000000</td>\n",
              "      <td>17.000000</td>\n",
              "      <td>20.0</td>\n",
              "      <td>10.000000</td>\n",
              "      <td>6.0</td>\n",
              "      <td>6.0</td>\n",
              "      <td>4.000000</td>\n",
              "      <td>17.000000</td>\n",
              "      <td>18.0</td>\n",
              "      <td>8.000000</td>\n",
              "    </tr>\n",
              "    <tr>\n",
              "      <th>3</th>\n",
              "      <td>18.000000</td>\n",
              "      <td>10.0</td>\n",
              "      <td>19.0</td>\n",
              "      <td>15.0</td>\n",
              "      <td>5.0</td>\n",
              "      <td>16.0</td>\n",
              "      <td>18.0</td>\n",
              "      <td>16.0</td>\n",
              "      <td>8.0</td>\n",
              "      <td>18.0</td>\n",
              "      <td>7.377606</td>\n",
              "      <td>11.148148</td>\n",
              "      <td>18.0</td>\n",
              "      <td>13.607143</td>\n",
              "      <td>16.0</td>\n",
              "      <td>10.0</td>\n",
              "      <td>11.392857</td>\n",
              "      <td>4.805603</td>\n",
              "      <td>17.0</td>\n",
              "      <td>63.896138</td>\n",
              "    </tr>\n",
              "    <tr>\n",
              "      <th>4</th>\n",
              "      <td>7.192949</td>\n",
              "      <td>3.0</td>\n",
              "      <td>2.0</td>\n",
              "      <td>4.0</td>\n",
              "      <td>5.0</td>\n",
              "      <td>10.0</td>\n",
              "      <td>1.0</td>\n",
              "      <td>6.0</td>\n",
              "      <td>20.0</td>\n",
              "      <td>14.0</td>\n",
              "      <td>7.000000</td>\n",
              "      <td>15.000000</td>\n",
              "      <td>8.0</td>\n",
              "      <td>19.000000</td>\n",
              "      <td>9.0</td>\n",
              "      <td>11.0</td>\n",
              "      <td>10.000000</td>\n",
              "      <td>17.000000</td>\n",
              "      <td>16.0</td>\n",
              "      <td>9.347540</td>\n",
              "    </tr>\n",
              "  </tbody>\n",
              "</table>\n",
              "</div>"
            ],
            "text/plain": [
              "    Iron Man  The Incredible Hulk  ...  Avengers: Infinity War  Ant-Man and The Wasp\n",
              "0  17.000000                 12.0  ...                    20.0              9.000000\n",
              "1   8.000000                  1.0  ...                     9.0              9.000000\n",
              "2  20.000000                 13.0  ...                    18.0              8.000000\n",
              "3  18.000000                 10.0  ...                    17.0             63.896138\n",
              "4   7.192949                  3.0  ...                    16.0              9.347540\n",
              "\n",
              "[5 rows x 20 columns]"
            ]
          },
          "metadata": {
            "tags": []
          },
          "execution_count": 74
        }
      ]
    },
    {
      "cell_type": "markdown",
      "metadata": {
        "id": "_FLKodnAWbAt",
        "colab_type": "text"
      },
      "source": [
        "## Escalamiento de variables (Min-Max-Scaler)\n",
        "\n",
        "[MinMaxScaler](https://www.kite.com/python/docs/sklearn.preprocessing.MinMaxScaler)"
      ]
    },
    {
      "cell_type": "code",
      "metadata": {
        "id": "5BasEEZ-WcmV",
        "colab_type": "code",
        "colab": {
          "base_uri": "https://localhost:8080/",
          "height": 296
        },
        "outputId": "3f5bea17-4cb4-4819-9c05-8a1d8db26cb2"
      },
      "source": [
        "# Libreria para maching learning: sklearn\n",
        "from sklearn.preprocessing import MinMaxScaler\n",
        "\n",
        "scaler = MinMaxScaler()\n",
        "scaler.fit(df_mcu6) # calcula los valores mínimos y máximos para escalar\n",
        "# Pasar dataset que se desea transformar\n",
        "df_scaled = scaler.transform(df_mcu6) # Retorna una matriz\n",
        "df_scaled = pd.DataFrame(df_scaled, columns=df_mcu.columns) #matriz -> DataFrame\n",
        "df_scaled.head()"
      ],
      "execution_count": null,
      "outputs": [
        {
          "output_type": "execute_result",
          "data": {
            "text/html": [
              "<div>\n",
              "<style scoped>\n",
              "    .dataframe tbody tr th:only-of-type {\n",
              "        vertical-align: middle;\n",
              "    }\n",
              "\n",
              "    .dataframe tbody tr th {\n",
              "        vertical-align: top;\n",
              "    }\n",
              "\n",
              "    .dataframe thead th {\n",
              "        text-align: right;\n",
              "    }\n",
              "</style>\n",
              "<table border=\"1\" class=\"dataframe\">\n",
              "  <thead>\n",
              "    <tr style=\"text-align: right;\">\n",
              "      <th></th>\n",
              "      <th>Iron Man</th>\n",
              "      <th>The Incredible Hulk</th>\n",
              "      <th>Iron Man 2</th>\n",
              "      <th>Thor</th>\n",
              "      <th>Capitán América: el primer vengador</th>\n",
              "      <th>The Avengers</th>\n",
              "      <th>Iron Man 3</th>\n",
              "      <th>Thor: The Dark World</th>\n",
              "      <th>Captain America: The Winter Soldier</th>\n",
              "      <th>Guardianes de la Galaxia</th>\n",
              "      <th>Avengers: Age of Ultron</th>\n",
              "      <th>Ant-Man</th>\n",
              "      <th>Captain America: Civil War</th>\n",
              "      <th>Doctor Strange</th>\n",
              "      <th>Guardianes de la Galaxia Vol. 2</th>\n",
              "      <th>Spider-Man: Homecoming</th>\n",
              "      <th>Thor: Ragnarok</th>\n",
              "      <th>Black Panther</th>\n",
              "      <th>Avengers: Infinity War</th>\n",
              "      <th>Ant-Man and The Wasp</th>\n",
              "    </tr>\n",
              "  </thead>\n",
              "  <tbody>\n",
              "    <tr>\n",
              "      <th>0</th>\n",
              "      <td>0.886682</td>\n",
              "      <td>0.916667</td>\n",
              "      <td>0.722222</td>\n",
              "      <td>0.686503</td>\n",
              "      <td>0.526316</td>\n",
              "      <td>0.894737</td>\n",
              "      <td>0.176471</td>\n",
              "      <td>0.222222</td>\n",
              "      <td>0.263158</td>\n",
              "      <td>0.777778</td>\n",
              "      <td>0.842105</td>\n",
              "      <td>0.500000</td>\n",
              "      <td>0.947368</td>\n",
              "      <td>0.842105</td>\n",
              "      <td>0.315789</td>\n",
              "      <td>0.263158</td>\n",
              "      <td>0.473684</td>\n",
              "      <td>0.368421</td>\n",
              "      <td>1.000000</td>\n",
              "      <td>0.321975</td>\n",
              "    </tr>\n",
              "    <tr>\n",
              "      <th>1</th>\n",
              "      <td>0.546728</td>\n",
              "      <td>0.000000</td>\n",
              "      <td>0.333333</td>\n",
              "      <td>0.059508</td>\n",
              "      <td>0.315789</td>\n",
              "      <td>0.368421</td>\n",
              "      <td>0.352941</td>\n",
              "      <td>0.111111</td>\n",
              "      <td>0.368421</td>\n",
              "      <td>0.388889</td>\n",
              "      <td>0.315789</td>\n",
              "      <td>0.444444</td>\n",
              "      <td>0.368421</td>\n",
              "      <td>0.421053</td>\n",
              "      <td>0.421053</td>\n",
              "      <td>0.421053</td>\n",
              "      <td>0.421053</td>\n",
              "      <td>0.368421</td>\n",
              "      <td>0.421053</td>\n",
              "      <td>0.321975</td>\n",
              "    </tr>\n",
              "    <tr>\n",
              "      <th>2</th>\n",
              "      <td>1.000000</td>\n",
              "      <td>1.000000</td>\n",
              "      <td>0.277778</td>\n",
              "      <td>0.373005</td>\n",
              "      <td>0.526316</td>\n",
              "      <td>0.947368</td>\n",
              "      <td>0.470588</td>\n",
              "      <td>0.222222</td>\n",
              "      <td>0.842105</td>\n",
              "      <td>1.000000</td>\n",
              "      <td>1.000000</td>\n",
              "      <td>0.888889</td>\n",
              "      <td>1.000000</td>\n",
              "      <td>0.473684</td>\n",
              "      <td>0.263158</td>\n",
              "      <td>0.263158</td>\n",
              "      <td>0.157895</td>\n",
              "      <td>0.842105</td>\n",
              "      <td>0.894737</td>\n",
              "      <td>0.309624</td>\n",
              "    </tr>\n",
              "    <tr>\n",
              "      <th>3</th>\n",
              "      <td>0.924455</td>\n",
              "      <td>0.750000</td>\n",
              "      <td>1.000000</td>\n",
              "      <td>0.791002</td>\n",
              "      <td>0.210526</td>\n",
              "      <td>0.789474</td>\n",
              "      <td>1.000000</td>\n",
              "      <td>0.833333</td>\n",
              "      <td>0.368421</td>\n",
              "      <td>0.888889</td>\n",
              "      <td>0.335663</td>\n",
              "      <td>0.563786</td>\n",
              "      <td>0.894737</td>\n",
              "      <td>0.663534</td>\n",
              "      <td>0.789474</td>\n",
              "      <td>0.473684</td>\n",
              "      <td>0.546992</td>\n",
              "      <td>0.200295</td>\n",
              "      <td>0.842105</td>\n",
              "      <td>1.000000</td>\n",
              "    </tr>\n",
              "    <tr>\n",
              "      <th>4</th>\n",
              "      <td>0.516244</td>\n",
              "      <td>0.166667</td>\n",
              "      <td>0.055556</td>\n",
              "      <td>0.216256</td>\n",
              "      <td>0.210526</td>\n",
              "      <td>0.473684</td>\n",
              "      <td>0.000000</td>\n",
              "      <td>0.277778</td>\n",
              "      <td>1.000000</td>\n",
              "      <td>0.666667</td>\n",
              "      <td>0.315789</td>\n",
              "      <td>0.777778</td>\n",
              "      <td>0.368421</td>\n",
              "      <td>0.947368</td>\n",
              "      <td>0.421053</td>\n",
              "      <td>0.526316</td>\n",
              "      <td>0.473684</td>\n",
              "      <td>0.842105</td>\n",
              "      <td>0.789474</td>\n",
              "      <td>0.326268</td>\n",
              "    </tr>\n",
              "  </tbody>\n",
              "</table>\n",
              "</div>"
            ],
            "text/plain": [
              "   Iron Man  The Incredible Hulk  ...  Avengers: Infinity War  Ant-Man and The Wasp\n",
              "0  0.886682             0.916667  ...                1.000000              0.321975\n",
              "1  0.546728             0.000000  ...                0.421053              0.321975\n",
              "2  1.000000             1.000000  ...                0.894737              0.309624\n",
              "3  0.924455             0.750000  ...                0.842105              1.000000\n",
              "4  0.516244             0.166667  ...                0.789474              0.326268\n",
              "\n",
              "[5 rows x 20 columns]"
            ]
          },
          "metadata": {
            "tags": []
          },
          "execution_count": 75
        }
      ]
    },
    {
      "cell_type": "code",
      "metadata": {
        "id": "69r7JQIIXIzA",
        "colab_type": "code",
        "colab": {
          "base_uri": "https://localhost:8080/",
          "height": 382
        },
        "outputId": "db894c6c-0ddc-42d3-ee46-b8e811337e73"
      },
      "source": [
        "df_scaled.min()"
      ],
      "execution_count": null,
      "outputs": [
        {
          "output_type": "execute_result",
          "data": {
            "text/plain": [
              "Iron Man                               0.0\n",
              "The Incredible Hulk                    0.0\n",
              "Iron Man 2                             0.0\n",
              "Thor                                   0.0\n",
              "Capitán América: el primer vengador    0.0\n",
              "The Avengers                           0.0\n",
              "Iron Man 3                             0.0\n",
              "Thor: The Dark World                   0.0\n",
              "Captain America: The Winter Soldier    0.0\n",
              "Guardianes de la Galaxia               0.0\n",
              "Avengers: Age of Ultron                0.0\n",
              "Ant-Man                                0.0\n",
              "Captain America: Civil War             0.0\n",
              "Doctor Strange                         0.0\n",
              "Guardianes de la Galaxia Vol. 2        0.0\n",
              "Spider-Man: Homecoming                 0.0\n",
              "Thor: Ragnarok                         0.0\n",
              "Black Panther                          0.0\n",
              "Avengers: Infinity War                 0.0\n",
              "Ant-Man and The Wasp                   0.0\n",
              "dtype: float64"
            ]
          },
          "metadata": {
            "tags": []
          },
          "execution_count": 76
        }
      ]
    },
    {
      "cell_type": "code",
      "metadata": {
        "id": "SVJUV6bZXM3w",
        "colab_type": "code",
        "colab": {
          "base_uri": "https://localhost:8080/",
          "height": 382
        },
        "outputId": "a6dac37d-275e-4bbf-9698-2c1241c6159d"
      },
      "source": [
        "df_scaled.max()"
      ],
      "execution_count": null,
      "outputs": [
        {
          "output_type": "execute_result",
          "data": {
            "text/plain": [
              "Iron Man                               1.0\n",
              "The Incredible Hulk                    1.0\n",
              "Iron Man 2                             1.0\n",
              "Thor                                   1.0\n",
              "Capitán América: el primer vengador    1.0\n",
              "The Avengers                           1.0\n",
              "Iron Man 3                             1.0\n",
              "Thor: The Dark World                   1.0\n",
              "Captain America: The Winter Soldier    1.0\n",
              "Guardianes de la Galaxia               1.0\n",
              "Avengers: Age of Ultron                1.0\n",
              "Ant-Man                                1.0\n",
              "Captain America: Civil War             1.0\n",
              "Doctor Strange                         1.0\n",
              "Guardianes de la Galaxia Vol. 2        1.0\n",
              "Spider-Man: Homecoming                 1.0\n",
              "Thor: Ragnarok                         1.0\n",
              "Black Panther                          1.0\n",
              "Avengers: Infinity War                 1.0\n",
              "Ant-Man and The Wasp                   1.0\n",
              "dtype: float64"
            ]
          },
          "metadata": {
            "tags": []
          },
          "execution_count": 77
        }
      ]
    },
    {
      "cell_type": "markdown",
      "metadata": {
        "id": "gxooYaoeXZ-Z",
        "colab_type": "text"
      },
      "source": [
        "## Escalamiento de datos dispersos"
      ]
    },
    {
      "cell_type": "code",
      "metadata": {
        "id": "IHjxQZamXfwq",
        "colab_type": "code",
        "colab": {
          "base_uri": "https://localhost:8080/",
          "height": 990
        },
        "outputId": "e627e248-dcb1-4a17-b84c-580a7aa3377e"
      },
      "source": [
        "import numpy as np\n",
        "import pandas as pd\n",
        "\n",
        "# Construccion de matriz dispersa: tiene muchos ceros\n",
        "array = np.arange(1000, 10000)\n",
        "array2 = np.arange(100)\n",
        "\n",
        "# Tomar 450 valores y se redimensionan en 30 filas y 15 columnas\n",
        "mat1 = np.random.choice(array, 450).reshape(30,15)\n",
        "mat2 = np.random.choice(array2, 90).reshape(30,3)\n",
        "\n",
        "concat = np.concatenate((mat1, mat2), axis=1)\n",
        "np.random.shuffle(np.transpose(concat))\n",
        "\n",
        "bool_mat = np.random.choice(np.array([True, True, False]), 18*30).reshape(30,18)\n",
        "\n",
        "concat[bool_mat] = 0\n",
        "\n",
        "df1 = pd.DataFrame(concat)\n",
        "df1"
      ],
      "execution_count": null,
      "outputs": [
        {
          "output_type": "execute_result",
          "data": {
            "text/html": [
              "<div>\n",
              "<style scoped>\n",
              "    .dataframe tbody tr th:only-of-type {\n",
              "        vertical-align: middle;\n",
              "    }\n",
              "\n",
              "    .dataframe tbody tr th {\n",
              "        vertical-align: top;\n",
              "    }\n",
              "\n",
              "    .dataframe thead th {\n",
              "        text-align: right;\n",
              "    }\n",
              "</style>\n",
              "<table border=\"1\" class=\"dataframe\">\n",
              "  <thead>\n",
              "    <tr style=\"text-align: right;\">\n",
              "      <th></th>\n",
              "      <th>0</th>\n",
              "      <th>1</th>\n",
              "      <th>2</th>\n",
              "      <th>3</th>\n",
              "      <th>4</th>\n",
              "      <th>5</th>\n",
              "      <th>6</th>\n",
              "      <th>7</th>\n",
              "      <th>8</th>\n",
              "      <th>9</th>\n",
              "      <th>10</th>\n",
              "      <th>11</th>\n",
              "      <th>12</th>\n",
              "      <th>13</th>\n",
              "      <th>14</th>\n",
              "      <th>15</th>\n",
              "      <th>16</th>\n",
              "      <th>17</th>\n",
              "    </tr>\n",
              "  </thead>\n",
              "  <tbody>\n",
              "    <tr>\n",
              "      <th>0</th>\n",
              "      <td>0</td>\n",
              "      <td>0</td>\n",
              "      <td>3136</td>\n",
              "      <td>0</td>\n",
              "      <td>8924</td>\n",
              "      <td>0</td>\n",
              "      <td>0</td>\n",
              "      <td>5997</td>\n",
              "      <td>0</td>\n",
              "      <td>23</td>\n",
              "      <td>9576</td>\n",
              "      <td>57</td>\n",
              "      <td>0</td>\n",
              "      <td>0</td>\n",
              "      <td>52</td>\n",
              "      <td>0</td>\n",
              "      <td>0</td>\n",
              "      <td>0</td>\n",
              "    </tr>\n",
              "    <tr>\n",
              "      <th>1</th>\n",
              "      <td>0</td>\n",
              "      <td>0</td>\n",
              "      <td>0</td>\n",
              "      <td>0</td>\n",
              "      <td>1293</td>\n",
              "      <td>9811</td>\n",
              "      <td>0</td>\n",
              "      <td>0</td>\n",
              "      <td>6832</td>\n",
              "      <td>0</td>\n",
              "      <td>0</td>\n",
              "      <td>0</td>\n",
              "      <td>0</td>\n",
              "      <td>0</td>\n",
              "      <td>0</td>\n",
              "      <td>0</td>\n",
              "      <td>3506</td>\n",
              "      <td>4636</td>\n",
              "    </tr>\n",
              "    <tr>\n",
              "      <th>2</th>\n",
              "      <td>2677</td>\n",
              "      <td>0</td>\n",
              "      <td>0</td>\n",
              "      <td>0</td>\n",
              "      <td>0</td>\n",
              "      <td>1188</td>\n",
              "      <td>7665</td>\n",
              "      <td>0</td>\n",
              "      <td>6249</td>\n",
              "      <td>0</td>\n",
              "      <td>0</td>\n",
              "      <td>0</td>\n",
              "      <td>0</td>\n",
              "      <td>0</td>\n",
              "      <td>0</td>\n",
              "      <td>0</td>\n",
              "      <td>0</td>\n",
              "      <td>0</td>\n",
              "    </tr>\n",
              "    <tr>\n",
              "      <th>3</th>\n",
              "      <td>6616</td>\n",
              "      <td>1830</td>\n",
              "      <td>0</td>\n",
              "      <td>0</td>\n",
              "      <td>0</td>\n",
              "      <td>0</td>\n",
              "      <td>0</td>\n",
              "      <td>0</td>\n",
              "      <td>9579</td>\n",
              "      <td>86</td>\n",
              "      <td>0</td>\n",
              "      <td>0</td>\n",
              "      <td>2913</td>\n",
              "      <td>2685</td>\n",
              "      <td>0</td>\n",
              "      <td>0</td>\n",
              "      <td>0</td>\n",
              "      <td>9336</td>\n",
              "    </tr>\n",
              "    <tr>\n",
              "      <th>4</th>\n",
              "      <td>0</td>\n",
              "      <td>0</td>\n",
              "      <td>0</td>\n",
              "      <td>5813</td>\n",
              "      <td>2852</td>\n",
              "      <td>3971</td>\n",
              "      <td>0</td>\n",
              "      <td>0</td>\n",
              "      <td>0</td>\n",
              "      <td>0</td>\n",
              "      <td>0</td>\n",
              "      <td>1</td>\n",
              "      <td>8633</td>\n",
              "      <td>0</td>\n",
              "      <td>61</td>\n",
              "      <td>0</td>\n",
              "      <td>0</td>\n",
              "      <td>0</td>\n",
              "    </tr>\n",
              "    <tr>\n",
              "      <th>5</th>\n",
              "      <td>3431</td>\n",
              "      <td>5211</td>\n",
              "      <td>0</td>\n",
              "      <td>6097</td>\n",
              "      <td>0</td>\n",
              "      <td>0</td>\n",
              "      <td>0</td>\n",
              "      <td>3127</td>\n",
              "      <td>4705</td>\n",
              "      <td>0</td>\n",
              "      <td>5778</td>\n",
              "      <td>0</td>\n",
              "      <td>0</td>\n",
              "      <td>0</td>\n",
              "      <td>0</td>\n",
              "      <td>9820</td>\n",
              "      <td>0</td>\n",
              "      <td>2534</td>\n",
              "    </tr>\n",
              "    <tr>\n",
              "      <th>6</th>\n",
              "      <td>0</td>\n",
              "      <td>2293</td>\n",
              "      <td>0</td>\n",
              "      <td>0</td>\n",
              "      <td>9733</td>\n",
              "      <td>0</td>\n",
              "      <td>5491</td>\n",
              "      <td>5903</td>\n",
              "      <td>0</td>\n",
              "      <td>0</td>\n",
              "      <td>7865</td>\n",
              "      <td>60</td>\n",
              "      <td>0</td>\n",
              "      <td>5065</td>\n",
              "      <td>0</td>\n",
              "      <td>0</td>\n",
              "      <td>0</td>\n",
              "      <td>8211</td>\n",
              "    </tr>\n",
              "    <tr>\n",
              "      <th>7</th>\n",
              "      <td>8079</td>\n",
              "      <td>6914</td>\n",
              "      <td>0</td>\n",
              "      <td>8779</td>\n",
              "      <td>0</td>\n",
              "      <td>8322</td>\n",
              "      <td>0</td>\n",
              "      <td>0</td>\n",
              "      <td>0</td>\n",
              "      <td>0</td>\n",
              "      <td>0</td>\n",
              "      <td>0</td>\n",
              "      <td>8661</td>\n",
              "      <td>0</td>\n",
              "      <td>0</td>\n",
              "      <td>0</td>\n",
              "      <td>0</td>\n",
              "      <td>0</td>\n",
              "    </tr>\n",
              "    <tr>\n",
              "      <th>8</th>\n",
              "      <td>4814</td>\n",
              "      <td>0</td>\n",
              "      <td>0</td>\n",
              "      <td>0</td>\n",
              "      <td>0</td>\n",
              "      <td>0</td>\n",
              "      <td>5934</td>\n",
              "      <td>0</td>\n",
              "      <td>0</td>\n",
              "      <td>31</td>\n",
              "      <td>5211</td>\n",
              "      <td>0</td>\n",
              "      <td>0</td>\n",
              "      <td>1700</td>\n",
              "      <td>0</td>\n",
              "      <td>1011</td>\n",
              "      <td>0</td>\n",
              "      <td>0</td>\n",
              "    </tr>\n",
              "    <tr>\n",
              "      <th>9</th>\n",
              "      <td>0</td>\n",
              "      <td>8029</td>\n",
              "      <td>0</td>\n",
              "      <td>3554</td>\n",
              "      <td>7923</td>\n",
              "      <td>0</td>\n",
              "      <td>0</td>\n",
              "      <td>1195</td>\n",
              "      <td>9080</td>\n",
              "      <td>0</td>\n",
              "      <td>0</td>\n",
              "      <td>0</td>\n",
              "      <td>0</td>\n",
              "      <td>0</td>\n",
              "      <td>0</td>\n",
              "      <td>0</td>\n",
              "      <td>0</td>\n",
              "      <td>0</td>\n",
              "    </tr>\n",
              "    <tr>\n",
              "      <th>10</th>\n",
              "      <td>0</td>\n",
              "      <td>0</td>\n",
              "      <td>6765</td>\n",
              "      <td>6711</td>\n",
              "      <td>5052</td>\n",
              "      <td>0</td>\n",
              "      <td>8159</td>\n",
              "      <td>6112</td>\n",
              "      <td>0</td>\n",
              "      <td>0</td>\n",
              "      <td>0</td>\n",
              "      <td>20</td>\n",
              "      <td>6985</td>\n",
              "      <td>0</td>\n",
              "      <td>0</td>\n",
              "      <td>0</td>\n",
              "      <td>0</td>\n",
              "      <td>0</td>\n",
              "    </tr>\n",
              "    <tr>\n",
              "      <th>11</th>\n",
              "      <td>0</td>\n",
              "      <td>2042</td>\n",
              "      <td>0</td>\n",
              "      <td>6403</td>\n",
              "      <td>6148</td>\n",
              "      <td>0</td>\n",
              "      <td>0</td>\n",
              "      <td>0</td>\n",
              "      <td>0</td>\n",
              "      <td>81</td>\n",
              "      <td>3583</td>\n",
              "      <td>0</td>\n",
              "      <td>0</td>\n",
              "      <td>4586</td>\n",
              "      <td>0</td>\n",
              "      <td>0</td>\n",
              "      <td>0</td>\n",
              "      <td>5211</td>\n",
              "    </tr>\n",
              "    <tr>\n",
              "      <th>12</th>\n",
              "      <td>0</td>\n",
              "      <td>0</td>\n",
              "      <td>0</td>\n",
              "      <td>0</td>\n",
              "      <td>0</td>\n",
              "      <td>0</td>\n",
              "      <td>0</td>\n",
              "      <td>0</td>\n",
              "      <td>1808</td>\n",
              "      <td>35</td>\n",
              "      <td>0</td>\n",
              "      <td>0</td>\n",
              "      <td>0</td>\n",
              "      <td>0</td>\n",
              "      <td>48</td>\n",
              "      <td>0</td>\n",
              "      <td>0</td>\n",
              "      <td>0</td>\n",
              "    </tr>\n",
              "    <tr>\n",
              "      <th>13</th>\n",
              "      <td>4731</td>\n",
              "      <td>0</td>\n",
              "      <td>0</td>\n",
              "      <td>0</td>\n",
              "      <td>2091</td>\n",
              "      <td>0</td>\n",
              "      <td>7260</td>\n",
              "      <td>0</td>\n",
              "      <td>0</td>\n",
              "      <td>0</td>\n",
              "      <td>0</td>\n",
              "      <td>0</td>\n",
              "      <td>0</td>\n",
              "      <td>2833</td>\n",
              "      <td>43</td>\n",
              "      <td>8998</td>\n",
              "      <td>0</td>\n",
              "      <td>0</td>\n",
              "    </tr>\n",
              "    <tr>\n",
              "      <th>14</th>\n",
              "      <td>4674</td>\n",
              "      <td>0</td>\n",
              "      <td>0</td>\n",
              "      <td>0</td>\n",
              "      <td>0</td>\n",
              "      <td>0</td>\n",
              "      <td>0</td>\n",
              "      <td>0</td>\n",
              "      <td>6344</td>\n",
              "      <td>91</td>\n",
              "      <td>6583</td>\n",
              "      <td>0</td>\n",
              "      <td>0</td>\n",
              "      <td>0</td>\n",
              "      <td>47</td>\n",
              "      <td>6625</td>\n",
              "      <td>0</td>\n",
              "      <td>0</td>\n",
              "    </tr>\n",
              "    <tr>\n",
              "      <th>15</th>\n",
              "      <td>0</td>\n",
              "      <td>0</td>\n",
              "      <td>0</td>\n",
              "      <td>0</td>\n",
              "      <td>0</td>\n",
              "      <td>0</td>\n",
              "      <td>5880</td>\n",
              "      <td>0</td>\n",
              "      <td>9386</td>\n",
              "      <td>63</td>\n",
              "      <td>0</td>\n",
              "      <td>27</td>\n",
              "      <td>0</td>\n",
              "      <td>0</td>\n",
              "      <td>35</td>\n",
              "      <td>0</td>\n",
              "      <td>7617</td>\n",
              "      <td>0</td>\n",
              "    </tr>\n",
              "    <tr>\n",
              "      <th>16</th>\n",
              "      <td>0</td>\n",
              "      <td>2328</td>\n",
              "      <td>0</td>\n",
              "      <td>0</td>\n",
              "      <td>3004</td>\n",
              "      <td>0</td>\n",
              "      <td>0</td>\n",
              "      <td>8746</td>\n",
              "      <td>0</td>\n",
              "      <td>0</td>\n",
              "      <td>0</td>\n",
              "      <td>0</td>\n",
              "      <td>0</td>\n",
              "      <td>0</td>\n",
              "      <td>49</td>\n",
              "      <td>0</td>\n",
              "      <td>0</td>\n",
              "      <td>0</td>\n",
              "    </tr>\n",
              "    <tr>\n",
              "      <th>17</th>\n",
              "      <td>0</td>\n",
              "      <td>0</td>\n",
              "      <td>0</td>\n",
              "      <td>0</td>\n",
              "      <td>8938</td>\n",
              "      <td>0</td>\n",
              "      <td>5232</td>\n",
              "      <td>0</td>\n",
              "      <td>0</td>\n",
              "      <td>0</td>\n",
              "      <td>8080</td>\n",
              "      <td>0</td>\n",
              "      <td>0</td>\n",
              "      <td>1634</td>\n",
              "      <td>87</td>\n",
              "      <td>1869</td>\n",
              "      <td>0</td>\n",
              "      <td>0</td>\n",
              "    </tr>\n",
              "    <tr>\n",
              "      <th>18</th>\n",
              "      <td>0</td>\n",
              "      <td>0</td>\n",
              "      <td>0</td>\n",
              "      <td>0</td>\n",
              "      <td>0</td>\n",
              "      <td>0</td>\n",
              "      <td>3568</td>\n",
              "      <td>9129</td>\n",
              "      <td>7130</td>\n",
              "      <td>0</td>\n",
              "      <td>9174</td>\n",
              "      <td>0</td>\n",
              "      <td>0</td>\n",
              "      <td>1766</td>\n",
              "      <td>77</td>\n",
              "      <td>3039</td>\n",
              "      <td>0</td>\n",
              "      <td>0</td>\n",
              "    </tr>\n",
              "    <tr>\n",
              "      <th>19</th>\n",
              "      <td>0</td>\n",
              "      <td>4019</td>\n",
              "      <td>0</td>\n",
              "      <td>0</td>\n",
              "      <td>6988</td>\n",
              "      <td>5725</td>\n",
              "      <td>0</td>\n",
              "      <td>0</td>\n",
              "      <td>0</td>\n",
              "      <td>0</td>\n",
              "      <td>0</td>\n",
              "      <td>0</td>\n",
              "      <td>2217</td>\n",
              "      <td>0</td>\n",
              "      <td>7</td>\n",
              "      <td>0</td>\n",
              "      <td>6049</td>\n",
              "      <td>0</td>\n",
              "    </tr>\n",
              "    <tr>\n",
              "      <th>20</th>\n",
              "      <td>0</td>\n",
              "      <td>6447</td>\n",
              "      <td>0</td>\n",
              "      <td>2112</td>\n",
              "      <td>1770</td>\n",
              "      <td>0</td>\n",
              "      <td>1235</td>\n",
              "      <td>8766</td>\n",
              "      <td>0</td>\n",
              "      <td>0</td>\n",
              "      <td>2007</td>\n",
              "      <td>0</td>\n",
              "      <td>0</td>\n",
              "      <td>3923</td>\n",
              "      <td>82</td>\n",
              "      <td>0</td>\n",
              "      <td>2350</td>\n",
              "      <td>5096</td>\n",
              "    </tr>\n",
              "    <tr>\n",
              "      <th>21</th>\n",
              "      <td>0</td>\n",
              "      <td>2718</td>\n",
              "      <td>0</td>\n",
              "      <td>0</td>\n",
              "      <td>0</td>\n",
              "      <td>0</td>\n",
              "      <td>0</td>\n",
              "      <td>3153</td>\n",
              "      <td>0</td>\n",
              "      <td>83</td>\n",
              "      <td>0</td>\n",
              "      <td>52</td>\n",
              "      <td>0</td>\n",
              "      <td>0</td>\n",
              "      <td>0</td>\n",
              "      <td>0</td>\n",
              "      <td>0</td>\n",
              "      <td>0</td>\n",
              "    </tr>\n",
              "    <tr>\n",
              "      <th>22</th>\n",
              "      <td>0</td>\n",
              "      <td>0</td>\n",
              "      <td>0</td>\n",
              "      <td>2111</td>\n",
              "      <td>0</td>\n",
              "      <td>0</td>\n",
              "      <td>0</td>\n",
              "      <td>9744</td>\n",
              "      <td>0</td>\n",
              "      <td>0</td>\n",
              "      <td>0</td>\n",
              "      <td>0</td>\n",
              "      <td>8639</td>\n",
              "      <td>8730</td>\n",
              "      <td>21</td>\n",
              "      <td>0</td>\n",
              "      <td>0</td>\n",
              "      <td>0</td>\n",
              "    </tr>\n",
              "    <tr>\n",
              "      <th>23</th>\n",
              "      <td>0</td>\n",
              "      <td>0</td>\n",
              "      <td>1206</td>\n",
              "      <td>0</td>\n",
              "      <td>8498</td>\n",
              "      <td>0</td>\n",
              "      <td>4109</td>\n",
              "      <td>8944</td>\n",
              "      <td>0</td>\n",
              "      <td>83</td>\n",
              "      <td>5267</td>\n",
              "      <td>30</td>\n",
              "      <td>9585</td>\n",
              "      <td>0</td>\n",
              "      <td>78</td>\n",
              "      <td>0</td>\n",
              "      <td>3234</td>\n",
              "      <td>0</td>\n",
              "    </tr>\n",
              "    <tr>\n",
              "      <th>24</th>\n",
              "      <td>0</td>\n",
              "      <td>0</td>\n",
              "      <td>3581</td>\n",
              "      <td>0</td>\n",
              "      <td>0</td>\n",
              "      <td>0</td>\n",
              "      <td>4890</td>\n",
              "      <td>4316</td>\n",
              "      <td>8763</td>\n",
              "      <td>0</td>\n",
              "      <td>6603</td>\n",
              "      <td>70</td>\n",
              "      <td>0</td>\n",
              "      <td>0</td>\n",
              "      <td>0</td>\n",
              "      <td>0</td>\n",
              "      <td>0</td>\n",
              "      <td>0</td>\n",
              "    </tr>\n",
              "    <tr>\n",
              "      <th>25</th>\n",
              "      <td>0</td>\n",
              "      <td>2080</td>\n",
              "      <td>0</td>\n",
              "      <td>8722</td>\n",
              "      <td>0</td>\n",
              "      <td>0</td>\n",
              "      <td>0</td>\n",
              "      <td>0</td>\n",
              "      <td>0</td>\n",
              "      <td>85</td>\n",
              "      <td>3440</td>\n",
              "      <td>84</td>\n",
              "      <td>0</td>\n",
              "      <td>2964</td>\n",
              "      <td>0</td>\n",
              "      <td>0</td>\n",
              "      <td>0</td>\n",
              "      <td>0</td>\n",
              "    </tr>\n",
              "    <tr>\n",
              "      <th>26</th>\n",
              "      <td>0</td>\n",
              "      <td>0</td>\n",
              "      <td>0</td>\n",
              "      <td>6175</td>\n",
              "      <td>0</td>\n",
              "      <td>7481</td>\n",
              "      <td>0</td>\n",
              "      <td>0</td>\n",
              "      <td>0</td>\n",
              "      <td>0</td>\n",
              "      <td>0</td>\n",
              "      <td>74</td>\n",
              "      <td>7743</td>\n",
              "      <td>0</td>\n",
              "      <td>61</td>\n",
              "      <td>0</td>\n",
              "      <td>0</td>\n",
              "      <td>7877</td>\n",
              "    </tr>\n",
              "    <tr>\n",
              "      <th>27</th>\n",
              "      <td>0</td>\n",
              "      <td>0</td>\n",
              "      <td>0</td>\n",
              "      <td>0</td>\n",
              "      <td>0</td>\n",
              "      <td>0</td>\n",
              "      <td>0</td>\n",
              "      <td>3829</td>\n",
              "      <td>0</td>\n",
              "      <td>0</td>\n",
              "      <td>0</td>\n",
              "      <td>63</td>\n",
              "      <td>0</td>\n",
              "      <td>3399</td>\n",
              "      <td>0</td>\n",
              "      <td>0</td>\n",
              "      <td>0</td>\n",
              "      <td>4884</td>\n",
              "    </tr>\n",
              "    <tr>\n",
              "      <th>28</th>\n",
              "      <td>0</td>\n",
              "      <td>0</td>\n",
              "      <td>0</td>\n",
              "      <td>8712</td>\n",
              "      <td>3105</td>\n",
              "      <td>8842</td>\n",
              "      <td>0</td>\n",
              "      <td>0</td>\n",
              "      <td>0</td>\n",
              "      <td>0</td>\n",
              "      <td>0</td>\n",
              "      <td>84</td>\n",
              "      <td>0</td>\n",
              "      <td>0</td>\n",
              "      <td>71</td>\n",
              "      <td>4471</td>\n",
              "      <td>9560</td>\n",
              "      <td>0</td>\n",
              "    </tr>\n",
              "    <tr>\n",
              "      <th>29</th>\n",
              "      <td>0</td>\n",
              "      <td>0</td>\n",
              "      <td>0</td>\n",
              "      <td>0</td>\n",
              "      <td>0</td>\n",
              "      <td>0</td>\n",
              "      <td>0</td>\n",
              "      <td>0</td>\n",
              "      <td>9450</td>\n",
              "      <td>0</td>\n",
              "      <td>2271</td>\n",
              "      <td>0</td>\n",
              "      <td>0</td>\n",
              "      <td>0</td>\n",
              "      <td>30</td>\n",
              "      <td>0</td>\n",
              "      <td>0</td>\n",
              "      <td>0</td>\n",
              "    </tr>\n",
              "  </tbody>\n",
              "</table>\n",
              "</div>"
            ],
            "text/plain": [
              "      0     1     2     3     4     5   ...    12    13  14    15    16    17\n",
              "0      0     0  3136     0  8924     0  ...     0     0  52     0     0     0\n",
              "1      0     0     0     0  1293  9811  ...     0     0   0     0  3506  4636\n",
              "2   2677     0     0     0     0  1188  ...     0     0   0     0     0     0\n",
              "3   6616  1830     0     0     0     0  ...  2913  2685   0     0     0  9336\n",
              "4      0     0     0  5813  2852  3971  ...  8633     0  61     0     0     0\n",
              "5   3431  5211     0  6097     0     0  ...     0     0   0  9820     0  2534\n",
              "6      0  2293     0     0  9733     0  ...     0  5065   0     0     0  8211\n",
              "7   8079  6914     0  8779     0  8322  ...  8661     0   0     0     0     0\n",
              "8   4814     0     0     0     0     0  ...     0  1700   0  1011     0     0\n",
              "9      0  8029     0  3554  7923     0  ...     0     0   0     0     0     0\n",
              "10     0     0  6765  6711  5052     0  ...  6985     0   0     0     0     0\n",
              "11     0  2042     0  6403  6148     0  ...     0  4586   0     0     0  5211\n",
              "12     0     0     0     0     0     0  ...     0     0  48     0     0     0\n",
              "13  4731     0     0     0  2091     0  ...     0  2833  43  8998     0     0\n",
              "14  4674     0     0     0     0     0  ...     0     0  47  6625     0     0\n",
              "15     0     0     0     0     0     0  ...     0     0  35     0  7617     0\n",
              "16     0  2328     0     0  3004     0  ...     0     0  49     0     0     0\n",
              "17     0     0     0     0  8938     0  ...     0  1634  87  1869     0     0\n",
              "18     0     0     0     0     0     0  ...     0  1766  77  3039     0     0\n",
              "19     0  4019     0     0  6988  5725  ...  2217     0   7     0  6049     0\n",
              "20     0  6447     0  2112  1770     0  ...     0  3923  82     0  2350  5096\n",
              "21     0  2718     0     0     0     0  ...     0     0   0     0     0     0\n",
              "22     0     0     0  2111     0     0  ...  8639  8730  21     0     0     0\n",
              "23     0     0  1206     0  8498     0  ...  9585     0  78     0  3234     0\n",
              "24     0     0  3581     0     0     0  ...     0     0   0     0     0     0\n",
              "25     0  2080     0  8722     0     0  ...     0  2964   0     0     0     0\n",
              "26     0     0     0  6175     0  7481  ...  7743     0  61     0     0  7877\n",
              "27     0     0     0     0     0     0  ...     0  3399   0     0     0  4884\n",
              "28     0     0     0  8712  3105  8842  ...     0     0  71  4471  9560     0\n",
              "29     0     0     0     0     0     0  ...     0     0  30     0     0     0\n",
              "\n",
              "[30 rows x 18 columns]"
            ]
          },
          "metadata": {
            "tags": []
          },
          "execution_count": 78
        }
      ]
    },
    {
      "cell_type": "code",
      "metadata": {
        "id": "EH4_UyxUZZC_",
        "colab_type": "code",
        "colab": {
          "base_uri": "https://localhost:8080/",
          "height": 206
        },
        "outputId": "216e4133-20dd-4ee9-8c98-273990022f69"
      },
      "source": [
        "from sklearn.preprocessing import MaxAbsScaler\n",
        "# Escalamiento de matrices dispersas -> MaxAbsScaler()\n",
        "scaler = MaxAbsScaler()\n",
        "scaler.fit(df1)\n",
        "scaled = scaler.transform(df1)\n",
        "df1_scaled = pd.DataFrame(scaled)\n",
        "df1_scaled.head()"
      ],
      "execution_count": null,
      "outputs": [
        {
          "output_type": "execute_result",
          "data": {
            "text/html": [
              "<div>\n",
              "<style scoped>\n",
              "    .dataframe tbody tr th:only-of-type {\n",
              "        vertical-align: middle;\n",
              "    }\n",
              "\n",
              "    .dataframe tbody tr th {\n",
              "        vertical-align: top;\n",
              "    }\n",
              "\n",
              "    .dataframe thead th {\n",
              "        text-align: right;\n",
              "    }\n",
              "</style>\n",
              "<table border=\"1\" class=\"dataframe\">\n",
              "  <thead>\n",
              "    <tr style=\"text-align: right;\">\n",
              "      <th></th>\n",
              "      <th>0</th>\n",
              "      <th>1</th>\n",
              "      <th>2</th>\n",
              "      <th>3</th>\n",
              "      <th>4</th>\n",
              "      <th>5</th>\n",
              "      <th>6</th>\n",
              "      <th>7</th>\n",
              "      <th>8</th>\n",
              "      <th>9</th>\n",
              "      <th>10</th>\n",
              "      <th>11</th>\n",
              "      <th>12</th>\n",
              "      <th>13</th>\n",
              "      <th>14</th>\n",
              "      <th>15</th>\n",
              "      <th>16</th>\n",
              "      <th>17</th>\n",
              "    </tr>\n",
              "  </thead>\n",
              "  <tbody>\n",
              "    <tr>\n",
              "      <th>0</th>\n",
              "      <td>0.000000</td>\n",
              "      <td>0.000000</td>\n",
              "      <td>0.463562</td>\n",
              "      <td>0.000000</td>\n",
              "      <td>0.916881</td>\n",
              "      <td>0.000000</td>\n",
              "      <td>0.000000</td>\n",
              "      <td>0.615456</td>\n",
              "      <td>0.000000</td>\n",
              "      <td>0.252747</td>\n",
              "      <td>1.0</td>\n",
              "      <td>0.678571</td>\n",
              "      <td>0.000000</td>\n",
              "      <td>0.00000</td>\n",
              "      <td>0.597701</td>\n",
              "      <td>0.0</td>\n",
              "      <td>0.000000</td>\n",
              "      <td>0.000000</td>\n",
              "    </tr>\n",
              "    <tr>\n",
              "      <th>1</th>\n",
              "      <td>0.000000</td>\n",
              "      <td>0.000000</td>\n",
              "      <td>0.000000</td>\n",
              "      <td>0.000000</td>\n",
              "      <td>0.132847</td>\n",
              "      <td>1.000000</td>\n",
              "      <td>0.000000</td>\n",
              "      <td>0.000000</td>\n",
              "      <td>0.713227</td>\n",
              "      <td>0.000000</td>\n",
              "      <td>0.0</td>\n",
              "      <td>0.000000</td>\n",
              "      <td>0.000000</td>\n",
              "      <td>0.00000</td>\n",
              "      <td>0.000000</td>\n",
              "      <td>0.0</td>\n",
              "      <td>0.366736</td>\n",
              "      <td>0.496572</td>\n",
              "    </tr>\n",
              "    <tr>\n",
              "      <th>2</th>\n",
              "      <td>0.331353</td>\n",
              "      <td>0.000000</td>\n",
              "      <td>0.000000</td>\n",
              "      <td>0.000000</td>\n",
              "      <td>0.000000</td>\n",
              "      <td>0.121089</td>\n",
              "      <td>0.939453</td>\n",
              "      <td>0.000000</td>\n",
              "      <td>0.652365</td>\n",
              "      <td>0.000000</td>\n",
              "      <td>0.0</td>\n",
              "      <td>0.000000</td>\n",
              "      <td>0.000000</td>\n",
              "      <td>0.00000</td>\n",
              "      <td>0.000000</td>\n",
              "      <td>0.0</td>\n",
              "      <td>0.000000</td>\n",
              "      <td>0.000000</td>\n",
              "    </tr>\n",
              "    <tr>\n",
              "      <th>3</th>\n",
              "      <td>0.818913</td>\n",
              "      <td>0.227924</td>\n",
              "      <td>0.000000</td>\n",
              "      <td>0.000000</td>\n",
              "      <td>0.000000</td>\n",
              "      <td>0.000000</td>\n",
              "      <td>0.000000</td>\n",
              "      <td>0.000000</td>\n",
              "      <td>1.000000</td>\n",
              "      <td>0.945055</td>\n",
              "      <td>0.0</td>\n",
              "      <td>0.000000</td>\n",
              "      <td>0.303912</td>\n",
              "      <td>0.30756</td>\n",
              "      <td>0.000000</td>\n",
              "      <td>0.0</td>\n",
              "      <td>0.000000</td>\n",
              "      <td>1.000000</td>\n",
              "    </tr>\n",
              "    <tr>\n",
              "      <th>4</th>\n",
              "      <td>0.000000</td>\n",
              "      <td>0.000000</td>\n",
              "      <td>0.000000</td>\n",
              "      <td>0.662148</td>\n",
              "      <td>0.293024</td>\n",
              "      <td>0.404750</td>\n",
              "      <td>0.000000</td>\n",
              "      <td>0.000000</td>\n",
              "      <td>0.000000</td>\n",
              "      <td>0.000000</td>\n",
              "      <td>0.0</td>\n",
              "      <td>0.011905</td>\n",
              "      <td>0.900678</td>\n",
              "      <td>0.00000</td>\n",
              "      <td>0.701149</td>\n",
              "      <td>0.0</td>\n",
              "      <td>0.000000</td>\n",
              "      <td>0.000000</td>\n",
              "    </tr>\n",
              "  </tbody>\n",
              "</table>\n",
              "</div>"
            ],
            "text/plain": [
              "         0         1         2         3   ...        14   15        16        17\n",
              "0  0.000000  0.000000  0.463562  0.000000  ...  0.597701  0.0  0.000000  0.000000\n",
              "1  0.000000  0.000000  0.000000  0.000000  ...  0.000000  0.0  0.366736  0.496572\n",
              "2  0.331353  0.000000  0.000000  0.000000  ...  0.000000  0.0  0.000000  0.000000\n",
              "3  0.818913  0.227924  0.000000  0.000000  ...  0.000000  0.0  0.000000  1.000000\n",
              "4  0.000000  0.000000  0.000000  0.662148  ...  0.701149  0.0  0.000000  0.000000\n",
              "\n",
              "[5 rows x 18 columns]"
            ]
          },
          "metadata": {
            "tags": []
          },
          "execution_count": 79
        }
      ]
    },
    {
      "cell_type": "markdown",
      "metadata": {
        "id": "2Rkni6QAZtU9",
        "colab_type": "text"
      },
      "source": [
        "## Escalamiento en presencia de datos atípicos"
      ]
    },
    {
      "cell_type": "code",
      "metadata": {
        "id": "rfMWl_cnZstG",
        "colab_type": "code",
        "colab": {
          "base_uri": "https://localhost:8080/",
          "height": 206
        },
        "outputId": "4f14d5a3-394a-4dfc-914b-fcd5a734ebc4"
      },
      "source": [
        "from sklearn.preprocessing import RobustScaler\n",
        "\n",
        "scaler = RobustScaler()\n",
        "scaler.fit(df1)\n",
        "scaled = scaler.transform(df1)\n",
        "pd.DataFrame(scaled).head()"
      ],
      "execution_count": null,
      "outputs": [
        {
          "output_type": "execute_result",
          "data": {
            "text/html": [
              "<div>\n",
              "<style scoped>\n",
              "    .dataframe tbody tr th:only-of-type {\n",
              "        vertical-align: middle;\n",
              "    }\n",
              "\n",
              "    .dataframe tbody tr th {\n",
              "        vertical-align: top;\n",
              "    }\n",
              "\n",
              "    .dataframe thead th {\n",
              "        text-align: right;\n",
              "    }\n",
              "</style>\n",
              "<table border=\"1\" class=\"dataframe\">\n",
              "  <thead>\n",
              "    <tr style=\"text-align: right;\">\n",
              "      <th></th>\n",
              "      <th>0</th>\n",
              "      <th>1</th>\n",
              "      <th>2</th>\n",
              "      <th>3</th>\n",
              "      <th>4</th>\n",
              "      <th>5</th>\n",
              "      <th>6</th>\n",
              "      <th>7</th>\n",
              "      <th>8</th>\n",
              "      <th>9</th>\n",
              "      <th>10</th>\n",
              "      <th>11</th>\n",
              "      <th>12</th>\n",
              "      <th>13</th>\n",
              "      <th>14</th>\n",
              "      <th>15</th>\n",
              "      <th>16</th>\n",
              "      <th>17</th>\n",
              "    </tr>\n",
              "  </thead>\n",
              "  <tbody>\n",
              "    <tr>\n",
              "      <th>0</th>\n",
              "      <td>0.0</td>\n",
              "      <td>0.000000</td>\n",
              "      <td>3136.0</td>\n",
              "      <td>0.000000</td>\n",
              "      <td>1.954767</td>\n",
              "      <td>0.0</td>\n",
              "      <td>0.000000</td>\n",
              "      <td>1.089126</td>\n",
              "      <td>0.000000</td>\n",
              "      <td>0.676471</td>\n",
              "      <td>1.822958</td>\n",
              "      <td>1.225806</td>\n",
              "      <td>0.000000</td>\n",
              "      <td>0.000000</td>\n",
              "      <td>0.741463</td>\n",
              "      <td>0.0</td>\n",
              "      <td>0.0</td>\n",
              "      <td>0.000000</td>\n",
              "    </tr>\n",
              "    <tr>\n",
              "      <th>1</th>\n",
              "      <td>0.0</td>\n",
              "      <td>0.000000</td>\n",
              "      <td>0.0</td>\n",
              "      <td>0.000000</td>\n",
              "      <td>0.283227</td>\n",
              "      <td>9811.0</td>\n",
              "      <td>0.000000</td>\n",
              "      <td>0.000000</td>\n",
              "      <td>1.080970</td>\n",
              "      <td>0.000000</td>\n",
              "      <td>0.000000</td>\n",
              "      <td>0.000000</td>\n",
              "      <td>0.000000</td>\n",
              "      <td>0.000000</td>\n",
              "      <td>-0.273171</td>\n",
              "      <td>0.0</td>\n",
              "      <td>3506.0</td>\n",
              "      <td>2.439358</td>\n",
              "    </tr>\n",
              "    <tr>\n",
              "      <th>2</th>\n",
              "      <td>2677.0</td>\n",
              "      <td>0.000000</td>\n",
              "      <td>0.0</td>\n",
              "      <td>0.000000</td>\n",
              "      <td>0.000000</td>\n",
              "      <td>1188.0</td>\n",
              "      <td>1.632675</td>\n",
              "      <td>0.000000</td>\n",
              "      <td>0.988727</td>\n",
              "      <td>0.000000</td>\n",
              "      <td>0.000000</td>\n",
              "      <td>0.000000</td>\n",
              "      <td>0.000000</td>\n",
              "      <td>0.000000</td>\n",
              "      <td>-0.273171</td>\n",
              "      <td>0.0</td>\n",
              "      <td>0.0</td>\n",
              "      <td>0.000000</td>\n",
              "    </tr>\n",
              "    <tr>\n",
              "      <th>3</th>\n",
              "      <td>6616.0</td>\n",
              "      <td>0.817055</td>\n",
              "      <td>0.0</td>\n",
              "      <td>0.000000</td>\n",
              "      <td>0.000000</td>\n",
              "      <td>0.0</td>\n",
              "      <td>0.000000</td>\n",
              "      <td>0.000000</td>\n",
              "      <td>1.515605</td>\n",
              "      <td>2.529412</td>\n",
              "      <td>0.000000</td>\n",
              "      <td>0.000000</td>\n",
              "      <td>1.751917</td>\n",
              "      <td>1.093575</td>\n",
              "      <td>-0.273171</td>\n",
              "      <td>0.0</td>\n",
              "      <td>0.0</td>\n",
              "      <td>4.912391</td>\n",
              "    </tr>\n",
              "    <tr>\n",
              "      <th>4</th>\n",
              "      <td>0.0</td>\n",
              "      <td>0.000000</td>\n",
              "      <td>0.0</td>\n",
              "      <td>1.107607</td>\n",
              "      <td>0.624719</td>\n",
              "      <td>3971.0</td>\n",
              "      <td>0.000000</td>\n",
              "      <td>0.000000</td>\n",
              "      <td>0.000000</td>\n",
              "      <td>0.000000</td>\n",
              "      <td>0.000000</td>\n",
              "      <td>0.021505</td>\n",
              "      <td>5.192001</td>\n",
              "      <td>0.000000</td>\n",
              "      <td>0.917073</td>\n",
              "      <td>0.0</td>\n",
              "      <td>0.0</td>\n",
              "      <td>0.000000</td>\n",
              "    </tr>\n",
              "  </tbody>\n",
              "</table>\n",
              "</div>"
            ],
            "text/plain": [
              "       0         1       2         3   ...        14   15      16        17\n",
              "0     0.0  0.000000  3136.0  0.000000  ...  0.741463  0.0     0.0  0.000000\n",
              "1     0.0  0.000000     0.0  0.000000  ... -0.273171  0.0  3506.0  2.439358\n",
              "2  2677.0  0.000000     0.0  0.000000  ... -0.273171  0.0     0.0  0.000000\n",
              "3  6616.0  0.817055     0.0  0.000000  ... -0.273171  0.0     0.0  4.912391\n",
              "4     0.0  0.000000     0.0  1.107607  ...  0.917073  0.0     0.0  0.000000\n",
              "\n",
              "[5 rows x 18 columns]"
            ]
          },
          "metadata": {
            "tags": []
          },
          "execution_count": 80
        }
      ]
    },
    {
      "cell_type": "markdown",
      "metadata": {
        "id": "b8qfW0H0aHUd",
        "colab_type": "text"
      },
      "source": [
        "### Nota\n",
        "\n",
        "El escalamiento aparte de las razones estadísticas de trabajar todas las variables sobre la misma escala, también obedece a razones computacionales."
      ]
    },
    {
      "cell_type": "code",
      "metadata": {
        "id": "f88CeS30ZaGW",
        "colab_type": "code",
        "colab": {
          "base_uri": "https://localhost:8080/",
          "height": 52
        },
        "outputId": "214dbfba-f95f-4573-ff2c-946324a7d238"
      },
      "source": [
        "a = 1e6\n",
        "print(a)\n",
        "\n",
        "# Ruido por sumar datos muy grandes con datos muy pequeños\n",
        "for i in np.arange(1e6):\n",
        "    a = a + 1e-6\n",
        "\n",
        "# Se espera 1000001 \n",
        "print(a)"
      ],
      "execution_count": null,
      "outputs": [
        {
          "output_type": "stream",
          "text": [
            "1000000.0\n",
            "1000001.0000076145\n"
          ],
          "name": "stdout"
        }
      ]
    },
    {
      "cell_type": "markdown",
      "metadata": {
        "id": "wKU8WbNthYRA",
        "colab_type": "text"
      },
      "source": [
        "1. Flujo de datos\n",
        "  - Limpieza de datos\n",
        "  - Escalamiento de"
      ]
    },
    {
      "cell_type": "markdown",
      "metadata": {
        "id": "gu3T_L74adWH",
        "colab_type": "text"
      },
      "source": [
        "## Búsqueda de outliers"
      ]
    },
    {
      "cell_type": "code",
      "metadata": {
        "id": "I6FjQ6lfaOsb",
        "colab_type": "code",
        "colab": {
          "base_uri": "https://localhost:8080/",
          "height": 542
        },
        "outputId": "3fe375d0-aee5-42d4-c5ce-c7892b217f91"
      },
      "source": [
        "import plotly.graph_objects as go\n",
        "import numpy as np\n",
        "\n",
        "fig = go.Figure()\n",
        "for index, column in df_scaled.iteritems():\n",
        "    fig.add_trace(go.Box(y=column, name=index))\n",
        "\n",
        "fig.show()"
      ],
      "execution_count": null,
      "outputs": [
        {
          "output_type": "display_data",
          "data": {
            "text/html": [
              "<html>\n",
              "<head><meta charset=\"utf-8\" /></head>\n",
              "<body>\n",
              "    <div>\n",
              "            <script src=\"https://cdnjs.cloudflare.com/ajax/libs/mathjax/2.7.5/MathJax.js?config=TeX-AMS-MML_SVG\"></script><script type=\"text/javascript\">if (window.MathJax) {MathJax.Hub.Config({SVG: {font: \"STIX-Web\"}});}</script>\n",
              "                <script type=\"text/javascript\">window.PlotlyConfig = {MathJaxConfig: 'local'};</script>\n",
              "        <script src=\"https://cdn.plot.ly/plotly-latest.min.js\"></script>    \n",
              "            <div id=\"38948d11-a2d2-436f-8ff4-86b9514e4db4\" class=\"plotly-graph-div\" style=\"height:525px; width:100%;\"></div>\n",
              "            <script type=\"text/javascript\">\n",
              "                \n",
              "                    window.PLOTLYENV=window.PLOTLYENV || {};\n",
              "                    \n",
              "                if (document.getElementById(\"38948d11-a2d2-436f-8ff4-86b9514e4db4\")) {\n",
              "                    Plotly.newPlot(\n",
              "                        '38948d11-a2d2-436f-8ff4-86b9514e4db4',\n",
              "                        [{\"name\": \"Iron Man\", \"type\": \"box\", \"y\": [0.8866820721133845, 0.5467282884535378, 1.0, 0.9244547147422564, 0.5162438530618634, 0.7355915015978971, 0.8866820721133845, 0.6222735737112816, 0.7733641442267689, 0.8489094294845126, 0.8111367868556408, 0.282319790051435, 0.6600462163401535, 0.8111367868556408, 0.8489094294845126, 0.8111367868556408, 0.35786507530917866, 0.0, 0.5845009310824097, 0.9244547147422564, 0.8111367868556408, 0.9244547147422564, 0.7355915015978971, 0.9244547147422564, 0.8111367868556408, 0.8866820721133845, 0.8866820721133845, 0.5614904057192613, 0.508955645824666, 0.6222735737112816]}, {\"name\": \"The Incredible Hulk\", \"type\": \"box\", \"y\": [0.9166666666666666, 0.0, 0.9999999999999999, 0.7499999999999999, 0.16666666666666669, 0.8306463616036278, 0.9999999999999999, 0.8333333333333333, 0.5833333333333333, 0.9999999999999999, 0.0, 0.0, 0.08333333333333333, 0.9166666666666666, 0.3333333333333333, 0.7499999999999999, 0.3333333333333333, 0.08333333333333333, 0.0, 0.7499999999999999, 0.7499999999999999, 0.7499999999999999, 0.08333333333333333, 0.0, 0.0, 0.780925980085794, 0.7225517164147103, 0.8351508361404111, 0.08333333333333333, 0.5833333333333333]}, {\"name\": \"Iron Man 2\", \"type\": \"box\", \"y\": [0.7222222222222221, 0.33333333333333326, 0.2777777777777778, 1.0, 0.05555555555555555, 0.38888888888888884, 0.7222222222222221, 0.611111111111111, 0.4444444444444444, 0.5, 0.1111111111111111, 0.0, 0.22222222222222224, 0.22222222222222224, 0.2777777777777778, 0.611111111111111, 0.38888888888888884, 0.4827586206896094, 0.2777777777777778, 0.9444444444444444, 0.7777777777777777, 0.7222222222222221, 0.5, 0.611111111111111, 0.7222222222222221, 0.8333333333333333, 0.7777777777777777, 0.2777777777777778, 0.16666666666666666, 0.5]}, {\"name\": \"Thor\", \"type\": \"box\", \"y\": [0.6865025259156236, 0.05950757774687075, 0.37300505183124716, 0.791001683943749, 0.21625631478905896, 0.5297537888734353, 0.9999999999999999, 0.47750420985937264, 0.5297537888734353, 0.7387521049296862, 0.2685058938031217, 0.05950757774687075, 0.16400673577499622, 0.6865025259156236, 0.11175715676093348, 0.3207554728171844, 0.5820033678874981, 0.40856690083836045, 0.0, 0.5297537888734353, 0.6865025259156236, 0.47750420985937264, 0.3207554728171844, 0.11175715676093348, 0.2685058938031217, 0.7387521049296862, 0.16400673577499622, 0.3207554728171844, 0.16400673577499622, 0.4252546308453099]}, {\"name\": \"Capit\\u00e1n Am\\u00e9rica: el primer vengador\", \"type\": \"box\", \"y\": [0.5263157894736843, 0.3157894736842105, 0.5263157894736843, 0.21052631578947367, 0.21052631578947367, 0.42105263157894735, 1.0, 0.3684210526315789, 0.5263157894736843, 0.736842105263158, 0.42105263157894735, 0.0, 0.8421052631578947, 0.736842105263158, 0.47368421052631576, 0.21052631578947367, 0.42105263157894735, 0.5093984962405997, 0.5263157894736843, 0.3684210526315789, 0.631578947368421, 0.5789473684210527, 0.21052631578947367, 0.631578947368421, 0.7894736842105263, 0.5093984962406031, 0.5789473684210527, 0.736842105263158, 0.3684210526315789, 0.894736842105263]}, {\"name\": \"The Avengers\", \"type\": \"box\", \"y\": [0.894736842105263, 0.3684210526315789, 0.9473684210526316, 0.7894736842105263, 0.47368421052631576, 0.8421052631578947, 1.0, 0.9473684210526316, 0.736842105263158, 1.0, 0.5263157894736843, 0.0, 0.736842105263158, 0.8421052631578947, 0.9473684210526316, 0.7894736842105263, 0.5789473684210527, 0.10526315789473684, 0.6842105263157894, 0.6842105263157894, 0.7894736842105263, 0.6842105263157894, 0.3684210526315789, 0.8421052631578947, 0.42105263157894735, 0.894736842105263, 0.8421052631578947, 0.8421052631578947, 0.631578947368421, 0.6842105263157894]}, {\"name\": \"Iron Man 3\", \"type\": \"box\", \"y\": [0.1764705882352941, 0.3529411764705882, 0.47058823529411764, 1.0, 0.0, 0.7647058823529411, 0.5294117647058824, 0.3529411764705882, 0.2941176470588235, 0.3529411764705882, 0.23529411764705882, 0.0, 0.7647058823529411, 0.6470588235294117, 0.1764705882352941, 0.1176470588235294, 0.0, 0.42533936651582765, 0.1176470588235294, 0.8235294117647058, 0.42533936651583243, 0.8823529411764706, 0.47058823529411764, 0.5882352941176471, 0.5294117647058824, 0.4253393665158366, 0.7647058823529411, 0.42533936651583704, 0.0, 0.6470588235294117]}, {\"name\": \"Thor: The Dark World\", \"type\": \"box\", \"y\": [0.22222222222222224, 0.1111111111111111, 0.22222222222222224, 0.8333333333333333, 0.2777777777777778, 0.611111111111111, 1.0, 0.8333333333333333, 0.33333333333333326, 0.33333333333333326, 0.5, 0.0, 0.0, 0.1111111111111111, 0.0, 0.05555555555555555, 0.6666666666666666, 0.22134741906198643, 0.0, 0.611111111111111, 0.694411253920988, 0.8333333333333333, 0.1111111111111111, 0.4444444444444444, 0.16666666666666666, 0.611111111111111, 0.2777777777777778, 0.611111111111111, 0.22222222222222224, 0.4444444444444444]}, {\"name\": \"Captain America: The Winter Soldier\", \"type\": \"box\", \"y\": [0.2631578947368421, 0.3684210526315789, 0.8421052631578947, 0.3684210526315789, 1.0, 0.6842105263157894, 1.0, 0.2631578947368421, 0.7894736842105263, 0.894736842105263, 0.894736842105263, 0.0, 0.7894736842105263, 0.894736842105263, 0.631578947368421, 0.42105263157894735, 0.3157894736842105, 0.637218045112601, 0.894736842105263, 0.3684210526315789, 0.6372180451128, 0.894736842105263, 0.736842105263158, 0.10526315789473684, 0.8421052631578947, 0.5263157894736843, 0.894736842105263, 0.5789473684210527, 0.894736842105263, 0.6842105263157894]}, {\"name\": \"Guardianes de la Galaxia\", \"type\": \"box\", \"y\": [0.7777777777777777, 0.3888888888888889, 1.0, 0.8888888888888888, 0.6666666666666665, 0.7777777777777777, 1.0, 0.7222222222222221, 0.8333333333333333, 0.7222222222222221, 0.6666666666666665, 0.0, 0.4444444444444445, 0.8333333333333333, 0.7222222222222221, 0.9444444444444444, 0.9444444444444444, 0.1111111111111111, 0.5555555555555556, 0.7222222222222221, 0.7471625032095379, 0.7777777777777777, 0.7777777777777777, 0.4444444444444445, 0.8888888888888888, 0.8888888888888888, 0.49999999999999994, 0.7222222222222221, 0.2222222222222222, 0.3333333333333333]}, {\"name\": \"Avengers: Age of Ultron\", \"type\": \"box\", \"y\": [0.8421052631578947, 0.3157894736842105, 1.0, 0.33566347493631693, 0.3157894736842105, 0.6842105263157894, 0.8421052631578947, 0.894736842105263, 0.5789473684210527, 0.631578947368421, 0.5789473684210527, 0.0, 0.42105263157894735, 0.47368421052631576, 0.3157894736842105, 0.5263157894736843, 0.47368421052631576, 0.05263157894736842, 0.736842105263158, 0.7894736842105263, 0.7894736842105263, 0.631578947368421, 0.15789473684210525, 0.15789473684210525, 0.3157894736842105, 0.6695537057694916, 0.7894736842105263, 0.8421052631578947, 0.6842105263157894, 0.736842105263158]}, {\"name\": \"Ant-Man\", \"type\": \"box\", \"y\": [0.5, 0.4444444444444444, 0.8888888888888888, 0.5637860082304558, 0.7777777777777777, 0.5, 1.0, 0.6666666666666666, 0.16666666666666666, 0.6666666666666666, 0.38888888888888884, 0.0, 1.0, 0.7222222222222221, 0.7222222222222221, 0.8888888888888888, 0.2777777777777778, 0.0, 0.6666666666666666, 0.8888888888888888, 0.5637860082304539, 0.611111111111111, 0.7222222222222221, 0.38888888888888884, 0.05555555555555555, 0.5637860082304585, 0.33333333333333326, 0.9444444444444444, 0.611111111111111, 0.38888888888888884]}, {\"name\": \"Captain America: Civil War\", \"type\": \"box\", \"y\": [0.9473684210526316, 0.3684210526315789, 1.0, 0.894736842105263, 0.3684210526315789, 0.9473684210526316, 1.0, 0.21052631578947367, 0.631578947368421, 1.0, 0.894736842105263, 0.0, 1.0, 0.7894736842105263, 0.894736842105263, 0.894736842105263, 0.7192982456140304, 0.7192982456140327, 0.9473684210526316, 0.7894736842105263, 0.6842105263157894, 0.5263157894736843, 0.5789473684210527, 0.21052631578947367, 0.3684210526315789, 0.8421052631578947, 0.9473684210526316, 0.7192982456140373, 0.7894736842105263, 0.894736842105263]}, {\"name\": \"Doctor Strange\", \"type\": \"box\", \"y\": [0.8421052631578947, 0.42105263157894735, 0.47368421052631576, 0.6635338345864685, 0.9473684210526316, 0.8421052631578947, 1.0, 0.15789473684210525, 0.10526315789473684, 0.736842105263158, 0.7894736842105263, 0.0, 0.15789473684210525, 0.6842105263157894, 0.8421052631578947, 0.8421052631578947, 0.894736842105263, 0.2631578947368421, 0.7894736842105263, 0.8421052631578947, 0.6635338345864743, 0.9473684210526316, 0.5263157894736843, 0.9473684210526316, 0.631578947368421, 0.6842105263157894, 0.6842105263157894, 0.7894736842105263, 1.0, 0.736842105263158]}, {\"name\": \"Guardianes de la Galaxia Vol. 2\", \"type\": \"box\", \"y\": [0.3157894736842105, 0.42105263157894735, 0.2631578947368421, 0.7894736842105263, 0.42105263157894735, 0.3684210526315789, 1.0, 0.10526315789473684, 0.05263157894736842, 0.736842105263158, 0.9473684210526316, 0.0, 0.2631578947368421, 1.0, 0.10526315789473684, 0.4717348927875394, 0.736842105263158, 0.10526315789473684, 0.05263157894736842, 0.631578947368421, 0.47173489278749675, 0.8421052631578947, 0.894736842105263, 0.3157894736842105, 0.2631578947368421, 0.6842105263157894, 0.42105263157894735, 0.471734892787573, 0.47368421052631576, 0.5263157894736843]}, {\"name\": \"Spider-Man: Homecoming\", \"type\": \"box\", \"y\": [0.2631578947368421, 0.42105263157894735, 0.2631578947368421, 0.47368421052631576, 0.5263157894736843, 0.21052631578947367, 1.0, 0.6842105263157894, 0.0, 0.7894736842105263, 1.0, 0.0, 0.5789473684210527, 0.894736842105263, 0.5789473684210527, 0.6842105263157894, 0.6842105263157894, 0.0, 0.27735082396507665, 0.8421052631578947, 0.6032456084027813, 0.42105263157894735, 0.3157894736842105, 0.7894736842105263, 0.9473684210526316, 0.5260412519696887, 0.47368421052631576, 0.8827858832849389, 0.736842105263158, 0.6842105263157894]}, {\"name\": \"Thor: Ragnarok\", \"type\": \"box\", \"y\": [0.47368421052631576, 0.42105263157894735, 0.15789473684210525, 0.5469924812029341, 0.47368421052631576, 0.10526315789473684, 0.8421052631578947, 0.05263157894736842, 0.894736842105263, 0.631578947368421, 0.6842105263157894, 0.0, 0.3157894736842105, 0.894736842105263, 0.5263157894736843, 0.6842105263157894, 1.0, 0.5469924812029432, 0.6842105263157894, 0.7894736842105263, 0.5789473684210527, 0.8421052631578947, 0.9473684210526316, 0.6842105263157894, 0.5263157894736843, 0.5789473684210527, 0.0, 0.47368421052631576, 0.42105263157894735, 0.631578947368421]}, {\"name\": \"Black Panther\", \"type\": \"box\", \"y\": [0.3684210526315789, 0.3684210526315789, 0.8421052631578947, 0.20029488238246035, 0.8421052631578947, 0.5789473684210527, 1.0, 0.0, 0.9473684210526316, 0.736842105263158, 0.8421052631578947, 0.0, 0.3684210526315789, 0.894736842105263, 0.3684210526315789, 0.8421052631578947, 0.8421052631578947, 0.10526315789473684, 0.8421052631578947, 0.0, 0.631578947368421, 0.736842105263158, 1.0, 1.0, 0.5789473684210527, 0.7018280708474192, 0.5263157894736843, 0.736842105263158, 0.8421052631578947, 0.736842105263158]}, {\"name\": \"Avengers: Infinity War\", \"type\": \"box\", \"y\": [1.0, 0.42105263157894735, 0.894736842105263, 0.8421052631578947, 0.7894736842105263, 1.0, 1.0, 1.0, 1.0, 1.0, 0.7894736842105263, 0.0, 0.894736842105263, 1.0, 1.0, 1.0, 0.7894736842105263, 0.15789473684210525, 1.0, 0.894736842105263, 0.7894736842105263, 1.0, 0.8421052631578947, 0.736842105263158, 1.0, 1.0, 1.0, 0.8421052631578947, 0.9473684210526316, 0.8421052631578947]}, {\"name\": \"Ant-Man and The Wasp\", \"type\": \"box\", \"y\": [0.3219751953008744, 0.3219751953008744, 0.30962414793266224, 0.9999999999999999, 0.32626767813494245, 0.8644221452101409, 0.44548566898299585, 0.42078357424657153, 0.2725710058280258, 0.38373043214193514, 0.2972731005644501, 0.2231668163551772, 0.37137938477372295, 0.4084325268783594, 0.3219751953008744, 0.37137938477372295, 0.810106811715522, 0.8977226429639718, 0.3219751953008744, 0.43313462161478367, 0.38373043214193514, 0.28705381433185945, 0.32637128658604836, 0.2715966172810355, 0.0, 0.5057641412684009, 0.37137938477372295, 0.43313462161478367, 0.3466772900372987, 0.37137938477372295]}],\n",
              "                        {\"template\": {\"data\": {\"bar\": [{\"error_x\": {\"color\": \"#2a3f5f\"}, \"error_y\": {\"color\": \"#2a3f5f\"}, \"marker\": {\"line\": {\"color\": \"#E5ECF6\", \"width\": 0.5}}, \"type\": \"bar\"}], \"barpolar\": [{\"marker\": {\"line\": {\"color\": \"#E5ECF6\", \"width\": 0.5}}, \"type\": \"barpolar\"}], \"carpet\": [{\"aaxis\": {\"endlinecolor\": \"#2a3f5f\", \"gridcolor\": \"white\", \"linecolor\": \"white\", \"minorgridcolor\": \"white\", \"startlinecolor\": \"#2a3f5f\"}, \"baxis\": {\"endlinecolor\": \"#2a3f5f\", \"gridcolor\": \"white\", \"linecolor\": \"white\", \"minorgridcolor\": \"white\", \"startlinecolor\": \"#2a3f5f\"}, \"type\": \"carpet\"}], \"choropleth\": [{\"colorbar\": {\"outlinewidth\": 0, \"ticks\": \"\"}, \"type\": \"choropleth\"}], \"contour\": [{\"colorbar\": {\"outlinewidth\": 0, \"ticks\": \"\"}, \"colorscale\": [[0.0, \"#0d0887\"], [0.1111111111111111, \"#46039f\"], [0.2222222222222222, \"#7201a8\"], [0.3333333333333333, \"#9c179e\"], [0.4444444444444444, \"#bd3786\"], [0.5555555555555556, \"#d8576b\"], [0.6666666666666666, \"#ed7953\"], [0.7777777777777778, \"#fb9f3a\"], [0.8888888888888888, \"#fdca26\"], [1.0, \"#f0f921\"]], \"type\": \"contour\"}], \"contourcarpet\": [{\"colorbar\": {\"outlinewidth\": 0, \"ticks\": \"\"}, \"type\": \"contourcarpet\"}], \"heatmap\": [{\"colorbar\": {\"outlinewidth\": 0, \"ticks\": \"\"}, \"colorscale\": [[0.0, \"#0d0887\"], [0.1111111111111111, \"#46039f\"], [0.2222222222222222, \"#7201a8\"], [0.3333333333333333, \"#9c179e\"], [0.4444444444444444, \"#bd3786\"], [0.5555555555555556, \"#d8576b\"], [0.6666666666666666, \"#ed7953\"], [0.7777777777777778, \"#fb9f3a\"], [0.8888888888888888, \"#fdca26\"], [1.0, \"#f0f921\"]], \"type\": \"heatmap\"}], \"heatmapgl\": [{\"colorbar\": {\"outlinewidth\": 0, \"ticks\": \"\"}, \"colorscale\": [[0.0, \"#0d0887\"], [0.1111111111111111, \"#46039f\"], [0.2222222222222222, \"#7201a8\"], [0.3333333333333333, \"#9c179e\"], [0.4444444444444444, \"#bd3786\"], [0.5555555555555556, \"#d8576b\"], [0.6666666666666666, \"#ed7953\"], [0.7777777777777778, \"#fb9f3a\"], [0.8888888888888888, \"#fdca26\"], [1.0, \"#f0f921\"]], \"type\": \"heatmapgl\"}], \"histogram\": [{\"marker\": {\"colorbar\": {\"outlinewidth\": 0, \"ticks\": \"\"}}, \"type\": \"histogram\"}], \"histogram2d\": [{\"colorbar\": {\"outlinewidth\": 0, \"ticks\": \"\"}, \"colorscale\": [[0.0, \"#0d0887\"], [0.1111111111111111, \"#46039f\"], [0.2222222222222222, \"#7201a8\"], [0.3333333333333333, \"#9c179e\"], [0.4444444444444444, \"#bd3786\"], [0.5555555555555556, \"#d8576b\"], [0.6666666666666666, \"#ed7953\"], [0.7777777777777778, \"#fb9f3a\"], [0.8888888888888888, \"#fdca26\"], [1.0, \"#f0f921\"]], \"type\": \"histogram2d\"}], \"histogram2dcontour\": [{\"colorbar\": {\"outlinewidth\": 0, \"ticks\": \"\"}, \"colorscale\": [[0.0, \"#0d0887\"], [0.1111111111111111, \"#46039f\"], [0.2222222222222222, \"#7201a8\"], [0.3333333333333333, \"#9c179e\"], [0.4444444444444444, \"#bd3786\"], [0.5555555555555556, \"#d8576b\"], [0.6666666666666666, \"#ed7953\"], [0.7777777777777778, \"#fb9f3a\"], [0.8888888888888888, \"#fdca26\"], [1.0, \"#f0f921\"]], \"type\": \"histogram2dcontour\"}], \"mesh3d\": [{\"colorbar\": {\"outlinewidth\": 0, \"ticks\": \"\"}, \"type\": \"mesh3d\"}], \"parcoords\": [{\"line\": {\"colorbar\": {\"outlinewidth\": 0, \"ticks\": \"\"}}, \"type\": \"parcoords\"}], \"pie\": [{\"automargin\": true, \"type\": \"pie\"}], \"scatter\": [{\"marker\": {\"colorbar\": {\"outlinewidth\": 0, \"ticks\": \"\"}}, \"type\": \"scatter\"}], \"scatter3d\": [{\"line\": {\"colorbar\": {\"outlinewidth\": 0, \"ticks\": \"\"}}, \"marker\": {\"colorbar\": {\"outlinewidth\": 0, \"ticks\": \"\"}}, \"type\": \"scatter3d\"}], \"scattercarpet\": [{\"marker\": {\"colorbar\": {\"outlinewidth\": 0, \"ticks\": \"\"}}, \"type\": \"scattercarpet\"}], \"scattergeo\": [{\"marker\": {\"colorbar\": {\"outlinewidth\": 0, \"ticks\": \"\"}}, \"type\": \"scattergeo\"}], \"scattergl\": [{\"marker\": {\"colorbar\": {\"outlinewidth\": 0, \"ticks\": \"\"}}, \"type\": \"scattergl\"}], \"scattermapbox\": [{\"marker\": {\"colorbar\": {\"outlinewidth\": 0, \"ticks\": \"\"}}, \"type\": \"scattermapbox\"}], \"scatterpolar\": [{\"marker\": {\"colorbar\": {\"outlinewidth\": 0, \"ticks\": \"\"}}, \"type\": \"scatterpolar\"}], \"scatterpolargl\": [{\"marker\": {\"colorbar\": {\"outlinewidth\": 0, \"ticks\": \"\"}}, \"type\": \"scatterpolargl\"}], \"scatterternary\": [{\"marker\": {\"colorbar\": {\"outlinewidth\": 0, \"ticks\": \"\"}}, \"type\": \"scatterternary\"}], \"surface\": [{\"colorbar\": {\"outlinewidth\": 0, \"ticks\": \"\"}, \"colorscale\": [[0.0, \"#0d0887\"], [0.1111111111111111, \"#46039f\"], [0.2222222222222222, \"#7201a8\"], [0.3333333333333333, \"#9c179e\"], [0.4444444444444444, \"#bd3786\"], [0.5555555555555556, \"#d8576b\"], [0.6666666666666666, \"#ed7953\"], [0.7777777777777778, \"#fb9f3a\"], [0.8888888888888888, \"#fdca26\"], [1.0, \"#f0f921\"]], \"type\": \"surface\"}], \"table\": [{\"cells\": {\"fill\": {\"color\": \"#EBF0F8\"}, \"line\": {\"color\": \"white\"}}, \"header\": {\"fill\": {\"color\": \"#C8D4E3\"}, \"line\": {\"color\": \"white\"}}, \"type\": \"table\"}]}, \"layout\": {\"annotationdefaults\": {\"arrowcolor\": \"#2a3f5f\", \"arrowhead\": 0, \"arrowwidth\": 1}, \"coloraxis\": {\"colorbar\": {\"outlinewidth\": 0, \"ticks\": \"\"}}, \"colorscale\": {\"diverging\": [[0, \"#8e0152\"], [0.1, \"#c51b7d\"], [0.2, \"#de77ae\"], [0.3, \"#f1b6da\"], [0.4, \"#fde0ef\"], [0.5, \"#f7f7f7\"], [0.6, \"#e6f5d0\"], [0.7, \"#b8e186\"], [0.8, \"#7fbc41\"], [0.9, \"#4d9221\"], [1, \"#276419\"]], \"sequential\": [[0.0, \"#0d0887\"], [0.1111111111111111, \"#46039f\"], [0.2222222222222222, \"#7201a8\"], [0.3333333333333333, \"#9c179e\"], [0.4444444444444444, \"#bd3786\"], [0.5555555555555556, \"#d8576b\"], [0.6666666666666666, \"#ed7953\"], [0.7777777777777778, \"#fb9f3a\"], [0.8888888888888888, \"#fdca26\"], [1.0, \"#f0f921\"]], \"sequentialminus\": [[0.0, \"#0d0887\"], [0.1111111111111111, \"#46039f\"], [0.2222222222222222, \"#7201a8\"], [0.3333333333333333, \"#9c179e\"], [0.4444444444444444, \"#bd3786\"], [0.5555555555555556, \"#d8576b\"], [0.6666666666666666, \"#ed7953\"], [0.7777777777777778, \"#fb9f3a\"], [0.8888888888888888, \"#fdca26\"], [1.0, \"#f0f921\"]]}, \"colorway\": [\"#636efa\", \"#EF553B\", \"#00cc96\", \"#ab63fa\", \"#FFA15A\", \"#19d3f3\", \"#FF6692\", \"#B6E880\", \"#FF97FF\", \"#FECB52\"], \"font\": {\"color\": \"#2a3f5f\"}, \"geo\": {\"bgcolor\": \"white\", \"lakecolor\": \"white\", \"landcolor\": \"#E5ECF6\", \"showlakes\": true, \"showland\": true, \"subunitcolor\": \"white\"}, \"hoverlabel\": {\"align\": \"left\"}, \"hovermode\": \"closest\", \"mapbox\": {\"style\": \"light\"}, \"paper_bgcolor\": \"white\", \"plot_bgcolor\": \"#E5ECF6\", \"polar\": {\"angularaxis\": {\"gridcolor\": \"white\", \"linecolor\": \"white\", \"ticks\": \"\"}, \"bgcolor\": \"#E5ECF6\", \"radialaxis\": {\"gridcolor\": \"white\", \"linecolor\": \"white\", \"ticks\": \"\"}}, \"scene\": {\"xaxis\": {\"backgroundcolor\": \"#E5ECF6\", \"gridcolor\": \"white\", \"gridwidth\": 2, \"linecolor\": \"white\", \"showbackground\": true, \"ticks\": \"\", \"zerolinecolor\": \"white\"}, \"yaxis\": {\"backgroundcolor\": \"#E5ECF6\", \"gridcolor\": \"white\", \"gridwidth\": 2, \"linecolor\": \"white\", \"showbackground\": true, \"ticks\": \"\", \"zerolinecolor\": \"white\"}, \"zaxis\": {\"backgroundcolor\": \"#E5ECF6\", \"gridcolor\": \"white\", \"gridwidth\": 2, \"linecolor\": \"white\", \"showbackground\": true, \"ticks\": \"\", \"zerolinecolor\": \"white\"}}, \"shapedefaults\": {\"line\": {\"color\": \"#2a3f5f\"}}, \"ternary\": {\"aaxis\": {\"gridcolor\": \"white\", \"linecolor\": \"white\", \"ticks\": \"\"}, \"baxis\": {\"gridcolor\": \"white\", \"linecolor\": \"white\", \"ticks\": \"\"}, \"bgcolor\": \"#E5ECF6\", \"caxis\": {\"gridcolor\": \"white\", \"linecolor\": \"white\", \"ticks\": \"\"}}, \"title\": {\"x\": 0.05}, \"xaxis\": {\"automargin\": true, \"gridcolor\": \"white\", \"linecolor\": \"white\", \"ticks\": \"\", \"title\": {\"standoff\": 15}, \"zerolinecolor\": \"white\", \"zerolinewidth\": 2}, \"yaxis\": {\"automargin\": true, \"gridcolor\": \"white\", \"linecolor\": \"white\", \"ticks\": \"\", \"title\": {\"standoff\": 15}, \"zerolinecolor\": \"white\", \"zerolinewidth\": 2}}}},\n",
              "                        {\"responsive\": true}\n",
              "                    ).then(function(){\n",
              "                            \n",
              "var gd = document.getElementById('38948d11-a2d2-436f-8ff4-86b9514e4db4');\n",
              "var x = new MutationObserver(function (mutations, observer) {{\n",
              "        var display = window.getComputedStyle(gd).display;\n",
              "        if (!display || display === 'none') {{\n",
              "            console.log([gd, 'removed!']);\n",
              "            Plotly.purge(gd);\n",
              "            observer.disconnect();\n",
              "        }}\n",
              "}});\n",
              "\n",
              "// Listen for the removal of the full notebook cells\n",
              "var notebookContainer = gd.closest('#notebook-container');\n",
              "if (notebookContainer) {{\n",
              "    x.observe(notebookContainer, {childList: true});\n",
              "}}\n",
              "\n",
              "// Listen for the clearing of the current output cell\n",
              "var outputEl = gd.closest('.output');\n",
              "if (outputEl) {{\n",
              "    x.observe(outputEl, {childList: true});\n",
              "}}\n",
              "\n",
              "                        })\n",
              "                };\n",
              "                \n",
              "            </script>\n",
              "        </div>\n",
              "</body>\n",
              "</html>"
            ]
          },
          "metadata": {
            "tags": []
          }
        }
      ]
    },
    {
      "cell_type": "markdown",
      "metadata": {
        "id": "4K9D8om8cQeY",
        "colab_type": "text"
      },
      "source": [
        "## Basado en RI (Rango intercuartílico)"
      ]
    },
    {
      "cell_type": "code",
      "metadata": {
        "id": "cx47knUzcRRe",
        "colab_type": "code",
        "colab": {
          "base_uri": "https://localhost:8080/",
          "height": 382
        },
        "outputId": "84587d0e-4866-40b7-8c8c-ca9569cb18dd"
      },
      "source": [
        "# Limite superior\n",
        "ri = df_scaled.quantile(.75) - df_scaled.quantile(.25)\n",
        "ls = df_scaled.quantile(.75) + (1.5 * ri )\n",
        "ls"
      ],
      "execution_count": null,
      "outputs": [
        {
          "output_type": "execute_result",
          "data": {
            "text/plain": [
              "Iron Man                               1.325789\n",
              "The Incredible Hulk                    1.920541\n",
              "Iron Man 2                             1.388889\n",
              "Thor                                   1.156749\n",
              "Capitán América: el primer vengador    1.026316\n",
              "The Avengers                           1.217105\n",
              "Iron Man 3                             1.294118\n",
              "Thor: The Dark World                   1.340278\n",
              "Captain America: The Winter Soldier    1.664474\n",
              "Guardianes de la Galaxia               1.312500\n",
              "Avengers: Age of Ultron                1.459653\n",
              "Ant-Man                                1.222222\n",
              "Captain America: Civil War             1.447368\n",
              "Doctor Strange                         1.276316\n",
              "Guardianes de la Galaxia Vol. 2        1.414474\n",
              "Spider-Man: Homecoming                 1.427632\n",
              "Thor: Ragnarok                         1.059211\n",
              "Black Panther                          1.552632\n",
              "Avengers: Infinity War                 1.296053\n",
              "Ant-Man and The Wasp                   0.592154\n",
              "dtype: float64"
            ]
          },
          "metadata": {
            "tags": []
          },
          "execution_count": 83
        }
      ]
    },
    {
      "cell_type": "code",
      "metadata": {
        "id": "_tuPqX9acecv",
        "colab_type": "code",
        "colab": {
          "base_uri": "https://localhost:8080/",
          "height": 382
        },
        "outputId": "5a7d6471-8c57-4a82-bf2e-93dd23467527"
      },
      "source": [
        "# Limite Inferior\n",
        "li = df_scaled.quantile(.25) - (1.5 * ri )\n",
        "li"
      ],
      "execution_count": null,
      "outputs": [
        {
          "output_type": "execute_result",
          "data": {
            "text/plain": [
              "Iron Man                               0.154837\n",
              "The Incredible Hulk                   -1.018991\n",
              "Iron Man 2                            -0.388889\n",
              "Thor                                  -0.410739\n",
              "Capitán América: el primer vengador   -0.026316\n",
              "The Avengers                           0.217105\n",
              "Iron Man 3                            -0.470588\n",
              "Thor: The Dark World                  -0.604167\n",
              "Captain America: The Winter Soldier   -0.388158\n",
              "Guardianes de la Galaxia               0.034722\n",
              "Avengers: Age of Ultron               -0.362579\n",
              "Ant-Man                               -0.111111\n",
              "Captain America: Civil War             0.078947\n",
              "Doctor Strange                         0.118421\n",
              "Guardianes de la Galaxia Vol. 2       -0.427632\n",
              "Spider-Man: Homecoming                -0.309211\n",
              "Thor: Ragnarok                         0.059211\n",
              "Black Panther                         -0.342105\n",
              "Avengers: Infinity War                 0.506579\n",
              "Ant-Man and The Wasp                   0.159868\n",
              "dtype: float64"
            ]
          },
          "metadata": {
            "tags": []
          },
          "execution_count": 84
        }
      ]
    },
    {
      "cell_type": "code",
      "metadata": {
        "id": "4W-Ox0tWcnLZ",
        "colab_type": "code",
        "colab": {}
      },
      "source": [
        "df_scaled2 = df_scaled.copy()\n",
        "for key in ls.keys():\n",
        "    df_scaled2 = df_scaled2[df_scaled2[key] > li[key]]"
      ],
      "execution_count": null,
      "outputs": []
    },
    {
      "cell_type": "code",
      "metadata": {
        "id": "fsskfCPecu3O",
        "colab_type": "code",
        "colab": {
          "base_uri": "https://localhost:8080/",
          "height": 296
        },
        "outputId": "6d1e489d-5da0-4fd3-e471-c17d01634f11"
      },
      "source": [
        "df_scaled2.head()"
      ],
      "execution_count": null,
      "outputs": [
        {
          "output_type": "execute_result",
          "data": {
            "text/html": [
              "<div>\n",
              "<style scoped>\n",
              "    .dataframe tbody tr th:only-of-type {\n",
              "        vertical-align: middle;\n",
              "    }\n",
              "\n",
              "    .dataframe tbody tr th {\n",
              "        vertical-align: top;\n",
              "    }\n",
              "\n",
              "    .dataframe thead th {\n",
              "        text-align: right;\n",
              "    }\n",
              "</style>\n",
              "<table border=\"1\" class=\"dataframe\">\n",
              "  <thead>\n",
              "    <tr style=\"text-align: right;\">\n",
              "      <th></th>\n",
              "      <th>Iron Man</th>\n",
              "      <th>The Incredible Hulk</th>\n",
              "      <th>Iron Man 2</th>\n",
              "      <th>Thor</th>\n",
              "      <th>Capitán América: el primer vengador</th>\n",
              "      <th>The Avengers</th>\n",
              "      <th>Iron Man 3</th>\n",
              "      <th>Thor: The Dark World</th>\n",
              "      <th>Captain America: The Winter Soldier</th>\n",
              "      <th>Guardianes de la Galaxia</th>\n",
              "      <th>Avengers: Age of Ultron</th>\n",
              "      <th>Ant-Man</th>\n",
              "      <th>Captain America: Civil War</th>\n",
              "      <th>Doctor Strange</th>\n",
              "      <th>Guardianes de la Galaxia Vol. 2</th>\n",
              "      <th>Spider-Man: Homecoming</th>\n",
              "      <th>Thor: Ragnarok</th>\n",
              "      <th>Black Panther</th>\n",
              "      <th>Avengers: Infinity War</th>\n",
              "      <th>Ant-Man and The Wasp</th>\n",
              "    </tr>\n",
              "  </thead>\n",
              "  <tbody>\n",
              "    <tr>\n",
              "      <th>0</th>\n",
              "      <td>0.886682</td>\n",
              "      <td>0.916667</td>\n",
              "      <td>0.722222</td>\n",
              "      <td>0.686503</td>\n",
              "      <td>0.526316</td>\n",
              "      <td>0.894737</td>\n",
              "      <td>0.176471</td>\n",
              "      <td>0.222222</td>\n",
              "      <td>0.263158</td>\n",
              "      <td>0.777778</td>\n",
              "      <td>0.842105</td>\n",
              "      <td>0.500000</td>\n",
              "      <td>0.947368</td>\n",
              "      <td>0.842105</td>\n",
              "      <td>0.315789</td>\n",
              "      <td>0.263158</td>\n",
              "      <td>0.473684</td>\n",
              "      <td>0.368421</td>\n",
              "      <td>1.000000</td>\n",
              "      <td>0.321975</td>\n",
              "    </tr>\n",
              "    <tr>\n",
              "      <th>2</th>\n",
              "      <td>1.000000</td>\n",
              "      <td>1.000000</td>\n",
              "      <td>0.277778</td>\n",
              "      <td>0.373005</td>\n",
              "      <td>0.526316</td>\n",
              "      <td>0.947368</td>\n",
              "      <td>0.470588</td>\n",
              "      <td>0.222222</td>\n",
              "      <td>0.842105</td>\n",
              "      <td>1.000000</td>\n",
              "      <td>1.000000</td>\n",
              "      <td>0.888889</td>\n",
              "      <td>1.000000</td>\n",
              "      <td>0.473684</td>\n",
              "      <td>0.263158</td>\n",
              "      <td>0.263158</td>\n",
              "      <td>0.157895</td>\n",
              "      <td>0.842105</td>\n",
              "      <td>0.894737</td>\n",
              "      <td>0.309624</td>\n",
              "    </tr>\n",
              "    <tr>\n",
              "      <th>3</th>\n",
              "      <td>0.924455</td>\n",
              "      <td>0.750000</td>\n",
              "      <td>1.000000</td>\n",
              "      <td>0.791002</td>\n",
              "      <td>0.210526</td>\n",
              "      <td>0.789474</td>\n",
              "      <td>1.000000</td>\n",
              "      <td>0.833333</td>\n",
              "      <td>0.368421</td>\n",
              "      <td>0.888889</td>\n",
              "      <td>0.335663</td>\n",
              "      <td>0.563786</td>\n",
              "      <td>0.894737</td>\n",
              "      <td>0.663534</td>\n",
              "      <td>0.789474</td>\n",
              "      <td>0.473684</td>\n",
              "      <td>0.546992</td>\n",
              "      <td>0.200295</td>\n",
              "      <td>0.842105</td>\n",
              "      <td>1.000000</td>\n",
              "    </tr>\n",
              "    <tr>\n",
              "      <th>4</th>\n",
              "      <td>0.516244</td>\n",
              "      <td>0.166667</td>\n",
              "      <td>0.055556</td>\n",
              "      <td>0.216256</td>\n",
              "      <td>0.210526</td>\n",
              "      <td>0.473684</td>\n",
              "      <td>0.000000</td>\n",
              "      <td>0.277778</td>\n",
              "      <td>1.000000</td>\n",
              "      <td>0.666667</td>\n",
              "      <td>0.315789</td>\n",
              "      <td>0.777778</td>\n",
              "      <td>0.368421</td>\n",
              "      <td>0.947368</td>\n",
              "      <td>0.421053</td>\n",
              "      <td>0.526316</td>\n",
              "      <td>0.473684</td>\n",
              "      <td>0.842105</td>\n",
              "      <td>0.789474</td>\n",
              "      <td>0.326268</td>\n",
              "    </tr>\n",
              "    <tr>\n",
              "      <th>5</th>\n",
              "      <td>0.735592</td>\n",
              "      <td>0.830646</td>\n",
              "      <td>0.388889</td>\n",
              "      <td>0.529754</td>\n",
              "      <td>0.421053</td>\n",
              "      <td>0.842105</td>\n",
              "      <td>0.764706</td>\n",
              "      <td>0.611111</td>\n",
              "      <td>0.684211</td>\n",
              "      <td>0.777778</td>\n",
              "      <td>0.684211</td>\n",
              "      <td>0.500000</td>\n",
              "      <td>0.947368</td>\n",
              "      <td>0.842105</td>\n",
              "      <td>0.368421</td>\n",
              "      <td>0.210526</td>\n",
              "      <td>0.105263</td>\n",
              "      <td>0.578947</td>\n",
              "      <td>1.000000</td>\n",
              "      <td>0.864422</td>\n",
              "    </tr>\n",
              "  </tbody>\n",
              "</table>\n",
              "</div>"
            ],
            "text/plain": [
              "   Iron Man  The Incredible Hulk  ...  Avengers: Infinity War  Ant-Man and The Wasp\n",
              "0  0.886682             0.916667  ...                1.000000              0.321975\n",
              "2  1.000000             1.000000  ...                0.894737              0.309624\n",
              "3  0.924455             0.750000  ...                0.842105              1.000000\n",
              "4  0.516244             0.166667  ...                0.789474              0.326268\n",
              "5  0.735592             0.830646  ...                1.000000              0.864422\n",
              "\n",
              "[5 rows x 20 columns]"
            ]
          },
          "metadata": {
            "tags": []
          },
          "execution_count": 86
        }
      ]
    },
    {
      "cell_type": "markdown",
      "metadata": {
        "id": "0w3pKhE7dJpv",
        "colab_type": "text"
      },
      "source": [
        "## Z-Score"
      ]
    },
    {
      "cell_type": "code",
      "metadata": {
        "id": "woRXjjLTdHR_",
        "colab_type": "code",
        "colab": {}
      },
      "source": [
        "# Transformalo en distribución normal estandar\n",
        "from scipy import stats\n",
        "z_score = stats.zscore(df_scaled)\n",
        "norm = stats.norm()\n",
        "max_val = norm.ppf(.95)\n",
        "df_bool = pd.DataFrame(z_score) < -max_val\n",
        "df_scaled3 = df_scaled[df_bool.sum(axis=1) == 0]"
      ],
      "execution_count": null,
      "outputs": []
    },
    {
      "cell_type": "code",
      "metadata": {
        "id": "txWdCV0VdfGw",
        "colab_type": "code",
        "colab": {
          "base_uri": "https://localhost:8080/",
          "height": 542
        },
        "outputId": "750a62cb-96fd-4b55-f00e-f08bbcb281b1"
      },
      "source": [
        "import plotly.graph_objects as go\n",
        "import numpy as np\n",
        "\n",
        "fig = go.Figure()\n",
        "for index, column in df_scaled3.iteritems():\n",
        "    fig.add_trace(go.Box(y=column, name=index))\n",
        "\n",
        "fig.show()"
      ],
      "execution_count": null,
      "outputs": [
        {
          "output_type": "display_data",
          "data": {
            "text/html": [
              "<html>\n",
              "<head><meta charset=\"utf-8\" /></head>\n",
              "<body>\n",
              "    <div>\n",
              "            <script src=\"https://cdnjs.cloudflare.com/ajax/libs/mathjax/2.7.5/MathJax.js?config=TeX-AMS-MML_SVG\"></script><script type=\"text/javascript\">if (window.MathJax) {MathJax.Hub.Config({SVG: {font: \"STIX-Web\"}});}</script>\n",
              "                <script type=\"text/javascript\">window.PlotlyConfig = {MathJaxConfig: 'local'};</script>\n",
              "        <script src=\"https://cdn.plot.ly/plotly-latest.min.js\"></script>    \n",
              "            <div id=\"9edc77be-428c-4818-b9b8-5de694bba602\" class=\"plotly-graph-div\" style=\"height:525px; width:100%;\"></div>\n",
              "            <script type=\"text/javascript\">\n",
              "                \n",
              "                    window.PLOTLYENV=window.PLOTLYENV || {};\n",
              "                    \n",
              "                if (document.getElementById(\"9edc77be-428c-4818-b9b8-5de694bba602\")) {\n",
              "                    Plotly.newPlot(\n",
              "                        '9edc77be-428c-4818-b9b8-5de694bba602',\n",
              "                        [{\"name\": \"Iron Man\", \"type\": \"box\", \"y\": [0.8866820721133845, 1.0, 0.9244547147422564, 0.5162438530618634, 0.7355915015978971, 0.8866820721133845, 0.8489094294845126, 0.8111367868556408, 0.8111367868556408, 0.8489094294845126, 0.8111367868556408, 0.35786507530917866, 0.5845009310824097, 0.8111367868556408, 0.9244547147422564, 0.7355915015978971, 0.8866820721133845, 0.5614904057192613, 0.6222735737112816]}, {\"name\": \"The Incredible Hulk\", \"type\": \"box\", \"y\": [0.9166666666666666, 0.9999999999999999, 0.7499999999999999, 0.16666666666666669, 0.8306463616036278, 0.9999999999999999, 0.9999999999999999, 0.0, 0.9166666666666666, 0.3333333333333333, 0.7499999999999999, 0.3333333333333333, 0.0, 0.7499999999999999, 0.7499999999999999, 0.08333333333333333, 0.780925980085794, 0.8351508361404111, 0.5833333333333333]}, {\"name\": \"Iron Man 2\", \"type\": \"box\", \"y\": [0.7222222222222221, 0.2777777777777778, 1.0, 0.05555555555555555, 0.38888888888888884, 0.7222222222222221, 0.5, 0.1111111111111111, 0.22222222222222224, 0.2777777777777778, 0.611111111111111, 0.38888888888888884, 0.2777777777777778, 0.7777777777777777, 0.7222222222222221, 0.5, 0.8333333333333333, 0.2777777777777778, 0.5]}, {\"name\": \"Thor\", \"type\": \"box\", \"y\": [0.6865025259156236, 0.37300505183124716, 0.791001683943749, 0.21625631478905896, 0.5297537888734353, 0.9999999999999999, 0.7387521049296862, 0.2685058938031217, 0.6865025259156236, 0.11175715676093348, 0.3207554728171844, 0.5820033678874981, 0.0, 0.6865025259156236, 0.47750420985937264, 0.3207554728171844, 0.7387521049296862, 0.3207554728171844, 0.4252546308453099]}, {\"name\": \"Capit\\u00e1n Am\\u00e9rica: el primer vengador\", \"type\": \"box\", \"y\": [0.5263157894736843, 0.5263157894736843, 0.21052631578947367, 0.21052631578947367, 0.42105263157894735, 1.0, 0.736842105263158, 0.42105263157894735, 0.736842105263158, 0.47368421052631576, 0.21052631578947367, 0.42105263157894735, 0.5263157894736843, 0.631578947368421, 0.5789473684210527, 0.21052631578947367, 0.5093984962406031, 0.736842105263158, 0.894736842105263]}, {\"name\": \"The Avengers\", \"type\": \"box\", \"y\": [0.894736842105263, 0.9473684210526316, 0.7894736842105263, 0.47368421052631576, 0.8421052631578947, 1.0, 1.0, 0.5263157894736843, 0.8421052631578947, 0.9473684210526316, 0.7894736842105263, 0.5789473684210527, 0.6842105263157894, 0.7894736842105263, 0.6842105263157894, 0.3684210526315789, 0.894736842105263, 0.8421052631578947, 0.6842105263157894]}, {\"name\": \"Iron Man 3\", \"type\": \"box\", \"y\": [0.1764705882352941, 0.47058823529411764, 1.0, 0.0, 0.7647058823529411, 0.5294117647058824, 0.3529411764705882, 0.23529411764705882, 0.6470588235294117, 0.1764705882352941, 0.1176470588235294, 0.0, 0.1176470588235294, 0.42533936651583243, 0.8823529411764706, 0.47058823529411764, 0.4253393665158366, 0.42533936651583704, 0.6470588235294117]}, {\"name\": \"Thor: The Dark World\", \"type\": \"box\", \"y\": [0.22222222222222224, 0.22222222222222224, 0.8333333333333333, 0.2777777777777778, 0.611111111111111, 1.0, 0.33333333333333326, 0.5, 0.1111111111111111, 0.0, 0.05555555555555555, 0.6666666666666666, 0.0, 0.694411253920988, 0.8333333333333333, 0.1111111111111111, 0.611111111111111, 0.611111111111111, 0.4444444444444444]}, {\"name\": \"Captain America: The Winter Soldier\", \"type\": \"box\", \"y\": [0.2631578947368421, 0.8421052631578947, 0.3684210526315789, 1.0, 0.6842105263157894, 1.0, 0.894736842105263, 0.894736842105263, 0.894736842105263, 0.631578947368421, 0.42105263157894735, 0.3157894736842105, 0.894736842105263, 0.6372180451128, 0.894736842105263, 0.736842105263158, 0.5263157894736843, 0.5789473684210527, 0.6842105263157894]}, {\"name\": \"Guardianes de la Galaxia\", \"type\": \"box\", \"y\": [0.7777777777777777, 1.0, 0.8888888888888888, 0.6666666666666665, 0.7777777777777777, 1.0, 0.7222222222222221, 0.6666666666666665, 0.8333333333333333, 0.7222222222222221, 0.9444444444444444, 0.9444444444444444, 0.5555555555555556, 0.7471625032095379, 0.7777777777777777, 0.7777777777777777, 0.8888888888888888, 0.7222222222222221, 0.3333333333333333]}, {\"name\": \"Avengers: Age of Ultron\", \"type\": \"box\", \"y\": [0.8421052631578947, 1.0, 0.33566347493631693, 0.3157894736842105, 0.6842105263157894, 0.8421052631578947, 0.631578947368421, 0.5789473684210527, 0.47368421052631576, 0.3157894736842105, 0.5263157894736843, 0.47368421052631576, 0.736842105263158, 0.7894736842105263, 0.631578947368421, 0.15789473684210525, 0.6695537057694916, 0.8421052631578947, 0.736842105263158]}, {\"name\": \"Ant-Man\", \"type\": \"box\", \"y\": [0.5, 0.8888888888888888, 0.5637860082304558, 0.7777777777777777, 0.5, 1.0, 0.6666666666666666, 0.38888888888888884, 0.7222222222222221, 0.7222222222222221, 0.8888888888888888, 0.2777777777777778, 0.6666666666666666, 0.5637860082304539, 0.611111111111111, 0.7222222222222221, 0.5637860082304585, 0.9444444444444444, 0.38888888888888884]}, {\"name\": \"Captain America: Civil War\", \"type\": \"box\", \"y\": [0.9473684210526316, 1.0, 0.894736842105263, 0.3684210526315789, 0.9473684210526316, 1.0, 1.0, 0.894736842105263, 0.7894736842105263, 0.894736842105263, 0.894736842105263, 0.7192982456140304, 0.9473684210526316, 0.6842105263157894, 0.5263157894736843, 0.5789473684210527, 0.8421052631578947, 0.7192982456140373, 0.894736842105263]}, {\"name\": \"Doctor Strange\", \"type\": \"box\", \"y\": [0.8421052631578947, 0.47368421052631576, 0.6635338345864685, 0.9473684210526316, 0.8421052631578947, 1.0, 0.736842105263158, 0.7894736842105263, 0.6842105263157894, 0.8421052631578947, 0.8421052631578947, 0.894736842105263, 0.7894736842105263, 0.6635338345864743, 0.9473684210526316, 0.5263157894736843, 0.6842105263157894, 0.7894736842105263, 0.736842105263158]}, {\"name\": \"Guardianes de la Galaxia Vol. 2\", \"type\": \"box\", \"y\": [0.3157894736842105, 0.2631578947368421, 0.7894736842105263, 0.42105263157894735, 0.3684210526315789, 1.0, 0.736842105263158, 0.9473684210526316, 1.0, 0.10526315789473684, 0.4717348927875394, 0.736842105263158, 0.05263157894736842, 0.47173489278749675, 0.8421052631578947, 0.894736842105263, 0.6842105263157894, 0.471734892787573, 0.5263157894736843]}, {\"name\": \"Spider-Man: Homecoming\", \"type\": \"box\", \"y\": [0.2631578947368421, 0.2631578947368421, 0.47368421052631576, 0.5263157894736843, 0.21052631578947367, 1.0, 0.7894736842105263, 1.0, 0.894736842105263, 0.5789473684210527, 0.6842105263157894, 0.6842105263157894, 0.27735082396507665, 0.6032456084027813, 0.42105263157894735, 0.3157894736842105, 0.5260412519696887, 0.8827858832849389, 0.6842105263157894]}, {\"name\": \"Thor: Ragnarok\", \"type\": \"box\", \"y\": [0.47368421052631576, 0.15789473684210525, 0.5469924812029341, 0.47368421052631576, 0.10526315789473684, 0.8421052631578947, 0.631578947368421, 0.6842105263157894, 0.894736842105263, 0.5263157894736843, 0.6842105263157894, 1.0, 0.6842105263157894, 0.5789473684210527, 0.8421052631578947, 0.9473684210526316, 0.5789473684210527, 0.47368421052631576, 0.631578947368421]}, {\"name\": \"Black Panther\", \"type\": \"box\", \"y\": [0.3684210526315789, 0.8421052631578947, 0.20029488238246035, 0.8421052631578947, 0.5789473684210527, 1.0, 0.736842105263158, 0.8421052631578947, 0.894736842105263, 0.3684210526315789, 0.8421052631578947, 0.8421052631578947, 0.8421052631578947, 0.631578947368421, 0.736842105263158, 1.0, 0.7018280708474192, 0.736842105263158, 0.736842105263158]}, {\"name\": \"Avengers: Infinity War\", \"type\": \"box\", \"y\": [1.0, 0.894736842105263, 0.8421052631578947, 0.7894736842105263, 1.0, 1.0, 1.0, 0.7894736842105263, 1.0, 1.0, 1.0, 0.7894736842105263, 1.0, 0.7894736842105263, 1.0, 0.8421052631578947, 1.0, 0.8421052631578947, 0.8421052631578947]}, {\"name\": \"Ant-Man and The Wasp\", \"type\": \"box\", \"y\": [0.3219751953008744, 0.30962414793266224, 0.9999999999999999, 0.32626767813494245, 0.8644221452101409, 0.44548566898299585, 0.38373043214193514, 0.2972731005644501, 0.4084325268783594, 0.3219751953008744, 0.37137938477372295, 0.810106811715522, 0.3219751953008744, 0.38373043214193514, 0.28705381433185945, 0.32637128658604836, 0.5057641412684009, 0.43313462161478367, 0.37137938477372295]}],\n",
              "                        {\"template\": {\"data\": {\"bar\": [{\"error_x\": {\"color\": \"#2a3f5f\"}, \"error_y\": {\"color\": \"#2a3f5f\"}, \"marker\": {\"line\": {\"color\": \"#E5ECF6\", \"width\": 0.5}}, \"type\": \"bar\"}], \"barpolar\": [{\"marker\": {\"line\": {\"color\": \"#E5ECF6\", \"width\": 0.5}}, \"type\": \"barpolar\"}], \"carpet\": [{\"aaxis\": {\"endlinecolor\": \"#2a3f5f\", \"gridcolor\": \"white\", \"linecolor\": \"white\", \"minorgridcolor\": \"white\", \"startlinecolor\": \"#2a3f5f\"}, \"baxis\": {\"endlinecolor\": \"#2a3f5f\", \"gridcolor\": \"white\", \"linecolor\": \"white\", \"minorgridcolor\": \"white\", \"startlinecolor\": \"#2a3f5f\"}, \"type\": \"carpet\"}], \"choropleth\": [{\"colorbar\": {\"outlinewidth\": 0, \"ticks\": \"\"}, \"type\": \"choropleth\"}], \"contour\": [{\"colorbar\": {\"outlinewidth\": 0, \"ticks\": \"\"}, \"colorscale\": [[0.0, \"#0d0887\"], [0.1111111111111111, \"#46039f\"], [0.2222222222222222, \"#7201a8\"], [0.3333333333333333, \"#9c179e\"], [0.4444444444444444, \"#bd3786\"], [0.5555555555555556, \"#d8576b\"], [0.6666666666666666, \"#ed7953\"], [0.7777777777777778, \"#fb9f3a\"], [0.8888888888888888, \"#fdca26\"], [1.0, \"#f0f921\"]], \"type\": \"contour\"}], \"contourcarpet\": [{\"colorbar\": {\"outlinewidth\": 0, \"ticks\": \"\"}, \"type\": \"contourcarpet\"}], \"heatmap\": [{\"colorbar\": {\"outlinewidth\": 0, \"ticks\": \"\"}, \"colorscale\": [[0.0, \"#0d0887\"], [0.1111111111111111, \"#46039f\"], [0.2222222222222222, \"#7201a8\"], [0.3333333333333333, \"#9c179e\"], [0.4444444444444444, \"#bd3786\"], [0.5555555555555556, \"#d8576b\"], [0.6666666666666666, \"#ed7953\"], [0.7777777777777778, \"#fb9f3a\"], [0.8888888888888888, \"#fdca26\"], [1.0, \"#f0f921\"]], \"type\": \"heatmap\"}], \"heatmapgl\": [{\"colorbar\": {\"outlinewidth\": 0, \"ticks\": \"\"}, \"colorscale\": [[0.0, \"#0d0887\"], [0.1111111111111111, \"#46039f\"], [0.2222222222222222, \"#7201a8\"], [0.3333333333333333, \"#9c179e\"], [0.4444444444444444, \"#bd3786\"], [0.5555555555555556, \"#d8576b\"], [0.6666666666666666, \"#ed7953\"], [0.7777777777777778, \"#fb9f3a\"], [0.8888888888888888, \"#fdca26\"], [1.0, \"#f0f921\"]], \"type\": \"heatmapgl\"}], \"histogram\": [{\"marker\": {\"colorbar\": {\"outlinewidth\": 0, \"ticks\": \"\"}}, \"type\": \"histogram\"}], \"histogram2d\": [{\"colorbar\": {\"outlinewidth\": 0, \"ticks\": \"\"}, \"colorscale\": [[0.0, \"#0d0887\"], [0.1111111111111111, \"#46039f\"], [0.2222222222222222, \"#7201a8\"], [0.3333333333333333, \"#9c179e\"], [0.4444444444444444, \"#bd3786\"], [0.5555555555555556, \"#d8576b\"], [0.6666666666666666, \"#ed7953\"], [0.7777777777777778, \"#fb9f3a\"], [0.8888888888888888, \"#fdca26\"], [1.0, \"#f0f921\"]], \"type\": \"histogram2d\"}], \"histogram2dcontour\": [{\"colorbar\": {\"outlinewidth\": 0, \"ticks\": \"\"}, \"colorscale\": [[0.0, \"#0d0887\"], [0.1111111111111111, \"#46039f\"], [0.2222222222222222, \"#7201a8\"], [0.3333333333333333, \"#9c179e\"], [0.4444444444444444, \"#bd3786\"], [0.5555555555555556, \"#d8576b\"], [0.6666666666666666, \"#ed7953\"], [0.7777777777777778, \"#fb9f3a\"], [0.8888888888888888, \"#fdca26\"], [1.0, \"#f0f921\"]], \"type\": \"histogram2dcontour\"}], \"mesh3d\": [{\"colorbar\": {\"outlinewidth\": 0, \"ticks\": \"\"}, \"type\": \"mesh3d\"}], \"parcoords\": [{\"line\": {\"colorbar\": {\"outlinewidth\": 0, \"ticks\": \"\"}}, \"type\": \"parcoords\"}], \"pie\": [{\"automargin\": true, \"type\": \"pie\"}], \"scatter\": [{\"marker\": {\"colorbar\": {\"outlinewidth\": 0, \"ticks\": \"\"}}, \"type\": \"scatter\"}], \"scatter3d\": [{\"line\": {\"colorbar\": {\"outlinewidth\": 0, \"ticks\": \"\"}}, \"marker\": {\"colorbar\": {\"outlinewidth\": 0, \"ticks\": \"\"}}, \"type\": \"scatter3d\"}], \"scattercarpet\": [{\"marker\": {\"colorbar\": {\"outlinewidth\": 0, \"ticks\": \"\"}}, \"type\": \"scattercarpet\"}], \"scattergeo\": [{\"marker\": {\"colorbar\": {\"outlinewidth\": 0, \"ticks\": \"\"}}, \"type\": \"scattergeo\"}], \"scattergl\": [{\"marker\": {\"colorbar\": {\"outlinewidth\": 0, \"ticks\": \"\"}}, \"type\": \"scattergl\"}], \"scattermapbox\": [{\"marker\": {\"colorbar\": {\"outlinewidth\": 0, \"ticks\": \"\"}}, \"type\": \"scattermapbox\"}], \"scatterpolar\": [{\"marker\": {\"colorbar\": {\"outlinewidth\": 0, \"ticks\": \"\"}}, \"type\": \"scatterpolar\"}], \"scatterpolargl\": [{\"marker\": {\"colorbar\": {\"outlinewidth\": 0, \"ticks\": \"\"}}, \"type\": \"scatterpolargl\"}], \"scatterternary\": [{\"marker\": {\"colorbar\": {\"outlinewidth\": 0, \"ticks\": \"\"}}, \"type\": \"scatterternary\"}], \"surface\": [{\"colorbar\": {\"outlinewidth\": 0, \"ticks\": \"\"}, \"colorscale\": [[0.0, \"#0d0887\"], [0.1111111111111111, \"#46039f\"], [0.2222222222222222, \"#7201a8\"], [0.3333333333333333, \"#9c179e\"], [0.4444444444444444, \"#bd3786\"], [0.5555555555555556, \"#d8576b\"], [0.6666666666666666, \"#ed7953\"], [0.7777777777777778, \"#fb9f3a\"], [0.8888888888888888, \"#fdca26\"], [1.0, \"#f0f921\"]], \"type\": \"surface\"}], \"table\": [{\"cells\": {\"fill\": {\"color\": \"#EBF0F8\"}, \"line\": {\"color\": \"white\"}}, \"header\": {\"fill\": {\"color\": \"#C8D4E3\"}, \"line\": {\"color\": \"white\"}}, \"type\": \"table\"}]}, \"layout\": {\"annotationdefaults\": {\"arrowcolor\": \"#2a3f5f\", \"arrowhead\": 0, \"arrowwidth\": 1}, \"coloraxis\": {\"colorbar\": {\"outlinewidth\": 0, \"ticks\": \"\"}}, \"colorscale\": {\"diverging\": [[0, \"#8e0152\"], [0.1, \"#c51b7d\"], [0.2, \"#de77ae\"], [0.3, \"#f1b6da\"], [0.4, \"#fde0ef\"], [0.5, \"#f7f7f7\"], [0.6, \"#e6f5d0\"], [0.7, \"#b8e186\"], [0.8, \"#7fbc41\"], [0.9, \"#4d9221\"], [1, \"#276419\"]], \"sequential\": [[0.0, \"#0d0887\"], [0.1111111111111111, \"#46039f\"], [0.2222222222222222, \"#7201a8\"], [0.3333333333333333, \"#9c179e\"], [0.4444444444444444, \"#bd3786\"], [0.5555555555555556, \"#d8576b\"], [0.6666666666666666, \"#ed7953\"], [0.7777777777777778, \"#fb9f3a\"], [0.8888888888888888, \"#fdca26\"], [1.0, \"#f0f921\"]], \"sequentialminus\": [[0.0, \"#0d0887\"], [0.1111111111111111, \"#46039f\"], [0.2222222222222222, \"#7201a8\"], [0.3333333333333333, \"#9c179e\"], [0.4444444444444444, \"#bd3786\"], [0.5555555555555556, \"#d8576b\"], [0.6666666666666666, \"#ed7953\"], [0.7777777777777778, \"#fb9f3a\"], [0.8888888888888888, \"#fdca26\"], [1.0, \"#f0f921\"]]}, \"colorway\": [\"#636efa\", \"#EF553B\", \"#00cc96\", \"#ab63fa\", \"#FFA15A\", \"#19d3f3\", \"#FF6692\", \"#B6E880\", \"#FF97FF\", \"#FECB52\"], \"font\": {\"color\": \"#2a3f5f\"}, \"geo\": {\"bgcolor\": \"white\", \"lakecolor\": \"white\", \"landcolor\": \"#E5ECF6\", \"showlakes\": true, \"showland\": true, \"subunitcolor\": \"white\"}, \"hoverlabel\": {\"align\": \"left\"}, \"hovermode\": \"closest\", \"mapbox\": {\"style\": \"light\"}, \"paper_bgcolor\": \"white\", \"plot_bgcolor\": \"#E5ECF6\", \"polar\": {\"angularaxis\": {\"gridcolor\": \"white\", \"linecolor\": \"white\", \"ticks\": \"\"}, \"bgcolor\": \"#E5ECF6\", \"radialaxis\": {\"gridcolor\": \"white\", \"linecolor\": \"white\", \"ticks\": \"\"}}, \"scene\": {\"xaxis\": {\"backgroundcolor\": \"#E5ECF6\", \"gridcolor\": \"white\", \"gridwidth\": 2, \"linecolor\": \"white\", \"showbackground\": true, \"ticks\": \"\", \"zerolinecolor\": \"white\"}, \"yaxis\": {\"backgroundcolor\": \"#E5ECF6\", \"gridcolor\": \"white\", \"gridwidth\": 2, \"linecolor\": \"white\", \"showbackground\": true, \"ticks\": \"\", \"zerolinecolor\": \"white\"}, \"zaxis\": {\"backgroundcolor\": \"#E5ECF6\", \"gridcolor\": \"white\", \"gridwidth\": 2, \"linecolor\": \"white\", \"showbackground\": true, \"ticks\": \"\", \"zerolinecolor\": \"white\"}}, \"shapedefaults\": {\"line\": {\"color\": \"#2a3f5f\"}}, \"ternary\": {\"aaxis\": {\"gridcolor\": \"white\", \"linecolor\": \"white\", \"ticks\": \"\"}, \"baxis\": {\"gridcolor\": \"white\", \"linecolor\": \"white\", \"ticks\": \"\"}, \"bgcolor\": \"#E5ECF6\", \"caxis\": {\"gridcolor\": \"white\", \"linecolor\": \"white\", \"ticks\": \"\"}}, \"title\": {\"x\": 0.05}, \"xaxis\": {\"automargin\": true, \"gridcolor\": \"white\", \"linecolor\": \"white\", \"ticks\": \"\", \"title\": {\"standoff\": 15}, \"zerolinecolor\": \"white\", \"zerolinewidth\": 2}, \"yaxis\": {\"automargin\": true, \"gridcolor\": \"white\", \"linecolor\": \"white\", \"ticks\": \"\", \"title\": {\"standoff\": 15}, \"zerolinecolor\": \"white\", \"zerolinewidth\": 2}}}},\n",
              "                        {\"responsive\": true}\n",
              "                    ).then(function(){\n",
              "                            \n",
              "var gd = document.getElementById('9edc77be-428c-4818-b9b8-5de694bba602');\n",
              "var x = new MutationObserver(function (mutations, observer) {{\n",
              "        var display = window.getComputedStyle(gd).display;\n",
              "        if (!display || display === 'none') {{\n",
              "            console.log([gd, 'removed!']);\n",
              "            Plotly.purge(gd);\n",
              "            observer.disconnect();\n",
              "        }}\n",
              "}});\n",
              "\n",
              "// Listen for the removal of the full notebook cells\n",
              "var notebookContainer = gd.closest('#notebook-container');\n",
              "if (notebookContainer) {{\n",
              "    x.observe(notebookContainer, {childList: true});\n",
              "}}\n",
              "\n",
              "// Listen for the clearing of the current output cell\n",
              "var outputEl = gd.closest('.output');\n",
              "if (outputEl) {{\n",
              "    x.observe(outputEl, {childList: true});\n",
              "}}\n",
              "\n",
              "                        })\n",
              "                };\n",
              "                \n",
              "            </script>\n",
              "        </div>\n",
              "</body>\n",
              "</html>"
            ]
          },
          "metadata": {
            "tags": []
          }
        }
      ]
    },
    {
      "cell_type": "markdown",
      "metadata": {
        "id": "7yjec_ERd1BY",
        "colab_type": "text"
      },
      "source": [
        "## Oulliers multivariados"
      ]
    },
    {
      "cell_type": "code",
      "metadata": {
        "id": "jjBW7jMudftY",
        "colab_type": "code",
        "colab": {
          "base_uri": "https://localhost:8080/",
          "height": 34
        },
        "outputId": "bde14d41-96b0-4785-dd3b-633e5f99b887"
      },
      "source": [
        "! pip install names"
      ],
      "execution_count": null,
      "outputs": [
        {
          "output_type": "stream",
          "text": [
            "Requirement already satisfied: names in /usr/local/lib/python3.6/dist-packages (0.3.0)\n"
          ],
          "name": "stdout"
        }
      ]
    },
    {
      "cell_type": "code",
      "metadata": {
        "id": "ws1RQYp7eu_Q",
        "colab_type": "code",
        "colab": {
          "base_uri": "https://localhost:8080/",
          "height": 542
        },
        "outputId": "68662a58-9a59-418c-ea6f-fad45f7bd3ff"
      },
      "source": [
        "import names \n",
        "\n",
        "\n",
        "peso = np.arange(20,80)\n",
        "peso = np.random.choice(peso, 500)\n",
        "\n",
        "talla = (peso * 1.1) + 100 \n",
        "talla = talla + np.random.normal(loc=0, scale=3, size=len(talla))\n",
        "\n",
        "nombres = [names.get_first_name() for x in np.arange(len(peso))]\n",
        "np.random.seed(1)\n",
        "\n",
        "fig = go.Figure(data=go.Scatter(x=talla, y=peso, mode='markers'))\n",
        "\n",
        "fig.show()"
      ],
      "execution_count": null,
      "outputs": [
        {
          "output_type": "display_data",
          "data": {
            "text/html": [
              "<html>\n",
              "<head><meta charset=\"utf-8\" /></head>\n",
              "<body>\n",
              "    <div>\n",
              "            <script src=\"https://cdnjs.cloudflare.com/ajax/libs/mathjax/2.7.5/MathJax.js?config=TeX-AMS-MML_SVG\"></script><script type=\"text/javascript\">if (window.MathJax) {MathJax.Hub.Config({SVG: {font: \"STIX-Web\"}});}</script>\n",
              "                <script type=\"text/javascript\">window.PlotlyConfig = {MathJaxConfig: 'local'};</script>\n",
              "        <script src=\"https://cdn.plot.ly/plotly-latest.min.js\"></script>    \n",
              "            <div id=\"49493c9d-8fbc-4809-b1a4-c4ebf673e9b1\" class=\"plotly-graph-div\" style=\"height:525px; width:100%;\"></div>\n",
              "            <script type=\"text/javascript\">\n",
              "                \n",
              "                    window.PLOTLYENV=window.PLOTLYENV || {};\n",
              "                    \n",
              "                if (document.getElementById(\"49493c9d-8fbc-4809-b1a4-c4ebf673e9b1\")) {\n",
              "                    Plotly.newPlot(\n",
              "                        '49493c9d-8fbc-4809-b1a4-c4ebf673e9b1',\n",
              "                        [{\"mode\": \"markers\", \"type\": \"scatter\", \"x\": [135.4125918375698, 175.48303810315184, 149.69329816037305, 166.47600260509432, 145.03543307791819, 158.4975319150627, 162.8460672005453, 161.0037851174651, 144.51164642121964, 127.46650690340647, 144.51200110392514, 186.72024675609168, 115.46258850589044, 150.64248755932744, 140.4563933076063, 159.36690825735073, 150.7239507516177, 131.98754077273986, 179.03635990986118, 175.35063830395018, 157.77428834036488, 182.22151571675133, 172.84386944843254, 159.6607716226845, 156.68660876165856, 172.12929262271703, 163.7224624295064, 171.23168137516197, 145.06444594765242, 186.84905403727004, 139.06771857398277, 154.27347007249594, 154.97053778191102, 139.43657730737718, 142.3252140211306, 121.29004694025295, 161.54646744551522, 161.5402491369213, 134.11837774248366, 132.7660793942519, 124.07197212888238, 140.60502980441103, 121.94787521541683, 183.0970031873578, 186.28835555102845, 160.35905055692163, 169.13337544602683, 136.73423863173662, 152.83496748370376, 126.15844667682191, 171.38278198612466, 152.7747175633991, 144.32128395240252, 138.62435968713223, 166.8379866795503, 154.2025563862908, 176.13391092797065, 163.48448639350002, 175.97812884184452, 139.8234975697039, 154.83059679141834, 133.6491696620196, 152.40439133410857, 137.16506715219597, 138.54196641150122, 146.22793958757956, 140.18291632298738, 166.35791737473843, 135.45678595956537, 151.65059164540534, 155.54298001522568, 157.808153971684, 178.42361601730235, 143.84281572277249, 133.50921877712636, 155.74205668249402, 143.0232737263956, 161.41690107769205, 149.78469101087356, 121.30605051316059, 144.60839521289137, 174.17157497296193, 149.78486778721526, 164.18084930632597, 183.91061333312427, 152.14330476054334, 150.43945078880878, 172.32647317695628, 137.8771841249459, 143.31611006387206, 177.80419689355597, 171.26622430635084, 126.2201236591193, 172.80059544604956, 159.82269571218325, 161.30246969218, 162.36521366369888, 164.0572103840671, 139.2665772093884, 163.1771844189785, 174.86844695676467, 142.34468429336437, 158.06607210875157, 165.12082400212708, 147.856144830477, 157.40185606765647, 166.21606602393928, 177.10466514429336, 129.13229211311494, 133.92365795160683, 145.3197420269066, 185.0367344591032, 124.07489057301244, 181.33235332016665, 171.6959453466751, 164.03267369568258, 177.5190968407643, 157.33706330620646, 137.74909116591368, 170.57423259954504, 124.01680112280746, 152.19442623396716, 124.52262476393504, 157.35446365961627, 149.63286807307574, 154.46057753253925, 124.05182851753503, 152.38691207529868, 181.74438469030287, 150.95814096087776, 130.96545398718624, 138.18715571877183, 135.49905726526742, 177.12699300331946, 167.6517210681762, 135.00098564979848, 163.29338634154468, 179.0668438423736, 181.69666782260765, 177.11734479007183, 124.54277889917657, 139.13560906030204, 161.5582230170096, 123.76196548085551, 168.13023272156107, 147.0902448695539, 125.12466152967764, 136.28444533653737, 156.66643167883439, 173.60776416352562, 156.25597114819126, 147.01000049386474, 157.50656975845646, 181.45525549392033, 151.14658460971765, 139.54021740389433, 136.00565397442165, 167.92116963885766, 181.26708478765053, 142.63908926834696, 167.35630720876873, 146.8920063583073, 123.80345028681846, 176.66400188976394, 178.71386796534065, 152.62780519615453, 129.0649436179387, 152.9499642653164, 134.36437354788973, 154.36926822194044, 187.59369050460037, 133.69849053936287, 165.8486688814005, 135.01704420635332, 166.93393785160347, 153.84809809328289, 136.25274247781326, 180.88596377100032, 127.12263075213578, 127.8929511417229, 126.88056726520736, 144.77266420305023, 182.28981606870528, 119.05902836419746, 135.02704276145286, 169.38987001343554, 138.6486254703243, 124.55101369988076, 176.0459793276454, 151.55673805587176, 136.30610837523975, 139.25604679814205, 151.27790303508786, 170.16120876750838, 172.75979137519917, 162.48434754865687, 144.26242292488965, 164.5428207913319, 135.8424110031605, 135.3381849353443, 170.12331347718415, 179.41295143675893, 123.34466697608441, 164.13372559020257, 176.97221023122887, 131.4840969336572, 122.0468441527925, 138.28519704227207, 157.9456209262429, 173.23733098076605, 174.0481031413275, 176.79077246843315, 187.7672682344091, 131.4666256906273, 125.57327192874783, 131.7600990245921, 160.41726420023784, 141.74221967227635, 170.52950556127433, 181.7996530439739, 179.37928466500034, 146.30159723651613, 144.85904539798136, 179.3711756014533, 137.5784249367308, 129.85443005730627, 177.91500240097457, 145.72912859459774, 139.3533503787471, 153.06719391675776, 160.51241922175316, 168.65392080697345, 164.66750823467012, 165.72199342927266, 158.78500073440398, 163.88064592282728, 176.70597808945317, 148.07953137663813, 138.77865416798474, 171.23539703955217, 122.00348460066544, 136.33178967449243, 118.1365102331689, 179.24622263925139, 139.23464394764184, 135.69852073782414, 148.7820270612525, 145.03964805158859, 135.04470885599275, 188.1942551463748, 169.09183062379222, 151.50086764755304, 160.68789105119782, 150.51367747098854, 131.9179596587871, 153.71333064831498, 186.21260962451058, 150.00561019350204, 177.49373767906215, 158.39946841443796, 150.58246776598693, 136.3119571087695, 158.24755911671332, 130.85741271664793, 128.8830238176121, 123.04771806791678, 140.50102870380238, 165.73183465956396, 125.43223146483882, 173.3070050518668, 136.99834060996096, 162.29328089360385, 167.61477720629097, 124.70739005038638, 163.1800233712161, 142.8809657709626, 167.94401553564916, 137.3737968663144, 126.9498547156867, 128.67475559749874, 156.39338719706953, 159.47620940512434, 171.51781749495922, 167.54136684246998, 154.94299149996152, 122.09073995563114, 181.15477014836603, 179.77572575622216, 127.79663712266152, 149.64478762336705, 157.51349204712628, 184.9052616779701, 190.0766145443282, 164.38558553053971, 152.8902354016974, 173.18861903766663, 151.80800297830766, 144.2367208856716, 147.15721962098436, 170.84832794637444, 175.92441149922396, 154.1230797282676, 121.12289989218428, 159.05394319632694, 141.95320437106463, 182.34735532093035, 163.1169117211668, 169.64700381974492, 168.7331717623473, 139.6903766780238, 170.1533966474114, 159.8643924506447, 160.25321709262838, 154.1304930844394, 175.2847761462517, 177.52814446124052, 128.454226803715, 158.00701956289458, 168.36552167797976, 177.76368254197578, 180.06607955761532, 131.04728855824217, 147.6483922808744, 133.9131757927068, 175.07124064000575, 180.66570877836799, 137.07313831151015, 166.04868722932355, 173.0179889675135, 155.11481380620623, 163.27678798357502, 167.73411995465693, 184.27053593393708, 160.37449457399364, 180.14016582544093, 162.04214631428297, 185.1676076274797, 150.71681392428277, 160.26488145524365, 138.42704132219612, 159.56239480798567, 129.10349624367421, 144.139592030487, 137.58560019975053, 172.61556371634808, 134.79539041633097, 186.5736481714156, 152.8815306911701, 150.7069733081801, 139.76714441703461, 135.92148494896801, 151.7195076268595, 164.8058338414269, 157.97073821090368, 157.43191382463527, 149.73901915302778, 178.69296020950455, 175.48469466090114, 158.75368356895268, 137.04270192020928, 131.20789656819028, 125.82757796971548, 181.83360066814066, 151.38719994469594, 122.98920146925659, 130.4182799709122, 131.73775047277613, 165.32589118574268, 157.9109570728313, 131.30980754591903, 138.92912664012294, 187.5552394994442, 136.5020258836473, 149.29253241651497, 163.51383666629138, 145.82337318969664, 174.29213098375055, 135.126309958714, 168.3582151289172, 162.06535111897617, 172.65785292069805, 149.8610772839067, 146.38319935919327, 147.49261200911764, 138.39120130384893, 167.02804068798878, 151.73604823921494, 164.00260742091427, 141.06925844747315, 137.54532741023013, 143.48551859595506, 186.96951756232573, 130.90296987506633, 146.4753766861299, 126.10020936167922, 160.27047471775356, 127.16265110347092, 144.17444388619225, 144.67656976840274, 156.63497704328316, 157.02442463171607, 131.7171390584538, 180.06048228694507, 156.37461696318712, 164.01571572607233, 122.83885462116261, 178.30935407247043, 167.4606734949621, 164.94522176793322, 188.33108320948608, 128.38773457993514, 147.81162439349472, 133.0581927684758, 129.72274596504906, 189.35840858192248, 165.67607455927305, 131.78932967839117, 187.79290677326853, 153.78291306701826, 121.72056488843492, 148.66639598757976, 176.05814926859892, 127.25946060605527, 148.09008285882905, 125.52031621925472, 158.94029420028636, 158.17941900160443, 155.28307310499414, 186.16587839795412, 158.81675129549873, 136.464168464077, 133.00315659124337, 142.26733792696984, 174.06607689912724, 135.0770144109271, 135.44490843004994, 131.3710287621586, 164.49241213625024, 141.44036858948394, 146.40357463801223, 132.95518810653238, 165.79891867504193, 153.44478541101802, 128.50486739281106, 137.25678419219545, 132.60874754157973, 125.80369722810343, 162.148385506179, 173.08526920021944, 156.9987229533774, 131.57885934417953, 150.46367722353878, 164.2545257109131, 172.42619086325394, 136.96581470247722, 153.47229656165769, 157.76842970832243, 146.11873042901874, 152.4771354508488, 168.6455268808241, 170.2990930432548, 170.94480655491304, 154.771895065943, 138.62419386768565, 138.95340575437353, 132.34665422296865, 175.24098065868534, 155.54887190694416, 146.04630700332882, 169.41055054675638, 131.6866095111636, 178.9816586240806, 154.04192923061174, 152.22404522194523, 188.0821519462941, 182.3314080204006, 164.807736407322, 145.39199410888284, 174.850356397922, 161.82113453616236, 126.9122188924009, 161.28568433802752, 137.3534998633887, 133.7627363967908, 126.08405469536636, 139.52718524974586, 144.99521754098387, 141.6925106094791, 139.86811742916078, 170.03773809308214, 185.2533461197851, 131.8862286465213, 181.47069967955633, 125.24679733689061, 140.49017862769142, 169.6378488016851, 174.77436163655202, 171.8482214371049, 167.12168204979912, 178.25413075372032], \"y\": [30, 69, 47, 61, 43, 55, 55, 59, 44, 31, 41, 73, 23, 41, 40, 55, 47, 31, 74, 65, 56, 76, 68, 57, 50, 68, 56, 61, 41, 76, 36, 50, 51, 34, 38, 20, 55, 59, 31, 28, 21, 37, 20, 75, 78, 56, 67, 34, 45, 23, 64, 44, 46, 37, 58, 47, 67, 57, 73, 36, 47, 35, 46, 32, 32, 41, 38, 59, 33, 49, 51, 53, 72, 42, 28, 48, 41, 57, 50, 24, 37, 68, 50, 60, 75, 48, 43, 65, 36, 41, 72, 66, 26, 66, 60, 55, 56, 63, 38, 57, 68, 38, 52, 61, 43, 51, 62, 72, 26, 34, 42, 77, 25, 74, 66, 61, 69, 50, 31, 60, 23, 46, 21, 49, 45, 47, 23, 47, 75, 45, 23, 35, 32, 74, 64, 33, 58, 71, 73, 72, 21, 39, 60, 21, 66, 37, 20, 35, 52, 69, 54, 46, 52, 79, 47, 38, 31, 61, 71, 36, 61, 43, 22, 70, 71, 44, 25, 46, 26, 48, 79, 29, 57, 30, 58, 53, 33, 78, 23, 30, 30, 39, 76, 20, 30, 67, 34, 24, 73, 48, 28, 36, 48, 64, 67, 57, 44, 58, 30, 36, 63, 71, 20, 59, 68, 30, 21, 33, 56, 68, 68, 65, 78, 28, 26, 27, 56, 32, 66, 77, 71, 40, 39, 70, 31, 31, 70, 38, 36, 50, 59, 61, 59, 61, 53, 53, 72, 46, 32, 68, 22, 39, 20, 75, 34, 34, 43, 40, 36, 77, 65, 46, 51, 44, 27, 50, 75, 40, 76, 54, 49, 31, 49, 31, 28, 22, 38, 56, 25, 70, 32, 58, 64, 23, 57, 36, 60, 34, 24, 27, 47, 59, 65, 62, 53, 25, 77, 67, 24, 41, 49, 76, 78, 58, 43, 73, 47, 41, 46, 61, 70, 46, 23, 57, 43, 75, 64, 59, 65, 40, 68, 54, 56, 49, 68, 69, 23, 53, 61, 76, 75, 27, 40, 23, 67, 71, 36, 57, 65, 50, 53, 60, 77, 55, 76, 55, 79, 47, 57, 39, 53, 27, 37, 36, 63, 33, 74, 53, 45, 36, 33, 51, 55, 55, 56, 42, 72, 68, 51, 32, 28, 24, 71, 50, 20, 30, 30, 60, 51, 30, 33, 75, 38, 46, 58, 41, 68, 28, 61, 54, 65, 44, 43, 41, 34, 60, 47, 57, 37, 35, 40, 77, 29, 40, 22, 56, 25, 38, 41, 52, 46, 29, 73, 52, 59, 21, 67, 61, 56, 79, 23, 47, 31, 25, 77, 57, 26, 79, 50, 20, 40, 64, 22, 43, 27, 51, 52, 47, 78, 51, 33, 35, 39, 65, 29, 35, 27, 59, 34, 43, 31, 59, 50, 27, 33, 31, 22, 56, 73, 57, 29, 43, 63, 67, 34, 50, 55, 38, 48, 66, 63, 65, 49, 37, 39, 30, 67, 52, 44, 61, 25, 73, 52, 48, 79, 75, 61, 43, 72, 56, 26, 59, 33, 33, 23, 39, 43, 35, 36, 61, 78, 31, 76, 24, 35, 58, 76, 68, 60, 70]}],\n",
              "                        {\"template\": {\"data\": {\"bar\": [{\"error_x\": {\"color\": \"#2a3f5f\"}, \"error_y\": {\"color\": \"#2a3f5f\"}, \"marker\": {\"line\": {\"color\": \"#E5ECF6\", \"width\": 0.5}}, \"type\": \"bar\"}], \"barpolar\": [{\"marker\": {\"line\": {\"color\": \"#E5ECF6\", \"width\": 0.5}}, \"type\": \"barpolar\"}], \"carpet\": [{\"aaxis\": {\"endlinecolor\": \"#2a3f5f\", \"gridcolor\": \"white\", \"linecolor\": \"white\", \"minorgridcolor\": \"white\", \"startlinecolor\": \"#2a3f5f\"}, \"baxis\": {\"endlinecolor\": \"#2a3f5f\", \"gridcolor\": \"white\", \"linecolor\": \"white\", \"minorgridcolor\": \"white\", \"startlinecolor\": \"#2a3f5f\"}, \"type\": \"carpet\"}], \"choropleth\": [{\"colorbar\": {\"outlinewidth\": 0, \"ticks\": \"\"}, \"type\": \"choropleth\"}], \"contour\": [{\"colorbar\": {\"outlinewidth\": 0, \"ticks\": \"\"}, \"colorscale\": [[0.0, \"#0d0887\"], [0.1111111111111111, \"#46039f\"], [0.2222222222222222, \"#7201a8\"], [0.3333333333333333, \"#9c179e\"], [0.4444444444444444, \"#bd3786\"], [0.5555555555555556, \"#d8576b\"], [0.6666666666666666, \"#ed7953\"], [0.7777777777777778, \"#fb9f3a\"], [0.8888888888888888, \"#fdca26\"], [1.0, \"#f0f921\"]], \"type\": \"contour\"}], \"contourcarpet\": [{\"colorbar\": {\"outlinewidth\": 0, \"ticks\": \"\"}, \"type\": \"contourcarpet\"}], \"heatmap\": [{\"colorbar\": {\"outlinewidth\": 0, \"ticks\": \"\"}, \"colorscale\": [[0.0, \"#0d0887\"], [0.1111111111111111, \"#46039f\"], [0.2222222222222222, \"#7201a8\"], [0.3333333333333333, \"#9c179e\"], [0.4444444444444444, \"#bd3786\"], [0.5555555555555556, \"#d8576b\"], [0.6666666666666666, \"#ed7953\"], [0.7777777777777778, \"#fb9f3a\"], [0.8888888888888888, \"#fdca26\"], [1.0, \"#f0f921\"]], \"type\": \"heatmap\"}], \"heatmapgl\": [{\"colorbar\": {\"outlinewidth\": 0, \"ticks\": \"\"}, \"colorscale\": [[0.0, \"#0d0887\"], [0.1111111111111111, \"#46039f\"], [0.2222222222222222, \"#7201a8\"], [0.3333333333333333, \"#9c179e\"], [0.4444444444444444, \"#bd3786\"], [0.5555555555555556, \"#d8576b\"], [0.6666666666666666, \"#ed7953\"], [0.7777777777777778, \"#fb9f3a\"], [0.8888888888888888, \"#fdca26\"], [1.0, \"#f0f921\"]], \"type\": \"heatmapgl\"}], \"histogram\": [{\"marker\": {\"colorbar\": {\"outlinewidth\": 0, \"ticks\": \"\"}}, \"type\": \"histogram\"}], \"histogram2d\": [{\"colorbar\": {\"outlinewidth\": 0, \"ticks\": \"\"}, \"colorscale\": [[0.0, \"#0d0887\"], [0.1111111111111111, \"#46039f\"], [0.2222222222222222, \"#7201a8\"], [0.3333333333333333, \"#9c179e\"], [0.4444444444444444, \"#bd3786\"], [0.5555555555555556, \"#d8576b\"], [0.6666666666666666, \"#ed7953\"], [0.7777777777777778, \"#fb9f3a\"], [0.8888888888888888, \"#fdca26\"], [1.0, \"#f0f921\"]], \"type\": \"histogram2d\"}], \"histogram2dcontour\": [{\"colorbar\": {\"outlinewidth\": 0, \"ticks\": \"\"}, \"colorscale\": [[0.0, \"#0d0887\"], [0.1111111111111111, \"#46039f\"], [0.2222222222222222, \"#7201a8\"], [0.3333333333333333, \"#9c179e\"], [0.4444444444444444, \"#bd3786\"], [0.5555555555555556, \"#d8576b\"], [0.6666666666666666, \"#ed7953\"], [0.7777777777777778, \"#fb9f3a\"], [0.8888888888888888, \"#fdca26\"], [1.0, \"#f0f921\"]], \"type\": \"histogram2dcontour\"}], \"mesh3d\": [{\"colorbar\": {\"outlinewidth\": 0, \"ticks\": \"\"}, \"type\": \"mesh3d\"}], \"parcoords\": [{\"line\": {\"colorbar\": {\"outlinewidth\": 0, \"ticks\": \"\"}}, \"type\": \"parcoords\"}], \"pie\": [{\"automargin\": true, \"type\": \"pie\"}], \"scatter\": [{\"marker\": {\"colorbar\": {\"outlinewidth\": 0, \"ticks\": \"\"}}, \"type\": \"scatter\"}], \"scatter3d\": [{\"line\": {\"colorbar\": {\"outlinewidth\": 0, \"ticks\": \"\"}}, \"marker\": {\"colorbar\": {\"outlinewidth\": 0, \"ticks\": \"\"}}, \"type\": \"scatter3d\"}], \"scattercarpet\": [{\"marker\": {\"colorbar\": {\"outlinewidth\": 0, \"ticks\": \"\"}}, \"type\": \"scattercarpet\"}], \"scattergeo\": [{\"marker\": {\"colorbar\": {\"outlinewidth\": 0, \"ticks\": \"\"}}, \"type\": \"scattergeo\"}], \"scattergl\": [{\"marker\": {\"colorbar\": {\"outlinewidth\": 0, \"ticks\": \"\"}}, \"type\": \"scattergl\"}], \"scattermapbox\": [{\"marker\": {\"colorbar\": {\"outlinewidth\": 0, \"ticks\": \"\"}}, \"type\": \"scattermapbox\"}], \"scatterpolar\": [{\"marker\": {\"colorbar\": {\"outlinewidth\": 0, \"ticks\": \"\"}}, \"type\": \"scatterpolar\"}], \"scatterpolargl\": [{\"marker\": {\"colorbar\": {\"outlinewidth\": 0, \"ticks\": \"\"}}, \"type\": \"scatterpolargl\"}], \"scatterternary\": [{\"marker\": {\"colorbar\": {\"outlinewidth\": 0, \"ticks\": \"\"}}, \"type\": \"scatterternary\"}], \"surface\": [{\"colorbar\": {\"outlinewidth\": 0, \"ticks\": \"\"}, \"colorscale\": [[0.0, \"#0d0887\"], [0.1111111111111111, \"#46039f\"], [0.2222222222222222, \"#7201a8\"], [0.3333333333333333, \"#9c179e\"], [0.4444444444444444, \"#bd3786\"], [0.5555555555555556, \"#d8576b\"], [0.6666666666666666, \"#ed7953\"], [0.7777777777777778, \"#fb9f3a\"], [0.8888888888888888, \"#fdca26\"], [1.0, \"#f0f921\"]], \"type\": \"surface\"}], \"table\": [{\"cells\": {\"fill\": {\"color\": \"#EBF0F8\"}, \"line\": {\"color\": \"white\"}}, \"header\": {\"fill\": {\"color\": \"#C8D4E3\"}, \"line\": {\"color\": \"white\"}}, \"type\": \"table\"}]}, \"layout\": {\"annotationdefaults\": {\"arrowcolor\": \"#2a3f5f\", \"arrowhead\": 0, \"arrowwidth\": 1}, \"coloraxis\": {\"colorbar\": {\"outlinewidth\": 0, \"ticks\": \"\"}}, \"colorscale\": {\"diverging\": [[0, \"#8e0152\"], [0.1, \"#c51b7d\"], [0.2, \"#de77ae\"], [0.3, \"#f1b6da\"], [0.4, \"#fde0ef\"], [0.5, \"#f7f7f7\"], [0.6, \"#e6f5d0\"], [0.7, \"#b8e186\"], [0.8, \"#7fbc41\"], [0.9, \"#4d9221\"], [1, \"#276419\"]], \"sequential\": [[0.0, \"#0d0887\"], [0.1111111111111111, \"#46039f\"], [0.2222222222222222, \"#7201a8\"], [0.3333333333333333, \"#9c179e\"], [0.4444444444444444, \"#bd3786\"], [0.5555555555555556, \"#d8576b\"], [0.6666666666666666, \"#ed7953\"], [0.7777777777777778, \"#fb9f3a\"], [0.8888888888888888, \"#fdca26\"], [1.0, \"#f0f921\"]], \"sequentialminus\": [[0.0, \"#0d0887\"], [0.1111111111111111, \"#46039f\"], [0.2222222222222222, \"#7201a8\"], [0.3333333333333333, \"#9c179e\"], [0.4444444444444444, \"#bd3786\"], [0.5555555555555556, \"#d8576b\"], [0.6666666666666666, \"#ed7953\"], [0.7777777777777778, \"#fb9f3a\"], [0.8888888888888888, \"#fdca26\"], [1.0, \"#f0f921\"]]}, \"colorway\": [\"#636efa\", \"#EF553B\", \"#00cc96\", \"#ab63fa\", \"#FFA15A\", \"#19d3f3\", \"#FF6692\", \"#B6E880\", \"#FF97FF\", \"#FECB52\"], \"font\": {\"color\": \"#2a3f5f\"}, \"geo\": {\"bgcolor\": \"white\", \"lakecolor\": \"white\", \"landcolor\": \"#E5ECF6\", \"showlakes\": true, \"showland\": true, \"subunitcolor\": \"white\"}, \"hoverlabel\": {\"align\": \"left\"}, \"hovermode\": \"closest\", \"mapbox\": {\"style\": \"light\"}, \"paper_bgcolor\": \"white\", \"plot_bgcolor\": \"#E5ECF6\", \"polar\": {\"angularaxis\": {\"gridcolor\": \"white\", \"linecolor\": \"white\", \"ticks\": \"\"}, \"bgcolor\": \"#E5ECF6\", \"radialaxis\": {\"gridcolor\": \"white\", \"linecolor\": \"white\", \"ticks\": \"\"}}, \"scene\": {\"xaxis\": {\"backgroundcolor\": \"#E5ECF6\", \"gridcolor\": \"white\", \"gridwidth\": 2, \"linecolor\": \"white\", \"showbackground\": true, \"ticks\": \"\", \"zerolinecolor\": \"white\"}, \"yaxis\": {\"backgroundcolor\": \"#E5ECF6\", \"gridcolor\": \"white\", \"gridwidth\": 2, \"linecolor\": \"white\", \"showbackground\": true, \"ticks\": \"\", \"zerolinecolor\": \"white\"}, \"zaxis\": {\"backgroundcolor\": \"#E5ECF6\", \"gridcolor\": \"white\", \"gridwidth\": 2, \"linecolor\": \"white\", \"showbackground\": true, \"ticks\": \"\", \"zerolinecolor\": \"white\"}}, \"shapedefaults\": {\"line\": {\"color\": \"#2a3f5f\"}}, \"ternary\": {\"aaxis\": {\"gridcolor\": \"white\", \"linecolor\": \"white\", \"ticks\": \"\"}, \"baxis\": {\"gridcolor\": \"white\", \"linecolor\": \"white\", \"ticks\": \"\"}, \"bgcolor\": \"#E5ECF6\", \"caxis\": {\"gridcolor\": \"white\", \"linecolor\": \"white\", \"ticks\": \"\"}}, \"title\": {\"x\": 0.05}, \"xaxis\": {\"automargin\": true, \"gridcolor\": \"white\", \"linecolor\": \"white\", \"ticks\": \"\", \"title\": {\"standoff\": 15}, \"zerolinecolor\": \"white\", \"zerolinewidth\": 2}, \"yaxis\": {\"automargin\": true, \"gridcolor\": \"white\", \"linecolor\": \"white\", \"ticks\": \"\", \"title\": {\"standoff\": 15}, \"zerolinecolor\": \"white\", \"zerolinewidth\": 2}}}},\n",
              "                        {\"responsive\": true}\n",
              "                    ).then(function(){\n",
              "                            \n",
              "var gd = document.getElementById('49493c9d-8fbc-4809-b1a4-c4ebf673e9b1');\n",
              "var x = new MutationObserver(function (mutations, observer) {{\n",
              "        var display = window.getComputedStyle(gd).display;\n",
              "        if (!display || display === 'none') {{\n",
              "            console.log([gd, 'removed!']);\n",
              "            Plotly.purge(gd);\n",
              "            observer.disconnect();\n",
              "        }}\n",
              "}});\n",
              "\n",
              "// Listen for the removal of the full notebook cells\n",
              "var notebookContainer = gd.closest('#notebook-container');\n",
              "if (notebookContainer) {{\n",
              "    x.observe(notebookContainer, {childList: true});\n",
              "}}\n",
              "\n",
              "// Listen for the clearing of the current output cell\n",
              "var outputEl = gd.closest('.output');\n",
              "if (outputEl) {{\n",
              "    x.observe(outputEl, {childList: true});\n",
              "}}\n",
              "\n",
              "                        })\n",
              "                };\n",
              "                \n",
              "            </script>\n",
              "        </div>\n",
              "</body>\n",
              "</html>"
            ]
          },
          "metadata": {
            "tags": []
          }
        }
      ]
    },
    {
      "cell_type": "code",
      "metadata": {
        "id": "r2g4XAYIfMcP",
        "colab_type": "code",
        "colab": {
          "base_uri": "https://localhost:8080/",
          "height": 206
        },
        "outputId": "d39c82ed-ce19-4775-c8d2-f1d17fd50e96"
      },
      "source": [
        "df_talla_peso = pd.DataFrame({'Nombre': nombres, 'Peso': peso, 'Talla': talla})\n",
        "df_outliers = pd.DataFrame({'Nombre': ['Mario', 'Francisco'], 'Peso': [22, 80], 'Talla': [185, 130]})\n",
        "df_talla_peso = pd.concat([df_talla_peso, df_outliers])\n",
        "# scar una muestra aleatoria del 100%\n",
        "df_talla_peso = df_talla_peso.sample(frac=1).reset_index(drop=True)\n",
        "df_talla_peso.head()"
      ],
      "execution_count": null,
      "outputs": [
        {
          "output_type": "execute_result",
          "data": {
            "text/html": [
              "<div>\n",
              "<style scoped>\n",
              "    .dataframe tbody tr th:only-of-type {\n",
              "        vertical-align: middle;\n",
              "    }\n",
              "\n",
              "    .dataframe tbody tr th {\n",
              "        vertical-align: top;\n",
              "    }\n",
              "\n",
              "    .dataframe thead th {\n",
              "        text-align: right;\n",
              "    }\n",
              "</style>\n",
              "<table border=\"1\" class=\"dataframe\">\n",
              "  <thead>\n",
              "    <tr style=\"text-align: right;\">\n",
              "      <th></th>\n",
              "      <th>Nombre</th>\n",
              "      <th>Peso</th>\n",
              "      <th>Talla</th>\n",
              "    </tr>\n",
              "  </thead>\n",
              "  <tbody>\n",
              "    <tr>\n",
              "      <th>0</th>\n",
              "      <td>Robert</td>\n",
              "      <td>64</td>\n",
              "      <td>163.116912</td>\n",
              "    </tr>\n",
              "    <tr>\n",
              "      <th>1</th>\n",
              "      <td>Bertha</td>\n",
              "      <td>37</td>\n",
              "      <td>144.139592</td>\n",
              "    </tr>\n",
              "    <tr>\n",
              "      <th>2</th>\n",
              "      <td>Lionel</td>\n",
              "      <td>34</td>\n",
              "      <td>136.734239</td>\n",
              "    </tr>\n",
              "    <tr>\n",
              "      <th>3</th>\n",
              "      <td>Sharon</td>\n",
              "      <td>59</td>\n",
              "      <td>166.357917</td>\n",
              "    </tr>\n",
              "    <tr>\n",
              "      <th>4</th>\n",
              "      <td>Yael</td>\n",
              "      <td>68</td>\n",
              "      <td>174.292131</td>\n",
              "    </tr>\n",
              "  </tbody>\n",
              "</table>\n",
              "</div>"
            ],
            "text/plain": [
              "   Nombre  Peso       Talla\n",
              "0  Robert    64  163.116912\n",
              "1  Bertha    37  144.139592\n",
              "2  Lionel    34  136.734239\n",
              "3  Sharon    59  166.357917\n",
              "4    Yael    68  174.292131"
            ]
          },
          "metadata": {
            "tags": []
          },
          "execution_count": 91
        }
      ]
    },
    {
      "cell_type": "code",
      "metadata": {
        "id": "GtHXG5_9n_Rr",
        "colab_type": "code",
        "colab": {
          "base_uri": "https://localhost:8080/",
          "height": 34
        },
        "outputId": "8763a02e-1db6-404d-b2e1-fb055074c36a"
      },
      "source": [
        "df_talla_peso.shape"
      ],
      "execution_count": null,
      "outputs": [
        {
          "output_type": "execute_result",
          "data": {
            "text/plain": [
              "(502, 4)"
            ]
          },
          "metadata": {
            "tags": []
          },
          "execution_count": 117
        }
      ]
    },
    {
      "cell_type": "code",
      "metadata": {
        "id": "XolEeZXPoOkb",
        "colab_type": "code",
        "colab": {
          "base_uri": "https://localhost:8080/",
          "height": 424
        },
        "outputId": "577956df-79fc-444a-f1ca-b0e58c283f3c"
      },
      "source": [
        "bins = [0, 100, 130, 150, 170, 200, 220]\n",
        "cats = pd.cut(df_talla_peso['Talla'], bins)\n",
        "cats.name = 'Talla_categ'\n",
        "pd.concat([df_talla_peso, cats], axis=1)  # Se agrega la columna cats"
      ],
      "execution_count": null,
      "outputs": [
        {
          "output_type": "execute_result",
          "data": {
            "text/html": [
              "<div>\n",
              "<style scoped>\n",
              "    .dataframe tbody tr th:only-of-type {\n",
              "        vertical-align: middle;\n",
              "    }\n",
              "\n",
              "    .dataframe tbody tr th {\n",
              "        vertical-align: top;\n",
              "    }\n",
              "\n",
              "    .dataframe thead th {\n",
              "        text-align: right;\n",
              "    }\n",
              "</style>\n",
              "<table border=\"1\" class=\"dataframe\">\n",
              "  <thead>\n",
              "    <tr style=\"text-align: right;\">\n",
              "      <th></th>\n",
              "      <th>Nombre</th>\n",
              "      <th>Peso</th>\n",
              "      <th>Talla</th>\n",
              "      <th>d2_stat</th>\n",
              "      <th>Talla_categ</th>\n",
              "    </tr>\n",
              "  </thead>\n",
              "  <tbody>\n",
              "    <tr>\n",
              "      <th>0</th>\n",
              "      <td>Robert</td>\n",
              "      <td>64</td>\n",
              "      <td>163.116912</td>\n",
              "      <td>0.039076</td>\n",
              "      <td>(150, 170]</td>\n",
              "    </tr>\n",
              "    <tr>\n",
              "      <th>1</th>\n",
              "      <td>Bertha</td>\n",
              "      <td>37</td>\n",
              "      <td>144.139592</td>\n",
              "      <td>0.009401</td>\n",
              "      <td>(130, 150]</td>\n",
              "    </tr>\n",
              "    <tr>\n",
              "      <th>2</th>\n",
              "      <td>Lionel</td>\n",
              "      <td>34</td>\n",
              "      <td>136.734239</td>\n",
              "      <td>0.000265</td>\n",
              "      <td>(130, 150]</td>\n",
              "    </tr>\n",
              "    <tr>\n",
              "      <th>3</th>\n",
              "      <td>Sharon</td>\n",
              "      <td>59</td>\n",
              "      <td>166.357917</td>\n",
              "      <td>0.001853</td>\n",
              "      <td>(150, 170]</td>\n",
              "    </tr>\n",
              "    <tr>\n",
              "      <th>4</th>\n",
              "      <td>Yael</td>\n",
              "      <td>68</td>\n",
              "      <td>174.292131</td>\n",
              "      <td>0.000118</td>\n",
              "      <td>(170, 200]</td>\n",
              "    </tr>\n",
              "    <tr>\n",
              "      <th>...</th>\n",
              "      <td>...</td>\n",
              "      <td>...</td>\n",
              "      <td>...</td>\n",
              "      <td>...</td>\n",
              "      <td>...</td>\n",
              "    </tr>\n",
              "    <tr>\n",
              "      <th>497</th>\n",
              "      <td>Vincent</td>\n",
              "      <td>50</td>\n",
              "      <td>153.713331</td>\n",
              "      <td>0.001081</td>\n",
              "      <td>(150, 170]</td>\n",
              "    </tr>\n",
              "    <tr>\n",
              "      <th>498</th>\n",
              "      <td>Lydia</td>\n",
              "      <td>72</td>\n",
              "      <td>178.423616</td>\n",
              "      <td>0.000328</td>\n",
              "      <td>(170, 200]</td>\n",
              "    </tr>\n",
              "    <tr>\n",
              "      <th>499</th>\n",
              "      <td>Ethel</td>\n",
              "      <td>25</td>\n",
              "      <td>127.162651</td>\n",
              "      <td>0.000056</td>\n",
              "      <td>(100, 130]</td>\n",
              "    </tr>\n",
              "    <tr>\n",
              "      <th>500</th>\n",
              "      <td>Ronald</td>\n",
              "      <td>53</td>\n",
              "      <td>163.880646</td>\n",
              "      <td>0.024482</td>\n",
              "      <td>(150, 170]</td>\n",
              "    </tr>\n",
              "    <tr>\n",
              "      <th>501</th>\n",
              "      <td>Austin</td>\n",
              "      <td>59</td>\n",
              "      <td>161.540249</td>\n",
              "      <td>0.008049</td>\n",
              "      <td>(150, 170]</td>\n",
              "    </tr>\n",
              "  </tbody>\n",
              "</table>\n",
              "<p>502 rows × 5 columns</p>\n",
              "</div>"
            ],
            "text/plain": [
              "      Nombre  Peso       Talla   d2_stat Talla_categ\n",
              "0     Robert    64  163.116912  0.039076  (150, 170]\n",
              "1     Bertha    37  144.139592  0.009401  (130, 150]\n",
              "2     Lionel    34  136.734239  0.000265  (130, 150]\n",
              "3     Sharon    59  166.357917  0.001853  (150, 170]\n",
              "4       Yael    68  174.292131  0.000118  (170, 200]\n",
              "..       ...   ...         ...       ...         ...\n",
              "497  Vincent    50  153.713331  0.001081  (150, 170]\n",
              "498    Lydia    72  178.423616  0.000328  (170, 200]\n",
              "499    Ethel    25  127.162651  0.000056  (100, 130]\n",
              "500   Ronald    53  163.880646  0.024482  (150, 170]\n",
              "501   Austin    59  161.540249  0.008049  (150, 170]\n",
              "\n",
              "[502 rows x 5 columns]"
            ]
          },
          "metadata": {
            "tags": []
          },
          "execution_count": 118
        }
      ]
    },
    {
      "cell_type": "code",
      "metadata": {
        "id": "Fhk5oTD8ok88",
        "colab_type": "code",
        "colab": {
          "base_uri": "https://localhost:8080/",
          "height": 677
        },
        "outputId": "f514c1ea-459a-4a95-d0cd-39b8ad21ec87"
      },
      "source": [
        "generos = np.array(['M', 'F', 'ND'])\n",
        "df1 = pd.DataFrame({'Genero': np.random.choice(generos, 20)})\n",
        "df1\n",
        "\n",
        "#pd.get_dummies(df1['Genero'])"
      ],
      "execution_count": null,
      "outputs": [
        {
          "output_type": "execute_result",
          "data": {
            "text/html": [
              "<div>\n",
              "<style scoped>\n",
              "    .dataframe tbody tr th:only-of-type {\n",
              "        vertical-align: middle;\n",
              "    }\n",
              "\n",
              "    .dataframe tbody tr th {\n",
              "        vertical-align: top;\n",
              "    }\n",
              "\n",
              "    .dataframe thead th {\n",
              "        text-align: right;\n",
              "    }\n",
              "</style>\n",
              "<table border=\"1\" class=\"dataframe\">\n",
              "  <thead>\n",
              "    <tr style=\"text-align: right;\">\n",
              "      <th></th>\n",
              "      <th>Genero</th>\n",
              "    </tr>\n",
              "  </thead>\n",
              "  <tbody>\n",
              "    <tr>\n",
              "      <th>0</th>\n",
              "      <td>M</td>\n",
              "    </tr>\n",
              "    <tr>\n",
              "      <th>1</th>\n",
              "      <td>F</td>\n",
              "    </tr>\n",
              "    <tr>\n",
              "      <th>2</th>\n",
              "      <td>F</td>\n",
              "    </tr>\n",
              "    <tr>\n",
              "      <th>3</th>\n",
              "      <td>M</td>\n",
              "    </tr>\n",
              "    <tr>\n",
              "      <th>4</th>\n",
              "      <td>ND</td>\n",
              "    </tr>\n",
              "    <tr>\n",
              "      <th>5</th>\n",
              "      <td>M</td>\n",
              "    </tr>\n",
              "    <tr>\n",
              "      <th>6</th>\n",
              "      <td>ND</td>\n",
              "    </tr>\n",
              "    <tr>\n",
              "      <th>7</th>\n",
              "      <td>M</td>\n",
              "    </tr>\n",
              "    <tr>\n",
              "      <th>8</th>\n",
              "      <td>M</td>\n",
              "    </tr>\n",
              "    <tr>\n",
              "      <th>9</th>\n",
              "      <td>F</td>\n",
              "    </tr>\n",
              "    <tr>\n",
              "      <th>10</th>\n",
              "      <td>ND</td>\n",
              "    </tr>\n",
              "    <tr>\n",
              "      <th>11</th>\n",
              "      <td>M</td>\n",
              "    </tr>\n",
              "    <tr>\n",
              "      <th>12</th>\n",
              "      <td>F</td>\n",
              "    </tr>\n",
              "    <tr>\n",
              "      <th>13</th>\n",
              "      <td>M</td>\n",
              "    </tr>\n",
              "    <tr>\n",
              "      <th>14</th>\n",
              "      <td>M</td>\n",
              "    </tr>\n",
              "    <tr>\n",
              "      <th>15</th>\n",
              "      <td>ND</td>\n",
              "    </tr>\n",
              "    <tr>\n",
              "      <th>16</th>\n",
              "      <td>F</td>\n",
              "    </tr>\n",
              "    <tr>\n",
              "      <th>17</th>\n",
              "      <td>ND</td>\n",
              "    </tr>\n",
              "    <tr>\n",
              "      <th>18</th>\n",
              "      <td>F</td>\n",
              "    </tr>\n",
              "    <tr>\n",
              "      <th>19</th>\n",
              "      <td>F</td>\n",
              "    </tr>\n",
              "  </tbody>\n",
              "</table>\n",
              "</div>"
            ],
            "text/plain": [
              "   Genero\n",
              "0       M\n",
              "1       F\n",
              "2       F\n",
              "3       M\n",
              "4      ND\n",
              "5       M\n",
              "6      ND\n",
              "7       M\n",
              "8       M\n",
              "9       F\n",
              "10     ND\n",
              "11      M\n",
              "12      F\n",
              "13      M\n",
              "14      M\n",
              "15     ND\n",
              "16      F\n",
              "17     ND\n",
              "18      F\n",
              "19      F"
            ]
          },
          "metadata": {
            "tags": []
          },
          "execution_count": 121
        }
      ]
    },
    {
      "cell_type": "code",
      "metadata": {
        "id": "y8ww4Ocffob_",
        "colab_type": "code",
        "colab": {
          "base_uri": "https://localhost:8080/",
          "height": 542
        },
        "outputId": "a781fbff-8081-4203-8277-707e58545cf9"
      },
      "source": [
        "fig = go.Figure(data=go.Scatter(x=df_talla_peso['Talla'], y=df_talla_peso['Peso'], mode='markers'))\n",
        "\n",
        "fig.show()"
      ],
      "execution_count": null,
      "outputs": [
        {
          "output_type": "display_data",
          "data": {
            "text/html": [
              "<html>\n",
              "<head><meta charset=\"utf-8\" /></head>\n",
              "<body>\n",
              "    <div>\n",
              "            <script src=\"https://cdnjs.cloudflare.com/ajax/libs/mathjax/2.7.5/MathJax.js?config=TeX-AMS-MML_SVG\"></script><script type=\"text/javascript\">if (window.MathJax) {MathJax.Hub.Config({SVG: {font: \"STIX-Web\"}});}</script>\n",
              "                <script type=\"text/javascript\">window.PlotlyConfig = {MathJaxConfig: 'local'};</script>\n",
              "        <script src=\"https://cdn.plot.ly/plotly-latest.min.js\"></script>    \n",
              "            <div id=\"8962314d-d191-412a-a96b-dd1f7d7bc222\" class=\"plotly-graph-div\" style=\"height:525px; width:100%;\"></div>\n",
              "            <script type=\"text/javascript\">\n",
              "                \n",
              "                    window.PLOTLYENV=window.PLOTLYENV || {};\n",
              "                    \n",
              "                if (document.getElementById(\"8962314d-d191-412a-a96b-dd1f7d7bc222\")) {\n",
              "                    Plotly.newPlot(\n",
              "                        '8962314d-d191-412a-a96b-dd1f7d7bc222',\n",
              "                        [{\"mode\": \"markers\", \"type\": \"scatter\", \"x\": [163.1169117211668, 144.139592030487, 136.73423863173662, 166.35791737473843, 174.29213098375055, 138.77865416798474, 160.25321709262838, 154.27347007249594, 124.70739005038638, 177.80419689355597, 163.51383666629138, 134.36437354788973, 170.57423259954504, 140.18291632298738, 142.8809657709626, 151.55673805587176, 149.29253241651497, 184.9052616779701, 161.5582230170096, 125.12466152967764, 173.18861903766663, 157.51349204712628, 131.78932967839117, 140.49017862769142, 146.22793958757956, 125.82757796971548, 142.3252140211306, 172.61556371634808, 135.01704420635332, 179.41295143675893, 127.8929511417229, 146.40357463801223, 169.64700381974492, 137.25678419219545, 155.11481380620623, 181.74438469030287, 136.464168464077, 145.03543307791819, 156.37461696318712, 151.38719994469594, 173.0179889675135, 142.26733792696984, 157.43191382463527, 131.4666256906273, 121.72056488843492, 167.73411995465693, 171.8482214371049, 158.75368356895268, 136.5020258836473, 158.06607210875157, 178.71386796534065, 125.57327192874783, 158.4975319150627, 176.05814926859892, 150.46367722353878, 152.40439133410857, 141.44036858948394, 182.34735532093035, 131.98754077273986, 135.69852073782414, 139.76714441703461, 152.14330476054334, 177.49373767906215, 178.30935407247043, 181.47069967955633, 159.8643924506447, 145.82337318969664, 129.10349624367421, 181.15477014836603, 123.80345028681846, 180.66570877836799, 137.07313831151015, 136.28444533653737, 186.84905403727004, 177.10466514429336, 132.34665422296865, 159.56239480798567, 154.94299149996152, 145.39199410888284, 135.00098564979848, 136.3119571087695, 157.33706330620646, 124.55101369988076, 187.79290677326853, 152.62780519615453, 179.3711756014533, 125.80369722810343, 164.38558553053971, 131.73775047277613, 133.9131757927068, 118.1365102331689, 186.21260962451058, 147.49261200911764, 162.8460672005453, 125.52031621925472, 186.72024675609168, 151.27790303508786, 126.2201236591193, 146.30159723651613, 145.3197420269066, 164.94522176793322, 132.95518810653238, 137.3534998633887, 175.97812884184452, 146.38319935919327, 149.78469101087356, 180.14016582544093, 188.1942551463748, 138.28519704227207, 142.34468429336437, 186.5736481714156, 150.58246776598693, 158.94029420028636, 185.2533461197851, 150.00561019350204, 126.88056726520736, 135.92148494896801, 179.03635990986118, 124.07197212888238, 169.41055054675638, 178.9816586240806, 140.60502980441103, 142.63908926834696, 147.15721962098436, 135.49905726526742, 190.0766145443282, 167.12168204979912, 137.58560019975053, 144.60839521289137, 169.13337544602683, 168.36552167797976, 172.80059544604956, 137.54532741023013, 174.17157497296193, 170.1533966474114, 152.8815306911701, 172.42619086325394, 148.09008285882905, 135.126309958714, 129.85443005730627, 177.11734479007183, 166.21606602393928, 165.72199342927266, 149.64478762336705, 176.97221023122887, 138.95340575437353, 164.5428207913319, 161.30246969218, 124.52262476393504, 159.6607716226845, 150.64248755932744, 133.6491696620196, 175.92441149922396, 132.7660793942519, 181.83360066814066, 164.66750823467012, 165.73183465956396, 165.8486688814005, 139.2665772093884, 152.8902354016974, 148.7820270612525, 153.78291306701826, 168.3582151289172, 122.09073995563114, 151.73604823921494, 186.16587839795412, 152.38691207529868, 149.78486778721526, 170.03773809308214, 178.25413075372032, 171.23168137516197, 143.31611006387206, 144.99521754098387, 143.84281572277249, 169.38987001343554, 133.69849053936287, 146.8920063583073, 151.65059164540534, 170.52950556127433, 171.26622430635084, 176.70597808945317, 127.25946060605527, 172.65785292069805, 154.46057753253925, 131.6866095111636, 167.61477720629097, 139.8234975697039, 124.01680112280746, 115.46258850589044, 141.06925844747315, 137.5784249367308, 141.6925106094791, 130.0, 169.09183062379222, 167.92116963885766, 138.42704132219612, 138.6486254703243, 125.43223146483882, 126.10020936167922, 188.33108320948608, 157.76842970832243, 156.9987229533774, 134.79539041633097, 157.9456209262429, 137.8771841249459, 144.17444388619225, 138.18715571877183, 149.63286807307574, 166.93393785160347, 177.52814446124052, 139.25604679814205, 140.4563933076063, 156.63497704328316, 145.03964805158859, 157.35446365961627, 181.69666782260765, 185.0367344591032, 152.7747175633991, 124.07489057301244, 127.46650690340647, 175.35063830395018, 150.7239507516177, 136.99834060996096, 135.4125918375698, 151.7195076268595, 157.40185606765647, 137.3737968663144, 126.9122188924009, 126.08405469536636, 175.07124064000575, 160.51241922175316, 158.17941900160443, 155.54298001522568, 147.6483922808744, 135.44490843004994, 155.28307310499414, 134.11837774248366, 156.25597114819126, 175.2847761462517, 146.11873042901874, 176.66400188976394, 152.9499642653164, 152.4771354508488, 122.0468441527925, 139.23464394764184, 176.0459793276454, 174.06607689912724, 154.04192923061174, 147.0902448695539, 163.1800233712161, 158.81675129549873, 157.02442463171607, 164.01571572607233, 122.98920146925659, 121.94787521541683, 167.35630720876873, 167.4606734949621, 141.95320437106463, 167.54136684246998, 163.27678798357502, 153.84809809328289, 189.35840858192248, 131.20789656819028, 153.06719391675776, 128.50486739281106, 139.3533503787471, 174.86844695676467, 162.148385506179, 138.62435968713223, 145.72912859459774, 161.82113453616236, 185.0, 151.14658460971765, 151.50086764755304, 181.26708478765053, 162.29328089360385, 186.28835555102845, 133.7627363967908, 181.33235332016665, 180.06607955761532, 176.79077246843315, 129.13229211311494, 154.36926822194044, 121.30605051316059, 152.22404522194523, 183.91061333312427, 144.51164642121964, 154.97053778191102, 163.1771844189785, 164.49241213625024, 182.3314080204006, 144.85904539798136, 145.06444594765242, 179.77572575622216, 131.3710287621586, 154.2025563862908, 164.807736407322, 130.90296987506633, 133.0581927684758, 152.83496748370376, 165.67607455927305, 149.73901915302778, 139.43657730737718, 121.29004694025295, 137.16506715219597, 131.7171390584538, 174.850356397922, 158.78500073440398, 131.8862286465213, 160.35905055692163, 159.05394319632694, 180.88596377100032, 181.7996530439739, 175.24098065868534, 151.80800297830766, 182.22151571675133, 135.04470885599275, 139.6903766780238, 135.3381849353443, 179.0668438423736, 156.68660876165856, 135.02704276145286, 131.4840969336572, 167.6517210681762, 170.84832794637444, 177.5190968407643, 187.7672682344091, 136.96581470247722, 164.2545257109131, 125.24679733689061, 168.65392080697345, 141.74221967227635, 176.13391092797065, 138.62419386768565, 188.0821519462941, 138.92912664012294, 157.9109570728313, 144.77266420305023, 164.0572103840671, 171.6959453466751, 126.9498547156867, 137.74909116591368, 162.06535111897617, 187.59369050460037, 135.0770144109271, 166.8379866795503, 136.25274247781326, 166.04868722932355, 172.75979137519917, 135.8424110031605, 161.28568433802752, 182.28981606870528, 147.81162439349472, 165.12082400212708, 179.37928466500034, 130.96545398718624, 157.97073821090368, 160.26488145524365, 130.4182799709122, 154.83059679141834, 159.82269571218325, 170.16120876750838, 124.54277889917657, 156.66643167883439, 123.34466697608441, 157.50656975845646, 150.71681392428277, 128.38773457993514, 144.51200110392514, 173.3070050518668, 162.36521366369888, 174.0481031413275, 122.00348460066544, 163.48448639350002, 154.1230797282676, 167.02804068798878, 137.04270192020928, 161.54646744551522, 131.57885934417953, 157.77428834036488, 153.44478541101802, 184.27053593393708, 155.74205668249402, 170.12331347718415, 161.41690107769205, 130.85741271664793, 169.6378488016851, 173.60776416352562, 165.79891867504193, 149.69329816037305, 144.32128395240252, 158.24755911671332, 150.51367747098854, 168.6455268808241, 158.39946841443796, 160.37449457399364, 131.30980754591903, 131.04728855824217, 119.05902836419746, 147.01000049386474, 153.47229656165769, 121.12289989218428, 136.30610837523975, 133.50921877712636, 150.7069733081801, 179.24622263925139, 139.52718524974586, 172.32647317695628, 171.23539703955217, 123.76196548085551, 148.66639598757976, 140.50102870380238, 127.79663712266152, 163.29338634154468, 129.0649436179387, 164.18084930632597, 132.60874754157973, 139.54021740389433, 178.69296020950455, 149.8610772839067, 128.67475559749874, 124.05182851753503, 162.48434754865687, 123.04771806791678, 154.771895065943, 147.856144830477, 181.45525549392033, 171.51781749495922, 186.96951756232573, 177.91500240097457, 165.32589118574268, 172.12929262271703, 144.26242292488965, 138.54196641150122, 159.36690825735073, 144.2367208856716, 187.5552394994442, 133.92365795160683, 185.1676076274797, 168.7331717623473, 163.7224624295064, 143.0232737263956, 183.0970031873578, 156.39338719706953, 166.47600260509432, 170.94480655491304, 126.15844667682191, 122.83885462116261, 164.00260742091427, 139.86811742916078, 139.06771857398277, 152.19442623396716, 133.00315659124337, 164.03267369568258, 155.54887190694416, 160.41726420023784, 128.8830238176121, 173.23733098076605, 128.454226803715, 138.39120130384893, 175.48303810315184, 154.1304930844394, 172.84386944843254, 158.00701956289458, 177.76368254197578, 161.0037851174651, 174.77436163655202, 139.13560906030204, 150.43945078880878, 164.8058338414269, 136.33178967449243, 131.7600990245921, 135.45678595956537, 171.38278198612466, 144.67656976840274, 129.72274596504906, 136.00565397442165, 160.68789105119782, 160.27047471775356, 146.04630700332882, 180.06048228694507, 175.48469466090114, 131.9179596587871, 167.94401553564916, 127.12263075213578, 159.47620940512434, 143.48551859595506, 148.07953137663813, 157.808153971684, 170.2990930432548, 150.95814096087776, 168.13023272156107, 173.08526920021944, 162.04214631428297, 177.12699300331946, 164.13372559020257, 146.4753766861299, 153.71333064831498, 178.42361601730235, 127.16265110347092, 163.88064592282728, 161.5402491369213], \"y\": [64, 37, 34, 59, 68, 32, 56, 50, 23, 72, 58, 26, 60, 38, 36, 48, 46, 76, 60, 20, 73, 49, 26, 35, 41, 24, 38, 63, 30, 71, 30, 43, 59, 33, 50, 75, 33, 43, 52, 50, 65, 39, 56, 28, 20, 60, 68, 51, 38, 52, 71, 26, 55, 64, 43, 46, 34, 75, 31, 34, 36, 48, 76, 67, 76, 54, 41, 27, 77, 22, 71, 36, 35, 76, 72, 30, 53, 53, 43, 33, 31, 50, 24, 79, 44, 70, 22, 58, 30, 23, 20, 75, 41, 55, 27, 73, 48, 26, 40, 42, 56, 31, 33, 73, 43, 50, 76, 77, 33, 38, 74, 49, 51, 78, 40, 30, 33, 74, 21, 61, 73, 37, 36, 46, 32, 78, 60, 36, 37, 67, 61, 66, 35, 68, 68, 53, 67, 43, 28, 31, 72, 62, 61, 41, 68, 39, 58, 55, 21, 57, 41, 35, 70, 28, 71, 59, 56, 57, 38, 43, 43, 50, 61, 25, 47, 78, 47, 50, 61, 70, 61, 41, 43, 42, 67, 29, 43, 49, 66, 66, 72, 22, 65, 47, 25, 64, 36, 23, 23, 37, 31, 35, 80, 65, 61, 39, 34, 25, 22, 79, 55, 57, 33, 56, 36, 38, 35, 45, 58, 69, 36, 40, 52, 40, 49, 73, 77, 44, 25, 31, 65, 47, 32, 30, 51, 51, 34, 26, 23, 67, 59, 52, 51, 40, 35, 47, 31, 54, 68, 38, 70, 46, 48, 21, 34, 73, 65, 52, 37, 57, 51, 46, 59, 20, 20, 61, 61, 43, 62, 53, 53, 77, 28, 50, 27, 36, 68, 56, 37, 38, 56, 22, 47, 46, 71, 58, 78, 33, 74, 75, 65, 26, 48, 24, 48, 75, 44, 51, 57, 59, 75, 39, 41, 67, 27, 47, 61, 29, 31, 45, 57, 42, 34, 20, 32, 29, 72, 53, 31, 56, 57, 78, 77, 67, 47, 76, 36, 40, 36, 71, 50, 30, 30, 64, 61, 69, 78, 34, 63, 24, 61, 32, 67, 37, 79, 33, 51, 39, 63, 66, 24, 31, 54, 79, 29, 58, 33, 57, 67, 30, 59, 76, 47, 61, 71, 23, 55, 57, 30, 47, 60, 64, 21, 52, 20, 52, 47, 23, 41, 70, 56, 68, 22, 57, 46, 60, 32, 55, 29, 56, 50, 77, 48, 63, 57, 31, 58, 69, 59, 47, 46, 49, 44, 66, 54, 55, 30, 27, 20, 46, 50, 23, 28, 28, 45, 75, 39, 65, 68, 21, 40, 38, 24, 58, 25, 60, 31, 38, 72, 44, 27, 23, 57, 22, 49, 43, 79, 65, 77, 70, 60, 68, 44, 32, 55, 41, 75, 34, 79, 65, 56, 41, 75, 47, 61, 65, 23, 21, 57, 36, 36, 46, 35, 61, 52, 56, 28, 68, 23, 34, 69, 49, 68, 53, 76, 59, 76, 39, 43, 55, 39, 27, 33, 64, 41, 25, 31, 51, 56, 44, 73, 68, 27, 60, 23, 59, 40, 46, 53, 63, 45, 66, 73, 55, 74, 59, 40, 50, 72, 25, 53, 59]}],\n",
              "                        {\"template\": {\"data\": {\"bar\": [{\"error_x\": {\"color\": \"#2a3f5f\"}, \"error_y\": {\"color\": \"#2a3f5f\"}, \"marker\": {\"line\": {\"color\": \"#E5ECF6\", \"width\": 0.5}}, \"type\": \"bar\"}], \"barpolar\": [{\"marker\": {\"line\": {\"color\": \"#E5ECF6\", \"width\": 0.5}}, \"type\": \"barpolar\"}], \"carpet\": [{\"aaxis\": {\"endlinecolor\": \"#2a3f5f\", \"gridcolor\": \"white\", \"linecolor\": \"white\", \"minorgridcolor\": \"white\", \"startlinecolor\": \"#2a3f5f\"}, \"baxis\": {\"endlinecolor\": \"#2a3f5f\", \"gridcolor\": \"white\", \"linecolor\": \"white\", \"minorgridcolor\": \"white\", \"startlinecolor\": \"#2a3f5f\"}, \"type\": \"carpet\"}], \"choropleth\": [{\"colorbar\": {\"outlinewidth\": 0, \"ticks\": \"\"}, \"type\": \"choropleth\"}], \"contour\": [{\"colorbar\": {\"outlinewidth\": 0, \"ticks\": \"\"}, \"colorscale\": [[0.0, \"#0d0887\"], [0.1111111111111111, \"#46039f\"], [0.2222222222222222, \"#7201a8\"], [0.3333333333333333, \"#9c179e\"], [0.4444444444444444, \"#bd3786\"], [0.5555555555555556, \"#d8576b\"], [0.6666666666666666, \"#ed7953\"], [0.7777777777777778, \"#fb9f3a\"], [0.8888888888888888, \"#fdca26\"], [1.0, \"#f0f921\"]], \"type\": \"contour\"}], \"contourcarpet\": [{\"colorbar\": {\"outlinewidth\": 0, \"ticks\": \"\"}, \"type\": \"contourcarpet\"}], \"heatmap\": [{\"colorbar\": {\"outlinewidth\": 0, \"ticks\": \"\"}, \"colorscale\": [[0.0, \"#0d0887\"], [0.1111111111111111, \"#46039f\"], [0.2222222222222222, \"#7201a8\"], [0.3333333333333333, \"#9c179e\"], [0.4444444444444444, \"#bd3786\"], [0.5555555555555556, \"#d8576b\"], [0.6666666666666666, \"#ed7953\"], [0.7777777777777778, \"#fb9f3a\"], [0.8888888888888888, \"#fdca26\"], [1.0, \"#f0f921\"]], \"type\": \"heatmap\"}], \"heatmapgl\": [{\"colorbar\": {\"outlinewidth\": 0, \"ticks\": \"\"}, \"colorscale\": [[0.0, \"#0d0887\"], [0.1111111111111111, \"#46039f\"], [0.2222222222222222, \"#7201a8\"], [0.3333333333333333, \"#9c179e\"], [0.4444444444444444, \"#bd3786\"], [0.5555555555555556, \"#d8576b\"], [0.6666666666666666, \"#ed7953\"], [0.7777777777777778, \"#fb9f3a\"], [0.8888888888888888, \"#fdca26\"], [1.0, \"#f0f921\"]], \"type\": \"heatmapgl\"}], \"histogram\": [{\"marker\": {\"colorbar\": {\"outlinewidth\": 0, \"ticks\": \"\"}}, \"type\": \"histogram\"}], \"histogram2d\": [{\"colorbar\": {\"outlinewidth\": 0, \"ticks\": \"\"}, \"colorscale\": [[0.0, \"#0d0887\"], [0.1111111111111111, \"#46039f\"], [0.2222222222222222, \"#7201a8\"], [0.3333333333333333, \"#9c179e\"], [0.4444444444444444, \"#bd3786\"], [0.5555555555555556, \"#d8576b\"], [0.6666666666666666, \"#ed7953\"], [0.7777777777777778, \"#fb9f3a\"], [0.8888888888888888, \"#fdca26\"], [1.0, \"#f0f921\"]], \"type\": \"histogram2d\"}], \"histogram2dcontour\": [{\"colorbar\": {\"outlinewidth\": 0, \"ticks\": \"\"}, \"colorscale\": [[0.0, \"#0d0887\"], [0.1111111111111111, \"#46039f\"], [0.2222222222222222, \"#7201a8\"], [0.3333333333333333, \"#9c179e\"], [0.4444444444444444, \"#bd3786\"], [0.5555555555555556, \"#d8576b\"], [0.6666666666666666, \"#ed7953\"], [0.7777777777777778, \"#fb9f3a\"], [0.8888888888888888, \"#fdca26\"], [1.0, \"#f0f921\"]], \"type\": \"histogram2dcontour\"}], \"mesh3d\": [{\"colorbar\": {\"outlinewidth\": 0, \"ticks\": \"\"}, \"type\": \"mesh3d\"}], \"parcoords\": [{\"line\": {\"colorbar\": {\"outlinewidth\": 0, \"ticks\": \"\"}}, \"type\": \"parcoords\"}], \"pie\": [{\"automargin\": true, \"type\": \"pie\"}], \"scatter\": [{\"marker\": {\"colorbar\": {\"outlinewidth\": 0, \"ticks\": \"\"}}, \"type\": \"scatter\"}], \"scatter3d\": [{\"line\": {\"colorbar\": {\"outlinewidth\": 0, \"ticks\": \"\"}}, \"marker\": {\"colorbar\": {\"outlinewidth\": 0, \"ticks\": \"\"}}, \"type\": \"scatter3d\"}], \"scattercarpet\": [{\"marker\": {\"colorbar\": {\"outlinewidth\": 0, \"ticks\": \"\"}}, \"type\": \"scattercarpet\"}], \"scattergeo\": [{\"marker\": {\"colorbar\": {\"outlinewidth\": 0, \"ticks\": \"\"}}, \"type\": \"scattergeo\"}], \"scattergl\": [{\"marker\": {\"colorbar\": {\"outlinewidth\": 0, \"ticks\": \"\"}}, \"type\": \"scattergl\"}], \"scattermapbox\": [{\"marker\": {\"colorbar\": {\"outlinewidth\": 0, \"ticks\": \"\"}}, \"type\": \"scattermapbox\"}], \"scatterpolar\": [{\"marker\": {\"colorbar\": {\"outlinewidth\": 0, \"ticks\": \"\"}}, \"type\": \"scatterpolar\"}], \"scatterpolargl\": [{\"marker\": {\"colorbar\": {\"outlinewidth\": 0, \"ticks\": \"\"}}, \"type\": \"scatterpolargl\"}], \"scatterternary\": [{\"marker\": {\"colorbar\": {\"outlinewidth\": 0, \"ticks\": \"\"}}, \"type\": \"scatterternary\"}], \"surface\": [{\"colorbar\": {\"outlinewidth\": 0, \"ticks\": \"\"}, \"colorscale\": [[0.0, \"#0d0887\"], [0.1111111111111111, \"#46039f\"], [0.2222222222222222, \"#7201a8\"], [0.3333333333333333, \"#9c179e\"], [0.4444444444444444, \"#bd3786\"], [0.5555555555555556, \"#d8576b\"], [0.6666666666666666, \"#ed7953\"], [0.7777777777777778, \"#fb9f3a\"], [0.8888888888888888, \"#fdca26\"], [1.0, \"#f0f921\"]], \"type\": \"surface\"}], \"table\": [{\"cells\": {\"fill\": {\"color\": \"#EBF0F8\"}, \"line\": {\"color\": \"white\"}}, \"header\": {\"fill\": {\"color\": \"#C8D4E3\"}, \"line\": {\"color\": \"white\"}}, \"type\": \"table\"}]}, \"layout\": {\"annotationdefaults\": {\"arrowcolor\": \"#2a3f5f\", \"arrowhead\": 0, \"arrowwidth\": 1}, \"coloraxis\": {\"colorbar\": {\"outlinewidth\": 0, \"ticks\": \"\"}}, \"colorscale\": {\"diverging\": [[0, \"#8e0152\"], [0.1, \"#c51b7d\"], [0.2, \"#de77ae\"], [0.3, \"#f1b6da\"], [0.4, \"#fde0ef\"], [0.5, \"#f7f7f7\"], [0.6, \"#e6f5d0\"], [0.7, \"#b8e186\"], [0.8, \"#7fbc41\"], [0.9, \"#4d9221\"], [1, \"#276419\"]], \"sequential\": [[0.0, \"#0d0887\"], [0.1111111111111111, \"#46039f\"], [0.2222222222222222, \"#7201a8\"], [0.3333333333333333, \"#9c179e\"], [0.4444444444444444, \"#bd3786\"], [0.5555555555555556, \"#d8576b\"], [0.6666666666666666, \"#ed7953\"], [0.7777777777777778, \"#fb9f3a\"], [0.8888888888888888, \"#fdca26\"], [1.0, \"#f0f921\"]], \"sequentialminus\": [[0.0, \"#0d0887\"], [0.1111111111111111, \"#46039f\"], [0.2222222222222222, \"#7201a8\"], [0.3333333333333333, \"#9c179e\"], [0.4444444444444444, \"#bd3786\"], [0.5555555555555556, \"#d8576b\"], [0.6666666666666666, \"#ed7953\"], [0.7777777777777778, \"#fb9f3a\"], [0.8888888888888888, \"#fdca26\"], [1.0, \"#f0f921\"]]}, \"colorway\": [\"#636efa\", \"#EF553B\", \"#00cc96\", \"#ab63fa\", \"#FFA15A\", \"#19d3f3\", \"#FF6692\", \"#B6E880\", \"#FF97FF\", \"#FECB52\"], \"font\": {\"color\": \"#2a3f5f\"}, \"geo\": {\"bgcolor\": \"white\", \"lakecolor\": \"white\", \"landcolor\": \"#E5ECF6\", \"showlakes\": true, \"showland\": true, \"subunitcolor\": \"white\"}, \"hoverlabel\": {\"align\": \"left\"}, \"hovermode\": \"closest\", \"mapbox\": {\"style\": \"light\"}, \"paper_bgcolor\": \"white\", \"plot_bgcolor\": \"#E5ECF6\", \"polar\": {\"angularaxis\": {\"gridcolor\": \"white\", \"linecolor\": \"white\", \"ticks\": \"\"}, \"bgcolor\": \"#E5ECF6\", \"radialaxis\": {\"gridcolor\": \"white\", \"linecolor\": \"white\", \"ticks\": \"\"}}, \"scene\": {\"xaxis\": {\"backgroundcolor\": \"#E5ECF6\", \"gridcolor\": \"white\", \"gridwidth\": 2, \"linecolor\": \"white\", \"showbackground\": true, \"ticks\": \"\", \"zerolinecolor\": \"white\"}, \"yaxis\": {\"backgroundcolor\": \"#E5ECF6\", \"gridcolor\": \"white\", \"gridwidth\": 2, \"linecolor\": \"white\", \"showbackground\": true, \"ticks\": \"\", \"zerolinecolor\": \"white\"}, \"zaxis\": {\"backgroundcolor\": \"#E5ECF6\", \"gridcolor\": \"white\", \"gridwidth\": 2, \"linecolor\": \"white\", \"showbackground\": true, \"ticks\": \"\", \"zerolinecolor\": \"white\"}}, \"shapedefaults\": {\"line\": {\"color\": \"#2a3f5f\"}}, \"ternary\": {\"aaxis\": {\"gridcolor\": \"white\", \"linecolor\": \"white\", \"ticks\": \"\"}, \"baxis\": {\"gridcolor\": \"white\", \"linecolor\": \"white\", \"ticks\": \"\"}, \"bgcolor\": \"#E5ECF6\", \"caxis\": {\"gridcolor\": \"white\", \"linecolor\": \"white\", \"ticks\": \"\"}}, \"title\": {\"x\": 0.05}, \"xaxis\": {\"automargin\": true, \"gridcolor\": \"white\", \"linecolor\": \"white\", \"ticks\": \"\", \"title\": {\"standoff\": 15}, \"zerolinecolor\": \"white\", \"zerolinewidth\": 2}, \"yaxis\": {\"automargin\": true, \"gridcolor\": \"white\", \"linecolor\": \"white\", \"ticks\": \"\", \"title\": {\"standoff\": 15}, \"zerolinecolor\": \"white\", \"zerolinewidth\": 2}}}},\n",
              "                        {\"responsive\": true}\n",
              "                    ).then(function(){\n",
              "                            \n",
              "var gd = document.getElementById('8962314d-d191-412a-a96b-dd1f7d7bc222');\n",
              "var x = new MutationObserver(function (mutations, observer) {{\n",
              "        var display = window.getComputedStyle(gd).display;\n",
              "        if (!display || display === 'none') {{\n",
              "            console.log([gd, 'removed!']);\n",
              "            Plotly.purge(gd);\n",
              "            observer.disconnect();\n",
              "        }}\n",
              "}});\n",
              "\n",
              "// Listen for the removal of the full notebook cells\n",
              "var notebookContainer = gd.closest('#notebook-container');\n",
              "if (notebookContainer) {{\n",
              "    x.observe(notebookContainer, {childList: true});\n",
              "}}\n",
              "\n",
              "// Listen for the clearing of the current output cell\n",
              "var outputEl = gd.closest('.output');\n",
              "if (outputEl) {{\n",
              "    x.observe(outputEl, {childList: true});\n",
              "}}\n",
              "\n",
              "                        })\n",
              "                };\n",
              "                \n",
              "            </script>\n",
              "        </div>\n",
              "</body>\n",
              "</html>"
            ]
          },
          "metadata": {
            "tags": []
          }
        }
      ]
    },
    {
      "cell_type": "code",
      "metadata": {
        "id": "lVJIEPEofunF",
        "colab_type": "code",
        "colab": {
          "base_uri": "https://localhost:8080/",
          "height": 542
        },
        "outputId": "bef49b48-7b2c-471d-9674-18f1c153a2d0"
      },
      "source": [
        "fig = go.Figure()\n",
        "for index, column in df_talla_peso[['Talla', 'Peso']].iteritems():\n",
        "    fig.add_trace(go.Box(y=column, name=index))\n",
        "\n",
        "fig.show()"
      ],
      "execution_count": null,
      "outputs": [
        {
          "output_type": "display_data",
          "data": {
            "text/html": [
              "<html>\n",
              "<head><meta charset=\"utf-8\" /></head>\n",
              "<body>\n",
              "    <div>\n",
              "            <script src=\"https://cdnjs.cloudflare.com/ajax/libs/mathjax/2.7.5/MathJax.js?config=TeX-AMS-MML_SVG\"></script><script type=\"text/javascript\">if (window.MathJax) {MathJax.Hub.Config({SVG: {font: \"STIX-Web\"}});}</script>\n",
              "                <script type=\"text/javascript\">window.PlotlyConfig = {MathJaxConfig: 'local'};</script>\n",
              "        <script src=\"https://cdn.plot.ly/plotly-latest.min.js\"></script>    \n",
              "            <div id=\"7ff8cca8-adcb-4d9b-bc19-07fb49224322\" class=\"plotly-graph-div\" style=\"height:525px; width:100%;\"></div>\n",
              "            <script type=\"text/javascript\">\n",
              "                \n",
              "                    window.PLOTLYENV=window.PLOTLYENV || {};\n",
              "                    \n",
              "                if (document.getElementById(\"7ff8cca8-adcb-4d9b-bc19-07fb49224322\")) {\n",
              "                    Plotly.newPlot(\n",
              "                        '7ff8cca8-adcb-4d9b-bc19-07fb49224322',\n",
              "                        [{\"name\": \"Talla\", \"type\": \"box\", \"y\": [163.1169117211668, 144.139592030487, 136.73423863173662, 166.35791737473843, 174.29213098375055, 138.77865416798474, 160.25321709262838, 154.27347007249594, 124.70739005038638, 177.80419689355597, 163.51383666629138, 134.36437354788973, 170.57423259954504, 140.18291632298738, 142.8809657709626, 151.55673805587176, 149.29253241651497, 184.9052616779701, 161.5582230170096, 125.12466152967764, 173.18861903766663, 157.51349204712628, 131.78932967839117, 140.49017862769142, 146.22793958757956, 125.82757796971548, 142.3252140211306, 172.61556371634808, 135.01704420635332, 179.41295143675893, 127.8929511417229, 146.40357463801223, 169.64700381974492, 137.25678419219545, 155.11481380620623, 181.74438469030287, 136.464168464077, 145.03543307791819, 156.37461696318712, 151.38719994469594, 173.0179889675135, 142.26733792696984, 157.43191382463527, 131.4666256906273, 121.72056488843492, 167.73411995465693, 171.8482214371049, 158.75368356895268, 136.5020258836473, 158.06607210875157, 178.71386796534065, 125.57327192874783, 158.4975319150627, 176.05814926859892, 150.46367722353878, 152.40439133410857, 141.44036858948394, 182.34735532093035, 131.98754077273986, 135.69852073782414, 139.76714441703461, 152.14330476054334, 177.49373767906215, 178.30935407247043, 181.47069967955633, 159.8643924506447, 145.82337318969664, 129.10349624367421, 181.15477014836603, 123.80345028681846, 180.66570877836799, 137.07313831151015, 136.28444533653737, 186.84905403727004, 177.10466514429336, 132.34665422296865, 159.56239480798567, 154.94299149996152, 145.39199410888284, 135.00098564979848, 136.3119571087695, 157.33706330620646, 124.55101369988076, 187.79290677326853, 152.62780519615453, 179.3711756014533, 125.80369722810343, 164.38558553053971, 131.73775047277613, 133.9131757927068, 118.1365102331689, 186.21260962451058, 147.49261200911764, 162.8460672005453, 125.52031621925472, 186.72024675609168, 151.27790303508786, 126.2201236591193, 146.30159723651613, 145.3197420269066, 164.94522176793322, 132.95518810653238, 137.3534998633887, 175.97812884184452, 146.38319935919327, 149.78469101087356, 180.14016582544093, 188.1942551463748, 138.28519704227207, 142.34468429336437, 186.5736481714156, 150.58246776598693, 158.94029420028636, 185.2533461197851, 150.00561019350204, 126.88056726520736, 135.92148494896801, 179.03635990986118, 124.07197212888238, 169.41055054675638, 178.9816586240806, 140.60502980441103, 142.63908926834696, 147.15721962098436, 135.49905726526742, 190.0766145443282, 167.12168204979912, 137.58560019975053, 144.60839521289137, 169.13337544602683, 168.36552167797976, 172.80059544604956, 137.54532741023013, 174.17157497296193, 170.1533966474114, 152.8815306911701, 172.42619086325394, 148.09008285882905, 135.126309958714, 129.85443005730627, 177.11734479007183, 166.21606602393928, 165.72199342927266, 149.64478762336705, 176.97221023122887, 138.95340575437353, 164.5428207913319, 161.30246969218, 124.52262476393504, 159.6607716226845, 150.64248755932744, 133.6491696620196, 175.92441149922396, 132.7660793942519, 181.83360066814066, 164.66750823467012, 165.73183465956396, 165.8486688814005, 139.2665772093884, 152.8902354016974, 148.7820270612525, 153.78291306701826, 168.3582151289172, 122.09073995563114, 151.73604823921494, 186.16587839795412, 152.38691207529868, 149.78486778721526, 170.03773809308214, 178.25413075372032, 171.23168137516197, 143.31611006387206, 144.99521754098387, 143.84281572277249, 169.38987001343554, 133.69849053936287, 146.8920063583073, 151.65059164540534, 170.52950556127433, 171.26622430635084, 176.70597808945317, 127.25946060605527, 172.65785292069805, 154.46057753253925, 131.6866095111636, 167.61477720629097, 139.8234975697039, 124.01680112280746, 115.46258850589044, 141.06925844747315, 137.5784249367308, 141.6925106094791, 130.0, 169.09183062379222, 167.92116963885766, 138.42704132219612, 138.6486254703243, 125.43223146483882, 126.10020936167922, 188.33108320948608, 157.76842970832243, 156.9987229533774, 134.79539041633097, 157.9456209262429, 137.8771841249459, 144.17444388619225, 138.18715571877183, 149.63286807307574, 166.93393785160347, 177.52814446124052, 139.25604679814205, 140.4563933076063, 156.63497704328316, 145.03964805158859, 157.35446365961627, 181.69666782260765, 185.0367344591032, 152.7747175633991, 124.07489057301244, 127.46650690340647, 175.35063830395018, 150.7239507516177, 136.99834060996096, 135.4125918375698, 151.7195076268595, 157.40185606765647, 137.3737968663144, 126.9122188924009, 126.08405469536636, 175.07124064000575, 160.51241922175316, 158.17941900160443, 155.54298001522568, 147.6483922808744, 135.44490843004994, 155.28307310499414, 134.11837774248366, 156.25597114819126, 175.2847761462517, 146.11873042901874, 176.66400188976394, 152.9499642653164, 152.4771354508488, 122.0468441527925, 139.23464394764184, 176.0459793276454, 174.06607689912724, 154.04192923061174, 147.0902448695539, 163.1800233712161, 158.81675129549873, 157.02442463171607, 164.01571572607233, 122.98920146925659, 121.94787521541683, 167.35630720876873, 167.4606734949621, 141.95320437106463, 167.54136684246998, 163.27678798357502, 153.84809809328289, 189.35840858192248, 131.20789656819028, 153.06719391675776, 128.50486739281106, 139.3533503787471, 174.86844695676467, 162.148385506179, 138.62435968713223, 145.72912859459774, 161.82113453616236, 185.0, 151.14658460971765, 151.50086764755304, 181.26708478765053, 162.29328089360385, 186.28835555102845, 133.7627363967908, 181.33235332016665, 180.06607955761532, 176.79077246843315, 129.13229211311494, 154.36926822194044, 121.30605051316059, 152.22404522194523, 183.91061333312427, 144.51164642121964, 154.97053778191102, 163.1771844189785, 164.49241213625024, 182.3314080204006, 144.85904539798136, 145.06444594765242, 179.77572575622216, 131.3710287621586, 154.2025563862908, 164.807736407322, 130.90296987506633, 133.0581927684758, 152.83496748370376, 165.67607455927305, 149.73901915302778, 139.43657730737718, 121.29004694025295, 137.16506715219597, 131.7171390584538, 174.850356397922, 158.78500073440398, 131.8862286465213, 160.35905055692163, 159.05394319632694, 180.88596377100032, 181.7996530439739, 175.24098065868534, 151.80800297830766, 182.22151571675133, 135.04470885599275, 139.6903766780238, 135.3381849353443, 179.0668438423736, 156.68660876165856, 135.02704276145286, 131.4840969336572, 167.6517210681762, 170.84832794637444, 177.5190968407643, 187.7672682344091, 136.96581470247722, 164.2545257109131, 125.24679733689061, 168.65392080697345, 141.74221967227635, 176.13391092797065, 138.62419386768565, 188.0821519462941, 138.92912664012294, 157.9109570728313, 144.77266420305023, 164.0572103840671, 171.6959453466751, 126.9498547156867, 137.74909116591368, 162.06535111897617, 187.59369050460037, 135.0770144109271, 166.8379866795503, 136.25274247781326, 166.04868722932355, 172.75979137519917, 135.8424110031605, 161.28568433802752, 182.28981606870528, 147.81162439349472, 165.12082400212708, 179.37928466500034, 130.96545398718624, 157.97073821090368, 160.26488145524365, 130.4182799709122, 154.83059679141834, 159.82269571218325, 170.16120876750838, 124.54277889917657, 156.66643167883439, 123.34466697608441, 157.50656975845646, 150.71681392428277, 128.38773457993514, 144.51200110392514, 173.3070050518668, 162.36521366369888, 174.0481031413275, 122.00348460066544, 163.48448639350002, 154.1230797282676, 167.02804068798878, 137.04270192020928, 161.54646744551522, 131.57885934417953, 157.77428834036488, 153.44478541101802, 184.27053593393708, 155.74205668249402, 170.12331347718415, 161.41690107769205, 130.85741271664793, 169.6378488016851, 173.60776416352562, 165.79891867504193, 149.69329816037305, 144.32128395240252, 158.24755911671332, 150.51367747098854, 168.6455268808241, 158.39946841443796, 160.37449457399364, 131.30980754591903, 131.04728855824217, 119.05902836419746, 147.01000049386474, 153.47229656165769, 121.12289989218428, 136.30610837523975, 133.50921877712636, 150.7069733081801, 179.24622263925139, 139.52718524974586, 172.32647317695628, 171.23539703955217, 123.76196548085551, 148.66639598757976, 140.50102870380238, 127.79663712266152, 163.29338634154468, 129.0649436179387, 164.18084930632597, 132.60874754157973, 139.54021740389433, 178.69296020950455, 149.8610772839067, 128.67475559749874, 124.05182851753503, 162.48434754865687, 123.04771806791678, 154.771895065943, 147.856144830477, 181.45525549392033, 171.51781749495922, 186.96951756232573, 177.91500240097457, 165.32589118574268, 172.12929262271703, 144.26242292488965, 138.54196641150122, 159.36690825735073, 144.2367208856716, 187.5552394994442, 133.92365795160683, 185.1676076274797, 168.7331717623473, 163.7224624295064, 143.0232737263956, 183.0970031873578, 156.39338719706953, 166.47600260509432, 170.94480655491304, 126.15844667682191, 122.83885462116261, 164.00260742091427, 139.86811742916078, 139.06771857398277, 152.19442623396716, 133.00315659124337, 164.03267369568258, 155.54887190694416, 160.41726420023784, 128.8830238176121, 173.23733098076605, 128.454226803715, 138.39120130384893, 175.48303810315184, 154.1304930844394, 172.84386944843254, 158.00701956289458, 177.76368254197578, 161.0037851174651, 174.77436163655202, 139.13560906030204, 150.43945078880878, 164.8058338414269, 136.33178967449243, 131.7600990245921, 135.45678595956537, 171.38278198612466, 144.67656976840274, 129.72274596504906, 136.00565397442165, 160.68789105119782, 160.27047471775356, 146.04630700332882, 180.06048228694507, 175.48469466090114, 131.9179596587871, 167.94401553564916, 127.12263075213578, 159.47620940512434, 143.48551859595506, 148.07953137663813, 157.808153971684, 170.2990930432548, 150.95814096087776, 168.13023272156107, 173.08526920021944, 162.04214631428297, 177.12699300331946, 164.13372559020257, 146.4753766861299, 153.71333064831498, 178.42361601730235, 127.16265110347092, 163.88064592282728, 161.5402491369213]}, {\"name\": \"Peso\", \"type\": \"box\", \"y\": [64, 37, 34, 59, 68, 32, 56, 50, 23, 72, 58, 26, 60, 38, 36, 48, 46, 76, 60, 20, 73, 49, 26, 35, 41, 24, 38, 63, 30, 71, 30, 43, 59, 33, 50, 75, 33, 43, 52, 50, 65, 39, 56, 28, 20, 60, 68, 51, 38, 52, 71, 26, 55, 64, 43, 46, 34, 75, 31, 34, 36, 48, 76, 67, 76, 54, 41, 27, 77, 22, 71, 36, 35, 76, 72, 30, 53, 53, 43, 33, 31, 50, 24, 79, 44, 70, 22, 58, 30, 23, 20, 75, 41, 55, 27, 73, 48, 26, 40, 42, 56, 31, 33, 73, 43, 50, 76, 77, 33, 38, 74, 49, 51, 78, 40, 30, 33, 74, 21, 61, 73, 37, 36, 46, 32, 78, 60, 36, 37, 67, 61, 66, 35, 68, 68, 53, 67, 43, 28, 31, 72, 62, 61, 41, 68, 39, 58, 55, 21, 57, 41, 35, 70, 28, 71, 59, 56, 57, 38, 43, 43, 50, 61, 25, 47, 78, 47, 50, 61, 70, 61, 41, 43, 42, 67, 29, 43, 49, 66, 66, 72, 22, 65, 47, 25, 64, 36, 23, 23, 37, 31, 35, 80, 65, 61, 39, 34, 25, 22, 79, 55, 57, 33, 56, 36, 38, 35, 45, 58, 69, 36, 40, 52, 40, 49, 73, 77, 44, 25, 31, 65, 47, 32, 30, 51, 51, 34, 26, 23, 67, 59, 52, 51, 40, 35, 47, 31, 54, 68, 38, 70, 46, 48, 21, 34, 73, 65, 52, 37, 57, 51, 46, 59, 20, 20, 61, 61, 43, 62, 53, 53, 77, 28, 50, 27, 36, 68, 56, 37, 38, 56, 22, 47, 46, 71, 58, 78, 33, 74, 75, 65, 26, 48, 24, 48, 75, 44, 51, 57, 59, 75, 39, 41, 67, 27, 47, 61, 29, 31, 45, 57, 42, 34, 20, 32, 29, 72, 53, 31, 56, 57, 78, 77, 67, 47, 76, 36, 40, 36, 71, 50, 30, 30, 64, 61, 69, 78, 34, 63, 24, 61, 32, 67, 37, 79, 33, 51, 39, 63, 66, 24, 31, 54, 79, 29, 58, 33, 57, 67, 30, 59, 76, 47, 61, 71, 23, 55, 57, 30, 47, 60, 64, 21, 52, 20, 52, 47, 23, 41, 70, 56, 68, 22, 57, 46, 60, 32, 55, 29, 56, 50, 77, 48, 63, 57, 31, 58, 69, 59, 47, 46, 49, 44, 66, 54, 55, 30, 27, 20, 46, 50, 23, 28, 28, 45, 75, 39, 65, 68, 21, 40, 38, 24, 58, 25, 60, 31, 38, 72, 44, 27, 23, 57, 22, 49, 43, 79, 65, 77, 70, 60, 68, 44, 32, 55, 41, 75, 34, 79, 65, 56, 41, 75, 47, 61, 65, 23, 21, 57, 36, 36, 46, 35, 61, 52, 56, 28, 68, 23, 34, 69, 49, 68, 53, 76, 59, 76, 39, 43, 55, 39, 27, 33, 64, 41, 25, 31, 51, 56, 44, 73, 68, 27, 60, 23, 59, 40, 46, 53, 63, 45, 66, 73, 55, 74, 59, 40, 50, 72, 25, 53, 59]}],\n",
              "                        {\"template\": {\"data\": {\"bar\": [{\"error_x\": {\"color\": \"#2a3f5f\"}, \"error_y\": {\"color\": \"#2a3f5f\"}, \"marker\": {\"line\": {\"color\": \"#E5ECF6\", \"width\": 0.5}}, \"type\": \"bar\"}], \"barpolar\": [{\"marker\": {\"line\": {\"color\": \"#E5ECF6\", \"width\": 0.5}}, \"type\": \"barpolar\"}], \"carpet\": [{\"aaxis\": {\"endlinecolor\": \"#2a3f5f\", \"gridcolor\": \"white\", \"linecolor\": \"white\", \"minorgridcolor\": \"white\", \"startlinecolor\": \"#2a3f5f\"}, \"baxis\": {\"endlinecolor\": \"#2a3f5f\", \"gridcolor\": \"white\", \"linecolor\": \"white\", \"minorgridcolor\": \"white\", \"startlinecolor\": \"#2a3f5f\"}, \"type\": \"carpet\"}], \"choropleth\": [{\"colorbar\": {\"outlinewidth\": 0, \"ticks\": \"\"}, \"type\": \"choropleth\"}], \"contour\": [{\"colorbar\": {\"outlinewidth\": 0, \"ticks\": \"\"}, \"colorscale\": [[0.0, \"#0d0887\"], [0.1111111111111111, \"#46039f\"], [0.2222222222222222, \"#7201a8\"], [0.3333333333333333, \"#9c179e\"], [0.4444444444444444, \"#bd3786\"], [0.5555555555555556, \"#d8576b\"], [0.6666666666666666, \"#ed7953\"], [0.7777777777777778, \"#fb9f3a\"], [0.8888888888888888, \"#fdca26\"], [1.0, \"#f0f921\"]], \"type\": \"contour\"}], \"contourcarpet\": [{\"colorbar\": {\"outlinewidth\": 0, \"ticks\": \"\"}, \"type\": \"contourcarpet\"}], \"heatmap\": [{\"colorbar\": {\"outlinewidth\": 0, \"ticks\": \"\"}, \"colorscale\": [[0.0, \"#0d0887\"], [0.1111111111111111, \"#46039f\"], [0.2222222222222222, \"#7201a8\"], [0.3333333333333333, \"#9c179e\"], [0.4444444444444444, \"#bd3786\"], [0.5555555555555556, \"#d8576b\"], [0.6666666666666666, \"#ed7953\"], [0.7777777777777778, \"#fb9f3a\"], [0.8888888888888888, \"#fdca26\"], [1.0, \"#f0f921\"]], \"type\": \"heatmap\"}], \"heatmapgl\": [{\"colorbar\": {\"outlinewidth\": 0, \"ticks\": \"\"}, \"colorscale\": [[0.0, \"#0d0887\"], [0.1111111111111111, \"#46039f\"], [0.2222222222222222, \"#7201a8\"], [0.3333333333333333, \"#9c179e\"], [0.4444444444444444, \"#bd3786\"], [0.5555555555555556, \"#d8576b\"], [0.6666666666666666, \"#ed7953\"], [0.7777777777777778, \"#fb9f3a\"], [0.8888888888888888, \"#fdca26\"], [1.0, \"#f0f921\"]], \"type\": \"heatmapgl\"}], \"histogram\": [{\"marker\": {\"colorbar\": {\"outlinewidth\": 0, \"ticks\": \"\"}}, \"type\": \"histogram\"}], \"histogram2d\": [{\"colorbar\": {\"outlinewidth\": 0, \"ticks\": \"\"}, \"colorscale\": [[0.0, \"#0d0887\"], [0.1111111111111111, \"#46039f\"], [0.2222222222222222, \"#7201a8\"], [0.3333333333333333, \"#9c179e\"], [0.4444444444444444, \"#bd3786\"], [0.5555555555555556, \"#d8576b\"], [0.6666666666666666, \"#ed7953\"], [0.7777777777777778, \"#fb9f3a\"], [0.8888888888888888, \"#fdca26\"], [1.0, \"#f0f921\"]], \"type\": \"histogram2d\"}], \"histogram2dcontour\": [{\"colorbar\": {\"outlinewidth\": 0, \"ticks\": \"\"}, \"colorscale\": [[0.0, \"#0d0887\"], [0.1111111111111111, \"#46039f\"], [0.2222222222222222, \"#7201a8\"], [0.3333333333333333, \"#9c179e\"], [0.4444444444444444, \"#bd3786\"], [0.5555555555555556, \"#d8576b\"], [0.6666666666666666, \"#ed7953\"], [0.7777777777777778, \"#fb9f3a\"], [0.8888888888888888, \"#fdca26\"], [1.0, \"#f0f921\"]], \"type\": \"histogram2dcontour\"}], \"mesh3d\": [{\"colorbar\": {\"outlinewidth\": 0, \"ticks\": \"\"}, \"type\": \"mesh3d\"}], \"parcoords\": [{\"line\": {\"colorbar\": {\"outlinewidth\": 0, \"ticks\": \"\"}}, \"type\": \"parcoords\"}], \"pie\": [{\"automargin\": true, \"type\": \"pie\"}], \"scatter\": [{\"marker\": {\"colorbar\": {\"outlinewidth\": 0, \"ticks\": \"\"}}, \"type\": \"scatter\"}], \"scatter3d\": [{\"line\": {\"colorbar\": {\"outlinewidth\": 0, \"ticks\": \"\"}}, \"marker\": {\"colorbar\": {\"outlinewidth\": 0, \"ticks\": \"\"}}, \"type\": \"scatter3d\"}], \"scattercarpet\": [{\"marker\": {\"colorbar\": {\"outlinewidth\": 0, \"ticks\": \"\"}}, \"type\": \"scattercarpet\"}], \"scattergeo\": [{\"marker\": {\"colorbar\": {\"outlinewidth\": 0, \"ticks\": \"\"}}, \"type\": \"scattergeo\"}], \"scattergl\": [{\"marker\": {\"colorbar\": {\"outlinewidth\": 0, \"ticks\": \"\"}}, \"type\": \"scattergl\"}], \"scattermapbox\": [{\"marker\": {\"colorbar\": {\"outlinewidth\": 0, \"ticks\": \"\"}}, \"type\": \"scattermapbox\"}], \"scatterpolar\": [{\"marker\": {\"colorbar\": {\"outlinewidth\": 0, \"ticks\": \"\"}}, \"type\": \"scatterpolar\"}], \"scatterpolargl\": [{\"marker\": {\"colorbar\": {\"outlinewidth\": 0, \"ticks\": \"\"}}, \"type\": \"scatterpolargl\"}], \"scatterternary\": [{\"marker\": {\"colorbar\": {\"outlinewidth\": 0, \"ticks\": \"\"}}, \"type\": \"scatterternary\"}], \"surface\": [{\"colorbar\": {\"outlinewidth\": 0, \"ticks\": \"\"}, \"colorscale\": [[0.0, \"#0d0887\"], [0.1111111111111111, \"#46039f\"], [0.2222222222222222, \"#7201a8\"], [0.3333333333333333, \"#9c179e\"], [0.4444444444444444, \"#bd3786\"], [0.5555555555555556, \"#d8576b\"], [0.6666666666666666, \"#ed7953\"], [0.7777777777777778, \"#fb9f3a\"], [0.8888888888888888, \"#fdca26\"], [1.0, \"#f0f921\"]], \"type\": \"surface\"}], \"table\": [{\"cells\": {\"fill\": {\"color\": \"#EBF0F8\"}, \"line\": {\"color\": \"white\"}}, \"header\": {\"fill\": {\"color\": \"#C8D4E3\"}, \"line\": {\"color\": \"white\"}}, \"type\": \"table\"}]}, \"layout\": {\"annotationdefaults\": {\"arrowcolor\": \"#2a3f5f\", \"arrowhead\": 0, \"arrowwidth\": 1}, \"coloraxis\": {\"colorbar\": {\"outlinewidth\": 0, \"ticks\": \"\"}}, \"colorscale\": {\"diverging\": [[0, \"#8e0152\"], [0.1, \"#c51b7d\"], [0.2, \"#de77ae\"], [0.3, \"#f1b6da\"], [0.4, \"#fde0ef\"], [0.5, \"#f7f7f7\"], [0.6, \"#e6f5d0\"], [0.7, \"#b8e186\"], [0.8, \"#7fbc41\"], [0.9, \"#4d9221\"], [1, \"#276419\"]], \"sequential\": [[0.0, \"#0d0887\"], [0.1111111111111111, \"#46039f\"], [0.2222222222222222, \"#7201a8\"], [0.3333333333333333, \"#9c179e\"], [0.4444444444444444, \"#bd3786\"], [0.5555555555555556, \"#d8576b\"], [0.6666666666666666, \"#ed7953\"], [0.7777777777777778, \"#fb9f3a\"], [0.8888888888888888, \"#fdca26\"], [1.0, \"#f0f921\"]], \"sequentialminus\": [[0.0, \"#0d0887\"], [0.1111111111111111, \"#46039f\"], [0.2222222222222222, \"#7201a8\"], [0.3333333333333333, \"#9c179e\"], [0.4444444444444444, \"#bd3786\"], [0.5555555555555556, \"#d8576b\"], [0.6666666666666666, \"#ed7953\"], [0.7777777777777778, \"#fb9f3a\"], [0.8888888888888888, \"#fdca26\"], [1.0, \"#f0f921\"]]}, \"colorway\": [\"#636efa\", \"#EF553B\", \"#00cc96\", \"#ab63fa\", \"#FFA15A\", \"#19d3f3\", \"#FF6692\", \"#B6E880\", \"#FF97FF\", \"#FECB52\"], \"font\": {\"color\": \"#2a3f5f\"}, \"geo\": {\"bgcolor\": \"white\", \"lakecolor\": \"white\", \"landcolor\": \"#E5ECF6\", \"showlakes\": true, \"showland\": true, \"subunitcolor\": \"white\"}, \"hoverlabel\": {\"align\": \"left\"}, \"hovermode\": \"closest\", \"mapbox\": {\"style\": \"light\"}, \"paper_bgcolor\": \"white\", \"plot_bgcolor\": \"#E5ECF6\", \"polar\": {\"angularaxis\": {\"gridcolor\": \"white\", \"linecolor\": \"white\", \"ticks\": \"\"}, \"bgcolor\": \"#E5ECF6\", \"radialaxis\": {\"gridcolor\": \"white\", \"linecolor\": \"white\", \"ticks\": \"\"}}, \"scene\": {\"xaxis\": {\"backgroundcolor\": \"#E5ECF6\", \"gridcolor\": \"white\", \"gridwidth\": 2, \"linecolor\": \"white\", \"showbackground\": true, \"ticks\": \"\", \"zerolinecolor\": \"white\"}, \"yaxis\": {\"backgroundcolor\": \"#E5ECF6\", \"gridcolor\": \"white\", \"gridwidth\": 2, \"linecolor\": \"white\", \"showbackground\": true, \"ticks\": \"\", \"zerolinecolor\": \"white\"}, \"zaxis\": {\"backgroundcolor\": \"#E5ECF6\", \"gridcolor\": \"white\", \"gridwidth\": 2, \"linecolor\": \"white\", \"showbackground\": true, \"ticks\": \"\", \"zerolinecolor\": \"white\"}}, \"shapedefaults\": {\"line\": {\"color\": \"#2a3f5f\"}}, \"ternary\": {\"aaxis\": {\"gridcolor\": \"white\", \"linecolor\": \"white\", \"ticks\": \"\"}, \"baxis\": {\"gridcolor\": \"white\", \"linecolor\": \"white\", \"ticks\": \"\"}, \"bgcolor\": \"#E5ECF6\", \"caxis\": {\"gridcolor\": \"white\", \"linecolor\": \"white\", \"ticks\": \"\"}}, \"title\": {\"x\": 0.05}, \"xaxis\": {\"automargin\": true, \"gridcolor\": \"white\", \"linecolor\": \"white\", \"ticks\": \"\", \"title\": {\"standoff\": 15}, \"zerolinecolor\": \"white\", \"zerolinewidth\": 2}, \"yaxis\": {\"automargin\": true, \"gridcolor\": \"white\", \"linecolor\": \"white\", \"ticks\": \"\", \"title\": {\"standoff\": 15}, \"zerolinecolor\": \"white\", \"zerolinewidth\": 2}}}},\n",
              "                        {\"responsive\": true}\n",
              "                    ).then(function(){\n",
              "                            \n",
              "var gd = document.getElementById('7ff8cca8-adcb-4d9b-bc19-07fb49224322');\n",
              "var x = new MutationObserver(function (mutations, observer) {{\n",
              "        var display = window.getComputedStyle(gd).display;\n",
              "        if (!display || display === 'none') {{\n",
              "            console.log([gd, 'removed!']);\n",
              "            Plotly.purge(gd);\n",
              "            observer.disconnect();\n",
              "        }}\n",
              "}});\n",
              "\n",
              "// Listen for the removal of the full notebook cells\n",
              "var notebookContainer = gd.closest('#notebook-container');\n",
              "if (notebookContainer) {{\n",
              "    x.observe(notebookContainer, {childList: true});\n",
              "}}\n",
              "\n",
              "// Listen for the clearing of the current output cell\n",
              "var outputEl = gd.closest('.output');\n",
              "if (outputEl) {{\n",
              "    x.observe(outputEl, {childList: true});\n",
              "}}\n",
              "\n",
              "                        })\n",
              "                };\n",
              "                \n",
              "            </script>\n",
              "        </div>\n",
              "</body>\n",
              "</html>"
            ]
          },
          "metadata": {
            "tags": []
          }
        }
      ]
    },
    {
      "cell_type": "code",
      "metadata": {
        "id": "AeWOONccf3FX",
        "colab_type": "code",
        "colab": {}
      },
      "source": [
        "from sklearn.decomposition import PCA\n",
        "\n",
        "def calculate_d2(coords, eigen, p):\n",
        "    rows = coords.shape[0]\n",
        "    d_stat = np.zeros(rows)\n",
        "    q = sum(eigen < 1)\n",
        "    index = range((p-q+1)-1,p)\n",
        "    for i in range(coords.shape[0]):\n",
        "        d_stat[i] = np.dot(coords[i, index] ** 2, 1.0/eigen[index])\n",
        "    return d_stat\n",
        "\n",
        "def d_statistic(df_pca):\n",
        "    \n",
        "    # number of columns original data\n",
        "    ncol_orig_data = df_pca.shape[1]\n",
        "    \n",
        "    # normalize data\n",
        "    df_pca_norm = (df_pca - df_pca.mean()) / df_pca.std()\n",
        "        \n",
        "    # fit PCA\n",
        "    pca = PCA(n_components=df_pca.shape[1])\n",
        "    pca.fit_transform(df_pca_norm)\n",
        "    \n",
        "    # get prjections and eigen-valuees\n",
        "    new_coords = pca.transform(df_pca_norm)\n",
        "    eigen = np.linalg.eigvals(pca.get_covariance())\n",
        "    #eigen =  np.sort(eigen)[::-1]\n",
        "    print(eigen)\n",
        "    \n",
        "    # get D2 and D3 statistic\n",
        "    d2_stat = calculate_d2(new_coords, eigen, ncol_orig_data)\n",
        "    return d2_stat"
      ],
      "execution_count": null,
      "outputs": []
    },
    {
      "cell_type": "markdown",
      "metadata": {
        "id": "yXgSESCFgVb5",
        "colab_type": "text"
      },
      "source": [
        "### Nota.\n",
        "\n",
        "El uso de PCA como herramienta para la detección de outliers multivariados se puede encontrar en libro [Principal Component Analysis de I.T. Jolliffe](https://www.springer.com/gp/book/9780387954424)."
      ]
    },
    {
      "cell_type": "code",
      "metadata": {
        "id": "JCFCBAYCf4nf",
        "colab_type": "code",
        "colab": {
          "base_uri": "https://localhost:8080/",
          "height": 34
        },
        "outputId": "a29de848-53e0-4f1e-86fd-1d790dc6a922"
      },
      "source": [
        "d2_stat = d_statistic(df_talla_peso[['Talla', 'Peso']])\n",
        "df_talla_peso = df_talla_peso.assign(d2_stat=d2_stat)"
      ],
      "execution_count": null,
      "outputs": [
        {
          "output_type": "stream",
          "text": [
            "[0.03331163 1.96668837]\n"
          ],
          "name": "stdout"
        }
      ]
    },
    {
      "cell_type": "code",
      "metadata": {
        "id": "EQCje31jgrH3",
        "colab_type": "code",
        "colab": {
          "base_uri": "https://localhost:8080/",
          "height": 424
        },
        "outputId": "82956f03-106e-4fc7-92bb-499af10fcb53"
      },
      "source": [
        "df_talla_peso.sort_values(by='d2_stat', ascending=0)"
      ],
      "execution_count": null,
      "outputs": [
        {
          "output_type": "execute_result",
          "data": {
            "text/html": [
              "<div>\n",
              "<style scoped>\n",
              "    .dataframe tbody tr th:only-of-type {\n",
              "        vertical-align: middle;\n",
              "    }\n",
              "\n",
              "    .dataframe tbody tr th {\n",
              "        vertical-align: top;\n",
              "    }\n",
              "\n",
              "    .dataframe thead th {\n",
              "        text-align: right;\n",
              "    }\n",
              "</style>\n",
              "<table border=\"1\" class=\"dataframe\">\n",
              "  <thead>\n",
              "    <tr style=\"text-align: right;\">\n",
              "      <th></th>\n",
              "      <th>Nombre</th>\n",
              "      <th>Peso</th>\n",
              "      <th>Talla</th>\n",
              "      <th>d2_stat</th>\n",
              "    </tr>\n",
              "  </thead>\n",
              "  <tbody>\n",
              "    <tr>\n",
              "      <th>271</th>\n",
              "      <td>Mario</td>\n",
              "      <td>22</td>\n",
              "      <td>185.000000</td>\n",
              "      <td>2.812976e+00</td>\n",
              "    </tr>\n",
              "    <tr>\n",
              "      <th>192</th>\n",
              "      <td>Francisco</td>\n",
              "      <td>80</td>\n",
              "      <td>130.000000</td>\n",
              "      <td>2.543389e+00</td>\n",
              "    </tr>\n",
              "    <tr>\n",
              "      <th>188</th>\n",
              "      <td>Tara</td>\n",
              "      <td>23</td>\n",
              "      <td>115.462589</td>\n",
              "      <td>7.255775e-02</td>\n",
              "    </tr>\n",
              "    <tr>\n",
              "      <th>466</th>\n",
              "      <td>Matthew</td>\n",
              "      <td>76</td>\n",
              "      <td>174.774362</td>\n",
              "      <td>5.750659e-02</td>\n",
              "    </tr>\n",
              "    <tr>\n",
              "      <th>89</th>\n",
              "      <td>June</td>\n",
              "      <td>23</td>\n",
              "      <td>133.913176</td>\n",
              "      <td>5.716233e-02</td>\n",
              "    </tr>\n",
              "    <tr>\n",
              "      <th>...</th>\n",
              "      <td>...</td>\n",
              "      <td>...</td>\n",
              "      <td>...</td>\n",
              "      <td>...</td>\n",
              "    </tr>\n",
              "    <tr>\n",
              "      <th>57</th>\n",
              "      <td>Robert</td>\n",
              "      <td>75</td>\n",
              "      <td>182.347355</td>\n",
              "      <td>6.906150e-07</td>\n",
              "    </tr>\n",
              "    <tr>\n",
              "      <th>346</th>\n",
              "      <td>Norman</td>\n",
              "      <td>33</td>\n",
              "      <td>136.252742</td>\n",
              "      <td>5.524615e-07</td>\n",
              "    </tr>\n",
              "    <tr>\n",
              "      <th>395</th>\n",
              "      <td>Lynn</td>\n",
              "      <td>55</td>\n",
              "      <td>160.374495</td>\n",
              "      <td>5.132668e-07</td>\n",
              "    </tr>\n",
              "    <tr>\n",
              "      <th>121</th>\n",
              "      <td>Cynthia</td>\n",
              "      <td>37</td>\n",
              "      <td>140.605030</td>\n",
              "      <td>1.979426e-07</td>\n",
              "    </tr>\n",
              "    <tr>\n",
              "      <th>254</th>\n",
              "      <td>Yvette</td>\n",
              "      <td>20</td>\n",
              "      <td>121.947875</td>\n",
              "      <td>3.901162e-08</td>\n",
              "    </tr>\n",
              "  </tbody>\n",
              "</table>\n",
              "<p>502 rows × 4 columns</p>\n",
              "</div>"
            ],
            "text/plain": [
              "        Nombre  Peso       Talla       d2_stat\n",
              "271      Mario    22  185.000000  2.812976e+00\n",
              "192  Francisco    80  130.000000  2.543389e+00\n",
              "188       Tara    23  115.462589  7.255775e-02\n",
              "466    Matthew    76  174.774362  5.750659e-02\n",
              "89        June    23  133.913176  5.716233e-02\n",
              "..         ...   ...         ...           ...\n",
              "57      Robert    75  182.347355  6.906150e-07\n",
              "346     Norman    33  136.252742  5.524615e-07\n",
              "395       Lynn    55  160.374495  5.132668e-07\n",
              "121    Cynthia    37  140.605030  1.979426e-07\n",
              "254     Yvette    20  121.947875  3.901162e-08\n",
              "\n",
              "[502 rows x 4 columns]"
            ]
          },
          "metadata": {
            "tags": []
          },
          "execution_count": 96
        }
      ]
    },
    {
      "cell_type": "code",
      "metadata": {
        "id": "rKop1H-ZgvUQ",
        "colab_type": "code",
        "colab": {
          "base_uri": "https://localhost:8080/",
          "height": 542
        },
        "outputId": "f93d835b-c499-4041-dbbf-4979f0aba607"
      },
      "source": [
        "fig = go.Figure()\n",
        "fig.add_trace(go.Box(y=df_talla_peso['d2_stat'], name='d2_stat'))\n",
        "\n",
        "fig.show()"
      ],
      "execution_count": null,
      "outputs": [
        {
          "output_type": "display_data",
          "data": {
            "text/html": [
              "<html>\n",
              "<head><meta charset=\"utf-8\" /></head>\n",
              "<body>\n",
              "    <div>\n",
              "            <script src=\"https://cdnjs.cloudflare.com/ajax/libs/mathjax/2.7.5/MathJax.js?config=TeX-AMS-MML_SVG\"></script><script type=\"text/javascript\">if (window.MathJax) {MathJax.Hub.Config({SVG: {font: \"STIX-Web\"}});}</script>\n",
              "                <script type=\"text/javascript\">window.PlotlyConfig = {MathJaxConfig: 'local'};</script>\n",
              "        <script src=\"https://cdn.plot.ly/plotly-latest.min.js\"></script>    \n",
              "            <div id=\"a16be46e-d998-4fb1-84a0-6a66370f7a0e\" class=\"plotly-graph-div\" style=\"height:525px; width:100%;\"></div>\n",
              "            <script type=\"text/javascript\">\n",
              "                \n",
              "                    window.PLOTLYENV=window.PLOTLYENV || {};\n",
              "                    \n",
              "                if (document.getElementById(\"a16be46e-d998-4fb1-84a0-6a66370f7a0e\")) {\n",
              "                    Plotly.newPlot(\n",
              "                        'a16be46e-d998-4fb1-84a0-6a66370f7a0e',\n",
              "                        [{\"name\": \"d2_stat\", \"type\": \"box\", \"y\": [0.03907599130045951, 0.00940100174243881, 0.00026469575585276895, 0.0018529057339275851, 0.0001175440559369219, 0.010126929427896175, 0.0011792429313403252, 0.0003040655441623073, 0.00021321576126642213, 0.0012379387352309005, 2.5490006838334845e-05, 0.025816650134116114, 0.016629363085733824, 0.0017942741524504563, 0.008566568159841371, 0.0010074683603912467, 0.0011271676046639269, 0.0015505382470155902, 0.014281140209948237, 0.007698619467776798, 0.0371177525837873, 0.010430737409120368, 0.008048575654142498, 0.003243671136439235, 0.0011143629981505605, 0.00019638986680965505, 0.0002781382871291511, 0.008904587632478613, 0.003310306540633321, 0.0015547614967754495, 0.019261796559471443, 0.0004991210250189223, 0.01787150948237336, 0.0008072502155957237, 3.30377563884999e-05, 0.00030441144860198546, 4.3160267643489084e-05, 0.003605229917370938, 0.00040394128859204127, 0.00940431381598501, 0.002015183843334577, 0.0002310101677644094, 0.012563753179040035, 0.0004103779570116682, 3.680350143719682e-05, 0.0025693246545658607, 0.0061136435064094935, 0.005737213447358014, 0.02067699696595376, 0.0007029906609216239, 0.000406646456939533, 0.006656129808481364, 0.0027500385537496817, 0.025265601454683376, 0.008018347875961616, 0.002722930916029326, 0.01286402059141735, 6.906150456736087e-07, 0.003162018754333291, 0.002008049091188111, 4.5517283556655835e-05, 0.00024262220537698187, 0.02718084385956488, 0.016937564015488862, 0.0030548879148920858, 0.00024049854259192027, 0.0004943169922348462, 0.00021265094885979035, 0.008884729502338068, 8.520481233530192e-05, 0.00546909273464951, 0.0045553593208171785, 0.0034746574851049726, 0.008638385824909032, 0.0029660761331205972, 0.0002577305083843518, 0.0014037981849839478, 0.008069765784116485, 0.0025218112716181166, 0.0011391975938783404, 0.003961221852516996, 0.004487321260979108, 0.002419934191318197, 0.000790082153923704, 0.014137588209138062, 0.004700583831462234, 0.0021059970898444557, 0.00036002973386824633, 0.001078061545901117, 0.057162334385288616, 0.01099019830229317, 0.011169463433512307, 0.004655779982805918, 0.004541939993275472, 0.012842784856527062, 0.03248575201318807, 0.0015543019207620479, 0.004065273373458549, 0.004315632415397774, 0.00048079982572230196, 0.009017358835424863, 0.0008741422489577981, 0.0009658041956397044, 0.013406811495378921, 0.0005245248834837705, 0.019919643911259124, 0.008452451794243266, 0.009946413744967412, 0.0032208607885898443, 0.00029632283961061195, 0.021291647216624732, 0.007897995088159589, 0.006542693256940719, 0.0001344195699056258, 0.028145692740170123, 0.02778410099205016, 7.031408129763775e-05, 0.003818274149499144, 0.0008094434871406042, 0.00443624624439715, 0.001090190856476006, 1.9794256758508558e-07, 0.0073771345696820945, 0.008540935576657497, 0.00010516872372368047, 0.014719327569953823, 0.0011432008591619213, 0.002848489007107801, 0.012073131609380778, 0.015060827059685207, 0.0014293523897233199, 7.427684912568286e-05, 0.000585614717867779, 0.00020061875329887346, 0.015598739107265986, 0.021503455293630097, 0.0010227732715202555, 0.0005824943754251104, 0.014667512859229922, 0.01322845299366306, 0.0029281382995802233, 0.002673759371051754, 0.0012279580013760982, 0.016266920595967464, 0.003970825814311236, 0.011347080964693794, 0.0005432376427772848, 0.0006178326924131665, 0.0016703223027855483, 0.0065525779202271935, 0.024036144760171414, 0.01731008963814283, 0.0006981945070797214, 0.0031435614928981832, 0.011265165942526469, 1.2517761707137898e-05, 0.013604155557479455, 0.008023668873149587, 0.004571231257533585, 0.0244656790735921, 0.001866513648476901, 0.0009582736922477159, 0.0014141681298166936, 0.021689447829688343, 1.2126231804823628e-05, 0.00018368802697376707, 0.0004587499547894023, 0.019918268833939677, 0.007037342109268784, 0.0014271659038423271, 0.013640126031224008, 0.002195919859724888, 0.0037395433975088615, 0.003922207894655642, 0.01337589729158891, 0.0026502736260511327, 7.887328709096273e-05, 0.0035326202204670385, 0.0029124521661838677, 0.0011333334855885297, 0.0042835073995387595, 0.007397433111666186, 0.0012226458312530625, 0.00617221855186377, 0.013727571891952782, 0.005435609928755535, 6.888338272731829e-05, 0.0011311658004966878, 0.07255774815611535, 0.0001524748271552658, 0.00957245338765902, 0.008115575759593976, 2.5433894207689844, 0.004007431648547726, 0.0006533927998248287, 0.014647767544736331, 0.0013312447586562473, 0.0030459639319009866, 0.00292272954370708, 0.001843774289182766, 0.0052610416413005805, 0.023810767590493376, 0.0015537543121212243, 0.009590611944674627, 0.00205534527377183, 0.004574847065653487, 4.241003984414669e-05, 3.705226751518066e-05, 0.007956755665881762, 0.002309097053186873, 5.384505188847255e-05, 0.00909842941605975, 0.0001670147805916348, 0.0009558805842133045, 0.009554780611854004, 0.0017473073885270513, 0.00016175661908879427, 0.015116733688354493, 0.008573864209469489, 0.032695939442336765, 0.011918692542779585, 0.0005957794871453171, 0.002659637064035698, 0.004683426441750666, 0.01394757508302613, 0.0014815894024114424, 1.8364256740032986e-06, 0.0019969357843264645, 0.0005445462842394046, 0.0016736372304368642, 0.013933884813381946, 0.0008783830156317502, 0.0001621685649586231, 0.01056943693393936, 0.006737414832275955, 0.010247388085581568, 6.193590024256834e-06, 0.007044417117476796, 0.00027268040843468193, 0.014693628175779667, 3.650714350251007e-05, 0.004518035323786152, 4.066355515161385e-05, 0.0007483905553572611, 0.00277048812351048, 0.012977310096398458, 0.005442525458006132, 0.00712020621174733, 0.03178067611354365, 0.00025708136194524254, 0.006003519808348149, 0.03221961868584841, 0.00046224190648617937, 0.00083485477321799, 3.901161611980717e-08, 9.990716784506013e-05, 0.00016567372098976886, 0.021019797703476423, 0.00023062797140131934, 0.01955149353432329, 0.014401053969522865, 0.01737462950199562, 0.00017234075617312397, 0.00256840369888458, 0.0009659207828270418, 2.1682769867307352e-05, 2.5402095901508792e-05, 0.00031990834345572213, 0.0030279936638024033, 0.012206013192891307, 7.863726941674887e-05, 2.812975646096585, 0.00016286520712237344, 0.0007443546535722213, 0.008194907640151228, 0.0014964687929547786, 0.0002865679768032418, 0.004607021772666897, 2.1893196964521668e-06, 0.004057342364288434, 0.022159076446449908, 0.00027200462448724876, 0.0020944934038689663, 0.019214360488792832, 0.00017825801710939513, 0.0017849304912469794, 0.010974529906188817, 0.0008127981186378876, 0.00025457869973772153, 6.994402149144181e-05, 1.6141705689204986e-06, 0.003160906470291295, 1.7400492391097757e-06, 0.029088640588371104, 0.0022948845264883317, 0.005105538727997362, 0.0036284795803311915, 0.0006531464572892882, 0.000714351054580969, 0.008897938819595932, 0.007194206397344404, 0.009971429667803858, 0.0033872636831916276, 0.0003215058384037268, 0.0031546459049944554, 9.736080948741813e-06, 0.013592013155641465, 0.00025741840290605686, 0.0034838017125312696, 0.0009874427560239213, 0.009539558742651564, 0.01741028784290364, 0.005850335793781354, 0.0020782402884894154, 2.9868040421126477e-05, 0.001195806380392087, 0.015225543874609853, 0.013571128099201754, 0.013295096804394387, 0.0008935679404991644, 0.0024071362636788195, 0.0033420884296801617, 0.001585943246518652, 0.005286527257894504, 0.011284109892797156, 0.0022851971031268973, 0.0033273796319635536, 9.776893288643165e-05, 0.018508273543193992, 0.0009011268269141015, 0.002093459056084517, 0.03323368332510982, 0.004927287430278798, 0.0030284965858336163, 0.0013017138405009214, 0.005549909214062212, 0.0027584519495228994, 0.0028989060788292445, 0.02001733498496974, 0.0004762426554014921, 0.0002860568624786647, 0.010514871764431142, 0.005800485194862027, 0.0005115965114095311, 0.008004785877678423, 0.00749202331027879, 5.52461463916437e-07, 0.009041525861214303, 0.0005192762252667607, 0.006444926953586489, 0.009357201720500344, 0.001069175362366843, 0.010954763275380402, 0.002663484070798291, 0.0014824573123966088, 0.024918086652051506, 0.004483363495488832, 0.004134521281502506, 0.004787968152486769, 0.007878385724180745, 0.027999497765824062, 1.262609366701898e-05, 0.0017160284841869456, 0.0001453618200856676, 0.0014968844854463712, 0.00012310988673448588, 0.0006054191935205376, 0.007537565785192395, 0.0001933458305786304, 0.009712600746891838, 0.0005693579147114345, 0.0003085843458048703, 0.0034613437023118076, 0.0005965314960460974, 0.009909097988228484, 0.0009753586434492552, 0.0027872228712677487, 0.0009973094528203245, 4.803753420748307e-05, 0.010537672520272129, 0.0016219907471631942, 7.049537192242411e-05, 0.006988331796972536, 0.0006596656173852225, 0.001059728516475316, 0.007634447483037178, 0.026802160139511318, 0.003597934369866708, 0.0007640132345408333, 0.0027889800824620298, 0.029093598496719122, 0.014971976714497473, 0.0036773954572383635, 0.01121160510452943, 0.0006181000029586915, 5.132668392130823e-07, 0.0019915585410531563, 0.0015197120987976113, 0.0063062435997843225, 0.009307265898809503, 0.001561499077339703, 0.012855357415793956, 0.02359965534880156, 0.005859371304473785, 0.0012735408325966295, 0.0074460455170924965, 0.008228440942821356, 0.0006674140630041285, 0.009039768094590535, 0.0003963171000550061, 0.017124704951882026, 0.001128455650027598, 0.0016199349157249706, 0.00012373939308606559, 0.0020176432683493874, 0.0022307410563969696, 0.0015298212805780857, 0.003608410152503415, 0.00011432454230663764, 0.0018196629864077624, 0.0006968318747009661, 0.0010671682508256633, 9.842801909134443e-06, 0.0009034070124526919, 0.0007064668751192912, 0.0003128715309634346, 0.021474374509307236, 1.2601333172566825e-05, 0.0043534940209318555, 0.000808396962375498, 0.00024574447024651376, 0.004962381736343064, 0.012460668630264677, 0.008856715621047473, 0.0008112800559738517, 0.00046185953764660027, 0.020359064692120888, 0.00878381851329481, 0.0019570236743114383, 0.005356485833221002, 0.0037532279585006205, 0.0030173574150612363, 0.00039312510105738276, 0.01737831977374442, 0.00020345113534499135, 0.00014983984763773984, 0.0006444272632657346, 3.059091673320141e-05, 0.0014978533468418486, 9.080589624731842e-05, 0.00015694507911184278, 0.0021525516039213, 0.022311490676140903, 0.0066578495807991835, 0.0018364441905315792, 0.0008891954164970548, 0.0025948632781684937, 0.0015927615139910256, 0.007859091034458466, 0.0008639050977463233, 6.897198269909594e-05, 7.928147575777302e-05, 0.0025757887900574182, 2.9105443334466397e-05, 0.02478330308586185, 0.010920472712155457, 0.05750659289505281, 0.010302577241613887, 0.007899229260687807, 0.014738001332010286, 0.03195794150156881, 0.0034370962510951258, 0.00044907068350291164, 0.0009066225043643744, 8.779287974094547e-05, 0.003974743533147216, 0.002969954857672296, 0.016652948270148085, 0.0011468063839173367, 0.0039022502414845926, 1.0813336670956428e-05, 0.0004849812748431624, 0.003966102136968871, 0.0031891660649427376, 0.0026994328927419636, 0.02149074525281161, 0.00014186219260420185, 0.004489078172945879, 0.00011826960620205522, 0.0009319588093939776, 0.0018154633478932177, 0.01442042689814704, 0.038223277599182294, 0.0020466461227482496, 0.013089544797976856, 0.0003329805948175632, 0.004967768563055349, 0.0010806678578615353, 0.00032814293482119177, 5.631341832837592e-05, 0.02448206781377321, 0.008049223103916264]}],\n",
              "                        {\"template\": {\"data\": {\"bar\": [{\"error_x\": {\"color\": \"#2a3f5f\"}, \"error_y\": {\"color\": \"#2a3f5f\"}, \"marker\": {\"line\": {\"color\": \"#E5ECF6\", \"width\": 0.5}}, \"type\": \"bar\"}], \"barpolar\": [{\"marker\": {\"line\": {\"color\": \"#E5ECF6\", \"width\": 0.5}}, \"type\": \"barpolar\"}], \"carpet\": [{\"aaxis\": {\"endlinecolor\": \"#2a3f5f\", \"gridcolor\": \"white\", \"linecolor\": \"white\", \"minorgridcolor\": \"white\", \"startlinecolor\": \"#2a3f5f\"}, \"baxis\": {\"endlinecolor\": \"#2a3f5f\", \"gridcolor\": \"white\", \"linecolor\": \"white\", \"minorgridcolor\": \"white\", \"startlinecolor\": \"#2a3f5f\"}, \"type\": \"carpet\"}], \"choropleth\": [{\"colorbar\": {\"outlinewidth\": 0, \"ticks\": \"\"}, \"type\": \"choropleth\"}], \"contour\": [{\"colorbar\": {\"outlinewidth\": 0, \"ticks\": \"\"}, \"colorscale\": [[0.0, \"#0d0887\"], [0.1111111111111111, \"#46039f\"], [0.2222222222222222, \"#7201a8\"], [0.3333333333333333, \"#9c179e\"], [0.4444444444444444, \"#bd3786\"], [0.5555555555555556, \"#d8576b\"], [0.6666666666666666, \"#ed7953\"], [0.7777777777777778, \"#fb9f3a\"], [0.8888888888888888, \"#fdca26\"], [1.0, \"#f0f921\"]], \"type\": \"contour\"}], \"contourcarpet\": [{\"colorbar\": {\"outlinewidth\": 0, \"ticks\": \"\"}, \"type\": \"contourcarpet\"}], \"heatmap\": [{\"colorbar\": {\"outlinewidth\": 0, \"ticks\": \"\"}, \"colorscale\": [[0.0, \"#0d0887\"], [0.1111111111111111, \"#46039f\"], [0.2222222222222222, \"#7201a8\"], [0.3333333333333333, \"#9c179e\"], [0.4444444444444444, \"#bd3786\"], [0.5555555555555556, \"#d8576b\"], [0.6666666666666666, \"#ed7953\"], [0.7777777777777778, \"#fb9f3a\"], [0.8888888888888888, \"#fdca26\"], [1.0, \"#f0f921\"]], \"type\": \"heatmap\"}], \"heatmapgl\": [{\"colorbar\": {\"outlinewidth\": 0, \"ticks\": \"\"}, \"colorscale\": [[0.0, \"#0d0887\"], [0.1111111111111111, \"#46039f\"], [0.2222222222222222, \"#7201a8\"], [0.3333333333333333, \"#9c179e\"], [0.4444444444444444, \"#bd3786\"], [0.5555555555555556, \"#d8576b\"], [0.6666666666666666, \"#ed7953\"], [0.7777777777777778, \"#fb9f3a\"], [0.8888888888888888, \"#fdca26\"], [1.0, \"#f0f921\"]], \"type\": \"heatmapgl\"}], \"histogram\": [{\"marker\": {\"colorbar\": {\"outlinewidth\": 0, \"ticks\": \"\"}}, \"type\": \"histogram\"}], \"histogram2d\": [{\"colorbar\": {\"outlinewidth\": 0, \"ticks\": \"\"}, \"colorscale\": [[0.0, \"#0d0887\"], [0.1111111111111111, \"#46039f\"], [0.2222222222222222, \"#7201a8\"], [0.3333333333333333, \"#9c179e\"], [0.4444444444444444, \"#bd3786\"], [0.5555555555555556, \"#d8576b\"], [0.6666666666666666, \"#ed7953\"], [0.7777777777777778, \"#fb9f3a\"], [0.8888888888888888, \"#fdca26\"], [1.0, \"#f0f921\"]], \"type\": \"histogram2d\"}], \"histogram2dcontour\": [{\"colorbar\": {\"outlinewidth\": 0, \"ticks\": \"\"}, \"colorscale\": [[0.0, \"#0d0887\"], [0.1111111111111111, \"#46039f\"], [0.2222222222222222, \"#7201a8\"], [0.3333333333333333, \"#9c179e\"], [0.4444444444444444, \"#bd3786\"], [0.5555555555555556, \"#d8576b\"], [0.6666666666666666, \"#ed7953\"], [0.7777777777777778, \"#fb9f3a\"], [0.8888888888888888, \"#fdca26\"], [1.0, \"#f0f921\"]], \"type\": \"histogram2dcontour\"}], \"mesh3d\": [{\"colorbar\": {\"outlinewidth\": 0, \"ticks\": \"\"}, \"type\": \"mesh3d\"}], \"parcoords\": [{\"line\": {\"colorbar\": {\"outlinewidth\": 0, \"ticks\": \"\"}}, \"type\": \"parcoords\"}], \"pie\": [{\"automargin\": true, \"type\": \"pie\"}], \"scatter\": [{\"marker\": {\"colorbar\": {\"outlinewidth\": 0, \"ticks\": \"\"}}, \"type\": \"scatter\"}], \"scatter3d\": [{\"line\": {\"colorbar\": {\"outlinewidth\": 0, \"ticks\": \"\"}}, \"marker\": {\"colorbar\": {\"outlinewidth\": 0, \"ticks\": \"\"}}, \"type\": \"scatter3d\"}], \"scattercarpet\": [{\"marker\": {\"colorbar\": {\"outlinewidth\": 0, \"ticks\": \"\"}}, \"type\": \"scattercarpet\"}], \"scattergeo\": [{\"marker\": {\"colorbar\": {\"outlinewidth\": 0, \"ticks\": \"\"}}, \"type\": \"scattergeo\"}], \"scattergl\": [{\"marker\": {\"colorbar\": {\"outlinewidth\": 0, \"ticks\": \"\"}}, \"type\": \"scattergl\"}], \"scattermapbox\": [{\"marker\": {\"colorbar\": {\"outlinewidth\": 0, \"ticks\": \"\"}}, \"type\": \"scattermapbox\"}], \"scatterpolar\": [{\"marker\": {\"colorbar\": {\"outlinewidth\": 0, \"ticks\": \"\"}}, \"type\": \"scatterpolar\"}], \"scatterpolargl\": [{\"marker\": {\"colorbar\": {\"outlinewidth\": 0, \"ticks\": \"\"}}, \"type\": \"scatterpolargl\"}], \"scatterternary\": [{\"marker\": {\"colorbar\": {\"outlinewidth\": 0, \"ticks\": \"\"}}, \"type\": \"scatterternary\"}], \"surface\": [{\"colorbar\": {\"outlinewidth\": 0, \"ticks\": \"\"}, \"colorscale\": [[0.0, \"#0d0887\"], [0.1111111111111111, \"#46039f\"], [0.2222222222222222, \"#7201a8\"], [0.3333333333333333, \"#9c179e\"], [0.4444444444444444, \"#bd3786\"], [0.5555555555555556, \"#d8576b\"], [0.6666666666666666, \"#ed7953\"], [0.7777777777777778, \"#fb9f3a\"], [0.8888888888888888, \"#fdca26\"], [1.0, \"#f0f921\"]], \"type\": \"surface\"}], \"table\": [{\"cells\": {\"fill\": {\"color\": \"#EBF0F8\"}, \"line\": {\"color\": \"white\"}}, \"header\": {\"fill\": {\"color\": \"#C8D4E3\"}, \"line\": {\"color\": \"white\"}}, \"type\": \"table\"}]}, \"layout\": {\"annotationdefaults\": {\"arrowcolor\": \"#2a3f5f\", \"arrowhead\": 0, \"arrowwidth\": 1}, \"coloraxis\": {\"colorbar\": {\"outlinewidth\": 0, \"ticks\": \"\"}}, \"colorscale\": {\"diverging\": [[0, \"#8e0152\"], [0.1, \"#c51b7d\"], [0.2, \"#de77ae\"], [0.3, \"#f1b6da\"], [0.4, \"#fde0ef\"], [0.5, \"#f7f7f7\"], [0.6, \"#e6f5d0\"], [0.7, \"#b8e186\"], [0.8, \"#7fbc41\"], [0.9, \"#4d9221\"], [1, \"#276419\"]], \"sequential\": [[0.0, \"#0d0887\"], [0.1111111111111111, \"#46039f\"], [0.2222222222222222, \"#7201a8\"], [0.3333333333333333, \"#9c179e\"], [0.4444444444444444, \"#bd3786\"], [0.5555555555555556, \"#d8576b\"], [0.6666666666666666, \"#ed7953\"], [0.7777777777777778, \"#fb9f3a\"], [0.8888888888888888, \"#fdca26\"], [1.0, \"#f0f921\"]], \"sequentialminus\": [[0.0, \"#0d0887\"], [0.1111111111111111, \"#46039f\"], [0.2222222222222222, \"#7201a8\"], [0.3333333333333333, \"#9c179e\"], [0.4444444444444444, \"#bd3786\"], [0.5555555555555556, \"#d8576b\"], [0.6666666666666666, \"#ed7953\"], [0.7777777777777778, \"#fb9f3a\"], [0.8888888888888888, \"#fdca26\"], [1.0, \"#f0f921\"]]}, \"colorway\": [\"#636efa\", \"#EF553B\", \"#00cc96\", \"#ab63fa\", \"#FFA15A\", \"#19d3f3\", \"#FF6692\", \"#B6E880\", \"#FF97FF\", \"#FECB52\"], \"font\": {\"color\": \"#2a3f5f\"}, \"geo\": {\"bgcolor\": \"white\", \"lakecolor\": \"white\", \"landcolor\": \"#E5ECF6\", \"showlakes\": true, \"showland\": true, \"subunitcolor\": \"white\"}, \"hoverlabel\": {\"align\": \"left\"}, \"hovermode\": \"closest\", \"mapbox\": {\"style\": \"light\"}, \"paper_bgcolor\": \"white\", \"plot_bgcolor\": \"#E5ECF6\", \"polar\": {\"angularaxis\": {\"gridcolor\": \"white\", \"linecolor\": \"white\", \"ticks\": \"\"}, \"bgcolor\": \"#E5ECF6\", \"radialaxis\": {\"gridcolor\": \"white\", \"linecolor\": \"white\", \"ticks\": \"\"}}, \"scene\": {\"xaxis\": {\"backgroundcolor\": \"#E5ECF6\", \"gridcolor\": \"white\", \"gridwidth\": 2, \"linecolor\": \"white\", \"showbackground\": true, \"ticks\": \"\", \"zerolinecolor\": \"white\"}, \"yaxis\": {\"backgroundcolor\": \"#E5ECF6\", \"gridcolor\": \"white\", \"gridwidth\": 2, \"linecolor\": \"white\", \"showbackground\": true, \"ticks\": \"\", \"zerolinecolor\": \"white\"}, \"zaxis\": {\"backgroundcolor\": \"#E5ECF6\", \"gridcolor\": \"white\", \"gridwidth\": 2, \"linecolor\": \"white\", \"showbackground\": true, \"ticks\": \"\", \"zerolinecolor\": \"white\"}}, \"shapedefaults\": {\"line\": {\"color\": \"#2a3f5f\"}}, \"ternary\": {\"aaxis\": {\"gridcolor\": \"white\", \"linecolor\": \"white\", \"ticks\": \"\"}, \"baxis\": {\"gridcolor\": \"white\", \"linecolor\": \"white\", \"ticks\": \"\"}, \"bgcolor\": \"#E5ECF6\", \"caxis\": {\"gridcolor\": \"white\", \"linecolor\": \"white\", \"ticks\": \"\"}}, \"title\": {\"x\": 0.05}, \"xaxis\": {\"automargin\": true, \"gridcolor\": \"white\", \"linecolor\": \"white\", \"ticks\": \"\", \"title\": {\"standoff\": 15}, \"zerolinecolor\": \"white\", \"zerolinewidth\": 2}, \"yaxis\": {\"automargin\": true, \"gridcolor\": \"white\", \"linecolor\": \"white\", \"ticks\": \"\", \"title\": {\"standoff\": 15}, \"zerolinecolor\": \"white\", \"zerolinewidth\": 2}}}},\n",
              "                        {\"responsive\": true}\n",
              "                    ).then(function(){\n",
              "                            \n",
              "var gd = document.getElementById('a16be46e-d998-4fb1-84a0-6a66370f7a0e');\n",
              "var x = new MutationObserver(function (mutations, observer) {{\n",
              "        var display = window.getComputedStyle(gd).display;\n",
              "        if (!display || display === 'none') {{\n",
              "            console.log([gd, 'removed!']);\n",
              "            Plotly.purge(gd);\n",
              "            observer.disconnect();\n",
              "        }}\n",
              "}});\n",
              "\n",
              "// Listen for the removal of the full notebook cells\n",
              "var notebookContainer = gd.closest('#notebook-container');\n",
              "if (notebookContainer) {{\n",
              "    x.observe(notebookContainer, {childList: true});\n",
              "}}\n",
              "\n",
              "// Listen for the clearing of the current output cell\n",
              "var outputEl = gd.closest('.output');\n",
              "if (outputEl) {{\n",
              "    x.observe(outputEl, {childList: true});\n",
              "}}\n",
              "\n",
              "                        })\n",
              "                };\n",
              "                \n",
              "            </script>\n",
              "        </div>\n",
              "</body>\n",
              "</html>"
            ]
          },
          "metadata": {
            "tags": []
          }
        }
      ]
    },
    {
      "cell_type": "markdown",
      "metadata": {
        "id": "c9d3N8yzmncw",
        "colab_type": "text"
      },
      "source": [
        "## Categorización de variables"
      ]
    },
    {
      "cell_type": "code",
      "metadata": {
        "id": "lUPOiGBKm4FF",
        "colab_type": "code",
        "colab": {
          "base_uri": "https://localhost:8080/",
          "height": 502
        },
        "outputId": "68f0df8e-37f2-417a-84df-543a3ba98fb8"
      },
      "source": [
        "# Definir limites\n",
        "bins = [0, 100, 130, 150, 170, 200, 220]\n",
        "print(bins, '\\n')\n",
        "#pd.cut(right=False...) -> [nn, nn)\n",
        "cats = pd.cut(df_talla_peso['Talla'], bins)\n",
        "print(cats, '\\n')\n",
        "cats.name = 'Talla_categ'\n",
        "pd.concat([df_talla_peso, cats], axis=1).head()"
      ],
      "execution_count": null,
      "outputs": [
        {
          "output_type": "stream",
          "text": [
            "[0, 100, 130, 150, 170, 200, 220] \n",
            "\n",
            "0      (150, 170]\n",
            "1      (130, 150]\n",
            "2      (130, 150]\n",
            "3      (150, 170]\n",
            "4      (170, 200]\n",
            "          ...    \n",
            "497    (150, 170]\n",
            "498    (170, 200]\n",
            "499    (100, 130]\n",
            "500    (150, 170]\n",
            "501    (150, 170]\n",
            "Name: Talla, Length: 502, dtype: category\n",
            "Categories (6, interval[int64]): [(0, 100] < (100, 130] < (130, 150] < (150, 170] < (170, 200] <\n",
            "                                  (200, 220]] \n",
            "\n"
          ],
          "name": "stdout"
        },
        {
          "output_type": "execute_result",
          "data": {
            "text/html": [
              "<div>\n",
              "<style scoped>\n",
              "    .dataframe tbody tr th:only-of-type {\n",
              "        vertical-align: middle;\n",
              "    }\n",
              "\n",
              "    .dataframe tbody tr th {\n",
              "        vertical-align: top;\n",
              "    }\n",
              "\n",
              "    .dataframe thead th {\n",
              "        text-align: right;\n",
              "    }\n",
              "</style>\n",
              "<table border=\"1\" class=\"dataframe\">\n",
              "  <thead>\n",
              "    <tr style=\"text-align: right;\">\n",
              "      <th></th>\n",
              "      <th>Nombre</th>\n",
              "      <th>Peso</th>\n",
              "      <th>Talla</th>\n",
              "      <th>d2_stat</th>\n",
              "      <th>Talla_categ</th>\n",
              "    </tr>\n",
              "  </thead>\n",
              "  <tbody>\n",
              "    <tr>\n",
              "      <th>0</th>\n",
              "      <td>Robert</td>\n",
              "      <td>64</td>\n",
              "      <td>163.116912</td>\n",
              "      <td>0.039076</td>\n",
              "      <td>(150, 170]</td>\n",
              "    </tr>\n",
              "    <tr>\n",
              "      <th>1</th>\n",
              "      <td>Bertha</td>\n",
              "      <td>37</td>\n",
              "      <td>144.139592</td>\n",
              "      <td>0.009401</td>\n",
              "      <td>(130, 150]</td>\n",
              "    </tr>\n",
              "    <tr>\n",
              "      <th>2</th>\n",
              "      <td>Lionel</td>\n",
              "      <td>34</td>\n",
              "      <td>136.734239</td>\n",
              "      <td>0.000265</td>\n",
              "      <td>(130, 150]</td>\n",
              "    </tr>\n",
              "    <tr>\n",
              "      <th>3</th>\n",
              "      <td>Sharon</td>\n",
              "      <td>59</td>\n",
              "      <td>166.357917</td>\n",
              "      <td>0.001853</td>\n",
              "      <td>(150, 170]</td>\n",
              "    </tr>\n",
              "    <tr>\n",
              "      <th>4</th>\n",
              "      <td>Yael</td>\n",
              "      <td>68</td>\n",
              "      <td>174.292131</td>\n",
              "      <td>0.000118</td>\n",
              "      <td>(170, 200]</td>\n",
              "    </tr>\n",
              "  </tbody>\n",
              "</table>\n",
              "</div>"
            ],
            "text/plain": [
              "   Nombre  Peso       Talla   d2_stat Talla_categ\n",
              "0  Robert    64  163.116912  0.039076  (150, 170]\n",
              "1  Bertha    37  144.139592  0.009401  (130, 150]\n",
              "2  Lionel    34  136.734239  0.000265  (130, 150]\n",
              "3  Sharon    59  166.357917  0.001853  (150, 170]\n",
              "4    Yael    68  174.292131  0.000118  (170, 200]"
            ]
          },
          "metadata": {
            "tags": []
          },
          "execution_count": 98
        }
      ]
    },
    {
      "cell_type": "markdown",
      "metadata": {
        "id": "cJLBWJPOoeFQ",
        "colab_type": "text"
      },
      "source": [
        "## Creación de variables dummy"
      ]
    },
    {
      "cell_type": "code",
      "metadata": {
        "id": "BC35vAVIoKQt",
        "colab_type": "code",
        "colab": {
          "base_uri": "https://localhost:8080/",
          "height": 764
        },
        "outputId": "c5d472df-fc69-49af-f3e4-bd5fd3899f5f"
      },
      "source": [
        "generos = np.array(['M', 'F', 'ND'])\n",
        "df1 = pd.DataFrame({'Genero': np.random.choice(generos, 20)})\n",
        "print(df1, '\\n')\n",
        "\n",
        "print(pd.get_dummies(df1['Genero']))"
      ],
      "execution_count": null,
      "outputs": [
        {
          "output_type": "stream",
          "text": [
            "   Genero\n",
            "0       M\n",
            "1      ND\n",
            "2       F\n",
            "3      ND\n",
            "4       F\n",
            "5      ND\n",
            "6      ND\n",
            "7       F\n",
            "8       M\n",
            "9       M\n",
            "10      F\n",
            "11      F\n",
            "12     ND\n",
            "13      F\n",
            "14      F\n",
            "15     ND\n",
            "16      F\n",
            "17      F\n",
            "18     ND\n",
            "19     ND \n",
            "\n",
            "    F  M  ND\n",
            "0   0  1   0\n",
            "1   0  0   1\n",
            "2   1  0   0\n",
            "3   0  0   1\n",
            "4   1  0   0\n",
            "5   0  0   1\n",
            "6   0  0   1\n",
            "7   1  0   0\n",
            "8   0  1   0\n",
            "9   0  1   0\n",
            "10  1  0   0\n",
            "11  1  0   0\n",
            "12  0  0   1\n",
            "13  1  0   0\n",
            "14  1  0   0\n",
            "15  0  0   1\n",
            "16  1  0   0\n",
            "17  1  0   0\n",
            "18  0  0   1\n",
            "19  0  0   1\n"
          ],
          "name": "stdout"
        }
      ]
    },
    {
      "cell_type": "markdown",
      "metadata": {
        "id": "Cw5Bt7wgp3cX",
        "colab_type": "text"
      },
      "source": [
        "# Trabajando con fechas y horas"
      ]
    },
    {
      "cell_type": "markdown",
      "metadata": {
        "id": "ltCQHrECp_Tl",
        "colab_type": "text"
      },
      "source": [
        "## Datetimes"
      ]
    },
    {
      "cell_type": "code",
      "metadata": {
        "id": "h88N41zLsrGX",
        "colab_type": "code",
        "colab": {}
      },
      "source": [
        "from datetime import datetime\n",
        "import pandas as pd\n",
        "import numpy as np"
      ],
      "execution_count": null,
      "outputs": []
    },
    {
      "cell_type": "code",
      "metadata": {
        "id": "_eHwVNTeqF22",
        "colab_type": "code",
        "colab": {
          "base_uri": "https://localhost:8080/",
          "height": 52
        },
        "outputId": "2420ea6b-a433-4166-f4d9-2f42ead89868"
      },
      "source": [
        "now = datetime.now()\n",
        "print(now)\n",
        "\n",
        "print(type(now))"
      ],
      "execution_count": null,
      "outputs": [
        {
          "output_type": "stream",
          "text": [
            "2020-09-23 01:23:52.380603\n",
            "<class 'datetime.datetime'>\n"
          ],
          "name": "stdout"
        }
      ]
    },
    {
      "cell_type": "code",
      "metadata": {
        "id": "6L1vk0NmqUfW",
        "colab_type": "code",
        "colab": {
          "base_uri": "https://localhost:8080/",
          "height": 69
        },
        "outputId": "e04fafeb-7f11-463e-8fe3-36109b76335e"
      },
      "source": [
        "print(now.year)\n",
        "print(now.month)\n",
        "print(now.microsecond)"
      ],
      "execution_count": null,
      "outputs": [
        {
          "output_type": "stream",
          "text": [
            "2020\n",
            "9\n",
            "380603\n"
          ],
          "name": "stdout"
        }
      ]
    },
    {
      "cell_type": "markdown",
      "metadata": {
        "id": "eimEkmcSqfIP",
        "colab_type": "text"
      },
      "source": [
        "## Timedeltas"
      ]
    },
    {
      "cell_type": "code",
      "metadata": {
        "id": "5iNpD6AEqod5",
        "colab_type": "code",
        "colab": {
          "base_uri": "https://localhost:8080/",
          "height": 34
        },
        "outputId": "785f0537-0b0f-44bc-dc77-e3aaf31fc209"
      },
      "source": [
        "datetime.now() - datetime(2019, 11, 5, 18)"
      ],
      "execution_count": null,
      "outputs": [
        {
          "output_type": "execute_result",
          "data": {
            "text/plain": [
              "datetime.timedelta(322, 26632, 408367)"
            ]
          },
          "metadata": {
            "tags": []
          },
          "execution_count": 103
        }
      ]
    },
    {
      "cell_type": "code",
      "metadata": {
        "id": "bAgUQlEMqs4e",
        "colab_type": "code",
        "colab": {
          "base_uri": "https://localhost:8080/",
          "height": 34
        },
        "outputId": "70c7775e-ddef-486b-a773-7d2583e5bffb"
      },
      "source": [
        "from datetime import timedelta\n",
        "\n",
        "delta = timedelta(days=20)\n",
        "now + delta\n",
        "now + 5 * delta"
      ],
      "execution_count": null,
      "outputs": [
        {
          "output_type": "execute_result",
          "data": {
            "text/plain": [
              "datetime.datetime(2021, 1, 1, 1, 23, 52, 380603)"
            ]
          },
          "metadata": {
            "tags": []
          },
          "execution_count": 104
        }
      ]
    },
    {
      "cell_type": "markdown",
      "metadata": {
        "id": "1HNOGTlqq9Im",
        "colab_type": "text"
      },
      "source": [
        "## Dates\n",
        "\n"
      ]
    },
    {
      "cell_type": "code",
      "metadata": {
        "id": "PujTBg2UrAoB",
        "colab_type": "code",
        "colab": {
          "base_uri": "https://localhost:8080/",
          "height": 34
        },
        "outputId": "e127fc57-e8dc-4a52-8524-5ae6e6fbf6a4"
      },
      "source": [
        "from datetime import date\n",
        "\n",
        "date(2018, 10, 5)"
      ],
      "execution_count": null,
      "outputs": [
        {
          "output_type": "execute_result",
          "data": {
            "text/plain": [
              "datetime.date(2018, 10, 5)"
            ]
          },
          "metadata": {
            "tags": []
          },
          "execution_count": 105
        }
      ]
    },
    {
      "cell_type": "markdown",
      "metadata": {
        "id": "8E14WRCXrGkO",
        "colab_type": "text"
      },
      "source": [
        "## Times"
      ]
    },
    {
      "cell_type": "code",
      "metadata": {
        "id": "6xGRv4DRrI35",
        "colab_type": "code",
        "colab": {
          "base_uri": "https://localhost:8080/",
          "height": 34
        },
        "outputId": "362045ec-7458-46b2-90b4-e40689df055f"
      },
      "source": [
        "from datetime import time\n",
        "time(23,59)\n",
        "\n",
        "# time(27,59)"
      ],
      "execution_count": null,
      "outputs": [
        {
          "output_type": "execute_result",
          "data": {
            "text/plain": [
              "datetime.time(23, 59)"
            ]
          },
          "metadata": {
            "tags": []
          },
          "execution_count": 106
        }
      ]
    },
    {
      "cell_type": "markdown",
      "metadata": {
        "id": "PKCwSaKTrYCv",
        "colab_type": "text"
      },
      "source": [
        "## Dando formato a datetimes\n",
        "\n",
        "[Directivas para strftime](http://strftime.org/)\n"
      ]
    },
    {
      "cell_type": "code",
      "metadata": {
        "id": "nyPNQCq9rkkR",
        "colab_type": "code",
        "colab": {
          "base_uri": "https://localhost:8080/",
          "height": 86
        },
        "outputId": "c10b643c-f2e6-4234-c5e4-f5a725873a76"
      },
      "source": [
        "now = datetime.now()\n",
        "\n",
        "print(now.strftime('%Y-%m-%d %H:%M:%S.%f'))\n",
        "print(now.strftime(format='%Y-%m-%d %H'))\n",
        "print(now.strftime('%d/%m/%Y'))\n",
        "print(now.strftime('%d/%B/%Y'))"
      ],
      "execution_count": null,
      "outputs": [
        {
          "output_type": "stream",
          "text": [
            "2020-09-23 01:23:52.457353\n",
            "2020-09-23 01\n",
            "23/09/2020\n",
            "23/September/2020\n"
          ],
          "name": "stdout"
        }
      ]
    },
    {
      "cell_type": "markdown",
      "metadata": {
        "id": "DiNlJAGWr7q2",
        "colab_type": "text"
      },
      "source": [
        "## Leyendo diferentes formatos de datetimes"
      ]
    },
    {
      "cell_type": "code",
      "metadata": {
        "id": "jnTnDUbKrXSK",
        "colab_type": "code",
        "colab": {
          "base_uri": "https://localhost:8080/",
          "height": 34
        },
        "outputId": "71699aed-a6fc-4b16-e5ef-471152f28519"
      },
      "source": [
        "string_dates = ['2019/11/9', '2020/5/12', '2018/12/24']\n",
        "list_dates = [datetime.strptime(x, '%Y/%m/%d') for x in string_dates]\n",
        "print(list_dates)"
      ],
      "execution_count": null,
      "outputs": [
        {
          "output_type": "stream",
          "text": [
            "[datetime.datetime(2019, 11, 9, 0, 0), datetime.datetime(2020, 5, 12, 0, 0), datetime.datetime(2018, 12, 24, 0, 0)]\n"
          ],
          "name": "stdout"
        }
      ]
    },
    {
      "cell_type": "markdown",
      "metadata": {
        "id": "s6duqoelsa9v",
        "colab_type": "text"
      },
      "source": [
        "### Nota:\n",
        "\n",
        "A pesar de ser poco legibles en una lista si son legibles al cargarlos en una estructura de datos de Pandas"
      ]
    },
    {
      "cell_type": "code",
      "metadata": {
        "id": "uktnW2kYsgh_",
        "colab_type": "code",
        "colab": {
          "base_uri": "https://localhost:8080/",
          "height": 121
        },
        "outputId": "a8a27f25-1a25-40c2-f899-445c48421d4f"
      },
      "source": [
        "lst_datetimes = [datetime.strptime(x, '%Y/%m/%d') for x in string_dates]\n",
        "\n",
        "print(lst_datetimes, '\\n')\n",
        "print(pd.Series(lst_datetimes))"
      ],
      "execution_count": null,
      "outputs": [
        {
          "output_type": "stream",
          "text": [
            "[datetime.datetime(2019, 11, 9, 0, 0), datetime.datetime(2020, 5, 12, 0, 0), datetime.datetime(2018, 12, 24, 0, 0)] \n",
            "\n",
            "0   2019-11-09\n",
            "1   2020-05-12\n",
            "2   2018-12-24\n",
            "dtype: datetime64[ns]\n"
          ],
          "name": "stdout"
        }
      ]
    },
    {
      "cell_type": "markdown",
      "metadata": {
        "id": "E5YHq58vs3j_",
        "colab_type": "text"
      },
      "source": [
        "## Indexando y filtrado de datos por datetimes"
      ]
    },
    {
      "cell_type": "code",
      "metadata": {
        "id": "ZPih16vrs6B5",
        "colab_type": "code",
        "colab": {}
      },
      "source": [
        "# Indexación\n",
        "\n",
        "import numpy as np\n",
        "start = datetime(2017,1,1)\n",
        "days = [start + timedelta(days=int(x)) for x in np.arange(2000)]\n",
        "rnd = np.random.rand(len(days))\n",
        "serie1 = pd.Series(rnd, index=days)"
      ],
      "execution_count": null,
      "outputs": []
    },
    {
      "cell_type": "markdown",
      "metadata": {
        "id": "1aI0rxzPtTN2",
        "colab_type": "text"
      },
      "source": [
        "## Indexando y filtrado de datos por datetimes"
      ]
    },
    {
      "cell_type": "code",
      "metadata": {
        "id": "DLgZy9satSze",
        "colab_type": "code",
        "colab": {
          "base_uri": "https://localhost:8080/",
          "height": 225
        },
        "outputId": "d4062a11-dda3-4c87-a33a-b199567f17d9"
      },
      "source": [
        "# Indexación\n",
        "\n",
        "start = datetime(2017,1,1)\n",
        "days = [start + timedelta(days=int(x)) for x in np.arange(2000)]\n",
        "# numeros aleatorio del mismo tamaño que la lista de dias\n",
        "rnd = np.random.rand(len(days))\n",
        "serie1 = pd.Series(rnd, index=days)\n",
        "print(serie1)"
      ],
      "execution_count": null,
      "outputs": [
        {
          "output_type": "stream",
          "text": [
            "2017-01-01    0.557588\n",
            "2017-01-02    0.573561\n",
            "2017-01-03    0.905377\n",
            "2017-01-04    0.347414\n",
            "2017-01-05    0.447528\n",
            "                ...   \n",
            "2022-06-19    0.570305\n",
            "2022-06-20    0.976244\n",
            "2022-06-21    0.178211\n",
            "2022-06-22    0.739105\n",
            "2022-06-23    0.350407\n",
            "Length: 2000, dtype: float64\n"
          ],
          "name": "stdout"
        }
      ]
    },
    {
      "cell_type": "code",
      "metadata": {
        "id": "zeb0TxWLuCVh",
        "colab_type": "code",
        "colab": {
          "base_uri": "https://localhost:8080/",
          "height": 469
        },
        "outputId": "9d16c01e-7aa9-4e96-f55d-1ad12dad79e2"
      },
      "source": [
        "# Filtrado\n",
        "\n",
        "print(serie1['2017'], '\\n---\\n')\n",
        "\n",
        "# Slice\n",
        "print(serie1['2017-06':'2017-09'])"
      ],
      "execution_count": null,
      "outputs": [
        {
          "output_type": "stream",
          "text": [
            "2017-01-01    0.557588\n",
            "2017-01-02    0.573561\n",
            "2017-01-03    0.905377\n",
            "2017-01-04    0.347414\n",
            "2017-01-05    0.447528\n",
            "                ...   \n",
            "2017-12-27    0.545439\n",
            "2017-12-28    0.682478\n",
            "2017-12-29    0.220367\n",
            "2017-12-30    0.485337\n",
            "2017-12-31    0.992981\n",
            "Length: 365, dtype: float64 \n",
            "---\n",
            "\n",
            "2017-06-01    0.127822\n",
            "2017-06-02    0.363073\n",
            "2017-06-03    0.228142\n",
            "2017-06-04    0.847503\n",
            "2017-06-05    0.341474\n",
            "                ...   \n",
            "2017-09-26    0.654469\n",
            "2017-09-27    0.925261\n",
            "2017-09-28    0.664151\n",
            "2017-09-29    0.303081\n",
            "2017-09-30    0.619946\n",
            "Length: 122, dtype: float64\n"
          ],
          "name": "stdout"
        }
      ]
    },
    {
      "cell_type": "markdown",
      "metadata": {
        "id": "9m5ToRQSuT5n",
        "colab_type": "text"
      },
      "source": [
        "## Generación de rangos de datetimes"
      ]
    },
    {
      "cell_type": "code",
      "metadata": {
        "id": "dA6Eo-3tuco2",
        "colab_type": "code",
        "colab": {
          "base_uri": "https://localhost:8080/",
          "height": 156
        },
        "outputId": "9f80361c-508f-48c6-a8c4-4c0b9935d9fa"
      },
      "source": [
        "index = pd.date_range(start='2019-01-01', end='2019-06-01')\n",
        "index"
      ],
      "execution_count": null,
      "outputs": [
        {
          "output_type": "execute_result",
          "data": {
            "text/plain": [
              "DatetimeIndex(['2019-01-01', '2019-01-02', '2019-01-03', '2019-01-04',\n",
              "               '2019-01-05', '2019-01-06', '2019-01-07', '2019-01-08',\n",
              "               '2019-01-09', '2019-01-10',\n",
              "               ...\n",
              "               '2019-05-23', '2019-05-24', '2019-05-25', '2019-05-26',\n",
              "               '2019-05-27', '2019-05-28', '2019-05-29', '2019-05-30',\n",
              "               '2019-05-31', '2019-06-01'],\n",
              "              dtype='datetime64[ns]', length=152, freq='D')"
            ]
          },
          "metadata": {
            "tags": []
          },
          "execution_count": 113
        }
      ]
    },
    {
      "cell_type": "code",
      "metadata": {
        "id": "zhMp_Q4DumMb",
        "colab_type": "code",
        "colab": {
          "base_uri": "https://localhost:8080/",
          "height": 225
        },
        "outputId": "8c7e5725-f23b-4c33-e598-3ff9e38a17ae"
      },
      "source": [
        "index = pd.date_range(start='2019-01-01', end='2019-02-01', freq='1h')\n",
        "index\n",
        "\n"
      ],
      "execution_count": null,
      "outputs": [
        {
          "output_type": "execute_result",
          "data": {
            "text/plain": [
              "DatetimeIndex(['2019-01-01 00:00:00', '2019-01-01 01:00:00',\n",
              "               '2019-01-01 02:00:00', '2019-01-01 03:00:00',\n",
              "               '2019-01-01 04:00:00', '2019-01-01 05:00:00',\n",
              "               '2019-01-01 06:00:00', '2019-01-01 07:00:00',\n",
              "               '2019-01-01 08:00:00', '2019-01-01 09:00:00',\n",
              "               ...\n",
              "               '2019-01-31 15:00:00', '2019-01-31 16:00:00',\n",
              "               '2019-01-31 17:00:00', '2019-01-31 18:00:00',\n",
              "               '2019-01-31 19:00:00', '2019-01-31 20:00:00',\n",
              "               '2019-01-31 21:00:00', '2019-01-31 22:00:00',\n",
              "               '2019-01-31 23:00:00', '2019-02-01 00:00:00'],\n",
              "              dtype='datetime64[ns]', length=745, freq='H')"
            ]
          },
          "metadata": {
            "tags": []
          },
          "execution_count": 114
        }
      ]
    },
    {
      "cell_type": "code",
      "metadata": {
        "id": "kbKsW0PZupnR",
        "colab_type": "code",
        "colab": {
          "base_uri": "https://localhost:8080/",
          "height": 225
        },
        "outputId": "5759b7b1-8a98-4fd1-9ccd-b89c99e91d1b"
      },
      "source": [
        "index = pd.date_range(start='2019-01-01', end='2019-02-01', freq='1t')\n",
        "index\n",
        "\n"
      ],
      "execution_count": null,
      "outputs": [
        {
          "output_type": "execute_result",
          "data": {
            "text/plain": [
              "DatetimeIndex(['2019-01-01 00:00:00', '2019-01-01 00:01:00',\n",
              "               '2019-01-01 00:02:00', '2019-01-01 00:03:00',\n",
              "               '2019-01-01 00:04:00', '2019-01-01 00:05:00',\n",
              "               '2019-01-01 00:06:00', '2019-01-01 00:07:00',\n",
              "               '2019-01-01 00:08:00', '2019-01-01 00:09:00',\n",
              "               ...\n",
              "               '2019-01-31 23:51:00', '2019-01-31 23:52:00',\n",
              "               '2019-01-31 23:53:00', '2019-01-31 23:54:00',\n",
              "               '2019-01-31 23:55:00', '2019-01-31 23:56:00',\n",
              "               '2019-01-31 23:57:00', '2019-01-31 23:58:00',\n",
              "               '2019-01-31 23:59:00', '2019-02-01 00:00:00'],\n",
              "              dtype='datetime64[ns]', length=44641, freq='T')"
            ]
          },
          "metadata": {
            "tags": []
          },
          "execution_count": 115
        }
      ]
    },
    {
      "cell_type": "code",
      "metadata": {
        "id": "M8dac3GsusPZ",
        "colab_type": "code",
        "colab": {
          "base_uri": "https://localhost:8080/",
          "height": 399
        },
        "outputId": "2dfd87fa-2df8-4240-eea0-f197672ae6f8"
      },
      "source": [
        "# Nanosegundo\n",
        "index = pd.date_range(start='2019-01-01', end='2019-01-01 00:00:00.01', freq='N')\n",
        "index"
      ],
      "execution_count": null,
      "outputs": [
        {
          "output_type": "execute_result",
          "data": {
            "text/plain": [
              "DatetimeIndex([          '2019-01-01 00:00:00',\n",
              "               '2019-01-01 00:00:00.000000001',\n",
              "               '2019-01-01 00:00:00.000000002',\n",
              "               '2019-01-01 00:00:00.000000003',\n",
              "               '2019-01-01 00:00:00.000000004',\n",
              "               '2019-01-01 00:00:00.000000005',\n",
              "               '2019-01-01 00:00:00.000000006',\n",
              "               '2019-01-01 00:00:00.000000007',\n",
              "               '2019-01-01 00:00:00.000000008',\n",
              "               '2019-01-01 00:00:00.000000009',\n",
              "               ...\n",
              "               '2019-01-01 00:00:00.009999991',\n",
              "               '2019-01-01 00:00:00.009999992',\n",
              "               '2019-01-01 00:00:00.009999993',\n",
              "               '2019-01-01 00:00:00.009999994',\n",
              "               '2019-01-01 00:00:00.009999995',\n",
              "               '2019-01-01 00:00:00.009999996',\n",
              "               '2019-01-01 00:00:00.009999997',\n",
              "               '2019-01-01 00:00:00.009999998',\n",
              "               '2019-01-01 00:00:00.009999999',\n",
              "                  '2019-01-01 00:00:00.010000'],\n",
              "              dtype='datetime64[ns]', length=10000001, freq='N')"
            ]
          },
          "metadata": {
            "tags": []
          },
          "execution_count": 116
        }
      ]
    }
  ]
}