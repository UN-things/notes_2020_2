{
  "nbformat": 4,
  "nbformat_minor": 0,
  "metadata": {
    "colab": {
      "name": "ICS_vigenere_algorithm.ipynb",
      "provenance": [],
      "collapsed_sections": []
    },
    "kernelspec": {
      "name": "python3",
      "display_name": "Python 3"
    }
  },
  "cells": [
    {
      "cell_type": "markdown",
      "metadata": {
        "id": "EsWDx3wX0XF7"
      },
      "source": [
        "# Taller Vigenère\n",
        "\n",
        "Implementar el algoritmo de Vigenère en el lenguaje Python teniendo en cuenta lo siguiente:\n",
        "\n",
        "- El programa debe correr en modo línea de comando\n",
        "- Ciframiento\n",
        "  - Desde la consola debe recibir la clave, el parámetro t y el mensaje a cifrar\n",
        "  - Como resultado debe generar el texto cifrado\n",
        "- Decifrafiemto\n",
        "  - Desde la consola debe recibir la clave, el parámetro t y el texto cifrado\n",
        "  - Como resultado debe generar el mensaje en texto claro\n",
        "- Qué debo subir?\n",
        "  - Capture un screenshot de la ejecución de ciframiento y deciframiento\n",
        "  - Construya un ZIP con el código .py y el la imagen del screenshot"
      ]
    },
    {
      "cell_type": "code",
      "metadata": {
        "id": "SkIK6GNYHp84"
      },
      "source": [
        "def vigenere(message, keyword, t):\n",
        "  lis = list()\n",
        "  for i in range(len(message)):\n",
        "    character_k = keyword[i % len(keyword)]\n",
        "    x = ord(character_k)\n",
        "    y = ord((message[i]))\n",
        "    c = ((x + y) % 26) + 65\n",
        "    lis.append(chr(c))\n",
        "  test = [('').join(lis[x:x+t]) for x in range(0,len(lis), t)]\n",
        "  return (' ').join(test)\n"
      ],
      "execution_count": 171,
      "outputs": []
    },
    {
      "cell_type": "code",
      "metadata": {
        "id": "ybVA1w8YchZ1"
      },
      "source": [
        "def main():\n",
        "  t = int(input(\"\\tIngrese t:\\t\"))\n",
        "  message = input(\"\\tIngrese el mensaje:\\t\").replace(' ', '').upper()\n",
        "  keyword = input(\"\\tIngrese la clave:\\t\").replace(' ', '').upper()\n",
        "  option = int(input(\"\\t1. Cifrar\\n\\t2. Descifrar\\n\\t\"))\n",
        "  result = vigenere(message, keyword, t)\n",
        "  print('\\n\\t\\t',result)\n",
        "  "
      ],
      "execution_count": 172,
      "outputs": []
    },
    {
      "cell_type": "code",
      "metadata": {
        "id": "CUq0O7F1dFyT",
        "outputId": "118b8f8b-cb8c-4918-fe29-de211a29cdd7",
        "colab": {
          "base_uri": "https://localhost:8080/",
          "height": 156
        }
      },
      "source": [
        "if __name__ == \"__main__\":\n",
        "    main()"
      ],
      "execution_count": 173,
      "outputs": [
        {
          "output_type": "stream",
          "text": [
            "\tIngrese t:\t5\n",
            "\tIngrese el mensaje:\tTO BE OR NOT TO BE THAT IS THE QUESTION\n",
            "\tIngrese la clave:\tRELATIONS\n",
            "\t1. Cifrar\n",
            "\t2. Descifrar\n",
            "\t1\n",
            "\n",
            "\t\t KSMEH ZBBLK SMEMP OGAJX SEJCS FLZSY\n"
          ],
          "name": "stdout"
        }
      ]
    }
  ]
}