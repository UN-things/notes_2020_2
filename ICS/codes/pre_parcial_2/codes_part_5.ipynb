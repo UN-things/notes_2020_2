{
 "cells": [
  {
   "cell_type": "markdown",
   "metadata": {},
   "source": [
    "# Pre-parcial 2"
   ]
  },
  {
   "cell_type": "code",
   "execution_count": 1,
   "metadata": {},
   "outputs": [],
   "source": [
    "import numpy as np"
   ]
  },
  {
   "cell_type": "markdown",
   "metadata": {},
   "source": [
    "## Teoría de números"
   ]
  },
  {
   "cell_type": "markdown",
   "metadata": {},
   "source": [
    "### Congruencia módulo n"
   ]
  },
  {
   "cell_type": "code",
   "execution_count": 2,
   "metadata": {},
   "outputs": [],
   "source": [
    "def is_module_n(a, b, n):\n",
    "    result = False\n",
    "    if (a-b) % n == 0:\n",
    "        if a % n == b % n:\n",
    "            result = True\n",
    "    return result"
   ]
  },
  {
   "cell_type": "markdown",
   "metadata": {},
   "source": [
    "### Equivalence Class Modulo n\n",
    "\n",
    "$[r]_n = {r +kn : k \\in z}$"
   ]
  },
  {
   "cell_type": "code",
   "execution_count": 3,
   "metadata": {},
   "outputs": [],
   "source": [
    "def equivalence_class_mod_n(r, n, rang):\n",
    "    result = list()\n",
    "    for k in range(-rang, rang):\n",
    "        result.append(r+k*n)\n",
    "    return result        "
   ]
  },
  {
   "cell_type": "markdown",
   "metadata": {},
   "source": [
    "### Integers Modulo n $(Z_n)$\n",
    "\n",
    "$Z_n = \\{[r]_n : 0 \\leq r \\leq n -1\\} = \\{0,1,2, ..., n-1\\}$"
   ]
  },
  {
   "cell_type": "code",
   "execution_count": 4,
   "metadata": {},
   "outputs": [],
   "source": [
    "def integers_mod_n(n):\n",
    "    return [i for i in range(n)]"
   ]
  },
  {
   "cell_type": "markdown",
   "metadata": {},
   "source": [
    "### Multiplicative Inverse\n",
    "\n",
    "$x \\in Z_n \\mkern5mu s.t. \\mkern5mu ax \\equiv 1 mod(n)$\n",
    "\n",
    "$x = a^{-1}$"
   ]
  },
  {
   "cell_type": "code",
   "execution_count": 5,
   "metadata": {},
   "outputs": [],
   "source": [
    "def get_multiplicative_inverse(n):\n",
    "    a = n -1\n",
    "    space = integers_mod_n(n)\n",
    "    for i in space:\n",
    "        if a*i % n == 1:\n",
    "            return i"
   ]
  },
  {
   "cell_type": "markdown",
   "metadata": {},
   "source": [
    "### Factorización\n",
    "\n",
    "[Online](http://es.onlinemschool.com/math/assistance/number_theory/multiplier/)"
   ]
  },
  {
   "cell_type": "markdown",
   "metadata": {},
   "source": [
    "### GCD"
   ]
  },
  {
   "cell_type": "code",
   "execution_count": 6,
   "metadata": {},
   "outputs": [
    {
     "data": {
      "text/plain": [
       "42"
      ]
     },
     "execution_count": 6,
     "metadata": {},
     "output_type": "execute_result"
    }
   ],
   "source": [
    "np.gcd(210, 126)"
   ]
  },
  {
   "cell_type": "markdown",
   "metadata": {},
   "source": [
    "### Primos relativos"
   ]
  },
  {
   "cell_type": "code",
   "execution_count": 7,
   "metadata": {},
   "outputs": [],
   "source": [
    "def relative_prime(a, b):\n",
    "    return True if np.gcd(a, b) == 1 else False"
   ]
  },
  {
   "cell_type": "code",
   "execution_count": 8,
   "metadata": {},
   "outputs": [
    {
     "data": {
      "text/plain": [
       "True"
      ]
     },
     "execution_count": 8,
     "metadata": {},
     "output_type": "execute_result"
    }
   ],
   "source": [
    "relative_prime(234, 67)"
   ]
  },
  {
   "cell_type": "markdown",
   "metadata": {},
   "source": [
    "### Multiplicative Group of $Z_n$\n",
    "\n",
    "$Z_n^* = \\{a \\in Z_n:gcd(a,n)=1\\}$\n",
    "\n",
    "$\\phi(n) = |Z_n^*|$"
   ]
  },
  {
   "cell_type": "code",
   "execution_count": 9,
   "metadata": {},
   "outputs": [],
   "source": [
    "def multiplicative_group(n):\n",
    "    space = integers_mod_n(n)\n",
    "    result = list()\n",
    "    for a in space:\n",
    "        if np.gcd(a, n) == 1:\n",
    "            result.append(a)\n",
    "    return result        "
   ]
  },
  {
   "cell_type": "code",
   "execution_count": 37,
   "metadata": {},
   "outputs": [],
   "source": [
    "def phi(n):\n",
    "    return len(multiplicative_group(n))"
   ]
  },
  {
   "cell_type": "code",
   "execution_count": 38,
   "metadata": {},
   "outputs": [
    {
     "data": {
      "text/plain": [
       "288"
      ]
     },
     "execution_count": 38,
     "metadata": {},
     "output_type": "execute_result"
    }
   ],
   "source": [
    "phi(323)"
   ]
  },
  {
   "cell_type": "markdown",
   "metadata": {},
   "source": [
    "### Teorema de Euler\n",
    "\n",
    "$ if\\mkern5mu a \\in z_n^*, a^{\\phi(n)} \\equiv 1 \\mkern5mu mod(n) $"
   ]
  },
  {
   "cell_type": "code",
   "execution_count": 11,
   "metadata": {},
   "outputs": [
    {
     "name": "stdout",
     "output_type": "stream",
     "text": [
      "[1, 2, 4, 5, 8, 10, 11, 13, 16, 17, 19, 20]\n",
      "12\n",
      "1\n"
     ]
    }
   ],
   "source": [
    "n = 21\n",
    "space = multiplicative_group(n)\n",
    "phi_space = len(space)\n",
    "result = space[2]**phi_space % n\n",
    "\n",
    "print(space)\n",
    "print(phi_space)\n",
    "print(result)"
   ]
  },
  {
   "cell_type": "markdown",
   "metadata": {},
   "source": [
    "### Fermat’s Little Theorem"
   ]
  },
  {
   "cell_type": "code",
   "execution_count": 12,
   "metadata": {},
   "outputs": [
    {
     "name": "stdout",
     "output_type": "stream",
     "text": [
      "1\n"
     ]
    },
    {
     "data": {
      "text/plain": [
       "1"
      ]
     },
     "execution_count": 12,
     "metadata": {},
     "output_type": "execute_result"
    }
   ],
   "source": [
    "print(np.gcd(2,11))\n",
    "2**(11-1) % 11"
   ]
  },
  {
   "cell_type": "markdown",
   "metadata": {},
   "source": [
    "### EEA - Extended Euclidean Algorithm\n",
    "\n",
    "$d = gcd(a, b)$\n",
    "\n",
    "$x, y \\in Z$\n",
    "\n",
    "$a \\cdot x + b \\cdot y = d$"
   ]
  },
  {
   "cell_type": "code",
   "execution_count": 13,
   "metadata": {},
   "outputs": [],
   "source": [
    "operation = list()\n",
    "values = list()\n",
    "operation.append(\"a*x + b*y = d\\n\")\n",
    "values.append(\"a\\tb\\tq\\td\\tx\\ty\\n\")\n",
    "def gcd_extended(a, b):\n",
    "    if a == 0 :\n",
    "        d, x, y = b, 0, 1\n",
    "        operation.append(\"{}*{} + {}*{} = {}\".format(a, x, b, y, d))\n",
    "        values.append(\"{}\\t{}\\t{}\\t{}\\t{}\\t{}\".format(a, b, '-', d, x, y))\n",
    "        return d, x, y\n",
    "             \n",
    "    d, x1, y1 = gcd_extended(b%a, a)  \n",
    "    q = (b//a) \n",
    "    x = y1 - q * x1  \n",
    "    y = x1  \n",
    "    operation.append(\"{}*{} + {}*{} = {}\".format(a, x, b, y, d))\n",
    "    values.append(\"{}\\t{}\\t{}\\t{}\\t{}\\t{}\".format(a, b, q, d, x, y))\n",
    "    return d, x, y   "
   ]
  },
  {
   "cell_type": "markdown",
   "metadata": {},
   "source": [
    "$a \\cdot x + b \\cdot y = d$"
   ]
  },
  {
   "cell_type": "code",
   "execution_count": 32,
   "metadata": {},
   "outputs": [
    {
     "name": "stdout",
     "output_type": "stream",
     "text": [
      "a*x + b*y = d\n",
      "\n",
      "0*0 + 3*1 = 3\n",
      "3*1 + 6*0 = 3\n",
      "6*-2 + 15*1 = 3\n",
      "15*7 + 51*-2 = 3\n",
      "51*-44 + 321*7 = 3\n",
      "321*51 + 372*-44 = 3\n",
      "372*-44 + 321*51 = 3\n",
      "0*0 + 5*1 = 5\n",
      "5*1 + 15*0 = 5\n",
      "15*-3 + 50*1 = 5\n",
      "50*22 + 365*-3 = 5\n",
      "365*-25 + 415*22 = 5\n",
      "415*97 + 1610*-25 = 5\n",
      "1610*-219 + 3635*97 = 5\n",
      "3635*316 + 5245*-219 = 5\n",
      "0*0 + 5*1 = 5\n",
      "5*1 + 15*0 = 5\n",
      "15*-3 + 50*1 = 5\n",
      "50*22 + 365*-3 = 5\n",
      "365*-25 + 415*22 = 5\n",
      "415*97 + 1610*-25 = 5\n",
      "1610*-219 + 3635*97 = 5\n",
      "3635*316 + 5245*-219 = 5\n",
      "a\tb\tq\td\tx\ty\n",
      "\n",
      "0\t3\t-\t3\t0\t1\n",
      "3\t6\t2\t3\t1\t0\n",
      "6\t15\t2\t3\t-2\t1\n",
      "15\t51\t3\t3\t7\t-2\n",
      "51\t321\t6\t3\t-44\t7\n",
      "321\t372\t1\t3\t51\t-44\n",
      "372\t321\t0\t3\t-44\t51\n",
      "0\t5\t-\t5\t0\t1\n",
      "5\t15\t3\t5\t1\t0\n",
      "15\t50\t3\t5\t-3\t1\n",
      "50\t365\t7\t5\t22\t-3\n",
      "365\t415\t1\t5\t-25\t22\n",
      "415\t1610\t3\t5\t97\t-25\n",
      "1610\t3635\t2\t5\t-219\t97\n",
      "3635\t5245\t1\t5\t316\t-219\n",
      "0\t5\t-\t5\t0\t1\n",
      "5\t15\t3\t5\t1\t0\n",
      "15\t50\t3\t5\t-3\t1\n",
      "50\t365\t7\t5\t22\t-3\n",
      "365\t415\t1\t5\t-25\t22\n",
      "415\t1610\t3\t5\t97\t-25\n",
      "1610\t3635\t2\t5\t-219\t97\n",
      "3635\t5245\t1\t5\t316\t-219\n",
      "\n",
      "\n",
      "3635*316 + 5245*-219 = 5\n",
      "gcd(3635, 5245) = 5\n"
     ]
    }
   ],
   "source": [
    "# Driver code \n",
    "a, b = 3635,5245\n",
    "d, x, y = gcd_extended(a, b) \n",
    "print('\\n'.join(operation))\n",
    "print('\\n'.join(values))\n",
    "print('\\n')\n",
    "print(\"{}*{} + {}*{} = {}\".format(a, x, b, y, d))\n",
    "print(\"gcd({}, {}) = {}\".format(a, b, d))"
   ]
  },
  {
   "cell_type": "markdown",
   "metadata": {},
   "source": [
    "### PowerMod - Modular Exponentiation\n",
    "\n",
    "$z = a^b mod(n)$"
   ]
  },
  {
   "cell_type": "code",
   "execution_count": 15,
   "metadata": {},
   "outputs": [],
   "source": [
    "def power_mod(a, b, n):\n",
    "    return (a**b) % n"
   ]
  },
  {
   "cell_type": "code",
   "execution_count": 24,
   "metadata": {},
   "outputs": [
    {
     "data": {
      "text/plain": [
       "8"
      ]
     },
     "execution_count": 24,
     "metadata": {},
     "output_type": "execute_result"
    }
   ],
   "source": [
    "power_mod(5, 18, 17)"
   ]
  },
  {
   "cell_type": "markdown",
   "metadata": {},
   "source": [
    "### CRT - Chinese Remainder Theorem"
   ]
  },
  {
   "cell_type": "markdown",
   "metadata": {},
   "source": [
    "$y_i = N_i^{-1}mod(n_i)$\n",
    "\n",
    "$N_i = N/n_i$\n",
    "\n",
    "$x = \\sum_{i=1}^k (N_i\\cdot y_i \\cdot a_i) mod(N)$"
   ]
  },
  {
   "cell_type": "code",
   "execution_count": 34,
   "metadata": {},
   "outputs": [],
   "source": [
    "def modular_inverse(a, n):\n",
    "    for i in range(1, 100):\n",
    "        if (a*i) % n == 1:\n",
    "            return i"
   ]
  },
  {
   "cell_type": "code",
   "execution_count": 35,
   "metadata": {},
   "outputs": [
    {
     "data": {
      "text/plain": [
       "33"
      ]
     },
     "execution_count": 35,
     "metadata": {},
     "output_type": "execute_result"
    }
   ],
   "source": [
    "modular_inverse(1308, 2539)"
   ]
  },
  {
   "cell_type": "code",
   "execution_count": 18,
   "metadata": {},
   "outputs": [],
   "source": [
    "def crt(n_list, a_list):\n",
    "    k = len(n_list)\n",
    "    N = np.prod(n_list)\n",
    "    N_list = [int(N/i) for i in n_list]\n",
    "    print(N_list, n_list)\n",
    "    y_list = [ modular_inverse(i, j) for i, j in zip(N_list, n_list)]\n",
    "    print(N_list, y_list)\n",
    "    x = 0\n",
    "    for i, j, k in zip(N_list, y_list, a_list):\n",
    "        temp = (i*j*k)%N\n",
    "        x = x + temp\n",
    "    return x "
   ]
  },
  {
   "cell_type": "code",
   "execution_count": 19,
   "metadata": {},
   "outputs": [
    {
     "name": "stdout",
     "output_type": "stream",
     "text": [
      "[3, 5] [5, 3]\n",
      "[3, 5] [2, 2]\n"
     ]
    },
    {
     "data": {
      "text/plain": [
       "11"
      ]
     },
     "execution_count": 19,
     "metadata": {},
     "output_type": "execute_result"
    }
   ],
   "source": [
    "n_list = [5, 3]\n",
    "a_list = [1, 2]\n",
    "crt(n_list, a_list)"
   ]
  },
  {
   "cell_type": "markdown",
   "metadata": {},
   "source": [
    "### The Order of an Integer\n",
    "\n",
    "$ord(a) = min(t:a^t \\equiv 1 \\mkern5mu mod(n))$"
   ]
  },
  {
   "cell_type": "code",
   "execution_count": 20,
   "metadata": {},
   "outputs": [],
   "source": [
    "def order(a, n):\n",
    "    for i in range(1, 100):\n",
    "        if (a**i) % n == 1:\n",
    "            return i"
   ]
  },
  {
   "cell_type": "code",
   "execution_count": 36,
   "metadata": {},
   "outputs": [
    {
     "data": {
      "text/plain": [
       "6"
      ]
     },
     "execution_count": 36,
     "metadata": {},
     "output_type": "execute_result"
    }
   ],
   "source": [
    "order(5, 21)"
   ]
  },
  {
   "cell_type": "markdown",
   "metadata": {},
   "source": [
    "### Primitive elements in $Z_p^*$\n",
    "\n",
    "$\\{a \\in Z_p^*: ord(a) = p-1, a^t mod(p)\\}$"
   ]
  },
  {
   "cell_type": "code",
   "execution_count": 22,
   "metadata": {},
   "outputs": [],
   "source": [
    "def get_primitive_elements(p):\n",
    "    result = list()\n",
    "    for i in range(1, p):\n",
    "        if order(i, p) == (p-1):\n",
    "            result.append(i)\n",
    "    return result"
   ]
  },
  {
   "cell_type": "code",
   "execution_count": 30,
   "metadata": {},
   "outputs": [
    {
     "data": {
      "text/plain": [
       "[2, 6, 7, 11]"
      ]
     },
     "execution_count": 30,
     "metadata": {},
     "output_type": "execute_result"
    }
   ],
   "source": [
    "get_primitive_elements(13)"
   ]
  }
 ],
 "metadata": {
  "kernelspec": {
   "display_name": "Python 3",
   "language": "python",
   "name": "python3"
  },
  "language_info": {
   "codemirror_mode": {
    "name": "ipython",
    "version": 3
   },
   "file_extension": ".py",
   "mimetype": "text/x-python",
   "name": "python",
   "nbconvert_exporter": "python",
   "pygments_lexer": "ipython3",
   "version": "3.7.3"
  }
 },
 "nbformat": 4,
 "nbformat_minor": 4
}
